{
 "cells": [
  {
   "cell_type": "markdown",
   "metadata": {
    "tags": []
   },
   "source": [
    "# Impact-T fieldmap reconstruction"
   ]
  },
  {
   "cell_type": "code",
   "execution_count": null,
   "metadata": {
    "execution": {
     "iopub.execute_input": "2024-10-18T19:48:04.163070Z",
     "iopub.status.busy": "2024-10-18T19:48:04.162724Z",
     "iopub.status.idle": "2024-10-18T19:48:05.096626Z",
     "shell.execute_reply": "2024-10-18T19:48:05.096298Z"
    }
   },
   "outputs": [],
   "source": [
    "from impact import Impact, fieldmaps\n",
    "from pmd_beamphysics.interfaces.impact import create_fourier_coefficients\n",
    "import numpy as np"
   ]
  },
  {
   "cell_type": "code",
   "execution_count": null,
   "metadata": {
    "execution": {
     "iopub.execute_input": "2024-10-18T19:48:05.098356Z",
     "iopub.status.busy": "2024-10-18T19:48:05.098148Z",
     "iopub.status.idle": "2024-10-18T19:48:05.101136Z",
     "shell.execute_reply": "2024-10-18T19:48:05.100925Z"
    }
   },
   "outputs": [],
   "source": [
    "ifile = \"templates/lcls_injector/ImpactT.in\"\n",
    "I = Impact(input_file=ifile)"
   ]
  },
  {
   "cell_type": "code",
   "execution_count": null,
   "metadata": {
    "execution": {
     "iopub.execute_input": "2024-10-18T19:48:05.102437Z",
     "iopub.status.busy": "2024-10-18T19:48:05.102347Z",
     "iopub.status.idle": "2024-10-18T19:48:05.105173Z",
     "shell.execute_reply": "2024-10-18T19:48:05.104969Z"
    }
   },
   "outputs": [],
   "source": [
    "# Fieldmaps are stored here\n",
    "I.input[\"fieldmaps\"].keys()"
   ]
  },
  {
   "cell_type": "code",
   "execution_count": null,
   "metadata": {
    "execution": {
     "iopub.execute_input": "2024-10-18T19:48:05.126326Z",
     "iopub.status.busy": "2024-10-18T19:48:05.126188Z",
     "iopub.status.idle": "2024-10-18T19:48:05.128380Z",
     "shell.execute_reply": "2024-10-18T19:48:05.128180Z"
    }
   },
   "outputs": [],
   "source": [
    "# Look at a solrf element.\n",
    "I.ele[\"SOL1\"]"
   ]
  },
  {
   "cell_type": "code",
   "execution_count": null,
   "metadata": {
    "execution": {
     "iopub.execute_input": "2024-10-18T19:48:05.129693Z",
     "iopub.status.busy": "2024-10-18T19:48:05.129602Z",
     "iopub.status.idle": "2024-10-18T19:48:05.131424Z",
     "shell.execute_reply": "2024-10-18T19:48:05.131202Z"
    }
   },
   "outputs": [],
   "source": [
    "# This is its fieldmap filename\n",
    "I.ele[\"SOL1\"][\"filename\"]"
   ]
  },
  {
   "cell_type": "code",
   "execution_count": null,
   "metadata": {
    "execution": {
     "iopub.execute_input": "2024-10-18T19:48:05.132610Z",
     "iopub.status.busy": "2024-10-18T19:48:05.132534Z",
     "iopub.status.idle": "2024-10-18T19:48:05.135205Z",
     "shell.execute_reply": "2024-10-18T19:48:05.134998Z"
    }
   },
   "outputs": [],
   "source": [
    "# That data is here.\n",
    "fmap = I.input[\"fieldmaps\"][\"rfdata102\"]\n",
    "fmap"
   ]
  },
  {
   "cell_type": "code",
   "execution_count": null,
   "metadata": {
    "execution": {
     "iopub.execute_input": "2024-10-18T19:48:05.136425Z",
     "iopub.status.busy": "2024-10-18T19:48:05.136314Z",
     "iopub.status.idle": "2024-10-18T19:48:05.138311Z",
     "shell.execute_reply": "2024-10-18T19:48:05.138077Z"
    }
   },
   "outputs": [],
   "source": [
    "# Reconstruction function\n",
    "fieldmaps.fieldmap_reconstruction_solrf(fmap[\"field\"][\"Bz\"], 0)"
   ]
  },
  {
   "cell_type": "markdown",
   "metadata": {},
   "source": [
    "# Basic plot"
   ]
  },
  {
   "cell_type": "code",
   "execution_count": null,
   "metadata": {
    "execution": {
     "iopub.execute_input": "2024-10-18T19:48:05.139620Z",
     "iopub.status.busy": "2024-10-18T19:48:05.139523Z",
     "iopub.status.idle": "2024-10-18T19:48:05.145868Z",
     "shell.execute_reply": "2024-10-18T19:48:05.145635Z"
    }
   },
   "outputs": [],
   "source": [
    "import matplotlib.pyplot as plt\n",
    "\n",
    "%matplotlib inline\n",
    "%config InlineBackend.figure_format='retina'"
   ]
  },
  {
   "cell_type": "code",
   "execution_count": null,
   "metadata": {
    "execution": {
     "iopub.execute_input": "2024-10-18T19:48:05.147143Z",
     "iopub.status.busy": "2024-10-18T19:48:05.147062Z",
     "iopub.status.idle": "2024-10-18T19:48:05.158763Z",
     "shell.execute_reply": "2024-10-18T19:48:05.158548Z"
    }
   },
   "outputs": [],
   "source": [
    "zlist = np.linspace(0, 0.49308, 1000)\n",
    "fieldlist = [\n",
    "    fieldmaps.fieldmap_reconstruction_solrf(fmap[\"field\"][\"Bz\"], z) for z in zlist\n",
    "]"
   ]
  },
  {
   "cell_type": "code",
   "execution_count": null,
   "metadata": {
    "execution": {
     "iopub.execute_input": "2024-10-18T19:48:05.159984Z",
     "iopub.status.busy": "2024-10-18T19:48:05.159905Z",
     "iopub.status.idle": "2024-10-18T19:48:05.162015Z",
     "shell.execute_reply": "2024-10-18T19:48:05.161802Z"
    }
   },
   "outputs": [],
   "source": [
    "# z at max field\n",
    "zlist[np.argmax(np.array(fieldlist))]"
   ]
  },
  {
   "cell_type": "code",
   "execution_count": null,
   "metadata": {
    "execution": {
     "iopub.execute_input": "2024-10-18T19:48:05.163268Z",
     "iopub.status.busy": "2024-10-18T19:48:05.163194Z",
     "iopub.status.idle": "2024-10-18T19:48:05.232281Z",
     "shell.execute_reply": "2024-10-18T19:48:05.232024Z"
    }
   },
   "outputs": [],
   "source": [
    "plt.plot(zlist, fieldlist);"
   ]
  },
  {
   "cell_type": "code",
   "execution_count": null,
   "metadata": {
    "execution": {
     "iopub.execute_input": "2024-10-18T19:48:05.233752Z",
     "iopub.status.busy": "2024-10-18T19:48:05.233651Z",
     "iopub.status.idle": "2024-10-18T19:48:05.235922Z",
     "shell.execute_reply": "2024-10-18T19:48:05.235713Z"
    }
   },
   "outputs": [],
   "source": [
    "# Integrated field (approximate)\n",
    "field_scale = 0.243  # from imput file\n",
    "BL = np.sum(fieldlist) * 0.49308 / 1000  # T*m\n",
    "BL * field_scale * 10  # T*m -> kG*m"
   ]
  },
  {
   "cell_type": "code",
   "execution_count": null,
   "metadata": {
    "execution": {
     "iopub.execute_input": "2024-10-18T19:48:05.237181Z",
     "iopub.status.busy": "2024-10-18T19:48:05.237088Z",
     "iopub.status.idle": "2024-10-18T19:48:05.238824Z",
     "shell.execute_reply": "2024-10-18T19:48:05.238622Z"
    }
   },
   "outputs": [],
   "source": [
    "1 / BL"
   ]
  },
  {
   "cell_type": "markdown",
   "metadata": {},
   "source": [
    "# Create Fieldmap"
   ]
  },
  {
   "cell_type": "code",
   "execution_count": null,
   "metadata": {
    "execution": {
     "iopub.execute_input": "2024-10-18T19:48:05.240048Z",
     "iopub.status.busy": "2024-10-18T19:48:05.239975Z",
     "iopub.status.idle": "2024-10-18T19:48:05.252440Z",
     "shell.execute_reply": "2024-10-18T19:48:05.252217Z"
    }
   },
   "outputs": [],
   "source": [
    "fmap2 = fmap.copy()\n",
    "fmap2[\"field\"][\"Bz\"][\"z0\"] = min(zlist)\n",
    "fmap2[\"field\"][\"Bz\"][\"z1\"] = max(zlist)\n",
    "fmap2[\"field\"][\"Bz\"][\"L\"] = np.ptp(zlist)\n",
    "fmap2[\"field\"][\"Bz\"][\"fourier_coefficients\"] = create_fourier_coefficients(\n",
    "    zlist, fieldlist, n=20\n",
    ")"
   ]
  },
  {
   "cell_type": "code",
   "execution_count": null,
   "metadata": {
    "execution": {
     "iopub.execute_input": "2024-10-18T19:48:05.253684Z",
     "iopub.status.busy": "2024-10-18T19:48:05.253601Z",
     "iopub.status.idle": "2024-10-18T19:48:05.335436Z",
     "shell.execute_reply": "2024-10-18T19:48:05.335196Z"
    }
   },
   "outputs": [],
   "source": [
    "fieldlist2 = [\n",
    "    fieldmaps.fieldmap_reconstruction_solrf(fmap2[\"field\"][\"Bz\"], z) for z in zlist\n",
    "]\n",
    "plt.plot(zlist, fieldlist, label=\"original\")\n",
    "plt.plot(zlist, fieldlist2, \"--\", label=\"created\")\n",
    "plt.legend()"
   ]
  },
  {
   "cell_type": "code",
   "execution_count": null,
   "metadata": {
    "execution": {
     "iopub.execute_input": "2024-10-18T19:48:05.336810Z",
     "iopub.status.busy": "2024-10-18T19:48:05.336707Z",
     "iopub.status.idle": "2024-10-18T19:48:05.339343Z",
     "shell.execute_reply": "2024-10-18T19:48:05.339091Z"
    }
   },
   "outputs": [],
   "source": [
    "fmap2"
   ]
  },
  {
   "cell_type": "code",
   "execution_count": null,
   "metadata": {
    "execution": {
     "iopub.execute_input": "2024-10-18T19:48:05.340693Z",
     "iopub.status.busy": "2024-10-18T19:48:05.340595Z",
     "iopub.status.idle": "2024-10-18T19:48:05.342070Z",
     "shell.execute_reply": "2024-10-18T19:48:05.341843Z"
    }
   },
   "outputs": [],
   "source": [
    "from numpy import sin, cos, pi, arange"
   ]
  },
  {
   "cell_type": "code",
   "execution_count": null,
   "metadata": {
    "execution": {
     "iopub.execute_input": "2024-10-18T19:48:05.343249Z",
     "iopub.status.busy": "2024-10-18T19:48:05.343172Z",
     "iopub.status.idle": "2024-10-18T19:48:05.345301Z",
     "shell.execute_reply": "2024-10-18T19:48:05.345104Z"
    }
   },
   "outputs": [],
   "source": [
    "# Raw data from\n",
    "coefs = fmap2[\"field\"][\"Bz\"][\"fourier_coefficients\"]\n",
    "coefs"
   ]
  },
  {
   "cell_type": "code",
   "execution_count": null,
   "metadata": {
    "execution": {
     "iopub.execute_input": "2024-10-18T19:48:05.346498Z",
     "iopub.status.busy": "2024-10-18T19:48:05.346423Z",
     "iopub.status.idle": "2024-10-18T19:48:05.348181Z",
     "shell.execute_reply": "2024-10-18T19:48:05.347970Z"
    }
   },
   "outputs": [],
   "source": [
    "A0 = coefs[0]  # constant factor\n",
    "A = coefs[1::2]  # cos parts\n",
    "B = coefs[2::2]  # sin parts"
   ]
  },
  {
   "cell_type": "code",
   "execution_count": null,
   "metadata": {
    "execution": {
     "iopub.execute_input": "2024-10-18T19:48:05.349453Z",
     "iopub.status.busy": "2024-10-18T19:48:05.349375Z",
     "iopub.status.idle": "2024-10-18T19:48:05.418121Z",
     "shell.execute_reply": "2024-10-18T19:48:05.417892Z"
    }
   },
   "outputs": [],
   "source": [
    "L = 0.6\n",
    "\n",
    "\n",
    "@np.vectorize\n",
    "def f(z):\n",
    "    phase = 2 * pi * (z / L - 1 / 2)\n",
    "    return A0 / 2 + sum(\n",
    "        [\n",
    "            A[n - 1] * cos(n * phase) + B[n - 1] * sin(n * phase)\n",
    "            for n in arange(1, len(A) + 1)\n",
    "        ]\n",
    "    )\n",
    "\n",
    "\n",
    "z0 = np.linspace(0, L, 100)\n",
    "\n",
    "plt.plot(z0, f(z0))"
   ]
  }
 ],
 "metadata": {
  "kernelspec": {
   "display_name": "Python 3 (ipykernel)",
   "language": "python",
   "name": "python3"
  },
  "language_info": {
   "codemirror_mode": {
    "name": "ipython",
    "version": 3
   },
   "file_extension": ".py",
   "mimetype": "text/x-python",
   "name": "python",
   "nbconvert_exporter": "python",
   "pygments_lexer": "ipython3",
   "version": "3.12.6"
  }
 },
 "nbformat": 4,
 "nbformat_minor": 4
}
