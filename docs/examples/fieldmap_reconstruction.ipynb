{
 "cells": [
  {
   "cell_type": "markdown",
   "metadata": {
    "tags": []
   },
   "source": [
    "# Impact-T fieldmap reconstruction"
   ]
  },
  {
   "cell_type": "code",
   "execution_count": null,
   "metadata": {
    "execution": {
     "iopub.execute_input": "2025-02-20T21:25:58.668406Z",
     "iopub.status.busy": "2025-02-20T21:25:58.668302Z",
     "iopub.status.idle": "2025-02-20T21:25:59.725855Z",
     "shell.execute_reply": "2025-02-20T21:25:59.725505Z"
    }
   },
   "outputs": [],
   "source": [
    "from impact import Impact, fieldmaps\n",
    "from pmd_beamphysics.interfaces.impact import create_fourier_coefficients\n",
    "import numpy as np"
   ]
  },
  {
   "cell_type": "code",
   "execution_count": null,
   "metadata": {
    "execution": {
     "iopub.execute_input": "2025-02-20T21:25:59.727512Z",
     "iopub.status.busy": "2025-02-20T21:25:59.727334Z",
     "iopub.status.idle": "2025-02-20T21:25:59.733098Z",
     "shell.execute_reply": "2025-02-20T21:25:59.732861Z"
    }
   },
   "outputs": [],
   "source": [
    "ifile = \"templates/lcls_injector/ImpactT.in\"\n",
    "I = Impact(input_file=ifile)"
   ]
  },
  {
   "cell_type": "code",
   "execution_count": null,
   "metadata": {
    "execution": {
     "iopub.execute_input": "2025-02-20T21:25:59.734419Z",
     "iopub.status.busy": "2025-02-20T21:25:59.734329Z",
     "iopub.status.idle": "2025-02-20T21:25:59.737256Z",
     "shell.execute_reply": "2025-02-20T21:25:59.736999Z"
    }
   },
   "outputs": [],
   "source": [
    "# Fieldmaps are stored here\n",
    "I.input[\"fieldmaps\"].keys()"
   ]
  },
  {
   "cell_type": "code",
   "execution_count": null,
   "metadata": {
    "execution": {
     "iopub.execute_input": "2025-02-20T21:25:59.757811Z",
     "iopub.status.busy": "2025-02-20T21:25:59.757678Z",
     "iopub.status.idle": "2025-02-20T21:25:59.759861Z",
     "shell.execute_reply": "2025-02-20T21:25:59.759597Z"
    }
   },
   "outputs": [],
   "source": [
    "# Look at a solrf element.\n",
    "I.ele[\"SOL1\"]"
   ]
  },
  {
   "cell_type": "code",
   "execution_count": null,
   "metadata": {
    "execution": {
     "iopub.execute_input": "2025-02-20T21:25:59.760964Z",
     "iopub.status.busy": "2025-02-20T21:25:59.760869Z",
     "iopub.status.idle": "2025-02-20T21:25:59.762732Z",
     "shell.execute_reply": "2025-02-20T21:25:59.762499Z"
    }
   },
   "outputs": [],
   "source": [
    "# This is its fieldmap filename\n",
    "I.ele[\"SOL1\"][\"filename\"]"
   ]
  },
  {
   "cell_type": "code",
   "execution_count": null,
   "metadata": {
    "execution": {
     "iopub.execute_input": "2025-02-20T21:25:59.763845Z",
     "iopub.status.busy": "2025-02-20T21:25:59.763773Z",
     "iopub.status.idle": "2025-02-20T21:25:59.766442Z",
     "shell.execute_reply": "2025-02-20T21:25:59.766232Z"
    }
   },
   "outputs": [],
   "source": [
    "# That data is here.\n",
    "fmap = I.input[\"fieldmaps\"][\"rfdata102\"]\n",
    "fmap"
   ]
  },
  {
   "cell_type": "code",
   "execution_count": null,
   "metadata": {
    "execution": {
     "iopub.execute_input": "2025-02-20T21:25:59.767494Z",
     "iopub.status.busy": "2025-02-20T21:25:59.767417Z",
     "iopub.status.idle": "2025-02-20T21:25:59.769452Z",
     "shell.execute_reply": "2025-02-20T21:25:59.769232Z"
    }
   },
   "outputs": [],
   "source": [
    "# Reconstruction function\n",
    "fieldmaps.fieldmap_reconstruction_solrf(fmap[\"field\"][\"Bz\"], 0)"
   ]
  },
  {
   "cell_type": "markdown",
   "metadata": {},
   "source": [
    "# Basic plot"
   ]
  },
  {
   "cell_type": "code",
   "execution_count": null,
   "metadata": {
    "execution": {
     "iopub.execute_input": "2025-02-20T21:25:59.770525Z",
     "iopub.status.busy": "2025-02-20T21:25:59.770451Z",
     "iopub.status.idle": "2025-02-20T21:25:59.777212Z",
     "shell.execute_reply": "2025-02-20T21:25:59.776963Z"
    }
   },
   "outputs": [],
   "source": [
    "import matplotlib.pyplot as plt\n",
    "\n",
    "%matplotlib inline\n",
    "%config InlineBackend.figure_format='retina'"
   ]
  },
  {
   "cell_type": "code",
   "execution_count": null,
   "metadata": {
    "execution": {
     "iopub.execute_input": "2025-02-20T21:25:59.778299Z",
     "iopub.status.busy": "2025-02-20T21:25:59.778221Z",
     "iopub.status.idle": "2025-02-20T21:25:59.790442Z",
     "shell.execute_reply": "2025-02-20T21:25:59.790216Z"
    }
   },
   "outputs": [],
   "source": [
    "zlist = np.linspace(0, 0.49308, 1000)\n",
    "fieldlist = [\n",
    "    fieldmaps.fieldmap_reconstruction_solrf(fmap[\"field\"][\"Bz\"], z) for z in zlist\n",
    "]"
   ]
  },
  {
   "cell_type": "code",
   "execution_count": null,
   "metadata": {
    "execution": {
     "iopub.execute_input": "2025-02-20T21:25:59.791607Z",
     "iopub.status.busy": "2025-02-20T21:25:59.791528Z",
     "iopub.status.idle": "2025-02-20T21:25:59.793643Z",
     "shell.execute_reply": "2025-02-20T21:25:59.793426Z"
    }
   },
   "outputs": [],
   "source": [
    "# z at max field\n",
    "zlist[np.argmax(np.array(fieldlist))]"
   ]
  },
  {
   "cell_type": "code",
   "execution_count": null,
   "metadata": {
    "execution": {
     "iopub.execute_input": "2025-02-20T21:25:59.794846Z",
     "iopub.status.busy": "2025-02-20T21:25:59.794739Z",
     "iopub.status.idle": "2025-02-20T21:25:59.861215Z",
     "shell.execute_reply": "2025-02-20T21:25:59.860969Z"
    }
   },
   "outputs": [],
   "source": [
    "plt.plot(zlist, fieldlist);"
   ]
  },
  {
   "cell_type": "code",
   "execution_count": null,
   "metadata": {
    "execution": {
     "iopub.execute_input": "2025-02-20T21:25:59.862513Z",
     "iopub.status.busy": "2025-02-20T21:25:59.862427Z",
     "iopub.status.idle": "2025-02-20T21:25:59.864648Z",
     "shell.execute_reply": "2025-02-20T21:25:59.864428Z"
    }
   },
   "outputs": [],
   "source": [
    "# Integrated field (approximate)\n",
    "field_scale = 0.243  # from imput file\n",
    "BL = np.sum(fieldlist) * 0.49308 / 1000  # T*m\n",
    "BL * field_scale * 10  # T*m -> kG*m"
   ]
  },
  {
   "cell_type": "code",
   "execution_count": null,
   "metadata": {
    "execution": {
     "iopub.execute_input": "2025-02-20T21:25:59.865928Z",
     "iopub.status.busy": "2025-02-20T21:25:59.865822Z",
     "iopub.status.idle": "2025-02-20T21:25:59.867764Z",
     "shell.execute_reply": "2025-02-20T21:25:59.867521Z"
    }
   },
   "outputs": [],
   "source": [
    "1 / BL"
   ]
  },
  {
   "cell_type": "markdown",
   "metadata": {},
   "source": [
    "# Create Fieldmap"
   ]
  },
  {
   "cell_type": "code",
   "execution_count": null,
   "metadata": {
    "execution": {
     "iopub.execute_input": "2025-02-20T21:25:59.869009Z",
     "iopub.status.busy": "2025-02-20T21:25:59.868910Z",
     "iopub.status.idle": "2025-02-20T21:25:59.881068Z",
     "shell.execute_reply": "2025-02-20T21:25:59.880828Z"
    }
   },
   "outputs": [],
   "source": [
    "fmap2 = fmap.copy()\n",
    "fmap2[\"field\"][\"Bz\"][\"z0\"] = min(zlist)\n",
    "fmap2[\"field\"][\"Bz\"][\"z1\"] = max(zlist)\n",
    "fmap2[\"field\"][\"Bz\"][\"L\"] = np.ptp(zlist)\n",
    "fmap2[\"field\"][\"Bz\"][\"fourier_coefficients\"] = create_fourier_coefficients(\n",
    "    zlist, fieldlist, n=20\n",
    ")"
   ]
  },
  {
   "cell_type": "code",
   "execution_count": null,
   "metadata": {
    "execution": {
     "iopub.execute_input": "2025-02-20T21:25:59.882414Z",
     "iopub.status.busy": "2025-02-20T21:25:59.882320Z",
     "iopub.status.idle": "2025-02-20T21:25:59.963266Z",
     "shell.execute_reply": "2025-02-20T21:25:59.962987Z"
    }
   },
   "outputs": [],
   "source": [
    "fieldlist2 = [\n",
    "    fieldmaps.fieldmap_reconstruction_solrf(fmap2[\"field\"][\"Bz\"], z) for z in zlist\n",
    "]\n",
    "plt.plot(zlist, fieldlist, label=\"original\")\n",
    "plt.plot(zlist, fieldlist2, \"--\", label=\"created\")\n",
    "plt.legend()"
   ]
  },
  {
   "cell_type": "code",
   "execution_count": null,
   "metadata": {
    "execution": {
     "iopub.execute_input": "2025-02-20T21:25:59.964580Z",
     "iopub.status.busy": "2025-02-20T21:25:59.964455Z",
     "iopub.status.idle": "2025-02-20T21:25:59.966961Z",
     "shell.execute_reply": "2025-02-20T21:25:59.966728Z"
    }
   },
   "outputs": [],
   "source": [
    "fmap2"
   ]
  },
  {
   "cell_type": "code",
   "execution_count": null,
   "metadata": {
    "execution": {
     "iopub.execute_input": "2025-02-20T21:25:59.968095Z",
     "iopub.status.busy": "2025-02-20T21:25:59.967997Z",
     "iopub.status.idle": "2025-02-20T21:25:59.969589Z",
     "shell.execute_reply": "2025-02-20T21:25:59.969347Z"
    }
   },
   "outputs": [],
   "source": [
    "from numpy import sin, cos, pi, arange"
   ]
  },
  {
   "cell_type": "code",
   "execution_count": null,
   "metadata": {
    "execution": {
     "iopub.execute_input": "2025-02-20T21:25:59.970647Z",
     "iopub.status.busy": "2025-02-20T21:25:59.970570Z",
     "iopub.status.idle": "2025-02-20T21:25:59.972837Z",
     "shell.execute_reply": "2025-02-20T21:25:59.972591Z"
    }
   },
   "outputs": [],
   "source": [
    "# Raw data from\n",
    "coefs = fmap2[\"field\"][\"Bz\"][\"fourier_coefficients\"]\n",
    "coefs"
   ]
  },
  {
   "cell_type": "code",
   "execution_count": null,
   "metadata": {
    "execution": {
     "iopub.execute_input": "2025-02-20T21:25:59.973998Z",
     "iopub.status.busy": "2025-02-20T21:25:59.973907Z",
     "iopub.status.idle": "2025-02-20T21:25:59.975642Z",
     "shell.execute_reply": "2025-02-20T21:25:59.975425Z"
    }
   },
   "outputs": [],
   "source": [
    "A0 = coefs[0]  # constant factor\n",
    "A = coefs[1::2]  # cos parts\n",
    "B = coefs[2::2]  # sin parts"
   ]
  },
  {
   "cell_type": "code",
   "execution_count": null,
   "metadata": {
    "execution": {
     "iopub.execute_input": "2025-02-20T21:25:59.976839Z",
     "iopub.status.busy": "2025-02-20T21:25:59.976753Z",
     "iopub.status.idle": "2025-02-20T21:26:00.044820Z",
     "shell.execute_reply": "2025-02-20T21:26:00.044509Z"
    }
   },
   "outputs": [],
   "source": [
    "L = 0.6\n",
    "\n",
    "\n",
    "@np.vectorize\n",
    "def f(z):\n",
    "    phase = 2 * pi * (z / L - 1 / 2)\n",
    "    return A0 / 2 + sum(\n",
    "        [\n",
    "            A[n - 1] * cos(n * phase) + B[n - 1] * sin(n * phase)\n",
    "            for n in arange(1, len(A) + 1)\n",
    "        ]\n",
    "    )\n",
    "\n",
    "\n",
    "z0 = np.linspace(0, L, 100)\n",
    "\n",
    "plt.plot(z0, f(z0))"
   ]
  }
 ],
 "metadata": {
  "kernelspec": {
   "display_name": "Python 3 (ipykernel)",
   "language": "python",
   "name": "python3"
  },
  "language_info": {
   "codemirror_mode": {
    "name": "ipython",
    "version": 3
   },
   "file_extension": ".py",
   "mimetype": "text/x-python",
   "name": "python",
   "nbconvert_exporter": "python",
   "pygments_lexer": "ipython3",
   "version": "3.12.8"
  }
 },
 "nbformat": 4,
 "nbformat_minor": 4
}
