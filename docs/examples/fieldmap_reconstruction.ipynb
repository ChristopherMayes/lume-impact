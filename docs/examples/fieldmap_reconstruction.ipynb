{
 "cells": [
  {
   "cell_type": "markdown",
   "metadata": {
    "tags": []
   },
   "source": [
    "# Impact-T fieldmap reconstruction"
   ]
  },
  {
   "cell_type": "code",
   "execution_count": null,
   "metadata": {
    "execution": {
     "iopub.execute_input": "2025-02-12T18:07:04.100256Z",
     "iopub.status.busy": "2025-02-12T18:07:04.100147Z",
     "iopub.status.idle": "2025-02-12T18:07:05.096787Z",
     "shell.execute_reply": "2025-02-12T18:07:05.096432Z"
    }
   },
   "outputs": [],
   "source": [
    "from impact import Impact, fieldmaps\n",
    "from pmd_beamphysics.interfaces.impact import create_fourier_coefficients\n",
    "import numpy as np"
   ]
  },
  {
   "cell_type": "code",
   "execution_count": null,
   "metadata": {
    "execution": {
     "iopub.execute_input": "2025-02-12T18:07:05.098307Z",
     "iopub.status.busy": "2025-02-12T18:07:05.098174Z",
     "iopub.status.idle": "2025-02-12T18:07:05.101158Z",
     "shell.execute_reply": "2025-02-12T18:07:05.100897Z"
    }
   },
   "outputs": [],
   "source": [
    "ifile = \"templates/lcls_injector/ImpactT.in\"\n",
    "I = Impact(input_file=ifile)"
   ]
  },
  {
   "cell_type": "code",
   "execution_count": null,
   "metadata": {
    "execution": {
     "iopub.execute_input": "2025-02-12T18:07:05.102446Z",
     "iopub.status.busy": "2025-02-12T18:07:05.102339Z",
     "iopub.status.idle": "2025-02-12T18:07:05.105207Z",
     "shell.execute_reply": "2025-02-12T18:07:05.104980Z"
    }
   },
   "outputs": [],
   "source": [
    "# Fieldmaps are stored here\n",
    "I.input[\"fieldmaps\"].keys()"
   ]
  },
  {
   "cell_type": "code",
   "execution_count": null,
   "metadata": {
    "execution": {
     "iopub.execute_input": "2025-02-12T18:07:05.125294Z",
     "iopub.status.busy": "2025-02-12T18:07:05.125169Z",
     "iopub.status.idle": "2025-02-12T18:07:05.127286Z",
     "shell.execute_reply": "2025-02-12T18:07:05.127042Z"
    }
   },
   "outputs": [],
   "source": [
    "# Look at a solrf element.\n",
    "I.ele[\"SOL1\"]"
   ]
  },
  {
   "cell_type": "code",
   "execution_count": null,
   "metadata": {
    "execution": {
     "iopub.execute_input": "2025-02-12T18:07:05.128413Z",
     "iopub.status.busy": "2025-02-12T18:07:05.128316Z",
     "iopub.status.idle": "2025-02-12T18:07:05.130167Z",
     "shell.execute_reply": "2025-02-12T18:07:05.129949Z"
    }
   },
   "outputs": [],
   "source": [
    "# This is its fieldmap filename\n",
    "I.ele[\"SOL1\"][\"filename\"]"
   ]
  },
  {
   "cell_type": "code",
   "execution_count": null,
   "metadata": {
    "execution": {
     "iopub.execute_input": "2025-02-12T18:07:05.131204Z",
     "iopub.status.busy": "2025-02-12T18:07:05.131127Z",
     "iopub.status.idle": "2025-02-12T18:07:05.133716Z",
     "shell.execute_reply": "2025-02-12T18:07:05.133500Z"
    }
   },
   "outputs": [],
   "source": [
    "# That data is here.\n",
    "fmap = I.input[\"fieldmaps\"][\"rfdata102\"]\n",
    "fmap"
   ]
  },
  {
   "cell_type": "code",
   "execution_count": null,
   "metadata": {
    "execution": {
     "iopub.execute_input": "2025-02-12T18:07:05.134769Z",
     "iopub.status.busy": "2025-02-12T18:07:05.134692Z",
     "iopub.status.idle": "2025-02-12T18:07:05.136882Z",
     "shell.execute_reply": "2025-02-12T18:07:05.136651Z"
    }
   },
   "outputs": [],
   "source": [
    "# Reconstruction function\n",
    "fieldmaps.fieldmap_reconstruction_solrf(fmap[\"field\"][\"Bz\"], 0)"
   ]
  },
  {
   "cell_type": "markdown",
   "metadata": {},
   "source": [
    "# Basic plot"
   ]
  },
  {
   "cell_type": "code",
   "execution_count": null,
   "metadata": {
    "execution": {
     "iopub.execute_input": "2025-02-12T18:07:05.137944Z",
     "iopub.status.busy": "2025-02-12T18:07:05.137866Z",
     "iopub.status.idle": "2025-02-12T18:07:05.144658Z",
     "shell.execute_reply": "2025-02-12T18:07:05.144383Z"
    }
   },
   "outputs": [],
   "source": [
    "import matplotlib.pyplot as plt\n",
    "\n",
    "%matplotlib inline\n",
    "%config InlineBackend.figure_format='retina'"
   ]
  },
  {
   "cell_type": "code",
   "execution_count": null,
   "metadata": {
    "execution": {
     "iopub.execute_input": "2025-02-12T18:07:05.145745Z",
     "iopub.status.busy": "2025-02-12T18:07:05.145667Z",
     "iopub.status.idle": "2025-02-12T18:07:05.158042Z",
     "shell.execute_reply": "2025-02-12T18:07:05.157794Z"
    }
   },
   "outputs": [],
   "source": [
    "zlist = np.linspace(0, 0.49308, 1000)\n",
    "fieldlist = [\n",
    "    fieldmaps.fieldmap_reconstruction_solrf(fmap[\"field\"][\"Bz\"], z) for z in zlist\n",
    "]"
   ]
  },
  {
   "cell_type": "code",
   "execution_count": null,
   "metadata": {
    "execution": {
     "iopub.execute_input": "2025-02-12T18:07:05.159185Z",
     "iopub.status.busy": "2025-02-12T18:07:05.159105Z",
     "iopub.status.idle": "2025-02-12T18:07:05.161141Z",
     "shell.execute_reply": "2025-02-12T18:07:05.160919Z"
    }
   },
   "outputs": [],
   "source": [
    "# z at max field\n",
    "zlist[np.argmax(np.array(fieldlist))]"
   ]
  },
  {
   "cell_type": "code",
   "execution_count": null,
   "metadata": {
    "execution": {
     "iopub.execute_input": "2025-02-12T18:07:05.162362Z",
     "iopub.status.busy": "2025-02-12T18:07:05.162286Z",
     "iopub.status.idle": "2025-02-12T18:07:05.227153Z",
     "shell.execute_reply": "2025-02-12T18:07:05.226881Z"
    }
   },
   "outputs": [],
   "source": [
    "plt.plot(zlist, fieldlist);"
   ]
  },
  {
   "cell_type": "code",
   "execution_count": null,
   "metadata": {
    "execution": {
     "iopub.execute_input": "2025-02-12T18:07:05.228433Z",
     "iopub.status.busy": "2025-02-12T18:07:05.228339Z",
     "iopub.status.idle": "2025-02-12T18:07:05.230638Z",
     "shell.execute_reply": "2025-02-12T18:07:05.230426Z"
    }
   },
   "outputs": [],
   "source": [
    "# Integrated field (approximate)\n",
    "field_scale = 0.243  # from imput file\n",
    "BL = np.sum(fieldlist) * 0.49308 / 1000  # T*m\n",
    "BL * field_scale * 10  # T*m -> kG*m"
   ]
  },
  {
   "cell_type": "code",
   "execution_count": null,
   "metadata": {
    "execution": {
     "iopub.execute_input": "2025-02-12T18:07:05.231633Z",
     "iopub.status.busy": "2025-02-12T18:07:05.231560Z",
     "iopub.status.idle": "2025-02-12T18:07:05.233669Z",
     "shell.execute_reply": "2025-02-12T18:07:05.233428Z"
    }
   },
   "outputs": [],
   "source": [
    "1 / BL"
   ]
  },
  {
   "cell_type": "markdown",
   "metadata": {},
   "source": [
    "# Create Fieldmap"
   ]
  },
  {
   "cell_type": "code",
   "execution_count": null,
   "metadata": {
    "execution": {
     "iopub.execute_input": "2025-02-12T18:07:05.234795Z",
     "iopub.status.busy": "2025-02-12T18:07:05.234718Z",
     "iopub.status.idle": "2025-02-12T18:07:05.246903Z",
     "shell.execute_reply": "2025-02-12T18:07:05.246690Z"
    }
   },
   "outputs": [],
   "source": [
    "fmap2 = fmap.copy()\n",
    "fmap2[\"field\"][\"Bz\"][\"z0\"] = min(zlist)\n",
    "fmap2[\"field\"][\"Bz\"][\"z1\"] = max(zlist)\n",
    "fmap2[\"field\"][\"Bz\"][\"L\"] = np.ptp(zlist)\n",
    "fmap2[\"field\"][\"Bz\"][\"fourier_coefficients\"] = create_fourier_coefficients(\n",
    "    zlist, fieldlist, n=20\n",
    ")"
   ]
  },
  {
   "cell_type": "code",
   "execution_count": null,
   "metadata": {
    "execution": {
     "iopub.execute_input": "2025-02-12T18:07:05.248009Z",
     "iopub.status.busy": "2025-02-12T18:07:05.247934Z",
     "iopub.status.idle": "2025-02-12T18:07:05.328533Z",
     "shell.execute_reply": "2025-02-12T18:07:05.328260Z"
    }
   },
   "outputs": [],
   "source": [
    "fieldlist2 = [\n",
    "    fieldmaps.fieldmap_reconstruction_solrf(fmap2[\"field\"][\"Bz\"], z) for z in zlist\n",
    "]\n",
    "plt.plot(zlist, fieldlist, label=\"original\")\n",
    "plt.plot(zlist, fieldlist2, \"--\", label=\"created\")\n",
    "plt.legend()"
   ]
  },
  {
   "cell_type": "code",
   "execution_count": null,
   "metadata": {
    "execution": {
     "iopub.execute_input": "2025-02-12T18:07:05.329827Z",
     "iopub.status.busy": "2025-02-12T18:07:05.329712Z",
     "iopub.status.idle": "2025-02-12T18:07:05.332104Z",
     "shell.execute_reply": "2025-02-12T18:07:05.331811Z"
    }
   },
   "outputs": [],
   "source": [
    "fmap2"
   ]
  },
  {
   "cell_type": "code",
   "execution_count": null,
   "metadata": {
    "execution": {
     "iopub.execute_input": "2025-02-12T18:07:05.333262Z",
     "iopub.status.busy": "2025-02-12T18:07:05.333164Z",
     "iopub.status.idle": "2025-02-12T18:07:05.334731Z",
     "shell.execute_reply": "2025-02-12T18:07:05.334491Z"
    }
   },
   "outputs": [],
   "source": [
    "from numpy import sin, cos, pi, arange"
   ]
  },
  {
   "cell_type": "code",
   "execution_count": null,
   "metadata": {
    "execution": {
     "iopub.execute_input": "2025-02-12T18:07:05.335800Z",
     "iopub.status.busy": "2025-02-12T18:07:05.335709Z",
     "iopub.status.idle": "2025-02-12T18:07:05.337836Z",
     "shell.execute_reply": "2025-02-12T18:07:05.337612Z"
    }
   },
   "outputs": [],
   "source": [
    "# Raw data from\n",
    "coefs = fmap2[\"field\"][\"Bz\"][\"fourier_coefficients\"]\n",
    "coefs"
   ]
  },
  {
   "cell_type": "code",
   "execution_count": null,
   "metadata": {
    "execution": {
     "iopub.execute_input": "2025-02-12T18:07:05.338840Z",
     "iopub.status.busy": "2025-02-12T18:07:05.338765Z",
     "iopub.status.idle": "2025-02-12T18:07:05.340469Z",
     "shell.execute_reply": "2025-02-12T18:07:05.340229Z"
    }
   },
   "outputs": [],
   "source": [
    "A0 = coefs[0]  # constant factor\n",
    "A = coefs[1::2]  # cos parts\n",
    "B = coefs[2::2]  # sin parts"
   ]
  },
  {
   "cell_type": "code",
   "execution_count": null,
   "metadata": {
    "execution": {
     "iopub.execute_input": "2025-02-12T18:07:05.341522Z",
     "iopub.status.busy": "2025-02-12T18:07:05.341441Z",
     "iopub.status.idle": "2025-02-12T18:07:05.407165Z",
     "shell.execute_reply": "2025-02-12T18:07:05.406902Z"
    }
   },
   "outputs": [],
   "source": [
    "L = 0.6\n",
    "\n",
    "\n",
    "@np.vectorize\n",
    "def f(z):\n",
    "    phase = 2 * pi * (z / L - 1 / 2)\n",
    "    return A0 / 2 + sum(\n",
    "        [\n",
    "            A[n - 1] * cos(n * phase) + B[n - 1] * sin(n * phase)\n",
    "            for n in arange(1, len(A) + 1)\n",
    "        ]\n",
    "    )\n",
    "\n",
    "\n",
    "z0 = np.linspace(0, L, 100)\n",
    "\n",
    "plt.plot(z0, f(z0))"
   ]
  }
 ],
 "metadata": {
  "kernelspec": {
   "display_name": "Python 3 (ipykernel)",
   "language": "python",
   "name": "python3"
  },
  "language_info": {
   "codemirror_mode": {
    "name": "ipython",
    "version": 3
   },
   "file_extension": ".py",
   "mimetype": "text/x-python",
   "name": "python",
   "nbconvert_exporter": "python",
   "pygments_lexer": "ipython3",
   "version": "3.12.8"
  }
 },
 "nbformat": 4,
 "nbformat_minor": 4
}
