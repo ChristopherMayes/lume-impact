{
 "cells": [
  {
   "attachments": {},
   "cell_type": "markdown",
   "metadata": {},
   "source": [
    "# Point-to-Point space charge example\n",
    "\n",
    "This uses a basic APEX Gun example with a reduced voltage and artificially reduced frequency. \n",
    "\n",
    "Warning from Ji: The # of electrons divided by the number of processors should be an integer.\n"
   ]
  },
  {
   "cell_type": "code",
   "execution_count": null,
   "metadata": {
    "execution": {
     "iopub.execute_input": "2024-10-18T19:46:52.347754Z",
     "iopub.status.busy": "2024-10-18T19:46:52.347487Z",
     "iopub.status.idle": "2024-10-18T19:46:53.309940Z",
     "shell.execute_reply": "2024-10-18T19:46:53.309639Z"
    }
   },
   "outputs": [],
   "source": [
    "from impact import Impact\n",
    "from distgen import Generator\n",
    "import os\n",
    "\n",
    "from pmd_beamphysics.units import e_charge, mec2\n",
    "\n",
    "import matplotlib.pyplot as plt"
   ]
  },
  {
   "cell_type": "code",
   "execution_count": null,
   "metadata": {
    "execution": {
     "iopub.execute_input": "2024-10-18T19:46:53.311760Z",
     "iopub.status.busy": "2024-10-18T19:46:53.311540Z",
     "iopub.status.idle": "2024-10-18T19:46:53.314753Z",
     "shell.execute_reply": "2024-10-18T19:46:53.314452Z"
    }
   },
   "outputs": [],
   "source": [
    "IMPACT_IN = \"templates/apex_gun/ImpactT.in\"\n",
    "os.path.exists(IMPACT_IN)"
   ]
  },
  {
   "cell_type": "markdown",
   "metadata": {},
   "source": [
    "# Prepare particles\n",
    "\n",
    "Prepare 100 electrons in a 1 µm uniform spot."
   ]
  },
  {
   "cell_type": "code",
   "execution_count": null,
   "metadata": {
    "execution": {
     "iopub.execute_input": "2024-10-18T19:46:53.337407Z",
     "iopub.status.busy": "2024-10-18T19:46:53.337244Z",
     "iopub.status.idle": "2024-10-18T19:46:53.339055Z",
     "shell.execute_reply": "2024-10-18T19:46:53.338790Z"
    }
   },
   "outputs": [],
   "source": [
    "DISTGEN_IN = \"\"\"\n",
    "n_particle: 100\n",
    "species: electron\n",
    "r_dist:\n",
    "  max_r: 1000 nm\n",
    "  type: radial_uniform\n",
    "random:\n",
    "  type: hammersley\n",
    "start:\n",
    "  MTE: 30 meV\n",
    "  type: cathode\n",
    "t_dist:\n",
    "  avg_t: 0 fs\n",
    "  sigma_t: 29.0 fs\n",
    "  type: gaussian\n",
    "total_charge: 1.602176634e-17 C\n",
    "\"\"\""
   ]
  },
  {
   "cell_type": "code",
   "execution_count": null,
   "metadata": {
    "execution": {
     "iopub.execute_input": "2024-10-18T19:46:53.340429Z",
     "iopub.status.busy": "2024-10-18T19:46:53.340327Z",
     "iopub.status.idle": "2024-10-18T19:46:53.502686Z",
     "shell.execute_reply": "2024-10-18T19:46:53.502388Z"
    }
   },
   "outputs": [],
   "source": [
    "G = Generator(DISTGEN_IN)\n",
    "G[\"n_particle\"] = 100\n",
    "# Set individual electrons\n",
    "G[\"total_charge:value\"] = e_charge * G[\"n_particle\"]\n",
    "\n",
    "G.run()\n",
    "P0 = G.particles\n",
    "\n",
    "fig, ax = plt.subplots()\n",
    "ax.scatter(P0.x * 1e6, P0.y * 1e6)\n",
    "ax.set_xlabel(r\"$x$ (µm)\")\n",
    "ax.set_ylabel(r\"$y$ (µm)\")\n",
    "G"
   ]
  },
  {
   "cell_type": "markdown",
   "metadata": {},
   "source": [
    "# Run Impact-T\n",
    "\n",
    "Make a function to compare variations of the space charge calc. "
   ]
  },
  {
   "cell_type": "code",
   "execution_count": null,
   "metadata": {
    "execution": {
     "iopub.execute_input": "2024-10-18T19:46:53.504578Z",
     "iopub.status.busy": "2024-10-18T19:46:53.504398Z",
     "iopub.status.idle": "2024-10-18T19:46:53.511171Z",
     "shell.execute_reply": "2024-10-18T19:46:53.510929Z"
    }
   },
   "outputs": [],
   "source": [
    "def make_impact(\n",
    "    initial_particles,\n",
    "    space_charge_on=False,\n",
    "    point_to_point=True,\n",
    "):\n",
    "    # Make Impact object\n",
    "    I = Impact(IMPACT_IN)\n",
    "    I.header[\"Nx\"] = 16  # Larger numbers seem to give errors below.\n",
    "    I.header[\"Ny\"] = 16\n",
    "    I.header[\"Nz\"] = 64\n",
    "\n",
    "    I.initial_particles = initial_particles\n",
    "    if space_charge_on:\n",
    "        I.total_charge = initial_particles[\"charge\"]\n",
    "    else:\n",
    "        I.total_charge = 0\n",
    "\n",
    "    # Patch in point_to_point_spacecharge\n",
    "\n",
    "    if point_to_point:\n",
    "        ELE = {\n",
    "            \"type\": \"point_to_point_spacecharge\",\n",
    "            \"cutoff_radius\": 2.8179e-15,  # classical electron radius\n",
    "            \"name\": \"point_to_point_calc\",\n",
    "        }\n",
    "    else:\n",
    "        ELE = I.lattice[0]\n",
    "    I.input[\"lattice\"] = [ELE, I.lattice[2], I.lattice[-2]]\n",
    "\n",
    "    I.header[\"Dt\"] = 1e-13\n",
    "    I.stop = 0.15\n",
    "\n",
    "    I.ele[\"APEX_GUN\"][\"rf_frequency\"] = 1  # Like a DC gun\n",
    "    I.ele[\"APEX_GUN\"][\"rf_field_scale\"] = 0.4e6\n",
    "\n",
    "    return I\n",
    "\n",
    "\n",
    "I0 = make_impact(P0, space_charge_on=False)\n",
    "I1 = make_impact(P0, space_charge_on=True)\n",
    "I2 = make_impact(P0, space_charge_on=True, point_to_point=False)\n",
    "\n",
    "\n",
    "I1.lattice"
   ]
  },
  {
   "cell_type": "markdown",
   "metadata": {},
   "source": [
    "# Run"
   ]
  },
  {
   "cell_type": "code",
   "execution_count": null,
   "metadata": {
    "execution": {
     "iopub.execute_input": "2024-10-18T19:46:53.512570Z",
     "iopub.status.busy": "2024-10-18T19:46:53.512480Z",
     "iopub.status.idle": "2024-10-18T19:46:56.170628Z",
     "shell.execute_reply": "2024-10-18T19:46:56.170283Z"
    }
   },
   "outputs": [],
   "source": [
    "%%time\n",
    "I0.verbose = False\n",
    "I0.run()"
   ]
  },
  {
   "cell_type": "code",
   "execution_count": null,
   "metadata": {
    "execution": {
     "iopub.execute_input": "2024-10-18T19:46:56.172323Z",
     "iopub.status.busy": "2024-10-18T19:46:56.172190Z",
     "iopub.status.idle": "2024-10-18T19:46:59.657841Z",
     "shell.execute_reply": "2024-10-18T19:46:59.657472Z"
    }
   },
   "outputs": [],
   "source": [
    "%%time\n",
    "# Warning: The # of electrons divided by the number of processors should be an integer.\n",
    "I1.numprocs = 0\n",
    "I1.verbose = False\n",
    "I1.run()"
   ]
  },
  {
   "cell_type": "code",
   "execution_count": null,
   "metadata": {
    "execution": {
     "iopub.execute_input": "2024-10-18T19:46:59.659587Z",
     "iopub.status.busy": "2024-10-18T19:46:59.659453Z",
     "iopub.status.idle": "2024-10-18T19:47:51.546454Z",
     "shell.execute_reply": "2024-10-18T19:47:51.546131Z"
    }
   },
   "outputs": [],
   "source": [
    "%%time\n",
    "I2.numprocs = 0\n",
    "I2.verbose = False\n",
    "I2.run()"
   ]
  },
  {
   "cell_type": "code",
   "execution_count": null,
   "metadata": {
    "execution": {
     "iopub.execute_input": "2024-10-18T19:47:51.548124Z",
     "iopub.status.busy": "2024-10-18T19:47:51.547991Z",
     "iopub.status.idle": "2024-10-18T19:47:51.550291Z",
     "shell.execute_reply": "2024-10-18T19:47:51.550059Z"
    }
   },
   "outputs": [],
   "source": [
    "I1.path"
   ]
  },
  {
   "cell_type": "code",
   "execution_count": null,
   "metadata": {
    "execution": {
     "iopub.execute_input": "2024-10-18T19:47:51.551653Z",
     "iopub.status.busy": "2024-10-18T19:47:51.551549Z",
     "iopub.status.idle": "2024-10-18T19:47:51.679497Z",
     "shell.execute_reply": "2024-10-18T19:47:51.679021Z"
    }
   },
   "outputs": [],
   "source": [
    "!cat {I1.path}/ImpactT.in"
   ]
  },
  {
   "cell_type": "code",
   "execution_count": null,
   "metadata": {
    "execution": {
     "iopub.execute_input": "2024-10-18T19:47:51.681843Z",
     "iopub.status.busy": "2024-10-18T19:47:51.681659Z",
     "iopub.status.idle": "2024-10-18T19:47:52.031665Z",
     "shell.execute_reply": "2024-10-18T19:47:52.031429Z"
    }
   },
   "outputs": [],
   "source": [
    "I1.plot(y2=\"mean_kinetic_energy\")"
   ]
  },
  {
   "cell_type": "markdown",
   "metadata": {},
   "source": [
    "# Compare space charge off, on"
   ]
  },
  {
   "cell_type": "code",
   "execution_count": null,
   "metadata": {
    "execution": {
     "iopub.execute_input": "2024-10-18T19:47:52.033337Z",
     "iopub.status.busy": "2024-10-18T19:47:52.033226Z",
     "iopub.status.idle": "2024-10-18T19:47:52.034930Z",
     "shell.execute_reply": "2024-10-18T19:47:52.034691Z"
    }
   },
   "outputs": [],
   "source": [
    "Poff = I0.particles[\"final_particles\"]\n",
    "Pon = I1.particles[\"final_particles\"]\n",
    "PonIGF = I2.particles[\"final_particles\"]"
   ]
  },
  {
   "cell_type": "code",
   "execution_count": null,
   "metadata": {
    "execution": {
     "iopub.execute_input": "2024-10-18T19:47:52.036196Z",
     "iopub.status.busy": "2024-10-18T19:47:52.036109Z",
     "iopub.status.idle": "2024-10-18T19:47:52.131576Z",
     "shell.execute_reply": "2024-10-18T19:47:52.131333Z"
    }
   },
   "outputs": [],
   "source": [
    "def compare_stats(k2, k1=\"mean_z\", scale1=1, scale2=1):\n",
    "    fig, ax = plt.subplots()\n",
    "    for I, label in (\n",
    "        (I1, \"point-to-point SC\"),\n",
    "        (I2, \"IGF SC\"),\n",
    "        (I0, \"SC off\"),\n",
    "    ):\n",
    "        ax.plot(I.stat(k1) * scale1, I.stat(k2) * scale2, label=label)\n",
    "    ax.set_xlabel(k1)\n",
    "    ax.set_ylabel(k2)\n",
    "    plt.legend()\n",
    "\n",
    "\n",
    "compare_stats(\"sigma_x\")"
   ]
  },
  {
   "cell_type": "code",
   "execution_count": null,
   "metadata": {
    "execution": {
     "iopub.execute_input": "2024-10-18T19:47:52.133039Z",
     "iopub.status.busy": "2024-10-18T19:47:52.132934Z",
     "iopub.status.idle": "2024-10-18T19:47:52.134957Z",
     "shell.execute_reply": "2024-10-18T19:47:52.134747Z"
    }
   },
   "outputs": [],
   "source": [
    "I1.output[\"stats\"].keys()"
   ]
  },
  {
   "cell_type": "code",
   "execution_count": null,
   "metadata": {
    "execution": {
     "iopub.execute_input": "2024-10-18T19:47:52.136491Z",
     "iopub.status.busy": "2024-10-18T19:47:52.136375Z",
     "iopub.status.idle": "2024-10-18T19:47:52.230582Z",
     "shell.execute_reply": "2024-10-18T19:47:52.230371Z"
    }
   },
   "outputs": [],
   "source": [
    "compare_stats(\"sigma_gamma\", scale2=mec2)\n",
    "plt.ylim(0, 1)\n",
    "plt.xlabel(r\"$z$ (m)\")\n",
    "plt.ylabel(r\"$\\sigma_E$ (eV)\")"
   ]
  },
  {
   "cell_type": "code",
   "execution_count": null,
   "metadata": {
    "execution": {
     "iopub.execute_input": "2024-10-18T19:47:52.232045Z",
     "iopub.status.busy": "2024-10-18T19:47:52.231938Z",
     "iopub.status.idle": "2024-10-18T19:47:52.332127Z",
     "shell.execute_reply": "2024-10-18T19:47:52.331868Z"
    }
   },
   "outputs": [],
   "source": [
    "def compare_particles(k1, k2, scale1=1, scale2=1, units1=\"\", units2=\"\"):\n",
    "    fig, ax = plt.subplots()\n",
    "    for p, label in (\n",
    "        (Pon, \"point-to-point SC\"),\n",
    "        (PonIGF, \"IGF SC\"),\n",
    "        (Poff, \"SC off\"),\n",
    "    ):\n",
    "        ax.scatter(p[k1] * scale1, p[k2] * scale2, marker=\".\", label=label)\n",
    "    ax.set_xlabel(k1 + units1)\n",
    "    ax.set_ylabel(k2 + units2)\n",
    "    plt.legend()\n",
    "\n",
    "\n",
    "compare_particles(\n",
    "    \"x\",\n",
    "    \"y\",\n",
    "    scale1=1e6,\n",
    "    scale2=1e6,\n",
    "    units1=\" (µm)\",\n",
    "    units2=\" (µm)\",\n",
    ")"
   ]
  },
  {
   "cell_type": "code",
   "execution_count": null,
   "metadata": {
    "execution": {
     "iopub.execute_input": "2024-10-18T19:47:52.333491Z",
     "iopub.status.busy": "2024-10-18T19:47:52.333383Z",
     "iopub.status.idle": "2024-10-18T19:47:52.434281Z",
     "shell.execute_reply": "2024-10-18T19:47:52.434047Z"
    }
   },
   "outputs": [],
   "source": [
    "compare_particles(\"z\", \"energy\")"
   ]
  },
  {
   "cell_type": "code",
   "execution_count": null,
   "metadata": {
    "execution": {
     "iopub.execute_input": "2024-10-18T19:47:52.435714Z",
     "iopub.status.busy": "2024-10-18T19:47:52.435600Z",
     "iopub.status.idle": "2024-10-18T19:47:52.645566Z",
     "shell.execute_reply": "2024-10-18T19:47:52.645274Z"
    }
   },
   "outputs": [],
   "source": [
    "Poff.plot(\"delta_z\", \"delta_energy\", bins=100)"
   ]
  },
  {
   "cell_type": "code",
   "execution_count": null,
   "metadata": {
    "execution": {
     "iopub.execute_input": "2024-10-18T19:47:52.647380Z",
     "iopub.status.busy": "2024-10-18T19:47:52.647258Z",
     "iopub.status.idle": "2024-10-18T19:47:52.894133Z",
     "shell.execute_reply": "2024-10-18T19:47:52.893901Z"
    }
   },
   "outputs": [],
   "source": [
    "Pon.plot(\"delta_z\", \"delta_energy\", bins=100)"
   ]
  }
 ],
 "metadata": {
  "kernelspec": {
   "display_name": "Python 3 (ipykernel)",
   "language": "python",
   "name": "python3"
  },
  "language_info": {
   "codemirror_mode": {
    "name": "ipython",
    "version": 3
   },
   "file_extension": ".py",
   "mimetype": "text/x-python",
   "name": "python",
   "nbconvert_exporter": "python",
   "pygments_lexer": "ipython3",
   "version": "3.12.6"
  }
 },
 "nbformat": 4,
 "nbformat_minor": 4
}
