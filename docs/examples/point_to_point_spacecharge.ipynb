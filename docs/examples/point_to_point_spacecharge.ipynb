{
 "cells": [
  {
   "attachments": {},
   "cell_type": "markdown",
   "metadata": {},
   "source": [
    "# Point-to-Point space charge example\n",
    "\n",
    "This uses a basic APEX Gun example with a reduced voltage and artificially reduced frequency. \n",
    "\n",
    "Warning from Ji: The # of electrons divided by the number of processors should be an integer.\n"
   ]
  },
  {
   "cell_type": "code",
   "execution_count": null,
   "metadata": {
    "execution": {
     "iopub.execute_input": "2025-02-20T21:28:34.082246Z",
     "iopub.status.busy": "2025-02-20T21:28:34.082050Z",
     "iopub.status.idle": "2025-02-20T21:28:35.107344Z",
     "shell.execute_reply": "2025-02-20T21:28:35.107057Z"
    }
   },
   "outputs": [],
   "source": [
    "from impact import Impact\n",
    "from distgen import Generator\n",
    "import os\n",
    "\n",
    "from pmd_beamphysics.units import e_charge, mec2\n",
    "\n",
    "import matplotlib.pyplot as plt"
   ]
  },
  {
   "cell_type": "code",
   "execution_count": null,
   "metadata": {
    "execution": {
     "iopub.execute_input": "2025-02-20T21:28:35.108952Z",
     "iopub.status.busy": "2025-02-20T21:28:35.108802Z",
     "iopub.status.idle": "2025-02-20T21:28:35.111836Z",
     "shell.execute_reply": "2025-02-20T21:28:35.111572Z"
    }
   },
   "outputs": [],
   "source": [
    "IMPACT_IN = \"templates/apex_gun/ImpactT.in\"\n",
    "os.path.exists(IMPACT_IN)"
   ]
  },
  {
   "cell_type": "markdown",
   "metadata": {},
   "source": [
    "# Prepare particles\n",
    "\n",
    "Prepare 100 electrons in a 1 µm uniform spot."
   ]
  },
  {
   "cell_type": "code",
   "execution_count": null,
   "metadata": {
    "execution": {
     "iopub.execute_input": "2025-02-20T21:28:35.132015Z",
     "iopub.status.busy": "2025-02-20T21:28:35.131871Z",
     "iopub.status.idle": "2025-02-20T21:28:35.133527Z",
     "shell.execute_reply": "2025-02-20T21:28:35.133295Z"
    }
   },
   "outputs": [],
   "source": [
    "DISTGEN_IN = \"\"\"\n",
    "n_particle: 100\n",
    "species: electron\n",
    "r_dist:\n",
    "  max_r: 1000 nm\n",
    "  type: radial_uniform\n",
    "random:\n",
    "  type: hammersley\n",
    "start:\n",
    "  MTE: 30 meV\n",
    "  type: cathode\n",
    "t_dist:\n",
    "  avg_t: 0 fs\n",
    "  sigma_t: 29.0 fs\n",
    "  type: gaussian\n",
    "total_charge: 1.602176634e-17 C\n",
    "\"\"\""
   ]
  },
  {
   "cell_type": "code",
   "execution_count": null,
   "metadata": {
    "execution": {
     "iopub.execute_input": "2025-02-20T21:28:35.134695Z",
     "iopub.status.busy": "2025-02-20T21:28:35.134619Z",
     "iopub.status.idle": "2025-02-20T21:28:35.292022Z",
     "shell.execute_reply": "2025-02-20T21:28:35.291769Z"
    }
   },
   "outputs": [],
   "source": [
    "G = Generator(DISTGEN_IN)\n",
    "G[\"n_particle\"] = 100\n",
    "# Set individual electrons\n",
    "G[\"total_charge:value\"] = e_charge * G[\"n_particle\"]\n",
    "\n",
    "G.run()\n",
    "P0 = G.particles\n",
    "\n",
    "fig, ax = plt.subplots()\n",
    "ax.scatter(P0.x * 1e6, P0.y * 1e6)\n",
    "ax.set_xlabel(r\"$x$ (µm)\")\n",
    "ax.set_ylabel(r\"$y$ (µm)\")\n",
    "G"
   ]
  },
  {
   "cell_type": "markdown",
   "metadata": {},
   "source": [
    "# Run Impact-T\n",
    "\n",
    "Make a function to compare variations of the space charge calc. "
   ]
  },
  {
   "cell_type": "code",
   "execution_count": null,
   "metadata": {
    "execution": {
     "iopub.execute_input": "2025-02-20T21:28:35.293372Z",
     "iopub.status.busy": "2025-02-20T21:28:35.293259Z",
     "iopub.status.idle": "2025-02-20T21:28:35.298973Z",
     "shell.execute_reply": "2025-02-20T21:28:35.298677Z"
    }
   },
   "outputs": [],
   "source": [
    "def make_impact(\n",
    "    initial_particles,\n",
    "    space_charge_on=False,\n",
    "    point_to_point=True,\n",
    "):\n",
    "    # Make Impact object\n",
    "    I = Impact(IMPACT_IN)\n",
    "    I.header[\"Nx\"] = 16  # Larger numbers seem to give errors below.\n",
    "    I.header[\"Ny\"] = 16\n",
    "    I.header[\"Nz\"] = 64\n",
    "\n",
    "    I.initial_particles = initial_particles\n",
    "    if space_charge_on:\n",
    "        I.total_charge = initial_particles[\"charge\"]\n",
    "    else:\n",
    "        I.total_charge = 0\n",
    "\n",
    "    # Patch in point_to_point_spacecharge\n",
    "\n",
    "    if point_to_point:\n",
    "        ELE = {\n",
    "            \"type\": \"point_to_point_spacecharge\",\n",
    "            \"cutoff_radius\": 2.8179e-15,  # classical electron radius\n",
    "            \"name\": \"point_to_point_calc\",\n",
    "        }\n",
    "    else:\n",
    "        ELE = I.lattice[0]\n",
    "    I.input[\"lattice\"] = [ELE, I.lattice[2], I.lattice[-2]]\n",
    "\n",
    "    I.header[\"Dt\"] = 1e-13\n",
    "    I.stop = 0.15\n",
    "\n",
    "    I.ele[\"APEX_GUN\"][\"rf_frequency\"] = 1  # Like a DC gun\n",
    "    I.ele[\"APEX_GUN\"][\"rf_field_scale\"] = 0.4e6\n",
    "\n",
    "    return I\n",
    "\n",
    "\n",
    "I0 = make_impact(P0, space_charge_on=False)\n",
    "I1 = make_impact(P0, space_charge_on=True)\n",
    "I2 = make_impact(P0, space_charge_on=True, point_to_point=False)\n",
    "\n",
    "\n",
    "I1.lattice"
   ]
  },
  {
   "cell_type": "markdown",
   "metadata": {},
   "source": [
    "# Run"
   ]
  },
  {
   "cell_type": "code",
   "execution_count": null,
   "metadata": {
    "execution": {
     "iopub.execute_input": "2025-02-20T21:28:35.300173Z",
     "iopub.status.busy": "2025-02-20T21:28:35.300068Z",
     "iopub.status.idle": "2025-02-20T21:28:38.017403Z",
     "shell.execute_reply": "2025-02-20T21:28:38.016847Z"
    }
   },
   "outputs": [],
   "source": [
    "%%time\n",
    "I0.verbose = False\n",
    "I0.run()"
   ]
  },
  {
   "cell_type": "code",
   "execution_count": null,
   "metadata": {
    "execution": {
     "iopub.execute_input": "2025-02-20T21:28:38.019540Z",
     "iopub.status.busy": "2025-02-20T21:28:38.019425Z",
     "iopub.status.idle": "2025-02-20T21:28:44.273897Z",
     "shell.execute_reply": "2025-02-20T21:28:44.273551Z"
    }
   },
   "outputs": [],
   "source": [
    "%%time\n",
    "# Warning: The # of electrons divided by the number of processors should be an integer.\n",
    "I1.numprocs = 2\n",
    "I1.verbose = False\n",
    "I1.run()"
   ]
  },
  {
   "cell_type": "code",
   "execution_count": null,
   "metadata": {
    "execution": {
     "iopub.execute_input": "2025-02-20T21:28:44.275370Z",
     "iopub.status.busy": "2025-02-20T21:28:44.275241Z",
     "iopub.status.idle": "2025-02-20T21:31:00.005360Z",
     "shell.execute_reply": "2025-02-20T21:31:00.005060Z"
    }
   },
   "outputs": [],
   "source": [
    "%%time\n",
    "I2.numprocs = 2\n",
    "I2.verbose = False\n",
    "I2.run()"
   ]
  },
  {
   "cell_type": "code",
   "execution_count": null,
   "metadata": {
    "execution": {
     "iopub.execute_input": "2025-02-20T21:31:00.006829Z",
     "iopub.status.busy": "2025-02-20T21:31:00.006707Z",
     "iopub.status.idle": "2025-02-20T21:31:00.009036Z",
     "shell.execute_reply": "2025-02-20T21:31:00.008781Z"
    }
   },
   "outputs": [],
   "source": [
    "I1.path"
   ]
  },
  {
   "cell_type": "code",
   "execution_count": null,
   "metadata": {
    "execution": {
     "iopub.execute_input": "2025-02-20T21:31:00.010391Z",
     "iopub.status.busy": "2025-02-20T21:31:00.010267Z",
     "iopub.status.idle": "2025-02-20T21:31:00.139943Z",
     "shell.execute_reply": "2025-02-20T21:31:00.139458Z"
    }
   },
   "outputs": [],
   "source": [
    "!cat {I1.path}/ImpactT.in"
   ]
  },
  {
   "cell_type": "code",
   "execution_count": null,
   "metadata": {
    "execution": {
     "iopub.execute_input": "2025-02-20T21:31:00.142039Z",
     "iopub.status.busy": "2025-02-20T21:31:00.141869Z",
     "iopub.status.idle": "2025-02-20T21:31:00.444873Z",
     "shell.execute_reply": "2025-02-20T21:31:00.444569Z"
    }
   },
   "outputs": [],
   "source": [
    "I1.plot(y2=\"mean_kinetic_energy\")"
   ]
  },
  {
   "cell_type": "markdown",
   "metadata": {},
   "source": [
    "# Compare space charge off, on"
   ]
  },
  {
   "cell_type": "code",
   "execution_count": null,
   "metadata": {
    "execution": {
     "iopub.execute_input": "2025-02-20T21:31:00.446295Z",
     "iopub.status.busy": "2025-02-20T21:31:00.446187Z",
     "iopub.status.idle": "2025-02-20T21:31:00.448021Z",
     "shell.execute_reply": "2025-02-20T21:31:00.447774Z"
    }
   },
   "outputs": [],
   "source": [
    "Poff = I0.particles[\"final_particles\"]\n",
    "Pon = I1.particles[\"final_particles\"]\n",
    "PonIGF = I2.particles[\"final_particles\"]"
   ]
  },
  {
   "cell_type": "code",
   "execution_count": null,
   "metadata": {
    "execution": {
     "iopub.execute_input": "2025-02-20T21:31:00.449247Z",
     "iopub.status.busy": "2025-02-20T21:31:00.449157Z",
     "iopub.status.idle": "2025-02-20T21:31:00.539372Z",
     "shell.execute_reply": "2025-02-20T21:31:00.539118Z"
    }
   },
   "outputs": [],
   "source": [
    "def compare_stats(k2, k1=\"mean_z\", scale1=1, scale2=1):\n",
    "    fig, ax = plt.subplots()\n",
    "    for I, label in (\n",
    "        (I1, \"point-to-point SC\"),\n",
    "        (I2, \"IGF SC\"),\n",
    "        (I0, \"SC off\"),\n",
    "    ):\n",
    "        ax.plot(I.stat(k1) * scale1, I.stat(k2) * scale2, label=label)\n",
    "    ax.set_xlabel(k1)\n",
    "    ax.set_ylabel(k2)\n",
    "    plt.legend()\n",
    "\n",
    "\n",
    "compare_stats(\"sigma_x\")"
   ]
  },
  {
   "cell_type": "code",
   "execution_count": null,
   "metadata": {
    "execution": {
     "iopub.execute_input": "2025-02-20T21:31:00.540591Z",
     "iopub.status.busy": "2025-02-20T21:31:00.540499Z",
     "iopub.status.idle": "2025-02-20T21:31:00.542719Z",
     "shell.execute_reply": "2025-02-20T21:31:00.542504Z"
    }
   },
   "outputs": [],
   "source": [
    "I1.output[\"stats\"].keys()"
   ]
  },
  {
   "cell_type": "code",
   "execution_count": null,
   "metadata": {
    "execution": {
     "iopub.execute_input": "2025-02-20T21:31:00.544062Z",
     "iopub.status.busy": "2025-02-20T21:31:00.543951Z",
     "iopub.status.idle": "2025-02-20T21:31:00.633700Z",
     "shell.execute_reply": "2025-02-20T21:31:00.633425Z"
    }
   },
   "outputs": [],
   "source": [
    "compare_stats(\"sigma_gamma\", scale2=mec2)\n",
    "plt.ylim(0, 1)\n",
    "plt.xlabel(r\"$z$ (m)\")\n",
    "plt.ylabel(r\"$\\sigma_E$ (eV)\")"
   ]
  },
  {
   "cell_type": "code",
   "execution_count": null,
   "metadata": {
    "execution": {
     "iopub.execute_input": "2025-02-20T21:31:00.634928Z",
     "iopub.status.busy": "2025-02-20T21:31:00.634820Z",
     "iopub.status.idle": "2025-02-20T21:31:00.727900Z",
     "shell.execute_reply": "2025-02-20T21:31:00.727576Z"
    }
   },
   "outputs": [],
   "source": [
    "def compare_particles(k1, k2, scale1=1, scale2=1, units1=\"\", units2=\"\"):\n",
    "    fig, ax = plt.subplots()\n",
    "    for p, label in (\n",
    "        (Pon, \"point-to-point SC\"),\n",
    "        (PonIGF, \"IGF SC\"),\n",
    "        (Poff, \"SC off\"),\n",
    "    ):\n",
    "        ax.scatter(p[k1] * scale1, p[k2] * scale2, marker=\".\", label=label)\n",
    "    ax.set_xlabel(k1 + units1)\n",
    "    ax.set_ylabel(k2 + units2)\n",
    "    plt.legend()\n",
    "\n",
    "\n",
    "compare_particles(\n",
    "    \"x\",\n",
    "    \"y\",\n",
    "    scale1=1e6,\n",
    "    scale2=1e6,\n",
    "    units1=\" (µm)\",\n",
    "    units2=\" (µm)\",\n",
    ")"
   ]
  },
  {
   "cell_type": "code",
   "execution_count": null,
   "metadata": {
    "execution": {
     "iopub.execute_input": "2025-02-20T21:31:00.729159Z",
     "iopub.status.busy": "2025-02-20T21:31:00.729066Z",
     "iopub.status.idle": "2025-02-20T21:31:00.823407Z",
     "shell.execute_reply": "2025-02-20T21:31:00.823171Z"
    }
   },
   "outputs": [],
   "source": [
    "compare_particles(\"z\", \"energy\")"
   ]
  },
  {
   "cell_type": "code",
   "execution_count": null,
   "metadata": {
    "execution": {
     "iopub.execute_input": "2025-02-20T21:31:00.824628Z",
     "iopub.status.busy": "2025-02-20T21:31:00.824538Z",
     "iopub.status.idle": "2025-02-20T21:31:01.052996Z",
     "shell.execute_reply": "2025-02-20T21:31:01.052689Z"
    }
   },
   "outputs": [],
   "source": [
    "Poff.plot(\"delta_z\", \"delta_energy\", bins=100)"
   ]
  },
  {
   "cell_type": "code",
   "execution_count": null,
   "metadata": {
    "execution": {
     "iopub.execute_input": "2025-02-20T21:31:01.054326Z",
     "iopub.status.busy": "2025-02-20T21:31:01.054215Z",
     "iopub.status.idle": "2025-02-20T21:31:01.239093Z",
     "shell.execute_reply": "2025-02-20T21:31:01.238745Z"
    }
   },
   "outputs": [],
   "source": [
    "Pon.plot(\"delta_z\", \"delta_energy\", bins=100)"
   ]
  }
 ],
 "metadata": {
  "kernelspec": {
   "display_name": "Python 3 (ipykernel)",
   "language": "python",
   "name": "python3"
  },
  "language_info": {
   "codemirror_mode": {
    "name": "ipython",
    "version": 3
   },
   "file_extension": ".py",
   "mimetype": "text/x-python",
   "name": "python",
   "nbconvert_exporter": "python",
   "pygments_lexer": "ipython3",
   "version": "3.12.8"
  }
 },
 "nbformat": 4,
 "nbformat_minor": 4
}
