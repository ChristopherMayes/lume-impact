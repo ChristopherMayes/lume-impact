{
 "cells": [
  {
   "attachments": {},
   "cell_type": "markdown",
   "id": "dd62eea2-b6fd-48f0-a568-6301849db18a",
   "metadata": {},
   "source": [
    "# Corrector Coil\n",
    "\n",
    "Here we will make a corrector coil as a 3D Cartesian grid and track.\n",
    "\n"
   ]
  },
  {
   "cell_type": "code",
   "execution_count": null,
   "id": "c15824f7-9d98-4533-a392-997aa9f8d8b5",
   "metadata": {},
   "outputs": [],
   "source": [
    "import numpy as np\n",
    "from math import pi\n",
    "from scipy.constants import c\n",
    "import os\n",
    "\n",
    "from pmd_beamphysics.fields.corrector_modeling import make_dipole_corrector_fieldmesh\n",
    "\n",
    "from impact import Impact"
   ]
  },
  {
   "cell_type": "code",
   "execution_count": null,
   "id": "24b02d6c-3357-49bd-aecd-bf6988b27318",
   "metadata": {},
   "outputs": [],
   "source": [
    "ROOT = \"../templates/corrector_coil\"\n",
    "assert os.path.exists(ROOT)"
   ]
  },
  {
   "cell_type": "markdown",
   "id": "9d98917b-445c-4634-84ad-c0a40512a9fd",
   "metadata": {},
   "source": [
    "# Create FieldMesh"
   ]
  },
  {
   "cell_type": "code",
   "execution_count": null,
   "id": "f3852157-74e4-4c8f-a4b8-160bf256b02a",
   "metadata": {},
   "outputs": [],
   "source": [
    "R = 2 * 2.54e-2  # 2\" radius [m]\n",
    "L = 0.1  # Length along z [m]\n",
    "theta = np.pi / 2  # Opening angle [rad]\n",
    "current = 100  # Current [Amp]\n",
    "\n",
    "FM = make_dipole_corrector_fieldmesh(\n",
    "    current=current,\n",
    "    xmin=-R,\n",
    "    xmax=R,\n",
    "    nx=11,\n",
    "    ymin=-R,\n",
    "    ymax=R,\n",
    "    ny=13,\n",
    "    zmin=-5 * L / 2,\n",
    "    zmax=5 * L / 2,\n",
    "    nz=31,\n",
    "    mode=\"saddle\",\n",
    "    R=R,\n",
    "    L=L,\n",
    "    theta=theta,\n",
    "    npts=20,\n",
    "    plot_wire=True,\n",
    "    tilt=pi / 2,\n",
    ")\n",
    "\n",
    "FM.zmin = 0"
   ]
  },
  {
   "cell_type": "code",
   "execution_count": null,
   "id": "11148316-a2ef-44d9-86df-1dcdefafc2f9",
   "metadata": {},
   "outputs": [],
   "source": [
    "FM.plot_onaxis(\"Bx\")"
   ]
  },
  {
   "cell_type": "markdown",
   "id": "b193bd02-c9cb-4fee-a449-b82165615cf3",
   "metadata": {},
   "source": [
    "# Prepare for Impact-T"
   ]
  },
  {
   "cell_type": "code",
   "execution_count": null,
   "id": "5758da8b-d60f-479d-8658-b3e66b9386ee",
   "metadata": {},
   "outputs": [],
   "source": [
    "T7file = os.path.join(ROOT, \"1T1.T7\")\n",
    "FM.write_impact_emfield_cartesian(T7file)"
   ]
  },
  {
   "cell_type": "code",
   "execution_count": null,
   "id": "a80c1876-af91-4181-942f-3d79474d3caf",
   "metadata": {},
   "outputs": [],
   "source": [
    "!head {outfile}"
   ]
  },
  {
   "cell_type": "code",
   "execution_count": null,
   "id": "e559fbc2-621e-434b-9979-6d48af3ab572",
   "metadata": {},
   "outputs": [],
   "source": [
    "!ls -ahl {T7file}"
   ]
  },
  {
   "cell_type": "markdown",
   "id": "c9f82fa5-a4aa-49f7-a587-2ed59f3bf2bc",
   "metadata": {},
   "source": [
    "# Run Impact-T"
   ]
  },
  {
   "cell_type": "code",
   "execution_count": null,
   "id": "a48aa119-a646-40f0-bfe9-ebe03b3b7f3f",
   "metadata": {},
   "outputs": [],
   "source": [
    "I = Impact(os.path.join(ROOT, \"ImpactT.in\"))\n",
    "I.ele[\"COIL\"]  # ['rf_field_scale'] = 1"
   ]
  },
  {
   "cell_type": "code",
   "execution_count": null,
   "id": "2c9b338f-c929-42ed-9249-93695b414dbd",
   "metadata": {},
   "outputs": [],
   "source": [
    "FM = I.fieldmaps[\"1T1.T7\"][\"field\"]\n",
    "FM.plot_onaxis(\"Bx\")"
   ]
  },
  {
   "cell_type": "code",
   "execution_count": null,
   "id": "c2508c43-04e8-4e76-9890-4653141eaa2c",
   "metadata": {},
   "outputs": [],
   "source": [
    "I.ele[\"COIL\"]"
   ]
  },
  {
   "cell_type": "code",
   "execution_count": null,
   "id": "98c3f272-8eb9-4b8f-8f09-23cbc4cdbebc",
   "metadata": {},
   "outputs": [],
   "source": [
    "I.fieldmaps[\"1T1.T7\"]"
   ]
  },
  {
   "cell_type": "code",
   "execution_count": null,
   "id": "cd750b42-2a4f-4376-8264-43ef3c099a3f",
   "metadata": {},
   "outputs": [],
   "source": [
    "pz0 = 10e6\n",
    "\n",
    "I.track1(pz0=pz0)\n",
    "\n",
    "I.plot([\"mean_x\", \"mean_y\"])"
   ]
  },
  {
   "cell_type": "markdown",
   "id": "3683540e-b3e1-43a6-9bd3-2a9ebf0187bc",
   "metadata": {},
   "source": [
    "# Check field integral"
   ]
  },
  {
   "cell_type": "code",
   "execution_count": null,
   "id": "03d56ea6-b935-4fe2-9d09-4ae446106e7e",
   "metadata": {},
   "outputs": [],
   "source": [
    "z0 = FM.coord_vec(\"z\")\n",
    "Bx0 = np.real(FM.Bx[FM.shape[0] // 2, FM.shape[1] // 2, :])\n",
    "\n",
    "BL = np.trapezoid(Bx0, z0)\n",
    "\n",
    "BL"
   ]
  },
  {
   "cell_type": "code",
   "execution_count": null,
   "id": "1d1e021a-cd0a-4f92-97ef-b778d2aaa1c0",
   "metadata": {},
   "outputs": [],
   "source": [
    "theta0 = -BL * c / pz0\n",
    "\n",
    "theta0"
   ]
  },
  {
   "cell_type": "code",
   "execution_count": null,
   "id": "047d0deb-d877-4f92-95fc-3ef1b44c1258",
   "metadata": {},
   "outputs": [],
   "source": [
    "I.track1(pz0=pz0)\n",
    "theta1 = I.particles[\"final_particles\"].py / pz0\n",
    "\n",
    "theta1"
   ]
  },
  {
   "cell_type": "code",
   "execution_count": null,
   "id": "4e7a7a23-d1f0-433f-908b-2b5cd6602abc",
   "metadata": {},
   "outputs": [],
   "source": [
    "rel_diff = abs(theta1 / theta0 - 1)\n",
    "rel_diff"
   ]
  },
  {
   "cell_type": "markdown",
   "id": "b0cf01c0-fb42-4897-bc53-78ae0cfb8bbe",
   "metadata": {},
   "source": [
    "# Check that both are close"
   ]
  },
  {
   "cell_type": "code",
   "execution_count": null,
   "id": "3cc9b8c0-70bf-41f2-950d-02eae8919d84",
   "metadata": {},
   "outputs": [],
   "source": [
    "# assert rel_diff < 1e-3"
   ]
  },
  {
   "cell_type": "markdown",
   "id": "15975d75-5ae7-4c59-abe4-37e04752323b",
   "metadata": {},
   "source": [
    "# Cleanup\n",
    "\n",
    "We will leave the field file in templates so that the example is complete."
   ]
  },
  {
   "cell_type": "code",
   "execution_count": null,
   "id": "af4d8f9c-35db-4ce0-bee0-dfa2b8720941",
   "metadata": {},
   "outputs": [],
   "source": [
    "# os.remove(T7file)"
   ]
  }
 ],
 "metadata": {
  "kernelspec": {
   "display_name": "Python 3 (ipykernel)",
   "language": "python",
   "name": "python3"
  },
  "language_info": {
   "codemirror_mode": {
    "name": "ipython",
    "version": 3
   },
   "file_extension": ".py",
   "mimetype": "text/x-python",
   "name": "python",
   "nbconvert_exporter": "python",
   "pygments_lexer": "ipython3",
   "version": "3.12.6"
  }
 },
 "nbformat": 4,
 "nbformat_minor": 5
}
