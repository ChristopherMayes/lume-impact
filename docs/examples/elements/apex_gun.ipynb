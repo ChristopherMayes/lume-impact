{
 "cells": [
  {
   "cell_type": "markdown",
   "metadata": {},
   "source": [
    "# APEX Gun, IMPACT-T"
   ]
  },
  {
   "cell_type": "code",
   "execution_count": null,
   "metadata": {
    "execution": {
     "iopub.execute_input": "2025-02-12T18:03:42.953456Z",
     "iopub.status.busy": "2025-02-12T18:03:42.952966Z",
     "iopub.status.idle": "2025-02-12T18:03:44.040910Z",
     "shell.execute_reply": "2025-02-12T18:03:44.040559Z"
    }
   },
   "outputs": [],
   "source": [
    "from impact import Impact\n",
    "from distgen import Generator\n",
    "\n",
    "import os\n",
    "\n",
    "# Nicer plotting\n",
    "import matplotlib.pyplot as plt\n",
    "import matplotlib\n",
    "\n",
    "%config InlineBackend.figure_format = 'retina'\n",
    "matplotlib.rcParams[\"figure.figsize\"] = (8, 4)"
   ]
  },
  {
   "cell_type": "code",
   "execution_count": null,
   "metadata": {
    "execution": {
     "iopub.execute_input": "2025-02-12T18:03:44.042805Z",
     "iopub.status.busy": "2025-02-12T18:03:44.042642Z",
     "iopub.status.idle": "2025-02-12T18:03:44.045760Z",
     "shell.execute_reply": "2025-02-12T18:03:44.045518Z"
    }
   },
   "outputs": [],
   "source": [
    "IMPACT_IN = \"../templates/apex_gun/ImpactT.in\"\n",
    "DISTGEN_IN = \"../templates/apex_gun/distgen.yaml\"\n",
    "NUMPROCS = 0\n",
    "os.path.exists(IMPACT_IN)"
   ]
  },
  {
   "cell_type": "code",
   "execution_count": null,
   "metadata": {
    "execution": {
     "iopub.execute_input": "2025-02-12T18:03:44.066128Z",
     "iopub.status.busy": "2025-02-12T18:03:44.066014Z",
     "iopub.status.idle": "2025-02-12T18:03:44.332596Z",
     "shell.execute_reply": "2025-02-12T18:03:44.332303Z"
    }
   },
   "outputs": [],
   "source": [
    "G = Generator(DISTGEN_IN)\n",
    "G[\"n_particle\"] = 10000\n",
    "\n",
    "G.run()\n",
    "P0 = G.particles\n",
    "factor = 1.01\n",
    "P0.x *= factor\n",
    "P0.y *= 1 / factor\n",
    "P0.plot(\"x\", \"y\")"
   ]
  },
  {
   "cell_type": "code",
   "execution_count": null,
   "metadata": {
    "execution": {
     "iopub.execute_input": "2025-02-12T18:03:44.334247Z",
     "iopub.status.busy": "2025-02-12T18:03:44.334132Z",
     "iopub.status.idle": "2025-02-12T18:03:44.336258Z",
     "shell.execute_reply": "2025-02-12T18:03:44.336035Z"
    }
   },
   "outputs": [],
   "source": [
    "P0[\"charge\"]"
   ]
  },
  {
   "cell_type": "code",
   "execution_count": null,
   "metadata": {
    "execution": {
     "iopub.execute_input": "2025-02-12T18:03:44.337388Z",
     "iopub.status.busy": "2025-02-12T18:03:44.337293Z",
     "iopub.status.idle": "2025-02-12T18:03:44.340347Z",
     "shell.execute_reply": "2025-02-12T18:03:44.340108Z"
    }
   },
   "outputs": [],
   "source": [
    "# Make Impact object\n",
    "I = Impact(IMPACT_IN)"
   ]
  },
  {
   "cell_type": "code",
   "execution_count": null,
   "metadata": {
    "execution": {
     "iopub.execute_input": "2025-02-12T18:03:44.341422Z",
     "iopub.status.busy": "2025-02-12T18:03:44.341338Z",
     "iopub.status.idle": "2025-02-12T18:03:44.652881Z",
     "shell.execute_reply": "2025-02-12T18:03:44.652513Z"
    }
   },
   "outputs": [],
   "source": [
    "I.track1()\n",
    "I.plot(\"mean_kinetic_energy\")"
   ]
  },
  {
   "cell_type": "code",
   "execution_count": null,
   "metadata": {
    "execution": {
     "iopub.execute_input": "2025-02-12T18:03:44.654362Z",
     "iopub.status.busy": "2025-02-12T18:03:44.654207Z",
     "iopub.status.idle": "2025-02-12T18:03:44.656521Z",
     "shell.execute_reply": "2025-02-12T18:03:44.656280Z"
    }
   },
   "outputs": [],
   "source": [
    "I.initial_particles = P0\n",
    "\n",
    "# Change some things\n",
    "I.header[\"Nx\"] = 32\n",
    "I.header[\"Ny\"] = 32\n",
    "I.header[\"Nz\"] = 32\n",
    "I.header[\"Dt\"] = 1e-13\n",
    "\n",
    "# I.total_charge = P0['charge']\n",
    "I.total_charge = 0  # Turn off space charge\n",
    "\n",
    "# Other switches\n",
    "I.timeout = 1000\n",
    "\n",
    "# Change stop location\n",
    "I.stop = 0.15\n",
    "\n",
    "# Switches for MPI\n",
    "I.numprocs = NUMPROCS"
   ]
  },
  {
   "cell_type": "code",
   "execution_count": null,
   "metadata": {
    "execution": {
     "iopub.execute_input": "2025-02-12T18:03:44.658005Z",
     "iopub.status.busy": "2025-02-12T18:03:44.657873Z",
     "iopub.status.idle": "2025-02-12T18:04:15.741138Z",
     "shell.execute_reply": "2025-02-12T18:04:15.740798Z"
    }
   },
   "outputs": [],
   "source": [
    "%%time\n",
    "I.run()\n",
    "print(I)"
   ]
  },
  {
   "cell_type": "markdown",
   "metadata": {},
   "source": [
    "# Particles"
   ]
  },
  {
   "cell_type": "code",
   "execution_count": null,
   "metadata": {
    "execution": {
     "iopub.execute_input": "2025-02-12T18:04:15.742747Z",
     "iopub.status.busy": "2025-02-12T18:04:15.742612Z",
     "iopub.status.idle": "2025-02-12T18:04:15.744911Z",
     "shell.execute_reply": "2025-02-12T18:04:15.744673Z"
    }
   },
   "outputs": [],
   "source": [
    "# Particles are automatically parsed in to openpmd-beamphysics ParticleGroup objects\n",
    "I.output[\"particles\"]"
   ]
  },
  {
   "cell_type": "code",
   "execution_count": null,
   "metadata": {
    "execution": {
     "iopub.execute_input": "2025-02-12T18:04:15.746041Z",
     "iopub.status.busy": "2025-02-12T18:04:15.745947Z",
     "iopub.status.idle": "2025-02-12T18:04:15.748281Z",
     "shell.execute_reply": "2025-02-12T18:04:15.748049Z"
    }
   },
   "outputs": [],
   "source": [
    "# Get the final particles, calculate some statistic\n",
    "P = I.output[\"particles\"][\"final_particles\"]\n",
    "P[\"mean_energy\"]"
   ]
  },
  {
   "cell_type": "code",
   "execution_count": null,
   "metadata": {
    "execution": {
     "iopub.execute_input": "2025-02-12T18:04:15.749346Z",
     "iopub.status.busy": "2025-02-12T18:04:15.749246Z",
     "iopub.status.idle": "2025-02-12T18:04:15.750992Z",
     "shell.execute_reply": "2025-02-12T18:04:15.750773Z"
    }
   },
   "outputs": [],
   "source": [
    "# Show the units\n",
    "P.units(\"mean_energy\")"
   ]
  },
  {
   "cell_type": "code",
   "execution_count": null,
   "metadata": {
    "execution": {
     "iopub.execute_input": "2025-02-12T18:04:15.752062Z",
     "iopub.status.busy": "2025-02-12T18:04:15.751992Z",
     "iopub.status.idle": "2025-02-12T18:04:15.912904Z",
     "shell.execute_reply": "2025-02-12T18:04:15.912598Z"
    }
   },
   "outputs": [],
   "source": [
    "P.plot(\"z\", \"pz\")"
   ]
  },
  {
   "cell_type": "markdown",
   "metadata": {},
   "source": [
    "# Stats"
   ]
  },
  {
   "cell_type": "code",
   "execution_count": null,
   "metadata": {
    "execution": {
     "iopub.execute_input": "2025-02-12T18:04:15.914253Z",
     "iopub.status.busy": "2025-02-12T18:04:15.914145Z",
     "iopub.status.idle": "2025-02-12T18:04:15.916286Z",
     "shell.execute_reply": "2025-02-12T18:04:15.916061Z"
    }
   },
   "outputs": [],
   "source": [
    "# Impact's own calculated statistics can be retieved\n",
    "len(I.stat(\"norm_emit_x\")), I.stat(\"norm_emit_x\")[-1]"
   ]
  },
  {
   "cell_type": "code",
   "execution_count": null,
   "metadata": {
    "execution": {
     "iopub.execute_input": "2025-02-12T18:04:15.917348Z",
     "iopub.status.busy": "2025-02-12T18:04:15.917260Z",
     "iopub.status.idle": "2025-02-12T18:04:15.919635Z",
     "shell.execute_reply": "2025-02-12T18:04:15.919412Z"
    }
   },
   "outputs": [],
   "source": [
    "# Stats can also be computed from the particles. For example:\n",
    "I.particles[\"final_particles\"][\"norm_emit_x\"]"
   ]
  },
  {
   "cell_type": "code",
   "execution_count": null,
   "metadata": {
    "execution": {
     "iopub.execute_input": "2025-02-12T18:04:15.920813Z",
     "iopub.status.busy": "2025-02-12T18:04:15.920714Z",
     "iopub.status.idle": "2025-02-12T18:04:15.992577Z",
     "shell.execute_reply": "2025-02-12T18:04:15.992311Z"
    }
   },
   "outputs": [],
   "source": [
    "# Compare these.\n",
    "key1 = \"mean_z\"\n",
    "key2 = \"sigma_x\"\n",
    "units1 = str(I.units(key1))\n",
    "units2 = str(I.units(key2))\n",
    "plt.xlabel(key1 + f\" ({units1})\")\n",
    "plt.ylabel(key2 + f\" ({units2})\")\n",
    "plt.plot(I.stat(key1), I.stat(key2))\n",
    "plt.scatter(\n",
    "    [I.particles[name][key1] for name in I.particles],\n",
    "    [I.particles[name][key2] for name in I.particles],\n",
    "    color=\"red\",\n",
    ")"
   ]
  }
 ],
 "metadata": {
  "kernelspec": {
   "display_name": "Python 3 (ipykernel)",
   "language": "python",
   "name": "python3"
  },
  "language_info": {
   "codemirror_mode": {
    "name": "ipython",
    "version": 3
   },
   "file_extension": ".py",
   "mimetype": "text/x-python",
   "name": "python",
   "nbconvert_exporter": "python",
   "pygments_lexer": "ipython3",
   "version": "3.12.8"
  }
 },
 "nbformat": 4,
 "nbformat_minor": 4
}
