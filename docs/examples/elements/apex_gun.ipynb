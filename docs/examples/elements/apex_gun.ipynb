{
 "cells": [
  {
   "cell_type": "markdown",
   "metadata": {},
   "source": [
    "# APEX Gun, IMPACT-T"
   ]
  },
  {
   "cell_type": "code",
   "execution_count": null,
   "metadata": {
    "execution": {
     "iopub.execute_input": "2025-02-20T21:22:06.749034Z",
     "iopub.status.busy": "2025-02-20T21:22:06.748200Z",
     "iopub.status.idle": "2025-02-20T21:22:07.823460Z",
     "shell.execute_reply": "2025-02-20T21:22:07.823062Z"
    }
   },
   "outputs": [],
   "source": [
    "from impact import Impact\n",
    "from distgen import Generator\n",
    "\n",
    "import os\n",
    "\n",
    "# Nicer plotting\n",
    "import matplotlib.pyplot as plt\n",
    "import matplotlib\n",
    "\n",
    "%config InlineBackend.figure_format = 'retina'\n",
    "matplotlib.rcParams[\"figure.figsize\"] = (8, 4)"
   ]
  },
  {
   "cell_type": "code",
   "execution_count": null,
   "metadata": {
    "execution": {
     "iopub.execute_input": "2025-02-20T21:22:07.825155Z",
     "iopub.status.busy": "2025-02-20T21:22:07.824999Z",
     "iopub.status.idle": "2025-02-20T21:22:07.828100Z",
     "shell.execute_reply": "2025-02-20T21:22:07.827842Z"
    }
   },
   "outputs": [],
   "source": [
    "IMPACT_IN = \"../templates/apex_gun/ImpactT.in\"\n",
    "DISTGEN_IN = \"../templates/apex_gun/distgen.yaml\"\n",
    "NUMPROCS = 0\n",
    "os.path.exists(IMPACT_IN)"
   ]
  },
  {
   "cell_type": "code",
   "execution_count": null,
   "metadata": {
    "execution": {
     "iopub.execute_input": "2025-02-20T21:22:07.848018Z",
     "iopub.status.busy": "2025-02-20T21:22:07.847903Z",
     "iopub.status.idle": "2025-02-20T21:22:08.105787Z",
     "shell.execute_reply": "2025-02-20T21:22:08.105532Z"
    }
   },
   "outputs": [],
   "source": [
    "G = Generator(DISTGEN_IN)\n",
    "G[\"n_particle\"] = 10000\n",
    "\n",
    "G.run()\n",
    "P0 = G.particles\n",
    "factor = 1.01\n",
    "P0.x *= factor\n",
    "P0.y *= 1 / factor\n",
    "P0.plot(\"x\", \"y\")"
   ]
  },
  {
   "cell_type": "code",
   "execution_count": null,
   "metadata": {
    "execution": {
     "iopub.execute_input": "2025-02-20T21:22:08.107508Z",
     "iopub.status.busy": "2025-02-20T21:22:08.107385Z",
     "iopub.status.idle": "2025-02-20T21:22:08.109511Z",
     "shell.execute_reply": "2025-02-20T21:22:08.109276Z"
    }
   },
   "outputs": [],
   "source": [
    "P0[\"charge\"]"
   ]
  },
  {
   "cell_type": "code",
   "execution_count": null,
   "metadata": {
    "execution": {
     "iopub.execute_input": "2025-02-20T21:22:08.110668Z",
     "iopub.status.busy": "2025-02-20T21:22:08.110567Z",
     "iopub.status.idle": "2025-02-20T21:22:08.114235Z",
     "shell.execute_reply": "2025-02-20T21:22:08.113972Z"
    }
   },
   "outputs": [],
   "source": [
    "# Make Impact object\n",
    "I = Impact(IMPACT_IN)"
   ]
  },
  {
   "cell_type": "code",
   "execution_count": null,
   "metadata": {
    "execution": {
     "iopub.execute_input": "2025-02-20T21:22:08.115394Z",
     "iopub.status.busy": "2025-02-20T21:22:08.115319Z",
     "iopub.status.idle": "2025-02-20T21:22:08.408891Z",
     "shell.execute_reply": "2025-02-20T21:22:08.408564Z"
    }
   },
   "outputs": [],
   "source": [
    "I.track1()\n",
    "I.plot(\"mean_kinetic_energy\")"
   ]
  },
  {
   "cell_type": "code",
   "execution_count": null,
   "metadata": {
    "execution": {
     "iopub.execute_input": "2025-02-20T21:22:08.410187Z",
     "iopub.status.busy": "2025-02-20T21:22:08.410075Z",
     "iopub.status.idle": "2025-02-20T21:22:08.412225Z",
     "shell.execute_reply": "2025-02-20T21:22:08.411975Z"
    }
   },
   "outputs": [],
   "source": [
    "I.initial_particles = P0\n",
    "\n",
    "# Change some things\n",
    "I.header[\"Nx\"] = 32\n",
    "I.header[\"Ny\"] = 32\n",
    "I.header[\"Nz\"] = 32\n",
    "I.header[\"Dt\"] = 1e-13\n",
    "\n",
    "# I.total_charge = P0['charge']\n",
    "I.total_charge = 0  # Turn off space charge\n",
    "\n",
    "# Other switches\n",
    "I.timeout = 1000\n",
    "\n",
    "# Change stop location\n",
    "I.stop = 0.15\n",
    "\n",
    "# Switches for MPI\n",
    "I.numprocs = NUMPROCS"
   ]
  },
  {
   "cell_type": "code",
   "execution_count": null,
   "metadata": {
    "execution": {
     "iopub.execute_input": "2025-02-20T21:22:08.413327Z",
     "iopub.status.busy": "2025-02-20T21:22:08.413230Z",
     "iopub.status.idle": "2025-02-20T21:23:09.910337Z",
     "shell.execute_reply": "2025-02-20T21:23:09.909985Z"
    }
   },
   "outputs": [],
   "source": [
    "%%time\n",
    "I.run()\n",
    "print(I)"
   ]
  },
  {
   "cell_type": "markdown",
   "metadata": {},
   "source": [
    "# Particles"
   ]
  },
  {
   "cell_type": "code",
   "execution_count": null,
   "metadata": {
    "execution": {
     "iopub.execute_input": "2025-02-20T21:23:09.911933Z",
     "iopub.status.busy": "2025-02-20T21:23:09.911785Z",
     "iopub.status.idle": "2025-02-20T21:23:09.914782Z",
     "shell.execute_reply": "2025-02-20T21:23:09.914550Z"
    }
   },
   "outputs": [],
   "source": [
    "# Particles are automatically parsed in to openpmd-beamphysics ParticleGroup objects\n",
    "I.output[\"particles\"]"
   ]
  },
  {
   "cell_type": "code",
   "execution_count": null,
   "metadata": {
    "execution": {
     "iopub.execute_input": "2025-02-20T21:23:09.915978Z",
     "iopub.status.busy": "2025-02-20T21:23:09.915883Z",
     "iopub.status.idle": "2025-02-20T21:23:09.918381Z",
     "shell.execute_reply": "2025-02-20T21:23:09.918116Z"
    }
   },
   "outputs": [],
   "source": [
    "# Get the final particles, calculate some statistic\n",
    "P = I.output[\"particles\"][\"final_particles\"]\n",
    "P[\"mean_energy\"]"
   ]
  },
  {
   "cell_type": "code",
   "execution_count": null,
   "metadata": {
    "execution": {
     "iopub.execute_input": "2025-02-20T21:23:09.919547Z",
     "iopub.status.busy": "2025-02-20T21:23:09.919435Z",
     "iopub.status.idle": "2025-02-20T21:23:09.921314Z",
     "shell.execute_reply": "2025-02-20T21:23:09.921076Z"
    }
   },
   "outputs": [],
   "source": [
    "# Show the units\n",
    "P.units(\"mean_energy\")"
   ]
  },
  {
   "cell_type": "code",
   "execution_count": null,
   "metadata": {
    "execution": {
     "iopub.execute_input": "2025-02-20T21:23:09.922379Z",
     "iopub.status.busy": "2025-02-20T21:23:09.922307Z",
     "iopub.status.idle": "2025-02-20T21:23:10.122473Z",
     "shell.execute_reply": "2025-02-20T21:23:10.122197Z"
    }
   },
   "outputs": [],
   "source": [
    "P.plot(\"z\", \"pz\")"
   ]
  },
  {
   "cell_type": "markdown",
   "metadata": {},
   "source": [
    "# Stats"
   ]
  },
  {
   "cell_type": "code",
   "execution_count": null,
   "metadata": {
    "execution": {
     "iopub.execute_input": "2025-02-20T21:23:10.123976Z",
     "iopub.status.busy": "2025-02-20T21:23:10.123871Z",
     "iopub.status.idle": "2025-02-20T21:23:10.126073Z",
     "shell.execute_reply": "2025-02-20T21:23:10.125800Z"
    }
   },
   "outputs": [],
   "source": [
    "# Impact's own calculated statistics can be retieved\n",
    "len(I.stat(\"norm_emit_x\")), I.stat(\"norm_emit_x\")[-1]"
   ]
  },
  {
   "cell_type": "code",
   "execution_count": null,
   "metadata": {
    "execution": {
     "iopub.execute_input": "2025-02-20T21:23:10.127291Z",
     "iopub.status.busy": "2025-02-20T21:23:10.127171Z",
     "iopub.status.idle": "2025-02-20T21:23:10.129674Z",
     "shell.execute_reply": "2025-02-20T21:23:10.129444Z"
    }
   },
   "outputs": [],
   "source": [
    "# Stats can also be computed from the particles. For example:\n",
    "I.particles[\"final_particles\"][\"norm_emit_x\"]"
   ]
  },
  {
   "cell_type": "code",
   "execution_count": null,
   "metadata": {
    "execution": {
     "iopub.execute_input": "2025-02-20T21:23:10.130829Z",
     "iopub.status.busy": "2025-02-20T21:23:10.130733Z",
     "iopub.status.idle": "2025-02-20T21:23:10.204634Z",
     "shell.execute_reply": "2025-02-20T21:23:10.204371Z"
    }
   },
   "outputs": [],
   "source": [
    "# Compare these.\n",
    "key1 = \"mean_z\"\n",
    "key2 = \"sigma_x\"\n",
    "units1 = str(I.units(key1))\n",
    "units2 = str(I.units(key2))\n",
    "plt.xlabel(key1 + f\" ({units1})\")\n",
    "plt.ylabel(key2 + f\" ({units2})\")\n",
    "plt.plot(I.stat(key1), I.stat(key2))\n",
    "plt.scatter(\n",
    "    [I.particles[name][key1] for name in I.particles],\n",
    "    [I.particles[name][key2] for name in I.particles],\n",
    "    color=\"red\",\n",
    ")"
   ]
  }
 ],
 "metadata": {
  "kernelspec": {
   "display_name": "Python 3 (ipykernel)",
   "language": "python",
   "name": "python3"
  },
  "language_info": {
   "codemirror_mode": {
    "name": "ipython",
    "version": 3
   },
   "file_extension": ".py",
   "mimetype": "text/x-python",
   "name": "python",
   "nbconvert_exporter": "python",
   "pygments_lexer": "ipython3",
   "version": "3.12.8"
  }
 },
 "nbformat": 4,
 "nbformat_minor": 4
}
