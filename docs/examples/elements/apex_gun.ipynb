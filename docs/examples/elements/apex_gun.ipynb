{
 "cells": [
  {
   "cell_type": "markdown",
   "metadata": {},
   "source": [
    "# APEX Gun, IMPACT-T"
   ]
  },
  {
   "cell_type": "code",
   "execution_count": null,
   "metadata": {
    "execution": {
     "iopub.execute_input": "2024-10-18T19:51:29.594780Z",
     "iopub.status.busy": "2024-10-18T19:51:29.594434Z",
     "iopub.status.idle": "2024-10-18T19:51:30.542251Z",
     "shell.execute_reply": "2024-10-18T19:51:30.541923Z"
    }
   },
   "outputs": [],
   "source": [
    "from impact import Impact\n",
    "from distgen import Generator\n",
    "\n",
    "import os\n",
    "\n",
    "# Nicer plotting\n",
    "import matplotlib.pyplot as plt\n",
    "import matplotlib\n",
    "\n",
    "%config InlineBackend.figure_format = 'retina'\n",
    "matplotlib.rcParams[\"figure.figsize\"] = (8, 4)"
   ]
  },
  {
   "cell_type": "code",
   "execution_count": null,
   "metadata": {
    "execution": {
     "iopub.execute_input": "2024-10-18T19:51:30.543938Z",
     "iopub.status.busy": "2024-10-18T19:51:30.543793Z",
     "iopub.status.idle": "2024-10-18T19:51:30.546820Z",
     "shell.execute_reply": "2024-10-18T19:51:30.546608Z"
    }
   },
   "outputs": [],
   "source": [
    "IMPACT_IN = \"../templates/apex_gun/ImpactT.in\"\n",
    "DISTGEN_IN = \"../templates/apex_gun/distgen.yaml\"\n",
    "NUMPROCS = 0\n",
    "os.path.exists(IMPACT_IN)"
   ]
  },
  {
   "cell_type": "code",
   "execution_count": null,
   "metadata": {
    "execution": {
     "iopub.execute_input": "2024-10-18T19:51:30.568250Z",
     "iopub.status.busy": "2024-10-18T19:51:30.568106Z",
     "iopub.status.idle": "2024-10-18T19:51:30.844601Z",
     "shell.execute_reply": "2024-10-18T19:51:30.844360Z"
    }
   },
   "outputs": [],
   "source": [
    "G = Generator(DISTGEN_IN)\n",
    "G[\"n_particle\"] = 10000\n",
    "\n",
    "G.run()\n",
    "P0 = G.particles\n",
    "factor = 1.01\n",
    "P0.x *= factor\n",
    "P0.y *= 1 / factor\n",
    "P0.plot(\"x\", \"y\")"
   ]
  },
  {
   "cell_type": "code",
   "execution_count": null,
   "metadata": {
    "execution": {
     "iopub.execute_input": "2024-10-18T19:51:30.846631Z",
     "iopub.status.busy": "2024-10-18T19:51:30.846500Z",
     "iopub.status.idle": "2024-10-18T19:51:30.848708Z",
     "shell.execute_reply": "2024-10-18T19:51:30.848472Z"
    }
   },
   "outputs": [],
   "source": [
    "P0[\"charge\"]"
   ]
  },
  {
   "cell_type": "code",
   "execution_count": null,
   "metadata": {
    "execution": {
     "iopub.execute_input": "2024-10-18T19:51:30.850163Z",
     "iopub.status.busy": "2024-10-18T19:51:30.850051Z",
     "iopub.status.idle": "2024-10-18T19:51:30.852615Z",
     "shell.execute_reply": "2024-10-18T19:51:30.852388Z"
    }
   },
   "outputs": [],
   "source": [
    "# Make Impact object\n",
    "I = Impact(IMPACT_IN)"
   ]
  },
  {
   "cell_type": "code",
   "execution_count": null,
   "metadata": {
    "execution": {
     "iopub.execute_input": "2024-10-18T19:51:30.853954Z",
     "iopub.status.busy": "2024-10-18T19:51:30.853853Z",
     "iopub.status.idle": "2024-10-18T19:51:31.183725Z",
     "shell.execute_reply": "2024-10-18T19:51:31.183464Z"
    }
   },
   "outputs": [],
   "source": [
    "I.track1()\n",
    "I.plot(\"mean_kinetic_energy\")"
   ]
  },
  {
   "cell_type": "code",
   "execution_count": null,
   "metadata": {
    "execution": {
     "iopub.execute_input": "2024-10-18T19:51:31.185312Z",
     "iopub.status.busy": "2024-10-18T19:51:31.185199Z",
     "iopub.status.idle": "2024-10-18T19:51:31.187200Z",
     "shell.execute_reply": "2024-10-18T19:51:31.186997Z"
    }
   },
   "outputs": [],
   "source": [
    "I.initial_particles = P0\n",
    "\n",
    "# Change some things\n",
    "I.header[\"Nx\"] = 32\n",
    "I.header[\"Ny\"] = 32\n",
    "I.header[\"Nz\"] = 32\n",
    "I.header[\"Dt\"] = 1e-13\n",
    "\n",
    "# I.total_charge = P0['charge']\n",
    "I.total_charge = 0  # Turn off space charge\n",
    "\n",
    "# Other switches\n",
    "I.timeout = 1000\n",
    "\n",
    "# Change stop location\n",
    "I.stop = 0.15\n",
    "\n",
    "# Switches for MPI\n",
    "I.numprocs = NUMPROCS"
   ]
  },
  {
   "cell_type": "code",
   "execution_count": null,
   "metadata": {
    "execution": {
     "iopub.execute_input": "2024-10-18T19:51:31.188411Z",
     "iopub.status.busy": "2024-10-18T19:51:31.188324Z",
     "iopub.status.idle": "2024-10-18T19:51:45.532723Z",
     "shell.execute_reply": "2024-10-18T19:51:45.532329Z"
    }
   },
   "outputs": [],
   "source": [
    "%%time\n",
    "I.run()\n",
    "print(I)"
   ]
  },
  {
   "cell_type": "markdown",
   "metadata": {},
   "source": [
    "# Particles"
   ]
  },
  {
   "cell_type": "code",
   "execution_count": null,
   "metadata": {
    "execution": {
     "iopub.execute_input": "2024-10-18T19:51:45.534531Z",
     "iopub.status.busy": "2024-10-18T19:51:45.534397Z",
     "iopub.status.idle": "2024-10-18T19:51:45.536584Z",
     "shell.execute_reply": "2024-10-18T19:51:45.536369Z"
    }
   },
   "outputs": [],
   "source": [
    "# Particles are automatically parsed in to openpmd-beamphysics ParticleGroup objects\n",
    "I.output[\"particles\"]"
   ]
  },
  {
   "cell_type": "code",
   "execution_count": null,
   "metadata": {
    "execution": {
     "iopub.execute_input": "2024-10-18T19:51:45.537876Z",
     "iopub.status.busy": "2024-10-18T19:51:45.537780Z",
     "iopub.status.idle": "2024-10-18T19:51:45.539994Z",
     "shell.execute_reply": "2024-10-18T19:51:45.539780Z"
    }
   },
   "outputs": [],
   "source": [
    "# Get the final particles, calculate some statistic\n",
    "P = I.output[\"particles\"][\"final_particles\"]\n",
    "P[\"mean_energy\"]"
   ]
  },
  {
   "cell_type": "code",
   "execution_count": null,
   "metadata": {
    "execution": {
     "iopub.execute_input": "2024-10-18T19:51:45.541355Z",
     "iopub.status.busy": "2024-10-18T19:51:45.541256Z",
     "iopub.status.idle": "2024-10-18T19:51:45.543369Z",
     "shell.execute_reply": "2024-10-18T19:51:45.543109Z"
    }
   },
   "outputs": [],
   "source": [
    "# Show the units\n",
    "P.units(\"mean_energy\")"
   ]
  },
  {
   "cell_type": "code",
   "execution_count": null,
   "metadata": {
    "execution": {
     "iopub.execute_input": "2024-10-18T19:51:45.544636Z",
     "iopub.status.busy": "2024-10-18T19:51:45.544536Z",
     "iopub.status.idle": "2024-10-18T19:51:45.718492Z",
     "shell.execute_reply": "2024-10-18T19:51:45.718202Z"
    }
   },
   "outputs": [],
   "source": [
    "P.plot(\"z\", \"pz\")"
   ]
  },
  {
   "cell_type": "markdown",
   "metadata": {},
   "source": [
    "# Stats"
   ]
  },
  {
   "cell_type": "code",
   "execution_count": null,
   "metadata": {
    "execution": {
     "iopub.execute_input": "2024-10-18T19:51:45.719974Z",
     "iopub.status.busy": "2024-10-18T19:51:45.719868Z",
     "iopub.status.idle": "2024-10-18T19:51:45.722016Z",
     "shell.execute_reply": "2024-10-18T19:51:45.721787Z"
    }
   },
   "outputs": [],
   "source": [
    "# Impact's own calculated statistics can be retieved\n",
    "len(I.stat(\"norm_emit_x\")), I.stat(\"norm_emit_x\")[-1]"
   ]
  },
  {
   "cell_type": "code",
   "execution_count": null,
   "metadata": {
    "execution": {
     "iopub.execute_input": "2024-10-18T19:51:45.723277Z",
     "iopub.status.busy": "2024-10-18T19:51:45.723178Z",
     "iopub.status.idle": "2024-10-18T19:51:45.725295Z",
     "shell.execute_reply": "2024-10-18T19:51:45.725079Z"
    }
   },
   "outputs": [],
   "source": [
    "# Stats can also be computed from the particles. For example:\n",
    "I.particles[\"final_particles\"][\"norm_emit_x\"]"
   ]
  },
  {
   "cell_type": "code",
   "execution_count": null,
   "metadata": {
    "execution": {
     "iopub.execute_input": "2024-10-18T19:51:45.726587Z",
     "iopub.status.busy": "2024-10-18T19:51:45.726499Z",
     "iopub.status.idle": "2024-10-18T19:51:45.801081Z",
     "shell.execute_reply": "2024-10-18T19:51:45.800819Z"
    }
   },
   "outputs": [],
   "source": [
    "# Compare these.\n",
    "key1 = \"mean_z\"\n",
    "key2 = \"sigma_x\"\n",
    "units1 = str(I.units(key1))\n",
    "units2 = str(I.units(key2))\n",
    "plt.xlabel(key1 + f\" ({units1})\")\n",
    "plt.ylabel(key2 + f\" ({units2})\")\n",
    "plt.plot(I.stat(key1), I.stat(key2))\n",
    "plt.scatter(\n",
    "    [I.particles[name][key1] for name in I.particles],\n",
    "    [I.particles[name][key2] for name in I.particles],\n",
    "    color=\"red\",\n",
    ")"
   ]
  }
 ],
 "metadata": {
  "kernelspec": {
   "display_name": "Python 3 (ipykernel)",
   "language": "python",
   "name": "python3"
  },
  "language_info": {
   "codemirror_mode": {
    "name": "ipython",
    "version": 3
   },
   "file_extension": ".py",
   "mimetype": "text/x-python",
   "name": "python",
   "nbconvert_exporter": "python",
   "pygments_lexer": "ipython3",
   "version": "3.12.6"
  }
 },
 "nbformat": 4,
 "nbformat_minor": 4
}
