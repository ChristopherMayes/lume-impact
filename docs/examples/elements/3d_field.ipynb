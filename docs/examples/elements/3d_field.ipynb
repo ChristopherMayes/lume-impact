{
 "cells": [
  {
   "cell_type": "markdown",
   "id": "7202dbdd",
   "metadata": {},
   "source": [
    "## Cartesian 3D Field Example"
   ]
  },
  {
   "cell_type": "code",
   "execution_count": null,
   "id": "a7c36d41",
   "metadata": {
    "execution": {
     "iopub.execute_input": "2025-02-12T18:03:06.149293Z",
     "iopub.status.busy": "2025-02-12T18:03:06.148684Z",
     "iopub.status.idle": "2025-02-12T18:03:07.343069Z",
     "shell.execute_reply": "2025-02-12T18:03:07.342777Z"
    }
   },
   "outputs": [],
   "source": [
    "from impact import Impact\n",
    "\n",
    "# plotting modules\n",
    "from impact.plotting import layout_plot\n",
    "from bokeh.plotting import output_notebook\n",
    "from bokeh.plotting import show\n",
    "\n",
    "output_notebook(hide_banner=True)"
   ]
  },
  {
   "cell_type": "code",
   "execution_count": null,
   "id": "b4fa8aaa",
   "metadata": {
    "execution": {
     "iopub.execute_input": "2025-02-12T18:03:07.344536Z",
     "iopub.status.busy": "2025-02-12T18:03:07.344350Z",
     "iopub.status.idle": "2025-02-12T18:03:07.585097Z",
     "shell.execute_reply": "2025-02-12T18:03:07.584712Z"
    }
   },
   "outputs": [],
   "source": [
    "# Make Impact object\n",
    "ifile = \"../templates/3dfield/ImpactT.in\"\n",
    "I = Impact(ifile)\n",
    "# I.numprocs = 0\n",
    "I.header[\"Bcurr\"] = 0  # turn off space charge for speed"
   ]
  },
  {
   "cell_type": "code",
   "execution_count": null,
   "id": "09266355",
   "metadata": {
    "execution": {
     "iopub.execute_input": "2025-02-12T18:03:07.586531Z",
     "iopub.status.busy": "2025-02-12T18:03:07.586431Z",
     "iopub.status.idle": "2025-02-12T18:03:07.588285Z",
     "shell.execute_reply": "2025-02-12T18:03:07.588069Z"
    }
   },
   "outputs": [],
   "source": [
    "# Show a MAD-style printout of each element in the lattice\n",
    "I.print_lattice()"
   ]
  },
  {
   "cell_type": "code",
   "execution_count": null,
   "id": "d3d84f4d",
   "metadata": {
    "execution": {
     "iopub.execute_input": "2025-02-12T18:03:07.589237Z",
     "iopub.status.busy": "2025-02-12T18:03:07.589153Z",
     "iopub.status.idle": "2025-02-12T18:03:07.864279Z",
     "shell.execute_reply": "2025-02-12T18:03:07.864006Z"
    }
   },
   "outputs": [],
   "source": [
    "# Note that emfield_cartesian plotting is not yet implemented!\n",
    "I.plot(figsize=(9, 6))"
   ]
  },
  {
   "cell_type": "code",
   "execution_count": null,
   "id": "377460cf-da80-4052-b955-75a56176ecb1",
   "metadata": {
    "execution": {
     "iopub.execute_input": "2025-02-12T18:03:07.865557Z",
     "iopub.status.busy": "2025-02-12T18:03:07.865437Z",
     "iopub.status.idle": "2025-02-12T18:03:07.946375Z",
     "shell.execute_reply": "2025-02-12T18:03:07.946078Z"
    }
   },
   "outputs": [],
   "source": [
    "# Plot the gun field directly\n",
    "FM = I.fieldmaps[\"1T1.T7\"][\"field\"]\n",
    "\n",
    "FM.plot_onaxis(\"Ez\")"
   ]
  },
  {
   "cell_type": "code",
   "execution_count": null,
   "id": "d4c27e21",
   "metadata": {
    "execution": {
     "iopub.execute_input": "2025-02-12T18:03:07.947709Z",
     "iopub.status.busy": "2025-02-12T18:03:07.947593Z",
     "iopub.status.idle": "2025-02-12T18:03:08.152835Z",
     "shell.execute_reply": "2025-02-12T18:03:08.152568Z"
    }
   },
   "outputs": [],
   "source": [
    "layout = layout_plot(I.input[\"lattice\"], height=300, width=600)\n",
    "show(layout)"
   ]
  },
  {
   "cell_type": "code",
   "execution_count": null,
   "id": "8af42d22",
   "metadata": {
    "execution": {
     "iopub.execute_input": "2025-02-12T18:03:08.154232Z",
     "iopub.status.busy": "2025-02-12T18:03:08.154053Z",
     "iopub.status.idle": "2025-02-12T18:03:40.086812Z",
     "shell.execute_reply": "2025-02-12T18:03:40.086434Z"
    }
   },
   "outputs": [],
   "source": [
    "%%time\n",
    "I.run()"
   ]
  },
  {
   "cell_type": "code",
   "execution_count": null,
   "id": "895a37b9",
   "metadata": {
    "execution": {
     "iopub.execute_input": "2025-02-12T18:03:40.088288Z",
     "iopub.status.busy": "2025-02-12T18:03:40.088146Z",
     "iopub.status.idle": "2025-02-12T18:03:40.322224Z",
     "shell.execute_reply": "2025-02-12T18:03:40.321905Z"
    }
   },
   "outputs": [],
   "source": [
    "I.plot(figsize=(9, 6))"
   ]
  },
  {
   "cell_type": "code",
   "execution_count": null,
   "id": "6d7d2a11",
   "metadata": {
    "execution": {
     "iopub.execute_input": "2025-02-12T18:03:40.323543Z",
     "iopub.status.busy": "2025-02-12T18:03:40.323422Z",
     "iopub.status.idle": "2025-02-12T18:03:40.558261Z",
     "shell.execute_reply": "2025-02-12T18:03:40.557985Z"
    }
   },
   "outputs": [],
   "source": [
    "I.plot(\"norm_emit_x\", y2=\"mean_kinetic_energy\", figsize=(9, 6))"
   ]
  },
  {
   "cell_type": "code",
   "execution_count": null,
   "id": "eda51297-b547-4a67-8c50-1b51f4b8174e",
   "metadata": {
    "execution": {
     "iopub.execute_input": "2025-02-12T18:03:40.559697Z",
     "iopub.status.busy": "2025-02-12T18:03:40.559584Z",
     "iopub.status.idle": "2025-02-12T18:03:40.742009Z",
     "shell.execute_reply": "2025-02-12T18:03:40.741750Z"
    }
   },
   "outputs": [],
   "source": [
    "I.particles[\"final_particles\"].plot(\"z\", \"x\")"
   ]
  },
  {
   "cell_type": "code",
   "execution_count": null,
   "id": "d4e8509c",
   "metadata": {
    "execution": {
     "iopub.execute_input": "2025-02-12T18:03:40.743354Z",
     "iopub.status.busy": "2025-02-12T18:03:40.743247Z",
     "iopub.status.idle": "2025-02-12T18:03:40.893550Z",
     "shell.execute_reply": "2025-02-12T18:03:40.893268Z"
    }
   },
   "outputs": [],
   "source": [
    "I.particles[\"final_particles\"].plot(\"z\", \"pz\")"
   ]
  }
 ],
 "metadata": {
  "kernelspec": {
   "display_name": "Python 3 (ipykernel)",
   "language": "python",
   "name": "python3"
  },
  "language_info": {
   "codemirror_mode": {
    "name": "ipython",
    "version": 3
   },
   "file_extension": ".py",
   "mimetype": "text/x-python",
   "name": "python",
   "nbconvert_exporter": "python",
   "pygments_lexer": "ipython3",
   "version": "3.12.8"
  }
 },
 "nbformat": 4,
 "nbformat_minor": 5
}
