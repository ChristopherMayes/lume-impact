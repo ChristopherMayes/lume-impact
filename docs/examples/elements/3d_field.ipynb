{
 "cells": [
  {
   "cell_type": "markdown",
   "id": "7202dbdd",
   "metadata": {},
   "source": [
    "## Cartesian 3D Field Example"
   ]
  },
  {
   "cell_type": "code",
   "execution_count": null,
   "id": "a7c36d41",
   "metadata": {
    "execution": {
     "iopub.execute_input": "2025-02-20T21:21:30.066213Z",
     "iopub.status.busy": "2025-02-20T21:21:30.065866Z",
     "iopub.status.idle": "2025-02-20T21:21:31.304598Z",
     "shell.execute_reply": "2025-02-20T21:21:31.304319Z"
    }
   },
   "outputs": [],
   "source": [
    "from impact import Impact\n",
    "\n",
    "# plotting modules\n",
    "from impact.plotting import layout_plot\n",
    "from bokeh.plotting import output_notebook\n",
    "from bokeh.plotting import show\n",
    "\n",
    "output_notebook(hide_banner=True)"
   ]
  },
  {
   "cell_type": "code",
   "execution_count": null,
   "id": "b4fa8aaa",
   "metadata": {
    "execution": {
     "iopub.execute_input": "2025-02-20T21:21:31.305967Z",
     "iopub.status.busy": "2025-02-20T21:21:31.305793Z",
     "iopub.status.idle": "2025-02-20T21:21:31.507556Z",
     "shell.execute_reply": "2025-02-20T21:21:31.507095Z"
    }
   },
   "outputs": [],
   "source": [
    "# Make Impact object\n",
    "ifile = \"../templates/3dfield/ImpactT.in\"\n",
    "I = Impact(ifile)\n",
    "# I.numprocs = 0\n",
    "I.header[\"Bcurr\"] = 0  # turn off space charge for speed"
   ]
  },
  {
   "cell_type": "code",
   "execution_count": null,
   "id": "09266355",
   "metadata": {
    "execution": {
     "iopub.execute_input": "2025-02-20T21:21:31.509045Z",
     "iopub.status.busy": "2025-02-20T21:21:31.508954Z",
     "iopub.status.idle": "2025-02-20T21:21:31.510999Z",
     "shell.execute_reply": "2025-02-20T21:21:31.510769Z"
    }
   },
   "outputs": [],
   "source": [
    "# Show a MAD-style printout of each element in the lattice\n",
    "I.print_lattice()"
   ]
  },
  {
   "cell_type": "code",
   "execution_count": null,
   "id": "d3d84f4d",
   "metadata": {
    "execution": {
     "iopub.execute_input": "2025-02-20T21:21:31.512085Z",
     "iopub.status.busy": "2025-02-20T21:21:31.512014Z",
     "iopub.status.idle": "2025-02-20T21:21:31.781374Z",
     "shell.execute_reply": "2025-02-20T21:21:31.781051Z"
    }
   },
   "outputs": [],
   "source": [
    "# Note that emfield_cartesian plotting is not yet implemented!\n",
    "I.plot(figsize=(9, 6))"
   ]
  },
  {
   "cell_type": "code",
   "execution_count": null,
   "id": "377460cf-da80-4052-b955-75a56176ecb1",
   "metadata": {
    "execution": {
     "iopub.execute_input": "2025-02-20T21:21:31.782603Z",
     "iopub.status.busy": "2025-02-20T21:21:31.782494Z",
     "iopub.status.idle": "2025-02-20T21:21:31.909237Z",
     "shell.execute_reply": "2025-02-20T21:21:31.908949Z"
    }
   },
   "outputs": [],
   "source": [
    "# Plot the gun field directly\n",
    "FM = I.fieldmaps[\"1T1.T7\"][\"field\"]\n",
    "\n",
    "FM.plot_onaxis(\"Ez\")"
   ]
  },
  {
   "cell_type": "code",
   "execution_count": null,
   "id": "d4c27e21",
   "metadata": {
    "execution": {
     "iopub.execute_input": "2025-02-20T21:21:31.910557Z",
     "iopub.status.busy": "2025-02-20T21:21:31.910448Z",
     "iopub.status.idle": "2025-02-20T21:21:32.073409Z",
     "shell.execute_reply": "2025-02-20T21:21:32.073155Z"
    }
   },
   "outputs": [],
   "source": [
    "layout = layout_plot(I.input[\"lattice\"], height=300, width=600)\n",
    "show(layout)"
   ]
  },
  {
   "cell_type": "code",
   "execution_count": null,
   "id": "8af42d22",
   "metadata": {
    "execution": {
     "iopub.execute_input": "2025-02-20T21:21:32.074724Z",
     "iopub.status.busy": "2025-02-20T21:21:32.074564Z",
     "iopub.status.idle": "2025-02-20T21:22:03.883878Z",
     "shell.execute_reply": "2025-02-20T21:22:03.883500Z"
    }
   },
   "outputs": [],
   "source": [
    "%%time\n",
    "I.run()"
   ]
  },
  {
   "cell_type": "code",
   "execution_count": null,
   "id": "895a37b9",
   "metadata": {
    "execution": {
     "iopub.execute_input": "2025-02-20T21:22:03.885462Z",
     "iopub.status.busy": "2025-02-20T21:22:03.885329Z",
     "iopub.status.idle": "2025-02-20T21:22:04.113076Z",
     "shell.execute_reply": "2025-02-20T21:22:04.112787Z"
    }
   },
   "outputs": [],
   "source": [
    "I.plot(figsize=(9, 6))"
   ]
  },
  {
   "cell_type": "code",
   "execution_count": null,
   "id": "6d7d2a11",
   "metadata": {
    "execution": {
     "iopub.execute_input": "2025-02-20T21:22:04.114410Z",
     "iopub.status.busy": "2025-02-20T21:22:04.114300Z",
     "iopub.status.idle": "2025-02-20T21:22:04.351579Z",
     "shell.execute_reply": "2025-02-20T21:22:04.351262Z"
    }
   },
   "outputs": [],
   "source": [
    "I.plot(\"norm_emit_x\", y2=\"mean_kinetic_energy\", figsize=(9, 6))"
   ]
  },
  {
   "cell_type": "code",
   "execution_count": null,
   "id": "eda51297-b547-4a67-8c50-1b51f4b8174e",
   "metadata": {
    "execution": {
     "iopub.execute_input": "2025-02-20T21:22:04.352965Z",
     "iopub.status.busy": "2025-02-20T21:22:04.352849Z",
     "iopub.status.idle": "2025-02-20T21:22:04.535520Z",
     "shell.execute_reply": "2025-02-20T21:22:04.535231Z"
    }
   },
   "outputs": [],
   "source": [
    "I.particles[\"final_particles\"].plot(\"z\", \"x\")"
   ]
  },
  {
   "cell_type": "code",
   "execution_count": null,
   "id": "d4e8509c",
   "metadata": {
    "execution": {
     "iopub.execute_input": "2025-02-20T21:22:04.536826Z",
     "iopub.status.busy": "2025-02-20T21:22:04.536718Z",
     "iopub.status.idle": "2025-02-20T21:22:04.753111Z",
     "shell.execute_reply": "2025-02-20T21:22:04.752831Z"
    }
   },
   "outputs": [],
   "source": [
    "I.particles[\"final_particles\"].plot(\"z\", \"pz\")"
   ]
  }
 ],
 "metadata": {
  "kernelspec": {
   "display_name": "Python 3 (ipykernel)",
   "language": "python",
   "name": "python3"
  },
  "language_info": {
   "codemirror_mode": {
    "name": "ipython",
    "version": 3
   },
   "file_extension": ".py",
   "mimetype": "text/x-python",
   "name": "python",
   "nbconvert_exporter": "python",
   "pygments_lexer": "ipython3",
   "version": "3.12.8"
  }
 },
 "nbformat": 4,
 "nbformat_minor": 5
}
