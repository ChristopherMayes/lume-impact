{
 "cells": [
  {
   "cell_type": "markdown",
   "id": "7202dbdd",
   "metadata": {},
   "source": [
    "## Cartesian 3D Field Example"
   ]
  },
  {
   "cell_type": "code",
   "execution_count": null,
   "id": "a7c36d41",
   "metadata": {
    "execution": {
     "iopub.execute_input": "2024-10-18T19:50:44.714622Z",
     "iopub.status.busy": "2024-10-18T19:50:44.714053Z",
     "iopub.status.idle": "2024-10-18T19:50:45.923952Z",
     "shell.execute_reply": "2024-10-18T19:50:45.923681Z"
    }
   },
   "outputs": [],
   "source": [
    "from impact import Impact\n",
    "\n",
    "# plotting modules\n",
    "from impact.plotting import layout_plot\n",
    "from bokeh.plotting import output_notebook\n",
    "from bokeh.plotting import show\n",
    "\n",
    "output_notebook(hide_banner=True)"
   ]
  },
  {
   "cell_type": "code",
   "execution_count": null,
   "id": "b4fa8aaa",
   "metadata": {
    "execution": {
     "iopub.execute_input": "2024-10-18T19:50:45.925508Z",
     "iopub.status.busy": "2024-10-18T19:50:45.925291Z",
     "iopub.status.idle": "2024-10-18T19:50:46.130714Z",
     "shell.execute_reply": "2024-10-18T19:50:46.130396Z"
    }
   },
   "outputs": [],
   "source": [
    "# Make Impact object\n",
    "ifile = \"../templates/3dfield/ImpactT.in\"\n",
    "I = Impact(ifile)\n",
    "# I.numprocs = 0\n",
    "I.header[\"Bcurr\"] = 0  # turn off space charge for speed"
   ]
  },
  {
   "cell_type": "code",
   "execution_count": null,
   "id": "09266355",
   "metadata": {
    "execution": {
     "iopub.execute_input": "2024-10-18T19:50:46.132209Z",
     "iopub.status.busy": "2024-10-18T19:50:46.132116Z",
     "iopub.status.idle": "2024-10-18T19:50:46.134034Z",
     "shell.execute_reply": "2024-10-18T19:50:46.133811Z"
    }
   },
   "outputs": [],
   "source": [
    "# Show a MAD-style printout of each element in the lattice\n",
    "I.print_lattice()"
   ]
  },
  {
   "cell_type": "code",
   "execution_count": null,
   "id": "d3d84f4d",
   "metadata": {
    "execution": {
     "iopub.execute_input": "2024-10-18T19:50:46.135288Z",
     "iopub.status.busy": "2024-10-18T19:50:46.135205Z",
     "iopub.status.idle": "2024-10-18T19:50:46.451080Z",
     "shell.execute_reply": "2024-10-18T19:50:46.450791Z"
    }
   },
   "outputs": [],
   "source": [
    "# Note that emfield_cartesian plotting is not yet implemented!\n",
    "I.plot(figsize=(9, 6))"
   ]
  },
  {
   "cell_type": "code",
   "execution_count": null,
   "id": "377460cf-da80-4052-b955-75a56176ecb1",
   "metadata": {
    "execution": {
     "iopub.execute_input": "2024-10-18T19:50:46.452453Z",
     "iopub.status.busy": "2024-10-18T19:50:46.452363Z",
     "iopub.status.idle": "2024-10-18T19:50:46.536098Z",
     "shell.execute_reply": "2024-10-18T19:50:46.535833Z"
    }
   },
   "outputs": [],
   "source": [
    "# Plot the gun field directly\n",
    "FM = I.fieldmaps[\"1T1.T7\"][\"field\"]\n",
    "\n",
    "FM.plot_onaxis(\"Ez\")"
   ]
  },
  {
   "cell_type": "code",
   "execution_count": null,
   "id": "d4c27e21",
   "metadata": {
    "execution": {
     "iopub.execute_input": "2024-10-18T19:50:46.537569Z",
     "iopub.status.busy": "2024-10-18T19:50:46.537458Z",
     "iopub.status.idle": "2024-10-18T19:50:46.747913Z",
     "shell.execute_reply": "2024-10-18T19:50:46.747686Z"
    }
   },
   "outputs": [],
   "source": [
    "layout = layout_plot(I.input[\"lattice\"], height=300, width=600)\n",
    "show(layout)"
   ]
  },
  {
   "cell_type": "code",
   "execution_count": null,
   "id": "8af42d22",
   "metadata": {
    "execution": {
     "iopub.execute_input": "2024-10-18T19:50:46.749353Z",
     "iopub.status.busy": "2024-10-18T19:50:46.749211Z",
     "iopub.status.idle": "2024-10-18T19:51:19.410735Z",
     "shell.execute_reply": "2024-10-18T19:51:19.410410Z"
    }
   },
   "outputs": [],
   "source": [
    "%%time\n",
    "I.run()"
   ]
  },
  {
   "cell_type": "code",
   "execution_count": null,
   "id": "895a37b9",
   "metadata": {
    "execution": {
     "iopub.execute_input": "2024-10-18T19:51:19.412479Z",
     "iopub.status.busy": "2024-10-18T19:51:19.412334Z",
     "iopub.status.idle": "2024-10-18T19:51:19.658485Z",
     "shell.execute_reply": "2024-10-18T19:51:19.658183Z"
    }
   },
   "outputs": [],
   "source": [
    "I.plot(figsize=(9, 6))"
   ]
  },
  {
   "cell_type": "code",
   "execution_count": null,
   "id": "6d7d2a11",
   "metadata": {
    "execution": {
     "iopub.execute_input": "2024-10-18T19:51:19.659914Z",
     "iopub.status.busy": "2024-10-18T19:51:19.659800Z",
     "iopub.status.idle": "2024-10-18T19:51:19.912901Z",
     "shell.execute_reply": "2024-10-18T19:51:19.912646Z"
    }
   },
   "outputs": [],
   "source": [
    "I.plot(\"norm_emit_x\", y2=\"mean_kinetic_energy\", figsize=(9, 6))"
   ]
  },
  {
   "cell_type": "code",
   "execution_count": null,
   "id": "eda51297-b547-4a67-8c50-1b51f4b8174e",
   "metadata": {
    "execution": {
     "iopub.execute_input": "2024-10-18T19:51:19.914444Z",
     "iopub.status.busy": "2024-10-18T19:51:19.914309Z",
     "iopub.status.idle": "2024-10-18T19:51:20.171810Z",
     "shell.execute_reply": "2024-10-18T19:51:20.171550Z"
    }
   },
   "outputs": [],
   "source": [
    "I.particles[\"final_particles\"].plot(\"z\", \"x\")"
   ]
  },
  {
   "cell_type": "code",
   "execution_count": null,
   "id": "d4e8509c",
   "metadata": {
    "execution": {
     "iopub.execute_input": "2024-10-18T19:51:20.173325Z",
     "iopub.status.busy": "2024-10-18T19:51:20.173211Z",
     "iopub.status.idle": "2024-10-18T19:51:20.342885Z",
     "shell.execute_reply": "2024-10-18T19:51:20.342644Z"
    }
   },
   "outputs": [],
   "source": [
    "I.particles[\"final_particles\"].plot(\"z\", \"pz\")"
   ]
  }
 ],
 "metadata": {
  "kernelspec": {
   "display_name": "Python 3 (ipykernel)",
   "language": "python",
   "name": "python3"
  },
  "language_info": {
   "codemirror_mode": {
    "name": "ipython",
    "version": 3
   },
   "file_extension": ".py",
   "mimetype": "text/x-python",
   "name": "python",
   "nbconvert_exporter": "python",
   "pygments_lexer": "ipython3",
   "version": "3.12.6"
  }
 },
 "nbformat": 4,
 "nbformat_minor": 5
}
