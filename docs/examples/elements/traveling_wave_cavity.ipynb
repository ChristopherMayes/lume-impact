{
 "cells": [
  {
   "cell_type": "markdown",
   "metadata": {},
   "source": [
    "# Traveling Wave Cavity\n",
    "\n",
    "A traveling wave needs to be described by four fieldmaps:\n",
    "entrance\n",
    "two body \n",
    "exit\n",
    "\n",
    "\n",
    "\n",
    "http://accelconf.web.cern.ch/accelconf/p79/PDF/PAC1979_3701.PDF\n",
    "\n",
    "```\n",
    "0.052464 0 0 105 1.42 25500000.0 2856000000.0 119.0 4 0.15 0.0 0.0 0.0 0.0 0.0 0.0 /!name:entrance\n",
    "2.937928 0 0 105 1.472464 29430178.7820912 2856000000.0 149.0 5 0.15 0.0 0.0 0.0 0.0 0.0 0.0 /!name:body_1\n",
    "2.937928 0 0 105 1.472464 29430178.7820912 2856000000.0 209.0 6 0.15 0.0 0.0 0.0 0.0 0.0 0.0 /!name:body_2\n",
    "0.05246 0 0 105 4.410392 25500000.0 2856000000.0 119.0 7 0.15 0.0 0.0 0.0 0.0 0.0 0.0 /!name:exit\n",
    "```\n",
    "\n",
    "\n",
    "The following 4 lines define a 3-cell s-band traveling wave structure\n",
    "using the supperposition of two standing wave strutures.\n",
    "G. A. Loew et al., SLAC-PUB-2295, 1979.\n",
    "\n",
    "- the phase of line 2 is the phase of line 1 + 30 degrees;\n",
    "- the phase of line 3 is the phase of line 1 + 90 degrees.\n",
    "- the phase of line 4 is the same as the line 1;\n",
    "- the field scale of line 2 is the scale of the line 1/sin(beta d) \n",
    "- the field scale of line 3 is the scale of the line 1/sin(beta d) \n",
    "- the scale of line 4 is the same as the line 1;\n",
    "\n"
   ]
  },
  {
   "cell_type": "code",
   "execution_count": null,
   "metadata": {
    "execution": {
     "iopub.execute_input": "2025-02-12T18:06:32.057069Z",
     "iopub.status.busy": "2025-02-12T18:06:32.056639Z",
     "iopub.status.idle": "2025-02-12T18:06:32.322625Z",
     "shell.execute_reply": "2025-02-12T18:06:32.322265Z"
    }
   },
   "outputs": [],
   "source": [
    "# Useful for debugging\n",
    "%load_ext autoreload\n",
    "%autoreload 2\n",
    "\n",
    "import numpy as np\n",
    "import os\n",
    "\n",
    "import matplotlib.pyplot as plt\n",
    "\n",
    "%matplotlib inline"
   ]
  },
  {
   "cell_type": "code",
   "execution_count": null,
   "metadata": {
    "execution": {
     "iopub.execute_input": "2025-02-12T18:06:32.324163Z",
     "iopub.status.busy": "2025-02-12T18:06:32.324060Z",
     "iopub.status.idle": "2025-02-12T18:06:32.331946Z",
     "shell.execute_reply": "2025-02-12T18:06:32.331699Z"
    }
   },
   "outputs": [],
   "source": [
    "frf = 2856000000.0\n",
    "c = 299792458.0\n",
    "pi = np.pi\n",
    "k = 2 * pi * frf / c\n",
    "d = 3.5e-2  # periodic length\n",
    "(\n",
    "    np.sin(k * d),\n",
    "    25905612.0 / 29913224.7,\n",
    ")  # = 0.86571945106805 #roughly equals 25905612.0/29913224.7 as above"
   ]
  },
  {
   "cell_type": "code",
   "execution_count": null,
   "metadata": {
    "execution": {
     "iopub.execute_input": "2025-02-12T18:06:32.351175Z",
     "iopub.status.busy": "2025-02-12T18:06:32.351057Z",
     "iopub.status.idle": "2025-02-12T18:06:32.357970Z",
     "shell.execute_reply": "2025-02-12T18:06:32.357759Z"
    }
   },
   "outputs": [],
   "source": [
    "frf / c"
   ]
  },
  {
   "cell_type": "code",
   "execution_count": null,
   "metadata": {
    "execution": {
     "iopub.execute_input": "2025-02-12T18:06:32.359119Z",
     "iopub.status.busy": "2025-02-12T18:06:32.359047Z",
     "iopub.status.idle": "2025-02-12T18:06:33.168430Z",
     "shell.execute_reply": "2025-02-12T18:06:33.168022Z"
    }
   },
   "outputs": [],
   "source": [
    "from impact import Impact, fieldmaps"
   ]
  },
  {
   "cell_type": "code",
   "execution_count": null,
   "metadata": {
    "execution": {
     "iopub.execute_input": "2025-02-12T18:06:33.170041Z",
     "iopub.status.busy": "2025-02-12T18:06:33.169880Z",
     "iopub.status.idle": "2025-02-12T18:06:33.185501Z",
     "shell.execute_reply": "2025-02-12T18:06:33.185283Z"
    }
   },
   "outputs": [],
   "source": [
    "ifile = \"../templates/traveling_wave_cavity/ImpactT.in\"\n",
    "os.path.exists(ifile)"
   ]
  },
  {
   "cell_type": "code",
   "execution_count": null,
   "metadata": {
    "execution": {
     "iopub.execute_input": "2025-02-12T18:06:33.186693Z",
     "iopub.status.busy": "2025-02-12T18:06:33.186615Z",
     "iopub.status.idle": "2025-02-12T18:06:33.200221Z",
     "shell.execute_reply": "2025-02-12T18:06:33.199986Z"
    }
   },
   "outputs": [],
   "source": [
    "I = Impact(ifile)"
   ]
  },
  {
   "cell_type": "code",
   "execution_count": null,
   "metadata": {
    "execution": {
     "iopub.execute_input": "2025-02-12T18:06:33.201325Z",
     "iopub.status.busy": "2025-02-12T18:06:33.201241Z",
     "iopub.status.idle": "2025-02-12T18:06:33.211683Z",
     "shell.execute_reply": "2025-02-12T18:06:33.211437Z"
    }
   },
   "outputs": [],
   "source": [
    "# I.run()"
   ]
  },
  {
   "cell_type": "markdown",
   "metadata": {},
   "source": [
    "# Fieldmaps"
   ]
  },
  {
   "cell_type": "code",
   "execution_count": null,
   "metadata": {
    "execution": {
     "iopub.execute_input": "2025-02-12T18:06:33.212928Z",
     "iopub.status.busy": "2025-02-12T18:06:33.212853Z",
     "iopub.status.idle": "2025-02-12T18:06:33.223723Z",
     "shell.execute_reply": "2025-02-12T18:06:33.223473Z"
    }
   },
   "outputs": [],
   "source": [
    "I.input[\"fieldmaps\"]\n",
    "fmap4 = I.input[\"fieldmaps\"][\"rfdata4\"][\"field\"][\"Ez\"]\n",
    "fmap5 = I.input[\"fieldmaps\"][\"rfdata5\"][\"field\"][\"Ez\"]\n",
    "fmap6 = I.input[\"fieldmaps\"][\"rfdata6\"][\"field\"][\"Ez\"]\n",
    "fmap7 = I.input[\"fieldmaps\"][\"rfdata7\"][\"field\"][\"Ez\"]\n",
    "# fmap4 = fieldmaps.process_fieldmap_solrf(rdfa['field']['Ez']ta4['data'])['Ez']\n",
    "# fmap5 = fieldmaps.process_fieldmap_solrf(rdfata5['data'])['Ez']\n",
    "# fmap6 = fieldmaps.process_fieldmap_solrf(rdfata6['data'])['Ez']\n",
    "# fmap7 = fieldmaps.process_fieldmap_solrf(rdfata7['data'])['Ez']"
   ]
  },
  {
   "cell_type": "code",
   "execution_count": null,
   "metadata": {
    "execution": {
     "iopub.execute_input": "2025-02-12T18:06:33.224929Z",
     "iopub.status.busy": "2025-02-12T18:06:33.224839Z",
     "iopub.status.idle": "2025-02-12T18:06:33.236200Z",
     "shell.execute_reply": "2025-02-12T18:06:33.235969Z"
    }
   },
   "outputs": [],
   "source": [
    "fieldmaps.fieldmap_reconstruction_solrf(fmap4, 0)"
   ]
  },
  {
   "cell_type": "code",
   "execution_count": null,
   "metadata": {
    "execution": {
     "iopub.execute_input": "2025-02-12T18:06:33.237289Z",
     "iopub.status.busy": "2025-02-12T18:06:33.237215Z",
     "iopub.status.idle": "2025-02-12T18:06:33.249330Z",
     "shell.execute_reply": "2025-02-12T18:06:33.249071Z"
    }
   },
   "outputs": [],
   "source": [
    "fmap4"
   ]
  },
  {
   "cell_type": "code",
   "execution_count": null,
   "metadata": {
    "execution": {
     "iopub.execute_input": "2025-02-12T18:06:33.250645Z",
     "iopub.status.busy": "2025-02-12T18:06:33.250527Z",
     "iopub.status.idle": "2025-02-12T18:06:33.404094Z",
     "shell.execute_reply": "2025-02-12T18:06:33.403829Z"
    }
   },
   "outputs": [],
   "source": [
    "fmap = fmap6\n",
    "zlist = np.linspace(fmap[\"z0\"], fmap[\"z1\"], 1000)\n",
    "fieldlist = [fieldmaps.fieldmap_reconstruction_solrf(fmap, z) for z in zlist]\n",
    "fig, ax = plt.subplots(figsize=(20, 5))\n",
    "ax.plot(zlist, fieldlist)"
   ]
  },
  {
   "cell_type": "code",
   "execution_count": null,
   "metadata": {
    "execution": {
     "iopub.execute_input": "2025-02-12T18:06:33.405917Z",
     "iopub.status.busy": "2025-02-12T18:06:33.405830Z",
     "iopub.status.idle": "2025-02-12T18:06:33.434180Z",
     "shell.execute_reply": "2025-02-12T18:06:33.433899Z"
    }
   },
   "outputs": [],
   "source": [
    "fieldlist5 = np.array(\n",
    "    [fieldmaps.fieldmap_reconstruction_solrf(fmap5, z) for z in zlist]\n",
    ")\n",
    "fieldlist6 = np.array(\n",
    "    [fieldmaps.fieldmap_reconstruction_solrf(fmap6, z) for z in zlist]\n",
    ")"
   ]
  },
  {
   "cell_type": "code",
   "execution_count": null,
   "metadata": {
    "execution": {
     "iopub.execute_input": "2025-02-12T18:06:33.435416Z",
     "iopub.status.busy": "2025-02-12T18:06:33.435334Z",
     "iopub.status.idle": "2025-02-12T18:06:33.446767Z",
     "shell.execute_reply": "2025-02-12T18:06:33.446527Z"
    }
   },
   "outputs": [],
   "source": [
    "l = c / frf\n",
    "l"
   ]
  },
  {
   "cell_type": "code",
   "execution_count": null,
   "metadata": {
    "execution": {
     "iopub.execute_input": "2025-02-12T18:06:33.447867Z",
     "iopub.status.busy": "2025-02-12T18:06:33.447794Z",
     "iopub.status.idle": "2025-02-12T18:06:33.577567Z",
     "shell.execute_reply": "2025-02-12T18:06:33.577304Z"
    }
   },
   "outputs": [],
   "source": [
    "fig, ax = plt.subplots(figsize=(20, 5))\n",
    "\n",
    "wt = 2 * np.pi / 360 * 0\n",
    "plt.ylim(-1, 1)\n",
    "plt.xlim(0, 0.5)\n",
    "ax.plot(zlist + l * 2 / 3, fieldlist5 * np.cos(wt))\n",
    "ax.plot(zlist, fieldlist6 * np.cos(wt))"
   ]
  },
  {
   "cell_type": "code",
   "execution_count": null,
   "metadata": {
    "execution": {
     "iopub.execute_input": "2025-02-12T18:06:33.578849Z",
     "iopub.status.busy": "2025-02-12T18:06:33.578729Z",
     "iopub.status.idle": "2025-02-12T18:06:33.709915Z",
     "shell.execute_reply": "2025-02-12T18:06:33.709652Z"
    }
   },
   "outputs": [],
   "source": [
    "fig, ax = plt.subplots(figsize=(20, 5))\n",
    "\n",
    "wt = 2 * np.pi / 360 * 90\n",
    "plt.ylim(-1, 1)\n",
    "ax.plot(zlist, fieldlist5 * np.cos(wt) + fieldlist6 * np.cos(wt + 2 * np.pi * 60 / 360))"
   ]
  },
  {
   "cell_type": "code",
   "execution_count": null,
   "metadata": {
    "execution": {
     "iopub.execute_input": "2025-02-12T18:06:33.711453Z",
     "iopub.status.busy": "2025-02-12T18:06:33.711326Z",
     "iopub.status.idle": "2025-02-12T18:06:33.724365Z",
     "shell.execute_reply": "2025-02-12T18:06:33.724131Z"
    }
   },
   "outputs": [],
   "source": [
    "0.0586460 + 0.3371281 + 1.1518479 + 1.1515630 + 0.3351400 + 0.0609190"
   ]
  },
  {
   "cell_type": "code",
   "execution_count": null,
   "metadata": {
    "execution": {
     "iopub.execute_input": "2025-02-12T18:06:33.725450Z",
     "iopub.status.busy": "2025-02-12T18:06:33.725373Z",
     "iopub.status.idle": "2025-02-12T18:06:33.736275Z",
     "shell.execute_reply": "2025-02-12T18:06:33.736059Z"
    }
   },
   "outputs": [],
   "source": [
    "0.0586460 + 0.3371281 + 1.1518479"
   ]
  },
  {
   "cell_type": "code",
   "execution_count": null,
   "metadata": {
    "execution": {
     "iopub.execute_input": "2025-02-12T18:06:33.737331Z",
     "iopub.status.busy": "2025-02-12T18:06:33.737256Z",
     "iopub.status.idle": "2025-02-12T18:06:33.748007Z",
     "shell.execute_reply": "2025-02-12T18:06:33.747748Z"
    }
   },
   "outputs": [],
   "source": [
    "1.1515630 + 0.3351400 + 0.0609190"
   ]
  },
  {
   "cell_type": "markdown",
   "metadata": {},
   "source": [
    "# ControlGroups"
   ]
  },
  {
   "cell_type": "code",
   "execution_count": null,
   "metadata": {
    "execution": {
     "iopub.execute_input": "2025-02-12T18:06:33.749140Z",
     "iopub.status.busy": "2025-02-12T18:06:33.749066Z",
     "iopub.status.idle": "2025-02-12T18:06:33.759520Z",
     "shell.execute_reply": "2025-02-12T18:06:33.759263Z"
    }
   },
   "outputs": [],
   "source": [
    "from impact import ControlGroup"
   ]
  },
  {
   "cell_type": "code",
   "execution_count": null,
   "metadata": {
    "execution": {
     "iopub.execute_input": "2025-02-12T18:06:33.760647Z",
     "iopub.status.busy": "2025-02-12T18:06:33.760561Z",
     "iopub.status.idle": "2025-02-12T18:06:33.772103Z",
     "shell.execute_reply": "2025-02-12T18:06:33.771863Z"
    }
   },
   "outputs": [],
   "source": [
    "# Add a ControlGroup that can change the relative phase\n",
    "\n",
    "I2 = I.copy()\n",
    "\n",
    "CAV = ControlGroup(\n",
    "    ele_names=[\"solrf_entrance\", \"solrf_body_1\", \"solrf_body_2\", \"solrf_exit\"],\n",
    "    var_name=\"dtheta0_deg\",\n",
    "    attributes=\"theta0_deg\",\n",
    ")\n",
    "CAV.link(I2.ele)\n",
    "[ele[\"theta0_deg\"] for ele in CAV.eles]"
   ]
  },
  {
   "cell_type": "code",
   "execution_count": null,
   "metadata": {
    "execution": {
     "iopub.execute_input": "2025-02-12T18:06:33.773182Z",
     "iopub.status.busy": "2025-02-12T18:06:33.773098Z",
     "iopub.status.idle": "2025-02-12T18:06:33.784020Z",
     "shell.execute_reply": "2025-02-12T18:06:33.783792Z"
    }
   },
   "outputs": [],
   "source": [
    "CAV[\"dtheta0_deg\"] = 0\n",
    "[ele[\"theta0_deg\"] for ele in CAV.eles]"
   ]
  },
  {
   "cell_type": "code",
   "execution_count": null,
   "metadata": {
    "execution": {
     "iopub.execute_input": "2025-02-12T18:06:33.785215Z",
     "iopub.status.busy": "2025-02-12T18:06:33.785131Z",
     "iopub.status.idle": "2025-02-12T18:06:33.795789Z",
     "shell.execute_reply": "2025-02-12T18:06:33.795558Z"
    }
   },
   "outputs": [],
   "source": [
    "CAV_scale = ControlGroup(\n",
    "    ele_names=[\"solrf_entrance\", \"solrf_body_1\", \"solrf_body_2\", \"solrf_exit\"],\n",
    "    var_name=\"rf_field_scale\",\n",
    "    factors=[0.86571945106805, 1, 1, 0.86571945106805],  # sin(k*d) with d = 3.5e-2 m\n",
    "    absolute=True,\n",
    ")\n",
    "CAV_scale.link(I2.ele)"
   ]
  },
  {
   "cell_type": "code",
   "execution_count": null,
   "metadata": {
    "execution": {
     "iopub.execute_input": "2025-02-12T18:06:33.796900Z",
     "iopub.status.busy": "2025-02-12T18:06:33.796828Z",
     "iopub.status.idle": "2025-02-12T18:06:33.807532Z",
     "shell.execute_reply": "2025-02-12T18:06:33.807301Z"
    }
   },
   "outputs": [],
   "source": [
    "CAV_scale[\"rf_field_scale\"] = 29e6\n",
    "[ele[\"rf_field_scale\"] for ele in CAV_scale.eles]"
   ]
  },
  {
   "cell_type": "markdown",
   "metadata": {},
   "source": [
    "# Autophase and scale"
   ]
  },
  {
   "cell_type": "code",
   "execution_count": null,
   "metadata": {
    "execution": {
     "iopub.execute_input": "2025-02-12T18:06:33.808713Z",
     "iopub.status.busy": "2025-02-12T18:06:33.808644Z",
     "iopub.status.idle": "2025-02-12T18:06:33.819816Z",
     "shell.execute_reply": "2025-02-12T18:06:33.819599Z"
    }
   },
   "outputs": [],
   "source": [
    "#  Changes in phases\n",
    "I.add_group(\n",
    "    \"L0A\",\n",
    "    ele_names=[\"solrf_entrance\", \"solrf_body_1\", \"solrf_body_2\", \"solrf_exit\"],\n",
    "    var_name=\"theta0_deg\",\n",
    "    attributes=\"theta0_deg\",\n",
    ")\n",
    "\n",
    "\n",
    "# Overall scaling, respecting the special factors.\n",
    "I.add_group(\n",
    "    \"L0A_scale\",\n",
    "    ele_names=[\"solrf_entrance\", \"solrf_body_1\", \"solrf_body_2\", \"solrf_exit\"],\n",
    "    var_name=\"rf_field_scale\",\n",
    "    factors=[0.86571945106805, 1, 1, 0.86571945106805],  # sin(k*d) with d = 3.5e-2 m\n",
    "    absolute=True,\n",
    ")"
   ]
  },
  {
   "cell_type": "code",
   "execution_count": null,
   "metadata": {
    "execution": {
     "iopub.execute_input": "2025-02-12T18:06:33.820976Z",
     "iopub.status.busy": "2025-02-12T18:06:33.820907Z",
     "iopub.status.idle": "2025-02-12T18:06:33.831751Z",
     "shell.execute_reply": "2025-02-12T18:06:33.831509Z"
    }
   },
   "outputs": [],
   "source": [
    "from impact.autophase import autophase_and_scale\n",
    "\n",
    "from pmd_beamphysics import single_particle\n",
    "\n",
    "# Start particles at 1.4 m, just in front of the cavity\n",
    "P0 = single_particle(pz=6e6, z=1.4)"
   ]
  },
  {
   "cell_type": "code",
   "execution_count": null,
   "metadata": {
    "execution": {
     "iopub.execute_input": "2025-02-12T18:06:33.832927Z",
     "iopub.status.busy": "2025-02-12T18:06:33.832856Z",
     "iopub.status.idle": "2025-02-12T18:06:41.705475Z",
     "shell.execute_reply": "2025-02-12T18:06:41.705159Z"
    }
   },
   "outputs": [],
   "source": [
    "autophase_and_scale(\n",
    "    I,\n",
    "    phase_ele_name=\"L0A\",\n",
    "    scale_ele_name=\"L0A_scale\",\n",
    "    target=64e6,\n",
    "    scale_range=(10e6, 100e6),\n",
    "    initial_particles=P0,\n",
    "    verbose=True,\n",
    ")"
   ]
  },
  {
   "cell_type": "code",
   "execution_count": null,
   "metadata": {
    "execution": {
     "iopub.execute_input": "2025-02-12T18:06:41.706857Z",
     "iopub.status.busy": "2025-02-12T18:06:41.706725Z",
     "iopub.status.idle": "2025-02-12T18:06:41.915341Z",
     "shell.execute_reply": "2025-02-12T18:06:41.915037Z"
    }
   },
   "outputs": [],
   "source": [
    "PF = I.track(P0, 4.5)\n",
    "PF[\"mean_energy\"]"
   ]
  },
  {
   "cell_type": "markdown",
   "metadata": {},
   "source": [
    "# Track distgen particles"
   ]
  },
  {
   "cell_type": "code",
   "execution_count": null,
   "metadata": {
    "execution": {
     "iopub.execute_input": "2025-02-12T18:06:41.916725Z",
     "iopub.status.busy": "2025-02-12T18:06:41.916594Z",
     "iopub.status.idle": "2025-02-12T18:06:42.164571Z",
     "shell.execute_reply": "2025-02-12T18:06:42.164297Z"
    }
   },
   "outputs": [],
   "source": [
    "from distgen import Generator\n",
    "\n",
    "YAML = \"\"\"\n",
    "n_particle: 20000\n",
    "random_type: hammersley\n",
    "species: electron\n",
    "start:\n",
    "  tstart:\n",
    "    units: sec\n",
    "    value: 0\n",
    "  type: time\n",
    "total_charge:\n",
    "  units: pC\n",
    "  value: 250.0\n",
    "r_dist:\n",
    "  sigma_xy:\n",
    "    units: mm\n",
    "    value: 0.01\n",
    "  type: radial_gaussian\n",
    "z_dist:\n",
    "  avg_z:\n",
    "    units: m\n",
    "    value: 1.4\n",
    "  sigma_z:\n",
    "    units: mm\n",
    "    value: 0.01\n",
    "  type: gaussian\n",
    "  \n",
    "\n",
    "transforms:\n",
    "  setPz:\n",
    "    type: set_avg pz\n",
    "    avg_pz: \n",
    "      value: 6\n",
    "      units: MeV/c\n",
    "  \n",
    "\"\"\"\n",
    "G = Generator(YAML)\n",
    "G.run()\n",
    "DP = G.particles\n",
    "DP.plot(\"z\", \"pz\")"
   ]
  },
  {
   "cell_type": "code",
   "execution_count": null,
   "metadata": {
    "execution": {
     "iopub.execute_input": "2025-02-12T18:06:42.165909Z",
     "iopub.status.busy": "2025-02-12T18:06:42.165801Z",
     "iopub.status.idle": "2025-02-12T18:06:42.179293Z",
     "shell.execute_reply": "2025-02-12T18:06:42.179075Z"
    }
   },
   "outputs": [],
   "source": [
    "DP[\"min_z\"]"
   ]
  },
  {
   "cell_type": "code",
   "execution_count": null,
   "metadata": {
    "execution": {
     "iopub.execute_input": "2025-02-12T18:06:42.180402Z",
     "iopub.status.busy": "2025-02-12T18:06:42.180327Z",
     "iopub.status.idle": "2025-02-12T18:06:54.629840Z",
     "shell.execute_reply": "2025-02-12T18:06:54.629357Z"
    }
   },
   "outputs": [],
   "source": [
    "I.header[\"Bcurr\"] = 0  # SC off\n",
    "I.header[\"Dt\"] = 1e-11\n",
    "PF = I.track(DP, 5)"
   ]
  },
  {
   "cell_type": "code",
   "execution_count": null,
   "metadata": {
    "execution": {
     "iopub.execute_input": "2025-02-12T18:06:54.631540Z",
     "iopub.status.busy": "2025-02-12T18:06:54.631398Z",
     "iopub.status.idle": "2025-02-12T18:06:54.901400Z",
     "shell.execute_reply": "2025-02-12T18:06:54.901103Z"
    }
   },
   "outputs": [],
   "source": [
    "PI = I.particles[\"initial_particles\"]\n",
    "PI.plot(\"z\", \"x\")"
   ]
  },
  {
   "cell_type": "code",
   "execution_count": null,
   "metadata": {
    "execution": {
     "iopub.execute_input": "2025-02-12T18:06:54.903220Z",
     "iopub.status.busy": "2025-02-12T18:06:54.903101Z",
     "iopub.status.idle": "2025-02-12T18:06:55.098296Z",
     "shell.execute_reply": "2025-02-12T18:06:55.097985Z"
    }
   },
   "outputs": [],
   "source": [
    "PF.plot(\"delta_z\", \"delta_pz\")"
   ]
  },
  {
   "cell_type": "code",
   "execution_count": null,
   "metadata": {
    "execution": {
     "iopub.execute_input": "2025-02-12T18:06:55.099550Z",
     "iopub.status.busy": "2025-02-12T18:06:55.099449Z",
     "iopub.status.idle": "2025-02-12T18:06:55.187106Z",
     "shell.execute_reply": "2025-02-12T18:06:55.186861Z"
    }
   },
   "outputs": [],
   "source": [
    "# Compare these.\n",
    "key1 = \"mean_z\"\n",
    "key2 = \"mean_kinetic_energy\"\n",
    "units1 = str(I.units(key1))\n",
    "units2 = str(I.units(key2))\n",
    "plt.xlabel(key1 + f\" ({units1})\")\n",
    "plt.ylabel(key2 + f\" ({units2})\")\n",
    "plt.plot(I.stat(key1), I.stat(key2))\n",
    "plt.scatter(\n",
    "    [I.particles[name][key1] for name in I.particles],\n",
    "    [I.particles[name][key2] for name in I.particles],\n",
    "    color=\"red\",\n",
    ")"
   ]
  }
 ],
 "metadata": {
  "kernelspec": {
   "display_name": "Python 3 (ipykernel)",
   "language": "python",
   "name": "python3"
  },
  "language_info": {
   "codemirror_mode": {
    "name": "ipython",
    "version": 3
   },
   "file_extension": ".py",
   "mimetype": "text/x-python",
   "name": "python",
   "nbconvert_exporter": "python",
   "pygments_lexer": "ipython3",
   "version": "3.12.8"
  }
 },
 "nbformat": 4,
 "nbformat_minor": 4
}
