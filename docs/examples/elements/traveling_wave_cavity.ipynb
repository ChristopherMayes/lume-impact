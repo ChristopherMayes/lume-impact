{
 "cells": [
  {
   "cell_type": "markdown",
   "metadata": {},
   "source": [
    "# Traveling Wave Cavity\n",
    "\n",
    "A traveling wave needs to be described by four fieldmaps:\n",
    "entrance\n",
    "two body \n",
    "exit\n",
    "\n",
    "\n",
    "\n",
    "http://accelconf.web.cern.ch/accelconf/p79/PDF/PAC1979_3701.PDF\n",
    "\n",
    "```\n",
    "0.052464 0 0 105 1.42 25500000.0 2856000000.0 119.0 4 0.15 0.0 0.0 0.0 0.0 0.0 0.0 /!name:entrance\n",
    "2.937928 0 0 105 1.472464 29430178.7820912 2856000000.0 149.0 5 0.15 0.0 0.0 0.0 0.0 0.0 0.0 /!name:body_1\n",
    "2.937928 0 0 105 1.472464 29430178.7820912 2856000000.0 209.0 6 0.15 0.0 0.0 0.0 0.0 0.0 0.0 /!name:body_2\n",
    "0.05246 0 0 105 4.410392 25500000.0 2856000000.0 119.0 7 0.15 0.0 0.0 0.0 0.0 0.0 0.0 /!name:exit\n",
    "```\n",
    "\n",
    "\n",
    "The following 4 lines define a 3-cell s-band traveling wave structure\n",
    "using the supperposition of two standing wave strutures.\n",
    "G. A. Loew et al., SLAC-PUB-2295, 1979.\n",
    "\n",
    "- the phase of line 2 is the phase of line 1 + 30 degrees;\n",
    "- the phase of line 3 is the phase of line 1 + 90 degrees.\n",
    "- the phase of line 4 is the same as the line 1;\n",
    "- the field scale of line 2 is the scale of the line 1/sin(beta d) \n",
    "- the field scale of line 3 is the scale of the line 1/sin(beta d) \n",
    "- the scale of line 4 is the same as the line 1;\n",
    "\n"
   ]
  },
  {
   "cell_type": "code",
   "execution_count": null,
   "metadata": {
    "execution": {
     "iopub.execute_input": "2025-02-20T21:25:26.549133Z",
     "iopub.status.busy": "2025-02-20T21:25:26.549020Z",
     "iopub.status.idle": "2025-02-20T21:25:26.785550Z",
     "shell.execute_reply": "2025-02-20T21:25:26.785217Z"
    }
   },
   "outputs": [],
   "source": [
    "# Useful for debugging\n",
    "%load_ext autoreload\n",
    "%autoreload 2\n",
    "\n",
    "import numpy as np\n",
    "import os\n",
    "\n",
    "import matplotlib.pyplot as plt\n",
    "\n",
    "%matplotlib inline"
   ]
  },
  {
   "cell_type": "code",
   "execution_count": null,
   "metadata": {
    "execution": {
     "iopub.execute_input": "2025-02-20T21:25:26.787073Z",
     "iopub.status.busy": "2025-02-20T21:25:26.786965Z",
     "iopub.status.idle": "2025-02-20T21:25:26.795122Z",
     "shell.execute_reply": "2025-02-20T21:25:26.794881Z"
    }
   },
   "outputs": [],
   "source": [
    "frf = 2856000000.0\n",
    "c = 299792458.0\n",
    "pi = np.pi\n",
    "k = 2 * pi * frf / c\n",
    "d = 3.5e-2  # periodic length\n",
    "(\n",
    "    np.sin(k * d),\n",
    "    25905612.0 / 29913224.7,\n",
    ")  # = 0.86571945106805 #roughly equals 25905612.0/29913224.7 as above"
   ]
  },
  {
   "cell_type": "code",
   "execution_count": null,
   "metadata": {
    "execution": {
     "iopub.execute_input": "2025-02-20T21:25:26.815399Z",
     "iopub.status.busy": "2025-02-20T21:25:26.815297Z",
     "iopub.status.idle": "2025-02-20T21:25:26.822143Z",
     "shell.execute_reply": "2025-02-20T21:25:26.821913Z"
    }
   },
   "outputs": [],
   "source": [
    "frf / c"
   ]
  },
  {
   "cell_type": "code",
   "execution_count": null,
   "metadata": {
    "execution": {
     "iopub.execute_input": "2025-02-20T21:25:26.823227Z",
     "iopub.status.busy": "2025-02-20T21:25:26.823150Z",
     "iopub.status.idle": "2025-02-20T21:25:27.632161Z",
     "shell.execute_reply": "2025-02-20T21:25:27.631881Z"
    }
   },
   "outputs": [],
   "source": [
    "from impact import Impact, fieldmaps"
   ]
  },
  {
   "cell_type": "code",
   "execution_count": null,
   "metadata": {
    "execution": {
     "iopub.execute_input": "2025-02-20T21:25:27.633680Z",
     "iopub.status.busy": "2025-02-20T21:25:27.633535Z",
     "iopub.status.idle": "2025-02-20T21:25:27.645605Z",
     "shell.execute_reply": "2025-02-20T21:25:27.645368Z"
    }
   },
   "outputs": [],
   "source": [
    "ifile = \"../templates/traveling_wave_cavity/ImpactT.in\"\n",
    "os.path.exists(ifile)"
   ]
  },
  {
   "cell_type": "code",
   "execution_count": null,
   "metadata": {
    "execution": {
     "iopub.execute_input": "2025-02-20T21:25:27.646909Z",
     "iopub.status.busy": "2025-02-20T21:25:27.646797Z",
     "iopub.status.idle": "2025-02-20T21:25:27.660915Z",
     "shell.execute_reply": "2025-02-20T21:25:27.660674Z"
    }
   },
   "outputs": [],
   "source": [
    "I = Impact(ifile)"
   ]
  },
  {
   "cell_type": "code",
   "execution_count": null,
   "metadata": {
    "execution": {
     "iopub.execute_input": "2025-02-20T21:25:27.662132Z",
     "iopub.status.busy": "2025-02-20T21:25:27.662043Z",
     "iopub.status.idle": "2025-02-20T21:25:27.672941Z",
     "shell.execute_reply": "2025-02-20T21:25:27.672682Z"
    }
   },
   "outputs": [],
   "source": [
    "# I.run()"
   ]
  },
  {
   "cell_type": "markdown",
   "metadata": {},
   "source": [
    "# Fieldmaps"
   ]
  },
  {
   "cell_type": "code",
   "execution_count": null,
   "metadata": {
    "execution": {
     "iopub.execute_input": "2025-02-20T21:25:27.674175Z",
     "iopub.status.busy": "2025-02-20T21:25:27.674096Z",
     "iopub.status.idle": "2025-02-20T21:25:27.685178Z",
     "shell.execute_reply": "2025-02-20T21:25:27.684952Z"
    }
   },
   "outputs": [],
   "source": [
    "I.input[\"fieldmaps\"]\n",
    "fmap4 = I.input[\"fieldmaps\"][\"rfdata4\"][\"field\"][\"Ez\"]\n",
    "fmap5 = I.input[\"fieldmaps\"][\"rfdata5\"][\"field\"][\"Ez\"]\n",
    "fmap6 = I.input[\"fieldmaps\"][\"rfdata6\"][\"field\"][\"Ez\"]\n",
    "fmap7 = I.input[\"fieldmaps\"][\"rfdata7\"][\"field\"][\"Ez\"]\n",
    "# fmap4 = fieldmaps.process_fieldmap_solrf(rdfa['field']['Ez']ta4['data'])['Ez']\n",
    "# fmap5 = fieldmaps.process_fieldmap_solrf(rdfata5['data'])['Ez']\n",
    "# fmap6 = fieldmaps.process_fieldmap_solrf(rdfata6['data'])['Ez']\n",
    "# fmap7 = fieldmaps.process_fieldmap_solrf(rdfata7['data'])['Ez']"
   ]
  },
  {
   "cell_type": "code",
   "execution_count": null,
   "metadata": {
    "execution": {
     "iopub.execute_input": "2025-02-20T21:25:27.686319Z",
     "iopub.status.busy": "2025-02-20T21:25:27.686245Z",
     "iopub.status.idle": "2025-02-20T21:25:27.697172Z",
     "shell.execute_reply": "2025-02-20T21:25:27.696951Z"
    }
   },
   "outputs": [],
   "source": [
    "fieldmaps.fieldmap_reconstruction_solrf(fmap4, 0)"
   ]
  },
  {
   "cell_type": "code",
   "execution_count": null,
   "metadata": {
    "execution": {
     "iopub.execute_input": "2025-02-20T21:25:27.698359Z",
     "iopub.status.busy": "2025-02-20T21:25:27.698278Z",
     "iopub.status.idle": "2025-02-20T21:25:27.709335Z",
     "shell.execute_reply": "2025-02-20T21:25:27.709125Z"
    }
   },
   "outputs": [],
   "source": [
    "fmap4"
   ]
  },
  {
   "cell_type": "code",
   "execution_count": null,
   "metadata": {
    "execution": {
     "iopub.execute_input": "2025-02-20T21:25:27.710460Z",
     "iopub.status.busy": "2025-02-20T21:25:27.710381Z",
     "iopub.status.idle": "2025-02-20T21:25:27.866879Z",
     "shell.execute_reply": "2025-02-20T21:25:27.866630Z"
    }
   },
   "outputs": [],
   "source": [
    "fmap = fmap6\n",
    "zlist = np.linspace(fmap[\"z0\"], fmap[\"z1\"], 1000)\n",
    "fieldlist = [fieldmaps.fieldmap_reconstruction_solrf(fmap, z) for z in zlist]\n",
    "fig, ax = plt.subplots(figsize=(20, 5))\n",
    "ax.plot(zlist, fieldlist)"
   ]
  },
  {
   "cell_type": "code",
   "execution_count": null,
   "metadata": {
    "execution": {
     "iopub.execute_input": "2025-02-20T21:25:27.868642Z",
     "iopub.status.busy": "2025-02-20T21:25:27.868555Z",
     "iopub.status.idle": "2025-02-20T21:25:27.898750Z",
     "shell.execute_reply": "2025-02-20T21:25:27.898479Z"
    }
   },
   "outputs": [],
   "source": [
    "fieldlist5 = np.array(\n",
    "    [fieldmaps.fieldmap_reconstruction_solrf(fmap5, z) for z in zlist]\n",
    ")\n",
    "fieldlist6 = np.array(\n",
    "    [fieldmaps.fieldmap_reconstruction_solrf(fmap6, z) for z in zlist]\n",
    ")"
   ]
  },
  {
   "cell_type": "code",
   "execution_count": null,
   "metadata": {
    "execution": {
     "iopub.execute_input": "2025-02-20T21:25:27.899945Z",
     "iopub.status.busy": "2025-02-20T21:25:27.899866Z",
     "iopub.status.idle": "2025-02-20T21:25:27.911692Z",
     "shell.execute_reply": "2025-02-20T21:25:27.911463Z"
    }
   },
   "outputs": [],
   "source": [
    "l = c / frf\n",
    "l"
   ]
  },
  {
   "cell_type": "code",
   "execution_count": null,
   "metadata": {
    "execution": {
     "iopub.execute_input": "2025-02-20T21:25:27.912965Z",
     "iopub.status.busy": "2025-02-20T21:25:27.912877Z",
     "iopub.status.idle": "2025-02-20T21:25:28.042976Z",
     "shell.execute_reply": "2025-02-20T21:25:28.042738Z"
    }
   },
   "outputs": [],
   "source": [
    "fig, ax = plt.subplots(figsize=(20, 5))\n",
    "\n",
    "wt = 2 * np.pi / 360 * 0\n",
    "plt.ylim(-1, 1)\n",
    "plt.xlim(0, 0.5)\n",
    "ax.plot(zlist + l * 2 / 3, fieldlist5 * np.cos(wt))\n",
    "ax.plot(zlist, fieldlist6 * np.cos(wt))"
   ]
  },
  {
   "cell_type": "code",
   "execution_count": null,
   "metadata": {
    "execution": {
     "iopub.execute_input": "2025-02-20T21:25:28.044483Z",
     "iopub.status.busy": "2025-02-20T21:25:28.044382Z",
     "iopub.status.idle": "2025-02-20T21:25:28.177613Z",
     "shell.execute_reply": "2025-02-20T21:25:28.177366Z"
    }
   },
   "outputs": [],
   "source": [
    "fig, ax = plt.subplots(figsize=(20, 5))\n",
    "\n",
    "wt = 2 * np.pi / 360 * 90\n",
    "plt.ylim(-1, 1)\n",
    "ax.plot(zlist, fieldlist5 * np.cos(wt) + fieldlist6 * np.cos(wt + 2 * np.pi * 60 / 360))"
   ]
  },
  {
   "cell_type": "code",
   "execution_count": null,
   "metadata": {
    "execution": {
     "iopub.execute_input": "2025-02-20T21:25:28.179341Z",
     "iopub.status.busy": "2025-02-20T21:25:28.179238Z",
     "iopub.status.idle": "2025-02-20T21:25:28.192867Z",
     "shell.execute_reply": "2025-02-20T21:25:28.192636Z"
    }
   },
   "outputs": [],
   "source": [
    "0.0586460 + 0.3371281 + 1.1518479 + 1.1515630 + 0.3351400 + 0.0609190"
   ]
  },
  {
   "cell_type": "code",
   "execution_count": null,
   "metadata": {
    "execution": {
     "iopub.execute_input": "2025-02-20T21:25:28.194075Z",
     "iopub.status.busy": "2025-02-20T21:25:28.193990Z",
     "iopub.status.idle": "2025-02-20T21:25:28.204984Z",
     "shell.execute_reply": "2025-02-20T21:25:28.204762Z"
    }
   },
   "outputs": [],
   "source": [
    "0.0586460 + 0.3371281 + 1.1518479"
   ]
  },
  {
   "cell_type": "code",
   "execution_count": null,
   "metadata": {
    "execution": {
     "iopub.execute_input": "2025-02-20T21:25:28.206143Z",
     "iopub.status.busy": "2025-02-20T21:25:28.206068Z",
     "iopub.status.idle": "2025-02-20T21:25:28.217205Z",
     "shell.execute_reply": "2025-02-20T21:25:28.216967Z"
    }
   },
   "outputs": [],
   "source": [
    "1.1515630 + 0.3351400 + 0.0609190"
   ]
  },
  {
   "cell_type": "markdown",
   "metadata": {},
   "source": [
    "# ControlGroups"
   ]
  },
  {
   "cell_type": "code",
   "execution_count": null,
   "metadata": {
    "execution": {
     "iopub.execute_input": "2025-02-20T21:25:28.218382Z",
     "iopub.status.busy": "2025-02-20T21:25:28.218303Z",
     "iopub.status.idle": "2025-02-20T21:25:28.229033Z",
     "shell.execute_reply": "2025-02-20T21:25:28.228815Z"
    }
   },
   "outputs": [],
   "source": [
    "from impact import ControlGroup"
   ]
  },
  {
   "cell_type": "code",
   "execution_count": null,
   "metadata": {
    "execution": {
     "iopub.execute_input": "2025-02-20T21:25:28.230160Z",
     "iopub.status.busy": "2025-02-20T21:25:28.230081Z",
     "iopub.status.idle": "2025-02-20T21:25:28.241386Z",
     "shell.execute_reply": "2025-02-20T21:25:28.241140Z"
    }
   },
   "outputs": [],
   "source": [
    "# Add a ControlGroup that can change the relative phase\n",
    "\n",
    "I2 = I.copy()\n",
    "\n",
    "CAV = ControlGroup(\n",
    "    ele_names=[\"solrf_entrance\", \"solrf_body_1\", \"solrf_body_2\", \"solrf_exit\"],\n",
    "    var_name=\"dtheta0_deg\",\n",
    "    attributes=\"theta0_deg\",\n",
    ")\n",
    "CAV.link(I2.ele)\n",
    "[ele[\"theta0_deg\"] for ele in CAV.eles]"
   ]
  },
  {
   "cell_type": "code",
   "execution_count": null,
   "metadata": {
    "execution": {
     "iopub.execute_input": "2025-02-20T21:25:28.242504Z",
     "iopub.status.busy": "2025-02-20T21:25:28.242430Z",
     "iopub.status.idle": "2025-02-20T21:25:28.253604Z",
     "shell.execute_reply": "2025-02-20T21:25:28.253375Z"
    }
   },
   "outputs": [],
   "source": [
    "CAV[\"dtheta0_deg\"] = 0\n",
    "[ele[\"theta0_deg\"] for ele in CAV.eles]"
   ]
  },
  {
   "cell_type": "code",
   "execution_count": null,
   "metadata": {
    "execution": {
     "iopub.execute_input": "2025-02-20T21:25:28.254864Z",
     "iopub.status.busy": "2025-02-20T21:25:28.254770Z",
     "iopub.status.idle": "2025-02-20T21:25:28.265274Z",
     "shell.execute_reply": "2025-02-20T21:25:28.265035Z"
    }
   },
   "outputs": [],
   "source": [
    "CAV_scale = ControlGroup(\n",
    "    ele_names=[\"solrf_entrance\", \"solrf_body_1\", \"solrf_body_2\", \"solrf_exit\"],\n",
    "    var_name=\"rf_field_scale\",\n",
    "    factors=[0.86571945106805, 1, 1, 0.86571945106805],  # sin(k*d) with d = 3.5e-2 m\n",
    "    absolute=True,\n",
    ")\n",
    "CAV_scale.link(I2.ele)"
   ]
  },
  {
   "cell_type": "code",
   "execution_count": null,
   "metadata": {
    "execution": {
     "iopub.execute_input": "2025-02-20T21:25:28.266518Z",
     "iopub.status.busy": "2025-02-20T21:25:28.266414Z",
     "iopub.status.idle": "2025-02-20T21:25:28.277181Z",
     "shell.execute_reply": "2025-02-20T21:25:28.276965Z"
    }
   },
   "outputs": [],
   "source": [
    "CAV_scale[\"rf_field_scale\"] = 29e6\n",
    "[ele[\"rf_field_scale\"] for ele in CAV_scale.eles]"
   ]
  },
  {
   "cell_type": "markdown",
   "metadata": {},
   "source": [
    "# Autophase and scale"
   ]
  },
  {
   "cell_type": "code",
   "execution_count": null,
   "metadata": {
    "execution": {
     "iopub.execute_input": "2025-02-20T21:25:28.278376Z",
     "iopub.status.busy": "2025-02-20T21:25:28.278298Z",
     "iopub.status.idle": "2025-02-20T21:25:28.289647Z",
     "shell.execute_reply": "2025-02-20T21:25:28.289419Z"
    }
   },
   "outputs": [],
   "source": [
    "#  Changes in phases\n",
    "I.add_group(\n",
    "    \"L0A\",\n",
    "    ele_names=[\"solrf_entrance\", \"solrf_body_1\", \"solrf_body_2\", \"solrf_exit\"],\n",
    "    var_name=\"theta0_deg\",\n",
    "    attributes=\"theta0_deg\",\n",
    ")\n",
    "\n",
    "\n",
    "# Overall scaling, respecting the special factors.\n",
    "I.add_group(\n",
    "    \"L0A_scale\",\n",
    "    ele_names=[\"solrf_entrance\", \"solrf_body_1\", \"solrf_body_2\", \"solrf_exit\"],\n",
    "    var_name=\"rf_field_scale\",\n",
    "    factors=[0.86571945106805, 1, 1, 0.86571945106805],  # sin(k*d) with d = 3.5e-2 m\n",
    "    absolute=True,\n",
    ")"
   ]
  },
  {
   "cell_type": "code",
   "execution_count": null,
   "metadata": {
    "execution": {
     "iopub.execute_input": "2025-02-20T21:25:28.290925Z",
     "iopub.status.busy": "2025-02-20T21:25:28.290811Z",
     "iopub.status.idle": "2025-02-20T21:25:28.301958Z",
     "shell.execute_reply": "2025-02-20T21:25:28.301745Z"
    }
   },
   "outputs": [],
   "source": [
    "from impact.autophase import autophase_and_scale\n",
    "\n",
    "from pmd_beamphysics import single_particle\n",
    "\n",
    "# Start particles at 1.4 m, just in front of the cavity\n",
    "P0 = single_particle(pz=6e6, z=1.4)"
   ]
  },
  {
   "cell_type": "code",
   "execution_count": null,
   "metadata": {
    "execution": {
     "iopub.execute_input": "2025-02-20T21:25:28.303117Z",
     "iopub.status.busy": "2025-02-20T21:25:28.303033Z",
     "iopub.status.idle": "2025-02-20T21:25:35.868814Z",
     "shell.execute_reply": "2025-02-20T21:25:35.868496Z"
    }
   },
   "outputs": [],
   "source": [
    "autophase_and_scale(\n",
    "    I,\n",
    "    phase_ele_name=\"L0A\",\n",
    "    scale_ele_name=\"L0A_scale\",\n",
    "    target=64e6,\n",
    "    scale_range=(10e6, 100e6),\n",
    "    initial_particles=P0,\n",
    "    verbose=True,\n",
    ")"
   ]
  },
  {
   "cell_type": "code",
   "execution_count": null,
   "metadata": {
    "execution": {
     "iopub.execute_input": "2025-02-20T21:25:35.870179Z",
     "iopub.status.busy": "2025-02-20T21:25:35.870083Z",
     "iopub.status.idle": "2025-02-20T21:25:36.086396Z",
     "shell.execute_reply": "2025-02-20T21:25:36.086083Z"
    }
   },
   "outputs": [],
   "source": [
    "PF = I.track(P0, 4.5)\n",
    "PF[\"mean_energy\"]"
   ]
  },
  {
   "cell_type": "markdown",
   "metadata": {},
   "source": [
    "# Track distgen particles"
   ]
  },
  {
   "cell_type": "code",
   "execution_count": null,
   "metadata": {
    "execution": {
     "iopub.execute_input": "2025-02-20T21:25:36.087804Z",
     "iopub.status.busy": "2025-02-20T21:25:36.087686Z",
     "iopub.status.idle": "2025-02-20T21:25:36.339768Z",
     "shell.execute_reply": "2025-02-20T21:25:36.339516Z"
    }
   },
   "outputs": [],
   "source": [
    "from distgen import Generator\n",
    "\n",
    "YAML = \"\"\"\n",
    "n_particle: 20000\n",
    "random_type: hammersley\n",
    "species: electron\n",
    "start:\n",
    "  tstart:\n",
    "    units: sec\n",
    "    value: 0\n",
    "  type: time\n",
    "total_charge:\n",
    "  units: pC\n",
    "  value: 250.0\n",
    "r_dist:\n",
    "  sigma_xy:\n",
    "    units: mm\n",
    "    value: 0.01\n",
    "  type: radial_gaussian\n",
    "z_dist:\n",
    "  avg_z:\n",
    "    units: m\n",
    "    value: 1.4\n",
    "  sigma_z:\n",
    "    units: mm\n",
    "    value: 0.01\n",
    "  type: gaussian\n",
    "  \n",
    "\n",
    "transforms:\n",
    "  setPz:\n",
    "    type: set_avg pz\n",
    "    avg_pz: \n",
    "      value: 6\n",
    "      units: MeV/c\n",
    "  \n",
    "\"\"\"\n",
    "G = Generator(YAML)\n",
    "G.run()\n",
    "DP = G.particles\n",
    "DP.plot(\"z\", \"pz\")"
   ]
  },
  {
   "cell_type": "code",
   "execution_count": null,
   "metadata": {
    "execution": {
     "iopub.execute_input": "2025-02-20T21:25:36.341114Z",
     "iopub.status.busy": "2025-02-20T21:25:36.341007Z",
     "iopub.status.idle": "2025-02-20T21:25:36.354768Z",
     "shell.execute_reply": "2025-02-20T21:25:36.354508Z"
    }
   },
   "outputs": [],
   "source": [
    "DP[\"min_z\"]"
   ]
  },
  {
   "cell_type": "code",
   "execution_count": null,
   "metadata": {
    "execution": {
     "iopub.execute_input": "2025-02-20T21:25:36.355999Z",
     "iopub.status.busy": "2025-02-20T21:25:36.355921Z",
     "iopub.status.idle": "2025-02-20T21:25:48.978516Z",
     "shell.execute_reply": "2025-02-20T21:25:48.978038Z"
    }
   },
   "outputs": [],
   "source": [
    "I.header[\"Bcurr\"] = 0  # SC off\n",
    "I.header[\"Dt\"] = 1e-11\n",
    "PF = I.track(DP, 5)"
   ]
  },
  {
   "cell_type": "code",
   "execution_count": null,
   "metadata": {
    "execution": {
     "iopub.execute_input": "2025-02-20T21:25:48.980504Z",
     "iopub.status.busy": "2025-02-20T21:25:48.980300Z",
     "iopub.status.idle": "2025-02-20T21:25:49.258029Z",
     "shell.execute_reply": "2025-02-20T21:25:49.257703Z"
    }
   },
   "outputs": [],
   "source": [
    "PI = I.particles[\"initial_particles\"]\n",
    "PI.plot(\"z\", \"x\")"
   ]
  },
  {
   "cell_type": "code",
   "execution_count": null,
   "metadata": {
    "execution": {
     "iopub.execute_input": "2025-02-20T21:25:49.259810Z",
     "iopub.status.busy": "2025-02-20T21:25:49.259705Z",
     "iopub.status.idle": "2025-02-20T21:25:49.459543Z",
     "shell.execute_reply": "2025-02-20T21:25:49.459258Z"
    }
   },
   "outputs": [],
   "source": [
    "PF.plot(\"delta_z\", \"delta_pz\")"
   ]
  },
  {
   "cell_type": "code",
   "execution_count": null,
   "metadata": {
    "execution": {
     "iopub.execute_input": "2025-02-20T21:25:49.460805Z",
     "iopub.status.busy": "2025-02-20T21:25:49.460701Z",
     "iopub.status.idle": "2025-02-20T21:25:49.549939Z",
     "shell.execute_reply": "2025-02-20T21:25:49.549658Z"
    }
   },
   "outputs": [],
   "source": [
    "# Compare these.\n",
    "key1 = \"mean_z\"\n",
    "key2 = \"mean_kinetic_energy\"\n",
    "units1 = str(I.units(key1))\n",
    "units2 = str(I.units(key2))\n",
    "plt.xlabel(key1 + f\" ({units1})\")\n",
    "plt.ylabel(key2 + f\" ({units2})\")\n",
    "plt.plot(I.stat(key1), I.stat(key2))\n",
    "plt.scatter(\n",
    "    [I.particles[name][key1] for name in I.particles],\n",
    "    [I.particles[name][key2] for name in I.particles],\n",
    "    color=\"red\",\n",
    ")"
   ]
  }
 ],
 "metadata": {
  "kernelspec": {
   "display_name": "Python 3 (ipykernel)",
   "language": "python",
   "name": "python3"
  },
  "language_info": {
   "codemirror_mode": {
    "name": "ipython",
    "version": 3
   },
   "file_extension": ".py",
   "mimetype": "text/x-python",
   "name": "python",
   "nbconvert_exporter": "python",
   "pygments_lexer": "ipython3",
   "version": "3.12.8"
  }
 },
 "nbformat": 4,
 "nbformat_minor": 4
}
