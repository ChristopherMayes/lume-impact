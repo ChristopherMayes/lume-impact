{
 "cells": [
  {
   "cell_type": "markdown",
   "metadata": {},
   "source": [
    "# Traveling Wave Cavity\n",
    "\n",
    "A traveling wave needs to be described by four fieldmaps:\n",
    "entrance\n",
    "two body \n",
    "exit\n",
    "\n",
    "\n",
    "\n",
    "http://accelconf.web.cern.ch/accelconf/p79/PDF/PAC1979_3701.PDF\n",
    "\n",
    "```\n",
    "0.052464 0 0 105 1.42 25500000.0 2856000000.0 119.0 4 0.15 0.0 0.0 0.0 0.0 0.0 0.0 /!name:entrance\n",
    "2.937928 0 0 105 1.472464 29430178.7820912 2856000000.0 149.0 5 0.15 0.0 0.0 0.0 0.0 0.0 0.0 /!name:body_1\n",
    "2.937928 0 0 105 1.472464 29430178.7820912 2856000000.0 209.0 6 0.15 0.0 0.0 0.0 0.0 0.0 0.0 /!name:body_2\n",
    "0.05246 0 0 105 4.410392 25500000.0 2856000000.0 119.0 7 0.15 0.0 0.0 0.0 0.0 0.0 0.0 /!name:exit\n",
    "```\n",
    "\n",
    "\n",
    "The following 4 lines define a 3-cell s-band traveling wave structure\n",
    "using the supperposition of two standing wave strutures.\n",
    "G. A. Loew et al., SLAC-PUB-2295, 1979.\n",
    "\n",
    "- the phase of line 2 is the phase of line 1 + 30 degrees;\n",
    "- the phase of line 3 is the phase of line 1 + 90 degrees.\n",
    "- the phase of line 4 is the same as the line 1;\n",
    "- the field scale of line 2 is the scale of the line 1/sin(beta d) \n",
    "- the field scale of line 3 is the scale of the line 1/sin(beta d) \n",
    "- the scale of line 4 is the same as the line 1;\n",
    "\n"
   ]
  },
  {
   "cell_type": "code",
   "execution_count": null,
   "metadata": {
    "execution": {
     "iopub.execute_input": "2024-10-18T19:48:45.725091Z",
     "iopub.status.busy": "2024-10-18T19:48:45.724434Z",
     "iopub.status.idle": "2024-10-18T19:48:46.015153Z",
     "shell.execute_reply": "2024-10-18T19:48:46.014875Z"
    }
   },
   "outputs": [],
   "source": [
    "# Useful for debugging\n",
    "%load_ext autoreload\n",
    "%autoreload 2\n",
    "\n",
    "import numpy as np\n",
    "import os\n",
    "\n",
    "import matplotlib.pyplot as plt\n",
    "\n",
    "%matplotlib inline"
   ]
  },
  {
   "cell_type": "code",
   "execution_count": null,
   "metadata": {
    "execution": {
     "iopub.execute_input": "2024-10-18T19:48:46.017073Z",
     "iopub.status.busy": "2024-10-18T19:48:46.016925Z",
     "iopub.status.idle": "2024-10-18T19:48:46.025209Z",
     "shell.execute_reply": "2024-10-18T19:48:46.024986Z"
    }
   },
   "outputs": [],
   "source": [
    "frf = 2856000000.0\n",
    "c = 299792458.0\n",
    "pi = np.pi\n",
    "k = 2 * pi * frf / c\n",
    "d = 3.5e-2  # periodic length\n",
    "(\n",
    "    np.sin(k * d),\n",
    "    25905612.0 / 29913224.7,\n",
    ")  # = 0.86571945106805 #roughly equals 25905612.0/29913224.7 as above"
   ]
  },
  {
   "cell_type": "code",
   "execution_count": null,
   "metadata": {
    "execution": {
     "iopub.execute_input": "2024-10-18T19:48:46.046357Z",
     "iopub.status.busy": "2024-10-18T19:48:46.046205Z",
     "iopub.status.idle": "2024-10-18T19:48:46.054630Z",
     "shell.execute_reply": "2024-10-18T19:48:46.054416Z"
    }
   },
   "outputs": [],
   "source": [
    "frf / c"
   ]
  },
  {
   "cell_type": "code",
   "execution_count": null,
   "metadata": {
    "execution": {
     "iopub.execute_input": "2024-10-18T19:48:46.055998Z",
     "iopub.status.busy": "2024-10-18T19:48:46.055911Z",
     "iopub.status.idle": "2024-10-18T19:48:46.771158Z",
     "shell.execute_reply": "2024-10-18T19:48:46.770764Z"
    }
   },
   "outputs": [],
   "source": [
    "from impact import Impact, fieldmaps"
   ]
  },
  {
   "cell_type": "code",
   "execution_count": null,
   "metadata": {
    "execution": {
     "iopub.execute_input": "2024-10-18T19:48:46.773165Z",
     "iopub.status.busy": "2024-10-18T19:48:46.772880Z",
     "iopub.status.idle": "2024-10-18T19:48:46.786080Z",
     "shell.execute_reply": "2024-10-18T19:48:46.785854Z"
    }
   },
   "outputs": [],
   "source": [
    "ifile = \"../templates/traveling_wave_cavity/ImpactT.in\"\n",
    "os.path.exists(ifile)"
   ]
  },
  {
   "cell_type": "code",
   "execution_count": null,
   "metadata": {
    "execution": {
     "iopub.execute_input": "2024-10-18T19:48:46.787463Z",
     "iopub.status.busy": "2024-10-18T19:48:46.787357Z",
     "iopub.status.idle": "2024-10-18T19:48:46.799502Z",
     "shell.execute_reply": "2024-10-18T19:48:46.799130Z"
    }
   },
   "outputs": [],
   "source": [
    "I = Impact(ifile)"
   ]
  },
  {
   "cell_type": "code",
   "execution_count": null,
   "metadata": {
    "execution": {
     "iopub.execute_input": "2024-10-18T19:48:46.801039Z",
     "iopub.status.busy": "2024-10-18T19:48:46.800941Z",
     "iopub.status.idle": "2024-10-18T19:48:46.813307Z",
     "shell.execute_reply": "2024-10-18T19:48:46.813010Z"
    }
   },
   "outputs": [],
   "source": [
    "# I.run()"
   ]
  },
  {
   "cell_type": "markdown",
   "metadata": {},
   "source": [
    "# Fieldmaps"
   ]
  },
  {
   "cell_type": "code",
   "execution_count": null,
   "metadata": {
    "execution": {
     "iopub.execute_input": "2024-10-18T19:48:46.815135Z",
     "iopub.status.busy": "2024-10-18T19:48:46.815034Z",
     "iopub.status.idle": "2024-10-18T19:48:46.827203Z",
     "shell.execute_reply": "2024-10-18T19:48:46.826961Z"
    }
   },
   "outputs": [],
   "source": [
    "I.input[\"fieldmaps\"]\n",
    "fmap4 = I.input[\"fieldmaps\"][\"rfdata4\"][\"field\"][\"Ez\"]\n",
    "fmap5 = I.input[\"fieldmaps\"][\"rfdata5\"][\"field\"][\"Ez\"]\n",
    "fmap6 = I.input[\"fieldmaps\"][\"rfdata6\"][\"field\"][\"Ez\"]\n",
    "fmap7 = I.input[\"fieldmaps\"][\"rfdata7\"][\"field\"][\"Ez\"]\n",
    "# fmap4 = fieldmaps.process_fieldmap_solrf(rdfa['field']['Ez']ta4['data'])['Ez']\n",
    "# fmap5 = fieldmaps.process_fieldmap_solrf(rdfata5['data'])['Ez']\n",
    "# fmap6 = fieldmaps.process_fieldmap_solrf(rdfata6['data'])['Ez']\n",
    "# fmap7 = fieldmaps.process_fieldmap_solrf(rdfata7['data'])['Ez']"
   ]
  },
  {
   "cell_type": "code",
   "execution_count": null,
   "metadata": {
    "execution": {
     "iopub.execute_input": "2024-10-18T19:48:46.828668Z",
     "iopub.status.busy": "2024-10-18T19:48:46.828584Z",
     "iopub.status.idle": "2024-10-18T19:48:46.841186Z",
     "shell.execute_reply": "2024-10-18T19:48:46.840948Z"
    }
   },
   "outputs": [],
   "source": [
    "fieldmaps.fieldmap_reconstruction_solrf(fmap4, 0)"
   ]
  },
  {
   "cell_type": "code",
   "execution_count": null,
   "metadata": {
    "execution": {
     "iopub.execute_input": "2024-10-18T19:48:46.842621Z",
     "iopub.status.busy": "2024-10-18T19:48:46.842525Z",
     "iopub.status.idle": "2024-10-18T19:48:46.854771Z",
     "shell.execute_reply": "2024-10-18T19:48:46.854475Z"
    }
   },
   "outputs": [],
   "source": [
    "fmap4"
   ]
  },
  {
   "cell_type": "code",
   "execution_count": null,
   "metadata": {
    "execution": {
     "iopub.execute_input": "2024-10-18T19:48:46.856368Z",
     "iopub.status.busy": "2024-10-18T19:48:46.856241Z",
     "iopub.status.idle": "2024-10-18T19:48:47.019413Z",
     "shell.execute_reply": "2024-10-18T19:48:47.019166Z"
    }
   },
   "outputs": [],
   "source": [
    "fmap = fmap6\n",
    "zlist = np.linspace(fmap[\"z0\"], fmap[\"z1\"], 1000)\n",
    "fieldlist = [fieldmaps.fieldmap_reconstruction_solrf(fmap, z) for z in zlist]\n",
    "fig, ax = plt.subplots(figsize=(20, 5))\n",
    "ax.plot(zlist, fieldlist)"
   ]
  },
  {
   "cell_type": "code",
   "execution_count": null,
   "metadata": {
    "execution": {
     "iopub.execute_input": "2024-10-18T19:48:47.021532Z",
     "iopub.status.busy": "2024-10-18T19:48:47.021447Z",
     "iopub.status.idle": "2024-10-18T19:48:47.050384Z",
     "shell.execute_reply": "2024-10-18T19:48:47.050103Z"
    }
   },
   "outputs": [],
   "source": [
    "fieldlist5 = np.array(\n",
    "    [fieldmaps.fieldmap_reconstruction_solrf(fmap5, z) for z in zlist]\n",
    ")\n",
    "fieldlist6 = np.array(\n",
    "    [fieldmaps.fieldmap_reconstruction_solrf(fmap6, z) for z in zlist]\n",
    ")"
   ]
  },
  {
   "cell_type": "code",
   "execution_count": null,
   "metadata": {
    "execution": {
     "iopub.execute_input": "2024-10-18T19:48:47.051979Z",
     "iopub.status.busy": "2024-10-18T19:48:47.051888Z",
     "iopub.status.idle": "2024-10-18T19:48:47.064293Z",
     "shell.execute_reply": "2024-10-18T19:48:47.064026Z"
    }
   },
   "outputs": [],
   "source": [
    "l = c / frf\n",
    "l"
   ]
  },
  {
   "cell_type": "code",
   "execution_count": null,
   "metadata": {
    "execution": {
     "iopub.execute_input": "2024-10-18T19:48:47.065890Z",
     "iopub.status.busy": "2024-10-18T19:48:47.065775Z",
     "iopub.status.idle": "2024-10-18T19:48:47.204968Z",
     "shell.execute_reply": "2024-10-18T19:48:47.204678Z"
    }
   },
   "outputs": [],
   "source": [
    "fig, ax = plt.subplots(figsize=(20, 5))\n",
    "\n",
    "wt = 2 * np.pi / 360 * 0\n",
    "plt.ylim(-1, 1)\n",
    "plt.xlim(0, 0.5)\n",
    "ax.plot(zlist + l * 2 / 3, fieldlist5 * np.cos(wt))\n",
    "ax.plot(zlist, fieldlist6 * np.cos(wt))"
   ]
  },
  {
   "cell_type": "code",
   "execution_count": null,
   "metadata": {
    "execution": {
     "iopub.execute_input": "2024-10-18T19:48:47.206610Z",
     "iopub.status.busy": "2024-10-18T19:48:47.206504Z",
     "iopub.status.idle": "2024-10-18T19:48:47.347596Z",
     "shell.execute_reply": "2024-10-18T19:48:47.347277Z"
    }
   },
   "outputs": [],
   "source": [
    "fig, ax = plt.subplots(figsize=(20, 5))\n",
    "\n",
    "wt = 2 * np.pi / 360 * 90\n",
    "plt.ylim(-1, 1)\n",
    "ax.plot(zlist, fieldlist5 * np.cos(wt) + fieldlist6 * np.cos(wt + 2 * np.pi * 60 / 360))"
   ]
  },
  {
   "cell_type": "code",
   "execution_count": null,
   "metadata": {
    "execution": {
     "iopub.execute_input": "2024-10-18T19:48:47.349861Z",
     "iopub.status.busy": "2024-10-18T19:48:47.349723Z",
     "iopub.status.idle": "2024-10-18T19:48:47.362320Z",
     "shell.execute_reply": "2024-10-18T19:48:47.362054Z"
    }
   },
   "outputs": [],
   "source": [
    "0.0586460 + 0.3371281 + 1.1518479 + 1.1515630 + 0.3351400 + 0.0609190"
   ]
  },
  {
   "cell_type": "code",
   "execution_count": null,
   "metadata": {
    "execution": {
     "iopub.execute_input": "2024-10-18T19:48:47.363736Z",
     "iopub.status.busy": "2024-10-18T19:48:47.363649Z",
     "iopub.status.idle": "2024-10-18T19:48:47.376066Z",
     "shell.execute_reply": "2024-10-18T19:48:47.375824Z"
    }
   },
   "outputs": [],
   "source": [
    "0.0586460 + 0.3371281 + 1.1518479"
   ]
  },
  {
   "cell_type": "code",
   "execution_count": null,
   "metadata": {
    "execution": {
     "iopub.execute_input": "2024-10-18T19:48:47.377489Z",
     "iopub.status.busy": "2024-10-18T19:48:47.377405Z",
     "iopub.status.idle": "2024-10-18T19:48:47.389345Z",
     "shell.execute_reply": "2024-10-18T19:48:47.389050Z"
    }
   },
   "outputs": [],
   "source": [
    "1.1515630 + 0.3351400 + 0.0609190"
   ]
  },
  {
   "cell_type": "markdown",
   "metadata": {},
   "source": [
    "# ControlGroups"
   ]
  },
  {
   "cell_type": "code",
   "execution_count": null,
   "metadata": {
    "execution": {
     "iopub.execute_input": "2024-10-18T19:48:47.391175Z",
     "iopub.status.busy": "2024-10-18T19:48:47.391035Z",
     "iopub.status.idle": "2024-10-18T19:48:47.403808Z",
     "shell.execute_reply": "2024-10-18T19:48:47.403501Z"
    }
   },
   "outputs": [],
   "source": [
    "from impact import ControlGroup"
   ]
  },
  {
   "cell_type": "code",
   "execution_count": null,
   "metadata": {
    "execution": {
     "iopub.execute_input": "2024-10-18T19:48:47.405941Z",
     "iopub.status.busy": "2024-10-18T19:48:47.405812Z",
     "iopub.status.idle": "2024-10-18T19:48:47.419128Z",
     "shell.execute_reply": "2024-10-18T19:48:47.418900Z"
    }
   },
   "outputs": [],
   "source": [
    "# Add a ControlGroup that can change the relative phase\n",
    "\n",
    "I2 = I.copy()\n",
    "\n",
    "CAV = ControlGroup(\n",
    "    ele_names=[\"solrf_entrance\", \"solrf_body_1\", \"solrf_body_2\", \"solrf_exit\"],\n",
    "    var_name=\"dtheta0_deg\",\n",
    "    attributes=\"theta0_deg\",\n",
    ")\n",
    "CAV.link(I2.ele)\n",
    "[ele[\"theta0_deg\"] for ele in CAV.eles]"
   ]
  },
  {
   "cell_type": "code",
   "execution_count": null,
   "metadata": {
    "execution": {
     "iopub.execute_input": "2024-10-18T19:48:47.420535Z",
     "iopub.status.busy": "2024-10-18T19:48:47.420450Z",
     "iopub.status.idle": "2024-10-18T19:48:47.431626Z",
     "shell.execute_reply": "2024-10-18T19:48:47.431354Z"
    }
   },
   "outputs": [],
   "source": [
    "CAV[\"dtheta0_deg\"] = 0\n",
    "[ele[\"theta0_deg\"] for ele in CAV.eles]"
   ]
  },
  {
   "cell_type": "code",
   "execution_count": null,
   "metadata": {
    "execution": {
     "iopub.execute_input": "2024-10-18T19:48:47.433149Z",
     "iopub.status.busy": "2024-10-18T19:48:47.433009Z",
     "iopub.status.idle": "2024-10-18T19:48:47.445181Z",
     "shell.execute_reply": "2024-10-18T19:48:47.444930Z"
    }
   },
   "outputs": [],
   "source": [
    "CAV_scale = ControlGroup(\n",
    "    ele_names=[\"solrf_entrance\", \"solrf_body_1\", \"solrf_body_2\", \"solrf_exit\"],\n",
    "    var_name=\"rf_field_scale\",\n",
    "    factors=[0.86571945106805, 1, 1, 0.86571945106805],  # sin(k*d) with d = 3.5e-2 m\n",
    "    absolute=True,\n",
    ")\n",
    "CAV_scale.link(I2.ele)"
   ]
  },
  {
   "cell_type": "code",
   "execution_count": null,
   "metadata": {
    "execution": {
     "iopub.execute_input": "2024-10-18T19:48:47.446787Z",
     "iopub.status.busy": "2024-10-18T19:48:47.446697Z",
     "iopub.status.idle": "2024-10-18T19:48:47.458994Z",
     "shell.execute_reply": "2024-10-18T19:48:47.458738Z"
    }
   },
   "outputs": [],
   "source": [
    "CAV_scale[\"rf_field_scale\"] = 29e6\n",
    "[ele[\"rf_field_scale\"] for ele in CAV_scale.eles]"
   ]
  },
  {
   "cell_type": "markdown",
   "metadata": {},
   "source": [
    "# Autophase and scale"
   ]
  },
  {
   "cell_type": "code",
   "execution_count": null,
   "metadata": {
    "execution": {
     "iopub.execute_input": "2024-10-18T19:48:47.460511Z",
     "iopub.status.busy": "2024-10-18T19:48:47.460403Z",
     "iopub.status.idle": "2024-10-18T19:48:47.473794Z",
     "shell.execute_reply": "2024-10-18T19:48:47.473480Z"
    }
   },
   "outputs": [],
   "source": [
    "#  Changes in phases\n",
    "I.add_group(\n",
    "    \"L0A\",\n",
    "    ele_names=[\"solrf_entrance\", \"solrf_body_1\", \"solrf_body_2\", \"solrf_exit\"],\n",
    "    var_name=\"theta0_deg\",\n",
    "    attributes=\"theta0_deg\",\n",
    ")\n",
    "\n",
    "\n",
    "# Overall scaling, respecting the special factors.\n",
    "I.add_group(\n",
    "    \"L0A_scale\",\n",
    "    ele_names=[\"solrf_entrance\", \"solrf_body_1\", \"solrf_body_2\", \"solrf_exit\"],\n",
    "    var_name=\"rf_field_scale\",\n",
    "    factors=[0.86571945106805, 1, 1, 0.86571945106805],  # sin(k*d) with d = 3.5e-2 m\n",
    "    absolute=True,\n",
    ")"
   ]
  },
  {
   "cell_type": "code",
   "execution_count": null,
   "metadata": {
    "execution": {
     "iopub.execute_input": "2024-10-18T19:48:47.475338Z",
     "iopub.status.busy": "2024-10-18T19:48:47.475208Z",
     "iopub.status.idle": "2024-10-18T19:48:47.488121Z",
     "shell.execute_reply": "2024-10-18T19:48:47.487861Z"
    }
   },
   "outputs": [],
   "source": [
    "from impact.autophase import autophase_and_scale\n",
    "\n",
    "from pmd_beamphysics import single_particle\n",
    "\n",
    "# Start particles at 1.4 m, just in front of the cavity\n",
    "P0 = single_particle(pz=6e6, z=1.4)"
   ]
  },
  {
   "cell_type": "code",
   "execution_count": null,
   "metadata": {
    "execution": {
     "iopub.execute_input": "2024-10-18T19:48:47.489735Z",
     "iopub.status.busy": "2024-10-18T19:48:47.489625Z",
     "iopub.status.idle": "2024-10-18T19:48:54.953110Z",
     "shell.execute_reply": "2024-10-18T19:48:54.952801Z"
    }
   },
   "outputs": [],
   "source": [
    "autophase_and_scale(\n",
    "    I,\n",
    "    phase_ele_name=\"L0A\",\n",
    "    scale_ele_name=\"L0A_scale\",\n",
    "    target=64e6,\n",
    "    scale_range=(10e6, 100e6),\n",
    "    initial_particles=P0,\n",
    "    verbose=True,\n",
    ")"
   ]
  },
  {
   "cell_type": "code",
   "execution_count": null,
   "metadata": {
    "execution": {
     "iopub.execute_input": "2024-10-18T19:48:54.954898Z",
     "iopub.status.busy": "2024-10-18T19:48:54.954770Z",
     "iopub.status.idle": "2024-10-18T19:48:55.162813Z",
     "shell.execute_reply": "2024-10-18T19:48:55.162543Z"
    }
   },
   "outputs": [],
   "source": [
    "PF = I.track(P0, 4.5)\n",
    "PF[\"mean_energy\"]"
   ]
  },
  {
   "cell_type": "markdown",
   "metadata": {},
   "source": [
    "# Track distgen particles"
   ]
  },
  {
   "cell_type": "code",
   "execution_count": null,
   "metadata": {
    "execution": {
     "iopub.execute_input": "2024-10-18T19:48:55.164806Z",
     "iopub.status.busy": "2024-10-18T19:48:55.164648Z",
     "iopub.status.idle": "2024-10-18T19:48:55.477601Z",
     "shell.execute_reply": "2024-10-18T19:48:55.477343Z"
    }
   },
   "outputs": [],
   "source": [
    "from distgen import Generator\n",
    "\n",
    "YAML = \"\"\"\n",
    "n_particle: 20000\n",
    "random_type: hammersley\n",
    "species: electron\n",
    "start:\n",
    "  tstart:\n",
    "    units: sec\n",
    "    value: 0\n",
    "  type: time\n",
    "total_charge:\n",
    "  units: pC\n",
    "  value: 250.0\n",
    "r_dist:\n",
    "  sigma_xy:\n",
    "    units: mm\n",
    "    value: 0.01\n",
    "  type: radial_gaussian\n",
    "z_dist:\n",
    "  avg_z:\n",
    "    units: m\n",
    "    value: 1.4\n",
    "  sigma_z:\n",
    "    units: mm\n",
    "    value: 0.01\n",
    "  type: gaussian\n",
    "  \n",
    "\n",
    "transforms:\n",
    "  setPz:\n",
    "    type: set_avg pz\n",
    "    avg_pz: \n",
    "      value: 6\n",
    "      units: MeV/c\n",
    "  \n",
    "\"\"\"\n",
    "G = Generator(YAML)\n",
    "G.run()\n",
    "DP = G.particles\n",
    "DP.plot(\"z\", \"pz\")"
   ]
  },
  {
   "cell_type": "code",
   "execution_count": null,
   "metadata": {
    "execution": {
     "iopub.execute_input": "2024-10-18T19:48:55.479127Z",
     "iopub.status.busy": "2024-10-18T19:48:55.479013Z",
     "iopub.status.idle": "2024-10-18T19:48:55.492273Z",
     "shell.execute_reply": "2024-10-18T19:48:55.492042Z"
    }
   },
   "outputs": [],
   "source": [
    "DP[\"min_z\"]"
   ]
  },
  {
   "cell_type": "code",
   "execution_count": null,
   "metadata": {
    "execution": {
     "iopub.execute_input": "2024-10-18T19:48:55.493701Z",
     "iopub.status.busy": "2024-10-18T19:48:55.493616Z",
     "iopub.status.idle": "2024-10-18T19:49:08.640383Z",
     "shell.execute_reply": "2024-10-18T19:49:08.640038Z"
    }
   },
   "outputs": [],
   "source": [
    "I.header[\"Bcurr\"] = 0  # SC off\n",
    "I.header[\"Dt\"] = 1e-11\n",
    "PF = I.track(DP, 5)"
   ]
  },
  {
   "cell_type": "code",
   "execution_count": null,
   "metadata": {
    "execution": {
     "iopub.execute_input": "2024-10-18T19:49:08.642139Z",
     "iopub.status.busy": "2024-10-18T19:49:08.642030Z",
     "iopub.status.idle": "2024-10-18T19:49:08.877838Z",
     "shell.execute_reply": "2024-10-18T19:49:08.877582Z"
    }
   },
   "outputs": [],
   "source": [
    "PI = I.particles[\"initial_particles\"]\n",
    "PI.plot(\"z\", \"x\")"
   ]
  },
  {
   "cell_type": "code",
   "execution_count": null,
   "metadata": {
    "execution": {
     "iopub.execute_input": "2024-10-18T19:49:08.879981Z",
     "iopub.status.busy": "2024-10-18T19:49:08.879861Z",
     "iopub.status.idle": "2024-10-18T19:49:09.084020Z",
     "shell.execute_reply": "2024-10-18T19:49:09.083777Z"
    }
   },
   "outputs": [],
   "source": [
    "PF.plot(\"delta_z\", \"delta_pz\")"
   ]
  },
  {
   "cell_type": "code",
   "execution_count": null,
   "metadata": {
    "execution": {
     "iopub.execute_input": "2024-10-18T19:49:09.085497Z",
     "iopub.status.busy": "2024-10-18T19:49:09.085391Z",
     "iopub.status.idle": "2024-10-18T19:49:09.170954Z",
     "shell.execute_reply": "2024-10-18T19:49:09.170712Z"
    }
   },
   "outputs": [],
   "source": [
    "# Compare these.\n",
    "key1 = \"mean_z\"\n",
    "key2 = \"mean_kinetic_energy\"\n",
    "units1 = str(I.units(key1))\n",
    "units2 = str(I.units(key2))\n",
    "plt.xlabel(key1 + f\" ({units1})\")\n",
    "plt.ylabel(key2 + f\" ({units2})\")\n",
    "plt.plot(I.stat(key1), I.stat(key2))\n",
    "plt.scatter(\n",
    "    [I.particles[name][key1] for name in I.particles],\n",
    "    [I.particles[name][key2] for name in I.particles],\n",
    "    color=\"red\",\n",
    ")"
   ]
  }
 ],
 "metadata": {
  "kernelspec": {
   "display_name": "Python 3 (ipykernel)",
   "language": "python",
   "name": "python3"
  },
  "language_info": {
   "codemirror_mode": {
    "name": "ipython",
    "version": 3
   },
   "file_extension": ".py",
   "mimetype": "text/x-python",
   "name": "python",
   "nbconvert_exporter": "python",
   "pygments_lexer": "ipython3",
   "version": "3.12.6"
  }
 },
 "nbformat": 4,
 "nbformat_minor": 4
}
