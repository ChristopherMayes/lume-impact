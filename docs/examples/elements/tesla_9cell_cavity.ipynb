{
 "cells": [
  {
   "cell_type": "markdown",
   "metadata": {},
   "source": [
    "# TESLA 9-cell Cavity\n",
    "\n"
   ]
  },
  {
   "cell_type": "code",
   "execution_count": null,
   "metadata": {
    "execution": {
     "iopub.execute_input": "2025-02-20T21:24:00.882685Z",
     "iopub.status.busy": "2025-02-20T21:24:00.882289Z",
     "iopub.status.idle": "2025-02-20T21:24:01.952723Z",
     "shell.execute_reply": "2025-02-20T21:24:01.952350Z"
    }
   },
   "outputs": [],
   "source": [
    "from impact import Impact\n",
    "from pmd_beamphysics.units import mec2\n",
    "import numpy as np\n",
    "import os\n",
    "\n",
    "import matplotlib.pyplot as plt\n",
    "\n",
    "%config InlineBackend.figure_format='retina'"
   ]
  },
  {
   "cell_type": "code",
   "execution_count": null,
   "metadata": {
    "execution": {
     "iopub.execute_input": "2025-02-20T21:24:01.954367Z",
     "iopub.status.busy": "2025-02-20T21:24:01.954203Z",
     "iopub.status.idle": "2025-02-20T21:24:01.957420Z",
     "shell.execute_reply": "2025-02-20T21:24:01.957180Z"
    }
   },
   "outputs": [],
   "source": [
    "ifile1 = \"../templates/tesla_9cell_cavity/ImpactT-1d.in\"\n",
    "ifile2 = \"../templates/tesla_9cell_cavity/ImpactT-2d.in\"\n",
    "os.path.exists(ifile1), os.path.exists(ifile2)"
   ]
  },
  {
   "cell_type": "code",
   "execution_count": null,
   "metadata": {
    "execution": {
     "iopub.execute_input": "2025-02-20T21:24:01.977190Z",
     "iopub.status.busy": "2025-02-20T21:24:01.977081Z",
     "iopub.status.idle": "2025-02-20T21:24:01.979373Z",
     "shell.execute_reply": "2025-02-20T21:24:01.979124Z"
    }
   },
   "outputs": [],
   "source": [
    "# calculate gamma*beta\n",
    "Etot = 10e6  # eV\n",
    "gamma = Etot / mec2\n",
    "GB = np.sqrt(gamma**2 - 1)\n",
    "GB\n",
    "\n",
    "GB, np.sqrt(Etot**2 - mec2**2)"
   ]
  },
  {
   "cell_type": "code",
   "execution_count": null,
   "metadata": {
    "execution": {
     "iopub.execute_input": "2025-02-20T21:24:01.980532Z",
     "iopub.status.busy": "2025-02-20T21:24:01.980438Z",
     "iopub.status.idle": "2025-02-20T21:24:19.824598Z",
     "shell.execute_reply": "2025-02-20T21:24:19.824142Z"
    }
   },
   "outputs": [],
   "source": [
    "%%time\n",
    "I1 = Impact(ifile1)\n",
    "I1.run()\n",
    "I1.plot(y2=\"mean_kinetic_energy\")"
   ]
  },
  {
   "cell_type": "code",
   "execution_count": null,
   "metadata": {
    "execution": {
     "iopub.execute_input": "2025-02-20T21:24:19.825917Z",
     "iopub.status.busy": "2025-02-20T21:24:19.825794Z",
     "iopub.status.idle": "2025-02-20T21:24:23.346945Z",
     "shell.execute_reply": "2025-02-20T21:24:23.346627Z"
    }
   },
   "outputs": [],
   "source": [
    "%%time\n",
    "I2 = Impact(ifile2)\n",
    "I2.run()\n",
    "I2.plot(y2=\"mean_kinetic_energy\")"
   ]
  },
  {
   "cell_type": "code",
   "execution_count": null,
   "metadata": {
    "execution": {
     "iopub.execute_input": "2025-02-20T21:24:23.348339Z",
     "iopub.status.busy": "2025-02-20T21:24:23.348216Z",
     "iopub.status.idle": "2025-02-20T21:24:23.576970Z",
     "shell.execute_reply": "2025-02-20T21:24:23.576685Z"
    }
   },
   "outputs": [],
   "source": [
    "I1.particles[\"final_particles\"].plot(\"z\", \"pz\", bins=100)"
   ]
  },
  {
   "cell_type": "code",
   "execution_count": null,
   "metadata": {
    "execution": {
     "iopub.execute_input": "2025-02-20T21:24:23.578328Z",
     "iopub.status.busy": "2025-02-20T21:24:23.578225Z",
     "iopub.status.idle": "2025-02-20T21:24:23.768234Z",
     "shell.execute_reply": "2025-02-20T21:24:23.767959Z"
    }
   },
   "outputs": [],
   "source": [
    "I2.particles[\"final_particles\"].plot(\"z\", \"pz\", bins=100)"
   ]
  },
  {
   "cell_type": "code",
   "execution_count": null,
   "metadata": {
    "execution": {
     "iopub.execute_input": "2025-02-20T21:24:23.769651Z",
     "iopub.status.busy": "2025-02-20T21:24:23.769541Z",
     "iopub.status.idle": "2025-02-20T21:24:23.876099Z",
     "shell.execute_reply": "2025-02-20T21:24:23.875821Z"
    }
   },
   "outputs": [],
   "source": [
    "# ky = 'mean_kinetic_energy'\n",
    "def compare(ky=\"sigma_x\", kx=\"mean_z\"):\n",
    "    fig, ax = plt.subplots(figsize=(12, 6))\n",
    "    ax.plot(I1.stat(kx), I1.stat(ky), label=\"Impact-T 1D\")\n",
    "    ax.plot(I2.stat(kx), I2.stat(ky), label=\"Impact-T 2D\", linestyle=\"--\")\n",
    "    ax.legend()\n",
    "    # ax.set_xlim(0,2)\n",
    "\n",
    "    ax.set_xlabel(kx)\n",
    "    ax.set_ylabel(ky)\n",
    "\n",
    "\n",
    "compare()"
   ]
  },
  {
   "cell_type": "markdown",
   "metadata": {},
   "source": [
    "# Use Impact's built-in Gaussian particle generator"
   ]
  },
  {
   "cell_type": "code",
   "execution_count": null,
   "metadata": {
    "execution": {
     "iopub.execute_input": "2025-02-20T21:24:23.877456Z",
     "iopub.status.busy": "2025-02-20T21:24:23.877352Z",
     "iopub.status.idle": "2025-02-20T21:24:41.481728Z",
     "shell.execute_reply": "2025-02-20T21:24:41.481339Z"
    }
   },
   "outputs": [],
   "source": [
    "I = Impact(ifile1)\n",
    "\n",
    "I.header[\"Dt\"] = 1e-12\n",
    "I.total_charge = 0  # Turn SC off\n",
    "print(I)\n",
    "I.run()\n",
    "I.particles[\"final_particles\"][\"sigma_x\"] / 1e-6"
   ]
  },
  {
   "cell_type": "code",
   "execution_count": null,
   "metadata": {
    "execution": {
     "iopub.execute_input": "2025-02-20T21:24:41.483178Z",
     "iopub.status.busy": "2025-02-20T21:24:41.483048Z",
     "iopub.status.idle": "2025-02-20T21:24:41.704215Z",
     "shell.execute_reply": "2025-02-20T21:24:41.703869Z"
    }
   },
   "outputs": [],
   "source": [
    "I.particles[\"final_particles\"].plot(\"delta_z\", \"delta_pz\")"
   ]
  },
  {
   "cell_type": "code",
   "execution_count": null,
   "metadata": {
    "execution": {
     "iopub.execute_input": "2025-02-20T21:24:41.705554Z",
     "iopub.status.busy": "2025-02-20T21:24:41.705444Z",
     "iopub.status.idle": "2025-02-20T21:24:41.707811Z",
     "shell.execute_reply": "2025-02-20T21:24:41.707539Z"
    }
   },
   "outputs": [],
   "source": [
    "I.lattice"
   ]
  },
  {
   "cell_type": "markdown",
   "metadata": {},
   "source": [
    "# Autophase"
   ]
  },
  {
   "cell_type": "code",
   "execution_count": null,
   "metadata": {
    "execution": {
     "iopub.execute_input": "2025-02-20T21:24:41.709134Z",
     "iopub.status.busy": "2025-02-20T21:24:41.709002Z",
     "iopub.status.idle": "2025-02-20T21:24:48.729343Z",
     "shell.execute_reply": "2025-02-20T21:24:48.729041Z"
    }
   },
   "outputs": [],
   "source": [
    "from impact.autophase import autophase\n",
    "\n",
    "from pmd_beamphysics import single_particle\n",
    "\n",
    "P0 = single_particle(pz=10e6, z=1e-15)\n",
    "\n",
    "autophase(\n",
    "    I2,\n",
    "    ele_name=\"cavity9\",\n",
    "    initial_particles=P0,\n",
    "    metric=\"mean_kinetic_energy\",\n",
    "    verbose=True,\n",
    ")"
   ]
  },
  {
   "cell_type": "code",
   "execution_count": null,
   "metadata": {
    "execution": {
     "iopub.execute_input": "2025-02-20T21:24:48.730779Z",
     "iopub.status.busy": "2025-02-20T21:24:48.730679Z",
     "iopub.status.idle": "2025-02-20T21:25:06.249273Z",
     "shell.execute_reply": "2025-02-20T21:25:06.248799Z"
    }
   },
   "outputs": [],
   "source": [
    "I.run()"
   ]
  },
  {
   "cell_type": "code",
   "execution_count": null,
   "metadata": {
    "execution": {
     "iopub.execute_input": "2025-02-20T21:25:06.250950Z",
     "iopub.status.busy": "2025-02-20T21:25:06.250814Z",
     "iopub.status.idle": "2025-02-20T21:25:06.253707Z",
     "shell.execute_reply": "2025-02-20T21:25:06.253424Z"
    }
   },
   "outputs": [],
   "source": [
    "(\n",
    "    I.particles[\"final_particles\"][\"mean_energy\"] / 1e6,\n",
    "    I.particles[\"final_particles\"][\"sigma_x\"] / 1e-6,\n",
    ")"
   ]
  },
  {
   "cell_type": "code",
   "execution_count": null,
   "metadata": {
    "execution": {
     "iopub.execute_input": "2025-02-20T21:25:06.254875Z",
     "iopub.status.busy": "2025-02-20T21:25:06.254784Z",
     "iopub.status.idle": "2025-02-20T21:25:06.331125Z",
     "shell.execute_reply": "2025-02-20T21:25:06.330893Z"
    }
   },
   "outputs": [],
   "source": [
    "# Compare these.\n",
    "key1 = \"mean_z\"\n",
    "key2 = \"sigma_x\"\n",
    "units1 = str(I.units(key1))\n",
    "units2 = str(I.units(key2))\n",
    "plt.xlabel(key1 + f\" ({units1})\")\n",
    "plt.ylabel(key2 + f\" ({units2})\")\n",
    "plt.plot(I.stat(key1), I.stat(key2))\n",
    "plt.scatter(\n",
    "    [I.particles[name][key1] for name in I.particles],\n",
    "    [I.particles[name][key2] for name in I.particles],\n",
    "    color=\"red\",\n",
    ")"
   ]
  },
  {
   "cell_type": "code",
   "execution_count": null,
   "metadata": {
    "execution": {
     "iopub.execute_input": "2025-02-20T21:25:06.332338Z",
     "iopub.status.busy": "2025-02-20T21:25:06.332235Z",
     "iopub.status.idle": "2025-02-20T21:25:06.334347Z",
     "shell.execute_reply": "2025-02-20T21:25:06.334127Z"
    }
   },
   "outputs": [],
   "source": [
    "I.output[\"stats\"].keys()"
   ]
  },
  {
   "cell_type": "code",
   "execution_count": null,
   "metadata": {
    "execution": {
     "iopub.execute_input": "2025-02-20T21:25:06.335353Z",
     "iopub.status.busy": "2025-02-20T21:25:06.335271Z",
     "iopub.status.idle": "2025-02-20T21:25:06.336748Z",
     "shell.execute_reply": "2025-02-20T21:25:06.336547Z"
    }
   },
   "outputs": [],
   "source": [
    "PI = I.particles[\"initial_particles\"]\n",
    "PF = I.particles[\"final_particles\"]"
   ]
  },
  {
   "cell_type": "code",
   "execution_count": null,
   "metadata": {
    "execution": {
     "iopub.execute_input": "2025-02-20T21:25:06.337798Z",
     "iopub.status.busy": "2025-02-20T21:25:06.337715Z",
     "iopub.status.idle": "2025-02-20T21:25:06.339796Z",
     "shell.execute_reply": "2025-02-20T21:25:06.339507Z"
    }
   },
   "outputs": [],
   "source": [
    "PI[\"mean_pz\"]"
   ]
  },
  {
   "cell_type": "code",
   "execution_count": null,
   "metadata": {
    "execution": {
     "iopub.execute_input": "2025-02-20T21:25:06.340849Z",
     "iopub.status.busy": "2025-02-20T21:25:06.340763Z",
     "iopub.status.idle": "2025-02-20T21:25:06.501610Z",
     "shell.execute_reply": "2025-02-20T21:25:06.501343Z"
    }
   },
   "outputs": [],
   "source": [
    "PF.plot(\"delta_z\", \"delta_pz\")"
   ]
  },
  {
   "cell_type": "markdown",
   "metadata": {},
   "source": [
    "# Make particles in distgen"
   ]
  },
  {
   "cell_type": "code",
   "execution_count": null,
   "metadata": {
    "execution": {
     "iopub.execute_input": "2025-02-20T21:25:06.502952Z",
     "iopub.status.busy": "2025-02-20T21:25:06.502847Z",
     "iopub.status.idle": "2025-02-20T21:25:06.519334Z",
     "shell.execute_reply": "2025-02-20T21:25:06.519110Z"
    }
   },
   "outputs": [],
   "source": [
    "from distgen import Generator\n",
    "\n",
    "YAML = \"\"\"\n",
    "n_particle: 10000\n",
    "random_type: hammersley\n",
    "species: electron\n",
    "start:\n",
    "  tstart:\n",
    "    units: sec\n",
    "    value: 0\n",
    "  type: time\n",
    "total_charge:\n",
    "  units: nC\n",
    "  value: 1\n",
    "r_dist:\n",
    "  sigma_xy:\n",
    "    units: mm\n",
    "    value: .01\n",
    "  type: radial_gaussian\n",
    "z_dist:\n",
    "  avg_z:\n",
    "    units: mm\n",
    "    value: 0\n",
    "  sigma_z:\n",
    "    units: mm\n",
    "    value: 0.1\n",
    "  type: gaussian\n",
    "  \n",
    "\n",
    "transforms:\n",
    "  setPz:\n",
    "    type: set_avg pz\n",
    "    avg_pz: \n",
    "      value: 99.99869439159244\n",
    "      units: MeV/c\n",
    "  \n",
    "\"\"\"\n",
    "G = Generator(YAML)\n",
    "G.run()\n",
    "P = G.particles"
   ]
  },
  {
   "cell_type": "code",
   "execution_count": null,
   "metadata": {
    "execution": {
     "iopub.execute_input": "2025-02-20T21:25:06.520498Z",
     "iopub.status.busy": "2025-02-20T21:25:06.520399Z",
     "iopub.status.idle": "2025-02-20T21:25:24.185179Z",
     "shell.execute_reply": "2025-02-20T21:25:24.184777Z"
    }
   },
   "outputs": [],
   "source": [
    "I2 = I.copy()\n",
    "I2.initial_particles = P\n",
    "I2.configure()\n",
    "I2.total_charge = 0  # or: P['charge']\n",
    "I2.run()\n",
    "PF2 = I2.particles[\"final_particles\"]"
   ]
  },
  {
   "cell_type": "code",
   "execution_count": null,
   "metadata": {
    "execution": {
     "iopub.execute_input": "2025-02-20T21:25:24.186830Z",
     "iopub.status.busy": "2025-02-20T21:25:24.186704Z",
     "iopub.status.idle": "2025-02-20T21:25:24.494310Z",
     "shell.execute_reply": "2025-02-20T21:25:24.494032Z"
    }
   },
   "outputs": [],
   "source": [
    "PF2.plot(\"x\", \"px\")\n",
    "PF2.plot(\"delta_z\", \"delta_pz\")"
   ]
  },
  {
   "cell_type": "markdown",
   "metadata": {},
   "source": [
    "# Compare"
   ]
  },
  {
   "cell_type": "code",
   "execution_count": null,
   "metadata": {
    "execution": {
     "iopub.execute_input": "2025-02-20T21:25:24.495677Z",
     "iopub.status.busy": "2025-02-20T21:25:24.495575Z",
     "iopub.status.idle": "2025-02-20T21:25:24.497203Z",
     "shell.execute_reply": "2025-02-20T21:25:24.496981Z"
    }
   },
   "outputs": [],
   "source": [
    "# for k in ['x', 'px', 'z', 'pz']:\n",
    "#    plt.hist(PF[k], density=True, bins=100, label='Impact-T generator', alpha=0.5)\n",
    "#    plt.hist(PF2[k], density=True, bins=100, label='Distgen generator', alpha=0.5)\n",
    "#    plt.xlabel(k)\n",
    "#    plt.legend()\n",
    "#    plt.show()"
   ]
  },
  {
   "cell_type": "code",
   "execution_count": null,
   "metadata": {},
   "outputs": [],
   "source": []
  }
 ],
 "metadata": {
  "kernelspec": {
   "display_name": "Python 3 (ipykernel)",
   "language": "python",
   "name": "python3"
  },
  "language_info": {
   "codemirror_mode": {
    "name": "ipython",
    "version": 3
   },
   "file_extension": ".py",
   "mimetype": "text/x-python",
   "name": "python",
   "nbconvert_exporter": "python",
   "pygments_lexer": "ipython3",
   "version": "3.12.8"
  }
 },
 "nbformat": 4,
 "nbformat_minor": 4
}
