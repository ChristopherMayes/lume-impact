{
 "cells": [
  {
   "cell_type": "markdown",
   "metadata": {},
   "source": [
    "# TESLA 9-cell Cavity\n",
    "\n"
   ]
  },
  {
   "cell_type": "code",
   "execution_count": null,
   "metadata": {
    "execution": {
     "iopub.execute_input": "2025-02-12T18:05:06.649555Z",
     "iopub.status.busy": "2025-02-12T18:05:06.649022Z",
     "iopub.status.idle": "2025-02-12T18:05:07.687872Z",
     "shell.execute_reply": "2025-02-12T18:05:07.687532Z"
    }
   },
   "outputs": [],
   "source": [
    "from impact import Impact\n",
    "from pmd_beamphysics.units import mec2\n",
    "import numpy as np\n",
    "import os\n",
    "\n",
    "import matplotlib.pyplot as plt\n",
    "\n",
    "%config InlineBackend.figure_format='retina'"
   ]
  },
  {
   "cell_type": "code",
   "execution_count": null,
   "metadata": {
    "execution": {
     "iopub.execute_input": "2025-02-12T18:05:07.689477Z",
     "iopub.status.busy": "2025-02-12T18:05:07.689332Z",
     "iopub.status.idle": "2025-02-12T18:05:07.692484Z",
     "shell.execute_reply": "2025-02-12T18:05:07.692248Z"
    }
   },
   "outputs": [],
   "source": [
    "ifile1 = \"../templates/tesla_9cell_cavity/ImpactT-1d.in\"\n",
    "ifile2 = \"../templates/tesla_9cell_cavity/ImpactT-2d.in\"\n",
    "os.path.exists(ifile1), os.path.exists(ifile2)"
   ]
  },
  {
   "cell_type": "code",
   "execution_count": null,
   "metadata": {
    "execution": {
     "iopub.execute_input": "2025-02-12T18:05:07.713201Z",
     "iopub.status.busy": "2025-02-12T18:05:07.713076Z",
     "iopub.status.idle": "2025-02-12T18:05:07.715298Z",
     "shell.execute_reply": "2025-02-12T18:05:07.715056Z"
    }
   },
   "outputs": [],
   "source": [
    "# calculate gamma*beta\n",
    "Etot = 10e6  # eV\n",
    "gamma = Etot / mec2\n",
    "GB = np.sqrt(gamma**2 - 1)\n",
    "GB\n",
    "\n",
    "GB, np.sqrt(Etot**2 - mec2**2)"
   ]
  },
  {
   "cell_type": "code",
   "execution_count": null,
   "metadata": {
    "execution": {
     "iopub.execute_input": "2025-02-12T18:05:07.716413Z",
     "iopub.status.busy": "2025-02-12T18:05:07.716322Z",
     "iopub.status.idle": "2025-02-12T18:05:25.426980Z",
     "shell.execute_reply": "2025-02-12T18:05:25.426662Z"
    }
   },
   "outputs": [],
   "source": [
    "%%time\n",
    "I1 = Impact(ifile1)\n",
    "I1.run()\n",
    "I1.plot(y2=\"mean_kinetic_energy\")"
   ]
  },
  {
   "cell_type": "code",
   "execution_count": null,
   "metadata": {
    "execution": {
     "iopub.execute_input": "2025-02-12T18:05:25.428364Z",
     "iopub.status.busy": "2025-02-12T18:05:25.428238Z",
     "iopub.status.idle": "2025-02-12T18:05:28.948151Z",
     "shell.execute_reply": "2025-02-12T18:05:28.947816Z"
    }
   },
   "outputs": [],
   "source": [
    "%%time\n",
    "I2 = Impact(ifile2)\n",
    "I2.run()\n",
    "I2.plot(y2=\"mean_kinetic_energy\")"
   ]
  },
  {
   "cell_type": "code",
   "execution_count": null,
   "metadata": {
    "execution": {
     "iopub.execute_input": "2025-02-12T18:05:28.949712Z",
     "iopub.status.busy": "2025-02-12T18:05:28.949422Z",
     "iopub.status.idle": "2025-02-12T18:05:29.177397Z",
     "shell.execute_reply": "2025-02-12T18:05:29.177104Z"
    }
   },
   "outputs": [],
   "source": [
    "I1.particles[\"final_particles\"].plot(\"z\", \"pz\", bins=100)"
   ]
  },
  {
   "cell_type": "code",
   "execution_count": null,
   "metadata": {
    "execution": {
     "iopub.execute_input": "2025-02-12T18:05:29.178740Z",
     "iopub.status.busy": "2025-02-12T18:05:29.178640Z",
     "iopub.status.idle": "2025-02-12T18:05:29.366224Z",
     "shell.execute_reply": "2025-02-12T18:05:29.365977Z"
    }
   },
   "outputs": [],
   "source": [
    "I2.particles[\"final_particles\"].plot(\"z\", \"pz\", bins=100)"
   ]
  },
  {
   "cell_type": "code",
   "execution_count": null,
   "metadata": {
    "execution": {
     "iopub.execute_input": "2025-02-12T18:05:29.367669Z",
     "iopub.status.busy": "2025-02-12T18:05:29.367486Z",
     "iopub.status.idle": "2025-02-12T18:05:29.475199Z",
     "shell.execute_reply": "2025-02-12T18:05:29.474900Z"
    }
   },
   "outputs": [],
   "source": [
    "# ky = 'mean_kinetic_energy'\n",
    "def compare(ky=\"sigma_x\", kx=\"mean_z\"):\n",
    "    fig, ax = plt.subplots(figsize=(12, 6))\n",
    "    ax.plot(I1.stat(kx), I1.stat(ky), label=\"Impact-T 1D\")\n",
    "    ax.plot(I2.stat(kx), I2.stat(ky), label=\"Impact-T 2D\", linestyle=\"--\")\n",
    "    ax.legend()\n",
    "    # ax.set_xlim(0,2)\n",
    "\n",
    "    ax.set_xlabel(kx)\n",
    "    ax.set_ylabel(ky)\n",
    "\n",
    "\n",
    "compare()"
   ]
  },
  {
   "cell_type": "markdown",
   "metadata": {},
   "source": [
    "# Use Impact's built-in Gaussian particle generator"
   ]
  },
  {
   "cell_type": "code",
   "execution_count": null,
   "metadata": {
    "execution": {
     "iopub.execute_input": "2025-02-12T18:05:29.476566Z",
     "iopub.status.busy": "2025-02-12T18:05:29.476453Z",
     "iopub.status.idle": "2025-02-12T18:05:47.110983Z",
     "shell.execute_reply": "2025-02-12T18:05:47.110638Z"
    }
   },
   "outputs": [],
   "source": [
    "I = Impact(ifile1)\n",
    "\n",
    "I.header[\"Dt\"] = 1e-12\n",
    "I.total_charge = 0  # Turn SC off\n",
    "print(I)\n",
    "I.run()\n",
    "I.particles[\"final_particles\"][\"sigma_x\"] / 1e-6"
   ]
  },
  {
   "cell_type": "code",
   "execution_count": null,
   "metadata": {
    "execution": {
     "iopub.execute_input": "2025-02-12T18:05:47.112342Z",
     "iopub.status.busy": "2025-02-12T18:05:47.112245Z",
     "iopub.status.idle": "2025-02-12T18:05:47.329341Z",
     "shell.execute_reply": "2025-02-12T18:05:47.329072Z"
    }
   },
   "outputs": [],
   "source": [
    "I.particles[\"final_particles\"].plot(\"delta_z\", \"delta_pz\")"
   ]
  },
  {
   "cell_type": "code",
   "execution_count": null,
   "metadata": {
    "execution": {
     "iopub.execute_input": "2025-02-12T18:05:47.330628Z",
     "iopub.status.busy": "2025-02-12T18:05:47.330513Z",
     "iopub.status.idle": "2025-02-12T18:05:47.332837Z",
     "shell.execute_reply": "2025-02-12T18:05:47.332596Z"
    }
   },
   "outputs": [],
   "source": [
    "I.lattice"
   ]
  },
  {
   "cell_type": "markdown",
   "metadata": {},
   "source": [
    "# Autophase"
   ]
  },
  {
   "cell_type": "code",
   "execution_count": null,
   "metadata": {
    "execution": {
     "iopub.execute_input": "2025-02-12T18:05:47.334001Z",
     "iopub.status.busy": "2025-02-12T18:05:47.333890Z",
     "iopub.status.idle": "2025-02-12T18:05:54.427938Z",
     "shell.execute_reply": "2025-02-12T18:05:54.427635Z"
    }
   },
   "outputs": [],
   "source": [
    "from impact.autophase import autophase\n",
    "\n",
    "from pmd_beamphysics import single_particle\n",
    "\n",
    "P0 = single_particle(pz=10e6, z=1e-15)\n",
    "\n",
    "autophase(\n",
    "    I2,\n",
    "    ele_name=\"cavity9\",\n",
    "    initial_particles=P0,\n",
    "    metric=\"mean_kinetic_energy\",\n",
    "    verbose=True,\n",
    ")"
   ]
  },
  {
   "cell_type": "code",
   "execution_count": null,
   "metadata": {
    "execution": {
     "iopub.execute_input": "2025-02-12T18:05:54.429342Z",
     "iopub.status.busy": "2025-02-12T18:05:54.429254Z",
     "iopub.status.idle": "2025-02-12T18:06:12.083973Z",
     "shell.execute_reply": "2025-02-12T18:06:12.083421Z"
    }
   },
   "outputs": [],
   "source": [
    "I.run()"
   ]
  },
  {
   "cell_type": "code",
   "execution_count": null,
   "metadata": {
    "execution": {
     "iopub.execute_input": "2025-02-12T18:06:12.085608Z",
     "iopub.status.busy": "2025-02-12T18:06:12.085479Z",
     "iopub.status.idle": "2025-02-12T18:06:12.088232Z",
     "shell.execute_reply": "2025-02-12T18:06:12.087989Z"
    }
   },
   "outputs": [],
   "source": [
    "(\n",
    "    I.particles[\"final_particles\"][\"mean_energy\"] / 1e6,\n",
    "    I.particles[\"final_particles\"][\"sigma_x\"] / 1e-6,\n",
    ")"
   ]
  },
  {
   "cell_type": "code",
   "execution_count": null,
   "metadata": {
    "execution": {
     "iopub.execute_input": "2025-02-12T18:06:12.089362Z",
     "iopub.status.busy": "2025-02-12T18:06:12.089266Z",
     "iopub.status.idle": "2025-02-12T18:06:12.162739Z",
     "shell.execute_reply": "2025-02-12T18:06:12.162493Z"
    }
   },
   "outputs": [],
   "source": [
    "# Compare these.\n",
    "key1 = \"mean_z\"\n",
    "key2 = \"sigma_x\"\n",
    "units1 = str(I.units(key1))\n",
    "units2 = str(I.units(key2))\n",
    "plt.xlabel(key1 + f\" ({units1})\")\n",
    "plt.ylabel(key2 + f\" ({units2})\")\n",
    "plt.plot(I.stat(key1), I.stat(key2))\n",
    "plt.scatter(\n",
    "    [I.particles[name][key1] for name in I.particles],\n",
    "    [I.particles[name][key2] for name in I.particles],\n",
    "    color=\"red\",\n",
    ")"
   ]
  },
  {
   "cell_type": "code",
   "execution_count": null,
   "metadata": {
    "execution": {
     "iopub.execute_input": "2025-02-12T18:06:12.164227Z",
     "iopub.status.busy": "2025-02-12T18:06:12.164107Z",
     "iopub.status.idle": "2025-02-12T18:06:12.166235Z",
     "shell.execute_reply": "2025-02-12T18:06:12.166018Z"
    }
   },
   "outputs": [],
   "source": [
    "I.output[\"stats\"].keys()"
   ]
  },
  {
   "cell_type": "code",
   "execution_count": null,
   "metadata": {
    "execution": {
     "iopub.execute_input": "2025-02-12T18:06:12.167368Z",
     "iopub.status.busy": "2025-02-12T18:06:12.167272Z",
     "iopub.status.idle": "2025-02-12T18:06:12.168763Z",
     "shell.execute_reply": "2025-02-12T18:06:12.168556Z"
    }
   },
   "outputs": [],
   "source": [
    "PI = I.particles[\"initial_particles\"]\n",
    "PF = I.particles[\"final_particles\"]"
   ]
  },
  {
   "cell_type": "code",
   "execution_count": null,
   "metadata": {
    "execution": {
     "iopub.execute_input": "2025-02-12T18:06:12.169765Z",
     "iopub.status.busy": "2025-02-12T18:06:12.169688Z",
     "iopub.status.idle": "2025-02-12T18:06:12.171659Z",
     "shell.execute_reply": "2025-02-12T18:06:12.171437Z"
    }
   },
   "outputs": [],
   "source": [
    "PI[\"mean_pz\"]"
   ]
  },
  {
   "cell_type": "code",
   "execution_count": null,
   "metadata": {
    "execution": {
     "iopub.execute_input": "2025-02-12T18:06:12.172716Z",
     "iopub.status.busy": "2025-02-12T18:06:12.172647Z",
     "iopub.status.idle": "2025-02-12T18:06:12.327730Z",
     "shell.execute_reply": "2025-02-12T18:06:12.327464Z"
    }
   },
   "outputs": [],
   "source": [
    "PF.plot(\"delta_z\", \"delta_pz\")"
   ]
  },
  {
   "cell_type": "markdown",
   "metadata": {},
   "source": [
    "# Make particles in distgen"
   ]
  },
  {
   "cell_type": "code",
   "execution_count": null,
   "metadata": {
    "execution": {
     "iopub.execute_input": "2025-02-12T18:06:12.329118Z",
     "iopub.status.busy": "2025-02-12T18:06:12.329017Z",
     "iopub.status.idle": "2025-02-12T18:06:12.346545Z",
     "shell.execute_reply": "2025-02-12T18:06:12.346262Z"
    }
   },
   "outputs": [],
   "source": [
    "from distgen import Generator\n",
    "\n",
    "YAML = \"\"\"\n",
    "n_particle: 10000\n",
    "random_type: hammersley\n",
    "species: electron\n",
    "start:\n",
    "  tstart:\n",
    "    units: sec\n",
    "    value: 0\n",
    "  type: time\n",
    "total_charge:\n",
    "  units: nC\n",
    "  value: 1\n",
    "r_dist:\n",
    "  sigma_xy:\n",
    "    units: mm\n",
    "    value: .01\n",
    "  type: radial_gaussian\n",
    "z_dist:\n",
    "  avg_z:\n",
    "    units: mm\n",
    "    value: 0\n",
    "  sigma_z:\n",
    "    units: mm\n",
    "    value: 0.1\n",
    "  type: gaussian\n",
    "  \n",
    "\n",
    "transforms:\n",
    "  setPz:\n",
    "    type: set_avg pz\n",
    "    avg_pz: \n",
    "      value: 99.99869439159244\n",
    "      units: MeV/c\n",
    "  \n",
    "\"\"\"\n",
    "G = Generator(YAML)\n",
    "G.run()\n",
    "P = G.particles"
   ]
  },
  {
   "cell_type": "code",
   "execution_count": null,
   "metadata": {
    "execution": {
     "iopub.execute_input": "2025-02-12T18:06:12.347748Z",
     "iopub.status.busy": "2025-02-12T18:06:12.347673Z",
     "iopub.status.idle": "2025-02-12T18:06:29.819348Z",
     "shell.execute_reply": "2025-02-12T18:06:29.818788Z"
    }
   },
   "outputs": [],
   "source": [
    "I2 = I.copy()\n",
    "I2.initial_particles = P\n",
    "I2.configure()\n",
    "I2.total_charge = 0  # or: P['charge']\n",
    "I2.run()\n",
    "PF2 = I2.particles[\"final_particles\"]"
   ]
  },
  {
   "cell_type": "code",
   "execution_count": null,
   "metadata": {
    "execution": {
     "iopub.execute_input": "2025-02-12T18:06:29.820955Z",
     "iopub.status.busy": "2025-02-12T18:06:29.820816Z",
     "iopub.status.idle": "2025-02-12T18:06:30.116579Z",
     "shell.execute_reply": "2025-02-12T18:06:30.116300Z"
    }
   },
   "outputs": [],
   "source": [
    "PF2.plot(\"x\", \"px\")\n",
    "PF2.plot(\"delta_z\", \"delta_pz\")"
   ]
  },
  {
   "cell_type": "markdown",
   "metadata": {},
   "source": [
    "# Compare"
   ]
  },
  {
   "cell_type": "code",
   "execution_count": null,
   "metadata": {
    "execution": {
     "iopub.execute_input": "2025-02-12T18:06:30.117959Z",
     "iopub.status.busy": "2025-02-12T18:06:30.117855Z",
     "iopub.status.idle": "2025-02-12T18:06:30.119474Z",
     "shell.execute_reply": "2025-02-12T18:06:30.119252Z"
    }
   },
   "outputs": [],
   "source": [
    "# for k in ['x', 'px', 'z', 'pz']:\n",
    "#    plt.hist(PF[k], density=True, bins=100, label='Impact-T generator', alpha=0.5)\n",
    "#    plt.hist(PF2[k], density=True, bins=100, label='Distgen generator', alpha=0.5)\n",
    "#    plt.xlabel(k)\n",
    "#    plt.legend()\n",
    "#    plt.show()"
   ]
  },
  {
   "cell_type": "code",
   "execution_count": null,
   "metadata": {},
   "outputs": [],
   "source": []
  }
 ],
 "metadata": {
  "kernelspec": {
   "display_name": "Python 3 (ipykernel)",
   "language": "python",
   "name": "python3"
  },
  "language_info": {
   "codemirror_mode": {
    "name": "ipython",
    "version": 3
   },
   "file_extension": ".py",
   "mimetype": "text/x-python",
   "name": "python",
   "nbconvert_exporter": "python",
   "pygments_lexer": "ipython3",
   "version": "3.12.8"
  }
 },
 "nbformat": 4,
 "nbformat_minor": 4
}
