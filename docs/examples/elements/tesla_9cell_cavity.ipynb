{
 "cells": [
  {
   "cell_type": "markdown",
   "metadata": {},
   "source": [
    "# TESLA 9-cell Cavity\n",
    "\n"
   ]
  },
  {
   "cell_type": "code",
   "execution_count": null,
   "metadata": {
    "execution": {
     "iopub.execute_input": "2024-10-18T19:49:17.268696Z",
     "iopub.status.busy": "2024-10-18T19:49:17.268243Z",
     "iopub.status.idle": "2024-10-18T19:49:18.212220Z",
     "shell.execute_reply": "2024-10-18T19:49:18.211921Z"
    }
   },
   "outputs": [],
   "source": [
    "from impact import Impact\n",
    "from pmd_beamphysics.units import mec2\n",
    "import numpy as np\n",
    "import os\n",
    "\n",
    "import matplotlib.pyplot as plt\n",
    "\n",
    "%config InlineBackend.figure_format='retina'"
   ]
  },
  {
   "cell_type": "code",
   "execution_count": null,
   "metadata": {
    "execution": {
     "iopub.execute_input": "2024-10-18T19:49:18.213918Z",
     "iopub.status.busy": "2024-10-18T19:49:18.213772Z",
     "iopub.status.idle": "2024-10-18T19:49:18.216786Z",
     "shell.execute_reply": "2024-10-18T19:49:18.216584Z"
    }
   },
   "outputs": [],
   "source": [
    "ifile1 = \"../templates/tesla_9cell_cavity/ImpactT-1d.in\"\n",
    "ifile2 = \"../templates/tesla_9cell_cavity/ImpactT-2d.in\"\n",
    "os.path.exists(ifile1), os.path.exists(ifile2)"
   ]
  },
  {
   "cell_type": "code",
   "execution_count": null,
   "metadata": {
    "execution": {
     "iopub.execute_input": "2024-10-18T19:49:18.237867Z",
     "iopub.status.busy": "2024-10-18T19:49:18.237723Z",
     "iopub.status.idle": "2024-10-18T19:49:18.240046Z",
     "shell.execute_reply": "2024-10-18T19:49:18.239818Z"
    }
   },
   "outputs": [],
   "source": [
    "# calculate gamma*beta\n",
    "Etot = 10e6  # eV\n",
    "gamma = Etot / mec2\n",
    "GB = np.sqrt(gamma**2 - 1)\n",
    "GB\n",
    "\n",
    "GB, np.sqrt(Etot**2 - mec2**2)"
   ]
  },
  {
   "cell_type": "code",
   "execution_count": null,
   "metadata": {
    "execution": {
     "iopub.execute_input": "2024-10-18T19:49:18.241360Z",
     "iopub.status.busy": "2024-10-18T19:49:18.241261Z",
     "iopub.status.idle": "2024-10-18T19:49:36.459504Z",
     "shell.execute_reply": "2024-10-18T19:49:36.459253Z"
    }
   },
   "outputs": [],
   "source": [
    "%%time\n",
    "I1 = Impact(ifile1)\n",
    "I1.run()\n",
    "I1.plot(y2=\"mean_kinetic_energy\")"
   ]
  },
  {
   "cell_type": "code",
   "execution_count": null,
   "metadata": {
    "execution": {
     "iopub.execute_input": "2024-10-18T19:49:36.461253Z",
     "iopub.status.busy": "2024-10-18T19:49:36.461119Z",
     "iopub.status.idle": "2024-10-18T19:49:40.042775Z",
     "shell.execute_reply": "2024-10-18T19:49:40.042516Z"
    }
   },
   "outputs": [],
   "source": [
    "%%time\n",
    "I2 = Impact(ifile2)\n",
    "I2.run()\n",
    "I2.plot(y2=\"mean_kinetic_energy\")"
   ]
  },
  {
   "cell_type": "code",
   "execution_count": null,
   "metadata": {
    "execution": {
     "iopub.execute_input": "2024-10-18T19:49:40.044234Z",
     "iopub.status.busy": "2024-10-18T19:49:40.044118Z",
     "iopub.status.idle": "2024-10-18T19:49:40.254028Z",
     "shell.execute_reply": "2024-10-18T19:49:40.253792Z"
    }
   },
   "outputs": [],
   "source": [
    "I1.particles[\"final_particles\"].plot(\"z\", \"pz\", bins=100)"
   ]
  },
  {
   "cell_type": "code",
   "execution_count": null,
   "metadata": {
    "execution": {
     "iopub.execute_input": "2024-10-18T19:49:40.255398Z",
     "iopub.status.busy": "2024-10-18T19:49:40.255291Z",
     "iopub.status.idle": "2024-10-18T19:49:40.501977Z",
     "shell.execute_reply": "2024-10-18T19:49:40.501730Z"
    }
   },
   "outputs": [],
   "source": [
    "I2.particles[\"final_particles\"].plot(\"z\", \"pz\", bins=100)"
   ]
  },
  {
   "cell_type": "code",
   "execution_count": null,
   "metadata": {
    "execution": {
     "iopub.execute_input": "2024-10-18T19:49:40.503448Z",
     "iopub.status.busy": "2024-10-18T19:49:40.503339Z",
     "iopub.status.idle": "2024-10-18T19:49:40.617595Z",
     "shell.execute_reply": "2024-10-18T19:49:40.617361Z"
    }
   },
   "outputs": [],
   "source": [
    "# ky = 'mean_kinetic_energy'\n",
    "def compare(ky=\"sigma_x\", kx=\"mean_z\"):\n",
    "    fig, ax = plt.subplots(figsize=(12, 6))\n",
    "    ax.plot(I1.stat(kx), I1.stat(ky), label=\"Impact-T 1D\")\n",
    "    ax.plot(I2.stat(kx), I2.stat(ky), label=\"Impact-T 2D\", linestyle=\"--\")\n",
    "    ax.legend()\n",
    "    # ax.set_xlim(0,2)\n",
    "\n",
    "    ax.set_xlabel(kx)\n",
    "    ax.set_ylabel(ky)\n",
    "\n",
    "\n",
    "compare()"
   ]
  },
  {
   "cell_type": "markdown",
   "metadata": {},
   "source": [
    "# Use Impact's built-in Gaussian particle generator"
   ]
  },
  {
   "cell_type": "code",
   "execution_count": null,
   "metadata": {
    "execution": {
     "iopub.execute_input": "2024-10-18T19:49:40.619083Z",
     "iopub.status.busy": "2024-10-18T19:49:40.618973Z",
     "iopub.status.idle": "2024-10-18T19:49:58.546505Z",
     "shell.execute_reply": "2024-10-18T19:49:58.546186Z"
    }
   },
   "outputs": [],
   "source": [
    "I = Impact(ifile1)\n",
    "\n",
    "I.header[\"Dt\"] = 1e-12\n",
    "I.total_charge = 0  # Turn SC off\n",
    "print(I)\n",
    "I.run()\n",
    "I.particles[\"final_particles\"][\"sigma_x\"] / 1e-6"
   ]
  },
  {
   "cell_type": "code",
   "execution_count": null,
   "metadata": {
    "execution": {
     "iopub.execute_input": "2024-10-18T19:49:58.548255Z",
     "iopub.status.busy": "2024-10-18T19:49:58.548125Z",
     "iopub.status.idle": "2024-10-18T19:49:58.723470Z",
     "shell.execute_reply": "2024-10-18T19:49:58.723198Z"
    }
   },
   "outputs": [],
   "source": [
    "I.particles[\"final_particles\"].plot(\"delta_z\", \"delta_pz\")"
   ]
  },
  {
   "cell_type": "code",
   "execution_count": null,
   "metadata": {
    "execution": {
     "iopub.execute_input": "2024-10-18T19:49:58.724941Z",
     "iopub.status.busy": "2024-10-18T19:49:58.724835Z",
     "iopub.status.idle": "2024-10-18T19:49:58.727117Z",
     "shell.execute_reply": "2024-10-18T19:49:58.726889Z"
    }
   },
   "outputs": [],
   "source": [
    "I.lattice"
   ]
  },
  {
   "cell_type": "markdown",
   "metadata": {},
   "source": [
    "# Autophase"
   ]
  },
  {
   "cell_type": "code",
   "execution_count": null,
   "metadata": {
    "execution": {
     "iopub.execute_input": "2024-10-18T19:49:58.728603Z",
     "iopub.status.busy": "2024-10-18T19:49:58.728502Z",
     "iopub.status.idle": "2024-10-18T19:50:05.858068Z",
     "shell.execute_reply": "2024-10-18T19:50:05.857784Z"
    }
   },
   "outputs": [],
   "source": [
    "from impact.autophase import autophase\n",
    "\n",
    "from pmd_beamphysics import single_particle\n",
    "\n",
    "P0 = single_particle(pz=10e6, z=1e-15)\n",
    "\n",
    "autophase(\n",
    "    I2,\n",
    "    ele_name=\"cavity9\",\n",
    "    initial_particles=P0,\n",
    "    metric=\"mean_kinetic_energy\",\n",
    "    verbose=True,\n",
    ")"
   ]
  },
  {
   "cell_type": "code",
   "execution_count": null,
   "metadata": {
    "execution": {
     "iopub.execute_input": "2024-10-18T19:50:05.859634Z",
     "iopub.status.busy": "2024-10-18T19:50:05.859543Z",
     "iopub.status.idle": "2024-10-18T19:50:24.043789Z",
     "shell.execute_reply": "2024-10-18T19:50:24.043420Z"
    }
   },
   "outputs": [],
   "source": [
    "I.run()"
   ]
  },
  {
   "cell_type": "code",
   "execution_count": null,
   "metadata": {
    "execution": {
     "iopub.execute_input": "2024-10-18T19:50:24.045555Z",
     "iopub.status.busy": "2024-10-18T19:50:24.045431Z",
     "iopub.status.idle": "2024-10-18T19:50:24.048353Z",
     "shell.execute_reply": "2024-10-18T19:50:24.048133Z"
    }
   },
   "outputs": [],
   "source": [
    "(\n",
    "    I.particles[\"final_particles\"][\"mean_energy\"] / 1e6,\n",
    "    I.particles[\"final_particles\"][\"sigma_x\"] / 1e-6,\n",
    ")"
   ]
  },
  {
   "cell_type": "code",
   "execution_count": null,
   "metadata": {
    "execution": {
     "iopub.execute_input": "2024-10-18T19:50:24.049636Z",
     "iopub.status.busy": "2024-10-18T19:50:24.049541Z",
     "iopub.status.idle": "2024-10-18T19:50:24.128158Z",
     "shell.execute_reply": "2024-10-18T19:50:24.127851Z"
    }
   },
   "outputs": [],
   "source": [
    "# Compare these.\n",
    "key1 = \"mean_z\"\n",
    "key2 = \"sigma_x\"\n",
    "units1 = str(I.units(key1))\n",
    "units2 = str(I.units(key2))\n",
    "plt.xlabel(key1 + f\" ({units1})\")\n",
    "plt.ylabel(key2 + f\" ({units2})\")\n",
    "plt.plot(I.stat(key1), I.stat(key2))\n",
    "plt.scatter(\n",
    "    [I.particles[name][key1] for name in I.particles],\n",
    "    [I.particles[name][key2] for name in I.particles],\n",
    "    color=\"red\",\n",
    ")"
   ]
  },
  {
   "cell_type": "code",
   "execution_count": null,
   "metadata": {
    "execution": {
     "iopub.execute_input": "2024-10-18T19:50:24.129616Z",
     "iopub.status.busy": "2024-10-18T19:50:24.129507Z",
     "iopub.status.idle": "2024-10-18T19:50:24.131550Z",
     "shell.execute_reply": "2024-10-18T19:50:24.131321Z"
    }
   },
   "outputs": [],
   "source": [
    "I.output[\"stats\"].keys()"
   ]
  },
  {
   "cell_type": "code",
   "execution_count": null,
   "metadata": {
    "execution": {
     "iopub.execute_input": "2024-10-18T19:50:24.132844Z",
     "iopub.status.busy": "2024-10-18T19:50:24.132753Z",
     "iopub.status.idle": "2024-10-18T19:50:24.134287Z",
     "shell.execute_reply": "2024-10-18T19:50:24.134078Z"
    }
   },
   "outputs": [],
   "source": [
    "PI = I.particles[\"initial_particles\"]\n",
    "PF = I.particles[\"final_particles\"]"
   ]
  },
  {
   "cell_type": "code",
   "execution_count": null,
   "metadata": {
    "execution": {
     "iopub.execute_input": "2024-10-18T19:50:24.135506Z",
     "iopub.status.busy": "2024-10-18T19:50:24.135428Z",
     "iopub.status.idle": "2024-10-18T19:50:24.137417Z",
     "shell.execute_reply": "2024-10-18T19:50:24.137212Z"
    }
   },
   "outputs": [],
   "source": [
    "PI[\"mean_pz\"]"
   ]
  },
  {
   "cell_type": "code",
   "execution_count": null,
   "metadata": {
    "execution": {
     "iopub.execute_input": "2024-10-18T19:50:24.138776Z",
     "iopub.status.busy": "2024-10-18T19:50:24.138697Z",
     "iopub.status.idle": "2024-10-18T19:50:24.351862Z",
     "shell.execute_reply": "2024-10-18T19:50:24.351623Z"
    }
   },
   "outputs": [],
   "source": [
    "PF.plot(\"delta_z\", \"delta_pz\")"
   ]
  },
  {
   "cell_type": "markdown",
   "metadata": {},
   "source": [
    "# Make particles in distgen"
   ]
  },
  {
   "cell_type": "code",
   "execution_count": null,
   "metadata": {
    "execution": {
     "iopub.execute_input": "2024-10-18T19:50:24.353398Z",
     "iopub.status.busy": "2024-10-18T19:50:24.353289Z",
     "iopub.status.idle": "2024-10-18T19:50:24.371543Z",
     "shell.execute_reply": "2024-10-18T19:50:24.371321Z"
    }
   },
   "outputs": [],
   "source": [
    "from distgen import Generator\n",
    "\n",
    "YAML = \"\"\"\n",
    "n_particle: 10000\n",
    "random_type: hammersley\n",
    "species: electron\n",
    "start:\n",
    "  tstart:\n",
    "    units: sec\n",
    "    value: 0\n",
    "  type: time\n",
    "total_charge:\n",
    "  units: nC\n",
    "  value: 1\n",
    "r_dist:\n",
    "  sigma_xy:\n",
    "    units: mm\n",
    "    value: .01\n",
    "  type: radial_gaussian\n",
    "z_dist:\n",
    "  avg_z:\n",
    "    units: mm\n",
    "    value: 0\n",
    "  sigma_z:\n",
    "    units: mm\n",
    "    value: 0.1\n",
    "  type: gaussian\n",
    "  \n",
    "\n",
    "transforms:\n",
    "  setPz:\n",
    "    type: set_avg pz\n",
    "    avg_pz: \n",
    "      value: 99.99869439159244\n",
    "      units: MeV/c\n",
    "  \n",
    "\"\"\"\n",
    "G = Generator(YAML)\n",
    "G.run()\n",
    "P = G.particles"
   ]
  },
  {
   "cell_type": "code",
   "execution_count": null,
   "metadata": {
    "execution": {
     "iopub.execute_input": "2024-10-18T19:50:24.372838Z",
     "iopub.status.busy": "2024-10-18T19:50:24.372759Z",
     "iopub.status.idle": "2024-10-18T19:50:42.398840Z",
     "shell.execute_reply": "2024-10-18T19:50:42.398459Z"
    }
   },
   "outputs": [],
   "source": [
    "I2 = I.copy()\n",
    "I2.initial_particles = P\n",
    "I2.configure()\n",
    "I2.total_charge = 0  # or: P['charge']\n",
    "I2.run()\n",
    "PF2 = I2.particles[\"final_particles\"]"
   ]
  },
  {
   "cell_type": "code",
   "execution_count": null,
   "metadata": {
    "execution": {
     "iopub.execute_input": "2024-10-18T19:50:42.400683Z",
     "iopub.status.busy": "2024-10-18T19:50:42.400552Z",
     "iopub.status.idle": "2024-10-18T19:50:42.729536Z",
     "shell.execute_reply": "2024-10-18T19:50:42.729289Z"
    }
   },
   "outputs": [],
   "source": [
    "PF2.plot(\"x\", \"px\")\n",
    "PF2.plot(\"delta_z\", \"delta_pz\")"
   ]
  },
  {
   "cell_type": "markdown",
   "metadata": {},
   "source": [
    "# Compare"
   ]
  },
  {
   "cell_type": "code",
   "execution_count": null,
   "metadata": {
    "execution": {
     "iopub.execute_input": "2024-10-18T19:50:42.731066Z",
     "iopub.status.busy": "2024-10-18T19:50:42.730959Z",
     "iopub.status.idle": "2024-10-18T19:50:42.732539Z",
     "shell.execute_reply": "2024-10-18T19:50:42.732314Z"
    }
   },
   "outputs": [],
   "source": [
    "# for k in ['x', 'px', 'z', 'pz']:\n",
    "#    plt.hist(PF[k], density=True, bins=100, label='Impact-T generator', alpha=0.5)\n",
    "#    plt.hist(PF2[k], density=True, bins=100, label='Distgen generator', alpha=0.5)\n",
    "#    plt.xlabel(k)\n",
    "#    plt.legend()\n",
    "#    plt.show()"
   ]
  },
  {
   "cell_type": "code",
   "execution_count": null,
   "metadata": {},
   "outputs": [],
   "source": []
  }
 ],
 "metadata": {
  "kernelspec": {
   "display_name": "Python 3 (ipykernel)",
   "language": "python",
   "name": "python3"
  },
  "language_info": {
   "codemirror_mode": {
    "name": "ipython",
    "version": 3
   },
   "file_extension": ".py",
   "mimetype": "text/x-python",
   "name": "python",
   "nbconvert_exporter": "python",
   "pygments_lexer": "ipython3",
   "version": "3.12.6"
  }
 },
 "nbformat": 4,
 "nbformat_minor": 4
}
