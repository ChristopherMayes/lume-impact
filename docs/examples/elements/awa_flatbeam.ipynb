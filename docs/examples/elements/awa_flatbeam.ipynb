{
 "cells": [
  {
   "cell_type": "markdown",
   "id": "ad958247-4833-417b-b47d-dd633403765c",
   "metadata": {},
   "source": [
    "# AWA Flat Beams\n",
    "\n",
    "Example courtesy of T. Xu"
   ]
  },
  {
   "cell_type": "code",
   "execution_count": null,
   "id": "14abaf9b-fce7-4fd3-ac7b-96eb9a93d543",
   "metadata": {},
   "outputs": [],
   "source": [
    "from impact import Impact\n",
    "\n",
    "import matplotlib.pyplot as plt\n",
    "\n",
    "%config InlineBackend.figure_format = 'retina'"
   ]
  },
  {
   "cell_type": "code",
   "execution_count": null,
   "id": "35419673-6ffa-48bc-b9c6-b931249cb6de",
   "metadata": {},
   "outputs": [],
   "source": [
    "I = Impact(\"../templates/awa_flatbeam/ImpactT.in\")\n",
    "I.plot(figsize=(16, 4), include_labels=True, include_field=True)"
   ]
  },
  {
   "cell_type": "code",
   "execution_count": null,
   "id": "ae83558d-cdbb-4fbb-ad65-c50976ffb47f",
   "metadata": {},
   "outputs": [],
   "source": [
    "%%time\n",
    "I.numprocs = 0\n",
    "I.run()"
   ]
  },
  {
   "cell_type": "code",
   "execution_count": null,
   "id": "3a656b90-d0b5-4a6a-b22d-af94728dc82b",
   "metadata": {},
   "outputs": [],
   "source": [
    "I.plot(\n",
    "    [\"norm_emit_x\", \"norm_emit_y\"],\n",
    "    y2=\"mean_kinetic_energy\",\n",
    "    xlim=(0, 16),\n",
    "    figsize=(16, 6),\n",
    ")"
   ]
  },
  {
   "cell_type": "code",
   "execution_count": null,
   "id": "39466f16-7de9-48ad-973f-365987276cab",
   "metadata": {},
   "outputs": [],
   "source": [
    "I.plot(\n",
    "    [\"sigma_x\", \"sigma_y\", \"sigma_z\"],\n",
    "    y2=\"mean_kinetic_energy\",\n",
    "    xlim=(0, 16),\n",
    "    ylim=(0, 0.01),\n",
    "    figsize=(16, 6),\n",
    ")"
   ]
  },
  {
   "cell_type": "code",
   "execution_count": null,
   "id": "a064aa55-1c98-4b69-9698-37e7e1facd42",
   "metadata": {},
   "outputs": [],
   "source": [
    "I.plot(\"Ez\", y2=\"Bz\", figsize=(16, 6))\n",
    "plt.title(\"Fields seen by the bunch centroid\");"
   ]
  },
  {
   "cell_type": "code",
   "execution_count": null,
   "id": "b61aa953-fd0e-4fc5-8d55-def2389d5e1c",
   "metadata": {},
   "outputs": [],
   "source": [
    "Pi = I.particles[\"initial_particles\"]\n",
    "Pi.plot(\"t\", \"pz\")"
   ]
  },
  {
   "cell_type": "code",
   "execution_count": null,
   "id": "a3ec770b-24b3-471e-9457-911344312993",
   "metadata": {},
   "outputs": [],
   "source": [
    "Pf = I.particles[\"final_particles\"]"
   ]
  },
  {
   "cell_type": "code",
   "execution_count": null,
   "id": "d3fcf455-6ea7-43e6-ae62-405d83079463",
   "metadata": {},
   "outputs": [],
   "source": [
    "Pf.plot(\"x\", \"y\")"
   ]
  },
  {
   "cell_type": "code",
   "execution_count": null,
   "id": "a345c909-a81c-49a1-abf4-35e3197f213a",
   "metadata": {},
   "outputs": [],
   "source": [
    "Pf.plot(\"delta_z\", \"pz\")"
   ]
  },
  {
   "cell_type": "code",
   "execution_count": null,
   "id": "f9fcf4d3-949c-47af-943b-fb6a8b135f91",
   "metadata": {},
   "outputs": [],
   "source": [
    "Pf.plot(\"x_bar\", \"px_bar\")"
   ]
  }
 ],
 "metadata": {
  "kernelspec": {
   "display_name": "Python 3 (ipykernel)",
   "language": "python",
   "name": "python3"
  },
  "language_info": {
   "codemirror_mode": {
    "name": "ipython",
    "version": 3
   },
   "file_extension": ".py",
   "mimetype": "text/x-python",
   "name": "python",
   "nbconvert_exporter": "python",
   "pygments_lexer": "ipython3",
   "version": "3.12.6"
  }
 },
 "nbformat": 4,
 "nbformat_minor": 5
}
