{
 "cells": [
  {
   "cell_type": "markdown",
   "metadata": {},
   "source": [
    "# Drift Example\n",
    "\n",
    "Simple 1 m drift based on the benchmark in:\n",
    "\n",
    "3D Space Charge in Bmad\n",
    "C. E. Mayes, R. D. Ryne,  D. C. Sagan,\n",
    "\n",
    "https://accelconf.web.cern.ch/ipac2018/papers/thpak085.pdf\n"
   ]
  },
  {
   "cell_type": "code",
   "execution_count": null,
   "metadata": {
    "execution": {
     "iopub.execute_input": "2025-02-12T18:04:22.043146Z",
     "iopub.status.busy": "2025-02-12T18:04:22.042656Z",
     "iopub.status.idle": "2025-02-12T18:04:23.138504Z",
     "shell.execute_reply": "2025-02-12T18:04:23.138113Z"
    }
   },
   "outputs": [],
   "source": [
    "from impact import Impact"
   ]
  },
  {
   "cell_type": "code",
   "execution_count": null,
   "metadata": {
    "execution": {
     "iopub.execute_input": "2025-02-12T18:04:23.140206Z",
     "iopub.status.busy": "2025-02-12T18:04:23.140029Z",
     "iopub.status.idle": "2025-02-12T18:04:23.143084Z",
     "shell.execute_reply": "2025-02-12T18:04:23.142820Z"
    }
   },
   "outputs": [],
   "source": [
    "from pmd_beamphysics.units import mec2\n",
    "\n",
    "import numpy as np\n",
    "import os\n",
    "\n",
    "\n",
    "import matplotlib.pyplot as plt\n",
    "\n",
    "%config InlineBackend.figure_format='retina'"
   ]
  },
  {
   "cell_type": "code",
   "execution_count": null,
   "metadata": {
    "execution": {
     "iopub.execute_input": "2025-02-12T18:04:23.144196Z",
     "iopub.status.busy": "2025-02-12T18:04:23.144093Z",
     "iopub.status.idle": "2025-02-12T18:04:23.147271Z",
     "shell.execute_reply": "2025-02-12T18:04:23.146951Z"
    }
   },
   "outputs": [],
   "source": [
    "# locate the drift template\n",
    "ifile = \"../templates/drift/ImpactT.in\"\n",
    "os.path.exists(ifile)"
   ]
  },
  {
   "cell_type": "code",
   "execution_count": null,
   "metadata": {
    "execution": {
     "iopub.execute_input": "2025-02-12T18:04:23.167482Z",
     "iopub.status.busy": "2025-02-12T18:04:23.167359Z",
     "iopub.status.idle": "2025-02-12T18:04:23.169588Z",
     "shell.execute_reply": "2025-02-12T18:04:23.169353Z"
    }
   },
   "outputs": [],
   "source": [
    "# calculate gamma*beta\n",
    "Etot = 10e6  # eV\n",
    "gamma = Etot / mec2\n",
    "GB = np.sqrt(gamma**2 - 1)\n",
    "GB"
   ]
  },
  {
   "cell_type": "markdown",
   "metadata": {},
   "source": [
    "# Use Impact's built-in Gaussian particle generator"
   ]
  },
  {
   "cell_type": "code",
   "execution_count": null,
   "metadata": {
    "execution": {
     "iopub.execute_input": "2025-02-12T18:04:23.170736Z",
     "iopub.status.busy": "2025-02-12T18:04:23.170637Z",
     "iopub.status.idle": "2025-02-12T18:04:23.173835Z",
     "shell.execute_reply": "2025-02-12T18:04:23.173497Z"
    }
   },
   "outputs": [],
   "source": [
    "I = Impact(ifile)\n",
    "I.header[\"Np\"] = 100000\n",
    "I.header[\"Nx\"] = 32\n",
    "I.header[\"Ny\"] = 32\n",
    "I.header[\"Nz\"] = 32\n",
    "I.header[\"Dt\"] = 10e-12"
   ]
  },
  {
   "cell_type": "code",
   "execution_count": null,
   "metadata": {
    "execution": {
     "iopub.execute_input": "2025-02-12T18:04:23.174974Z",
     "iopub.status.busy": "2025-02-12T18:04:23.174901Z",
     "iopub.status.idle": "2025-02-12T18:04:23.177052Z",
     "shell.execute_reply": "2025-02-12T18:04:23.176815Z"
    }
   },
   "outputs": [],
   "source": [
    "I.lattice"
   ]
  },
  {
   "cell_type": "code",
   "execution_count": null,
   "metadata": {
    "execution": {
     "iopub.execute_input": "2025-02-12T18:04:23.178118Z",
     "iopub.status.busy": "2025-02-12T18:04:23.178046Z",
     "iopub.status.idle": "2025-02-12T18:04:29.933887Z",
     "shell.execute_reply": "2025-02-12T18:04:29.933428Z"
    }
   },
   "outputs": [],
   "source": [
    "I.run()"
   ]
  },
  {
   "cell_type": "code",
   "execution_count": null,
   "metadata": {
    "execution": {
     "iopub.execute_input": "2025-02-12T18:04:29.935590Z",
     "iopub.status.busy": "2025-02-12T18:04:29.935466Z",
     "iopub.status.idle": "2025-02-12T18:04:29.937899Z",
     "shell.execute_reply": "2025-02-12T18:04:29.937609Z"
    }
   },
   "outputs": [],
   "source": [
    "I.output[\"stats\"].keys()"
   ]
  },
  {
   "cell_type": "code",
   "execution_count": null,
   "metadata": {
    "execution": {
     "iopub.execute_input": "2025-02-12T18:04:29.939313Z",
     "iopub.status.busy": "2025-02-12T18:04:29.939206Z",
     "iopub.status.idle": "2025-02-12T18:04:29.940916Z",
     "shell.execute_reply": "2025-02-12T18:04:29.940670Z"
    }
   },
   "outputs": [],
   "source": [
    "PI = I.particles[\"initial_particles\"]\n",
    "PF = I.particles[\"final_particles\"]"
   ]
  },
  {
   "cell_type": "code",
   "execution_count": null,
   "metadata": {
    "execution": {
     "iopub.execute_input": "2025-02-12T18:04:29.942038Z",
     "iopub.status.busy": "2025-02-12T18:04:29.941965Z",
     "iopub.status.idle": "2025-02-12T18:04:30.651526Z",
     "shell.execute_reply": "2025-02-12T18:04:30.651261Z"
    }
   },
   "outputs": [],
   "source": [
    "PF.plot(\"x\", \"px\")\n",
    "PF.plot(\"delta_z\", \"delta_pz\")"
   ]
  },
  {
   "cell_type": "markdown",
   "metadata": {},
   "source": [
    "# Make particles in distgen"
   ]
  },
  {
   "cell_type": "code",
   "execution_count": null,
   "metadata": {
    "execution": {
     "iopub.execute_input": "2025-02-12T18:04:30.653006Z",
     "iopub.status.busy": "2025-02-12T18:04:30.652896Z",
     "iopub.status.idle": "2025-02-12T18:04:30.675263Z",
     "shell.execute_reply": "2025-02-12T18:04:30.674899Z"
    }
   },
   "outputs": [],
   "source": [
    "from distgen import Generator\n",
    "\n",
    "YAML = \"\"\"\n",
    "n_particle: 20000\n",
    "random_type: hammersley\n",
    "species: electron\n",
    "start:\n",
    "  tstart:\n",
    "    units: sec\n",
    "    value: 0\n",
    "  type: time\n",
    "total_charge:\n",
    "  units: nC\n",
    "  value: 1\n",
    "r_dist:\n",
    "  sigma_xy:\n",
    "    units: mm\n",
    "    value: 1.0\n",
    "  type: radial_gaussian\n",
    "z_dist:\n",
    "  avg_z:\n",
    "    units: mm\n",
    "    value: 0\n",
    "  sigma_z:\n",
    "    units: mm\n",
    "    value: 0.1\n",
    "  type: gaussian\n",
    "  \n",
    "\n",
    "transforms:\n",
    "  setPz:\n",
    "    type: set_avg pz\n",
    "    avg_pz: \n",
    "      value: 10\n",
    "      units: MeV/c\n",
    "  \n",
    "\"\"\"\n",
    "G = Generator(YAML)\n",
    "G.run()\n",
    "P = G.particles"
   ]
  },
  {
   "cell_type": "code",
   "execution_count": null,
   "metadata": {
    "execution": {
     "iopub.execute_input": "2025-02-12T18:04:30.676790Z",
     "iopub.status.busy": "2025-02-12T18:04:30.676663Z",
     "iopub.status.idle": "2025-02-12T18:04:30.680828Z",
     "shell.execute_reply": "2025-02-12T18:04:30.680590Z"
    }
   },
   "outputs": [],
   "source": [
    "I = Impact(ifile, initial_particles=P, verbose=False)\n",
    "print(I)"
   ]
  },
  {
   "cell_type": "code",
   "execution_count": null,
   "metadata": {
    "execution": {
     "iopub.execute_input": "2025-02-12T18:04:30.681941Z",
     "iopub.status.busy": "2025-02-12T18:04:30.681859Z",
     "iopub.status.idle": "2025-02-12T18:04:30.683892Z",
     "shell.execute_reply": "2025-02-12T18:04:30.683652Z"
    }
   },
   "outputs": [],
   "source": [
    "I.header[\"Nemission\"]"
   ]
  },
  {
   "cell_type": "code",
   "execution_count": null,
   "metadata": {
    "execution": {
     "iopub.execute_input": "2025-02-12T18:04:30.684908Z",
     "iopub.status.busy": "2025-02-12T18:04:30.684832Z",
     "iopub.status.idle": "2025-02-12T18:04:35.652502Z",
     "shell.execute_reply": "2025-02-12T18:04:35.652080Z"
    }
   },
   "outputs": [],
   "source": [
    "I = Impact(ifile, initial_particles=P)\n",
    "I.run()\n",
    "PF2 = I.particles[\"final_particles\"]"
   ]
  },
  {
   "cell_type": "code",
   "execution_count": null,
   "metadata": {
    "execution": {
     "iopub.execute_input": "2025-02-12T18:04:35.654192Z",
     "iopub.status.busy": "2025-02-12T18:04:35.654060Z",
     "iopub.status.idle": "2025-02-12T18:04:36.066849Z",
     "shell.execute_reply": "2025-02-12T18:04:36.066581Z"
    }
   },
   "outputs": [],
   "source": [
    "PF2.plot(\"x\", \"px\")\n",
    "PF2.plot(\"delta_z\", \"delta_pz\")"
   ]
  },
  {
   "cell_type": "markdown",
   "metadata": {},
   "source": [
    "# Compare"
   ]
  },
  {
   "cell_type": "code",
   "execution_count": null,
   "metadata": {
    "execution": {
     "iopub.execute_input": "2025-02-12T18:04:36.068240Z",
     "iopub.status.busy": "2025-02-12T18:04:36.068135Z",
     "iopub.status.idle": "2025-02-12T18:04:36.594093Z",
     "shell.execute_reply": "2025-02-12T18:04:36.593817Z"
    }
   },
   "outputs": [],
   "source": [
    "for k in [\"x\", \"px\", \"z\", \"pz\"]:\n",
    "    plt.hist(PF[k], density=True, bins=100, label=\"Impact-T generator\", alpha=0.5)\n",
    "    plt.hist(PF2[k], density=True, bins=100, label=\"Distgen generator\", alpha=0.5)\n",
    "    plt.xlabel(k)\n",
    "    plt.legend()\n",
    "    plt.show()"
   ]
  }
 ],
 "metadata": {
  "kernelspec": {
   "display_name": "Python 3 (ipykernel)",
   "language": "python",
   "name": "python3"
  },
  "language_info": {
   "codemirror_mode": {
    "name": "ipython",
    "version": 3
   },
   "file_extension": ".py",
   "mimetype": "text/x-python",
   "name": "python",
   "nbconvert_exporter": "python",
   "pygments_lexer": "ipython3",
   "version": "3.12.8"
  }
 },
 "nbformat": 4,
 "nbformat_minor": 4
}
