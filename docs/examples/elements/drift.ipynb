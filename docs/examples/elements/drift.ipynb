{
 "cells": [
  {
   "cell_type": "markdown",
   "metadata": {},
   "source": [
    "# Drift Example\n",
    "\n",
    "Simple 1 m drift based on the benchmark in:\n",
    "\n",
    "3D Space Charge in Bmad\n",
    "C. E. Mayes, R. D. Ryne,  D. C. Sagan,\n",
    "\n",
    "https://accelconf.web.cern.ch/ipac2018/papers/thpak085.pdf\n"
   ]
  },
  {
   "cell_type": "code",
   "execution_count": null,
   "metadata": {
    "execution": {
     "iopub.execute_input": "2025-02-20T21:23:16.392315Z",
     "iopub.status.busy": "2025-02-20T21:23:16.391870Z",
     "iopub.status.idle": "2025-02-20T21:23:17.447289Z",
     "shell.execute_reply": "2025-02-20T21:23:17.446927Z"
    }
   },
   "outputs": [],
   "source": [
    "from impact import Impact"
   ]
  },
  {
   "cell_type": "code",
   "execution_count": null,
   "metadata": {
    "execution": {
     "iopub.execute_input": "2025-02-20T21:23:17.448890Z",
     "iopub.status.busy": "2025-02-20T21:23:17.448741Z",
     "iopub.status.idle": "2025-02-20T21:23:17.451489Z",
     "shell.execute_reply": "2025-02-20T21:23:17.451223Z"
    }
   },
   "outputs": [],
   "source": [
    "from pmd_beamphysics.units import mec2\n",
    "\n",
    "import numpy as np\n",
    "import os\n",
    "\n",
    "\n",
    "import matplotlib.pyplot as plt\n",
    "\n",
    "%config InlineBackend.figure_format='retina'"
   ]
  },
  {
   "cell_type": "code",
   "execution_count": null,
   "metadata": {
    "execution": {
     "iopub.execute_input": "2025-02-20T21:23:17.452706Z",
     "iopub.status.busy": "2025-02-20T21:23:17.452625Z",
     "iopub.status.idle": "2025-02-20T21:23:17.455489Z",
     "shell.execute_reply": "2025-02-20T21:23:17.455260Z"
    }
   },
   "outputs": [],
   "source": [
    "# locate the drift template\n",
    "ifile = \"../templates/drift/ImpactT.in\"\n",
    "os.path.exists(ifile)"
   ]
  },
  {
   "cell_type": "code",
   "execution_count": null,
   "metadata": {
    "execution": {
     "iopub.execute_input": "2025-02-20T21:23:17.474823Z",
     "iopub.status.busy": "2025-02-20T21:23:17.474713Z",
     "iopub.status.idle": "2025-02-20T21:23:17.476842Z",
     "shell.execute_reply": "2025-02-20T21:23:17.476618Z"
    }
   },
   "outputs": [],
   "source": [
    "# calculate gamma*beta\n",
    "Etot = 10e6  # eV\n",
    "gamma = Etot / mec2\n",
    "GB = np.sqrt(gamma**2 - 1)\n",
    "GB"
   ]
  },
  {
   "cell_type": "markdown",
   "metadata": {},
   "source": [
    "# Use Impact's built-in Gaussian particle generator"
   ]
  },
  {
   "cell_type": "code",
   "execution_count": null,
   "metadata": {
    "execution": {
     "iopub.execute_input": "2025-02-20T21:23:17.478062Z",
     "iopub.status.busy": "2025-02-20T21:23:17.477967Z",
     "iopub.status.idle": "2025-02-20T21:23:17.481017Z",
     "shell.execute_reply": "2025-02-20T21:23:17.480762Z"
    }
   },
   "outputs": [],
   "source": [
    "I = Impact(ifile)\n",
    "I.header[\"Np\"] = 100000\n",
    "I.header[\"Nx\"] = 32\n",
    "I.header[\"Ny\"] = 32\n",
    "I.header[\"Nz\"] = 32\n",
    "I.header[\"Dt\"] = 10e-12"
   ]
  },
  {
   "cell_type": "code",
   "execution_count": null,
   "metadata": {
    "execution": {
     "iopub.execute_input": "2025-02-20T21:23:17.482296Z",
     "iopub.status.busy": "2025-02-20T21:23:17.482213Z",
     "iopub.status.idle": "2025-02-20T21:23:17.484708Z",
     "shell.execute_reply": "2025-02-20T21:23:17.484150Z"
    }
   },
   "outputs": [],
   "source": [
    "I.lattice"
   ]
  },
  {
   "cell_type": "code",
   "execution_count": null,
   "metadata": {
    "execution": {
     "iopub.execute_input": "2025-02-20T21:23:17.486669Z",
     "iopub.status.busy": "2025-02-20T21:23:17.486579Z",
     "iopub.status.idle": "2025-02-20T21:23:24.058918Z",
     "shell.execute_reply": "2025-02-20T21:23:24.058384Z"
    }
   },
   "outputs": [],
   "source": [
    "I.run()"
   ]
  },
  {
   "cell_type": "code",
   "execution_count": null,
   "metadata": {
    "execution": {
     "iopub.execute_input": "2025-02-20T21:23:24.060601Z",
     "iopub.status.busy": "2025-02-20T21:23:24.060406Z",
     "iopub.status.idle": "2025-02-20T21:23:24.062908Z",
     "shell.execute_reply": "2025-02-20T21:23:24.062655Z"
    }
   },
   "outputs": [],
   "source": [
    "I.output[\"stats\"].keys()"
   ]
  },
  {
   "cell_type": "code",
   "execution_count": null,
   "metadata": {
    "execution": {
     "iopub.execute_input": "2025-02-20T21:23:24.064022Z",
     "iopub.status.busy": "2025-02-20T21:23:24.063921Z",
     "iopub.status.idle": "2025-02-20T21:23:24.065527Z",
     "shell.execute_reply": "2025-02-20T21:23:24.065278Z"
    }
   },
   "outputs": [],
   "source": [
    "PI = I.particles[\"initial_particles\"]\n",
    "PF = I.particles[\"final_particles\"]"
   ]
  },
  {
   "cell_type": "code",
   "execution_count": null,
   "metadata": {
    "execution": {
     "iopub.execute_input": "2025-02-20T21:23:24.066722Z",
     "iopub.status.busy": "2025-02-20T21:23:24.066650Z",
     "iopub.status.idle": "2025-02-20T21:23:24.779735Z",
     "shell.execute_reply": "2025-02-20T21:23:24.779468Z"
    }
   },
   "outputs": [],
   "source": [
    "PF.plot(\"x\", \"px\")\n",
    "PF.plot(\"delta_z\", \"delta_pz\")"
   ]
  },
  {
   "cell_type": "markdown",
   "metadata": {},
   "source": [
    "# Make particles in distgen"
   ]
  },
  {
   "cell_type": "code",
   "execution_count": null,
   "metadata": {
    "execution": {
     "iopub.execute_input": "2025-02-20T21:23:24.781407Z",
     "iopub.status.busy": "2025-02-20T21:23:24.781296Z",
     "iopub.status.idle": "2025-02-20T21:23:24.802183Z",
     "shell.execute_reply": "2025-02-20T21:23:24.801914Z"
    }
   },
   "outputs": [],
   "source": [
    "from distgen import Generator\n",
    "\n",
    "YAML = \"\"\"\n",
    "n_particle: 20000\n",
    "random_type: hammersley\n",
    "species: electron\n",
    "start:\n",
    "  tstart:\n",
    "    units: sec\n",
    "    value: 0\n",
    "  type: time\n",
    "total_charge:\n",
    "  units: nC\n",
    "  value: 1\n",
    "r_dist:\n",
    "  sigma_xy:\n",
    "    units: mm\n",
    "    value: 1.0\n",
    "  type: radial_gaussian\n",
    "z_dist:\n",
    "  avg_z:\n",
    "    units: mm\n",
    "    value: 0\n",
    "  sigma_z:\n",
    "    units: mm\n",
    "    value: 0.1\n",
    "  type: gaussian\n",
    "  \n",
    "\n",
    "transforms:\n",
    "  setPz:\n",
    "    type: set_avg pz\n",
    "    avg_pz: \n",
    "      value: 10\n",
    "      units: MeV/c\n",
    "  \n",
    "\"\"\"\n",
    "G = Generator(YAML)\n",
    "G.run()\n",
    "P = G.particles"
   ]
  },
  {
   "cell_type": "code",
   "execution_count": null,
   "metadata": {
    "execution": {
     "iopub.execute_input": "2025-02-20T21:23:24.803641Z",
     "iopub.status.busy": "2025-02-20T21:23:24.803532Z",
     "iopub.status.idle": "2025-02-20T21:23:24.807753Z",
     "shell.execute_reply": "2025-02-20T21:23:24.807495Z"
    }
   },
   "outputs": [],
   "source": [
    "I = Impact(ifile, initial_particles=P, verbose=False)\n",
    "print(I)"
   ]
  },
  {
   "cell_type": "code",
   "execution_count": null,
   "metadata": {
    "execution": {
     "iopub.execute_input": "2025-02-20T21:23:24.809080Z",
     "iopub.status.busy": "2025-02-20T21:23:24.808994Z",
     "iopub.status.idle": "2025-02-20T21:23:24.811171Z",
     "shell.execute_reply": "2025-02-20T21:23:24.810923Z"
    }
   },
   "outputs": [],
   "source": [
    "I.header[\"Nemission\"]"
   ]
  },
  {
   "cell_type": "code",
   "execution_count": null,
   "metadata": {
    "execution": {
     "iopub.execute_input": "2025-02-20T21:23:24.812302Z",
     "iopub.status.busy": "2025-02-20T21:23:24.812220Z",
     "iopub.status.idle": "2025-02-20T21:23:29.811566Z",
     "shell.execute_reply": "2025-02-20T21:23:29.811049Z"
    }
   },
   "outputs": [],
   "source": [
    "I = Impact(ifile, initial_particles=P)\n",
    "I.run()\n",
    "PF2 = I.particles[\"final_particles\"]"
   ]
  },
  {
   "cell_type": "code",
   "execution_count": null,
   "metadata": {
    "execution": {
     "iopub.execute_input": "2025-02-20T21:23:29.813464Z",
     "iopub.status.busy": "2025-02-20T21:23:29.813218Z",
     "iopub.status.idle": "2025-02-20T21:23:30.236131Z",
     "shell.execute_reply": "2025-02-20T21:23:30.235853Z"
    }
   },
   "outputs": [],
   "source": [
    "PF2.plot(\"x\", \"px\")\n",
    "PF2.plot(\"delta_z\", \"delta_pz\")"
   ]
  },
  {
   "cell_type": "markdown",
   "metadata": {},
   "source": [
    "# Compare"
   ]
  },
  {
   "cell_type": "code",
   "execution_count": null,
   "metadata": {
    "execution": {
     "iopub.execute_input": "2025-02-20T21:23:30.237593Z",
     "iopub.status.busy": "2025-02-20T21:23:30.237479Z",
     "iopub.status.idle": "2025-02-20T21:23:30.820246Z",
     "shell.execute_reply": "2025-02-20T21:23:30.819900Z"
    }
   },
   "outputs": [],
   "source": [
    "for k in [\"x\", \"px\", \"z\", \"pz\"]:\n",
    "    plt.hist(PF[k], density=True, bins=100, label=\"Impact-T generator\", alpha=0.5)\n",
    "    plt.hist(PF2[k], density=True, bins=100, label=\"Distgen generator\", alpha=0.5)\n",
    "    plt.xlabel(k)\n",
    "    plt.legend()\n",
    "    plt.show()"
   ]
  }
 ],
 "metadata": {
  "kernelspec": {
   "display_name": "Python 3 (ipykernel)",
   "language": "python",
   "name": "python3"
  },
  "language_info": {
   "codemirror_mode": {
    "name": "ipython",
    "version": 3
   },
   "file_extension": ".py",
   "mimetype": "text/x-python",
   "name": "python",
   "nbconvert_exporter": "python",
   "pygments_lexer": "ipython3",
   "version": "3.12.8"
  }
 },
 "nbformat": 4,
 "nbformat_minor": 4
}
