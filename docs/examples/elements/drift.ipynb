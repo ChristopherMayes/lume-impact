{
 "cells": [
  {
   "cell_type": "markdown",
   "metadata": {},
   "source": [
    "# Drift Example\n",
    "\n",
    "Simple 1 m drift based on the benchmark in:\n",
    "\n",
    "3D Space Charge in Bmad\n",
    "C. E. Mayes, R. D. Ryne,  D. C. Sagan,\n",
    "\n",
    "https://accelconf.web.cern.ch/ipac2018/papers/thpak085.pdf\n"
   ]
  },
  {
   "cell_type": "code",
   "execution_count": null,
   "metadata": {
    "execution": {
     "iopub.execute_input": "2024-10-18T19:51:47.686896Z",
     "iopub.status.busy": "2024-10-18T19:51:47.686293Z",
     "iopub.status.idle": "2024-10-18T19:51:48.600528Z",
     "shell.execute_reply": "2024-10-18T19:51:48.600246Z"
    }
   },
   "outputs": [],
   "source": [
    "from impact import Impact"
   ]
  },
  {
   "cell_type": "code",
   "execution_count": null,
   "metadata": {
    "execution": {
     "iopub.execute_input": "2024-10-18T19:51:48.602302Z",
     "iopub.status.busy": "2024-10-18T19:51:48.602096Z",
     "iopub.status.idle": "2024-10-18T19:51:48.604944Z",
     "shell.execute_reply": "2024-10-18T19:51:48.604743Z"
    }
   },
   "outputs": [],
   "source": [
    "from pmd_beamphysics.units import mec2\n",
    "\n",
    "import numpy as np\n",
    "import os\n",
    "\n",
    "\n",
    "import matplotlib.pyplot as plt\n",
    "\n",
    "%config InlineBackend.figure_format='retina'"
   ]
  },
  {
   "cell_type": "code",
   "execution_count": null,
   "metadata": {
    "execution": {
     "iopub.execute_input": "2024-10-18T19:51:48.606256Z",
     "iopub.status.busy": "2024-10-18T19:51:48.606154Z",
     "iopub.status.idle": "2024-10-18T19:51:48.609080Z",
     "shell.execute_reply": "2024-10-18T19:51:48.608859Z"
    }
   },
   "outputs": [],
   "source": [
    "# locate the drift template\n",
    "ifile = \"../templates/drift/ImpactT.in\"\n",
    "os.path.exists(ifile)"
   ]
  },
  {
   "cell_type": "code",
   "execution_count": null,
   "metadata": {
    "execution": {
     "iopub.execute_input": "2024-10-18T19:51:48.629782Z",
     "iopub.status.busy": "2024-10-18T19:51:48.629665Z",
     "iopub.status.idle": "2024-10-18T19:51:48.631786Z",
     "shell.execute_reply": "2024-10-18T19:51:48.631581Z"
    }
   },
   "outputs": [],
   "source": [
    "# calculate gamma*beta\n",
    "Etot = 10e6  # eV\n",
    "gamma = Etot / mec2\n",
    "GB = np.sqrt(gamma**2 - 1)\n",
    "GB"
   ]
  },
  {
   "cell_type": "markdown",
   "metadata": {},
   "source": [
    "# Use Impact's built-in Gaussian particle generator"
   ]
  },
  {
   "cell_type": "code",
   "execution_count": null,
   "metadata": {
    "execution": {
     "iopub.execute_input": "2024-10-18T19:51:48.633066Z",
     "iopub.status.busy": "2024-10-18T19:51:48.632973Z",
     "iopub.status.idle": "2024-10-18T19:51:48.635220Z",
     "shell.execute_reply": "2024-10-18T19:51:48.634968Z"
    }
   },
   "outputs": [],
   "source": [
    "I = Impact(ifile)\n",
    "I.header[\"Np\"] = 100000\n",
    "I.header[\"Nx\"] = 32\n",
    "I.header[\"Ny\"] = 32\n",
    "I.header[\"Nz\"] = 32\n",
    "I.header[\"Dt\"] = 10e-12"
   ]
  },
  {
   "cell_type": "code",
   "execution_count": null,
   "metadata": {
    "execution": {
     "iopub.execute_input": "2024-10-18T19:51:48.636499Z",
     "iopub.status.busy": "2024-10-18T19:51:48.636404Z",
     "iopub.status.idle": "2024-10-18T19:51:48.638370Z",
     "shell.execute_reply": "2024-10-18T19:51:48.638157Z"
    }
   },
   "outputs": [],
   "source": [
    "I.lattice"
   ]
  },
  {
   "cell_type": "code",
   "execution_count": null,
   "metadata": {
    "execution": {
     "iopub.execute_input": "2024-10-18T19:51:48.639632Z",
     "iopub.status.busy": "2024-10-18T19:51:48.639539Z",
     "iopub.status.idle": "2024-10-18T19:51:55.336564Z",
     "shell.execute_reply": "2024-10-18T19:51:55.336134Z"
    }
   },
   "outputs": [],
   "source": [
    "I.run()"
   ]
  },
  {
   "cell_type": "code",
   "execution_count": null,
   "metadata": {
    "execution": {
     "iopub.execute_input": "2024-10-18T19:51:55.338399Z",
     "iopub.status.busy": "2024-10-18T19:51:55.338276Z",
     "iopub.status.idle": "2024-10-18T19:51:55.340725Z",
     "shell.execute_reply": "2024-10-18T19:51:55.340482Z"
    }
   },
   "outputs": [],
   "source": [
    "I.output[\"stats\"].keys()"
   ]
  },
  {
   "cell_type": "code",
   "execution_count": null,
   "metadata": {
    "execution": {
     "iopub.execute_input": "2024-10-18T19:51:55.342129Z",
     "iopub.status.busy": "2024-10-18T19:51:55.342011Z",
     "iopub.status.idle": "2024-10-18T19:51:55.343493Z",
     "shell.execute_reply": "2024-10-18T19:51:55.343274Z"
    }
   },
   "outputs": [],
   "source": [
    "PI = I.particles[\"initial_particles\"]\n",
    "PF = I.particles[\"final_particles\"]"
   ]
  },
  {
   "cell_type": "code",
   "execution_count": null,
   "metadata": {
    "execution": {
     "iopub.execute_input": "2024-10-18T19:51:55.344768Z",
     "iopub.status.busy": "2024-10-18T19:51:55.344695Z",
     "iopub.status.idle": "2024-10-18T19:51:56.064070Z",
     "shell.execute_reply": "2024-10-18T19:51:56.063838Z"
    }
   },
   "outputs": [],
   "source": [
    "PF.plot(\"x\", \"px\")\n",
    "PF.plot(\"delta_z\", \"delta_pz\")"
   ]
  },
  {
   "cell_type": "markdown",
   "metadata": {},
   "source": [
    "# Make particles in distgen"
   ]
  },
  {
   "cell_type": "code",
   "execution_count": null,
   "metadata": {
    "execution": {
     "iopub.execute_input": "2024-10-18T19:51:56.065622Z",
     "iopub.status.busy": "2024-10-18T19:51:56.065524Z",
     "iopub.status.idle": "2024-10-18T19:51:56.086518Z",
     "shell.execute_reply": "2024-10-18T19:51:56.086290Z"
    }
   },
   "outputs": [],
   "source": [
    "from distgen import Generator\n",
    "\n",
    "YAML = \"\"\"\n",
    "n_particle: 20000\n",
    "random_type: hammersley\n",
    "species: electron\n",
    "start:\n",
    "  tstart:\n",
    "    units: sec\n",
    "    value: 0\n",
    "  type: time\n",
    "total_charge:\n",
    "  units: nC\n",
    "  value: 1\n",
    "r_dist:\n",
    "  sigma_xy:\n",
    "    units: mm\n",
    "    value: 1.0\n",
    "  type: radial_gaussian\n",
    "z_dist:\n",
    "  avg_z:\n",
    "    units: mm\n",
    "    value: 0\n",
    "  sigma_z:\n",
    "    units: mm\n",
    "    value: 0.1\n",
    "  type: gaussian\n",
    "  \n",
    "\n",
    "transforms:\n",
    "  setPz:\n",
    "    type: set_avg pz\n",
    "    avg_pz: \n",
    "      value: 10\n",
    "      units: MeV/c\n",
    "  \n",
    "\"\"\"\n",
    "G = Generator(YAML)\n",
    "G.run()\n",
    "P = G.particles"
   ]
  },
  {
   "cell_type": "code",
   "execution_count": null,
   "metadata": {
    "execution": {
     "iopub.execute_input": "2024-10-18T19:51:56.087944Z",
     "iopub.status.busy": "2024-10-18T19:51:56.087859Z",
     "iopub.status.idle": "2024-10-18T19:51:56.091761Z",
     "shell.execute_reply": "2024-10-18T19:51:56.091551Z"
    }
   },
   "outputs": [],
   "source": [
    "I = Impact(ifile, initial_particles=P, verbose=False)\n",
    "print(I)"
   ]
  },
  {
   "cell_type": "code",
   "execution_count": null,
   "metadata": {
    "execution": {
     "iopub.execute_input": "2024-10-18T19:51:56.093050Z",
     "iopub.status.busy": "2024-10-18T19:51:56.092963Z",
     "iopub.status.idle": "2024-10-18T19:51:56.095086Z",
     "shell.execute_reply": "2024-10-18T19:51:56.094875Z"
    }
   },
   "outputs": [],
   "source": [
    "I.header[\"Nemission\"]"
   ]
  },
  {
   "cell_type": "code",
   "execution_count": null,
   "metadata": {
    "execution": {
     "iopub.execute_input": "2024-10-18T19:51:56.096440Z",
     "iopub.status.busy": "2024-10-18T19:51:56.096364Z",
     "iopub.status.idle": "2024-10-18T19:52:01.184014Z",
     "shell.execute_reply": "2024-10-18T19:52:01.183618Z"
    }
   },
   "outputs": [],
   "source": [
    "I = Impact(ifile, initial_particles=P)\n",
    "I.run()\n",
    "PF2 = I.particles[\"final_particles\"]"
   ]
  },
  {
   "cell_type": "code",
   "execution_count": null,
   "metadata": {
    "execution": {
     "iopub.execute_input": "2024-10-18T19:52:01.185851Z",
     "iopub.status.busy": "2024-10-18T19:52:01.185722Z",
     "iopub.status.idle": "2024-10-18T19:52:01.577848Z",
     "shell.execute_reply": "2024-10-18T19:52:01.577615Z"
    }
   },
   "outputs": [],
   "source": [
    "PF2.plot(\"x\", \"px\")\n",
    "PF2.plot(\"delta_z\", \"delta_pz\")"
   ]
  },
  {
   "cell_type": "markdown",
   "metadata": {},
   "source": [
    "# Compare"
   ]
  },
  {
   "cell_type": "code",
   "execution_count": null,
   "metadata": {
    "execution": {
     "iopub.execute_input": "2024-10-18T19:52:01.579432Z",
     "iopub.status.busy": "2024-10-18T19:52:01.579322Z",
     "iopub.status.idle": "2024-10-18T19:52:02.177837Z",
     "shell.execute_reply": "2024-10-18T19:52:02.177570Z"
    }
   },
   "outputs": [],
   "source": [
    "for k in [\"x\", \"px\", \"z\", \"pz\"]:\n",
    "    plt.hist(PF[k], density=True, bins=100, label=\"Impact-T generator\", alpha=0.5)\n",
    "    plt.hist(PF2[k], density=True, bins=100, label=\"Distgen generator\", alpha=0.5)\n",
    "    plt.xlabel(k)\n",
    "    plt.legend()\n",
    "    plt.show()"
   ]
  }
 ],
 "metadata": {
  "kernelspec": {
   "display_name": "Python 3 (ipykernel)",
   "language": "python",
   "name": "python3"
  },
  "language_info": {
   "codemirror_mode": {
    "name": "ipython",
    "version": 3
   },
   "file_extension": ".py",
   "mimetype": "text/x-python",
   "name": "python",
   "nbconvert_exporter": "python",
   "pygments_lexer": "ipython3",
   "version": "3.12.6"
  }
 },
 "nbformat": 4,
 "nbformat_minor": 4
}
