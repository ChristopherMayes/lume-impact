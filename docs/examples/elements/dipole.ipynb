{
 "cells": [
  {
   "cell_type": "markdown",
   "metadata": {},
   "source": [
    "# Dipole Example (under development)\n",
    "\n",
    "Simple dipole example\n"
   ]
  },
  {
   "cell_type": "code",
   "execution_count": null,
   "metadata": {},
   "outputs": [],
   "source": [
    "from impact import Impact\n",
    "\n",
    "import numpy as np\n",
    "import os\n",
    "\n",
    "import matplotlib.pyplot as plt\n",
    "\n",
    "%config InlineBackend.figure_format='retina'"
   ]
  },
  {
   "cell_type": "code",
   "execution_count": null,
   "metadata": {},
   "outputs": [],
   "source": [
    "# locate the drift template\n",
    "ifile = \"../templates/dipole/ImpactT.in\"\n",
    "os.path.exists(ifile)"
   ]
  },
  {
   "cell_type": "code",
   "execution_count": null,
   "metadata": {},
   "outputs": [],
   "source": [
    "I = Impact(ifile)\n",
    "I.header[\"Bcurr\"] = 0\n",
    "# I.total_charge=1e-12\n",
    "# I.stop = 2.5\n",
    "I.numprocs = 8\n",
    "I.run()\n",
    "\n",
    "c_light = 299792458.0  # m/s\n",
    "(\n",
    "    I.particles[\"final_particles\"][\"mean_t\"] * c_light,\n",
    "    I.particles[\"final_particles\"][\"mean_z\"],\n",
    ")"
   ]
  },
  {
   "cell_type": "code",
   "execution_count": null,
   "metadata": {},
   "outputs": [],
   "source": [
    "I.stat(\"mean_z\")"
   ]
  },
  {
   "cell_type": "code",
   "execution_count": null,
   "metadata": {},
   "outputs": [],
   "source": [
    "I.plot(\"mean_x\")"
   ]
  },
  {
   "cell_type": "code",
   "execution_count": null,
   "metadata": {},
   "outputs": [],
   "source": [
    "!cat {I.path}/ImpactT.in"
   ]
  },
  {
   "cell_type": "code",
   "execution_count": null,
   "metadata": {},
   "outputs": [],
   "source": [
    "# calculate gamma*beta\n",
    "mec2 = 0.51099895000e6  # eV\n",
    "Etot = 1e9  # eV\n",
    "gamma = Etot / mec2\n",
    "GB = np.sqrt(gamma**2 - 1)\n",
    "GB"
   ]
  },
  {
   "cell_type": "code",
   "execution_count": null,
   "metadata": {},
   "outputs": [],
   "source": [
    "from impact.elements.dipole import new_dipole_fieldmap_data, dipole_fieldmap_lines\n",
    "\n",
    "# THETA = 30*np.pi/180\n",
    "MYL = 2.1\n",
    "# MYG = THETA/MYL\n",
    "GAMMA = 1e9 / mec2\n",
    "MYG = 1 / 10\n",
    "# GAMMA = 1e9/mec2\n",
    "THETA = MYG * MYL\n",
    "\n",
    "\n",
    "GB = np.sqrt(GAMMA**2 - 1)\n",
    "\n",
    "DMAP = new_dipole_fieldmap_data(\n",
    "    L=MYL, g=MYG, gamma_ref=GAMMA, e1=0, e2=0, half_gap=0.01, fint=0.5, csr_on=True\n",
    ")\n",
    "\n",
    "# make fieldmap\n",
    "print(dipole_fieldmap_lines(DMAP, \"../templates/dipole/rfdata777\"))"
   ]
  },
  {
   "cell_type": "code",
   "execution_count": null,
   "metadata": {},
   "outputs": [],
   "source": [
    "DMAP"
   ]
  },
  {
   "cell_type": "markdown",
   "metadata": {},
   "source": [
    "# Use Impact's built-in Gaussian particle generator"
   ]
  },
  {
   "cell_type": "code",
   "execution_count": null,
   "metadata": {},
   "outputs": [],
   "source": [
    "I = Impact(ifile)\n",
    "\n",
    "c_light = 299792458.0\n",
    "\n",
    "I.header[\"Np\"] = 1000000\n",
    "I.header[\"Nx\"] = 32\n",
    "I.header[\"Ny\"] = 32\n",
    "I.header[\"Nz\"] = 256\n",
    "I.header[\"Dt\"] = 0.01 / c_light\n",
    "# I.header['Ntstep'] = 200\n",
    "# I.input['fieldmaps']['rfdata777']['data'][0] = 1 # Turn on/off CSR\n",
    "# I.input['fieldmaps']['rfdata777']['data'][-1] = 1 # exit_s\n",
    "I.ele[\"B1\"][\"L\"] = MYL\n",
    "\n",
    "# I.header['zmu2'] = GB\n",
    "I.numprocs = 8\n",
    "I.stop = 3.1\n",
    "I.total_charge = 1e-12\n",
    "I.verbose = True\n",
    "I.write_input()\n",
    "\n",
    "print(I)"
   ]
  },
  {
   "cell_type": "code",
   "execution_count": null,
   "metadata": {},
   "outputs": [],
   "source": [
    "!cat {I.path}/ImpactT.in"
   ]
  },
  {
   "cell_type": "code",
   "execution_count": null,
   "metadata": {},
   "outputs": [],
   "source": [
    "%%time\n",
    "I.run()"
   ]
  },
  {
   "cell_type": "code",
   "execution_count": null,
   "metadata": {},
   "outputs": [],
   "source": [
    "I.particles"
   ]
  },
  {
   "cell_type": "code",
   "execution_count": null,
   "metadata": {},
   "outputs": [],
   "source": [
    "# afile1 = I.archive()"
   ]
  },
  {
   "cell_type": "code",
   "execution_count": null,
   "metadata": {},
   "outputs": [],
   "source": [
    "PF = I.particles[\"final_particles\"]\n",
    "PF[\"mean_z\"]"
   ]
  },
  {
   "cell_type": "code",
   "execution_count": null,
   "metadata": {},
   "outputs": [],
   "source": [
    "P26 = PF.copy()"
   ]
  },
  {
   "cell_type": "code",
   "execution_count": null,
   "metadata": {},
   "outputs": [],
   "source": [
    "PF.plot(\"delta_z\", \"delta_p\", bins=100, figsize=(12, 8))"
   ]
  },
  {
   "cell_type": "code",
   "execution_count": null,
   "metadata": {},
   "outputs": [],
   "source": [
    "P2 = PF.copy()"
   ]
  },
  {
   "cell_type": "code",
   "execution_count": null,
   "metadata": {},
   "outputs": [],
   "source": [
    "P1[\"mean_z\"], P2[\"mean_z\"]"
   ]
  },
  {
   "cell_type": "code",
   "execution_count": null,
   "metadata": {},
   "outputs": [],
   "source": [
    "k1 = \"min_p\"\n",
    "P1[k1], P4[k1], P3[k1]"
   ]
  },
  {
   "cell_type": "code",
   "execution_count": null,
   "metadata": {},
   "outputs": [],
   "source": [
    "k1 = \"delta_z\"\n",
    "k2 = \"p\"\n",
    "plt.scatter(P1[k1], P1[k2])\n",
    "plt.scatter(P2[k1], P2[k2])"
   ]
  },
  {
   "cell_type": "code",
   "execution_count": null,
   "metadata": {},
   "outputs": [],
   "source": [
    "I.particles[\"initial_particles\"].plot(\"y\", \"py\")"
   ]
  },
  {
   "cell_type": "markdown",
   "metadata": {},
   "source": [
    "# Single particle tracking"
   ]
  },
  {
   "cell_type": "code",
   "execution_count": null,
   "metadata": {},
   "outputs": [],
   "source": [
    "from impact.elements import dipole"
   ]
  },
  {
   "cell_type": "code",
   "execution_count": null,
   "metadata": {},
   "outputs": [],
   "source": [
    "dipole.parse_dipole_fieldmap_data"
   ]
  },
  {
   "cell_type": "code",
   "execution_count": null,
   "metadata": {},
   "outputs": [],
   "source": [
    "I.ele[\"B1\"]"
   ]
  },
  {
   "cell_type": "code",
   "execution_count": null,
   "metadata": {},
   "outputs": [],
   "source": [
    "DATA = I.input[\"fieldmaps\"][I.ele[\"B1\"][\"filename\"]][\"data\"]\n",
    "DMAP = dipole.parse_dipole_fieldmap_data(DATA)\n",
    "DMAP"
   ]
  },
  {
   "cell_type": "code",
   "execution_count": null,
   "metadata": {},
   "outputs": [],
   "source": [
    "I.track1(pz0=1e9)\n",
    "I.path"
   ]
  },
  {
   "cell_type": "code",
   "execution_count": null,
   "metadata": {},
   "outputs": [],
   "source": [
    "I.header[\"Flagdist\"]"
   ]
  },
  {
   "cell_type": "code",
   "execution_count": null,
   "metadata": {},
   "outputs": [],
   "source": [
    "dipole.plot_dipole_fieldmap(DMAP, ref_data=I.output[\"dipole_stats\"], g=1 / 10, L=3.0)"
   ]
  },
  {
   "cell_type": "code",
   "execution_count": null,
   "metadata": {},
   "outputs": [],
   "source": [
    "I.input[\"fieldmaps\"][\"rfdata777\"][\"data\"][0] = 1"
   ]
  },
  {
   "cell_type": "code",
   "execution_count": null,
   "metadata": {},
   "outputs": [],
   "source": [
    "I.verbose = False\n",
    "I.run()"
   ]
  },
  {
   "cell_type": "markdown",
   "metadata": {},
   "source": [
    "# CSR analysis"
   ]
  },
  {
   "cell_type": "code",
   "execution_count": null,
   "metadata": {},
   "outputs": [],
   "source": [
    "%%time\n",
    "I1 = I.copy()\n",
    "I1.configure()\n",
    "I1.stop = 2.5\n",
    "I1.verbose = False\n",
    "I1.run()\n",
    "\n",
    "I1.particles[\"final_particles\"][\"mean_t\"] * c_light"
   ]
  },
  {
   "cell_type": "code",
   "execution_count": null,
   "metadata": {},
   "outputs": [],
   "source": [
    "!cat {I1.path}/ImpactT.in"
   ]
  },
  {
   "cell_type": "code",
   "execution_count": null,
   "metadata": {},
   "outputs": [],
   "source": [
    "I2 = I.copy()\n",
    "I2.configure()\n",
    "I2.stop = 2.6\n",
    "I2.verbose = False\n",
    "I2.run()"
   ]
  },
  {
   "cell_type": "code",
   "execution_count": null,
   "metadata": {},
   "outputs": [],
   "source": [
    ", I2.particles['final_particles']['mean_t']*c_light"
   ]
  },
  {
   "cell_type": "code",
   "execution_count": null,
   "metadata": {},
   "outputs": [],
   "source": [
    "from scipy.constants import physical_constants\n",
    "\n",
    "mec2 = physical_constants[\"electron mass energy equivalent in MeV\"][0] * 1e6\n",
    "\n",
    "c_light = 299792458.0  # m/s\n",
    "\n",
    "r_electron = physical_constants[\"classical electron radius\"][0]\n",
    "\n",
    "\n",
    "def W0_calc(rho=10, sigma_z=0.0003, total_charge=1e-12):\n",
    "    N = total_charge / 1.6e-19\n",
    "\n",
    "    return N * r_electron * mec2 / rho ** (2 / 3.0) / sigma_z ** (4 / 3.0)\n",
    "\n",
    "\n",
    "W0 = W0_calc()\n",
    "\n",
    "W0"
   ]
  },
  {
   "cell_type": "code",
   "execution_count": null,
   "metadata": {},
   "outputs": [],
   "source": [
    "# I1 = Impact.from_archive('impact_6bcb411d0efbbf51d6df8096bdc4dd0d.h5') # 2.5 m\n",
    "\n",
    "# I2 = Impact.from_archive('impact_8abe9fea7069035129b86b72021a3957.h5') # 2.6 m\n",
    "\n",
    "P1 = I1.particles[\"final_particles\"]\n",
    "z1 = P1[\"mean_z\"]\n",
    "P1.z -= z1\n",
    "\n",
    "P2 = I2.particles[\"final_particles\"]\n",
    "z2 = P2[\"mean_z\"]\n",
    "P2.z -= z2\n",
    "\n",
    "z1, z2"
   ]
  },
  {
   "cell_type": "code",
   "execution_count": null,
   "metadata": {},
   "outputs": [],
   "source": [
    "from pmd_beamphysics.statistics import slice_statistics\n",
    "\n",
    "?slice_statistics"
   ]
  },
  {
   "cell_type": "code",
   "execution_count": null,
   "metadata": {},
   "outputs": [],
   "source": [
    "dat1 = slice_statistics(P1, keys=[\"mean_z\", \"mean_energy\"])\n",
    "dat2 = slice_statistics(P2, keys=[\"mean_z\", \"mean_energy\"])"
   ]
  },
  {
   "cell_type": "code",
   "execution_count": null,
   "metadata": {},
   "outputs": [],
   "source": [
    "plt.plot(dat1[\"mean_z\"], dat1[\"mean_energy\"])"
   ]
  },
  {
   "cell_type": "code",
   "execution_count": null,
   "metadata": {},
   "outputs": [],
   "source": [
    "Z = np.linspace(-6e-4, 6e-4, 100)\n",
    "E1 = np.interp(Z, dat1[\"mean_z\"], dat1[\"mean_energy\"])\n",
    "E2 = np.interp(Z, dat2[\"mean_z\"], dat2[\"mean_energy\"])"
   ]
  },
  {
   "cell_type": "code",
   "execution_count": null,
   "metadata": {},
   "outputs": [],
   "source": [
    "dz = z2 - z1\n",
    "dz"
   ]
  },
  {
   "cell_type": "code",
   "execution_count": null,
   "metadata": {},
   "outputs": [],
   "source": [
    "plt.plot(Z, E1)\n",
    "plt.plot(Z, E2)"
   ]
  },
  {
   "cell_type": "code",
   "execution_count": null,
   "metadata": {},
   "outputs": [],
   "source": [
    "plt.xlabel(\"$z/\\sigma_z$\")\n",
    "plt.ylabel(\"$dE/dz/W_0$\")\n",
    "plt.plot(Z / 0.0003, (E2 - E1) / dz / W0)"
   ]
  },
  {
   "cell_type": "code",
   "execution_count": null,
   "metadata": {},
   "outputs": [],
   "source": [
    "# Mathematica computed\n",
    "SSdat = np.loadtxt(\"../../devel/steadystate_csr_wake.dat\").T\n",
    "SSz = SSdat[0]\n",
    "SSw = SSdat[1]\n",
    "plt.plot(SSz, SSw)"
   ]
  },
  {
   "cell_type": "code",
   "execution_count": null,
   "metadata": {},
   "outputs": [],
   "source": [
    "plt.xlabel(\"$z/\\sigma_z$\")\n",
    "plt.ylabel(\"$dE/dz/W_0$\")\n",
    "plt.scatter(Z / 0.0003, (E2 - E1) / dz / W0, label=\"Impact-T\", color=\"red\")\n",
    "plt.plot(SSz, SSw, label=\"1-D model\", color=\"black\")\n",
    "plt.legend()"
   ]
  },
  {
   "cell_type": "code",
   "execution_count": null,
   "metadata": {},
   "outputs": [],
   "source": [
    "0.02 ** (2 / 3) * 2.5"
   ]
  },
  {
   "cell_type": "code",
   "execution_count": null,
   "metadata": {},
   "outputs": [],
   "source": [
    "(0.0006) ** (-2 / 3) * (100.0) ** (-1 / 3) * 0.0254 / 2"
   ]
  },
  {
   "cell_type": "code",
   "execution_count": null,
   "metadata": {},
   "outputs": [],
   "source": [
    "W0_calc(rho=10, sigma_z=0.05, total_charge=1e-9) / 2.5e6"
   ]
  },
  {
   "cell_type": "code",
   "execution_count": null,
   "metadata": {},
   "outputs": [],
   "source": []
  },
  {
   "cell_type": "code",
   "execution_count": null,
   "metadata": {},
   "outputs": [],
   "source": []
  },
  {
   "cell_type": "code",
   "execution_count": null,
   "metadata": {},
   "outputs": [],
   "source": []
  },
  {
   "cell_type": "code",
   "execution_count": null,
   "metadata": {},
   "outputs": [],
   "source": []
  },
  {
   "cell_type": "code",
   "execution_count": null,
   "metadata": {},
   "outputs": [],
   "source": []
  },
  {
   "cell_type": "code",
   "execution_count": null,
   "metadata": {},
   "outputs": [],
   "source": []
  },
  {
   "cell_type": "code",
   "execution_count": null,
   "metadata": {},
   "outputs": [],
   "source": []
  }
 ],
 "metadata": {
  "kernelspec": {
   "display_name": "Python 3 (ipykernel)",
   "language": "python",
   "name": "python3"
  },
  "language_info": {
   "codemirror_mode": {
    "name": "ipython",
    "version": 3
   },
   "file_extension": ".py",
   "mimetype": "text/x-python",
   "name": "python",
   "nbconvert_exporter": "python",
   "pygments_lexer": "ipython3",
   "version": "3.12.3"
  }
 },
 "nbformat": 4,
 "nbformat_minor": 4
}
