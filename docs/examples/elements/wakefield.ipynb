{
 "cells": [
  {
   "cell_type": "markdown",
   "metadata": {},
   "source": [
    "# Wakefield example\n",
    "\n",
    "Simple 1 m drift with a wakefield. \n",
    "\n",
    "This verifies that the analytic formula uses is SLAC-PUB-9663 Eq. 8\n",
    "\n"
   ]
  },
  {
   "cell_type": "code",
   "execution_count": null,
   "metadata": {
    "execution": {
     "iopub.execute_input": "2025-02-20T21:25:51.584691Z",
     "iopub.status.busy": "2025-02-20T21:25:51.584590Z",
     "iopub.status.idle": "2025-02-20T21:25:51.823638Z",
     "shell.execute_reply": "2025-02-20T21:25:51.823302Z"
    }
   },
   "outputs": [],
   "source": [
    "import numpy as np\n",
    "import os\n",
    "\n",
    "import matplotlib.pyplot as plt\n",
    "import matplotlib\n",
    "\n",
    "matplotlib.rcParams[\"figure.figsize\"] = (8, 4)\n",
    "%config InlineBackend.figure_format='retina'"
   ]
  },
  {
   "cell_type": "code",
   "execution_count": null,
   "metadata": {
    "execution": {
     "iopub.execute_input": "2025-02-20T21:25:51.825194Z",
     "iopub.status.busy": "2025-02-20T21:25:51.825061Z",
     "iopub.status.idle": "2025-02-20T21:25:52.684942Z",
     "shell.execute_reply": "2025-02-20T21:25:52.684670Z"
    }
   },
   "outputs": [],
   "source": [
    "# locate the drift template\n",
    "from impact import Impact\n",
    "\n",
    "ifile = \"../templates/wakefield/ImpactT.in\"\n",
    "os.path.exists(ifile)"
   ]
  },
  {
   "cell_type": "code",
   "execution_count": null,
   "metadata": {
    "execution": {
     "iopub.execute_input": "2025-02-20T21:25:52.704895Z",
     "iopub.status.busy": "2025-02-20T21:25:52.704703Z",
     "iopub.status.idle": "2025-02-20T21:25:52.706885Z",
     "shell.execute_reply": "2025-02-20T21:25:52.706627Z"
    }
   },
   "outputs": [],
   "source": [
    "# gamma for 1 GeV\n",
    "1e9 / 0.511e6"
   ]
  },
  {
   "cell_type": "markdown",
   "metadata": {},
   "source": [
    "# Use Impact's built-in Gaussian particle generator"
   ]
  },
  {
   "cell_type": "code",
   "execution_count": null,
   "metadata": {
    "execution": {
     "iopub.execute_input": "2025-02-20T21:25:52.708146Z",
     "iopub.status.busy": "2025-02-20T21:25:52.708036Z",
     "iopub.status.idle": "2025-02-20T21:25:52.710484Z",
     "shell.execute_reply": "2025-02-20T21:25:52.710255Z"
    }
   },
   "outputs": [],
   "source": [
    "I = Impact(ifile)\n",
    "I.header[\"Np\"] = 10000\n",
    "I.header[\"Nx\"] = 32\n",
    "I.header[\"Ny\"] = 32\n",
    "I.header[\"Nz\"] = 32\n",
    "I.header[\"Dt\"] = 10e-12"
   ]
  },
  {
   "cell_type": "code",
   "execution_count": null,
   "metadata": {
    "execution": {
     "iopub.execute_input": "2025-02-20T21:25:52.711634Z",
     "iopub.status.busy": "2025-02-20T21:25:52.711550Z",
     "iopub.status.idle": "2025-02-20T21:25:52.713674Z",
     "shell.execute_reply": "2025-02-20T21:25:52.713439Z"
    }
   },
   "outputs": [],
   "source": [
    "I.lattice"
   ]
  },
  {
   "cell_type": "code",
   "execution_count": null,
   "metadata": {
    "execution": {
     "iopub.execute_input": "2025-02-20T21:25:52.714667Z",
     "iopub.status.busy": "2025-02-20T21:25:52.714583Z",
     "iopub.status.idle": "2025-02-20T21:25:53.399333Z",
     "shell.execute_reply": "2025-02-20T21:25:53.398830Z"
    }
   },
   "outputs": [],
   "source": [
    "I.run()"
   ]
  },
  {
   "cell_type": "code",
   "execution_count": null,
   "metadata": {
    "execution": {
     "iopub.execute_input": "2025-02-20T21:25:53.401330Z",
     "iopub.status.busy": "2025-02-20T21:25:53.401176Z",
     "iopub.status.idle": "2025-02-20T21:25:53.403748Z",
     "shell.execute_reply": "2025-02-20T21:25:53.403517Z"
    }
   },
   "outputs": [],
   "source": [
    "I.output[\"stats\"].keys()"
   ]
  },
  {
   "cell_type": "code",
   "execution_count": null,
   "metadata": {
    "execution": {
     "iopub.execute_input": "2025-02-20T21:25:53.404912Z",
     "iopub.status.busy": "2025-02-20T21:25:53.404814Z",
     "iopub.status.idle": "2025-02-20T21:25:53.406824Z",
     "shell.execute_reply": "2025-02-20T21:25:53.406603Z"
    }
   },
   "outputs": [],
   "source": [
    "PI = I.particles[\"initial_particles\"]\n",
    "PF = I.particles[\"final_particles\"]\n",
    "PI, PF"
   ]
  },
  {
   "cell_type": "code",
   "execution_count": null,
   "metadata": {
    "execution": {
     "iopub.execute_input": "2025-02-20T21:25:53.407863Z",
     "iopub.status.busy": "2025-02-20T21:25:53.407785Z",
     "iopub.status.idle": "2025-02-20T21:25:53.798594Z",
     "shell.execute_reply": "2025-02-20T21:25:53.798293Z"
    }
   },
   "outputs": [],
   "source": [
    "PI.plot(\"delta_z\", \"delta_pz\")\n",
    "PF.plot(\"delta_z\", \"delta_pz\")"
   ]
  },
  {
   "cell_type": "code",
   "execution_count": null,
   "metadata": {
    "execution": {
     "iopub.execute_input": "2025-02-20T21:25:53.799949Z",
     "iopub.status.busy": "2025-02-20T21:25:53.799865Z",
     "iopub.status.idle": "2025-02-20T21:25:53.999766Z",
     "shell.execute_reply": "2025-02-20T21:25:53.999478Z"
    }
   },
   "outputs": [],
   "source": [
    "PF.plot(\"delta_z\", \"delta_pz\")"
   ]
  },
  {
   "cell_type": "code",
   "execution_count": null,
   "metadata": {
    "execution": {
     "iopub.execute_input": "2025-02-20T21:25:54.001095Z",
     "iopub.status.busy": "2025-02-20T21:25:54.000985Z",
     "iopub.status.idle": "2025-02-20T21:25:54.002664Z",
     "shell.execute_reply": "2025-02-20T21:25:54.002425Z"
    }
   },
   "outputs": [],
   "source": [
    "# np.savetxt('/Users/chrisonian/Scratch/impactwake.dat', np.array([PF['z'], PF['pz']]).T)"
   ]
  },
  {
   "cell_type": "markdown",
   "metadata": {},
   "source": [
    "# Make particles in distgen"
   ]
  },
  {
   "cell_type": "code",
   "execution_count": null,
   "metadata": {
    "execution": {
     "iopub.execute_input": "2025-02-20T21:25:54.003804Z",
     "iopub.status.busy": "2025-02-20T21:25:54.003719Z",
     "iopub.status.idle": "2025-02-20T21:25:54.024761Z",
     "shell.execute_reply": "2025-02-20T21:25:54.024531Z"
    }
   },
   "outputs": [],
   "source": [
    "from distgen import Generator\n",
    "\n",
    "YAML = \"\"\"\n",
    "n_particle: 20000\n",
    "random_type: hammersley\n",
    "species: electron\n",
    "start:\n",
    "  tstart:\n",
    "    units: sec\n",
    "    value: 0\n",
    "  type: time\n",
    "total_charge:\n",
    "  units: nC\n",
    "  value: 1\n",
    "r_dist:\n",
    "  sigma_xy:\n",
    "    units: mm\n",
    "    value: .001\n",
    "  type: radial_gaussian\n",
    "z_dist:\n",
    "  avg_z:\n",
    "    units: mm\n",
    "    value: 0\n",
    "  sigma_z:\n",
    "    units: mm\n",
    "    value: 0.1\n",
    "  type: gaussian\n",
    "  \n",
    "\n",
    "transforms:\n",
    "  setPz:\n",
    "    type: set_avg pz\n",
    "    avg_pz: \n",
    "      value: 1\n",
    "      units: GeV/c\n",
    "  \n",
    "\"\"\"\n",
    "G = Generator(YAML)\n",
    "G.run()\n",
    "P = G.particles"
   ]
  },
  {
   "cell_type": "code",
   "execution_count": null,
   "metadata": {
    "execution": {
     "iopub.execute_input": "2025-02-20T21:25:54.025928Z",
     "iopub.status.busy": "2025-02-20T21:25:54.025845Z",
     "iopub.status.idle": "2025-02-20T21:25:55.084651Z",
     "shell.execute_reply": "2025-02-20T21:25:55.084169Z"
    }
   },
   "outputs": [],
   "source": [
    "I = Impact(ifile, initial_particles=P, verbose=False)\n",
    "I.run()\n",
    "PF2 = I.particles[\"final_particles\"]"
   ]
  },
  {
   "cell_type": "code",
   "execution_count": null,
   "metadata": {
    "execution": {
     "iopub.execute_input": "2025-02-20T21:25:55.086279Z",
     "iopub.status.busy": "2025-02-20T21:25:55.086128Z",
     "iopub.status.idle": "2025-02-20T21:25:55.490372Z",
     "shell.execute_reply": "2025-02-20T21:25:55.490055Z"
    }
   },
   "outputs": [],
   "source": [
    "PF2.plot(\"x\", \"px\")\n",
    "PF2.plot(\"delta_z\", \"delta_pz\")"
   ]
  },
  {
   "cell_type": "markdown",
   "metadata": {},
   "source": [
    "# Compare"
   ]
  },
  {
   "cell_type": "code",
   "execution_count": null,
   "metadata": {
    "execution": {
     "iopub.execute_input": "2025-02-20T21:25:55.491837Z",
     "iopub.status.busy": "2025-02-20T21:25:55.491708Z",
     "iopub.status.idle": "2025-02-20T21:25:55.951282Z",
     "shell.execute_reply": "2025-02-20T21:25:55.950911Z"
    }
   },
   "outputs": [],
   "source": [
    "for k in [\"x\", \"z\", \"pz\"]:\n",
    "    plt.hist(PF[k], density=True, bins=100, label=\"Impact-T generator\", alpha=0.5)\n",
    "    plt.hist(PF2[k], density=True, bins=100, label=\"Distgen generator\", alpha=0.5)\n",
    "    plt.xlabel(k)\n",
    "    plt.legend()\n",
    "    plt.show()"
   ]
  },
  {
   "cell_type": "markdown",
   "metadata": {},
   "source": [
    " # Checking the wakefield with SLAC-PUB-9663\n",
    " \n",
    " Impact-T seems to use Eq. * from SLAC-PUB-9663, Karl Bane (2003). \n",
    " \n",
    " https://www.slac.stanford.edu/pubs/slacpubs/9500/slac-pub-9663.pdf\n",
    " \n",
    " "
   ]
  },
  {
   "cell_type": "code",
   "execution_count": null,
   "metadata": {
    "execution": {
     "iopub.execute_input": "2025-02-20T21:25:55.952817Z",
     "iopub.status.busy": "2025-02-20T21:25:55.952706Z",
     "iopub.status.idle": "2025-02-20T21:25:56.050886Z",
     "shell.execute_reply": "2025-02-20T21:25:56.050617Z"
    }
   },
   "outputs": [],
   "source": [
    "# Define alpha function for the s00 calc.\n",
    "\n",
    "\n",
    "def alpha(g):\n",
    "    \"\"\"\n",
    "    SLAC-PUB-9663 equation (5)\n",
    "\n",
    "    \"\"\"\n",
    "    a1 = 0.4648\n",
    "    return 1 - a1 * np.sqrt(g) - (1 - 2 * a1) * g\n",
    "\n",
    "\n",
    "def bane_wake(z, a=0.0116, g=0.0292, L=0.035):\n",
    "    s00 = g / 8 * (a / (alpha(g / L) * L)) ** 2\n",
    "\n",
    "    #   'iris_radius': 0.0116,\n",
    "    #   'gap': 0.0292,\n",
    "    #   'period': 0.035,\n",
    "\n",
    "    Z0c_over_pi = 120 * 299792458.0  # Ohm m/s\n",
    "\n",
    "    WL = Z0c_over_pi / a**2 * np.exp(-np.sqrt(z / s00))\n",
    "\n",
    "    return WL\n",
    "\n",
    "\n",
    "def bane_wake2(z, a=0.0116, g=0.0292, L=0.035):\n",
    "    \"\"\"\n",
    "    From SLAC-PUB-11829\n",
    "    \"\"\"\n",
    "\n",
    "    s1 = 0.41 * a**1.8 * g**1.6 / L**2.4\n",
    "\n",
    "    Z0c_over_pi = 120 * 299792458.0  # Ohm m/s\n",
    "\n",
    "    WL = Z0c_over_pi / a**2 * np.exp(-np.sqrt(z / s1))\n",
    "\n",
    "    return WL\n",
    "\n",
    "\n",
    "plt.xlabel(\"z (m)\")\n",
    "plt.ylabel(\"Wake (V/C)\")\n",
    "plt.yscale(\"log\")\n",
    "\n",
    "dzz = 0.00001\n",
    "zz = np.arange(0, 0.01, dzz)\n",
    "\n",
    "plt.yscale(\"log\")\n",
    "plt.plot(zz, bane_wake(zz), label=\"SLAC-PUB-9663\", color=\"red\")\n",
    "plt.plot(zz, bane_wake2(zz), label=\"SLAC-PUB-11829\", color=\"green\")\n",
    "plt.legend()"
   ]
  },
  {
   "cell_type": "code",
   "execution_count": null,
   "metadata": {
    "execution": {
     "iopub.execute_input": "2025-02-20T21:25:56.052242Z",
     "iopub.status.busy": "2025-02-20T21:25:56.052125Z",
     "iopub.status.idle": "2025-02-20T21:25:56.054982Z",
     "shell.execute_reply": "2025-02-20T21:25:56.054750Z"
    }
   },
   "outputs": [],
   "source": [
    "# Compare with particles\n",
    "sigma = 0.0001\n",
    "Qtot = -1e-9  # C\n",
    "\n",
    "\n",
    "def density(z, sigma=0.0001):\n",
    "    return 1 / (np.sqrt(2 * np.pi) * sigma) * np.exp(-0.5 * (z / sigma) ** 2)\n",
    "\n",
    "\n",
    "dz = sigma / 10\n",
    "zlist = np.arange(-6 * sigma, 6 * sigma, dz)\n",
    "\n",
    "# Check normalization\n",
    "np.sum(density(zlist)) * dz"
   ]
  },
  {
   "cell_type": "code",
   "execution_count": null,
   "metadata": {
    "execution": {
     "iopub.execute_input": "2025-02-20T21:25:56.056364Z",
     "iopub.status.busy": "2025-02-20T21:25:56.056124Z",
     "iopub.status.idle": "2025-02-20T21:25:56.058120Z",
     "shell.execute_reply": "2025-02-20T21:25:56.057809Z"
    }
   },
   "outputs": [],
   "source": [
    "def total_bane_wake(z):\n",
    "    W = bane_wake(zz)\n",
    "    return np.sum(W * density(zz + z) * dzz)"
   ]
  },
  {
   "cell_type": "code",
   "execution_count": null,
   "metadata": {
    "execution": {
     "iopub.execute_input": "2025-02-20T21:25:56.059371Z",
     "iopub.status.busy": "2025-02-20T21:25:56.059258Z",
     "iopub.status.idle": "2025-02-20T21:25:56.195644Z",
     "shell.execute_reply": "2025-02-20T21:25:56.195379Z"
    }
   },
   "outputs": [],
   "source": [
    "plt.xlabel(\"z\")\n",
    "plt.ylabel(r\"$\\Delta p_z$ (eV/c)\")\n",
    "plt.scatter(\n",
    "    PF[\"delta_z\"], PF[\"pz\"] - PF[\"max_pz\"], marker=\"x\", label=\"Impact-T tracking\"\n",
    ")\n",
    "plt.plot(\n",
    "    zlist,\n",
    "    Qtot * np.array([total_bane_wake(z) for z in zlist]),\n",
    "    color=\"blue\",\n",
    "    label=\"SLAC-PUB-9663 equation (8)\",\n",
    ")\n",
    "plt.title(\"Integrated total wake comparison\")\n",
    "plt.legend()"
   ]
  },
  {
   "cell_type": "markdown",
   "metadata": {},
   "source": [
    "# Comparison with Wakefield file\n",
    "\n",
    "Many codes will use a wakefield file, with a list of z and single particle wake in V/C"
   ]
  },
  {
   "cell_type": "code",
   "execution_count": null,
   "metadata": {
    "execution": {
     "iopub.execute_input": "2025-02-20T21:25:56.197188Z",
     "iopub.status.busy": "2025-02-20T21:25:56.197078Z",
     "iopub.status.idle": "2025-02-20T21:25:56.199393Z",
     "shell.execute_reply": "2025-02-20T21:25:56.199123Z"
    }
   },
   "outputs": [],
   "source": [
    "wfile = \"Sz_p5um_10mm_per35mm_cell.sdds\"\n",
    "reffile = os.path.join(\"../templates/wakefield\", wfile)\n",
    "reffile"
   ]
  },
  {
   "cell_type": "code",
   "execution_count": null,
   "metadata": {
    "execution": {
     "iopub.execute_input": "2025-02-20T21:25:56.200715Z",
     "iopub.status.busy": "2025-02-20T21:25:56.200615Z",
     "iopub.status.idle": "2025-02-20T21:25:56.335845Z",
     "shell.execute_reply": "2025-02-20T21:25:56.335469Z"
    }
   },
   "outputs": [],
   "source": [
    "!head -n 8 ../templates/wakefield/Sz_p5um_10mm_per35mm_cell.sdds"
   ]
  },
  {
   "cell_type": "code",
   "execution_count": null,
   "metadata": {
    "execution": {
     "iopub.execute_input": "2025-02-20T21:25:56.337480Z",
     "iopub.status.busy": "2025-02-20T21:25:56.337377Z",
     "iopub.status.idle": "2025-02-20T21:25:56.595944Z",
     "shell.execute_reply": "2025-02-20T21:25:56.595674Z"
    }
   },
   "outputs": [],
   "source": [
    "# Load the file\n",
    "edat = np.loadtxt(reffile, skiprows=7).T\n",
    "zw = edat[0]\n",
    "dzw = np.mean(np.diff(zw))\n",
    "W_from_file = edat[1] / 35e-3  # Convert to per m\n",
    "\n",
    "plt.ylabel(\"W (V/C)\")\n",
    "plt.xlabel(\"z (m)\")\n",
    "plt.yscale(\"log\")\n",
    "plt.plot(zw, W_from_file, label=wfile)\n",
    "plt.plot(zw, np.array([bane_wake(z) for z in zw]), label=\"SLAC-PUB-9663 equation (8)\")\n",
    "plt.scatter(\n",
    "    zw,\n",
    "    np.array([bane_wake(z) for z in zw]),\n",
    "    label=\"SLAC-PUB-11829 equation (12)\",\n",
    "    color=\"red\",\n",
    ")\n",
    "plt.legend()"
   ]
  },
  {
   "cell_type": "code",
   "execution_count": null,
   "metadata": {
    "execution": {
     "iopub.execute_input": "2025-02-20T21:25:56.597196Z",
     "iopub.status.busy": "2025-02-20T21:25:56.597098Z",
     "iopub.status.idle": "2025-02-20T21:25:56.599580Z",
     "shell.execute_reply": "2025-02-20T21:25:56.599343Z"
    }
   },
   "outputs": [],
   "source": [
    "def total_wake_from_file(z):\n",
    "    return np.sum(W_from_file * density(zw + z) * dzw)\n",
    "\n",
    "\n",
    "total_wake_from_file(0) * 1e-9"
   ]
  },
  {
   "cell_type": "code",
   "execution_count": null,
   "metadata": {
    "execution": {
     "iopub.execute_input": "2025-02-20T21:25:56.600703Z",
     "iopub.status.busy": "2025-02-20T21:25:56.600605Z",
     "iopub.status.idle": "2025-02-20T21:25:56.736774Z",
     "shell.execute_reply": "2025-02-20T21:25:56.736503Z"
    }
   },
   "outputs": [],
   "source": [
    "plt.xlabel(\"z (m)\")\n",
    "plt.ylabel(r\"$\\Delta p_z$ (eV/c)\")\n",
    "plt.scatter(\n",
    "    PF[\"delta_z\"], PF[\"pz\"] - PF[\"max_pz\"], marker=\"x\", label=\"Impact-T tracking\"\n",
    ")\n",
    "plt.plot(\n",
    "    zlist,\n",
    "    Qtot * np.array([total_wake_from_file(z) for z in zlist]),\n",
    "    color=\"red\",\n",
    "    label=wfile,\n",
    ")\n",
    "plt.plot(\n",
    "    zlist,\n",
    "    Qtot * np.array([total_bane_wake(z) for z in zlist]),\n",
    "    color=\"blue\",\n",
    "    label=\"SLAC-PUB-9663 equation (8)\",\n",
    ")\n",
    "plt.legend()"
   ]
  }
 ],
 "metadata": {
  "kernelspec": {
   "display_name": "Python 3 (ipykernel)",
   "language": "python",
   "name": "python3"
  },
  "language_info": {
   "codemirror_mode": {
    "name": "ipython",
    "version": 3
   },
   "file_extension": ".py",
   "mimetype": "text/x-python",
   "name": "python",
   "nbconvert_exporter": "python",
   "pygments_lexer": "ipython3",
   "version": "3.12.8"
  }
 },
 "nbformat": 4,
 "nbformat_minor": 4
}
