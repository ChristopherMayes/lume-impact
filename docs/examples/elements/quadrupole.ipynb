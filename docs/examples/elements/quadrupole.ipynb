{
 "cells": [
  {
   "cell_type": "markdown",
   "metadata": {},
   "source": [
    "# Quadrupole Example\n",
    "\n",
    "Simple quadrupole example\n"
   ]
  },
  {
   "cell_type": "code",
   "execution_count": null,
   "metadata": {
    "execution": {
     "iopub.execute_input": "2024-10-18T19:49:11.202440Z",
     "iopub.status.busy": "2024-10-18T19:49:11.201698Z",
     "iopub.status.idle": "2024-10-18T19:49:12.145940Z",
     "shell.execute_reply": "2024-10-18T19:49:12.145644Z"
    }
   },
   "outputs": [],
   "source": [
    "from impact import Impact\n",
    "\n",
    "from pmd_beamphysics.units import mec2\n",
    "\n",
    "import numpy as np\n",
    "import os\n",
    "\n",
    "import matplotlib.pyplot as plt\n",
    "\n",
    "%config InlineBackend.figure_format='retina'"
   ]
  },
  {
   "cell_type": "code",
   "execution_count": null,
   "metadata": {
    "execution": {
     "iopub.execute_input": "2024-10-18T19:49:12.147687Z",
     "iopub.status.busy": "2024-10-18T19:49:12.147542Z",
     "iopub.status.idle": "2024-10-18T19:49:12.150723Z",
     "shell.execute_reply": "2024-10-18T19:49:12.150507Z"
    }
   },
   "outputs": [],
   "source": [
    "# locate the drift template\n",
    "ifile = \"../templates/quadrupole/ImpactT.in\"\n",
    "os.path.exists(ifile)"
   ]
  },
  {
   "cell_type": "code",
   "execution_count": null,
   "metadata": {
    "execution": {
     "iopub.execute_input": "2024-10-18T19:49:12.171882Z",
     "iopub.status.busy": "2024-10-18T19:49:12.171745Z",
     "iopub.status.idle": "2024-10-18T19:49:12.174020Z",
     "shell.execute_reply": "2024-10-18T19:49:12.173802Z"
    }
   },
   "outputs": [],
   "source": [
    "# calculate gamma*beta\n",
    "Etot = 6e6  # eV\n",
    "gamma = Etot / mec2\n",
    "GB = np.sqrt(gamma**2 - 1)\n",
    "GB"
   ]
  },
  {
   "cell_type": "markdown",
   "metadata": {},
   "source": [
    "# Use Impact's built-in Gaussian particle generator"
   ]
  },
  {
   "cell_type": "code",
   "execution_count": null,
   "metadata": {
    "execution": {
     "iopub.execute_input": "2024-10-18T19:49:12.175347Z",
     "iopub.status.busy": "2024-10-18T19:49:12.175252Z",
     "iopub.status.idle": "2024-10-18T19:49:12.177666Z",
     "shell.execute_reply": "2024-10-18T19:49:12.177448Z"
    }
   },
   "outputs": [],
   "source": [
    "I = Impact(ifile)\n",
    "I.header[\"Np\"] = 100000\n",
    "I.header[\"Nx\"] = 32\n",
    "I.header[\"Ny\"] = 32\n",
    "I.header[\"Nz\"] = 32\n",
    "I.header[\"Dt\"] = 10e-12\n",
    "I.header[\"Bcurr\"] = 0\n",
    "\n",
    "I.header[\"zmu2\"] = GB\n",
    "\n",
    "# set normal and skew quads\n",
    "I.ele[\"CQ01\"][\"b1_gradient\"] = 0.00714  # T/m\n",
    "I.ele[\"SQ01\"][\"b1_gradient\"] = 0"
   ]
  },
  {
   "cell_type": "markdown",
   "metadata": {},
   "source": [
    "# Single particle tracking"
   ]
  },
  {
   "cell_type": "code",
   "execution_count": null,
   "metadata": {
    "execution": {
     "iopub.execute_input": "2024-10-18T19:49:12.179024Z",
     "iopub.status.busy": "2024-10-18T19:49:12.178930Z",
     "iopub.status.idle": "2024-10-18T19:49:12.180687Z",
     "shell.execute_reply": "2024-10-18T19:49:12.180469Z"
    }
   },
   "outputs": [],
   "source": [
    "# Track\n",
    "I2 = I.copy()\n",
    "I2.configure()"
   ]
  },
  {
   "cell_type": "code",
   "execution_count": null,
   "metadata": {
    "execution": {
     "iopub.execute_input": "2024-10-18T19:49:12.181958Z",
     "iopub.status.busy": "2024-10-18T19:49:12.181886Z",
     "iopub.status.idle": "2024-10-18T19:49:12.183809Z",
     "shell.execute_reply": "2024-10-18T19:49:12.183619Z"
    }
   },
   "outputs": [],
   "source": [
    "ele = I2.ele[\"CQ01\"]\n",
    "ele"
   ]
  },
  {
   "cell_type": "code",
   "execution_count": null,
   "metadata": {
    "execution": {
     "iopub.execute_input": "2024-10-18T19:49:12.185025Z",
     "iopub.status.busy": "2024-10-18T19:49:12.184950Z",
     "iopub.status.idle": "2024-10-18T19:49:12.186776Z",
     "shell.execute_reply": "2024-10-18T19:49:12.186570Z"
    }
   },
   "outputs": [],
   "source": [
    "# Estimate for angle change for a 6 MeV/c momentum particle, offset by 1 mm.\n",
    "ele[\"b1_gradient\"] * ele[\"L_effective\"] * 299792458 / 6e6 * 0.001"
   ]
  },
  {
   "cell_type": "code",
   "execution_count": null,
   "metadata": {
    "execution": {
     "iopub.execute_input": "2024-10-18T19:49:12.187977Z",
     "iopub.status.busy": "2024-10-18T19:49:12.187905Z",
     "iopub.status.idle": "2024-10-18T19:49:12.228259Z",
     "shell.execute_reply": "2024-10-18T19:49:12.227990Z"
    }
   },
   "outputs": [],
   "source": [
    "P2 = I2.track1(s=2.2, z0=0, x0=0.001, pz0=6e6)\n",
    "P2.xp"
   ]
  },
  {
   "cell_type": "code",
   "execution_count": null,
   "metadata": {
    "execution": {
     "iopub.execute_input": "2024-10-18T19:49:12.229801Z",
     "iopub.status.busy": "2024-10-18T19:49:12.229672Z",
     "iopub.status.idle": "2024-10-18T19:49:12.428951Z",
     "shell.execute_reply": "2024-10-18T19:49:12.428689Z"
    }
   },
   "outputs": [],
   "source": [
    "I2.plot(\"mean_x\")"
   ]
  },
  {
   "cell_type": "markdown",
   "metadata": {},
   "source": [
    "# Track beam"
   ]
  },
  {
   "cell_type": "code",
   "execution_count": null,
   "metadata": {
    "execution": {
     "iopub.execute_input": "2024-10-18T19:49:12.430464Z",
     "iopub.status.busy": "2024-10-18T19:49:12.430365Z",
     "iopub.status.idle": "2024-10-18T19:49:14.360096Z",
     "shell.execute_reply": "2024-10-18T19:49:14.359688Z"
    }
   },
   "outputs": [],
   "source": [
    "# Regular and Skew quads\n",
    "I.run()"
   ]
  },
  {
   "cell_type": "code",
   "execution_count": null,
   "metadata": {
    "execution": {
     "iopub.execute_input": "2024-10-18T19:49:14.361817Z",
     "iopub.status.busy": "2024-10-18T19:49:14.361692Z",
     "iopub.status.idle": "2024-10-18T19:49:14.364030Z",
     "shell.execute_reply": "2024-10-18T19:49:14.363837Z"
    }
   },
   "outputs": [],
   "source": [
    "I.output[\"stats\"].keys()"
   ]
  },
  {
   "cell_type": "code",
   "execution_count": null,
   "metadata": {
    "execution": {
     "iopub.execute_input": "2024-10-18T19:49:14.365348Z",
     "iopub.status.busy": "2024-10-18T19:49:14.365252Z",
     "iopub.status.idle": "2024-10-18T19:49:14.367881Z",
     "shell.execute_reply": "2024-10-18T19:49:14.367688Z"
    }
   },
   "outputs": [],
   "source": [
    "PI = I.particles[\"initial_particles\"]\n",
    "PF = I.particles[\"final_particles\"]\n",
    "PI[\"sigma_y\"]"
   ]
  },
  {
   "cell_type": "code",
   "execution_count": null,
   "metadata": {
    "execution": {
     "iopub.execute_input": "2024-10-18T19:49:14.369191Z",
     "iopub.status.busy": "2024-10-18T19:49:14.369087Z",
     "iopub.status.idle": "2024-10-18T19:49:14.450679Z",
     "shell.execute_reply": "2024-10-18T19:49:14.450428Z"
    }
   },
   "outputs": [],
   "source": [
    "# Compare these.\n",
    "key1 = \"mean_z\"\n",
    "key2 = \"sigma_x\"\n",
    "units1 = str(I.units(key1))\n",
    "units2 = str(I.units(key2))\n",
    "plt.xlabel(key1 + f\" ({units1})\")\n",
    "plt.ylabel(key2 + f\" ({units2})\")\n",
    "plt.plot(I.stat(key1), I.stat(key2))\n",
    "plt.scatter(\n",
    "    [I.particles[name][key1] for name in I.particles],\n",
    "    [I.particles[name][key2] for name in I.particles],\n",
    "    color=\"red\",\n",
    ")"
   ]
  },
  {
   "cell_type": "code",
   "execution_count": null,
   "metadata": {
    "execution": {
     "iopub.execute_input": "2024-10-18T19:49:14.452141Z",
     "iopub.status.busy": "2024-10-18T19:49:14.452020Z",
     "iopub.status.idle": "2024-10-18T19:49:14.532658Z",
     "shell.execute_reply": "2024-10-18T19:49:14.532409Z"
    }
   },
   "outputs": [],
   "source": [
    "# Compare these.\n",
    "key1 = \"mean_z\"\n",
    "key2 = \"sigma_x\"\n",
    "units1 = str(I.units(key1))\n",
    "units2 = str(I.units(key2))\n",
    "plt.xlabel(key1 + f\" ({units1})\")\n",
    "plt.ylabel(key2 + f\" ({units2})\")\n",
    "plt.plot(I.stat(key1), I.stat(key2))\n",
    "plt.scatter(\n",
    "    [I.particles[name][key1] for name in I.particles],\n",
    "    [I.particles[name][key2] for name in I.particles],\n",
    "    color=\"red\",\n",
    ")\n",
    "key2 = \"sigma_y\"\n",
    "plt.plot(I.stat(key1), I.stat(key2))\n",
    "plt.scatter(\n",
    "    [I.particles[name][key1] for name in I.particles],\n",
    "    [I.particles[name][key2] for name in I.particles],\n",
    "    color=\"green\",\n",
    ")"
   ]
  },
  {
   "cell_type": "code",
   "execution_count": null,
   "metadata": {
    "execution": {
     "iopub.execute_input": "2024-10-18T19:49:14.534083Z",
     "iopub.status.busy": "2024-10-18T19:49:14.533981Z",
     "iopub.status.idle": "2024-10-18T19:49:15.257720Z",
     "shell.execute_reply": "2024-10-18T19:49:15.257448Z"
    }
   },
   "outputs": [],
   "source": [
    "PF.plot(\"x\", \"y\")\n",
    "PF.plot(\"delta_z\", \"delta_pz\")"
   ]
  }
 ],
 "metadata": {
  "kernelspec": {
   "display_name": "Python 3 (ipykernel)",
   "language": "python",
   "name": "python3"
  },
  "language_info": {
   "codemirror_mode": {
    "name": "ipython",
    "version": 3
   },
   "file_extension": ".py",
   "mimetype": "text/x-python",
   "name": "python",
   "nbconvert_exporter": "python",
   "pygments_lexer": "ipython3",
   "version": "3.12.6"
  }
 },
 "nbformat": 4,
 "nbformat_minor": 4
}
