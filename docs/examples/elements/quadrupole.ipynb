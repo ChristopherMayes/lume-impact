{
 "cells": [
  {
   "cell_type": "markdown",
   "metadata": {},
   "source": [
    "# Quadrupole Example\n",
    "\n",
    "Simple quadrupole example\n"
   ]
  },
  {
   "cell_type": "code",
   "execution_count": null,
   "metadata": {
    "execution": {
     "iopub.execute_input": "2025-02-12T18:04:38.505158Z",
     "iopub.status.busy": "2025-02-12T18:04:38.504823Z",
     "iopub.status.idle": "2025-02-12T18:04:39.530862Z",
     "shell.execute_reply": "2025-02-12T18:04:39.530567Z"
    }
   },
   "outputs": [],
   "source": [
    "from impact import Impact\n",
    "\n",
    "from pmd_beamphysics.units import mec2\n",
    "\n",
    "import numpy as np\n",
    "import os\n",
    "\n",
    "import matplotlib.pyplot as plt\n",
    "\n",
    "%config InlineBackend.figure_format='retina'"
   ]
  },
  {
   "cell_type": "code",
   "execution_count": null,
   "metadata": {
    "execution": {
     "iopub.execute_input": "2025-02-12T18:04:39.532511Z",
     "iopub.status.busy": "2025-02-12T18:04:39.532371Z",
     "iopub.status.idle": "2025-02-12T18:04:39.535432Z",
     "shell.execute_reply": "2025-02-12T18:04:39.535189Z"
    }
   },
   "outputs": [],
   "source": [
    "# locate the drift template\n",
    "ifile = \"../templates/quadrupole/ImpactT.in\"\n",
    "os.path.exists(ifile)"
   ]
  },
  {
   "cell_type": "code",
   "execution_count": null,
   "metadata": {
    "execution": {
     "iopub.execute_input": "2025-02-12T18:04:39.555111Z",
     "iopub.status.busy": "2025-02-12T18:04:39.554992Z",
     "iopub.status.idle": "2025-02-12T18:04:39.557070Z",
     "shell.execute_reply": "2025-02-12T18:04:39.556864Z"
    }
   },
   "outputs": [],
   "source": [
    "# calculate gamma*beta\n",
    "Etot = 6e6  # eV\n",
    "gamma = Etot / mec2\n",
    "GB = np.sqrt(gamma**2 - 1)\n",
    "GB"
   ]
  },
  {
   "cell_type": "markdown",
   "metadata": {},
   "source": [
    "# Use Impact's built-in Gaussian particle generator"
   ]
  },
  {
   "cell_type": "code",
   "execution_count": null,
   "metadata": {
    "execution": {
     "iopub.execute_input": "2025-02-12T18:04:39.558243Z",
     "iopub.status.busy": "2025-02-12T18:04:39.558141Z",
     "iopub.status.idle": "2025-02-12T18:04:39.561515Z",
     "shell.execute_reply": "2025-02-12T18:04:39.561261Z"
    }
   },
   "outputs": [],
   "source": [
    "I = Impact(ifile)\n",
    "I.header[\"Np\"] = 100000\n",
    "I.header[\"Nx\"] = 32\n",
    "I.header[\"Ny\"] = 32\n",
    "I.header[\"Nz\"] = 32\n",
    "I.header[\"Dt\"] = 10e-12\n",
    "I.header[\"Bcurr\"] = 0\n",
    "\n",
    "I.header[\"zmu2\"] = GB\n",
    "\n",
    "# set normal and skew quads\n",
    "I.ele[\"CQ01\"][\"b1_gradient\"] = 0.00714  # T/m\n",
    "I.ele[\"SQ01\"][\"b1_gradient\"] = 0"
   ]
  },
  {
   "cell_type": "markdown",
   "metadata": {},
   "source": [
    "# Single particle tracking"
   ]
  },
  {
   "cell_type": "code",
   "execution_count": null,
   "metadata": {
    "execution": {
     "iopub.execute_input": "2025-02-12T18:04:39.562752Z",
     "iopub.status.busy": "2025-02-12T18:04:39.562672Z",
     "iopub.status.idle": "2025-02-12T18:04:39.564576Z",
     "shell.execute_reply": "2025-02-12T18:04:39.564266Z"
    }
   },
   "outputs": [],
   "source": [
    "# Track\n",
    "I2 = I.copy()\n",
    "I2.configure()"
   ]
  },
  {
   "cell_type": "code",
   "execution_count": null,
   "metadata": {
    "execution": {
     "iopub.execute_input": "2025-02-12T18:04:39.565700Z",
     "iopub.status.busy": "2025-02-12T18:04:39.565633Z",
     "iopub.status.idle": "2025-02-12T18:04:39.567588Z",
     "shell.execute_reply": "2025-02-12T18:04:39.567364Z"
    }
   },
   "outputs": [],
   "source": [
    "ele = I2.ele[\"CQ01\"]\n",
    "ele"
   ]
  },
  {
   "cell_type": "code",
   "execution_count": null,
   "metadata": {
    "execution": {
     "iopub.execute_input": "2025-02-12T18:04:39.568568Z",
     "iopub.status.busy": "2025-02-12T18:04:39.568498Z",
     "iopub.status.idle": "2025-02-12T18:04:39.570337Z",
     "shell.execute_reply": "2025-02-12T18:04:39.570122Z"
    }
   },
   "outputs": [],
   "source": [
    "# Estimate for angle change for a 6 MeV/c momentum particle, offset by 1 mm.\n",
    "ele[\"b1_gradient\"] * ele[\"L_effective\"] * 299792458 / 6e6 * 0.001"
   ]
  },
  {
   "cell_type": "code",
   "execution_count": null,
   "metadata": {
    "execution": {
     "iopub.execute_input": "2025-02-12T18:04:39.571387Z",
     "iopub.status.busy": "2025-02-12T18:04:39.571302Z",
     "iopub.status.idle": "2025-02-12T18:04:39.615202Z",
     "shell.execute_reply": "2025-02-12T18:04:39.614897Z"
    }
   },
   "outputs": [],
   "source": [
    "P2 = I2.track1(s=2.2, z0=0, x0=0.001, pz0=6e6)\n",
    "P2.xp"
   ]
  },
  {
   "cell_type": "code",
   "execution_count": null,
   "metadata": {
    "execution": {
     "iopub.execute_input": "2025-02-12T18:04:39.616373Z",
     "iopub.status.busy": "2025-02-12T18:04:39.616289Z",
     "iopub.status.idle": "2025-02-12T18:04:39.812929Z",
     "shell.execute_reply": "2025-02-12T18:04:39.812644Z"
    }
   },
   "outputs": [],
   "source": [
    "I2.plot(\"mean_x\")"
   ]
  },
  {
   "cell_type": "markdown",
   "metadata": {},
   "source": [
    "# Track beam"
   ]
  },
  {
   "cell_type": "code",
   "execution_count": null,
   "metadata": {
    "execution": {
     "iopub.execute_input": "2025-02-12T18:04:39.814416Z",
     "iopub.status.busy": "2025-02-12T18:04:39.814293Z",
     "iopub.status.idle": "2025-02-12T18:04:41.604416Z",
     "shell.execute_reply": "2025-02-12T18:04:41.603845Z"
    }
   },
   "outputs": [],
   "source": [
    "# Regular and Skew quads\n",
    "I.run()"
   ]
  },
  {
   "cell_type": "code",
   "execution_count": null,
   "metadata": {
    "execution": {
     "iopub.execute_input": "2025-02-12T18:04:41.606139Z",
     "iopub.status.busy": "2025-02-12T18:04:41.605910Z",
     "iopub.status.idle": "2025-02-12T18:04:41.608354Z",
     "shell.execute_reply": "2025-02-12T18:04:41.608124Z"
    }
   },
   "outputs": [],
   "source": [
    "I.output[\"stats\"].keys()"
   ]
  },
  {
   "cell_type": "code",
   "execution_count": null,
   "metadata": {
    "execution": {
     "iopub.execute_input": "2025-02-12T18:04:41.609439Z",
     "iopub.status.busy": "2025-02-12T18:04:41.609350Z",
     "iopub.status.idle": "2025-02-12T18:04:41.611890Z",
     "shell.execute_reply": "2025-02-12T18:04:41.611650Z"
    }
   },
   "outputs": [],
   "source": [
    "PI = I.particles[\"initial_particles\"]\n",
    "PF = I.particles[\"final_particles\"]\n",
    "PI[\"sigma_y\"]"
   ]
  },
  {
   "cell_type": "code",
   "execution_count": null,
   "metadata": {
    "execution": {
     "iopub.execute_input": "2025-02-12T18:04:41.612953Z",
     "iopub.status.busy": "2025-02-12T18:04:41.612861Z",
     "iopub.status.idle": "2025-02-12T18:04:41.686302Z",
     "shell.execute_reply": "2025-02-12T18:04:41.686054Z"
    }
   },
   "outputs": [],
   "source": [
    "# Compare these.\n",
    "key1 = \"mean_z\"\n",
    "key2 = \"sigma_x\"\n",
    "units1 = str(I.units(key1))\n",
    "units2 = str(I.units(key2))\n",
    "plt.xlabel(key1 + f\" ({units1})\")\n",
    "plt.ylabel(key2 + f\" ({units2})\")\n",
    "plt.plot(I.stat(key1), I.stat(key2))\n",
    "plt.scatter(\n",
    "    [I.particles[name][key1] for name in I.particles],\n",
    "    [I.particles[name][key2] for name in I.particles],\n",
    "    color=\"red\",\n",
    ")"
   ]
  },
  {
   "cell_type": "code",
   "execution_count": null,
   "metadata": {
    "execution": {
     "iopub.execute_input": "2025-02-12T18:04:41.687417Z",
     "iopub.status.busy": "2025-02-12T18:04:41.687334Z",
     "iopub.status.idle": "2025-02-12T18:04:41.764030Z",
     "shell.execute_reply": "2025-02-12T18:04:41.763791Z"
    }
   },
   "outputs": [],
   "source": [
    "# Compare these.\n",
    "key1 = \"mean_z\"\n",
    "key2 = \"sigma_x\"\n",
    "units1 = str(I.units(key1))\n",
    "units2 = str(I.units(key2))\n",
    "plt.xlabel(key1 + f\" ({units1})\")\n",
    "plt.ylabel(key2 + f\" ({units2})\")\n",
    "plt.plot(I.stat(key1), I.stat(key2))\n",
    "plt.scatter(\n",
    "    [I.particles[name][key1] for name in I.particles],\n",
    "    [I.particles[name][key2] for name in I.particles],\n",
    "    color=\"red\",\n",
    ")\n",
    "key2 = \"sigma_y\"\n",
    "plt.plot(I.stat(key1), I.stat(key2))\n",
    "plt.scatter(\n",
    "    [I.particles[name][key1] for name in I.particles],\n",
    "    [I.particles[name][key2] for name in I.particles],\n",
    "    color=\"green\",\n",
    ")"
   ]
  },
  {
   "cell_type": "code",
   "execution_count": null,
   "metadata": {
    "execution": {
     "iopub.execute_input": "2025-02-12T18:04:41.765301Z",
     "iopub.status.busy": "2025-02-12T18:04:41.765215Z",
     "iopub.status.idle": "2025-02-12T18:04:42.499675Z",
     "shell.execute_reply": "2025-02-12T18:04:42.499357Z"
    }
   },
   "outputs": [],
   "source": [
    "PF.plot(\"x\", \"y\")\n",
    "PF.plot(\"delta_z\", \"delta_pz\")"
   ]
  }
 ],
 "metadata": {
  "kernelspec": {
   "display_name": "Python 3 (ipykernel)",
   "language": "python",
   "name": "python3"
  },
  "language_info": {
   "codemirror_mode": {
    "name": "ipython",
    "version": 3
   },
   "file_extension": ".py",
   "mimetype": "text/x-python",
   "name": "python",
   "nbconvert_exporter": "python",
   "pygments_lexer": "ipython3",
   "version": "3.12.8"
  }
 },
 "nbformat": 4,
 "nbformat_minor": 4
}
