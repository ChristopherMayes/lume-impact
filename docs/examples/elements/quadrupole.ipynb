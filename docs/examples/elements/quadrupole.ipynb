{
 "cells": [
  {
   "cell_type": "markdown",
   "metadata": {},
   "source": [
    "# Quadrupole Example\n",
    "\n",
    "Simple quadrupole example\n"
   ]
  },
  {
   "cell_type": "code",
   "execution_count": null,
   "metadata": {
    "execution": {
     "iopub.execute_input": "2025-02-20T21:23:32.797693Z",
     "iopub.status.busy": "2025-02-20T21:23:32.797266Z",
     "iopub.status.idle": "2025-02-20T21:23:33.841321Z",
     "shell.execute_reply": "2025-02-20T21:23:33.840909Z"
    }
   },
   "outputs": [],
   "source": [
    "from impact import Impact\n",
    "\n",
    "from pmd_beamphysics.units import mec2\n",
    "\n",
    "import numpy as np\n",
    "import os\n",
    "\n",
    "import matplotlib.pyplot as plt\n",
    "\n",
    "%config InlineBackend.figure_format='retina'"
   ]
  },
  {
   "cell_type": "code",
   "execution_count": null,
   "metadata": {
    "execution": {
     "iopub.execute_input": "2025-02-20T21:23:33.843507Z",
     "iopub.status.busy": "2025-02-20T21:23:33.843268Z",
     "iopub.status.idle": "2025-02-20T21:23:33.846572Z",
     "shell.execute_reply": "2025-02-20T21:23:33.846313Z"
    }
   },
   "outputs": [],
   "source": [
    "# locate the drift template\n",
    "ifile = \"../templates/quadrupole/ImpactT.in\"\n",
    "os.path.exists(ifile)"
   ]
  },
  {
   "cell_type": "code",
   "execution_count": null,
   "metadata": {
    "execution": {
     "iopub.execute_input": "2025-02-20T21:23:33.868382Z",
     "iopub.status.busy": "2025-02-20T21:23:33.868208Z",
     "iopub.status.idle": "2025-02-20T21:23:33.870841Z",
     "shell.execute_reply": "2025-02-20T21:23:33.870529Z"
    }
   },
   "outputs": [],
   "source": [
    "# calculate gamma*beta\n",
    "Etot = 6e6  # eV\n",
    "gamma = Etot / mec2\n",
    "GB = np.sqrt(gamma**2 - 1)\n",
    "GB"
   ]
  },
  {
   "cell_type": "markdown",
   "metadata": {},
   "source": [
    "# Use Impact's built-in Gaussian particle generator"
   ]
  },
  {
   "cell_type": "code",
   "execution_count": null,
   "metadata": {
    "execution": {
     "iopub.execute_input": "2025-02-20T21:23:33.872217Z",
     "iopub.status.busy": "2025-02-20T21:23:33.872102Z",
     "iopub.status.idle": "2025-02-20T21:23:33.875234Z",
     "shell.execute_reply": "2025-02-20T21:23:33.874861Z"
    }
   },
   "outputs": [],
   "source": [
    "I = Impact(ifile)\n",
    "I.header[\"Np\"] = 100000\n",
    "I.header[\"Nx\"] = 32\n",
    "I.header[\"Ny\"] = 32\n",
    "I.header[\"Nz\"] = 32\n",
    "I.header[\"Dt\"] = 10e-12\n",
    "I.header[\"Bcurr\"] = 0\n",
    "\n",
    "I.header[\"zmu2\"] = GB\n",
    "\n",
    "# set normal and skew quads\n",
    "I.ele[\"CQ01\"][\"b1_gradient\"] = 0.00714  # T/m\n",
    "I.ele[\"SQ01\"][\"b1_gradient\"] = 0"
   ]
  },
  {
   "cell_type": "markdown",
   "metadata": {},
   "source": [
    "# Single particle tracking"
   ]
  },
  {
   "cell_type": "code",
   "execution_count": null,
   "metadata": {
    "execution": {
     "iopub.execute_input": "2025-02-20T21:23:33.876535Z",
     "iopub.status.busy": "2025-02-20T21:23:33.876418Z",
     "iopub.status.idle": "2025-02-20T21:23:33.878261Z",
     "shell.execute_reply": "2025-02-20T21:23:33.878035Z"
    }
   },
   "outputs": [],
   "source": [
    "# Track\n",
    "I2 = I.copy()\n",
    "I2.configure()"
   ]
  },
  {
   "cell_type": "code",
   "execution_count": null,
   "metadata": {
    "execution": {
     "iopub.execute_input": "2025-02-20T21:23:33.879273Z",
     "iopub.status.busy": "2025-02-20T21:23:33.879188Z",
     "iopub.status.idle": "2025-02-20T21:23:33.881429Z",
     "shell.execute_reply": "2025-02-20T21:23:33.881147Z"
    }
   },
   "outputs": [],
   "source": [
    "ele = I2.ele[\"CQ01\"]\n",
    "ele"
   ]
  },
  {
   "cell_type": "code",
   "execution_count": null,
   "metadata": {
    "execution": {
     "iopub.execute_input": "2025-02-20T21:23:33.882625Z",
     "iopub.status.busy": "2025-02-20T21:23:33.882542Z",
     "iopub.status.idle": "2025-02-20T21:23:33.884738Z",
     "shell.execute_reply": "2025-02-20T21:23:33.884455Z"
    }
   },
   "outputs": [],
   "source": [
    "# Estimate for angle change for a 6 MeV/c momentum particle, offset by 1 mm.\n",
    "ele[\"b1_gradient\"] * ele[\"L_effective\"] * 299792458 / 6e6 * 0.001"
   ]
  },
  {
   "cell_type": "code",
   "execution_count": null,
   "metadata": {
    "execution": {
     "iopub.execute_input": "2025-02-20T21:23:33.886076Z",
     "iopub.status.busy": "2025-02-20T21:23:33.885977Z",
     "iopub.status.idle": "2025-02-20T21:23:33.932997Z",
     "shell.execute_reply": "2025-02-20T21:23:33.932612Z"
    }
   },
   "outputs": [],
   "source": [
    "P2 = I2.track1(s=2.2, z0=0, x0=0.001, pz0=6e6)\n",
    "P2.xp"
   ]
  },
  {
   "cell_type": "code",
   "execution_count": null,
   "metadata": {
    "execution": {
     "iopub.execute_input": "2025-02-20T21:23:33.934732Z",
     "iopub.status.busy": "2025-02-20T21:23:33.934591Z",
     "iopub.status.idle": "2025-02-20T21:23:34.136453Z",
     "shell.execute_reply": "2025-02-20T21:23:34.136161Z"
    }
   },
   "outputs": [],
   "source": [
    "I2.plot(\"mean_x\")"
   ]
  },
  {
   "cell_type": "markdown",
   "metadata": {},
   "source": [
    "# Track beam"
   ]
  },
  {
   "cell_type": "code",
   "execution_count": null,
   "metadata": {
    "execution": {
     "iopub.execute_input": "2025-02-20T21:23:34.137831Z",
     "iopub.status.busy": "2025-02-20T21:23:34.137727Z",
     "iopub.status.idle": "2025-02-20T21:23:35.937406Z",
     "shell.execute_reply": "2025-02-20T21:23:35.936963Z"
    }
   },
   "outputs": [],
   "source": [
    "# Regular and Skew quads\n",
    "I.run()"
   ]
  },
  {
   "cell_type": "code",
   "execution_count": null,
   "metadata": {
    "execution": {
     "iopub.execute_input": "2025-02-20T21:23:35.938943Z",
     "iopub.status.busy": "2025-02-20T21:23:35.938830Z",
     "iopub.status.idle": "2025-02-20T21:23:35.941213Z",
     "shell.execute_reply": "2025-02-20T21:23:35.940981Z"
    }
   },
   "outputs": [],
   "source": [
    "I.output[\"stats\"].keys()"
   ]
  },
  {
   "cell_type": "code",
   "execution_count": null,
   "metadata": {
    "execution": {
     "iopub.execute_input": "2025-02-20T21:23:35.942357Z",
     "iopub.status.busy": "2025-02-20T21:23:35.942251Z",
     "iopub.status.idle": "2025-02-20T21:23:35.944802Z",
     "shell.execute_reply": "2025-02-20T21:23:35.944573Z"
    }
   },
   "outputs": [],
   "source": [
    "PI = I.particles[\"initial_particles\"]\n",
    "PF = I.particles[\"final_particles\"]\n",
    "PI[\"sigma_y\"]"
   ]
  },
  {
   "cell_type": "code",
   "execution_count": null,
   "metadata": {
    "execution": {
     "iopub.execute_input": "2025-02-20T21:23:35.946026Z",
     "iopub.status.busy": "2025-02-20T21:23:35.945918Z",
     "iopub.status.idle": "2025-02-20T21:23:36.022178Z",
     "shell.execute_reply": "2025-02-20T21:23:36.021925Z"
    }
   },
   "outputs": [],
   "source": [
    "# Compare these.\n",
    "key1 = \"mean_z\"\n",
    "key2 = \"sigma_x\"\n",
    "units1 = str(I.units(key1))\n",
    "units2 = str(I.units(key2))\n",
    "plt.xlabel(key1 + f\" ({units1})\")\n",
    "plt.ylabel(key2 + f\" ({units2})\")\n",
    "plt.plot(I.stat(key1), I.stat(key2))\n",
    "plt.scatter(\n",
    "    [I.particles[name][key1] for name in I.particles],\n",
    "    [I.particles[name][key2] for name in I.particles],\n",
    "    color=\"red\",\n",
    ")"
   ]
  },
  {
   "cell_type": "code",
   "execution_count": null,
   "metadata": {
    "execution": {
     "iopub.execute_input": "2025-02-20T21:23:36.023372Z",
     "iopub.status.busy": "2025-02-20T21:23:36.023268Z",
     "iopub.status.idle": "2025-02-20T21:23:36.101769Z",
     "shell.execute_reply": "2025-02-20T21:23:36.101463Z"
    }
   },
   "outputs": [],
   "source": [
    "# Compare these.\n",
    "key1 = \"mean_z\"\n",
    "key2 = \"sigma_x\"\n",
    "units1 = str(I.units(key1))\n",
    "units2 = str(I.units(key2))\n",
    "plt.xlabel(key1 + f\" ({units1})\")\n",
    "plt.ylabel(key2 + f\" ({units2})\")\n",
    "plt.plot(I.stat(key1), I.stat(key2))\n",
    "plt.scatter(\n",
    "    [I.particles[name][key1] for name in I.particles],\n",
    "    [I.particles[name][key2] for name in I.particles],\n",
    "    color=\"red\",\n",
    ")\n",
    "key2 = \"sigma_y\"\n",
    "plt.plot(I.stat(key1), I.stat(key2))\n",
    "plt.scatter(\n",
    "    [I.particles[name][key1] for name in I.particles],\n",
    "    [I.particles[name][key2] for name in I.particles],\n",
    "    color=\"green\",\n",
    ")"
   ]
  },
  {
   "cell_type": "code",
   "execution_count": null,
   "metadata": {
    "execution": {
     "iopub.execute_input": "2025-02-20T21:23:36.103405Z",
     "iopub.status.busy": "2025-02-20T21:23:36.103281Z",
     "iopub.status.idle": "2025-02-20T21:23:36.857452Z",
     "shell.execute_reply": "2025-02-20T21:23:36.857138Z"
    }
   },
   "outputs": [],
   "source": [
    "PF.plot(\"x\", \"y\")\n",
    "PF.plot(\"delta_z\", \"delta_pz\")"
   ]
  }
 ],
 "metadata": {
  "kernelspec": {
   "display_name": "Python 3 (ipykernel)",
   "language": "python",
   "name": "python3"
  },
  "language_info": {
   "codemirror_mode": {
    "name": "ipython",
    "version": 3
   },
   "file_extension": ".py",
   "mimetype": "text/x-python",
   "name": "python",
   "nbconvert_exporter": "python",
   "pygments_lexer": "ipython3",
   "version": "3.12.8"
  }
 },
 "nbformat": 4,
 "nbformat_minor": 4
}
