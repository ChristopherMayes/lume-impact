{
 "cells": [
  {
   "cell_type": "markdown",
   "metadata": {},
   "source": [
    "# EM Field Analytical, 10: steering\n",
    "\n"
   ]
  },
  {
   "cell_type": "code",
   "execution_count": 1,
   "metadata": {},
   "outputs": [],
   "source": [
    "%load_ext autoreload\n",
    "%autoreload 2"
   ]
  },
  {
   "cell_type": "code",
   "execution_count": 2,
   "metadata": {},
   "outputs": [],
   "source": [
    "from impact import Impact\n",
    "\n",
    "from pmd_beamphysics.units import mec2\n",
    "\n",
    "import numpy as np\n",
    "import os\n",
    "\n",
    "import matplotlib.pyplot as plt\n",
    "%config InlineBackend.figure_format='retina'"
   ]
  },
  {
   "cell_type": "code",
   "execution_count": 3,
   "metadata": {},
   "outputs": [
    {
     "data": {
      "text/plain": [
       "True"
      ]
     },
     "execution_count": 3,
     "metadata": {},
     "output_type": "execute_result"
    }
   ],
   "source": [
    "# locate the drift template\n",
    "ifile = '../templates/emfield_analytic_steer/ImpactT.in'\n",
    "os.path.exists(ifile)"
   ]
  },
  {
   "cell_type": "code",
   "execution_count": 4,
   "metadata": {},
   "outputs": [
    {
     "data": {
      "text/plain": [
       "np.float64(11.699046356605859)"
      ]
     },
     "execution_count": 4,
     "metadata": {},
     "output_type": "execute_result"
    }
   ],
   "source": [
    "# calculate gamma*beta\n",
    "Etot = 6e6 #eV\n",
    "gamma = Etot/mec2\n",
    "GB = np.sqrt(gamma**2 -1)\n",
    "GB\n"
   ]
  },
  {
   "cell_type": "markdown",
   "metadata": {},
   "source": [
    "# Use Impact's built-in Gaussian particle generator"
   ]
  },
  {
   "cell_type": "code",
   "execution_count": 5,
   "metadata": {},
   "outputs": [
    {
     "data": {
      "text/plain": [
       "{'description': 'name:STEER',\n",
       " 'original': '0.2 0 0 113 0.1  1e-3 0 0 10 0.0254/!name:STEER',\n",
       " 'L': 0.2,\n",
       " 'type': 'emfield_analytical',\n",
       " 'zedge': 0.1,\n",
       " 'escale': 0.001,\n",
       " 'rf_frequency': 0.0,\n",
       " 'theta0_deg': 0.0,\n",
       " 'subtype': 'hkicker',\n",
       " 'hgap': 0.0254,\n",
       " 's': 0.30000000000000004,\n",
       " 'name': 'STEER'}"
      ]
     },
     "execution_count": 5,
     "metadata": {},
     "output_type": "execute_result"
    }
   ],
   "source": [
    "I = Impact(ifile)\n",
    "I.header['Np'] = 100000\n",
    "I.header['Nx'] = 32\n",
    "I.header['Ny'] = 32\n",
    "I.header['Nz'] = 32\n",
    "I.header['Dt'] = 10e-12\n",
    "I.header['Bcurr'] = 0\n",
    "\n",
    "I.header['zmu2'] = GB\n",
    "\n",
    "# set normal and skew quads\n",
    "I.ele['STEER']\n"
   ]
  },
  {
   "cell_type": "code",
   "execution_count": 8,
   "metadata": {},
   "outputs": [
    {
     "name": "stdout",
     "output_type": "stream",
     "text": [
      "! Impact-T input file\n",
      "!Npcol Nprow\n",
      "1 1\n",
      "!Dt Ntstep Nbunch\n",
      "1e-11 1000000 1\n",
      "!Dim Np Flagmap Flagerr Flagdiag Flagimg Zimage\n",
      "6 100000 1 0 2 0 0.02\n",
      "!Nx Ny Nz Flagbc Xrad Yrad Perdlen\n",
      "32 32 32 1 0.015 0.015 45.0\n",
      "!Flagdist Rstartflg Flagsbstp Nemission Temission\n",
      "2 0 0 0 0.0\n",
      "!sigx(m) sigpx muxpx xscale pxscale xmu1(m) xmu2\n",
      "0.001 0.0 0.0 1.0 1.0 0.0 0.0\n",
      "!sigy(m) sigpy muxpy yscale pyscale ymu1(m) ymu2\n",
      "0.001 0.0 0.0 1.0 1.0 0.0 0.0\n",
      "!sigz(m) sigpz muxpz zscale pzscale zmu1(m) zmu2\n",
      "0.0001 0.0 0.0 1.0 1.0 0.0 11.699046356605859\n",
      "!Bcurr Bkenergy Bmass Bcharge Bfreq Tini\n",
      "0 1.0 510998.95 -1.0 1000000000.0 0.0\n",
      "!=================== LATTICE ===================\n",
      "0 0 0 -5 0.0 0.0 -1000.0 /!name:2d_to_3d_spacecharge\n",
      "!0.2 0 0 1 0.5 2.98 0.108 0.016 0.0 0.0 0.0 0.0 0.0 /!name:QE04\n",
      "\n",
      "! Corrector quads: skew and regular. \n",
      "! 10: Dipole field for steering:\n",
      "\n",
      "0.2 0 0 113 0.1 0.001 0.0 0.0 10 0.0254 /!name:STEER\n",
      "\n",
      "0 0 0 -99 1.0 0.0 1.0 /!name:stop_1\n"
     ]
    }
   ],
   "source": [
    "I.write_input()\n",
    "!cat {I.path}/ImpactT.in"
   ]
  },
  {
   "cell_type": "code",
   "execution_count": 10,
   "metadata": {},
   "outputs": [
    {
     "data": {
      "text/plain": [
       "'/var/folders/2f/l5_mybzs30j4qqvyj98w1_nw0000gn/T/tmpickr6w65'"
      ]
     },
     "execution_count": 10,
     "metadata": {},
     "output_type": "execute_result"
    }
   ],
   "source": [
    "I.path"
   ]
  },
  {
   "cell_type": "markdown",
   "metadata": {},
   "source": [
    "# Single particle tracking"
   ]
  },
  {
   "cell_type": "code",
   "execution_count": null,
   "metadata": {},
   "outputs": [],
   "source": [
    "# Track\n",
    "I2 = I.copy()\n",
    "I2.configure()"
   ]
  },
  {
   "cell_type": "code",
   "execution_count": null,
   "metadata": {},
   "outputs": [],
   "source": [
    "ele = I2.ele['CQ01']\n",
    "ele"
   ]
  },
  {
   "cell_type": "code",
   "execution_count": null,
   "metadata": {},
   "outputs": [],
   "source": [
    "# Estimate for angle change for a 6 MeV/c momentum particle, offset by 1 mm.  \n",
    "ele['b1_gradient']*ele['L_effective']*299792458 / 6e6 * .001"
   ]
  },
  {
   "cell_type": "code",
   "execution_count": null,
   "metadata": {},
   "outputs": [],
   "source": [
    "P2 = I2.track1(s=2.2, z0 = 0, x0=0.001, pz0=6e6)\n",
    "P2.xp"
   ]
  },
  {
   "cell_type": "code",
   "execution_count": null,
   "metadata": {},
   "outputs": [],
   "source": [
    "I2.plot('mean_x')"
   ]
  },
  {
   "cell_type": "markdown",
   "metadata": {},
   "source": [
    "# Track beam"
   ]
  },
  {
   "cell_type": "code",
   "execution_count": 9,
   "metadata": {},
   "outputs": [
    {
     "name": "stderr",
     "output_type": "stream",
     "text": [
      "At line 751 of file /Users/runner/miniforge3/conda-bld/impact-t_1717611950773/work/src/DataStruct/Data.f90 (unit = 14)\n",
      "Fortran runtime error: Cannot open file 'rfdata10': No such file or directory\n",
      "\n",
      "Error termination. Backtrace:\n",
      "#0  0x104d8bcf7\n",
      "#1  0x104d8cb07\n",
      "#2  0x104d8d42f\n",
      "#3  0x10506ab1b\n",
      "#4  0x10506ad4f\n",
      "#5  0x100abad53\n",
      "#6  0x100b5cdc3\n",
      "#7  0x100b69ceb\n"
     ]
    },
    {
     "ename": "CalledProcessError",
     "evalue": "Command '['/Users/chrisonian/Code/mambaforge/envs/lume-impact-dev/bin/ImpactTexe']' returned non-zero exit status 2.",
     "output_type": "error",
     "traceback": [
      "\u001b[0;31m---------------------------------------------------------------------------\u001b[0m",
      "\u001b[0;31mCalledProcessError\u001b[0m                        Traceback (most recent call last)",
      "Cell \u001b[0;32mIn[9], line 2\u001b[0m\n\u001b[1;32m      1\u001b[0m \u001b[38;5;66;03m# Regular and Skew quads\u001b[39;00m\n\u001b[0;32m----> 2\u001b[0m \u001b[43mI\u001b[49m\u001b[38;5;241;43m.\u001b[39;49m\u001b[43mrun\u001b[49m\u001b[43m(\u001b[49m\u001b[43m)\u001b[49m\n",
      "File \u001b[0;32m~/Code/GitHub/lume-impact/impact/impact.py:314\u001b[0m, in \u001b[0;36mImpact.run\u001b[0;34m(self)\u001b[0m\n\u001b[1;32m    312\u001b[0m     \u001b[38;5;28mself\u001b[39m\u001b[38;5;241m.\u001b[39mvprint(\u001b[38;5;124m'\u001b[39m\u001b[38;5;124mnot configured to run\u001b[39m\u001b[38;5;124m'\u001b[39m)\n\u001b[1;32m    313\u001b[0m     \u001b[38;5;28;01mreturn\u001b[39;00m\n\u001b[0;32m--> 314\u001b[0m \u001b[38;5;28;43mself\u001b[39;49m\u001b[38;5;241;43m.\u001b[39;49m\u001b[43mrun_impact\u001b[49m\u001b[43m(\u001b[49m\u001b[43mverbose\u001b[49m\u001b[38;5;241;43m=\u001b[39;49m\u001b[38;5;28;43mself\u001b[39;49m\u001b[38;5;241;43m.\u001b[39;49m\u001b[43mverbose\u001b[49m\u001b[43m,\u001b[49m\u001b[43m \u001b[49m\u001b[43mtimeout\u001b[49m\u001b[38;5;241;43m=\u001b[39;49m\u001b[38;5;28;43mself\u001b[39;49m\u001b[38;5;241;43m.\u001b[39;49m\u001b[43mtimeout\u001b[49m\u001b[43m)\u001b[49m\n",
      "File \u001b[0;32m~/Code/GitHub/lume-impact/impact/impact.py:436\u001b[0m, in \u001b[0;36mImpact.run_impact\u001b[0;34m(self, verbose, timeout)\u001b[0m\n\u001b[1;32m    434\u001b[0m log \u001b[38;5;241m=\u001b[39m []\n\u001b[1;32m    435\u001b[0m counter \u001b[38;5;241m=\u001b[39m \u001b[38;5;241m0\u001b[39m\n\u001b[0;32m--> 436\u001b[0m \u001b[43m\u001b[49m\u001b[38;5;28;43;01mfor\u001b[39;49;00m\u001b[43m \u001b[49m\u001b[43mpath\u001b[49m\u001b[43m \u001b[49m\u001b[38;5;129;43;01min\u001b[39;49;00m\u001b[43m \u001b[49m\u001b[43mtools\u001b[49m\u001b[38;5;241;43m.\u001b[39;49m\u001b[43mexecute\u001b[49m\u001b[43m(\u001b[49m\u001b[43mrunscript\u001b[49m\u001b[38;5;241;43m.\u001b[39;49m\u001b[43msplit\u001b[49m\u001b[43m(\u001b[49m\u001b[43m)\u001b[49m\u001b[43m,\u001b[49m\u001b[43m \u001b[49m\u001b[43mcwd\u001b[49m\u001b[38;5;241;43m=\u001b[39;49m\u001b[38;5;28;43mself\u001b[39;49m\u001b[38;5;241;43m.\u001b[39;49m\u001b[43mpath\u001b[49m\u001b[43m)\u001b[49m\u001b[43m:\u001b[49m\n\u001b[1;32m    437\u001b[0m \u001b[43m    \u001b[49m\u001b[38;5;66;43;03m# Fancy clearing of old lines\u001b[39;49;00m\n\u001b[1;32m    438\u001b[0m \u001b[43m    \u001b[49m\u001b[43mcounter\u001b[49m\u001b[43m \u001b[49m\u001b[38;5;241;43m+\u001b[39;49m\u001b[38;5;241;43m=\u001b[39;49m\u001b[38;5;241;43m1\u001b[39;49m\n\u001b[1;32m    439\u001b[0m \u001b[43m    \u001b[49m\u001b[38;5;28;43;01mif\u001b[39;49;00m\u001b[43m \u001b[49m\u001b[43mverbose\u001b[49m\u001b[43m:\u001b[49m\n",
      "File \u001b[0;32m~/Code/GitHub/lume-impact/impact/tools.py:48\u001b[0m, in \u001b[0;36mexecute\u001b[0;34m(cmd, cwd)\u001b[0m\n\u001b[1;32m     46\u001b[0m return_code \u001b[38;5;241m=\u001b[39m popen\u001b[38;5;241m.\u001b[39mwait()\n\u001b[1;32m     47\u001b[0m \u001b[38;5;28;01mif\u001b[39;00m return_code:\n\u001b[0;32m---> 48\u001b[0m     \u001b[38;5;28;01mraise\u001b[39;00m subprocess\u001b[38;5;241m.\u001b[39mCalledProcessError(return_code, cmd)\n",
      "\u001b[0;31mCalledProcessError\u001b[0m: Command '['/Users/chrisonian/Code/mambaforge/envs/lume-impact-dev/bin/ImpactTexe']' returned non-zero exit status 2."
     ]
    }
   ],
   "source": [
    "# Regular and Skew quads\n",
    "I.run()"
   ]
  },
  {
   "cell_type": "code",
   "execution_count": null,
   "metadata": {},
   "outputs": [],
   "source": [
    "I.output['stats'].keys()"
   ]
  },
  {
   "cell_type": "code",
   "execution_count": null,
   "metadata": {},
   "outputs": [],
   "source": [
    "PI = I.particles['initial_particles']\n",
    "PF = I.particles['final_particles']\n",
    "PI['sigma_y']"
   ]
  },
  {
   "cell_type": "code",
   "execution_count": null,
   "metadata": {},
   "outputs": [],
   "source": [
    "# Compare these. \n",
    "key1 = 'mean_z'\n",
    "key2 = 'sigma_x'\n",
    "units1 = str(I.units(key1))\n",
    "units2 = str(I.units(key2))\n",
    "plt.xlabel(key1+f' ({units1})')\n",
    "plt.ylabel(key2+f' ({units2})')\n",
    "plt.plot(I.stat(key1), I.stat(key2))\n",
    "plt.scatter(\n",
    "    [I.particles[name][key1] for name in I.particles], \n",
    "    [I.particles[name][key2] for name in I.particles], color='red')\n"
   ]
  },
  {
   "cell_type": "code",
   "execution_count": null,
   "metadata": {},
   "outputs": [],
   "source": [
    "# Compare these. \n",
    "key1 = 'mean_z'\n",
    "key2 = 'sigma_x'\n",
    "units1 = str(I.units(key1))\n",
    "units2 = str(I.units(key2))\n",
    "plt.xlabel(key1+f' ({units1})')\n",
    "plt.ylabel(key2+f' ({units2})')\n",
    "plt.plot(I.stat(key1), I.stat(key2))\n",
    "plt.scatter(\n",
    "    [I.particles[name][key1] for name in I.particles], \n",
    "    [I.particles[name][key2] for name in I.particles], color='red')\n",
    "key2 = 'sigma_y'\n",
    "plt.plot(I.stat(key1), I.stat(key2))\n",
    "plt.scatter(\n",
    "    [I.particles[name][key1] for name in I.particles], \n",
    "    [I.particles[name][key2] for name in I.particles], color='green')"
   ]
  },
  {
   "cell_type": "code",
   "execution_count": null,
   "metadata": {},
   "outputs": [],
   "source": [
    "PF.plot('x', 'y')\n",
    "PF.plot('delta_z', 'delta_pz')"
   ]
  }
 ],
 "metadata": {
  "kernelspec": {
   "display_name": "Python 3 (ipykernel)",
   "language": "python",
   "name": "python3"
  },
  "language_info": {
   "codemirror_mode": {
    "name": "ipython",
    "version": 3
   },
   "file_extension": ".py",
   "mimetype": "text/x-python",
   "name": "python",
   "nbconvert_exporter": "python",
   "pygments_lexer": "ipython3",
   "version": "3.12.6"
  }
 },
 "nbformat": 4,
 "nbformat_minor": 4
}
