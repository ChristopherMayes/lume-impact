{
 "cells": [
  {
   "cell_type": "markdown",
   "metadata": {},
   "source": [
    "# Solenoid Example\n",
    "\n",
    "Simple solenoid example\n"
   ]
  },
  {
   "cell_type": "code",
   "execution_count": null,
   "metadata": {
    "execution": {
     "iopub.execute_input": "2025-02-20T21:23:38.789545Z",
     "iopub.status.busy": "2025-02-20T21:23:38.788390Z",
     "iopub.status.idle": "2025-02-20T21:23:39.836238Z",
     "shell.execute_reply": "2025-02-20T21:23:39.835840Z"
    }
   },
   "outputs": [],
   "source": [
    "from impact import Impact\n",
    "\n",
    "import numpy as np\n",
    "import os\n",
    "\n",
    "import matplotlib.pyplot as plt\n",
    "\n",
    "%config InlineBackend.figure_format='retina'"
   ]
  },
  {
   "cell_type": "code",
   "execution_count": null,
   "metadata": {
    "execution": {
     "iopub.execute_input": "2025-02-20T21:23:39.837896Z",
     "iopub.status.busy": "2025-02-20T21:23:39.837751Z",
     "iopub.status.idle": "2025-02-20T21:23:39.840894Z",
     "shell.execute_reply": "2025-02-20T21:23:39.840673Z"
    }
   },
   "outputs": [],
   "source": [
    "ifile1d = \"../templates/solenoid/ImpactT_solenoid_1d.in\"\n",
    "ifile2d = \"../templates/solenoid/ImpactT_solenoid_2d.in\"\n",
    "\n",
    "os.path.exists(ifile1d), os.path.exists(ifile2d)"
   ]
  },
  {
   "cell_type": "markdown",
   "metadata": {},
   "source": [
    "# Use Impact's built-in Gaussian particle generator"
   ]
  },
  {
   "cell_type": "code",
   "execution_count": null,
   "metadata": {
    "execution": {
     "iopub.execute_input": "2025-02-20T21:23:39.860914Z",
     "iopub.status.busy": "2025-02-20T21:23:39.860798Z",
     "iopub.status.idle": "2025-02-20T21:23:39.894515Z",
     "shell.execute_reply": "2025-02-20T21:23:39.894217Z"
    }
   },
   "outputs": [],
   "source": [
    "I1 = Impact(ifile1d)\n",
    "I2 = Impact(ifile2d)\n",
    "\n",
    "# Turn off SC\n",
    "I1[\"total_charge\"] = 0\n",
    "I2[\"total_charge\"] = 0\n",
    "print(I1)"
   ]
  },
  {
   "cell_type": "code",
   "execution_count": null,
   "metadata": {
    "execution": {
     "iopub.execute_input": "2025-02-20T21:23:39.895928Z",
     "iopub.status.busy": "2025-02-20T21:23:39.895815Z",
     "iopub.status.idle": "2025-02-20T21:23:46.369310Z",
     "shell.execute_reply": "2025-02-20T21:23:46.369003Z"
    }
   },
   "outputs": [],
   "source": [
    "%%time\n",
    "I1[\"total_charge\"] = 0\n",
    "I1.run()\n",
    "I1.plot()"
   ]
  },
  {
   "cell_type": "code",
   "execution_count": null,
   "metadata": {
    "execution": {
     "iopub.execute_input": "2025-02-20T21:23:46.370710Z",
     "iopub.status.busy": "2025-02-20T21:23:46.370596Z",
     "iopub.status.idle": "2025-02-20T21:23:47.333762Z",
     "shell.execute_reply": "2025-02-20T21:23:47.333394Z"
    }
   },
   "outputs": [],
   "source": [
    "%%time\n",
    "I2[\"total_charge\"] = 0\n",
    "I2.run()\n",
    "I2.plot()"
   ]
  },
  {
   "cell_type": "code",
   "execution_count": null,
   "metadata": {
    "execution": {
     "iopub.execute_input": "2025-02-20T21:23:47.335186Z",
     "iopub.status.busy": "2025-02-20T21:23:47.335060Z",
     "iopub.status.idle": "2025-02-20T21:23:47.411231Z",
     "shell.execute_reply": "2025-02-20T21:23:47.410942Z"
    }
   },
   "outputs": [],
   "source": [
    "# The 2D version keeps the field internally as a FieldMesh\n",
    "I2.fieldmaps[\"1T912.T7\"][\"field\"].plot_onaxis()"
   ]
  },
  {
   "cell_type": "markdown",
   "metadata": {},
   "source": [
    "# Single particle tracking"
   ]
  },
  {
   "cell_type": "code",
   "execution_count": null,
   "metadata": {
    "execution": {
     "iopub.execute_input": "2025-02-20T21:23:47.412687Z",
     "iopub.status.busy": "2025-02-20T21:23:47.412572Z",
     "iopub.status.idle": "2025-02-20T21:23:47.498313Z",
     "shell.execute_reply": "2025-02-20T21:23:47.497956Z"
    }
   },
   "outputs": [],
   "source": [
    "%%time\n",
    "P1 = I1.track1(s=0.5, z0=0, x0=0.019, pz0=3e6)"
   ]
  },
  {
   "cell_type": "markdown",
   "metadata": {},
   "source": [
    "# Compare 1D and 2D maps"
   ]
  },
  {
   "cell_type": "code",
   "execution_count": null,
   "metadata": {
    "execution": {
     "iopub.execute_input": "2025-02-20T21:23:47.499793Z",
     "iopub.status.busy": "2025-02-20T21:23:47.499667Z",
     "iopub.status.idle": "2025-02-20T21:23:47.981208Z",
     "shell.execute_reply": "2025-02-20T21:23:47.980883Z"
    }
   },
   "outputs": [],
   "source": [
    "X0 = 0.003\n",
    "\n",
    "I1.track1(s=0.4, x0=X0, pz0=3e6)\n",
    "I2.track1(s=0.4, x0=X0, pz0=3e6)\n",
    "\n",
    "k1 = \"mean_z\"\n",
    "k2 = \"mean_x\"\n",
    "\n",
    "x1 = I1.stat(k1)\n",
    "y1 = I1.stat(k2)\n",
    "\n",
    "x2 = I2.stat(k1)\n",
    "y2 = I2.stat(k2)\n",
    "\n",
    "fig, ax = plt.subplots(figsize=(16, 9))\n",
    "\n",
    "ax.plot(x1, y1, color=\"black\", label=\"1D fieldmap\")\n",
    "ax.plot(x2, y2, color=\"red\", linestyle=\"--\", label=\"2D fieldmap\")\n",
    "ax.legend()"
   ]
  },
  {
   "cell_type": "code",
   "execution_count": null,
   "metadata": {
    "execution": {
     "iopub.execute_input": "2025-02-20T21:23:47.982701Z",
     "iopub.status.busy": "2025-02-20T21:23:47.982577Z",
     "iopub.status.idle": "2025-02-20T21:23:47.984954Z",
     "shell.execute_reply": "2025-02-20T21:23:47.984704Z"
    }
   },
   "outputs": [],
   "source": [
    "I2.ele[\"SOL1\"]"
   ]
  },
  {
   "cell_type": "code",
   "execution_count": null,
   "metadata": {
    "execution": {
     "iopub.execute_input": "2025-02-20T21:23:47.986128Z",
     "iopub.status.busy": "2025-02-20T21:23:47.986032Z",
     "iopub.status.idle": "2025-02-20T21:23:51.290342Z",
     "shell.execute_reply": "2025-02-20T21:23:51.290021Z"
    }
   },
   "outputs": [],
   "source": [
    "fig, ax = plt.subplots(figsize=(12, 8))\n",
    "\n",
    "k1 = \"mean_z\"\n",
    "k2 = \"mean_x\"\n",
    "\n",
    "f1 = 1e3\n",
    "f2 = 1e3\n",
    "u1 = \"mm\"\n",
    "u2 = \"mm\"\n",
    "\n",
    "for X0 in np.linspace(0, 0.018, 10):\n",
    "    I1.track1(s=0.4, x0=X0, pz0=3e6)\n",
    "    I2.track1(s=0.4, x0=X0, pz0=3e6)\n",
    "\n",
    "    x1 = I1.stat(k1)\n",
    "    y1 = I1.stat(k2)\n",
    "\n",
    "    x2 = I2.stat(k1)\n",
    "    y2 = I2.stat(k2)\n",
    "\n",
    "    if X0 == 0:\n",
    "        label1 = \"1D fieldmap\"\n",
    "        label2 = \"2D fieldmap\"\n",
    "    else:\n",
    "        label1 = None\n",
    "        label2 = None\n",
    "\n",
    "    ax.plot(x1 * f1, y1 * f2, color=\"black\", label=label1)\n",
    "    ax.plot(x2 * f1, y2 * f2, color=\"red\", linestyle=\"--\", label=label2)\n",
    "\n",
    "ax.set_ylim(0, 18)\n",
    "ax.set_xlabel(f\"{k1} ({u1})\")\n",
    "ax.set_ylabel(f\"{k2} ({u2})\")\n",
    "ax.legend()"
   ]
  },
  {
   "cell_type": "markdown",
   "metadata": {},
   "source": [
    "# Track beam"
   ]
  },
  {
   "cell_type": "code",
   "execution_count": null,
   "metadata": {
    "execution": {
     "iopub.execute_input": "2025-02-20T21:23:51.292351Z",
     "iopub.status.busy": "2025-02-20T21:23:51.292228Z",
     "iopub.status.idle": "2025-02-20T21:23:58.402123Z",
     "shell.execute_reply": "2025-02-20T21:23:58.401523Z"
    }
   },
   "outputs": [],
   "source": [
    "I1 = Impact(ifile1d)\n",
    "I2 = Impact(ifile2d)\n",
    "\n",
    "# Turn off SC\n",
    "I1[\"total_charge\"] = 0\n",
    "I2[\"total_charge\"] = 0\n",
    "I1.run()\n",
    "I2.run()"
   ]
  },
  {
   "cell_type": "code",
   "execution_count": null,
   "metadata": {
    "execution": {
     "iopub.execute_input": "2025-02-20T21:23:58.403896Z",
     "iopub.status.busy": "2025-02-20T21:23:58.403687Z",
     "iopub.status.idle": "2025-02-20T21:23:58.406184Z",
     "shell.execute_reply": "2025-02-20T21:23:58.405946Z"
    }
   },
   "outputs": [],
   "source": [
    "I1.output[\"stats\"].keys()"
   ]
  },
  {
   "cell_type": "code",
   "execution_count": null,
   "metadata": {
    "execution": {
     "iopub.execute_input": "2025-02-20T21:23:58.407322Z",
     "iopub.status.busy": "2025-02-20T21:23:58.407226Z",
     "iopub.status.idle": "2025-02-20T21:23:58.409681Z",
     "shell.execute_reply": "2025-02-20T21:23:58.409434Z"
    }
   },
   "outputs": [],
   "source": [
    "PI = I1.particles[\"initial_particles\"]\n",
    "PF = I1.particles[\"final_particles\"]\n",
    "PI[\"sigma_y\"]"
   ]
  },
  {
   "cell_type": "code",
   "execution_count": null,
   "metadata": {
    "execution": {
     "iopub.execute_input": "2025-02-20T21:23:58.410854Z",
     "iopub.status.busy": "2025-02-20T21:23:58.410753Z",
     "iopub.status.idle": "2025-02-20T21:23:58.491308Z",
     "shell.execute_reply": "2025-02-20T21:23:58.491029Z"
    }
   },
   "outputs": [],
   "source": [
    "# Compare these.\n",
    "key1 = \"mean_z\"\n",
    "key2 = \"sigma_x\"\n",
    "units1 = str(I1.units(key1))\n",
    "units2 = str(I1.units(key2))\n",
    "plt.xlabel(key1 + f\" ({units1})\")\n",
    "plt.ylabel(key2 + f\" ({units2})\")\n",
    "plt.plot(I1.stat(key1), I1.stat(key2))\n",
    "plt.scatter(\n",
    "    [I1.particles[name][key1] for name in I1.particles],\n",
    "    [I2.particles[name][key2] for name in I2.particles],\n",
    "    color=\"red\",\n",
    ")"
   ]
  },
  {
   "cell_type": "code",
   "execution_count": null,
   "metadata": {
    "execution": {
     "iopub.execute_input": "2025-02-20T21:23:58.492735Z",
     "iopub.status.busy": "2025-02-20T21:23:58.492634Z",
     "iopub.status.idle": "2025-02-20T21:23:58.625408Z",
     "shell.execute_reply": "2025-02-20T21:23:58.625162Z"
    }
   },
   "outputs": [],
   "source": [
    "# Compare these.\n",
    "key1 = \"mean_z\"\n",
    "key2 = \"sigma_x\"\n",
    "units1 = str(I1.units(key1))\n",
    "units2 = str(I1.units(key2))\n",
    "plt.xlabel(key1 + f\" ({units1})\")\n",
    "plt.ylabel(key2 + f\" ({units2})\")\n",
    "plt.plot(I1.stat(key1), I1.stat(key2), label=\"1D solenoid\")\n",
    "plt.scatter(\n",
    "    [I1.particles[name][key1] for name in I1.particles],\n",
    "    [I1.particles[name][key2] for name in I1.particles],\n",
    "    color=\"red\",\n",
    ")\n",
    "key2 = \"sigma_y\"\n",
    "plt.plot(I2.stat(key1), I2.stat(key2), label=\"2D solenoid\")\n",
    "plt.scatter(\n",
    "    [I2.particles[name][key1] for name in I2.particles],\n",
    "    [I2.particles[name][key2] for name in I2.particles],\n",
    "    color=\"green\",\n",
    ")\n",
    "plt.legend()"
   ]
  },
  {
   "cell_type": "code",
   "execution_count": null,
   "metadata": {
    "execution": {
     "iopub.execute_input": "2025-02-20T21:23:58.626621Z",
     "iopub.status.busy": "2025-02-20T21:23:58.626536Z",
     "iopub.status.idle": "2025-02-20T21:23:58.946437Z",
     "shell.execute_reply": "2025-02-20T21:23:58.946131Z"
    }
   },
   "outputs": [],
   "source": [
    "PF.plot(\"x\", \"y\")\n",
    "PF.plot(\"delta_z\", \"delta_pz\")"
   ]
  }
 ],
 "metadata": {
  "kernelspec": {
   "display_name": "Python 3 (ipykernel)",
   "language": "python",
   "name": "python3"
  },
  "language_info": {
   "codemirror_mode": {
    "name": "ipython",
    "version": 3
   },
   "file_extension": ".py",
   "mimetype": "text/x-python",
   "name": "python",
   "nbconvert_exporter": "python",
   "pygments_lexer": "ipython3",
   "version": "3.12.8"
  }
 },
 "nbformat": 4,
 "nbformat_minor": 4
}
