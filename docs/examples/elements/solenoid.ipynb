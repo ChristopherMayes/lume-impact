{
 "cells": [
  {
   "cell_type": "markdown",
   "metadata": {},
   "source": [
    "# Solenoid Example\n",
    "\n",
    "Simple solenoid example\n"
   ]
  },
  {
   "cell_type": "code",
   "execution_count": null,
   "metadata": {
    "execution": {
     "iopub.execute_input": "2024-10-18T19:52:04.065504Z",
     "iopub.status.busy": "2024-10-18T19:52:04.065178Z",
     "iopub.status.idle": "2024-10-18T19:52:04.990098Z",
     "shell.execute_reply": "2024-10-18T19:52:04.989503Z"
    }
   },
   "outputs": [],
   "source": [
    "from impact import Impact\n",
    "\n",
    "import numpy as np\n",
    "import os\n",
    "\n",
    "import matplotlib.pyplot as plt\n",
    "\n",
    "%config InlineBackend.figure_format='retina'"
   ]
  },
  {
   "cell_type": "code",
   "execution_count": null,
   "metadata": {
    "execution": {
     "iopub.execute_input": "2024-10-18T19:52:04.992518Z",
     "iopub.status.busy": "2024-10-18T19:52:04.992290Z",
     "iopub.status.idle": "2024-10-18T19:52:04.996004Z",
     "shell.execute_reply": "2024-10-18T19:52:04.995713Z"
    }
   },
   "outputs": [],
   "source": [
    "ifile1d = \"../templates/solenoid/ImpactT_solenoid_1d.in\"\n",
    "ifile2d = \"../templates/solenoid/ImpactT_solenoid_2d.in\"\n",
    "\n",
    "os.path.exists(ifile1d), os.path.exists(ifile2d)"
   ]
  },
  {
   "cell_type": "markdown",
   "metadata": {},
   "source": [
    "# Use Impact's built-in Gaussian particle generator"
   ]
  },
  {
   "cell_type": "code",
   "execution_count": null,
   "metadata": {
    "execution": {
     "iopub.execute_input": "2024-10-18T19:52:05.017266Z",
     "iopub.status.busy": "2024-10-18T19:52:05.017117Z",
     "iopub.status.idle": "2024-10-18T19:52:05.050477Z",
     "shell.execute_reply": "2024-10-18T19:52:05.050125Z"
    }
   },
   "outputs": [],
   "source": [
    "I1 = Impact(ifile1d)\n",
    "I2 = Impact(ifile2d)\n",
    "\n",
    "# Turn off SC\n",
    "I1[\"total_charge\"] = 0\n",
    "I2[\"total_charge\"] = 0\n",
    "print(I1)"
   ]
  },
  {
   "cell_type": "code",
   "execution_count": null,
   "metadata": {
    "execution": {
     "iopub.execute_input": "2024-10-18T19:52:05.052236Z",
     "iopub.status.busy": "2024-10-18T19:52:05.052071Z",
     "iopub.status.idle": "2024-10-18T19:52:11.719588Z",
     "shell.execute_reply": "2024-10-18T19:52:11.719308Z"
    }
   },
   "outputs": [],
   "source": [
    "%%time\n",
    "I1[\"total_charge\"] = 0\n",
    "I1.run()\n",
    "I1.plot()"
   ]
  },
  {
   "cell_type": "code",
   "execution_count": null,
   "metadata": {
    "execution": {
     "iopub.execute_input": "2024-10-18T19:52:11.721148Z",
     "iopub.status.busy": "2024-10-18T19:52:11.721036Z",
     "iopub.status.idle": "2024-10-18T19:52:12.728655Z",
     "shell.execute_reply": "2024-10-18T19:52:12.728374Z"
    }
   },
   "outputs": [],
   "source": [
    "%%time\n",
    "I2[\"total_charge\"] = 0\n",
    "I2.run()\n",
    "I2.plot()"
   ]
  },
  {
   "cell_type": "code",
   "execution_count": null,
   "metadata": {
    "execution": {
     "iopub.execute_input": "2024-10-18T19:52:12.730047Z",
     "iopub.status.busy": "2024-10-18T19:52:12.729939Z",
     "iopub.status.idle": "2024-10-18T19:52:12.809017Z",
     "shell.execute_reply": "2024-10-18T19:52:12.808761Z"
    }
   },
   "outputs": [],
   "source": [
    "# The 2D version keeps the field internally as a FieldMesh\n",
    "I2.fieldmaps[\"1T912.T7\"][\"field\"].plot_onaxis()"
   ]
  },
  {
   "cell_type": "markdown",
   "metadata": {},
   "source": [
    "# Single particle tracking"
   ]
  },
  {
   "cell_type": "code",
   "execution_count": null,
   "metadata": {
    "execution": {
     "iopub.execute_input": "2024-10-18T19:52:12.810499Z",
     "iopub.status.busy": "2024-10-18T19:52:12.810374Z",
     "iopub.status.idle": "2024-10-18T19:52:12.885142Z",
     "shell.execute_reply": "2024-10-18T19:52:12.884755Z"
    }
   },
   "outputs": [],
   "source": [
    "%%time\n",
    "P1 = I1.track1(s=0.5, z0=0, x0=0.019, pz0=3e6)"
   ]
  },
  {
   "cell_type": "markdown",
   "metadata": {},
   "source": [
    "# Compare 1D and 2D maps"
   ]
  },
  {
   "cell_type": "code",
   "execution_count": null,
   "metadata": {
    "execution": {
     "iopub.execute_input": "2024-10-18T19:52:12.886779Z",
     "iopub.status.busy": "2024-10-18T19:52:12.886652Z",
     "iopub.status.idle": "2024-10-18T19:52:13.363191Z",
     "shell.execute_reply": "2024-10-18T19:52:13.362890Z"
    }
   },
   "outputs": [],
   "source": [
    "X0 = 0.003\n",
    "\n",
    "I1.track1(s=0.4, x0=X0, pz0=3e6)\n",
    "I2.track1(s=0.4, x0=X0, pz0=3e6)\n",
    "\n",
    "k1 = \"mean_z\"\n",
    "k2 = \"mean_x\"\n",
    "\n",
    "x1 = I1.stat(k1)\n",
    "y1 = I1.stat(k2)\n",
    "\n",
    "x2 = I2.stat(k1)\n",
    "y2 = I2.stat(k2)\n",
    "\n",
    "fig, ax = plt.subplots(figsize=(16, 9))\n",
    "\n",
    "ax.plot(x1, y1, color=\"black\", label=\"1D fieldmap\")\n",
    "ax.plot(x2, y2, color=\"red\", linestyle=\"--\", label=\"2D fieldmap\")\n",
    "ax.legend()"
   ]
  },
  {
   "cell_type": "code",
   "execution_count": null,
   "metadata": {
    "execution": {
     "iopub.execute_input": "2024-10-18T19:52:13.364709Z",
     "iopub.status.busy": "2024-10-18T19:52:13.364585Z",
     "iopub.status.idle": "2024-10-18T19:52:13.366869Z",
     "shell.execute_reply": "2024-10-18T19:52:13.366677Z"
    }
   },
   "outputs": [],
   "source": [
    "I2.ele[\"SOL1\"]"
   ]
  },
  {
   "cell_type": "code",
   "execution_count": null,
   "metadata": {
    "execution": {
     "iopub.execute_input": "2024-10-18T19:52:13.368222Z",
     "iopub.status.busy": "2024-10-18T19:52:13.368123Z",
     "iopub.status.idle": "2024-10-18T19:52:16.653470Z",
     "shell.execute_reply": "2024-10-18T19:52:16.653177Z"
    }
   },
   "outputs": [],
   "source": [
    "fig, ax = plt.subplots(figsize=(12, 8))\n",
    "\n",
    "k1 = \"mean_z\"\n",
    "k2 = \"mean_x\"\n",
    "\n",
    "f1 = 1e3\n",
    "f2 = 1e3\n",
    "u1 = \"mm\"\n",
    "u2 = \"mm\"\n",
    "\n",
    "for X0 in np.linspace(0, 0.018, 10):\n",
    "    I1.track1(s=0.4, x0=X0, pz0=3e6)\n",
    "    I2.track1(s=0.4, x0=X0, pz0=3e6)\n",
    "\n",
    "    x1 = I1.stat(k1)\n",
    "    y1 = I1.stat(k2)\n",
    "\n",
    "    x2 = I2.stat(k1)\n",
    "    y2 = I2.stat(k2)\n",
    "\n",
    "    if X0 == 0:\n",
    "        label1 = \"1D fieldmap\"\n",
    "        label2 = \"2D fieldmap\"\n",
    "    else:\n",
    "        label1 = None\n",
    "        label2 = None\n",
    "\n",
    "    ax.plot(x1 * f1, y1 * f2, color=\"black\", label=label1)\n",
    "    ax.plot(x2 * f1, y2 * f2, color=\"red\", linestyle=\"--\", label=label2)\n",
    "\n",
    "ax.set_ylim(0, 18)\n",
    "ax.set_xlabel(f\"{k1} ({u1})\")\n",
    "ax.set_ylabel(f\"{k2} ({u2})\")\n",
    "ax.legend()"
   ]
  },
  {
   "cell_type": "markdown",
   "metadata": {},
   "source": [
    "# Track beam"
   ]
  },
  {
   "cell_type": "code",
   "execution_count": null,
   "metadata": {
    "execution": {
     "iopub.execute_input": "2024-10-18T19:52:16.655821Z",
     "iopub.status.busy": "2024-10-18T19:52:16.655693Z",
     "iopub.status.idle": "2024-10-18T19:52:23.952623Z",
     "shell.execute_reply": "2024-10-18T19:52:23.952232Z"
    }
   },
   "outputs": [],
   "source": [
    "I1 = Impact(ifile1d)\n",
    "I2 = Impact(ifile2d)\n",
    "\n",
    "# Turn off SC\n",
    "I1[\"total_charge\"] = 0\n",
    "I2[\"total_charge\"] = 0\n",
    "I1.run()\n",
    "I2.run()"
   ]
  },
  {
   "cell_type": "code",
   "execution_count": null,
   "metadata": {
    "execution": {
     "iopub.execute_input": "2024-10-18T19:52:23.954460Z",
     "iopub.status.busy": "2024-10-18T19:52:23.954334Z",
     "iopub.status.idle": "2024-10-18T19:52:23.956635Z",
     "shell.execute_reply": "2024-10-18T19:52:23.956425Z"
    }
   },
   "outputs": [],
   "source": [
    "I1.output[\"stats\"].keys()"
   ]
  },
  {
   "cell_type": "code",
   "execution_count": null,
   "metadata": {
    "execution": {
     "iopub.execute_input": "2024-10-18T19:52:23.957981Z",
     "iopub.status.busy": "2024-10-18T19:52:23.957889Z",
     "iopub.status.idle": "2024-10-18T19:52:23.960184Z",
     "shell.execute_reply": "2024-10-18T19:52:23.959916Z"
    }
   },
   "outputs": [],
   "source": [
    "PI = I1.particles[\"initial_particles\"]\n",
    "PF = I1.particles[\"final_particles\"]\n",
    "PI[\"sigma_y\"]"
   ]
  },
  {
   "cell_type": "code",
   "execution_count": null,
   "metadata": {
    "execution": {
     "iopub.execute_input": "2024-10-18T19:52:23.961509Z",
     "iopub.status.busy": "2024-10-18T19:52:23.961413Z",
     "iopub.status.idle": "2024-10-18T19:52:24.044182Z",
     "shell.execute_reply": "2024-10-18T19:52:24.043960Z"
    }
   },
   "outputs": [],
   "source": [
    "# Compare these.\n",
    "key1 = \"mean_z\"\n",
    "key2 = \"sigma_x\"\n",
    "units1 = str(I1.units(key1))\n",
    "units2 = str(I1.units(key2))\n",
    "plt.xlabel(key1 + f\" ({units1})\")\n",
    "plt.ylabel(key2 + f\" ({units2})\")\n",
    "plt.plot(I1.stat(key1), I1.stat(key2))\n",
    "plt.scatter(\n",
    "    [I1.particles[name][key1] for name in I1.particles],\n",
    "    [I2.particles[name][key2] for name in I2.particles],\n",
    "    color=\"red\",\n",
    ")"
   ]
  },
  {
   "cell_type": "code",
   "execution_count": null,
   "metadata": {
    "execution": {
     "iopub.execute_input": "2024-10-18T19:52:24.045655Z",
     "iopub.status.busy": "2024-10-18T19:52:24.045548Z",
     "iopub.status.idle": "2024-10-18T19:52:24.140434Z",
     "shell.execute_reply": "2024-10-18T19:52:24.140196Z"
    }
   },
   "outputs": [],
   "source": [
    "# Compare these.\n",
    "key1 = \"mean_z\"\n",
    "key2 = \"sigma_x\"\n",
    "units1 = str(I1.units(key1))\n",
    "units2 = str(I1.units(key2))\n",
    "plt.xlabel(key1 + f\" ({units1})\")\n",
    "plt.ylabel(key2 + f\" ({units2})\")\n",
    "plt.plot(I1.stat(key1), I1.stat(key2), label=\"1D solenoid\")\n",
    "plt.scatter(\n",
    "    [I1.particles[name][key1] for name in I1.particles],\n",
    "    [I1.particles[name][key2] for name in I1.particles],\n",
    "    color=\"red\",\n",
    ")\n",
    "key2 = \"sigma_y\"\n",
    "plt.plot(I2.stat(key1), I2.stat(key2), label=\"2D solenoid\")\n",
    "plt.scatter(\n",
    "    [I2.particles[name][key1] for name in I2.particles],\n",
    "    [I2.particles[name][key2] for name in I2.particles],\n",
    "    color=\"green\",\n",
    ")\n",
    "plt.legend()"
   ]
  },
  {
   "cell_type": "code",
   "execution_count": null,
   "metadata": {
    "execution": {
     "iopub.execute_input": "2024-10-18T19:52:24.141861Z",
     "iopub.status.busy": "2024-10-18T19:52:24.141751Z",
     "iopub.status.idle": "2024-10-18T19:52:24.535988Z",
     "shell.execute_reply": "2024-10-18T19:52:24.535763Z"
    }
   },
   "outputs": [],
   "source": [
    "PF.plot(\"x\", \"y\")\n",
    "PF.plot(\"delta_z\", \"delta_pz\")"
   ]
  }
 ],
 "metadata": {
  "kernelspec": {
   "display_name": "Python 3 (ipykernel)",
   "language": "python",
   "name": "python3"
  },
  "language_info": {
   "codemirror_mode": {
    "name": "ipython",
    "version": 3
   },
   "file_extension": ".py",
   "mimetype": "text/x-python",
   "name": "python",
   "nbconvert_exporter": "python",
   "pygments_lexer": "ipython3",
   "version": "3.12.6"
  }
 },
 "nbformat": 4,
 "nbformat_minor": 4
}
