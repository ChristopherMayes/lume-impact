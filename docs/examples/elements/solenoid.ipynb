{
 "cells": [
  {
   "cell_type": "markdown",
   "metadata": {},
   "source": [
    "# Solenoid Example\n",
    "\n",
    "Simple solenoid example\n"
   ]
  },
  {
   "cell_type": "code",
   "execution_count": null,
   "metadata": {
    "execution": {
     "iopub.execute_input": "2025-02-12T18:04:44.455828Z",
     "iopub.status.busy": "2025-02-12T18:04:44.455739Z",
     "iopub.status.idle": "2025-02-12T18:04:45.493405Z",
     "shell.execute_reply": "2025-02-12T18:04:45.493112Z"
    }
   },
   "outputs": [],
   "source": [
    "from impact import Impact\n",
    "\n",
    "import numpy as np\n",
    "import os\n",
    "\n",
    "import matplotlib.pyplot as plt\n",
    "\n",
    "%config InlineBackend.figure_format='retina'"
   ]
  },
  {
   "cell_type": "code",
   "execution_count": null,
   "metadata": {
    "execution": {
     "iopub.execute_input": "2025-02-12T18:04:45.494919Z",
     "iopub.status.busy": "2025-02-12T18:04:45.494771Z",
     "iopub.status.idle": "2025-02-12T18:04:45.498009Z",
     "shell.execute_reply": "2025-02-12T18:04:45.497764Z"
    }
   },
   "outputs": [],
   "source": [
    "ifile1d = \"../templates/solenoid/ImpactT_solenoid_1d.in\"\n",
    "ifile2d = \"../templates/solenoid/ImpactT_solenoid_2d.in\"\n",
    "\n",
    "os.path.exists(ifile1d), os.path.exists(ifile2d)"
   ]
  },
  {
   "cell_type": "markdown",
   "metadata": {},
   "source": [
    "# Use Impact's built-in Gaussian particle generator"
   ]
  },
  {
   "cell_type": "code",
   "execution_count": null,
   "metadata": {
    "execution": {
     "iopub.execute_input": "2025-02-12T18:04:45.517908Z",
     "iopub.status.busy": "2025-02-12T18:04:45.517691Z",
     "iopub.status.idle": "2025-02-12T18:04:45.550758Z",
     "shell.execute_reply": "2025-02-12T18:04:45.550491Z"
    }
   },
   "outputs": [],
   "source": [
    "I1 = Impact(ifile1d)\n",
    "I2 = Impact(ifile2d)\n",
    "\n",
    "# Turn off SC\n",
    "I1[\"total_charge\"] = 0\n",
    "I2[\"total_charge\"] = 0\n",
    "print(I1)"
   ]
  },
  {
   "cell_type": "code",
   "execution_count": null,
   "metadata": {
    "execution": {
     "iopub.execute_input": "2025-02-12T18:04:45.552047Z",
     "iopub.status.busy": "2025-02-12T18:04:45.551967Z",
     "iopub.status.idle": "2025-02-12T18:04:52.065339Z",
     "shell.execute_reply": "2025-02-12T18:04:52.065043Z"
    }
   },
   "outputs": [],
   "source": [
    "%%time\n",
    "I1[\"total_charge\"] = 0\n",
    "I1.run()\n",
    "I1.plot()"
   ]
  },
  {
   "cell_type": "code",
   "execution_count": null,
   "metadata": {
    "execution": {
     "iopub.execute_input": "2025-02-12T18:04:52.066704Z",
     "iopub.status.busy": "2025-02-12T18:04:52.066550Z",
     "iopub.status.idle": "2025-02-12T18:04:53.024990Z",
     "shell.execute_reply": "2025-02-12T18:04:53.024662Z"
    }
   },
   "outputs": [],
   "source": [
    "%%time\n",
    "I2[\"total_charge\"] = 0\n",
    "I2.run()\n",
    "I2.plot()"
   ]
  },
  {
   "cell_type": "code",
   "execution_count": null,
   "metadata": {
    "execution": {
     "iopub.execute_input": "2025-02-12T18:04:53.026309Z",
     "iopub.status.busy": "2025-02-12T18:04:53.026181Z",
     "iopub.status.idle": "2025-02-12T18:04:53.098762Z",
     "shell.execute_reply": "2025-02-12T18:04:53.098504Z"
    }
   },
   "outputs": [],
   "source": [
    "# The 2D version keeps the field internally as a FieldMesh\n",
    "I2.fieldmaps[\"1T912.T7\"][\"field\"].plot_onaxis()"
   ]
  },
  {
   "cell_type": "markdown",
   "metadata": {},
   "source": [
    "# Single particle tracking"
   ]
  },
  {
   "cell_type": "code",
   "execution_count": null,
   "metadata": {
    "execution": {
     "iopub.execute_input": "2025-02-12T18:04:53.099941Z",
     "iopub.status.busy": "2025-02-12T18:04:53.099860Z",
     "iopub.status.idle": "2025-02-12T18:04:53.190115Z",
     "shell.execute_reply": "2025-02-12T18:04:53.189824Z"
    }
   },
   "outputs": [],
   "source": [
    "%%time\n",
    "P1 = I1.track1(s=0.5, z0=0, x0=0.019, pz0=3e6)"
   ]
  },
  {
   "cell_type": "markdown",
   "metadata": {},
   "source": [
    "# Compare 1D and 2D maps"
   ]
  },
  {
   "cell_type": "code",
   "execution_count": null,
   "metadata": {
    "execution": {
     "iopub.execute_input": "2025-02-12T18:04:53.191456Z",
     "iopub.status.busy": "2025-02-12T18:04:53.191370Z",
     "iopub.status.idle": "2025-02-12T18:04:53.669550Z",
     "shell.execute_reply": "2025-02-12T18:04:53.669215Z"
    }
   },
   "outputs": [],
   "source": [
    "X0 = 0.003\n",
    "\n",
    "I1.track1(s=0.4, x0=X0, pz0=3e6)\n",
    "I2.track1(s=0.4, x0=X0, pz0=3e6)\n",
    "\n",
    "k1 = \"mean_z\"\n",
    "k2 = \"mean_x\"\n",
    "\n",
    "x1 = I1.stat(k1)\n",
    "y1 = I1.stat(k2)\n",
    "\n",
    "x2 = I2.stat(k1)\n",
    "y2 = I2.stat(k2)\n",
    "\n",
    "fig, ax = plt.subplots(figsize=(16, 9))\n",
    "\n",
    "ax.plot(x1, y1, color=\"black\", label=\"1D fieldmap\")\n",
    "ax.plot(x2, y2, color=\"red\", linestyle=\"--\", label=\"2D fieldmap\")\n",
    "ax.legend()"
   ]
  },
  {
   "cell_type": "code",
   "execution_count": null,
   "metadata": {
    "execution": {
     "iopub.execute_input": "2025-02-12T18:04:53.670919Z",
     "iopub.status.busy": "2025-02-12T18:04:53.670793Z",
     "iopub.status.idle": "2025-02-12T18:04:53.673080Z",
     "shell.execute_reply": "2025-02-12T18:04:53.672845Z"
    }
   },
   "outputs": [],
   "source": [
    "I2.ele[\"SOL1\"]"
   ]
  },
  {
   "cell_type": "code",
   "execution_count": null,
   "metadata": {
    "execution": {
     "iopub.execute_input": "2025-02-12T18:04:53.674274Z",
     "iopub.status.busy": "2025-02-12T18:04:53.674177Z",
     "iopub.status.idle": "2025-02-12T18:04:57.032937Z",
     "shell.execute_reply": "2025-02-12T18:04:57.032608Z"
    }
   },
   "outputs": [],
   "source": [
    "fig, ax = plt.subplots(figsize=(12, 8))\n",
    "\n",
    "k1 = \"mean_z\"\n",
    "k2 = \"mean_x\"\n",
    "\n",
    "f1 = 1e3\n",
    "f2 = 1e3\n",
    "u1 = \"mm\"\n",
    "u2 = \"mm\"\n",
    "\n",
    "for X0 in np.linspace(0, 0.018, 10):\n",
    "    I1.track1(s=0.4, x0=X0, pz0=3e6)\n",
    "    I2.track1(s=0.4, x0=X0, pz0=3e6)\n",
    "\n",
    "    x1 = I1.stat(k1)\n",
    "    y1 = I1.stat(k2)\n",
    "\n",
    "    x2 = I2.stat(k1)\n",
    "    y2 = I2.stat(k2)\n",
    "\n",
    "    if X0 == 0:\n",
    "        label1 = \"1D fieldmap\"\n",
    "        label2 = \"2D fieldmap\"\n",
    "    else:\n",
    "        label1 = None\n",
    "        label2 = None\n",
    "\n",
    "    ax.plot(x1 * f1, y1 * f2, color=\"black\", label=label1)\n",
    "    ax.plot(x2 * f1, y2 * f2, color=\"red\", linestyle=\"--\", label=label2)\n",
    "\n",
    "ax.set_ylim(0, 18)\n",
    "ax.set_xlabel(f\"{k1} ({u1})\")\n",
    "ax.set_ylabel(f\"{k2} ({u2})\")\n",
    "ax.legend()"
   ]
  },
  {
   "cell_type": "markdown",
   "metadata": {},
   "source": [
    "# Track beam"
   ]
  },
  {
   "cell_type": "code",
   "execution_count": null,
   "metadata": {
    "execution": {
     "iopub.execute_input": "2025-02-12T18:04:57.035144Z",
     "iopub.status.busy": "2025-02-12T18:04:57.035018Z",
     "iopub.status.idle": "2025-02-12T18:05:04.167963Z",
     "shell.execute_reply": "2025-02-12T18:05:04.167522Z"
    }
   },
   "outputs": [],
   "source": [
    "I1 = Impact(ifile1d)\n",
    "I2 = Impact(ifile2d)\n",
    "\n",
    "# Turn off SC\n",
    "I1[\"total_charge\"] = 0\n",
    "I2[\"total_charge\"] = 0\n",
    "I1.run()\n",
    "I2.run()"
   ]
  },
  {
   "cell_type": "code",
   "execution_count": null,
   "metadata": {
    "execution": {
     "iopub.execute_input": "2025-02-12T18:05:04.169588Z",
     "iopub.status.busy": "2025-02-12T18:05:04.169463Z",
     "iopub.status.idle": "2025-02-12T18:05:04.172027Z",
     "shell.execute_reply": "2025-02-12T18:05:04.171779Z"
    }
   },
   "outputs": [],
   "source": [
    "I1.output[\"stats\"].keys()"
   ]
  },
  {
   "cell_type": "code",
   "execution_count": null,
   "metadata": {
    "execution": {
     "iopub.execute_input": "2025-02-12T18:05:04.173220Z",
     "iopub.status.busy": "2025-02-12T18:05:04.173124Z",
     "iopub.status.idle": "2025-02-12T18:05:04.175411Z",
     "shell.execute_reply": "2025-02-12T18:05:04.175173Z"
    }
   },
   "outputs": [],
   "source": [
    "PI = I1.particles[\"initial_particles\"]\n",
    "PF = I1.particles[\"final_particles\"]\n",
    "PI[\"sigma_y\"]"
   ]
  },
  {
   "cell_type": "code",
   "execution_count": null,
   "metadata": {
    "execution": {
     "iopub.execute_input": "2025-02-12T18:05:04.176595Z",
     "iopub.status.busy": "2025-02-12T18:05:04.176505Z",
     "iopub.status.idle": "2025-02-12T18:05:04.257046Z",
     "shell.execute_reply": "2025-02-12T18:05:04.256806Z"
    }
   },
   "outputs": [],
   "source": [
    "# Compare these.\n",
    "key1 = \"mean_z\"\n",
    "key2 = \"sigma_x\"\n",
    "units1 = str(I1.units(key1))\n",
    "units2 = str(I1.units(key2))\n",
    "plt.xlabel(key1 + f\" ({units1})\")\n",
    "plt.ylabel(key2 + f\" ({units2})\")\n",
    "plt.plot(I1.stat(key1), I1.stat(key2))\n",
    "plt.scatter(\n",
    "    [I1.particles[name][key1] for name in I1.particles],\n",
    "    [I2.particles[name][key2] for name in I2.particles],\n",
    "    color=\"red\",\n",
    ")"
   ]
  },
  {
   "cell_type": "code",
   "execution_count": null,
   "metadata": {
    "execution": {
     "iopub.execute_input": "2025-02-12T18:05:04.258472Z",
     "iopub.status.busy": "2025-02-12T18:05:04.258365Z",
     "iopub.status.idle": "2025-02-12T18:05:04.348443Z",
     "shell.execute_reply": "2025-02-12T18:05:04.348146Z"
    }
   },
   "outputs": [],
   "source": [
    "# Compare these.\n",
    "key1 = \"mean_z\"\n",
    "key2 = \"sigma_x\"\n",
    "units1 = str(I1.units(key1))\n",
    "units2 = str(I1.units(key2))\n",
    "plt.xlabel(key1 + f\" ({units1})\")\n",
    "plt.ylabel(key2 + f\" ({units2})\")\n",
    "plt.plot(I1.stat(key1), I1.stat(key2), label=\"1D solenoid\")\n",
    "plt.scatter(\n",
    "    [I1.particles[name][key1] for name in I1.particles],\n",
    "    [I1.particles[name][key2] for name in I1.particles],\n",
    "    color=\"red\",\n",
    ")\n",
    "key2 = \"sigma_y\"\n",
    "plt.plot(I2.stat(key1), I2.stat(key2), label=\"2D solenoid\")\n",
    "plt.scatter(\n",
    "    [I2.particles[name][key1] for name in I2.particles],\n",
    "    [I2.particles[name][key2] for name in I2.particles],\n",
    "    color=\"green\",\n",
    ")\n",
    "plt.legend()"
   ]
  },
  {
   "cell_type": "code",
   "execution_count": null,
   "metadata": {
    "execution": {
     "iopub.execute_input": "2025-02-12T18:05:04.349707Z",
     "iopub.status.busy": "2025-02-12T18:05:04.349602Z",
     "iopub.status.idle": "2025-02-12T18:05:04.721420Z",
     "shell.execute_reply": "2025-02-12T18:05:04.721144Z"
    }
   },
   "outputs": [],
   "source": [
    "PF.plot(\"x\", \"y\")\n",
    "PF.plot(\"delta_z\", \"delta_pz\")"
   ]
  }
 ],
 "metadata": {
  "kernelspec": {
   "display_name": "Python 3 (ipykernel)",
   "language": "python",
   "name": "python3"
  },
  "language_info": {
   "codemirror_mode": {
    "name": "ipython",
    "version": 3
   },
   "file_extension": ".py",
   "mimetype": "text/x-python",
   "name": "python",
   "nbconvert_exporter": "python",
   "pygments_lexer": "ipython3",
   "version": "3.12.8"
  }
 },
 "nbformat": 4,
 "nbformat_minor": 4
}
