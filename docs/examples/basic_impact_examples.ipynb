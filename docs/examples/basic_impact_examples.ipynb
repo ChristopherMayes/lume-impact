{
 "cells": [
  {
   "cell_type": "markdown",
   "metadata": {},
   "source": [
    "# LUME-Impact Basics"
   ]
  },
  {
   "cell_type": "code",
   "execution_count": null,
   "metadata": {},
   "outputs": [],
   "source": [
    "from impact import Impact"
   ]
  },
  {
   "cell_type": "code",
   "execution_count": null,
   "metadata": {},
   "outputs": [],
   "source": [
    "# Nicer plotting\n",
    "import matplotlib.pyplot as plt\n",
    "import matplotlib\n",
    "import os\n",
    "\n",
    "from bokeh.plotting import output_notebook\n",
    "from bokeh.plotting import show\n",
    "\n",
    "\n",
    "from impact.plotting import layout_plot\n",
    "\n",
    "matplotlib.rcParams[\"figure.figsize\"] = (8, 4)\n",
    "output_notebook(hide_banner=True)"
   ]
  },
  {
   "cell_type": "markdown",
   "metadata": {},
   "source": [
    "Point to a valid input file"
   ]
  },
  {
   "cell_type": "code",
   "execution_count": null,
   "metadata": {},
   "outputs": [],
   "source": [
    "ifile = \"templates/lcls_injector/ImpactT.in\""
   ]
  },
  {
   "cell_type": "markdown",
   "metadata": {},
   "source": [
    "Make Impact object"
   ]
  },
  {
   "cell_type": "code",
   "execution_count": null,
   "metadata": {},
   "outputs": [],
   "source": [
    "I = Impact(ifile)"
   ]
  },
  {
   "cell_type": "markdown",
   "metadata": {},
   "source": [
    "Change some things"
   ]
  },
  {
   "cell_type": "code",
   "execution_count": null,
   "metadata": {},
   "outputs": [],
   "source": [
    "I.header[\"Np\"] = 10000\n",
    "I.header[\"Nx\"] = 16\n",
    "I.header[\"Ny\"] = 16\n",
    "I.header[\"Nz\"] = 16\n",
    "I.header[\"Dt\"] = 5e-13\n",
    "\n",
    "# Turn Space Charge off. Both these syntaxes work\n",
    "I.header[\"Bcurr\"] = 0\n",
    "I[\"header:Bcurr\"] = 0\n",
    "\n",
    "# Other switches\n",
    "I.timeout = None\n",
    "\n",
    "# Switches for MPI\n",
    "I.numprocs = 0  # Auto-select\n",
    "\n",
    "# This is equivalent to:\n",
    "# I.use_mpi=True\n",
    "# I.header['Nprow'] = 2\n",
    "# I.header['Npcol'] = 2"
   ]
  },
  {
   "cell_type": "markdown",
   "metadata": {},
   "source": [
    "Plot the layout."
   ]
  },
  {
   "cell_type": "code",
   "execution_count": null,
   "metadata": {},
   "outputs": [],
   "source": [
    "I.plot()"
   ]
  },
  {
   "cell_type": "markdown",
   "metadata": {},
   "source": [
    "Change stop location. Here this is does the same as `I.ele['stop_1']['s'] = 1.5`."
   ]
  },
  {
   "cell_type": "code",
   "execution_count": null,
   "metadata": {},
   "outputs": [],
   "source": [
    "I.stop = 1.5"
   ]
  },
  {
   "cell_type": "markdown",
   "metadata": {},
   "source": [
    "Run Impact-T. This automatically finds the appropriate executable."
   ]
  },
  {
   "cell_type": "code",
   "execution_count": null,
   "metadata": {},
   "outputs": [],
   "source": [
    "I.run()"
   ]
  },
  {
   "cell_type": "markdown",
   "metadata": {},
   "source": [
    "Plot now shows the output statistics."
   ]
  },
  {
   "cell_type": "code",
   "execution_count": null,
   "metadata": {
    "execution": {
     "iopub.execute_input": "2024-10-18T19:52:35.051077Z",
     "iopub.status.busy": "2024-10-18T19:52:35.050948Z",
     "iopub.status.idle": "2024-10-18T19:52:35.222182Z",
     "shell.execute_reply": "2024-10-18T19:52:35.221919Z"
    }
   },
   "outputs": [],
   "source": [
    "I.plot()\n",
    "# plt.savefig('../assets/plot.png', dpi=150)"
   ]
  },
  {
   "cell_type": "markdown",
   "metadata": {},
   "source": [
    "These are used to create the input."
   ]
  },
  {
   "cell_type": "code",
   "execution_count": null,
   "metadata": {
    "execution": {
     "iopub.execute_input": "2024-10-18T19:52:35.223748Z",
     "iopub.status.busy": "2024-10-18T19:52:35.223641Z",
     "iopub.status.idle": "2024-10-18T19:52:35.225757Z",
     "shell.execute_reply": "2024-10-18T19:52:35.225533Z"
    }
   },
   "outputs": [],
   "source": [
    "I.input.keys()"
   ]
  },
  {
   "cell_type": "markdown",
   "metadata": {},
   "source": [
    "This is the output parsed"
   ]
  },
  {
   "cell_type": "code",
   "execution_count": null,
   "metadata": {
    "execution": {
     "iopub.execute_input": "2024-10-18T19:52:35.227107Z",
     "iopub.status.busy": "2024-10-18T19:52:35.227012Z",
     "iopub.status.idle": "2024-10-18T19:52:35.228860Z",
     "shell.execute_reply": "2024-10-18T19:52:35.228636Z"
    }
   },
   "outputs": [],
   "source": [
    "I.output.keys()"
   ]
  },
  {
   "cell_type": "markdown",
   "metadata": {},
   "source": [
    "stats from the various fort. files"
   ]
  },
  {
   "cell_type": "code",
   "execution_count": null,
   "metadata": {
    "execution": {
     "iopub.execute_input": "2024-10-18T19:52:35.230219Z",
     "iopub.status.busy": "2024-10-18T19:52:35.230119Z",
     "iopub.status.idle": "2024-10-18T19:52:35.232031Z",
     "shell.execute_reply": "2024-10-18T19:52:35.231820Z"
    }
   },
   "outputs": [],
   "source": [
    "I.output[\"stats\"].keys()"
   ]
  },
  {
   "cell_type": "markdown",
   "metadata": {},
   "source": [
    "Slice info"
   ]
  },
  {
   "cell_type": "code",
   "execution_count": null,
   "metadata": {
    "execution": {
     "iopub.execute_input": "2024-10-18T19:52:35.233533Z",
     "iopub.status.busy": "2024-10-18T19:52:35.233423Z",
     "iopub.status.idle": "2024-10-18T19:52:35.235372Z",
     "shell.execute_reply": "2024-10-18T19:52:35.235157Z"
    }
   },
   "outputs": [],
   "source": [
    "I.output[\"slice_info\"].keys()"
   ]
  },
  {
   "cell_type": "markdown",
   "metadata": {},
   "source": [
    "# Particles\n",
    "\n",
    "Particles are automatically parsed in to openpmd-beamphysics ParticleGroup objects"
   ]
  },
  {
   "cell_type": "code",
   "execution_count": null,
   "metadata": {
    "execution": {
     "iopub.execute_input": "2024-10-18T19:52:35.236606Z",
     "iopub.status.busy": "2024-10-18T19:52:35.236512Z",
     "iopub.status.idle": "2024-10-18T19:52:35.238438Z",
     "shell.execute_reply": "2024-10-18T19:52:35.238243Z"
    }
   },
   "outputs": [],
   "source": [
    "I.output[\"particles\"]"
   ]
  },
  {
   "cell_type": "markdown",
   "metadata": {},
   "source": [
    "`I.particles` points to this. Get the final particles and calculate some statistics:"
   ]
  },
  {
   "cell_type": "code",
   "execution_count": null,
   "metadata": {
    "execution": {
     "iopub.execute_input": "2024-10-18T19:52:35.239767Z",
     "iopub.status.busy": "2024-10-18T19:52:35.239678Z",
     "iopub.status.idle": "2024-10-18T19:52:35.241722Z",
     "shell.execute_reply": "2024-10-18T19:52:35.241528Z"
    }
   },
   "outputs": [],
   "source": [
    "P = I.particles[\"final_particles\"]\n",
    "P[\"mean_energy\"]"
   ]
  },
  {
   "cell_type": "markdown",
   "metadata": {},
   "source": [
    "Show the units:"
   ]
  },
  {
   "cell_type": "code",
   "execution_count": null,
   "metadata": {
    "execution": {
     "iopub.execute_input": "2024-10-18T19:52:35.243018Z",
     "iopub.status.busy": "2024-10-18T19:52:35.242901Z",
     "iopub.status.idle": "2024-10-18T19:52:35.244740Z",
     "shell.execute_reply": "2024-10-18T19:52:35.244536Z"
    }
   },
   "outputs": [],
   "source": [
    "P.units(\"mean_energy\")"
   ]
  },
  {
   "cell_type": "markdown",
   "metadata": {},
   "source": [
    "`ParticleGroup` has built-in plotting"
   ]
  },
  {
   "cell_type": "code",
   "execution_count": null,
   "metadata": {
    "execution": {
     "iopub.execute_input": "2024-10-18T19:52:35.246066Z",
     "iopub.status.busy": "2024-10-18T19:52:35.245977Z",
     "iopub.status.idle": "2024-10-18T19:52:35.458294Z",
     "shell.execute_reply": "2024-10-18T19:52:35.458064Z"
    }
   },
   "outputs": [],
   "source": [
    "P.plot(\"delta_z\", \"pz\")\n",
    "# plt.savefig('../assets/zpz.png', dpi=150)"
   ]
  },
  {
   "cell_type": "markdown",
   "metadata": {},
   "source": [
    "# Stats\n",
    "\n",
    "Impact's own calculated statistics can be retieved"
   ]
  },
  {
   "cell_type": "code",
   "execution_count": null,
   "metadata": {
    "execution": {
     "iopub.execute_input": "2024-10-18T19:52:35.459876Z",
     "iopub.status.busy": "2024-10-18T19:52:35.459764Z",
     "iopub.status.idle": "2024-10-18T19:52:35.461847Z",
     "shell.execute_reply": "2024-10-18T19:52:35.461642Z"
    }
   },
   "outputs": [],
   "source": [
    "len(I.stat(\"norm_emit_x\")), I.stat(\"norm_emit_x\")[-1]"
   ]
  },
  {
   "cell_type": "markdown",
   "metadata": {},
   "source": [
    "Stats can also be computed from the particles. For example:"
   ]
  },
  {
   "cell_type": "code",
   "execution_count": null,
   "metadata": {
    "execution": {
     "iopub.execute_input": "2024-10-18T19:52:35.463241Z",
     "iopub.status.busy": "2024-10-18T19:52:35.463147Z",
     "iopub.status.idle": "2024-10-18T19:52:35.465480Z",
     "shell.execute_reply": "2024-10-18T19:52:35.465279Z"
    }
   },
   "outputs": [],
   "source": [
    "I.particles[\"final_particles\"][\"norm_emit_x\"]"
   ]
  },
  {
   "cell_type": "markdown",
   "metadata": {},
   "source": [
    "Compare these:"
   ]
  },
  {
   "cell_type": "code",
   "execution_count": null,
   "metadata": {
    "execution": {
     "iopub.execute_input": "2024-10-18T19:52:35.466850Z",
     "iopub.status.busy": "2024-10-18T19:52:35.466756Z",
     "iopub.status.idle": "2024-10-18T19:52:35.549255Z",
     "shell.execute_reply": "2024-10-18T19:52:35.548978Z"
    }
   },
   "outputs": [],
   "source": [
    "key1 = \"mean_z\"\n",
    "key2 = \"sigma_x\"\n",
    "units1 = str(I.units(key1))\n",
    "units2 = str(I.units(key2))\n",
    "plt.xlabel(key1 + f\" ({units1})\")\n",
    "plt.ylabel(key2 + f\" ({units2})\")\n",
    "plt.plot(I.stat(key1), I.stat(key2))\n",
    "plt.scatter(\n",
    "    [I.particles[name][key1] for name in I.particles],\n",
    "    [I.particles[name][key2] for name in I.particles],\n",
    "    color=\"red\",\n",
    ")"
   ]
  },
  {
   "cell_type": "markdown",
   "metadata": {},
   "source": [
    "This kind of plot is built-in for convenience, with a layout:"
   ]
  },
  {
   "cell_type": "code",
   "execution_count": null,
   "metadata": {
    "execution": {
     "iopub.execute_input": "2024-10-18T19:52:35.551007Z",
     "iopub.status.busy": "2024-10-18T19:52:35.550881Z",
     "iopub.status.idle": "2024-10-18T19:52:35.693665Z",
     "shell.execute_reply": "2024-10-18T19:52:35.693412Z"
    }
   },
   "outputs": [],
   "source": [
    "I.plot(\"sigma_x\")"
   ]
  },
  {
   "cell_type": "markdown",
   "metadata": {},
   "source": [
    "Even fancier options, and sending some options to matplotlib:"
   ]
  },
  {
   "cell_type": "code",
   "execution_count": null,
   "metadata": {
    "execution": {
     "iopub.execute_input": "2024-10-18T19:52:35.695236Z",
     "iopub.status.busy": "2024-10-18T19:52:35.695127Z",
     "iopub.status.idle": "2024-10-18T19:52:35.914846Z",
     "shell.execute_reply": "2024-10-18T19:52:35.914549Z"
    }
   },
   "outputs": [],
   "source": [
    "I.plot(\n",
    "    [\"sigma_x\", \"sigma_y\"],\n",
    "    y2=[\"mean_kinetic_energy\"],\n",
    "    ylim2=(0, 8e6),\n",
    "    figsize=(10, 5),\n",
    "    include_field=True,\n",
    ")"
   ]
  },
  {
   "cell_type": "markdown",
   "metadata": {},
   "source": [
    "# Partial tracking\n",
    "\n",
    "Particles can be started anywhere in the lattice. Here we will take some intermediate particles, and re-track. \n",
    "\n",
    "Get particles at the `YAG02` marker:"
   ]
  },
  {
   "cell_type": "code",
   "execution_count": null,
   "metadata": {
    "execution": {
     "iopub.execute_input": "2024-10-18T19:52:35.916447Z",
     "iopub.status.busy": "2024-10-18T19:52:35.916338Z",
     "iopub.status.idle": "2024-10-18T19:52:35.917969Z",
     "shell.execute_reply": "2024-10-18T19:52:35.917747Z"
    }
   },
   "outputs": [],
   "source": [
    "Pmid = I.particles[\"YAG02\"]"
   ]
  },
  {
   "cell_type": "markdown",
   "metadata": {},
   "source": [
    "Make a copy, so that the previous object is preserved. "
   ]
  },
  {
   "cell_type": "code",
   "execution_count": null,
   "metadata": {
    "execution": {
     "iopub.execute_input": "2024-10-18T19:52:35.919371Z",
     "iopub.status.busy": "2024-10-18T19:52:35.919289Z",
     "iopub.status.idle": "2024-10-18T19:52:35.923124Z",
     "shell.execute_reply": "2024-10-18T19:52:35.922909Z"
    }
   },
   "outputs": [],
   "source": [
    "I2 = I.copy()\n",
    "I.verbose = False"
   ]
  },
  {
   "cell_type": "markdown",
   "metadata": {},
   "source": [
    "The copy needs to be configured before tracking"
   ]
  },
  {
   "cell_type": "code",
   "execution_count": null,
   "metadata": {
    "execution": {
     "iopub.execute_input": "2024-10-18T19:52:35.924561Z",
     "iopub.status.busy": "2024-10-18T19:52:35.924484Z",
     "iopub.status.idle": "2024-10-18T19:52:35.926140Z",
     "shell.execute_reply": "2024-10-18T19:52:35.925908Z"
    }
   },
   "outputs": [],
   "source": [
    "I2.configure()"
   ]
  },
  {
   "cell_type": "markdown",
   "metadata": {},
   "source": [
    "Track to 2 m"
   ]
  },
  {
   "cell_type": "code",
   "execution_count": null,
   "metadata": {
    "execution": {
     "iopub.execute_input": "2024-10-18T19:52:35.927409Z",
     "iopub.status.busy": "2024-10-18T19:52:35.927330Z",
     "iopub.status.idle": "2024-10-18T19:52:41.865467Z",
     "shell.execute_reply": "2024-10-18T19:52:41.865073Z"
    }
   },
   "outputs": [],
   "source": [
    "Pfinal = I2.track(Pmid, 2.0)"
   ]
  },
  {
   "cell_type": "markdown",
   "metadata": {},
   "source": [
    "Compare these:"
   ]
  },
  {
   "cell_type": "code",
   "execution_count": null,
   "metadata": {
    "execution": {
     "iopub.execute_input": "2024-10-18T19:52:41.867455Z",
     "iopub.status.busy": "2024-10-18T19:52:41.867322Z",
     "iopub.status.idle": "2024-10-18T19:52:41.957066Z",
     "shell.execute_reply": "2024-10-18T19:52:41.956828Z"
    }
   },
   "outputs": [],
   "source": [
    "key1 = \"mean_z\"\n",
    "key2 = \"sigma_x\"\n",
    "units1 = str(I.units(key1))\n",
    "units2 = str(I.units(key2))\n",
    "plt.xlabel(key1 + f\" ({units1})\")\n",
    "plt.ylabel(key2 + f\" ({units2})\")\n",
    "plt.plot(I.stat(key1), I.stat(key2))\n",
    "plt.plot(I2.stat(key1), I2.stat(key2))\n",
    "plt.scatter(\n",
    "    [I.particles[name][key1] for name in I.particles],\n",
    "    [I.particles[name][key2] for name in I.particles],\n",
    "    color=\"red\",\n",
    ")\n",
    "\n",
    "# Blue X are retracked particles\n",
    "plt.scatter(\n",
    "    [P[key1] for P in [Pmid, Pfinal]],\n",
    "    [P[key2] for P in [Pmid, Pfinal]],\n",
    "    color=\"blue\",\n",
    "    marker=\"x\",\n",
    ")"
   ]
  },
  {
   "cell_type": "markdown",
   "metadata": {},
   "source": [
    "# Single particle tracking\n",
    "\n",
    "Similar to above, but with initial conditions specified in the function for a single particle. \n",
    "\n",
    "This is useful for auto-phasing and scaling elements, and tracing reference orbits. \n",
    "\n",
    "Space charge is turned off for single particle tracking."
   ]
  },
  {
   "cell_type": "code",
   "execution_count": null,
   "metadata": {
    "execution": {
     "iopub.execute_input": "2024-10-18T19:52:41.958587Z",
     "iopub.status.busy": "2024-10-18T19:52:41.958478Z",
     "iopub.status.idle": "2024-10-18T19:52:42.256571Z",
     "shell.execute_reply": "2024-10-18T19:52:42.256257Z"
    }
   },
   "outputs": [],
   "source": [
    "%%time\n",
    "I3 = I.copy()\n",
    "I3.verbose = False\n",
    "I3.configure()\n",
    "P3 = I3.track1(s=2.2, z0=1.0, pz0=10e6)\n",
    "P3.z, P3.gamma"
   ]
  },
  {
   "cell_type": "markdown",
   "metadata": {},
   "source": [
    "# Interactive Layout\n",
    "\n",
    "Plots can be made interctive via [bokeh](https://docs.bokeh.org/en/latest/#)"
   ]
  },
  {
   "cell_type": "markdown",
   "metadata": {},
   "source": [
    "Change something and plot:"
   ]
  },
  {
   "cell_type": "code",
   "execution_count": null,
   "metadata": {
    "execution": {
     "iopub.execute_input": "2024-10-18T19:52:42.464763Z",
     "iopub.status.busy": "2024-10-18T19:52:42.464617Z",
     "iopub.status.idle": "2024-10-18T19:52:42.679481Z",
     "shell.execute_reply": "2024-10-18T19:52:42.679252Z"
    }
   },
   "outputs": [],
   "source": [
    "I.ele[\"QE01\"][\"b1_gradient\"] = 0\n",
    "layout = layout_plot(I.input[\"lattice\"], height=300)\n",
    "show(layout)"
   ]
  },
  {
   "cell_type": "markdown",
   "metadata": {},
   "source": [
    "# ControlGroup objects\n",
    "\n",
    "Some elements need to be changed together, either relatively or absolutely. A single traveling wave cavity, for example, is made from four fieldmaps, with defined relative phases\n"
   ]
  },
  {
   "cell_type": "code",
   "execution_count": null,
   "metadata": {
    "execution": {
     "iopub.execute_input": "2024-10-18T19:52:42.680988Z",
     "iopub.status.busy": "2024-10-18T19:52:42.680843Z",
     "iopub.status.idle": "2024-10-18T19:52:42.682640Z",
     "shell.execute_reply": "2024-10-18T19:52:42.682403Z"
    }
   },
   "outputs": [],
   "source": [
    "for name in [\"L0A_entrance\", \"L0A_body_1\", \"L0A_body_2\", \"L0A_exit\"]:\n",
    "    print(name, I[name][\"theta0_deg\"])"
   ]
  },
  {
   "cell_type": "markdown",
   "metadata": {},
   "source": [
    "Make a copy and add a group to control these. "
   ]
  },
  {
   "cell_type": "code",
   "execution_count": null,
   "metadata": {
    "execution": {
     "iopub.execute_input": "2024-10-18T19:52:42.684032Z",
     "iopub.status.busy": "2024-10-18T19:52:42.683931Z",
     "iopub.status.idle": "2024-10-18T19:52:42.688142Z",
     "shell.execute_reply": "2024-10-18T19:52:42.687928Z"
    }
   },
   "outputs": [],
   "source": [
    "I4 = I.copy()\n",
    "I4.add_group(\n",
    "    \"L0A\",\n",
    "    ele_names=[\"L0A_entrance\", \"L0A_body_1\", \"L0A_body_2\", \"L0A_exit\"],\n",
    "    var_name=\"theta0_deg\",\n",
    "    attributes=\"theta0_deg\",\n",
    ")"
   ]
  },
  {
   "cell_type": "markdown",
   "metadata": {},
   "source": [
    "Make a change"
   ]
  },
  {
   "cell_type": "code",
   "execution_count": null,
   "metadata": {
    "execution": {
     "iopub.execute_input": "2024-10-18T19:52:42.689525Z",
     "iopub.status.busy": "2024-10-18T19:52:42.689447Z",
     "iopub.status.idle": "2024-10-18T19:52:42.690820Z",
     "shell.execute_reply": "2024-10-18T19:52:42.690608Z"
    }
   },
   "outputs": [],
   "source": [
    "I4[\"L0A\"][\"theta0_deg\"] = 0.123456"
   ]
  },
  {
   "cell_type": "markdown",
   "metadata": {},
   "source": [
    "These get propagated to the underlying elements"
   ]
  },
  {
   "cell_type": "code",
   "execution_count": null,
   "metadata": {
    "execution": {
     "iopub.execute_input": "2024-10-18T19:52:42.692082Z",
     "iopub.status.busy": "2024-10-18T19:52:42.691984Z",
     "iopub.status.idle": "2024-10-18T19:52:42.693574Z",
     "shell.execute_reply": "2024-10-18T19:52:42.693354Z"
    }
   },
   "outputs": [],
   "source": [
    "for name in I4[\"L0A\"].ele_names:\n",
    "    print(name, I4[name][\"theta0_deg\"])"
   ]
  },
  {
   "cell_type": "markdown",
   "metadata": {},
   "source": [
    "Set overall scaling, respecting the special factors. "
   ]
  },
  {
   "cell_type": "code",
   "execution_count": null,
   "metadata": {
    "execution": {
     "iopub.execute_input": "2024-10-18T19:52:42.694869Z",
     "iopub.status.busy": "2024-10-18T19:52:42.694776Z",
     "iopub.status.idle": "2024-10-18T19:52:42.696354Z",
     "shell.execute_reply": "2024-10-18T19:52:42.696145Z"
    }
   },
   "outputs": [],
   "source": [
    "I4.add_group(\n",
    "    \"L0A_scale\",\n",
    "    ele_names=[\"L0A_entrance\", \"L0A_body_1\", \"L0A_body_2\", \"L0A_exit\"],\n",
    "    var_name=\"rf_field_scale\",\n",
    "    factors=[0.86571945106805, 1, 1, 0.86571945106805],  # sin(k*d) with d = 3.5e-2 m\n",
    "    absolute=True,\n",
    ")\n",
    "\n",
    "I4[\"L0A_scale\"][\"rf_field_scale\"] = 10"
   ]
  },
  {
   "cell_type": "markdown",
   "metadata": {},
   "source": [
    "These get propagated to the underlying elements"
   ]
  },
  {
   "cell_type": "code",
   "execution_count": null,
   "metadata": {
    "execution": {
     "iopub.execute_input": "2024-10-18T19:52:42.697619Z",
     "iopub.status.busy": "2024-10-18T19:52:42.697534Z",
     "iopub.status.idle": "2024-10-18T19:52:42.699220Z",
     "shell.execute_reply": "2024-10-18T19:52:42.699027Z"
    }
   },
   "outputs": [],
   "source": [
    "for name in I4[\"L0A_scale\"].ele_names:\n",
    "    print(name, I4[name][\"rf_field_scale\"])"
   ]
  },
  {
   "cell_type": "markdown",
   "metadata": {},
   "source": [
    "# Instantiate from YAML\n",
    "\n",
    "All of the Impact object init arguments can be passed in a YAML file. Any of:"
   ]
  },
  {
   "cell_type": "code",
   "execution_count": null,
   "metadata": {
    "execution": {
     "iopub.execute_input": "2024-10-18T19:52:42.700439Z",
     "iopub.status.busy": "2024-10-18T19:52:42.700363Z",
     "iopub.status.idle": "2024-10-18T19:52:42.719314Z",
     "shell.execute_reply": "2024-10-18T19:52:42.719108Z"
    }
   },
   "outputs": [],
   "source": [
    "?Impact"
   ]
  },
  {
   "cell_type": "code",
   "execution_count": null,
   "metadata": {
    "execution": {
     "iopub.execute_input": "2024-10-18T19:52:42.720649Z",
     "iopub.status.busy": "2024-10-18T19:52:42.720568Z",
     "iopub.status.idle": "2024-10-18T19:52:42.725337Z",
     "shell.execute_reply": "2024-10-18T19:52:42.725131Z"
    }
   },
   "outputs": [],
   "source": [
    "YAML = \"\"\"\n",
    "\n",
    "# Any argument above. One exception is initial_particles: this should be a filename that is parsed into a ParticleGroup\n",
    "\n",
    "input_file: templates/lcls_injector/ImpactT.in\n",
    "\n",
    "verbose: False\n",
    "\n",
    "group:\n",
    "  L0A:\n",
    "    ele_names: [ L0A_entrance, L0A_body_1, L0A_body_2, L0A_exit ]\n",
    "    var_name: dtheta0_deg\n",
    "    attributes: theta0_deg\n",
    "    value: 0\n",
    "    \n",
    "  L0B:\n",
    "    ele_names: [ L0B_entrance, L0B_body_1, L0B_body_2, L0B_exit ]\n",
    "    var_name: dtheta0_deg\n",
    "    attributes: theta0_deg\n",
    "    value: 0    \n",
    "    \n",
    "  L0A_scale:\n",
    "    ele_names:  [ L0A_entrance, L0A_body_1, L0A_body_2, L0A_exit ]\n",
    "    var_name: rf_field_scale\n",
    "    factors: [0.86571945106805, 1, 1, 0.86571945106805]  # sin(k*d) with d = 3.5e-2 m \n",
    "    absolute: True \n",
    "    value: 60e6\n",
    "    \n",
    "  L0B_scale:\n",
    "    ele_names:  [ L0B_entrance, L0B_body_1, L0B_body_2, L0B_exit ]\n",
    "    var_name: rf_field_scale\n",
    "    factors: [0.86571945106805, 1, 1, 0.86571945106805]  # sin(k*d) with d = 3.5e-2 m \n",
    "    absolute: True\n",
    "    value: 60.0e6\n",
    "    \n",
    "\n",
    "\"\"\"\n",
    "I5 = Impact.from_yaml(YAML)\n",
    "I5[\"L0A:dtheta0_deg\"], I5[\"L0A_entrance:theta0_deg\"]"
   ]
  },
  {
   "cell_type": "code",
   "execution_count": null,
   "metadata": {
    "execution": {
     "iopub.execute_input": "2024-10-18T19:52:42.726553Z",
     "iopub.status.busy": "2024-10-18T19:52:42.726467Z",
     "iopub.status.idle": "2024-10-18T19:52:42.728571Z",
     "shell.execute_reply": "2024-10-18T19:52:42.728356Z"
    }
   },
   "outputs": [],
   "source": [
    "I5[\"L0A\"].reference_values"
   ]
  },
  {
   "cell_type": "code",
   "execution_count": null,
   "metadata": {
    "execution": {
     "iopub.execute_input": "2024-10-18T19:52:42.729856Z",
     "iopub.status.busy": "2024-10-18T19:52:42.729774Z",
     "iopub.status.idle": "2024-10-18T19:52:42.731696Z",
     "shell.execute_reply": "2024-10-18T19:52:42.731487Z"
    }
   },
   "outputs": [],
   "source": [
    "I5[\"L0A\"]"
   ]
  },
  {
   "cell_type": "markdown",
   "metadata": {},
   "source": [
    "# Autophase\n",
    "\n",
    "Autophase will calculate the relative phases of each rf element by tracking a single particle through the fieldmaps. This is done externally to Impact, and is relatively fast.\n",
    "\n",
    "A call to `Impact.autophase()` returns the relative phases found as a dict:"
   ]
  },
  {
   "cell_type": "code",
   "execution_count": null,
   "metadata": {
    "execution": {
     "iopub.execute_input": "2024-10-18T19:52:42.733049Z",
     "iopub.status.busy": "2024-10-18T19:52:42.732973Z",
     "iopub.status.idle": "2024-10-18T19:52:43.715696Z",
     "shell.execute_reply": "2024-10-18T19:52:43.715462Z"
    }
   },
   "outputs": [],
   "source": [
    "I5.autophase()"
   ]
  },
  {
   "cell_type": "markdown",
   "metadata": {},
   "source": [
    "You can also give it a dict of `ele_name:rel_phase_deg` with relative phases in degrees, and it will set these as it phases:"
   ]
  },
  {
   "cell_type": "code",
   "execution_count": null,
   "metadata": {
    "execution": {
     "iopub.execute_input": "2024-10-18T19:52:43.717242Z",
     "iopub.status.busy": "2024-10-18T19:52:43.717149Z",
     "iopub.status.idle": "2024-10-18T19:52:44.657246Z",
     "shell.execute_reply": "2024-10-18T19:52:44.657022Z"
    }
   },
   "outputs": [],
   "source": [
    "I5.autophase({\"GUN\": -9, \"L0A\": 2})"
   ]
  },
  {
   "cell_type": "markdown",
   "metadata": {},
   "source": [
    "# Archive all output\n",
    "\n",
    "All of .input and .output can be archived and loaded from standard h5 files.\n",
    "\n",
    "Particles are stored in the openPMD-beamphysics format.\n",
    "\n",
    "Call the `archive` method. If no name is given, a name will be invented based on the fingerprint."
   ]
  },
  {
   "cell_type": "code",
   "execution_count": null,
   "metadata": {
    "execution": {
     "iopub.execute_input": "2024-10-18T19:52:44.658775Z",
     "iopub.status.busy": "2024-10-18T19:52:44.658683Z",
     "iopub.status.idle": "2024-10-18T19:52:44.707963Z",
     "shell.execute_reply": "2024-10-18T19:52:44.707736Z"
    }
   },
   "outputs": [],
   "source": [
    "afile = I.archive()"
   ]
  },
  {
   "cell_type": "markdown",
   "metadata": {},
   "source": [
    "This can be loaded into an empty model"
   ]
  },
  {
   "cell_type": "code",
   "execution_count": null,
   "metadata": {
    "execution": {
     "iopub.execute_input": "2024-10-18T19:52:44.709466Z",
     "iopub.status.busy": "2024-10-18T19:52:44.709380Z",
     "iopub.status.idle": "2024-10-18T19:52:44.759758Z",
     "shell.execute_reply": "2024-10-18T19:52:44.759522Z"
    }
   },
   "outputs": [],
   "source": [
    "I2 = Impact()\n",
    "I2.load_archive(afile)"
   ]
  },
  {
   "cell_type": "markdown",
   "metadata": {},
   "source": [
    "This also works:"
   ]
  },
  {
   "cell_type": "code",
   "execution_count": null,
   "metadata": {
    "execution": {
     "iopub.execute_input": "2024-10-18T19:52:44.761317Z",
     "iopub.status.busy": "2024-10-18T19:52:44.761237Z",
     "iopub.status.idle": "2024-10-18T19:52:44.808953Z",
     "shell.execute_reply": "2024-10-18T19:52:44.808721Z"
    }
   },
   "outputs": [],
   "source": [
    "I2 = Impact.from_archive(afile)"
   ]
  },
  {
   "cell_type": "markdown",
   "metadata": {},
   "source": [
    "Check that the fingerprints are the same"
   ]
  },
  {
   "cell_type": "code",
   "execution_count": null,
   "metadata": {
    "execution": {
     "iopub.execute_input": "2024-10-18T19:52:44.810370Z",
     "iopub.status.busy": "2024-10-18T19:52:44.810285Z",
     "iopub.status.idle": "2024-10-18T19:52:44.812825Z",
     "shell.execute_reply": "2024-10-18T19:52:44.812610Z"
    }
   },
   "outputs": [],
   "source": [
    "assert I.fingerprint() == I2.fingerprint()"
   ]
  },
  {
   "cell_type": "markdown",
   "metadata": {},
   "source": [
    "Look at a stat, and compare with the original object"
   ]
  },
  {
   "cell_type": "code",
   "execution_count": null,
   "metadata": {
    "execution": {
     "iopub.execute_input": "2024-10-18T19:52:44.814088Z",
     "iopub.status.busy": "2024-10-18T19:52:44.814008Z",
     "iopub.status.idle": "2024-10-18T19:52:44.816097Z",
     "shell.execute_reply": "2024-10-18T19:52:44.815868Z"
    }
   },
   "outputs": [],
   "source": [
    "I.stat(\"norm_emit_x\")[-1], I2.stat(\"norm_emit_x\")[-1]"
   ]
  },
  {
   "cell_type": "markdown",
   "metadata": {},
   "source": [
    "The particles look the same:"
   ]
  },
  {
   "cell_type": "code",
   "execution_count": null,
   "metadata": {
    "execution": {
     "iopub.execute_input": "2024-10-18T19:52:44.817512Z",
     "iopub.status.busy": "2024-10-18T19:52:44.817420Z",
     "iopub.status.idle": "2024-10-18T19:52:44.996491Z",
     "shell.execute_reply": "2024-10-18T19:52:44.996266Z"
    }
   },
   "outputs": [],
   "source": [
    "I2.particles[\"final_particles\"].plot(\"delta_z\", \"pz\")"
   ]
  },
  {
   "cell_type": "markdown",
   "metadata": {},
   "source": [
    "# Cleanup"
   ]
  },
  {
   "cell_type": "code",
   "execution_count": null,
   "metadata": {
    "execution": {
     "iopub.execute_input": "2024-10-18T19:52:44.997921Z",
     "iopub.status.busy": "2024-10-18T19:52:44.997815Z",
     "iopub.status.idle": "2024-10-18T19:52:44.999556Z",
     "shell.execute_reply": "2024-10-18T19:52:44.999334Z"
    }
   },
   "outputs": [],
   "source": [
    "os.remove(afile)"
   ]
  }
 ],
 "metadata": {
  "kernelspec": {
   "display_name": "Python 3 (ipykernel)",
   "language": "python",
   "name": "python3"
  },
  "language_info": {
   "codemirror_mode": {
    "name": "ipython",
    "version": 3
   },
   "file_extension": ".py",
   "mimetype": "text/x-python",
   "name": "python",
   "nbconvert_exporter": "python",
   "pygments_lexer": "ipython3",
   "version": "3.12.6"
  }
 },
 "nbformat": 4,
 "nbformat_minor": 4
}
