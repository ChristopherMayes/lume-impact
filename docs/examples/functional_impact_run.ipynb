{
 "cells": [
  {
   "cell_type": "markdown",
   "metadata": {},
   "source": [
    "# Functional example for LUME-Impact"
   ]
  },
  {
   "cell_type": "code",
   "execution_count": null,
   "metadata": {
    "execution": {
     "iopub.execute_input": "2024-10-18T19:53:35.762598Z",
     "iopub.status.busy": "2024-10-18T19:53:35.762300Z",
     "iopub.status.idle": "2024-10-18T19:53:36.691779Z",
     "shell.execute_reply": "2024-10-18T19:53:36.691500Z"
    }
   },
   "outputs": [],
   "source": [
    "from impact import Impact, run_impact_with_distgen, evaluate_impact_with_distgen\n",
    "import h5py\n",
    "import os\n",
    "\n",
    "# Nicer plotting\n",
    "import matplotlib\n",
    "\n",
    "%config InlineBackend.figure_format = 'retina'\n",
    "matplotlib.rcParams[\"figure.figsize\"] = (8, 4)"
   ]
  },
  {
   "cell_type": "code",
   "execution_count": null,
   "metadata": {
    "execution": {
     "iopub.execute_input": "2024-10-18T19:53:36.693462Z",
     "iopub.status.busy": "2024-10-18T19:53:36.693318Z",
     "iopub.status.idle": "2024-10-18T19:53:36.695155Z",
     "shell.execute_reply": "2024-10-18T19:53:36.694929Z"
    }
   },
   "outputs": [],
   "source": [
    "gfile = \"templates/lcls_injector/distgen.yaml\"\n",
    "ifile = \"templates/lcls_injector/ImpactT.yaml\""
   ]
  },
  {
   "cell_type": "markdown",
   "metadata": {},
   "source": [
    "# Functional run_impact_with_distgen\n",
    "\n",
    "This is a functional way to apply some settings to and run distgen and impact together.\n",
    "\n",
    "Any key with a prefix `distgen:` will send its suffix to distgen's Generator.\n",
    "\n",
    "Otherwise, any key that can be set with Impact's attr syntax can be used.\n",
    "\n"
   ]
  },
  {
   "cell_type": "code",
   "execution_count": null,
   "metadata": {
    "execution": {
     "iopub.execute_input": "2024-10-18T19:53:36.696418Z",
     "iopub.status.busy": "2024-10-18T19:53:36.696338Z",
     "iopub.status.idle": "2024-10-18T19:53:37.069313Z",
     "shell.execute_reply": "2024-10-18T19:53:37.069054Z"
    }
   },
   "outputs": [],
   "source": [
    "# Make some settings\n",
    "SETTINGS0 = {\n",
    "    \"distgen:n_particle\": 100,\n",
    "    \"total_charge\": 0,  # effectively turns spacecharge off\n",
    "    \"stop\": 0.02,\n",
    "    \"GUN_phase:autophase_deg\": 0,\n",
    "}\n",
    "\n",
    "\n",
    "# This returns an Impact object that has run\n",
    "I = run_impact_with_distgen(\n",
    "    settings=SETTINGS0,\n",
    "    distgen_input_file=gfile,\n",
    "    impact_config=ifile,\n",
    ")\n",
    "\n",
    "I.plot(\"mean_kinetic_energy\")\n",
    "I"
   ]
  },
  {
   "cell_type": "code",
   "execution_count": null,
   "metadata": {
    "execution": {
     "iopub.execute_input": "2024-10-18T19:53:37.070964Z",
     "iopub.status.busy": "2024-10-18T19:53:37.070762Z",
     "iopub.status.idle": "2024-10-18T19:53:37.122658Z",
     "shell.execute_reply": "2024-10-18T19:53:37.122379Z"
    }
   },
   "outputs": [],
   "source": [
    "h5file = I.archive()"
   ]
  },
  {
   "cell_type": "code",
   "execution_count": null,
   "metadata": {
    "execution": {
     "iopub.execute_input": "2024-10-18T19:53:37.124318Z",
     "iopub.status.busy": "2024-10-18T19:53:37.124227Z",
     "iopub.status.idle": "2024-10-18T19:53:37.126606Z",
     "shell.execute_reply": "2024-10-18T19:53:37.126394Z"
    }
   },
   "outputs": [],
   "source": [
    "with h5py.File(h5file, \"r\") as h5:\n",
    "    print(list(h5))"
   ]
  },
  {
   "cell_type": "code",
   "execution_count": null,
   "metadata": {
    "execution": {
     "iopub.execute_input": "2024-10-18T19:53:37.127955Z",
     "iopub.status.busy": "2024-10-18T19:53:37.127868Z",
     "iopub.status.idle": "2024-10-18T19:53:37.177881Z",
     "shell.execute_reply": "2024-10-18T19:53:37.177659Z"
    }
   },
   "outputs": [],
   "source": [
    "I.from_archive(h5file)\n",
    "I.output.keys()"
   ]
  },
  {
   "cell_type": "code",
   "execution_count": null,
   "metadata": {
    "execution": {
     "iopub.execute_input": "2024-10-18T19:53:37.179210Z",
     "iopub.status.busy": "2024-10-18T19:53:37.179128Z",
     "iopub.status.idle": "2024-10-18T19:53:37.305000Z",
     "shell.execute_reply": "2024-10-18T19:53:37.304549Z"
    }
   },
   "outputs": [],
   "source": [
    "I[\"total_charge\"] = 1\n",
    "I.write_input()\n",
    "!cat {I.path}/ImpactT.in"
   ]
  },
  {
   "cell_type": "markdown",
   "metadata": {},
   "source": [
    "# Functional evaluate_impact_with_distgen\n",
    "\n",
    "Similar to above, but reuruns a dict of common outputs, and an optinal archive file.\n",
    "\n",
    "This is useful in optimizations and creating datasets."
   ]
  },
  {
   "cell_type": "code",
   "execution_count": null,
   "metadata": {
    "execution": {
     "iopub.execute_input": "2024-10-18T19:53:37.307367Z",
     "iopub.status.busy": "2024-10-18T19:53:37.307162Z",
     "iopub.status.idle": "2024-10-18T19:53:37.544976Z",
     "shell.execute_reply": "2024-10-18T19:53:37.544660Z"
    }
   },
   "outputs": [],
   "source": [
    "# This returns an Impact object that has run\n",
    "O1 = evaluate_impact_with_distgen(\n",
    "    SETTINGS0, distgen_input_file=gfile, impact_config=ifile, archive_path=\".\"\n",
    ")\n",
    "\n",
    "# This is the default output\n",
    "O1"
   ]
  },
  {
   "cell_type": "code",
   "execution_count": null,
   "metadata": {
    "execution": {
     "iopub.execute_input": "2024-10-18T19:53:37.546523Z",
     "iopub.status.busy": "2024-10-18T19:53:37.546402Z",
     "iopub.status.idle": "2024-10-18T19:53:37.595698Z",
     "shell.execute_reply": "2024-10-18T19:53:37.595453Z"
    }
   },
   "outputs": [],
   "source": [
    "I2 = Impact.from_archive(O1[\"archive\"])"
   ]
  },
  {
   "cell_type": "code",
   "execution_count": null,
   "metadata": {
    "execution": {
     "iopub.execute_input": "2024-10-18T19:53:37.597121Z",
     "iopub.status.busy": "2024-10-18T19:53:37.597032Z",
     "iopub.status.idle": "2024-10-18T19:53:37.600027Z",
     "shell.execute_reply": "2024-10-18T19:53:37.599814Z"
    }
   },
   "outputs": [],
   "source": [
    "I2.fingerprint() == I.fingerprint()"
   ]
  },
  {
   "cell_type": "markdown",
   "metadata": {},
   "source": [
    "A custom merit function can be provided to give different output. Note that the fingerprint is always returned."
   ]
  },
  {
   "cell_type": "code",
   "execution_count": null,
   "metadata": {
    "execution": {
     "iopub.execute_input": "2024-10-18T19:53:37.601467Z",
     "iopub.status.busy": "2024-10-18T19:53:37.601381Z",
     "iopub.status.idle": "2024-10-18T19:53:37.778838Z",
     "shell.execute_reply": "2024-10-18T19:53:37.778549Z"
    }
   },
   "outputs": [],
   "source": [
    "# Custom merit function\n",
    "def my_merit(impact_object):\n",
    "    \"\"\"\n",
    "    Custom merit function.\n",
    "\n",
    "    Returns the maximum sigma_x seen\n",
    "\n",
    "    \"\"\"\n",
    "    d = {\"max_sigma_x\": I.stat(\"sigma_x\").max()}\n",
    "\n",
    "    return d\n",
    "\n",
    "\n",
    "evaluate_impact_with_distgen(\n",
    "    SETTINGS0, distgen_input_file=gfile, impact_config=ifile, merit_f=my_merit\n",
    ")"
   ]
  },
  {
   "cell_type": "code",
   "execution_count": null,
   "metadata": {
    "execution": {
     "iopub.execute_input": "2024-10-18T19:53:37.780429Z",
     "iopub.status.busy": "2024-10-18T19:53:37.780315Z",
     "iopub.status.idle": "2024-10-18T19:53:37.782208Z",
     "shell.execute_reply": "2024-10-18T19:53:37.781944Z"
    }
   },
   "outputs": [],
   "source": [
    "# Cleanup\n",
    "os.remove(O1[\"archive\"])\n",
    "os.remove(h5file)"
   ]
  }
 ],
 "metadata": {
  "kernelspec": {
   "display_name": "Python 3 (ipykernel)",
   "language": "python",
   "name": "python3"
  },
  "language_info": {
   "codemirror_mode": {
    "name": "ipython",
    "version": 3
   },
   "file_extension": ".py",
   "mimetype": "text/x-python",
   "name": "python",
   "nbconvert_exporter": "python",
   "pygments_lexer": "ipython3",
   "version": "3.12.6"
  }
 },
 "nbformat": 4,
 "nbformat_minor": 4
}
