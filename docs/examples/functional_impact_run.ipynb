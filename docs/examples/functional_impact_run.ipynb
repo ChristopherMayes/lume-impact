{
 "cells": [
  {
   "cell_type": "markdown",
   "metadata": {},
   "source": [
    "# Functional example for LUME-Impact"
   ]
  },
  {
   "cell_type": "code",
   "execution_count": null,
   "metadata": {
    "execution": {
     "iopub.execute_input": "2025-02-20T21:26:02.007218Z",
     "iopub.status.busy": "2025-02-20T21:26:02.007138Z",
     "iopub.status.idle": "2025-02-20T21:26:03.056366Z",
     "shell.execute_reply": "2025-02-20T21:26:03.056000Z"
    }
   },
   "outputs": [],
   "source": [
    "from impact import Impact, run_impact_with_distgen, evaluate_impact_with_distgen\n",
    "import h5py\n",
    "import os\n",
    "\n",
    "# Nicer plotting\n",
    "import matplotlib\n",
    "\n",
    "%config InlineBackend.figure_format = 'retina'\n",
    "matplotlib.rcParams[\"figure.figsize\"] = (8, 4)"
   ]
  },
  {
   "cell_type": "code",
   "execution_count": null,
   "metadata": {
    "execution": {
     "iopub.execute_input": "2025-02-20T21:26:03.058022Z",
     "iopub.status.busy": "2025-02-20T21:26:03.057860Z",
     "iopub.status.idle": "2025-02-20T21:26:03.059598Z",
     "shell.execute_reply": "2025-02-20T21:26:03.059335Z"
    }
   },
   "outputs": [],
   "source": [
    "gfile = \"templates/lcls_injector/distgen.yaml\"\n",
    "ifile = \"templates/lcls_injector/ImpactT.yaml\""
   ]
  },
  {
   "cell_type": "markdown",
   "metadata": {},
   "source": [
    "# Functional run_impact_with_distgen\n",
    "\n",
    "This is a functional way to apply some settings to and run distgen and impact together.\n",
    "\n",
    "Any key with a prefix `distgen:` will send its suffix to distgen's Generator.\n",
    "\n",
    "Otherwise, any key that can be set with Impact's attr syntax can be used.\n",
    "\n"
   ]
  },
  {
   "cell_type": "code",
   "execution_count": null,
   "metadata": {
    "execution": {
     "iopub.execute_input": "2025-02-20T21:26:03.060860Z",
     "iopub.status.busy": "2025-02-20T21:26:03.060785Z",
     "iopub.status.idle": "2025-02-20T21:26:03.433122Z",
     "shell.execute_reply": "2025-02-20T21:26:03.432763Z"
    }
   },
   "outputs": [],
   "source": [
    "# Make some settings\n",
    "SETTINGS0 = {\n",
    "    \"distgen:n_particle\": 100,\n",
    "    \"total_charge\": 0,  # effectively turns spacecharge off\n",
    "    \"stop\": 0.02,\n",
    "    \"GUN_phase:autophase_deg\": 0,\n",
    "}\n",
    "\n",
    "\n",
    "# This returns an Impact object that has run\n",
    "I = run_impact_with_distgen(\n",
    "    settings=SETTINGS0,\n",
    "    distgen_input_file=gfile,\n",
    "    impact_config=ifile,\n",
    ")\n",
    "\n",
    "I.plot(\"mean_kinetic_energy\")\n",
    "I"
   ]
  },
  {
   "cell_type": "code",
   "execution_count": null,
   "metadata": {
    "execution": {
     "iopub.execute_input": "2025-02-20T21:26:03.434504Z",
     "iopub.status.busy": "2025-02-20T21:26:03.434393Z",
     "iopub.status.idle": "2025-02-20T21:26:03.480806Z",
     "shell.execute_reply": "2025-02-20T21:26:03.480531Z"
    }
   },
   "outputs": [],
   "source": [
    "h5file = I.archive()"
   ]
  },
  {
   "cell_type": "code",
   "execution_count": null,
   "metadata": {
    "execution": {
     "iopub.execute_input": "2025-02-20T21:26:03.482263Z",
     "iopub.status.busy": "2025-02-20T21:26:03.482167Z",
     "iopub.status.idle": "2025-02-20T21:26:03.484513Z",
     "shell.execute_reply": "2025-02-20T21:26:03.484286Z"
    }
   },
   "outputs": [],
   "source": [
    "with h5py.File(h5file, \"r\") as h5:\n",
    "    print(list(h5))"
   ]
  },
  {
   "cell_type": "code",
   "execution_count": null,
   "metadata": {
    "execution": {
     "iopub.execute_input": "2025-02-20T21:26:03.485608Z",
     "iopub.status.busy": "2025-02-20T21:26:03.485521Z",
     "iopub.status.idle": "2025-02-20T21:26:03.533297Z",
     "shell.execute_reply": "2025-02-20T21:26:03.533013Z"
    }
   },
   "outputs": [],
   "source": [
    "I.from_archive(h5file)\n",
    "I.output.keys()"
   ]
  },
  {
   "cell_type": "code",
   "execution_count": null,
   "metadata": {
    "execution": {
     "iopub.execute_input": "2025-02-20T21:26:03.534581Z",
     "iopub.status.busy": "2025-02-20T21:26:03.534474Z",
     "iopub.status.idle": "2025-02-20T21:26:03.659573Z",
     "shell.execute_reply": "2025-02-20T21:26:03.659176Z"
    }
   },
   "outputs": [],
   "source": [
    "I[\"total_charge\"] = 1\n",
    "I.write_input()\n",
    "!cat {I.path}/ImpactT.in"
   ]
  },
  {
   "cell_type": "markdown",
   "metadata": {},
   "source": [
    "# Functional evaluate_impact_with_distgen\n",
    "\n",
    "Similar to above, but reuruns a dict of common outputs, and an optinal archive file.\n",
    "\n",
    "This is useful in optimizations and creating datasets."
   ]
  },
  {
   "cell_type": "code",
   "execution_count": null,
   "metadata": {
    "execution": {
     "iopub.execute_input": "2025-02-20T21:26:03.661085Z",
     "iopub.status.busy": "2025-02-20T21:26:03.660993Z",
     "iopub.status.idle": "2025-02-20T21:26:03.882037Z",
     "shell.execute_reply": "2025-02-20T21:26:03.881699Z"
    }
   },
   "outputs": [],
   "source": [
    "# This returns an Impact object that has run\n",
    "O1 = evaluate_impact_with_distgen(\n",
    "    SETTINGS0, distgen_input_file=gfile, impact_config=ifile, archive_path=\".\"\n",
    ")\n",
    "\n",
    "# This is the default output\n",
    "O1"
   ]
  },
  {
   "cell_type": "code",
   "execution_count": null,
   "metadata": {
    "execution": {
     "iopub.execute_input": "2025-02-20T21:26:03.883486Z",
     "iopub.status.busy": "2025-02-20T21:26:03.883355Z",
     "iopub.status.idle": "2025-02-20T21:26:03.927284Z",
     "shell.execute_reply": "2025-02-20T21:26:03.927019Z"
    }
   },
   "outputs": [],
   "source": [
    "I2 = Impact.from_archive(O1[\"archive\"])"
   ]
  },
  {
   "cell_type": "code",
   "execution_count": null,
   "metadata": {
    "execution": {
     "iopub.execute_input": "2025-02-20T21:26:03.928581Z",
     "iopub.status.busy": "2025-02-20T21:26:03.928497Z",
     "iopub.status.idle": "2025-02-20T21:26:03.931541Z",
     "shell.execute_reply": "2025-02-20T21:26:03.931319Z"
    }
   },
   "outputs": [],
   "source": [
    "I2.fingerprint() == I.fingerprint()"
   ]
  },
  {
   "cell_type": "markdown",
   "metadata": {},
   "source": [
    "A custom merit function can be provided to give different output. Note that the fingerprint is always returned."
   ]
  },
  {
   "cell_type": "code",
   "execution_count": null,
   "metadata": {
    "execution": {
     "iopub.execute_input": "2025-02-20T21:26:03.932705Z",
     "iopub.status.busy": "2025-02-20T21:26:03.932633Z",
     "iopub.status.idle": "2025-02-20T21:26:04.107017Z",
     "shell.execute_reply": "2025-02-20T21:26:04.106718Z"
    }
   },
   "outputs": [],
   "source": [
    "# Custom merit function\n",
    "def my_merit(impact_object):\n",
    "    \"\"\"\n",
    "    Custom merit function.\n",
    "\n",
    "    Returns the maximum sigma_x seen\n",
    "\n",
    "    \"\"\"\n",
    "    d = {\"max_sigma_x\": I.stat(\"sigma_x\").max()}\n",
    "\n",
    "    return d\n",
    "\n",
    "\n",
    "evaluate_impact_with_distgen(\n",
    "    SETTINGS0, distgen_input_file=gfile, impact_config=ifile, merit_f=my_merit\n",
    ")"
   ]
  },
  {
   "cell_type": "code",
   "execution_count": null,
   "metadata": {
    "execution": {
     "iopub.execute_input": "2025-02-20T21:26:04.108291Z",
     "iopub.status.busy": "2025-02-20T21:26:04.108204Z",
     "iopub.status.idle": "2025-02-20T21:26:04.110158Z",
     "shell.execute_reply": "2025-02-20T21:26:04.109909Z"
    }
   },
   "outputs": [],
   "source": [
    "# Cleanup\n",
    "os.remove(O1[\"archive\"])\n",
    "os.remove(h5file)"
   ]
  }
 ],
 "metadata": {
  "kernelspec": {
   "display_name": "Python 3 (ipykernel)",
   "language": "python",
   "name": "python3"
  },
  "language_info": {
   "codemirror_mode": {
    "name": "ipython",
    "version": 3
   },
   "file_extension": ".py",
   "mimetype": "text/x-python",
   "name": "python",
   "nbconvert_exporter": "python",
   "pygments_lexer": "ipython3",
   "version": "3.12.8"
  }
 },
 "nbformat": 4,
 "nbformat_minor": 4
}
