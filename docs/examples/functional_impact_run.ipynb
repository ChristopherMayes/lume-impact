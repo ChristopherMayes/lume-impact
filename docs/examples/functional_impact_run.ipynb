{
 "cells": [
  {
   "cell_type": "markdown",
   "metadata": {},
   "source": [
    "# Functional example for LUME-Impact"
   ]
  },
  {
   "cell_type": "code",
   "execution_count": null,
   "metadata": {
    "execution": {
     "iopub.execute_input": "2025-02-12T18:07:07.343583Z",
     "iopub.status.busy": "2025-02-12T18:07:07.343128Z",
     "iopub.status.idle": "2025-02-12T18:07:08.385381Z",
     "shell.execute_reply": "2025-02-12T18:07:08.385052Z"
    }
   },
   "outputs": [],
   "source": [
    "from impact import Impact, run_impact_with_distgen, evaluate_impact_with_distgen\n",
    "import h5py\n",
    "import os\n",
    "\n",
    "# Nicer plotting\n",
    "import matplotlib\n",
    "\n",
    "%config InlineBackend.figure_format = 'retina'\n",
    "matplotlib.rcParams[\"figure.figsize\"] = (8, 4)"
   ]
  },
  {
   "cell_type": "code",
   "execution_count": null,
   "metadata": {
    "execution": {
     "iopub.execute_input": "2025-02-12T18:07:08.387006Z",
     "iopub.status.busy": "2025-02-12T18:07:08.386857Z",
     "iopub.status.idle": "2025-02-12T18:07:08.388745Z",
     "shell.execute_reply": "2025-02-12T18:07:08.388480Z"
    }
   },
   "outputs": [],
   "source": [
    "gfile = \"templates/lcls_injector/distgen.yaml\"\n",
    "ifile = \"templates/lcls_injector/ImpactT.yaml\""
   ]
  },
  {
   "cell_type": "markdown",
   "metadata": {},
   "source": [
    "# Functional run_impact_with_distgen\n",
    "\n",
    "This is a functional way to apply some settings to and run distgen and impact together.\n",
    "\n",
    "Any key with a prefix `distgen:` will send its suffix to distgen's Generator.\n",
    "\n",
    "Otherwise, any key that can be set with Impact's attr syntax can be used.\n",
    "\n"
   ]
  },
  {
   "cell_type": "code",
   "execution_count": null,
   "metadata": {
    "execution": {
     "iopub.execute_input": "2025-02-12T18:07:08.390012Z",
     "iopub.status.busy": "2025-02-12T18:07:08.389934Z",
     "iopub.status.idle": "2025-02-12T18:07:08.756869Z",
     "shell.execute_reply": "2025-02-12T18:07:08.756541Z"
    }
   },
   "outputs": [],
   "source": [
    "# Make some settings\n",
    "SETTINGS0 = {\n",
    "    \"distgen:n_particle\": 100,\n",
    "    \"total_charge\": 0,  # effectively turns spacecharge off\n",
    "    \"stop\": 0.02,\n",
    "    \"GUN_phase:autophase_deg\": 0,\n",
    "}\n",
    "\n",
    "\n",
    "# This returns an Impact object that has run\n",
    "I = run_impact_with_distgen(\n",
    "    settings=SETTINGS0,\n",
    "    distgen_input_file=gfile,\n",
    "    impact_config=ifile,\n",
    ")\n",
    "\n",
    "I.plot(\"mean_kinetic_energy\")\n",
    "I"
   ]
  },
  {
   "cell_type": "code",
   "execution_count": null,
   "metadata": {
    "execution": {
     "iopub.execute_input": "2025-02-12T18:07:08.758189Z",
     "iopub.status.busy": "2025-02-12T18:07:08.758069Z",
     "iopub.status.idle": "2025-02-12T18:07:08.804146Z",
     "shell.execute_reply": "2025-02-12T18:07:08.803881Z"
    }
   },
   "outputs": [],
   "source": [
    "h5file = I.archive()"
   ]
  },
  {
   "cell_type": "code",
   "execution_count": null,
   "metadata": {
    "execution": {
     "iopub.execute_input": "2025-02-12T18:07:08.805338Z",
     "iopub.status.busy": "2025-02-12T18:07:08.805261Z",
     "iopub.status.idle": "2025-02-12T18:07:08.807594Z",
     "shell.execute_reply": "2025-02-12T18:07:08.807351Z"
    }
   },
   "outputs": [],
   "source": [
    "with h5py.File(h5file, \"r\") as h5:\n",
    "    print(list(h5))"
   ]
  },
  {
   "cell_type": "code",
   "execution_count": null,
   "metadata": {
    "execution": {
     "iopub.execute_input": "2025-02-12T18:07:08.808757Z",
     "iopub.status.busy": "2025-02-12T18:07:08.808674Z",
     "iopub.status.idle": "2025-02-12T18:07:08.851800Z",
     "shell.execute_reply": "2025-02-12T18:07:08.851565Z"
    }
   },
   "outputs": [],
   "source": [
    "I.from_archive(h5file)\n",
    "I.output.keys()"
   ]
  },
  {
   "cell_type": "code",
   "execution_count": null,
   "metadata": {
    "execution": {
     "iopub.execute_input": "2025-02-12T18:07:08.852942Z",
     "iopub.status.busy": "2025-02-12T18:07:08.852867Z",
     "iopub.status.idle": "2025-02-12T18:07:08.983977Z",
     "shell.execute_reply": "2025-02-12T18:07:08.983402Z"
    }
   },
   "outputs": [],
   "source": [
    "I[\"total_charge\"] = 1\n",
    "I.write_input()\n",
    "!cat {I.path}/ImpactT.in"
   ]
  },
  {
   "cell_type": "markdown",
   "metadata": {},
   "source": [
    "# Functional evaluate_impact_with_distgen\n",
    "\n",
    "Similar to above, but reuruns a dict of common outputs, and an optinal archive file.\n",
    "\n",
    "This is useful in optimizations and creating datasets."
   ]
  },
  {
   "cell_type": "code",
   "execution_count": null,
   "metadata": {
    "execution": {
     "iopub.execute_input": "2025-02-12T18:07:08.986001Z",
     "iopub.status.busy": "2025-02-12T18:07:08.985812Z",
     "iopub.status.idle": "2025-02-12T18:07:09.215805Z",
     "shell.execute_reply": "2025-02-12T18:07:09.215508Z"
    }
   },
   "outputs": [],
   "source": [
    "# This returns an Impact object that has run\n",
    "O1 = evaluate_impact_with_distgen(\n",
    "    SETTINGS0, distgen_input_file=gfile, impact_config=ifile, archive_path=\".\"\n",
    ")\n",
    "\n",
    "# This is the default output\n",
    "O1"
   ]
  },
  {
   "cell_type": "code",
   "execution_count": null,
   "metadata": {
    "execution": {
     "iopub.execute_input": "2025-02-12T18:07:09.217095Z",
     "iopub.status.busy": "2025-02-12T18:07:09.216977Z",
     "iopub.status.idle": "2025-02-12T18:07:09.262006Z",
     "shell.execute_reply": "2025-02-12T18:07:09.261735Z"
    }
   },
   "outputs": [],
   "source": [
    "I2 = Impact.from_archive(O1[\"archive\"])"
   ]
  },
  {
   "cell_type": "code",
   "execution_count": null,
   "metadata": {
    "execution": {
     "iopub.execute_input": "2025-02-12T18:07:09.263171Z",
     "iopub.status.busy": "2025-02-12T18:07:09.263094Z",
     "iopub.status.idle": "2025-02-12T18:07:09.266052Z",
     "shell.execute_reply": "2025-02-12T18:07:09.265836Z"
    }
   },
   "outputs": [],
   "source": [
    "I2.fingerprint() == I.fingerprint()"
   ]
  },
  {
   "cell_type": "markdown",
   "metadata": {},
   "source": [
    "A custom merit function can be provided to give different output. Note that the fingerprint is always returned."
   ]
  },
  {
   "cell_type": "code",
   "execution_count": null,
   "metadata": {
    "execution": {
     "iopub.execute_input": "2025-02-12T18:07:09.267197Z",
     "iopub.status.busy": "2025-02-12T18:07:09.267125Z",
     "iopub.status.idle": "2025-02-12T18:07:09.439837Z",
     "shell.execute_reply": "2025-02-12T18:07:09.439520Z"
    }
   },
   "outputs": [],
   "source": [
    "# Custom merit function\n",
    "def my_merit(impact_object):\n",
    "    \"\"\"\n",
    "    Custom merit function.\n",
    "\n",
    "    Returns the maximum sigma_x seen\n",
    "\n",
    "    \"\"\"\n",
    "    d = {\"max_sigma_x\": I.stat(\"sigma_x\").max()}\n",
    "\n",
    "    return d\n",
    "\n",
    "\n",
    "evaluate_impact_with_distgen(\n",
    "    SETTINGS0, distgen_input_file=gfile, impact_config=ifile, merit_f=my_merit\n",
    ")"
   ]
  },
  {
   "cell_type": "code",
   "execution_count": null,
   "metadata": {
    "execution": {
     "iopub.execute_input": "2025-02-12T18:07:09.441257Z",
     "iopub.status.busy": "2025-02-12T18:07:09.441124Z",
     "iopub.status.idle": "2025-02-12T18:07:09.443215Z",
     "shell.execute_reply": "2025-02-12T18:07:09.442942Z"
    }
   },
   "outputs": [],
   "source": [
    "# Cleanup\n",
    "os.remove(O1[\"archive\"])\n",
    "os.remove(h5file)"
   ]
  }
 ],
 "metadata": {
  "kernelspec": {
   "display_name": "Python 3 (ipykernel)",
   "language": "python",
   "name": "python3"
  },
  "language_info": {
   "codemirror_mode": {
    "name": "ipython",
    "version": 3
   },
   "file_extension": ".py",
   "mimetype": "text/x-python",
   "name": "python",
   "nbconvert_exporter": "python",
   "pygments_lexer": "ipython3",
   "version": "3.12.8"
  }
 },
 "nbformat": 4,
 "nbformat_minor": 4
}
