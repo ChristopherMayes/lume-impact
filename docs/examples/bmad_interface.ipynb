{
 "cells": [
  {
   "cell_type": "markdown",
   "id": "c14daa14-d609-487b-8275-d5e209cc4005",
   "metadata": {},
   "source": [
    "# Bmad interface\n",
    "\n",
    "[PyTao](https://bmad-sim.github.io/pytao/), based on Bmad, can be used to create an Impact-T lattice. This is a simple example of a FODO lattice in Bmad, converted to Impact-T."
   ]
  },
  {
   "cell_type": "code",
   "execution_count": null,
   "id": "ec0f754d-1609-4c73-b29a-27da88e63c67",
   "metadata": {
    "execution": {
     "iopub.execute_input": "2025-02-20T21:19:50.905226Z",
     "iopub.status.busy": "2025-02-20T21:19:50.904759Z",
     "iopub.status.idle": "2025-02-20T21:19:52.069537Z",
     "shell.execute_reply": "2025-02-20T21:19:52.069128Z"
    }
   },
   "outputs": [],
   "source": [
    "from pytao import Tao\n",
    "from impact import Impact\n",
    "import matplotlib.pyplot as plt"
   ]
  },
  {
   "cell_type": "markdown",
   "id": "44366afa-1b47-4f22-893c-fa182b27123d",
   "metadata": {},
   "source": [
    "# Bmad lattice "
   ]
  },
  {
   "cell_type": "code",
   "execution_count": null,
   "id": "0845d8f9-ca7b-4706-9c9f-71be0cecde58",
   "metadata": {
    "execution": {
     "iopub.execute_input": "2025-02-20T21:19:52.071113Z",
     "iopub.status.busy": "2025-02-20T21:19:52.070982Z",
     "iopub.status.idle": "2025-02-20T21:19:52.073129Z",
     "shell.execute_reply": "2025-02-20T21:19:52.072859Z"
    }
   },
   "outputs": [],
   "source": [
    "LAT = \"\"\"\n",
    "no_digested\n",
    "beginning[beta_a] = 10\n",
    "beginning[beta_b] = 10\n",
    "beginning[e_tot] = 10e6\n",
    "parameter[particle] = electron\n",
    "parameter[geometry] = open\n",
    "\n",
    "d1: drift, L = 1\n",
    "d2: d1\n",
    "qf: quad, L = 0.1, k1 = 1\n",
    "qd: qf, k1 = -1\n",
    "\n",
    "fodo: line = (d1, qf, d2, qd)\n",
    "\n",
    "lat: line = (2*fodo)\n",
    "\n",
    "use, lat\n",
    "\n",
    "\"\"\"\n",
    "LATFILE = \"lat.bmad\"\n",
    "with open(LATFILE, \"w\") as f:\n",
    "    f.write(LAT)"
   ]
  },
  {
   "cell_type": "code",
   "execution_count": null,
   "id": "da64bd49-d1d9-4a2b-83cd-7a0c940a7ab7",
   "metadata": {
    "execution": {
     "iopub.execute_input": "2025-02-20T21:19:52.074307Z",
     "iopub.status.busy": "2025-02-20T21:19:52.074219Z",
     "iopub.status.idle": "2025-02-20T21:19:52.117495Z",
     "shell.execute_reply": "2025-02-20T21:19:52.117250Z"
    }
   },
   "outputs": [],
   "source": [
    "tao = Tao(f\"-lat {LATFILE} -noplot\")\n",
    "tao.cmd(\"set particle_start x = 1e-3\")"
   ]
  },
  {
   "cell_type": "markdown",
   "id": "ce7151ee-c581-486f-a5b0-75dee6c66891",
   "metadata": {},
   "source": [
    "# Impact-T from Bmad "
   ]
  },
  {
   "cell_type": "code",
   "execution_count": null,
   "id": "f4fc6bf1-4f62-41b7-9af7-9727a28897d6",
   "metadata": {
    "execution": {
     "iopub.execute_input": "2025-02-20T21:19:52.118628Z",
     "iopub.status.busy": "2025-02-20T21:19:52.118534Z",
     "iopub.status.idle": "2025-02-20T21:19:52.190474Z",
     "shell.execute_reply": "2025-02-20T21:19:52.190062Z"
    }
   },
   "outputs": [],
   "source": [
    "I = Impact.from_tao(tao)\n",
    "\n",
    "I.track1(x0=1e-3, pz0=10e6)"
   ]
  },
  {
   "cell_type": "code",
   "execution_count": null,
   "id": "63c266ae-5542-4d25-93c7-646f4543b9f4",
   "metadata": {
    "execution": {
     "iopub.execute_input": "2025-02-20T21:19:52.191926Z",
     "iopub.status.busy": "2025-02-20T21:19:52.191805Z",
     "iopub.status.idle": "2025-02-20T21:19:52.398300Z",
     "shell.execute_reply": "2025-02-20T21:19:52.398031Z"
    }
   },
   "outputs": [],
   "source": [
    "I.plot(\"mean_x\", include_labels=True)"
   ]
  },
  {
   "cell_type": "markdown",
   "id": "6b8988cd-2742-4f0d-a2da-3fa5d0eb9a07",
   "metadata": {},
   "source": [
    "# Compare"
   ]
  },
  {
   "cell_type": "code",
   "execution_count": null,
   "id": "38edd77e-e92f-4a0a-ac69-52982b61ebbb",
   "metadata": {
    "execution": {
     "iopub.execute_input": "2025-02-20T21:19:52.399714Z",
     "iopub.status.busy": "2025-02-20T21:19:52.399616Z",
     "iopub.status.idle": "2025-02-20T21:19:52.474296Z",
     "shell.execute_reply": "2025-02-20T21:19:52.474028Z"
    }
   },
   "outputs": [],
   "source": [
    "s1 = tao.lat_list(\"*\", \"ele.s\")\n",
    "x1 = tao.lat_list(\"*\", \"orbit.vec.1\")\n",
    "\n",
    "z2 = I.stat(\"mean_z\")\n",
    "x2 = I.stat(\"mean_x\")\n",
    "\n",
    "fix, ax = plt.subplots()\n",
    "ax.plot(s1, x1 * 1e3, marker=\".\", label=\"Bmad\")\n",
    "ax.plot(z2, x2 * 1e3, label=\"Impact-T\")\n",
    "plt.legend()\n",
    "ax.set_xlabel(r\"$z$ (m)\")\n",
    "ax.set_ylabel(r\"$x$ (mm)\")"
   ]
  },
  {
   "cell_type": "markdown",
   "id": "534a478d-b543-471f-9c0b-5c8bae020f61",
   "metadata": {},
   "source": [
    "# Cleanup"
   ]
  },
  {
   "cell_type": "code",
   "execution_count": null,
   "id": "6c06c541-852a-4747-915d-fdecac847807",
   "metadata": {
    "execution": {
     "iopub.execute_input": "2025-02-20T21:19:52.475727Z",
     "iopub.status.busy": "2025-02-20T21:19:52.475599Z",
     "iopub.status.idle": "2025-02-20T21:19:52.477352Z",
     "shell.execute_reply": "2025-02-20T21:19:52.477130Z"
    }
   },
   "outputs": [],
   "source": [
    "import os\n",
    "\n",
    "os.remove(\"lat.bmad\")"
   ]
  }
 ],
 "metadata": {
  "kernelspec": {
   "display_name": "Python 3 (ipykernel)",
   "language": "python",
   "name": "python3"
  },
  "language_info": {
   "codemirror_mode": {
    "name": "ipython",
    "version": 3
   },
   "file_extension": ".py",
   "mimetype": "text/x-python",
   "name": "python",
   "nbconvert_exporter": "python",
   "pygments_lexer": "ipython3",
   "version": "3.12.8"
  }
 },
 "nbformat": 4,
 "nbformat_minor": 5
}
