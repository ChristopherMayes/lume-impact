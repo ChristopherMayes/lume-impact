{
 "cells": [
  {
   "cell_type": "markdown",
   "metadata": {},
   "source": [
    "# APEX Gun "
   ]
  },
  {
   "cell_type": "code",
   "execution_count": null,
   "metadata": {
    "execution": {
     "iopub.execute_input": "2024-10-18T19:52:58.007809Z",
     "iopub.status.busy": "2024-10-18T19:52:58.007680Z",
     "iopub.status.idle": "2024-10-18T19:52:58.253456Z",
     "shell.execute_reply": "2024-10-18T19:52:58.253206Z"
    }
   },
   "outputs": [],
   "source": [
    "import matplotlib.pyplot as plt\n",
    "import matplotlib\n",
    "\n",
    "matplotlib.rcParams[\"figure.figsize\"] = (6, 6)\n",
    "%config InlineBackend.figure_format = 'retina'\n",
    "\n",
    "NUMPROCS = 0"
   ]
  },
  {
   "cell_type": "code",
   "execution_count": null,
   "metadata": {
    "execution": {
     "iopub.execute_input": "2024-10-18T19:52:58.255112Z",
     "iopub.status.busy": "2024-10-18T19:52:58.254991Z",
     "iopub.status.idle": "2024-10-18T19:52:58.893907Z",
     "shell.execute_reply": "2024-10-18T19:52:58.893603Z"
    }
   },
   "outputs": [],
   "source": [
    "from distgen import Generator\n",
    "\n",
    "G = Generator(\"distgen_laser.yaml\")\n",
    "G[\"n_particle\"] = 100000\n",
    "G"
   ]
  },
  {
   "cell_type": "code",
   "execution_count": null,
   "metadata": {
    "execution": {
     "iopub.execute_input": "2024-10-18T19:52:58.914325Z",
     "iopub.status.busy": "2024-10-18T19:52:58.914123Z",
     "iopub.status.idle": "2024-10-18T19:52:59.038514Z",
     "shell.execute_reply": "2024-10-18T19:52:59.038250Z"
    }
   },
   "outputs": [],
   "source": [
    "G.run()\n",
    "G.particles"
   ]
  },
  {
   "cell_type": "code",
   "execution_count": null,
   "metadata": {
    "execution": {
     "iopub.execute_input": "2024-10-18T19:52:59.039974Z",
     "iopub.status.busy": "2024-10-18T19:52:59.039888Z",
     "iopub.status.idle": "2024-10-18T19:52:59.315668Z",
     "shell.execute_reply": "2024-10-18T19:52:59.315418Z"
    }
   },
   "outputs": [],
   "source": [
    "G.particles.plot(\"x\", \"y\", bins=50)"
   ]
  },
  {
   "cell_type": "code",
   "execution_count": null,
   "metadata": {
    "execution": {
     "iopub.execute_input": "2024-10-18T19:52:59.317726Z",
     "iopub.status.busy": "2024-10-18T19:52:59.317641Z",
     "iopub.status.idle": "2024-10-18T19:52:59.322322Z",
     "shell.execute_reply": "2024-10-18T19:52:59.322099Z"
    }
   },
   "outputs": [],
   "source": [
    "from impact import Impact"
   ]
  },
  {
   "cell_type": "code",
   "execution_count": null,
   "metadata": {
    "execution": {
     "iopub.execute_input": "2024-10-18T19:52:59.323657Z",
     "iopub.status.busy": "2024-10-18T19:52:59.323567Z",
     "iopub.status.idle": "2024-10-18T19:52:59.325869Z",
     "shell.execute_reply": "2024-10-18T19:52:59.325679Z"
    }
   },
   "outputs": [],
   "source": [
    "I = Impact(\"ImpactT.in\", initial_particles=G.particles)"
   ]
  },
  {
   "cell_type": "code",
   "execution_count": null,
   "metadata": {
    "execution": {
     "iopub.execute_input": "2024-10-18T19:52:59.327143Z",
     "iopub.status.busy": "2024-10-18T19:52:59.327070Z",
     "iopub.status.idle": "2024-10-18T19:52:59.328546Z",
     "shell.execute_reply": "2024-10-18T19:52:59.328313Z"
    }
   },
   "outputs": [],
   "source": [
    "# Turn space charge off\n",
    "I.total_charge = 0\n",
    "I.stop = 0.5\n",
    "I.numprocs = NUMPROCS"
   ]
  },
  {
   "cell_type": "code",
   "execution_count": null,
   "metadata": {
    "execution": {
     "iopub.execute_input": "2024-10-18T19:52:59.329690Z",
     "iopub.status.busy": "2024-10-18T19:52:59.329619Z",
     "iopub.status.idle": "2024-10-18T19:53:29.336272Z",
     "shell.execute_reply": "2024-10-18T19:53:29.335966Z"
    }
   },
   "outputs": [],
   "source": [
    "%%time\n",
    "I.run()"
   ]
  },
  {
   "cell_type": "code",
   "execution_count": null,
   "metadata": {
    "execution": {
     "iopub.execute_input": "2024-10-18T19:53:29.337896Z",
     "iopub.status.busy": "2024-10-18T19:53:29.337772Z",
     "iopub.status.idle": "2024-10-18T19:53:29.340015Z",
     "shell.execute_reply": "2024-10-18T19:53:29.339785Z"
    }
   },
   "outputs": [],
   "source": [
    "I.output.keys()"
   ]
  },
  {
   "cell_type": "code",
   "execution_count": null,
   "metadata": {
    "execution": {
     "iopub.execute_input": "2024-10-18T19:53:29.341351Z",
     "iopub.status.busy": "2024-10-18T19:53:29.341251Z",
     "iopub.status.idle": "2024-10-18T19:53:29.736615Z",
     "shell.execute_reply": "2024-10-18T19:53:29.736328Z"
    }
   },
   "outputs": [],
   "source": [
    "fig = I.plot(\n",
    "    y=[\"norm_emit_x\", \"norm_emit_y\"],\n",
    "    y2=[\"sigma_x\", \"sigma_y\"],\n",
    "    xlim=(1e-3, 0.6),\n",
    "    ylim=(0, 6e-6),\n",
    "    ylim2=(0, 800e-6),\n",
    "    figsize=(6, 6),\n",
    "    return_figure=True,\n",
    ")\n",
    "# fig.axes[0].set_title('LUME-Impact')\n",
    "plt.savefig(\"apex-gun-lume-impact.png\", dpi=150, bbox_inches=\"tight\")"
   ]
  },
  {
   "cell_type": "code",
   "execution_count": null,
   "metadata": {
    "execution": {
     "iopub.execute_input": "2024-10-18T19:53:29.738286Z",
     "iopub.status.busy": "2024-10-18T19:53:29.738180Z",
     "iopub.status.idle": "2024-10-18T19:53:29.952212Z",
     "shell.execute_reply": "2024-10-18T19:53:29.951980Z"
    }
   },
   "outputs": [],
   "source": [
    "I.particles[\"final_particles\"].plot(\"x\", \"y\", bins=50)"
   ]
  }
 ],
 "metadata": {
  "kernelspec": {
   "display_name": "Python 3 (ipykernel)",
   "language": "python",
   "name": "python3"
  },
  "language_info": {
   "codemirror_mode": {
    "name": "ipython",
    "version": 3
   },
   "file_extension": ".py",
   "mimetype": "text/x-python",
   "name": "python",
   "nbconvert_exporter": "python",
   "pygments_lexer": "ipython3",
   "version": "3.12.6"
  }
 },
 "nbformat": 4,
 "nbformat_minor": 4
}
