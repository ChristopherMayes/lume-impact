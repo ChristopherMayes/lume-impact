{
 "cells": [
  {
   "cell_type": "markdown",
   "metadata": {},
   "source": [
    "# APEX Gun "
   ]
  },
  {
   "cell_type": "code",
   "execution_count": null,
   "metadata": {
    "execution": {
     "iopub.execute_input": "2025-02-20T21:31:03.226375Z",
     "iopub.status.busy": "2025-02-20T21:31:03.225968Z",
     "iopub.status.idle": "2025-02-20T21:31:03.505253Z",
     "shell.execute_reply": "2025-02-20T21:31:03.504876Z"
    }
   },
   "outputs": [],
   "source": [
    "import matplotlib.pyplot as plt\n",
    "import matplotlib\n",
    "\n",
    "matplotlib.rcParams[\"figure.figsize\"] = (6, 6)\n",
    "%config InlineBackend.figure_format = 'retina'\n",
    "\n",
    "NUMPROCS = 0"
   ]
  },
  {
   "cell_type": "code",
   "execution_count": null,
   "metadata": {
    "execution": {
     "iopub.execute_input": "2025-02-20T21:31:03.506778Z",
     "iopub.status.busy": "2025-02-20T21:31:03.506673Z",
     "iopub.status.idle": "2025-02-20T21:31:04.139297Z",
     "shell.execute_reply": "2025-02-20T21:31:04.139056Z"
    }
   },
   "outputs": [],
   "source": [
    "from distgen import Generator\n",
    "\n",
    "G = Generator(\"distgen_laser.yaml\")\n",
    "G[\"n_particle\"] = 100000\n",
    "G"
   ]
  },
  {
   "cell_type": "code",
   "execution_count": null,
   "metadata": {
    "execution": {
     "iopub.execute_input": "2025-02-20T21:31:04.159150Z",
     "iopub.status.busy": "2025-02-20T21:31:04.158951Z",
     "iopub.status.idle": "2025-02-20T21:31:04.281841Z",
     "shell.execute_reply": "2025-02-20T21:31:04.281577Z"
    }
   },
   "outputs": [],
   "source": [
    "G.run()\n",
    "G.particles"
   ]
  },
  {
   "cell_type": "code",
   "execution_count": null,
   "metadata": {
    "execution": {
     "iopub.execute_input": "2025-02-20T21:31:04.283219Z",
     "iopub.status.busy": "2025-02-20T21:31:04.283107Z",
     "iopub.status.idle": "2025-02-20T21:31:04.563295Z",
     "shell.execute_reply": "2025-02-20T21:31:04.563003Z"
    }
   },
   "outputs": [],
   "source": [
    "G.particles.plot(\"x\", \"y\", bins=50)"
   ]
  },
  {
   "cell_type": "code",
   "execution_count": null,
   "metadata": {
    "execution": {
     "iopub.execute_input": "2025-02-20T21:31:04.565162Z",
     "iopub.status.busy": "2025-02-20T21:31:04.565081Z",
     "iopub.status.idle": "2025-02-20T21:31:04.811088Z",
     "shell.execute_reply": "2025-02-20T21:31:04.810707Z"
    }
   },
   "outputs": [],
   "source": [
    "from impact import Impact"
   ]
  },
  {
   "cell_type": "code",
   "execution_count": null,
   "metadata": {
    "execution": {
     "iopub.execute_input": "2025-02-20T21:31:04.812523Z",
     "iopub.status.busy": "2025-02-20T21:31:04.812432Z",
     "iopub.status.idle": "2025-02-20T21:31:04.814893Z",
     "shell.execute_reply": "2025-02-20T21:31:04.814667Z"
    }
   },
   "outputs": [],
   "source": [
    "I = Impact(\"ImpactT.in\", initial_particles=G.particles)"
   ]
  },
  {
   "cell_type": "code",
   "execution_count": null,
   "metadata": {
    "execution": {
     "iopub.execute_input": "2025-02-20T21:31:04.816041Z",
     "iopub.status.busy": "2025-02-20T21:31:04.815972Z",
     "iopub.status.idle": "2025-02-20T21:31:04.817583Z",
     "shell.execute_reply": "2025-02-20T21:31:04.817329Z"
    }
   },
   "outputs": [],
   "source": [
    "# Turn space charge off\n",
    "I.total_charge = 0\n",
    "I.stop = 0.5\n",
    "I.numprocs = NUMPROCS"
   ]
  },
  {
   "cell_type": "code",
   "execution_count": null,
   "metadata": {
    "execution": {
     "iopub.execute_input": "2025-02-20T21:31:04.818782Z",
     "iopub.status.busy": "2025-02-20T21:31:04.818701Z",
     "iopub.status.idle": "2025-02-20T21:32:38.802549Z",
     "shell.execute_reply": "2025-02-20T21:32:38.802219Z"
    }
   },
   "outputs": [],
   "source": [
    "%%time\n",
    "I.run()"
   ]
  },
  {
   "cell_type": "code",
   "execution_count": null,
   "metadata": {
    "execution": {
     "iopub.execute_input": "2025-02-20T21:32:38.803979Z",
     "iopub.status.busy": "2025-02-20T21:32:38.803852Z",
     "iopub.status.idle": "2025-02-20T21:32:38.806235Z",
     "shell.execute_reply": "2025-02-20T21:32:38.805970Z"
    }
   },
   "outputs": [],
   "source": [
    "I.output.keys()"
   ]
  },
  {
   "cell_type": "code",
   "execution_count": null,
   "metadata": {
    "execution": {
     "iopub.execute_input": "2025-02-20T21:32:38.807407Z",
     "iopub.status.busy": "2025-02-20T21:32:38.807318Z",
     "iopub.status.idle": "2025-02-20T21:32:39.153924Z",
     "shell.execute_reply": "2025-02-20T21:32:39.153666Z"
    }
   },
   "outputs": [],
   "source": [
    "fig = I.plot(\n",
    "    y=[\"norm_emit_x\", \"norm_emit_y\"],\n",
    "    y2=[\"sigma_x\", \"sigma_y\"],\n",
    "    xlim=(1e-3, 0.6),\n",
    "    ylim=(0, 6e-6),\n",
    "    ylim2=(0, 800e-6),\n",
    "    figsize=(6, 6),\n",
    "    return_figure=True,\n",
    ")\n",
    "# fig.axes[0].set_title('LUME-Impact')\n",
    "plt.savefig(\"apex-gun-lume-impact.png\", dpi=150, bbox_inches=\"tight\")"
   ]
  },
  {
   "cell_type": "code",
   "execution_count": null,
   "metadata": {
    "execution": {
     "iopub.execute_input": "2025-02-20T21:32:39.155395Z",
     "iopub.status.busy": "2025-02-20T21:32:39.155282Z",
     "iopub.status.idle": "2025-02-20T21:32:39.387970Z",
     "shell.execute_reply": "2025-02-20T21:32:39.387704Z"
    }
   },
   "outputs": [],
   "source": [
    "I.particles[\"final_particles\"].plot(\"x\", \"y\", bins=50)"
   ]
  }
 ],
 "metadata": {
  "kernelspec": {
   "display_name": "Python 3 (ipykernel)",
   "language": "python",
   "name": "python3"
  },
  "language_info": {
   "codemirror_mode": {
    "name": "ipython",
    "version": 3
   },
   "file_extension": ".py",
   "mimetype": "text/x-python",
   "name": "python",
   "nbconvert_exporter": "python",
   "pygments_lexer": "ipython3",
   "version": "3.12.8"
  }
 },
 "nbformat": 4,
 "nbformat_minor": 4
}
