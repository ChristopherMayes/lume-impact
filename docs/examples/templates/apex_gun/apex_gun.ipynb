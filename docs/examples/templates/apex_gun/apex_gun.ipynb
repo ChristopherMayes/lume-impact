{
 "cells": [
  {
   "cell_type": "markdown",
   "metadata": {},
   "source": [
    "# APEX Gun "
   ]
  },
  {
   "cell_type": "code",
   "execution_count": null,
   "metadata": {
    "execution": {
     "iopub.execute_input": "2025-02-12T18:10:15.610011Z",
     "iopub.status.busy": "2025-02-12T18:10:15.609891Z",
     "iopub.status.idle": "2025-02-12T18:10:15.892518Z",
     "shell.execute_reply": "2025-02-12T18:10:15.892150Z"
    }
   },
   "outputs": [],
   "source": [
    "import matplotlib.pyplot as plt\n",
    "import matplotlib\n",
    "\n",
    "matplotlib.rcParams[\"figure.figsize\"] = (6, 6)\n",
    "%config InlineBackend.figure_format = 'retina'\n",
    "\n",
    "NUMPROCS = 0"
   ]
  },
  {
   "cell_type": "code",
   "execution_count": null,
   "metadata": {
    "execution": {
     "iopub.execute_input": "2025-02-12T18:10:15.895083Z",
     "iopub.status.busy": "2025-02-12T18:10:15.894617Z",
     "iopub.status.idle": "2025-02-12T18:10:16.684611Z",
     "shell.execute_reply": "2025-02-12T18:10:16.684275Z"
    }
   },
   "outputs": [],
   "source": [
    "from distgen import Generator\n",
    "\n",
    "G = Generator(\"distgen_laser.yaml\")\n",
    "G[\"n_particle\"] = 100000\n",
    "G"
   ]
  },
  {
   "cell_type": "code",
   "execution_count": null,
   "metadata": {
    "execution": {
     "iopub.execute_input": "2025-02-12T18:10:16.707412Z",
     "iopub.status.busy": "2025-02-12T18:10:16.707129Z",
     "iopub.status.idle": "2025-02-12T18:10:16.833924Z",
     "shell.execute_reply": "2025-02-12T18:10:16.833548Z"
    }
   },
   "outputs": [],
   "source": [
    "G.run()\n",
    "G.particles"
   ]
  },
  {
   "cell_type": "code",
   "execution_count": null,
   "metadata": {
    "execution": {
     "iopub.execute_input": "2025-02-12T18:10:16.835611Z",
     "iopub.status.busy": "2025-02-12T18:10:16.835473Z",
     "iopub.status.idle": "2025-02-12T18:10:17.125810Z",
     "shell.execute_reply": "2025-02-12T18:10:17.125359Z"
    }
   },
   "outputs": [],
   "source": [
    "G.particles.plot(\"x\", \"y\", bins=50)"
   ]
  },
  {
   "cell_type": "code",
   "execution_count": null,
   "metadata": {
    "execution": {
     "iopub.execute_input": "2025-02-12T18:10:17.127746Z",
     "iopub.status.busy": "2025-02-12T18:10:17.127619Z",
     "iopub.status.idle": "2025-02-12T18:10:17.403558Z",
     "shell.execute_reply": "2025-02-12T18:10:17.403138Z"
    }
   },
   "outputs": [],
   "source": [
    "from impact import Impact"
   ]
  },
  {
   "cell_type": "code",
   "execution_count": null,
   "metadata": {
    "execution": {
     "iopub.execute_input": "2025-02-12T18:10:17.404993Z",
     "iopub.status.busy": "2025-02-12T18:10:17.404884Z",
     "iopub.status.idle": "2025-02-12T18:10:17.407668Z",
     "shell.execute_reply": "2025-02-12T18:10:17.407458Z"
    }
   },
   "outputs": [],
   "source": [
    "I = Impact(\"ImpactT.in\", initial_particles=G.particles)"
   ]
  },
  {
   "cell_type": "code",
   "execution_count": null,
   "metadata": {
    "execution": {
     "iopub.execute_input": "2025-02-12T18:10:17.408730Z",
     "iopub.status.busy": "2025-02-12T18:10:17.408650Z",
     "iopub.status.idle": "2025-02-12T18:10:17.410201Z",
     "shell.execute_reply": "2025-02-12T18:10:17.410004Z"
    }
   },
   "outputs": [],
   "source": [
    "# Turn space charge off\n",
    "I.total_charge = 0\n",
    "I.stop = 0.5\n",
    "I.numprocs = NUMPROCS"
   ]
  },
  {
   "cell_type": "code",
   "execution_count": null,
   "metadata": {
    "execution": {
     "iopub.execute_input": "2025-02-12T18:10:17.411254Z",
     "iopub.status.busy": "2025-02-12T18:10:17.411165Z",
     "iopub.status.idle": "2025-02-12T18:12:15.753529Z",
     "shell.execute_reply": "2025-02-12T18:12:15.753154Z"
    }
   },
   "outputs": [],
   "source": [
    "%%time\n",
    "I.run()"
   ]
  },
  {
   "cell_type": "code",
   "execution_count": null,
   "metadata": {
    "execution": {
     "iopub.execute_input": "2025-02-12T18:12:15.755018Z",
     "iopub.status.busy": "2025-02-12T18:12:15.754887Z",
     "iopub.status.idle": "2025-02-12T18:12:15.757282Z",
     "shell.execute_reply": "2025-02-12T18:12:15.757067Z"
    }
   },
   "outputs": [],
   "source": [
    "I.output.keys()"
   ]
  },
  {
   "cell_type": "code",
   "execution_count": null,
   "metadata": {
    "execution": {
     "iopub.execute_input": "2025-02-12T18:12:15.758430Z",
     "iopub.status.busy": "2025-02-12T18:12:15.758339Z",
     "iopub.status.idle": "2025-02-12T18:12:16.109543Z",
     "shell.execute_reply": "2025-02-12T18:12:16.109258Z"
    }
   },
   "outputs": [],
   "source": [
    "fig = I.plot(\n",
    "    y=[\"norm_emit_x\", \"norm_emit_y\"],\n",
    "    y2=[\"sigma_x\", \"sigma_y\"],\n",
    "    xlim=(1e-3, 0.6),\n",
    "    ylim=(0, 6e-6),\n",
    "    ylim2=(0, 800e-6),\n",
    "    figsize=(6, 6),\n",
    "    return_figure=True,\n",
    ")\n",
    "# fig.axes[0].set_title('LUME-Impact')\n",
    "plt.savefig(\"apex-gun-lume-impact.png\", dpi=150, bbox_inches=\"tight\")"
   ]
  },
  {
   "cell_type": "code",
   "execution_count": null,
   "metadata": {
    "execution": {
     "iopub.execute_input": "2025-02-12T18:12:16.111064Z",
     "iopub.status.busy": "2025-02-12T18:12:16.110954Z",
     "iopub.status.idle": "2025-02-12T18:12:16.348698Z",
     "shell.execute_reply": "2025-02-12T18:12:16.348399Z"
    }
   },
   "outputs": [],
   "source": [
    "I.particles[\"final_particles\"].plot(\"x\", \"y\", bins=50)"
   ]
  }
 ],
 "metadata": {
  "kernelspec": {
   "display_name": "Python 3 (ipykernel)",
   "language": "python",
   "name": "python3"
  },
  "language_info": {
   "codemirror_mode": {
    "name": "ipython",
    "version": 3
   },
   "file_extension": ".py",
   "mimetype": "text/x-python",
   "name": "python",
   "nbconvert_exporter": "python",
   "pygments_lexer": "ipython3",
   "version": "3.12.8"
  }
 },
 "nbformat": 4,
 "nbformat_minor": 4
}
