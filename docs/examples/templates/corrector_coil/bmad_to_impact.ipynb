{
 "cells": [
  {
   "cell_type": "markdown",
   "id": "87f8480c-f553-4f1b-a7c3-ec02944098b0",
   "metadata": {},
   "source": [
    "# Bmad to Impact-T"
   ]
  },
  {
   "cell_type": "code",
   "execution_count": null,
   "id": "afd38d06-be82-4415-bba9-1a0d4ba4287b",
   "metadata": {
    "execution": {
     "iopub.execute_input": "2024-10-18T19:52:52.293638Z",
     "iopub.status.busy": "2024-10-18T19:52:52.293113Z",
     "iopub.status.idle": "2024-10-18T19:52:53.522120Z",
     "shell.execute_reply": "2024-10-18T19:52:53.521835Z"
    }
   },
   "outputs": [],
   "source": [
    "from pytao import Tao\n",
    "from pmd_beamphysics import FieldMesh\n",
    "import numpy as np\n",
    "import os\n",
    "\n",
    "from impact.interfaces.bmad import (\n",
    "    tao_create_impact_emfield_cartesian_ele,\n",
    "    tao_create_impact_lattice_and_fieldmaps,\n",
    "    impact_from_tao,\n",
    ")\n",
    "from pmd_beamphysics.fields.corrector_modeling import make_dipole_corrector_fieldmesh\n",
    "\n",
    "\n",
    "import matplotlib.pyplot as plt"
   ]
  },
  {
   "cell_type": "code",
   "execution_count": null,
   "id": "4a1e110f-7a56-4472-b907-f873dc199813",
   "metadata": {
    "execution": {
     "iopub.execute_input": "2024-10-18T19:52:53.524093Z",
     "iopub.status.busy": "2024-10-18T19:52:53.523911Z",
     "iopub.status.idle": "2024-10-18T19:52:54.452138Z",
     "shell.execute_reply": "2024-10-18T19:52:54.451841Z"
    }
   },
   "outputs": [],
   "source": [
    "R = 2 * 2.54e-2  # 2\" radius [m]\n",
    "L = 0.1  # Length along z [m]\n",
    "theta = np.pi / 2  # Opening angle [rad]\n",
    "current = 100  # Current [Amp]\n",
    "\n",
    "FM1 = make_dipole_corrector_fieldmesh(\n",
    "    current=current,\n",
    "    xmin=-R,\n",
    "    xmax=R,\n",
    "    nx=21,\n",
    "    ymin=-R,\n",
    "    ymax=R,\n",
    "    ny=21,\n",
    "    zmin=-5 * L / 2,\n",
    "    zmax=5 * L / 2,\n",
    "    nz=101,\n",
    "    mode=\"saddle\",\n",
    "    R=R,\n",
    "    L=L,\n",
    "    theta=theta,\n",
    "    npts=20,\n",
    "    plot_wire=True,\n",
    "    tilt=0,\n",
    ")\n",
    "FM2 = make_dipole_corrector_fieldmesh(\n",
    "    current=current,\n",
    "    xmin=-R,\n",
    "    xmax=R,\n",
    "    nx=21,\n",
    "    ymin=-R,\n",
    "    ymax=R,\n",
    "    ny=21,\n",
    "    zmin=-5 * L / 2,\n",
    "    zmax=5 * L / 2,\n",
    "    nz=101,\n",
    "    mode=\"saddle\",\n",
    "    R=R,\n",
    "    L=L,\n",
    "    theta=theta,\n",
    "    npts=20,\n",
    "    plot_wire=True,\n",
    "    tilt=np.pi / 2,\n",
    ")"
   ]
  },
  {
   "cell_type": "markdown",
   "id": "d293bd33-76b1-4956-80a2-26cf81ee042a",
   "metadata": {},
   "source": [
    "Write for Bmad"
   ]
  },
  {
   "cell_type": "code",
   "execution_count": null,
   "id": "dd409ce9-d812-43e0-87a8-a1af539f8ad4",
   "metadata": {
    "execution": {
     "iopub.execute_input": "2024-10-18T19:52:54.453574Z",
     "iopub.status.busy": "2024-10-18T19:52:54.453467Z",
     "iopub.status.idle": "2024-10-18T19:52:54.460943Z",
     "shell.execute_reply": "2024-10-18T19:52:54.460719Z"
    }
   },
   "outputs": [],
   "source": [
    "FM1.write(\"correctorcoil_horizontal.h5\")\n",
    "FM2.write(\"correctorcoil_vertical.h5\")"
   ]
  },
  {
   "cell_type": "markdown",
   "id": "c88137fc-8ed0-4016-9ee8-b588057db16f",
   "metadata": {},
   "source": [
    "# Run Tao"
   ]
  },
  {
   "cell_type": "code",
   "execution_count": null,
   "id": "7413b9d2-754b-4717-8ec6-4ee8215811b0",
   "metadata": {
    "execution": {
     "iopub.execute_input": "2024-10-18T19:52:54.462344Z",
     "iopub.status.busy": "2024-10-18T19:52:54.462243Z",
     "iopub.status.idle": "2024-10-18T19:52:54.777644Z",
     "shell.execute_reply": "2024-10-18T19:52:54.777393Z"
    }
   },
   "outputs": [],
   "source": [
    "tao = Tao(lattice_file=\"lat.bmad\", noplot=True)"
   ]
  },
  {
   "cell_type": "code",
   "execution_count": null,
   "id": "f4e7fa2a-0be0-4e78-b0ab-787ca9b13c1a",
   "metadata": {
    "execution": {
     "iopub.execute_input": "2024-10-18T19:52:54.779197Z",
     "iopub.status.busy": "2024-10-18T19:52:54.779104Z",
     "iopub.status.idle": "2024-10-18T19:52:54.780859Z",
     "shell.execute_reply": "2024-10-18T19:52:54.780644Z"
    }
   },
   "outputs": [],
   "source": [
    "IX_ELE = 2"
   ]
  },
  {
   "cell_type": "code",
   "execution_count": null,
   "id": "a3fb1f95-57af-44de-b94f-eb1151119fba",
   "metadata": {
    "execution": {
     "iopub.execute_input": "2024-10-18T19:52:54.782315Z",
     "iopub.status.busy": "2024-10-18T19:52:54.782227Z",
     "iopub.status.idle": "2024-10-18T19:52:54.784909Z",
     "shell.execute_reply": "2024-10-18T19:52:54.784698Z"
    }
   },
   "outputs": [],
   "source": [
    "grid_params = tao.ele_grid_field(IX_ELE, 1, \"base\")\n",
    "grid_params"
   ]
  },
  {
   "cell_type": "code",
   "execution_count": null,
   "id": "82dc669c-d745-4e25-b9d6-da3d57172cd5",
   "metadata": {
    "execution": {
     "iopub.execute_input": "2024-10-18T19:52:54.786286Z",
     "iopub.status.busy": "2024-10-18T19:52:54.786199Z",
     "iopub.status.idle": "2024-10-18T19:52:54.967918Z",
     "shell.execute_reply": "2024-10-18T19:52:54.967649Z"
    }
   },
   "outputs": [],
   "source": [
    "FM = FieldMesh(grid_params[\"file\"])\n",
    "FM.plot_onaxis([\"Bx\", \"By\"])"
   ]
  },
  {
   "cell_type": "code",
   "execution_count": null,
   "id": "f26e9727-b053-4d33-9d86-b12f9979d44a",
   "metadata": {
    "execution": {
     "iopub.execute_input": "2024-10-18T19:52:54.969451Z",
     "iopub.status.busy": "2024-10-18T19:52:54.969347Z",
     "iopub.status.idle": "2024-10-18T19:52:54.976038Z",
     "shell.execute_reply": "2024-10-18T19:52:54.975831Z"
    }
   },
   "outputs": [],
   "source": [
    "tao_create_impact_emfield_cartesian_ele(\n",
    "    tao, IX_ELE, file_id=666, output_path=None, cache=None, name=None\n",
    ")"
   ]
  },
  {
   "cell_type": "code",
   "execution_count": null,
   "id": "09b89500-87d8-4215-b4a9-308524eef153",
   "metadata": {
    "execution": {
     "iopub.execute_input": "2024-10-18T19:52:54.977370Z",
     "iopub.status.busy": "2024-10-18T19:52:54.977287Z",
     "iopub.status.idle": "2024-10-18T19:52:54.988544Z",
     "shell.execute_reply": "2024-10-18T19:52:54.988328Z"
    }
   },
   "outputs": [],
   "source": [
    "tao_create_impact_lattice_and_fieldmaps(tao)"
   ]
  },
  {
   "cell_type": "code",
   "execution_count": null,
   "id": "ef419a43-840d-4da9-9f8c-7d48adb7ee68",
   "metadata": {
    "execution": {
     "iopub.execute_input": "2024-10-18T19:52:54.989897Z",
     "iopub.status.busy": "2024-10-18T19:52:54.989806Z",
     "iopub.status.idle": "2024-10-18T19:52:55.887546Z",
     "shell.execute_reply": "2024-10-18T19:52:55.887252Z"
    }
   },
   "outputs": [],
   "source": [
    "I = impact_from_tao(tao)\n",
    "I.track1(pz0=10e6)\n",
    "I.plot(\"mean_y\")"
   ]
  },
  {
   "cell_type": "markdown",
   "id": "d5d92aa3-d0a9-492b-b29c-7ae80c2231de",
   "metadata": {},
   "source": [
    "# Compare "
   ]
  },
  {
   "cell_type": "code",
   "execution_count": null,
   "id": "9f9f4681-1f05-48d8-acd0-fafe324cae94",
   "metadata": {
    "execution": {
     "iopub.execute_input": "2024-10-18T19:52:55.889214Z",
     "iopub.status.busy": "2024-10-18T19:52:55.889101Z",
     "iopub.status.idle": "2024-10-18T19:52:56.006053Z",
     "shell.execute_reply": "2024-10-18T19:52:56.005768Z"
    }
   },
   "outputs": [],
   "source": [
    "s1 = tao.lat_list(\"*\", \"ele.s\")\n",
    "x1 = tao.lat_list(\"*\", \"orbit.vec.1\")\n",
    "y1 = tao.lat_list(\"*\", \"orbit.vec.3\")\n",
    "\n",
    "z2 = I.stat(\"mean_z\")\n",
    "x2 = I.stat(\"mean_x\")\n",
    "y2 = I.stat(\"mean_y\")\n",
    "\n",
    "fix, axes = plt.subplots(2)\n",
    "axes[0].plot(s1, x1 * 1e3, marker=\"x\", label=\"Bmad\")\n",
    "axes[0].plot(z2, x2 * 1e3, label=\"Impact-T\")\n",
    "axes[0].legend()\n",
    "axes[1].plot(s1, y1 * 1e3, marker=\"*\", label=\"Bmad\")\n",
    "axes[1].plot(z2, y2 * 1e3, label=\"Impact-T\")\n",
    "\n",
    "plt.legend()\n",
    "axes[1].set_xlabel(r\"$z$ (m)\")\n",
    "axes[0].set_ylabel(r\"$x$ (mm)\")\n",
    "axes[1].set_ylabel(r\"$y$ (mm)\")"
   ]
  },
  {
   "cell_type": "markdown",
   "id": "c05685e5-2718-4eb9-8cb8-2d4fc7bb8daa",
   "metadata": {},
   "source": [
    "# Cleanup"
   ]
  },
  {
   "cell_type": "code",
   "execution_count": null,
   "id": "f46fa0bb-58c9-440c-8e72-253f57775b3e",
   "metadata": {
    "execution": {
     "iopub.execute_input": "2024-10-18T19:52:56.007580Z",
     "iopub.status.busy": "2024-10-18T19:52:56.007470Z",
     "iopub.status.idle": "2024-10-18T19:52:56.009374Z",
     "shell.execute_reply": "2024-10-18T19:52:56.009151Z"
    }
   },
   "outputs": [],
   "source": [
    "os.remove(\"correctorcoil_horizontal.h5\")\n",
    "os.remove(\"correctorcoil_vertical.h5\")"
   ]
  }
 ],
 "metadata": {
  "kernelspec": {
   "display_name": "Python 3 (ipykernel)",
   "language": "python",
   "name": "python3"
  },
  "language_info": {
   "codemirror_mode": {
    "name": "ipython",
    "version": 3
   },
   "file_extension": ".py",
   "mimetype": "text/x-python",
   "name": "python",
   "nbconvert_exporter": "python",
   "pygments_lexer": "ipython3",
   "version": "3.12.6"
  }
 },
 "nbformat": 4,
 "nbformat_minor": 5
}
