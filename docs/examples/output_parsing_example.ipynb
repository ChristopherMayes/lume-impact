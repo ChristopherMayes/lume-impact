{
 "cells": [
  {
   "cell_type": "markdown",
   "metadata": {},
   "source": [
    "# Low level parsing of Impact output files\n",
    "\n",
    "Note that the Impact class does this automatically. "
   ]
  },
  {
   "cell_type": "code",
   "execution_count": null,
   "metadata": {
    "execution": {
     "iopub.execute_input": "2025-02-12T18:07:14.254219Z",
     "iopub.status.busy": "2025-02-12T18:07:14.253714Z",
     "iopub.status.idle": "2025-02-12T18:07:15.292281Z",
     "shell.execute_reply": "2025-02-12T18:07:15.291892Z"
    }
   },
   "outputs": [],
   "source": [
    "from impact.parsers import fort_files, load_fort, load_many_fort, parse_impact_input"
   ]
  },
  {
   "cell_type": "code",
   "execution_count": null,
   "metadata": {
    "execution": {
     "iopub.execute_input": "2025-02-12T18:07:15.293975Z",
     "iopub.status.busy": "2025-02-12T18:07:15.293797Z",
     "iopub.status.idle": "2025-02-12T18:07:15.297213Z",
     "shell.execute_reply": "2025-02-12T18:07:15.296918Z"
    }
   },
   "outputs": [],
   "source": [
    "opath = \"templates/lcls_injector/output/\"\n",
    "\n",
    "# Find fort.X output files in path\n",
    "fortfiles = fort_files(opath)\n",
    "fortfiles"
   ]
  },
  {
   "cell_type": "code",
   "execution_count": null,
   "metadata": {
    "execution": {
     "iopub.execute_input": "2025-02-12T18:07:15.317041Z",
     "iopub.status.busy": "2025-02-12T18:07:15.316922Z",
     "iopub.status.idle": "2025-02-12T18:07:15.328554Z",
     "shell.execute_reply": "2025-02-12T18:07:15.328343Z"
    }
   },
   "outputs": [],
   "source": [
    "# Load one file\n",
    "load_fort(fortfiles[1]).keys()"
   ]
  },
  {
   "cell_type": "code",
   "execution_count": null,
   "metadata": {
    "execution": {
     "iopub.execute_input": "2025-02-12T18:07:15.329557Z",
     "iopub.status.busy": "2025-02-12T18:07:15.329476Z",
     "iopub.status.idle": "2025-02-12T18:07:15.330885Z",
     "shell.execute_reply": "2025-02-12T18:07:15.330681Z"
    }
   },
   "outputs": [],
   "source": [
    "# Load many"
   ]
  },
  {
   "cell_type": "code",
   "execution_count": null,
   "metadata": {
    "execution": {
     "iopub.execute_input": "2025-02-12T18:07:15.331872Z",
     "iopub.status.busy": "2025-02-12T18:07:15.331787Z",
     "iopub.status.idle": "2025-02-12T18:07:15.404392Z",
     "shell.execute_reply": "2025-02-12T18:07:15.404174Z"
    }
   },
   "outputs": [],
   "source": [
    "data = load_many_fort(opath, verbose=True)"
   ]
  },
  {
   "cell_type": "markdown",
   "metadata": {},
   "source": [
    "# Plot"
   ]
  },
  {
   "cell_type": "code",
   "execution_count": null,
   "metadata": {
    "execution": {
     "iopub.execute_input": "2025-02-12T18:07:15.405536Z",
     "iopub.status.busy": "2025-02-12T18:07:15.405439Z",
     "iopub.status.idle": "2025-02-12T18:07:15.570429Z",
     "shell.execute_reply": "2025-02-12T18:07:15.570149Z"
    }
   },
   "outputs": [],
   "source": [
    "from bokeh.io import output_notebook\n",
    "from bokeh.plotting import figure, show\n",
    "from bokeh.models import ColumnDataSource\n",
    "from impact.parsers import UNITS\n",
    "\n",
    "output_notebook()"
   ]
  },
  {
   "cell_type": "code",
   "execution_count": null,
   "metadata": {
    "execution": {
     "iopub.execute_input": "2025-02-12T18:07:15.571845Z",
     "iopub.status.busy": "2025-02-12T18:07:15.571663Z",
     "iopub.status.idle": "2025-02-12T18:07:15.758831Z",
     "shell.execute_reply": "2025-02-12T18:07:15.758531Z"
    }
   },
   "outputs": [],
   "source": [
    "ds = ColumnDataSource(data)"
   ]
  },
  {
   "cell_type": "code",
   "execution_count": null,
   "metadata": {
    "execution": {
     "iopub.execute_input": "2025-02-12T18:07:15.760336Z",
     "iopub.status.busy": "2025-02-12T18:07:15.760220Z",
     "iopub.status.idle": "2025-02-12T18:07:15.784852Z",
     "shell.execute_reply": "2025-02-12T18:07:15.784557Z"
    }
   },
   "outputs": [],
   "source": [
    "def plot1(y_axis, x_axis=\"mean_z\", source=ds):\n",
    "    yunit = UNITS[y_axis]\n",
    "    ylabel = y_axis + \" (\" + yunit + \")\"\n",
    "\n",
    "    xunit = UNITS[x_axis]\n",
    "    xlabel = x_axis + \" (\" + xunit + \")\"\n",
    "    p = figure(width=600, height=200, x_axis_label=xlabel, y_axis_label=ylabel)\n",
    "    p.line(x_axis, y_axis, source=source, color=\"red\")\n",
    "    return p\n",
    "\n",
    "\n",
    "show(plot1(\"norm_emit_x\"))"
   ]
  },
  {
   "cell_type": "code",
   "execution_count": null,
   "metadata": {
    "execution": {
     "iopub.execute_input": "2025-02-12T18:07:15.787903Z",
     "iopub.status.busy": "2025-02-12T18:07:15.787787Z",
     "iopub.status.idle": "2025-02-12T18:07:15.789704Z",
     "shell.execute_reply": "2025-02-12T18:07:15.789482Z"
    }
   },
   "outputs": [],
   "source": [
    "data.keys()"
   ]
  },
  {
   "cell_type": "code",
   "execution_count": null,
   "metadata": {
    "execution": {
     "iopub.execute_input": "2025-02-12T18:07:15.790742Z",
     "iopub.status.busy": "2025-02-12T18:07:15.790667Z",
     "iopub.status.idle": "2025-02-12T18:07:15.793250Z",
     "shell.execute_reply": "2025-02-12T18:07:15.793025Z"
    }
   },
   "outputs": [],
   "source": [
    "infile = \"templates/lcls_injector/ImpactT.in\"\n",
    "dat = parse_impact_input(infile)\n",
    "header = dat[\"header\"]\n",
    "lattice = dat[\"lattice\"]"
   ]
  }
 ],
 "metadata": {
  "kernelspec": {
   "display_name": "Python 3 (ipykernel)",
   "language": "python",
   "name": "python3"
  },
  "language_info": {
   "codemirror_mode": {
    "name": "ipython",
    "version": 3
   },
   "file_extension": ".py",
   "mimetype": "text/x-python",
   "name": "python",
   "nbconvert_exporter": "python",
   "pygments_lexer": "ipython3",
   "version": "3.12.8"
  }
 },
 "nbformat": 4,
 "nbformat_minor": 4
}
