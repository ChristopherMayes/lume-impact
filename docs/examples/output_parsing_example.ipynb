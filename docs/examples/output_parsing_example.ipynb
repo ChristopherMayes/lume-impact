{
 "cells": [
  {
   "cell_type": "markdown",
   "metadata": {},
   "source": [
    "# Low level parsing of Impact output files\n",
    "\n",
    "Note that the Impact class does this automatically. "
   ]
  },
  {
   "cell_type": "code",
   "execution_count": null,
   "metadata": {
    "execution": {
     "iopub.execute_input": "2025-02-20T21:26:08.811388Z",
     "iopub.status.busy": "2025-02-20T21:26:08.811308Z",
     "iopub.status.idle": "2025-02-20T21:26:09.853939Z",
     "shell.execute_reply": "2025-02-20T21:26:09.853618Z"
    }
   },
   "outputs": [],
   "source": [
    "from impact.parsers import fort_files, load_fort, load_many_fort, parse_impact_input"
   ]
  },
  {
   "cell_type": "code",
   "execution_count": null,
   "metadata": {
    "execution": {
     "iopub.execute_input": "2025-02-20T21:26:09.855530Z",
     "iopub.status.busy": "2025-02-20T21:26:09.855368Z",
     "iopub.status.idle": "2025-02-20T21:26:09.859475Z",
     "shell.execute_reply": "2025-02-20T21:26:09.859258Z"
    }
   },
   "outputs": [],
   "source": [
    "opath = \"templates/lcls_injector/output/\"\n",
    "\n",
    "# Find fort.X output files in path\n",
    "fortfiles = fort_files(opath)\n",
    "fortfiles"
   ]
  },
  {
   "cell_type": "code",
   "execution_count": null,
   "metadata": {
    "execution": {
     "iopub.execute_input": "2025-02-20T21:26:09.879051Z",
     "iopub.status.busy": "2025-02-20T21:26:09.878933Z",
     "iopub.status.idle": "2025-02-20T21:26:09.890452Z",
     "shell.execute_reply": "2025-02-20T21:26:09.890242Z"
    }
   },
   "outputs": [],
   "source": [
    "# Load one file\n",
    "load_fort(fortfiles[1]).keys()"
   ]
  },
  {
   "cell_type": "code",
   "execution_count": null,
   "metadata": {
    "execution": {
     "iopub.execute_input": "2025-02-20T21:26:09.891536Z",
     "iopub.status.busy": "2025-02-20T21:26:09.891462Z",
     "iopub.status.idle": "2025-02-20T21:26:09.892899Z",
     "shell.execute_reply": "2025-02-20T21:26:09.892687Z"
    }
   },
   "outputs": [],
   "source": [
    "# Load many"
   ]
  },
  {
   "cell_type": "code",
   "execution_count": null,
   "metadata": {
    "execution": {
     "iopub.execute_input": "2025-02-20T21:26:09.893887Z",
     "iopub.status.busy": "2025-02-20T21:26:09.893798Z",
     "iopub.status.idle": "2025-02-20T21:26:09.968953Z",
     "shell.execute_reply": "2025-02-20T21:26:09.968725Z"
    }
   },
   "outputs": [],
   "source": [
    "data = load_many_fort(opath, verbose=True)"
   ]
  },
  {
   "cell_type": "markdown",
   "metadata": {},
   "source": [
    "# Plot"
   ]
  },
  {
   "cell_type": "code",
   "execution_count": null,
   "metadata": {
    "execution": {
     "iopub.execute_input": "2025-02-20T21:26:09.970101Z",
     "iopub.status.busy": "2025-02-20T21:26:09.970011Z",
     "iopub.status.idle": "2025-02-20T21:26:10.209337Z",
     "shell.execute_reply": "2025-02-20T21:26:10.209106Z"
    }
   },
   "outputs": [],
   "source": [
    "from bokeh.io import output_notebook\n",
    "from bokeh.plotting import figure, show\n",
    "from bokeh.models import ColumnDataSource\n",
    "from impact.parsers import UNITS\n",
    "\n",
    "output_notebook()"
   ]
  },
  {
   "cell_type": "code",
   "execution_count": null,
   "metadata": {
    "execution": {
     "iopub.execute_input": "2025-02-20T21:26:10.210712Z",
     "iopub.status.busy": "2025-02-20T21:26:10.210453Z",
     "iopub.status.idle": "2025-02-20T21:26:10.402522Z",
     "shell.execute_reply": "2025-02-20T21:26:10.402231Z"
    }
   },
   "outputs": [],
   "source": [
    "ds = ColumnDataSource(data)"
   ]
  },
  {
   "cell_type": "code",
   "execution_count": null,
   "metadata": {
    "execution": {
     "iopub.execute_input": "2025-02-20T21:26:10.403971Z",
     "iopub.status.busy": "2025-02-20T21:26:10.403814Z",
     "iopub.status.idle": "2025-02-20T21:26:10.428067Z",
     "shell.execute_reply": "2025-02-20T21:26:10.427806Z"
    }
   },
   "outputs": [],
   "source": [
    "def plot1(y_axis, x_axis=\"mean_z\", source=ds):\n",
    "    yunit = UNITS[y_axis]\n",
    "    ylabel = y_axis + \" (\" + yunit + \")\"\n",
    "\n",
    "    xunit = UNITS[x_axis]\n",
    "    xlabel = x_axis + \" (\" + xunit + \")\"\n",
    "    p = figure(width=600, height=200, x_axis_label=xlabel, y_axis_label=ylabel)\n",
    "    p.line(x_axis, y_axis, source=source, color=\"red\")\n",
    "    return p\n",
    "\n",
    "\n",
    "show(plot1(\"norm_emit_x\"))"
   ]
  },
  {
   "cell_type": "code",
   "execution_count": null,
   "metadata": {
    "execution": {
     "iopub.execute_input": "2025-02-20T21:26:10.430919Z",
     "iopub.status.busy": "2025-02-20T21:26:10.430829Z",
     "iopub.status.idle": "2025-02-20T21:26:10.432813Z",
     "shell.execute_reply": "2025-02-20T21:26:10.432620Z"
    }
   },
   "outputs": [],
   "source": [
    "data.keys()"
   ]
  },
  {
   "cell_type": "code",
   "execution_count": null,
   "metadata": {
    "execution": {
     "iopub.execute_input": "2025-02-20T21:26:10.433806Z",
     "iopub.status.busy": "2025-02-20T21:26:10.433718Z",
     "iopub.status.idle": "2025-02-20T21:26:10.436194Z",
     "shell.execute_reply": "2025-02-20T21:26:10.435978Z"
    }
   },
   "outputs": [],
   "source": [
    "infile = \"templates/lcls_injector/ImpactT.in\"\n",
    "dat = parse_impact_input(infile)\n",
    "header = dat[\"header\"]\n",
    "lattice = dat[\"lattice\"]"
   ]
  }
 ],
 "metadata": {
  "kernelspec": {
   "display_name": "Python 3 (ipykernel)",
   "language": "python",
   "name": "python3"
  },
  "language_info": {
   "codemirror_mode": {
    "name": "ipython",
    "version": 3
   },
   "file_extension": ".py",
   "mimetype": "text/x-python",
   "name": "python",
   "nbconvert_exporter": "python",
   "pygments_lexer": "ipython3",
   "version": "3.12.8"
  }
 },
 "nbformat": 4,
 "nbformat_minor": 4
}
