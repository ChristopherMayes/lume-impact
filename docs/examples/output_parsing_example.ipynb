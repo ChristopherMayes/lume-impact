{
 "cells": [
  {
   "cell_type": "markdown",
   "metadata": {},
   "source": [
    "# Low level parsing of Impact output files\n",
    "\n",
    "Note that the Impact class does this automatically. "
   ]
  },
  {
   "cell_type": "code",
   "execution_count": null,
   "metadata": {
    "execution": {
     "iopub.execute_input": "2024-10-18T19:48:29.423717Z",
     "iopub.status.busy": "2024-10-18T19:48:29.423250Z",
     "iopub.status.idle": "2024-10-18T19:48:30.361349Z",
     "shell.execute_reply": "2024-10-18T19:48:30.361092Z"
    }
   },
   "outputs": [],
   "source": [
    "from impact.parsers import fort_files, load_fort, load_many_fort, parse_impact_input"
   ]
  },
  {
   "cell_type": "code",
   "execution_count": null,
   "metadata": {
    "execution": {
     "iopub.execute_input": "2024-10-18T19:48:30.363183Z",
     "iopub.status.busy": "2024-10-18T19:48:30.362966Z",
     "iopub.status.idle": "2024-10-18T19:48:30.366384Z",
     "shell.execute_reply": "2024-10-18T19:48:30.366162Z"
    }
   },
   "outputs": [],
   "source": [
    "opath = \"templates/lcls_injector/output/\"\n",
    "\n",
    "# Find fort.X output files in path\n",
    "fortfiles = fort_files(opath)\n",
    "fortfiles"
   ]
  },
  {
   "cell_type": "code",
   "execution_count": null,
   "metadata": {
    "execution": {
     "iopub.execute_input": "2024-10-18T19:48:30.386835Z",
     "iopub.status.busy": "2024-10-18T19:48:30.386714Z",
     "iopub.status.idle": "2024-10-18T19:48:30.398179Z",
     "shell.execute_reply": "2024-10-18T19:48:30.397832Z"
    }
   },
   "outputs": [],
   "source": [
    "# Load one file\n",
    "load_fort(fortfiles[1]).keys()"
   ]
  },
  {
   "cell_type": "code",
   "execution_count": null,
   "metadata": {
    "execution": {
     "iopub.execute_input": "2024-10-18T19:48:30.399854Z",
     "iopub.status.busy": "2024-10-18T19:48:30.399740Z",
     "iopub.status.idle": "2024-10-18T19:48:30.401336Z",
     "shell.execute_reply": "2024-10-18T19:48:30.401082Z"
    }
   },
   "outputs": [],
   "source": [
    "# Load many"
   ]
  },
  {
   "cell_type": "code",
   "execution_count": null,
   "metadata": {
    "execution": {
     "iopub.execute_input": "2024-10-18T19:48:30.402619Z",
     "iopub.status.busy": "2024-10-18T19:48:30.402540Z",
     "iopub.status.idle": "2024-10-18T19:48:30.474109Z",
     "shell.execute_reply": "2024-10-18T19:48:30.473804Z"
    }
   },
   "outputs": [],
   "source": [
    "data = load_many_fort(opath, verbose=True)"
   ]
  },
  {
   "cell_type": "markdown",
   "metadata": {},
   "source": [
    "# Plot"
   ]
  },
  {
   "cell_type": "code",
   "execution_count": null,
   "metadata": {
    "execution": {
     "iopub.execute_input": "2024-10-18T19:48:30.475622Z",
     "iopub.status.busy": "2024-10-18T19:48:30.475512Z",
     "iopub.status.idle": "2024-10-18T19:48:30.677430Z",
     "shell.execute_reply": "2024-10-18T19:48:30.677171Z"
    }
   },
   "outputs": [],
   "source": [
    "from bokeh.io import output_notebook\n",
    "from bokeh.plotting import figure, show\n",
    "from bokeh.models import ColumnDataSource\n",
    "from impact.parsers import UNITS\n",
    "\n",
    "output_notebook()"
   ]
  },
  {
   "cell_type": "code",
   "execution_count": null,
   "metadata": {
    "execution": {
     "iopub.execute_input": "2024-10-18T19:48:30.678944Z",
     "iopub.status.busy": "2024-10-18T19:48:30.678755Z",
     "iopub.status.idle": "2024-10-18T19:48:30.836264Z",
     "shell.execute_reply": "2024-10-18T19:48:30.835990Z"
    }
   },
   "outputs": [],
   "source": [
    "ds = ColumnDataSource(data)"
   ]
  },
  {
   "cell_type": "code",
   "execution_count": null,
   "metadata": {
    "execution": {
     "iopub.execute_input": "2024-10-18T19:48:30.838120Z",
     "iopub.status.busy": "2024-10-18T19:48:30.837973Z",
     "iopub.status.idle": "2024-10-18T19:48:30.861770Z",
     "shell.execute_reply": "2024-10-18T19:48:30.861521Z"
    }
   },
   "outputs": [],
   "source": [
    "def plot1(y_axis, x_axis=\"mean_z\", source=ds):\n",
    "    yunit = UNITS[y_axis]\n",
    "    ylabel = y_axis + \" (\" + yunit + \")\"\n",
    "\n",
    "    xunit = UNITS[x_axis]\n",
    "    xlabel = x_axis + \" (\" + xunit + \")\"\n",
    "    p = figure(width=600, height=200, x_axis_label=xlabel, y_axis_label=ylabel)\n",
    "    p.line(x_axis, y_axis, source=source, color=\"red\")\n",
    "    return p\n",
    "\n",
    "\n",
    "show(plot1(\"norm_emit_x\"))"
   ]
  },
  {
   "cell_type": "code",
   "execution_count": null,
   "metadata": {
    "execution": {
     "iopub.execute_input": "2024-10-18T19:48:30.864975Z",
     "iopub.status.busy": "2024-10-18T19:48:30.864859Z",
     "iopub.status.idle": "2024-10-18T19:48:30.866874Z",
     "shell.execute_reply": "2024-10-18T19:48:30.866646Z"
    }
   },
   "outputs": [],
   "source": [
    "data.keys()"
   ]
  },
  {
   "cell_type": "code",
   "execution_count": null,
   "metadata": {
    "execution": {
     "iopub.execute_input": "2024-10-18T19:48:30.868251Z",
     "iopub.status.busy": "2024-10-18T19:48:30.868151Z",
     "iopub.status.idle": "2024-10-18T19:48:30.870788Z",
     "shell.execute_reply": "2024-10-18T19:48:30.870584Z"
    }
   },
   "outputs": [],
   "source": [
    "infile = \"templates/lcls_injector/ImpactT.in\"\n",
    "dat = parse_impact_input(infile)\n",
    "header = dat[\"header\"]\n",
    "lattice = dat[\"lattice\"]"
   ]
  }
 ],
 "metadata": {
  "kernelspec": {
   "display_name": "Python 3 (ipykernel)",
   "language": "python",
   "name": "python3"
  },
  "language_info": {
   "codemirror_mode": {
    "name": "ipython",
    "version": 3
   },
   "file_extension": ".py",
   "mimetype": "text/x-python",
   "name": "python",
   "nbconvert_exporter": "python",
   "pygments_lexer": "ipython3",
   "version": "3.12.6"
  }
 },
 "nbformat": 4,
 "nbformat_minor": 4
}
