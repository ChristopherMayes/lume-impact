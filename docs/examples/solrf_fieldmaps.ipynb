{
 "cells": [
  {
   "cell_type": "markdown",
   "metadata": {},
   "source": [
    "# solrf fieldmaps\n",
    "\n",
    "Create solrf fieldmaps from on-axis data"
   ]
  },
  {
   "cell_type": "code",
   "execution_count": null,
   "metadata": {
    "execution": {
     "iopub.execute_input": "2024-10-18T19:48:19.505092Z",
     "iopub.status.busy": "2024-10-18T19:48:19.504483Z",
     "iopub.status.idle": "2024-10-18T19:48:19.799926Z",
     "shell.execute_reply": "2024-10-18T19:48:19.799463Z"
    }
   },
   "outputs": [],
   "source": [
    "import numpy as np\n",
    "from numpy import pi\n",
    "\n",
    "import matplotlib.pyplot as plt"
   ]
  },
  {
   "cell_type": "markdown",
   "metadata": {},
   "source": [
    "# Original data"
   ]
  },
  {
   "cell_type": "code",
   "execution_count": null,
   "metadata": {
    "execution": {
     "iopub.execute_input": "2024-10-18T19:48:19.802490Z",
     "iopub.status.busy": "2024-10-18T19:48:19.802142Z",
     "iopub.status.idle": "2024-10-18T19:48:19.804448Z",
     "shell.execute_reply": "2024-10-18T19:48:19.804082Z"
    }
   },
   "outputs": [],
   "source": [
    "# Here is some on-axis data\n",
    "BDAT = \"templates/solenoid/newSOL.dat\""
   ]
  },
  {
   "cell_type": "code",
   "execution_count": null,
   "metadata": {
    "execution": {
     "iopub.execute_input": "2024-10-18T19:48:19.806432Z",
     "iopub.status.busy": "2024-10-18T19:48:19.806289Z",
     "iopub.status.idle": "2024-10-18T19:48:19.911038Z",
     "shell.execute_reply": "2024-10-18T19:48:19.910719Z"
    }
   },
   "outputs": [],
   "source": [
    "DAT = np.loadtxt(BDAT).T\n",
    "Z, BZ = DAT[0], DAT[1] / DAT[1].max()\n",
    "\n",
    "# Test odd number of points\n",
    "Z = Z[:-1]\n",
    "BZ = BZ[:-1]\n",
    "\n",
    "SKIP = 1  # Thin out data for visualization\n",
    "\n",
    "Z = Z[::SKIP]\n",
    "BZ = BZ[::SKIP]\n",
    "\n",
    "# Get spacing\n",
    "DZ = np.diff(Z)\n",
    "assert np.allclose(DZ, DZ[0])\n",
    "DZ = DZ[0]\n",
    "L = np.ptp(Z)\n",
    "\n",
    "\n",
    "# BZ *= sin(100*Z)\n",
    "\n",
    "# Test for odd number of points\n",
    "\n",
    "BZ[-1] = BZ[0]  # assert periodicity\n",
    "\n",
    "plt.plot(Z, BZ, marker=\".\")\n",
    "plt.title(f\"{len(Z)} points\")"
   ]
  },
  {
   "cell_type": "markdown",
   "metadata": {},
   "source": [
    "# RFcoef Fortran program"
   ]
  },
  {
   "cell_type": "code",
   "execution_count": null,
   "metadata": {
    "execution": {
     "iopub.execute_input": "2024-10-18T19:48:19.913128Z",
     "iopub.status.busy": "2024-10-18T19:48:19.912933Z",
     "iopub.status.idle": "2024-10-18T19:48:20.379213Z",
     "shell.execute_reply": "2024-10-18T19:48:20.378891Z"
    }
   },
   "outputs": [],
   "source": [
    "from pmd_beamphysics.interfaces.impact import create_fourier_coefficients\n",
    "\n",
    "N_COEF = 20\n",
    "\n",
    "fcoefs1 = create_fourier_coefficients(Z, BZ, n=N_COEF)"
   ]
  },
  {
   "cell_type": "code",
   "execution_count": null,
   "metadata": {
    "execution": {
     "iopub.execute_input": "2024-10-18T19:48:20.381189Z",
     "iopub.status.busy": "2024-10-18T19:48:20.380955Z",
     "iopub.status.idle": "2024-10-18T19:48:20.819643Z",
     "shell.execute_reply": "2024-10-18T19:48:20.819309Z"
    }
   },
   "outputs": [],
   "source": [
    "from impact.fieldmaps import run_RFcoef\n",
    "\n",
    "res = run_RFcoef(Z, BZ, n_coef=N_COEF, exe=\"$GITHUB/IMPACT-T/utilities/RFcoeflcls\")\n",
    "\n",
    "rfdatax = res[\"rfdatax\"]\n",
    "rfdatax2 = res[\"rfdatax2\"]\n",
    "rfdataout = res[\"rfdata.out\"]\n",
    "rfdatax, len(rfdatax2)"
   ]
  },
  {
   "cell_type": "markdown",
   "metadata": {},
   "source": [
    "# Reconstruction\n",
    "\n",
    "\n",
    "The coefficients in these files are defined so that a field $E$ can be reconstructed at position $z$ as \n",
    "\n",
    "$ E(z) = A_0 + \\sum_{n=1}^{N} A_n \\cos\\left(2\\pi n \\frac{z}{L} \\right) + B_n \\sin\\left(2\\pi n \\frac{z}{L} \\right)$\n",
    "\n",
    "where $z~\\epsilon~[-L/2, L/2]$\n",
    "\n",
    "This function will handle this efficiently."
   ]
  },
  {
   "cell_type": "code",
   "execution_count": null,
   "metadata": {
    "execution": {
     "iopub.execute_input": "2024-10-18T19:48:20.821340Z",
     "iopub.status.busy": "2024-10-18T19:48:20.821221Z",
     "iopub.status.idle": "2024-10-18T19:48:20.823078Z",
     "shell.execute_reply": "2024-10-18T19:48:20.822846Z"
    }
   },
   "outputs": [],
   "source": [
    "from pmd_beamphysics.interfaces.impact import fourier_field_reconsruction"
   ]
  },
  {
   "cell_type": "code",
   "execution_count": null,
   "metadata": {
    "execution": {
     "iopub.execute_input": "2024-10-18T19:48:20.824506Z",
     "iopub.status.busy": "2024-10-18T19:48:20.824407Z",
     "iopub.status.idle": "2024-10-18T19:48:21.055078Z",
     "shell.execute_reply": "2024-10-18T19:48:21.054803Z"
    }
   },
   "outputs": [],
   "source": [
    "@np.vectorize\n",
    "def f0(z):\n",
    "    return fourier_field_reconsruction(z, rfdatax, z0=Z.min(), zlen=L)\n",
    "\n",
    "\n",
    "rBZ0 = f0(Z)\n",
    "errx = rfdataout[:, 1] - BZ\n",
    "err0 = rBZ0 - BZ\n",
    "\n",
    "fig, ax = plt.subplots()\n",
    "# ax.plot(rBZ0, label='reconstructed')\n",
    "ax.plot(errx, label=\"rfdata.out\")\n",
    "ax.plot(err0, \"--\", label=\"Python on rfdatax\")\n",
    "ax.legend()\n",
    "ax.set_ylabel(\"reconstruction error\")"
   ]
  },
  {
   "cell_type": "markdown",
   "metadata": {},
   "source": [
    "# Create coefficients via FFT"
   ]
  },
  {
   "cell_type": "code",
   "execution_count": null,
   "metadata": {
    "execution": {
     "iopub.execute_input": "2024-10-18T19:48:21.056663Z",
     "iopub.status.busy": "2024-10-18T19:48:21.056555Z",
     "iopub.status.idle": "2024-10-18T19:48:21.058160Z",
     "shell.execute_reply": "2024-10-18T19:48:21.057962Z"
    }
   },
   "outputs": [],
   "source": [
    "from pmd_beamphysics.interfaces.impact import create_fourier_coefficients_via_fft"
   ]
  },
  {
   "cell_type": "code",
   "execution_count": null,
   "metadata": {
    "execution": {
     "iopub.execute_input": "2024-10-18T19:48:21.059461Z",
     "iopub.status.busy": "2024-10-18T19:48:21.059383Z",
     "iopub.status.idle": "2024-10-18T19:48:21.305530Z",
     "shell.execute_reply": "2024-10-18T19:48:21.305247Z"
    }
   },
   "outputs": [],
   "source": [
    "fcoefs1 = create_fourier_coefficients_via_fft(BZ, n_coef=N_COEF)\n",
    "\n",
    "\n",
    "@np.vectorize\n",
    "def f1(z):\n",
    "    return fourier_field_reconsruction(z, fcoefs1, z0=Z.min(), zlen=L)\n",
    "\n",
    "\n",
    "rBZ1 = f1(Z)\n",
    "err1 = rBZ1 - BZ\n",
    "\n",
    "plt.plot(errx, label=\"rfdata.out\")\n",
    "plt.plot(err0, \"--\", label=\"Python on rfdatax\")\n",
    "plt.plot(err1, \"--\", label=\"Python on FFT-created coefs\")\n",
    "plt.legend()\n",
    "plt.ylabel(\"reconstruction error\")"
   ]
  },
  {
   "cell_type": "code",
   "execution_count": null,
   "metadata": {
    "execution": {
     "iopub.execute_input": "2024-10-18T19:48:21.307043Z",
     "iopub.status.busy": "2024-10-18T19:48:21.306936Z",
     "iopub.status.idle": "2024-10-18T19:48:21.308976Z",
     "shell.execute_reply": "2024-10-18T19:48:21.308731Z"
    }
   },
   "outputs": [],
   "source": [
    "from impact import fieldmaps\n",
    "\n",
    "?fieldmaps.create_fourier_coefficients"
   ]
  },
  {
   "cell_type": "markdown",
   "metadata": {},
   "source": [
    "# Create LUME-Impact style fieldmap"
   ]
  },
  {
   "cell_type": "code",
   "execution_count": null,
   "metadata": {
    "execution": {
     "iopub.execute_input": "2024-10-18T19:48:21.310297Z",
     "iopub.status.busy": "2024-10-18T19:48:21.310200Z",
     "iopub.status.idle": "2024-10-18T19:48:21.312293Z",
     "shell.execute_reply": "2024-10-18T19:48:21.312092Z"
    }
   },
   "outputs": [],
   "source": [
    "# Get basic placement\n",
    "zmin, zmax = Z.min(), Z.max()\n",
    "Ltot = zmax - zmin\n",
    "zmin, zmax, Ltot"
   ]
  },
  {
   "cell_type": "code",
   "execution_count": null,
   "metadata": {
    "execution": {
     "iopub.execute_input": "2024-10-18T19:48:21.313543Z",
     "iopub.status.busy": "2024-10-18T19:48:21.313448Z",
     "iopub.status.idle": "2024-10-18T19:48:21.315791Z",
     "shell.execute_reply": "2024-10-18T19:48:21.315567Z"
    }
   },
   "outputs": [],
   "source": [
    "# Create a lume-impact style fieldmap and process into flat 1D rfdata\n",
    "fmap = {\n",
    "    \"info\": {\"format\": \"solrf\"},\n",
    "    \"field\": {\n",
    "        \"Ez\": {\"z0\": 0.0, \"z1\": 0.0, \"L\": 0.0, \"fourier_coefficients\": np.array([0.0])},\n",
    "        \"Bz\": {\"z0\": 0, \"z1\": Ltot, \"L\": Ltot, \"fourier_coefficients\": fcoefs1},\n",
    "    },\n",
    "}\n",
    "\n",
    "\n",
    "rfdata = fieldmaps.data_from_solrf_fieldmap(fmap)\n",
    "rfdata"
   ]
  },
  {
   "cell_type": "code",
   "execution_count": null,
   "metadata": {
    "execution": {
     "iopub.execute_input": "2024-10-18T19:48:21.317029Z",
     "iopub.status.busy": "2024-10-18T19:48:21.316932Z",
     "iopub.status.idle": "2024-10-18T19:48:21.318855Z",
     "shell.execute_reply": "2024-10-18T19:48:21.318666Z"
    }
   },
   "outputs": [],
   "source": [
    "# This simply writes 'data' this to a file\n",
    "fieldmaps.write_fieldmap(\"templates/solenoid/rfdata666\", fmap)"
   ]
  },
  {
   "cell_type": "code",
   "execution_count": null,
   "metadata": {
    "execution": {
     "iopub.execute_input": "2024-10-18T19:48:21.320110Z",
     "iopub.status.busy": "2024-10-18T19:48:21.320014Z",
     "iopub.status.idle": "2024-10-18T19:48:21.322395Z",
     "shell.execute_reply": "2024-10-18T19:48:21.322185Z"
    }
   },
   "outputs": [],
   "source": [
    "zcenter = 0.24653  # Intended center\n",
    "\n",
    "ele = {\n",
    "    \"description\": \"name:SOL1B\",\n",
    "    \"L\": Ltot,\n",
    "    \"type\": \"solrf\",\n",
    "    \"zedge\": zcenter + zmin,\n",
    "    \"rf_field_scale\": 0.0,\n",
    "    \"rf_frequency\": 0.0,\n",
    "    \"theta0_deg\": 0.0,\n",
    "    \"filename\": \"rfdata666\",\n",
    "    \"radius\": 0.15,\n",
    "    \"x_offset\": 0.0,\n",
    "    \"y_offset\": 0.0,\n",
    "    \"x_rotation\": 0.0,\n",
    "    \"y_rotation\": 0.0,\n",
    "    \"z_rotation\": 0.0,\n",
    "    \"solenoid_field_scale\": 0.057,\n",
    "    \"name\": \"SOL1\",\n",
    "}\n",
    "ele"
   ]
  },
  {
   "cell_type": "code",
   "execution_count": null,
   "metadata": {
    "execution": {
     "iopub.execute_input": "2024-10-18T19:48:21.323704Z",
     "iopub.status.busy": "2024-10-18T19:48:21.323612Z",
     "iopub.status.idle": "2024-10-18T19:48:21.325514Z",
     "shell.execute_reply": "2024-10-18T19:48:21.325321Z"
    }
   },
   "outputs": [],
   "source": [
    "import impact\n",
    "\n",
    "# This is the line to add to ImpactT.in\n",
    "impact.lattice.ele_line(ele)"
   ]
  },
  {
   "cell_type": "markdown",
   "metadata": {},
   "source": [
    "# New-style solRF field"
   ]
  },
  {
   "cell_type": "code",
   "execution_count": null,
   "metadata": {
    "execution": {
     "iopub.execute_input": "2024-10-18T19:48:21.326786Z",
     "iopub.status.busy": "2024-10-18T19:48:21.326676Z",
     "iopub.status.idle": "2024-10-18T19:48:21.612912Z",
     "shell.execute_reply": "2024-10-18T19:48:21.612603Z"
    }
   },
   "outputs": [],
   "source": [
    "from pmd_beamphysics.fields.expansion import (\n",
    "    fft_derivative_array,\n",
    "    spline_derivative_array,\n",
    ")\n",
    "from impact.fieldmaps import run_RFcoef\n",
    "\n",
    "\n",
    "from numpy import sqrt, exp\n",
    "\n",
    "\n",
    "def gaussian_derivatives(z):\n",
    "    f0 = 1 / sqrt(2 * pi) * exp(-(z**2) / 2)\n",
    "    return np.array([1 * f0, (-z) * f0, (-1 + z**2) * f0, (3 * z - z**3) * f0]).T\n",
    "\n",
    "\n",
    "ZZ = np.linspace(-6, 6, 1000)\n",
    "DZ = np.diff(ZZ)[0]\n",
    "\n",
    "AFZ = gaussian_derivatives(ZZ)\n",
    "AFZ /= AFZ[:, 0].max()  # Normalize for comparisons\n",
    "\n",
    "FZ = AFZ[:, 0]\n",
    "\n",
    "N_COEF = 30\n",
    "rfdatax2 = run_RFcoef(\n",
    "    ZZ, FZ, n_coef=N_COEF, exe=\"$GITHUB/IMPACT-T/utilities/RFcoeflcls\"\n",
    ")[\"rfdatax2\"][1:]\n",
    "myrfdatax2 = fft_derivative_array(FZ, ncoef=N_COEF, dz=DZ)\n",
    "\n",
    "myrfdatax2_spline = spline_derivative_array(ZZ, FZ)\n",
    "\n",
    "\n",
    "ORDER = 0\n",
    "plt.plot(abs(rfdatax2[:, ORDER] - AFZ[:, ORDER]), label=\"Fortran error\")  #\n",
    "plt.plot(abs(myrfdatax2[:, ORDER] - AFZ[:, ORDER]), \"--\", label=\"Python error, FFT\")  #\n",
    "plt.plot(\n",
    "    abs(myrfdatax2_spline[:, ORDER] - AFZ[:, ORDER]), \"--\", label=\"Python error, Spline\"\n",
    ")  #\n",
    "plt.legend()\n",
    "plt.yscale(\"log\")\n",
    "\n",
    "\n",
    "rfdatax2.shape, myrfdatax2.shape"
   ]
  },
  {
   "cell_type": "code",
   "execution_count": null,
   "metadata": {
    "execution": {
     "iopub.execute_input": "2024-10-18T19:48:21.614992Z",
     "iopub.status.busy": "2024-10-18T19:48:21.614856Z",
     "iopub.status.idle": "2024-10-18T19:48:21.780826Z",
     "shell.execute_reply": "2024-10-18T19:48:21.780534Z"
    }
   },
   "outputs": [],
   "source": [
    "def compare(order):\n",
    "    fig, ax = plt.subplots()\n",
    "    ax2 = ax.twinx()\n",
    "\n",
    "    f0 = AFZ[:, order]\n",
    "    f1 = rfdatax2[:, order]\n",
    "    f2 = myrfdatax2[:, order]\n",
    "    f3 = myrfdatax2_spline[:, order]\n",
    "\n",
    "    err1 = abs((f1 - f0) / f0)\n",
    "    err2 = abs((f2 - f0) / f0)\n",
    "    err3 = abs((f3 - f0) / f0)\n",
    "    ax2.plot(f0, label=\"Reference\", color=\"black\")  #\n",
    "    # ax2.plot( f1   , label='Fortran')#\n",
    "    # ax2.plot( f2, '--', label='Python, FFT')#\n",
    "    # ax2.plot( f3, '--', label='Python, Spline')#\n",
    "    # ax2.legend(loc='upper right')\n",
    "\n",
    "    ax.set_title(f\"Gaussian derivative, order {order}\")\n",
    "    ax.set_ylabel(\"relative error\")\n",
    "    ax2.set_ylabel(\"True function\")\n",
    "    ax.plot(err1, label=\"Fortran RFcoefs\")  #\n",
    "    ax.plot(err2, \"--\", label=\"Python, FFT\")  #\n",
    "    ax.plot(err3, \"--\", label=\"Python, Spline\")  #\n",
    "    ax.set_yscale(\"log\")\n",
    "    ax.legend(loc=\"upper left\")\n",
    "\n",
    "\n",
    "compare(0)"
   ]
  },
  {
   "cell_type": "code",
   "execution_count": null,
   "metadata": {
    "execution": {
     "iopub.execute_input": "2024-10-18T19:48:21.782845Z",
     "iopub.status.busy": "2024-10-18T19:48:21.782721Z",
     "iopub.status.idle": "2024-10-18T19:48:21.965056Z",
     "shell.execute_reply": "2024-10-18T19:48:21.964779Z"
    }
   },
   "outputs": [],
   "source": [
    "compare(1)"
   ]
  },
  {
   "cell_type": "code",
   "execution_count": null,
   "metadata": {
    "execution": {
     "iopub.execute_input": "2024-10-18T19:48:21.967035Z",
     "iopub.status.busy": "2024-10-18T19:48:21.966888Z",
     "iopub.status.idle": "2024-10-18T19:48:22.134109Z",
     "shell.execute_reply": "2024-10-18T19:48:22.133751Z"
    }
   },
   "outputs": [],
   "source": [
    "compare(2)"
   ]
  },
  {
   "cell_type": "code",
   "execution_count": null,
   "metadata": {
    "execution": {
     "iopub.execute_input": "2024-10-18T19:48:22.136108Z",
     "iopub.status.busy": "2024-10-18T19:48:22.135996Z",
     "iopub.status.idle": "2024-10-18T19:48:22.305916Z",
     "shell.execute_reply": "2024-10-18T19:48:22.305427Z"
    }
   },
   "outputs": [],
   "source": [
    "compare(3)"
   ]
  }
 ],
 "metadata": {
  "kernelspec": {
   "display_name": "Python 3 (ipykernel)",
   "language": "python",
   "name": "python3"
  },
  "language_info": {
   "codemirror_mode": {
    "name": "ipython",
    "version": 3
   },
   "file_extension": ".py",
   "mimetype": "text/x-python",
   "name": "python",
   "nbconvert_exporter": "python",
   "pygments_lexer": "ipython3",
   "version": "3.12.6"
  }
 },
 "nbformat": 4,
 "nbformat_minor": 4
}
