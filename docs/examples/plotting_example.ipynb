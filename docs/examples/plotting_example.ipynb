{
 "cells": [
  {
   "cell_type": "markdown",
   "metadata": {},
   "source": [
    "# Layout Plotting"
   ]
  },
  {
   "cell_type": "code",
   "execution_count": null,
   "metadata": {
    "execution": {
     "iopub.execute_input": "2024-10-18T19:48:24.353473Z",
     "iopub.status.busy": "2024-10-18T19:48:24.352839Z",
     "iopub.status.idle": "2024-10-18T19:48:25.536162Z",
     "shell.execute_reply": "2024-10-18T19:48:25.535886Z"
    }
   },
   "outputs": [],
   "source": [
    "import os\n",
    "import numpy as np\n",
    "\n",
    "from impact import Impact\n",
    "\n",
    "from impact.parsers import parse_impact_input\n",
    "from impact.plotting import layout_plot\n",
    "from impact.fieldmaps import ele_field, lattice_field\n",
    "\n",
    "from bokeh.plotting import output_notebook\n",
    "from bokeh.plotting import show\n",
    "\n",
    "\n",
    "import matplotlib.pyplot as plt\n",
    "from ipywidgets import interact\n",
    "\n",
    "output_notebook(hide_banner=True)"
   ]
  },
  {
   "cell_type": "code",
   "execution_count": null,
   "metadata": {
    "execution": {
     "iopub.execute_input": "2024-10-18T19:48:25.537838Z",
     "iopub.status.busy": "2024-10-18T19:48:25.537682Z",
     "iopub.status.idle": "2024-10-18T19:48:25.539537Z",
     "shell.execute_reply": "2024-10-18T19:48:25.539303Z"
    }
   },
   "outputs": [],
   "source": [
    "infile = \"templates/lcls_injector/ImpactT.in\""
   ]
  },
  {
   "cell_type": "markdown",
   "metadata": {},
   "source": [
    "## matplotlib plotting from the Impact object"
   ]
  },
  {
   "cell_type": "code",
   "execution_count": null,
   "metadata": {
    "execution": {
     "iopub.execute_input": "2024-10-18T19:48:25.541042Z",
     "iopub.status.busy": "2024-10-18T19:48:25.540955Z",
     "iopub.status.idle": "2024-10-18T19:48:25.744937Z",
     "shell.execute_reply": "2024-10-18T19:48:25.744675Z"
    }
   },
   "outputs": [],
   "source": [
    "I = Impact(infile)\n",
    "I.plot(figsize=(12, 4))"
   ]
  },
  {
   "cell_type": "code",
   "execution_count": null,
   "metadata": {
    "execution": {
     "iopub.execute_input": "2024-10-18T19:48:25.746637Z",
     "iopub.status.busy": "2024-10-18T19:48:25.746516Z",
     "iopub.status.idle": "2024-10-18T19:48:26.127493Z",
     "shell.execute_reply": "2024-10-18T19:48:26.127237Z"
    }
   },
   "outputs": [],
   "source": [
    "# Track 1 particle\n",
    "I.track1()\n",
    "\n",
    "# These are the fields seen by the bunch centroid\n",
    "I.plot(\"Ez\", y2=\"Bz\")"
   ]
  },
  {
   "cell_type": "code",
   "execution_count": null,
   "metadata": {
    "execution": {
     "iopub.execute_input": "2024-10-18T19:48:26.129232Z",
     "iopub.status.busy": "2024-10-18T19:48:26.128952Z",
     "iopub.status.idle": "2024-10-18T19:48:26.251954Z",
     "shell.execute_reply": "2024-10-18T19:48:26.251705Z"
    }
   },
   "outputs": [],
   "source": [
    "# Fieldmaps can be added to existing axes\n",
    "\n",
    "from impact.plot import add_fieldmaps_to_axes\n",
    "\n",
    "fig, ax = plt.subplots()\n",
    "add_fieldmaps_to_axes(I, t=1, ax=ax, bounds=(0, 10))"
   ]
  },
  {
   "cell_type": "markdown",
   "metadata": {},
   "source": [
    "# Low-level get field"
   ]
  },
  {
   "cell_type": "code",
   "execution_count": null,
   "metadata": {
    "execution": {
     "iopub.execute_input": "2024-10-18T19:48:26.253499Z",
     "iopub.status.busy": "2024-10-18T19:48:26.253384Z",
     "iopub.status.idle": "2024-10-18T19:48:26.255838Z",
     "shell.execute_reply": "2024-10-18T19:48:26.255616Z"
    }
   },
   "outputs": [],
   "source": [
    "# Get fieldmaps\n",
    "fmaps = I.fieldmaps\n",
    "\n",
    "# This shows the field from a single element\n",
    "ele_field(I.ele[\"GUN\"], z=0.1, fmaps=fmaps)"
   ]
  },
  {
   "cell_type": "code",
   "execution_count": null,
   "metadata": {
    "execution": {
     "iopub.execute_input": "2024-10-18T19:48:26.257090Z",
     "iopub.status.busy": "2024-10-18T19:48:26.256986Z",
     "iopub.status.idle": "2024-10-18T19:48:26.258987Z",
     "shell.execute_reply": "2024-10-18T19:48:26.258764Z"
    }
   },
   "outputs": [],
   "source": [
    "# this gets the total field from all elements in the lattice\n",
    "lattice_field(I.lattice, z=0.3, fmaps=fmaps)"
   ]
  },
  {
   "cell_type": "code",
   "execution_count": null,
   "metadata": {
    "execution": {
     "iopub.execute_input": "2024-10-18T19:48:26.260251Z",
     "iopub.status.busy": "2024-10-18T19:48:26.260159Z",
     "iopub.status.idle": "2024-10-18T19:48:26.262020Z",
     "shell.execute_reply": "2024-10-18T19:48:26.261822Z"
    }
   },
   "outputs": [],
   "source": [
    "I.input[\"fieldmaps\"].keys()"
   ]
  },
  {
   "cell_type": "code",
   "execution_count": null,
   "metadata": {
    "execution": {
     "iopub.execute_input": "2024-10-18T19:48:26.263336Z",
     "iopub.status.busy": "2024-10-18T19:48:26.263235Z",
     "iopub.status.idle": "2024-10-18T19:48:26.265107Z",
     "shell.execute_reply": "2024-10-18T19:48:26.264914Z"
    }
   },
   "outputs": [],
   "source": [
    "# Period in ps\n",
    "T = 1 / 2856000000.0\n",
    "T / 1e-12  # ps"
   ]
  },
  {
   "cell_type": "code",
   "execution_count": null,
   "metadata": {
    "execution": {
     "iopub.execute_input": "2024-10-18T19:48:26.266393Z",
     "iopub.status.busy": "2024-10-18T19:48:26.266294Z",
     "iopub.status.idle": "2024-10-18T19:48:26.413230Z",
     "shell.execute_reply": "2024-10-18T19:48:26.412979Z"
    }
   },
   "outputs": [],
   "source": [
    "I = Impact(infile)\n",
    "I.plot(figsize=(12, 4), field_t=0)"
   ]
  },
  {
   "cell_type": "code",
   "execution_count": null,
   "metadata": {
    "execution": {
     "iopub.execute_input": "2024-10-18T19:48:26.414961Z",
     "iopub.status.busy": "2024-10-18T19:48:26.414836Z",
     "iopub.status.idle": "2024-10-18T19:48:26.554711Z",
     "shell.execute_reply": "2024-10-18T19:48:26.554474Z"
    }
   },
   "outputs": [],
   "source": [
    "# Make a function to get a field array at a given phase/2pi\n",
    "\n",
    "zz = np.linspace(0, I.stop, 1000)\n",
    "\n",
    "\n",
    "def field_at(phi0):\n",
    "    Ez_at = np.array([I.field(z=z, t=phi0 / 2856000000.0, component=\"Ez\") for z in zz])\n",
    "    plt.plot(zz, Ez_at / 1e6)\n",
    "    plt.ylim(-100, 100)\n",
    "    # plt.xlim(2, 2.2)\n",
    "\n",
    "\n",
    "# def field_at(phi0):\n",
    "#    t=phi0/2856000000.0\n",
    "#    fig = I.plot(figsize=(12,4), field_t=t, return_figure=True)\n",
    "#    fig.axes[0].set_ylim(-100,100)\n",
    "#    fig.axes[1].set_ylim(-0, 0.3)\n",
    "\n",
    "field_at(0)"
   ]
  },
  {
   "cell_type": "code",
   "execution_count": null,
   "metadata": {
    "execution": {
     "iopub.execute_input": "2024-10-18T19:48:26.556166Z",
     "iopub.status.busy": "2024-10-18T19:48:26.556063Z",
     "iopub.status.idle": "2024-10-18T19:48:26.642103Z",
     "shell.execute_reply": "2024-10-18T19:48:26.641795Z"
    }
   },
   "outputs": [],
   "source": [
    "# Visualize the oscillating fields\n",
    "interact(field_at, phi0=(0, 2, 0.01))"
   ]
  },
  {
   "cell_type": "code",
   "execution_count": null,
   "metadata": {
    "execution": {
     "iopub.execute_input": "2024-10-18T19:48:26.644606Z",
     "iopub.status.busy": "2024-10-18T19:48:26.644518Z",
     "iopub.status.idle": "2024-10-18T19:48:26.900307Z",
     "shell.execute_reply": "2024-10-18T19:48:26.900002Z"
    }
   },
   "outputs": [],
   "source": [
    "# These are the fields seen by the bunch\n",
    "I.track1()\n",
    "zz = I.stat(\"mean_z\")\n",
    "tt = I.stat(\"t\")\n",
    "\n",
    "Ez_seen = np.array(\n",
    "    [\n",
    "        lattice_field(I.lattice, z=z, t=t, fmaps=fmaps, component=\"Ez\")\n",
    "        for z, t in zip(zz, tt)\n",
    "    ]\n",
    ")\n",
    "zz = zz[: len(tt)]\n",
    "plt.plot(zz, Ez_seen)"
   ]
  },
  {
   "cell_type": "code",
   "execution_count": null,
   "metadata": {
    "execution": {
     "iopub.execute_input": "2024-10-18T19:48:26.901844Z",
     "iopub.status.busy": "2024-10-18T19:48:26.901717Z",
     "iopub.status.idle": "2024-10-18T19:48:26.904235Z",
     "shell.execute_reply": "2024-10-18T19:48:26.903983Z"
    }
   },
   "outputs": [],
   "source": [
    "# MeV energy gain\n",
    "-np.trapz(Ez_seen, zz) / 1e6"
   ]
  },
  {
   "cell_type": "code",
   "execution_count": null,
   "metadata": {
    "execution": {
     "iopub.execute_input": "2024-10-18T19:48:26.905586Z",
     "iopub.status.busy": "2024-10-18T19:48:26.905491Z",
     "iopub.status.idle": "2024-10-18T19:48:26.907386Z",
     "shell.execute_reply": "2024-10-18T19:48:26.907188Z"
    }
   },
   "outputs": [],
   "source": [
    "# This is pretty close to the tracked kinetic energy\n",
    "I.stat(\"mean_kinetic_energy\")[-1] / 1e6"
   ]
  },
  {
   "cell_type": "markdown",
   "metadata": {},
   "source": [
    "## Bokeh plotting from the input file"
   ]
  },
  {
   "cell_type": "code",
   "execution_count": null,
   "metadata": {
    "execution": {
     "iopub.execute_input": "2024-10-18T19:48:26.908693Z",
     "iopub.status.busy": "2024-10-18T19:48:26.908599Z",
     "iopub.status.idle": "2024-10-18T19:48:26.911274Z",
     "shell.execute_reply": "2024-10-18T19:48:26.911098Z"
    }
   },
   "outputs": [],
   "source": [
    "infile = \"templates/lcls_injector/ImpactT.in\"\n",
    "os.path.exists(infile)\n",
    "\n",
    "dat = parse_impact_input(infile)\n",
    "header = dat[\"header\"]\n",
    "lattice = dat[\"lattice\"]"
   ]
  },
  {
   "cell_type": "code",
   "execution_count": null,
   "metadata": {
    "execution": {
     "iopub.execute_input": "2024-10-18T19:48:26.912475Z",
     "iopub.status.busy": "2024-10-18T19:48:26.912383Z",
     "iopub.status.idle": "2024-10-18T19:48:27.099376Z",
     "shell.execute_reply": "2024-10-18T19:48:27.099108Z"
    }
   },
   "outputs": [],
   "source": [
    "layout = layout_plot(lattice)\n",
    "show(layout)"
   ]
  },
  {
   "cell_type": "markdown",
   "metadata": {},
   "source": [
    "# Output Plotting"
   ]
  },
  {
   "cell_type": "code",
   "execution_count": null,
   "metadata": {
    "execution": {
     "iopub.execute_input": "2024-10-18T19:48:27.101065Z",
     "iopub.status.busy": "2024-10-18T19:48:27.100909Z",
     "iopub.status.idle": "2024-10-18T19:48:27.102715Z",
     "shell.execute_reply": "2024-10-18T19:48:27.102500Z"
    }
   },
   "outputs": [],
   "source": [
    "from bokeh.plotting import figure\n",
    "from bokeh.layouts import column\n",
    "from bokeh.models import ColumnDataSource, Range1d\n",
    "from impact.parsers import load_many_fort\n",
    "from impact.parsers import UNITS"
   ]
  },
  {
   "cell_type": "code",
   "execution_count": null,
   "metadata": {
    "execution": {
     "iopub.execute_input": "2024-10-18T19:48:27.104085Z",
     "iopub.status.busy": "2024-10-18T19:48:27.103984Z",
     "iopub.status.idle": "2024-10-18T19:48:27.181738Z",
     "shell.execute_reply": "2024-10-18T19:48:27.181481Z"
    }
   },
   "outputs": [],
   "source": [
    "opath = \"templates/lcls_injector/output/\"\n",
    "data = load_many_fort(opath, verbose=True)\n",
    "ds = ColumnDataSource(data)"
   ]
  },
  {
   "cell_type": "code",
   "execution_count": null,
   "metadata": {
    "execution": {
     "iopub.execute_input": "2024-10-18T19:48:27.183144Z",
     "iopub.status.busy": "2024-10-18T19:48:27.183061Z",
     "iopub.status.idle": "2024-10-18T19:48:27.205149Z",
     "shell.execute_reply": "2024-10-18T19:48:27.204895Z"
    }
   },
   "outputs": [],
   "source": [
    "def plot1(y_axis, x_axis=\"mean_z\", source=ds):\n",
    "    yunit = UNITS[y_axis]\n",
    "    ylabel = y_axis + \" (\" + yunit + \")\"\n",
    "\n",
    "    xunit = UNITS[x_axis]\n",
    "    xlabel = x_axis + \" (\" + xunit + \")\"\n",
    "    p = figure(width=600, height=200, x_axis_label=xlabel, y_axis_label=ylabel)\n",
    "    p.line(x_axis, y_axis, source=source, color=\"red\")\n",
    "    return p\n",
    "\n",
    "\n",
    "show(plot1(\"norm_emit_x\"))"
   ]
  },
  {
   "cell_type": "markdown",
   "metadata": {},
   "source": [
    "# Stacking plots"
   ]
  },
  {
   "cell_type": "markdown",
   "metadata": {},
   "source": [
    "This also links the panning, zooming"
   ]
  },
  {
   "cell_type": "code",
   "execution_count": null,
   "metadata": {
    "execution": {
     "iopub.execute_input": "2024-10-18T19:48:27.208530Z",
     "iopub.status.busy": "2024-10-18T19:48:27.208425Z",
     "iopub.status.idle": "2024-10-18T19:48:27.261117Z",
     "shell.execute_reply": "2024-10-18T19:48:27.260790Z"
    }
   },
   "outputs": [],
   "source": [
    "p1 = plot1(\"sigma_x\")\n",
    "p2 = plot1(\"norm_emit_x\")\n",
    "zmax = 2\n",
    "layout.x_range = Range1d(0, zmax)\n",
    "p1.x_range = Range1d(0, zmax)\n",
    "\n",
    "layout.width = p1.width\n",
    "\n",
    "# Link panning, zooming\n",
    "layout.x_range = p1.x_range\n",
    "p2.x_range = p1.x_range\n",
    "\n",
    "show(column(p1, p2, layout))"
   ]
  }
 ],
 "metadata": {
  "kernelspec": {
   "display_name": "Python 3 (ipykernel)",
   "language": "python",
   "name": "python3"
  },
  "language_info": {
   "codemirror_mode": {
    "name": "ipython",
    "version": 3
   },
   "file_extension": ".py",
   "mimetype": "text/x-python",
   "name": "python",
   "nbconvert_exporter": "python",
   "pygments_lexer": "ipython3",
   "version": "3.12.6"
  },
  "widgets": {
   "application/vnd.jupyter.widget-state+json": {
    "state": {
     "3040f99c7ee141cda8b724de1b5a7796": {
      "model_module": "@jupyter-widgets/output",
      "model_module_version": "1.0.0",
      "model_name": "OutputModel",
      "state": {
       "_dom_classes": [],
       "_model_module": "@jupyter-widgets/output",
       "_model_module_version": "1.0.0",
       "_model_name": "OutputModel",
       "_view_count": null,
       "_view_module": "@jupyter-widgets/output",
       "_view_module_version": "1.0.0",
       "_view_name": "OutputView",
       "layout": "IPY_MODEL_36eb7cb173e343d3b1fdf8de0d53623d",
       "msg_id": "",
       "outputs": [
        {
         "data": {
          "image/png": "iVBORw0KGgoAAAANSUhEUgAABGcAAANFCAYAAADWFJHbAAAAOXRFWHRTb2Z0d2FyZQBNYXRwbG90bGliIHZlcnNpb24zLjkuMiwgaHR0cHM6Ly9tYXRwbG90bGliLm9yZy8hTgPZAAAACXBIWXMAAB7CAAAewgFu0HU+AADOeklEQVR4nOz9e5zcZX3//z/nsDN7TDbn0wYCgZAAoiAgRwERKwhS0GqrXxU/VvBQW23V9tvaWn9VP2K10HL7tpWKgidai4oWW8UqcpCzRBCSACGEJJvjJptkz3P8/bHsZue63vOe98y8rznsPO63mzezm81e856dHeZ6zuv1uiL5fD4vAAAAAAAA1EW03jcAAAAAAACglRHOAAAAAAAA1BHhDAAAAAAAQB0RzgAAAAAAANQR4QwAAAAAAEAdEc4AAAAAAADUEeEMAAAAAABAHRHOAAAAAAAA1BHhDAAAAAAAQB0RzgAAAAAAANQR4QwAAAAAAEAdEc4AAAAAAADUEeEMAAAAAABAHRHOAAAAAAAA1BHhDAAAAAAAQB0RzgAAAAAAANQR4QwAAAAAAEAdEc4AAAAAAADUEeEMAAAAAABAHRHOAAAAAAAA1FHThjN79+7VXXfdpb/5m7/RpZdeqoULFyoSiSgSieiaa64p+/v95Cc/0dVXX62+vj4lk0n19fXp6quv1k9+8pPA32N0dFR///d/rzPPPFPz589Xd3e31q1bp49//OPatm1b2bcJAAAAAADMfpF8Pp+v942oRCQSKfp373nPe3TrrbcG+j75fF4f+MAHdPPNNxf9mmuvvVb/+q//6rvmCy+8oDe96U169tlnPf9+7ty5+s53vqPLLrss0O0CAAAAAACtoWkrZ2ZauXKl3vCGN1T0bz/1qU9NBzOnnnqqbr/9dj366KO6/fbbdeqpp0qSbr75Zv31X/910e8xPDysyy+/fDqYef/736+f//znevDBB/W5z31O3d3dOnTokH7v935PTz31VEW3EwAAAAAAzE5NWznz6U9/WmeccYbOOOMMLVmyRFu3btUxxxwjKXjlzObNm7Vu3TplMhmdfvrpuu+++9TR0TH996Ojo7rgggv0+OOPKx6Pa9OmTVq9erX1ff72b/9Wn/nMZyRJX/ziF/WJT3yi4O8feughvfa1r1Umk9FFF12kX/ziF1VcOQAAAAAAmE2atnLmM5/5jC6//HItWbKk4u9xww03KJPJSJJuuummgmBGkjo7O3XTTTdJkjKZjG688Ubre6TTaf3jP/6jJGndunX6sz/7M+trzj77bL3vfe+TJN1zzz369a9/XfFtBgAAAAAAs0vThjPVyufz+uEPfyhJWrt2rc466yzPrzvrrLN0wgknSJLuvPNOmYVGv/zlL3Xw4EFJkxU70aj3XTpzSPH3v//9Km89AAAAAACYLVo2nHnxxRfV398vSbrgggt8v3bq73fs2KGtW7cW/N39999vfZ2X008/XV1dXZKkBx54oJKbDAAAAAAAZqF4vW9AvWzcuHH6z2vXrvX92pl/v3HjxunZNuV8n3g8rtWrV+upp54q+DdB7dixw/fvx8fHtWnTJi1ZskSLFi1SPN6yP1oAAAAAAJzJZDLat2+fJOkVr3iF2tvbq/6eLbuD3759+/Sf+/r6fL925cqVnv9u5sddXV3q7e0t+X2eeuop7du3TxMTE0omk4Fv78zbAAAAAAAA6u/RRx/VGWecUfX3adm2pqGhoek/d3d3+37tVDuSNHlsttf3KfU9Sn0fAAAAAADQmlq2cmZ8fHz6z4lEwvdrZ1a4jI2NeX6fUt+j1PcpxazY8fr7c845R9Jkcrds2bKyvj8AAAAAACht165dOvPMMyVJixYtCuV7tmw4M7MnLJVK+X7txMTE9J/N47anvk+p71Hq+5RSqvVqpmXLlpX19QAAAAAAoHxhzXtt2bamnp6e6T+XajEaGRmZ/rPZvjT1fYK0Kfl9HwAAAAAA0JpaNpyZWVlS6iSkmS1F5mDeqe8zMjKigwcPBvo+ixYtKmsYMAAAAAAAmL1aNpw58cQTp/+8adMm36+d+ffr1q2r6PtkMhm98MILnt8DAAAAAAC0rpYNZ4455hgtX75cknTvvff6fu19990nSVqxYoVWrVpV8HfnnXfe9J/9vs/jjz8+3dZ07rnnVnKTAQAAAADALNSy4UwkEtGVV14pabLi5eGHH/b8uocffni6IubKK69UJBIp+PsLL7xQc+fOlSTddtttyufznt/n1ltvnf7zVVddVe3NBwAAAAAAs0TLhjOS9NGPfnR6svJHPvIR63jrsbExfeQjH5E0OYH5ox/9qPU9EomE/viP/1iStHHjRn3pS1+yvuahhx7SLbfcIkm64IILdMYZZ4R5GQAAAAAAoIk17VHaDzzwgDZv3jz98cDAwPSfN2/eXFCpIknXXHON9T3WrFmjj3/84/rCF76gxx9/XOeee67+/M//XKtXr9YLL7yg66+/XuvXr5ckfeITn9Dxxx/veVs+8YlP6D/+4z/03HPP6ZOf/KQ2b96s3//931dHR4fuueceff7zn1cmk1FHR4duvPHGqq8dAAAAAADMHpF8sT6cBnfNNdfotttuC/z1xS4zl8vp/e9/v772ta8V/bfve9/7dPPNNysaLV5otHnzZl122WV6/vnnPf9+zpw5+va3v63LL7888G0ux44dO6ZPktq+fXvBaVQAAAAAACAcLvbfLd3WJEnRaFS33HKLfvzjH+vKK6/U8uXLlUgktHz5cl155ZX67//+b331q1/1DWYk6bjjjtP69et1/fXX6/TTT1dvb686Ozt1wgkn6GMf+5ieeuopZ8EMAAAAAABoXk1bOYNCVM4AAAAAAOAelTMAAAAAAACzDOEMAAAAAABAHRHOAAAAAAAA1BHhDAAAAAAAQB0RzgAAAAAAANQR4QwAAAAAAEAdEc4AAAAAAADUEeEMAAAAAABAHRHOAAAAAAAA1BHhDAAAAAAAQB0RzgAAAAAAANQR4QwAAAAAAEAdEc4AAAAAAADUEeEMAAAAAABAHRHOAAAAAAAA1BHhDAAAAAAAQB0RzgAAAAAAANQR4QwAAAAAAEAdEc4AAAAAAADUEeEMAAAAAABAHRHOAAAAAAAA1BHhDAAAAAAAQB0RzgAAAAAAANQR4QwAAAAAAEAdEc4AAAAAAADUEeEMAAAAAABAHRHOAAAAAAAA1BHhDAAAAAAAQB0RzgAAAAAAANQR4QwAAAAAAEAdEc4AAAAAAADUEeEMAAAAAABAHRHOAAAAAAAA1BHhDAAAAAAAQB0RzgAAAAAAANQR4QwAAAAAAEAdEc4AAAAAAADUEeEMAAAAAABAHRHOAAAAAAAA1BHhDAAAAAAAQB0RzgAAAAAAANQR4QwAAAAAAEAdEc4AAAAAAADUEeEMAAAAAABAHRHOAAAAAAAA1BHhDAAAAAAAQB0RzgAAAAAAANQR4QwAAAAAAEAdEc4AAAAAAADUEeEMAAAAAABAHRHOAAAAAAAA1BHhDAAAAAAAQB0RzgAAAAAAANQR4QwAAAAAAEAdEc4AAAAAAADUEeEMAAAAAABAHRHOAAAAAAAA1BHhDAAAAAAAQB0RzgAAAAAAANQR4QwAAAAAAEAdEc4AAAAAAADUEeEMAAAAAABAHRHOAAAAAAAA1BHhDAAAAAAAQB0RzgAAAAAAANQR4QwAAAAAAEAdEc4AAAAAAADUEeEMAAAAAABAHRHOAAAAAAAA1BHhDAAAAAAAQB21dDhz4YUXKhKJlPW/X/7ylwXf49Zbbw38b2+99da6XCcAAAAAAGhcLR3OlCsajer444+v980AAAAAAACzSLzeN6Cevv71r2tkZMT3azZs2KC3v/3tkqSLL75YK1asKPq1P/3pT7V8+fKif9/X11fZDQUAAAAAALNWS4czxxxzTMmv+eY3vzn953e/+92+X7tmzRqtWrWq2psFAAAAAABaCG1NPnK5nL797W9Lkrq7u3X11VfX+RYBAAAAAIDZhnDGx89//nP19/dLkt761reqs7OzzrcIAAAAAADMNoQzPr7xjW9M/7lUSxMAAAAAAEAlCGeKGB4e1g9+8ANJ0lFHHaULL7yw5L+55pprtGTJEiUSCS1cuFBnnXWWPvWpT01X3wAAAAAAAJhaeiCwn+9973vTJzm9613vUiQSKflv7r333uk/79+/X/v379cjjzyiL3/5y7rxxht13XXXVXx7duzY4fv3u3btqvh7AwAAAACA+iGcKaKclqZjjz1WV199tc4++2ytXLlSkrRlyxZ973vf0x133KHx8XF94AMfUCQS0bXXXlvR7Zn6vgAAAAAAYHaJ5PP5fL1vRKPZsWOHjj76aOVyOZ111ll66KGHin7toUOHNGfOnKKVNXfddZeuvvpqpdNpdXZ26oUXXtDSpUvLvk1BKnembN++XX19fWWvAQAAAAAA/O3YsWO6gCKs/TczZzx861vfUi6XkyS95z3v8f3auXPn+gYnl19+uT796U9LkkZHR3XLLbdUdJu2b9/u+79HH320ou8LAAAAAADqi8oZDyeddJI2bNigZDKpXbt2ad68eVV9v71792rp0qXK5/O65JJLdPfdd4d0S49wkdwBAAAAAIBCVM7UwOOPP64NGzZImqx6qTaYkaTFixdr4cKFksTJTQAAAAAAoADhjGHmIOBSLU3loEAJAAAAAAB4IZyZIZ1O69///d8lSYsWLdKll14ayvfdu3ev9u/fL0lavnx5KN8TAAAAAADMDoQzM/zP//yP9u3bJ0l6xzveoXg8nJPGb7755unKmQsuuCCU7wkAAAAAAGYHwpkZZrY0vfvd7y759Vu3btX69et9v+auu+7S3/3d30mS2tvb9d73vre6GwkAAAAAAGaVcEpDZoHBwUHdddddkqSTTz5Zp512Wsl/s3XrVl100UU6++yzdcUVV+hVr3qVFi9erHw+ry1btuiOO+7QHXfcMV0186UvfUkrVqxweh0AAAAAAKC5EM687D/+4z80MTEhKVjVzEwPPfSQHnrooaJ/39nZqRtuuEHXXnttVbcRAAAAAADMPoQzL/vmN78pSYrFYnrnO98Z6N+8+tWv1re+9S099NBDevzxx7Vr1y4NDAwok8lo3rx5Oumkk3TxxRfrD//wD7V48WKXNx8AAAAAADSpSJ4znmeFHTt2aOXKlZKk7du3q6+vr863CAAAAACA2cfF/puBwAAAAAAAAHVEOAMAAAAAAFBHhDMAAAAAAAB1RDgDAAAAAABQR4QzAAAAAAAAdUQ4AwAAAAAAUEeEMwAAAAAAAHVEOAMAAAAAAFBHhDMAAAAAAAB1RDgDAAAAAABQR4QzAAAAAAAAdUQ4AwAAAAAAUEeEMwAAAAAAAHVEOAMAAAAAAFBHhDMAAAAAAAB1RDgDAAAAAABQR4QzAAAAAAAAdUQ4AwAAAAAAUEeEMwAAAAAAAHVEOAMAAAAAAFBHhDMAAAAAAAB1RDgDAAAAAABQR4QzAAAAAAAAdRSv9w0AqvW1B17UNx7aquMWd+tjl6zRScvn1vsmAQAAAAAQGOEMmtrT/Yf0/7trgyRp6/5R3ff8gL7zh6/R6avm1/mWAQAAAAAQDG1NaGr3bNpb8HEqk9PXH9xanxsDAAAAAEAFCGfQ1J7eecj63LO7h+pwSwAAAAAAqAzhDJraMzsPW597af+IMtlcHW4NAAAAAADlI5xB0zo4mtKOwTHr8+ls3vPzAAAAAAA0IsIZNK1NPu1LWwaGa3hLAAAAAACoHOEMmtbeoYmif7dl30gNbwkAAAAAAJUjnEHT2j9cPJzZup9wBgAAAADQHAhn0LQGfMKZAyOpGt4SAAAAAAAqRziDprV/uHgAQzgDAAAAAGgWhDNoWn6VM4Mj6RreEgAAAAAAKkc4g6Y14Fc5M0rlDAAAAACgORDOoGntH/GrnEkpn8/X8NYAAAAAAFAZwhk0rYGh4tUxmVxeQxOZGt4aAAAAAAAqQziDpjSaymgsnfX9mkGGAgMAAAAAmgDhDJqS30lNUzixCQAAAADQDAhn0JQOjhaextQWi2jpnPaCzw0yFBgAAAAA0AQIZ9CUhiYKw5me9jbN60oUfO4Ax2kDAAAAAJoA4Qya0vB44bDf7mRc87vaCj7HzBkAAAAAQDMgnEFTGjZOYupKxtXbWVg5c3CMcAYAAAAA0PgIZ9CURoxwpicZV3cibnyN/2lOAAAAAAA0AsIZNKUhI5zpbo+rK1kYzpjVNQAAAAAANCLCGTQlr5kz3clYwedGU4QzAAAAAIDGRziDpmRWxXhXztDWBAAAAABofIQzaEpm5UxP0g5nzLk0AAAAAAA0IsIZNCWv05q6CWcAAAAAAE2IcAZNyWpr8qicYSAwAAAAAKAZEM6gKXnPnCkcCEzlDAAAAACgGRDOoCl5zZyx25oYCAwAAAAAaHyEM2hKQwFOa0plc0plcrW8WQAAAAAAlI1wBk3JbFnyGggsSaMpWpsAAAAAAI2NcAZNJ5vLazRV2LLkdZS2xFBgAAAAAEDjI5xB0/EKXLqScXW2xazPM3cGAAAAANDoCGfQdMZSduDSlYwrGo2oM1EY0FA5AwAAAABodIQzaDrjaTucaW+bfCibrU0cpw0AAAAAaHSEM2g6Y0Y4E41IidjkQ9k+TptwBgAAAADQ2Ahn0HTMcKajLaZIJCJJ6koWtjWNeLRAAQAAAADQSAhn0HTMtqb2GYOAuxJUzgAAAAAAmgvhDJqOXzjTbpzY5DWfBgAAAACARkI4g6YzlsoVfDw1DFiabHGaaTxd+LUAAAAAADQawhk0HbMapiMxs3Km8CFtzqcBAAAAAKDREM6g6XgNBJ5CWxMAAAAAoNkQzqDpMHMGAAAAADCbEM6g6YylCGcAAAAAALMH4QyaznimeFuTORCYmTMAAAAAgEZHOIOm43dakzkQmNOaAAAAAACNjnAGTcdvIPDMk5sk2poAAAAAAI2v5cOZSCQS6H8XXnhhye/1k5/8RFdffbX6+vqUTCbV19enq6++Wj/5yU/cX0gLmTAHAs88SjtOOAMAAAAAaC4tH86EIZ/P67rrrtOll16qH/zgB+rv71cqlVJ/f79+8IMf6NJLL9V1112nfD5f75s6K5iVMzMDmXarcoa2JgAAAABAY4vX+wY0ig9+8IP60Ic+VPTvu7q6iv7dpz71Kd18882SpFNPPVWf/OQntXr1ar3wwgv64he/qPXr1+vmm2/WokWL9NnPfjb0295qrLamgsqZqO/XAgAAAADQaAhnXrZ48WKdfPLJZf+7zZs364tf/KIk6fTTT9d9992njo4OSdIZZ5yhN7/5zbrgggv0+OOP6/rrr9d73/terV69OtTb3mrMVqUOjtIGAAAAADQx2pqqdMMNNyiTyUiSbrrppulgZkpnZ6duuukmSVImk9GNN95Y65s464yli5/WZA4EpnIGAAAAANDoCGeqkM/n9cMf/lCStHbtWp111lmeX3fWWWfphBNOkCTdeeedzJ6p0njKmDnTVnwg8AQzZwAAAAAADY5wpgovvvii+vv7JUkXXHCB79dO/f2OHTu0detW1zdtVhvP+B2lXfiQTmVzyuYIwwAAAAAAjYuZMy/7z//8T91+++3atm2b4vG4li5dqnPOOUfXXHONLrroIs9/s3Hjxuk/r1271vf7z/z7jRs36phjjinr9u3YscP373ft2lXW92tmYz6VM0mjckaanDvTleShDgAAAABoTOxYX7Zhw4aCjzdv3qzNmzfrG9/4hn73d39Xt956q+bOnVvwNdu3b5/+c19fn+/3X7lypee/C2rmv291fqc1mTNnpr6ecAYAAAAA0Khafsfa2dmpN7/5zbr44ou1du1adXd3a9++fbr33nv1r//6r9q/f7/uvPNOXXnllfrZz36mtra26X87NDQ0/efu7m7fdWYexT08PBz+hbQQc47MzDkz5mlNEic2AQAAAAAaW8uHM/39/ert7bU+f8kll+gjH/mILr30Uq1fv1733nuv/uVf/kV//Md/PP014+Pj039OJBK+6ySTyek/j42NlX07S1Xb7Nq1S2eeeWbZ37fZ5HJ5pbLFT2tqj9tjlAhnAAAAAACNrOXDGa9gZsqSJUt0xx13aN26dUqlUrrpppsKwpn29vbpP6dSKd91JiYmpv9sHrcdRKm2qVZhBjOSlJgRyMRjUbXFIkpnjwwBHufEJgAAAABAA+O0phKOPfZYXXLJJZIm59Ds3Llz+u96enqm/1yqVWlkZGT6z6VaoFDcRMY/nJHs47TNGTUAAAAAADQSwpkATjzxxOk/Tx2dLRVWs5Q6TWlmWxLDfSs3kbGDFvOEpnZjKDBtTQAAAACARkY4E0A+n/f8/MzQZtOmTb7fY+bfr1u3Lpwb1oJSQSpn2go/No/eBgAAAACgkRDOBDDzmO3ly5dP//mYY46Z/vjee+/1/R733XefJGnFihVatWpV+DeyRXi1NSWNcMaspPH6NwAAAAAANArCmRK2bNmin/3sZ5Im58+sWLFi+u8ikYiuvPJKSZOVMQ8//LDn93j44YenK2euvPJKRSIRx7d69jIrZyIRKR4tvD8TscKHtVe1DQAAAAAAjaKlw5n/+q//UiaTKfr3e/bs0Vvf+lal02lJ0oc//GHraz760Y8qHp889OojH/mIdUz22NiYPvKRj0iS4vG4PvrRj4Z061uTWQWTjEetsCtptDV5nfAEAAAAAECjaOmjtD/ykY8onU7rLW95i84++2ytWrVKHR0dGhgY0C9/+Uv967/+q/bv3y9JOu+88zzDmTVr1ujjH/+4vvCFL+jxxx/Xueeeqz//8z/X6tWr9cILL+j666/X+vXrJUmf+MQndPzxx9f0GmcbswrGrJLx+twEA4EBAAAAAA2spcMZSdq5c6duuukm3XTTTUW/5i1veYu++tWvKplMev795z73Oe3du1df+9rXtH79ev3+7/++9TXve9/79NnPfja0292qzHAm2RazvsYcEEzlDAAAAACgkbV0OHPbbbfp3nvv1UMPPaQtW7ZoYGBAhw8fVnd3t1auXKlzzjlH73nPe3T22Wf7fp9oNKpbbrlFb3nLW3TzzTfrscce08DAgBYuXKgzzjhD1113nS699NIaXdXsZh6l7VU5Yw4EZuYMAAAAAKCRtXQ4c8EFF+iCCy4I7ftddtlluuyyy0L7frDZlTNe4QwDgQEAAAAAzaOlBwKj+ZgDgT1nzhjhDEdpAwAAAAAaGeEMmkqQmTNm5QzhDAAAAACgkRHOoKmYM2eSASpnGAgMAAAAAGhkhDNoKlZbUzzIUdqEMwAAAACAxkU4g6ZihjNmC5NkDwmmcgYAAAAA0MgIZ9BUzJkz3pUz5lHaWetrAAAAAABoFIQzaCpBKmc4rQkAAAAA0EwIZ9BUglTOmIGN+W8AAAAAAGgkhDNoKtZpTXH7KG3rtCbCGQAAAABAAyOcQVMJNHOGtiYAAAAAQBMhnEFTCXRaE5UzAAAAAIAmQjiDplLRzBmO0gYAAAAANDDCGTSVSmbOTKQ5ShsAAAAA0LgIZ9BUzCoY78qZwsCGyhkAAAAAQCMjnEFTmUgzEBgAAAAAMLsQzqCpmFUwXgOBEzHCGQAAAABA8yCcQVMxK2c8T2tqs09ryufzTm8XAAAAAACVIpxBU6mkckaS0lnCGQAAAABAYyKcQVMxT14KMnNGsk95AgAAAACgURDOoKmkjAqYRMw+StvreO0Uc2cAAAAAAA2KcAZNJZMrDFnisYj1NV6VMxynDQAAAABoVIQzaCppowKmzWO+jNccGipnAAAAAACNinAGTcUc7Os1/NfrcxynDQAAAABoVIQzaBr5fN5qT2qL221N0WhEbUa7E5UzAAAAAIBGRTiDppHN2cdhe7U1SXb1DJUzAAAAAIBGRTiDpmG2NElSW9T7IZxsKzyxiaO0AQAAAACNinAGTcPrxCWvtibJrpyhrQkAAAAA0KgIZ9A00l7hTLG2pjjhDAAAAACgORDOoGlkvNqaioQz5nHazJwBAAAAADQqwhk0De/KmSJtTVTOAAAAAACaBOEMmobnzJmgbU0e/xYAAAAAgEZAOIOm4VU5E496V85YbU1pTmsCAAAAADQmwhk0DXPmTCIWVSRSrK2p8ChtKmcAAAAAAI2KcAZNwwxY4kXmzUgcpQ0AAAAAaB6EM2gaaSNgKTZvRpKSbZzWBAAAAABoDoQzaBppo63JN5yhcgYAAAAA0CQIZ9A0zIHACb+2JnMgMOEMAAAAAKBBEc6gaZjhTFvcp3KGcAYAAAAA0CQIZ9A0zLamYsdoS3blDG1NAAAAAIBGRTiDpmFVzvjMnLHCGY7SBgAAAAA0KMIZNA0zYDEDmJmS8VjBxxPprJPbBAAAAABAtQhn0DQyZZzWROUMAAAAAKBZEM6gaZhtTb4zZzhKGwAAAADQJAhn0DSso7T92praOK0JAAAAANAcCGfQNMzWJN+2JipnAAAAAABNgnAGTcOeOcNR2gAAAACA5kc4g6ZRzlHa5mlNDAQGAAAAADQqwhk0jXLampJG5QxHaQMAAAAAGhXhDJpGOlNFWxOVMwAAAACABkU4g6aRyVVROcPMGQAAAABAgyKcQdMoZ+aMWTlDOAMAAAAAaFSEM2gaqWramjI55fP5Il8NAAAAAED9EM6gaVRzWtPkvyecAQAAAAA0HsIZNI1q2pokaSLDiU0AAAAAgMZDOIOmYVa+eAUw03/nEdykmDsDAAAAAGhAhDNoGmblTDxafOZMss2rcoZwBgAAAADQeAhn0DTKamuicgYAAAAA0CQIZ9A0rHCm3LamLOEMAAAAAKDxEM6gaVgzZ3yO0o5GI9ZR21TOAAAAAAAaEeEMmkY5bU2SXT3DzBkAAAAAQCMinEHTsAYClwhnkm2xgo+pnAEAAAAANCLCGTSNctqaJv/erJzJhn6bAAAAAACoFuEMmkbZbU3GwGAqZwAAAAAAjYhwBk2j6nCG05oAAAAAAA2IcAZNw2xripfZ1kTlDAAAAACgERHOoGmkjXDFDF9MyTbCGQAAAABA4yOcQdMw25LKPUqbtiYAAAAAQCMinEHTyOQK25rKnTkzkSacAQAAAAA0HsIZNIVsLq+sFc74z5xJMhAYAAAAANAECGfQFMyTmqQKKmeYOQMAAAAAaEAtH8488cQT+vznP69LL71UK1euVDKZVHd3t9asWaNrrrlG999/f8nvceuttyoSiQT636233ur+omYhz3AmXubMGcIZAAAAAEADitf7BtTTBRdcoPvuu8/6fCqV0vPPP6/nn39et912m971rnfpq1/9qhKJRB1uJSQpYxyjLQVpa4oVfEw4AwAAAABoRC0dzvT390uSli9frt/7vd/T+eefr6OOOkrZbFYPPfSQvvzlL6u/v1/f/OY3lclk9J3vfKfk9/zpT3+q5cuXF/37vr6+0G5/K/GqnCl1lLbZ1pTKZkO9TQAAAAAAhKGlw5m1a9fq85//vN7ylrcoFiussjjrrLP0rne9S+eee66ee+453X777frgBz+o888/3/d7rlmzRqtWrXJ4q1uT1zDfOKc1AQAAAABmgZaeOXPXXXfpbW97mxXMTFm4cKG+/OUvT398xx131OqmwZCuoK3JrpwhnAEAAAAANJ6WDmeCuPDCC6f//MILL9TvhrS4jNdA4CgDgQEAAAAAzY9wpoRUKjX952iJMADumFUv8WhE0WiZlTOEMwAAAACABkTaUMK99947/ee1a9eW/PprrrlGS5YsUSKR0MKFC3XWWWfpU5/61PTwYVTGbGuKl2hpkqQkbU0AAAAAgCbQ0gOBS8nlcvrCF74w/fHb3va2kv9mZpizf/9+7d+/X4888oi+/OUv68Ybb9R1111X0W3ZsWOH79/v2rWrou/bLMzTmtpKDAOW7HBmgsoZAAAAAEADIpzxccMNN+jRRx+VJF111VU6/fTTi37tscceq6uvvlpnn322Vq5cKUnasmWLvve97+mOO+7Q+Pi4PvCBDygSiejaa68t+7ZMfc9WZYYzpY7RljxOayKcAQAAAAA0IMKZIu699179xV/8hSRp8eLF+pd/+ZeiX3vVVVfpPe95jyKRwlabM844Q29/+9t111136eqrr1Y6ndbHPvYxvfnNb9bSpUud3v7ZxmxrClI5w8wZAAAAAEAzYOaMh2eeeUZXXXWVMpmMksmkvvvd72rJkiVFv37u3LlWMDPT5Zdfrk9/+tOSpNHRUd1yyy1l36bt27f7/m+qwme2ShvBSlu89MyZhHFEeiqTDfU2AQAAAAAQBipnDC+++KLe8IY3aHBwULFYTLfffrsuuOCCqr/v+9//fv31X/+18vm87r33Xv3VX/1VWf++r6+v6tvQzKyZMwFOzrIqZxgIDABAgVQmp59t2KNndx/WOcct1FnHLqjp+lv2DeuBzQOKR6N686uWqztZu5emwxMZ3f/cPg2MpHTecQt1zMKumq0tSQ++MKDfbD+oYxd26+J1iwNVBYdlcCSl7zy6TZJ0+SnLdPSC2l77fc/t0/88vVunruzVVaetqOm1j6Yy+tdfvqCdh8b1rrOO1itX9tZsbUn61eYB3frgVq3o7dDHXr9GczvbarZ2KpPTP/zsOT3df0hXvHKZ3nb6St83mMP2dP8h3fi/zykWjeiTb1yr1Yu6a7Z2Pp/XLQ+8qJ8+s1tnrJqvP71kjeI1fNztG5rQ5368QftHUrrutat13vELa7a2JP3vhj267aGt6pvXqb+4dK3mdtTucTeezuqffv68ntl5WFeftkJXvmpFzdZuNoQzM+zcuVOvf/3rtXPnTkUiEX3ta1/TVVddFcr3Xrx4sRYuXKh9+/ZxclMFzGClkoHAtDUBAHDE8ERGb/2XB7Vp95Ak6Z9+sVnf+cPX6JzjarNp+MH6HfrT7z6p/Mudy9959CX98MPnKRZ1v1nMZHN65789rCd3HJr+3L+9+3RdcmLxSukw/eTpXfrAt56Y/vik5XP0/Q+do2Q85vOvwpHP53Xdt36tR188IEm64WfP6YtvPUVXn1abNwJ/s/2g3nvrY8rm8rr90W26/bFtuvW9Z9Zss/ipHzyt76+ffC3+g/X9+sfff5UuP2V5TdbefmBU77vtMY2nJ1+TPv7SAf37tWfXLJT8x58/p3+99wVJ0gObB5TNSe94zVE1WXt4IqP33vqY9g1NSJp8HNz90QtqFk7956936LM/3ihJemzroCTpk28sfRJvGDLZnN5766N6uv+wJOnRFw/o7o+9tmah6IObB/T+bz4+/Vx7eCyt/++dp9Vk7Vwur4/cvl4/27BHknTvc/u0dE67XlPjNwKaBW1NLxsYGNAll1yiLVu2SJJuuukmvfvd7w51jXw+X/qL4CljzpwJ0tbEQGAAAIr6z8e3TwczU772qxdrsnY+n9eXfvqcZr40err/sB7esr8m6//vxr0FwYwkffnuZ2uytiR97VdbCz5+Zudh/deTtTl585mdh6eDGUnK5PL67I83KpurzevU2x7cWrDW+m0H9c2HttZk7b2Hx3Xnb468SZrN5fWpO5/W4fF0Tdb/1iMvTQcz0uRj/p/v2VyTtYcnMvrGgy8VfO4z//WM9h4er8n63374pelgRpL2HJ7Ql2r0OzeWyupLPy1c66v3v6jtB0Zrsv53Ht02HcxIk3uSm35Rm597OpvTJ+54quC59se/3aXNe4drsv4P1vdPBzNT/u3+2vx3phkRzkg6dOiQfud3fkcbNmyQJH3hC1/Qhz/84VDX2Lt3r/bvn3zBsXx5bdL52aSSo7QZCAwAQHEPvmAHIfc/P6DRVMb52tsOjKr/4Jj1+V8+u9f52pJ0//P7rM9t2j2kvUPuN6qHRtP69UuD1ud/tXnA+dqSdPczu63PHRhJadPuwx5fHa7xdNbaqEnSrzbXJpT74W92ysygDo6m9fjWA97/IETpbE7f+/UO6/P/87T983DhB+v7NTRR+Ls9kcnpbo+fR9jy+bxue3Cr9fnvP7GjJqHg3Rt2a++MYEiarMr/T4+fhwvffXy79bkfrO/XwdGU87Uf23rA87n2GzUKRP/7t3bo/ItNe7TT4zaBcEajo6N605vepCeemCwt/au/+iv9+Z//eejr3HzzzdOVM2HMsGk1Fc2ciRHOAADgJZfLe25IJzI53f+8+5DAKxiSpHuetUMTFx4oEoTUIiC5f/M+zw3pgy8M1KTKuthmfGY1jSsPvjCg4Qk7/PvN9oPK1GA2oFcwJEm/2XbQ+drP7DysgWF7M/7iwIgOjbmv3HmkSFXa0/2HPD8fpr1DE9p5yA4+R1JZbd0/4nz9YtdYi2tPZ3N61qhQlCartp7Z6T4Q3VBkjanWLtee3mnfx7m89FCR/wa0upYOZ1KplK666ir96le/kiT9yZ/8iT772c+W9T22bt2q9evX+37NXXfdpb/7u7+TJLW3t+u9731vZTe4haUqaGsyZ85kcvmalewCANDINu8b1uCo94bwiW3uX7QXe2G+ee+wBoYnPP8uLP0Hx/TSfu92hlpUcBQLQfYcntCLA243quPprNXKNqUW4czGXd5rj6WzRf8uTJv3ebdyrN9+0PnaL/i0kfx2h/uQ4IV93o8tr81z2J7fU/zai4UHYXq2yPqbdrlfe8u+EaWz3vsPr9AmbBuKXOML+4ad74v2Do1rz2Hv5/Niv4utrqUHAv/BH/yB7r77bknS6173Or3vfe/T008/XfTrE4mE1qxZU/C5rVu36qKLLtLZZ5+tK664Qq961au0ePFi5fN5bdmyRXfccYfuuOOO6XdCvvSlL2nFCiZUl8t8NyXYQGB7qF4qk1NHwv2wPQAAGtlTPpvBbUWCizA9t6f4puSl/aNa2J10tvaLRTap0uSGxbVtPnMuNu4a0rEOT7DZMVh87SdrEFC85FMlsX77oF7RN9fZ2ofG0jow4t1G8pttB5XL5RV1OIzaL3h7csdBp6f35HJ5bSny2H5295AmMlmnw6if31v8933DrsO64pVuRz48X+T5ZuehcR0cTam3M+Fsbb92Qb/nwbAUC79SmZy2HRh1ekrdM/3Fr71WM2+aTUuHM9///ven//yLX/xCp5xyiu/XH3300dq6davn3z300EN66KGHiv7bzs5O3XDDDbr22msruq2trpKZM+1t9tdMZLKEMwCAlufX77+1BuFM/2Dx9bcdGNGrj57nbG2/gGL7AfdzEPyGkPYfdHvfF6sYkqTdh8eVzuacHmvtt77f34Vhq084MjSR0Z6hcS2b2+Fs/S0DPtUjjis4+g+OFT0YI53N6/k9wzp5hbtg7Hmfjbjr1p5DY2nt8mipmrJp95DOcnhykF9F2LOOw5mJTNY3BHluz5DbcManKsuvkqyVtXRbUxhe/epX61vf+pY+/OEP6zWveY2OOuoodXZ2KpFIaMmSJXrd616nz33uc3rxxRcJZqpgtTXFgrQ12SHMzAn5AAC0Kr9wZtv+EaezTw6Pp63BpIXruw1IvIZjThkYntBYKuts7Xw+rx0+wZTf34XBr2onl5d2+2xiXa/vekBoqdkmOw+6vfYtPhVbrq+9VEWY388lDJt92ppcb9KLVc1Mcd1a5Lf+c7uHlHPYWrRjcEwZn+9f6r6plt9z7UsHRpkH6qGlK2fCeOHR09Ojd77znXrnO98Zwi1CMZVUziSLVM4AANDqvIZzThlJZTUwnNKiHjetRaU2oi8dcDt3pVQAsn1wVGuW9DhZe9/QRNEKBsm/qiYMpTbhOwbHtHJ+p5O1x9NZ3woGv41cGLYO+F/7zoNjziq2crm8bzjkOhQrNm+mVutv8ala2nN43GlL2XafSjlJvo/JMOz2Oap8JJXVgdGUszbOPSWOSS/1uKh+/eLzw7Iv/064eq5tVlTOoClUNnPGK5whoQUAoFRAss1hQOLX0iS5Dyj82ppcr19qo+i6cqbUtbkMSEqtXe/KmV2H3K2/b3jCt3p7z+Fxp6dV7Spx3/oFCNXKZHPaP1J8k57J5bW/yCygMAwM+X/vUgFGtfYN+Q84d7l+PdeWJgcC+3EdyDYjwhk0BXPKeZBwJhKJKGEENONpKmcAAK0tn8+X3KyVqjKoRulgyG04U89wqFT4smNwzGlLWan7ttR9U41SwdTAcMrp67RS1SEu25pKbZJz+ckAx5VSJ6C5rB45MJpSqYe004CixLW7XDsbIHjaW+KxUY29PpUrrteW/CtnpNK/F62IcAZNIWW8m5AIMHNGktqNcIbKGQBAqzs8ltGIMVfFHArp8kX7DiOcWb2ocO09hyeczSJIZXJWlYC5/naHAYUZzphrj6WzRU8UCoO5WTrWWN/lQOL9w4XXtWqB3T7lsnrGvF/75hUO/3W5trlBX9idUMJ4o9FlOGSuv3ROe8HHexyGM+bPPRKR1cbjsq1qwHguM9s1XYYzB0ZS1nHV5vp7Ha5vVq6Ya7sMRzLZnBUKLq7h+s2KcAZNIW28SIsHPEkg2VY4FJjKGQBAq9tptG9EItKJy+cUfG6/w3fxzU3oK1f2Wl8zOOomoNg/MiFzPqY5Z8TlhsEMCE7p61XMmLXhapOeyeZ0aCxduL5xQo/LNgPz2lfO79TcjraCz9UyoDh5eeG1O60eMdp6FnQltXRuYUDiNKAwAhLzZKZdh9393M0N+vzOhFb0Gtdew8qZk43nulLVJVWtbTyXRCLSumW1W98M2c1rPzSWdrY3Ghi2K6ZeYTzuCGdshDNoCpUMBJbsuTMTnNYEAGhx5kZoQVdSy42NossZEIPG916zpEcRoyDWfLc9vLULw4lIRDp2UXfB51xWrpjXvrA7ofldiYLP+c3nqIYZzEjSSctrt1k6YARu8zoTWt5rVK84mvuSy+WtwO8VfYXX7rRyxng8L+hOaJnxO+dy5o0Ztp5kbNL3HJpw1k5nhjMLuhNaYlbu1HDuihlMDU1kNOJzelxVa5vX7vFcu6fEXJZqmPer13Hprn7nzbXbYhEdbwz/JZyxEc6gKaSNt7kCtzUZlTO0NQEAWt2h0cJN+oKuhBYYbQalZlRU4+CYsVHtSmh+Z20CCnPtuR1tVouFy2s3A4LeTvvaXYVDXtVIqxcXtjXVMpia35XQwu6E79eE5fB42movOdGoYNg/knI2lNcMO+d3eYUzbjbpOY+5J+YmPZXNOfvZmwN5F3bXumrIP5iS3IVDZsvSop6kFhvBVC0rZ45b3G3N43TVwmrep4t72rVkjtHS5TCYalaEM2gKZltTpZUztDUBAFqdWUExt6NNC8zqDUeVK5JdvdLbaVePuNooHjSCqXmdCS3ors3akjTosX6trv2Acb93J+Na3FO4URwcTStn9n2Ftr4dUFjX7qydzf6+xy3utj7nVV0UyvpGQLCwO2nN/3AVTB0as4OptUvtajVXm3QzHFnYnbQqZ1y1NU2eFFV4vx41v0s9yXjB50oNrq2UWTmzuCdpzV3Z47B6ZN9hc/12j7kvbu5787oWz0lazzdUztgIZ9AUzLamoDNnqJwBAKCQGVDM7WzTQuMFu6vKFcneAPd2tlkBiTkjIyxm9YhXMDU4mnLW4nHQau1p0/wahUPmtc/rarPCkWwur6FxNy0e5nXN60poXmdtKmfMtbsSMSsgkNzNOjLXX9CVUK957Q7nLJkWz0la835crW8GFF7BlLNA0uOkqMnqldpUcJjhw6IeO5ja5yiYGk9nNWS0ay3yCIdcBSSHRu3HfC0HEjcrwhk0Bfso7WBtTVTOAABQyGzt6e1o08IuI5wZTjmpoEhncxo2NgzzOtustipXA4ntyhk7oEhn8zpco4CitzNhhUPOwhmzcsWjakdyF8yZVUMLvCpnRlxVrhjX3p1QIh5Vt1FBYd7GsJhh4/xuO5g6UKO157THlYzHrPXN342wmPf9wh772l2tbW7+o5HJiq0FxvOdq/WtUK47YYcjw27m/Rz2qAKb19lmVa+4qpgyn0PndLRZ4cxIKuts3k+zIpxBUzArZ8x+yWKonAEAoJA5c8arciWTy+vwePgbFq9N0NyO2gUUduWKvVGT3IRDmWzO2rDM96gecTWM2RrI25VQe1tMnYnC10rOKjiM+3ReZ0LzPKqWXDC/7/yXf+bzugqrR9y1lJlVBEnNN9Y2H5th8WorkiZ/72eqVeXOwq6k5nXW5trN57q5HW2KRSPWtbsKZ8yAZG5Hm7V2OpvXmIM3j70C5p52+7ne1WPevPY57XY4I1E9YyKcQVMI67QmKmcAAK3Oa+aMVwWFi9aiQ2P295xsLTKH8rrapNstXR0JO6BwsWHxmmcyzyMYc9Xa41U5M3kb3M8bShcJpsxhyLVqa5oKA+0KjtoEUwu6PdqaanTt84teu5uAwquN0QwoRlJZpRy8gWoGzHNebuWqVTBltgjOaW9Tb4f9XOvivjevvaMtpkQ8agdTjuYsmT/3OR1t6krElDD2cK7mPDUrwhk0BbOtKR6trK2JyhkAQKszX4zP7ZysoDCHZLqoHjE3IV2JyQ2D/W5urdqaJte1j7MOf7Pm1TJTy2HI5vpT4YAVDjnYqHptPud1tdmVK87CkWABhYu2qlQmp5FU4ZuD8zrtiqnD4xknp0WZAcHcYgGFo8fdsLF+d3vcCqYku90yDGYg2NM++Rxnru8qIDADkp72uHra49YwZifhjBWOvHztRjjk1f4UyvpmMNYeVyQSmQ7IprgKh5oV4QyaQnhtTVTOAABam1kd0Pvyi+VaDKY1NyHTAYERULiqnPEayOu1votrN0OPqWCqFsGQ5HWU9eS11yKg8Lo/vU6qOjSWdhJQWNUbHVPX7r69xpyxJE1ulM21JTchgRnOdLd7b9JdbJLzeXvA9Jz2NmsYseQmoDDX7klOrmuu76piyuvao9GIvX4Ngqk57cWu3VVLlz1zRrJDQSpnChHOoCmE19ZE5QwAoLUdMl40T71Y7jVetLuYOWMGFFNrm7NHXL1gt05rKlY546BqyAxHjgRThS1dh8bS1uueMJhVKb1Frt1F1ZL5WOpOxtUWi1ptTfm8m5/98IRZweD9uHMRypmVI9JkSOBVPeKiasm+9slwphbB1Hg6p4wxWLynffJnb1bquQlnil27+2Bqcn0zoJgKxoyAogaVM1PXPrdG4YhdOeMdDhHOFCKcQVOwT2uicgYAgHLl83lr7svUO+hmubmLF81e8yekIy/cpwyNp52cYOJ1WtPk/7sPh6y1pypXumpTRWCGBFObpFqcmGRWj0ydkuQdUNRg/SKbdBdrDxnhSCwaUXtbVIl4VF3WMGb3P/ful6tHeq1hzO7Dkcn1vUMCF8GUVTnTXqR6w8G1Z3N563E3tf7cGoRDdjBU26ohr2HIXuubR263OsIZNAW7cqbCmTNUzgAAWthoKmu94TH1YtkMZ8yy9DBYbU0vB0NT7+pOyeVlzemo1mQw5b1+La59aCJYm4HkpmqpWEBihjNOqjeMjWJXcjKU8D7O2v36U1UbtTgtyg5HJmdveK7voHLHDii8K2echCMeLV3TVUtmIFrDyhmzcqUWP3e/9V2EwcUqV8xg6vB4RtlcuEF4Pp/3OEq7dtfezAhn0BQqbmuicgYAgGle79DOLVK94qR6ZMxsK/JeWwp/UOVExrvFQqpN1dCIsVHtTEyunYzHrDeTzA11GMxwpuvlgGKOEYx5VTtUy7z27hk/71oMpi127VZAUYO1Z4ZRtTgxyQxIirb21GDmSzIenZ4bWYsTk+yZL8Vbe3IhBxReAWuxgKSeA4Gl8H/nR1JZK/CZuvZaPNc2M8IZNIVK25o4rQkAgCPMF+yRyJEqArOCw0X1xuhE4ZskU2t3GwGBFH5AYQYE0pFNei2ufSRlbtKPvIHU025W7oS7fj6ft65/qnrFXLsWwdDMa7db2mqwfpGAws28G+9wRKpNQOFVueO19sHRVOgBhV25MjOUq31rT7GqnVzeu8qnGuZzSCwaUefLbWx29Uj9BgJL4YdDXs9fDAQOhnAGTaHitiajcmY8TeUMAKB1WRUMibii0cn/pk69szqlFhvVqeqRWDRitbeE/m7uhP0aYCqgMKtHalE50zXjes37PuyAYjydk7nvnjq5xlzbxdG6ftUj1vouWrqKBBRmO93QeCb0WUfWaUkzrr0WoaA586bYvJ9cPvzHndVONjOYqsHsk6JtTV4nZYUcUHi1k021s9XixKRiwdjUvKOC9UP+nTcfx35vArg6LapZEc6gKVTa1tRO5QwAANPMOS6dMyoYanGKxqixfldBBYXbTboZEEQiUsfLb+LUpHLGCIdmbtKtyhnH1y7VtnLGL5hyvX4ul7ce99PtbMbaqWwu9NeKxap2pNrMOrIDktrNOio270byOi2qdpUzHW0xJWJmQBFuOFTstCTJYyBwDduaIhH7KO+wn+vNx3F38sibAFTO+COcQcPL5/OVtzVROQMAwLRRc5OcmLFRdNxaI9mtPbXcpI+aayeOvJNtzUGowYlBBZUzjue++LV0WW1FE+EPCLVae5K1e9yZjznpyLWblTOSg2DMp3LG65SyMOXzXicGTa7flYgpahSih33t5vfr8QmmXISCZmvP1PqRSMSaOxN2QGIFQ8kZLV1m9YiTgcDebU2e64dctWQFQzPWtoJwwpkChDNoeGYwI1VxWhOVMwCAFlZe5Yz7CorOGUcJu26vscOR4tc+NJEJff6Gb1uTFVCE3F5irB2PRqZfI3kFFF6VNtWtb1ZMzQzl3LZ0eV3LkbYmr0HUbtefeb3mtZsb6mpNZHLW6+ipa49EIs4DUTuUO7Kefe21O63Ja/2wr906LWnG81stAgq7cqb4EO6wq1f8HvNWWxPhTAHCGTS8TM4OVAK3NVE5AwDANLN6pDPh02JR99aesAcCFw8IzGvPOxgQas37SRYPpsKuoPCq2ilWNSQ5CMaM6/Ft7XFcuSIdedwl4lG1t5knZbmtoOj2edyFfb97BQ6F973bQNS69vbaVUylMnaL2sznGDuYct3SVdtgynfOU42r1boK5iwVtnSNprJK8eb5NMIZNLx0xn7nyhxkVYxZOTOe5pcfANC6rE16onj1SCqTC/1NDb9wyPWGxdowJIq/myvVonKnlsFU8Y2aV3tL+CdlFQ/l7JaucNc2Q7bOREyxGRdsbVTDXt8MpmZUj7i+dq+qoR6fgCT0+76ObU1eYcuc9to97vxa+czf9+GQK/Xy+bzG0sXne7muGhozKzR9KiQn16d6ZgrhDBpeKlt55czMJwPJfrIAAKCVmEdZd/pskiUH76ha1Su1O1K52FHS0mRAETMSirBL/e1hyLWbOePX0uXV3hL6YNhy3sV3PG9n5v0ueYUEbu973+oRx1VDiVhUyXjxTbr7gcD+1SNhnpTl2c7m29YU9u+7EQr6hCP5vPdspEqNp3My78rOtvpVKXa0FX+el9zMG2pWhDNoeOZJTZIUDzhzxgxnUtmcMh7fDwCAVmBuALp92pqkcAOKVCZnveFSy9kjftUjkUik5qdF+bZ0hTz3xK+la3L92t73NZ05Yw1m9b925zNnanjtVtWOsV6tZx35DYJOZ/OhVribYejM09kmb4vbgMJcv9Nn+LoU7s/eDIYkqSPhVzkTcjCVLv77noxHrdmhhDNHEM6g4WU8BgKbx98V05Gw3wUcZe4MAKBF2ZUzR16wt8Wi1psaYQYUXtWrXX4zb0Kfg1B8s+R6/Xw+bwcUBdfuOhgyW2tKbdJrF0w5n7viU7ki1b56xW/eznDIJ2X5VSx5rR/2Jt1qbymYs+QVUIS3vhmOdLTFpucsSbVv7ZkZDJmPwbDXN69dKnzD2vUgaOvaE/6VerQ1HUE4g4ZXTVtTl/EiU6K1CQDQuvzmrkhuT48Z9ng316/U3/Vx0mb1iH2CSrhtBuaeu6ByJul2s2SelmRu0l3f9/5VQ/YmOdT2Fp+BvN7ruw2H/E7pkrwHGFfKb/aH5L6tySsgKbZ22Oub87I62sxrdxsQ2JUzR9aPRSPWHsVlMCX53/fhP9ca127d925PKWtmhDNoeGZbUzQiqy+8mA6PcMZ8cQYAQKuwNgzJUhuWEN/N9fjvb1fBQGC3bQZ2QFB47eZGOcyWLq/5F35VBPWeuxLmfZ/K5KzTWPwCilTWPmWnGn7tbJJX5Y7bKoJun0BSCrlaLe0fzrie8+S3flssagUmh0K8761gqEQwVcuhuJPrO3yuNYLw9raootEaVg0ZbU2dNQ5EmxnhDBqeGc7EA1bNSJPtT2aQ45UmAwDQCuzTmmr3otlsK2pvixqn5jieg2C+m2u1NbmrIvB6Y8iveiTs01tKBRROf+4lTgxyHVDY7WylNunhtrOZAUX7jEDCPDlKCjcULDegCDsUNAOKdiOMcXmEvH0yXImf+0TIzzdGQGGOWnB539vBkH8rX9jhjF/VkOS+UrCZEc6g4aWNmTNB581Ik32NZimd+R9JAABaRakNi8sX7X4zV6QaDMU1hyGXbGtyVzkTi0aUjB95PWNWb+Tz3m1gYa3fVaJqKMz73usUGr/5F2Gvb7a3WAGBw4qtdDZvzZCZWS0yOX/DXRWD3dpT26oh+/mmxO+8w5YuOxypc0Dh8Ode/tqug/DaVi01M8IZNDyzcsac8F2K+S4BlTMAgFZlvmiuZwWFPfOl8OOxdNbzxMZK2QGF/7vJLisYuhL+w0mlcMMhv5NjJI+qpRCrCLxO4JkZkCTiUbW3FW5JwnzcTWRKhTPuHvNecw7N16UuBxKb4UiptcPepJs/e7ONyTohLcTHvNVSVWLtMGf9SP5DcSXHbU0l2tnMtUdS2VAHUZtVQ6VCOXNgeSsjnEHDs8OZ8h625hPSWIjvRAEA0EzMKgZ7FkDtKihKbRiksGfemMdJmy0W7t7FL9VW1J2IK2K89xTmtfudHCO5raAwqzfi0Yj1Ws5l9YoZENitNe6u3atau7OtVCAa5s/dDEfM+93dYNZMNmcd6mGFQ9ZpUbWbOWOemOS8cqbEUNwwAwpzr1OqpUoKN5yicqZyhDNoeNWHM4VPAFTOAABalRVQWO+ku6ycMcMR/8qVsNcvNW/H3CiGWTljzR0x7vdoNGIFNmFWEYxnyps9UsvKFdfr23NPCl9HOl3bI5xpT5QIpkJ93PlXMHgdYx7WSVlm9cbk+v6BrMu5K6UqV1LZnBUkhrm+XT1Sw7amEsGQFG61XKlgzP7vDOHMFMIZNLxUpvA/EuW2NZn/ITAHwwEA0Ary+bxH9UotNwz+bUXtbVHFjeGoLudvmK8PXM6cseaexO2AwuW8H7t6pHaVK2b1hrm25Lhyp2Rbk7trNx/z0Yg9O9Ft5Ux5157J5T3b0CoxXuI458n13QWSFQUUId33QaqG3J7W5P9c1+W4Us96rjf+O2NWLYU9iLqZEc6g4WVy1VXOmE+GtDUBAFrReDonc6yA2dpT0w2DsVnyGo7qMiBJltgohlk5Y83eSJSuHglzwzJRIhyyf+4O73ePYKqW65dq6RqeyIQ2f8MOBOMFs4a81g935kx57SVhru9VqV7Ltia7aihIOBPStQepGkq6q9gqNWvIq1KvtgOJOa2pGMIZNLywZ87Q1gQAaEXmC3aptkfr2kcKB6igCOlFu/eRxoXrW5UzDgOCINce7ka1vCONXVaueAVT9uwTd8FYqbYmKbz5G3bVUOmKKZdDcc1gymVAYa4diajghDKv9d22NRWulYzHlIibg6jD+rkHaelyN++nVDgiuRsGncrklDHCzVqfFtXMCGfQ8NJmW1O8upkzXk+YAADMdl7zL+zNmruAYKLEYNbJ9d1s1tLZvFU1VGow7Hg6Z81LqZTVWuPZ1lS7qiHz2l3O3ygVjnit77KdrVRrjxRm9YhZweB17bVrazKDsXgsam2cD4UUzHlVyllVQw6DKWvuiWcw5ua+93ojuNTvnMufu7kXmlzfzbV7B1O1Pca8mRHOoOGZPZttUY7SBgCgXKWONJbcvqNZapMsuZu7YoYjXuublTNSeBUk5vyNQNc+EWZAUWrmjLv2FqtqxyuYsip3atdW1ZmIKWa8tnR17eZJTZLbtqZSlTOSu6O8S1WuSLWtFvOqHnHVTuc1a6hU1VC4bU2lq9VcrW/ONfNan9OaiiOcQcPLVNvWZPyHyOtJAwCA2S7Ikcb28a6Z0E5vCRLOuJo541UFYg8ntcOZsObOjGcKX8skPatH3Fx7Pp8vORTX5THm1rybGoZyUul5P96zjkIK5Uqc0iXVtnLGs72lw1EFhRkMBagacjlvJ1hA4aZ6xGvWUD3ne3mtH1Zbldeb4ObjzgyDx9JZa4xFqyKcQcNLZ6tsa0rS1gQAQJAjjc1Nci4f3imHQdpbXG3SzZYqr/UT8agV2IS1WQxUNeSoiiCVzcnM18z1E/GodX+4Csa8H3c1nHXk8TrSVRWBVT0S4DHv9NoDVI+E9XM3q0c8q4astWsbTLkKhyoJhsIMwq1hyMn6tTUlYlGPNwHsMDisOU/NjnAGDc9sa0pUeZQ2bU0AgFYU5EjjWg4I9a6ccdNm4FU5E6S9JrTKmQDtJa42iuOp0sHU5PqOWsoafOaM5O44bfPUHq/ZH67mnkjBKihcrR+kamhuh7sKikBtTUk3j7tKBvJmc/nQ9ihB1ncVSJY6Kcpr7cn1CWckwhk0AfNJOh6t7rQmKmcAAK0oyJHG5vGqksPNWoAKBlezPxKxqKIeM+ysE5tCC2fKrxoKKyDwmrcTZDhqbauG3LV0TWQqGEQd1s89yFBaj8dceBUUAU7KcjTzJlgw5K6dzgwJgvzcw2vpMgKKAGuHuf7oRCXzdty0s3k913W0uZvz1OwIZ9DwMlW2NZlPiMycAQC0InvuiP3f03gsqi7jhXxoG9WM/+wPyV1rjxmOeM18kdydHhNkKK61WXI4bydY1VLtNmuu1jaDGSnYUFx311567UzOPva9EtlcXinj+gO19oTW1hSktcdrCLejcMjzxCJXA4FLhyPdDqsUS82YktxVzthBtL2215wnKmcmEc6g4ZmVM21ltjWZ7wKOhHj6AQAAzaLUYNQpzjbKdZw9EqR6Q/KonHFVNRSkesTRZkmyT46ZXL9GVUOex4jbJ1VlzbPPK+BVLe1ZtVSr6pEatnh4BTw1PSEtQNVOe1vUel3vav1grT3uBgKb2mJeM65q93zjLhAtHURPru/utKpmRjiDhmfPnCnvYWv/B5dwBgDQeuy2omAvml0FJF5tVXZA4GijWCScMdcPa+aMOZA4SPVIWK9XzE16Mh61To6ZXN/R7JFMkAoKe/M6HMKbaV4tXckaVhEEaSvyuvYwgjGzrUcKVj1Sy7amSCTiZCByOpuzDhQJVD0yEdLvu9VK5713qVn1ilcYW6tZQ8Wu3dG8n2ZHOIOGZ82cKbNyxnwX7FCIvbwAADSLoNUjzjbpgQIKR5uVgJslZzNnAp2UVXjtqUzOsyWp7LUD/txdnRoUqGKqw017i1fVUKB5P66O0va49ngsalV1hBHMeQ2C9p55U6ujtAOGwSH83L2qhjzbKGtUNeQVCEoun2vr19ZkBlPBr53KGYlwBk3AmjlTbuWMw2noAAA0i8DvaDbQ/I3D4+EcLxs8oKjNaU1B2gykcO77wFVDzoaj2pU7pq5ETOZ8ZhfXHo14V2C7qqAI0tYkuQnGRtP2/RcsmHJ1jHiwarUwfu5mpZoU9Ah1V8PPa9dCGnQIdrejypXgbwJQOeOFcAYNr9q2JvNdMCm8F1sAADQLeyhubd/RDPKi3fxvdlhvqATdLLmaPRLsGHGP9pYQ1g9SsSTVcOZM0QGh4d/3Xve7V0uXq3a6oAGFi5DAXLu9LVg7m7M2xhpWbNV7CHbQ3znzvh8OIRT0GoLtFYhaa6cyyoUw5ylIS5XkEQYzE1QS4QyagNkzWm7ljNc0dI5rAwC0mkZ7NzfIqTmSm81a0dOanM28Kb1Za2+LKWFsZEKpIgjQUiXVroogaEARTltTZRVTrgLJoNUjLlq6alm5IlU+dyWMazcf85Pr1/LEovr9zgUPpgrXzucnA5qw1w9+7ezNJMIZNIF0xjytqbyHbSxqH9d2aJQnAABAa7EHswZ8RzOEF81e7+Z6bda8j5cNY8MQcKPabs+pC0PFc1/CmL+Rql8Fg1T5tbtobwn6c3c1jLk96NyVMALJgKGcee2jqaw177Gi9YNWqzm4783f97ZYRDGzb072881EJmcdP17R+kGDKQetRUHnLHm1UQ47WD9o+ywHtkwinEHDq3YgsOTuP7oAADSLIEcaS/V9NzcWjag7Wb8KCvsobTenNdVy7otdvRH05Jj6tnjUsmLK2iiGdHhE8BYPF8FUZVVDYa0fOJRzcIR8pcGQFE4gG+RkOsnNYz5o1ZD5PCuF9HOvc6VesyOcQcNLG/2P5c6ckdwdjQkAQLOo56BGz3dzi26YXGzWgs5dsYOhaucwZHN5a35e0YDCQThkv4tfu9YaqZxNeviPO6typeisocKfeyaX93zMlqvigMJBW5PX3JHJtb0GUdfud84OxsJ/vilWLeZqLmXQ4eu1aGeTvH/2XkF4OD/3Sv87w95MIpxBE7DbmsqvnJnr4D96AAA0k3pWMHgdbRt07kst3801N2u5vDRS5RwGr6qhYu+ku2gpCz5ryNWA0MreSXexUS26Sa7RrKPaBqLB1k7Go9Zr61ACksBtVe4f88WCqUTcPsY8jHAmyGlJktTbGf6bx17X7jUIWrKf70K59oDVYlTOeCOcQcMz25raivyS+3HVRw0AQLNopI1iJFJ8w+Rkk26dXBOsekOqfsMStKVL8po5U7sZEOba+Xw4J6gEnb/horXHaukqMvPFe9ZR+FVLRatXanBiUbG1I5GIx30f/iY9aOVOKDNnrGCo+N6h1wooUlWvb7WUFQlEzXDkYAgzMYM+z9dq/aBVS3Q1TCKcQcOzwplo+Q9bngAAAK0u+NG2tZkBUezdXCcDQs3NWpGNYnciLnNuaLUBiblBl4JXLdW2zSD8gCKdzSlrVN8EbqtycZR2kU1yW8yrgqK6n3s+n7eGy9b01J6Aa0tu7vtKw+BQTmsKcHz7FBejD+y2Ku/f997ORPhrBwxDJ9c3wplQ1g8WClpVQ6PhzHlqdoQzaHjWUdrxCgYCOzoaEwCAZmGd1hRwszQ8UX17S9DqDak2cxiKnZoTjUas669p5YyLKoKAm+QuB8GUVztb8PaW2g3FlcIPxoKeUCa5eczbAUXx3zm7Ws3F4652p8MFbamSPAKKMKpHAq5vVu0cDGEQdTmVM3ZAUn3VkP1cX+zaC4OpVDan0ZT9fNFqCGfQ8KzKmQoGAlM5AwBodUEDkrmdHu0tVW6Uy9ks1apyp5iwT2wy145HI0Vfy/TUcUBn1MGAUM9gqpatPWZbkV8oGHLFVjmhXD2P0pbc3PdmOFV0zpI5Y6rGYbCLPUKlp8OlMrmqB1EHbWebXL8wIAmlcibgtfd22S2kYazf7Ahn0PDCCGfMZPjAyERVtwkAgGYTNKCY12m/aB6s8h3VcioY5hql/oMjtZ3DYJ6cE3blTFntJTWcOeO5fpUBhVm9IRWf+1KLI9yLVYt5rV9t9Up5J5TVYCCwTyBpH2dd3fqZbE6ZgO1s5v2ez08Oo65GOdduVnCEM3cl2FBcc38iSQernHlTTkuXi6ohexhy8SA6ZpTqHQyhcqfZEc6g4ZltTZUcpb24p73g4z2HCWcAAK0laLl5R1vMerf1QJUvmoMe6ytJ840NQ7XBkNf65byTHvYm3T8cCTcYksqroAh7/od35UztjvIeCzgI2mv9qqvFyjihzDxVdDSVtd6cLH/9MtqakuEOBC5nzpL3Ud7VhoLlhMEu2iiDzffqaW+TOXqr2oDEnq/lF0w5mDkTMBiLRCJOBhI3O8IZNDzzP07xCo7SXjInWfDx3qFxhk4BAFpK0BkQkUhE8zrNd5OrC0jM2SPFqickaV6XUTkTSjhTRYtHyAFFsfYOSdb9Xm0oJtkBhV/1iBkSVLtZM3/uiVhUUXOwzcu8Wnuqnr9RxnBUK5iqOqDwOkK92CBoO6AYrmFAYVXOVDsEu4yWru5E3Aooqv6dC3hKluRxYlGVa+fz+cDVI7GofVJWtYGsdUpWGQOBazlzxmt9whnCGTSBMNqalswprJxJZ/Ma5AkAANBCygkozIDkQJWtReW0GVgBhZO2pjIqZ6quoAgeECzoKnwzaXAkVdOAwly/2jbwoKfWSHZ7STqb10iVA0LLau1pD7udzQ4Igp5QJoUfDvkFFKEHU2WEM16zjkIPRMs6TrrKtiKvqiG/6pWQA4ryjtIOf+aMHQoGP8Y8jCC+2RHOoOFZpzVVEM4s6klan9tzeLzi2wQAQDPxngFR/L+n5tyZajcs5QQU8z0qZ8IPKGp3tK4198S3aqhw7UwuH8Lcl+CbNfO+PzBS7c89eNXOgu6E9bn9w9WGQ8Hve+txV+W1l3O/t7dF1RYz52+EXUFRxhBuB/N2/MKhsGfulHNSlVU9EnLlyuT6wcOhQ1XOnGmWk6om1w//KPFmRziDhpcyKmcqmTnTFotqofEffcIZAECr8J4BUU7lTLib9HLWzoYQUJT3bnK4bU1ma4/fu+hm5YoU/n3v11ZlBhT7h2v3c+9M2LOO9od97X7hUNjXXkbFUiQSsX72+6utWqpikxx29UbM54QyyUEgWsa1h31ak1c7WzmVetXf98GGEUt2OHN4PK1sFSdlZXN56031coKxagPR2YBwBg0vE8LMGckeCryXocAAgBZRTpuBZFfOVNsKXM5maX6nXUFRzYv2fD5f5/aW4NfekYhZ1SVhtxb5tjV1hxzKlRlQLOw2Aoqqw6HgG9UFxtoDVd/vwX/uk+sX3vcDYV97GT/3gSorliasobT+W07z+abqYKrK05qqOcq73OdaKxir4fONee35fHXDoD2HYJdz31M5QziDxpbN5WU+P1bS1iTZQ4GpnAEAtIpyNwxmQFJ9i0fwjWJHImb9fTWDcVPZnPVaorzjpKtscygjoJC8WovCrdzxay0Kva2pjNOSJK9wqHYBibl26FVDPpvUyfWNcCjkli6/9c1Q7MBoynpztBzlHOcs2eMHahlMLewp/LlncvmqAtlyW7rMYOpADa/d6yjvaoL48oMpBgKbCGfQ0LyOEaykrUmSls4trJzZTTgDAGgR3kca+2wYQj4xqZwjjaVwwyGvzVI9Z874tdZIXgFJ7QIKq62p6sqZMn/uXeFWj5QTTJkBxaGxdFXHWZcTSE6uX7+WMvPa8/nqAtFyf+7m+gNDNQzlPFoJ91URjNlthMUHQUvSIuPaq1lb8hoE7TfrKKZOYw7Tvirue6/2Wb8h4FYwVeVz3WxAOIOGZs6bkaS2eGVtTcvmdhR8/OLASEXfBwCAZmMGFPFoRHGfNzvME5OqDWfK3ayFOfPGHMxaan175ky48278AgIp3MoZ72N9g29Uqw0oym7tsU6LCruKIPjMGanKULCMTbLkEVBUXTkT/DjpeZ1t1nHWA0PhBaJ+G3TJvvbqA4rg156IR60KjqoCCo9wxs9io7K/mrWl8k5LkqTFRtXS3qHK37z2fhOg+OPerJjaW+W1zwaEM2hoaY8ENh6t7GF7/OLugo+f2zNc0fcBAKDZlLtJdj4QuMRG1evEpsrXtl9L+AUk5skxY+msUh6vR4KyBgKX2CyZIUE17yZ7HutbxklZUrhVS6Vmj9itRbXbqPZ2JuyAoorqFbtiqraVM9bcF5/HfDwWtarVqgmHyv19Nzfp4QcUJdYPMRgr52Q4KfxrLyeQlOyZnGEGU9GIrFPICtaeY8wDHZqo+mS+Zkc4g4ZmHvspVd7WdPySnoKPB4YnmAoOAGgJ5b5gtzaKI6kqKyjKa/EwK3eq2iR7nJ7ie6xvR9z6XJgzKEptVM1grJrWIq93sv2CKbPNoNr17WCqVOVM/dqqYtGIFVBUM5i23LkrZtVQ1UN5y26rCjGgqLKlq9p2tnLnPIUZkJQfDBUGFAPDE1UNJDZDuVJtlIvmhFe94vXfGb+WLrNqJ5XJtfxx2oQzaGhe71RV2ta0akGnFew8t2eoou8FAEAzsStn/F8Cmq3A+Xy1L9rL27BYc+IOhVdqn4hHFY0Wfy0xz6OCIsxS/1rOXTHDEcl/sxaP2S0e1VRNlfu4C/Mo70w253Gsb3kDiatZv9xWvtBPayp37kuPu8qZclu6DoxMVHWkc7lznsIMZ8o5oUyy25oyuXyolYKlqtXMqqFqTrMtp1pLsu93idYmwpmQbdu2TR//+Me1bt06dXV1af78+TrzzDP1pS99SaOjo/W+eU3H6126Sk9riseiOnZRV8HnnttLaxMAYPYre+ZLZ5sSxov6qgISY8NSau7KUqPcfdehsYrXtoYRl9istMWi1oZl18FqwpnyNmvLrGCq8mv3HoZc3matmtMtzfVL/dxDrd4os6VLCrd6pdxNsldAUWkFRTaX9wimyrv2cIOp8uae5PLVtjKW11ZlzbypYRA9v8sOg8McSFyyrcmqnKn8992q1irxmE/GY1a1XjXh0GxAOBOiH//4xzrllFP05S9/WZs2bdLo6KgGBwf12GOP6ROf+IROO+00bdmypd43s6mY/2GRJocYVuqEpYWtTY9vPVDx9wIAoFnYpyX5vwSMRCIeIUEVm/RUefM3lvea4Ux4wVCpzYokLestrByqJhwq991ks2qpf3Cs4jkM5kYtEindHr68116/UuW2eCwxQrl9wxMVz/sp91hfyX4nv7pgqroTi3JVnJjkde3lVq9UExCU29LlGVCE2l5TZltTVddeXjDU5jHvp5qAotwg3uXMmSDPteb61fzOzQaEMyF58skn9ba3vU2HDh1Sd3e3Pve5z+nBBx/Uz3/+c73//e+XJD377LN605vepOFhqjWCMitn2mIR397FUs5YNb/g4/ue21dV2SQAAM3ACihKbBgke6NcTUBR7oZhqRFQ7Dk8XnEVQSUbhuVzwwuHyj1GfIURjoyksjo8XtmJUV4VBKVeR5nhzM4Qf+6l2ktWzLPb6Sp93FUSzpjr76gimKpk7or5BmSlwVgl125WUFRVLVbm73s8FrXmTFXa3pLP58te3zrOOsRgqFQQLYXcVlXm484+rSm8YKjU77vkVblD5QxC8NGPflSjo6OKx+O6++679Zd/+Zc6++yz9brXvU4333yzvvjFL0qSNm3apH/4h3+o861tHnY4U91D9sITFhV8PDia1pM7Dlb1PQEAaHTlVjBIdntNLasIzLXT2XzFw2HLPcp6cn2zcqZ2G9Ulc5NWFUHlAYXRVpQofe0rjKql/io26eVWbM3taFNPsnAgc6UBifexvv7r94UZzpR5lHY8FtUy477fPljZSASvlq5SIYF57ZWuLZU/jFiyq+V2VLh+KpuTWWhW7nHW/QfDq1YL8lxrhjO7a/hca177gZFUFdVq5f/czcqZatqqZgPCmRA89thj+uUvfylJet/73qezzz7b+po/+7M/07p16yRJN954o9Lp1p5EHZTZ1lRtONM3r1PHGUdqf/Ohl6r6ngAANLpKNgzmUN6qAooK5m/EjCqCSgOKMDaKOw/WroIiGY9ZLSaVrm9XzpS+drN6pL+KTXq5M2e81w8nmGqLRRQv8Tqyb15nwceVBgRSecd4T1lprR9mMOV/3x81v3DtXYfGKz6hrdyBwF7rb9tfYTDlOWepvGsfGs/o4GhlezU7lCv9c7eCsQMhBmMl7ntzvpcU5vNNkArN8Cq2ZgPCmRDceeed039+73vf6/k10WhU7373uyVJg4OD02EO/IVdOSNJb3rFsoKPf/ibfj36IrNnAACzVyXvaJov2sM8ManUZikWjWiJ8W5ypeFQJaX2oVbOVLBhsea+VLhhqayly2hrOjheeRVBmVVDkt3WtaOGG0Vzkzw4mtbIRGUtZfZxzuWvX+km3dygRyOT4ZQfMxjK5vIVb5QredwdNb/w0I5tlV57pvyWruW9HVYY/FKF63sdJ13K0QsKr33r/pGK1s7m8kply2ur6u1MaG5H4VDeFytcv5L/zqw0grFKr322iJf+EpRy//33S5K6urr06le/uujXXXDBBdN/fuCBB3TJJZc4v23NzmvmTLWuOWeVvnr/Fo28XGqby0vvuuURvfXVfXrVyl4t7+1QVzKuzkRMk8/TEUUi0tTKkUhEEenlz0Ws0uNGENZtqma+T8H3CeW7hHdd0uTPLpTvE9Z9Hc63CfEbzd77KKzHtdR4j+2wfmahPo4a7CY12s8/HosEele5WhVt0o1N8tYK38nO5fLWRjVIe82y3g7tnBGKVFpFUO7Ml8m17WAqm8tbG7ggKtmsreht15Pbj3xc8TvZFQRT5s99LJ3VwdG05hnHXAdav4LNmhlQhFU50x6opavD+lz/wTGtWdLj8dWl1i//vg+tcsYjFCv13NfbOdlSNjQjjNo+OKqjFnT6/Ksi61fwc7cqZ0IKpoKs3xaLakVvR8GaL+0f0atW9pa/fpknVUnSKuM+fqnC51rPYCrAf19WLezSk9sPTn+8dWBEOqH89Sv578wxCwuDqRcHRpTL5RWt4gCYZkY4E4KNGzdKko477jjF48Xv0rVr11r/JqgdO3b4/v2uXbvK+n7NIuy2Jkma15XQta9drRv+97npz01kcvr2I9v07Ue2Vf39AQAoR08yrhXzOvTqo+fp/OMX6fXrFpdsvyhXuUfbStLqRYVtwAPDEzo0mtZc4+jTUsxgRgq4YVjQpV+/NDj98ea9Q2WtO6XclirJ3iSnsjntGBy13uEOtr4x8yYRoK3KqF7ZOlC7d7KXzm1XNDL55tWUbQdGKwxnyq9esYfyVrZRHaugrai9LaZFPcmCgaw7BkcrDGfKf9z1zQ9n7kslm+RIJKK++Z3auOvwkfUrrR4pc96O5N3WlM/nyw7UK2npkqSjF3QWhDNhtVUFW7vweWXXoXGNp7OBfm4zVRJMSdIxCzrtcKYClbR0HWuEMxOZnHYfHrdC4lZBW1OVxsfHNTAwIEnq6+vz/dp58+apq2vyAbh9+3bfrzWtXLnS939nnnlmZRfQ4FxUzkjSH73uOL1u7eJQvhcAANUYmsho0+4hffuRbfrAt36tS264ryCUCMNYqpINQ6d1eszmfeUHJN4nx5R+CbpmSWE49Pyeyk67NDcMQap2FnYnNM8IoZ7dXWk4VP5G9Xjj2p/dE87aQWa+tMWi1kY5rPWDtbcUrr1573BFbVWVBEOSXbmzZV+lwVj51+5VOZOpYO6LPXck2JbvKCMcqry1p/xgzJr7MpHRobHy576Y4UgiFg1UhWGuH961B3uuNVVSOWQ+10nBKrZWLTTbqsKpWgo6DLnLeE5+scJwaDYgnKnS0NCR/1h1d3f7fOWkqXCG47SDcTFzRprsZf/nd56m9567Si1aNQcAaFAvDozo7V95SD95endo37OS2R9tsahVcl5JQFLphsEMKJ7bM1SzTXokEtHxRrXE83vLv/ZMNqeMcQR4kPverNTYOjDiGXKVYlePBAsoTlhauH5YwVSQ9U9YOqfg4/0jKe0bLv943UrWlqQ1iwuvfcOMSpKy1q/gd+5Yo1otlclpSwUb1UqvfZVRwfFchT/3SubtLO9tt8LgSn7n7Fa+YHsH89q37KswDK6gWq0zEbeOtK4koPAehhygcsYKZ2oXSEYiESscquQxP1sQzlRpfPxIL3QiUbrcM5mc/MUbGyuvh3T79u2+/3v00UfLu+FNwjzKLREw+Q+ivS2mT19xkn758Yv08Tes0e+ctETHLuzSwu5EoCcyAABcyeTy+uN/X6/fzCg1r4Z5ckyQ6hFJ1gmHmyvZLFW4YTje2CQfHs8UtJtUun7Q/8afYAQkz1VQPeJ1pHGwqqHCtXP5cO77oNe+1ghINu2uMKCoYP2j53eq03h8btxVfcVWkKohSTpxeeG1b9gZzrUHafGY35WwjpGvZH0zoAj6+tm89qd3Hip7bamyn3s8FrWeb367o/z1Kw2mjjPC4I27hiqrWqoglJOkYxcVBhTPVPJzN649EpmsHCrFDGe2HRjVcAWDsO05S8Eed9bcmQqr1WYDZs5Uqb39yBNoKpUq+fUTE5MvKjo6yuujK9UyNVuZ7zaZiXoYjlrQqT963fHW53O5vPKS8vmp/5/8fF75I3+u7PACT5OrhPS9Qr1dIX6vMG+Ywr5tYX6zML8Vj4uyvldo3+nl79egP8sG/VYNe3816mNfmhxWu29oQr/tP6gfPblTT/cfeUGeyuT0Z9/9jX78x+eXPXvAVMlGUbLDmU0VvJNe6YZhRW+HOtpiBdUfm3YPabHH0a9+7CONA1ZQmK1FIVx70PW7knGtnN+h7QeOvJn33J4hnbxiblnrW9cesLVn3bLCcGhTBeFIPp+vqHInGo3ohKU9Wr/t4PTnNu46rAvWLCprfesxH3CjaAYUm/cOayKTLXtwd6WPuxOXzSk4HeyZnYf0u6euKHPt8itXJOmk5YWPrz2HJ7R3aFyLe6r8nQt4371ixdyC55in+ysJZyp7rjvF+N0aS2e1ed+wFVSWXr/8QdCSdEpfrx7ecuT02CcrCOa9qgSDzOxZs6RH8Whket+Vz0tP7Tioc1YvLGt9q2Iq4M/dnDvTyic2Ec5UqafnyH+8grQqjYxMPtiCtEDBXVtTEEf6U+l7AgC4c9zibp29eoHed96x+tSdv9Xtjx6ZS/fCvhHd+L/P6y8uXevzHUqr9N3kk4yN6vptg8pkc2UNLPaqYAiyYYhGI1qztKdgk/Lrlwb12jI36WZAEHSzZLbXPL93WMMTGXUng798Nk+KkoJXcJywZE5BOPPk9oO6+rTy3qyzfu4BK6bMDen+kZR2Hhwra0in5yDogNe+btmcgnAmjCqCoGuvNVq6Mrm8nt8zXHYwZlZNBa1aOmn5HP18097pj8O59uAVDJ2JmEZnPG6f2XlYi08oL5yp9L5/Rd9c/eevjxyC8lQF4UyllSsLupNa0duh/hknoz21/VAF4UyF4VBf4ePryR0Hyx6IXGmlXHtbTOuWzdFvZ9zfT24/VHY4U+nP/ZhFXZrTHtexi7p17MIunXb0vLLWnU3o3ahSe3u7Fi6cfOCWOlFpcHBwOpxZuXKl89s2G7hsawIAoJHEohH93ZUn65XGi/Sb73uhondRZ6pk/oUkvfro+QUfj6SyZbeYVDr3RJLOXFX4Iv3RFw8U+criKt2ovmLF3IKDCLK5vB7fWt76nkfbBrz+U4/qLfh45rvqQVVycow0ORx1TnthCPXwlv1lre11ckzQYMoMBR/Zsr/sKstKH/M97W3WgNZyH3e5XN56DRu4csaoXvnN9oPW9yrFDoaCrR2LRnTiMiOQrWA4ubl+0KolMwB7Yd+wDo+XNxS40oBCsgOS3+w4WNbak+tX9rh7ZV9vwccHR9NlH6ld6WNeknVs+G+2V/Bzr/C+v/KVK/Tkp9+gOz98rv7h7a/S/3PW0WWvPVuw0w3BunXrJEmbN29WJlO8P2/Tpk3Wv4E/F0dpAwDQqOKxqL741lcWhAK5vPTx/3xSo6nyZwBMMSs4gr5oXtSTtErOHy03oKjw5BhJOvOYBQUfP7FtsPyNqrF+0ICgIxGzNizlBiTm2m2xiGIBW7TPOrbw2p/dM6T9ZQ7GreQ4aWmyaslc/8EXygtnvAZBB13/bGPtvUMTZc/cMU8o6yhjk/6aYwpDyV9tHihr7UqPj5ek041AcjSV1fpt5W2UKz2pSpJVtXDf8+Vdu+f6ZbR0zWx5zOelB8u876u59lcav+/l/twlr9aeYI+7vnkdWmAcV1/u75zZTha0akeyw5lHXzygbK42gWg0Gin7yPTZip1uCM477zxJky1Lv/71r4t+3b333jv953PPPdf57ZoNzEFcLmbOAADQSE5Y2qM/NmahPb93WH/0nfVlv4s8pdIKCkk6Y1XhRvWXz+4t8pXF1q6mcma+Zr5mn8jkyq5eqebd5NcY4VC5m7VqNoqn9M21BuOWHZBUcd+fs9oIZzYPlFW9Uum8HWmyvcYcjFv2fV/Fz/284wtb5x7est9qtfddu8Lj4yVpYXfSqhx6oOzHXeXVI+cfX9jK8tSOgzo4Wnqu5pR8Pu9xfHzw9pozjWDs3uf2BV5bqu4xf95xhdf+0v7Rsk9NqnT9SCSis43fuXvKfq6trGJKkl5zbOH9PjiaLrt6pprHHSZxj4Xgd3/3d6f//PWvf93za3K5nL7xjW9Iknp7e3XRRRfV4qY1PWvmDG1NAIAW8IELV1sbtF9s2qszP/e/ev83Htf2A+WVu1c6h0GSNePlwRf2a3Ak+GbNPto2+NpzO9t0stHm8T9lHjFezYbBDCh+239IOwaD3/f2UNrg194Wi1rB2E+fKfPaK5x7IknnGBvVnYfGy5p/YlbtSME36ZFIROca68+cwxJEmMHUSCqrh8oIxio9Pn7KeUZA8r8bq7v2coYZn7FqfsHjJJcvLyBJZ/MyCy7Kue8vPKHw+eaeTfuUK6OCwz7GO/hj/qTlc6wjrX9Rw8fd69YuLvj4V5sHPIO+oGuX85jrm9dpnVBX7uOu0kHQOIKdbgjOPPNMnX/++ZKkW265RQ899JD1NV/+8pe1ceNGSdKf/MmfqK2traa3sVmljLamIKc7AADQ7NpiUd30B6dacz/G0zn9bMMe/dl/PlnW97NaexLB/3t64QmLCjY42VxeP9u4p/K1y3w39Y0nLy34+CfP7C6r3L6aDcMZx8zXvM7C12w/KSMcqrStaMolJy4p+PieTXur2qwFbemSpOMXd2vl/MIBwOVcu1coVk7rwkUnFG5UH3phf1kVHNW00y3sTlotLv/15M7A/97r+PhyWkwuXFN47Rt3HS6rrcsOY4Ov3d4Ws9rK/uvJXRWvPfU9gzJP5dp9eFzry6jgqCagiEQi1vr/89vg1y5VF4hesGZRQaXgaCqr+8toK6u0pWrK69YVPu5++vTuqqrlqj1lsBWx0w3JP/7jP6qjo0OZTEZveMMb9H//7//Vww8/rHvuuUfXXXedPvnJT0qS1qxZoz/7sz+r861tHvZpTbQ1AQBaw7GLuvXV95xhBTTS5DyAcsrtq3knvSsZtzaL5WxYqn3BfqkRzuwbmtCvyxhSWs1A4rZYVG84sXD9/67i2ssJRyTpd05aWrBZG0lldV8ZVQzWDIoyN6qXnrys4HP//fSuwJu1an/uF56wqCDQyOTy+tmG4KGg9XMPeFLVlCtOKbz2nzyz2zN48GJ+XSRSXjhz5jHztcio4LjrqeDhUKVHaU+57BWF137vc3t1aDRYS6VXMFVOSHDc4m4dt7jwVNtywqFKW6qmmGHw4y8NFpzg5KeaQdDS5IlRpxszf8r5uVf7O2eGwVsGRrRhV/BquUoHQeMI7rGQnHrqqfqP//gPzZkzR8PDw/rLv/xLnX322Xrd616nm2++WdJkMPPjH/+44Pht+LNmzlA5AwBoIWceM193feR8vcF40SwFDwnS2ZwyRqVJ2QHJKwo3LA9sHtChsWCbtWrCEWkypDKPN64mICl3w2Be+xPbDmrXoWCbtWo3S4t6kjrTaG2qrnKnvPXNjeqWfSN6PmAFRzXzdqTJUNCsYiivcqe69d9khDND4xnd91ywKgav45TLqRqKRSN6kxGQ/OjJncGDsSpaCSXpDSctLahWT2fz+umGYPd9NbOGpMlQ8IpTlhd87q6ndgWulqtm7ooknX/8IisQ/3HAgKSaQdBTrnhl4bX/bMMea6B7MdXOfDl1Za9W9BZWy1UXjFE5Uy52uiG64oor9NRTT+ljH/uY1qxZo87OTvX29ur000/X9ddfr/Xr1+u4446r981sKrQ1AQBa3VELOnXzu0+3Not3PRXsRXM1w0mnvG7tYiXihZu1nwdsbQpjSKT5Tv5Pnt4deA5Fpac1TTln9UL1GJu1oCFBNS0OU8zKoZ9t3BP4xCp7EHR567+qr9cazPs/v61sk17RtRvB2P3PD2go4FDsaoOxZXM7rGAsaGtTGO0d5iZ9y77gVQzV/s7N7WizZr8EvfZq25ok6fJXFv6+DwxP6JGAR7lbLV1lBgSJeNSqGAsaUHg915YdBp+8TFGjtSno3JtqhmBLk8GYed/f9VSwUNBrEDQDgcvHPRayo48+Wv/wD/+gZ599ViMjIxocHNRjjz2mT37yk+rs7Kz3zWs6tDUBADDp/3nN0QUfb9x1WC/sK13F4NlmUOaL9p72Nr3WOMHmvwNu0sMYEnmZsUmfnENxsOS/y+fzVW9YEvGoVe4fdCixde0VbNLfeLJdwfGrF4JWcBhtVWW29kSjEf3OSYX3/f88HXSjWl0FgyS9bu2Sgtd+qWwu+EY1hFDwCmOj+r8b9wRqbaq2akeSTjvKrmL4cYWBbCXrm+HQrzYPBDrKvZrj46esXtRtDUT/UeBgLIyfe+G1/7b/UKA2Us/j48u87xf1JHXO6sKB0BWHgpX83I2qpR2DY/pNgOfaagdBYxLhDBqaHc7wkAUAtKYzj5mvhd2FcyiCbNaqbTOYYgYk9z2/L1AVQzUDOqcct7hHxxtzKILMvUllczLf9K3o2o2A5LGtB7R3aLzkvzPbESop8186t12vNuZQBJ35E0YFh1m5s2n3ULCNaghrz+1os05tCly1VOW8H2kyGDMHtD72Yul5R2EEBJFIRJcb1XK/fDbYvKEw7vuL1y0uuM9yeQUaThtGQCDZAck9z+4NVMERxrWfdex8LexOFHwuSKWgOetHqmzuihkK3vNssEHgYTzuTlo+R8cs7Cr4XJDfOc9ginCmbOx00dAyRlsT4QwAoFXFohErILnn2dJVBJ5tBmW2t0jSxeuMKoZMTg8E2qxV11Y05VKjtSnIDIzxlFfVUPnXft7xC9WdPNLalM9Ldz9TerNmbljKrVyZYgYkd2/YY83l81zfamsqf/3TV9mhYJCZP2G1OJjX/stn9wWawRHGJn1RT1Kn9PUWfK6S37lKZ2+YRytv2HVYew+XDgW9Zt6UqzMRt44UDzKM2j4+vrKfu1mttufwRKB5R2G0EsZjUb1+XeH6D2wO8FxX5SDoKW84sXAQ+EQmpye2lQ4Fw6jUi0Ts/848GOAYea/wqNLn+lbGThcNLUVbEwAA08wNw9P9h0puVL3aDCoZsD+3o02vOaZws/bY1gBVBFUc6zvT75xUeO3bD4xp9yH/jWoYbQbS5CbnImOj/OiLB0r+u2pnvkwxB/MeHE1r0+4h33+TzeWt11GV3PexaMS67wOFclWcWjPTJScuLWiLGUtn9XCA+SNhnRxzkTF75d5AAUU4j/nTjp6nnmThvKNA61fZyjfltcZA5vueHyg56ymsobDHLuyy2rqChUPhXLtZsfXIlgMlW9qqHQQ9ZV5XQicvn1vwuQc3B3nMV3dS1ZTzjiv8uT+z81DJ07q8gnDCmfIRzqCh0dYEAMARpx09r2BYZDqbLzkPIKw2A0k6wxiQ+uuXSgcUZnhU6WZp3dI51ka11LvJYbV0SZOtDuWs7bV+pWv3zeu0Wg1KzdwJYzDrlAtPKAymftt/qOTpOdbPvcLH3fyuhE47qrfgc0FmYIT1uDMDis17h0u285mn9lTSyidNvu41Q4Igs5bso7Qre/1sXvvA8IReOjDqv3YIlSvSZAXH+ccXXnuQUM46Pr7CgMK838fSWT25/ZDvvwnr991r/QcDzJkyH/MdiXiRr/R36lG9BfdbLi89/KL/fW+eDCdVft+3Mu4xNDTCGQAAjuhOxnWiMSjzsa3+AYn5ornSjaIknb6qcPbJMzsPazSV8f03YbQZSJPDaU81Zq/8+qVS4YzHDIgKNwynHVW49o7BsZJzZ8KYATHlVSt7Cz7+zbaDZa09uX5lP/tX9hW+iz88kSk5jDqslq7J9XsLPn5qx0Hfr/caBF3pu/gnLZ9jVW4/3e9/alKYm/RTjWDq6X7/gEDyOLGowvVXLei0Zq88s7N2AcWZxxQGoht2lj6tKoxB1NJkKLh2aU/B50pdu/lcW03liNlS9szOw6UDUWv9yp5v2tti1pyrJ8t9E6AtqmiZg6BBOIMGl84YM2dIYAEALc6sXvltic1a2AHBzBaTTC6vZ0psmMLcrL3aCEjKrZxJxivfMKxZ0lMwd0aSnnjpYFnrV3PtZjizfnslVUOV/ewXz2nXcuNI7VLVK2FVb0jSKca1P7XjkO9w2LAGQUuTbTknGJv03/Yf9P03YbWzSdIrVhQGY5t2DVlvXpZcv4rqlRON9pqSwVRIwZAknWSsvfPQuAZHUmWtX2lblSQrCN9Y4ijzcbNypaprL1x7IpPT1v3+g7jHzPleVQSi5qylZ0u0UZrBEMOAK8NOFw0tnTMqZ0hgAQAtbt2ywhftL5QYkhlmQNCVjGv1osL2mlLrh3GU9pRXrizcrG3eM+y7SQ/z2mPRiE4xKkhKbVhcVlBs2TfiW7Xk1WZQVThkrF+qeiWs2SOSXbmzfySlHYNjPmuHMwh6ihmQPLWjdtUjZkCRyub03J7yHnfV3PcnGyFB6cqZ8EK5Yxd1KWEEW6UCErO1p7OKgOLEZWY4U7uAYkF3Uot7CgdxbyqxvhkOVbO+WTVUasZVmFVDrYxwBg2NtiYAAAodZxwp/dKBUaUyxd9JD+NI4ZlWLypcv2R7i7lZq2KzZK49NJHRvuGJol9vb5aqex1hHuf94kB5rT3VbJbWLOmxPrd1oPj8D/PnHotGqnodZW5USx2nHeZG9aj5nZrTXli15Pe486waqiKgeMWK3oKPS4dy4QUUczvbdNT8zoLP+bX3ZLI5ZYz2lzDDoVKtRWE+37TFoh6tRSXCmbS7cObZPUO+p6RZAUUVa0vSWmP9TbvLq1qq5r43q8X6D47psM+spTCrhloZO100NNqaAAAoZIYz2Vzet9w9rJkvU+xwxn+TbgUUVfy3fEVvhzUzZovP+mHNn5hiDuUtFVCEuUlvb4tZrUV+64d1hPmUVca1+wVDk+uHt1mLRCLWff/S/uDBlFTdRtmsFtt2YNT31KIwW2skO5jzu3bviqnKH3frlhWuvX8k5XtyT1hDaaeYAUm5VUPV/M6bVYqpEq1F1rVX+Tu3zghIyq0aquYxf+yiroIWVkl6zieUpK0pHOx00dDMypkER2kDAFrcnPY2q9x9s09rkdVWVG3lzGKjralE5UxYp+ZIk0OBzU263/rWYNQqN8nHGMHUloGR8tqqqlzfCkh8Nor2z726l/2rFhSuvfPQmO/RwmEGU5J09ILg1x7mIGivtScyOe0dKl6xFdZR2kfWL6yc2eZzYpJXONNZRUDSN69T5mnQ2weLrz9qBRTVXbv5++7XzpbO5pTOFv4+VhNQzOtKWAORtx/wa6cL97nWDOXKrVarJhxKxmM61rjv/f47Y4XBVVYNtSrCGTQ0c+ZMPMpDFgCA45cUhgT+L5rDfRf/uEWFG4btB0Y9KxWKrV91OGQGJL6VM8baVW4YzM3K0HhG+30GlIb9bnI5lTthV2+YAUE+P/mzL7p+yNduBRRlVM4k41FFzIShDIt7kla485JvOBRu9YjZ1uQXzoyn7GCqmk16Ih7V8rkdBZ/z+7mHPXukb17htfsFQ17BVLXrrzDW33GweDgTdlvTSuPn3n9wrGYztiQ7lNxZxrVXG0i2Ku41NDTamgAAsNnvJgffsFT7ovkYo8Ujl/dfP+y2qmMXlRFQhHhqjiQt7+2wBpT6rR/miUVSeeHMWCrctXva26wqgnJm3tSycsaq3qhykxyNRsoKSMz1q5l7ItnhjF84Mpq2h0RXe9/3zTPCGb/f95CDKXPtXYfGi859MeeeSGGEQ4Xr+z7XpsxWwuru9xXG2uPpnA4UCYPDrhqSPK7dJ5wJe7ZZq2Kni4ZmDwSmrQkAgGVz7Q1LMWHPXelOxtXb2Vbwud2HvFs8crm8Nay42hft5kbV793csN9JjkUjOrqMjXLYGxZ77koZVUMhbJbM1qZyWouqXX/VAvN+H1O2yNyXMSOg6Azh2stpLbJbe8KtoNg/ktLwhPdJXV5zT6qpGvJa3//aC29X2NeezeWLPt95Vs6EHVD4tFWFXTW0pCdpzX3pL/J85zlnqcr1l/cWzrjyrZwJsX21lRHOoKGlrJkzPGQBAFhmDIbd7RvOhP+O5tI5hevvOuT9on3C4xSpal+0LzWufc/h4tfuotTeXH+3z/pWe03ILR4Dw6miJ3WFeVLUlKMW2G0WxZgVHNXMPfFaO5XNFf3ZWxUMIcy/OGp+5QOJww4IpOKhYJhHSU9ZabYW+cxdGbNmj1T3Ozevs826hmIBifn7HolUN2tIsn/n/I9wD7eNMh6LWs+1Qa9dCqGlq9cMwoM/11I5Uxl2umhoGaM8j6O0AQDwCAjKqpxxEFAUWd/r3dxkleubm5XB0XTRmTdhV294rb/3sHfVUD6fD72la8mcpPW5YkeJu9ikB712F+sv6k5aFdTFhvKa1RvVBkOStHJ+YUDi9zsXdltTe1vMuu+LhjMOKqaOWlBGW1PIVUORSMQOh4qs76JqqK+38Nr7fduawg8ozNam/iLhjOesoSofd2blzK5DY0VPKXNRqdeK2OmioZltTXHamgAAsAZ0Dk1kNDTufbytiwoKq3KnSAWDuXYY6y8x1paKV8+4qBpaMidYMJXK5qy2m2rXn9vRZs28KbZ+2K01kqxTwvyqlsKe+xKJRLS4J1jVlIt38c219w75VBE4uO/Nx32xUC7sYEiyKyj2+ART9lDc6oMxs3KoWEDh4n431x4YTlnrTK/v4HFnhUNFqtW8KmeqrRoyg6F0Nl88DA65WqxVEc6gYeVyeWWMFzW0NQEAYFeuSMU3qmEfpS1JS+cEqyLw2sRUe5x0TzJubTiLrW8dpe1gk1wsmPK69morOCKRiFU9s7fI+i426WYwVaxyJZ/PW5u1MNZfZIRDxStnwt8oLjbvd5+jtF1sVM1grFjVUi3WHkllNVJk5k3YM2ek4MGUi6qh5b12S1mxYM7FfW9VzgQMZ9rbqjuhTJIWdiWtvVextioqZ8LBThcNyzxGW6KtCQAAafKF7zxjKG+xeQDmi/Zq302VpKVzCzdrxQZ0mm1F0Uj1w/0jkUjguS8jE+FvluzWnmDhiCR1JkPYqAatHjFbe5LVVzAsnmOv7XW073g6J/PTnW0hrG+EBPsCBmNhBEPm2qOpbNGhvC7aqsxgKmg7WxibZHNtSRoosr75O1/tzBlJWthduP5AkWDMRSDY5REG7yuyvotKPfN3rtj97qJqKBq1n2uLPd+5WL8VsdNFwzKPg5M4ShsAgClL5warXnEyd8VYu3h7ib1JrfbdXMkOSIqtbwYkXaFUj9gVFF5zGMwNuhTOqUFm9cqeIhvFETOgCGXtwmufyOR0eMy+Tq9rDyMYC1q546KCwSug8Nqo5nJ5O6Bw0FIWtHLGVUAR+L4PIZSrNJgKq7XGCodquP4i4/j6oqFYxk04sjDo+tZjnj1bJbjX0LAyWY/KmSgzZwAAkKSlVkhQu3c0zZkz+0dSVguR5Ka1RrLDmWJHeVstFiFUMJhrZ3J5DYzY65vXnohFFQ+hAthsryleOeO+rUiS9ng87jyrhhxUrxQP5cxQsPq1OxNxdRvVR14BhdecJRf3fdCZM2Ft0q31Aw5jDiegCLa2q9YaM6Aotr6LmTN21VDK8+vMQczVnhRVdP1h7/VdtJS1IsIZNCzzGG2JtiYAAKYsMF407x/xftFsbpa6QmhvMTdLknTAY32zrSiMtSV7BoVXQCC5qZxZ0J1UzHizaI9HOGQFUyG0NEkelTMBA4owgqlk3G6n86rgcHGsrxR87ourgMKqXvFY3yuYCmfuizF3JegQ7JA26UECEldVQ4t67OoNr3a6mgVTRQIKF21NZjgylvae9+PqKGvzvzPFK2cYCBwGdrpoWLQ1AQBQ3IKuwg3L/iIbBrO9pSuEkGBuR5sVUHit76KCQbKv/UCRa7fWDyEcikUj1vrelTPG2iFtlszWoj1F2ltcVS1Zp1V5hATm2u1tUUVDqH42528UC2fsjWI4oaA1kNjj2r0GQYcTUNiVM94BRfgDeT3X97jvJzL2G6uhVA11F/7cx9M5z3k/rgIKMyApWjnjoHrFq1rNa31X1x60rYrKmXCw00XDSns8wVc7RBAAgNligfGi2atyRZJGJ8IfThqNRjSv0wiHvCpnHAUEQa/drNwJKyCxqpY8g6nazL8odu2ujrY1N4temzUXA3Elu3Jl//CEdVz55PpuHndmOBRkkyy5mTmTzuZ1aCxtr58qfP0c1rUHCWe8rj2MTfpCo3Im6Pqurt3rMZ/P5zXqICDpSsat7+O1vrN5O9a1F3m+YSBwKAhn0LAyXqc1RXnIAgAgSfO7Src15XL2hiGMyhnJo3rFo3rEOjEopE36AuvaAw5HreG1Wy1VIbV0mdc+OJqqaUARJBxytVEzW2tyeengaOlgLLRwJkBA4apqyLzfJe/KIXMIt6v73mvmjatB0F7zfrzu+1rNXSlWNWQWMoVWuePR1mVyN2/HDkS9cJR2ONjpomGlMoXPcLFoJJT/uAEAMBvYbU3ew0nNDUNXSAHJ/ABtVfbMmXBesJtrD46mPU9MMmczhBYOdZe+drNiKbwZEIVr5/OTAU2p9cMKKMz73rtyxk040ttpV1AECYfC2iia137A4353FUwl4lH1GvN+glVQhFS1FGAAublBl1yeGuRx39eorSlIOCK5q5bzmnnjbOaM9ftur53P5539zrcawhk0rLQxEJiWJgAAjjA36YOjKWsGhRmOSO5ai7wqd+z5F27CkWzObvHI5vLWDIwwBgJLHsGU17U7arEw28kk74DCXt/NfR8kHAnr2hPxqHraC6/Dc31H970VCnqu7SYQlKT5neb6dluTPRQ3nO2eWanntbbZUpWIR63ZVJUK0lo05mAYsdfa+4bseT+uWrokrxObSgei4VXtFK49PJGxgqiJTE4ZIxwPq1Kw1RDOoGHZ4QwPVwAAppgbxXQ2r8PjhRtDrzaD8NprSg/ldTGMWLKvXbJbm1y1WEiVtfaEtUlPxKOaYwQUtaxeCTKI2sVxylOs6pUahkOBQjlHsz+81vdqpzM3zmE97uxrr91QWu/1vX7ubh53ZtXORCZn/Zy9TulqDykYC1K5Y1YJhvU879VOZ7Z1eZ0eFdZzfatht4uGZZ7WlCCcAQBgmjl7RLI3quaGIRqRkiGdfBhk5o2rgCIZj6nH2HyYIYHXqTnuWrq8NkvuyvzNgcTmzz2byyuVcTMY1pr34xUMOQoIpGCtRa4qtgJVzjgcjDrPCmc8qlfM2R+OgqnxdM66VlcnRXmt7121VJt2Nsn+nTMDikQsqmTcTSDq1cZonl7VHVI4Mqc9bu3BzOd6rwpNc0YQgmG3i4ZlVs7EaWsCAGBaRyJmbbjNjbK5WepKxBWJhPPfU7utKcC7uWFWEZRoqzKrdqTwBgIHehffam8JMZwpUb3iXTUUUkDhcb9bLR4uq0c6S1dsuapeMX/uI6msVani6pQsqbJB1GEFJEGq1ewjzGtbMTVshARhBRTdybg1XsFc3wxHwqwcCTLfy7z2sCpnIpGI5nUVzjoygzHz2qMRTmuqFOEMGhZtTQAA+CsVEpjvaLrdKNa2xcMKKKyqocINQywaCa0K12xzCHaUtrvqEfPavaqGwjpGfKFROTORyVlBmNVS5bCCwqycyXnMGgqtrclj3o9ZxeCqpUryqJwZtStn7Lam8Coo4sb8GHPujB0QhHjtZijnFc6MF96e7mSb9TWViEQiJcMhe/h5eL/vQeY8uWprkkpXSY44fBOg1bDbRcMywxnamgAAKFQqILEqZ0J9wR5k5kztNgzm+l4zV8LaMJhrj6Wz1n1tbdactjWZFVPuTo4xK2ekYPd9WEptkr0Gs4b1Lv7cjjaZ823tqiV3bU1BKmfMKoawfu6TFRT+1XJ2OFLbgMJq7WkPb/1S4dDwhLtrN9f2amsyw5lQ7/sSjzvzfg+rQrEVsdtFwzJnzlA5AwBAIXOTbrY11XLuydBERhMZo4LC5folNoouAwJzoyh5zLxJuxuKW6qtyQzFwpw11JWIWd9rwLjv7cGsDkPBEnOWpPB+9tFopORG2dXx7ZJXQFAYCKSzOY0bJxaZw6OrYZ0WNerf3hJW5Yrkce2eAYWbtiapdDhkt1S5e8wPjqaVM05Hsu/7EB93JSs03YXwrYbdLhoWM2cAAPBXqr3Fa+ZMWMyAQPLYKDs8VrjUUd6j1ryb8NbuCTCDwg6HanftZmtNmG0GkUjEPq2qhpUz9lDc0vN2nA4kLjF/wzz6u6q1rYDArFyxr72nPbyApNTskyGH124Ooh40Zh3lcnmn4ZBVqWcGU+PuqnbM3/dsLq/DRpWSy4DEGkhsPde6C6ZaDeEMGhYzZwAA8FeqrcmcBRJmufncjjbFjB4Pq8XDYWtPqbYq89rDrFwJMoPCunanA0L9q4bCvHbP9WtZtVRiozhkbJLj0UhoRxpLpcMhc/1QwxmzcmUkXRBQmOGE5LqCo0RAEebaRkCRyeV1eMZ6ZrWYFPLvXGdh0GM93zgMR8yqIckOZF1WzpQbSIYZhLcadrtoWCmrrYnKGQAAZrIqKKxwxN2LZq8Wj1KDIjsdzqAwAwKztSbsDYP5Tv6AGZCYbU0hzh6xKldKVI+EGY5I9n0/YFZQGO/qhxlQeLVYzAwozIqCnvZwh5OWDIdcVs4Ya6eyuYKNsRkMRSK1nffjcuaL1zDmmet7BVM9taycMX/uIT7XtbfFrGB75rVPZLLWOAinYTBtTc4QzqBhpY1J+4mQeqUBAJgtSp+i4a6CQfIfFJnN5a35F6EOxTU3SzWsGpJKz6Cw5/24nUGRmVFxfNjYpM/pCG+T6rV+6eqR8NY3H3MTmVzBEGCXa0ul52+YwVS4rTUep0XNmDvjVT0RZjBVqmrIZeVMRyJmBZwz1zcDAinsgMKonCl5lHa4AYXd0jbz2u05S04rpsxrT5k/dwYCV4rdLhoWbU0AAPgrdYqGy9OaJP/KHc9Tcxy/iz9zSKZZNeQ6mJq5Sc/n89YmfU6Hu6ohaTKgmXJ4zF3limRX7phtVWb1ypwQAxIzIJhc/8h977KtSPKonBmtXVtTZyJmvVk5s2LMesyFHEyVaqN0WTUk+YeC5v3e3hZVPMS9gxmEmwGF6+oRs3KodDDlLpyhcsYddrtoWIQzAAD486remNni4fK0Jsn/RbvnhsHhUNxcXjo4I5SwqkdC3qhaVUszAoLxdM5qMwg1oPCcQXFkk+7+2v03a+b6YW7SvYYxzwxIXLZUSfZ9b7YSmtUjYa4fiUR8wyGXc0ek+lbOSP4VHC6HAUvSPKNyptTMlzDbmiT/YMpcO+x2NvMxNzSeUWpGh4N9ShbhTKXY7aJhmTNnEoQzAAAUMF+wp7OFQzJdl9pb76TP2KgeMqo3JLfzN6TCyiFz/bBbe+xgbGY4Yl97mOu3xaLq9RlQWusKipkBxUQmW7Bxk8IPKPxmHbluazJ/7nblTP3CIfPaw5z5IpWunKl1OOQXBodfMVUYxh4aSxe8key8rcmnjdOqXAnxdLbJtb0q9YqHQ2G2cLYadrtoWHblDAOBAQCYydwwSIUv2t0HFMVn3phrdyfjobYZJOMx693pmYNpzdaeuWFfu89G0Vxbct/iMVCwvuONqs/8CzMgmFzfbeXO4Ej9KmdmXns2l7dmHdUyHHJ5jLdkX/vBsbSyueKnRbkOhworpsxwJNwqQbNyRpIOzmglNAOSsK/db+aNHQyFe+29nQmZWY9vOMTMmYoRzqBhmQOBaWsCAKBQRyJmla/PnP9hBiRhBxR+Ryq7Dkck/yGZ9twTt+HIzAoGc+3ORCz01zELzXfSh31mj4QeTJmh3MR0O109gim/cMh1S9fgaHp61pHro6wlr3DoyP1tDyN2G8rl89LBmeGQWbUUdmuRT9WQ86qdUqdFWS1dYbeQFg/CXVftxKIR9XYUD4fMQJK2psqx20XDsipnOK0JAACL3/wP1+GMX5uD66odr/X9rt191dDMYMptQCD5BxS1DqbS2fz0MFgzHEnEo2oP8Rhxr/X925rcBhTZXH76/jbDERfr2z/3I487l/NuJFmtdNKR6pWJTFYp47V76JUzPlVDVuVKyMFQWyxqPX/6Vq+E3NpjVs4M+lSuuAhHypkvxkDgyrHbRcNi5gwAAKUVC0jy+bz7cKbbrN7wCUdC3qhJXkN5fQISx8HUeDo3fTqWFY6EeFLT9Prd5bQ1uW2tkY5UMdiVK+43ioM+wZTr1h7pyO+cee2RiItNuk/ljNXWFO7P3auVcOrnbgZDkvuBwAWhnBVQhN9aUywQzeftdrbw25qKz5wZNgbyhv2Ym1y/+O+c+Vwf9u9cK2G3i4bFzBkAAEqzApKXXzSPp3PWYFazNL1a5gv2oYmMJjKTGwXXwZAkLfRpa3IfTBUPKGrR0uU3jHlowm3VUGciXrSdzp754r5qqJYDgdvbYuoyrn3qcWe11iTiikbDff1aTuWMiwoKcyjvVPWKV0uX+3k/Ptdeg1DwwOiR59qZs3ck98FUwXOdMZTaSQtpkd+5fD5f0NomeQeYCIZwBg2Lo7QBACjNGgz78ibZ67Qk121N0pFNQy3CmWJzX1KZnMbShe8mh91a1J2MW1W9UxsW10dZS+W1Vbl4J7vYZs115YrX2n4DgWsRUBypnKnDtY/OnDlT+3Bmf5GqoXg0omTIIwmstqaR4tfuorXGCodefr4xT+ySpN6OcAMK8+c+ls5q7OVqnZmPAcn+GYWzvvkmwOTzzUgqq7TR7UA4Uzl2u2hYhDMAAJRWrK3JK5wJu4JibkebYkZlwFRAUpdwZsS7ekMKv7UoEokUPU7brJxxMW/H751s10dpSx7hUNG2JvfXPlAwDNl9MFXsd8511Y7kFUjOqB5xfGKQ5HFi0oh3tVh3e7jHOUv2pn94RqWeGZDMdxAQFDstyjxSPBaNOJ81JB15vjtgVa64r9SbCsYGRzyCKY+TrRAMu100rFTGmDnDQGAAACzFjjW25gAk41aQUq1oNGKfoDK9WSvcKLppa/Ju6fIMpmoSEnhXj7iYu2L+3KfCkZFUVkaHhZuZN0Xaa8yqIRfhyCLj5z7zCPVaBCRmMDUw3dJV+9aaw+OZ6fbFg2OFG2UXj/liv+/7jU26V5hQLa9KvamQYObJTZKb6pFiVUNmMDSvsy30drY57XHFje85de1mW5GL+96+9omX1y58rotHI9ZcIgTHbhcNi5kzAACUZpabT21UzRfscx28myr5bNLrUT0yHY4UbpKTDk4M8lr/QJFgys1JVYU/90NjaaWzuSJHWbt/J32gyLwdJ+FMT+G1D09kNJrKKJ31amdzHw7tHZp8zJtVBC4CSXNt6Ug4ZAYU5kymMJjfc+rnblaPeAUp1Zrb0SYz85gKCcyAxMX6xaqGzGt3EY5EIpGiAcnModCS1FuDqqEDRYKp3s620CumWgnhDBoWbU0AAJRWLBypRVuRVLyCox5tTYOjKeVy7k+pmmJW7ky1mNiVMy6qN7yqCFLW2pGInLyTPb9IxZYVyjm49sVz2q3P7RuasMIJyU0FxeI5RjhzePLnPrO9SnITjvR2tlmzjvYOTWgsldWocWKQWeETBjMY23t4XFJtKmei0Yh1TXuHJpTP52uyfrF2OjOUczVzpVhAYlfOuH+uLR7OMG+mGux20bAIZwAAKM2rrakWx2hPKTb7pDanNRVu1HJ56eBYuiZVO1Lwa3fRVjSvMyHzDer9IynrXfyeZPgnBknSQvMY85dDwX1mQNETfkDQlYipw6iE2jc0YYUjMY+2uzBYAcXQZEAxMGJWroR/7ZFIxFp/z+HxgoHQU7wCvGotMYKxqaqhA8b6ZkVfeOvb4dBoKmudTOcinDFDuT0vB1O1qJyR7MfTkfvefTjkFc5kc3mrrcnFvJtWwm4XDStlTP423yUAAAD2i+Z0Nq/D45maHOcsFT/S2Q4oHMy/8HiHeP/whPVOsovWFql41dDAUOFG1cW7ybFoxDoaff9wSvuMtb2qTMJQrKXMXN9VQGFulPcNTVjB0PyuROhzliRpsRXOTLUVFa7vonJF8qjc8agaSsSiTiqmrGufqpypQUuVJC3pKXw87zk8YYUTkpuAZKnxuzQ4mtZ4OmsP5HUUzpg/992HxjWWymrCCKZchDPm2rn85OOdyplwsdtFw0obTzRtcfoXAQAwmbNHpJcDijFzDoGrtiazgiKlsVTWmv3hYv1kPGZtQPePpKY3y1PMSoOweLUZ5HJ5KyQwqw1CW9/jOG0zHPGaURLO2t5VQ2b1iqv73ryufcMTVijmIhiSpEVGQLDv5daagRoFFGZAss+jcmZ+V8LJ7A/zsTySymp4IlOTtiLJDhsnq4bsYMrFMeLF2ukGjZkvLk6KkqRlc+1rN4MhyU04tLAraQ0k3nVonMqZkBHOoGHR1gQAQGkdiZhVGbLr0Pj0HIwprjZL5iZ979C4dr/8bvpM5rvOrtYfGJ6YbjdwvbbZunFgJKXB0ZTSRvWv2YoR3vp2OGQGU+Y73mExQ8EDIymlszlro+wqHLJnn0zULRyZyOR0eDxjVc64CocW99itRea1u2hpkrwfT3sPj9estcf8XdpzeMKe+dLlZijtnPa41U632+PaXVXOmM9juw+PW9cei0acVApGoxErmNt1aNzjpCoqZ6rBbhcNywxnaGsCAMDb8t6Ogo/7D45plxFQLJtb+DXO1h4c065DYwWf60nG1eXoeFXz3exdB8e153BtWnvMzb9XMBWJuNuk2yfnTEy3mUwxg4SwmJv/bC6vFwdGlDeO8XZVOWNVj3jMnKlVMCRJuw6NadCoInAXznjMnLHCGTdrdybiVrWaV2uRq2u3Z97YlTOu5t1EIhEtNapXdnsEFC4G8kr2te/xDEfcnZZkVu7s9njM09ZUHXa7aFjmu05tcR6uAAB4WWEEJDsPjmm3EZCYL6zD0mesvX8kpZf2jxZ8bomjtSWpb17h+jsGR63KGVdtRSuMtdPZvJ7pP1zwuQVdCWfVv2YFRf/gmNVS5Soc8aqM+O2OQwUfRyPuKiisobhD4/ZpSY6uvb3NrlbbtGvI+rpaVa9Mzpwxrt3R/e61/mQwVa/KmXFrGLGLY7SneAVjtRjIK8kKhvZ4BJIuwxHzeXzX4XErDHb1mG8V7HbRsFJUzgAAEIhZvbJt/6jV3mK+sA+LGVBI0hMvDRau7SgckaS+eZ0FH/cfHPMIZ9zNPUkabx792rh2cz5JmI6aX3jt2wfHrHY2M8AJS3tbzNqo/npb4bUv6E46Gcgr2ZVg2w+M1uQo6ylm4PeURzDlapMeZO6Ky02yee3P7hmyKqZcBSTm43nf0IT1mHfVViTZz6M7Bsc8Hndunm/M59FsLq8ntxc+7lyF8JK0zGyrOjSuHYOFbwKYYTnKw24XDYuZMwAABGOGM7/ZcdDaLLlqa+pMxK0hkOYm3VUwJNmVO1v2jVil9q4qZyKRiLUZMa/dVTAkSSvNcOaAHcq5amuS7HDIDOVctRVJ0tEL7GDKbGdzVTUk2ddu/txdnRQl2ZVyA8Mpbd0/Yqzv7trNkOCxFw8UfByNOJy7YjyX5PLS48bjbrnD5xvzuWT9tkHljOfalUZgHBavsPOxrYX3vRlWh8m875/dPaThiUzh+r3u1m8F7HbRsKzTmmKc1gQAgJflvYUvmrfsK9yoJeJRp6domOGQub7byhlj7YER62tchTOT6xduRjbvHS74uJbhyN6hCesIc6cBhRGQbNpd2NpTy7VTmZx137uqYJCkVQu7Cj5+cvvBgo9dV0yZY0XWbytc36uiLSzmtT9hrL28t8PZm6rzOxPqTBQO5f2Ncd+bj40wmcHPk0bF1Jz2uOY6eq6NRSNaYvxOPbOzsI1y5Xx3P3cz4Dd/36MRt0F8KyCcQcOyZs5QOQMAgCfznXTTsrntzoZEBlnf7cwZ/41Ye1vUyeklR9Yvce01DKa8uGprkuxwyOQylFvUnbQ26SZXFQyStKpEAHCsEWCEqb0tpuUlKuFcrn9Mie9d6u+rEY1GdOwi/+9/9Hx3669e3O2/9gJ3a0t2MGZy+Zgv9XyzdE67EswIrQr3HhpSPp+3Z87wyw4AgKdS75K73CTXe/2lc9vl1z2ydI7bYMpsLTKVCq6q0ZWM+872mN+V0JwOd8FUqXDmuBIb2WpEIhHf9RPxaMmfTTVKbcJLBQjVKvX9S23iXa5ttpyFvv7CUgGJu/VLPaZL/U5U6/gS67uc+XL8klJr09JULXa7aEgZs3lTVM4AAFDM0jntvtUhLlscJGn1Iv8X7ccsdPeiPRGPWm1VM61Z0uNsban0O9Vrl81xu77PZnDNkm6nwVSpjWipzZzL9Y9d2OVs5oskrSoRzpT6nXC5/uKepLodHV0vla6MKXXfVMvvvm2LRXyfD6q1dE67733rMhCUpONLPJ+5XL8zEfdtm3L935lWwG4XDckcBiwxcwYAgGIikYhOXjG36N+/wufvwnBKX/Hv35mI6ZgS73S7XP/E5W7DkZN8vn8kIp3gOBxa4xOArF3q9tpLbdJdB2N+67us2pEm5zz5vTZ1Hs74XLvLtiJpcpPudyqQ6/VXLy7+/fvmdToN5SKRiFb7VA7Vs3Kmoy3m9Bhxyf/5jJOaqkc4g4aUztiVMxylDQBAcX4BzCl9vU7XPmFpT9H/Tp+0fI7TzZIkvWplb9G/O2m522Dq6AWdml9kQ3TMgi51lJiLUq3TV80v+neuw5EF3cmiG/GepP8GPgynHtVb9O9chzPxWNQ3/DrGcVuT3yb5WMfBkOQfPrmeu+K3dqlZQKGs7/PYct3O5vc7vW5Zj9NKuVLr+z0PIxh2u2hI5rwZibYmAAD8nFQknIlHI77VHWFIxmNau8z7RbtfRU9YXukTPrm+9kgkotOKhATrHLc0SdIZPuHMCUvdhjOS9JpjvNc/znFL1eTaC6xTi6a4DqYk6bzjF3p+vm9eh9O2Ikk6fdU8tbcVD0RdO/c472uf35VwXjlz/OJu9RY5Eemc1d63K0ynFgkhOhMx38AwDPO6EkWPCj/v+EVO15aKt2lGI9IZRZ4LEBy7XTQkz7YmBgIDAFDUq4+e5/n5E5b2qL3NbfWGJJ12lPf6fsFJWF7RN1dxj+qcxT1J59UbknRakfve9UZNmqwUWNhtV+50J+M12aS/5ljvDdlra7BRnNeV0DqP6pX2tmjR8CBM5xdZ402vWOZ87fa2mM4+doH1+WhEeuPJS52v//p1iz0/f8m6Jc4r5eKxqF6/bonn311c5HaF6XdOXuo5hPyc1QuVjLt/rr2syOPrvBo85i9Ys8gzFDx5xVzNaXdzhHgrYbeLhsTMGQAAyrOit0OXvcLelL3ltL6arP+O1xxlbcoWdif1+hO9N1Fh6kzEdeWrVliff885q5xXb0jSFacst16nzGmP6/devdL52pFIRFe8crn1+XedfXRNQrnXHr9IPUaVSFssoneedZTztSXporV2CHTFKcs1t8P9RvHVq+apx2MQ99U1+p272COgOPe4hVrYnXS+9nGLuz1biN7o8RzkwqUeAdSxi7pq0tK1uKddZ3kEY16PRRe8Hl9z2uM1aSua29HmGQ5dsKY21z7bEc6gIXmGM1EergAA+PnE76wtaKc497gFes85q2qy9polPbr2tcdOfxyJSJ+76mTn7R1TPvWmdQVHdq9e1KX3nXdMTdZeOb9Tn77ipILPfeySNZpbpPUibH96yZqCKpmF3Un9n3Nrc+0LupP6/NWvKKhcetdZq7S4x33FkiRd+9rVOn1G5VJ7W1Tvn/E4dCkZj+nvrjy5YN7SJScuqUk7mSS99dV91ob8AxesrsnakUhEf3HpuoKf+ytWzC1aTRS2C09YrHNWFwYkf/HGtTVZW5I+dOFxBR+ftHxOzYLwE5fP0cVrj1QItcUi+uvLT1SiRl0G1712tZIz1nrlyt6aPd/MdpF8Pm9PXkXT2bFjh1aunHx3Zvv27errq82Tgysbdh7WZf90//TH8WhEmz9/WR1vEQAAzeHp/kO6/dFtWtST1AcuWF2T6okp+Xxetz24Vc/sPKzLX7m85u+m7j08rn/6xfOKR6P644uPLzqo15Wfb9yj//7tbp2xap5+/8zaVI5MGZ7I6Jb7X9TgaErveM1RNZm5MtMzOw/pPx/foZXzO/Wes49WvIazAjPZnP7rqZ16pv+wLjtlWdEWO1d2DI7qJ0/vVjwa0VtPX1mzQFKSsrm87n9+n57bM6Qzj1lQ86GsOw+O6VebBxSPRfTGk5Y5H4A900Qmq0e2HNDeoQm95pj5zo+xNj3df0jrtw1q5fxOnX/8IuftXDONpjK6c/1OZXI5XbxuiVY4PD7cy1M7Duqnz+zWicvm6o0nL63ptTcKF/tvwplZYraFM09uP6gr/79fTX/c0RbTxr97Yx1vEQAAAAAAbvbf9ImgIZltTcybAQAAAADMVi0fzmzbtk3/8i//ore//e064YQT1NXVpfb2dvX19enKK6/U7bffrkwm4/s9tm7dqkgkEuh/11xzTW0urMmZR2nXqocSAAAAAIBaq11DZAP6m7/5G332s5+VV2dXf3+/+vv79aMf/Uj/8A//oO9973s66qja9g63snS28GfSVsO+ZQAAAAAAaqmlw5mdO3cqn8+rq6tLV111lS6++GIdf/zxam9v18aNG/VP//RPeuyxx/T444/r9a9/vZ544gl1d/sfz/bZz35WV155ZdG/nzevtgPKmlU6Y7Y1Ec4AAAAAAGanlg5nFixYoOuvv14f/OAH1dNTONH+1a9+tf7gD/5A73jHO/Td735Xzz//vG644Qb99V//te/3XLFihU4++WSXN7slMHMGAAAAANAqWroc4frrr9cnP/lJK5iZEovF9M///M9KJCaPYbzjjjtqefNamjlzhsoZAAAAAMBsxY63hAULFuiUU06RJL3wwgt1vjWtw5w5w0BgAAAAAMBsxY43gImJCUlSNMrdVSt2WxP3PQAAAABgdmrpmTNB7N27Vxs3bpQkrV27tuTX33TTTfrMZz6jnTt3Th/Jff755+vaa6/VaaedVvHt2LFjh+/f79q1q+Lv3YiYOQMAAAAAaBWEMyX8/d//vTKZjCTpbW97W8mvf+KJJ6b/nEqltGHDBm3YsEFf+cpXdN111+kf//EflUwmy74dK1euLPvfNLMUpzUBAAAAAFoE4YyPRx55RDfeeKMkqa+vTx/60IeKfm1vb6+uuuoqXXjhhdPHce/atUt33323brnlFg0PD+srX/mKhoaG9O1vf7tGV9C8zIHACcIZAAAAAMAsRThTxJ49e/TWt75VmUxGkUhEt912mzo7Oz2/dvny5erv77f+/tRTT9Vll12mD3/4w3r961+vbdu26Tvf+Y7e/va3681vfnNZt2f79u2+f79r1y6deeaZZX3PRpbOFA4EpnIGAAAAADBbNUU4k8lk1NbWVvX3+frXv65rrrmm5NcNDQ3pTW960/Scl89//vN63eteV/TrE4nE9HHbXo4//nh9+9vf1vnnny9pci5NueFMX19fWV/f7KyZM5zWBAAAAACYpdjxGsbHx3XllVfq17/+tSTpT//0T/UXf/EXVX/f8847TyeddJIk6YEHHlAulyvxL1obA4EBAAAAAK2iKSpn4vH49IlJ1Vi2bJnv32cyGb3tbW/TPffcI0n6wz/8Q335y1+uet0pJ554op555hmNj49r//79WrRoUWjfe7Zh5gwAAAAAoFU0RTgjBTvGuhq5XE7vete79F//9V+SpLe//e36yle+Euoa+Xy+9BdBklflDOEMAAAAAGB2Ysf7suuuu07//u//Lkm6/PLL9c1vflPRaLh3z4YNGyRJyWRSCxYsCPV7zzYMBAYAAAAAtAp2vJqcK/PVr35VknTxxRfrjjvuCGUA8UwPPPDAdDhz3nnnhR78zDb2QGBmzgAAAAAAZqeWTwj+9m//VjfccIMk6ZxzztEPf/hDJZPJsr7HnXfe6duytHnzZr3zne+c/vhDH/pQZTe2hTBzBgAAAADQKppm5owLN910kz7zmc9IklasWKEvfvGLevHFF33/zQknnGBV1Vx11VU67rjjdPXVV+vMM89UX1+fksmkdu7cqbvvvltf/epXNTIyIkl629vepquvvtrNBc0izJwBAAAAALSKlg5nvve9703/ub+/X+edd17Jf/Piiy9q1apV1uc3b96sL37xi77/9oMf/OB0lQ78pbPMnAEAAAAAtIaWDmfC8qMf/UgPPfSQHnnkEb300ksaGBjQyMiI5syZo2OPPVbnn3++/s//+T86+eST631Tm4ZdOcPMGQAAAADA7NTS4cwvf/nLUL7PFVdcoSuuuCKU74VJqYwxcyZO5QwAAAAAYHZix4uGxMwZAAAAAECrYMeLhsTMGQAAAABAq2DHi4bEzBkAAAAAQKsgnEFDShnhTILKGQAAAADALMWOFw2JmTMAAAAAgFbBjhcNKZ0xZs5wWhMAAAAAYJZix4uGxMwZAAAAAECrIJxBQ2LmDAAAAACgVbDjRUNi5gwAAAAAoFWw40VDSmeNmTOEMwAAAACAWYodLxpONpdXNlcYziTizJwBAAAAAMxOhDNoOGZLk0TlDAAAAABg9mLHi4ZDOAMAAAAAaCXseNFwzHkzEuEMAAAAAGD2YseLhuNVOcNR2gAAAACA2YodLxpOKuPR1sRAYAAAAADALEU4g4bDzBkAAAAAQCthx4uG4zVzJh6lcgYAAAAAMDsRzqDhmJUziVhUkQjhDAAAAABgdiKcQcOZMGbOJOI8TAEAAAAAsxe7XjQccyAw4QwAAAAAYDZj14uGk/JoawIAAAAAYLZi14uGM5HOFnxM5QwAAAAAYDZj14uGY1XOEM4AAAAAAGYxdr1oONbMGdqaAAAAAACzGLteNBwGAgMAAAAAWgm7XjQc2poAAAAAAK2EXS8ajlk5kyScAQAAAADMYux60XAmmDkDAAAAAGgh7HrRcKzKmTYepgAAAACA2YtdLxqONXOGyhkAAAAAwCzGrhcNh9OaAAAAAACthF0vGs5EJlvwMeEMAAAAAGA2Y9eLhmNVzsRidbolAAAAAAC4RziDhkNbEwAAAACglbDrRcOxBgITzgAAAAAAZjF2vWg41lHahDMAAAAAgFmMXS8azoQ1c4aHKQAAAABg9mLXi4bDzBkAAAAAQCth14uGw8wZAAAAAEArYdeLhsPMGQAAAABAK2HXi4ZDWxMAAAAAoJWw60XDsdqaGAgMAAAAAJjF2PWi4UykqZwBAAAAALQOdr1oOAwEBgAAAAC0Ena9aDgMBAYAAAAAtBJ2vWg41kDgWKxOtwQAAAAAAPcIZ9BQ8vk8bU0AAAAAgJbCrhcNxQxmJMIZAAAAAMDsxq4XDcVsaZIIZwAAAAAAsxu7XjQUz3AmxsMUAAAAADB7setFQ5mgcgYAAAAA0GLY9aKheIUz7W08TAEAAAAAsxe7XjSU8XS24ONIhLYmAAAAAMDsxq4XDcUMZ9rjMUUikTrdGgAAAAAA3COcQUMx25qStDQBAAAAAGY5dr5oKF6VMwAAAAAAzGaEM2go4+nCyhmGAQMAAAAAZjt2vmgoExmjcqaNyhkAAAAAwOxGOIOGMmFUziTjPEQBAAAAALMbO180lHGjciZJ5QwAAAAAYJYjnEFDsQYCE84AAAAAAGY5whk0FNqaAAAAAACthp0vGorZ1kTlDAAAAABgtiOcQUOxjtKmcgYAAAAAMMux80VDMY/STrbxEAUAAAAAzG7sfNFQ7MoZ2poAAAAAALMb4QwaCqc1AQAAAABaDeEMGspEhtOaAAAAAACthZ0vGgqVMwAAAACAVtPy4cyFF16oSCQS6H9BPPPMM/rABz6g4447Th0dHVq0aJFe+9rX6itf+YoymYzjq2l+E+bMGQYCAwAAAABmuXi9b8Bscsstt+jDH/6wJiYmpj83Pj6u+++/X/fff79uvfVW3XXXXVqwYEEdb2Vjs05rYiAwAAAAAGCWI5x52emnn66vf/3rFf/7n/70p7r22muVy+W0ZMkS/dVf/ZVe85rX6MCBA/q3f/s3ff/739fDDz+sq6++Wvfcc4+iUSpCvJinNXGUNgAAAABgtiOceVlXV5dOPvnkiv5tJpPRH/3RHymXy2nOnDn61a9+pdWrV0///Rvf+EZ9+MMf1j//8z/rvvvu07e+9S29+93vDuumzyrjGWbOAAAAAABaC2UJIfjBD36gzZs3S5L+3//3/y0IZqb8/d//vebNmzf9Z3gzBwJzWhMAAAAAYLZj5xuCO++8c/rP11xzjefXdHZ26m1ve5sk6emnn9bzzz9fg1vWfMyjtKmcAQAAAADMdoQzIbj//vslSSeccIKWLl1a9OsuuOCC6T8/8MADzm9XM+IobQAAAABAqyGcedmmTZt0xhlnqKenR+3t7err69OVV16pb3zjG0qn00X/3fDwsHbs2CFJWrt2re8aM/9+48aN4dzwWSSfz3tUzvAQBQAAAADMbgwEftmePXu0Z8+e6Y/7+/vV39+vH/3oR7r++ut1xx13aN26dda/27Fjh/L5vCSpr6/Pd42VK1dO/3n79u1l3b6pAKiYXbt2lfX9GtFEJqeX78pp7RylDQAAAACY5Vo+nIlGo7r44ot12WWX6ZWvfKUWLFigoaEhPfHEE/rKV76ijRs3asOGDbrooov06KOP6qijjir490NDQ9N/7u7u9l2rq6tr+s/Dw8Nl3c6Zwc5sNZrKWp/rTBLOAAAAAABmt5YPZ77//e+rt7fX+vz555+vD33oQ3r/+9+v2267TXv27NFHP/pRff/73y/4uvHx8ek/JxIJ37WSyeT0n8fGxqq74bPQyETG+lxnouUfogAAAACAWa4pdr6ZTEZtbW1Vf5+vf/3r1mlKXsHMlLa2Nn31q1/VI488ok2bNukHP/iB+vv7tWLFiumvaW9vn/5zKpXyXX9iYmL6zx0dHWXd9lJtULt27dKZZ55Z1vdsNGNpu3Kmg4HAAAAAAIBZrinCmXqKx+N63/vep0984hOSpHvvvVfveMc7pv++p6dn+s+lWpVGRkam/1yqBcpUap7NbGC2NbW3RRWLRup0awAAAAAAqI2mCGfi8XgopxstW7ason934oknTv+5v7+/4O9mhialhvbOrH5phRky5Ro12ppoaQIAAAAAtIKm2f2WOqbapbx5hNAM3d3dWrlypbZv365Nmzb5fp+Zf+918lOrMytnOhO0NAEAAAAAZr9ovW9AM9iwYcP0n5cvX279/XnnnSdJevbZZ7V79+6i3+fee++d/vO5554b4i2cHUbThDMAAAAAgNZDOFNCJpPR1772temPX/va11pf87u/+7vTf7711ls9v8/o6Ki++93vSppsk1qzZk2ot3M2MNuaOmhrAgAAAAC0gJYOZ+655x4dPHiw6N+n02n94R/+4XQ70hVXXOE5K+aqq67S6v9/e3cfpGV134//vbA8CSIEBaGgEAmK1eqvKtEfopAEjc9CImPLoKRSTSOpzmjG2iaGdJrEWptUnV8qGiOxVYlpwAcSWyKDJjQSHG2NzxF8AEQtIBZ5ZuH+/eGX+7u7sLC77O617P16zezMtXtd9znn5j77Gfftuc511FFJku9+97tZtmzZbtd87Wtfy7p168rH7K7+bU09rZwBAACgAlT00oQf//jHufDCC3PhhRdm7NixOfroo9O7d+9s2LAhzz77bGbOnFneiLh///657bbb9thOly5dcvvtt+eCCy7I+vXrM3r06Hz961/PqFGjsm7dutx999352c9+luTjW6CmTJnSZu/xQLJpW/0NgYUzAAAAdHwVHc4kHz/++oEHHsgDDzzQ4DXHH398Zs+enWHDhjV4zbnnnps777wz06dPz/vvv5+vfvWru10zatSozJ07N507Cx32ZPcNgSt+egIAAFABKvqv3xtuuCEnnnhinn766bz88stZvXp1Pvjgg3Tr1i0DBgzIySefnC9+8YuZMGFCowKVP//zP89pp52W22+/PQsWLMiqVavSs2fPjBw5MpMnT860adNSXV3R/+R75WlNAAAAVKKKTgpGjhyZkSNH5tprr22xNo877rjcddddLdZeJal/W1MP4QwAAAAVoKI3BKZ92X1D4IrODgEAAKgQwhnajc31whkrZwAAAKgEwhnajY2e1gQAAEAFEs7QbtRfOeO2JgAAACqBcIZ2o/6eM25rAgAAoBIIZ2g3dtsQuJtwBgAAgI5POEO7UX/PmR5d3NYEAABAxyecoV0olUr5aEvdcKZ3D+EMAAAAHZ9whnZh07Yd2bGzVOdnvbt3KWg0AAAA0HaEM7QL67ds3+1nwhkAAAAqgXCGdqH+LU1J0qu725oAAADo+IQztAvrN9ddOdOrW3U6d6oqaDQAAADQdoQztAv1b2vqbdUMAAAAFUI4Q7uw+5Oa7DcDAABAZRDO0C7Uv63pYCtnAAAAqBDCGdqF9fVXznhSEwAAABVCOEO7UH/PGStnAAAAqBTCGdoFe84AAABQqYQztAv195xxWxMAAACVQjhDu1B/zxm3NQEAAFAphDO0Cx/V23PGbU0AAABUCuEM7cKHm+qGM4cIZwAAAKgQwhnahTUfba3zfb+eXQsaCQAAALQt4QyF27J9Rz7aWnfPmUMP7lbQaAAAAKBtCWco3NqN23b72aE9hTMAAABUBuEMhat/S1OXzlXp3cPTmgAAAKgMwhkKt3Zj/f1muqWqqqqg0QAAAEDbEs5QuDUf1b2tqV8vmwEDAABQOYQzFG5NvZUzh/ay3wwAAACVQzhD4aycAQAAoJIJZyhc/T1nDrNyBgAAgAoinKFw7/3vljrfWzkDAABAJRHOULjlH2yq8/2QvgcVNBIAAABoe8IZCrVl+468t77uypkj+glnAAAAqBzCGQq1ct2mlEp1f3bEJ4QzAAAAVA7hDIWqf0vTJ3p2zcHduxQ0GgAAAGh7whkK9fbauuGMVTMAAABUGuEMhaofzhxpvxkAAAAqjHCGQv3X8nV1vv/kob0KGgkAAAAUQzhDYTZsrcmLq9bX+dkpw/oWNBoAAAAohnCGwvzn0jXZsfP/PqqpS+eq/D9DhDMAAABUFuEMhdiyfUf+cf5rdX72R4P7pEfXzgWNCAAAAIohnKEQMx59Kb9/f0Odn31u5ICCRgMAAADFEc7Q5j7ctC2/fn1NnZ8dPeDgTP1/hxYzIAAAACiQcIY21+egrvn5X56ez43snyQ5qGvn/H+T/9gtTQAAAFSk6qIHQGXqc1DX3H3Zyfnhr99M/97dMry/R2gDAABQmYQzFKaqqip/fsYnix4GAAAAFMptTQAAAAAFEs4AAAAAFEg4AwAAAFAg4QwAAABAgYQzAAAAAAUSzgAAAAAUSDgDAAAAUCDhDAAAAECBhDMAAAAABRLOAAAAABRIOAMAAABQIOEMAAAAQIGEMwAAAAAFEs4AAAAAFEg4AwAAAFAg4QwAAABAgYQzAAAAAAUSzgAAAAAUSDgDAAAAUCDhDAAAAECBhDMAAAAABRLOAAAAABRIOAMAAABQIOEMAAAAQIEqOpyZMWNGqqqqmvQ1Y8aM3dp56623Gv36qVOntvn7BAAAANqvig5nmuPoo48ueggAAABAB1Jd9ACK9JWvfCVf/OIX93rNjh07csYZZ2T9+vXp3bt3Lr744r1e/3d/93e56KKLGjzft2/f5gwVAAAA6KAqOpzp379/+vfvv9drHn/88axfvz5Jcskll6RHjx57vf4P/uAPctxxx7XYGAEAAICOzW1N+3DfffeVjy+77LICRwIAAAB0RMKZvVi/fn0eeeSRJMmwYcMyZsyYgkcEAAAAdDTCmb346U9/ms2bNydJpkyZkqqqqoJHBAAAAHQ0Fb3nzL4055amO+64I9/61reyatWqdO/ePYMHD86YMWNy5ZVX5o//+I+bPZaVK1fu9fy7777b7LYBAACA4lSVSqVS0YNoj95+++0MGzYspVIpo0ePzqJFixq89q233sqwYcP22eZVV12V2267Ld26dWvyeJqyamfFihUZPHhwk/sAAAAA9m7lypUZMmRIkpb7+9vKmQbcd9992ZVbXX755fu8vk+fPpkwYULGjh2bT33qU+nevXvefffdzJ8/P/fcc082bNiQmTNn5qOPPsr999/f2sMHAAAADhBWzjTg6KOPzu9///t079497733Xg455JAGr922bVtqampy0EEH7fH866+/ns997nNZvnx5kuSRRx7JhRde2KTxNOa2plGjRiWxcgYAAABaS8WunKmpqUmXLl32u5177703U6dO3ed1ixcvzu9///skyUUXXbTXYCZJunbtmq5duzZ4/lOf+lTuv//+8tOe7rjjjiaHM8IWAAAA6Jg8rWkPmrMR8L6cfvrp+cM//MMkyaJFi7Jz584WaRcAAAA4sB0QK2eqq6vzyiuv7Hc7AwcO3Oc127Zty09+8pMkyYABA3L22Wfvd7+7HHvssXnppZeyZcuWrF27NocddliLtQ0AAAAcmA6IcCZJjjnmmDbpZ968efnggw+SJJMnT07nzp1brG3b+wAAAAD1ua2pnta4pWmXl19+OUnSrVu39OvXr0XbBgAAAA5Mwpla1q5dm1/84hdJkhNOOCEnnHBCi7W9aNGicjhz+umnp1Mn//QAAACAcKaOBx98MNu3b0/StFUzDz/88F5vWVq6dGkmT55c/v4rX/lK8wcJAAAAdCgHzJ4zbWHXLU2dO3euE6bsy4QJEzJ8+PBMnDgxo0aNyuDBg9OtW7esWrUq8+fPzw9/+MNs3LgxSTJp0qRMnDixVcYPAAAAHHiEM//Ha6+9lmeeeSZJcvbZZ2fAgAFNev3SpUtzyy237PWav/iLv8j3v//9Zo8RAAAA6HiEM//H/mwE/Oijj+bpp5/Ob3/727z99ttZs2ZNNm7cmN69e+eTn/xkxowZkz/7sz/Lcccd19LDBgAAAA5wVSXPd+4QVq5cmSFDhiRJVqxYkcGDBxc8IgAAAOh4WuPvbxsCAwAAABRIOAMAAABQIOEMAAAAQIGEMwAAAAAFEs4AAAAAFEg4AwAAAFAg4QwAAABAgYQzAAAAAAUSzgAAAAAUSDgDAAAAUCDhDAAAAECBhDMAAAAABRLOAAAAABRIOAMAAABQIOEMAAAAQIGEMwAAAAAFEs4AAAAAFEg4AwAAAFAg4QwAAABAgYQzAAAAAAUSzgAAAAAUSDgDAAAAUCDhDAAAAECBhDMAAAAABRLOAAAAABRIOAMAAABQIOEMAAAAQIGEMwAAAAAFEs4AAAAAFEg4AwAAAFAg4QwAAABAgYQzAAAAAAUSzgAAAAAUSDgDAAAAUCDhDAAAAECBhDMAAAAABRLOAAAAABRIOAMAAABQIOEMAAAAQIGEMwAAAAAFEs4AAAAAFEg4AwAAAFAg4QwAAABAgYQzAAAAAAUSzgAAAAAUSDgDAAAAUCDhDAAAAECBhDMAAAAABRLOAAAAABRIOAMAAABQIOEMAAAAQIGEMwAAAAAFEs4AAAAAFEg4AwAAAFAg4QwAAABAgYQzAAAAAAUSzgAAAAAUSDgDAAAAUCDhDAAAAECBhDMAAAAABRLOAAAAABRIOAMAAABQIOEMAAAAQIGEMwAAAAAFEs4AAAAAFEg4AwAAAFAg4QwAAABAgYQzAAAAAAUSzgAAAAAUSDgDAAAAUKADNpzZsGFDfvWrX+XWW2/NpEmTMmzYsFRVVaWqqipDhw5tcnsvvfRSvvzlL2f48OHp0aNHDjvssJxxxhmZOXNmampqGt3O7Nmzc/bZZ2fgwIHp3r17hg4dmilTpmTx4sVNHhMAAADQ8VWVSqVS0YNojnHjxuXJJ5/c47kjjzwyb731VqPbuueee3L11Vdn69atezx/6qmnZt68eenXr1+DbWzZsiWXXHJJ5s2bt8fznTp1yowZM/KNb3yj0eNqipUrV2bIkCFJkhUrVmTw4MGt0g8AAABUstb4+/uAXTlTO1Pq27dvxo8fn169ejW5nf/4j//IlVdema1bt2bAgAG5/fbb89vf/jaPP/54Jk6cmCRZvHhxJk6cmJ07dzbYzhVXXFEOZsaNG5eHH344S5YsyT333JOjjjoqO3fuzE033ZQf/vCHTR4jAAAA0HEdsCtn7rrrrvTq1SujRo3K8OHDkyRDhw7N22+/3eiVMzU1NRk5cmSWLl2a3r1757nnnstRRx1V55qrr746P/jBD5IkP/7xj3PZZZft1s5TTz2VsWPHJkkuuOCCzJ07N507dy6fX7NmTU466aQsX748ffv2zRtvvJE+ffo07403wMoZAAAAaH1WztRy5ZVX5k//9E/LwUxzzJ07N0uXLk2S3HjjjbsFM0nyD//wD+nbt2/5eE9uueWWJEnnzp3zgx/8oE4wkySHHnpo/v7v/z5Jsm7dutxzzz3NHjMAAADQsRyw4UxLePjhh8vHU6dO3eM1Bx10UCZNmpQkefHFF/P666/XOb9hw4YsWLAgSTJ+/PgGE7OJEyemd+/eSZI5c+bs58gBAACAjqKiw5lf//rXSZKjjz46hx9+eIPXnXnmmeXjRYsW1Tm3ZMmS8kbCta+rr2vXrjn11FPLr9m+fXuzxw0AAAB0HBUbzmzYsCErV65MkhxzzDF7vbb2+VdeeaXOudrfN7admpqa3VbgAAAAAJWpuugBFGXlypXlJz7ta/OeXRv9JB9v9lNb7e+b2s6xxx7bpPHuTe1xvPvuu41uFwAAAGi82n9z19TUtEibFRvOfPTRR+XjfT2Cu2fPnuXjDRs2tEo7+1I72NmXUaNGNaltAAAAoOlWr16doUOH7nc7FXtb05YtW8rHXbt23eu13bp1Kx9v3ry5VdoBAAAAKlOrrpypqalJly5d9rude++9t8GnKTVX9+7dy8fbtm3b67W7NvxNkh49erRKO/tS/3aq+rZs2ZJXX301AwYMyGGHHZbq6va/KOrdd98tr/JZsmRJBg4cWPCI6AjMK1qDeUVrMbdoDeYVrcG8ojUcqPOqpqYmq1evTpIcf/zxLdJm+/8LvpUcfPDB5eN93WK0cePG8nH9W5daqp192dd+NkkyfPjwJrXZngwcOLBR7xGawryiNZhXtBZzi9ZgXtEazCtaw4E2r1riVqbaWjWcqa6u3u3pRs3RGulZ7Q+9KZvt1t/7pX47J598crPaAQAAACpTq6+c2dfjpYvSq1evDBkyJCtWrMirr76612trnx85cmSdc7WfuNTYdqqrqw/oVS4AAABAy6nYDYGT5PTTT0+SvPbaa3nvvfcavO6pp54qH48ePbrOuVNOOaW8EXDt6+rbtm1bFi9evNtrAAAAgMpW0eHMxRdfXD6eNWvWHq/ZtGlTHnrooSQfr5IZMWJEnfMHH3xwPvvZzyZJnnjiiQZvkZozZ07Wr1+fJJkwYcJ+jhwAAADoKCo6nJkwYUKOOuqoJMl3v/vdLFu2bLdrvva1r2XdunXl4z25/vrrk3y8Y/PVV1+dHTt21Dm/Zs2a3HDDDUmSPn36ZNq0aS32HgAAAIAD2wH7tKalS5dm0aJFdX6262lJGzZs2G0lzOc///kcfvjhdX7WpUuX3H777bnggguyfv36jB49Ol//+tczatSorFu3LnfffXd+9rOfJfn4FqgpU6bscSyf+cxncumll2b27Nl59NFHM378+Fx77bUZNGhQXnjhhXz729/O8uXLkyQ333xz+vbt2xL/BAAAAEAHcMCGM4sWLcqXvvSlPZ5bu3btbucWLly4WziTJOeee27uvPPOTJ8+Pe+//36++tWv7nbNqFGjMnfu3HTu3LnB8fzoRz/K+vXr84tf/CILFy7MwoUL65zv1KlTvvGNb+Sqq65qzNsDAAAAKkRVqVQqFT2I5pg1a1aD4cyeLFy4MGPHjm3w/Isvvpjbb789CxYsyKpVq9KzZ8+MHDkykydPzrRp01Jd3bgc64EHHsisWbPy/PPP58MPP8yAAQMyZsyYTJ8+PaeddlqjxwsAAABUhgM2nAEAAADoCCp6Q2AAAACAoglnAAAAAAoknAEAAAAokHAGAAAAoEDCGQAAAIACCWcAAAAACiScAQAAACiQcAYAAACgQMIZAAAAgAIJZ9gvy5cvz/XXX5+RI0emZ8+e+cQnPpFRo0bl1ltvzaZNm1qsn9mzZ+fss8/OwIED07179wwdOjRTpkzJ4sWLW6wP2pfWnFszZsxIVVVVo76efPLJlnlDFOZ//ud/Mm/evNx0000555xzcuihh5Y/36lTp7ZKn2pWZWiruaVmVZbnnnsu3/nOd3LOOedkyJAh6datW3r16pURI0Zk6tSp+fWvf93ifapZHV9bzSv1qrKsX78+s2fPznXXXZczzzwzw4cPzyGHHJKuXbumf//+GTt2bG655ZasXbu2xfrs0PWqBM00b9680iGHHFJKssevo48+urRs2bL96mPz5s2l888/v8E+OnXqVPrbv/3bFnpHtBetPbe++c1vNth2/a+FCxe23BujEHv7fC+//PIW7UvNqixtNbfUrMpxxhlnNOpznjJlSmnr1q373Z+aVRnacl6pV5Xll7/8ZaM+60MPPbT07//+7/vVVyXUq+oGMhvYq+effz6TJk3Kpk2b0qtXr9x4440ZN25cNm/enNmzZ+fuu+/Oa6+9lvPOOy/PPPNMevXq1ax+rrjiisybNy9JMm7cuFxzzTUZNGhQXnjhhXznO9/JsmXLctNNN2XgwIGZNm1aS75FCtJWc2uXF154Ya/nhw0btl/t074MGTIkI0eOzPz581ulfTWrcrX23NpFzerY3nnnnSTJoEGDcskll2TMmDE54ogjsmPHjjz99NP5x3/8x7zzzjv5l3/5l9TU1OSBBx7Yr/7UrMrQ1vNqF/WqMgwZMiTjxo3LSSedlCFDhmTgwIHZuXNnVq5cmX/7t3/LnDlzsmbNmlx44YV55pln8kd/9EfN6qci6lXR6RAHprFjx5aSlKqrq0u/+c1vdjt/yy23lFPMb33rW83q48knnyy3ccEFF5RqamrqnF+9enXpiCOOKCUp9e3bt7Ru3bpm9UP70hZzq/b/1aHju+mmm0qPPfZY6b333iuVSqXSm2++2SqrG9SsytNWc0vNqhznnXde6Sc/+clu9WOX1atXl0aMGFGeD7/61a+a3ZeaVTnacl6pV5WloTlV29y5c8tzYuLEic3qp1Lqld8ammzJkiXlX46rrrpqj9fs2LGjNHLkyPIvyLZt25rcz7nnnltKUurcuXNpxYoVe7zmwQcfLI/l1ltvbXIftC9tNbf8h0Nla60/oNUshDO0hccee6w8H/7yL/+y2e2oWdTWUvNKvWJPjjnmmPLtTc1RKfXKhsA02cMPP1w+/tKXvrTHazp16pTLLrssSbJu3bomb/i1YcOGLFiwIEkyfvz4DB48eI/XTZw4Mb17906SzJkzp0l90P60xdyC1qBmAW1l7Nix5eNly5Y1qw01i/paYl5BQ3r27Jkk2bJlS5NfW0n1SjhDk+3azb1nz5456aSTGrzuzDPPLB8vWrSoSX0sWbIkW7du3a2d+rp27ZpTTz21/Jrt27c3qR/al7aYW9Aa1CygrWzbtq183KlT8/5TXs2ivpaYV7Anr7zySv77v/87SXLMMcc0+fWVVK/85tFkr7zySpJk+PDhqa5ueE/p2r98u17T1D7qt7O3fmpqavL66683qR/al7aYW/WNHz8+/fr1q/PIv5tvvjnr1q3br3apLGoWbUXN4qmnniofN+cPnUTNYnctMa/qU68q16ZNm/L666/ne9/7XsaNG5cdO3YkSa655pomt1VJ9Uo4Q5Ns2bIla9asSZIGl5Tt0rdv3/ISthUrVjSpn9rX76ufIUOG7PF1HFjaam7V98QTT+SDDz7I9u3bs3r16jz11FO58cYb88lPfjKPPPLIfrVN5VCzaCtqVmXbuXNnbr755vL3kyZNalY7aha1tdS8qk+9qiyzZs1KVVVVqqqq0rNnz4wYMSLXXXdd3n///STJ9ddfn8mTJze53UqqVx6lTZN89NFH5ePGPMK4Z8+e2bhxYzZs2NBq/ez6Iz1Jk/uh/WirubXL8ccfn4svvjijRo3KoEGDsn379rz22mu5//77M3/+/Hz44Yf5whe+kMceeyznnHNOs/qgcqhZtDY1iyT5/ve/nyVLliRJJkyYkJNPPrlZ7ahZ1NZS82oX9YraTjzxxNx555359Kc/3azXV1K9Es7QJLU3cerates+r+/WrVuSZPPmza3Wz64+mtMP7Udbza0kufbaazNjxozdfv7pT386l112WWbOnJkvf/nL2bFjR6ZNm5alS5emR48eTe6HyqFm0ZrULJKPbzv5q7/6qyRJ//7988///M/NbkvNYpeWnFeJelXJLr744nKwt3nz5ixbtiwPPfRQ5s6dm8mTJ+ef/umfcv755ze53UqqV25rokm6d+9ePq69cVhDdm3e1NSi25R+dvXRnH5oP9pqbiVJnz599nr+qquuyrRp05Ikq1atOmB3fKftqFm0JjWLl156KRMmTEhNTU26deuWhx56KAMGDGh2e2oWScvPq0S9qmR9+vTJcccdl+OOOy6nnHJKLr300syZMyf33Xdf3njjjVx00UWZNWtWk9utpHolnKFJDj744PJxY5aKbdy4MUnjblNpbj+7+mhOP7QfbTW3Guuqq64qH9feJA/2RM2iaGpWx/Xmm2/mrLPOyrp169K5c+c8+OCDe31iSWOoWbTGvGos9aqyTJkyJZdcckl27tyZ6dOnN3lD6EqqV8IZmqR79+459NBDkyQrV67c67Xr1q0r/4LU3pypMWpv9rSvfmpv9tTUfmg/2mpuNdaxxx5bPn7nnXdapQ86DjWLoqlZHdOqVavyuc99LqtWrUpVVVV+9KMfZcKECfvdrppV2VprXjWWelV5LrrooiQfhyePP/54k15bSfVKOEOTjRw5MkmydOnS1NTUNHjdq6++uttrGqt20a7dzt76qa6uzvDhw5vUD+1LW8ytxiqVSq3SLh2TmkXR1KyOZ82aNRk/fnzeeOONJMkdd9yRyy67rEXaVrMqV2vOq8ZSryrPYYcdVj5+++23m/TaSqpXwhma7PTTT0/ycfL57LPPNnhd7WWKo0ePblIfp5xySnnDp70td9y2bVsWL16822s4MLXF3Gqsl19+uXw8aNCgVumDjkPNomhqVsfyv//7vzn77LPLn+vNN9+cq6++usXaV7MqU2vPq8ZSrypP7RVSTb3dqJLqlXCGJrv44ovLx/fee+8er9m5c2fuu+++JB9vDjVu3Lgm9XHwwQfns5/9bJLkiSeeaHAJ25w5c7J+/fokadPlmLSOtphbjTVz5szycVvdg82BS82iaGpWx7Fp06acd955ee6555Ikf/M3f5MbbrihRftQsypPW8yrxlKvKs9Pf/rT8vHxxx/fpNdWVL0qQTOMGTOmlKRUXV1d+s1vfrPb+VtuuaWUpJSk9M1vfnO38/fee+9ez5dKpdKCBQvK11x44YWlmpqaOudXr15dOuKII0pJSn369Cl98MEHLfHWKFhrz63f/e53pddff32vY7jzzjvLbRx++OGlDRs2NPft0A69+eab5c/38ssvb9Rr1CwaozXmlppVWbZu3Vo666yzyp/nNddc06x21Cxqa6t5pV5Vnnvvvbe0efPmvV7zve99r/yZDx06tLR9+/bd2lCvPlbd8nEPleC2227L6NGjs3nz5px11ln567/+64wbNy6bN2/O7Nmzc9dddyVJRowYkeuuu65ZfXzmM5/JpZdemtmzZ+fRRx/N+PHjc+2112bQoEF54YUX8u1vfzvLly9P8vGyzL59+7bY+6M4rT23nn322UybNi3jxo3LOeeck+OPPz79+vVLTU1NXn311fzrv/5rfvnLXyZJOnfunJkzZ6Znz54t+h5pW4sWLcrSpUvL369Zs6Z8vHTp0t0e6zh16tRm9aNmVZ62mFtqVmX5kz/5k8yfPz/JxzXliiuuyIsvvtjg9V27ds2IESOa1ZeaVTnaal6pV5VnxowZue666/KFL3whp59+eo466qj06tUrH330UV544YXcf//9+c///M8kH8+ru+++O9XVTY8gKqZeFZ0OceB69NFHS7179y6nmPW/RowY0WB63piEtFQqlTZt2lQ699xzG+yjU6dOe309B6bWnFu1z+/tq1+/fqWHH364ld8pbeHyyy9v1Ge+62tP1Cz2pC3mlppVWZoyn5KUjjzyyD22o2ZRW1vNK/Wq8hx55JGN+swHDx5cmj9//h7bUK/+LytnaLYLLrggv/vd73Lbbbfl5z//eVauXJmuXbtm+PDhueSSSzJ9+vQcdNBB+9VHjx498vOf/zwPPPBAZs2aleeffz4ffvhhBgwYkDFjxmT69Ok57bTTWugd0V605tw699xzc8899+Tpp5/Of/3Xf+X999/P2rVrUyqV8olPfCInnHBCPv/5z2fq1Knp3bt3C78zOjo1i5amZtGa1CxaknpVeRYsWJAnnngiCxcuzCuvvFL+zLt3754BAwbkxBNPzPnnn59Jkyb5u7ARqkolzzIDAAAAKIqnNQEAAAAUSDgDAAAAUCDhDAAAAECBhDMAAAAABRLOAAAAABRIOAMAAABQIOEMAAAAQIGEMwAAAAAFEs4AAAAAFEg4AwAAAFAg4QwAAABAgYQzAAAAAAUSzgAAAAAUSDgDAAAAUCDhDAAAAECBhDMAAAAABRLOAAAAABRIOAMAAABQIOEMAAAAQIGEMwAAAAAFEs4AAAAAFEg4AwAAAFAg4QwAAABAgYQzAAAAAAX6/wE+glvN/8AjyAAAAABJRU5ErkJggg==",
          "text/plain": "<Figure size 640x480 with 1 Axes>"
         },
         "metadata": {
          "image/png": {
           "height": 418,
           "width": 563
          }
         },
         "output_type": "display_data"
        }
       ],
       "tabbable": null,
       "tooltip": null
      }
     },
     "36eb7cb173e343d3b1fdf8de0d53623d": {
      "model_module": "@jupyter-widgets/base",
      "model_module_version": "2.0.0",
      "model_name": "LayoutModel",
      "state": {
       "_model_module": "@jupyter-widgets/base",
       "_model_module_version": "2.0.0",
       "_model_name": "LayoutModel",
       "_view_count": null,
       "_view_module": "@jupyter-widgets/base",
       "_view_module_version": "2.0.0",
       "_view_name": "LayoutView",
       "align_content": null,
       "align_items": null,
       "align_self": null,
       "border_bottom": null,
       "border_left": null,
       "border_right": null,
       "border_top": null,
       "bottom": null,
       "display": null,
       "flex": null,
       "flex_flow": null,
       "grid_area": null,
       "grid_auto_columns": null,
       "grid_auto_flow": null,
       "grid_auto_rows": null,
       "grid_column": null,
       "grid_gap": null,
       "grid_row": null,
       "grid_template_areas": null,
       "grid_template_columns": null,
       "grid_template_rows": null,
       "height": null,
       "justify_content": null,
       "justify_items": null,
       "left": null,
       "margin": null,
       "max_height": null,
       "max_width": null,
       "min_height": null,
       "min_width": null,
       "object_fit": null,
       "object_position": null,
       "order": null,
       "overflow": null,
       "padding": null,
       "right": null,
       "top": null,
       "visibility": null,
       "width": null
      }
     },
     "3cb601f336754133b9c76436bcd3c1a8": {
      "model_module": "@jupyter-widgets/controls",
      "model_module_version": "2.0.0",
      "model_name": "FloatSliderModel",
      "state": {
       "_dom_classes": [],
       "_model_module": "@jupyter-widgets/controls",
       "_model_module_version": "2.0.0",
       "_model_name": "FloatSliderModel",
       "_view_count": null,
       "_view_module": "@jupyter-widgets/controls",
       "_view_module_version": "2.0.0",
       "_view_name": "FloatSliderView",
       "behavior": "drag-tap",
       "continuous_update": true,
       "description": "phi0",
       "description_allow_html": false,
       "disabled": false,
       "layout": "IPY_MODEL_c253bd4a407c4584b73a4b9f47a9ef77",
       "max": 2,
       "min": 0,
       "orientation": "horizontal",
       "readout": true,
       "readout_format": ".2f",
       "step": 0.01,
       "style": "IPY_MODEL_c11877e9d99b46b391d99fccb00a4df2",
       "tabbable": null,
       "tooltip": null,
       "value": 1
      }
     },
     "9a77421b73174da0b95590a9f38bded7": {
      "model_module": "@jupyter-widgets/base",
      "model_module_version": "2.0.0",
      "model_name": "LayoutModel",
      "state": {
       "_model_module": "@jupyter-widgets/base",
       "_model_module_version": "2.0.0",
       "_model_name": "LayoutModel",
       "_view_count": null,
       "_view_module": "@jupyter-widgets/base",
       "_view_module_version": "2.0.0",
       "_view_name": "LayoutView",
       "align_content": null,
       "align_items": null,
       "align_self": null,
       "border_bottom": null,
       "border_left": null,
       "border_right": null,
       "border_top": null,
       "bottom": null,
       "display": null,
       "flex": null,
       "flex_flow": null,
       "grid_area": null,
       "grid_auto_columns": null,
       "grid_auto_flow": null,
       "grid_auto_rows": null,
       "grid_column": null,
       "grid_gap": null,
       "grid_row": null,
       "grid_template_areas": null,
       "grid_template_columns": null,
       "grid_template_rows": null,
       "height": null,
       "justify_content": null,
       "justify_items": null,
       "left": null,
       "margin": null,
       "max_height": null,
       "max_width": null,
       "min_height": null,
       "min_width": null,
       "object_fit": null,
       "object_position": null,
       "order": null,
       "overflow": null,
       "padding": null,
       "right": null,
       "top": null,
       "visibility": null,
       "width": null
      }
     },
     "a10559d6143747db8c016febaf88bd2e": {
      "model_module": "@jupyter-widgets/controls",
      "model_module_version": "2.0.0",
      "model_name": "VBoxModel",
      "state": {
       "_dom_classes": [
        "widget-interact"
       ],
       "_model_module": "@jupyter-widgets/controls",
       "_model_module_version": "2.0.0",
       "_model_name": "VBoxModel",
       "_view_count": null,
       "_view_module": "@jupyter-widgets/controls",
       "_view_module_version": "2.0.0",
       "_view_name": "VBoxView",
       "box_style": "",
       "children": [
        "IPY_MODEL_3cb601f336754133b9c76436bcd3c1a8",
        "IPY_MODEL_3040f99c7ee141cda8b724de1b5a7796"
       ],
       "layout": "IPY_MODEL_9a77421b73174da0b95590a9f38bded7",
       "tabbable": null,
       "tooltip": null
      }
     },
     "c11877e9d99b46b391d99fccb00a4df2": {
      "model_module": "@jupyter-widgets/controls",
      "model_module_version": "2.0.0",
      "model_name": "SliderStyleModel",
      "state": {
       "_model_module": "@jupyter-widgets/controls",
       "_model_module_version": "2.0.0",
       "_model_name": "SliderStyleModel",
       "_view_count": null,
       "_view_module": "@jupyter-widgets/base",
       "_view_module_version": "2.0.0",
       "_view_name": "StyleView",
       "description_width": "",
       "handle_color": null
      }
     },
     "c253bd4a407c4584b73a4b9f47a9ef77": {
      "model_module": "@jupyter-widgets/base",
      "model_module_version": "2.0.0",
      "model_name": "LayoutModel",
      "state": {
       "_model_module": "@jupyter-widgets/base",
       "_model_module_version": "2.0.0",
       "_model_name": "LayoutModel",
       "_view_count": null,
       "_view_module": "@jupyter-widgets/base",
       "_view_module_version": "2.0.0",
       "_view_name": "LayoutView",
       "align_content": null,
       "align_items": null,
       "align_self": null,
       "border_bottom": null,
       "border_left": null,
       "border_right": null,
       "border_top": null,
       "bottom": null,
       "display": null,
       "flex": null,
       "flex_flow": null,
       "grid_area": null,
       "grid_auto_columns": null,
       "grid_auto_flow": null,
       "grid_auto_rows": null,
       "grid_column": null,
       "grid_gap": null,
       "grid_row": null,
       "grid_template_areas": null,
       "grid_template_columns": null,
       "grid_template_rows": null,
       "height": null,
       "justify_content": null,
       "justify_items": null,
       "left": null,
       "margin": null,
       "max_height": null,
       "max_width": null,
       "min_height": null,
       "min_width": null,
       "object_fit": null,
       "object_position": null,
       "order": null,
       "overflow": null,
       "padding": null,
       "right": null,
       "top": null,
       "visibility": null,
       "width": null
      }
     }
    },
    "version_major": 2,
    "version_minor": 0
   }
  }
 },
 "nbformat": 4,
 "nbformat_minor": 4
}
