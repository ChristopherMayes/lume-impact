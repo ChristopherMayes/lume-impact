{
 "cells": [
  {
   "cell_type": "markdown",
   "metadata": {},
   "source": [
    "# Layout Plotting"
   ]
  },
  {
   "cell_type": "code",
   "execution_count": null,
   "metadata": {
    "execution": {
     "iopub.execute_input": "2025-02-20T21:28:29.038054Z",
     "iopub.status.busy": "2025-02-20T21:28:29.037952Z",
     "iopub.status.idle": "2025-02-20T21:28:30.336925Z",
     "shell.execute_reply": "2025-02-20T21:28:30.336676Z"
    }
   },
   "outputs": [],
   "source": [
    "import os\n",
    "import numpy as np\n",
    "\n",
    "from impact import Impact\n",
    "\n",
    "from impact.parsers import parse_impact_input\n",
    "from impact.plotting import layout_plot\n",
    "from impact.fieldmaps import ele_field, lattice_field\n",
    "\n",
    "from bokeh.plotting import output_notebook\n",
    "from bokeh.plotting import show\n",
    "\n",
    "\n",
    "import matplotlib.pyplot as plt\n",
    "from ipywidgets import interact\n",
    "\n",
    "output_notebook(hide_banner=True)"
   ]
  },
  {
   "cell_type": "code",
   "execution_count": null,
   "metadata": {
    "execution": {
     "iopub.execute_input": "2025-02-20T21:28:30.357199Z",
     "iopub.status.busy": "2025-02-20T21:28:30.356997Z",
     "iopub.status.idle": "2025-02-20T21:28:30.358832Z",
     "shell.execute_reply": "2025-02-20T21:28:30.358586Z"
    }
   },
   "outputs": [],
   "source": [
    "infile = \"templates/lcls_injector/ImpactT.in\""
   ]
  },
  {
   "cell_type": "markdown",
   "metadata": {},
   "source": [
    "## matplotlib plotting from the Impact object"
   ]
  },
  {
   "cell_type": "code",
   "execution_count": null,
   "metadata": {
    "execution": {
     "iopub.execute_input": "2025-02-20T21:28:30.360116Z",
     "iopub.status.busy": "2025-02-20T21:28:30.360015Z",
     "iopub.status.idle": "2025-02-20T21:28:30.560873Z",
     "shell.execute_reply": "2025-02-20T21:28:30.560603Z"
    }
   },
   "outputs": [],
   "source": [
    "I = Impact(infile)\n",
    "I.plot(figsize=(12, 4))"
   ]
  },
  {
   "cell_type": "code",
   "execution_count": null,
   "metadata": {
    "execution": {
     "iopub.execute_input": "2025-02-20T21:28:30.562229Z",
     "iopub.status.busy": "2025-02-20T21:28:30.562123Z",
     "iopub.status.idle": "2025-02-20T21:28:30.939539Z",
     "shell.execute_reply": "2025-02-20T21:28:30.939202Z"
    }
   },
   "outputs": [],
   "source": [
    "# Track 1 particle\n",
    "I.track1()\n",
    "\n",
    "# These are the fields seen by the bunch centroid\n",
    "I.plot(\"Ez\", y2=\"Bz\")"
   ]
  },
  {
   "cell_type": "code",
   "execution_count": null,
   "metadata": {
    "execution": {
     "iopub.execute_input": "2025-02-20T21:28:30.941126Z",
     "iopub.status.busy": "2025-02-20T21:28:30.940984Z",
     "iopub.status.idle": "2025-02-20T21:28:31.057121Z",
     "shell.execute_reply": "2025-02-20T21:28:31.056885Z"
    }
   },
   "outputs": [],
   "source": [
    "# Fieldmaps can be added to existing axes\n",
    "\n",
    "from impact.plot import add_fieldmaps_to_axes\n",
    "\n",
    "fig, ax = plt.subplots()\n",
    "add_fieldmaps_to_axes(I, t=1, ax=ax, bounds=(0, 10))"
   ]
  },
  {
   "cell_type": "markdown",
   "metadata": {},
   "source": [
    "# Low-level get field"
   ]
  },
  {
   "cell_type": "code",
   "execution_count": null,
   "metadata": {
    "execution": {
     "iopub.execute_input": "2025-02-20T21:28:31.058408Z",
     "iopub.status.busy": "2025-02-20T21:28:31.058301Z",
     "iopub.status.idle": "2025-02-20T21:28:31.060671Z",
     "shell.execute_reply": "2025-02-20T21:28:31.060416Z"
    }
   },
   "outputs": [],
   "source": [
    "# Get fieldmaps\n",
    "fmaps = I.fieldmaps\n",
    "\n",
    "# This shows the field from a single element\n",
    "ele_field(I.ele[\"GUN\"], z=0.1, fmaps=fmaps)"
   ]
  },
  {
   "cell_type": "code",
   "execution_count": null,
   "metadata": {
    "execution": {
     "iopub.execute_input": "2025-02-20T21:28:31.061884Z",
     "iopub.status.busy": "2025-02-20T21:28:31.061778Z",
     "iopub.status.idle": "2025-02-20T21:28:31.063803Z",
     "shell.execute_reply": "2025-02-20T21:28:31.063588Z"
    }
   },
   "outputs": [],
   "source": [
    "# this gets the total field from all elements in the lattice\n",
    "lattice_field(I.lattice, z=0.3, fmaps=fmaps)"
   ]
  },
  {
   "cell_type": "code",
   "execution_count": null,
   "metadata": {
    "execution": {
     "iopub.execute_input": "2025-02-20T21:28:31.064999Z",
     "iopub.status.busy": "2025-02-20T21:28:31.064892Z",
     "iopub.status.idle": "2025-02-20T21:28:31.066723Z",
     "shell.execute_reply": "2025-02-20T21:28:31.066509Z"
    }
   },
   "outputs": [],
   "source": [
    "I.input[\"fieldmaps\"].keys()"
   ]
  },
  {
   "cell_type": "code",
   "execution_count": null,
   "metadata": {
    "execution": {
     "iopub.execute_input": "2025-02-20T21:28:31.067877Z",
     "iopub.status.busy": "2025-02-20T21:28:31.067793Z",
     "iopub.status.idle": "2025-02-20T21:28:31.070011Z",
     "shell.execute_reply": "2025-02-20T21:28:31.069779Z"
    }
   },
   "outputs": [],
   "source": [
    "# Period in ps\n",
    "T = 1 / 2856000000.0\n",
    "T / 1e-12  # ps"
   ]
  },
  {
   "cell_type": "code",
   "execution_count": null,
   "metadata": {
    "execution": {
     "iopub.execute_input": "2025-02-20T21:28:31.071046Z",
     "iopub.status.busy": "2025-02-20T21:28:31.070971Z",
     "iopub.status.idle": "2025-02-20T21:28:31.206760Z",
     "shell.execute_reply": "2025-02-20T21:28:31.206457Z"
    }
   },
   "outputs": [],
   "source": [
    "I = Impact(infile)\n",
    "I.plot(figsize=(12, 4), field_t=0)"
   ]
  },
  {
   "cell_type": "code",
   "execution_count": null,
   "metadata": {
    "execution": {
     "iopub.execute_input": "2025-02-20T21:28:31.208041Z",
     "iopub.status.busy": "2025-02-20T21:28:31.207931Z",
     "iopub.status.idle": "2025-02-20T21:28:31.294622Z",
     "shell.execute_reply": "2025-02-20T21:28:31.294366Z"
    }
   },
   "outputs": [],
   "source": [
    "# Make a function to get a field array at a given phase/2pi\n",
    "\n",
    "zz = np.linspace(0, I.stop, 1000)\n",
    "\n",
    "\n",
    "def field_at(phi0):\n",
    "    Ez_at = np.array([I.field(z=z, t=phi0 / 2856000000.0, component=\"Ez\") for z in zz])\n",
    "    plt.plot(zz, Ez_at / 1e6)\n",
    "    plt.ylim(-100, 100)\n",
    "    # plt.xlim(2, 2.2)\n",
    "\n",
    "\n",
    "# def field_at(phi0):\n",
    "#    t=phi0/2856000000.0\n",
    "#    fig = I.plot(figsize=(12,4), field_t=t, return_figure=True)\n",
    "#    fig.axes[0].set_ylim(-100,100)\n",
    "#    fig.axes[1].set_ylim(-0, 0.3)\n",
    "\n",
    "field_at(0)"
   ]
  },
  {
   "cell_type": "code",
   "execution_count": null,
   "metadata": {
    "execution": {
     "iopub.execute_input": "2025-02-20T21:28:31.295854Z",
     "iopub.status.busy": "2025-02-20T21:28:31.295768Z",
     "iopub.status.idle": "2025-02-20T21:28:31.379091Z",
     "shell.execute_reply": "2025-02-20T21:28:31.378803Z"
    }
   },
   "outputs": [],
   "source": [
    "# Visualize the oscillating fields\n",
    "interact(field_at, phi0=(0, 2, 0.01))"
   ]
  },
  {
   "cell_type": "code",
   "execution_count": null,
   "metadata": {
    "execution": {
     "iopub.execute_input": "2025-02-20T21:28:31.381473Z",
     "iopub.status.busy": "2025-02-20T21:28:31.381398Z",
     "iopub.status.idle": "2025-02-20T21:28:31.640149Z",
     "shell.execute_reply": "2025-02-20T21:28:31.639832Z"
    }
   },
   "outputs": [],
   "source": [
    "# These are the fields seen by the bunch\n",
    "I.track1()\n",
    "zz = I.stat(\"mean_z\")\n",
    "tt = I.stat(\"t\")\n",
    "\n",
    "Ez_seen = np.array(\n",
    "    [\n",
    "        lattice_field(I.lattice, z=z, t=t, fmaps=fmaps, component=\"Ez\")\n",
    "        for z, t in zip(zz, tt)\n",
    "    ]\n",
    ")\n",
    "zz = zz[: len(tt)]\n",
    "plt.plot(zz, Ez_seen)"
   ]
  },
  {
   "cell_type": "code",
   "execution_count": null,
   "metadata": {
    "execution": {
     "iopub.execute_input": "2025-02-20T21:28:31.641496Z",
     "iopub.status.busy": "2025-02-20T21:28:31.641369Z",
     "iopub.status.idle": "2025-02-20T21:28:31.643891Z",
     "shell.execute_reply": "2025-02-20T21:28:31.643637Z"
    }
   },
   "outputs": [],
   "source": [
    "# MeV energy gain\n",
    "-np.trapz(Ez_seen, zz) / 1e6"
   ]
  },
  {
   "cell_type": "code",
   "execution_count": null,
   "metadata": {
    "execution": {
     "iopub.execute_input": "2025-02-20T21:28:31.644968Z",
     "iopub.status.busy": "2025-02-20T21:28:31.644884Z",
     "iopub.status.idle": "2025-02-20T21:28:31.646707Z",
     "shell.execute_reply": "2025-02-20T21:28:31.646497Z"
    }
   },
   "outputs": [],
   "source": [
    "# This is pretty close to the tracked kinetic energy\n",
    "I.stat(\"mean_kinetic_energy\")[-1] / 1e6"
   ]
  },
  {
   "cell_type": "markdown",
   "metadata": {},
   "source": [
    "## Bokeh plotting from the input file"
   ]
  },
  {
   "cell_type": "code",
   "execution_count": null,
   "metadata": {
    "execution": {
     "iopub.execute_input": "2025-02-20T21:28:31.647872Z",
     "iopub.status.busy": "2025-02-20T21:28:31.647774Z",
     "iopub.status.idle": "2025-02-20T21:28:31.650475Z",
     "shell.execute_reply": "2025-02-20T21:28:31.650255Z"
    }
   },
   "outputs": [],
   "source": [
    "infile = \"templates/lcls_injector/ImpactT.in\"\n",
    "os.path.exists(infile)\n",
    "\n",
    "dat = parse_impact_input(infile)\n",
    "header = dat[\"header\"]\n",
    "lattice = dat[\"lattice\"]"
   ]
  },
  {
   "cell_type": "code",
   "execution_count": null,
   "metadata": {
    "execution": {
     "iopub.execute_input": "2025-02-20T21:28:31.651510Z",
     "iopub.status.busy": "2025-02-20T21:28:31.651442Z",
     "iopub.status.idle": "2025-02-20T21:28:31.875702Z",
     "shell.execute_reply": "2025-02-20T21:28:31.875405Z"
    }
   },
   "outputs": [],
   "source": [
    "layout = layout_plot(lattice)\n",
    "show(layout)"
   ]
  },
  {
   "cell_type": "markdown",
   "metadata": {},
   "source": [
    "# Output Plotting"
   ]
  },
  {
   "cell_type": "code",
   "execution_count": null,
   "metadata": {
    "execution": {
     "iopub.execute_input": "2025-02-20T21:28:31.877076Z",
     "iopub.status.busy": "2025-02-20T21:28:31.876906Z",
     "iopub.status.idle": "2025-02-20T21:28:31.878770Z",
     "shell.execute_reply": "2025-02-20T21:28:31.878526Z"
    }
   },
   "outputs": [],
   "source": [
    "from bokeh.plotting import figure\n",
    "from bokeh.layouts import column\n",
    "from bokeh.models import ColumnDataSource, Range1d\n",
    "from impact.parsers import load_many_fort\n",
    "from impact.parsers import UNITS"
   ]
  },
  {
   "cell_type": "code",
   "execution_count": null,
   "metadata": {
    "execution": {
     "iopub.execute_input": "2025-02-20T21:28:31.879859Z",
     "iopub.status.busy": "2025-02-20T21:28:31.879779Z",
     "iopub.status.idle": "2025-02-20T21:28:31.958492Z",
     "shell.execute_reply": "2025-02-20T21:28:31.958237Z"
    }
   },
   "outputs": [],
   "source": [
    "opath = \"templates/lcls_injector/output/\"\n",
    "data = load_many_fort(opath, verbose=True)\n",
    "ds = ColumnDataSource(data)"
   ]
  },
  {
   "cell_type": "code",
   "execution_count": null,
   "metadata": {
    "execution": {
     "iopub.execute_input": "2025-02-20T21:28:31.959767Z",
     "iopub.status.busy": "2025-02-20T21:28:31.959681Z",
     "iopub.status.idle": "2025-02-20T21:28:31.984037Z",
     "shell.execute_reply": "2025-02-20T21:28:31.983764Z"
    }
   },
   "outputs": [],
   "source": [
    "def plot1(y_axis, x_axis=\"mean_z\", source=ds):\n",
    "    yunit = UNITS[y_axis]\n",
    "    ylabel = y_axis + \" (\" + yunit + \")\"\n",
    "\n",
    "    xunit = UNITS[x_axis]\n",
    "    xlabel = x_axis + \" (\" + xunit + \")\"\n",
    "    p = figure(width=600, height=200, x_axis_label=xlabel, y_axis_label=ylabel)\n",
    "    p.line(x_axis, y_axis, source=source, color=\"red\")\n",
    "    return p\n",
    "\n",
    "\n",
    "show(plot1(\"norm_emit_x\"))"
   ]
  },
  {
   "cell_type": "markdown",
   "metadata": {},
   "source": [
    "# Stacking plots"
   ]
  },
  {
   "cell_type": "markdown",
   "metadata": {},
   "source": [
    "This also links the panning, zooming"
   ]
  },
  {
   "cell_type": "code",
   "execution_count": null,
   "metadata": {
    "execution": {
     "iopub.execute_input": "2025-02-20T21:28:31.987078Z",
     "iopub.status.busy": "2025-02-20T21:28:31.986974Z",
     "iopub.status.idle": "2025-02-20T21:28:32.042005Z",
     "shell.execute_reply": "2025-02-20T21:28:32.041774Z"
    }
   },
   "outputs": [],
   "source": [
    "p1 = plot1(\"sigma_x\")\n",
    "p2 = plot1(\"norm_emit_x\")\n",
    "zmax = 2\n",
    "layout.x_range = Range1d(0, zmax)\n",
    "p1.x_range = Range1d(0, zmax)\n",
    "\n",
    "layout.width = p1.width\n",
    "\n",
    "# Link panning, zooming\n",
    "layout.x_range = p1.x_range\n",
    "p2.x_range = p1.x_range\n",
    "\n",
    "show(column(p1, p2, layout))"
   ]
  }
 ],
 "metadata": {
  "kernelspec": {
   "display_name": "Python 3 (ipykernel)",
   "language": "python",
   "name": "python3"
  },
  "language_info": {
   "codemirror_mode": {
    "name": "ipython",
    "version": 3
   },
   "file_extension": ".py",
   "mimetype": "text/x-python",
   "name": "python",
   "nbconvert_exporter": "python",
   "pygments_lexer": "ipython3",
   "version": "3.12.8"
  },
  "widgets": {
   "application/vnd.jupyter.widget-state+json": {
    "state": {
     "71b16bd646ee4d6282dae9396b192d19": {
      "model_module": "@jupyter-widgets/controls",
      "model_module_version": "2.0.0",
      "model_name": "VBoxModel",
      "state": {
       "_dom_classes": [
        "widget-interact"
       ],
       "_model_module": "@jupyter-widgets/controls",
       "_model_module_version": "2.0.0",
       "_model_name": "VBoxModel",
       "_view_count": null,
       "_view_module": "@jupyter-widgets/controls",
       "_view_module_version": "2.0.0",
       "_view_name": "VBoxView",
       "box_style": "",
       "children": [
        "IPY_MODEL_ba14f81db9c2435db3cdb500e7131fc9",
        "IPY_MODEL_ba26dd9784814fde90c2e22108984c0b"
       ],
       "layout": "IPY_MODEL_da43e8c9ea704d5e8d80b0d56f3002e3",
       "tabbable": null,
       "tooltip": null
      }
     },
     "83481b4991014e03bc45faa1095d65a4": {
      "model_module": "@jupyter-widgets/base",
      "model_module_version": "2.0.0",
      "model_name": "LayoutModel",
      "state": {
       "_model_module": "@jupyter-widgets/base",
       "_model_module_version": "2.0.0",
       "_model_name": "LayoutModel",
       "_view_count": null,
       "_view_module": "@jupyter-widgets/base",
       "_view_module_version": "2.0.0",
       "_view_name": "LayoutView",
       "align_content": null,
       "align_items": null,
       "align_self": null,
       "border_bottom": null,
       "border_left": null,
       "border_right": null,
       "border_top": null,
       "bottom": null,
       "display": null,
       "flex": null,
       "flex_flow": null,
       "grid_area": null,
       "grid_auto_columns": null,
       "grid_auto_flow": null,
       "grid_auto_rows": null,
       "grid_column": null,
       "grid_gap": null,
       "grid_row": null,
       "grid_template_areas": null,
       "grid_template_columns": null,
       "grid_template_rows": null,
       "height": null,
       "justify_content": null,
       "justify_items": null,
       "left": null,
       "margin": null,
       "max_height": null,
       "max_width": null,
       "min_height": null,
       "min_width": null,
       "object_fit": null,
       "object_position": null,
       "order": null,
       "overflow": null,
       "padding": null,
       "right": null,
       "top": null,
       "visibility": null,
       "width": null
      }
     },
     "951f943db7304aafa771b8aac0979733": {
      "model_module": "@jupyter-widgets/base",
      "model_module_version": "2.0.0",
      "model_name": "LayoutModel",
      "state": {
       "_model_module": "@jupyter-widgets/base",
       "_model_module_version": "2.0.0",
       "_model_name": "LayoutModel",
       "_view_count": null,
       "_view_module": "@jupyter-widgets/base",
       "_view_module_version": "2.0.0",
       "_view_name": "LayoutView",
       "align_content": null,
       "align_items": null,
       "align_self": null,
       "border_bottom": null,
       "border_left": null,
       "border_right": null,
       "border_top": null,
       "bottom": null,
       "display": null,
       "flex": null,
       "flex_flow": null,
       "grid_area": null,
       "grid_auto_columns": null,
       "grid_auto_flow": null,
       "grid_auto_rows": null,
       "grid_column": null,
       "grid_gap": null,
       "grid_row": null,
       "grid_template_areas": null,
       "grid_template_columns": null,
       "grid_template_rows": null,
       "height": null,
       "justify_content": null,
       "justify_items": null,
       "left": null,
       "margin": null,
       "max_height": null,
       "max_width": null,
       "min_height": null,
       "min_width": null,
       "object_fit": null,
       "object_position": null,
       "order": null,
       "overflow": null,
       "padding": null,
       "right": null,
       "top": null,
       "visibility": null,
       "width": null
      }
     },
     "ba14f81db9c2435db3cdb500e7131fc9": {
      "model_module": "@jupyter-widgets/controls",
      "model_module_version": "2.0.0",
      "model_name": "FloatSliderModel",
      "state": {
       "_dom_classes": [],
       "_model_module": "@jupyter-widgets/controls",
       "_model_module_version": "2.0.0",
       "_model_name": "FloatSliderModel",
       "_view_count": null,
       "_view_module": "@jupyter-widgets/controls",
       "_view_module_version": "2.0.0",
       "_view_name": "FloatSliderView",
       "behavior": "drag-tap",
       "continuous_update": true,
       "description": "phi0",
       "description_allow_html": false,
       "disabled": false,
       "layout": "IPY_MODEL_83481b4991014e03bc45faa1095d65a4",
       "max": 2.0,
       "min": 0.0,
       "orientation": "horizontal",
       "readout": true,
       "readout_format": ".2f",
       "step": 0.01,
       "style": "IPY_MODEL_f5589962c22844adbff7825b4a0308ff",
       "tabbable": null,
       "tooltip": null,
       "value": 1.0
      }
     },
     "ba26dd9784814fde90c2e22108984c0b": {
      "model_module": "@jupyter-widgets/output",
      "model_module_version": "1.0.0",
      "model_name": "OutputModel",
      "state": {
       "_dom_classes": [],
       "_model_module": "@jupyter-widgets/output",
       "_model_module_version": "1.0.0",
       "_model_name": "OutputModel",
       "_view_count": null,
       "_view_module": "@jupyter-widgets/output",
       "_view_module_version": "1.0.0",
       "_view_name": "OutputView",
       "layout": "IPY_MODEL_951f943db7304aafa771b8aac0979733",
       "msg_id": "",
       "outputs": [
        {
         "data": {
          "image/png": "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",
          "text/plain": "<Figure size 640x480 with 1 Axes>"
         },
         "metadata": {
          "image/png": {
           "height": 418,
           "width": 563
          }
         },
         "output_type": "display_data"
        }
       ],
       "tabbable": null,
       "tooltip": null
      }
     },
     "da43e8c9ea704d5e8d80b0d56f3002e3": {
      "model_module": "@jupyter-widgets/base",
      "model_module_version": "2.0.0",
      "model_name": "LayoutModel",
      "state": {
       "_model_module": "@jupyter-widgets/base",
       "_model_module_version": "2.0.0",
       "_model_name": "LayoutModel",
       "_view_count": null,
       "_view_module": "@jupyter-widgets/base",
       "_view_module_version": "2.0.0",
       "_view_name": "LayoutView",
       "align_content": null,
       "align_items": null,
       "align_self": null,
       "border_bottom": null,
       "border_left": null,
       "border_right": null,
       "border_top": null,
       "bottom": null,
       "display": null,
       "flex": null,
       "flex_flow": null,
       "grid_area": null,
       "grid_auto_columns": null,
       "grid_auto_flow": null,
       "grid_auto_rows": null,
       "grid_column": null,
       "grid_gap": null,
       "grid_row": null,
       "grid_template_areas": null,
       "grid_template_columns": null,
       "grid_template_rows": null,
       "height": null,
       "justify_content": null,
       "justify_items": null,
       "left": null,
       "margin": null,
       "max_height": null,
       "max_width": null,
       "min_height": null,
       "min_width": null,
       "object_fit": null,
       "object_position": null,
       "order": null,
       "overflow": null,
       "padding": null,
       "right": null,
       "top": null,
       "visibility": null,
       "width": null
      }
     },
     "f5589962c22844adbff7825b4a0308ff": {
      "model_module": "@jupyter-widgets/controls",
      "model_module_version": "2.0.0",
      "model_name": "SliderStyleModel",
      "state": {
       "_model_module": "@jupyter-widgets/controls",
       "_model_module_version": "2.0.0",
       "_model_name": "SliderStyleModel",
       "_view_count": null,
       "_view_module": "@jupyter-widgets/base",
       "_view_module_version": "2.0.0",
       "_view_name": "StyleView",
       "description_width": "",
       "handle_color": null
      }
     }
    },
    "version_major": 2,
    "version_minor": 0
   }
  }
 },
 "nbformat": 4,
 "nbformat_minor": 4
}
