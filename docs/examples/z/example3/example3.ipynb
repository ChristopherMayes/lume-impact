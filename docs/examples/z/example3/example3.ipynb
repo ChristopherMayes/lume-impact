{
 "cells": [
  {
   "cell_type": "code",
   "execution_count": null,
   "id": "2dd99ff1-a0c8-47b3-8dfb-e280c686c05b",
   "metadata": {
    "execution": {
     "iopub.execute_input": "2025-02-20T21:36:25.217755Z",
     "iopub.status.busy": "2025-02-20T21:36:25.217652Z",
     "iopub.status.idle": "2025-02-20T21:36:26.238507Z",
     "shell.execute_reply": "2025-02-20T21:36:26.238112Z"
    }
   },
   "outputs": [],
   "source": [
    "import matplotlib.pyplot as plt\n",
    "\n",
    "from impact.z import ImpactZ, ImpactZParticles"
   ]
  },
  {
   "cell_type": "code",
   "execution_count": null,
   "id": "36ad224a-1a5e-40be-9430-2f852dd3e4cb",
   "metadata": {
    "execution": {
     "iopub.execute_input": "2025-02-20T21:36:26.240023Z",
     "iopub.status.busy": "2025-02-20T21:36:26.239868Z",
     "iopub.status.idle": "2025-02-20T21:36:26.246011Z",
     "shell.execute_reply": "2025-02-20T21:36:26.245755Z"
    }
   },
   "outputs": [],
   "source": [
    "raw_impact_particles = ImpactZParticles.from_file(\"particle.in\")"
   ]
  },
  {
   "cell_type": "code",
   "execution_count": null,
   "id": "4ec4f8c3-133e-4a75-a7dc-fb748727a3d9",
   "metadata": {
    "execution": {
     "iopub.execute_input": "2025-02-20T21:36:26.247289Z",
     "iopub.status.busy": "2025-02-20T21:36:26.247212Z",
     "iopub.status.idle": "2025-02-20T21:36:27.438364Z",
     "shell.execute_reply": "2025-02-20T21:36:27.437901Z"
    }
   },
   "outputs": [],
   "source": [
    "I = ImpactZ(\n",
    "    input=\"ImpactZ.in\",\n",
    "    initial_particles=raw_impact_particles,\n",
    "    use_temp_dir=False,\n",
    "    workdir=\"./tmp\",\n",
    ")"
   ]
  },
  {
   "cell_type": "code",
   "execution_count": null,
   "id": "0cf6729a-4840-423f-9a72-71eeee66183a",
   "metadata": {
    "execution": {
     "iopub.execute_input": "2025-02-20T21:36:27.439849Z",
     "iopub.status.busy": "2025-02-20T21:36:27.439751Z",
     "iopub.status.idle": "2025-02-20T21:36:27.520283Z",
     "shell.execute_reply": "2025-02-20T21:36:27.520031Z"
    }
   },
   "outputs": [],
   "source": [
    "I.input"
   ]
  },
  {
   "cell_type": "code",
   "execution_count": null,
   "id": "f04be5b9-15d9-4691-adf3-7b1903603e51",
   "metadata": {
    "execution": {
     "iopub.execute_input": "2025-02-20T21:36:27.521651Z",
     "iopub.status.busy": "2025-02-20T21:36:27.521544Z",
     "iopub.status.idle": "2025-02-20T21:36:31.706349Z",
     "shell.execute_reply": "2025-02-20T21:36:31.705960Z"
    }
   },
   "outputs": [],
   "source": [
    "output = I.run(verbose=True)"
   ]
  },
  {
   "cell_type": "code",
   "execution_count": null,
   "id": "6bb023b8-273f-4bef-9e72-c65332a51b1f",
   "metadata": {
    "execution": {
     "iopub.execute_input": "2025-02-20T21:36:31.707702Z",
     "iopub.status.busy": "2025-02-20T21:36:31.707608Z",
     "iopub.status.idle": "2025-02-20T21:36:32.119464Z",
     "shell.execute_reply": "2025-02-20T21:36:32.119171Z"
    }
   },
   "outputs": [],
   "source": [
    "output"
   ]
  },
  {
   "cell_type": "code",
   "execution_count": null,
   "id": "aa72cd09-d71f-4b9c-87f3-be9e8be97f7e",
   "metadata": {
    "execution": {
     "iopub.execute_input": "2025-02-20T21:36:32.121125Z",
     "iopub.status.busy": "2025-02-20T21:36:32.121019Z",
     "iopub.status.idle": "2025-02-20T21:36:32.607635Z",
     "shell.execute_reply": "2025-02-20T21:36:32.607364Z"
    }
   },
   "outputs": [],
   "source": [
    "for file_id, P in sorted(output.particles.items()):\n",
    "    try:\n",
    "        P.plot(\"t\", \"energy\")\n",
    "        plt.title(f\"File: {file_id}\")\n",
    "    except Exception as ex:\n",
    "        print(\"Failed to plot particles:\", ex)"
   ]
  },
  {
   "cell_type": "code",
   "execution_count": null,
   "id": "8bda42ca-9d45-4379-bf15-4e972e4be968",
   "metadata": {
    "execution": {
     "iopub.execute_input": "2025-02-20T21:36:32.608908Z",
     "iopub.status.busy": "2025-02-20T21:36:32.608820Z",
     "iopub.status.idle": "2025-02-20T21:36:33.144837Z",
     "shell.execute_reply": "2025-02-20T21:36:33.144572Z"
    }
   },
   "outputs": [],
   "source": [
    "output.slices[201].debug_plot_all(\"mean_x\");"
   ]
  }
 ],
 "metadata": {
  "kernelspec": {
   "display_name": "Python 3 (ipykernel)",
   "language": "python",
   "name": "python3"
  },
  "language_info": {
   "codemirror_mode": {
    "name": "ipython",
    "version": 3
   },
   "file_extension": ".py",
   "mimetype": "text/x-python",
   "name": "python",
   "nbconvert_exporter": "python",
   "pygments_lexer": "ipython3",
   "version": "3.12.8"
  },
  "widgets": {
   "application/vnd.jupyter.widget-state+json": {
    "state": {
     "04e742b0fd264aad95e5aaf0428ce037": {
      "model_module": "@jupyter-widgets/controls",
      "model_module_version": "2.0.0",
      "model_name": "HTMLModel",
      "state": {
       "_dom_classes": [],
       "_model_module": "@jupyter-widgets/controls",
       "_model_module_version": "2.0.0",
       "_model_name": "HTMLModel",
       "_view_count": null,
       "_view_module": "@jupyter-widgets/controls",
       "_view_module_version": "2.0.0",
       "_view_name": "HTMLView",
       "description": "",
       "description_allow_html": false,
       "layout": "IPY_MODEL_62ba76cedcbe4b8386d7e71b5e78ffd0",
       "placeholder": "​",
       "style": "IPY_MODEL_40f8ccf0cf8c4cfda2c83714cf05baf0",
       "tabbable": null,
       "tooltip": null,
       "value": " 82/82 [00:03&lt;00:00, 20.76it/s, Name=particle phase output, Z=73.4]"
      }
     },
     "0ca782dc1e40439e8c97edfe9833f2e1": {
      "model_module": "@jupyter-widgets/controls",
      "model_module_version": "2.0.0",
      "model_name": "HTMLModel",
      "state": {
       "_dom_classes": [],
       "_model_module": "@jupyter-widgets/controls",
       "_model_module_version": "2.0.0",
       "_model_name": "HTMLModel",
       "_view_count": null,
       "_view_module": "@jupyter-widgets/controls",
       "_view_module_version": "2.0.0",
       "_view_name": "HTMLView",
       "description": "",
       "description_allow_html": false,
       "layout": "IPY_MODEL_2b0320dace3a4d8eb2fba3b642eecca6",
       "placeholder": "​",
       "style": "IPY_MODEL_55537de1867f4c0d9c64823f14eb96c1",
       "tabbable": null,
       "tooltip": null,
       "value": "100%"
      }
     },
     "2b0320dace3a4d8eb2fba3b642eecca6": {
      "model_module": "@jupyter-widgets/base",
      "model_module_version": "2.0.0",
      "model_name": "LayoutModel",
      "state": {
       "_model_module": "@jupyter-widgets/base",
       "_model_module_version": "2.0.0",
       "_model_name": "LayoutModel",
       "_view_count": null,
       "_view_module": "@jupyter-widgets/base",
       "_view_module_version": "2.0.0",
       "_view_name": "LayoutView",
       "align_content": null,
       "align_items": null,
       "align_self": null,
       "border_bottom": null,
       "border_left": null,
       "border_right": null,
       "border_top": null,
       "bottom": null,
       "display": null,
       "flex": null,
       "flex_flow": null,
       "grid_area": null,
       "grid_auto_columns": null,
       "grid_auto_flow": null,
       "grid_auto_rows": null,
       "grid_column": null,
       "grid_gap": null,
       "grid_row": null,
       "grid_template_areas": null,
       "grid_template_columns": null,
       "grid_template_rows": null,
       "height": null,
       "justify_content": null,
       "justify_items": null,
       "left": null,
       "margin": null,
       "max_height": null,
       "max_width": null,
       "min_height": null,
       "min_width": null,
       "object_fit": null,
       "object_position": null,
       "order": null,
       "overflow": null,
       "padding": null,
       "right": null,
       "top": null,
       "visibility": null,
       "width": null
      }
     },
     "40f8ccf0cf8c4cfda2c83714cf05baf0": {
      "model_module": "@jupyter-widgets/controls",
      "model_module_version": "2.0.0",
      "model_name": "HTMLStyleModel",
      "state": {
       "_model_module": "@jupyter-widgets/controls",
       "_model_module_version": "2.0.0",
       "_model_name": "HTMLStyleModel",
       "_view_count": null,
       "_view_module": "@jupyter-widgets/base",
       "_view_module_version": "2.0.0",
       "_view_name": "StyleView",
       "background": null,
       "description_width": "",
       "font_size": null,
       "text_color": null
      }
     },
     "55537de1867f4c0d9c64823f14eb96c1": {
      "model_module": "@jupyter-widgets/controls",
      "model_module_version": "2.0.0",
      "model_name": "HTMLStyleModel",
      "state": {
       "_model_module": "@jupyter-widgets/controls",
       "_model_module_version": "2.0.0",
       "_model_name": "HTMLStyleModel",
       "_view_count": null,
       "_view_module": "@jupyter-widgets/base",
       "_view_module_version": "2.0.0",
       "_view_name": "StyleView",
       "background": null,
       "description_width": "",
       "font_size": null,
       "text_color": null
      }
     },
     "62ba76cedcbe4b8386d7e71b5e78ffd0": {
      "model_module": "@jupyter-widgets/base",
      "model_module_version": "2.0.0",
      "model_name": "LayoutModel",
      "state": {
       "_model_module": "@jupyter-widgets/base",
       "_model_module_version": "2.0.0",
       "_model_name": "LayoutModel",
       "_view_count": null,
       "_view_module": "@jupyter-widgets/base",
       "_view_module_version": "2.0.0",
       "_view_name": "LayoutView",
       "align_content": null,
       "align_items": null,
       "align_self": null,
       "border_bottom": null,
       "border_left": null,
       "border_right": null,
       "border_top": null,
       "bottom": null,
       "display": null,
       "flex": null,
       "flex_flow": null,
       "grid_area": null,
       "grid_auto_columns": null,
       "grid_auto_flow": null,
       "grid_auto_rows": null,
       "grid_column": null,
       "grid_gap": null,
       "grid_row": null,
       "grid_template_areas": null,
       "grid_template_columns": null,
       "grid_template_rows": null,
       "height": null,
       "justify_content": null,
       "justify_items": null,
       "left": null,
       "margin": null,
       "max_height": null,
       "max_width": null,
       "min_height": null,
       "min_width": null,
       "object_fit": null,
       "object_position": null,
       "order": null,
       "overflow": null,
       "padding": null,
       "right": null,
       "top": null,
       "visibility": null,
       "width": null
      }
     },
     "667c5589196044cab8c3d45ca625243d": {
      "model_module": "@jupyter-widgets/base",
      "model_module_version": "2.0.0",
      "model_name": "LayoutModel",
      "state": {
       "_model_module": "@jupyter-widgets/base",
       "_model_module_version": "2.0.0",
       "_model_name": "LayoutModel",
       "_view_count": null,
       "_view_module": "@jupyter-widgets/base",
       "_view_module_version": "2.0.0",
       "_view_name": "LayoutView",
       "align_content": null,
       "align_items": null,
       "align_self": null,
       "border_bottom": null,
       "border_left": null,
       "border_right": null,
       "border_top": null,
       "bottom": null,
       "display": null,
       "flex": null,
       "flex_flow": null,
       "grid_area": null,
       "grid_auto_columns": null,
       "grid_auto_flow": null,
       "grid_auto_rows": null,
       "grid_column": null,
       "grid_gap": null,
       "grid_row": null,
       "grid_template_areas": null,
       "grid_template_columns": null,
       "grid_template_rows": null,
       "height": null,
       "justify_content": null,
       "justify_items": null,
       "left": null,
       "margin": null,
       "max_height": null,
       "max_width": null,
       "min_height": null,
       "min_width": null,
       "object_fit": null,
       "object_position": null,
       "order": null,
       "overflow": null,
       "padding": null,
       "right": null,
       "top": null,
       "visibility": "hidden",
       "width": null
      }
     },
     "6a47fcefbe524f4483d4aa32f8c30015": {
      "model_module": "@jupyter-widgets/controls",
      "model_module_version": "2.0.0",
      "model_name": "FloatProgressModel",
      "state": {
       "_dom_classes": [],
       "_model_module": "@jupyter-widgets/controls",
       "_model_module_version": "2.0.0",
       "_model_name": "FloatProgressModel",
       "_view_count": null,
       "_view_module": "@jupyter-widgets/controls",
       "_view_module_version": "2.0.0",
       "_view_name": "ProgressView",
       "bar_style": "",
       "description": "",
       "description_allow_html": false,
       "layout": "IPY_MODEL_ea98bf6229054cf8a5bca8cb2b63588f",
       "max": 82.0,
       "min": 0.0,
       "orientation": "horizontal",
       "style": "IPY_MODEL_805dc200bff6485b848c44be726dd5ba",
       "tabbable": null,
       "tooltip": null,
       "value": 82.0
      }
     },
     "7f6924ae95ed49d0a37cab7b97cf733c": {
      "model_module": "@jupyter-widgets/controls",
      "model_module_version": "2.0.0",
      "model_name": "HBoxModel",
      "state": {
       "_dom_classes": [],
       "_model_module": "@jupyter-widgets/controls",
       "_model_module_version": "2.0.0",
       "_model_name": "HBoxModel",
       "_view_count": null,
       "_view_module": "@jupyter-widgets/controls",
       "_view_module_version": "2.0.0",
       "_view_name": "HBoxView",
       "box_style": "",
       "children": [
        "IPY_MODEL_0ca782dc1e40439e8c97edfe9833f2e1",
        "IPY_MODEL_6a47fcefbe524f4483d4aa32f8c30015",
        "IPY_MODEL_04e742b0fd264aad95e5aaf0428ce037"
       ],
       "layout": "IPY_MODEL_667c5589196044cab8c3d45ca625243d",
       "tabbable": null,
       "tooltip": null
      }
     },
     "805dc200bff6485b848c44be726dd5ba": {
      "model_module": "@jupyter-widgets/controls",
      "model_module_version": "2.0.0",
      "model_name": "ProgressStyleModel",
      "state": {
       "_model_module": "@jupyter-widgets/controls",
       "_model_module_version": "2.0.0",
       "_model_name": "ProgressStyleModel",
       "_view_count": null,
       "_view_module": "@jupyter-widgets/base",
       "_view_module_version": "2.0.0",
       "_view_name": "StyleView",
       "bar_color": null,
       "description_width": ""
      }
     },
     "ea98bf6229054cf8a5bca8cb2b63588f": {
      "model_module": "@jupyter-widgets/base",
      "model_module_version": "2.0.0",
      "model_name": "LayoutModel",
      "state": {
       "_model_module": "@jupyter-widgets/base",
       "_model_module_version": "2.0.0",
       "_model_name": "LayoutModel",
       "_view_count": null,
       "_view_module": "@jupyter-widgets/base",
       "_view_module_version": "2.0.0",
       "_view_name": "LayoutView",
       "align_content": null,
       "align_items": null,
       "align_self": null,
       "border_bottom": null,
       "border_left": null,
       "border_right": null,
       "border_top": null,
       "bottom": null,
       "display": null,
       "flex": null,
       "flex_flow": null,
       "grid_area": null,
       "grid_auto_columns": null,
       "grid_auto_flow": null,
       "grid_auto_rows": null,
       "grid_column": null,
       "grid_gap": null,
       "grid_row": null,
       "grid_template_areas": null,
       "grid_template_columns": null,
       "grid_template_rows": null,
       "height": null,
       "justify_content": null,
       "justify_items": null,
       "left": null,
       "margin": null,
       "max_height": null,
       "max_width": null,
       "min_height": null,
       "min_width": null,
       "object_fit": null,
       "object_position": null,
       "order": null,
       "overflow": null,
       "padding": null,
       "right": null,
       "top": null,
       "visibility": null,
       "width": null
      }
     }
    },
    "version_major": 2,
    "version_minor": 0
   }
  }
 },
 "nbformat": 4,
 "nbformat_minor": 5
}
