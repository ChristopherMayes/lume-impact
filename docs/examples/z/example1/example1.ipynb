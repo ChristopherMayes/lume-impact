{
 "cells": [
  {
   "cell_type": "code",
   "execution_count": null,
   "id": "2dd99ff1-a0c8-47b3-8dfb-e280c686c05b",
   "metadata": {},
   "outputs": [],
   "source": [
    "from impact.z import ImpactZ, ImpactZParticles"
   ]
  },
  {
   "cell_type": "code",
   "execution_count": null,
   "id": "36ad224a-1a5e-40be-9430-2f852dd3e4cb",
   "metadata": {},
   "outputs": [],
   "source": [
    "raw_impact_particles = ImpactZParticles.from_file(\"particle.in\")\n",
    "Bmass = 510998.95  # electrons\n",
    "initial_particles = raw_impact_particles.to_particle_group(\n",
    "    mc2=Bmass,\n",
    "    species=\"electron\",\n",
    ")"
   ]
  },
  {
   "cell_type": "code",
   "execution_count": null,
   "id": "4ec4f8c3-133e-4a75-a7dc-fb748727a3d9",
   "metadata": {},
   "outputs": [],
   "source": [
    "I = ImpactZ(\n",
    "    input=\"ImpactZ.in\",\n",
    "    initial_particles=initial_particles,\n",
    "    use_temp_dir=False,\n",
    "    workdir=\"./tmp\",\n",
    ")"
   ]
  },
  {
   "cell_type": "code",
   "execution_count": null,
   "id": "0cf6729a-4840-423f-9a72-71eeee66183a",
   "metadata": {},
   "outputs": [],
   "source": [
    "I.input"
   ]
  },
  {
   "cell_type": "code",
   "execution_count": null,
   "id": "f04be5b9-15d9-4691-adf3-7b1903603e51",
   "metadata": {},
   "outputs": [],
   "source": [
    "output = I.run(verbose=True)"
   ]
  },
  {
   "cell_type": "code",
   "execution_count": null,
   "id": "6bb023b8-273f-4bef-9e72-c65332a51b1f",
   "metadata": {},
   "outputs": [],
   "source": [
    "output"
   ]
  },
  {
   "cell_type": "code",
   "execution_count": null,
   "id": "aa1e1dbd-0d20-4b94-8419-2375181a79a4",
   "metadata": {},
   "outputs": [],
   "source": [
    "I.output.plot(\"z\")"
   ]
  }
 ],
 "metadata": {
  "kernelspec": {
   "display_name": "Python 3 (ipykernel)",
   "language": "python",
   "name": "python3"
  },
  "language_info": {
   "codemirror_mode": {
    "name": "ipython",
    "version": 3
   },
   "file_extension": ".py",
   "mimetype": "text/x-python",
   "name": "python",
   "nbconvert_exporter": "python",
   "pygments_lexer": "ipython3",
   "version": "3.12.8"
  }
 },
 "nbformat": 4,
 "nbformat_minor": 5
}
