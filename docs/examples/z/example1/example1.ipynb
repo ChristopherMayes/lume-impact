{
 "cells": [
  {
   "cell_type": "code",
   "execution_count": null,
   "id": "2dd99ff1-a0c8-47b3-8dfb-e280c686c05b",
   "metadata": {},
   "outputs": [],
   "source": [
    "from impact.z import ImpactZ, ImpactZParticles\n",
    "from impact.z.input import WriteFull"
   ]
  },
  {
   "cell_type": "code",
   "execution_count": null,
   "id": "36ad224a-1a5e-40be-9430-2f852dd3e4cb",
   "metadata": {},
   "outputs": [],
   "source": [
    "raw_impact_particles = ImpactZParticles.from_file(\"particle.in\")"
   ]
  },
  {
   "cell_type": "code",
   "execution_count": null,
   "id": "4ec4f8c3-133e-4a75-a7dc-fb748727a3d9",
   "metadata": {},
   "outputs": [],
   "source": [
    "I = ImpactZ(\n",
    "    input=\"ImpactZ.in\",\n",
    "    initial_particles=raw_impact_particles,\n",
    "    use_temp_dir=False,\n",
    "    workdir=\"./tmp\",\n",
    ")"
   ]
  },
  {
   "cell_type": "code",
   "execution_count": null,
   "id": "0cf6729a-4840-423f-9a72-71eeee66183a",
   "metadata": {},
   "outputs": [],
   "source": [
    "I.input"
   ]
  },
  {
   "cell_type": "code",
   "execution_count": null,
   "id": "8ce5ecee-4497-417e-a34e-f8e88c1ee674",
   "metadata": {},
   "outputs": [],
   "source": [
    "# I.input.distribution = \"read\"\n",
    "I.input.lattice.insert(0, WriteFull(file_id=1000, name=\"initial_particles\"))\n",
    "I.input.drift.radius = 1.0\n",
    "I.input.lattice.append(WriteFull(file_id=2000, name=\"final_particles\"))"
   ]
  },
  {
   "cell_type": "code",
   "execution_count": null,
   "id": "19102de6-fcf1-470e-9952-cddbf9f49312",
   "metadata": {},
   "outputs": [],
   "source": [
    "I.input.drift"
   ]
  },
  {
   "cell_type": "code",
   "execution_count": null,
   "id": "32029d9e-178c-4d4b-b14b-f78ecf9b67d0",
   "metadata": {},
   "outputs": [],
   "source": [
    "I.input.drifts[0]"
   ]
  },
  {
   "cell_type": "code",
   "execution_count": null,
   "id": "f04be5b9-15d9-4691-adf3-7b1903603e51",
   "metadata": {},
   "outputs": [],
   "source": [
    "output = I.run(verbose=True)"
   ]
  },
  {
   "cell_type": "code",
   "execution_count": null,
   "id": "6bb023b8-273f-4bef-9e72-c65332a51b1f",
   "metadata": {},
   "outputs": [],
   "source": [
    "output"
   ]
  },
  {
   "cell_type": "code",
   "execution_count": null,
   "id": "197c35c7-433c-41a6-b764-5bc297648d2b",
   "metadata": {},
   "outputs": [],
   "source": [
    "len(output.particles[\"initial_particles\"])"
   ]
  },
  {
   "cell_type": "code",
   "execution_count": null,
   "id": "261ed9d2-bc98-400d-a2a4-317e82c831ca",
   "metadata": {},
   "outputs": [],
   "source": [
    "output.particles[\"initial_particles\"].plot(\"t\", \"energy\")  # ; # start particles"
   ]
  },
  {
   "cell_type": "code",
   "execution_count": null,
   "id": "4e92c5c1-fba9-4ee4-bd1a-0bfb7dc0e623",
   "metadata": {},
   "outputs": [],
   "source": [
    "output.particles[\"final_particles\"].plot(\"x\", \"px\");"
   ]
  },
  {
   "cell_type": "code",
   "execution_count": null,
   "id": "edb56856-2211-40e5-a82b-b339aa2fdeca",
   "metadata": {},
   "outputs": [],
   "source": [
    "output.particles[\"final_particles\"].plot(\"t\", \"energy\");  # final particles"
   ]
  }
 ],
 "metadata": {
  "kernelspec": {
   "display_name": "Python 3 (ipykernel)",
   "language": "python",
   "name": "python3"
  },
  "language_info": {
   "codemirror_mode": {
    "name": "ipython",
    "version": 3
   },
   "file_extension": ".py",
   "mimetype": "text/x-python",
   "name": "python",
   "nbconvert_exporter": "python",
   "pygments_lexer": "ipython3",
   "version": "3.12.8"
  }
 },
 "nbformat": 4,
 "nbformat_minor": 5
}
