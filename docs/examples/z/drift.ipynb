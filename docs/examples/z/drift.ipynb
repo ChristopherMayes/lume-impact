{
 "cells": [
  {
   "cell_type": "markdown",
   "metadata": {},
   "source": [
    "# Drift Example\n",
    "\n",
    "Simple 1 m drift."
   ]
  },
  {
   "cell_type": "code",
   "execution_count": null,
   "metadata": {},
   "outputs": [],
   "source": [
    "%config InlineBackend.figure_format='retina'"
   ]
  },
  {
   "cell_type": "code",
   "execution_count": null,
   "metadata": {},
   "outputs": [],
   "source": [
    "import numpy as np\n",
    "from impact import ImpactZ, ImpactZInput\n",
    "from impact.z.input import (\n",
    "    Drift,\n",
    "    DistributionZType,\n",
    "    IntegratorType,\n",
    "    DiagnosticType,\n",
    "    OutputZType,\n",
    "    BoundaryType,\n",
    "    WriteFull,\n",
    ")\n",
    "\n",
    "from pmd_beamphysics.units import mec2\n",
    "import matplotlib.pyplot as plt"
   ]
  },
  {
   "cell_type": "code",
   "execution_count": null,
   "metadata": {},
   "outputs": [],
   "source": [
    "reference_particle_mass = mec2\n",
    "energy = 10e6\n",
    "gamma = energy / mec2\n",
    "sigma_x0 = 0.001\n",
    "norm_emit_x = 1e-12\n",
    "norm_emit_y = 1e-12\n",
    "beta_x = sigma_x0**2 * gamma / norm_emit_x\n",
    "beta_y = beta_x\n",
    "\n",
    "# Should give beta_x = 19569511.835591838 m\n",
    "\n",
    "# TODO write header showing repr as well\n",
    "input = ImpactZInput(\n",
    "    # line 1\n",
    "    ncpu_y=1,\n",
    "    ncpu_z=1,\n",
    "    # line 2\n",
    "    seed=6,\n",
    "    n_particle=100_000,\n",
    "    integrator_type=IntegratorType.linear,  # TODO: support strings?\n",
    "    err=1,\n",
    "    diagnostic_type=DiagnosticType.at_given_time,\n",
    "    output_z=OutputZType.extended,\n",
    "    # line 3\n",
    "    nx=32,\n",
    "    ny=32,\n",
    "    nz=32,\n",
    "    boundary_type=BoundaryType.trans_open_longi_open,\n",
    "    radius_x=0.15,  # particles die after this point\n",
    "    radius_y=0.15,\n",
    "    z_period_size=0.0,  # TODO we think this is unused based on fortran code reading\n",
    "    # line 4\n",
    "    distribution=DistributionZType.gauss,\n",
    "    restart=0,\n",
    "    subcycle=0,  # TODO what is this?\n",
    "    nbunch=1,\n",
    "    # line 5\n",
    "    particle_list=[100_000],  # note: this may be a way of having different species\n",
    "    # line 6\n",
    "    current_list=[1.0],\n",
    "    # current_list=[0.0],\n",
    "    # line 7\n",
    "    charge_over_mass_list=[\n",
    "        1.0 / reference_particle_mass\n",
    "    ],  # protons=>1.06577993775845e-09  electrons=1/.511e6 (?) (charge_over_mass)\n",
    "    # line 8\n",
    "    twiss_alpha_x=0.0,\n",
    "    twiss_beta_x=beta_x,\n",
    "    twiss_norm_emit_x=norm_emit_x,\n",
    "    twiss_mismatch_x=1.0,\n",
    "    twiss_mismatch_px=1.0,\n",
    "    twiss_offset_x=0.0,\n",
    "    twiss_offset_px=0.0,\n",
    "    # line 9\n",
    "    twiss_alpha_y=0.0,\n",
    "    twiss_beta_y=beta_y,\n",
    "    twiss_norm_emit_y=norm_emit_y,\n",
    "    twiss_mismatch_y=1.0,\n",
    "    twiss_mismatch_py=1.0,\n",
    "    twiss_offset_y=0.0,\n",
    "    twiss_offset_py=0.0,\n",
    "    # line 10\n",
    "    twiss_alpha_z=0.0,\n",
    "    twiss_beta_z=5e9,  # 1.0,\n",
    "    twiss_norm_emit_z=1e-9,  # 1e-6,\n",
    "    twiss_mismatch_z=1.0,\n",
    "    twiss_mismatch_e_z=1.0,\n",
    "    twiss_offset_phase_z=0.0,\n",
    "    twiss_offset_energy_z=0.0,\n",
    "    # line 11\n",
    "    average_current=1.0,  # space charge on\n",
    "    # average_current=0.0,    # space charge off\n",
    "    initial_kinetic_energy=energy - mec2,  # eV -> 10MeV total energy\n",
    "    reference_particle_mass=reference_particle_mass,\n",
    "    reference_particle_charge=-1.0,\n",
    "    reference_frequency=1e9,  # arbitrarily set to 1GHz here\n",
    "    initial_phase_ref=0.0,\n",
    "    lattice=[\n",
    "        # WriteFull(file_id=2000),\n",
    "        # Drift(length=1e-9, steps=10, map_steps=10),  # <- to get initial particles, set this and set average_current to 0.0\n",
    "        Drift(length=1.0, radius=1.0, steps=10, map_steps=10),\n",
    "        WriteFull(file_id=2000),\n",
    "    ],\n",
    "    # filename=PosixPath('/Users/klauer/Repos/lume-impact/docs/examples/z/example1/ImpactZ.in')\n",
    ")"
   ]
  },
  {
   "cell_type": "code",
   "execution_count": null,
   "metadata": {},
   "outputs": [],
   "source": [
    "I = ImpactZ(input, use_temp_dir=False, workdir=\"./tmp\")\n",
    "output = I.run(verbose=True)"
   ]
  },
  {
   "cell_type": "code",
   "execution_count": null,
   "metadata": {},
   "outputs": [],
   "source": [
    "I.output"
   ]
  },
  {
   "cell_type": "code",
   "execution_count": null,
   "metadata": {},
   "outputs": [],
   "source": [
    "list(I.output.particles_raw)"
   ]
  },
  {
   "cell_type": "code",
   "execution_count": null,
   "metadata": {},
   "outputs": [],
   "source": [
    "P_raw = I.output.particles_raw[2000]\n",
    "P = I.output.particles[2000]"
   ]
  },
  {
   "cell_type": "code",
   "execution_count": null,
   "metadata": {},
   "outputs": [],
   "source": [
    "np.min(P_raw.impactz_phase)"
   ]
  },
  {
   "cell_type": "code",
   "execution_count": null,
   "metadata": {},
   "outputs": [],
   "source": [
    "np.max(P_raw.impactz_phase)"
   ]
  },
  {
   "cell_type": "code",
   "execution_count": null,
   "metadata": {},
   "outputs": [],
   "source": [
    "len(P)"
   ]
  },
  {
   "cell_type": "code",
   "execution_count": null,
   "metadata": {},
   "outputs": [],
   "source": [
    "plt.hist(P.weight);"
   ]
  },
  {
   "cell_type": "code",
   "execution_count": null,
   "metadata": {},
   "outputs": [],
   "source": [
    "# P.charge = 1."
   ]
  },
  {
   "cell_type": "code",
   "execution_count": null,
   "metadata": {},
   "outputs": [],
   "source": [
    "P.plot(\"x\", \"px\")"
   ]
  },
  {
   "cell_type": "code",
   "execution_count": null,
   "metadata": {},
   "outputs": [],
   "source": [
    "P.plot(\"t\", \"energy\")"
   ]
  },
  {
   "cell_type": "code",
   "execution_count": null,
   "metadata": {},
   "outputs": [],
   "source": [
    "P.drift_to_t()"
   ]
  },
  {
   "cell_type": "code",
   "execution_count": null,
   "metadata": {},
   "outputs": [],
   "source": [
    "P.plot(\"z\", \"energy\")"
   ]
  },
  {
   "cell_type": "code",
   "execution_count": null,
   "metadata": {},
   "outputs": [],
   "source": [
    "P.charge  # C"
   ]
  },
  {
   "cell_type": "code",
   "execution_count": null,
   "metadata": {},
   "outputs": [],
   "source": [
    "P[\"sigma_x\"], P[\"sigma_y\"], P[\"sigma_z\"]"
   ]
  }
 ],
 "metadata": {
  "kernelspec": {
   "display_name": "Python 3 (ipykernel)",
   "language": "python",
   "name": "python3"
  },
  "language_info": {
   "codemirror_mode": {
    "name": "ipython",
    "version": 3
   },
   "file_extension": ".py",
   "mimetype": "text/x-python",
   "name": "python",
   "nbconvert_exporter": "python",
   "pygments_lexer": "ipython3",
   "version": "3.12.8"
  }
 },
 "nbformat": 4,
 "nbformat_minor": 4
}
