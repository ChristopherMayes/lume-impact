{
 "cells": [
  {
   "cell_type": "markdown",
   "metadata": {},
   "source": [
    "# Drift Example\n",
    "\n",
    "Simple 1 m drift based on the benchmark in:"
   ]
  },
  {
   "cell_type": "code",
   "execution_count": null,
   "metadata": {},
   "outputs": [],
   "source": [
    "%config InlineBackend.figure_format='retina'"
   ]
  },
  {
   "cell_type": "code",
   "execution_count": null,
   "metadata": {},
   "outputs": [],
   "source": [
    "import matplotlib.pyplot as plt"
   ]
  },
  {
   "cell_type": "code",
   "execution_count": null,
   "metadata": {},
   "outputs": [],
   "source": [
    "from impact import ImpactZ, ImpactZInput\n",
    "from impact.z.input import (\n",
    "    Drift,\n",
    "    DistributionZType,\n",
    "    IntegratorType,\n",
    "    DiagnosticType,\n",
    "    OutputZType,\n",
    "    BoundaryType,\n",
    "    WriteFull,\n",
    ")\n",
    "\n",
    "reference_particle_mass = 510998.9461\n",
    "\n",
    "# TODO write header showing repr as well\n",
    "input = ImpactZInput(\n",
    "    # line 1\n",
    "    ncpu_y=1,\n",
    "    ncpu_z=1,\n",
    "    # line 2\n",
    "    seed=6,\n",
    "    n_particle=100000,\n",
    "    integrator_type=IntegratorType.linear,  # TODO: support strings?\n",
    "    err=1,\n",
    "    diagnostic_type=DiagnosticType.at_given_time,\n",
    "    output_z=OutputZType.extended,\n",
    "    # line 3\n",
    "    nx=32,\n",
    "    ny=32,\n",
    "    nz=32,\n",
    "    boundary_type=BoundaryType.trans_open_longi_open,\n",
    "    radius_x=0.15,  # particles die after this point\n",
    "    radius_y=0.15,\n",
    "    z_period_size=0.0,  # TODO we think this is unused based on fortran code reading\n",
    "    # line 4\n",
    "    distribution=DistributionZType.gauss,\n",
    "    restart=0,\n",
    "    subcycle=0,  # TODO what is this?\n",
    "    nbunch=1,\n",
    "    # line 5\n",
    "    particle_list=[100000],  # note: this may be a way of having different species\n",
    "    # line 6\n",
    "    current_list=[0.0],\n",
    "    # line 7\n",
    "    charge_over_mass_list=[\n",
    "        1.0 / reference_particle_mass\n",
    "    ],  # protons=>1.06577993775845e-09  electrons=1/.511e6 (?) (charge_over_mass)\n",
    "    # line 8\n",
    "    twiss_alpha_x=0.0,\n",
    "    twiss_beta_x=1.0,\n",
    "    twiss_norm_emit_x=1e-6,\n",
    "    twiss_mismatch_x=1.0,\n",
    "    twiss_mismatch_px=1.0,\n",
    "    twiss_offset_x=0.0,\n",
    "    twiss_offset_px=0.0,\n",
    "    # line 9\n",
    "    twiss_alpha_y=0.0,\n",
    "    twiss_beta_y=1.0,\n",
    "    twiss_norm_emit_y=1e-6,\n",
    "    twiss_mismatch_y=1.0,\n",
    "    twiss_mismatch_py=1.0,\n",
    "    twiss_offset_y=0.0,\n",
    "    twiss_offset_py=0.0,\n",
    "    # line 10\n",
    "    twiss_alpha_z=0.0,\n",
    "    twiss_beta_z=1.0,\n",
    "    twiss_norm_emit_z=1e-6,\n",
    "    twiss_mismatch_z=1.0,\n",
    "    twiss_mismatch_e_z=1.0,\n",
    "    twiss_offset_phase_z=0.0,\n",
    "    twiss_offset_energy_z=0.0,\n",
    "    # line 11\n",
    "    average_current=1.0,\n",
    "    initial_kinetic_energy=9489001.0539,  # eV -> 10MeV total energy\n",
    "    reference_particle_mass=reference_particle_mass,\n",
    "    reference_particle_charge=-1.0,\n",
    "    scaling_frequency=1e9,  # arbitrarily set to 1GHz here\n",
    "    initial_phase_ref=0.0,\n",
    "    lattice=[\n",
    "        WriteFull(file_id=2000),\n",
    "        # Drift(length=1e-9, steps=10, map_steps=10),  # <- to get initial particles, set this and set average_current to 0.0\n",
    "        Drift(length=1.0, steps=10, map_steps=10),\n",
    "    ],\n",
    "    # filename=PosixPath('/Users/klauer/Repos/lume-impact/docs/examples/z/example1/ImpactZ.in')\n",
    ")"
   ]
  },
  {
   "cell_type": "code",
   "execution_count": null,
   "metadata": {},
   "outputs": [],
   "source": [
    "results = {}\n",
    "npart = 1000\n",
    "input.n_particle = npart\n",
    "input.particle_list = [npart]\n",
    "I = ImpactZ(input, use_temp_dir=False, workdir=\"./tmp\")\n",
    "output = I.run(verbose=True)\n",
    "\n",
    "results"
   ]
  },
  {
   "cell_type": "code",
   "execution_count": null,
   "metadata": {},
   "outputs": [],
   "source": [
    "I.output"
   ]
  },
  {
   "cell_type": "code",
   "execution_count": null,
   "metadata": {},
   "outputs": [],
   "source": [
    "keys = list(I.output)\n",
    "fig, axs = plt.subplot_mosaic(list(zip(keys[::2], keys[1::2])), figsize=(12, 64))\n",
    "\n",
    "for key in keys:\n",
    "    try:\n",
    "        I.output.plot(key, ax=axs[key])\n",
    "    except Exception as ex:\n",
    "        print(\"failed to plot key\", key, type(ex), str(ex))\n",
    "\n",
    "fig.tight_layout()"
   ]
  },
  {
   "cell_type": "code",
   "execution_count": null,
   "metadata": {},
   "outputs": [],
   "source": []
  }
 ],
 "metadata": {
  "kernelspec": {
   "display_name": "Python 3 (ipykernel)",
   "language": "python",
   "name": "python3"
  },
  "language_info": {
   "codemirror_mode": {
    "name": "ipython",
    "version": 3
   },
   "file_extension": ".py",
   "mimetype": "text/x-python",
   "name": "python",
   "nbconvert_exporter": "python",
   "pygments_lexer": "ipython3",
   "version": "3.12.8"
  }
 },
 "nbformat": 4,
 "nbformat_minor": 4
}
