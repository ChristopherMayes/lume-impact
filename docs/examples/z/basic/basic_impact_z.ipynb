{
 "cells": [
  {
   "cell_type": "markdown",
   "id": "c4ee5bcf-35c3-4b10-b454-05184638b405",
   "metadata": {},
   "source": [
    "# Basic Impact-Z example\n",
    "\n",
    "\n",
    "This is a basica example using the parameters described in:\n",
    "\n",
    "C. Mayes, R. Ryne, D. Sagan\n",
    "3D SPACE CHARGE IN BMAD\n",
    "https://epaper.kek.jp/ipac2018/papers/thpak085.pdf"
   ]
  },
  {
   "cell_type": "markdown",
   "id": "fa7c62ea-9493-40f0-b76d-0bdbf5610245",
   "metadata": {},
   "source": [
    "# Imports"
   ]
  },
  {
   "cell_type": "code",
   "execution_count": null,
   "id": "d1db5730-d9df-4acb-a69d-9fda86c3fbcd",
   "metadata": {},
   "outputs": [],
   "source": [
    "from impact import ImpactZ\n",
    "import impact.z as IZ\n",
    "\n",
    "from pmd_beamphysics.units import mec2, c_light\n",
    "import numpy as np\n",
    "import os"
   ]
  },
  {
   "cell_type": "markdown",
   "id": "c771f918-97e1-4b8d-a63a-09ea00c9f1c2",
   "metadata": {},
   "source": [
    "# Parameters\n",
    "\n",
    "Set some parameters to be used in the input"
   ]
  },
  {
   "cell_type": "code",
   "execution_count": null,
   "id": "f0dbabdc-47a7-4f53-9d75-06f2956a4c1d",
   "metadata": {},
   "outputs": [],
   "source": [
    "energy0 = 10e6\n",
    "gamma0 = energy0 / mec2\n",
    "betagamma0 = np.sqrt(gamma0**2 - 1)\n",
    "sigma_x0 = 1e-3\n",
    "sigma_y0 = 1e-3\n",
    "sigma_z0 = 0.1e-3\n",
    "\n",
    "beta_x0 = 1000\n",
    "beta_y0 = 100\n",
    "n_particle = 100_000"
   ]
  },
  {
   "cell_type": "markdown",
   "id": "85121e18-df09-444e-8e1b-05a4b09bfda0",
   "metadata": {},
   "source": [
    "# Impact-Z input\n",
    "\n",
    "The input object contains the header and lattice information."
   ]
  },
  {
   "cell_type": "code",
   "execution_count": null,
   "id": "16bf3251-1667-4c09-abdb-a181f80d6265",
   "metadata": {},
   "outputs": [],
   "source": [
    "input = IZ.ImpactZInput(\n",
    "    initial_particles=None,\n",
    "    n_particle=n_particle,\n",
    "    nx=32,\n",
    "    ny=32,\n",
    "    nz=32,\n",
    "    distribution=IZ.DistributionType.gauss,\n",
    "    twiss_beta_x=beta_x0,\n",
    "    twiss_norm_emit_x=sigma_x0**2 * betagamma0 / beta_x0,\n",
    "    twiss_beta_y=beta_y0,\n",
    "    twiss_norm_emit_y=sigma_y0**2 * betagamma0 / beta_y0,\n",
    "    average_current=0.13,\n",
    "    reference_kinetic_energy=energy0 - mec2,\n",
    "    reference_particle_mass=mec2,\n",
    "    reference_particle_charge=-1.0,\n",
    "    reference_frequency=1300000000.0,\n",
    "    lattice=[\n",
    "        IZ.WriteFull(name=\"initial_particles\", file_id=100),\n",
    "        IZ.Drift(\n",
    "            name=\"MyDrift\",\n",
    "            length=1.0,\n",
    "            steps=100,\n",
    "            map_steps=100,\n",
    "        ),\n",
    "        IZ.WriteFull(name=\"final_particles\", file_id=101),\n",
    "    ],\n",
    ")"
   ]
  },
  {
   "cell_type": "markdown",
   "id": "a8d83938-e4dd-4b91-a6cc-11725621a5e5",
   "metadata": {},
   "source": [
    "A convenience function will set the longitudinal distribution from rms duration and energy spread:"
   ]
  },
  {
   "cell_type": "code",
   "execution_count": null,
   "id": "4cf229f6-7d1f-49d2-8653-560d28e78393",
   "metadata": {},
   "outputs": [],
   "source": [
    "input.set_twiss_z(sigma_t=0.1e-3 / c_light, sigma_energy=1)"
   ]
  },
  {
   "cell_type": "markdown",
   "id": "11bf99f6-ab0d-4161-9f02-4f20eb64ea34",
   "metadata": {},
   "source": [
    "Here is a compact readback. Note that values that are default are not displayed"
   ]
  },
  {
   "cell_type": "code",
   "execution_count": null,
   "id": "224d6240-549d-4673-b712-6964ad3f01a7",
   "metadata": {},
   "outputs": [],
   "source": [
    "input"
   ]
  },
  {
   "cell_type": "markdown",
   "id": "a00aa7dc-7214-400a-998d-dd963d6a4b1c",
   "metadata": {},
   "source": [
    "# Create ImpactZ object from input"
   ]
  },
  {
   "cell_type": "code",
   "execution_count": null,
   "id": "200cffb0-4390-4c14-8049-8984da605318",
   "metadata": {},
   "outputs": [],
   "source": [
    "I = ImpactZ(input)"
   ]
  },
  {
   "cell_type": "markdown",
   "id": "a539da28-41b7-468f-b2f1-aadaff963808",
   "metadata": {},
   "source": [
    "# Run"
   ]
  },
  {
   "cell_type": "code",
   "execution_count": null,
   "id": "cea956bf-84b6-4dc3-bc3a-a60d4caece09",
   "metadata": {},
   "outputs": [],
   "source": [
    "I.run()"
   ]
  },
  {
   "cell_type": "markdown",
   "id": "1332a9f9-f87b-4968-bdc0-cfc1bfb0a506",
   "metadata": {},
   "source": [
    "# Plot\n",
    "\n",
    "Plotting accepts any key that from the output statistics."
   ]
  },
  {
   "cell_type": "code",
   "execution_count": null,
   "id": "4081a6b8-7e28-49d2-ad3a-9d023c117076",
   "metadata": {},
   "outputs": [],
   "source": [
    "I.plot([\"sigma_x\", \"sigma_y\"], y2=\"norm_emit_x\")"
   ]
  },
  {
   "cell_type": "markdown",
   "id": "a5ce8679-032e-4a1b-bd7b-ffda01c79c4f",
   "metadata": {},
   "source": [
    "# Extract particles"
   ]
  },
  {
   "cell_type": "code",
   "execution_count": null,
   "id": "75bebca0-bc00-4795-bc72-efdfc5a22d6d",
   "metadata": {},
   "outputs": [],
   "source": [
    "P0 = I.output.particles[\"initial_particles\"]\n",
    "P1 = I.output.particles[\"final_particles\"]"
   ]
  },
  {
   "cell_type": "markdown",
   "id": "38936b21-fd38-4edc-bd75-30806aca2066",
   "metadata": {},
   "source": [
    "Check consistency with the initial particle sizes"
   ]
  },
  {
   "cell_type": "code",
   "execution_count": null,
   "id": "0b82cbf3-7c18-40b0-9c0a-1a5c0082a796",
   "metadata": {},
   "outputs": [],
   "source": [
    "P0 = I.output.particles[\"initial_particles\"]\n",
    "(\n",
    "    P0[\"sigma_x\"] / sigma_x0,\n",
    "    P0[\"sigma_y\"] / sigma_y0,\n",
    "    P0[\"sigma_t\"] * c_light / sigma_z0,\n",
    "    P0[\"mean_energy\"] / energy0,\n",
    ")"
   ]
  },
  {
   "cell_type": "code",
   "execution_count": null,
   "id": "7619025d-2bb6-4565-bfbc-d0ba9bf268d5",
   "metadata": {},
   "outputs": [],
   "source": [
    "P1.plot(\"delta_t\", \"energy\")"
   ]
  },
  {
   "cell_type": "markdown",
   "id": "aea04b63-3936-49ff-baf1-cc5c4a2c9124",
   "metadata": {},
   "source": [
    "# Try again with particles"
   ]
  },
  {
   "cell_type": "code",
   "execution_count": null,
   "id": "bdb4d182-b375-433d-9714-d323b0d6bf1b",
   "metadata": {},
   "outputs": [],
   "source": [
    "I2 = ImpactZ(input, initial_particles=P0)\n",
    "I2.run()\n",
    "P3 = I2.output.particles[\"initial_particles\"]\n",
    "P4 = I2.output.particles[\"final_particles\"]"
   ]
  },
  {
   "cell_type": "code",
   "execution_count": null,
   "id": "518f9eba-9cc5-40ac-b16f-33910f4fbefa",
   "metadata": {},
   "outputs": [],
   "source": [
    "P4.plot(\"delta_t\", \"energy\")"
   ]
  },
  {
   "cell_type": "markdown",
   "id": "4168b0de-4b5f-445d-a2d8-a0249f93021c",
   "metadata": {},
   "source": [
    "# Archiving and readback"
   ]
  },
  {
   "cell_type": "code",
   "execution_count": null,
   "id": "84a493f0-c3b0-455d-940a-aa334f2f9c6d",
   "metadata": {},
   "outputs": [],
   "source": [
    "I.archive(\"impactz.h5\")"
   ]
  },
  {
   "cell_type": "code",
   "execution_count": null,
   "id": "708fcf80-0c01-4a58-8c08-abfaaef2ea9b",
   "metadata": {},
   "outputs": [],
   "source": [
    "I2 = ImpactZ.from_archive(\"impactz.h5\")\n",
    "\n",
    "I2.plot()"
   ]
  },
  {
   "cell_type": "markdown",
   "id": "b7fe9ed0-1298-4edc-87d4-0541bd994c64",
   "metadata": {},
   "source": [
    "# Cleanup"
   ]
  },
  {
   "cell_type": "code",
   "execution_count": null,
   "id": "43e633db-e7f4-4415-bbdf-18a1edae26be",
   "metadata": {},
   "outputs": [],
   "source": [
    "os.remove(\"impactz.h5\")"
   ]
  }
 ],
 "metadata": {
  "kernelspec": {
   "display_name": "Python 3 (ipykernel)",
   "language": "python",
   "name": "python3"
  },
  "language_info": {
   "codemirror_mode": {
    "name": "ipython",
    "version": 3
   },
   "file_extension": ".py",
   "mimetype": "text/x-python",
   "name": "python",
   "nbconvert_exporter": "python",
   "pygments_lexer": "ipython3",
   "version": "3.12.10"
  },
  "widgets": {
   "application/vnd.jupyter.widget-state+json": {
    "state": {
     "04a51a401fc6494182bfe8c3720f64dd": {
      "model_module": "@jupyter-widgets/base",
      "model_module_version": "2.0.0",
      "model_name": "LayoutModel",
      "state": {
       "_model_module": "@jupyter-widgets/base",
       "_model_module_version": "2.0.0",
       "_model_name": "LayoutModel",
       "_view_count": null,
       "_view_module": "@jupyter-widgets/base",
       "_view_module_version": "2.0.0",
       "_view_name": "LayoutView",
       "align_content": null,
       "align_items": null,
       "align_self": null,
       "border_bottom": null,
       "border_left": null,
       "border_right": null,
       "border_top": null,
       "bottom": null,
       "display": null,
       "flex": null,
       "flex_flow": null,
       "grid_area": null,
       "grid_auto_columns": null,
       "grid_auto_flow": null,
       "grid_auto_rows": null,
       "grid_column": null,
       "grid_gap": null,
       "grid_row": null,
       "grid_template_areas": null,
       "grid_template_columns": null,
       "grid_template_rows": null,
       "height": null,
       "justify_content": null,
       "justify_items": null,
       "left": null,
       "margin": null,
       "max_height": null,
       "max_width": null,
       "min_height": null,
       "min_width": null,
       "object_fit": null,
       "object_position": null,
       "order": null,
       "overflow": null,
       "padding": null,
       "right": null,
       "top": null,
       "visibility": null,
       "width": null
      }
     },
     "1d9f04b303614961bff62d307a9ad2c5": {
      "model_module": "@jupyter-widgets/base",
      "model_module_version": "2.0.0",
      "model_name": "LayoutModel",
      "state": {
       "_model_module": "@jupyter-widgets/base",
       "_model_module_version": "2.0.0",
       "_model_name": "LayoutModel",
       "_view_count": null,
       "_view_module": "@jupyter-widgets/base",
       "_view_module_version": "2.0.0",
       "_view_name": "LayoutView",
       "align_content": null,
       "align_items": null,
       "align_self": null,
       "border_bottom": null,
       "border_left": null,
       "border_right": null,
       "border_top": null,
       "bottom": null,
       "display": null,
       "flex": null,
       "flex_flow": null,
       "grid_area": null,
       "grid_auto_columns": null,
       "grid_auto_flow": null,
       "grid_auto_rows": null,
       "grid_column": null,
       "grid_gap": null,
       "grid_row": null,
       "grid_template_areas": null,
       "grid_template_columns": null,
       "grid_template_rows": null,
       "height": null,
       "justify_content": null,
       "justify_items": null,
       "left": null,
       "margin": null,
       "max_height": null,
       "max_width": null,
       "min_height": null,
       "min_width": null,
       "object_fit": null,
       "object_position": null,
       "order": null,
       "overflow": null,
       "padding": null,
       "right": null,
       "top": null,
       "visibility": null,
       "width": null
      }
     },
     "2f79fb22fae54da8960e5f191aeca36e": {
      "model_module": "@jupyter-widgets/controls",
      "model_module_version": "2.0.0",
      "model_name": "ProgressStyleModel",
      "state": {
       "_model_module": "@jupyter-widgets/controls",
       "_model_module_version": "2.0.0",
       "_model_name": "ProgressStyleModel",
       "_view_count": null,
       "_view_module": "@jupyter-widgets/base",
       "_view_module_version": "2.0.0",
       "_view_name": "StyleView",
       "bar_color": null,
       "description_width": ""
      }
     },
     "3b66dea0fb9b490cac81ac4bccf76ac8": {
      "model_module": "@jupyter-widgets/base",
      "model_module_version": "2.0.0",
      "model_name": "LayoutModel",
      "state": {
       "_model_module": "@jupyter-widgets/base",
       "_model_module_version": "2.0.0",
       "_model_name": "LayoutModel",
       "_view_count": null,
       "_view_module": "@jupyter-widgets/base",
       "_view_module_version": "2.0.0",
       "_view_name": "LayoutView",
       "align_content": null,
       "align_items": null,
       "align_self": null,
       "border_bottom": null,
       "border_left": null,
       "border_right": null,
       "border_top": null,
       "bottom": null,
       "display": null,
       "flex": null,
       "flex_flow": null,
       "grid_area": null,
       "grid_auto_columns": null,
       "grid_auto_flow": null,
       "grid_auto_rows": null,
       "grid_column": null,
       "grid_gap": null,
       "grid_row": null,
       "grid_template_areas": null,
       "grid_template_columns": null,
       "grid_template_rows": null,
       "height": null,
       "justify_content": null,
       "justify_items": null,
       "left": null,
       "margin": null,
       "max_height": null,
       "max_width": null,
       "min_height": null,
       "min_width": null,
       "object_fit": null,
       "object_position": null,
       "order": null,
       "overflow": null,
       "padding": null,
       "right": null,
       "top": null,
       "visibility": "hidden",
       "width": null
      }
     },
     "40716d0c67cf4d3ca7f82827be37fc13": {
      "model_module": "@jupyter-widgets/controls",
      "model_module_version": "2.0.0",
      "model_name": "HTMLStyleModel",
      "state": {
       "_model_module": "@jupyter-widgets/controls",
       "_model_module_version": "2.0.0",
       "_model_name": "HTMLStyleModel",
       "_view_count": null,
       "_view_module": "@jupyter-widgets/base",
       "_view_module_version": "2.0.0",
       "_view_name": "StyleView",
       "background": null,
       "description_width": "",
       "font_size": null,
       "text_color": null
      }
     },
     "4813780a2ee54728af4d128e38ef57f4": {
      "model_module": "@jupyter-widgets/base",
      "model_module_version": "2.0.0",
      "model_name": "LayoutModel",
      "state": {
       "_model_module": "@jupyter-widgets/base",
       "_model_module_version": "2.0.0",
       "_model_name": "LayoutModel",
       "_view_count": null,
       "_view_module": "@jupyter-widgets/base",
       "_view_module_version": "2.0.0",
       "_view_name": "LayoutView",
       "align_content": null,
       "align_items": null,
       "align_self": null,
       "border_bottom": null,
       "border_left": null,
       "border_right": null,
       "border_top": null,
       "bottom": null,
       "display": null,
       "flex": null,
       "flex_flow": null,
       "grid_area": null,
       "grid_auto_columns": null,
       "grid_auto_flow": null,
       "grid_auto_rows": null,
       "grid_column": null,
       "grid_gap": null,
       "grid_row": null,
       "grid_template_areas": null,
       "grid_template_columns": null,
       "grid_template_rows": null,
       "height": null,
       "justify_content": null,
       "justify_items": null,
       "left": null,
       "margin": null,
       "max_height": null,
       "max_width": null,
       "min_height": null,
       "min_width": null,
       "object_fit": null,
       "object_position": null,
       "order": null,
       "overflow": null,
       "padding": null,
       "right": null,
       "top": null,
       "visibility": null,
       "width": null
      }
     },
     "511e81b996cf454eb43f724d4ab7e598": {
      "model_module": "@jupyter-widgets/controls",
      "model_module_version": "2.0.0",
      "model_name": "FloatProgressModel",
      "state": {
       "_dom_classes": [],
       "_model_module": "@jupyter-widgets/controls",
       "_model_module_version": "2.0.0",
       "_model_name": "FloatProgressModel",
       "_view_count": null,
       "_view_module": "@jupyter-widgets/controls",
       "_view_module_version": "2.0.0",
       "_view_name": "ProgressView",
       "bar_style": "",
       "description": "",
       "description_allow_html": false,
       "layout": "IPY_MODEL_90d2b1da25524818831a64ed0f4a9cc2",
       "max": 3,
       "min": 0,
       "orientation": "horizontal",
       "style": "IPY_MODEL_2f79fb22fae54da8960e5f191aeca36e",
       "tabbable": null,
       "tooltip": null,
       "value": 3
      }
     },
     "5cbed4fb0807461186c1a9895492e401": {
      "model_module": "@jupyter-widgets/base",
      "model_module_version": "2.0.0",
      "model_name": "LayoutModel",
      "state": {
       "_model_module": "@jupyter-widgets/base",
       "_model_module_version": "2.0.0",
       "_model_name": "LayoutModel",
       "_view_count": null,
       "_view_module": "@jupyter-widgets/base",
       "_view_module_version": "2.0.0",
       "_view_name": "LayoutView",
       "align_content": null,
       "align_items": null,
       "align_self": null,
       "border_bottom": null,
       "border_left": null,
       "border_right": null,
       "border_top": null,
       "bottom": null,
       "display": null,
       "flex": null,
       "flex_flow": null,
       "grid_area": null,
       "grid_auto_columns": null,
       "grid_auto_flow": null,
       "grid_auto_rows": null,
       "grid_column": null,
       "grid_gap": null,
       "grid_row": null,
       "grid_template_areas": null,
       "grid_template_columns": null,
       "grid_template_rows": null,
       "height": null,
       "justify_content": null,
       "justify_items": null,
       "left": null,
       "margin": null,
       "max_height": null,
       "max_width": null,
       "min_height": null,
       "min_width": null,
       "object_fit": null,
       "object_position": null,
       "order": null,
       "overflow": null,
       "padding": null,
       "right": null,
       "top": null,
       "visibility": "hidden",
       "width": null
      }
     },
     "6a0cdb921adc424fa1c2c62abe4f4fa6": {
      "model_module": "@jupyter-widgets/controls",
      "model_module_version": "2.0.0",
      "model_name": "FloatProgressModel",
      "state": {
       "_dom_classes": [],
       "_model_module": "@jupyter-widgets/controls",
       "_model_module_version": "2.0.0",
       "_model_name": "FloatProgressModel",
       "_view_count": null,
       "_view_module": "@jupyter-widgets/controls",
       "_view_module_version": "2.0.0",
       "_view_name": "ProgressView",
       "bar_style": "",
       "description": "",
       "description_allow_html": false,
       "layout": "IPY_MODEL_a980aa35ffef4758aa285b971d44badd",
       "max": 3,
       "min": 0,
       "orientation": "horizontal",
       "style": "IPY_MODEL_fcaaaa3d7b994d1fbceaa50fb445327a",
       "tabbable": null,
       "tooltip": null,
       "value": 3
      }
     },
     "7279f38de96f48d9a57bb0a509a2aceb": {
      "model_module": "@jupyter-widgets/controls",
      "model_module_version": "2.0.0",
      "model_name": "HTMLStyleModel",
      "state": {
       "_model_module": "@jupyter-widgets/controls",
       "_model_module_version": "2.0.0",
       "_model_name": "HTMLStyleModel",
       "_view_count": null,
       "_view_module": "@jupyter-widgets/base",
       "_view_module_version": "2.0.0",
       "_view_name": "StyleView",
       "background": null,
       "description_width": "",
       "font_size": null,
       "text_color": null
      }
     },
     "8af654d2dbff47cfbed09e46bcc288f5": {
      "model_module": "@jupyter-widgets/controls",
      "model_module_version": "2.0.0",
      "model_name": "HTMLModel",
      "state": {
       "_dom_classes": [],
       "_model_module": "@jupyter-widgets/controls",
       "_model_module_version": "2.0.0",
       "_model_name": "HTMLModel",
       "_view_count": null,
       "_view_module": "@jupyter-widgets/controls",
       "_view_module_version": "2.0.0",
       "_view_name": "HTMLView",
       "description": "",
       "description_allow_html": false,
       "layout": "IPY_MODEL_04a51a401fc6494182bfe8c3720f64dd",
       "placeholder": "​",
       "style": "IPY_MODEL_b078e2085365480f9a66b03f1f2d5719",
       "tabbable": null,
       "tooltip": null,
       "value": " 3/3 [00:06&lt;00:00,  2.25s/it, Name=final_particles, Z=1]"
      }
     },
     "8ddba9f57a674b5b833381f55a1a779c": {
      "model_module": "@jupyter-widgets/controls",
      "model_module_version": "2.0.0",
      "model_name": "HTMLStyleModel",
      "state": {
       "_model_module": "@jupyter-widgets/controls",
       "_model_module_version": "2.0.0",
       "_model_name": "HTMLStyleModel",
       "_view_count": null,
       "_view_module": "@jupyter-widgets/base",
       "_view_module_version": "2.0.0",
       "_view_name": "StyleView",
       "background": null,
       "description_width": "",
       "font_size": null,
       "text_color": null
      }
     },
     "90d2b1da25524818831a64ed0f4a9cc2": {
      "model_module": "@jupyter-widgets/base",
      "model_module_version": "2.0.0",
      "model_name": "LayoutModel",
      "state": {
       "_model_module": "@jupyter-widgets/base",
       "_model_module_version": "2.0.0",
       "_model_name": "LayoutModel",
       "_view_count": null,
       "_view_module": "@jupyter-widgets/base",
       "_view_module_version": "2.0.0",
       "_view_name": "LayoutView",
       "align_content": null,
       "align_items": null,
       "align_self": null,
       "border_bottom": null,
       "border_left": null,
       "border_right": null,
       "border_top": null,
       "bottom": null,
       "display": null,
       "flex": null,
       "flex_flow": null,
       "grid_area": null,
       "grid_auto_columns": null,
       "grid_auto_flow": null,
       "grid_auto_rows": null,
       "grid_column": null,
       "grid_gap": null,
       "grid_row": null,
       "grid_template_areas": null,
       "grid_template_columns": null,
       "grid_template_rows": null,
       "height": null,
       "justify_content": null,
       "justify_items": null,
       "left": null,
       "margin": null,
       "max_height": null,
       "max_width": null,
       "min_height": null,
       "min_width": null,
       "object_fit": null,
       "object_position": null,
       "order": null,
       "overflow": null,
       "padding": null,
       "right": null,
       "top": null,
       "visibility": null,
       "width": null
      }
     },
     "a980aa35ffef4758aa285b971d44badd": {
      "model_module": "@jupyter-widgets/base",
      "model_module_version": "2.0.0",
      "model_name": "LayoutModel",
      "state": {
       "_model_module": "@jupyter-widgets/base",
       "_model_module_version": "2.0.0",
       "_model_name": "LayoutModel",
       "_view_count": null,
       "_view_module": "@jupyter-widgets/base",
       "_view_module_version": "2.0.0",
       "_view_name": "LayoutView",
       "align_content": null,
       "align_items": null,
       "align_self": null,
       "border_bottom": null,
       "border_left": null,
       "border_right": null,
       "border_top": null,
       "bottom": null,
       "display": null,
       "flex": null,
       "flex_flow": null,
       "grid_area": null,
       "grid_auto_columns": null,
       "grid_auto_flow": null,
       "grid_auto_rows": null,
       "grid_column": null,
       "grid_gap": null,
       "grid_row": null,
       "grid_template_areas": null,
       "grid_template_columns": null,
       "grid_template_rows": null,
       "height": null,
       "justify_content": null,
       "justify_items": null,
       "left": null,
       "margin": null,
       "max_height": null,
       "max_width": null,
       "min_height": null,
       "min_width": null,
       "object_fit": null,
       "object_position": null,
       "order": null,
       "overflow": null,
       "padding": null,
       "right": null,
       "top": null,
       "visibility": null,
       "width": null
      }
     },
     "b078e2085365480f9a66b03f1f2d5719": {
      "model_module": "@jupyter-widgets/controls",
      "model_module_version": "2.0.0",
      "model_name": "HTMLStyleModel",
      "state": {
       "_model_module": "@jupyter-widgets/controls",
       "_model_module_version": "2.0.0",
       "_model_name": "HTMLStyleModel",
       "_view_count": null,
       "_view_module": "@jupyter-widgets/base",
       "_view_module_version": "2.0.0",
       "_view_name": "StyleView",
       "background": null,
       "description_width": "",
       "font_size": null,
       "text_color": null
      }
     },
     "b31d5362872649579900d0b4ecd5d6c4": {
      "model_module": "@jupyter-widgets/controls",
      "model_module_version": "2.0.0",
      "model_name": "HTMLModel",
      "state": {
       "_dom_classes": [],
       "_model_module": "@jupyter-widgets/controls",
       "_model_module_version": "2.0.0",
       "_model_name": "HTMLModel",
       "_view_count": null,
       "_view_module": "@jupyter-widgets/controls",
       "_view_module_version": "2.0.0",
       "_view_name": "HTMLView",
       "description": "",
       "description_allow_html": false,
       "layout": "IPY_MODEL_c070856fc0154be59079bf78b25fdd88",
       "placeholder": "​",
       "style": "IPY_MODEL_7279f38de96f48d9a57bb0a509a2aceb",
       "tabbable": null,
       "tooltip": null,
       "value": "100%"
      }
     },
     "c070856fc0154be59079bf78b25fdd88": {
      "model_module": "@jupyter-widgets/base",
      "model_module_version": "2.0.0",
      "model_name": "LayoutModel",
      "state": {
       "_model_module": "@jupyter-widgets/base",
       "_model_module_version": "2.0.0",
       "_model_name": "LayoutModel",
       "_view_count": null,
       "_view_module": "@jupyter-widgets/base",
       "_view_module_version": "2.0.0",
       "_view_name": "LayoutView",
       "align_content": null,
       "align_items": null,
       "align_self": null,
       "border_bottom": null,
       "border_left": null,
       "border_right": null,
       "border_top": null,
       "bottom": null,
       "display": null,
       "flex": null,
       "flex_flow": null,
       "grid_area": null,
       "grid_auto_columns": null,
       "grid_auto_flow": null,
       "grid_auto_rows": null,
       "grid_column": null,
       "grid_gap": null,
       "grid_row": null,
       "grid_template_areas": null,
       "grid_template_columns": null,
       "grid_template_rows": null,
       "height": null,
       "justify_content": null,
       "justify_items": null,
       "left": null,
       "margin": null,
       "max_height": null,
       "max_width": null,
       "min_height": null,
       "min_width": null,
       "object_fit": null,
       "object_position": null,
       "order": null,
       "overflow": null,
       "padding": null,
       "right": null,
       "top": null,
       "visibility": null,
       "width": null
      }
     },
     "d1ab6a63ebff49b2800ff816eae899e5": {
      "model_module": "@jupyter-widgets/controls",
      "model_module_version": "2.0.0",
      "model_name": "HBoxModel",
      "state": {
       "_dom_classes": [],
       "_model_module": "@jupyter-widgets/controls",
       "_model_module_version": "2.0.0",
       "_model_name": "HBoxModel",
       "_view_count": null,
       "_view_module": "@jupyter-widgets/controls",
       "_view_module_version": "2.0.0",
       "_view_name": "HBoxView",
       "box_style": "",
       "children": [
        "IPY_MODEL_b31d5362872649579900d0b4ecd5d6c4",
        "IPY_MODEL_6a0cdb921adc424fa1c2c62abe4f4fa6",
        "IPY_MODEL_e052093d04c34a85840cda372a5acdbe"
       ],
       "layout": "IPY_MODEL_3b66dea0fb9b490cac81ac4bccf76ac8",
       "tabbable": null,
       "tooltip": null
      }
     },
     "e052093d04c34a85840cda372a5acdbe": {
      "model_module": "@jupyter-widgets/controls",
      "model_module_version": "2.0.0",
      "model_name": "HTMLModel",
      "state": {
       "_dom_classes": [],
       "_model_module": "@jupyter-widgets/controls",
       "_model_module_version": "2.0.0",
       "_model_name": "HTMLModel",
       "_view_count": null,
       "_view_module": "@jupyter-widgets/controls",
       "_view_module_version": "2.0.0",
       "_view_name": "HTMLView",
       "description": "",
       "description_allow_html": false,
       "layout": "IPY_MODEL_4813780a2ee54728af4d128e38ef57f4",
       "placeholder": "​",
       "style": "IPY_MODEL_8ddba9f57a674b5b833381f55a1a779c",
       "tabbable": null,
       "tooltip": null,
       "value": " 3/3 [00:06&lt;00:00,  2.20s/it, Name=final_particles, Z=1]"
      }
     },
     "f48a3abc9b5c423387a72483a0d28040": {
      "model_module": "@jupyter-widgets/controls",
      "model_module_version": "2.0.0",
      "model_name": "HTMLModel",
      "state": {
       "_dom_classes": [],
       "_model_module": "@jupyter-widgets/controls",
       "_model_module_version": "2.0.0",
       "_model_name": "HTMLModel",
       "_view_count": null,
       "_view_module": "@jupyter-widgets/controls",
       "_view_module_version": "2.0.0",
       "_view_name": "HTMLView",
       "description": "",
       "description_allow_html": false,
       "layout": "IPY_MODEL_1d9f04b303614961bff62d307a9ad2c5",
       "placeholder": "​",
       "style": "IPY_MODEL_40716d0c67cf4d3ca7f82827be37fc13",
       "tabbable": null,
       "tooltip": null,
       "value": "100%"
      }
     },
     "fa0c864e45914533b9024a4359df16d5": {
      "model_module": "@jupyter-widgets/controls",
      "model_module_version": "2.0.0",
      "model_name": "HBoxModel",
      "state": {
       "_dom_classes": [],
       "_model_module": "@jupyter-widgets/controls",
       "_model_module_version": "2.0.0",
       "_model_name": "HBoxModel",
       "_view_count": null,
       "_view_module": "@jupyter-widgets/controls",
       "_view_module_version": "2.0.0",
       "_view_name": "HBoxView",
       "box_style": "",
       "children": [
        "IPY_MODEL_f48a3abc9b5c423387a72483a0d28040",
        "IPY_MODEL_511e81b996cf454eb43f724d4ab7e598",
        "IPY_MODEL_8af654d2dbff47cfbed09e46bcc288f5"
       ],
       "layout": "IPY_MODEL_5cbed4fb0807461186c1a9895492e401",
       "tabbable": null,
       "tooltip": null
      }
     },
     "fcaaaa3d7b994d1fbceaa50fb445327a": {
      "model_module": "@jupyter-widgets/controls",
      "model_module_version": "2.0.0",
      "model_name": "ProgressStyleModel",
      "state": {
       "_model_module": "@jupyter-widgets/controls",
       "_model_module_version": "2.0.0",
       "_model_name": "ProgressStyleModel",
       "_view_count": null,
       "_view_module": "@jupyter-widgets/base",
       "_view_module_version": "2.0.0",
       "_view_name": "StyleView",
       "bar_color": null,
       "description_width": ""
      }
     }
    },
    "version_major": 2,
    "version_minor": 0
   }
  }
 },
 "nbformat": 4,
 "nbformat_minor": 5
}
