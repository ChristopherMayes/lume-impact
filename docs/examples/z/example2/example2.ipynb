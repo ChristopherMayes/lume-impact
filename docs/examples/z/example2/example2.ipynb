{
 "cells": [
  {
   "cell_type": "code",
   "execution_count": null,
   "id": "2dd99ff1-a0c8-47b3-8dfb-e280c686c05b",
   "metadata": {
    "execution": {
     "iopub.execute_input": "2025-02-20T21:35:52.571847Z",
     "iopub.status.busy": "2025-02-20T21:35:52.571363Z",
     "iopub.status.idle": "2025-02-20T21:35:53.626815Z",
     "shell.execute_reply": "2025-02-20T21:35:53.626443Z"
    }
   },
   "outputs": [],
   "source": [
    "from impact.z import ImpactZ\n",
    "from impact.z.input import WriteFull\n",
    "from pmd_beamphysics.units import mec2"
   ]
  },
  {
   "cell_type": "code",
   "execution_count": null,
   "id": "4ec4f8c3-133e-4a75-a7dc-fb748727a3d9",
   "metadata": {
    "execution": {
     "iopub.execute_input": "2025-02-20T21:35:53.628302Z",
     "iopub.status.busy": "2025-02-20T21:35:53.628164Z",
     "iopub.status.idle": "2025-02-20T21:35:53.636262Z",
     "shell.execute_reply": "2025-02-20T21:35:53.636072Z"
    }
   },
   "outputs": [],
   "source": [
    "I = ImpactZ(\n",
    "    input=\"ImpactZ.in\",\n",
    "    initial_particles=None,\n",
    "    use_temp_dir=False,\n",
    "    workdir=\"./tmp\",\n",
    ")"
   ]
  },
  {
   "cell_type": "code",
   "execution_count": null,
   "id": "4a05ec14-64b6-44b7-8815-ea73feba6dd4",
   "metadata": {
    "execution": {
     "iopub.execute_input": "2025-02-20T21:35:53.637347Z",
     "iopub.status.busy": "2025-02-20T21:35:53.637256Z",
     "iopub.status.idle": "2025-02-20T21:35:53.638890Z",
     "shell.execute_reply": "2025-02-20T21:35:53.638659Z"
    }
   },
   "outputs": [],
   "source": [
    "I.input.reference_particle_mass = mec2\n",
    "I.input.lattice.pop(0)\n",
    "I.input.lattice.append(WriteFull(file_id=1001))"
   ]
  },
  {
   "cell_type": "code",
   "execution_count": null,
   "id": "0cf6729a-4840-423f-9a72-71eeee66183a",
   "metadata": {
    "execution": {
     "iopub.execute_input": "2025-02-20T21:35:53.639912Z",
     "iopub.status.busy": "2025-02-20T21:35:53.639820Z",
     "iopub.status.idle": "2025-02-20T21:35:53.664700Z",
     "shell.execute_reply": "2025-02-20T21:35:53.664296Z"
    }
   },
   "outputs": [],
   "source": [
    "I.input"
   ]
  },
  {
   "cell_type": "code",
   "execution_count": null,
   "id": "f382d215-e53b-4802-af7c-f8e985273696",
   "metadata": {
    "execution": {
     "iopub.execute_input": "2025-02-20T21:35:53.665863Z",
     "iopub.status.busy": "2025-02-20T21:35:53.665764Z",
     "iopub.status.idle": "2025-02-20T21:35:53.667871Z",
     "shell.execute_reply": "2025-02-20T21:35:53.667610Z"
    }
   },
   "outputs": [],
   "source": [
    "I.input.file_data.keys()"
   ]
  },
  {
   "cell_type": "code",
   "execution_count": null,
   "id": "f04be5b9-15d9-4691-adf3-7b1903603e51",
   "metadata": {
    "execution": {
     "iopub.execute_input": "2025-02-20T21:35:53.668970Z",
     "iopub.status.busy": "2025-02-20T21:35:53.668899Z",
     "iopub.status.idle": "2025-02-20T21:36:19.806428Z",
     "shell.execute_reply": "2025-02-20T21:36:19.805972Z"
    }
   },
   "outputs": [],
   "source": [
    "output = I.run(verbose=True)"
   ]
  },
  {
   "cell_type": "code",
   "execution_count": null,
   "id": "6bb023b8-273f-4bef-9e72-c65332a51b1f",
   "metadata": {
    "execution": {
     "iopub.execute_input": "2025-02-20T21:36:19.807946Z",
     "iopub.status.busy": "2025-02-20T21:36:19.807829Z",
     "iopub.status.idle": "2025-02-20T21:36:20.342127Z",
     "shell.execute_reply": "2025-02-20T21:36:20.341826Z"
    }
   },
   "outputs": [],
   "source": [
    "output"
   ]
  },
  {
   "cell_type": "code",
   "execution_count": null,
   "id": "23194bd6-49a2-45be-aeda-50248fb1acde",
   "metadata": {
    "execution": {
     "iopub.execute_input": "2025-02-20T21:36:20.344148Z",
     "iopub.status.busy": "2025-02-20T21:36:20.344036Z",
     "iopub.status.idle": "2025-02-20T21:36:20.345672Z",
     "shell.execute_reply": "2025-02-20T21:36:20.345455Z"
    }
   },
   "outputs": [],
   "source": [
    "P = I.output.particles[1001]"
   ]
  },
  {
   "cell_type": "code",
   "execution_count": null,
   "id": "34b84733-6983-4417-8ccc-d522ea7dfac8",
   "metadata": {
    "execution": {
     "iopub.execute_input": "2025-02-20T21:36:20.346694Z",
     "iopub.status.busy": "2025-02-20T21:36:20.346619Z",
     "iopub.status.idle": "2025-02-20T21:36:20.979301Z",
     "shell.execute_reply": "2025-02-20T21:36:20.978986Z"
    }
   },
   "outputs": [],
   "source": [
    "P.plot(\"t\", \"energy\")"
   ]
  }
 ],
 "metadata": {
  "kernelspec": {
   "display_name": "Python 3 (ipykernel)",
   "language": "python",
   "name": "python3"
  },
  "language_info": {
   "codemirror_mode": {
    "name": "ipython",
    "version": 3
   },
   "file_extension": ".py",
   "mimetype": "text/x-python",
   "name": "python",
   "nbconvert_exporter": "python",
   "pygments_lexer": "ipython3",
   "version": "3.12.8"
  },
  "widgets": {
   "application/vnd.jupyter.widget-state+json": {
    "state": {
     "133134fc790b4f6ca95412e7211eb9cf": {
      "model_module": "@jupyter-widgets/base",
      "model_module_version": "2.0.0",
      "model_name": "LayoutModel",
      "state": {
       "_model_module": "@jupyter-widgets/base",
       "_model_module_version": "2.0.0",
       "_model_name": "LayoutModel",
       "_view_count": null,
       "_view_module": "@jupyter-widgets/base",
       "_view_module_version": "2.0.0",
       "_view_name": "LayoutView",
       "align_content": null,
       "align_items": null,
       "align_self": null,
       "border_bottom": null,
       "border_left": null,
       "border_right": null,
       "border_top": null,
       "bottom": null,
       "display": null,
       "flex": null,
       "flex_flow": null,
       "grid_area": null,
       "grid_auto_columns": null,
       "grid_auto_flow": null,
       "grid_auto_rows": null,
       "grid_column": null,
       "grid_gap": null,
       "grid_row": null,
       "grid_template_areas": null,
       "grid_template_columns": null,
       "grid_template_rows": null,
       "height": null,
       "justify_content": null,
       "justify_items": null,
       "left": null,
       "margin": null,
       "max_height": null,
       "max_width": null,
       "min_height": null,
       "min_width": null,
       "object_fit": null,
       "object_position": null,
       "order": null,
       "overflow": null,
       "padding": null,
       "right": null,
       "top": null,
       "visibility": "hidden",
       "width": null
      }
     },
     "2152f768f35e46aa88e172402c30a368": {
      "model_module": "@jupyter-widgets/base",
      "model_module_version": "2.0.0",
      "model_name": "LayoutModel",
      "state": {
       "_model_module": "@jupyter-widgets/base",
       "_model_module_version": "2.0.0",
       "_model_name": "LayoutModel",
       "_view_count": null,
       "_view_module": "@jupyter-widgets/base",
       "_view_module_version": "2.0.0",
       "_view_name": "LayoutView",
       "align_content": null,
       "align_items": null,
       "align_self": null,
       "border_bottom": null,
       "border_left": null,
       "border_right": null,
       "border_top": null,
       "bottom": null,
       "display": null,
       "flex": null,
       "flex_flow": null,
       "grid_area": null,
       "grid_auto_columns": null,
       "grid_auto_flow": null,
       "grid_auto_rows": null,
       "grid_column": null,
       "grid_gap": null,
       "grid_row": null,
       "grid_template_areas": null,
       "grid_template_columns": null,
       "grid_template_rows": null,
       "height": null,
       "justify_content": null,
       "justify_items": null,
       "left": null,
       "margin": null,
       "max_height": null,
       "max_width": null,
       "min_height": null,
       "min_width": null,
       "object_fit": null,
       "object_position": null,
       "order": null,
       "overflow": null,
       "padding": null,
       "right": null,
       "top": null,
       "visibility": null,
       "width": null
      }
     },
     "2a597ebf8b9644268b5e5cb4afbf6784": {
      "model_module": "@jupyter-widgets/controls",
      "model_module_version": "2.0.0",
      "model_name": "HTMLStyleModel",
      "state": {
       "_model_module": "@jupyter-widgets/controls",
       "_model_module_version": "2.0.0",
       "_model_name": "HTMLStyleModel",
       "_view_count": null,
       "_view_module": "@jupyter-widgets/base",
       "_view_module_version": "2.0.0",
       "_view_name": "StyleView",
       "background": null,
       "description_width": "",
       "font_size": null,
       "text_color": null
      }
     },
     "37297a058e4d451da7522a0365890d58": {
      "model_module": "@jupyter-widgets/controls",
      "model_module_version": "2.0.0",
      "model_name": "HTMLModel",
      "state": {
       "_dom_classes": [],
       "_model_module": "@jupyter-widgets/controls",
       "_model_module_version": "2.0.0",
       "_model_name": "HTMLModel",
       "_view_count": null,
       "_view_module": "@jupyter-widgets/controls",
       "_view_module_version": "2.0.0",
       "_view_name": "HTMLView",
       "description": "",
       "description_allow_html": false,
       "layout": "IPY_MODEL_2152f768f35e46aa88e172402c30a368",
       "placeholder": "​",
       "style": "IPY_MODEL_2a597ebf8b9644268b5e5cb4afbf6784",
       "tabbable": null,
       "tooltip": null,
       "value": " 14/14 [00:25&lt;00:00,  1.81s/it, Name=, Z=5.94]"
      }
     },
     "6c1ac2af7ac149c3bdc3f9a06ece0faf": {
      "model_module": "@jupyter-widgets/controls",
      "model_module_version": "2.0.0",
      "model_name": "HBoxModel",
      "state": {
       "_dom_classes": [],
       "_model_module": "@jupyter-widgets/controls",
       "_model_module_version": "2.0.0",
       "_model_name": "HBoxModel",
       "_view_count": null,
       "_view_module": "@jupyter-widgets/controls",
       "_view_module_version": "2.0.0",
       "_view_name": "HBoxView",
       "box_style": "",
       "children": [
        "IPY_MODEL_e66bcef1bf8d414bbad7de1d31a7ada8",
        "IPY_MODEL_fabf4e6e7e234da1b2fc46c76c82a62b",
        "IPY_MODEL_37297a058e4d451da7522a0365890d58"
       ],
       "layout": "IPY_MODEL_133134fc790b4f6ca95412e7211eb9cf",
       "tabbable": null,
       "tooltip": null
      }
     },
     "747e98baa44a4e128763736814c567c6": {
      "model_module": "@jupyter-widgets/base",
      "model_module_version": "2.0.0",
      "model_name": "LayoutModel",
      "state": {
       "_model_module": "@jupyter-widgets/base",
       "_model_module_version": "2.0.0",
       "_model_name": "LayoutModel",
       "_view_count": null,
       "_view_module": "@jupyter-widgets/base",
       "_view_module_version": "2.0.0",
       "_view_name": "LayoutView",
       "align_content": null,
       "align_items": null,
       "align_self": null,
       "border_bottom": null,
       "border_left": null,
       "border_right": null,
       "border_top": null,
       "bottom": null,
       "display": null,
       "flex": null,
       "flex_flow": null,
       "grid_area": null,
       "grid_auto_columns": null,
       "grid_auto_flow": null,
       "grid_auto_rows": null,
       "grid_column": null,
       "grid_gap": null,
       "grid_row": null,
       "grid_template_areas": null,
       "grid_template_columns": null,
       "grid_template_rows": null,
       "height": null,
       "justify_content": null,
       "justify_items": null,
       "left": null,
       "margin": null,
       "max_height": null,
       "max_width": null,
       "min_height": null,
       "min_width": null,
       "object_fit": null,
       "object_position": null,
       "order": null,
       "overflow": null,
       "padding": null,
       "right": null,
       "top": null,
       "visibility": null,
       "width": null
      }
     },
     "7490ad48e4cd42ed9b4fba0dcf057377": {
      "model_module": "@jupyter-widgets/base",
      "model_module_version": "2.0.0",
      "model_name": "LayoutModel",
      "state": {
       "_model_module": "@jupyter-widgets/base",
       "_model_module_version": "2.0.0",
       "_model_name": "LayoutModel",
       "_view_count": null,
       "_view_module": "@jupyter-widgets/base",
       "_view_module_version": "2.0.0",
       "_view_name": "LayoutView",
       "align_content": null,
       "align_items": null,
       "align_self": null,
       "border_bottom": null,
       "border_left": null,
       "border_right": null,
       "border_top": null,
       "bottom": null,
       "display": null,
       "flex": null,
       "flex_flow": null,
       "grid_area": null,
       "grid_auto_columns": null,
       "grid_auto_flow": null,
       "grid_auto_rows": null,
       "grid_column": null,
       "grid_gap": null,
       "grid_row": null,
       "grid_template_areas": null,
       "grid_template_columns": null,
       "grid_template_rows": null,
       "height": null,
       "justify_content": null,
       "justify_items": null,
       "left": null,
       "margin": null,
       "max_height": null,
       "max_width": null,
       "min_height": null,
       "min_width": null,
       "object_fit": null,
       "object_position": null,
       "order": null,
       "overflow": null,
       "padding": null,
       "right": null,
       "top": null,
       "visibility": null,
       "width": null
      }
     },
     "94c80250f5064c1ba6cb558abdc673ca": {
      "model_module": "@jupyter-widgets/controls",
      "model_module_version": "2.0.0",
      "model_name": "HTMLStyleModel",
      "state": {
       "_model_module": "@jupyter-widgets/controls",
       "_model_module_version": "2.0.0",
       "_model_name": "HTMLStyleModel",
       "_view_count": null,
       "_view_module": "@jupyter-widgets/base",
       "_view_module_version": "2.0.0",
       "_view_name": "StyleView",
       "background": null,
       "description_width": "",
       "font_size": null,
       "text_color": null
      }
     },
     "e22e86e8f8094a72a1bc4f59378d820c": {
      "model_module": "@jupyter-widgets/controls",
      "model_module_version": "2.0.0",
      "model_name": "ProgressStyleModel",
      "state": {
       "_model_module": "@jupyter-widgets/controls",
       "_model_module_version": "2.0.0",
       "_model_name": "ProgressStyleModel",
       "_view_count": null,
       "_view_module": "@jupyter-widgets/base",
       "_view_module_version": "2.0.0",
       "_view_name": "StyleView",
       "bar_color": null,
       "description_width": ""
      }
     },
     "e66bcef1bf8d414bbad7de1d31a7ada8": {
      "model_module": "@jupyter-widgets/controls",
      "model_module_version": "2.0.0",
      "model_name": "HTMLModel",
      "state": {
       "_dom_classes": [],
       "_model_module": "@jupyter-widgets/controls",
       "_model_module_version": "2.0.0",
       "_model_name": "HTMLModel",
       "_view_count": null,
       "_view_module": "@jupyter-widgets/controls",
       "_view_module_version": "2.0.0",
       "_view_name": "HTMLView",
       "description": "",
       "description_allow_html": false,
       "layout": "IPY_MODEL_747e98baa44a4e128763736814c567c6",
       "placeholder": "​",
       "style": "IPY_MODEL_94c80250f5064c1ba6cb558abdc673ca",
       "tabbable": null,
       "tooltip": null,
       "value": "100%"
      }
     },
     "fabf4e6e7e234da1b2fc46c76c82a62b": {
      "model_module": "@jupyter-widgets/controls",
      "model_module_version": "2.0.0",
      "model_name": "FloatProgressModel",
      "state": {
       "_dom_classes": [],
       "_model_module": "@jupyter-widgets/controls",
       "_model_module_version": "2.0.0",
       "_model_name": "FloatProgressModel",
       "_view_count": null,
       "_view_module": "@jupyter-widgets/controls",
       "_view_module_version": "2.0.0",
       "_view_name": "ProgressView",
       "bar_style": "",
       "description": "",
       "description_allow_html": false,
       "layout": "IPY_MODEL_7490ad48e4cd42ed9b4fba0dcf057377",
       "max": 14.0,
       "min": 0.0,
       "orientation": "horizontal",
       "style": "IPY_MODEL_e22e86e8f8094a72a1bc4f59378d820c",
       "tabbable": null,
       "tooltip": null,
       "value": 14.0
      }
     }
    },
    "version_major": 2,
    "version_minor": 0
   }
  }
 },
 "nbformat": 4,
 "nbformat_minor": 5
}
