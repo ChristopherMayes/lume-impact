{
 "cells": [
  {
   "cell_type": "code",
   "execution_count": null,
   "id": "2dd99ff1-a0c8-47b3-8dfb-e280c686c05b",
   "metadata": {},
   "outputs": [],
   "source": [
    "import matplotlib.pyplot as plt\n",
    "\n",
    "from impact.z import ImpactZ\n",
    "from impact.z.input import WriteFull\n",
    "from pmd_beamphysics.units import mec2"
   ]
  },
  {
   "cell_type": "code",
   "execution_count": null,
   "id": "4ec4f8c3-133e-4a75-a7dc-fb748727a3d9",
   "metadata": {},
   "outputs": [],
   "source": [
    "I = ImpactZ(\n",
    "    input=\"ImpactZ.in\",\n",
    "    initial_particles=None,\n",
    "    use_temp_dir=False,\n",
    "    workdir=\"./tmp\",\n",
    ")"
   ]
  },
  {
   "cell_type": "code",
   "execution_count": null,
   "id": "4a05ec14-64b6-44b7-8815-ea73feba6dd4",
   "metadata": {},
   "outputs": [],
   "source": [
    "I.input.reference_particle_mass = mec2\n",
    "I.input.lattice.pop(0)\n",
    "I.input.lattice.append(WriteFull(file_id=1001))"
   ]
  },
  {
   "cell_type": "code",
   "execution_count": null,
   "id": "0cf6729a-4840-423f-9a72-71eeee66183a",
   "metadata": {},
   "outputs": [],
   "source": [
    "I.input"
   ]
  },
  {
   "cell_type": "code",
   "execution_count": null,
   "id": "f04be5b9-15d9-4691-adf3-7b1903603e51",
   "metadata": {},
   "outputs": [],
   "source": [
    "output = I.run(verbose=True)"
   ]
  },
  {
   "cell_type": "code",
   "execution_count": null,
   "id": "6bb023b8-273f-4bef-9e72-c65332a51b1f",
   "metadata": {},
   "outputs": [],
   "source": [
    "output"
   ]
  },
  {
   "cell_type": "code",
   "execution_count": null,
   "id": "bc9a567c-dda0-4088-8d93-b20861f11864",
   "metadata": {},
   "outputs": [],
   "source": [
    "keys = list(I.output)\n",
    "fig, axs = plt.subplot_mosaic(list(zip(keys[::2], keys[1::2])), figsize=(12, 64))\n",
    "\n",
    "for key in keys:\n",
    "    try:\n",
    "        I.output.plot(key, ax=axs[key])\n",
    "    except Exception as ex:\n",
    "        print(\"failed to plot key\", key, type(ex), str(ex))\n",
    "\n",
    "fig.tight_layout()"
   ]
  },
  {
   "cell_type": "code",
   "execution_count": null,
   "id": "23194bd6-49a2-45be-aeda-50248fb1acde",
   "metadata": {},
   "outputs": [],
   "source": [
    "P = I.output.final_particles"
   ]
  },
  {
   "cell_type": "code",
   "execution_count": null,
   "id": "34b84733-6983-4417-8ccc-d522ea7dfac8",
   "metadata": {},
   "outputs": [],
   "source": [
    "P.plot(\"t\", \"energy\")"
   ]
  }
 ],
 "metadata": {
  "kernelspec": {
   "display_name": "Python 3 (ipykernel)",
   "language": "python",
   "name": "python3"
  },
  "language_info": {
   "codemirror_mode": {
    "name": "ipython",
    "version": 3
   },
   "file_extension": ".py",
   "mimetype": "text/x-python",
   "name": "python",
   "nbconvert_exporter": "python",
   "pygments_lexer": "ipython3",
   "version": "3.12.8"
  }
 },
 "nbformat": 4,
 "nbformat_minor": 5
}
