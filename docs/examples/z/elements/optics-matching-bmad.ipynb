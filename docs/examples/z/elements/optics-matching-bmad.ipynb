{
 "cells": [
  {
   "cell_type": "markdown",
   "metadata": {},
   "source": [
    "# optics-matching example - Comparing to Bmad"
   ]
  },
  {
   "cell_type": "code",
   "execution_count": null,
   "metadata": {
    "execution": {
     "iopub.execute_input": "2025-02-20T21:33:34.453108Z",
     "iopub.status.busy": "2025-02-20T21:33:34.452043Z",
     "iopub.status.idle": "2025-02-20T21:33:35.623558Z",
     "shell.execute_reply": "2025-02-20T21:33:35.623149Z"
    }
   },
   "outputs": [],
   "source": [
    "import matplotlib.pyplot as plt\n",
    "import numpy as np\n",
    "from pmd_beamphysics import single_particle\n",
    "from pmd_beamphysics.units import mec2\n",
    "from pytao import Tao\n",
    "\n",
    "import impact.z as IZ\n",
    "from impact.tests.z.conftest import bmad_files\n",
    "from impact.z.interfaces.bmad import export_particles as tao_export_particles"
   ]
  },
  {
   "cell_type": "code",
   "execution_count": null,
   "metadata": {
    "execution": {
     "iopub.execute_input": "2025-02-20T21:33:35.625093Z",
     "iopub.status.busy": "2025-02-20T21:33:35.624949Z",
     "iopub.status.idle": "2025-02-20T21:33:35.626920Z",
     "shell.execute_reply": "2025-02-20T21:33:35.626667Z"
    }
   },
   "outputs": [],
   "source": [
    "energy = 10e6\n",
    "pz = np.sqrt(energy**2 - mec2**2)\n",
    "\n",
    "# Should give beta_x = 19569511.835591838 m\n",
    "P0 = single_particle(x=0.0, pz=pz, species=\"electron\")"
   ]
  },
  {
   "cell_type": "code",
   "execution_count": null,
   "metadata": {
    "execution": {
     "iopub.execute_input": "2025-02-20T21:33:35.628010Z",
     "iopub.status.busy": "2025-02-20T21:33:35.627940Z",
     "iopub.status.idle": "2025-02-20T21:33:35.751191Z",
     "shell.execute_reply": "2025-02-20T21:33:35.750747Z"
    }
   },
   "outputs": [],
   "source": [
    "!cat $bmad_files/optics_matching.bmad"
   ]
  },
  {
   "cell_type": "code",
   "execution_count": null,
   "metadata": {
    "execution": {
     "iopub.execute_input": "2025-02-20T21:33:35.753126Z",
     "iopub.status.busy": "2025-02-20T21:33:35.752971Z",
     "iopub.status.idle": "2025-02-20T21:33:35.795321Z",
     "shell.execute_reply": "2025-02-20T21:33:35.794995Z"
    }
   },
   "outputs": [],
   "source": [
    "tao = Tao(lattice_file=bmad_files / \"optics_matching.bmad\", plot=\"mpl\")"
   ]
  },
  {
   "cell_type": "code",
   "execution_count": null,
   "metadata": {
    "execution": {
     "iopub.execute_input": "2025-02-20T21:33:35.796695Z",
     "iopub.status.busy": "2025-02-20T21:33:35.796570Z",
     "iopub.status.idle": "2025-02-20T21:33:35.999352Z",
     "shell.execute_reply": "2025-02-20T21:33:35.999098Z"
    }
   },
   "outputs": [],
   "source": [
    "P0.write(\"optics_matching_initial_particles.h5\")\n",
    "for cmd in [\n",
    "    \"set beam_init position_file = optics_matching_initial_particles.h5\",\n",
    "    f\"set beam_init n_particle = {len(P0)}\",\n",
    "    f\"set beam_init bunch_charge = {P0.charge}\",\n",
    "    \"set beam_init saved_at = *\",\n",
    "    \"set global track_type = single\",\n",
    "    \"set global track_type = beam\",\n",
    "]:\n",
    "    res = tao.cmd(cmd)\n",
    "    if res:\n",
    "        print(\"\\n\".join(res))"
   ]
  },
  {
   "cell_type": "code",
   "execution_count": null,
   "metadata": {
    "execution": {
     "iopub.execute_input": "2025-02-20T21:33:36.000604Z",
     "iopub.status.busy": "2025-02-20T21:33:36.000516Z",
     "iopub.status.idle": "2025-02-20T21:33:36.224075Z",
     "shell.execute_reply": "2025-02-20T21:33:36.223783Z"
    }
   },
   "outputs": [],
   "source": [
    "tao.plot(\"beta\", include_layout=False)"
   ]
  },
  {
   "cell_type": "code",
   "execution_count": null,
   "metadata": {
    "execution": {
     "iopub.execute_input": "2025-02-20T21:33:36.225390Z",
     "iopub.status.busy": "2025-02-20T21:33:36.225283Z",
     "iopub.status.idle": "2025-02-20T21:33:36.251948Z",
     "shell.execute_reply": "2025-02-20T21:33:36.251690Z"
    }
   },
   "outputs": [],
   "source": [
    "I = IZ.ImpactZ.from_tao(\n",
    "    tao, use_temp_dir=False, workdir=\"./optics-matching-bmad\", initial_particles=P0\n",
    ")"
   ]
  },
  {
   "cell_type": "code",
   "execution_count": null,
   "metadata": {
    "execution": {
     "iopub.execute_input": "2025-02-20T21:33:36.253181Z",
     "iopub.status.busy": "2025-02-20T21:33:36.253105Z",
     "iopub.status.idle": "2025-02-20T21:33:36.255193Z",
     "shell.execute_reply": "2025-02-20T21:33:36.254972Z"
    }
   },
   "outputs": [],
   "source": [
    "np.max(I.input.quadrupoles.k1)"
   ]
  },
  {
   "cell_type": "code",
   "execution_count": null,
   "metadata": {
    "execution": {
     "iopub.execute_input": "2025-02-20T21:33:36.256263Z",
     "iopub.status.busy": "2025-02-20T21:33:36.256176Z",
     "iopub.status.idle": "2025-02-20T21:33:36.258281Z",
     "shell.execute_reply": "2025-02-20T21:33:36.258066Z"
    }
   },
   "outputs": [],
   "source": [
    "I.input.quadrupoles.length"
   ]
  },
  {
   "cell_type": "code",
   "execution_count": null,
   "metadata": {
    "execution": {
     "iopub.execute_input": "2025-02-20T21:33:36.259312Z",
     "iopub.status.busy": "2025-02-20T21:33:36.259244Z",
     "iopub.status.idle": "2025-02-20T21:33:36.346482Z",
     "shell.execute_reply": "2025-02-20T21:33:36.346186Z"
    }
   },
   "outputs": [],
   "source": [
    "output = I.run()"
   ]
  },
  {
   "cell_type": "code",
   "execution_count": null,
   "metadata": {
    "execution": {
     "iopub.execute_input": "2025-02-20T21:33:36.358849Z",
     "iopub.status.busy": "2025-02-20T21:33:36.358690Z",
     "iopub.status.idle": "2025-02-20T21:33:36.517732Z",
     "shell.execute_reply": "2025-02-20T21:33:36.517415Z"
    }
   },
   "outputs": [],
   "source": [
    "I.plot(\"mean_x\", include_labels=True)"
   ]
  },
  {
   "cell_type": "code",
   "execution_count": null,
   "metadata": {
    "execution": {
     "iopub.execute_input": "2025-02-20T21:33:36.519165Z",
     "iopub.status.busy": "2025-02-20T21:33:36.519048Z",
     "iopub.status.idle": "2025-02-20T21:33:36.675996Z",
     "shell.execute_reply": "2025-02-20T21:33:36.675695Z"
    }
   },
   "outputs": [],
   "source": [
    "I.output"
   ]
  },
  {
   "cell_type": "code",
   "execution_count": null,
   "metadata": {
    "execution": {
     "iopub.execute_input": "2025-02-20T21:33:36.677813Z",
     "iopub.status.busy": "2025-02-20T21:33:36.677699Z",
     "iopub.status.idle": "2025-02-20T21:33:36.683667Z",
     "shell.execute_reply": "2025-02-20T21:33:36.683444Z"
    }
   },
   "outputs": [],
   "source": [
    "Ptao = tao_export_particles(tao, \"END\")"
   ]
  },
  {
   "cell_type": "code",
   "execution_count": null,
   "metadata": {
    "execution": {
     "iopub.execute_input": "2025-02-20T21:33:36.684941Z",
     "iopub.status.busy": "2025-02-20T21:33:36.684813Z",
     "iopub.status.idle": "2025-02-20T21:33:36.900225Z",
     "shell.execute_reply": "2025-02-20T21:33:36.899940Z"
    }
   },
   "outputs": [],
   "source": [
    "mc2 = I.input.reference_particle_mass\n",
    "stats = I.output.stats\n",
    "z = stats.z\n",
    "x = stats.mean_x\n",
    "y = stats.mean_y\n",
    "energy = stats.mean_energy\n",
    "\n",
    "x_tao = tao.bunch_comb(\"x\")\n",
    "y_tao = tao.bunch_comb(\"y\")\n",
    "s_tao = tao.bunch_comb(\"s\")\n",
    "p_tao = (1 + tao.bunch_comb(\"pz\")) * tao.bunch_comb(\"p0c\")\n",
    "energy_tao = np.hypot(p_tao, mc2)\n",
    "\n",
    "fig, (ax1, ax2, ax3, ax4) = plt.subplots(4, figsize=(8, 8), sharex=True)\n",
    "ax1.plot(z, x, label=\"Impact-Z\")\n",
    "ax1.plot(s_tao, x_tao, \"--\", label=\"Tao\")\n",
    "ax1.set_ylabel(r\"$x$ (m)\")\n",
    "ax1.legend()\n",
    "\n",
    "ax2.plot(z, y, label=\"Impact-Z\")\n",
    "ax2.plot(s_tao, y_tao, \"--\", label=\"Tao\")\n",
    "ax2.set_ylabel(r\"$y$ (m)\")\n",
    "\n",
    "ax3.plot(z, energy / 1e6, label=\"Impact-Z\")\n",
    "ax3.plot(s_tao, energy_tao / 1e6, \"--\", label=\"Tao\")\n",
    "ax3.set_ylabel(r\"$E$ (MeV)\")\n",
    "ax3.set_xlabel(r\"$s$ (m)\")\n",
    "\n",
    "I.input.plot(ax=ax4, include_marker_labels=False);"
   ]
  }
 ],
 "metadata": {
  "kernelspec": {
   "display_name": "Python 3 (ipykernel)",
   "language": "python",
   "name": "python3"
  },
  "language_info": {
   "codemirror_mode": {
    "name": "ipython",
    "version": 3
   },
   "file_extension": ".py",
   "mimetype": "text/x-python",
   "name": "python",
   "nbconvert_exporter": "python",
   "pygments_lexer": "ipython3",
   "version": "3.12.8"
  },
  "widgets": {
   "application/vnd.jupyter.widget-state+json": {
    "state": {
     "07e93d37ed7f4e6fadb3afe4d0458e60": {
      "model_module": "@jupyter-widgets/base",
      "model_module_version": "2.0.0",
      "model_name": "LayoutModel",
      "state": {
       "_model_module": "@jupyter-widgets/base",
       "_model_module_version": "2.0.0",
       "_model_name": "LayoutModel",
       "_view_count": null,
       "_view_module": "@jupyter-widgets/base",
       "_view_module_version": "2.0.0",
       "_view_name": "LayoutView",
       "align_content": null,
       "align_items": null,
       "align_self": null,
       "border_bottom": null,
       "border_left": null,
       "border_right": null,
       "border_top": null,
       "bottom": null,
       "display": null,
       "flex": null,
       "flex_flow": null,
       "grid_area": null,
       "grid_auto_columns": null,
       "grid_auto_flow": null,
       "grid_auto_rows": null,
       "grid_column": null,
       "grid_gap": null,
       "grid_row": null,
       "grid_template_areas": null,
       "grid_template_columns": null,
       "grid_template_rows": null,
       "height": null,
       "justify_content": null,
       "justify_items": null,
       "left": null,
       "margin": null,
       "max_height": null,
       "max_width": null,
       "min_height": null,
       "min_width": null,
       "object_fit": null,
       "object_position": null,
       "order": null,
       "overflow": null,
       "padding": null,
       "right": null,
       "top": null,
       "visibility": null,
       "width": null
      }
     },
     "10aad849556848069f1334947a6c75a8": {
      "model_module": "@jupyter-widgets/controls",
      "model_module_version": "2.0.0",
      "model_name": "HTMLStyleModel",
      "state": {
       "_model_module": "@jupyter-widgets/controls",
       "_model_module_version": "2.0.0",
       "_model_name": "HTMLStyleModel",
       "_view_count": null,
       "_view_module": "@jupyter-widgets/base",
       "_view_module_version": "2.0.0",
       "_view_name": "StyleView",
       "background": null,
       "description_width": "",
       "font_size": null,
       "text_color": null
      }
     },
     "165e2a15cf8f42aaa95f7c8d0e1f8ff3": {
      "model_module": "@jupyter-widgets/controls",
      "model_module_version": "2.0.0",
      "model_name": "HTMLStyleModel",
      "state": {
       "_model_module": "@jupyter-widgets/controls",
       "_model_module_version": "2.0.0",
       "_model_name": "HTMLStyleModel",
       "_view_count": null,
       "_view_module": "@jupyter-widgets/base",
       "_view_module_version": "2.0.0",
       "_view_name": "StyleView",
       "background": null,
       "description_width": "",
       "font_size": null,
       "text_color": null
      }
     },
     "16d4ca4367a04ae4b05f7be1bda17e29": {
      "model_module": "@jupyter-widgets/base",
      "model_module_version": "2.0.0",
      "model_name": "LayoutModel",
      "state": {
       "_model_module": "@jupyter-widgets/base",
       "_model_module_version": "2.0.0",
       "_model_name": "LayoutModel",
       "_view_count": null,
       "_view_module": "@jupyter-widgets/base",
       "_view_module_version": "2.0.0",
       "_view_name": "LayoutView",
       "align_content": null,
       "align_items": null,
       "align_self": null,
       "border_bottom": null,
       "border_left": null,
       "border_right": null,
       "border_top": null,
       "bottom": null,
       "display": null,
       "flex": null,
       "flex_flow": null,
       "grid_area": null,
       "grid_auto_columns": null,
       "grid_auto_flow": null,
       "grid_auto_rows": null,
       "grid_column": null,
       "grid_gap": null,
       "grid_row": null,
       "grid_template_areas": null,
       "grid_template_columns": null,
       "grid_template_rows": null,
       "height": null,
       "justify_content": null,
       "justify_items": null,
       "left": null,
       "margin": null,
       "max_height": null,
       "max_width": null,
       "min_height": null,
       "min_width": null,
       "object_fit": null,
       "object_position": null,
       "order": null,
       "overflow": null,
       "padding": null,
       "right": null,
       "top": null,
       "visibility": null,
       "width": null
      }
     },
     "18a2bccf04c24ab480ac89f48f00a579": {
      "model_module": "@jupyter-widgets/controls",
      "model_module_version": "2.0.0",
      "model_name": "HBoxModel",
      "state": {
       "_dom_classes": [],
       "_model_module": "@jupyter-widgets/controls",
       "_model_module_version": "2.0.0",
       "_model_name": "HBoxModel",
       "_view_count": null,
       "_view_module": "@jupyter-widgets/controls",
       "_view_module_version": "2.0.0",
       "_view_name": "HBoxView",
       "box_style": "",
       "children": [
        "IPY_MODEL_f2d76541633e4e419110486334509b01",
        "IPY_MODEL_d8360e5f415846a4831117c6bb8d1c24",
        "IPY_MODEL_40bbb6f0d4ca4c9496d3a3d5c1632a6f"
       ],
       "layout": "IPY_MODEL_fa4adbd9833f467a837d37fc561d7760",
       "tabbable": null,
       "tooltip": null
      }
     },
     "40bbb6f0d4ca4c9496d3a3d5c1632a6f": {
      "model_module": "@jupyter-widgets/controls",
      "model_module_version": "2.0.0",
      "model_name": "HTMLModel",
      "state": {
       "_dom_classes": [],
       "_model_module": "@jupyter-widgets/controls",
       "_model_module_version": "2.0.0",
       "_model_name": "HTMLModel",
       "_view_count": null,
       "_view_module": "@jupyter-widgets/controls",
       "_view_module_version": "2.0.0",
       "_view_name": "HTMLView",
       "description": "",
       "description_allow_html": false,
       "layout": "IPY_MODEL_8c365589063f49b0849338e303059e8f",
       "placeholder": "​",
       "style": "IPY_MODEL_10aad849556848069f1334947a6c75a8",
       "tabbable": null,
       "tooltip": null,
       "value": " 33/33 [00:00&lt;00:00, 1587.08it/s, Name=final_particles, Z=9.4]"
      }
     },
     "8978d94685e940aea7e11401837c0ae6": {
      "model_module": "@jupyter-widgets/controls",
      "model_module_version": "2.0.0",
      "model_name": "ProgressStyleModel",
      "state": {
       "_model_module": "@jupyter-widgets/controls",
       "_model_module_version": "2.0.0",
       "_model_name": "ProgressStyleModel",
       "_view_count": null,
       "_view_module": "@jupyter-widgets/base",
       "_view_module_version": "2.0.0",
       "_view_name": "StyleView",
       "bar_color": null,
       "description_width": ""
      }
     },
     "8c365589063f49b0849338e303059e8f": {
      "model_module": "@jupyter-widgets/base",
      "model_module_version": "2.0.0",
      "model_name": "LayoutModel",
      "state": {
       "_model_module": "@jupyter-widgets/base",
       "_model_module_version": "2.0.0",
       "_model_name": "LayoutModel",
       "_view_count": null,
       "_view_module": "@jupyter-widgets/base",
       "_view_module_version": "2.0.0",
       "_view_name": "LayoutView",
       "align_content": null,
       "align_items": null,
       "align_self": null,
       "border_bottom": null,
       "border_left": null,
       "border_right": null,
       "border_top": null,
       "bottom": null,
       "display": null,
       "flex": null,
       "flex_flow": null,
       "grid_area": null,
       "grid_auto_columns": null,
       "grid_auto_flow": null,
       "grid_auto_rows": null,
       "grid_column": null,
       "grid_gap": null,
       "grid_row": null,
       "grid_template_areas": null,
       "grid_template_columns": null,
       "grid_template_rows": null,
       "height": null,
       "justify_content": null,
       "justify_items": null,
       "left": null,
       "margin": null,
       "max_height": null,
       "max_width": null,
       "min_height": null,
       "min_width": null,
       "object_fit": null,
       "object_position": null,
       "order": null,
       "overflow": null,
       "padding": null,
       "right": null,
       "top": null,
       "visibility": null,
       "width": null
      }
     },
     "d8360e5f415846a4831117c6bb8d1c24": {
      "model_module": "@jupyter-widgets/controls",
      "model_module_version": "2.0.0",
      "model_name": "FloatProgressModel",
      "state": {
       "_dom_classes": [],
       "_model_module": "@jupyter-widgets/controls",
       "_model_module_version": "2.0.0",
       "_model_name": "FloatProgressModel",
       "_view_count": null,
       "_view_module": "@jupyter-widgets/controls",
       "_view_module_version": "2.0.0",
       "_view_name": "ProgressView",
       "bar_style": "",
       "description": "",
       "description_allow_html": false,
       "layout": "IPY_MODEL_16d4ca4367a04ae4b05f7be1bda17e29",
       "max": 33.0,
       "min": 0.0,
       "orientation": "horizontal",
       "style": "IPY_MODEL_8978d94685e940aea7e11401837c0ae6",
       "tabbable": null,
       "tooltip": null,
       "value": 33.0
      }
     },
     "f2d76541633e4e419110486334509b01": {
      "model_module": "@jupyter-widgets/controls",
      "model_module_version": "2.0.0",
      "model_name": "HTMLModel",
      "state": {
       "_dom_classes": [],
       "_model_module": "@jupyter-widgets/controls",
       "_model_module_version": "2.0.0",
       "_model_name": "HTMLModel",
       "_view_count": null,
       "_view_module": "@jupyter-widgets/controls",
       "_view_module_version": "2.0.0",
       "_view_name": "HTMLView",
       "description": "",
       "description_allow_html": false,
       "layout": "IPY_MODEL_07e93d37ed7f4e6fadb3afe4d0458e60",
       "placeholder": "​",
       "style": "IPY_MODEL_165e2a15cf8f42aaa95f7c8d0e1f8ff3",
       "tabbable": null,
       "tooltip": null,
       "value": "100%"
      }
     },
     "fa4adbd9833f467a837d37fc561d7760": {
      "model_module": "@jupyter-widgets/base",
      "model_module_version": "2.0.0",
      "model_name": "LayoutModel",
      "state": {
       "_model_module": "@jupyter-widgets/base",
       "_model_module_version": "2.0.0",
       "_model_name": "LayoutModel",
       "_view_count": null,
       "_view_module": "@jupyter-widgets/base",
       "_view_module_version": "2.0.0",
       "_view_name": "LayoutView",
       "align_content": null,
       "align_items": null,
       "align_self": null,
       "border_bottom": null,
       "border_left": null,
       "border_right": null,
       "border_top": null,
       "bottom": null,
       "display": null,
       "flex": null,
       "flex_flow": null,
       "grid_area": null,
       "grid_auto_columns": null,
       "grid_auto_flow": null,
       "grid_auto_rows": null,
       "grid_column": null,
       "grid_gap": null,
       "grid_row": null,
       "grid_template_areas": null,
       "grid_template_columns": null,
       "grid_template_rows": null,
       "height": null,
       "justify_content": null,
       "justify_items": null,
       "left": null,
       "margin": null,
       "max_height": null,
       "max_width": null,
       "min_height": null,
       "min_width": null,
       "object_fit": null,
       "object_position": null,
       "order": null,
       "overflow": null,
       "padding": null,
       "right": null,
       "top": null,
       "visibility": "hidden",
       "width": null
      }
     }
    },
    "version_major": 2,
    "version_minor": 0
   }
  }
 },
 "nbformat": 4,
 "nbformat_minor": 4
}
