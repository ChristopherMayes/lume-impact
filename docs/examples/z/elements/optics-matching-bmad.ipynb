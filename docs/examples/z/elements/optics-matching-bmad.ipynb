{
 "cells": [
  {
   "cell_type": "markdown",
   "metadata": {},
   "source": [
    "# optics-matching example - Comparing to Bmad"
   ]
  },
  {
   "cell_type": "code",
   "execution_count": null,
   "metadata": {},
   "outputs": [],
   "source": [
    "import numpy as np\n",
    "import impact.z as IZ\n",
    "from impact.z.interfaces.bmad import export_particles as tao_export_particles\n",
    "from pytao import Tao\n",
    "\n",
    "from pmd_beamphysics import single_particle\n",
    "from pmd_beamphysics.units import mec2\n",
    "\n",
    "from impact.tests.z.conftest import bmad_files"
   ]
  },
  {
   "cell_type": "code",
   "execution_count": null,
   "metadata": {},
   "outputs": [],
   "source": [
    "reference_particle_mass = mec2\n",
    "energy = 10e6\n",
    "gamma = energy / mec2\n",
    "sigma_x0 = 0.001\n",
    "norm_emit_x = 1e-12\n",
    "norm_emit_y = 1e-12\n",
    "beta_x = sigma_x0**2 * gamma / norm_emit_x\n",
    "beta_y = beta_x\n",
    "\n",
    "pz = np.sqrt(energy**2 - mec2**2)\n",
    "\n",
    "# Should give beta_x = 19569511.835591838 m\n",
    "P0 = single_particle(x=0.0, pz=pz, species=\"electron\")"
   ]
  },
  {
   "cell_type": "code",
   "execution_count": null,
   "metadata": {},
   "outputs": [],
   "source": [
    "!cat $bmad_files/optics_matching.bmad"
   ]
  },
  {
   "cell_type": "code",
   "execution_count": null,
   "metadata": {},
   "outputs": [],
   "source": [
    "tao = Tao(lattice_file=bmad_files / \"optics_matching.bmad\", plot=\"mpl\")"
   ]
  },
  {
   "cell_type": "code",
   "execution_count": null,
   "metadata": {},
   "outputs": [],
   "source": [
    "tao.plot(\"beta\", include_layout=False)"
   ]
  },
  {
   "cell_type": "code",
   "execution_count": null,
   "metadata": {},
   "outputs": [],
   "source": [
    "P0.write(\"drift_initial_particles.h5\")\n",
    "tao.cmds(\n",
    "    [\n",
    "        \"set beam_init position_file = drift_initial_particles.h5\",\n",
    "        f\"set beam_init n_particle = {len(P0)}\",\n",
    "        f\"set beam_init bunch_charge = {P0.charge}\",\n",
    "        \"set beam_init saved_at = *\",\n",
    "        \"set global track_type = single\",\n",
    "        \"set global track_type = beam\",\n",
    "    ]\n",
    ")"
   ]
  },
  {
   "cell_type": "code",
   "execution_count": null,
   "metadata": {},
   "outputs": [],
   "source": [
    "tao.plot(\"beta\", include_layout=False)"
   ]
  },
  {
   "cell_type": "code",
   "execution_count": null,
   "metadata": {},
   "outputs": [],
   "source": [
    "# TODO write header showing repr as well\n",
    "input = IZ.ImpactZInput.from_tao(tao)"
   ]
  },
  {
   "cell_type": "code",
   "execution_count": null,
   "metadata": {},
   "outputs": [],
   "source": [
    "input.write_particles_at([], every=IZ.Drift)"
   ]
  },
  {
   "cell_type": "code",
   "execution_count": null,
   "metadata": {},
   "outputs": [],
   "source": [
    "input.write_fulls"
   ]
  },
  {
   "cell_type": "code",
   "execution_count": null,
   "metadata": {},
   "outputs": [],
   "source": [
    "input.lattice"
   ]
  },
  {
   "cell_type": "code",
   "execution_count": null,
   "metadata": {},
   "outputs": [],
   "source": [
    "len(input.lattice)"
   ]
  },
  {
   "cell_type": "code",
   "execution_count": null,
   "metadata": {},
   "outputs": [],
   "source": [
    "# Verify the ParticleGroup we dumped from Tao is the same one we specify as initial_particles\n",
    "assert input.initial_particles == P0"
   ]
  },
  {
   "cell_type": "code",
   "execution_count": null,
   "metadata": {},
   "outputs": [],
   "source": [
    "input.space_charge_off()\n",
    "# input.space_charge_on(current=1.0)"
   ]
  },
  {
   "cell_type": "code",
   "execution_count": null,
   "metadata": {},
   "outputs": [],
   "source": [
    "input.current_list = [1e9] * 20\n",
    "input.particle_list = [1e9] * 20\n",
    "input.charge_over_mass_list = [1e9] * 20"
   ]
  },
  {
   "cell_type": "code",
   "execution_count": null,
   "metadata": {},
   "outputs": [],
   "source": [
    "I = IZ.ImpactZ(input, use_temp_dir=False, workdir=\"./tmp\", initial_particles=P0)"
   ]
  },
  {
   "cell_type": "code",
   "execution_count": null,
   "metadata": {},
   "outputs": [],
   "source": [
    "I.input.reference_frequency = 1\n",
    "I.input.n_particle = len(P0)"
   ]
  },
  {
   "cell_type": "code",
   "execution_count": null,
   "metadata": {},
   "outputs": [],
   "source": [
    "output = I.run(verbose=True)"
   ]
  },
  {
   "cell_type": "code",
   "execution_count": null,
   "metadata": {},
   "outputs": [],
   "source": []
  },
  {
   "cell_type": "code",
   "execution_count": null,
   "metadata": {},
   "outputs": [],
   "source": [
    "I.input"
   ]
  },
  {
   "cell_type": "code",
   "execution_count": null,
   "metadata": {},
   "outputs": [],
   "source": [
    "I.output"
   ]
  },
  {
   "cell_type": "code",
   "execution_count": null,
   "metadata": {},
   "outputs": [],
   "source": [
    "Pin = I.output.particles[\"initial_particles\"]"
   ]
  },
  {
   "cell_type": "code",
   "execution_count": null,
   "metadata": {},
   "outputs": [],
   "source": [
    "# Bmad\n",
    "P0.data"
   ]
  },
  {
   "cell_type": "code",
   "execution_count": null,
   "metadata": {},
   "outputs": [],
   "source": [
    "Pin.data"
   ]
  },
  {
   "cell_type": "code",
   "execution_count": null,
   "metadata": {},
   "outputs": [],
   "source": [
    "# Verify that ImpactZ read and wrote our initial particles correctly:\n",
    "assert P0 == Pin"
   ]
  },
  {
   "cell_type": "code",
   "execution_count": null,
   "metadata": {},
   "outputs": [],
   "source": [
    "P_raw = I.output.particles_raw[\"final_particles\"]\n",
    "P = I.output.particles[\"final_particles\"]"
   ]
  },
  {
   "cell_type": "code",
   "execution_count": null,
   "metadata": {},
   "outputs": [],
   "source": [
    "P_raw"
   ]
  },
  {
   "cell_type": "code",
   "execution_count": null,
   "metadata": {},
   "outputs": [],
   "source": [
    "P.data"
   ]
  },
  {
   "cell_type": "code",
   "execution_count": null,
   "metadata": {},
   "outputs": [],
   "source": [
    "Ptao = tao_export_particles(tao, \"END\")"
   ]
  },
  {
   "cell_type": "code",
   "execution_count": null,
   "metadata": {},
   "outputs": [],
   "source": [
    "Ptao.data"
   ]
  },
  {
   "cell_type": "code",
   "execution_count": null,
   "metadata": {},
   "outputs": [],
   "source": [
    "import matplotlib.pyplot as plt\n",
    "\n",
    "stats = I.output.stats\n",
    "z = stats.z\n",
    "x = stats.mean_x\n",
    "y = stats.mean_y\n",
    "\n",
    "x_tao = tao.bunch_comb(\"x\")\n",
    "y_tao = tao.bunch_comb(\"y\")\n",
    "s_tao = tao.bunch_comb(\"s\")\n",
    "\n",
    "fig, (ax0, ax1) = plt.subplots(2, figsize=(8, 4))\n",
    "\n",
    "ax0.plot(z, x, label=\"Impact-Z\")\n",
    "ax0.plot(s_tao, x_tao, \"--\", label=\"Tao\")\n",
    "ax0.set_ylabel(r\"$x$ (m)\")\n",
    "\n",
    "ax1.plot(z, y, label=\"Impact-Z\")\n",
    "ax1.plot(s_tao, y_tao, \"--\", label=\"Tao\")\n",
    "ax1.set_ylabel(r\"$y$ (m)\")\n",
    "ax1.set_xlabel(r\"$s$ (m)\")\n",
    "\n",
    "plt.legend();"
   ]
  }
 ],
 "metadata": {
  "kernelspec": {
   "display_name": "Python 3 (ipykernel)",
   "language": "python",
   "name": "python3"
  },
  "language_info": {
   "codemirror_mode": {
    "name": "ipython",
    "version": 3
   },
   "file_extension": ".py",
   "mimetype": "text/x-python",
   "name": "python",
   "nbconvert_exporter": "python",
   "pygments_lexer": "ipython3",
   "version": "3.12.8"
  }
 },
 "nbformat": 4,
 "nbformat_minor": 4
}
