{
 "cells": [
  {
   "cell_type": "markdown",
   "metadata": {},
   "source": [
    "# Drift - Comparing to Bmad\n",
    "\n",
    "Simple 1 m drift."
   ]
  },
  {
   "cell_type": "code",
   "execution_count": null,
   "metadata": {
    "execution": {
     "iopub.execute_input": "2025-02-20T21:33:09.291418Z",
     "iopub.status.busy": "2025-02-20T21:33:09.291082Z",
     "iopub.status.idle": "2025-02-20T21:33:10.457005Z",
     "shell.execute_reply": "2025-02-20T21:33:10.456599Z"
    }
   },
   "outputs": [],
   "source": [
    "import matplotlib.pyplot as plt\n",
    "import numpy as np\n",
    "from pmd_beamphysics import single_particle\n",
    "from pmd_beamphysics.units import mec2\n",
    "from pytao import Tao\n",
    "\n",
    "import impact.z as IZ\n",
    "from impact.tests.z.conftest import bmad_files\n",
    "from impact.z.interfaces.bmad import export_particles as tao_export_particles"
   ]
  },
  {
   "cell_type": "code",
   "execution_count": null,
   "metadata": {
    "execution": {
     "iopub.execute_input": "2025-02-20T21:33:10.458611Z",
     "iopub.status.busy": "2025-02-20T21:33:10.458444Z",
     "iopub.status.idle": "2025-02-20T21:33:10.460610Z",
     "shell.execute_reply": "2025-02-20T21:33:10.460372Z"
    }
   },
   "outputs": [],
   "source": [
    "x0 = 0.001\n",
    "y0 = 0.002\n",
    "z0 = 0  # By definition\n",
    "t0 = 0.003\n",
    "px0 = 1e6\n",
    "py0 = 2e6\n",
    "energy0 = 10e6\n",
    "pz0 = np.sqrt(energy0**2 - px0**2 - py0**2 - mec2**2)\n",
    "\n",
    "P0 = single_particle(px=px0, py=py0, pz=pz0, x=x0, y=y0, z=z0, t=t0)"
   ]
  },
  {
   "cell_type": "code",
   "execution_count": null,
   "metadata": {
    "execution": {
     "iopub.execute_input": "2025-02-20T21:33:10.461773Z",
     "iopub.status.busy": "2025-02-20T21:33:10.461689Z",
     "iopub.status.idle": "2025-02-20T21:33:10.586026Z",
     "shell.execute_reply": "2025-02-20T21:33:10.585471Z"
    }
   },
   "outputs": [],
   "source": [
    "!cat $bmad_files/drift.bmad"
   ]
  },
  {
   "cell_type": "code",
   "execution_count": null,
   "metadata": {
    "execution": {
     "iopub.execute_input": "2025-02-20T21:33:10.587749Z",
     "iopub.status.busy": "2025-02-20T21:33:10.587595Z",
     "iopub.status.idle": "2025-02-20T21:33:10.626879Z",
     "shell.execute_reply": "2025-02-20T21:33:10.626588Z"
    }
   },
   "outputs": [],
   "source": [
    "tao = Tao(lattice_file=bmad_files / \"drift.bmad\", plot=\"mpl\")"
   ]
  },
  {
   "cell_type": "code",
   "execution_count": null,
   "metadata": {
    "execution": {
     "iopub.execute_input": "2025-02-20T21:33:10.628216Z",
     "iopub.status.busy": "2025-02-20T21:33:10.628133Z",
     "iopub.status.idle": "2025-02-20T21:33:10.831242Z",
     "shell.execute_reply": "2025-02-20T21:33:10.830840Z"
    }
   },
   "outputs": [],
   "source": [
    "P0.write(\"drift_initial_particles.h5\")\n",
    "for cmd in [\n",
    "    \"set beam_init position_file = drift_initial_particles.h5\",\n",
    "    f\"set beam_init n_particle = {len(P0)}\",\n",
    "    f\"set beam_init bunch_charge = {P0.charge}\",\n",
    "    \"set beam_init saved_at = beginning d\",\n",
    "    \"set global track_type = single\",\n",
    "    \"set global track_type = beam\",\n",
    "]:\n",
    "    res = tao.cmd(cmd)\n",
    "    if res:\n",
    "        print(res)"
   ]
  },
  {
   "cell_type": "code",
   "execution_count": null,
   "metadata": {
    "execution": {
     "iopub.execute_input": "2025-02-20T21:33:10.832647Z",
     "iopub.status.busy": "2025-02-20T21:33:10.832557Z",
     "iopub.status.idle": "2025-02-20T21:33:11.061721Z",
     "shell.execute_reply": "2025-02-20T21:33:11.061409Z"
    }
   },
   "outputs": [],
   "source": [
    "tao.plot(\"beta\", include_layout=False)"
   ]
  },
  {
   "cell_type": "code",
   "execution_count": null,
   "metadata": {
    "execution": {
     "iopub.execute_input": "2025-02-20T21:33:11.063032Z",
     "iopub.status.busy": "2025-02-20T21:33:11.062933Z",
     "iopub.status.idle": "2025-02-20T21:33:11.072469Z",
     "shell.execute_reply": "2025-02-20T21:33:11.072237Z"
    }
   },
   "outputs": [],
   "source": [
    "I = IZ.ImpactZ.from_tao(\n",
    "    tao, use_temp_dir=False, workdir=\"./drift-bmad\", initial_particles=P0\n",
    ")"
   ]
  },
  {
   "cell_type": "code",
   "execution_count": null,
   "metadata": {
    "execution": {
     "iopub.execute_input": "2025-02-20T21:33:11.073581Z",
     "iopub.status.busy": "2025-02-20T21:33:11.073504Z",
     "iopub.status.idle": "2025-02-20T21:33:11.135286Z",
     "shell.execute_reply": "2025-02-20T21:33:11.134983Z"
    }
   },
   "outputs": [],
   "source": [
    "output = I.run()"
   ]
  },
  {
   "cell_type": "code",
   "execution_count": null,
   "metadata": {
    "execution": {
     "iopub.execute_input": "2025-02-20T21:33:11.136542Z",
     "iopub.status.busy": "2025-02-20T21:33:11.136421Z",
     "iopub.status.idle": "2025-02-20T21:33:11.148840Z",
     "shell.execute_reply": "2025-02-20T21:33:11.148607Z"
    }
   },
   "outputs": [],
   "source": [
    "I.input"
   ]
  },
  {
   "cell_type": "code",
   "execution_count": null,
   "metadata": {
    "execution": {
     "iopub.execute_input": "2025-02-20T21:33:11.149946Z",
     "iopub.status.busy": "2025-02-20T21:33:11.149868Z",
     "iopub.status.idle": "2025-02-20T21:33:11.222052Z",
     "shell.execute_reply": "2025-02-20T21:33:11.221768Z"
    }
   },
   "outputs": [],
   "source": [
    "I.output"
   ]
  },
  {
   "cell_type": "code",
   "execution_count": null,
   "metadata": {
    "execution": {
     "iopub.execute_input": "2025-02-20T21:33:11.223248Z",
     "iopub.status.busy": "2025-02-20T21:33:11.223134Z",
     "iopub.status.idle": "2025-02-20T21:33:11.229725Z",
     "shell.execute_reply": "2025-02-20T21:33:11.229460Z"
    }
   },
   "outputs": [],
   "source": [
    "P = I.output.particles[\"final_particles\"]\n",
    "Ptao = tao_export_particles(tao, \"END\")"
   ]
  },
  {
   "cell_type": "code",
   "execution_count": null,
   "metadata": {
    "execution": {
     "iopub.execute_input": "2025-02-20T21:33:11.230947Z",
     "iopub.status.busy": "2025-02-20T21:33:11.230863Z",
     "iopub.status.idle": "2025-02-20T21:33:11.335289Z",
     "shell.execute_reply": "2025-02-20T21:33:11.335046Z"
    }
   },
   "outputs": [],
   "source": [
    "stats = I.output.stats\n",
    "z = stats.z\n",
    "x = stats.mean_x\n",
    "y = stats.mean_y\n",
    "\n",
    "x_tao = tao.bunch_comb(\"x\")\n",
    "y_tao = tao.bunch_comb(\"y\")\n",
    "s_tao = tao.bunch_comb(\"s\")\n",
    "\n",
    "fig, (ax1, ax2) = plt.subplots(2, figsize=(8, 4))\n",
    "ax1.plot(z, x, label=\"Impact-Z\")\n",
    "ax1.plot(s_tao, x_tao, \"--\", label=\"Tao\")\n",
    "ax1.set_ylabel(r\"$x$ (m)\")\n",
    "\n",
    "ax2.plot(z, y, label=\"Impact-Z\")\n",
    "ax2.plot(s_tao, y_tao, \"--\", label=\"Tao\")\n",
    "ax2.set_ylabel(r\"$y$ (m)\")\n",
    "\n",
    "ax2.set_xlabel(r\"$s$ (m)\")\n",
    "\n",
    "plt.legend();"
   ]
  }
 ],
 "metadata": {
  "kernelspec": {
   "display_name": "Python 3 (ipykernel)",
   "language": "python",
   "name": "python3"
  },
  "language_info": {
   "codemirror_mode": {
    "name": "ipython",
    "version": 3
   },
   "file_extension": ".py",
   "mimetype": "text/x-python",
   "name": "python",
   "nbconvert_exporter": "python",
   "pygments_lexer": "ipython3",
   "version": "3.12.8"
  },
  "widgets": {
   "application/vnd.jupyter.widget-state+json": {
    "state": {
     "1755a65ce66549f99762162438f96729": {
      "model_module": "@jupyter-widgets/base",
      "model_module_version": "2.0.0",
      "model_name": "LayoutModel",
      "state": {
       "_model_module": "@jupyter-widgets/base",
       "_model_module_version": "2.0.0",
       "_model_name": "LayoutModel",
       "_view_count": null,
       "_view_module": "@jupyter-widgets/base",
       "_view_module_version": "2.0.0",
       "_view_name": "LayoutView",
       "align_content": null,
       "align_items": null,
       "align_self": null,
       "border_bottom": null,
       "border_left": null,
       "border_right": null,
       "border_top": null,
       "bottom": null,
       "display": null,
       "flex": null,
       "flex_flow": null,
       "grid_area": null,
       "grid_auto_columns": null,
       "grid_auto_flow": null,
       "grid_auto_rows": null,
       "grid_column": null,
       "grid_gap": null,
       "grid_row": null,
       "grid_template_areas": null,
       "grid_template_columns": null,
       "grid_template_rows": null,
       "height": null,
       "justify_content": null,
       "justify_items": null,
       "left": null,
       "margin": null,
       "max_height": null,
       "max_width": null,
       "min_height": null,
       "min_width": null,
       "object_fit": null,
       "object_position": null,
       "order": null,
       "overflow": null,
       "padding": null,
       "right": null,
       "top": null,
       "visibility": null,
       "width": null
      }
     },
     "17bea5a256764a97ba3797e98780eb5e": {
      "model_module": "@jupyter-widgets/controls",
      "model_module_version": "2.0.0",
      "model_name": "HTMLStyleModel",
      "state": {
       "_model_module": "@jupyter-widgets/controls",
       "_model_module_version": "2.0.0",
       "_model_name": "HTMLStyleModel",
       "_view_count": null,
       "_view_module": "@jupyter-widgets/base",
       "_view_module_version": "2.0.0",
       "_view_name": "StyleView",
       "background": null,
       "description_width": "",
       "font_size": null,
       "text_color": null
      }
     },
     "2b7c2d3e59cc452f9383608341ff7f13": {
      "model_module": "@jupyter-widgets/controls",
      "model_module_version": "2.0.0",
      "model_name": "HTMLStyleModel",
      "state": {
       "_model_module": "@jupyter-widgets/controls",
       "_model_module_version": "2.0.0",
       "_model_name": "HTMLStyleModel",
       "_view_count": null,
       "_view_module": "@jupyter-widgets/base",
       "_view_module_version": "2.0.0",
       "_view_name": "StyleView",
       "background": null,
       "description_width": "",
       "font_size": null,
       "text_color": null
      }
     },
     "465c8ad566754833b0900e64e3923fa9": {
      "model_module": "@jupyter-widgets/controls",
      "model_module_version": "2.0.0",
      "model_name": "HTMLModel",
      "state": {
       "_dom_classes": [],
       "_model_module": "@jupyter-widgets/controls",
       "_model_module_version": "2.0.0",
       "_model_name": "HTMLModel",
       "_view_count": null,
       "_view_module": "@jupyter-widgets/controls",
       "_view_module_version": "2.0.0",
       "_view_name": "HTMLView",
       "description": "",
       "description_allow_html": false,
       "layout": "IPY_MODEL_1755a65ce66549f99762162438f96729",
       "placeholder": "​",
       "style": "IPY_MODEL_2b7c2d3e59cc452f9383608341ff7f13",
       "tabbable": null,
       "tooltip": null,
       "value": "100%"
      }
     },
     "83eae15fa25c465bbffa163f83c47ea6": {
      "model_module": "@jupyter-widgets/base",
      "model_module_version": "2.0.0",
      "model_name": "LayoutModel",
      "state": {
       "_model_module": "@jupyter-widgets/base",
       "_model_module_version": "2.0.0",
       "_model_name": "LayoutModel",
       "_view_count": null,
       "_view_module": "@jupyter-widgets/base",
       "_view_module_version": "2.0.0",
       "_view_name": "LayoutView",
       "align_content": null,
       "align_items": null,
       "align_self": null,
       "border_bottom": null,
       "border_left": null,
       "border_right": null,
       "border_top": null,
       "bottom": null,
       "display": null,
       "flex": null,
       "flex_flow": null,
       "grid_area": null,
       "grid_auto_columns": null,
       "grid_auto_flow": null,
       "grid_auto_rows": null,
       "grid_column": null,
       "grid_gap": null,
       "grid_row": null,
       "grid_template_areas": null,
       "grid_template_columns": null,
       "grid_template_rows": null,
       "height": null,
       "justify_content": null,
       "justify_items": null,
       "left": null,
       "margin": null,
       "max_height": null,
       "max_width": null,
       "min_height": null,
       "min_width": null,
       "object_fit": null,
       "object_position": null,
       "order": null,
       "overflow": null,
       "padding": null,
       "right": null,
       "top": null,
       "visibility": null,
       "width": null
      }
     },
     "8f2b2730e9434e75aecd5aac9e5806a0": {
      "model_module": "@jupyter-widgets/controls",
      "model_module_version": "2.0.0",
      "model_name": "HTMLModel",
      "state": {
       "_dom_classes": [],
       "_model_module": "@jupyter-widgets/controls",
       "_model_module_version": "2.0.0",
       "_model_name": "HTMLModel",
       "_view_count": null,
       "_view_module": "@jupyter-widgets/controls",
       "_view_module_version": "2.0.0",
       "_view_name": "HTMLView",
       "description": "",
       "description_allow_html": false,
       "layout": "IPY_MODEL_83eae15fa25c465bbffa163f83c47ea6",
       "placeholder": "​",
       "style": "IPY_MODEL_17bea5a256764a97ba3797e98780eb5e",
       "tabbable": null,
       "tooltip": null,
       "value": " 4/4 [00:00&lt;00:00, 229.32it/s, Name=final_particles, Z=1]"
      }
     },
     "a5ad2a1d442e4e5eb28d56c810c776d5": {
      "model_module": "@jupyter-widgets/controls",
      "model_module_version": "2.0.0",
      "model_name": "ProgressStyleModel",
      "state": {
       "_model_module": "@jupyter-widgets/controls",
       "_model_module_version": "2.0.0",
       "_model_name": "ProgressStyleModel",
       "_view_count": null,
       "_view_module": "@jupyter-widgets/base",
       "_view_module_version": "2.0.0",
       "_view_name": "StyleView",
       "bar_color": null,
       "description_width": ""
      }
     },
     "bdb312624d664cba9f6e2e07c64c4265": {
      "model_module": "@jupyter-widgets/base",
      "model_module_version": "2.0.0",
      "model_name": "LayoutModel",
      "state": {
       "_model_module": "@jupyter-widgets/base",
       "_model_module_version": "2.0.0",
       "_model_name": "LayoutModel",
       "_view_count": null,
       "_view_module": "@jupyter-widgets/base",
       "_view_module_version": "2.0.0",
       "_view_name": "LayoutView",
       "align_content": null,
       "align_items": null,
       "align_self": null,
       "border_bottom": null,
       "border_left": null,
       "border_right": null,
       "border_top": null,
       "bottom": null,
       "display": null,
       "flex": null,
       "flex_flow": null,
       "grid_area": null,
       "grid_auto_columns": null,
       "grid_auto_flow": null,
       "grid_auto_rows": null,
       "grid_column": null,
       "grid_gap": null,
       "grid_row": null,
       "grid_template_areas": null,
       "grid_template_columns": null,
       "grid_template_rows": null,
       "height": null,
       "justify_content": null,
       "justify_items": null,
       "left": null,
       "margin": null,
       "max_height": null,
       "max_width": null,
       "min_height": null,
       "min_width": null,
       "object_fit": null,
       "object_position": null,
       "order": null,
       "overflow": null,
       "padding": null,
       "right": null,
       "top": null,
       "visibility": "hidden",
       "width": null
      }
     },
     "beafc9b4707b4ebf826ca4366d24b224": {
      "model_module": "@jupyter-widgets/controls",
      "model_module_version": "2.0.0",
      "model_name": "HBoxModel",
      "state": {
       "_dom_classes": [],
       "_model_module": "@jupyter-widgets/controls",
       "_model_module_version": "2.0.0",
       "_model_name": "HBoxModel",
       "_view_count": null,
       "_view_module": "@jupyter-widgets/controls",
       "_view_module_version": "2.0.0",
       "_view_name": "HBoxView",
       "box_style": "",
       "children": [
        "IPY_MODEL_465c8ad566754833b0900e64e3923fa9",
        "IPY_MODEL_e2437b02ecb74330b8124a5d92a909b3",
        "IPY_MODEL_8f2b2730e9434e75aecd5aac9e5806a0"
       ],
       "layout": "IPY_MODEL_bdb312624d664cba9f6e2e07c64c4265",
       "tabbable": null,
       "tooltip": null
      }
     },
     "c9818eac1a80429abde597038d353a9d": {
      "model_module": "@jupyter-widgets/base",
      "model_module_version": "2.0.0",
      "model_name": "LayoutModel",
      "state": {
       "_model_module": "@jupyter-widgets/base",
       "_model_module_version": "2.0.0",
       "_model_name": "LayoutModel",
       "_view_count": null,
       "_view_module": "@jupyter-widgets/base",
       "_view_module_version": "2.0.0",
       "_view_name": "LayoutView",
       "align_content": null,
       "align_items": null,
       "align_self": null,
       "border_bottom": null,
       "border_left": null,
       "border_right": null,
       "border_top": null,
       "bottom": null,
       "display": null,
       "flex": null,
       "flex_flow": null,
       "grid_area": null,
       "grid_auto_columns": null,
       "grid_auto_flow": null,
       "grid_auto_rows": null,
       "grid_column": null,
       "grid_gap": null,
       "grid_row": null,
       "grid_template_areas": null,
       "grid_template_columns": null,
       "grid_template_rows": null,
       "height": null,
       "justify_content": null,
       "justify_items": null,
       "left": null,
       "margin": null,
       "max_height": null,
       "max_width": null,
       "min_height": null,
       "min_width": null,
       "object_fit": null,
       "object_position": null,
       "order": null,
       "overflow": null,
       "padding": null,
       "right": null,
       "top": null,
       "visibility": null,
       "width": null
      }
     },
     "e2437b02ecb74330b8124a5d92a909b3": {
      "model_module": "@jupyter-widgets/controls",
      "model_module_version": "2.0.0",
      "model_name": "FloatProgressModel",
      "state": {
       "_dom_classes": [],
       "_model_module": "@jupyter-widgets/controls",
       "_model_module_version": "2.0.0",
       "_model_name": "FloatProgressModel",
       "_view_count": null,
       "_view_module": "@jupyter-widgets/controls",
       "_view_module_version": "2.0.0",
       "_view_name": "ProgressView",
       "bar_style": "",
       "description": "",
       "description_allow_html": false,
       "layout": "IPY_MODEL_c9818eac1a80429abde597038d353a9d",
       "max": 4.0,
       "min": 0.0,
       "orientation": "horizontal",
       "style": "IPY_MODEL_a5ad2a1d442e4e5eb28d56c810c776d5",
       "tabbable": null,
       "tooltip": null,
       "value": 4.0
      }
     }
    },
    "version_major": 2,
    "version_minor": 0
   }
  }
 },
 "nbformat": 4,
 "nbformat_minor": 4
}
