{
 "cells": [
  {
   "cell_type": "markdown",
   "metadata": {},
   "source": [
    "# Drift - Comparing to Bmad\n",
    "\n",
    "Simple 1 m drift."
   ]
  },
  {
   "cell_type": "code",
   "execution_count": null,
   "metadata": {},
   "outputs": [],
   "source": [
    "import numpy as np\n",
    "import impact.z as IZ\n",
    "from impact.z.interfaces.bmad import export_particles as tao_export_particles\n",
    "from pytao import Tao\n",
    "\n",
    "from pmd_beamphysics import single_particle\n",
    "from pmd_beamphysics.units import mec2\n",
    "import matplotlib.pyplot as plt\n",
    "\n",
    "from impact.tests.z.conftest import bmad_files"
   ]
  },
  {
   "cell_type": "code",
   "execution_count": null,
   "metadata": {},
   "outputs": [],
   "source": [
    "x0 = 0.001\n",
    "y0 = 0.002\n",
    "z0 = 0  # By definition\n",
    "t0 = 0.003\n",
    "px0 = 1e6\n",
    "py0 = 2e6\n",
    "energy0 = 10e6\n",
    "pz0 = np.sqrt(energy0**2 - px0**2 - py0**2 - mec2**2)\n",
    "\n",
    "P0 = single_particle(px=px0, py=py0, pz=pz0, x=x0, y=y0, z=z0, t=t0)"
   ]
  },
  {
   "cell_type": "code",
   "execution_count": null,
   "metadata": {},
   "outputs": [],
   "source": [
    "!cat $bmad_files/drift.bmad"
   ]
  },
  {
   "cell_type": "code",
   "execution_count": null,
   "metadata": {},
   "outputs": [],
   "source": [
    "tao = Tao(lattice_file=bmad_files / \"drift.bmad\", plot=\"mpl\")"
   ]
  },
  {
   "cell_type": "code",
   "execution_count": null,
   "metadata": {},
   "outputs": [],
   "source": [
    "tao.plot(\"beta\", include_layout=False)"
   ]
  },
  {
   "cell_type": "code",
   "execution_count": null,
   "metadata": {},
   "outputs": [],
   "source": [
    "P0.write(\"drift_initial_particles.h5\")\n",
    "tao.cmds(\n",
    "    [\n",
    "        \"set beam_init position_file = drift_initial_particles.h5\",\n",
    "        f\"set beam_init n_particle = {len(P0)}\",\n",
    "        f\"set beam_init bunch_charge = {P0.charge}\",\n",
    "        \"set beam_init saved_at = beginning d\",\n",
    "        \"set global track_type = single\",\n",
    "        \"set global track_type = beam\",\n",
    "    ]\n",
    ")"
   ]
  },
  {
   "cell_type": "code",
   "execution_count": null,
   "metadata": {},
   "outputs": [],
   "source": [
    "tao.plot(\"beta\", include_layout=False)"
   ]
  },
  {
   "cell_type": "code",
   "execution_count": null,
   "metadata": {},
   "outputs": [],
   "source": [
    "# TODO write header showing repr as well\n",
    "input = IZ.ImpactZInput.from_tao(tao)"
   ]
  },
  {
   "cell_type": "code",
   "execution_count": null,
   "metadata": {},
   "outputs": [],
   "source": [
    "# Verify the ParticleGroup we dumped from Tao is the same one we specify as initial_particles\n",
    "assert input.initial_particles == P0"
   ]
  },
  {
   "cell_type": "code",
   "execution_count": null,
   "metadata": {},
   "outputs": [],
   "source": [
    "input.space_charge_off()\n",
    "# input.space_charge_on(current=1.0)"
   ]
  },
  {
   "cell_type": "code",
   "execution_count": null,
   "metadata": {},
   "outputs": [],
   "source": [
    "I = IZ.ImpactZ(input, use_temp_dir=False, workdir=\"./tmp\", initial_particles=P0)"
   ]
  },
  {
   "cell_type": "code",
   "execution_count": null,
   "metadata": {},
   "outputs": [],
   "source": [
    "I.input.reference_frequency = 1\n",
    "I.input.n_particle = len(P0)"
   ]
  },
  {
   "cell_type": "code",
   "execution_count": null,
   "metadata": {},
   "outputs": [],
   "source": [
    "output = I.run(verbose=True)"
   ]
  },
  {
   "cell_type": "code",
   "execution_count": null,
   "metadata": {},
   "outputs": [],
   "source": [
    "I.input"
   ]
  },
  {
   "cell_type": "code",
   "execution_count": null,
   "metadata": {},
   "outputs": [],
   "source": [
    "I.output"
   ]
  },
  {
   "cell_type": "code",
   "execution_count": null,
   "metadata": {},
   "outputs": [],
   "source": [
    "Pin = I.output.particles[\"initial_particles\"]"
   ]
  },
  {
   "cell_type": "code",
   "execution_count": null,
   "metadata": {},
   "outputs": [],
   "source": [
    "# Bmad\n",
    "P0.data"
   ]
  },
  {
   "cell_type": "code",
   "execution_count": null,
   "metadata": {},
   "outputs": [],
   "source": [
    "import pathlib\n",
    "from impact.z import ImpactZParticles\n",
    "\n",
    "P0_z_written = ImpactZParticles.from_file(pathlib.Path(I.workdir) / \"particle.in\")\n",
    "P0_written = P0_z_written.to_particle_group(\n",
    "    reference_frequency=I.input.reference_frequency,\n",
    "    reference_kinetic_energy=I.input.reference_kinetic_energy,\n",
    "    phase_reference=0,\n",
    ")\n",
    "P0_written.data"
   ]
  },
  {
   "cell_type": "code",
   "execution_count": null,
   "metadata": {},
   "outputs": [],
   "source": [
    "# This is what ImpactZ writes as its initial particles\n",
    "Pin.data"
   ]
  },
  {
   "cell_type": "code",
   "execution_count": null,
   "metadata": {},
   "outputs": [],
   "source": [
    "# Verify that ImpactZ read and wrote our initial particles correctly:\n",
    "assert P0 == Pin"
   ]
  },
  {
   "cell_type": "code",
   "execution_count": null,
   "metadata": {},
   "outputs": [],
   "source": [
    "P_raw = I.output.particles_raw[\"final_particles\"]\n",
    "P = I.output.particles[\"final_particles\"]"
   ]
  },
  {
   "cell_type": "code",
   "execution_count": null,
   "metadata": {},
   "outputs": [],
   "source": [
    "P_raw"
   ]
  },
  {
   "cell_type": "code",
   "execution_count": null,
   "metadata": {},
   "outputs": [],
   "source": [
    "P.data"
   ]
  },
  {
   "cell_type": "code",
   "execution_count": null,
   "metadata": {},
   "outputs": [],
   "source": [
    "Ptao = tao_export_particles(tao, \"END\")"
   ]
  },
  {
   "cell_type": "code",
   "execution_count": null,
   "metadata": {},
   "outputs": [],
   "source": [
    "Ptao.data"
   ]
  },
  {
   "cell_type": "code",
   "execution_count": null,
   "metadata": {},
   "outputs": [],
   "source": [
    "stats = I.output.stats\n",
    "z = stats.z\n",
    "x = stats.mean_x\n",
    "y = stats.mean_y\n",
    "\n",
    "x_tao = tao.bunch_comb(\"x\")\n",
    "y_tao = tao.bunch_comb(\"y\")\n",
    "s_tao = tao.bunch_comb(\"s\")\n",
    "\n",
    "fig, axes = plt.subplots(2, figsize=(8, 4))\n",
    "ax = axes[0]\n",
    "ax.plot(z, x, label=\"Impact-Z\")\n",
    "ax.plot(s_tao, x_tao, \"--\", label=\"Tao\")\n",
    "ax.set_ylabel(r\"$x$ (m)\")\n",
    "\n",
    "\n",
    "ax = axes[1]\n",
    "ax.plot(z, y, label=\"Impact-Z\")\n",
    "ax.plot(s_tao, y_tao, \"--\", label=\"Tao\")\n",
    "ax.set_ylabel(r\"$y$ (m)\")\n",
    "\n",
    "ax.set_xlabel(r\"$s$ (m)\")\n",
    "\n",
    "plt.legend();"
   ]
  }
 ],
 "metadata": {
  "kernelspec": {
   "display_name": "Python 3 (ipykernel)",
   "language": "python",
   "name": "python3"
  },
  "language_info": {
   "codemirror_mode": {
    "name": "ipython",
    "version": 3
   },
   "file_extension": ".py",
   "mimetype": "text/x-python",
   "name": "python",
   "nbconvert_exporter": "python",
   "pygments_lexer": "ipython3",
   "version": "3.12.8"
  }
 },
 "nbformat": 4,
 "nbformat_minor": 4
}
