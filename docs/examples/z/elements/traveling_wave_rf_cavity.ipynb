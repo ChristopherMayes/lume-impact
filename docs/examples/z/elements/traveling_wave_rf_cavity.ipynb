{
 "cells": [
  {
   "cell_type": "markdown",
   "metadata": {},
   "source": [
    "# Traveling Wave RF Cavity Test"
   ]
  },
  {
   "cell_type": "code",
   "execution_count": null,
   "metadata": {
    "execution": {
     "iopub.execute_input": "2025-02-20T21:34:44.241367Z",
     "iopub.status.busy": "2025-02-20T21:34:44.241116Z",
     "iopub.status.idle": "2025-02-20T21:34:45.293357Z",
     "shell.execute_reply": "2025-02-20T21:34:45.293003Z"
    }
   },
   "outputs": [],
   "source": [
    "import numpy as np\n",
    "from pmd_beamphysics import single_particle\n",
    "from pmd_beamphysics.units import mec2\n",
    "\n",
    "import impact.z as IZ\n",
    "from impact.z import ImpactZInput"
   ]
  },
  {
   "cell_type": "code",
   "execution_count": null,
   "metadata": {
    "execution": {
     "iopub.execute_input": "2025-02-20T21:34:45.294979Z",
     "iopub.status.busy": "2025-02-20T21:34:45.294822Z",
     "iopub.status.idle": "2025-02-20T21:34:45.296773Z",
     "shell.execute_reply": "2025-02-20T21:34:45.296552Z"
    }
   },
   "outputs": [],
   "source": [
    "reference_particle_mass = mec2\n",
    "energy = 10e6\n",
    "pz = np.sqrt(energy**2 - mec2**2)\n",
    "\n",
    "P0 = single_particle(x=1e-3, pz=pz)"
   ]
  },
  {
   "cell_type": "code",
   "execution_count": null,
   "metadata": {
    "execution": {
     "iopub.execute_input": "2025-02-20T21:34:45.297923Z",
     "iopub.status.busy": "2025-02-20T21:34:45.297841Z",
     "iopub.status.idle": "2025-02-20T21:34:45.300693Z",
     "shell.execute_reply": "2025-02-20T21:34:45.300413Z"
    }
   },
   "outputs": [],
   "source": [
    "rfdata9 = IZ.load_rfdata_from_file(\"../../templates/tesla_9cell_cavity/rfdata9\")"
   ]
  },
  {
   "cell_type": "code",
   "execution_count": null,
   "metadata": {
    "execution": {
     "iopub.execute_input": "2025-02-20T21:34:45.301844Z",
     "iopub.status.busy": "2025-02-20T21:34:45.301752Z",
     "iopub.status.idle": "2025-02-20T21:34:45.304022Z",
     "shell.execute_reply": "2025-02-20T21:34:45.303825Z"
    }
   },
   "outputs": [],
   "source": [
    "input = ImpactZInput(\n",
    "    initial_particles=P0,\n",
    "    ncpu_y=1,\n",
    "    ncpu_z=1,\n",
    "    seed=-1,\n",
    "    n_particle=1,\n",
    "    nx=64,\n",
    "    ny=64,\n",
    "    nz=64,\n",
    "    distribution=\"read\",\n",
    "    twiss_beta_x=10.0,\n",
    "    twiss_beta_y=10.0,\n",
    "    average_current=0.0,\n",
    "    reference_kinetic_energy=9489001.05,\n",
    "    reference_particle_mass=reference_particle_mass,\n",
    "    reference_particle_charge=-1.0,\n",
    "    reference_frequency=1.0,\n",
    "    file_data={\"TWCAV\": rfdata9},\n",
    "    lattice=[\n",
    "        IZ.WriteFull(name=\"initial_particles\", map_steps=2000),\n",
    "        IZ.TravelingWaveRFCavity(\n",
    "            name=\"TWCAV\",\n",
    "            length=1.0,\n",
    "            steps=10,\n",
    "            map_steps=10,\n",
    "            field_scaling=2000000.0,\n",
    "            rf_frequency=1300000000.0,\n",
    "            radius=1.0,\n",
    "            file_id=9.0,\n",
    "        ),\n",
    "        IZ.WriteFull(name=\"final_particles\", map_steps=2001),\n",
    "    ],\n",
    ")"
   ]
  },
  {
   "cell_type": "code",
   "execution_count": null,
   "metadata": {
    "execution": {
     "iopub.execute_input": "2025-02-20T21:34:45.304994Z",
     "iopub.status.busy": "2025-02-20T21:34:45.304920Z",
     "iopub.status.idle": "2025-02-20T21:34:45.306585Z",
     "shell.execute_reply": "2025-02-20T21:34:45.306352Z"
    }
   },
   "outputs": [],
   "source": [
    "I = IZ.ImpactZ(input, use_temp_dir=False, workdir=\"./lcav-tmp\", initial_particles=P0)"
   ]
  },
  {
   "cell_type": "code",
   "execution_count": null,
   "metadata": {
    "execution": {
     "iopub.execute_input": "2025-02-20T21:34:45.307573Z",
     "iopub.status.busy": "2025-02-20T21:34:45.307503Z",
     "iopub.status.idle": "2025-02-20T21:34:45.374549Z",
     "shell.execute_reply": "2025-02-20T21:34:45.374254Z"
    }
   },
   "outputs": [],
   "source": [
    "output = I.run(verbose=True)"
   ]
  },
  {
   "cell_type": "code",
   "execution_count": null,
   "metadata": {
    "execution": {
     "iopub.execute_input": "2025-02-20T21:34:45.375720Z",
     "iopub.status.busy": "2025-02-20T21:34:45.375612Z",
     "iopub.status.idle": "2025-02-20T21:34:45.377356Z",
     "shell.execute_reply": "2025-02-20T21:34:45.377170Z"
    }
   },
   "outputs": [],
   "source": [
    "P = I.output.particles[\"final_particles\"]"
   ]
  },
  {
   "cell_type": "code",
   "execution_count": null,
   "metadata": {
    "execution": {
     "iopub.execute_input": "2025-02-20T21:34:45.378288Z",
     "iopub.status.busy": "2025-02-20T21:34:45.378203Z",
     "iopub.status.idle": "2025-02-20T21:34:45.380349Z",
     "shell.execute_reply": "2025-02-20T21:34:45.380160Z"
    }
   },
   "outputs": [],
   "source": [
    "I.output.stats.mean_x"
   ]
  },
  {
   "cell_type": "code",
   "execution_count": null,
   "metadata": {
    "execution": {
     "iopub.execute_input": "2025-02-20T21:34:45.381307Z",
     "iopub.status.busy": "2025-02-20T21:34:45.381233Z",
     "iopub.status.idle": "2025-02-20T21:34:45.383179Z",
     "shell.execute_reply": "2025-02-20T21:34:45.382924Z"
    }
   },
   "outputs": [],
   "source": [
    "I.output.stats.mean_y"
   ]
  },
  {
   "cell_type": "code",
   "execution_count": null,
   "metadata": {
    "execution": {
     "iopub.execute_input": "2025-02-20T21:34:45.384211Z",
     "iopub.status.busy": "2025-02-20T21:34:45.384133Z",
     "iopub.status.idle": "2025-02-20T21:34:45.386183Z",
     "shell.execute_reply": "2025-02-20T21:34:45.385953Z"
    }
   },
   "outputs": [],
   "source": [
    "I.output[\"mean_z\"]"
   ]
  },
  {
   "cell_type": "code",
   "execution_count": null,
   "metadata": {
    "execution": {
     "iopub.execute_input": "2025-02-20T21:34:45.387255Z",
     "iopub.status.busy": "2025-02-20T21:34:45.387179Z",
     "iopub.status.idle": "2025-02-20T21:34:45.544304Z",
     "shell.execute_reply": "2025-02-20T21:34:45.544043Z"
    }
   },
   "outputs": [],
   "source": [
    "output.plot([\"mean_x\", \"mean_y\"])"
   ]
  },
  {
   "cell_type": "code",
   "execution_count": null,
   "metadata": {
    "execution": {
     "iopub.execute_input": "2025-02-20T21:34:45.545530Z",
     "iopub.status.busy": "2025-02-20T21:34:45.545446Z",
     "iopub.status.idle": "2025-02-20T21:34:45.673230Z",
     "shell.execute_reply": "2025-02-20T21:34:45.672959Z"
    }
   },
   "outputs": [],
   "source": [
    "import matplotlib.pyplot as plt\n",
    "\n",
    "stats = I.output.stats\n",
    "z = stats.z\n",
    "x = stats.mean_x\n",
    "y = stats.mean_y\n",
    "\n",
    "fig, (ax1, ax2, ax3) = plt.subplots(3, figsize=(8, 5))\n",
    "ax1.plot(z, x, label=\"Impact-Z\")\n",
    "ax1.set_ylabel(r\"$x$ (m)\")\n",
    "\n",
    "ax2.plot(z, y, label=\"Impact-Z\")\n",
    "ax2.set_ylabel(r\"$y$ (m)\")\n",
    "ax2.set_xlabel(r\"$s$ (m)\")\n",
    "\n",
    "ax2.legend()\n",
    "\n",
    "I.input.plot(ax=ax3);"
   ]
  }
 ],
 "metadata": {
  "kernelspec": {
   "display_name": "Python 3 (ipykernel)",
   "language": "python",
   "name": "python3"
  },
  "language_info": {
   "codemirror_mode": {
    "name": "ipython",
    "version": 3
   },
   "file_extension": ".py",
   "mimetype": "text/x-python",
   "name": "python",
   "nbconvert_exporter": "python",
   "pygments_lexer": "ipython3",
   "version": "3.12.8"
  },
  "widgets": {
   "application/vnd.jupyter.widget-state+json": {
    "state": {
     "2321d5f0119e4f1cbe8c55176993da3e": {
      "model_module": "@jupyter-widgets/base",
      "model_module_version": "2.0.0",
      "model_name": "LayoutModel",
      "state": {
       "_model_module": "@jupyter-widgets/base",
       "_model_module_version": "2.0.0",
       "_model_name": "LayoutModel",
       "_view_count": null,
       "_view_module": "@jupyter-widgets/base",
       "_view_module_version": "2.0.0",
       "_view_name": "LayoutView",
       "align_content": null,
       "align_items": null,
       "align_self": null,
       "border_bottom": null,
       "border_left": null,
       "border_right": null,
       "border_top": null,
       "bottom": null,
       "display": null,
       "flex": null,
       "flex_flow": null,
       "grid_area": null,
       "grid_auto_columns": null,
       "grid_auto_flow": null,
       "grid_auto_rows": null,
       "grid_column": null,
       "grid_gap": null,
       "grid_row": null,
       "grid_template_areas": null,
       "grid_template_columns": null,
       "grid_template_rows": null,
       "height": null,
       "justify_content": null,
       "justify_items": null,
       "left": null,
       "margin": null,
       "max_height": null,
       "max_width": null,
       "min_height": null,
       "min_width": null,
       "object_fit": null,
       "object_position": null,
       "order": null,
       "overflow": null,
       "padding": null,
       "right": null,
       "top": null,
       "visibility": "hidden",
       "width": null
      }
     },
     "28388d9856e14cb4b612351a5b8c06d2": {
      "model_module": "@jupyter-widgets/controls",
      "model_module_version": "2.0.0",
      "model_name": "HTMLStyleModel",
      "state": {
       "_model_module": "@jupyter-widgets/controls",
       "_model_module_version": "2.0.0",
       "_model_name": "HTMLStyleModel",
       "_view_count": null,
       "_view_module": "@jupyter-widgets/base",
       "_view_module_version": "2.0.0",
       "_view_name": "StyleView",
       "background": null,
       "description_width": "",
       "font_size": null,
       "text_color": null
      }
     },
     "356cd90fcb7c49868dadcd050682168b": {
      "model_module": "@jupyter-widgets/controls",
      "model_module_version": "2.0.0",
      "model_name": "FloatProgressModel",
      "state": {
       "_dom_classes": [],
       "_model_module": "@jupyter-widgets/controls",
       "_model_module_version": "2.0.0",
       "_model_name": "FloatProgressModel",
       "_view_count": null,
       "_view_module": "@jupyter-widgets/controls",
       "_view_module_version": "2.0.0",
       "_view_name": "ProgressView",
       "bar_style": "",
       "description": "",
       "description_allow_html": false,
       "layout": "IPY_MODEL_9929ff6649ea4ff98acf0fac37c1fcc8",
       "max": 3.0,
       "min": 0.0,
       "orientation": "horizontal",
       "style": "IPY_MODEL_7d6b5ad577fa4ecdb6797f08a242c779",
       "tabbable": null,
       "tooltip": null,
       "value": 3.0
      }
     },
     "47f9b3eeab694fe4a2dfd8dd46aa27c8": {
      "model_module": "@jupyter-widgets/controls",
      "model_module_version": "2.0.0",
      "model_name": "HTMLModel",
      "state": {
       "_dom_classes": [],
       "_model_module": "@jupyter-widgets/controls",
       "_model_module_version": "2.0.0",
       "_model_name": "HTMLModel",
       "_view_count": null,
       "_view_module": "@jupyter-widgets/controls",
       "_view_module_version": "2.0.0",
       "_view_name": "HTMLView",
       "description": "",
       "description_allow_html": false,
       "layout": "IPY_MODEL_8298d537cdbd4772b62ec740199efe91",
       "placeholder": "​",
       "style": "IPY_MODEL_498814fd32bc42e0b55dac429fb2e485",
       "tabbable": null,
       "tooltip": null,
       "value": " 3/3 [00:00&lt;00:00, 141.30it/s, Name=final_particles, Z=1]"
      }
     },
     "498814fd32bc42e0b55dac429fb2e485": {
      "model_module": "@jupyter-widgets/controls",
      "model_module_version": "2.0.0",
      "model_name": "HTMLStyleModel",
      "state": {
       "_model_module": "@jupyter-widgets/controls",
       "_model_module_version": "2.0.0",
       "_model_name": "HTMLStyleModel",
       "_view_count": null,
       "_view_module": "@jupyter-widgets/base",
       "_view_module_version": "2.0.0",
       "_view_name": "StyleView",
       "background": null,
       "description_width": "",
       "font_size": null,
       "text_color": null
      }
     },
     "67630c8aa3754acc82644c28fac676d9": {
      "model_module": "@jupyter-widgets/controls",
      "model_module_version": "2.0.0",
      "model_name": "HTMLModel",
      "state": {
       "_dom_classes": [],
       "_model_module": "@jupyter-widgets/controls",
       "_model_module_version": "2.0.0",
       "_model_name": "HTMLModel",
       "_view_count": null,
       "_view_module": "@jupyter-widgets/controls",
       "_view_module_version": "2.0.0",
       "_view_name": "HTMLView",
       "description": "",
       "description_allow_html": false,
       "layout": "IPY_MODEL_8b0ed5d43f14419b94bfd1df4d4f25ea",
       "placeholder": "​",
       "style": "IPY_MODEL_28388d9856e14cb4b612351a5b8c06d2",
       "tabbable": null,
       "tooltip": null,
       "value": "100%"
      }
     },
     "7d6b5ad577fa4ecdb6797f08a242c779": {
      "model_module": "@jupyter-widgets/controls",
      "model_module_version": "2.0.0",
      "model_name": "ProgressStyleModel",
      "state": {
       "_model_module": "@jupyter-widgets/controls",
       "_model_module_version": "2.0.0",
       "_model_name": "ProgressStyleModel",
       "_view_count": null,
       "_view_module": "@jupyter-widgets/base",
       "_view_module_version": "2.0.0",
       "_view_name": "StyleView",
       "bar_color": null,
       "description_width": ""
      }
     },
     "8298d537cdbd4772b62ec740199efe91": {
      "model_module": "@jupyter-widgets/base",
      "model_module_version": "2.0.0",
      "model_name": "LayoutModel",
      "state": {
       "_model_module": "@jupyter-widgets/base",
       "_model_module_version": "2.0.0",
       "_model_name": "LayoutModel",
       "_view_count": null,
       "_view_module": "@jupyter-widgets/base",
       "_view_module_version": "2.0.0",
       "_view_name": "LayoutView",
       "align_content": null,
       "align_items": null,
       "align_self": null,
       "border_bottom": null,
       "border_left": null,
       "border_right": null,
       "border_top": null,
       "bottom": null,
       "display": null,
       "flex": null,
       "flex_flow": null,
       "grid_area": null,
       "grid_auto_columns": null,
       "grid_auto_flow": null,
       "grid_auto_rows": null,
       "grid_column": null,
       "grid_gap": null,
       "grid_row": null,
       "grid_template_areas": null,
       "grid_template_columns": null,
       "grid_template_rows": null,
       "height": null,
       "justify_content": null,
       "justify_items": null,
       "left": null,
       "margin": null,
       "max_height": null,
       "max_width": null,
       "min_height": null,
       "min_width": null,
       "object_fit": null,
       "object_position": null,
       "order": null,
       "overflow": null,
       "padding": null,
       "right": null,
       "top": null,
       "visibility": null,
       "width": null
      }
     },
     "8b0ed5d43f14419b94bfd1df4d4f25ea": {
      "model_module": "@jupyter-widgets/base",
      "model_module_version": "2.0.0",
      "model_name": "LayoutModel",
      "state": {
       "_model_module": "@jupyter-widgets/base",
       "_model_module_version": "2.0.0",
       "_model_name": "LayoutModel",
       "_view_count": null,
       "_view_module": "@jupyter-widgets/base",
       "_view_module_version": "2.0.0",
       "_view_name": "LayoutView",
       "align_content": null,
       "align_items": null,
       "align_self": null,
       "border_bottom": null,
       "border_left": null,
       "border_right": null,
       "border_top": null,
       "bottom": null,
       "display": null,
       "flex": null,
       "flex_flow": null,
       "grid_area": null,
       "grid_auto_columns": null,
       "grid_auto_flow": null,
       "grid_auto_rows": null,
       "grid_column": null,
       "grid_gap": null,
       "grid_row": null,
       "grid_template_areas": null,
       "grid_template_columns": null,
       "grid_template_rows": null,
       "height": null,
       "justify_content": null,
       "justify_items": null,
       "left": null,
       "margin": null,
       "max_height": null,
       "max_width": null,
       "min_height": null,
       "min_width": null,
       "object_fit": null,
       "object_position": null,
       "order": null,
       "overflow": null,
       "padding": null,
       "right": null,
       "top": null,
       "visibility": null,
       "width": null
      }
     },
     "9929ff6649ea4ff98acf0fac37c1fcc8": {
      "model_module": "@jupyter-widgets/base",
      "model_module_version": "2.0.0",
      "model_name": "LayoutModel",
      "state": {
       "_model_module": "@jupyter-widgets/base",
       "_model_module_version": "2.0.0",
       "_model_name": "LayoutModel",
       "_view_count": null,
       "_view_module": "@jupyter-widgets/base",
       "_view_module_version": "2.0.0",
       "_view_name": "LayoutView",
       "align_content": null,
       "align_items": null,
       "align_self": null,
       "border_bottom": null,
       "border_left": null,
       "border_right": null,
       "border_top": null,
       "bottom": null,
       "display": null,
       "flex": null,
       "flex_flow": null,
       "grid_area": null,
       "grid_auto_columns": null,
       "grid_auto_flow": null,
       "grid_auto_rows": null,
       "grid_column": null,
       "grid_gap": null,
       "grid_row": null,
       "grid_template_areas": null,
       "grid_template_columns": null,
       "grid_template_rows": null,
       "height": null,
       "justify_content": null,
       "justify_items": null,
       "left": null,
       "margin": null,
       "max_height": null,
       "max_width": null,
       "min_height": null,
       "min_width": null,
       "object_fit": null,
       "object_position": null,
       "order": null,
       "overflow": null,
       "padding": null,
       "right": null,
       "top": null,
       "visibility": null,
       "width": null
      }
     },
     "cc595ec525f0446598179a40acddb05f": {
      "model_module": "@jupyter-widgets/controls",
      "model_module_version": "2.0.0",
      "model_name": "HBoxModel",
      "state": {
       "_dom_classes": [],
       "_model_module": "@jupyter-widgets/controls",
       "_model_module_version": "2.0.0",
       "_model_name": "HBoxModel",
       "_view_count": null,
       "_view_module": "@jupyter-widgets/controls",
       "_view_module_version": "2.0.0",
       "_view_name": "HBoxView",
       "box_style": "",
       "children": [
        "IPY_MODEL_67630c8aa3754acc82644c28fac676d9",
        "IPY_MODEL_356cd90fcb7c49868dadcd050682168b",
        "IPY_MODEL_47f9b3eeab694fe4a2dfd8dd46aa27c8"
       ],
       "layout": "IPY_MODEL_2321d5f0119e4f1cbe8c55176993da3e",
       "tabbable": null,
       "tooltip": null
      }
     }
    },
    "version_major": 2,
    "version_minor": 0
   }
  }
 },
 "nbformat": 4,
 "nbformat_minor": 4
}
