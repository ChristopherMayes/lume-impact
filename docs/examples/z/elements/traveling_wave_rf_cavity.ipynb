{
 "cells": [
  {
   "cell_type": "markdown",
   "metadata": {},
   "source": [
    "# Traveling Wave RF Cavity Test"
   ]
  },
  {
   "cell_type": "code",
   "execution_count": null,
   "metadata": {},
   "outputs": [],
   "source": [
    "import numpy as np\n",
    "from pmd_beamphysics import single_particle\n",
    "from pmd_beamphysics.units import mec2\n",
    "\n",
    "import impact.z as IZ\n",
    "from impact.z import ImpactZInput"
   ]
  },
  {
   "cell_type": "code",
   "execution_count": null,
   "metadata": {},
   "outputs": [],
   "source": [
    "reference_particle_mass = mec2\n",
    "energy = 10e6\n",
    "pz = np.sqrt(energy**2 - mec2**2)\n",
    "\n",
    "P0 = single_particle(x=1e-3, pz=pz)"
   ]
  },
  {
   "cell_type": "code",
   "execution_count": null,
   "metadata": {},
   "outputs": [],
   "source": [
    "rfdata9 = IZ.load_rfdata_from_file(\"../../templates/tesla_9cell_cavity/rfdata9\")"
   ]
  },
  {
   "cell_type": "code",
   "execution_count": null,
   "metadata": {},
   "outputs": [],
   "source": [
    "input = ImpactZInput(\n",
    "    initial_particles=P0,\n",
    "    ncpu_y=1,\n",
    "    ncpu_z=1,\n",
    "    seed=-1,\n",
    "    n_particle=1,\n",
    "    nx=64,\n",
    "    ny=64,\n",
    "    nz=64,\n",
    "    distribution=\"read\",\n",
    "    twiss_beta_x=10.0,\n",
    "    twiss_beta_y=10.0,\n",
    "    average_current=0.0,\n",
    "    reference_kinetic_energy=9489001.05,\n",
    "    reference_particle_mass=reference_particle_mass,\n",
    "    reference_particle_charge=-1.0,\n",
    "    reference_frequency=1.0,\n",
    "    file_data={\"TWCAV\": rfdata9},\n",
    "    lattice=[\n",
    "        IZ.WriteFull(name=\"initial_particles\", map_steps=2000),\n",
    "        IZ.TravelingWaveRFCavity(\n",
    "            name=\"TWCAV\",\n",
    "            length=1.0,\n",
    "            steps=10,\n",
    "            map_steps=10,\n",
    "            field_scaling=2000000.0,\n",
    "            rf_frequency=1300000000.0,\n",
    "            radius=1.0,\n",
    "            file_id=9.0,\n",
    "        ),\n",
    "        IZ.WriteFull(name=\"final_particles\", map_steps=2001),\n",
    "    ],\n",
    ")"
   ]
  },
  {
   "cell_type": "code",
   "execution_count": null,
   "metadata": {},
   "outputs": [],
   "source": [
    "I = IZ.ImpactZ(input, initial_particles=P0)"
   ]
  },
  {
   "cell_type": "code",
   "execution_count": null,
   "metadata": {},
   "outputs": [],
   "source": [
    "output = I.run(verbose=True)"
   ]
  },
  {
   "cell_type": "code",
   "execution_count": null,
   "metadata": {},
   "outputs": [],
   "source": [
    "P = I.output.particles[\"final_particles\"]"
   ]
  },
  {
   "cell_type": "code",
   "execution_count": null,
   "metadata": {},
   "outputs": [],
   "source": [
    "I.output.stats.mean_x"
   ]
  },
  {
   "cell_type": "code",
   "execution_count": null,
   "metadata": {},
   "outputs": [],
   "source": [
    "I.output.stats.mean_y"
   ]
  },
  {
   "cell_type": "code",
   "execution_count": null,
   "metadata": {},
   "outputs": [],
   "source": [
    "I.output[\"mean_z\"]"
   ]
  },
  {
   "cell_type": "code",
   "execution_count": null,
   "metadata": {},
   "outputs": [],
   "source": [
    "output.plot([\"mean_x\", \"mean_y\"])"
   ]
  },
  {
   "cell_type": "code",
   "execution_count": null,
   "metadata": {},
   "outputs": [],
   "source": [
    "import matplotlib.pyplot as plt\n",
    "\n",
    "stats = I.output.stats\n",
    "z = stats.z\n",
    "x = stats.mean_x\n",
    "y = stats.mean_y\n",
    "\n",
    "fig, (ax1, ax2, ax3) = plt.subplots(3, figsize=(8, 5))\n",
    "ax1.plot(z, x, label=\"Impact-Z\")\n",
    "ax1.set_ylabel(r\"$x$ (m)\")\n",
    "\n",
    "ax2.plot(z, y, label=\"Impact-Z\")\n",
    "ax2.set_ylabel(r\"$y$ (m)\")\n",
    "ax2.set_xlabel(r\"$s$ (m)\")\n",
    "\n",
    "ax2.legend()\n",
    "\n",
    "I.input.plot(ax=ax3);"
   ]
  }
 ],
 "metadata": {
  "kernelspec": {
   "display_name": "Python 3 (ipykernel)",
   "language": "python",
   "name": "python3"
  },
  "language_info": {
   "codemirror_mode": {
    "name": "ipython",
    "version": 3
   },
   "file_extension": ".py",
   "mimetype": "text/x-python",
   "name": "python",
   "nbconvert_exporter": "python",
   "pygments_lexer": "ipython3",
   "version": "3.12.8"
  }
 },
 "nbformat": 4,
 "nbformat_minor": 4
}
