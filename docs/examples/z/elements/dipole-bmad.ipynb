{
 "cells": [
  {
   "cell_type": "markdown",
   "metadata": {},
   "source": [
    "# Dipole - Comparing to Bmad"
   ]
  },
  {
   "cell_type": "code",
   "execution_count": null,
   "metadata": {},
   "outputs": [],
   "source": [
    "import numpy as np\n",
    "from pmd_beamphysics import single_particle\n",
    "from pmd_beamphysics.units import mec2\n",
    "from pytao import Tao\n",
    "\n",
    "import impact.z as IZ\n",
    "from impact.tests.z.conftest import bmad_files\n",
    "from impact.z.interfaces.bmad import plot_impactz_and_tao_stats, track_tao"
   ]
  },
  {
   "cell_type": "markdown",
   "metadata": {},
   "source": [
    "## Initial Particles"
   ]
  },
  {
   "cell_type": "code",
   "execution_count": null,
   "metadata": {},
   "outputs": [],
   "source": [
    "energy = 10e6\n",
    "\n",
    "pz = np.sqrt(energy**2 - mec2**2)\n",
    "\n",
    "x0 = 0.1\n",
    "y0 = 0.01\n",
    "pz0 = pz * 0.99\n",
    "P0 = single_particle(x=x0, y=y0, pz=pz0)"
   ]
  },
  {
   "cell_type": "markdown",
   "metadata": {},
   "source": [
    "## Tao"
   ]
  },
  {
   "cell_type": "code",
   "execution_count": null,
   "metadata": {},
   "outputs": [],
   "source": [
    "!cat $bmad_files/dipole.bmad"
   ]
  },
  {
   "cell_type": "code",
   "execution_count": null,
   "metadata": {},
   "outputs": [],
   "source": [
    "tao = Tao(lattice_file=bmad_files / \"dipole.bmad\", plot=\"mpl\")\n",
    "\n",
    "# tao.cmd('set ele sbend1 ref_tilt = pi/4')\n",
    "\n",
    "tao.plot(\"beta\", include_layout=False)"
   ]
  },
  {
   "cell_type": "code",
   "execution_count": null,
   "metadata": {},
   "outputs": [],
   "source": [
    "Ptao = track_tao(tao, P0)"
   ]
  },
  {
   "cell_type": "markdown",
   "metadata": {},
   "source": [
    "## Impact-Z"
   ]
  },
  {
   "cell_type": "code",
   "execution_count": null,
   "metadata": {},
   "outputs": [],
   "source": [
    "I = IZ.ImpactZ.from_tao(tao, initial_particles=P0)"
   ]
  },
  {
   "cell_type": "code",
   "execution_count": null,
   "metadata": {},
   "outputs": [],
   "source": [
    "output = I.run()"
   ]
  },
  {
   "cell_type": "code",
   "execution_count": null,
   "metadata": {},
   "outputs": [],
   "source": [
    "P = I.output.particles[\"final_particles\"]\n",
    "\n",
    "Ptao.data"
   ]
  },
  {
   "cell_type": "code",
   "execution_count": null,
   "metadata": {},
   "outputs": [],
   "source": [
    "P.data"
   ]
  },
  {
   "cell_type": "code",
   "execution_count": null,
   "metadata": {},
   "outputs": [],
   "source": [
    "plot_impactz_and_tao_stats(I, tao)"
   ]
  }
 ],
 "metadata": {
  "kernelspec": {
   "display_name": "Python 3 (ipykernel)",
   "language": "python",
   "name": "python3"
  },
  "language_info": {
   "codemirror_mode": {
    "name": "ipython",
    "version": 3
   },
   "file_extension": ".py",
   "mimetype": "text/x-python",
   "name": "python",
   "nbconvert_exporter": "python",
   "pygments_lexer": "ipython3",
   "version": "3.12.9"
  }
 },
 "nbformat": 4,
 "nbformat_minor": 4
}
