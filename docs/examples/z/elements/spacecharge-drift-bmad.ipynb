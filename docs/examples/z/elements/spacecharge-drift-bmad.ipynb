{
 "cells": [
  {
   "cell_type": "markdown",
   "metadata": {},
   "source": [
    "# Spacecharge Benchmark - Comparing to Bmad\n",
    "\n"
   ]
  },
  {
   "cell_type": "code",
   "execution_count": null,
   "metadata": {
    "execution": {
     "iopub.execute_input": "2025-02-20T21:34:21.545121Z",
     "iopub.status.busy": "2025-02-20T21:34:21.544808Z",
     "iopub.status.idle": "2025-02-20T21:34:23.003045Z",
     "shell.execute_reply": "2025-02-20T21:34:23.002654Z"
    }
   },
   "outputs": [],
   "source": [
    "import matplotlib.pyplot as plt\n",
    "import numpy as np\n",
    "import pandas as pd\n",
    "from pmd_beamphysics import ParticleGroup\n",
    "from pytao import Tao\n",
    "from scipy.constants import c\n",
    "\n",
    "import impact.z as IZ\n",
    "from impact.tests.z.conftest import bmad_files"
   ]
  },
  {
   "cell_type": "code",
   "execution_count": null,
   "metadata": {
    "execution": {
     "iopub.execute_input": "2025-02-20T21:34:23.004752Z",
     "iopub.status.busy": "2025-02-20T21:34:23.004593Z",
     "iopub.status.idle": "2025-02-20T21:34:23.006709Z",
     "shell.execute_reply": "2025-02-20T21:34:23.006485Z"
    }
   },
   "outputs": [],
   "source": [
    "TRACK_START = \"BEGINNING\"\n",
    "TRACK_END = \"END\"\n",
    "\n",
    "L = 1\n",
    "BUNCH_CHARGE = 1e-9\n",
    "\n",
    "NX = 32\n",
    "NY = 32\n",
    "NZ = 32\n",
    "N_PARTICLE = 10_000\n",
    "DS_STEP = 0.01\n",
    "\n",
    "BMAD_SC_ON = True  # Note that Impact-Z always has SC on\n",
    "\n",
    "CHIRP = 0\n",
    "\n",
    "LATTICE_FILE = bmad_files / \"drift.bmad\"\n",
    "\n",
    "E_TOT = 10e6\n",
    "BETA_A = 1000\n",
    "BETA_B = 1000"
   ]
  },
  {
   "cell_type": "code",
   "execution_count": null,
   "metadata": {
    "execution": {
     "iopub.execute_input": "2025-02-20T21:34:23.007855Z",
     "iopub.status.busy": "2025-02-20T21:34:23.007769Z",
     "iopub.status.idle": "2025-02-20T21:34:23.010554Z",
     "shell.execute_reply": "2025-02-20T21:34:23.010329Z"
    }
   },
   "outputs": [],
   "source": [
    "# Gaussian\n",
    "def set_gaussian(\n",
    "    tao,\n",
    "    n_particle=N_PARTICLE,\n",
    "    a_emit=1.0e-9,\n",
    "    b_emit=1.0e-9,\n",
    "    bunch_charge=1e-9 / 1000,\n",
    "    sig_pz0=1e-4,\n",
    "    sig_z=1e-4,\n",
    "    center_pz=0,\n",
    "    chirp=0,  # 1/m\n",
    "):\n",
    "    sig_pz = np.hypot(sig_pz0, chirp * sig_z)\n",
    "\n",
    "    cmds = [\n",
    "        f\"set beam_init n_particle = {n_particle}\",\n",
    "        \"set beam_init random_engine = quasi\",\n",
    "        \"set beam_init saved_at = MARKER::*, BEGINNING, END\",\n",
    "        f\"set beam_init a_emit = {a_emit}\",\n",
    "        f\"set beam_init b_emit = {b_emit}\",\n",
    "        f\"set beam_init bunch_charge = {bunch_charge}\",\n",
    "        f\"set beam_init sig_pz = {sig_pz}\",\n",
    "        f\"set beam_init sig_z = {sig_z}\",\n",
    "        f\"set beam_init dpz_dz = {chirp}\",\n",
    "        f\"set beam_init center(6) = {center_pz}\",\n",
    "        \"set beam_init random_sigma_cutoff = 4\",\n",
    "    ]\n",
    "    tao.cmds(cmds)\n",
    "    tao.cmd(\"set global lattice_calc_on = T\")\n",
    "\n",
    "\n",
    "def get_particles(tao, ele_id):\n",
    "    return ParticleGroup(data=tao.bunch_data(ele_id))"
   ]
  },
  {
   "cell_type": "code",
   "execution_count": null,
   "metadata": {
    "execution": {
     "iopub.execute_input": "2025-02-20T21:34:23.011835Z",
     "iopub.status.busy": "2025-02-20T21:34:23.011743Z",
     "iopub.status.idle": "2025-02-20T21:34:23.056788Z",
     "shell.execute_reply": "2025-02-20T21:34:23.056530Z"
    }
   },
   "outputs": [],
   "source": [
    "tao = Tao(lattice_file=LATTICE_FILE, plot=\"mpl\")\n",
    "\n",
    "tao.cmd(f\"set ele beginning e_tot = {E_TOT}\")\n",
    "tao.cmd(f\"set ele beginning beta_a = {BETA_A}\")\n",
    "tao.cmd(f\"set ele beginning beta_b = {BETA_B}\")\n",
    "\n",
    "set_gaussian(tao, n_particle=N_PARTICLE, bunch_charge=BUNCH_CHARGE, chirp=CHIRP)"
   ]
  },
  {
   "cell_type": "code",
   "execution_count": null,
   "metadata": {
    "execution": {
     "iopub.execute_input": "2025-02-20T21:34:23.058082Z",
     "iopub.status.busy": "2025-02-20T21:34:23.057977Z",
     "iopub.status.idle": "2025-02-20T21:34:23.062630Z",
     "shell.execute_reply": "2025-02-20T21:34:23.062406Z"
    }
   },
   "outputs": [],
   "source": [
    "tao.cmd(\"set bmad_com csr_and_space_charge_on = T\")\n",
    "tao.cmd(\"set space_charge particle_bin_span = 1\")\n",
    "tao.cmd(f\"set space_charge n_bin = {NZ}\")\n",
    "tao.cmd(f\"set space_charge ds_track_step = {DS_STEP}\")\n",
    "# tao.cmd(\"set bmad_com radiation_damping_on  = T\")  # off by default\n",
    "# tao.cmd(\"set bmad_com radiation_fluctuations_on = T\")  # off by default\n",
    "\n",
    "if BMAD_SC_ON:\n",
    "    tao.cmd(\"set ele * space_charge_method = fft_3d\")\n",
    "    tao.cmd(f\"set space_charge space_charge_mesh_size = {NX} {NY} {NZ}\")\n",
    "else:\n",
    "    tao.cmd(\"set ele * space_charge_method = off\")\n",
    "tao.cmd(f\"set ele * DS_STEP = {DS_STEP}\")"
   ]
  },
  {
   "cell_type": "code",
   "execution_count": null,
   "metadata": {
    "execution": {
     "iopub.execute_input": "2025-02-20T21:34:23.081586Z",
     "iopub.status.busy": "2025-02-20T21:34:23.081480Z",
     "iopub.status.idle": "2025-02-20T21:34:25.104168Z",
     "shell.execute_reply": "2025-02-20T21:34:25.103926Z"
    }
   },
   "outputs": [],
   "source": [
    "%%time\n",
    "tao.cmd(\"set global track_type = beam; set global track_type = single\")\n",
    "\n",
    "P0 = get_particles(tao, \"beginning\")\n",
    "P1 = get_particles(tao, \"end\")\n",
    "\n",
    "P0.plot(\"delta_t\", \"energy\")\n",
    "P0.plot(\"x\", \"y\")\n",
    "P1.plot(\"delta_t\", \"energy\"), P1[\"sigma_t\"] * c * 1e6"
   ]
  },
  {
   "cell_type": "code",
   "execution_count": null,
   "metadata": {
    "execution": {
     "iopub.execute_input": "2025-02-20T21:34:25.105478Z",
     "iopub.status.busy": "2025-02-20T21:34:25.105368Z",
     "iopub.status.idle": "2025-02-20T21:34:25.107977Z",
     "shell.execute_reply": "2025-02-20T21:34:25.107752Z"
    }
   },
   "outputs": [],
   "source": [
    "sigma_z0 = P0[\"sigma_t\"] * c\n",
    "sigma_z1 = P1[\"sigma_t\"] * c\n",
    "\n",
    "sigma_z0"
   ]
  },
  {
   "cell_type": "code",
   "execution_count": null,
   "metadata": {
    "execution": {
     "iopub.execute_input": "2025-02-20T21:34:25.109070Z",
     "iopub.status.busy": "2025-02-20T21:34:25.108977Z",
     "iopub.status.idle": "2025-02-20T21:34:25.110371Z",
     "shell.execute_reply": "2025-02-20T21:34:25.110156Z"
    }
   },
   "outputs": [],
   "source": [
    "# P0.drift_to_t()\n",
    "# P0['sigma_x']*1e3, P0['sigma_y']*1e3, P0['sigma_z']*1e3"
   ]
  },
  {
   "cell_type": "code",
   "execution_count": null,
   "metadata": {
    "execution": {
     "iopub.execute_input": "2025-02-20T21:34:25.111479Z",
     "iopub.status.busy": "2025-02-20T21:34:25.111408Z",
     "iopub.status.idle": "2025-02-20T21:34:25.113417Z",
     "shell.execute_reply": "2025-02-20T21:34:25.113200Z"
    }
   },
   "outputs": [],
   "source": [
    "sigma_z1 / sigma_z0"
   ]
  },
  {
   "cell_type": "markdown",
   "metadata": {},
   "source": [
    "# Impact-Z"
   ]
  },
  {
   "cell_type": "code",
   "execution_count": null,
   "metadata": {
    "execution": {
     "iopub.execute_input": "2025-02-20T21:34:25.114559Z",
     "iopub.status.busy": "2025-02-20T21:34:25.114484Z",
     "iopub.status.idle": "2025-02-20T21:34:25.129528Z",
     "shell.execute_reply": "2025-02-20T21:34:25.129297Z"
    }
   },
   "outputs": [],
   "source": [
    "input = IZ.ImpactZInput.from_tao(tao, verbose=False, write_beam_eles=\"\")\n",
    "I = IZ.ImpactZ(input, use_temp_dir=False, workdir=\"./tmp-sc-bench\")\n",
    "I.initial_particles = P0"
   ]
  },
  {
   "cell_type": "code",
   "execution_count": null,
   "metadata": {
    "execution": {
     "iopub.execute_input": "2025-02-20T21:34:25.130700Z",
     "iopub.status.busy": "2025-02-20T21:34:25.130608Z",
     "iopub.status.idle": "2025-02-20T21:34:25.132240Z",
     "shell.execute_reply": "2025-02-20T21:34:25.132026Z"
    }
   },
   "outputs": [],
   "source": [
    "I.input.space_charge_on()\n",
    "I.input.integrator_type = 1\n",
    "I.input.nx = NX\n",
    "I.input.ny = NY\n",
    "I.input.nz = NZ"
   ]
  },
  {
   "cell_type": "code",
   "execution_count": null,
   "metadata": {
    "execution": {
     "iopub.execute_input": "2025-02-20T21:34:25.133200Z",
     "iopub.status.busy": "2025-02-20T21:34:25.133120Z",
     "iopub.status.idle": "2025-02-20T21:34:25.144334Z",
     "shell.execute_reply": "2025-02-20T21:34:25.144096Z"
    }
   },
   "outputs": [],
   "source": [
    "I.input"
   ]
  },
  {
   "cell_type": "code",
   "execution_count": null,
   "metadata": {
    "execution": {
     "iopub.execute_input": "2025-02-20T21:34:25.145438Z",
     "iopub.status.busy": "2025-02-20T21:34:25.145362Z",
     "iopub.status.idle": "2025-02-20T21:34:28.411938Z",
     "shell.execute_reply": "2025-02-20T21:34:28.411600Z"
    }
   },
   "outputs": [],
   "source": [
    "%%time\n",
    "I.nproc = 1\n",
    "I.run(verbose=False);"
   ]
  },
  {
   "cell_type": "code",
   "execution_count": null,
   "metadata": {
    "execution": {
     "iopub.execute_input": "2025-02-20T21:34:28.413172Z",
     "iopub.status.busy": "2025-02-20T21:34:28.413087Z",
     "iopub.status.idle": "2025-02-20T21:34:28.785480Z",
     "shell.execute_reply": "2025-02-20T21:34:28.785218Z"
    }
   },
   "outputs": [],
   "source": [
    "P20 = I.output.particles[\"initial_particles\"]\n",
    "P2 = I.output.particles[\"final_particles\"]\n",
    "P2.plot(\"x\", \"y\")\n",
    "P2.plot(\"delta_t\", \"energy\")\n",
    "P2[\"sigma_t\"] / P20[\"sigma_t\"]"
   ]
  },
  {
   "cell_type": "code",
   "execution_count": null,
   "metadata": {
    "execution": {
     "iopub.execute_input": "2025-02-20T21:34:28.786751Z",
     "iopub.status.busy": "2025-02-20T21:34:28.786655Z",
     "iopub.status.idle": "2025-02-20T21:34:28.970477Z",
     "shell.execute_reply": "2025-02-20T21:34:28.970201Z"
    }
   },
   "outputs": [],
   "source": [
    "stats = I.output.stats\n",
    "mc2 = I.input.reference_particle_mass\n",
    "z = stats.z\n",
    "x = stats.mean_x\n",
    "y = stats.mean_y\n",
    "sigma_x = I.output.stats.sigma_x\n",
    "sigma_y = I.output.stats.sigma_y\n",
    "sigma_z = I.output.stats.sigma_t * c\n",
    "energy = stats.mean_energy\n",
    "\n",
    "ix_eles = tao.lat_list(\"*\", \"ele.ix_ele\")\n",
    "\n",
    "bparams = pd.DataFrame(list(map(tao.bunch_params, ix_eles)))\n",
    "\n",
    "\n",
    "x_tao = tao.bunch_comb(\"x\")\n",
    "y_tao = tao.bunch_comb(\"y\")\n",
    "sigma_x_tao = tao.bunch_comb(\"x.sigma\")\n",
    "sigma_y_tao = tao.bunch_comb(\"y.sigma\")\n",
    "sigma_z_tao = tao.bunch_comb(\"z.sigma\")\n",
    "p_tao = (1 + tao.bunch_comb(\"pz\")) * tao.bunch_comb(\"p0c\")\n",
    "energy_tao = np.hypot(p_tao, mc2)\n",
    "s_tao_raw = tao.bunch_comb(\"s\")\n",
    "s_tao = s_tao_raw - s_tao_raw[0]\n",
    "\n",
    "\n",
    "# s_tao2 = bparams.s - bparams.s[0]\n",
    "# sigma_x_tao2 = np.sqrt(bparams.sigma_11)\n",
    "# sigma_y_tao2 = np.sqrt(bparams.sigma_33)\n",
    "# sigma_z_tao2 = np.sqrt(bparams.sigma_55)\n",
    "\n",
    "fig, axes = plt.subplots(3, figsize=(12, 8))\n",
    "\n",
    "ax = axes[0]\n",
    "ax.plot(z, x * 1e6, label=\"Impact-Z\")\n",
    "ax.plot(s_tao, x_tao * 1e6, \"--\", label=\"Tao\")\n",
    "ax.set_ylabel(r\"$\\left<x\\right>$ (µm)\")\n",
    "\n",
    "ax = axes[1]\n",
    "ax.plot(z, sigma_x * 1e6, label=\"Impact-Z\")\n",
    "# ax1.plot(s_tao, sigma_x_tao, \"--\", label=\"Tao\")\n",
    "ax.plot(s_tao, sigma_x_tao * 1e6, \"--\", label=\"Tao\")\n",
    "ax.set_ylabel(r\"$\\sigma_x$ (µm)\")\n",
    "# ax1.set_yscale('log')\n",
    "\n",
    "ax = axes[2]\n",
    "ax.plot(z, sigma_z * 1e6, label=\"Impact-Z\")\n",
    "ax.plot(s_tao, sigma_z_tao * 1e6, \"--\", label=\"Tao\")\n",
    "ax.set_ylabel(r\"$\\sigma_z$ (µm)\")\n",
    "\n",
    "ax.legend()\n",
    "\n",
    "\n",
    "s_max = s_tao.max()\n",
    "for ax in axes:\n",
    "    ax.set_xlim(0, s_max)\n",
    "\n",
    "ax.set_xlabel(r\"$s$ (m)\")"
   ]
  },
  {
   "cell_type": "markdown",
   "metadata": {},
   "source": [
    "## Compare"
   ]
  },
  {
   "cell_type": "code",
   "execution_count": null,
   "metadata": {
    "execution": {
     "iopub.execute_input": "2025-02-20T21:34:28.972078Z",
     "iopub.status.busy": "2025-02-20T21:34:28.971972Z",
     "iopub.status.idle": "2025-02-20T21:34:29.192476Z",
     "shell.execute_reply": "2025-02-20T21:34:29.192161Z"
    }
   },
   "outputs": [],
   "source": [
    "def compare(\n",
    "    xkey=\"x\",\n",
    "    ykey=\"y\",\n",
    "):\n",
    "    fig, ax = plt.subplots()\n",
    "\n",
    "    plist = (\n",
    "        (P1, \"Bmad\", \"X\", \"blue\"),\n",
    "        (P2, \"Impact-Z\", \".\", \"orange\"),\n",
    "    )\n",
    "\n",
    "    for p, label, marker, color in plist:\n",
    "        ax.scatter(p[xkey], p[ykey], label=label, marker=marker, alpha=0.5, color=color)\n",
    "\n",
    "    for p, label, marker, color in plist:\n",
    "        ax.scatter(\n",
    "            p[\"mean_\" + xkey],\n",
    "            p[\"mean_\" + ykey],\n",
    "            marker=\"+\",\n",
    "            color=color,\n",
    "            facecolor=\"black\",\n",
    "        )\n",
    "\n",
    "    plt.legend()\n",
    "\n",
    "    ax.set_xlabel(xkey)\n",
    "    ax.set_ylabel(ykey)\n",
    "\n",
    "\n",
    "compare()"
   ]
  },
  {
   "cell_type": "code",
   "execution_count": null,
   "metadata": {
    "execution": {
     "iopub.execute_input": "2025-02-20T21:34:29.198667Z",
     "iopub.status.busy": "2025-02-20T21:34:29.198568Z",
     "iopub.status.idle": "2025-02-20T21:34:29.200872Z",
     "shell.execute_reply": "2025-02-20T21:34:29.200658Z"
    }
   },
   "outputs": [],
   "source": [
    "P1[\"mean_x\"], P2[\"mean_x\"]"
   ]
  },
  {
   "cell_type": "code",
   "execution_count": null,
   "metadata": {
    "execution": {
     "iopub.execute_input": "2025-02-20T21:34:29.202076Z",
     "iopub.status.busy": "2025-02-20T21:34:29.201981Z",
     "iopub.status.idle": "2025-02-20T21:34:29.350341Z",
     "shell.execute_reply": "2025-02-20T21:34:29.350077Z"
    }
   },
   "outputs": [],
   "source": [
    "compare(\"delta_t\", \"energy\")"
   ]
  },
  {
   "cell_type": "code",
   "execution_count": null,
   "metadata": {
    "execution": {
     "iopub.execute_input": "2025-02-20T21:34:29.352272Z",
     "iopub.status.busy": "2025-02-20T21:34:29.352169Z",
     "iopub.status.idle": "2025-02-20T21:34:29.566997Z",
     "shell.execute_reply": "2025-02-20T21:34:29.566727Z"
    }
   },
   "outputs": [],
   "source": [
    "compare(\"delta_t\", \"xp\")"
   ]
  },
  {
   "cell_type": "code",
   "execution_count": null,
   "metadata": {
    "execution": {
     "iopub.execute_input": "2025-02-20T21:34:29.572299Z",
     "iopub.status.busy": "2025-02-20T21:34:29.572197Z",
     "iopub.status.idle": "2025-02-20T21:34:29.574676Z",
     "shell.execute_reply": "2025-02-20T21:34:29.574457Z"
    }
   },
   "outputs": [],
   "source": [
    "energy0 = P0[\"mean_energy\"]\n",
    "P1[\"mean_energy\"] - energy0, P2[\"mean_energy\"] - energy0"
   ]
  },
  {
   "cell_type": "markdown",
   "metadata": {},
   "source": [
    "# Impact-Z Lorentz integrator \n",
    "\n",
    "`ImpactZInput.integrator_type = 2`\n",
    "\n",
    "Note that this is not expected to work as well because the dipole fringe fields are not able to be specified."
   ]
  },
  {
   "cell_type": "code",
   "execution_count": null,
   "metadata": {
    "execution": {
     "iopub.execute_input": "2025-02-20T21:34:29.575782Z",
     "iopub.status.busy": "2025-02-20T21:34:29.575698Z",
     "iopub.status.idle": "2025-02-20T21:34:29.578363Z",
     "shell.execute_reply": "2025-02-20T21:34:29.578110Z"
    }
   },
   "outputs": [],
   "source": [
    "I2 = I.copy()"
   ]
  },
  {
   "cell_type": "code",
   "execution_count": null,
   "metadata": {
    "execution": {
     "iopub.execute_input": "2025-02-20T21:34:29.579508Z",
     "iopub.status.busy": "2025-02-20T21:34:29.579420Z",
     "iopub.status.idle": "2025-02-20T21:34:32.895358Z",
     "shell.execute_reply": "2025-02-20T21:34:32.894970Z"
    }
   },
   "outputs": [],
   "source": [
    "I2.input.integrator_type = 2\n",
    "I2.run(verbose=False)\n",
    "\n",
    "P3 = I2.output.particles[\"final_particles\"]"
   ]
  },
  {
   "cell_type": "code",
   "execution_count": null,
   "metadata": {
    "execution": {
     "iopub.execute_input": "2025-02-20T21:34:32.896843Z",
     "iopub.status.busy": "2025-02-20T21:34:32.896747Z",
     "iopub.status.idle": "2025-02-20T21:34:32.995407Z",
     "shell.execute_reply": "2025-02-20T21:34:32.995137Z"
    }
   },
   "outputs": [],
   "source": [
    "stats1 = I.output.stats\n",
    "stats2 = I2.output.stats\n",
    "\n",
    "eref = I.output.stats.energy_ref[0]  # should be constant\n",
    "\n",
    "fig, ax = plt.subplots(1, figsize=(12, 4))\n",
    "\n",
    "ax.plot(stats1.z, (stats1.mean_energy - eref) / 1e6, label=\"Impact-T, map\")\n",
    "ax.plot(stats2.z, (stats2.mean_energy - eref) / 1e6, label=\"Impact-T, nonlinear\")\n",
    "\n",
    "ax.plot(s_tao, (energy_tao - eref) / 1e6, label=\"Bmad\")\n",
    "\n",
    "ax.set_xlabel(r\"$s$ (m)\")\n",
    "ax.set_ylabel(r\"$dE$ (MeV)\")\n",
    "\n",
    "plt.legend()"
   ]
  },
  {
   "cell_type": "code",
   "execution_count": null,
   "metadata": {
    "execution": {
     "iopub.execute_input": "2025-02-20T21:34:32.996729Z",
     "iopub.status.busy": "2025-02-20T21:34:32.996614Z",
     "iopub.status.idle": "2025-02-20T21:34:33.142124Z",
     "shell.execute_reply": "2025-02-20T21:34:33.141839Z"
    }
   },
   "outputs": [],
   "source": [
    "def compare(\n",
    "    xkey=\"x\",\n",
    "    ykey=\"y\",\n",
    "    skip=10,\n",
    "):\n",
    "    fig, ax = plt.subplots()\n",
    "\n",
    "    for p, label, marker in (\n",
    "        (P1, \"Bmad\", \"X\"),\n",
    "        (P2, \"Impact-Z map\", \".\"),\n",
    "        (P3, \"Impact-Z nonlinear\", \".\"),\n",
    "    ):\n",
    "        ax.scatter(\n",
    "            p[xkey][::skip], p[ykey][::skip], label=label, marker=marker, alpha=0.5\n",
    "        )\n",
    "\n",
    "    plt.legend()\n",
    "\n",
    "    ax.set_xlabel(xkey)\n",
    "    ax.set_ylabel(ykey)\n",
    "\n",
    "\n",
    "compare(\"delta_t\", \"xp\")"
   ]
  },
  {
   "cell_type": "code",
   "execution_count": null,
   "metadata": {
    "execution": {
     "iopub.execute_input": "2025-02-20T21:34:33.145384Z",
     "iopub.status.busy": "2025-02-20T21:34:33.145273Z",
     "iopub.status.idle": "2025-02-20T21:34:33.247347Z",
     "shell.execute_reply": "2025-02-20T21:34:33.247072Z"
    }
   },
   "outputs": [],
   "source": [
    "compare(\"delta_t\", \"energy\")"
   ]
  }
 ],
 "metadata": {
  "kernelspec": {
   "display_name": "Python 3 (ipykernel)",
   "language": "python",
   "name": "python3"
  },
  "language_info": {
   "codemirror_mode": {
    "name": "ipython",
    "version": 3
   },
   "file_extension": ".py",
   "mimetype": "text/x-python",
   "name": "python",
   "nbconvert_exporter": "python",
   "pygments_lexer": "ipython3",
   "version": "3.12.8"
  },
  "widgets": {
   "application/vnd.jupyter.widget-state+json": {
    "state": {
     "03096b289dce4468abbc23f5f6666f57": {
      "model_module": "@jupyter-widgets/base",
      "model_module_version": "2.0.0",
      "model_name": "LayoutModel",
      "state": {
       "_model_module": "@jupyter-widgets/base",
       "_model_module_version": "2.0.0",
       "_model_name": "LayoutModel",
       "_view_count": null,
       "_view_module": "@jupyter-widgets/base",
       "_view_module_version": "2.0.0",
       "_view_name": "LayoutView",
       "align_content": null,
       "align_items": null,
       "align_self": null,
       "border_bottom": null,
       "border_left": null,
       "border_right": null,
       "border_top": null,
       "bottom": null,
       "display": null,
       "flex": null,
       "flex_flow": null,
       "grid_area": null,
       "grid_auto_columns": null,
       "grid_auto_flow": null,
       "grid_auto_rows": null,
       "grid_column": null,
       "grid_gap": null,
       "grid_row": null,
       "grid_template_areas": null,
       "grid_template_columns": null,
       "grid_template_rows": null,
       "height": null,
       "justify_content": null,
       "justify_items": null,
       "left": null,
       "margin": null,
       "max_height": null,
       "max_width": null,
       "min_height": null,
       "min_width": null,
       "object_fit": null,
       "object_position": null,
       "order": null,
       "overflow": null,
       "padding": null,
       "right": null,
       "top": null,
       "visibility": null,
       "width": null
      }
     },
     "33dff29816d24ef8a92c0b9fe3188db3": {
      "model_module": "@jupyter-widgets/controls",
      "model_module_version": "2.0.0",
      "model_name": "HTMLModel",
      "state": {
       "_dom_classes": [],
       "_model_module": "@jupyter-widgets/controls",
       "_model_module_version": "2.0.0",
       "_model_name": "HTMLModel",
       "_view_count": null,
       "_view_module": "@jupyter-widgets/controls",
       "_view_module_version": "2.0.0",
       "_view_name": "HTMLView",
       "description": "",
       "description_allow_html": false,
       "layout": "IPY_MODEL_8f92caa3d9d14836bd423c521815a0bb",
       "placeholder": "​",
       "style": "IPY_MODEL_8f3bd8a22c9a44e6ae175a840ab306f8",
       "tabbable": null,
       "tooltip": null,
       "value": "100%"
      }
     },
     "36a7c7066a7e4a7eb6cc5c82a0b8cc06": {
      "model_module": "@jupyter-widgets/controls",
      "model_module_version": "2.0.0",
      "model_name": "HTMLModel",
      "state": {
       "_dom_classes": [],
       "_model_module": "@jupyter-widgets/controls",
       "_model_module_version": "2.0.0",
       "_model_name": "HTMLModel",
       "_view_count": null,
       "_view_module": "@jupyter-widgets/controls",
       "_view_module_version": "2.0.0",
       "_view_name": "HTMLView",
       "description": "",
       "description_allow_html": false,
       "layout": "IPY_MODEL_9de0373640e24c1797d860473c33c540",
       "placeholder": "​",
       "style": "IPY_MODEL_85d58b5886264699a05978d785acc61b",
       "tabbable": null,
       "tooltip": null,
       "value": " 3/3 [00:03&lt;00:00,  1.05s/it, Name=final_particles, Z=1]"
      }
     },
     "5f5a60ea89d6416e8518a77955ff56a0": {
      "model_module": "@jupyter-widgets/base",
      "model_module_version": "2.0.0",
      "model_name": "LayoutModel",
      "state": {
       "_model_module": "@jupyter-widgets/base",
       "_model_module_version": "2.0.0",
       "_model_name": "LayoutModel",
       "_view_count": null,
       "_view_module": "@jupyter-widgets/base",
       "_view_module_version": "2.0.0",
       "_view_name": "LayoutView",
       "align_content": null,
       "align_items": null,
       "align_self": null,
       "border_bottom": null,
       "border_left": null,
       "border_right": null,
       "border_top": null,
       "bottom": null,
       "display": null,
       "flex": null,
       "flex_flow": null,
       "grid_area": null,
       "grid_auto_columns": null,
       "grid_auto_flow": null,
       "grid_auto_rows": null,
       "grid_column": null,
       "grid_gap": null,
       "grid_row": null,
       "grid_template_areas": null,
       "grid_template_columns": null,
       "grid_template_rows": null,
       "height": null,
       "justify_content": null,
       "justify_items": null,
       "left": null,
       "margin": null,
       "max_height": null,
       "max_width": null,
       "min_height": null,
       "min_width": null,
       "object_fit": null,
       "object_position": null,
       "order": null,
       "overflow": null,
       "padding": null,
       "right": null,
       "top": null,
       "visibility": "hidden",
       "width": null
      }
     },
     "85d58b5886264699a05978d785acc61b": {
      "model_module": "@jupyter-widgets/controls",
      "model_module_version": "2.0.0",
      "model_name": "HTMLStyleModel",
      "state": {
       "_model_module": "@jupyter-widgets/controls",
       "_model_module_version": "2.0.0",
       "_model_name": "HTMLStyleModel",
       "_view_count": null,
       "_view_module": "@jupyter-widgets/base",
       "_view_module_version": "2.0.0",
       "_view_name": "StyleView",
       "background": null,
       "description_width": "",
       "font_size": null,
       "text_color": null
      }
     },
     "8ceeecf6e38c48a6ab8861c155953735": {
      "model_module": "@jupyter-widgets/base",
      "model_module_version": "2.0.0",
      "model_name": "LayoutModel",
      "state": {
       "_model_module": "@jupyter-widgets/base",
       "_model_module_version": "2.0.0",
       "_model_name": "LayoutModel",
       "_view_count": null,
       "_view_module": "@jupyter-widgets/base",
       "_view_module_version": "2.0.0",
       "_view_name": "LayoutView",
       "align_content": null,
       "align_items": null,
       "align_self": null,
       "border_bottom": null,
       "border_left": null,
       "border_right": null,
       "border_top": null,
       "bottom": null,
       "display": null,
       "flex": null,
       "flex_flow": null,
       "grid_area": null,
       "grid_auto_columns": null,
       "grid_auto_flow": null,
       "grid_auto_rows": null,
       "grid_column": null,
       "grid_gap": null,
       "grid_row": null,
       "grid_template_areas": null,
       "grid_template_columns": null,
       "grid_template_rows": null,
       "height": null,
       "justify_content": null,
       "justify_items": null,
       "left": null,
       "margin": null,
       "max_height": null,
       "max_width": null,
       "min_height": null,
       "min_width": null,
       "object_fit": null,
       "object_position": null,
       "order": null,
       "overflow": null,
       "padding": null,
       "right": null,
       "top": null,
       "visibility": null,
       "width": null
      }
     },
     "8f3bd8a22c9a44e6ae175a840ab306f8": {
      "model_module": "@jupyter-widgets/controls",
      "model_module_version": "2.0.0",
      "model_name": "HTMLStyleModel",
      "state": {
       "_model_module": "@jupyter-widgets/controls",
       "_model_module_version": "2.0.0",
       "_model_name": "HTMLStyleModel",
       "_view_count": null,
       "_view_module": "@jupyter-widgets/base",
       "_view_module_version": "2.0.0",
       "_view_name": "StyleView",
       "background": null,
       "description_width": "",
       "font_size": null,
       "text_color": null
      }
     },
     "8f92caa3d9d14836bd423c521815a0bb": {
      "model_module": "@jupyter-widgets/base",
      "model_module_version": "2.0.0",
      "model_name": "LayoutModel",
      "state": {
       "_model_module": "@jupyter-widgets/base",
       "_model_module_version": "2.0.0",
       "_model_name": "LayoutModel",
       "_view_count": null,
       "_view_module": "@jupyter-widgets/base",
       "_view_module_version": "2.0.0",
       "_view_name": "LayoutView",
       "align_content": null,
       "align_items": null,
       "align_self": null,
       "border_bottom": null,
       "border_left": null,
       "border_right": null,
       "border_top": null,
       "bottom": null,
       "display": null,
       "flex": null,
       "flex_flow": null,
       "grid_area": null,
       "grid_auto_columns": null,
       "grid_auto_flow": null,
       "grid_auto_rows": null,
       "grid_column": null,
       "grid_gap": null,
       "grid_row": null,
       "grid_template_areas": null,
       "grid_template_columns": null,
       "grid_template_rows": null,
       "height": null,
       "justify_content": null,
       "justify_items": null,
       "left": null,
       "margin": null,
       "max_height": null,
       "max_width": null,
       "min_height": null,
       "min_width": null,
       "object_fit": null,
       "object_position": null,
       "order": null,
       "overflow": null,
       "padding": null,
       "right": null,
       "top": null,
       "visibility": null,
       "width": null
      }
     },
     "9de0373640e24c1797d860473c33c540": {
      "model_module": "@jupyter-widgets/base",
      "model_module_version": "2.0.0",
      "model_name": "LayoutModel",
      "state": {
       "_model_module": "@jupyter-widgets/base",
       "_model_module_version": "2.0.0",
       "_model_name": "LayoutModel",
       "_view_count": null,
       "_view_module": "@jupyter-widgets/base",
       "_view_module_version": "2.0.0",
       "_view_name": "LayoutView",
       "align_content": null,
       "align_items": null,
       "align_self": null,
       "border_bottom": null,
       "border_left": null,
       "border_right": null,
       "border_top": null,
       "bottom": null,
       "display": null,
       "flex": null,
       "flex_flow": null,
       "grid_area": null,
       "grid_auto_columns": null,
       "grid_auto_flow": null,
       "grid_auto_rows": null,
       "grid_column": null,
       "grid_gap": null,
       "grid_row": null,
       "grid_template_areas": null,
       "grid_template_columns": null,
       "grid_template_rows": null,
       "height": null,
       "justify_content": null,
       "justify_items": null,
       "left": null,
       "margin": null,
       "max_height": null,
       "max_width": null,
       "min_height": null,
       "min_width": null,
       "object_fit": null,
       "object_position": null,
       "order": null,
       "overflow": null,
       "padding": null,
       "right": null,
       "top": null,
       "visibility": null,
       "width": null
      }
     },
     "a19b2f03186e4f318638f39c0763b508": {
      "model_module": "@jupyter-widgets/controls",
      "model_module_version": "2.0.0",
      "model_name": "HTMLModel",
      "state": {
       "_dom_classes": [],
       "_model_module": "@jupyter-widgets/controls",
       "_model_module_version": "2.0.0",
       "_model_name": "HTMLModel",
       "_view_count": null,
       "_view_module": "@jupyter-widgets/controls",
       "_view_module_version": "2.0.0",
       "_view_name": "HTMLView",
       "description": "",
       "description_allow_html": false,
       "layout": "IPY_MODEL_8ceeecf6e38c48a6ab8861c155953735",
       "placeholder": "​",
       "style": "IPY_MODEL_ea0f78cba1724e0580623aa8e3fcda68",
       "tabbable": null,
       "tooltip": null,
       "value": " 3/3 [00:03&lt;00:00,  1.03s/it, Name=final_particles, Z=1]"
      }
     },
     "aabe33256a504273bcf87ec4f40d8cc4": {
      "model_module": "@jupyter-widgets/base",
      "model_module_version": "2.0.0",
      "model_name": "LayoutModel",
      "state": {
       "_model_module": "@jupyter-widgets/base",
       "_model_module_version": "2.0.0",
       "_model_name": "LayoutModel",
       "_view_count": null,
       "_view_module": "@jupyter-widgets/base",
       "_view_module_version": "2.0.0",
       "_view_name": "LayoutView",
       "align_content": null,
       "align_items": null,
       "align_self": null,
       "border_bottom": null,
       "border_left": null,
       "border_right": null,
       "border_top": null,
       "bottom": null,
       "display": null,
       "flex": null,
       "flex_flow": null,
       "grid_area": null,
       "grid_auto_columns": null,
       "grid_auto_flow": null,
       "grid_auto_rows": null,
       "grid_column": null,
       "grid_gap": null,
       "grid_row": null,
       "grid_template_areas": null,
       "grid_template_columns": null,
       "grid_template_rows": null,
       "height": null,
       "justify_content": null,
       "justify_items": null,
       "left": null,
       "margin": null,
       "max_height": null,
       "max_width": null,
       "min_height": null,
       "min_width": null,
       "object_fit": null,
       "object_position": null,
       "order": null,
       "overflow": null,
       "padding": null,
       "right": null,
       "top": null,
       "visibility": null,
       "width": null
      }
     },
     "ae0f017d1c1447b79b424bdc1d43d297": {
      "model_module": "@jupyter-widgets/controls",
      "model_module_version": "2.0.0",
      "model_name": "FloatProgressModel",
      "state": {
       "_dom_classes": [],
       "_model_module": "@jupyter-widgets/controls",
       "_model_module_version": "2.0.0",
       "_model_name": "FloatProgressModel",
       "_view_count": null,
       "_view_module": "@jupyter-widgets/controls",
       "_view_module_version": "2.0.0",
       "_view_name": "ProgressView",
       "bar_style": "",
       "description": "",
       "description_allow_html": false,
       "layout": "IPY_MODEL_03096b289dce4468abbc23f5f6666f57",
       "max": 3.0,
       "min": 0.0,
       "orientation": "horizontal",
       "style": "IPY_MODEL_e17c136f036a4362a7e9047139f1c490",
       "tabbable": null,
       "tooltip": null,
       "value": 3.0
      }
     },
     "c09cca8d37fa43f2a3c9c8fe553b055f": {
      "model_module": "@jupyter-widgets/controls",
      "model_module_version": "2.0.0",
      "model_name": "HTMLModel",
      "state": {
       "_dom_classes": [],
       "_model_module": "@jupyter-widgets/controls",
       "_model_module_version": "2.0.0",
       "_model_name": "HTMLModel",
       "_view_count": null,
       "_view_module": "@jupyter-widgets/controls",
       "_view_module_version": "2.0.0",
       "_view_name": "HTMLView",
       "description": "",
       "description_allow_html": false,
       "layout": "IPY_MODEL_e20bcc082f7941a2a234589ecbe66c65",
       "placeholder": "​",
       "style": "IPY_MODEL_f9e9498e17c64babbd15d9badf2c4ccf",
       "tabbable": null,
       "tooltip": null,
       "value": "100%"
      }
     },
     "c114edfaf0d24dd483ea344a4b1c460a": {
      "model_module": "@jupyter-widgets/base",
      "model_module_version": "2.0.0",
      "model_name": "LayoutModel",
      "state": {
       "_model_module": "@jupyter-widgets/base",
       "_model_module_version": "2.0.0",
       "_model_name": "LayoutModel",
       "_view_count": null,
       "_view_module": "@jupyter-widgets/base",
       "_view_module_version": "2.0.0",
       "_view_name": "LayoutView",
       "align_content": null,
       "align_items": null,
       "align_self": null,
       "border_bottom": null,
       "border_left": null,
       "border_right": null,
       "border_top": null,
       "bottom": null,
       "display": null,
       "flex": null,
       "flex_flow": null,
       "grid_area": null,
       "grid_auto_columns": null,
       "grid_auto_flow": null,
       "grid_auto_rows": null,
       "grid_column": null,
       "grid_gap": null,
       "grid_row": null,
       "grid_template_areas": null,
       "grid_template_columns": null,
       "grid_template_rows": null,
       "height": null,
       "justify_content": null,
       "justify_items": null,
       "left": null,
       "margin": null,
       "max_height": null,
       "max_width": null,
       "min_height": null,
       "min_width": null,
       "object_fit": null,
       "object_position": null,
       "order": null,
       "overflow": null,
       "padding": null,
       "right": null,
       "top": null,
       "visibility": "hidden",
       "width": null
      }
     },
     "cb14e6ca55d04b409e8352fba6f6c70e": {
      "model_module": "@jupyter-widgets/controls",
      "model_module_version": "2.0.0",
      "model_name": "ProgressStyleModel",
      "state": {
       "_model_module": "@jupyter-widgets/controls",
       "_model_module_version": "2.0.0",
       "_model_name": "ProgressStyleModel",
       "_view_count": null,
       "_view_module": "@jupyter-widgets/base",
       "_view_module_version": "2.0.0",
       "_view_name": "StyleView",
       "bar_color": null,
       "description_width": ""
      }
     },
     "e17c136f036a4362a7e9047139f1c490": {
      "model_module": "@jupyter-widgets/controls",
      "model_module_version": "2.0.0",
      "model_name": "ProgressStyleModel",
      "state": {
       "_model_module": "@jupyter-widgets/controls",
       "_model_module_version": "2.0.0",
       "_model_name": "ProgressStyleModel",
       "_view_count": null,
       "_view_module": "@jupyter-widgets/base",
       "_view_module_version": "2.0.0",
       "_view_name": "StyleView",
       "bar_color": null,
       "description_width": ""
      }
     },
     "e20bcc082f7941a2a234589ecbe66c65": {
      "model_module": "@jupyter-widgets/base",
      "model_module_version": "2.0.0",
      "model_name": "LayoutModel",
      "state": {
       "_model_module": "@jupyter-widgets/base",
       "_model_module_version": "2.0.0",
       "_model_name": "LayoutModel",
       "_view_count": null,
       "_view_module": "@jupyter-widgets/base",
       "_view_module_version": "2.0.0",
       "_view_name": "LayoutView",
       "align_content": null,
       "align_items": null,
       "align_self": null,
       "border_bottom": null,
       "border_left": null,
       "border_right": null,
       "border_top": null,
       "bottom": null,
       "display": null,
       "flex": null,
       "flex_flow": null,
       "grid_area": null,
       "grid_auto_columns": null,
       "grid_auto_flow": null,
       "grid_auto_rows": null,
       "grid_column": null,
       "grid_gap": null,
       "grid_row": null,
       "grid_template_areas": null,
       "grid_template_columns": null,
       "grid_template_rows": null,
       "height": null,
       "justify_content": null,
       "justify_items": null,
       "left": null,
       "margin": null,
       "max_height": null,
       "max_width": null,
       "min_height": null,
       "min_width": null,
       "object_fit": null,
       "object_position": null,
       "order": null,
       "overflow": null,
       "padding": null,
       "right": null,
       "top": null,
       "visibility": null,
       "width": null
      }
     },
     "ea0f78cba1724e0580623aa8e3fcda68": {
      "model_module": "@jupyter-widgets/controls",
      "model_module_version": "2.0.0",
      "model_name": "HTMLStyleModel",
      "state": {
       "_model_module": "@jupyter-widgets/controls",
       "_model_module_version": "2.0.0",
       "_model_name": "HTMLStyleModel",
       "_view_count": null,
       "_view_module": "@jupyter-widgets/base",
       "_view_module_version": "2.0.0",
       "_view_name": "StyleView",
       "background": null,
       "description_width": "",
       "font_size": null,
       "text_color": null
      }
     },
     "ee2c4660df204db7ba2389cf7b03d269": {
      "model_module": "@jupyter-widgets/controls",
      "model_module_version": "2.0.0",
      "model_name": "HBoxModel",
      "state": {
       "_dom_classes": [],
       "_model_module": "@jupyter-widgets/controls",
       "_model_module_version": "2.0.0",
       "_model_name": "HBoxModel",
       "_view_count": null,
       "_view_module": "@jupyter-widgets/controls",
       "_view_module_version": "2.0.0",
       "_view_name": "HBoxView",
       "box_style": "",
       "children": [
        "IPY_MODEL_c09cca8d37fa43f2a3c9c8fe553b055f",
        "IPY_MODEL_eee74c044a304fa1a04d8cc33326a51b",
        "IPY_MODEL_a19b2f03186e4f318638f39c0763b508"
       ],
       "layout": "IPY_MODEL_5f5a60ea89d6416e8518a77955ff56a0",
       "tabbable": null,
       "tooltip": null
      }
     },
     "eee74c044a304fa1a04d8cc33326a51b": {
      "model_module": "@jupyter-widgets/controls",
      "model_module_version": "2.0.0",
      "model_name": "FloatProgressModel",
      "state": {
       "_dom_classes": [],
       "_model_module": "@jupyter-widgets/controls",
       "_model_module_version": "2.0.0",
       "_model_name": "FloatProgressModel",
       "_view_count": null,
       "_view_module": "@jupyter-widgets/controls",
       "_view_module_version": "2.0.0",
       "_view_name": "ProgressView",
       "bar_style": "",
       "description": "",
       "description_allow_html": false,
       "layout": "IPY_MODEL_aabe33256a504273bcf87ec4f40d8cc4",
       "max": 3.0,
       "min": 0.0,
       "orientation": "horizontal",
       "style": "IPY_MODEL_cb14e6ca55d04b409e8352fba6f6c70e",
       "tabbable": null,
       "tooltip": null,
       "value": 3.0
      }
     },
     "f9e9498e17c64babbd15d9badf2c4ccf": {
      "model_module": "@jupyter-widgets/controls",
      "model_module_version": "2.0.0",
      "model_name": "HTMLStyleModel",
      "state": {
       "_model_module": "@jupyter-widgets/controls",
       "_model_module_version": "2.0.0",
       "_model_name": "HTMLStyleModel",
       "_view_count": null,
       "_view_module": "@jupyter-widgets/base",
       "_view_module_version": "2.0.0",
       "_view_name": "StyleView",
       "background": null,
       "description_width": "",
       "font_size": null,
       "text_color": null
      }
     },
     "fc5f7b99977d4c15988c5b97c0d8cb64": {
      "model_module": "@jupyter-widgets/controls",
      "model_module_version": "2.0.0",
      "model_name": "HBoxModel",
      "state": {
       "_dom_classes": [],
       "_model_module": "@jupyter-widgets/controls",
       "_model_module_version": "2.0.0",
       "_model_name": "HBoxModel",
       "_view_count": null,
       "_view_module": "@jupyter-widgets/controls",
       "_view_module_version": "2.0.0",
       "_view_name": "HBoxView",
       "box_style": "",
       "children": [
        "IPY_MODEL_33dff29816d24ef8a92c0b9fe3188db3",
        "IPY_MODEL_ae0f017d1c1447b79b424bdc1d43d297",
        "IPY_MODEL_36a7c7066a7e4a7eb6cc5c82a0b8cc06"
       ],
       "layout": "IPY_MODEL_c114edfaf0d24dd483ea344a4b1c460a",
       "tabbable": null,
       "tooltip": null
      }
     }
    },
    "version_major": 2,
    "version_minor": 0
   }
  }
 },
 "nbformat": 4,
 "nbformat_minor": 4
}
