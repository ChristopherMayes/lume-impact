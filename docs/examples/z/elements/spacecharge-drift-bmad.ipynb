{
 "cells": [
  {
   "cell_type": "markdown",
   "metadata": {},
   "source": [
    "# Spacecharge Benchmark - Comparing to Bmad\n",
    "\n"
   ]
  },
  {
   "cell_type": "code",
   "execution_count": null,
   "metadata": {},
   "outputs": [],
   "source": [
    "import matplotlib.pyplot as plt\n",
    "import numpy as np\n",
    "import pandas as pd\n",
    "from pmd_beamphysics import ParticleGroup\n",
    "from pytao import Tao\n",
    "from scipy.constants import c\n",
    "\n",
    "import impact.z as IZ\n",
    "from impact.tests.z.conftest import bmad_files"
   ]
  },
  {
   "cell_type": "code",
   "execution_count": null,
   "metadata": {},
   "outputs": [],
   "source": [
    "TRACK_START = \"BEGINNING\"\n",
    "TRACK_END = \"END\"\n",
    "\n",
    "L = 1\n",
    "BUNCH_CHARGE = 1e-9\n",
    "\n",
    "NX = 32\n",
    "NY = 32\n",
    "NZ = 32\n",
    "N_PARTICLE = 10_000\n",
    "DS_STEP = 0.01\n",
    "\n",
    "BMAD_SC_ON = True  # Note that Impact-Z always has SC on\n",
    "\n",
    "CHIRP = 0\n",
    "\n",
    "LATTICE_FILE = bmad_files / \"drift.bmad\"\n",
    "\n",
    "E_TOT = 10e6\n",
    "BETA_A = 1000\n",
    "BETA_B = 1000"
   ]
  },
  {
   "cell_type": "code",
   "execution_count": null,
   "metadata": {},
   "outputs": [],
   "source": [
    "# Gaussian\n",
    "def set_gaussian(\n",
    "    tao,\n",
    "    n_particle=N_PARTICLE,\n",
    "    a_emit=1.0e-9,\n",
    "    b_emit=1.0e-9,\n",
    "    bunch_charge=1e-9 / 1000,\n",
    "    sig_pz0=1e-4,\n",
    "    sig_z=1e-4,\n",
    "    center_pz=0,\n",
    "    chirp=0,  # 1/m\n",
    "):\n",
    "    sig_pz = np.hypot(sig_pz0, chirp * sig_z)\n",
    "\n",
    "    cmds = [\n",
    "        f\"set beam_init n_particle = {n_particle}\",\n",
    "        \"set beam_init random_engine = quasi\",\n",
    "        \"set beam_init saved_at = MARKER::*, BEGINNING, END\",\n",
    "        f\"set beam_init a_emit = {a_emit}\",\n",
    "        f\"set beam_init b_emit = {b_emit}\",\n",
    "        f\"set beam_init bunch_charge = {bunch_charge}\",\n",
    "        f\"set beam_init sig_pz = {sig_pz}\",\n",
    "        f\"set beam_init sig_z = {sig_z}\",\n",
    "        f\"set beam_init dpz_dz = {chirp}\",\n",
    "        f\"set beam_init center(6) = {center_pz}\",\n",
    "        \"set beam_init random_sigma_cutoff = 4\",\n",
    "    ]\n",
    "    tao.cmds(cmds)\n",
    "    tao.cmd(\"set global lattice_calc_on = T\")\n",
    "\n",
    "\n",
    "def get_particles(tao, ele_id):\n",
    "    return ParticleGroup(data=tao.bunch_data(ele_id))"
   ]
  },
  {
   "cell_type": "code",
   "execution_count": null,
   "metadata": {},
   "outputs": [],
   "source": [
    "tao = Tao(lattice_file=LATTICE_FILE, plot=\"mpl\")\n",
    "\n",
    "tao.cmd(f\"set ele beginning e_tot = {E_TOT}\")\n",
    "tao.cmd(f\"set ele beginning beta_a = {BETA_A}\")\n",
    "tao.cmd(f\"set ele beginning beta_b = {BETA_B}\")\n",
    "\n",
    "set_gaussian(tao, n_particle=N_PARTICLE, bunch_charge=BUNCH_CHARGE, chirp=CHIRP)"
   ]
  },
  {
   "cell_type": "code",
   "execution_count": null,
   "metadata": {},
   "outputs": [],
   "source": [
    "tao.cmd(\"set bmad_com csr_and_space_charge_on = T\")\n",
    "tao.cmd(\"set space_charge particle_bin_span = 1\")\n",
    "tao.cmd(f\"set space_charge n_bin = {NZ}\")\n",
    "tao.cmd(f\"set space_charge ds_track_step = {DS_STEP}\")\n",
    "# tao.cmd(\"set bmad_com radiation_damping_on  = T\")  # off by default\n",
    "# tao.cmd(\"set bmad_com radiation_fluctuations_on = T\")  # off by default\n",
    "\n",
    "if BMAD_SC_ON:\n",
    "    tao.cmd(\"set ele * space_charge_method = fft_3d\")\n",
    "    tao.cmd(f\"set space_charge space_charge_mesh_size = {NX} {NY} {NZ}\")\n",
    "else:\n",
    "    tao.cmd(\"set ele * space_charge_method = off\")\n",
    "tao.cmd(f\"set ele * DS_STEP = {DS_STEP}\")"
   ]
  },
  {
   "cell_type": "code",
   "execution_count": null,
   "metadata": {},
   "outputs": [],
   "source": [
    "%%time\n",
    "tao.cmd(\"set global track_type = beam; set global track_type = single\")\n",
    "\n",
    "P0 = get_particles(tao, \"beginning\")\n",
    "P1 = get_particles(tao, \"end\")\n",
    "\n",
    "P0.plot(\"delta_t\", \"energy\")\n",
    "P0.plot(\"x\", \"y\")\n",
    "P1.plot(\"delta_t\", \"energy\"), P1[\"sigma_t\"] * c * 1e6"
   ]
  },
  {
   "cell_type": "code",
   "execution_count": null,
   "metadata": {},
   "outputs": [],
   "source": [
    "sigma_z0 = P0[\"sigma_t\"] * c\n",
    "sigma_z1 = P1[\"sigma_t\"] * c\n",
    "\n",
    "sigma_z0"
   ]
  },
  {
   "cell_type": "code",
   "execution_count": null,
   "metadata": {},
   "outputs": [],
   "source": [
    "# P0.drift_to_t()\n",
    "# P0['sigma_x']*1e3, P0['sigma_y']*1e3, P0['sigma_z']*1e3"
   ]
  },
  {
   "cell_type": "code",
   "execution_count": null,
   "metadata": {},
   "outputs": [],
   "source": [
    "sigma_z1 / sigma_z0"
   ]
  },
  {
   "cell_type": "markdown",
   "metadata": {},
   "source": [
    "# Impact-Z"
   ]
  },
  {
   "cell_type": "code",
   "execution_count": null,
   "metadata": {},
   "outputs": [],
   "source": [
    "input = IZ.ImpactZInput.from_tao(tao, verbose=False, write_beam_eles=\"\")\n",
    "I = IZ.ImpactZ(input, use_temp_dir=False, workdir=\"./tmp-sc-bench\")\n",
    "I.initial_particles = P0"
   ]
  },
  {
   "cell_type": "code",
   "execution_count": null,
   "metadata": {},
   "outputs": [],
   "source": [
    "I.input.space_charge_on()\n",
    "I.input.integrator_type = 1\n",
    "I.input.nx = NX\n",
    "I.input.ny = NY\n",
    "I.input.nz = NZ"
   ]
  },
  {
   "cell_type": "code",
   "execution_count": null,
   "metadata": {},
   "outputs": [],
   "source": [
    "I.input"
   ]
  },
  {
   "cell_type": "code",
   "execution_count": null,
   "metadata": {},
   "outputs": [],
   "source": [
    "%%time\n",
    "I.nproc = 1\n",
    "I.run(verbose=False);"
   ]
  },
  {
   "cell_type": "code",
   "execution_count": null,
   "metadata": {},
   "outputs": [],
   "source": [
    "P20 = I.output.particles[\"initial_particles\"]\n",
    "P2 = I.output.particles[\"final_particles\"]\n",
    "P2.plot(\"x\", \"y\")\n",
    "P2.plot(\"delta_t\", \"energy\")\n",
    "P2[\"sigma_t\"] / P20[\"sigma_t\"]"
   ]
  },
  {
   "cell_type": "code",
   "execution_count": null,
   "metadata": {},
   "outputs": [],
   "source": [
    "stats = I.output.stats\n",
    "mc2 = I.input.reference_particle_mass\n",
    "z = stats.z\n",
    "x = stats.mean_x\n",
    "y = stats.mean_y\n",
    "sigma_x = I.output.stats.sigma_x\n",
    "sigma_y = I.output.stats.sigma_y\n",
    "sigma_z = I.output.stats.sigma_t * c\n",
    "energy = stats.mean_energy\n",
    "\n",
    "ix_eles = tao.lat_list(\"*\", \"ele.ix_ele\")\n",
    "\n",
    "bparams = pd.DataFrame(list(map(tao.bunch_params, ix_eles)))\n",
    "\n",
    "\n",
    "x_tao = tao.bunch_comb(\"x\")\n",
    "y_tao = tao.bunch_comb(\"y\")\n",
    "sigma_x_tao = tao.bunch_comb(\"x.sigma\")\n",
    "sigma_y_tao = tao.bunch_comb(\"y.sigma\")\n",
    "sigma_z_tao = tao.bunch_comb(\"z.sigma\")\n",
    "p_tao = (1 + tao.bunch_comb(\"pz\")) * tao.bunch_comb(\"p0c\")\n",
    "energy_tao = np.hypot(p_tao, mc2)\n",
    "s_tao_raw = tao.bunch_comb(\"s\")\n",
    "s_tao = s_tao_raw - s_tao_raw[0]\n",
    "\n",
    "\n",
    "# s_tao2 = bparams.s - bparams.s[0]\n",
    "# sigma_x_tao2 = np.sqrt(bparams.sigma_11)\n",
    "# sigma_y_tao2 = np.sqrt(bparams.sigma_33)\n",
    "# sigma_z_tao2 = np.sqrt(bparams.sigma_55)\n",
    "\n",
    "fig, axes = plt.subplots(3, figsize=(12, 8))\n",
    "\n",
    "ax = axes[0]\n",
    "ax.plot(z, x * 1e6, label=\"Impact-Z\")\n",
    "ax.plot(s_tao, x_tao * 1e6, \"--\", label=\"Tao\")\n",
    "ax.set_ylabel(r\"$\\left<x\\right>$ (µm)\")\n",
    "\n",
    "ax = axes[1]\n",
    "ax.plot(z, sigma_x * 1e6, label=\"Impact-Z\")\n",
    "# ax1.plot(s_tao, sigma_x_tao, \"--\", label=\"Tao\")\n",
    "ax.plot(s_tao, sigma_x_tao * 1e6, \"--\", label=\"Tao\")\n",
    "ax.set_ylabel(r\"$\\sigma_x$ (µm)\")\n",
    "# ax1.set_yscale('log')\n",
    "\n",
    "ax = axes[2]\n",
    "ax.plot(z, sigma_z * 1e6, label=\"Impact-Z\")\n",
    "ax.plot(s_tao, sigma_z_tao * 1e6, \"--\", label=\"Tao\")\n",
    "ax.set_ylabel(r\"$\\sigma_z$ (µm)\")\n",
    "\n",
    "ax.legend()\n",
    "\n",
    "\n",
    "s_max = s_tao.max()\n",
    "for ax in axes:\n",
    "    ax.set_xlim(0, s_max)\n",
    "\n",
    "ax.set_xlabel(r\"$s$ (m)\")"
   ]
  },
  {
   "cell_type": "markdown",
   "metadata": {},
   "source": [
    "## Compare"
   ]
  },
  {
   "cell_type": "code",
   "execution_count": null,
   "metadata": {},
   "outputs": [],
   "source": [
    "def compare(\n",
    "    xkey=\"x\",\n",
    "    ykey=\"y\",\n",
    "):\n",
    "    fig, ax = plt.subplots()\n",
    "\n",
    "    plist = (\n",
    "        (P1, \"Bmad\", \"X\", \"blue\"),\n",
    "        (P2, \"Impact-Z\", \".\", \"orange\"),\n",
    "    )\n",
    "\n",
    "    for p, label, marker, color in plist:\n",
    "        ax.scatter(p[xkey], p[ykey], label=label, marker=marker, alpha=0.5, color=color)\n",
    "\n",
    "    for p, label, marker, color in plist:\n",
    "        ax.scatter(\n",
    "            p[\"mean_\" + xkey],\n",
    "            p[\"mean_\" + ykey],\n",
    "            marker=\"+\",\n",
    "            color=color,\n",
    "            facecolor=\"black\",\n",
    "        )\n",
    "\n",
    "    plt.legend()\n",
    "\n",
    "    ax.set_xlabel(xkey)\n",
    "    ax.set_ylabel(ykey)\n",
    "\n",
    "\n",
    "compare()"
   ]
  },
  {
   "cell_type": "code",
   "execution_count": null,
   "metadata": {},
   "outputs": [],
   "source": [
    "P1[\"mean_x\"], P2[\"mean_x\"]"
   ]
  },
  {
   "cell_type": "code",
   "execution_count": null,
   "metadata": {},
   "outputs": [],
   "source": [
    "compare(\"delta_t\", \"energy\")"
   ]
  },
  {
   "cell_type": "code",
   "execution_count": null,
   "metadata": {},
   "outputs": [],
   "source": [
    "compare(\"delta_t\", \"xp\")"
   ]
  },
  {
   "cell_type": "code",
   "execution_count": null,
   "metadata": {},
   "outputs": [],
   "source": [
    "energy0 = P0[\"mean_energy\"]\n",
    "P1[\"mean_energy\"] - energy0, P2[\"mean_energy\"] - energy0"
   ]
  },
  {
   "cell_type": "markdown",
   "metadata": {},
   "source": [
    "# Impact-Z Lorentz integrator \n",
    "\n",
    "`ImpactZInput.integrator_type = 2`\n",
    "\n",
    "Note that this is not expected to work as well because the dipole fringe fields are not able to be specified."
   ]
  },
  {
   "cell_type": "code",
   "execution_count": null,
   "metadata": {},
   "outputs": [],
   "source": [
    "I2 = I.copy()"
   ]
  },
  {
   "cell_type": "code",
   "execution_count": null,
   "metadata": {},
   "outputs": [],
   "source": [
    "I2.input.integrator_type = 2\n",
    "I2.run(verbose=False)\n",
    "\n",
    "P3 = I2.output.particles[\"final_particles\"]"
   ]
  },
  {
   "cell_type": "code",
   "execution_count": null,
   "metadata": {},
   "outputs": [],
   "source": [
    "stats1 = I.output.stats\n",
    "stats2 = I2.output.stats\n",
    "\n",
    "eref = I.output.stats.energy_ref[0]  # should be constant\n",
    "\n",
    "fig, ax = plt.subplots(1, figsize=(12, 4))\n",
    "\n",
    "ax.plot(stats1.z, (stats1.mean_energy - eref) / 1e6, label=\"Impact-T, map\")\n",
    "ax.plot(stats2.z, (stats2.mean_energy - eref) / 1e6, label=\"Impact-T, nonlinear\")\n",
    "\n",
    "ax.plot(s_tao, (energy_tao - eref) / 1e6, label=\"Bmad\")\n",
    "\n",
    "ax.set_xlabel(r\"$s$ (m)\")\n",
    "ax.set_ylabel(r\"$dE$ (MeV)\")\n",
    "\n",
    "plt.legend()"
   ]
  },
  {
   "cell_type": "code",
   "execution_count": null,
   "metadata": {},
   "outputs": [],
   "source": [
    "def compare(\n",
    "    xkey=\"x\",\n",
    "    ykey=\"y\",\n",
    "    skip=10,\n",
    "):\n",
    "    fig, ax = plt.subplots()\n",
    "\n",
    "    for p, label, marker in (\n",
    "        (P1, \"Bmad\", \"X\"),\n",
    "        (P2, \"Impact-Z map\", \".\"),\n",
    "        (P3, \"Impact-Z nonlinear\", \".\"),\n",
    "    ):\n",
    "        ax.scatter(\n",
    "            p[xkey][::skip], p[ykey][::skip], label=label, marker=marker, alpha=0.5\n",
    "        )\n",
    "\n",
    "    plt.legend()\n",
    "\n",
    "    ax.set_xlabel(xkey)\n",
    "    ax.set_ylabel(ykey)\n",
    "\n",
    "\n",
    "compare(\"delta_t\", \"xp\")"
   ]
  },
  {
   "cell_type": "code",
   "execution_count": null,
   "metadata": {},
   "outputs": [],
   "source": [
    "compare(\"delta_t\", \"energy\")"
   ]
  }
 ],
 "metadata": {
  "kernelspec": {
   "display_name": "Python 3 (ipykernel)",
   "language": "python",
   "name": "python3"
  },
  "language_info": {
   "codemirror_mode": {
    "name": "ipython",
    "version": 3
   },
   "file_extension": ".py",
   "mimetype": "text/x-python",
   "name": "python",
   "nbconvert_exporter": "python",
   "pygments_lexer": "ipython3",
   "version": "3.12.8"
  }
 },
 "nbformat": 4,
 "nbformat_minor": 4
}
