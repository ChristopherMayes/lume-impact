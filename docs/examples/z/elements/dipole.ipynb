{
 "cells": [
  {
   "cell_type": "markdown",
   "metadata": {},
   "source": [
    "# Dipole (bend) Example"
   ]
  },
  {
   "cell_type": "code",
   "execution_count": null,
   "metadata": {},
   "outputs": [],
   "source": [
    "from pmd_beamphysics import single_particle\n",
    "from pmd_beamphysics.units import mec2\n",
    "\n",
    "import impact.z as IZ"
   ]
  },
  {
   "cell_type": "code",
   "execution_count": null,
   "metadata": {},
   "outputs": [],
   "source": [
    "reference_particle_mass = mec2\n",
    "energy = 10e6\n",
    "gamma = energy / mec2\n",
    "sigma_x0 = 0.001\n",
    "norm_emit_x = 1e-12\n",
    "norm_emit_y = 1e-12\n",
    "beta_x = sigma_x0**2 * gamma / norm_emit_x\n",
    "beta_y = beta_x\n",
    "\n",
    "n_particle = 1"
   ]
  },
  {
   "cell_type": "code",
   "execution_count": null,
   "metadata": {},
   "outputs": [],
   "source": [
    "initial_particles = single_particle(pz=energy)"
   ]
  },
  {
   "cell_type": "code",
   "execution_count": null,
   "metadata": {},
   "outputs": [],
   "source": [
    "input = IZ.ImpactZInput(\n",
    "    # line 1\n",
    "    ncpu_y=1,\n",
    "    ncpu_z=1,\n",
    "    # line 2\n",
    "    seed=6,\n",
    "    n_particle=n_particle,\n",
    "    integrator_type=\"linear_map\",\n",
    "    err=1,\n",
    "    diagnostic_type=\"extended\",\n",
    "    # line 3\n",
    "    nx=32,\n",
    "    ny=32,\n",
    "    nz=32,\n",
    "    boundary_type=\"trans_open_longi_open\",\n",
    "    radius_x=0.15,  # particles die after this point\n",
    "    radius_y=0.15,\n",
    "    z_period_size=0.0,  # TODO we think this is unused based on fortran code reading\n",
    "    # line 4\n",
    "    distribution=\"read\",  # \"gauss\",\n",
    "    restart=0,\n",
    "    subcycle=0,  # TODO what is this?\n",
    "    nbunch=1,\n",
    "    # line 8\n",
    "    twiss_alpha_x=0.0,\n",
    "    twiss_beta_x=beta_x,\n",
    "    twiss_norm_emit_x=norm_emit_x,\n",
    "    twiss_mismatch_x=1.0,\n",
    "    twiss_mismatch_px=1.0,\n",
    "    twiss_offset_x=0.0,\n",
    "    twiss_offset_px=0.0,\n",
    "    # line 9\n",
    "    twiss_alpha_y=0.0,\n",
    "    twiss_beta_y=beta_y,\n",
    "    twiss_norm_emit_y=norm_emit_y,\n",
    "    twiss_mismatch_y=1.0,\n",
    "    twiss_mismatch_py=1.0,\n",
    "    twiss_offset_y=0.0,\n",
    "    twiss_offset_py=0.0,\n",
    "    # line 10\n",
    "    twiss_alpha_z=0.0,\n",
    "    twiss_beta_z=5e9,\n",
    "    twiss_norm_emit_z=1e-9,\n",
    "    twiss_mismatch_z=1.0,\n",
    "    twiss_mismatch_e_z=1.0,\n",
    "    twiss_offset_phase_z=0.0,\n",
    "    twiss_offset_energy_z=0.0,\n",
    "    # line 11\n",
    "    # average_current=1.0,  # space charge on\n",
    "    average_current=0.0,  # space charge off\n",
    "    reference_kinetic_energy=energy - mec2,  # eV -> 10MeV total energy\n",
    "    reference_particle_mass=reference_particle_mass,\n",
    "    reference_particle_charge=-1.0,\n",
    "    reference_frequency=1e9,  # arbitrarily set to 1GHz here\n",
    "    initial_phase_ref=0.0,\n",
    "    lattice=[\n",
    "        IZ.WriteFull(file_id=1999, name=\"initial_particles\"),\n",
    "        # IZ.Drift(length=1e-9, steps=10, map_steps=10),  # <- to get initial particles, set this and set average_current to 0.0\n",
    "        # IZ.Drift(length=1.0, radius=1.0, steps=10, map_steps=10, name=\"drift1\"),\n",
    "        IZ.Dipole(\n",
    "            length=1.0,  # [m]\n",
    "            steps=10,  # Number of space-charge kicks through the beamline element. Each \"step\" consists of a half-step, a space-charge kick, and another half-step.\n",
    "            map_steps=10,  # Each half-step involves computing a map for that half-element which is computed by numerical integration.\n",
    "            angle=1e-12,\n",
    "            k1=0.0,\n",
    "            input_switch=0.0,  # input switch 150., if >200, include 1D CSR\n",
    "            hgap=0.0,\n",
    "            e1=0.0,\n",
    "            e2=0.0,\n",
    "            entrance_curvature=0.0,\n",
    "            exit_curvature=0.0,\n",
    "            fint=0.0,\n",
    "            misalignment_error_x=0.0,\n",
    "            misalignment_error_y=0.0,\n",
    "            rotation_error_x=0.0,\n",
    "            rotation_error_y=0.0,\n",
    "            rotation_error_z=0.0,\n",
    "            name=\"dipole1\",\n",
    "        ),\n",
    "        IZ.WriteFull(file_id=2000, name=\"final_particles\"),\n",
    "    ],\n",
    ")"
   ]
  },
  {
   "cell_type": "code",
   "execution_count": null,
   "metadata": {},
   "outputs": [],
   "source": [
    "input.space_charge_off()"
   ]
  },
  {
   "cell_type": "code",
   "execution_count": null,
   "metadata": {},
   "outputs": [],
   "source": [
    "initial_particles.weight"
   ]
  },
  {
   "cell_type": "code",
   "execution_count": null,
   "metadata": {},
   "outputs": [],
   "source": [
    "I = IZ.ImpactZ(input, initial_particles=initial_particles)\n",
    "\n",
    "output = I.run(verbose=True)"
   ]
  },
  {
   "cell_type": "code",
   "execution_count": null,
   "metadata": {},
   "outputs": [],
   "source": [
    "I.plot()"
   ]
  },
  {
   "cell_type": "code",
   "execution_count": null,
   "metadata": {
    "scrolled": true
   },
   "outputs": [],
   "source": [
    "I.output"
   ]
  },
  {
   "cell_type": "code",
   "execution_count": null,
   "metadata": {},
   "outputs": [],
   "source": [
    "list(I.output.particles_raw)"
   ]
  },
  {
   "cell_type": "code",
   "execution_count": null,
   "metadata": {},
   "outputs": [],
   "source": [
    "Pin = I.output.particles[\"initial_particles\"]\n",
    "# Our initial particles must be the same as what Impact-Z wrote:\n",
    "assert initial_particles == Pin"
   ]
  },
  {
   "cell_type": "code",
   "execution_count": null,
   "metadata": {},
   "outputs": [],
   "source": [
    "P_raw = I.output.particles_raw[\"final_particles\"]\n",
    "P = I.output.particles[\"final_particles\"]"
   ]
  },
  {
   "cell_type": "code",
   "execution_count": null,
   "metadata": {},
   "outputs": [],
   "source": [
    "I.plot(\"mean_x\")"
   ]
  }
 ],
 "metadata": {
  "kernelspec": {
   "display_name": "Python 3 (ipykernel)",
   "language": "python",
   "name": "python3"
  },
  "language_info": {
   "codemirror_mode": {
    "name": "ipython",
    "version": 3
   },
   "file_extension": ".py",
   "mimetype": "text/x-python",
   "name": "python",
   "nbconvert_exporter": "python",
   "pygments_lexer": "ipython3",
   "version": "3.12.9"
  }
 },
 "nbformat": 4,
 "nbformat_minor": 4
}
