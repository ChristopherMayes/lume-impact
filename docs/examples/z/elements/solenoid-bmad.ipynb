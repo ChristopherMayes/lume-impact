{
 "cells": [
  {
   "cell_type": "markdown",
   "metadata": {},
   "source": [
    "# Solenoid - Comparing to Bmad"
   ]
  },
  {
   "cell_type": "code",
   "execution_count": null,
   "metadata": {
    "execution": {
     "iopub.execute_input": "2025-02-20T21:33:53.846089Z",
     "iopub.status.busy": "2025-02-20T21:33:53.845629Z",
     "iopub.status.idle": "2025-02-20T21:33:55.002173Z",
     "shell.execute_reply": "2025-02-20T21:33:55.001724Z"
    }
   },
   "outputs": [],
   "source": [
    "import matplotlib.pyplot as plt\n",
    "import numpy as np\n",
    "from pmd_beamphysics import single_particle\n",
    "from pmd_beamphysics.units import mec2\n",
    "from pytao import Tao\n",
    "\n",
    "import impact.z as IZ\n",
    "from impact.tests.z.conftest import bmad_files\n",
    "from impact.z.interfaces.bmad import export_particles as tao_export_particles"
   ]
  },
  {
   "cell_type": "code",
   "execution_count": null,
   "metadata": {
    "execution": {
     "iopub.execute_input": "2025-02-20T21:33:55.003838Z",
     "iopub.status.busy": "2025-02-20T21:33:55.003661Z",
     "iopub.status.idle": "2025-02-20T21:33:55.005467Z",
     "shell.execute_reply": "2025-02-20T21:33:55.005243Z"
    }
   },
   "outputs": [],
   "source": [
    "energy = 10e6\n",
    "pz = np.sqrt(energy**2 - mec2**2)\n",
    "P0 = single_particle(x=1e-3, pz=pz)"
   ]
  },
  {
   "cell_type": "code",
   "execution_count": null,
   "metadata": {
    "execution": {
     "iopub.execute_input": "2025-02-20T21:33:55.006628Z",
     "iopub.status.busy": "2025-02-20T21:33:55.006546Z",
     "iopub.status.idle": "2025-02-20T21:33:55.126711Z",
     "shell.execute_reply": "2025-02-20T21:33:55.126247Z"
    }
   },
   "outputs": [],
   "source": [
    "!cat $bmad_files/solenoid.bmad"
   ]
  },
  {
   "cell_type": "code",
   "execution_count": null,
   "metadata": {
    "execution": {
     "iopub.execute_input": "2025-02-20T21:33:55.128572Z",
     "iopub.status.busy": "2025-02-20T21:33:55.128426Z",
     "iopub.status.idle": "2025-02-20T21:33:55.168231Z",
     "shell.execute_reply": "2025-02-20T21:33:55.167941Z"
    }
   },
   "outputs": [],
   "source": [
    "tao = Tao(lattice_file=bmad_files / \"solenoid.bmad\", plot=\"mpl\")"
   ]
  },
  {
   "cell_type": "code",
   "execution_count": null,
   "metadata": {
    "execution": {
     "iopub.execute_input": "2025-02-20T21:33:55.169655Z",
     "iopub.status.busy": "2025-02-20T21:33:55.169571Z",
     "iopub.status.idle": "2025-02-20T21:33:55.372290Z",
     "shell.execute_reply": "2025-02-20T21:33:55.372009Z"
    }
   },
   "outputs": [],
   "source": [
    "P0.write(\"solenoid_initial_particles.h5\")\n",
    "for cmd in [\n",
    "    \"set beam_init position_file = solenoid_initial_particles.h5\",\n",
    "    f\"set beam_init n_particle = {len(P0)}\",\n",
    "    f\"set beam_init bunch_charge = {P0.charge}\",\n",
    "    \"set beam_init saved_at = *\",\n",
    "    \"set global track_type = single\",\n",
    "    \"set global track_type = beam\",\n",
    "]:\n",
    "    res = tao.cmd(cmd)\n",
    "    if res:\n",
    "        print(\"\\n\".join(res))"
   ]
  },
  {
   "cell_type": "code",
   "execution_count": null,
   "metadata": {
    "execution": {
     "iopub.execute_input": "2025-02-20T21:33:55.373678Z",
     "iopub.status.busy": "2025-02-20T21:33:55.373591Z",
     "iopub.status.idle": "2025-02-20T21:33:55.600949Z",
     "shell.execute_reply": "2025-02-20T21:33:55.600640Z"
    }
   },
   "outputs": [],
   "source": [
    "tao.plot(\"beta\", include_layout=False)"
   ]
  },
  {
   "cell_type": "code",
   "execution_count": null,
   "metadata": {
    "execution": {
     "iopub.execute_input": "2025-02-20T21:33:55.602203Z",
     "iopub.status.busy": "2025-02-20T21:33:55.602100Z",
     "iopub.status.idle": "2025-02-20T21:33:55.611252Z",
     "shell.execute_reply": "2025-02-20T21:33:55.611015Z"
    }
   },
   "outputs": [],
   "source": [
    "I = IZ.ImpactZ.from_tao(\n",
    "    tao, use_temp_dir=False, workdir=\"./solenoid-bmad\", initial_particles=P0\n",
    ")"
   ]
  },
  {
   "cell_type": "code",
   "execution_count": null,
   "metadata": {
    "execution": {
     "iopub.execute_input": "2025-02-20T21:33:55.612487Z",
     "iopub.status.busy": "2025-02-20T21:33:55.612394Z",
     "iopub.status.idle": "2025-02-20T21:33:55.618560Z",
     "shell.execute_reply": "2025-02-20T21:33:55.618315Z"
    }
   },
   "outputs": [],
   "source": [
    "I.input.solenoid"
   ]
  },
  {
   "cell_type": "code",
   "execution_count": null,
   "metadata": {
    "execution": {
     "iopub.execute_input": "2025-02-20T21:33:55.619708Z",
     "iopub.status.busy": "2025-02-20T21:33:55.619631Z",
     "iopub.status.idle": "2025-02-20T21:33:55.685211Z",
     "shell.execute_reply": "2025-02-20T21:33:55.684934Z"
    }
   },
   "outputs": [],
   "source": [
    "output = I.run()"
   ]
  },
  {
   "cell_type": "code",
   "execution_count": null,
   "metadata": {
    "execution": {
     "iopub.execute_input": "2025-02-20T21:33:55.686599Z",
     "iopub.status.busy": "2025-02-20T21:33:55.686443Z",
     "iopub.status.idle": "2025-02-20T21:33:55.771811Z",
     "shell.execute_reply": "2025-02-20T21:33:55.771549Z"
    }
   },
   "outputs": [],
   "source": [
    "I.output"
   ]
  },
  {
   "cell_type": "code",
   "execution_count": null,
   "metadata": {
    "execution": {
     "iopub.execute_input": "2025-02-20T21:33:55.772987Z",
     "iopub.status.busy": "2025-02-20T21:33:55.772903Z",
     "iopub.status.idle": "2025-02-20T21:33:55.778892Z",
     "shell.execute_reply": "2025-02-20T21:33:55.778648Z"
    }
   },
   "outputs": [],
   "source": [
    "Ptao = tao_export_particles(tao, \"END\")"
   ]
  },
  {
   "cell_type": "code",
   "execution_count": null,
   "metadata": {
    "execution": {
     "iopub.execute_input": "2025-02-20T21:33:55.780043Z",
     "iopub.status.busy": "2025-02-20T21:33:55.779947Z",
     "iopub.status.idle": "2025-02-20T21:33:55.933653Z",
     "shell.execute_reply": "2025-02-20T21:33:55.933373Z"
    }
   },
   "outputs": [],
   "source": [
    "mc2 = I.input.reference_particle_mass\n",
    "stats = I.output.stats\n",
    "z = stats.z\n",
    "x = stats.mean_x\n",
    "y = stats.mean_y\n",
    "energy = stats.mean_energy\n",
    "\n",
    "x_tao = tao.bunch_comb(\"x\")\n",
    "y_tao = tao.bunch_comb(\"y\")\n",
    "s_tao = tao.bunch_comb(\"s\")\n",
    "p_tao = (1 + tao.bunch_comb(\"pz\")) * tao.bunch_comb(\"p0c\")\n",
    "energy_tao = np.hypot(p_tao, mc2)\n",
    "\n",
    "fig, (ax1, ax2, ax3, ax4) = plt.subplots(4, figsize=(8, 8), sharex=True)\n",
    "ax1.plot(z, x, label=\"Impact-Z\")\n",
    "ax1.plot(s_tao, x_tao, \"--\", label=\"Tao\")\n",
    "ax1.set_ylabel(r\"$x$ (m)\")\n",
    "ax1.legend()\n",
    "\n",
    "ax2.plot(z, y, label=\"Impact-Z\")\n",
    "ax2.plot(s_tao, y_tao, \"--\", label=\"Tao\")\n",
    "ax2.set_ylabel(r\"$y$ (m)\")\n",
    "\n",
    "ax3.plot(z, energy / 1e6, label=\"Impact-Z\")\n",
    "ax3.plot(s_tao, energy_tao / 1e6, \"--\", label=\"Tao\")\n",
    "ax3.set_ylabel(r\"$E$ (MeV)\")\n",
    "ax3.set_xlabel(r\"$s$ (m)\")\n",
    "\n",
    "I.input.plot(ax=ax4, include_marker_labels=False);"
   ]
  }
 ],
 "metadata": {
  "kernelspec": {
   "display_name": "Python 3 (ipykernel)",
   "language": "python",
   "name": "python3"
  },
  "language_info": {
   "codemirror_mode": {
    "name": "ipython",
    "version": 3
   },
   "file_extension": ".py",
   "mimetype": "text/x-python",
   "name": "python",
   "nbconvert_exporter": "python",
   "pygments_lexer": "ipython3",
   "version": "3.12.8"
  },
  "widgets": {
   "application/vnd.jupyter.widget-state+json": {
    "state": {
     "012e74fbfc7644d2af1c6147fa36c657": {
      "model_module": "@jupyter-widgets/base",
      "model_module_version": "2.0.0",
      "model_name": "LayoutModel",
      "state": {
       "_model_module": "@jupyter-widgets/base",
       "_model_module_version": "2.0.0",
       "_model_name": "LayoutModel",
       "_view_count": null,
       "_view_module": "@jupyter-widgets/base",
       "_view_module_version": "2.0.0",
       "_view_name": "LayoutView",
       "align_content": null,
       "align_items": null,
       "align_self": null,
       "border_bottom": null,
       "border_left": null,
       "border_right": null,
       "border_top": null,
       "bottom": null,
       "display": null,
       "flex": null,
       "flex_flow": null,
       "grid_area": null,
       "grid_auto_columns": null,
       "grid_auto_flow": null,
       "grid_auto_rows": null,
       "grid_column": null,
       "grid_gap": null,
       "grid_row": null,
       "grid_template_areas": null,
       "grid_template_columns": null,
       "grid_template_rows": null,
       "height": null,
       "justify_content": null,
       "justify_items": null,
       "left": null,
       "margin": null,
       "max_height": null,
       "max_width": null,
       "min_height": null,
       "min_width": null,
       "object_fit": null,
       "object_position": null,
       "order": null,
       "overflow": null,
       "padding": null,
       "right": null,
       "top": null,
       "visibility": "hidden",
       "width": null
      }
     },
     "1b07b20e6c0b4ba79069901b3cdcc14b": {
      "model_module": "@jupyter-widgets/base",
      "model_module_version": "2.0.0",
      "model_name": "LayoutModel",
      "state": {
       "_model_module": "@jupyter-widgets/base",
       "_model_module_version": "2.0.0",
       "_model_name": "LayoutModel",
       "_view_count": null,
       "_view_module": "@jupyter-widgets/base",
       "_view_module_version": "2.0.0",
       "_view_name": "LayoutView",
       "align_content": null,
       "align_items": null,
       "align_self": null,
       "border_bottom": null,
       "border_left": null,
       "border_right": null,
       "border_top": null,
       "bottom": null,
       "display": null,
       "flex": null,
       "flex_flow": null,
       "grid_area": null,
       "grid_auto_columns": null,
       "grid_auto_flow": null,
       "grid_auto_rows": null,
       "grid_column": null,
       "grid_gap": null,
       "grid_row": null,
       "grid_template_areas": null,
       "grid_template_columns": null,
       "grid_template_rows": null,
       "height": null,
       "justify_content": null,
       "justify_items": null,
       "left": null,
       "margin": null,
       "max_height": null,
       "max_width": null,
       "min_height": null,
       "min_width": null,
       "object_fit": null,
       "object_position": null,
       "order": null,
       "overflow": null,
       "padding": null,
       "right": null,
       "top": null,
       "visibility": null,
       "width": null
      }
     },
     "209e34abf5eb4b84bcfee2100225ea95": {
      "model_module": "@jupyter-widgets/controls",
      "model_module_version": "2.0.0",
      "model_name": "HTMLStyleModel",
      "state": {
       "_model_module": "@jupyter-widgets/controls",
       "_model_module_version": "2.0.0",
       "_model_name": "HTMLStyleModel",
       "_view_count": null,
       "_view_module": "@jupyter-widgets/base",
       "_view_module_version": "2.0.0",
       "_view_name": "StyleView",
       "background": null,
       "description_width": "",
       "font_size": null,
       "text_color": null
      }
     },
     "23d34fceb01a46f3943d14a64b407842": {
      "model_module": "@jupyter-widgets/controls",
      "model_module_version": "2.0.0",
      "model_name": "ProgressStyleModel",
      "state": {
       "_model_module": "@jupyter-widgets/controls",
       "_model_module_version": "2.0.0",
       "_model_name": "ProgressStyleModel",
       "_view_count": null,
       "_view_module": "@jupyter-widgets/base",
       "_view_module_version": "2.0.0",
       "_view_name": "StyleView",
       "bar_color": null,
       "description_width": ""
      }
     },
     "427c9f2deab245e18493a1f30a322e60": {
      "model_module": "@jupyter-widgets/base",
      "model_module_version": "2.0.0",
      "model_name": "LayoutModel",
      "state": {
       "_model_module": "@jupyter-widgets/base",
       "_model_module_version": "2.0.0",
       "_model_name": "LayoutModel",
       "_view_count": null,
       "_view_module": "@jupyter-widgets/base",
       "_view_module_version": "2.0.0",
       "_view_name": "LayoutView",
       "align_content": null,
       "align_items": null,
       "align_self": null,
       "border_bottom": null,
       "border_left": null,
       "border_right": null,
       "border_top": null,
       "bottom": null,
       "display": null,
       "flex": null,
       "flex_flow": null,
       "grid_area": null,
       "grid_auto_columns": null,
       "grid_auto_flow": null,
       "grid_auto_rows": null,
       "grid_column": null,
       "grid_gap": null,
       "grid_row": null,
       "grid_template_areas": null,
       "grid_template_columns": null,
       "grid_template_rows": null,
       "height": null,
       "justify_content": null,
       "justify_items": null,
       "left": null,
       "margin": null,
       "max_height": null,
       "max_width": null,
       "min_height": null,
       "min_width": null,
       "object_fit": null,
       "object_position": null,
       "order": null,
       "overflow": null,
       "padding": null,
       "right": null,
       "top": null,
       "visibility": null,
       "width": null
      }
     },
     "5d5c59de5eed4973b6ecfedd7dd00fe8": {
      "model_module": "@jupyter-widgets/controls",
      "model_module_version": "2.0.0",
      "model_name": "HTMLStyleModel",
      "state": {
       "_model_module": "@jupyter-widgets/controls",
       "_model_module_version": "2.0.0",
       "_model_name": "HTMLStyleModel",
       "_view_count": null,
       "_view_module": "@jupyter-widgets/base",
       "_view_module_version": "2.0.0",
       "_view_name": "StyleView",
       "background": null,
       "description_width": "",
       "font_size": null,
       "text_color": null
      }
     },
     "84798b5c512e436aba5d641aee14a242": {
      "model_module": "@jupyter-widgets/controls",
      "model_module_version": "2.0.0",
      "model_name": "HBoxModel",
      "state": {
       "_dom_classes": [],
       "_model_module": "@jupyter-widgets/controls",
       "_model_module_version": "2.0.0",
       "_model_name": "HBoxModel",
       "_view_count": null,
       "_view_module": "@jupyter-widgets/controls",
       "_view_module_version": "2.0.0",
       "_view_name": "HBoxView",
       "box_style": "",
       "children": [
        "IPY_MODEL_c5f6aeb6351340fcbe192291ce3f12cf",
        "IPY_MODEL_d76cd2046e0046ba9ec310d864188316",
        "IPY_MODEL_f8c97524e4584190ab5d58dcb3fbc916"
       ],
       "layout": "IPY_MODEL_012e74fbfc7644d2af1c6147fa36c657",
       "tabbable": null,
       "tooltip": null
      }
     },
     "c5f6aeb6351340fcbe192291ce3f12cf": {
      "model_module": "@jupyter-widgets/controls",
      "model_module_version": "2.0.0",
      "model_name": "HTMLModel",
      "state": {
       "_dom_classes": [],
       "_model_module": "@jupyter-widgets/controls",
       "_model_module_version": "2.0.0",
       "_model_name": "HTMLModel",
       "_view_count": null,
       "_view_module": "@jupyter-widgets/controls",
       "_view_module_version": "2.0.0",
       "_view_name": "HTMLView",
       "description": "",
       "description_allow_html": false,
       "layout": "IPY_MODEL_e6cfbef63fe841c4b91f003a4a70b300",
       "placeholder": "​",
       "style": "IPY_MODEL_209e34abf5eb4b84bcfee2100225ea95",
       "tabbable": null,
       "tooltip": null,
       "value": "100%"
      }
     },
     "d76cd2046e0046ba9ec310d864188316": {
      "model_module": "@jupyter-widgets/controls",
      "model_module_version": "2.0.0",
      "model_name": "FloatProgressModel",
      "state": {
       "_dom_classes": [],
       "_model_module": "@jupyter-widgets/controls",
       "_model_module_version": "2.0.0",
       "_model_name": "FloatProgressModel",
       "_view_count": null,
       "_view_module": "@jupyter-widgets/controls",
       "_view_module_version": "2.0.0",
       "_view_name": "ProgressView",
       "bar_style": "",
       "description": "",
       "description_allow_html": false,
       "layout": "IPY_MODEL_427c9f2deab245e18493a1f30a322e60",
       "max": 4.0,
       "min": 0.0,
       "orientation": "horizontal",
       "style": "IPY_MODEL_23d34fceb01a46f3943d14a64b407842",
       "tabbable": null,
       "tooltip": null,
       "value": 4.0
      }
     },
     "e6cfbef63fe841c4b91f003a4a70b300": {
      "model_module": "@jupyter-widgets/base",
      "model_module_version": "2.0.0",
      "model_name": "LayoutModel",
      "state": {
       "_model_module": "@jupyter-widgets/base",
       "_model_module_version": "2.0.0",
       "_model_name": "LayoutModel",
       "_view_count": null,
       "_view_module": "@jupyter-widgets/base",
       "_view_module_version": "2.0.0",
       "_view_name": "LayoutView",
       "align_content": null,
       "align_items": null,
       "align_self": null,
       "border_bottom": null,
       "border_left": null,
       "border_right": null,
       "border_top": null,
       "bottom": null,
       "display": null,
       "flex": null,
       "flex_flow": null,
       "grid_area": null,
       "grid_auto_columns": null,
       "grid_auto_flow": null,
       "grid_auto_rows": null,
       "grid_column": null,
       "grid_gap": null,
       "grid_row": null,
       "grid_template_areas": null,
       "grid_template_columns": null,
       "grid_template_rows": null,
       "height": null,
       "justify_content": null,
       "justify_items": null,
       "left": null,
       "margin": null,
       "max_height": null,
       "max_width": null,
       "min_height": null,
       "min_width": null,
       "object_fit": null,
       "object_position": null,
       "order": null,
       "overflow": null,
       "padding": null,
       "right": null,
       "top": null,
       "visibility": null,
       "width": null
      }
     },
     "f8c97524e4584190ab5d58dcb3fbc916": {
      "model_module": "@jupyter-widgets/controls",
      "model_module_version": "2.0.0",
      "model_name": "HTMLModel",
      "state": {
       "_dom_classes": [],
       "_model_module": "@jupyter-widgets/controls",
       "_model_module_version": "2.0.0",
       "_model_name": "HTMLModel",
       "_view_count": null,
       "_view_module": "@jupyter-widgets/controls",
       "_view_module_version": "2.0.0",
       "_view_name": "HTMLView",
       "description": "",
       "description_allow_html": false,
       "layout": "IPY_MODEL_1b07b20e6c0b4ba79069901b3cdcc14b",
       "placeholder": "​",
       "style": "IPY_MODEL_5d5c59de5eed4973b6ecfedd7dd00fe8",
       "tabbable": null,
       "tooltip": null,
       "value": " 4/4 [00:00&lt;00:00, 228.23it/s, Name=final_particles, Z=2.6]"
      }
     }
    },
    "version_major": 2,
    "version_minor": 0
   }
  }
 },
 "nbformat": 4,
 "nbformat_minor": 4
}
