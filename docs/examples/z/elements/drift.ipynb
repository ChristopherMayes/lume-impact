{
 "cells": [
  {
   "cell_type": "markdown",
   "metadata": {},
   "source": [
    "# Drift Example\n",
    "\n",
    "Simple 1 m drift."
   ]
  },
  {
   "cell_type": "code",
   "execution_count": null,
   "metadata": {
    "execution": {
     "iopub.execute_input": "2025-02-20T21:33:15.566521Z",
     "iopub.status.busy": "2025-02-20T21:33:15.566077Z",
     "iopub.status.idle": "2025-02-20T21:33:16.601994Z",
     "shell.execute_reply": "2025-02-20T21:33:16.601597Z"
    }
   },
   "outputs": [],
   "source": [
    "import matplotlib.pyplot as plt\n",
    "import numpy as np\n",
    "from pmd_beamphysics import single_particle\n",
    "from pmd_beamphysics.units import mec2\n",
    "\n",
    "import impact.z as IZ"
   ]
  },
  {
   "cell_type": "code",
   "execution_count": null,
   "metadata": {
    "execution": {
     "iopub.execute_input": "2025-02-20T21:33:16.603590Z",
     "iopub.status.busy": "2025-02-20T21:33:16.603460Z",
     "iopub.status.idle": "2025-02-20T21:33:16.605512Z",
     "shell.execute_reply": "2025-02-20T21:33:16.605225Z"
    }
   },
   "outputs": [],
   "source": [
    "reference_particle_mass = mec2\n",
    "energy = 10e6\n",
    "gamma = energy / mec2\n",
    "sigma_x0 = 0.001\n",
    "norm_emit_x = 1e-12\n",
    "norm_emit_y = 1e-12\n",
    "beta_x = sigma_x0**2 * gamma / norm_emit_x\n",
    "beta_y = beta_x\n",
    "\n",
    "# Should give beta_x = 19569511.835591838 m\n",
    "initial_particles = single_particle(pz=energy)"
   ]
  },
  {
   "cell_type": "code",
   "execution_count": null,
   "metadata": {
    "execution": {
     "iopub.execute_input": "2025-02-20T21:33:16.606591Z",
     "iopub.status.busy": "2025-02-20T21:33:16.606517Z",
     "iopub.status.idle": "2025-02-20T21:33:16.609707Z",
     "shell.execute_reply": "2025-02-20T21:33:16.609484Z"
    }
   },
   "outputs": [],
   "source": [
    "input = IZ.ImpactZInput(\n",
    "    # line 1\n",
    "    ncpu_y=1,\n",
    "    ncpu_z=1,\n",
    "    # line 2\n",
    "    seed=6,\n",
    "    n_particle=100_000,\n",
    "    integrator_type=\"linear_map\",\n",
    "    err=1,\n",
    "    diagnostic_type=\"extended\",\n",
    "    # line 3\n",
    "    nx=32,\n",
    "    ny=32,\n",
    "    nz=32,\n",
    "    boundary_type=\"trans_open_longi_open\",\n",
    "    radius_x=0.15,  # particles die after this point\n",
    "    radius_y=0.15,\n",
    "    z_period_size=0.0,  # TODO we think this is unused based on fortran code reading\n",
    "    # line 4\n",
    "    distribution=\"read\",\n",
    "    restart=0,\n",
    "    subcycle=0,  # TODO what is this?\n",
    "    nbunch=1,\n",
    "    # line 5\n",
    "    # line 6\n",
    "    # line 7\n",
    "    # line 8\n",
    "    twiss_alpha_x=0.0,\n",
    "    twiss_beta_x=beta_x,\n",
    "    twiss_norm_emit_x=norm_emit_x,\n",
    "    twiss_mismatch_x=1.0,\n",
    "    twiss_mismatch_px=1.0,\n",
    "    twiss_offset_x=0.0,\n",
    "    twiss_offset_px=0.0,\n",
    "    # line 9\n",
    "    twiss_alpha_y=0.0,\n",
    "    twiss_beta_y=beta_y,\n",
    "    twiss_norm_emit_y=norm_emit_y,\n",
    "    twiss_mismatch_y=1.0,\n",
    "    twiss_mismatch_py=1.0,\n",
    "    twiss_offset_y=0.0,\n",
    "    twiss_offset_py=0.0,\n",
    "    # line 10\n",
    "    twiss_alpha_z=0.0,\n",
    "    twiss_beta_z=5e9,  # 1.0,\n",
    "    twiss_norm_emit_z=1e-9,  # 1e-6,\n",
    "    twiss_mismatch_z=1.0,\n",
    "    twiss_mismatch_e_z=1.0,\n",
    "    twiss_offset_phase_z=0.0,\n",
    "    twiss_offset_energy_z=0.0,\n",
    "    # line 11\n",
    "    # average_current=1.0,  # space charge on\n",
    "    average_current=0.0,  # space charge off\n",
    "    reference_kinetic_energy=energy - mec2,  # eV -> 10MeV total energy\n",
    "    reference_particle_mass=reference_particle_mass,\n",
    "    reference_particle_charge=-1.0,\n",
    "    reference_frequency=1e9,  # arbitrarily set to 1GHz here\n",
    "    initial_phase_ref=0.0,\n",
    "    lattice=[\n",
    "        IZ.WriteFull(file_id=1999),\n",
    "        # Drift(length=1e-9, steps=10, map_steps=10),  # <- to get initial particles, set this and set average_current to 0.0\n",
    "        IZ.Drift(length=1.0, radius=1.0, steps=10, map_steps=10, name=\"drift1\"),\n",
    "        IZ.WriteFull(file_id=2000, name=\"final_particles\"),\n",
    "    ],\n",
    ")"
   ]
  },
  {
   "cell_type": "code",
   "execution_count": null,
   "metadata": {
    "execution": {
     "iopub.execute_input": "2025-02-20T21:33:16.610757Z",
     "iopub.status.busy": "2025-02-20T21:33:16.610686Z",
     "iopub.status.idle": "2025-02-20T21:33:16.612180Z",
     "shell.execute_reply": "2025-02-20T21:33:16.611939Z"
    }
   },
   "outputs": [],
   "source": [
    "input.space_charge_off()\n",
    "# input.space_charge_on(current=1.0)"
   ]
  },
  {
   "cell_type": "code",
   "execution_count": null,
   "metadata": {
    "execution": {
     "iopub.execute_input": "2025-02-20T21:33:16.613186Z",
     "iopub.status.busy": "2025-02-20T21:33:16.613113Z",
     "iopub.status.idle": "2025-02-20T21:33:16.672250Z",
     "shell.execute_reply": "2025-02-20T21:33:16.672000Z"
    }
   },
   "outputs": [],
   "source": [
    "I = IZ.ImpactZ(\n",
    "    input, use_temp_dir=False, workdir=\"./tmp\", initial_particles=initial_particles\n",
    ")\n",
    "output = I.run(verbose=True)"
   ]
  },
  {
   "cell_type": "code",
   "execution_count": null,
   "metadata": {
    "execution": {
     "iopub.execute_input": "2025-02-20T21:33:16.673367Z",
     "iopub.status.busy": "2025-02-20T21:33:16.673261Z",
     "iopub.status.idle": "2025-02-20T21:33:16.715500Z",
     "shell.execute_reply": "2025-02-20T21:33:16.715238Z"
    }
   },
   "outputs": [],
   "source": [
    "I.output"
   ]
  },
  {
   "cell_type": "code",
   "execution_count": null,
   "metadata": {
    "execution": {
     "iopub.execute_input": "2025-02-20T21:33:16.716659Z",
     "iopub.status.busy": "2025-02-20T21:33:16.716579Z",
     "iopub.status.idle": "2025-02-20T21:33:16.870520Z",
     "shell.execute_reply": "2025-02-20T21:33:16.870241Z"
    }
   },
   "outputs": [],
   "source": [
    "I.plot()"
   ]
  },
  {
   "cell_type": "code",
   "execution_count": null,
   "metadata": {
    "execution": {
     "iopub.execute_input": "2025-02-20T21:33:16.871794Z",
     "iopub.status.busy": "2025-02-20T21:33:16.871697Z",
     "iopub.status.idle": "2025-02-20T21:33:16.873621Z",
     "shell.execute_reply": "2025-02-20T21:33:16.873351Z"
    }
   },
   "outputs": [],
   "source": [
    "Pin = I.output.particles[1999]\n",
    "# Our initial particles must be the same as what Impact-Z wrote:\n",
    "assert initial_particles == Pin"
   ]
  },
  {
   "cell_type": "code",
   "execution_count": null,
   "metadata": {
    "execution": {
     "iopub.execute_input": "2025-02-20T21:33:16.874776Z",
     "iopub.status.busy": "2025-02-20T21:33:16.874698Z",
     "iopub.status.idle": "2025-02-20T21:33:16.876740Z",
     "shell.execute_reply": "2025-02-20T21:33:16.876520Z"
    }
   },
   "outputs": [],
   "source": [
    "list(I.output.particles_raw)"
   ]
  },
  {
   "cell_type": "code",
   "execution_count": null,
   "metadata": {
    "execution": {
     "iopub.execute_input": "2025-02-20T21:33:16.877892Z",
     "iopub.status.busy": "2025-02-20T21:33:16.877818Z",
     "iopub.status.idle": "2025-02-20T21:33:16.879414Z",
     "shell.execute_reply": "2025-02-20T21:33:16.879205Z"
    }
   },
   "outputs": [],
   "source": [
    "P_raw = I.output.particles_raw[\"final_particles\"]\n",
    "P = I.output.particles[\"final_particles\"]"
   ]
  },
  {
   "cell_type": "code",
   "execution_count": null,
   "metadata": {
    "execution": {
     "iopub.execute_input": "2025-02-20T21:33:16.880478Z",
     "iopub.status.busy": "2025-02-20T21:33:16.880407Z",
     "iopub.status.idle": "2025-02-20T21:33:16.882698Z",
     "shell.execute_reply": "2025-02-20T21:33:16.882488Z"
    }
   },
   "outputs": [],
   "source": [
    "P.data"
   ]
  },
  {
   "cell_type": "code",
   "execution_count": null,
   "metadata": {
    "execution": {
     "iopub.execute_input": "2025-02-20T21:33:16.883787Z",
     "iopub.status.busy": "2025-02-20T21:33:16.883714Z",
     "iopub.status.idle": "2025-02-20T21:33:16.885716Z",
     "shell.execute_reply": "2025-02-20T21:33:16.885499Z"
    }
   },
   "outputs": [],
   "source": [
    "np.min(P_raw.impactz_phase)"
   ]
  },
  {
   "cell_type": "code",
   "execution_count": null,
   "metadata": {
    "execution": {
     "iopub.execute_input": "2025-02-20T21:33:16.886903Z",
     "iopub.status.busy": "2025-02-20T21:33:16.886828Z",
     "iopub.status.idle": "2025-02-20T21:33:16.888766Z",
     "shell.execute_reply": "2025-02-20T21:33:16.888555Z"
    }
   },
   "outputs": [],
   "source": [
    "np.max(P_raw.impactz_phase)"
   ]
  },
  {
   "cell_type": "code",
   "execution_count": null,
   "metadata": {
    "execution": {
     "iopub.execute_input": "2025-02-20T21:33:16.889816Z",
     "iopub.status.busy": "2025-02-20T21:33:16.889737Z",
     "iopub.status.idle": "2025-02-20T21:33:16.891589Z",
     "shell.execute_reply": "2025-02-20T21:33:16.891389Z"
    }
   },
   "outputs": [],
   "source": [
    "len(P)"
   ]
  },
  {
   "cell_type": "code",
   "execution_count": null,
   "metadata": {
    "execution": {
     "iopub.execute_input": "2025-02-20T21:33:16.892628Z",
     "iopub.status.busy": "2025-02-20T21:33:16.892553Z",
     "iopub.status.idle": "2025-02-20T21:33:16.944305Z",
     "shell.execute_reply": "2025-02-20T21:33:16.944063Z"
    }
   },
   "outputs": [],
   "source": [
    "plt.hist(P.weight);"
   ]
  },
  {
   "cell_type": "code",
   "execution_count": null,
   "metadata": {
    "execution": {
     "iopub.execute_input": "2025-02-20T21:33:16.945543Z",
     "iopub.status.busy": "2025-02-20T21:33:16.945456Z",
     "iopub.status.idle": "2025-02-20T21:33:16.947035Z",
     "shell.execute_reply": "2025-02-20T21:33:16.946809Z"
    }
   },
   "outputs": [],
   "source": [
    "# P.charge = 1."
   ]
  },
  {
   "cell_type": "code",
   "execution_count": null,
   "metadata": {
    "execution": {
     "iopub.execute_input": "2025-02-20T21:33:16.948152Z",
     "iopub.status.busy": "2025-02-20T21:33:16.948074Z",
     "iopub.status.idle": "2025-02-20T21:33:17.130554Z",
     "shell.execute_reply": "2025-02-20T21:33:17.130294Z"
    }
   },
   "outputs": [],
   "source": [
    "P.plot(\"x\", \"px\")"
   ]
  },
  {
   "cell_type": "code",
   "execution_count": null,
   "metadata": {},
   "outputs": [],
   "source": []
  },
  {
   "cell_type": "code",
   "execution_count": null,
   "metadata": {
    "execution": {
     "iopub.execute_input": "2025-02-20T21:33:17.131932Z",
     "iopub.status.busy": "2025-02-20T21:33:17.131827Z",
     "iopub.status.idle": "2025-02-20T21:33:17.353766Z",
     "shell.execute_reply": "2025-02-20T21:33:17.353465Z"
    }
   },
   "outputs": [],
   "source": [
    "P.plot(\"t\", \"energy\")"
   ]
  },
  {
   "cell_type": "code",
   "execution_count": null,
   "metadata": {
    "execution": {
     "iopub.execute_input": "2025-02-20T21:33:17.354982Z",
     "iopub.status.busy": "2025-02-20T21:33:17.354891Z",
     "iopub.status.idle": "2025-02-20T21:33:17.356718Z",
     "shell.execute_reply": "2025-02-20T21:33:17.356499Z"
    }
   },
   "outputs": [],
   "source": [
    "P.drift_to_t()"
   ]
  },
  {
   "cell_type": "code",
   "execution_count": null,
   "metadata": {
    "execution": {
     "iopub.execute_input": "2025-02-20T21:33:17.357695Z",
     "iopub.status.busy": "2025-02-20T21:33:17.357627Z",
     "iopub.status.idle": "2025-02-20T21:33:17.537458Z",
     "shell.execute_reply": "2025-02-20T21:33:17.537204Z"
    }
   },
   "outputs": [],
   "source": [
    "P.plot(\"z\", \"energy\")"
   ]
  },
  {
   "cell_type": "code",
   "execution_count": null,
   "metadata": {
    "execution": {
     "iopub.execute_input": "2025-02-20T21:33:17.538664Z",
     "iopub.status.busy": "2025-02-20T21:33:17.538588Z",
     "iopub.status.idle": "2025-02-20T21:33:17.540773Z",
     "shell.execute_reply": "2025-02-20T21:33:17.540549Z"
    }
   },
   "outputs": [],
   "source": [
    "P.charge  # C"
   ]
  },
  {
   "cell_type": "code",
   "execution_count": null,
   "metadata": {
    "execution": {
     "iopub.execute_input": "2025-02-20T21:33:17.541919Z",
     "iopub.status.busy": "2025-02-20T21:33:17.541834Z",
     "iopub.status.idle": "2025-02-20T21:33:17.543900Z",
     "shell.execute_reply": "2025-02-20T21:33:17.543680Z"
    }
   },
   "outputs": [],
   "source": [
    "P[\"sigma_x\"], P[\"sigma_y\"], P[\"sigma_z\"]"
   ]
  }
 ],
 "metadata": {
  "kernelspec": {
   "display_name": "Python 3 (ipykernel)",
   "language": "python",
   "name": "python3"
  },
  "language_info": {
   "codemirror_mode": {
    "name": "ipython",
    "version": 3
   },
   "file_extension": ".py",
   "mimetype": "text/x-python",
   "name": "python",
   "nbconvert_exporter": "python",
   "pygments_lexer": "ipython3",
   "version": "3.12.8"
  },
  "widgets": {
   "application/vnd.jupyter.widget-state+json": {
    "state": {
     "31d1fd47143940b890213aebb94318bf": {
      "model_module": "@jupyter-widgets/controls",
      "model_module_version": "2.0.0",
      "model_name": "HTMLStyleModel",
      "state": {
       "_model_module": "@jupyter-widgets/controls",
       "_model_module_version": "2.0.0",
       "_model_name": "HTMLStyleModel",
       "_view_count": null,
       "_view_module": "@jupyter-widgets/base",
       "_view_module_version": "2.0.0",
       "_view_name": "StyleView",
       "background": null,
       "description_width": "",
       "font_size": null,
       "text_color": null
      }
     },
     "3c7dcbc0e86a4da2a14b0fbca927e458": {
      "model_module": "@jupyter-widgets/base",
      "model_module_version": "2.0.0",
      "model_name": "LayoutModel",
      "state": {
       "_model_module": "@jupyter-widgets/base",
       "_model_module_version": "2.0.0",
       "_model_name": "LayoutModel",
       "_view_count": null,
       "_view_module": "@jupyter-widgets/base",
       "_view_module_version": "2.0.0",
       "_view_name": "LayoutView",
       "align_content": null,
       "align_items": null,
       "align_self": null,
       "border_bottom": null,
       "border_left": null,
       "border_right": null,
       "border_top": null,
       "bottom": null,
       "display": null,
       "flex": null,
       "flex_flow": null,
       "grid_area": null,
       "grid_auto_columns": null,
       "grid_auto_flow": null,
       "grid_auto_rows": null,
       "grid_column": null,
       "grid_gap": null,
       "grid_row": null,
       "grid_template_areas": null,
       "grid_template_columns": null,
       "grid_template_rows": null,
       "height": null,
       "justify_content": null,
       "justify_items": null,
       "left": null,
       "margin": null,
       "max_height": null,
       "max_width": null,
       "min_height": null,
       "min_width": null,
       "object_fit": null,
       "object_position": null,
       "order": null,
       "overflow": null,
       "padding": null,
       "right": null,
       "top": null,
       "visibility": null,
       "width": null
      }
     },
     "45cd6e8da7cc4569b2704a06f24a6998": {
      "model_module": "@jupyter-widgets/controls",
      "model_module_version": "2.0.0",
      "model_name": "ProgressStyleModel",
      "state": {
       "_model_module": "@jupyter-widgets/controls",
       "_model_module_version": "2.0.0",
       "_model_name": "ProgressStyleModel",
       "_view_count": null,
       "_view_module": "@jupyter-widgets/base",
       "_view_module_version": "2.0.0",
       "_view_name": "StyleView",
       "bar_color": null,
       "description_width": ""
      }
     },
     "6e34b451ad9840088f776a76f1783a01": {
      "model_module": "@jupyter-widgets/controls",
      "model_module_version": "2.0.0",
      "model_name": "HBoxModel",
      "state": {
       "_dom_classes": [],
       "_model_module": "@jupyter-widgets/controls",
       "_model_module_version": "2.0.0",
       "_model_name": "HBoxModel",
       "_view_count": null,
       "_view_module": "@jupyter-widgets/controls",
       "_view_module_version": "2.0.0",
       "_view_name": "HBoxView",
       "box_style": "",
       "children": [
        "IPY_MODEL_f7a7217880a64eda805553e0d6a1b8b0",
        "IPY_MODEL_af47606c74bf49ceb0754fc4359e4449",
        "IPY_MODEL_844af3d3667047ca908506c0b3c6006f"
       ],
       "layout": "IPY_MODEL_980d05368c494e599440ccc8fd83427b",
       "tabbable": null,
       "tooltip": null
      }
     },
     "844af3d3667047ca908506c0b3c6006f": {
      "model_module": "@jupyter-widgets/controls",
      "model_module_version": "2.0.0",
      "model_name": "HTMLModel",
      "state": {
       "_dom_classes": [],
       "_model_module": "@jupyter-widgets/controls",
       "_model_module_version": "2.0.0",
       "_model_name": "HTMLModel",
       "_view_count": null,
       "_view_module": "@jupyter-widgets/controls",
       "_view_module_version": "2.0.0",
       "_view_name": "HTMLView",
       "description": "",
       "description_allow_html": false,
       "layout": "IPY_MODEL_d56dfe5648724a2788e413c4a1b9eec2",
       "placeholder": "​",
       "style": "IPY_MODEL_31d1fd47143940b890213aebb94318bf",
       "tabbable": null,
       "tooltip": null,
       "value": " 3/3 [00:00&lt;00:00, 222.09it/s, Name=final_particles, Z=1]"
      }
     },
     "8dedfec65c4c4b3795e6d276790f5633": {
      "model_module": "@jupyter-widgets/base",
      "model_module_version": "2.0.0",
      "model_name": "LayoutModel",
      "state": {
       "_model_module": "@jupyter-widgets/base",
       "_model_module_version": "2.0.0",
       "_model_name": "LayoutModel",
       "_view_count": null,
       "_view_module": "@jupyter-widgets/base",
       "_view_module_version": "2.0.0",
       "_view_name": "LayoutView",
       "align_content": null,
       "align_items": null,
       "align_self": null,
       "border_bottom": null,
       "border_left": null,
       "border_right": null,
       "border_top": null,
       "bottom": null,
       "display": null,
       "flex": null,
       "flex_flow": null,
       "grid_area": null,
       "grid_auto_columns": null,
       "grid_auto_flow": null,
       "grid_auto_rows": null,
       "grid_column": null,
       "grid_gap": null,
       "grid_row": null,
       "grid_template_areas": null,
       "grid_template_columns": null,
       "grid_template_rows": null,
       "height": null,
       "justify_content": null,
       "justify_items": null,
       "left": null,
       "margin": null,
       "max_height": null,
       "max_width": null,
       "min_height": null,
       "min_width": null,
       "object_fit": null,
       "object_position": null,
       "order": null,
       "overflow": null,
       "padding": null,
       "right": null,
       "top": null,
       "visibility": null,
       "width": null
      }
     },
     "980d05368c494e599440ccc8fd83427b": {
      "model_module": "@jupyter-widgets/base",
      "model_module_version": "2.0.0",
      "model_name": "LayoutModel",
      "state": {
       "_model_module": "@jupyter-widgets/base",
       "_model_module_version": "2.0.0",
       "_model_name": "LayoutModel",
       "_view_count": null,
       "_view_module": "@jupyter-widgets/base",
       "_view_module_version": "2.0.0",
       "_view_name": "LayoutView",
       "align_content": null,
       "align_items": null,
       "align_self": null,
       "border_bottom": null,
       "border_left": null,
       "border_right": null,
       "border_top": null,
       "bottom": null,
       "display": null,
       "flex": null,
       "flex_flow": null,
       "grid_area": null,
       "grid_auto_columns": null,
       "grid_auto_flow": null,
       "grid_auto_rows": null,
       "grid_column": null,
       "grid_gap": null,
       "grid_row": null,
       "grid_template_areas": null,
       "grid_template_columns": null,
       "grid_template_rows": null,
       "height": null,
       "justify_content": null,
       "justify_items": null,
       "left": null,
       "margin": null,
       "max_height": null,
       "max_width": null,
       "min_height": null,
       "min_width": null,
       "object_fit": null,
       "object_position": null,
       "order": null,
       "overflow": null,
       "padding": null,
       "right": null,
       "top": null,
       "visibility": "hidden",
       "width": null
      }
     },
     "aa49c096df0344d0928bbccfd2650a1e": {
      "model_module": "@jupyter-widgets/controls",
      "model_module_version": "2.0.0",
      "model_name": "HTMLStyleModel",
      "state": {
       "_model_module": "@jupyter-widgets/controls",
       "_model_module_version": "2.0.0",
       "_model_name": "HTMLStyleModel",
       "_view_count": null,
       "_view_module": "@jupyter-widgets/base",
       "_view_module_version": "2.0.0",
       "_view_name": "StyleView",
       "background": null,
       "description_width": "",
       "font_size": null,
       "text_color": null
      }
     },
     "af47606c74bf49ceb0754fc4359e4449": {
      "model_module": "@jupyter-widgets/controls",
      "model_module_version": "2.0.0",
      "model_name": "FloatProgressModel",
      "state": {
       "_dom_classes": [],
       "_model_module": "@jupyter-widgets/controls",
       "_model_module_version": "2.0.0",
       "_model_name": "FloatProgressModel",
       "_view_count": null,
       "_view_module": "@jupyter-widgets/controls",
       "_view_module_version": "2.0.0",
       "_view_name": "ProgressView",
       "bar_style": "",
       "description": "",
       "description_allow_html": false,
       "layout": "IPY_MODEL_8dedfec65c4c4b3795e6d276790f5633",
       "max": 3.0,
       "min": 0.0,
       "orientation": "horizontal",
       "style": "IPY_MODEL_45cd6e8da7cc4569b2704a06f24a6998",
       "tabbable": null,
       "tooltip": null,
       "value": 3.0
      }
     },
     "d56dfe5648724a2788e413c4a1b9eec2": {
      "model_module": "@jupyter-widgets/base",
      "model_module_version": "2.0.0",
      "model_name": "LayoutModel",
      "state": {
       "_model_module": "@jupyter-widgets/base",
       "_model_module_version": "2.0.0",
       "_model_name": "LayoutModel",
       "_view_count": null,
       "_view_module": "@jupyter-widgets/base",
       "_view_module_version": "2.0.0",
       "_view_name": "LayoutView",
       "align_content": null,
       "align_items": null,
       "align_self": null,
       "border_bottom": null,
       "border_left": null,
       "border_right": null,
       "border_top": null,
       "bottom": null,
       "display": null,
       "flex": null,
       "flex_flow": null,
       "grid_area": null,
       "grid_auto_columns": null,
       "grid_auto_flow": null,
       "grid_auto_rows": null,
       "grid_column": null,
       "grid_gap": null,
       "grid_row": null,
       "grid_template_areas": null,
       "grid_template_columns": null,
       "grid_template_rows": null,
       "height": null,
       "justify_content": null,
       "justify_items": null,
       "left": null,
       "margin": null,
       "max_height": null,
       "max_width": null,
       "min_height": null,
       "min_width": null,
       "object_fit": null,
       "object_position": null,
       "order": null,
       "overflow": null,
       "padding": null,
       "right": null,
       "top": null,
       "visibility": null,
       "width": null
      }
     },
     "f7a7217880a64eda805553e0d6a1b8b0": {
      "model_module": "@jupyter-widgets/controls",
      "model_module_version": "2.0.0",
      "model_name": "HTMLModel",
      "state": {
       "_dom_classes": [],
       "_model_module": "@jupyter-widgets/controls",
       "_model_module_version": "2.0.0",
       "_model_name": "HTMLModel",
       "_view_count": null,
       "_view_module": "@jupyter-widgets/controls",
       "_view_module_version": "2.0.0",
       "_view_name": "HTMLView",
       "description": "",
       "description_allow_html": false,
       "layout": "IPY_MODEL_3c7dcbc0e86a4da2a14b0fbca927e458",
       "placeholder": "​",
       "style": "IPY_MODEL_aa49c096df0344d0928bbccfd2650a1e",
       "tabbable": null,
       "tooltip": null,
       "value": "100%"
      }
     }
    },
    "version_major": 2,
    "version_minor": 0
   }
  }
 },
 "nbformat": 4,
 "nbformat_minor": 4
}
