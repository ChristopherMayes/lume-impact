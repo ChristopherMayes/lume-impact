{
 "cells": [
  {
   "cell_type": "markdown",
   "metadata": {},
   "source": [
    "# Solenoid RF wave cavity - Comparing to Bmad"
   ]
  },
  {
   "cell_type": "code",
   "execution_count": null,
   "metadata": {
    "execution": {
     "iopub.execute_input": "2025-02-20T21:34:37.499057Z",
     "iopub.status.busy": "2025-02-20T21:34:37.498566Z",
     "iopub.status.idle": "2025-02-20T21:34:38.664523Z",
     "shell.execute_reply": "2025-02-20T21:34:38.664145Z"
    }
   },
   "outputs": [],
   "source": [
    "import matplotlib.pyplot as plt\n",
    "import numpy as np\n",
    "from pmd_beamphysics import single_particle\n",
    "from pmd_beamphysics.units import mec2\n",
    "from pytao import Tao\n",
    "\n",
    "import impact.z as IZ\n",
    "from impact.tests.z.conftest import bmad_files\n",
    "from impact.z.interfaces.bmad import export_particles as tao_export_particles"
   ]
  },
  {
   "cell_type": "code",
   "execution_count": null,
   "metadata": {
    "execution": {
     "iopub.execute_input": "2025-02-20T21:34:38.666033Z",
     "iopub.status.busy": "2025-02-20T21:34:38.665893Z",
     "iopub.status.idle": "2025-02-20T21:34:38.667888Z",
     "shell.execute_reply": "2025-02-20T21:34:38.667617Z"
    }
   },
   "outputs": [],
   "source": [
    "energy = 10e6\n",
    "pz = np.sqrt(energy**2 - mec2**2)\n",
    "P0 = single_particle(x=1e-3, pz=pz)"
   ]
  },
  {
   "cell_type": "code",
   "execution_count": null,
   "metadata": {
    "execution": {
     "iopub.execute_input": "2025-02-20T21:34:38.669106Z",
     "iopub.status.busy": "2025-02-20T21:34:38.669023Z",
     "iopub.status.idle": "2025-02-20T21:34:38.792099Z",
     "shell.execute_reply": "2025-02-20T21:34:38.791666Z"
    }
   },
   "outputs": [],
   "source": [
    "!cat $bmad_files/lcavity_rf.bmad"
   ]
  },
  {
   "cell_type": "code",
   "execution_count": null,
   "metadata": {
    "execution": {
     "iopub.execute_input": "2025-02-20T21:34:38.793942Z",
     "iopub.status.busy": "2025-02-20T21:34:38.793761Z",
     "iopub.status.idle": "2025-02-20T21:34:38.834328Z",
     "shell.execute_reply": "2025-02-20T21:34:38.834014Z"
    }
   },
   "outputs": [],
   "source": [
    "tao = Tao(lattice_file=bmad_files / \"lcavity_rf.bmad\", plot=\"mpl\")"
   ]
  },
  {
   "cell_type": "code",
   "execution_count": null,
   "metadata": {
    "execution": {
     "iopub.execute_input": "2025-02-20T21:34:38.835622Z",
     "iopub.status.busy": "2025-02-20T21:34:38.835531Z",
     "iopub.status.idle": "2025-02-20T21:34:39.071168Z",
     "shell.execute_reply": "2025-02-20T21:34:39.070842Z"
    }
   },
   "outputs": [],
   "source": [
    "P0.write(\"swcavity_initial_particles.h5\")\n",
    "for cmd in [\n",
    "    \"set beam_init position_file = swcavity_initial_particles.h5\",\n",
    "    f\"set beam_init n_particle = {len(P0)}\",\n",
    "    f\"set beam_init bunch_charge = {P0.charge}\",\n",
    "    \"set beam_init saved_at = *\",\n",
    "    \"set global track_type = single\",\n",
    "    \"set global track_type = beam\",\n",
    "]:\n",
    "    res = tao.cmd(cmd)\n",
    "    if res:\n",
    "        print(\"\\n\".join(res))"
   ]
  },
  {
   "cell_type": "code",
   "execution_count": null,
   "metadata": {
    "execution": {
     "iopub.execute_input": "2025-02-20T21:34:39.072508Z",
     "iopub.status.busy": "2025-02-20T21:34:39.072422Z",
     "iopub.status.idle": "2025-02-20T21:34:39.449396Z",
     "shell.execute_reply": "2025-02-20T21:34:39.449135Z"
    }
   },
   "outputs": [],
   "source": [
    "tao.plot(\"beta\", include_layout=False)"
   ]
  },
  {
   "cell_type": "code",
   "execution_count": null,
   "metadata": {
    "execution": {
     "iopub.execute_input": "2025-02-20T21:34:39.450750Z",
     "iopub.status.busy": "2025-02-20T21:34:39.450639Z",
     "iopub.status.idle": "2025-02-20T21:34:39.461282Z",
     "shell.execute_reply": "2025-02-20T21:34:39.461026Z"
    }
   },
   "outputs": [],
   "source": [
    "I = IZ.ImpactZ.from_tao(\n",
    "    tao, use_temp_dir=False, workdir=\"./swcavity-bmad\", initial_particles=P0\n",
    ")"
   ]
  },
  {
   "cell_type": "code",
   "execution_count": null,
   "metadata": {
    "execution": {
     "iopub.execute_input": "2025-02-20T21:34:39.462412Z",
     "iopub.status.busy": "2025-02-20T21:34:39.462334Z",
     "iopub.status.idle": "2025-02-20T21:34:39.468850Z",
     "shell.execute_reply": "2025-02-20T21:34:39.468640Z"
    }
   },
   "outputs": [],
   "source": [
    "I.input.solenoid_with_rf_cavity"
   ]
  },
  {
   "cell_type": "code",
   "execution_count": null,
   "metadata": {
    "execution": {
     "iopub.execute_input": "2025-02-20T21:34:39.470059Z",
     "iopub.status.busy": "2025-02-20T21:34:39.469985Z",
     "iopub.status.idle": "2025-02-20T21:34:39.758338Z",
     "shell.execute_reply": "2025-02-20T21:34:39.757969Z"
    }
   },
   "outputs": [],
   "source": [
    "output = I.run()"
   ]
  },
  {
   "cell_type": "code",
   "execution_count": null,
   "metadata": {
    "execution": {
     "iopub.execute_input": "2025-02-20T21:34:39.759805Z",
     "iopub.status.busy": "2025-02-20T21:34:39.759706Z",
     "iopub.status.idle": "2025-02-20T21:34:39.771395Z",
     "shell.execute_reply": "2025-02-20T21:34:39.771190Z"
    }
   },
   "outputs": [],
   "source": [
    "Ptao = tao_export_particles(tao, \"END\")"
   ]
  },
  {
   "cell_type": "code",
   "execution_count": null,
   "metadata": {
    "execution": {
     "iopub.execute_input": "2025-02-20T21:34:39.772555Z",
     "iopub.status.busy": "2025-02-20T21:34:39.772469Z",
     "iopub.status.idle": "2025-02-20T21:34:39.980603Z",
     "shell.execute_reply": "2025-02-20T21:34:39.980337Z"
    }
   },
   "outputs": [],
   "source": [
    "mc2 = I.input.reference_particle_mass\n",
    "stats = I.output.stats\n",
    "z = stats.z\n",
    "x = stats.mean_x\n",
    "y = stats.mean_y\n",
    "energy = stats.mean_energy\n",
    "\n",
    "x_tao = tao.bunch_comb(\"x\")\n",
    "y_tao = tao.bunch_comb(\"y\")\n",
    "s_tao = tao.bunch_comb(\"s\")\n",
    "p_tao = (1 + tao.bunch_comb(\"pz\")) * tao.bunch_comb(\"p0c\")\n",
    "energy_tao = np.hypot(p_tao, mc2)\n",
    "\n",
    "fig, (ax1, ax2, ax3, ax4) = plt.subplots(4, figsize=(8, 8), sharex=True)\n",
    "ax1.plot(z, x, label=\"Impact-Z\")\n",
    "ax1.plot(s_tao, x_tao, \"--\", label=\"Tao\")\n",
    "ax1.set_ylabel(r\"$x$ (m)\")\n",
    "ax1.legend()\n",
    "\n",
    "ax2.plot(z, y, label=\"Impact-Z\")\n",
    "ax2.plot(s_tao, y_tao, \"--\", label=\"Tao\")\n",
    "ax2.set_ylabel(r\"$y$ (m)\")\n",
    "\n",
    "ax3.plot(z, energy / 1e6, label=\"Impact-Z\")\n",
    "ax3.plot(s_tao, energy_tao / 1e6, \"--\", label=\"Tao\")\n",
    "ax3.set_ylabel(r\"$E$ (MeV)\")\n",
    "ax3.set_xlabel(r\"$s$ (m)\")\n",
    "\n",
    "I.input.plot(ax=ax4, include_marker_labels=False);"
   ]
  }
 ],
 "metadata": {
  "kernelspec": {
   "display_name": "Python 3 (ipykernel)",
   "language": "python",
   "name": "python3"
  },
  "language_info": {
   "codemirror_mode": {
    "name": "ipython",
    "version": 3
   },
   "file_extension": ".py",
   "mimetype": "text/x-python",
   "name": "python",
   "nbconvert_exporter": "python",
   "pygments_lexer": "ipython3",
   "version": "3.12.8"
  },
  "widgets": {
   "application/vnd.jupyter.widget-state+json": {
    "state": {
     "0cc36c8568de4ea0868ee5c8cc29dd0f": {
      "model_module": "@jupyter-widgets/controls",
      "model_module_version": "2.0.0",
      "model_name": "HTMLModel",
      "state": {
       "_dom_classes": [],
       "_model_module": "@jupyter-widgets/controls",
       "_model_module_version": "2.0.0",
       "_model_name": "HTMLModel",
       "_view_count": null,
       "_view_module": "@jupyter-widgets/controls",
       "_view_module_version": "2.0.0",
       "_view_name": "HTMLView",
       "description": "",
       "description_allow_html": false,
       "layout": "IPY_MODEL_674f493d725a4a2bb94a1ad293b6f1eb",
       "placeholder": "​",
       "style": "IPY_MODEL_bb81a12a81144eb791f40cad4657f4d3",
       "tabbable": null,
       "tooltip": null,
       "value": " 8/8 [00:00&lt;00:00, 132.81it/s, Name=final_particles, Z=2.24]"
      }
     },
     "22e967dd8c98413496920adbdbf0ae41": {
      "model_module": "@jupyter-widgets/controls",
      "model_module_version": "2.0.0",
      "model_name": "FloatProgressModel",
      "state": {
       "_dom_classes": [],
       "_model_module": "@jupyter-widgets/controls",
       "_model_module_version": "2.0.0",
       "_model_name": "FloatProgressModel",
       "_view_count": null,
       "_view_module": "@jupyter-widgets/controls",
       "_view_module_version": "2.0.0",
       "_view_name": "ProgressView",
       "bar_style": "",
       "description": "",
       "description_allow_html": false,
       "layout": "IPY_MODEL_8cff96b1fa75442394fcf0324a844b13",
       "max": 8.0,
       "min": 0.0,
       "orientation": "horizontal",
       "style": "IPY_MODEL_3429fd162dc1461cae6189f50149b0a9",
       "tabbable": null,
       "tooltip": null,
       "value": 8.0
      }
     },
     "3429fd162dc1461cae6189f50149b0a9": {
      "model_module": "@jupyter-widgets/controls",
      "model_module_version": "2.0.0",
      "model_name": "ProgressStyleModel",
      "state": {
       "_model_module": "@jupyter-widgets/controls",
       "_model_module_version": "2.0.0",
       "_model_name": "ProgressStyleModel",
       "_view_count": null,
       "_view_module": "@jupyter-widgets/base",
       "_view_module_version": "2.0.0",
       "_view_name": "StyleView",
       "bar_color": null,
       "description_width": ""
      }
     },
     "64feab329d0c42dca855d984e85be8da": {
      "model_module": "@jupyter-widgets/base",
      "model_module_version": "2.0.0",
      "model_name": "LayoutModel",
      "state": {
       "_model_module": "@jupyter-widgets/base",
       "_model_module_version": "2.0.0",
       "_model_name": "LayoutModel",
       "_view_count": null,
       "_view_module": "@jupyter-widgets/base",
       "_view_module_version": "2.0.0",
       "_view_name": "LayoutView",
       "align_content": null,
       "align_items": null,
       "align_self": null,
       "border_bottom": null,
       "border_left": null,
       "border_right": null,
       "border_top": null,
       "bottom": null,
       "display": null,
       "flex": null,
       "flex_flow": null,
       "grid_area": null,
       "grid_auto_columns": null,
       "grid_auto_flow": null,
       "grid_auto_rows": null,
       "grid_column": null,
       "grid_gap": null,
       "grid_row": null,
       "grid_template_areas": null,
       "grid_template_columns": null,
       "grid_template_rows": null,
       "height": null,
       "justify_content": null,
       "justify_items": null,
       "left": null,
       "margin": null,
       "max_height": null,
       "max_width": null,
       "min_height": null,
       "min_width": null,
       "object_fit": null,
       "object_position": null,
       "order": null,
       "overflow": null,
       "padding": null,
       "right": null,
       "top": null,
       "visibility": null,
       "width": null
      }
     },
     "674f493d725a4a2bb94a1ad293b6f1eb": {
      "model_module": "@jupyter-widgets/base",
      "model_module_version": "2.0.0",
      "model_name": "LayoutModel",
      "state": {
       "_model_module": "@jupyter-widgets/base",
       "_model_module_version": "2.0.0",
       "_model_name": "LayoutModel",
       "_view_count": null,
       "_view_module": "@jupyter-widgets/base",
       "_view_module_version": "2.0.0",
       "_view_name": "LayoutView",
       "align_content": null,
       "align_items": null,
       "align_self": null,
       "border_bottom": null,
       "border_left": null,
       "border_right": null,
       "border_top": null,
       "bottom": null,
       "display": null,
       "flex": null,
       "flex_flow": null,
       "grid_area": null,
       "grid_auto_columns": null,
       "grid_auto_flow": null,
       "grid_auto_rows": null,
       "grid_column": null,
       "grid_gap": null,
       "grid_row": null,
       "grid_template_areas": null,
       "grid_template_columns": null,
       "grid_template_rows": null,
       "height": null,
       "justify_content": null,
       "justify_items": null,
       "left": null,
       "margin": null,
       "max_height": null,
       "max_width": null,
       "min_height": null,
       "min_width": null,
       "object_fit": null,
       "object_position": null,
       "order": null,
       "overflow": null,
       "padding": null,
       "right": null,
       "top": null,
       "visibility": null,
       "width": null
      }
     },
     "8cff96b1fa75442394fcf0324a844b13": {
      "model_module": "@jupyter-widgets/base",
      "model_module_version": "2.0.0",
      "model_name": "LayoutModel",
      "state": {
       "_model_module": "@jupyter-widgets/base",
       "_model_module_version": "2.0.0",
       "_model_name": "LayoutModel",
       "_view_count": null,
       "_view_module": "@jupyter-widgets/base",
       "_view_module_version": "2.0.0",
       "_view_name": "LayoutView",
       "align_content": null,
       "align_items": null,
       "align_self": null,
       "border_bottom": null,
       "border_left": null,
       "border_right": null,
       "border_top": null,
       "bottom": null,
       "display": null,
       "flex": null,
       "flex_flow": null,
       "grid_area": null,
       "grid_auto_columns": null,
       "grid_auto_flow": null,
       "grid_auto_rows": null,
       "grid_column": null,
       "grid_gap": null,
       "grid_row": null,
       "grid_template_areas": null,
       "grid_template_columns": null,
       "grid_template_rows": null,
       "height": null,
       "justify_content": null,
       "justify_items": null,
       "left": null,
       "margin": null,
       "max_height": null,
       "max_width": null,
       "min_height": null,
       "min_width": null,
       "object_fit": null,
       "object_position": null,
       "order": null,
       "overflow": null,
       "padding": null,
       "right": null,
       "top": null,
       "visibility": null,
       "width": null
      }
     },
     "954b43d0bf184d4bbc042bb326b7f89f": {
      "model_module": "@jupyter-widgets/base",
      "model_module_version": "2.0.0",
      "model_name": "LayoutModel",
      "state": {
       "_model_module": "@jupyter-widgets/base",
       "_model_module_version": "2.0.0",
       "_model_name": "LayoutModel",
       "_view_count": null,
       "_view_module": "@jupyter-widgets/base",
       "_view_module_version": "2.0.0",
       "_view_name": "LayoutView",
       "align_content": null,
       "align_items": null,
       "align_self": null,
       "border_bottom": null,
       "border_left": null,
       "border_right": null,
       "border_top": null,
       "bottom": null,
       "display": null,
       "flex": null,
       "flex_flow": null,
       "grid_area": null,
       "grid_auto_columns": null,
       "grid_auto_flow": null,
       "grid_auto_rows": null,
       "grid_column": null,
       "grid_gap": null,
       "grid_row": null,
       "grid_template_areas": null,
       "grid_template_columns": null,
       "grid_template_rows": null,
       "height": null,
       "justify_content": null,
       "justify_items": null,
       "left": null,
       "margin": null,
       "max_height": null,
       "max_width": null,
       "min_height": null,
       "min_width": null,
       "object_fit": null,
       "object_position": null,
       "order": null,
       "overflow": null,
       "padding": null,
       "right": null,
       "top": null,
       "visibility": "hidden",
       "width": null
      }
     },
     "9baa8096bbf54d92863e9342d4b91b32": {
      "model_module": "@jupyter-widgets/controls",
      "model_module_version": "2.0.0",
      "model_name": "HTMLStyleModel",
      "state": {
       "_model_module": "@jupyter-widgets/controls",
       "_model_module_version": "2.0.0",
       "_model_name": "HTMLStyleModel",
       "_view_count": null,
       "_view_module": "@jupyter-widgets/base",
       "_view_module_version": "2.0.0",
       "_view_name": "StyleView",
       "background": null,
       "description_width": "",
       "font_size": null,
       "text_color": null
      }
     },
     "b99d1ed8cb164fac9be83a394085420b": {
      "model_module": "@jupyter-widgets/controls",
      "model_module_version": "2.0.0",
      "model_name": "HBoxModel",
      "state": {
       "_dom_classes": [],
       "_model_module": "@jupyter-widgets/controls",
       "_model_module_version": "2.0.0",
       "_model_name": "HBoxModel",
       "_view_count": null,
       "_view_module": "@jupyter-widgets/controls",
       "_view_module_version": "2.0.0",
       "_view_name": "HBoxView",
       "box_style": "",
       "children": [
        "IPY_MODEL_c88d0c12a7c744e59b3c70f7d01c768f",
        "IPY_MODEL_22e967dd8c98413496920adbdbf0ae41",
        "IPY_MODEL_0cc36c8568de4ea0868ee5c8cc29dd0f"
       ],
       "layout": "IPY_MODEL_954b43d0bf184d4bbc042bb326b7f89f",
       "tabbable": null,
       "tooltip": null
      }
     },
     "bb81a12a81144eb791f40cad4657f4d3": {
      "model_module": "@jupyter-widgets/controls",
      "model_module_version": "2.0.0",
      "model_name": "HTMLStyleModel",
      "state": {
       "_model_module": "@jupyter-widgets/controls",
       "_model_module_version": "2.0.0",
       "_model_name": "HTMLStyleModel",
       "_view_count": null,
       "_view_module": "@jupyter-widgets/base",
       "_view_module_version": "2.0.0",
       "_view_name": "StyleView",
       "background": null,
       "description_width": "",
       "font_size": null,
       "text_color": null
      }
     },
     "c88d0c12a7c744e59b3c70f7d01c768f": {
      "model_module": "@jupyter-widgets/controls",
      "model_module_version": "2.0.0",
      "model_name": "HTMLModel",
      "state": {
       "_dom_classes": [],
       "_model_module": "@jupyter-widgets/controls",
       "_model_module_version": "2.0.0",
       "_model_name": "HTMLModel",
       "_view_count": null,
       "_view_module": "@jupyter-widgets/controls",
       "_view_module_version": "2.0.0",
       "_view_name": "HTMLView",
       "description": "",
       "description_allow_html": false,
       "layout": "IPY_MODEL_64feab329d0c42dca855d984e85be8da",
       "placeholder": "​",
       "style": "IPY_MODEL_9baa8096bbf54d92863e9342d4b91b32",
       "tabbable": null,
       "tooltip": null,
       "value": "100%"
      }
     }
    },
    "version_major": 2,
    "version_minor": 0
   }
  }
 },
 "nbformat": 4,
 "nbformat_minor": 4
}
