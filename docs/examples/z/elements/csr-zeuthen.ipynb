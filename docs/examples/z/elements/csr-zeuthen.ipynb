{
 "cells": [
  {
   "cell_type": "markdown",
   "metadata": {},
   "source": [
    "# CSR Zeuthen Benchmark - Comparing to Bmad\n",
    "\n",
    "\n",
    "This tries to replicate the Zeuthern CSR benchmark according to:\n",
    "https://journals.aps.org/prab/abstract/10.1103/PhysRevSTAB.16.060703\n"
   ]
  },
  {
   "cell_type": "code",
   "execution_count": null,
   "metadata": {},
   "outputs": [],
   "source": [
    "import matplotlib.pyplot as plt\n",
    "import numpy as np\n",
    "from pmd_beamphysics import ParticleGroup\n",
    "from pytao import Tao\n",
    "from scipy.constants import c\n",
    "\n",
    "import impact.z as IZ\n",
    "from impact.z.interfaces.bmad import plot_impactz_and_tao_stats\n",
    "from impact.tests.z.conftest import bmad_files"
   ]
  },
  {
   "cell_type": "markdown",
   "metadata": {},
   "source": [
    "## Parameters"
   ]
  },
  {
   "cell_type": "code",
   "execution_count": null,
   "metadata": {},
   "outputs": [],
   "source": [
    "TRACK_START = \"BEGINNING\"\n",
    "TRACK_END = \"END\"\n",
    "\n",
    "NX = 32\n",
    "NY = 32\n",
    "NZ = 128\n",
    "N_PARTICLE = 100_000\n",
    "DS_STEP = 0.01\n",
    "\n",
    "CSR_ON = True\n",
    "DRIFT_CSR_ON = True\n",
    "\n",
    "BMAD_SC_ON = False\n",
    "\n",
    "CHIRP = -36  # 1/m"
   ]
  },
  {
   "cell_type": "markdown",
   "metadata": {},
   "source": [
    "## Tao"
   ]
  },
  {
   "cell_type": "code",
   "execution_count": null,
   "metadata": {},
   "outputs": [],
   "source": [
    "# Gaussian\n",
    "def set_gaussian(\n",
    "    tao,\n",
    "    n_particle=N_PARTICLE,\n",
    "    a_norm_emit=1.0e-6,\n",
    "    b_norm_emit=1.0e-6,\n",
    "    bunch_charge=1e-9,\n",
    "    sig_pz0=2e-6,\n",
    "    sig_z=200e-6,\n",
    "    center_pz=0,\n",
    "    chirp=0,  # 1/m\n",
    "):\n",
    "    sig_pz = np.hypot(sig_pz0, chirp * sig_z)\n",
    "\n",
    "    cmds = [\n",
    "        f\"set beam_init n_particle = {n_particle}\",\n",
    "        \"set beam_init random_engine = quasi\",\n",
    "        \"set beam_init saved_at = MARKER::*, BEGINNING, END\",\n",
    "        f\"set beam_init a_norm_emit = {a_norm_emit}\",\n",
    "        f\"set beam_init b_norm_emit = {b_norm_emit}\",\n",
    "        f\"set beam_init bunch_charge = {bunch_charge}\",\n",
    "        f\"set beam_init sig_pz = {sig_pz}\",\n",
    "        f\"set beam_init sig_z = {sig_z}\",\n",
    "        f\"set beam_init dpz_dz = {chirp}\",\n",
    "        f\"set beam_init center(6) = {center_pz}\",\n",
    "    ]\n",
    "    tao.cmds(cmds)\n",
    "    tao.cmd(\"set global lattice_calc_on = T\")\n",
    "\n",
    "\n",
    "def get_particles(tao, ele_id):\n",
    "    return ParticleGroup(data=tao.bunch_data(ele_id))"
   ]
  },
  {
   "cell_type": "code",
   "execution_count": null,
   "metadata": {},
   "outputs": [],
   "source": [
    "tao = Tao(lattice_file=bmad_files / \"csr_zeuthen.bmad\", plot=\"mpl\")\n",
    "\n",
    "# tao.cmd('set ele beginning e_tot = 500e6') # TEST\n",
    "\n",
    "set_gaussian(tao, n_particle=N_PARTICLE, chirp=CHIRP)"
   ]
  },
  {
   "cell_type": "code",
   "execution_count": null,
   "metadata": {},
   "outputs": [],
   "source": [
    "tao.cmd(\"set bmad_com csr_and_space_charge_on = T\")\n",
    "tao.cmd(\"set space_charge particle_bin_span = 1\")\n",
    "tao.cmd(f\"set space_charge n_bin = {NZ}\")\n",
    "tao.cmd(f\"set space_charge ds_track_step = {DS_STEP}\")\n",
    "tao.cmd(\"set bmad_com radiation_damping_on  = T\")  # off by default\n",
    "tao.cmd(\"set bmad_com radiation_fluctuations_on = T\")  # off by default\n",
    "\n",
    "if BMAD_SC_ON:\n",
    "    tao.cmd(\"set ele * space_charge_method = fft_3d\")\n",
    "    tao.cmd(f\"set space_charge space_charge_mesh_size = {NX} {NY} {NZ}\")\n",
    "else:\n",
    "    tao.cmd(\"set ele * space_charge_method = off\")\n",
    "tao.cmd(f\"set ele * DS_STEP = {DS_STEP}\")"
   ]
  },
  {
   "cell_type": "code",
   "execution_count": null,
   "metadata": {},
   "outputs": [],
   "source": [
    "if not CSR_ON:\n",
    "    tao.cmd(\"set ele * csr_method = off\")\n",
    "elif DRIFT_CSR_ON:\n",
    "    tao.cmd(\"set ele * csr_method = 1_dim\")\n",
    "else:\n",
    "    tao.cmd(\"set ele * csr_method = off\")\n",
    "    tao.cmd(\"set ele sbend::* csr_method = 1_dim\")"
   ]
  },
  {
   "cell_type": "code",
   "execution_count": null,
   "metadata": {},
   "outputs": [],
   "source": [
    "%%time\n",
    "tao.track_beam()\n",
    "\n",
    "P0 = get_particles(tao, \"beginning\")\n",
    "P1 = get_particles(tao, \"end\")\n",
    "\n",
    "P1.plot(\"delta_t\", \"energy\"), P1[\"sigma_t\"] * c * 1e6"
   ]
  },
  {
   "cell_type": "code",
   "execution_count": null,
   "metadata": {},
   "outputs": [],
   "source": [
    "sigma_z0 = P0[\"sigma_t\"] * c\n",
    "sigma_z1 = P1[\"sigma_t\"] * c\n",
    "\n",
    "sigma_z1 * 1e6"
   ]
  },
  {
   "cell_type": "code",
   "execution_count": null,
   "metadata": {},
   "outputs": [],
   "source": [
    "# Compression factor\n",
    "sigma_z0 / sigma_z1"
   ]
  },
  {
   "cell_type": "markdown",
   "metadata": {},
   "source": [
    "# Impact-Z"
   ]
  },
  {
   "cell_type": "code",
   "execution_count": null,
   "metadata": {},
   "outputs": [],
   "source": [
    "input = IZ.ImpactZInput.from_tao(tao, verbose=False, write_beam_eles=\"\")\n",
    "I = IZ.ImpactZ(input)\n",
    "I.initial_particles = P0"
   ]
  },
  {
   "cell_type": "code",
   "execution_count": null,
   "metadata": {},
   "outputs": [],
   "source": [
    "I.input.integrator_type = 1  # default"
   ]
  },
  {
   "cell_type": "code",
   "execution_count": null,
   "metadata": {},
   "outputs": [],
   "source": [
    "%%time\n",
    "I.nproc = 0\n",
    "I.run(verbose=False);"
   ]
  },
  {
   "cell_type": "code",
   "execution_count": null,
   "metadata": {},
   "outputs": [],
   "source": [
    "P2 = I.output.particles[\"final_particles\"]\n",
    "P2.plot(\"delta_t\", \"energy\")"
   ]
  },
  {
   "cell_type": "markdown",
   "metadata": {},
   "source": [
    "## Compare"
   ]
  },
  {
   "cell_type": "code",
   "execution_count": null,
   "metadata": {},
   "outputs": [],
   "source": [
    "plot_impactz_and_tao_stats(I, tao)"
   ]
  },
  {
   "cell_type": "code",
   "execution_count": null,
   "metadata": {},
   "outputs": [],
   "source": [
    "def compare(\n",
    "    xkey=\"x\",\n",
    "    ykey=\"y\",\n",
    "    skip=1,\n",
    "):\n",
    "    fig, ax = plt.subplots()\n",
    "\n",
    "    plist = (\n",
    "        (P1, \"Bmad\", \"X\", \"blue\"),\n",
    "        (P2, \"Impact-Z\", \".\", \"orange\"),\n",
    "    )\n",
    "\n",
    "    for p, label, marker, color in plist:\n",
    "        ax.scatter(\n",
    "            p[xkey][::skip],\n",
    "            p[ykey][::skip],\n",
    "            label=label,\n",
    "            marker=marker,\n",
    "            alpha=0.5,\n",
    "            color=color,\n",
    "        )\n",
    "\n",
    "    for p, label, marker, color in plist:\n",
    "        ax.scatter(\n",
    "            p[\"mean_\" + xkey],\n",
    "            p[\"mean_\" + ykey],\n",
    "            marker=\"+\",\n",
    "            color=color,\n",
    "            facecolor=\"black\",\n",
    "        )\n",
    "\n",
    "    plt.legend()\n",
    "\n",
    "    ax.set_xlabel(xkey)\n",
    "    ax.set_ylabel(ykey)\n",
    "\n",
    "\n",
    "compare()"
   ]
  },
  {
   "cell_type": "code",
   "execution_count": null,
   "metadata": {},
   "outputs": [],
   "source": [
    "P1[\"mean_x\"], P2[\"mean_x\"]"
   ]
  },
  {
   "cell_type": "code",
   "execution_count": null,
   "metadata": {},
   "outputs": [],
   "source": [
    "compare(\"delta_t\", \"energy\")"
   ]
  },
  {
   "cell_type": "code",
   "execution_count": null,
   "metadata": {},
   "outputs": [],
   "source": [
    "compare(\"delta_t\", \"xp\")"
   ]
  },
  {
   "cell_type": "code",
   "execution_count": null,
   "metadata": {},
   "outputs": [],
   "source": [
    "energy0 = P0[\"mean_energy\"]\n",
    "P1[\"mean_energy\"] - energy0, P2[\"mean_energy\"] - energy0"
   ]
  },
  {
   "cell_type": "markdown",
   "metadata": {},
   "source": [
    "# Impact-Z Lorentz integrator \n",
    "\n",
    "`ImpactZInput.integrator_type = 2`\n",
    "\n",
    "Note that this is not expected to work as well because the dipole fringe fields are not able to be specified."
   ]
  },
  {
   "cell_type": "code",
   "execution_count": null,
   "metadata": {},
   "outputs": [],
   "source": [
    "I2 = I.copy()"
   ]
  },
  {
   "cell_type": "code",
   "execution_count": null,
   "metadata": {},
   "outputs": [],
   "source": [
    "I2.input.integrator_type = 2\n",
    "I2.run()\n",
    "P3 = I2.output.particles[\"final_particles\"]"
   ]
  },
  {
   "cell_type": "code",
   "execution_count": null,
   "metadata": {},
   "outputs": [],
   "source": [
    "stats1 = I.output.stats\n",
    "stats2 = I2.output.stats\n",
    "\n",
    "eref = I.output.stats.energy_ref[0]  # should be constant\n",
    "\n",
    "fig, ax = plt.subplots(1, figsize=(12, 4))\n",
    "\n",
    "ax.plot(stats1.z, (stats1.mean_energy - eref) / 1e6, label=\"Impact-T, map\")\n",
    "ax.plot(stats2.z, (stats2.mean_energy - eref) / 1e6, \"--\", label=\"Impact-T, nonlinear\")\n",
    "\n",
    "ax.set_xlabel(r\"$s$ (m)\")\n",
    "ax.set_ylabel(r\"$dE$ (MeV)\")\n",
    "\n",
    "plt.legend()"
   ]
  },
  {
   "cell_type": "code",
   "execution_count": null,
   "metadata": {},
   "outputs": [],
   "source": [
    "def compare(\n",
    "    xkey=\"x\",\n",
    "    ykey=\"y\",\n",
    "    skip=10,\n",
    "):\n",
    "    fig, ax = plt.subplots()\n",
    "\n",
    "    for p, label, marker in (\n",
    "        #  (P1, \"Bmad\", \"X\"),\n",
    "        (P2, \"Impact-Z map\", \"x\"),\n",
    "        (P3, \"Impact-Z nonlinear\", \".\"),\n",
    "    ):\n",
    "        ax.scatter(\n",
    "            p[xkey][::skip], p[ykey][::skip], label=label, marker=marker, alpha=0.5\n",
    "        )\n",
    "\n",
    "    plt.legend()\n",
    "\n",
    "    ax.set_xlabel(xkey)\n",
    "    ax.set_ylabel(ykey)\n",
    "\n",
    "\n",
    "compare(\"delta_t\", \"xp\")"
   ]
  }
 ],
 "metadata": {
  "kernelspec": {
   "display_name": "Python 3 (ipykernel)",
   "language": "python",
   "name": "python3"
  },
  "language_info": {
   "codemirror_mode": {
    "name": "ipython",
    "version": 3
   },
   "file_extension": ".py",
   "mimetype": "text/x-python",
   "name": "python",
   "nbconvert_exporter": "python",
   "pygments_lexer": "ipython3",
   "version": "3.12.9"
  }
 },
 "nbformat": 4,
 "nbformat_minor": 4
}
