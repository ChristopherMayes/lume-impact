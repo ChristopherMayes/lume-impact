{
 "cells": [
  {
   "cell_type": "markdown",
   "metadata": {},
   "source": [
    "# CSR Zeuthen Benchmark - Comparing to Bmad\n",
    "\n",
    "\n",
    "This tries to replicate the Zeuthern CSR benchmark according to:\n",
    "https://journals.aps.org/prab/abstract/10.1103/PhysRevSTAB.16.060703\n"
   ]
  },
  {
   "cell_type": "code",
   "execution_count": null,
   "metadata": {},
   "outputs": [],
   "source": [
    "import numpy as np\n",
    "import impact.z as IZ\n",
    "from pytao import Tao\n",
    "\n",
    "from pmd_beamphysics import ParticleGroup\n",
    "import tempfile\n",
    "from impact.tests.z.conftest import bmad_files\n",
    "\n",
    "from scipy.constants import c\n",
    "\n",
    "import pandas as pd\n",
    "\n",
    "import matplotlib.pyplot as plt"
   ]
  },
  {
   "cell_type": "code",
   "execution_count": null,
   "metadata": {},
   "outputs": [],
   "source": [
    "TRACK_START = \"BEGINNING\"\n",
    "TRACK_END = \"END\"\n",
    "\n",
    "NZ = 128\n",
    "N_PARTICLE = 10_000\n",
    "DS_STEP = 0.01\n",
    "\n",
    "DRIFT_CSR_ON = False"
   ]
  },
  {
   "cell_type": "code",
   "execution_count": null,
   "metadata": {},
   "outputs": [],
   "source": [
    "# Gaussian\n",
    "def set_gaussian(\n",
    "    tao,\n",
    "    n_particle=10_000,\n",
    "    a_norm_emit=1.0e-6,\n",
    "    b_norm_emit=1.0e-6,\n",
    "    bunch_charge=1e-9,\n",
    "    sig_pz=2e-6,\n",
    "    sig_z=200e-6,\n",
    "    center_pz=0,\n",
    "):\n",
    "    cmds = [\n",
    "        f\"set beam_init n_particle = {n_particle}\",\n",
    "        \"set beam_init random_engine = quasi\",\n",
    "        \"set beam_init saved_at = MARKER::*, BEGINNING, END\",\n",
    "        f\"set beam_init a_norm_emit = {a_norm_emit}\",\n",
    "        f\"set beam_init b_norm_emit = {b_norm_emit}\",\n",
    "        f\"set beam_init bunch_charge = {bunch_charge}\",\n",
    "        f\"set beam_init sig_pz = {sig_pz}\",\n",
    "        f\"set beam_init sig_z = {sig_z}\",\n",
    "        # \"set space_charge_com ds_track_step = 0.01\",\n",
    "        # \"set space_charge_com n_bin = 40\",\n",
    "        f\"set beam_init center(6) = {center_pz}\",\n",
    "    ]\n",
    "    tao.cmds(cmds)\n",
    "    tao.cmd(\"set global lattice_calc_on = T\")\n",
    "\n",
    "\n",
    "def track_tao(tao, particles):\n",
    "    cmds = [\n",
    "        f\"set beam_init bunch_charge = {particles.charge}\",\n",
    "        f\"set beam_init n_particle = {particles.n_particle}\",\n",
    "        f\"set beam_init track_start = {TRACK_START}\",\n",
    "        f\"set beam_init track_end = {TRACK_END}\",\n",
    "        \"set beam_init saved_at = MARKER::*, BEGINNING, END\",\n",
    "    ]\n",
    "\n",
    "    for cmd in cmds:\n",
    "        print(cmd)\n",
    "    tao.cmds(cmds)\n",
    "\n",
    "    with tempfile.NamedTemporaryFile(suffix=\".h5\") as temp_file:\n",
    "        particles.write(temp_file.name)\n",
    "        tao.cmd(f\"set beam_init position_file = {temp_file.name}\")\n",
    "        tao.cmd(\"set global lattice_calc_on = T\")\n",
    "        tao.cmd(\"set global track_type=beam;set global track_type=single\")\n",
    "\n",
    "    P1 = ParticleGroup(data=tao.bunch_data(TRACK_END))\n",
    "    return P1\n",
    "\n",
    "\n",
    "def apply_chirp(pg: ParticleGroup, h):\n",
    "    pg = pg.copy()\n",
    "    p0 = pg[\"mean_p\"]\n",
    "    z = -pg.beta * c * (pg.t - pg[\"mean_t\"])\n",
    "    pg.pz += (h * z) * p0\n",
    "    return pg"
   ]
  },
  {
   "cell_type": "code",
   "execution_count": null,
   "metadata": {},
   "outputs": [],
   "source": [
    "tao = Tao(lattice_file=bmad_files / \"csr_zeuthen.bmad\", plot=\"mpl\")\n",
    "set_gaussian(tao, n_particle=N_PARTICLE)\n",
    "tao.cmd(\"set global track_type = beam; set global track_type = single\")\n",
    "P00 = ParticleGroup(data=tao.bunch_data(\"beginning\"))\n",
    "P0 = apply_chirp(P00, -36)\n",
    "P0.plot(\"t\", \"energy\")\n",
    "P00[\"mean_energy\"], P0[\"mean_energy\"]"
   ]
  },
  {
   "cell_type": "code",
   "execution_count": null,
   "metadata": {},
   "outputs": [],
   "source": [
    "tao.cmd(\"set bmad_com csr_and_space_charge_on = T\")\n",
    "tao.cmd(f\"set space_charge n_bin = {NZ}\")\n",
    "tao.cmd(f\"set space_charge ds_track_step = {DS_STEP}\")\n",
    "tao.cmd(\"set bmad_com radiation_damping_on  = T\")  # off by default\n",
    "tao.cmd(\"set bmad_com radiation_fluctuations_on = T\")  # off by default\n",
    "tao.cmd(\"set ele * space_charge_method = fft_3d\")\n",
    "tao.cmd(f\"set space_charge space_charge_mesh_size = 32 32 {NZ}\")\n",
    "tao.cmd(f\"set ele * DS_STEP = {DS_STEP}\")"
   ]
  },
  {
   "cell_type": "code",
   "execution_count": null,
   "metadata": {},
   "outputs": [],
   "source": [
    "if DRIFT_CSR_ON:\n",
    "    tao.cmd(\"set ele * csr_method = 1_dim\")\n",
    "else:\n",
    "    tao.cmd(\"set ele * csr_method = off\")\n",
    "    tao.cmd(\"set ele sbend::* csr_method = 1_dim\")"
   ]
  },
  {
   "cell_type": "code",
   "execution_count": null,
   "metadata": {},
   "outputs": [],
   "source": [
    "%%time\n",
    "P1 = track_tao(tao, P0)\n",
    "\n",
    "P1.plot(\"delta_t\", \"energy\"), P1[\"sigma_t\"] * c * 1e6"
   ]
  },
  {
   "cell_type": "code",
   "execution_count": null,
   "metadata": {},
   "outputs": [],
   "source": [
    "sigma_z0 = P0[\"sigma_t\"] * c\n",
    "sigma_z1 = P1[\"sigma_t\"] * c\n",
    "\n",
    "sigma_z1 * 1e6"
   ]
  },
  {
   "cell_type": "code",
   "execution_count": null,
   "metadata": {},
   "outputs": [],
   "source": [
    "sigma_z1 / sigma_z0"
   ]
  },
  {
   "cell_type": "markdown",
   "metadata": {},
   "source": [
    "# Impact-Z"
   ]
  },
  {
   "cell_type": "code",
   "execution_count": null,
   "metadata": {},
   "outputs": [],
   "source": [
    "input = IZ.ImpactZInput.from_tao(tao, verbose=False, write_beam_eles=\"\")\n",
    "I = IZ.ImpactZ(input, use_temp_dir=False, workdir=\"./tmp-csr-bench\")\n",
    "I.initial_particles = P0"
   ]
  },
  {
   "cell_type": "code",
   "execution_count": null,
   "metadata": {},
   "outputs": [],
   "source": [
    "I.input.space_charge_on()\n",
    "I.input.integrator_type = 1\n",
    "I.input.nz = NZ\n",
    "\n",
    "if DRIFT_CSR_ON:\n",
    "    icsr = 501\n",
    "else:\n",
    "    icsr = 201\n",
    "I.input.dipoles.input_switch = icsr\n",
    "I.input.dipoles.input_switch\n",
    "\n",
    "I.input.dipoles.fint = 0.5"
   ]
  },
  {
   "cell_type": "code",
   "execution_count": null,
   "metadata": {},
   "outputs": [],
   "source": []
  },
  {
   "cell_type": "code",
   "execution_count": null,
   "metadata": {},
   "outputs": [],
   "source": [
    "%%time\n",
    "I.nproc = 12\n",
    "I.run(verbose=False);"
   ]
  },
  {
   "cell_type": "code",
   "execution_count": null,
   "metadata": {},
   "outputs": [],
   "source": [
    "P2 = I.output.particles[\"final_particles\"]\n",
    "P2.plot(\"delta_t\", \"energy\")"
   ]
  },
  {
   "cell_type": "code",
   "execution_count": null,
   "metadata": {},
   "outputs": [],
   "source": [
    "stats = I.output.stats\n",
    "mc2 = I.input.reference_particle_mass\n",
    "z = stats.z\n",
    "x = stats.mean_x\n",
    "y = stats.mean_y\n",
    "sigma_x = I.output.stats.sigma_x\n",
    "sigma_y = I.output.stats.sigma_y\n",
    "energy = stats.mean_energy\n",
    "\n",
    "ix_eles = tao.lat_list(f\"{TRACK_START}:{TRACK_END}\", \"ele.ix_ele\")\n",
    "\n",
    "bparams = pd.DataFrame(list(map(tao.bunch_params, ix_eles)))\n",
    "\n",
    "\n",
    "x_tao = tao.bunch_comb(\"x\")\n",
    "y_tao = tao.bunch_comb(\"y\")\n",
    "sigma_x_tao = tao.bunch_comb(\"x.sigma\")\n",
    "sigma_y_tao = tao.bunch_comb(\"y.sigma\")\n",
    "p_tao = (1 + tao.bunch_comb(\"pz\")) * tao.bunch_comb(\"p0c\")\n",
    "energy_tao = np.hypot(p_tao, mc2)\n",
    "s_tao = tao.bunch_comb(\"s\")\n",
    "s_tao = s_tao - s_tao[0]\n",
    "\n",
    "\n",
    "s_tao2 = bparams.s - bparams.s[0]\n",
    "sigma_x_tao2 = np.sqrt(bparams.sigma_11)\n",
    "sigma_y_tao2 = np.sqrt(bparams.sigma_33)\n",
    "\n",
    "fig, (ax0, ax1, ax2, ax3) = plt.subplots(4, figsize=(12, 8))\n",
    "\n",
    "ax0.plot(z, x, label=\"Impact-Z\")\n",
    "ax0.plot(s_tao, x_tao, \"--\", label=\"Tao\")\n",
    "ax0.set_ylabel(r\"$x$ (m)\")\n",
    "\n",
    "ax1.plot(z, y, label=\"Impact-Z\")\n",
    "ax1.plot(s_tao, y_tao, \"--\", label=\"Tao\")\n",
    "ax1.set_ylabel(r\"$y$ (m)\")\n",
    "\n",
    "ax2.plot(z, sigma_x, label=\"Impact-Z\")\n",
    "# ax2.plot(s_tao, sigma_x_tao, \"--\", label=\"Tao\")\n",
    "ax2.plot(s_tao2, sigma_x_tao2, \"--\", label=\"Tao\")\n",
    "ax2.set_ylabel(r\"$\\sigma_x$ (m)\")\n",
    "# ax2.set_yscale('log')\n",
    "\n",
    "ax3.plot(z, (energy - energy[0]) / 1e6, label=\"Impact-Z map\")\n",
    "ax3.plot(s_tao, (energy_tao - energy_tao[0]) / 1e6, \"--\", label=\"Tao\")\n",
    "ax3.set_ylabel(r\"$dE$ (MeV)\")\n",
    "\n",
    "ax1.set_xlabel(r\"$s$ (m)\")\n",
    "\n",
    "plt.legend();"
   ]
  },
  {
   "cell_type": "markdown",
   "metadata": {},
   "source": [
    "## Compare"
   ]
  },
  {
   "cell_type": "code",
   "execution_count": null,
   "metadata": {},
   "outputs": [],
   "source": [
    "def compare(\n",
    "    xkey=\"x\",\n",
    "    ykey=\"y\",\n",
    "):\n",
    "    fig, ax = plt.subplots()\n",
    "\n",
    "    for p, label, marker in (\n",
    "        (P1, \"Bmad\", \"X\"),\n",
    "        (P2, \"Impact-Z\", \".\"),\n",
    "    ):\n",
    "        ax.scatter(p[xkey], p[ykey], label=label, marker=marker, alpha=0.5)\n",
    "\n",
    "    plt.legend()\n",
    "\n",
    "    ax.set_xlabel(xkey)\n",
    "    ax.set_ylabel(ykey)\n",
    "\n",
    "\n",
    "compare()"
   ]
  },
  {
   "cell_type": "code",
   "execution_count": null,
   "metadata": {},
   "outputs": [],
   "source": [
    "compare(\"delta_t\", \"energy\")"
   ]
  },
  {
   "cell_type": "code",
   "execution_count": null,
   "metadata": {},
   "outputs": [],
   "source": [
    "compare(\"delta_t\", \"xp\")"
   ]
  },
  {
   "cell_type": "code",
   "execution_count": null,
   "metadata": {},
   "outputs": [],
   "source": [
    "energy0 = P0[\"mean_energy\"]\n",
    "P1[\"mean_energy\"] - energy0, P2[\"mean_energy\"] - energy0"
   ]
  },
  {
   "cell_type": "markdown",
   "metadata": {},
   "source": [
    "# Impact-Z Lorentz integrator \n",
    "\n",
    "`ImpactZInput.integrator_type = 2`\n",
    "\n",
    "Note that this is not expected to work as well because the dipole fringe fields are not able to be specified."
   ]
  },
  {
   "cell_type": "code",
   "execution_count": null,
   "metadata": {},
   "outputs": [],
   "source": [
    "I2 = I.copy()"
   ]
  },
  {
   "cell_type": "code",
   "execution_count": null,
   "metadata": {},
   "outputs": [],
   "source": [
    "I2.input.integrator_type = 2\n",
    "I2.run(verbose=False)\n",
    "\n",
    "P3 = I2.output.particles[\"final_particles\"]"
   ]
  },
  {
   "cell_type": "code",
   "execution_count": null,
   "metadata": {},
   "outputs": [],
   "source": [
    "stats1 = I.output.stats\n",
    "stats2 = I2.output.stats\n",
    "\n",
    "eref = 5000e6\n",
    "\n",
    "fig, ax = plt.subplots(1, figsize=(12, 4))\n",
    "\n",
    "ax.plot(stats1.z, (stats1.mean_energy - eref) / 1e6, label=\"Impact-T, map\")\n",
    "ax.plot(stats2.z, (stats2.mean_energy - eref) / 1e6, label=\"Impact-T, nonlinear\")\n",
    "\n",
    "ax.plot(s_tao, (energy_tao - eref) / 1e6, label=\"Bmad\")\n",
    "\n",
    "ax.set_xlabel(r\"$s$ (m)\")\n",
    "ax.set_ylabel(r\"$dE$ (MeV)\")\n",
    "\n",
    "plt.legend()"
   ]
  },
  {
   "cell_type": "code",
   "execution_count": null,
   "metadata": {},
   "outputs": [],
   "source": [
    "def compare(\n",
    "    xkey=\"x\",\n",
    "    ykey=\"y\",\n",
    "    skip=10,\n",
    "):\n",
    "    fig, ax = plt.subplots()\n",
    "\n",
    "    for p, label, marker in (\n",
    "        (P1, \"Bmad\", \"X\"),\n",
    "        (P2, \"Impact-Z map\", \".\"),\n",
    "        (P3, \"Impact-Z nonlinear\", \".\"),\n",
    "    ):\n",
    "        ax.scatter(\n",
    "            p[xkey][::skip], p[ykey][::skip], label=label, marker=marker, alpha=0.5\n",
    "        )\n",
    "\n",
    "    plt.legend()\n",
    "\n",
    "    ax.set_xlabel(xkey)\n",
    "    ax.set_ylabel(ykey)\n",
    "\n",
    "\n",
    "compare(\"delta_t\", \"xp\")"
   ]
  },
  {
   "cell_type": "code",
   "execution_count": null,
   "metadata": {},
   "outputs": [],
   "source": [
    "I.archive(\"csr-zeuthen-1.h5\")"
   ]
  },
  {
   "cell_type": "code",
   "execution_count": null,
   "metadata": {},
   "outputs": [],
   "source": [
    "I2.archive(\"csr-zeuthen-2.h5\")"
   ]
  },
  {
   "cell_type": "code",
   "execution_count": null,
   "metadata": {},
   "outputs": [],
   "source": [
    "IZ.ImpactZ.from_archive(\"csr-zeuthen-1.h5\")"
   ]
  }
 ],
 "metadata": {
  "kernelspec": {
   "display_name": "Python 3 (ipykernel)",
   "language": "python",
   "name": "python3"
  },
  "language_info": {
   "codemirror_mode": {
    "name": "ipython",
    "version": 3
   },
   "file_extension": ".py",
   "mimetype": "text/x-python",
   "name": "python",
   "nbconvert_exporter": "python",
   "pygments_lexer": "ipython3",
   "version": "3.12.8"
  }
 },
 "nbformat": 4,
 "nbformat_minor": 4
}
