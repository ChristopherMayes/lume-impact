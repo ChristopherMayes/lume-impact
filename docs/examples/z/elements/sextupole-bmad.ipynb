{
 "cells": [
  {
   "cell_type": "markdown",
   "metadata": {},
   "source": [
    "# Sextupole - Comparing to Bmad"
   ]
  },
  {
   "cell_type": "code",
   "execution_count": null,
   "metadata": {
    "execution": {
     "iopub.execute_input": "2025-02-20T21:33:47.451586Z",
     "iopub.status.busy": "2025-02-20T21:33:47.451186Z",
     "iopub.status.idle": "2025-02-20T21:33:48.656658Z",
     "shell.execute_reply": "2025-02-20T21:33:48.656327Z"
    }
   },
   "outputs": [],
   "source": [
    "import matplotlib.pyplot as plt\n",
    "import numpy as np\n",
    "from pmd_beamphysics import single_particle\n",
    "from pmd_beamphysics.units import mec2\n",
    "from pytao import Tao\n",
    "\n",
    "import impact.z as IZ\n",
    "from impact.tests.z.conftest import bmad_files\n",
    "from impact.z.interfaces.bmad import export_particles as tao_export_particles"
   ]
  },
  {
   "cell_type": "code",
   "execution_count": null,
   "metadata": {
    "execution": {
     "iopub.execute_input": "2025-02-20T21:33:48.658212Z",
     "iopub.status.busy": "2025-02-20T21:33:48.658035Z",
     "iopub.status.idle": "2025-02-20T21:33:48.660021Z",
     "shell.execute_reply": "2025-02-20T21:33:48.659778Z"
    }
   },
   "outputs": [],
   "source": [
    "energy = 10e6\n",
    "pz = np.sqrt(energy**2 - mec2**2)\n",
    "P0 = single_particle(x=1e-3, pz=pz)"
   ]
  },
  {
   "cell_type": "code",
   "execution_count": null,
   "metadata": {
    "execution": {
     "iopub.execute_input": "2025-02-20T21:33:48.661228Z",
     "iopub.status.busy": "2025-02-20T21:33:48.661151Z",
     "iopub.status.idle": "2025-02-20T21:33:48.785959Z",
     "shell.execute_reply": "2025-02-20T21:33:48.785515Z"
    }
   },
   "outputs": [],
   "source": [
    "!cat $bmad_files/sextupole.bmad"
   ]
  },
  {
   "cell_type": "code",
   "execution_count": null,
   "metadata": {
    "execution": {
     "iopub.execute_input": "2025-02-20T21:33:48.787772Z",
     "iopub.status.busy": "2025-02-20T21:33:48.787641Z",
     "iopub.status.idle": "2025-02-20T21:33:48.827318Z",
     "shell.execute_reply": "2025-02-20T21:33:48.827001Z"
    }
   },
   "outputs": [],
   "source": [
    "tao = Tao(lattice_file=bmad_files / \"sextupole.bmad\", plot=\"mpl\")"
   ]
  },
  {
   "cell_type": "code",
   "execution_count": null,
   "metadata": {
    "execution": {
     "iopub.execute_input": "2025-02-20T21:33:48.828817Z",
     "iopub.status.busy": "2025-02-20T21:33:48.828700Z",
     "iopub.status.idle": "2025-02-20T21:33:49.040135Z",
     "shell.execute_reply": "2025-02-20T21:33:49.039678Z"
    }
   },
   "outputs": [],
   "source": [
    "P0.write(\"sextupole_initial_particles.h5\")\n",
    "for cmd in [\n",
    "    \"set beam_init position_file = sextupole_initial_particles.h5\",\n",
    "    f\"set beam_init n_particle = {len(P0)}\",\n",
    "    f\"set beam_init bunch_charge = {P0.charge}\",\n",
    "    \"set beam_init saved_at = *\",\n",
    "    \"set global track_type = single\",\n",
    "    \"set global track_type = beam\",\n",
    "]:\n",
    "    res = tao.cmd(cmd)\n",
    "    if res:\n",
    "        print(\"\\n\".join(res))"
   ]
  },
  {
   "cell_type": "code",
   "execution_count": null,
   "metadata": {
    "execution": {
     "iopub.execute_input": "2025-02-20T21:33:49.041566Z",
     "iopub.status.busy": "2025-02-20T21:33:49.041482Z",
     "iopub.status.idle": "2025-02-20T21:33:49.273184Z",
     "shell.execute_reply": "2025-02-20T21:33:49.272901Z"
    }
   },
   "outputs": [],
   "source": [
    "tao.plot(\"beta\", include_layout=False)"
   ]
  },
  {
   "cell_type": "code",
   "execution_count": null,
   "metadata": {
    "execution": {
     "iopub.execute_input": "2025-02-20T21:33:49.274387Z",
     "iopub.status.busy": "2025-02-20T21:33:49.274288Z",
     "iopub.status.idle": "2025-02-20T21:33:49.283604Z",
     "shell.execute_reply": "2025-02-20T21:33:49.283347Z"
    }
   },
   "outputs": [],
   "source": [
    "I = IZ.ImpactZ.from_tao(\n",
    "    tao, use_temp_dir=False, workdir=\"./sextupole-bmad\", initial_particles=P0\n",
    ")"
   ]
  },
  {
   "cell_type": "code",
   "execution_count": null,
   "metadata": {
    "execution": {
     "iopub.execute_input": "2025-02-20T21:33:49.284745Z",
     "iopub.status.busy": "2025-02-20T21:33:49.284672Z",
     "iopub.status.idle": "2025-02-20T21:33:49.298320Z",
     "shell.execute_reply": "2025-02-20T21:33:49.298088Z"
    }
   },
   "outputs": [],
   "source": [
    "I.input"
   ]
  },
  {
   "cell_type": "code",
   "execution_count": null,
   "metadata": {
    "execution": {
     "iopub.execute_input": "2025-02-20T21:33:49.299456Z",
     "iopub.status.busy": "2025-02-20T21:33:49.299371Z",
     "iopub.status.idle": "2025-02-20T21:33:49.303140Z",
     "shell.execute_reply": "2025-02-20T21:33:49.302909Z"
    }
   },
   "outputs": [],
   "source": [
    "I.input.multipole"
   ]
  },
  {
   "cell_type": "code",
   "execution_count": null,
   "metadata": {
    "execution": {
     "iopub.execute_input": "2025-02-20T21:33:49.304266Z",
     "iopub.status.busy": "2025-02-20T21:33:49.304190Z",
     "iopub.status.idle": "2025-02-20T21:33:49.368950Z",
     "shell.execute_reply": "2025-02-20T21:33:49.368636Z"
    }
   },
   "outputs": [],
   "source": [
    "output = I.run()"
   ]
  },
  {
   "cell_type": "code",
   "execution_count": null,
   "metadata": {
    "execution": {
     "iopub.execute_input": "2025-02-20T21:33:49.370321Z",
     "iopub.status.busy": "2025-02-20T21:33:49.370227Z",
     "iopub.status.idle": "2025-02-20T21:33:49.452161Z",
     "shell.execute_reply": "2025-02-20T21:33:49.451904Z"
    }
   },
   "outputs": [],
   "source": [
    "I.output"
   ]
  },
  {
   "cell_type": "code",
   "execution_count": null,
   "metadata": {
    "execution": {
     "iopub.execute_input": "2025-02-20T21:33:49.453388Z",
     "iopub.status.busy": "2025-02-20T21:33:49.453310Z",
     "iopub.status.idle": "2025-02-20T21:33:49.459553Z",
     "shell.execute_reply": "2025-02-20T21:33:49.459295Z"
    }
   },
   "outputs": [],
   "source": [
    "Ptao = tao_export_particles(tao, \"END\")"
   ]
  },
  {
   "cell_type": "code",
   "execution_count": null,
   "metadata": {
    "execution": {
     "iopub.execute_input": "2025-02-20T21:33:49.460685Z",
     "iopub.status.busy": "2025-02-20T21:33:49.460605Z",
     "iopub.status.idle": "2025-02-20T21:33:49.619430Z",
     "shell.execute_reply": "2025-02-20T21:33:49.619164Z"
    }
   },
   "outputs": [],
   "source": [
    "mc2 = I.input.reference_particle_mass\n",
    "stats = I.output.stats\n",
    "z = stats.z\n",
    "x = stats.mean_x\n",
    "y = stats.mean_y\n",
    "energy = stats.mean_energy\n",
    "\n",
    "x_tao = tao.bunch_comb(\"x\")\n",
    "y_tao = tao.bunch_comb(\"y\")\n",
    "s_tao = tao.bunch_comb(\"s\")\n",
    "p_tao = (1 + tao.bunch_comb(\"pz\")) * tao.bunch_comb(\"p0c\")\n",
    "energy_tao = np.hypot(p_tao, mc2)\n",
    "\n",
    "fig, (ax1, ax2, ax3, ax4) = plt.subplots(4, figsize=(8, 8), sharex=True)\n",
    "ax1.plot(z, x, label=\"Impact-Z\")\n",
    "ax1.plot(s_tao, x_tao, \"--\", label=\"Tao\")\n",
    "ax1.set_ylabel(r\"$x$ (m)\")\n",
    "ax1.legend()\n",
    "\n",
    "ax2.plot(z, y, label=\"Impact-Z\")\n",
    "ax2.plot(s_tao, y_tao, \"--\", label=\"Tao\")\n",
    "ax2.set_ylabel(r\"$y$ (m)\")\n",
    "\n",
    "ax3.plot(z, energy / 1e6, label=\"Impact-Z\")\n",
    "ax3.plot(s_tao, energy_tao / 1e6, \"--\", label=\"Tao\")\n",
    "ax3.set_ylabel(r\"$E$ (MeV)\")\n",
    "ax3.set_xlabel(r\"$s$ (m)\")\n",
    "\n",
    "I.input.plot(ax=ax4, include_marker_labels=False);"
   ]
  }
 ],
 "metadata": {
  "kernelspec": {
   "display_name": "Python 3 (ipykernel)",
   "language": "python",
   "name": "python3"
  },
  "language_info": {
   "codemirror_mode": {
    "name": "ipython",
    "version": 3
   },
   "file_extension": ".py",
   "mimetype": "text/x-python",
   "name": "python",
   "nbconvert_exporter": "python",
   "pygments_lexer": "ipython3",
   "version": "3.12.8"
  },
  "widgets": {
   "application/vnd.jupyter.widget-state+json": {
    "state": {
     "034a0d44bf5a4172a16ab09eeefa1d48": {
      "model_module": "@jupyter-widgets/controls",
      "model_module_version": "2.0.0",
      "model_name": "ProgressStyleModel",
      "state": {
       "_model_module": "@jupyter-widgets/controls",
       "_model_module_version": "2.0.0",
       "_model_name": "ProgressStyleModel",
       "_view_count": null,
       "_view_module": "@jupyter-widgets/base",
       "_view_module_version": "2.0.0",
       "_view_name": "StyleView",
       "bar_color": null,
       "description_width": ""
      }
     },
     "10d53cfd79804829a51bc4b9cd2ee201": {
      "model_module": "@jupyter-widgets/controls",
      "model_module_version": "2.0.0",
      "model_name": "HTMLStyleModel",
      "state": {
       "_model_module": "@jupyter-widgets/controls",
       "_model_module_version": "2.0.0",
       "_model_name": "HTMLStyleModel",
       "_view_count": null,
       "_view_module": "@jupyter-widgets/base",
       "_view_module_version": "2.0.0",
       "_view_name": "StyleView",
       "background": null,
       "description_width": "",
       "font_size": null,
       "text_color": null
      }
     },
     "3846fcfbdf054b15b094dc45a9b432c0": {
      "model_module": "@jupyter-widgets/controls",
      "model_module_version": "2.0.0",
      "model_name": "HTMLStyleModel",
      "state": {
       "_model_module": "@jupyter-widgets/controls",
       "_model_module_version": "2.0.0",
       "_model_name": "HTMLStyleModel",
       "_view_count": null,
       "_view_module": "@jupyter-widgets/base",
       "_view_module_version": "2.0.0",
       "_view_name": "StyleView",
       "background": null,
       "description_width": "",
       "font_size": null,
       "text_color": null
      }
     },
     "54254f54f88e448f807427b7de74562a": {
      "model_module": "@jupyter-widgets/base",
      "model_module_version": "2.0.0",
      "model_name": "LayoutModel",
      "state": {
       "_model_module": "@jupyter-widgets/base",
       "_model_module_version": "2.0.0",
       "_model_name": "LayoutModel",
       "_view_count": null,
       "_view_module": "@jupyter-widgets/base",
       "_view_module_version": "2.0.0",
       "_view_name": "LayoutView",
       "align_content": null,
       "align_items": null,
       "align_self": null,
       "border_bottom": null,
       "border_left": null,
       "border_right": null,
       "border_top": null,
       "bottom": null,
       "display": null,
       "flex": null,
       "flex_flow": null,
       "grid_area": null,
       "grid_auto_columns": null,
       "grid_auto_flow": null,
       "grid_auto_rows": null,
       "grid_column": null,
       "grid_gap": null,
       "grid_row": null,
       "grid_template_areas": null,
       "grid_template_columns": null,
       "grid_template_rows": null,
       "height": null,
       "justify_content": null,
       "justify_items": null,
       "left": null,
       "margin": null,
       "max_height": null,
       "max_width": null,
       "min_height": null,
       "min_width": null,
       "object_fit": null,
       "object_position": null,
       "order": null,
       "overflow": null,
       "padding": null,
       "right": null,
       "top": null,
       "visibility": "hidden",
       "width": null
      }
     },
     "54b2e0bf02fb4f2da0f1e3d30815d795": {
      "model_module": "@jupyter-widgets/controls",
      "model_module_version": "2.0.0",
      "model_name": "HTMLModel",
      "state": {
       "_dom_classes": [],
       "_model_module": "@jupyter-widgets/controls",
       "_model_module_version": "2.0.0",
       "_model_name": "HTMLModel",
       "_view_count": null,
       "_view_module": "@jupyter-widgets/controls",
       "_view_module_version": "2.0.0",
       "_view_name": "HTMLView",
       "description": "",
       "description_allow_html": false,
       "layout": "IPY_MODEL_f3b4b448117842a7a4390d428d25781a",
       "placeholder": "​",
       "style": "IPY_MODEL_10d53cfd79804829a51bc4b9cd2ee201",
       "tabbable": null,
       "tooltip": null,
       "value": "100%"
      }
     },
     "564999778b39477aab70ade8c2f2197d": {
      "model_module": "@jupyter-widgets/controls",
      "model_module_version": "2.0.0",
      "model_name": "HTMLModel",
      "state": {
       "_dom_classes": [],
       "_model_module": "@jupyter-widgets/controls",
       "_model_module_version": "2.0.0",
       "_model_name": "HTMLModel",
       "_view_count": null,
       "_view_module": "@jupyter-widgets/controls",
       "_view_module_version": "2.0.0",
       "_view_name": "HTMLView",
       "description": "",
       "description_allow_html": false,
       "layout": "IPY_MODEL_eca58e7df5a345d782a1735cac9e0d3f",
       "placeholder": "​",
       "style": "IPY_MODEL_3846fcfbdf054b15b094dc45a9b432c0",
       "tabbable": null,
       "tooltip": null,
       "value": " 6/6 [00:00&lt;00:00, 343.80it/s, Name=final_particles, Z=0.6]"
      }
     },
     "9d43ab0715a74aec9600a60a79fa0148": {
      "model_module": "@jupyter-widgets/base",
      "model_module_version": "2.0.0",
      "model_name": "LayoutModel",
      "state": {
       "_model_module": "@jupyter-widgets/base",
       "_model_module_version": "2.0.0",
       "_model_name": "LayoutModel",
       "_view_count": null,
       "_view_module": "@jupyter-widgets/base",
       "_view_module_version": "2.0.0",
       "_view_name": "LayoutView",
       "align_content": null,
       "align_items": null,
       "align_self": null,
       "border_bottom": null,
       "border_left": null,
       "border_right": null,
       "border_top": null,
       "bottom": null,
       "display": null,
       "flex": null,
       "flex_flow": null,
       "grid_area": null,
       "grid_auto_columns": null,
       "grid_auto_flow": null,
       "grid_auto_rows": null,
       "grid_column": null,
       "grid_gap": null,
       "grid_row": null,
       "grid_template_areas": null,
       "grid_template_columns": null,
       "grid_template_rows": null,
       "height": null,
       "justify_content": null,
       "justify_items": null,
       "left": null,
       "margin": null,
       "max_height": null,
       "max_width": null,
       "min_height": null,
       "min_width": null,
       "object_fit": null,
       "object_position": null,
       "order": null,
       "overflow": null,
       "padding": null,
       "right": null,
       "top": null,
       "visibility": null,
       "width": null
      }
     },
     "b3e6bd3733054264a38ccd44ca81e548": {
      "model_module": "@jupyter-widgets/controls",
      "model_module_version": "2.0.0",
      "model_name": "HBoxModel",
      "state": {
       "_dom_classes": [],
       "_model_module": "@jupyter-widgets/controls",
       "_model_module_version": "2.0.0",
       "_model_name": "HBoxModel",
       "_view_count": null,
       "_view_module": "@jupyter-widgets/controls",
       "_view_module_version": "2.0.0",
       "_view_name": "HBoxView",
       "box_style": "",
       "children": [
        "IPY_MODEL_54b2e0bf02fb4f2da0f1e3d30815d795",
        "IPY_MODEL_e39d40d1153746ff99c5f331fc1e4e47",
        "IPY_MODEL_564999778b39477aab70ade8c2f2197d"
       ],
       "layout": "IPY_MODEL_54254f54f88e448f807427b7de74562a",
       "tabbable": null,
       "tooltip": null
      }
     },
     "e39d40d1153746ff99c5f331fc1e4e47": {
      "model_module": "@jupyter-widgets/controls",
      "model_module_version": "2.0.0",
      "model_name": "FloatProgressModel",
      "state": {
       "_dom_classes": [],
       "_model_module": "@jupyter-widgets/controls",
       "_model_module_version": "2.0.0",
       "_model_name": "FloatProgressModel",
       "_view_count": null,
       "_view_module": "@jupyter-widgets/controls",
       "_view_module_version": "2.0.0",
       "_view_name": "ProgressView",
       "bar_style": "",
       "description": "",
       "description_allow_html": false,
       "layout": "IPY_MODEL_9d43ab0715a74aec9600a60a79fa0148",
       "max": 6.0,
       "min": 0.0,
       "orientation": "horizontal",
       "style": "IPY_MODEL_034a0d44bf5a4172a16ab09eeefa1d48",
       "tabbable": null,
       "tooltip": null,
       "value": 6.0
      }
     },
     "eca58e7df5a345d782a1735cac9e0d3f": {
      "model_module": "@jupyter-widgets/base",
      "model_module_version": "2.0.0",
      "model_name": "LayoutModel",
      "state": {
       "_model_module": "@jupyter-widgets/base",
       "_model_module_version": "2.0.0",
       "_model_name": "LayoutModel",
       "_view_count": null,
       "_view_module": "@jupyter-widgets/base",
       "_view_module_version": "2.0.0",
       "_view_name": "LayoutView",
       "align_content": null,
       "align_items": null,
       "align_self": null,
       "border_bottom": null,
       "border_left": null,
       "border_right": null,
       "border_top": null,
       "bottom": null,
       "display": null,
       "flex": null,
       "flex_flow": null,
       "grid_area": null,
       "grid_auto_columns": null,
       "grid_auto_flow": null,
       "grid_auto_rows": null,
       "grid_column": null,
       "grid_gap": null,
       "grid_row": null,
       "grid_template_areas": null,
       "grid_template_columns": null,
       "grid_template_rows": null,
       "height": null,
       "justify_content": null,
       "justify_items": null,
       "left": null,
       "margin": null,
       "max_height": null,
       "max_width": null,
       "min_height": null,
       "min_width": null,
       "object_fit": null,
       "object_position": null,
       "order": null,
       "overflow": null,
       "padding": null,
       "right": null,
       "top": null,
       "visibility": null,
       "width": null
      }
     },
     "f3b4b448117842a7a4390d428d25781a": {
      "model_module": "@jupyter-widgets/base",
      "model_module_version": "2.0.0",
      "model_name": "LayoutModel",
      "state": {
       "_model_module": "@jupyter-widgets/base",
       "_model_module_version": "2.0.0",
       "_model_name": "LayoutModel",
       "_view_count": null,
       "_view_module": "@jupyter-widgets/base",
       "_view_module_version": "2.0.0",
       "_view_name": "LayoutView",
       "align_content": null,
       "align_items": null,
       "align_self": null,
       "border_bottom": null,
       "border_left": null,
       "border_right": null,
       "border_top": null,
       "bottom": null,
       "display": null,
       "flex": null,
       "flex_flow": null,
       "grid_area": null,
       "grid_auto_columns": null,
       "grid_auto_flow": null,
       "grid_auto_rows": null,
       "grid_column": null,
       "grid_gap": null,
       "grid_row": null,
       "grid_template_areas": null,
       "grid_template_columns": null,
       "grid_template_rows": null,
       "height": null,
       "justify_content": null,
       "justify_items": null,
       "left": null,
       "margin": null,
       "max_height": null,
       "max_width": null,
       "min_height": null,
       "min_width": null,
       "object_fit": null,
       "object_position": null,
       "order": null,
       "overflow": null,
       "padding": null,
       "right": null,
       "top": null,
       "visibility": null,
       "width": null
      }
     }
    },
    "version_major": 2,
    "version_minor": 0
   }
  }
 },
 "nbformat": 4,
 "nbformat_minor": 4
}
