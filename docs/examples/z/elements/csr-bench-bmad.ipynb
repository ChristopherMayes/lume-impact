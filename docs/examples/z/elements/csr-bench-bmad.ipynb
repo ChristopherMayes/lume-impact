{
 "cells": [
  {
   "cell_type": "markdown",
   "metadata": {},
   "source": [
    "# CSR Benchmark - Comparing to Bmad"
   ]
  },
  {
   "cell_type": "code",
   "execution_count": null,
   "metadata": {
    "execution": {
     "iopub.execute_input": "2025-02-12T18:12:18.528494Z",
     "iopub.status.busy": "2025-02-12T18:12:18.528409Z",
     "iopub.status.idle": "2025-02-12T18:12:20.043470Z",
     "shell.execute_reply": "2025-02-12T18:12:20.043162Z"
    }
   },
   "outputs": [],
   "source": [
    "import numpy as np\n",
    "from pmd_beamphysics import ParticleGroup\n",
    "from pytao import Tao\n",
    "\n",
    "import impact.z as IZ\n",
    "from impact.tests.z.conftest import bmad_files\n",
    "from impact.z.interfaces.bmad import export_particles as tao_export_particles"
   ]
  },
  {
   "cell_type": "code",
   "execution_count": null,
   "metadata": {
    "execution": {
     "iopub.execute_input": "2025-02-12T18:12:20.045557Z",
     "iopub.status.busy": "2025-02-12T18:12:20.045245Z",
     "iopub.status.idle": "2025-02-12T18:12:20.172348Z",
     "shell.execute_reply": "2025-02-12T18:12:20.171833Z"
    }
   },
   "outputs": [],
   "source": [
    "!cat $bmad_files/csr_bench.bmad"
   ]
  },
  {
   "cell_type": "code",
   "execution_count": null,
   "metadata": {
    "execution": {
     "iopub.execute_input": "2025-02-12T18:12:20.174721Z",
     "iopub.status.busy": "2025-02-12T18:12:20.174531Z",
     "iopub.status.idle": "2025-02-12T18:12:20.218942Z",
     "shell.execute_reply": "2025-02-12T18:12:20.218527Z"
    }
   },
   "outputs": [],
   "source": [
    "tao = Tao(lattice_file=bmad_files / \"csr_bench.bmad\", plot=\"mpl\")"
   ]
  },
  {
   "cell_type": "code",
   "execution_count": null,
   "metadata": {
    "execution": {
     "iopub.execute_input": "2025-02-12T18:12:20.220790Z",
     "iopub.status.busy": "2025-02-12T18:12:20.220640Z",
     "iopub.status.idle": "2025-02-12T18:12:20.226758Z",
     "shell.execute_reply": "2025-02-12T18:12:20.226321Z"
    }
   },
   "outputs": [],
   "source": [
    "n_particle = 10_000\n",
    "a_norm_emit = 1.0e-6\n",
    "b_norm_emit = 1.0e-6\n",
    "bunch_charge = 1e-9\n",
    "sig_pz = 1e-12\n",
    "sig_z = 0.3e-3  # ~1ps\n",
    "\n",
    "ds_track_step = 0.01\n",
    "n_bin = 40\n",
    "\n",
    "cmds = [\n",
    "    f\"set beam_init n_particle = {n_particle}\",\n",
    "    \"set beam_init random_engine = quasi\",\n",
    "    \"set beam_init saved_at = MARKER::*, BEGINNING, END\",\n",
    "    f\"set beam_init a_norm_emit = {a_norm_emit}\",\n",
    "    f\"set beam_init b_norm_emit = {b_norm_emit}\",\n",
    "    f\"set beam_init bunch_charge = {bunch_charge}\",\n",
    "    f\"set beam_init sig_pz = {sig_pz}\",\n",
    "    f\"set beam_init sig_z = {sig_z}\",\n",
    "    f\"set space_charge_com ds_track_step = {ds_track_step}\",\n",
    "    f\"set space_charge_com n_bin = {n_bin}\",\n",
    "]\n",
    "\n",
    "for cmd in cmds:\n",
    "    res = tao.cmd(cmd)\n",
    "    if res:\n",
    "        print(\"Tao>\", cmd)\n",
    "        print(res)"
   ]
  },
  {
   "cell_type": "code",
   "execution_count": null,
   "metadata": {
    "execution": {
     "iopub.execute_input": "2025-02-12T18:12:20.228744Z",
     "iopub.status.busy": "2025-02-12T18:12:20.228600Z",
     "iopub.status.idle": "2025-02-12T18:12:20.733029Z",
     "shell.execute_reply": "2025-02-12T18:12:20.732742Z"
    }
   },
   "outputs": [],
   "source": [
    "%time\n",
    "\n",
    "tao.cmd(\"set global track_type = beam; set global track_type = single\")"
   ]
  },
  {
   "cell_type": "code",
   "execution_count": null,
   "metadata": {
    "execution": {
     "iopub.execute_input": "2025-02-12T18:12:20.734527Z",
     "iopub.status.busy": "2025-02-12T18:12:20.734421Z",
     "iopub.status.idle": "2025-02-12T18:12:20.739020Z",
     "shell.execute_reply": "2025-02-12T18:12:20.738778Z"
    }
   },
   "outputs": [],
   "source": [
    "P0 = ParticleGroup(data=tao.bunch_data(\"beginning\"))"
   ]
  },
  {
   "cell_type": "code",
   "execution_count": null,
   "metadata": {
    "execution": {
     "iopub.execute_input": "2025-02-12T18:12:20.740173Z",
     "iopub.status.busy": "2025-02-12T18:12:20.740097Z",
     "iopub.status.idle": "2025-02-12T18:12:20.744143Z",
     "shell.execute_reply": "2025-02-12T18:12:20.743921Z"
    }
   },
   "outputs": [],
   "source": [
    "P = ParticleGroup(data=tao.bunch_data(\"end\"))"
   ]
  },
  {
   "cell_type": "code",
   "execution_count": null,
   "metadata": {
    "execution": {
     "iopub.execute_input": "2025-02-12T18:12:20.745372Z",
     "iopub.status.busy": "2025-02-12T18:12:20.745290Z",
     "iopub.status.idle": "2025-02-12T18:12:20.997308Z",
     "shell.execute_reply": "2025-02-12T18:12:20.996943Z"
    }
   },
   "outputs": [],
   "source": [
    "tao.plot(\"beta\", include_layout=False)"
   ]
  },
  {
   "cell_type": "code",
   "execution_count": null,
   "metadata": {
    "execution": {
     "iopub.execute_input": "2025-02-12T18:12:20.998635Z",
     "iopub.status.busy": "2025-02-12T18:12:20.998522Z",
     "iopub.status.idle": "2025-02-12T18:12:21.011569Z",
     "shell.execute_reply": "2025-02-12T18:12:21.011332Z"
    }
   },
   "outputs": [],
   "source": [
    "input = IZ.ImpactZInput.from_tao(tao, verbose=False)"
   ]
  },
  {
   "cell_type": "code",
   "execution_count": null,
   "metadata": {
    "execution": {
     "iopub.execute_input": "2025-02-12T18:12:21.012735Z",
     "iopub.status.busy": "2025-02-12T18:12:21.012642Z",
     "iopub.status.idle": "2025-02-12T18:12:21.014395Z",
     "shell.execute_reply": "2025-02-12T18:12:21.014138Z"
    }
   },
   "outputs": [],
   "source": [
    "input.space_charge_on()"
   ]
  },
  {
   "cell_type": "code",
   "execution_count": null,
   "metadata": {
    "execution": {
     "iopub.execute_input": "2025-02-12T18:12:21.015588Z",
     "iopub.status.busy": "2025-02-12T18:12:21.015489Z",
     "iopub.status.idle": "2025-02-12T18:12:21.031173Z",
     "shell.execute_reply": "2025-02-12T18:12:21.030924Z"
    }
   },
   "outputs": [],
   "source": [
    "input"
   ]
  },
  {
   "cell_type": "code",
   "execution_count": null,
   "metadata": {
    "execution": {
     "iopub.execute_input": "2025-02-12T18:12:21.032354Z",
     "iopub.status.busy": "2025-02-12T18:12:21.032276Z",
     "iopub.status.idle": "2025-02-12T18:12:21.034379Z",
     "shell.execute_reply": "2025-02-12T18:12:21.034135Z"
    }
   },
   "outputs": [],
   "source": [
    "I = IZ.ImpactZ(\n",
    "    input, use_temp_dir=False, workdir=\"./tmp-csr-bench\", initial_particles=P0\n",
    ")"
   ]
  },
  {
   "cell_type": "code",
   "execution_count": null,
   "metadata": {
    "execution": {
     "iopub.execute_input": "2025-02-12T18:12:21.035642Z",
     "iopub.status.busy": "2025-02-12T18:12:21.035552Z",
     "iopub.status.idle": "2025-02-12T18:12:26.252172Z",
     "shell.execute_reply": "2025-02-12T18:12:26.251794Z"
    }
   },
   "outputs": [],
   "source": [
    "output = I.run(verbose=True)"
   ]
  },
  {
   "cell_type": "code",
   "execution_count": null,
   "metadata": {
    "execution": {
     "iopub.execute_input": "2025-02-12T18:12:26.253504Z",
     "iopub.status.busy": "2025-02-12T18:12:26.253415Z",
     "iopub.status.idle": "2025-02-12T18:12:26.353543Z",
     "shell.execute_reply": "2025-02-12T18:12:26.353219Z"
    }
   },
   "outputs": [],
   "source": [
    "I.output"
   ]
  },
  {
   "cell_type": "code",
   "execution_count": null,
   "metadata": {
    "execution": {
     "iopub.execute_input": "2025-02-12T18:12:26.354860Z",
     "iopub.status.busy": "2025-02-12T18:12:26.354757Z",
     "iopub.status.idle": "2025-02-12T18:12:26.362697Z",
     "shell.execute_reply": "2025-02-12T18:12:26.362485Z"
    }
   },
   "outputs": [],
   "source": [
    "Ptao = tao_export_particles(tao, \"END\")"
   ]
  },
  {
   "cell_type": "code",
   "execution_count": null,
   "metadata": {
    "execution": {
     "iopub.execute_input": "2025-02-12T18:12:26.363817Z",
     "iopub.status.busy": "2025-02-12T18:12:26.363743Z",
     "iopub.status.idle": "2025-02-12T18:12:26.513364Z",
     "shell.execute_reply": "2025-02-12T18:12:26.513077Z"
    }
   },
   "outputs": [],
   "source": [
    "import matplotlib.pyplot as plt\n",
    "\n",
    "mc2 = I.input.reference_particle_mass\n",
    "stats = I.output.stats\n",
    "z = stats.z\n",
    "x = stats.mean_x\n",
    "y = stats.mean_y\n",
    "energy = stats.mean_energy\n",
    "\n",
    "x_tao = tao.bunch_comb(\"x\")\n",
    "y_tao = tao.bunch_comb(\"y\")\n",
    "s_tao = tao.bunch_comb(\"s\")\n",
    "p_tao = (1 + tao.bunch_comb(\"pz\")) * tao.bunch_comb(\"p0c\")\n",
    "energy_tao = np.hypot(p_tao, mc2)\n",
    "\n",
    "fig, axes = plt.subplots(3, figsize=(8, 6))\n",
    "ax = axes[0]\n",
    "ax.plot(z, x, label=\"Impact-Z\")\n",
    "ax.plot(s_tao, x_tao, \"--\", label=\"Tao\")\n",
    "ax.set_ylabel(r\"$x$ (m)\")\n",
    "\n",
    "\n",
    "ax = axes[1]\n",
    "ax.plot(z, y, label=\"Impact-Z\")\n",
    "ax.plot(s_tao, y_tao, \"--\", label=\"Tao\")\n",
    "ax.set_ylabel(r\"$y$ (m)\")\n",
    "\n",
    "ax = axes[2]\n",
    "ax.plot(z, energy / 1e6, label=\"Impact-Z\")\n",
    "ax.plot(s_tao, energy_tao / 1e6, \"--\", label=\"Tao\")\n",
    "ax.set_ylabel(r\"$E$ (MeV)\")\n",
    "\n",
    "ax.set_xlabel(r\"$s$ (m)\")\n",
    "\n",
    "plt.legend();"
   ]
  },
  {
   "cell_type": "markdown",
   "metadata": {},
   "source": [
    "## Initial particles"
   ]
  },
  {
   "cell_type": "code",
   "execution_count": null,
   "metadata": {
    "execution": {
     "iopub.execute_input": "2025-02-12T18:12:26.514830Z",
     "iopub.status.busy": "2025-02-12T18:12:26.514637Z",
     "iopub.status.idle": "2025-02-12T18:12:26.748529Z",
     "shell.execute_reply": "2025-02-12T18:12:26.748239Z"
    }
   },
   "outputs": [],
   "source": [
    "P0.plot(\"t\", \"energy\", bins=100)"
   ]
  },
  {
   "cell_type": "markdown",
   "metadata": {},
   "source": [
    "## Final particles"
   ]
  },
  {
   "cell_type": "markdown",
   "metadata": {},
   "source": [
    "### Tao"
   ]
  },
  {
   "cell_type": "code",
   "execution_count": null,
   "metadata": {
    "execution": {
     "iopub.execute_input": "2025-02-12T18:12:26.750640Z",
     "iopub.status.busy": "2025-02-12T18:12:26.750534Z",
     "iopub.status.idle": "2025-02-12T18:12:26.899049Z",
     "shell.execute_reply": "2025-02-12T18:12:26.898783Z"
    }
   },
   "outputs": [],
   "source": [
    "P1 = P\n",
    "P1.plot(\"t\", \"energy\")"
   ]
  },
  {
   "cell_type": "markdown",
   "metadata": {},
   "source": [
    "### IMPACT-Z"
   ]
  },
  {
   "cell_type": "code",
   "execution_count": null,
   "metadata": {
    "execution": {
     "iopub.execute_input": "2025-02-12T18:12:26.900396Z",
     "iopub.status.busy": "2025-02-12T18:12:26.900279Z",
     "iopub.status.idle": "2025-02-12T18:12:27.101934Z",
     "shell.execute_reply": "2025-02-12T18:12:27.101636Z"
    }
   },
   "outputs": [],
   "source": [
    "P2 = I.output.particles[\"final_particles\"]\n",
    "P2.plot(\"t\", \"energy\")"
   ]
  },
  {
   "cell_type": "code",
   "execution_count": null,
   "metadata": {
    "execution": {
     "iopub.execute_input": "2025-02-12T18:12:27.103175Z",
     "iopub.status.busy": "2025-02-12T18:12:27.103072Z",
     "iopub.status.idle": "2025-02-12T18:12:27.733289Z",
     "shell.execute_reply": "2025-02-12T18:12:27.733002Z"
    }
   },
   "outputs": [],
   "source": [
    "fig, ax = plt.subplots(figsize=(8, 6), dpi=300)\n",
    "\n",
    "xkey = \"t\"\n",
    "ykey = \"energy\"\n",
    "for p, label in ((P1, \"Bmad\"), (P2, \"Impact-Z\")):\n",
    "    ax.scatter(p[xkey], p[ykey], label=label, marker=\".\", alpha=0.5)\n",
    "\n",
    "plt.legend()\n",
    "\n",
    "ax.set_xlabel(xkey)\n",
    "ax.set_ylabel(ykey)"
   ]
  }
 ],
 "metadata": {
  "kernelspec": {
   "display_name": "Python 3 (ipykernel)",
   "language": "python",
   "name": "python3"
  },
  "language_info": {
   "codemirror_mode": {
    "name": "ipython",
    "version": 3
   },
   "file_extension": ".py",
   "mimetype": "text/x-python",
   "name": "python",
   "nbconvert_exporter": "python",
   "pygments_lexer": "ipython3",
   "version": "3.12.8"
  },
  "widgets": {
   "application/vnd.jupyter.widget-state+json": {
    "state": {
     "0c9514174c0c407cb020cd81ab275f48": {
      "model_module": "@jupyter-widgets/base",
      "model_module_version": "2.0.0",
      "model_name": "LayoutModel",
      "state": {
       "_model_module": "@jupyter-widgets/base",
       "_model_module_version": "2.0.0",
       "_model_name": "LayoutModel",
       "_view_count": null,
       "_view_module": "@jupyter-widgets/base",
       "_view_module_version": "2.0.0",
       "_view_name": "LayoutView",
       "align_content": null,
       "align_items": null,
       "align_self": null,
       "border_bottom": null,
       "border_left": null,
       "border_right": null,
       "border_top": null,
       "bottom": null,
       "display": null,
       "flex": null,
       "flex_flow": null,
       "grid_area": null,
       "grid_auto_columns": null,
       "grid_auto_flow": null,
       "grid_auto_rows": null,
       "grid_column": null,
       "grid_gap": null,
       "grid_row": null,
       "grid_template_areas": null,
       "grid_template_columns": null,
       "grid_template_rows": null,
       "height": null,
       "justify_content": null,
       "justify_items": null,
       "left": null,
       "margin": null,
       "max_height": null,
       "max_width": null,
       "min_height": null,
       "min_width": null,
       "object_fit": null,
       "object_position": null,
       "order": null,
       "overflow": null,
       "padding": null,
       "right": null,
       "top": null,
       "visibility": null,
       "width": null
      }
     },
     "142bf29415f04383a6213429bae25680": {
      "model_module": "@jupyter-widgets/controls",
      "model_module_version": "2.0.0",
      "model_name": "HTMLStyleModel",
      "state": {
       "_model_module": "@jupyter-widgets/controls",
       "_model_module_version": "2.0.0",
       "_model_name": "HTMLStyleModel",
       "_view_count": null,
       "_view_module": "@jupyter-widgets/base",
       "_view_module_version": "2.0.0",
       "_view_name": "StyleView",
       "background": null,
       "description_width": "",
       "font_size": null,
       "text_color": null
      }
     },
     "1e03df09fedc4d6d9c10d8a8877f066f": {
      "model_module": "@jupyter-widgets/controls",
      "model_module_version": "2.0.0",
      "model_name": "HTMLModel",
      "state": {
       "_dom_classes": [],
       "_model_module": "@jupyter-widgets/controls",
       "_model_module_version": "2.0.0",
       "_model_name": "HTMLModel",
       "_view_count": null,
       "_view_module": "@jupyter-widgets/controls",
       "_view_module_version": "2.0.0",
       "_view_name": "HTMLView",
       "description": "",
       "description_allow_html": false,
       "layout": "IPY_MODEL_4fbd66958d9f43a3b332e55d89fb310a",
       "placeholder": "​",
       "style": "IPY_MODEL_8265c66369bd48368813faf69f43326c",
       "tabbable": null,
       "tooltip": null,
       "value": " 6/6 [00:05&lt;00:00,  1.19it/s, Name=final_particles, Z=3]"
      }
     },
     "3d7645c0e36f485cb304b87726b4a219": {
      "model_module": "@jupyter-widgets/controls",
      "model_module_version": "2.0.0",
      "model_name": "ProgressStyleModel",
      "state": {
       "_model_module": "@jupyter-widgets/controls",
       "_model_module_version": "2.0.0",
       "_model_name": "ProgressStyleModel",
       "_view_count": null,
       "_view_module": "@jupyter-widgets/base",
       "_view_module_version": "2.0.0",
       "_view_name": "StyleView",
       "bar_color": null,
       "description_width": ""
      }
     },
     "431c459cb01f4e70b3aaa7f52a9265d9": {
      "model_module": "@jupyter-widgets/controls",
      "model_module_version": "2.0.0",
      "model_name": "HBoxModel",
      "state": {
       "_dom_classes": [],
       "_model_module": "@jupyter-widgets/controls",
       "_model_module_version": "2.0.0",
       "_model_name": "HBoxModel",
       "_view_count": null,
       "_view_module": "@jupyter-widgets/controls",
       "_view_module_version": "2.0.0",
       "_view_name": "HBoxView",
       "box_style": "",
       "children": [
        "IPY_MODEL_9945078b71794ca3849746739d227e8a",
        "IPY_MODEL_ab5133c813074775822988eebd2ae450",
        "IPY_MODEL_1e03df09fedc4d6d9c10d8a8877f066f"
       ],
       "layout": "IPY_MODEL_da74c666cae94aac9eb3c6702d646c9d",
       "tabbable": null,
       "tooltip": null
      }
     },
     "4fbd66958d9f43a3b332e55d89fb310a": {
      "model_module": "@jupyter-widgets/base",
      "model_module_version": "2.0.0",
      "model_name": "LayoutModel",
      "state": {
       "_model_module": "@jupyter-widgets/base",
       "_model_module_version": "2.0.0",
       "_model_name": "LayoutModel",
       "_view_count": null,
       "_view_module": "@jupyter-widgets/base",
       "_view_module_version": "2.0.0",
       "_view_name": "LayoutView",
       "align_content": null,
       "align_items": null,
       "align_self": null,
       "border_bottom": null,
       "border_left": null,
       "border_right": null,
       "border_top": null,
       "bottom": null,
       "display": null,
       "flex": null,
       "flex_flow": null,
       "grid_area": null,
       "grid_auto_columns": null,
       "grid_auto_flow": null,
       "grid_auto_rows": null,
       "grid_column": null,
       "grid_gap": null,
       "grid_row": null,
       "grid_template_areas": null,
       "grid_template_columns": null,
       "grid_template_rows": null,
       "height": null,
       "justify_content": null,
       "justify_items": null,
       "left": null,
       "margin": null,
       "max_height": null,
       "max_width": null,
       "min_height": null,
       "min_width": null,
       "object_fit": null,
       "object_position": null,
       "order": null,
       "overflow": null,
       "padding": null,
       "right": null,
       "top": null,
       "visibility": null,
       "width": null
      }
     },
     "8265c66369bd48368813faf69f43326c": {
      "model_module": "@jupyter-widgets/controls",
      "model_module_version": "2.0.0",
      "model_name": "HTMLStyleModel",
      "state": {
       "_model_module": "@jupyter-widgets/controls",
       "_model_module_version": "2.0.0",
       "_model_name": "HTMLStyleModel",
       "_view_count": null,
       "_view_module": "@jupyter-widgets/base",
       "_view_module_version": "2.0.0",
       "_view_name": "StyleView",
       "background": null,
       "description_width": "",
       "font_size": null,
       "text_color": null
      }
     },
     "9187c621bb914b94ae4ac79529bf16aa": {
      "model_module": "@jupyter-widgets/base",
      "model_module_version": "2.0.0",
      "model_name": "LayoutModel",
      "state": {
       "_model_module": "@jupyter-widgets/base",
       "_model_module_version": "2.0.0",
       "_model_name": "LayoutModel",
       "_view_count": null,
       "_view_module": "@jupyter-widgets/base",
       "_view_module_version": "2.0.0",
       "_view_name": "LayoutView",
       "align_content": null,
       "align_items": null,
       "align_self": null,
       "border_bottom": null,
       "border_left": null,
       "border_right": null,
       "border_top": null,
       "bottom": null,
       "display": null,
       "flex": null,
       "flex_flow": null,
       "grid_area": null,
       "grid_auto_columns": null,
       "grid_auto_flow": null,
       "grid_auto_rows": null,
       "grid_column": null,
       "grid_gap": null,
       "grid_row": null,
       "grid_template_areas": null,
       "grid_template_columns": null,
       "grid_template_rows": null,
       "height": null,
       "justify_content": null,
       "justify_items": null,
       "left": null,
       "margin": null,
       "max_height": null,
       "max_width": null,
       "min_height": null,
       "min_width": null,
       "object_fit": null,
       "object_position": null,
       "order": null,
       "overflow": null,
       "padding": null,
       "right": null,
       "top": null,
       "visibility": null,
       "width": null
      }
     },
     "9945078b71794ca3849746739d227e8a": {
      "model_module": "@jupyter-widgets/controls",
      "model_module_version": "2.0.0",
      "model_name": "HTMLModel",
      "state": {
       "_dom_classes": [],
       "_model_module": "@jupyter-widgets/controls",
       "_model_module_version": "2.0.0",
       "_model_name": "HTMLModel",
       "_view_count": null,
       "_view_module": "@jupyter-widgets/controls",
       "_view_module_version": "2.0.0",
       "_view_name": "HTMLView",
       "description": "",
       "description_allow_html": false,
       "layout": "IPY_MODEL_9187c621bb914b94ae4ac79529bf16aa",
       "placeholder": "​",
       "style": "IPY_MODEL_142bf29415f04383a6213429bae25680",
       "tabbable": null,
       "tooltip": null,
       "value": "100%"
      }
     },
     "ab5133c813074775822988eebd2ae450": {
      "model_module": "@jupyter-widgets/controls",
      "model_module_version": "2.0.0",
      "model_name": "FloatProgressModel",
      "state": {
       "_dom_classes": [],
       "_model_module": "@jupyter-widgets/controls",
       "_model_module_version": "2.0.0",
       "_model_name": "FloatProgressModel",
       "_view_count": null,
       "_view_module": "@jupyter-widgets/controls",
       "_view_module_version": "2.0.0",
       "_view_name": "ProgressView",
       "bar_style": "",
       "description": "",
       "description_allow_html": false,
       "layout": "IPY_MODEL_0c9514174c0c407cb020cd81ab275f48",
       "max": 6.0,
       "min": 0.0,
       "orientation": "horizontal",
       "style": "IPY_MODEL_3d7645c0e36f485cb304b87726b4a219",
       "tabbable": null,
       "tooltip": null,
       "value": 6.0
      }
     },
     "da74c666cae94aac9eb3c6702d646c9d": {
      "model_module": "@jupyter-widgets/base",
      "model_module_version": "2.0.0",
      "model_name": "LayoutModel",
      "state": {
       "_model_module": "@jupyter-widgets/base",
       "_model_module_version": "2.0.0",
       "_model_name": "LayoutModel",
       "_view_count": null,
       "_view_module": "@jupyter-widgets/base",
       "_view_module_version": "2.0.0",
       "_view_name": "LayoutView",
       "align_content": null,
       "align_items": null,
       "align_self": null,
       "border_bottom": null,
       "border_left": null,
       "border_right": null,
       "border_top": null,
       "bottom": null,
       "display": null,
       "flex": null,
       "flex_flow": null,
       "grid_area": null,
       "grid_auto_columns": null,
       "grid_auto_flow": null,
       "grid_auto_rows": null,
       "grid_column": null,
       "grid_gap": null,
       "grid_row": null,
       "grid_template_areas": null,
       "grid_template_columns": null,
       "grid_template_rows": null,
       "height": null,
       "justify_content": null,
       "justify_items": null,
       "left": null,
       "margin": null,
       "max_height": null,
       "max_width": null,
       "min_height": null,
       "min_width": null,
       "object_fit": null,
       "object_position": null,
       "order": null,
       "overflow": null,
       "padding": null,
       "right": null,
       "top": null,
       "visibility": "hidden",
       "width": null
      }
     }
    },
    "version_major": 2,
    "version_minor": 0
   }
  }
 },
 "nbformat": 4,
 "nbformat_minor": 4
}
