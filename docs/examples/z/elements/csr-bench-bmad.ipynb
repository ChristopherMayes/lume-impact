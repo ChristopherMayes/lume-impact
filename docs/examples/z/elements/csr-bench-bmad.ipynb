{
 "cells": [
  {
   "cell_type": "markdown",
   "metadata": {},
   "source": [
    "# CSR Benchmark - Comparing to Bmad"
   ]
  },
  {
   "cell_type": "code",
   "execution_count": null,
   "metadata": {},
   "outputs": [],
   "source": [
    "import numpy as np\n",
    "import impact.z as IZ\n",
    "from impact.z.interfaces.bmad import export_particles as tao_export_particles\n",
    "from pytao import Tao\n",
    "\n",
    "from pmd_beamphysics import ParticleGroup\n",
    "\n",
    "from impact.tests.z.conftest import bmad_files"
   ]
  },
  {
   "cell_type": "code",
   "execution_count": null,
   "metadata": {},
   "outputs": [],
   "source": [
    "!cat $bmad_files/csr_bench.bmad"
   ]
  },
  {
   "cell_type": "code",
   "execution_count": null,
   "metadata": {},
   "outputs": [],
   "source": [
    "tao = Tao(lattice_file=bmad_files / \"csr_bench.bmad\", plot=\"mpl\")"
   ]
  },
  {
   "cell_type": "code",
   "execution_count": null,
   "metadata": {},
   "outputs": [],
   "source": [
    "n_particle = 1000\n",
    "a_norm_emit = 1.0e-6\n",
    "b_norm_emit = 1.0e-6\n",
    "bunch_charge = 1e-9\n",
    "sig_pz = 1e-12\n",
    "sig_z = 0.3e-3  # ~1ps\n",
    "\n",
    "ds_track_step = 0.01\n",
    "n_bin = 40\n",
    "\n",
    "cmds = [\n",
    "    f\"set beam_init n_particle = {n_particle}\",\n",
    "    \"set beam_init random_engine = quasi\",\n",
    "    \"set beam_init saved_at = MARKER::*, BEGINNING, END\",\n",
    "    f\"set beam_init a_norm_emit = {a_norm_emit}\",\n",
    "    f\"set beam_init b_norm_emit = {b_norm_emit}\",\n",
    "    f\"set beam_init bunch_charge = {bunch_charge}\",\n",
    "    f\"set beam_init sig_pz = {sig_pz}\",\n",
    "    f\"set beam_init sig_z = {sig_z}\",\n",
    "    f\"set space_charge_com ds_track_step = {ds_track_step}\",\n",
    "    f\"set space_charge_com n_bin = {n_bin}\",\n",
    "]\n",
    "\n",
    "for cmd in cmds:\n",
    "    res = tao.cmd(cmd)\n",
    "    if res:\n",
    "        print(\"Tao>\", cmd)\n",
    "        print(res)"
   ]
  },
  {
   "cell_type": "code",
   "execution_count": null,
   "metadata": {},
   "outputs": [],
   "source": [
    "%time\n",
    "\n",
    "tao.cmd(\"set global track_type = beam; set global track_type = single\")"
   ]
  },
  {
   "cell_type": "code",
   "execution_count": null,
   "metadata": {},
   "outputs": [],
   "source": [
    "P0 = ParticleGroup(data=tao.bunch_data(\"beginning\"))\n",
    "len(P0)\n",
    "# P0.plot('t', 'energy', bins=100)"
   ]
  },
  {
   "cell_type": "code",
   "execution_count": null,
   "metadata": {},
   "outputs": [],
   "source": [
    "P = ParticleGroup(data=tao.bunch_data(\"end\"))\n",
    "P.plot(\"t\", \"energy\")"
   ]
  },
  {
   "cell_type": "code",
   "execution_count": null,
   "metadata": {},
   "outputs": [],
   "source": [
    "tao.plot(\"beta\", include_layout=False)"
   ]
  },
  {
   "cell_type": "code",
   "execution_count": null,
   "metadata": {},
   "outputs": [],
   "source": [
    "input = IZ.ImpactZInput.from_tao(tao, verbose=False)"
   ]
  },
  {
   "cell_type": "code",
   "execution_count": null,
   "metadata": {},
   "outputs": [],
   "source": [
    "I = IZ.ImpactZ(\n",
    "    input, use_temp_dir=False, workdir=\"./tmp-csr-bench\", initial_particles=P0\n",
    ")"
   ]
  },
  {
   "cell_type": "code",
   "execution_count": null,
   "metadata": {},
   "outputs": [],
   "source": [
    "output = I.run(verbose=True)"
   ]
  },
  {
   "cell_type": "code",
   "execution_count": null,
   "metadata": {},
   "outputs": [],
   "source": [
    "I.input"
   ]
  },
  {
   "cell_type": "code",
   "execution_count": null,
   "metadata": {},
   "outputs": [],
   "source": [
    "I.output"
   ]
  },
  {
   "cell_type": "code",
   "execution_count": null,
   "metadata": {},
   "outputs": [],
   "source": [
    "Ptao = tao_export_particles(tao, \"END\")"
   ]
  },
  {
   "cell_type": "code",
   "execution_count": null,
   "metadata": {},
   "outputs": [],
   "source": [
    "import matplotlib.pyplot as plt\n",
    "\n",
    "mc2 = I.input.reference_particle_mass\n",
    "stats = I.output.stats\n",
    "z = stats.z\n",
    "x = stats.mean_x\n",
    "y = stats.mean_y\n",
    "energy = stats.mean_energy\n",
    "\n",
    "x_tao = tao.bunch_comb(\"x\")\n",
    "y_tao = tao.bunch_comb(\"y\")\n",
    "s_tao = tao.bunch_comb(\"s\")\n",
    "p_tao = (1 + tao.bunch_comb(\"pz\")) * tao.bunch_comb(\"p0c\")\n",
    "energy_tao = np.hypot(p_tao, mc2)\n",
    "\n",
    "fig, axes = plt.subplots(3, figsize=(8, 6))\n",
    "ax = axes[0]\n",
    "ax.plot(z, x, label=\"Impact-Z\")\n",
    "ax.plot(s_tao, x_tao, \"--\", label=\"Tao\")\n",
    "ax.set_ylabel(r\"$x$ (m)\")\n",
    "\n",
    "\n",
    "ax = axes[1]\n",
    "ax.plot(z, y, label=\"Impact-Z\")\n",
    "ax.plot(s_tao, y_tao, \"--\", label=\"Tao\")\n",
    "ax.set_ylabel(r\"$y$ (m)\")\n",
    "\n",
    "ax = axes[2]\n",
    "ax.plot(z, energy / 1e6, label=\"Impact-Z\")\n",
    "ax.plot(s_tao, energy_tao / 1e6, \"--\", label=\"Tao\")\n",
    "ax.set_ylabel(r\"$E$ (MeV)\")\n",
    "\n",
    "ax.set_xlabel(r\"$s$ (m)\")\n",
    "\n",
    "plt.legend();"
   ]
  }
 ],
 "metadata": {
  "kernelspec": {
   "display_name": "Python 3 (ipykernel)",
   "language": "python",
   "name": "python3"
  },
  "language_info": {
   "codemirror_mode": {
    "name": "ipython",
    "version": 3
   },
   "file_extension": ".py",
   "mimetype": "text/x-python",
   "name": "python",
   "nbconvert_exporter": "python",
   "pygments_lexer": "ipython3",
   "version": "3.12.8"
  }
 },
 "nbformat": 4,
 "nbformat_minor": 4
}
