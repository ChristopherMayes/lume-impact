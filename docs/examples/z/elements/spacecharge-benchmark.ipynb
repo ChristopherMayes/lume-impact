{
 "cells": [
  {
   "cell_type": "markdown",
   "id": "c4ee5bcf-35c3-4b10-b454-05184638b405",
   "metadata": {},
   "source": [
    "# Space Charge Benchmark\n",
    "\n",
    "Impact-Z only space charge benchmark from\n",
    "\n",
    "C. Mayes, R. Ryne, D. Sagan\n",
    "3D SPACE CHARGE IN BMAD\n",
    "https://epaper.kek.jp/ipac2018/papers/thpak085.pdf"
   ]
  },
  {
   "cell_type": "code",
   "execution_count": null,
   "id": "d1db5730-d9df-4acb-a69d-9fda86c3fbcd",
   "metadata": {},
   "outputs": [],
   "source": [
    "import impact.z as IZ\n",
    "from impact.z import ImpactZ, ImpactZInput, WriteFull, Drift\n",
    "\n",
    "from scipy.constants import c\n",
    "\n",
    "from pmd_beamphysics.units import mec2\n",
    "\n",
    "import numpy as np"
   ]
  },
  {
   "cell_type": "code",
   "execution_count": null,
   "id": "f0dbabdc-47a7-4f53-9d75-06f2956a4c1d",
   "metadata": {},
   "outputs": [],
   "source": [
    "energy0 = 10e6\n",
    "gamma0 = energy0 / mec2\n",
    "betagamma0 = np.sqrt(gamma0**2 - 1)\n",
    "sigma_x0 = 1e-3\n",
    "sigma_y0 = 1e-3\n",
    "sigma_z0 = 0.1e-3\n",
    "\n",
    "beta_x0 = 1000\n",
    "beta_y0 = 100\n",
    "n_particle = 100_000"
   ]
  },
  {
   "cell_type": "code",
   "execution_count": null,
   "id": "16bf3251-1667-4c09-abdb-a181f80d6265",
   "metadata": {},
   "outputs": [],
   "source": [
    "input = ImpactZInput(\n",
    "    initial_particles=None,\n",
    "    ncpu_y=1,\n",
    "    ncpu_z=1,\n",
    "    seed=-1,\n",
    "    n_particle=n_particle,\n",
    "    nx=32,\n",
    "    ny=32,\n",
    "    nz=32,\n",
    "    distribution=IZ.DistributionType.gauss,\n",
    "    twiss_beta_x=beta_x0,\n",
    "    twiss_norm_emit_x=sigma_x0**2 * betagamma0 / beta_x0,\n",
    "    twiss_beta_y=beta_y0,\n",
    "    twiss_norm_emit_y=sigma_y0**2 * betagamma0 / beta_y0,\n",
    "    average_current=0.13000000000000006,\n",
    "    reference_kinetic_energy=9489001.04931,\n",
    "    reference_particle_mass=510998.95069,\n",
    "    reference_particle_charge=-1.0,\n",
    "    reference_frequency=1300000000.0,\n",
    "    lattice=[\n",
    "        WriteFull(name=\"initial_particles\", file_id=100),\n",
    "        Drift(\n",
    "            name=\"P1\",\n",
    "            metadata={\"bmad_csr\": False, \"bmad_id\": 1},\n",
    "            length=1.0,\n",
    "            steps=100,\n",
    "            map_steps=100,\n",
    "        ),\n",
    "        WriteFull(name=\"final_particles\", file_id=101),\n",
    "    ],\n",
    ")\n",
    "input.set_twiss_z(0.1e-3 / c, 1)\n",
    "input"
   ]
  },
  {
   "cell_type": "code",
   "execution_count": null,
   "id": "cea956bf-84b6-4dc3-bc3a-a60d4caece09",
   "metadata": {},
   "outputs": [],
   "source": [
    "I = ImpactZ(input)\n",
    "I.run()\n",
    "P0 = I.output.particles[\"initial_particles\"]\n",
    "P1 = I.output.particles[\"final_particles\"]"
   ]
  },
  {
   "cell_type": "code",
   "execution_count": null,
   "id": "0b82cbf3-7c18-40b0-9c0a-1a5c0082a796",
   "metadata": {},
   "outputs": [],
   "source": [
    "P0 = I.output.particles[\"initial_particles\"]\n",
    "(\n",
    "    P0[\"sigma_x\"] / sigma_x0,\n",
    "    P0[\"sigma_y\"] / sigma_y0,\n",
    "    P0[\"sigma_t\"] * c / sigma_z0,\n",
    "    P0[\"mean_energy\"] / energy0,\n",
    ")"
   ]
  },
  {
   "cell_type": "code",
   "execution_count": null,
   "id": "7619025d-2bb6-4565-bfbc-d0ba9bf268d5",
   "metadata": {},
   "outputs": [],
   "source": [
    "P1.plot(\"delta_t\", \"energy\")"
   ]
  },
  {
   "cell_type": "markdown",
   "id": "aea04b63-3936-49ff-baf1-cc5c4a2c9124",
   "metadata": {},
   "source": [
    "# Try again with particles"
   ]
  },
  {
   "cell_type": "code",
   "execution_count": null,
   "id": "bdb4d182-b375-433d-9714-d323b0d6bf1b",
   "metadata": {},
   "outputs": [],
   "source": [
    "I2 = ImpactZ(input, initial_particles=P0)\n",
    "I2.run()\n",
    "P3 = I2.output.particles[\"initial_particles\"]\n",
    "P4 = I2.output.particles[\"final_particles\"]"
   ]
  },
  {
   "cell_type": "code",
   "execution_count": null,
   "id": "518f9eba-9cc5-40ac-b16f-33910f4fbefa",
   "metadata": {},
   "outputs": [],
   "source": [
    "P4.plot(\"delta_t\", \"energy\")"
   ]
  }
 ],
 "metadata": {
  "kernelspec": {
   "display_name": "Python 3 (ipykernel)",
   "language": "python",
   "name": "python3"
  },
  "language_info": {
   "codemirror_mode": {
    "name": "ipython",
    "version": 3
   },
   "file_extension": ".py",
   "mimetype": "text/x-python",
   "name": "python",
   "nbconvert_exporter": "python",
   "pygments_lexer": "ipython3",
   "version": "3.12.8"
  }
 },
 "nbformat": 4,
 "nbformat_minor": 5
}
