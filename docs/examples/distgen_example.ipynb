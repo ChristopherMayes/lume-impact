{
 "cells": [
  {
   "cell_type": "markdown",
   "metadata": {},
   "source": [
    "# Distgen example\n",
    "\n",
    "Similar to the simple example, but generating particles with Distgen"
   ]
  },
  {
   "cell_type": "code",
   "execution_count": null,
   "metadata": {
    "execution": {
     "iopub.execute_input": "2024-10-18T19:48:07.324247Z",
     "iopub.status.busy": "2024-10-18T19:48:07.324010Z",
     "iopub.status.idle": "2024-10-18T19:48:08.218503Z",
     "shell.execute_reply": "2024-10-18T19:48:08.218211Z"
    }
   },
   "outputs": [],
   "source": [
    "from distgen import Generator"
   ]
  },
  {
   "cell_type": "code",
   "execution_count": null,
   "metadata": {
    "execution": {
     "iopub.execute_input": "2024-10-18T19:48:08.220323Z",
     "iopub.status.busy": "2024-10-18T19:48:08.220117Z",
     "iopub.status.idle": "2024-10-18T19:48:08.223004Z",
     "shell.execute_reply": "2024-10-18T19:48:08.222755Z"
    }
   },
   "outputs": [],
   "source": [
    "# Nicer plotting\n",
    "import matplotlib\n",
    "import matplotlib.pyplot as plt\n",
    "\n",
    "%config InlineBackend.figure_format = 'retina'\n",
    "matplotlib.rcParams[\"figure.figsize\"] = (8, 4)"
   ]
  },
  {
   "cell_type": "code",
   "execution_count": null,
   "metadata": {
    "execution": {
     "iopub.execute_input": "2024-10-18T19:48:08.224315Z",
     "iopub.status.busy": "2024-10-18T19:48:08.224216Z",
     "iopub.status.idle": "2024-10-18T19:48:08.228307Z",
     "shell.execute_reply": "2024-10-18T19:48:08.228109Z"
    }
   },
   "outputs": [],
   "source": [
    "YAML = \"\"\"\n",
    "n_particle: 10000\n",
    "random_type: hammersley\n",
    "species: electron\n",
    "\n",
    "start:\n",
    "  type: cathode\n",
    "  MTE:\n",
    "    value: 414\n",
    "    units: meV    \n",
    "\n",
    "total_charge:\n",
    "  value: 250\n",
    "  units: pC\n",
    "    \n",
    "r_dist:\n",
    "  n_sigma_cutoff: 1.5\n",
    "  sigma_xy:\n",
    "    value: 0.4\n",
    "    units: mm\n",
    "  type: radial_gaussian\n",
    "\n",
    "t_dist:\n",
    "  type: superposition\n",
    "  dists: \n",
    "    d1: \n",
    "      type: gaussian\n",
    "      avg_t:\n",
    "        units: ps\n",
    "        value: -1\n",
    "      sigma_t:\n",
    "        units: ps\n",
    "        value: 1\n",
    "    d2: \n",
    "      type: gaussian\n",
    "      avg_t:\n",
    "        units: ps\n",
    "        value: 1\n",
    "      sigma_t:\n",
    "        units: ps\n",
    "        value: 1\n",
    " \n",
    "\n",
    "\"\"\"\n",
    "\n",
    "G = Generator(YAML)"
   ]
  },
  {
   "cell_type": "code",
   "execution_count": null,
   "metadata": {
    "execution": {
     "iopub.execute_input": "2024-10-18T19:48:08.229514Z",
     "iopub.status.busy": "2024-10-18T19:48:08.229442Z",
     "iopub.status.idle": "2024-10-18T19:48:08.505262Z",
     "shell.execute_reply": "2024-10-18T19:48:08.505013Z"
    }
   },
   "outputs": [],
   "source": [
    "# Tune the two dist separation\n",
    "G[\"t_dist:dists:d1:avg_t:value\"] = -1\n",
    "G[\"t_dist:dists:d2:avg_t:value\"] = 1\n",
    "G.run()\n",
    "GP = G.particles\n",
    "GP.plot(\"t\")\n",
    "GP.plot(\"pz\")"
   ]
  },
  {
   "cell_type": "code",
   "execution_count": null,
   "metadata": {
    "execution": {
     "iopub.execute_input": "2024-10-18T19:48:08.506656Z",
     "iopub.status.busy": "2024-10-18T19:48:08.506574Z",
     "iopub.status.idle": "2024-10-18T19:48:08.511997Z",
     "shell.execute_reply": "2024-10-18T19:48:08.511781Z"
    }
   },
   "outputs": [],
   "source": [
    "from impact import Impact\n",
    "\n",
    "import os"
   ]
  },
  {
   "cell_type": "code",
   "execution_count": null,
   "metadata": {
    "execution": {
     "iopub.execute_input": "2024-10-18T19:48:08.513450Z",
     "iopub.status.busy": "2024-10-18T19:48:08.513355Z",
     "iopub.status.idle": "2024-10-18T19:48:08.515518Z",
     "shell.execute_reply": "2024-10-18T19:48:08.515186Z"
    }
   },
   "outputs": [],
   "source": [
    "ifile = \"templates/lcls_injector/ImpactT.in\"\n",
    "os.path.exists(ifile)"
   ]
  },
  {
   "cell_type": "code",
   "execution_count": null,
   "metadata": {
    "execution": {
     "iopub.execute_input": "2024-10-18T19:48:08.516914Z",
     "iopub.status.busy": "2024-10-18T19:48:08.516833Z",
     "iopub.status.idle": "2024-10-18T19:48:08.519837Z",
     "shell.execute_reply": "2024-10-18T19:48:08.519641Z"
    }
   },
   "outputs": [],
   "source": [
    "# Make Impact object\n",
    "I = Impact(ifile, initial_particles=G.particles, verbose=True)"
   ]
  },
  {
   "cell_type": "code",
   "execution_count": null,
   "metadata": {
    "execution": {
     "iopub.execute_input": "2024-10-18T19:48:08.521039Z",
     "iopub.status.busy": "2024-10-18T19:48:08.520966Z",
     "iopub.status.idle": "2024-10-18T19:48:08.558769Z",
     "shell.execute_reply": "2024-10-18T19:48:08.558475Z"
    }
   },
   "outputs": [],
   "source": [
    "# This will use the initial particles\n",
    "I.write_initial_particles(update_header=True)"
   ]
  },
  {
   "cell_type": "code",
   "execution_count": null,
   "metadata": {
    "execution": {
     "iopub.execute_input": "2024-10-18T19:48:08.560218Z",
     "iopub.status.busy": "2024-10-18T19:48:08.560080Z",
     "iopub.status.idle": "2024-10-18T19:48:08.562513Z",
     "shell.execute_reply": "2024-10-18T19:48:08.562245Z"
    }
   },
   "outputs": [],
   "source": [
    "# Change some things\n",
    "I.header[\"Nx\"] = 16\n",
    "I.header[\"Ny\"] = 16\n",
    "I.header[\"Nz\"] = 16\n",
    "I.header[\"Dt\"] = 5e-13\n",
    "\n",
    "# Turn Space Charge off\n",
    "I.header[\"Bcurr\"] = 0\n",
    "\n",
    "# Other switches\n",
    "I.timeout = 1000\n",
    "# Switches for MPI\n",
    "I.numprocs = 0"
   ]
  },
  {
   "cell_type": "code",
   "execution_count": null,
   "metadata": {
    "execution": {
     "iopub.execute_input": "2024-10-18T19:48:08.563986Z",
     "iopub.status.busy": "2024-10-18T19:48:08.563851Z",
     "iopub.status.idle": "2024-10-18T19:48:08.565916Z",
     "shell.execute_reply": "2024-10-18T19:48:08.565629Z"
    }
   },
   "outputs": [],
   "source": [
    "# Change stop location\n",
    "I.stop = 1.5\n",
    "# I.ele['stop_1']['s'] = I.ele['OTR2']['s']+.001"
   ]
  },
  {
   "cell_type": "code",
   "execution_count": null,
   "metadata": {
    "execution": {
     "iopub.execute_input": "2024-10-18T19:48:08.567639Z",
     "iopub.status.busy": "2024-10-18T19:48:08.567521Z",
     "iopub.status.idle": "2024-10-18T19:48:16.102824Z",
     "shell.execute_reply": "2024-10-18T19:48:16.102495Z"
    }
   },
   "outputs": [],
   "source": [
    "I.run()"
   ]
  },
  {
   "cell_type": "code",
   "execution_count": null,
   "metadata": {
    "execution": {
     "iopub.execute_input": "2024-10-18T19:48:16.104458Z",
     "iopub.status.busy": "2024-10-18T19:48:16.104358Z",
     "iopub.status.idle": "2024-10-18T19:48:16.106795Z",
     "shell.execute_reply": "2024-10-18T19:48:16.106530Z"
    }
   },
   "outputs": [],
   "source": [
    "I.input.keys()"
   ]
  },
  {
   "cell_type": "code",
   "execution_count": null,
   "metadata": {
    "execution": {
     "iopub.execute_input": "2024-10-18T19:48:16.108070Z",
     "iopub.status.busy": "2024-10-18T19:48:16.107976Z",
     "iopub.status.idle": "2024-10-18T19:48:16.109823Z",
     "shell.execute_reply": "2024-10-18T19:48:16.109618Z"
    }
   },
   "outputs": [],
   "source": [
    "I.output.keys()"
   ]
  },
  {
   "cell_type": "code",
   "execution_count": null,
   "metadata": {
    "execution": {
     "iopub.execute_input": "2024-10-18T19:48:16.111086Z",
     "iopub.status.busy": "2024-10-18T19:48:16.110989Z",
     "iopub.status.idle": "2024-10-18T19:48:16.112898Z",
     "shell.execute_reply": "2024-10-18T19:48:16.112686Z"
    }
   },
   "outputs": [],
   "source": [
    "I.output[\"stats\"].keys()"
   ]
  },
  {
   "cell_type": "code",
   "execution_count": null,
   "metadata": {
    "execution": {
     "iopub.execute_input": "2024-10-18T19:48:16.114145Z",
     "iopub.status.busy": "2024-10-18T19:48:16.114051Z",
     "iopub.status.idle": "2024-10-18T19:48:16.116005Z",
     "shell.execute_reply": "2024-10-18T19:48:16.115765Z"
    }
   },
   "outputs": [],
   "source": [
    "I.output[\"slice_info\"].keys()"
   ]
  },
  {
   "cell_type": "markdown",
   "metadata": {},
   "source": [
    "# Particles"
   ]
  },
  {
   "cell_type": "code",
   "execution_count": null,
   "metadata": {
    "execution": {
     "iopub.execute_input": "2024-10-18T19:48:16.117294Z",
     "iopub.status.busy": "2024-10-18T19:48:16.117195Z",
     "iopub.status.idle": "2024-10-18T19:48:16.119092Z",
     "shell.execute_reply": "2024-10-18T19:48:16.118897Z"
    }
   },
   "outputs": [],
   "source": [
    "# Particles are automatically parsed in to openpmd-beamphysics ParticleGroup objects\n",
    "I.output[\"particles\"]"
   ]
  },
  {
   "cell_type": "code",
   "execution_count": null,
   "metadata": {
    "execution": {
     "iopub.execute_input": "2024-10-18T19:48:16.120297Z",
     "iopub.status.busy": "2024-10-18T19:48:16.120201Z",
     "iopub.status.idle": "2024-10-18T19:48:16.121760Z",
     "shell.execute_reply": "2024-10-18T19:48:16.121543Z"
    }
   },
   "outputs": [],
   "source": [
    "PI = I.output[\"particles\"][\"initial_particles\"]\n",
    "PF = I.output[\"particles\"][\"final_particles\"]"
   ]
  },
  {
   "cell_type": "code",
   "execution_count": null,
   "metadata": {
    "execution": {
     "iopub.execute_input": "2024-10-18T19:48:16.122964Z",
     "iopub.status.busy": "2024-10-18T19:48:16.122888Z",
     "iopub.status.idle": "2024-10-18T19:48:16.355386Z",
     "shell.execute_reply": "2024-10-18T19:48:16.355126Z"
    }
   },
   "outputs": [],
   "source": [
    "# Original particles\n",
    "GP.plot(\"t\", \"pz\")"
   ]
  },
  {
   "cell_type": "code",
   "execution_count": null,
   "metadata": {
    "execution": {
     "iopub.execute_input": "2024-10-18T19:48:16.357179Z",
     "iopub.status.busy": "2024-10-18T19:48:16.357069Z",
     "iopub.status.idle": "2024-10-18T19:48:16.548699Z",
     "shell.execute_reply": "2024-10-18T19:48:16.548375Z"
    }
   },
   "outputs": [],
   "source": [
    "# Readback of initial particles from Impact-T.\n",
    "PI.plot(\"t\", \"pz\")"
   ]
  },
  {
   "cell_type": "code",
   "execution_count": null,
   "metadata": {
    "execution": {
     "iopub.execute_input": "2024-10-18T19:48:16.550548Z",
     "iopub.status.busy": "2024-10-18T19:48:16.550432Z",
     "iopub.status.idle": "2024-10-18T19:48:16.552775Z",
     "shell.execute_reply": "2024-10-18T19:48:16.552534Z"
    }
   },
   "outputs": [],
   "source": [
    "# The initial time was shifted to account for this\n",
    "I.header[\"Tini\"]"
   ]
  },
  {
   "cell_type": "code",
   "execution_count": null,
   "metadata": {
    "execution": {
     "iopub.execute_input": "2024-10-18T19:48:16.554198Z",
     "iopub.status.busy": "2024-10-18T19:48:16.554096Z",
     "iopub.status.idle": "2024-10-18T19:48:16.556375Z",
     "shell.execute_reply": "2024-10-18T19:48:16.556166Z"
    }
   },
   "outputs": [],
   "source": [
    "# Get the final particles, calculate some statistic\n",
    "P = I.output[\"particles\"][\"final_particles\"]\n",
    "P[\"mean_energy\"]"
   ]
  },
  {
   "cell_type": "code",
   "execution_count": null,
   "metadata": {
    "execution": {
     "iopub.execute_input": "2024-10-18T19:48:16.557632Z",
     "iopub.status.busy": "2024-10-18T19:48:16.557533Z",
     "iopub.status.idle": "2024-10-18T19:48:16.559373Z",
     "shell.execute_reply": "2024-10-18T19:48:16.559172Z"
    }
   },
   "outputs": [],
   "source": [
    "# Show the units\n",
    "P.units(\"mean_energy\")"
   ]
  },
  {
   "cell_type": "code",
   "execution_count": null,
   "metadata": {
    "execution": {
     "iopub.execute_input": "2024-10-18T19:48:16.560535Z",
     "iopub.status.busy": "2024-10-18T19:48:16.560461Z",
     "iopub.status.idle": "2024-10-18T19:48:16.738231Z",
     "shell.execute_reply": "2024-10-18T19:48:16.737989Z"
    }
   },
   "outputs": [],
   "source": [
    "P.plot(\"z\", \"pz\")"
   ]
  },
  {
   "cell_type": "markdown",
   "metadata": {},
   "source": [
    "# Stats"
   ]
  },
  {
   "cell_type": "code",
   "execution_count": null,
   "metadata": {
    "execution": {
     "iopub.execute_input": "2024-10-18T19:48:16.739987Z",
     "iopub.status.busy": "2024-10-18T19:48:16.739875Z",
     "iopub.status.idle": "2024-10-18T19:48:16.742004Z",
     "shell.execute_reply": "2024-10-18T19:48:16.741798Z"
    }
   },
   "outputs": [],
   "source": [
    "# Impact's own calculated statistics can be retieved\n",
    "len(I.stat(\"norm_emit_x\")), I.stat(\"norm_emit_x\")[-1]"
   ]
  },
  {
   "cell_type": "code",
   "execution_count": null,
   "metadata": {
    "execution": {
     "iopub.execute_input": "2024-10-18T19:48:16.743263Z",
     "iopub.status.busy": "2024-10-18T19:48:16.743173Z",
     "iopub.status.idle": "2024-10-18T19:48:16.824398Z",
     "shell.execute_reply": "2024-10-18T19:48:16.824167Z"
    }
   },
   "outputs": [],
   "source": [
    "# Compare these.\n",
    "key1 = \"mean_z\"\n",
    "key2 = \"sigma_x\"\n",
    "units1 = str(I.units(key1))\n",
    "units2 = str(I.units(key2))\n",
    "plt.xlabel(key1 + f\" ({units1})\")\n",
    "plt.ylabel(key2 + f\" ({units2})\")\n",
    "plt.plot(I.stat(key1), I.stat(key2))\n",
    "plt.scatter(\n",
    "    [I.particles[name][key1] for name in I.particles],\n",
    "    [I.particles[name][key2] for name in I.particles],\n",
    "    color=\"red\",\n",
    ")"
   ]
  },
  {
   "cell_type": "markdown",
   "metadata": {},
   "source": [
    "# Archive, and restart from the middle"
   ]
  },
  {
   "cell_type": "code",
   "execution_count": null,
   "metadata": {
    "execution": {
     "iopub.execute_input": "2024-10-18T19:48:16.825906Z",
     "iopub.status.busy": "2024-10-18T19:48:16.825798Z",
     "iopub.status.idle": "2024-10-18T19:48:16.929439Z",
     "shell.execute_reply": "2024-10-18T19:48:16.929165Z"
    }
   },
   "outputs": [],
   "source": [
    "afile = I.archive()\n",
    "I2 = Impact(verbose=False)\n",
    "I2.load_archive(afile)\n",
    "\n",
    "# Patch in these particles\n",
    "I2.initial_particles = I2.particles[\"YAG02\"]\n",
    "\n",
    "# Turn off cathode start\n",
    "I2.header[\"Flagimg\"] = 0\n",
    "I2.configure()"
   ]
  },
  {
   "cell_type": "code",
   "execution_count": null,
   "metadata": {
    "execution": {
     "iopub.execute_input": "2024-10-18T19:48:16.931162Z",
     "iopub.status.busy": "2024-10-18T19:48:16.931046Z",
     "iopub.status.idle": "2024-10-18T19:48:17.363143Z",
     "shell.execute_reply": "2024-10-18T19:48:17.362781Z"
    }
   },
   "outputs": [],
   "source": [
    "# Run again\n",
    "I2.use_mpi = True\n",
    "I2.run()"
   ]
  },
  {
   "cell_type": "code",
   "execution_count": null,
   "metadata": {
    "execution": {
     "iopub.execute_input": "2024-10-18T19:48:17.364920Z",
     "iopub.status.busy": "2024-10-18T19:48:17.364795Z",
     "iopub.status.idle": "2024-10-18T19:48:17.460077Z",
     "shell.execute_reply": "2024-10-18T19:48:17.459839Z"
    }
   },
   "outputs": [],
   "source": [
    "# Compare these.\n",
    "key1 = \"mean_z\"\n",
    "key2 = \"sigma_x\"\n",
    "units1 = str(I.units(key1))\n",
    "units2 = str(I.units(key2))\n",
    "plt.xlabel(key1 + f\" ({units1})\")\n",
    "plt.ylabel(key2 + f\" ({units2})\")\n",
    "plt.plot(I.stat(key1), I.stat(key2), color=\"black\", label=\"original run\")\n",
    "plt.plot(I2.stat(key1), I2.stat(key2), color=\"red\", label=\"restart run\")\n",
    "plt.scatter(\n",
    "    [I.particles[name][key1] for name in I.particles],\n",
    "    [I.particles[name][key2] for name in I.particles],\n",
    "    color=\"black\",\n",
    ")\n",
    "\n",
    "plt.scatter(\n",
    "    [I2.particles[name][key1] for name in I2.particles],\n",
    "    [I2.particles[name][key2] for name in I2.particles],\n",
    "    color=\"red\",\n",
    "    marker=\"x\",\n",
    ")\n",
    "plt.legend()"
   ]
  },
  {
   "cell_type": "code",
   "execution_count": null,
   "metadata": {
    "execution": {
     "iopub.execute_input": "2024-10-18T19:48:17.461514Z",
     "iopub.status.busy": "2024-10-18T19:48:17.461402Z",
     "iopub.status.idle": "2024-10-18T19:48:17.463168Z",
     "shell.execute_reply": "2024-10-18T19:48:17.462949Z"
    }
   },
   "outputs": [],
   "source": [
    "# Cleanup\n",
    "os.remove(afile)"
   ]
  }
 ],
 "metadata": {
  "kernelspec": {
   "display_name": "Python 3 (ipykernel)",
   "language": "python",
   "name": "python3"
  },
  "language_info": {
   "codemirror_mode": {
    "name": "ipython",
    "version": 3
   },
   "file_extension": ".py",
   "mimetype": "text/x-python",
   "name": "python",
   "nbconvert_exporter": "python",
   "pygments_lexer": "ipython3",
   "version": "3.12.6"
  }
 },
 "nbformat": 4,
 "nbformat_minor": 4
}
