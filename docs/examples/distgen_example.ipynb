{
 "cells": [
  {
   "cell_type": "markdown",
   "metadata": {},
   "source": [
    "# Distgen example\n",
    "\n",
    "Similar to the simple example, but generating particles with Distgen"
   ]
  },
  {
   "cell_type": "code",
   "execution_count": null,
   "metadata": {
    "execution": {
     "iopub.execute_input": "2025-02-12T18:02:37.855451Z",
     "iopub.status.busy": "2025-02-12T18:02:37.854774Z",
     "iopub.status.idle": "2025-02-12T18:02:38.674535Z",
     "shell.execute_reply": "2025-02-12T18:02:38.674164Z"
    }
   },
   "outputs": [],
   "source": [
    "from distgen import Generator"
   ]
  },
  {
   "cell_type": "code",
   "execution_count": null,
   "metadata": {
    "execution": {
     "iopub.execute_input": "2025-02-12T18:02:38.676211Z",
     "iopub.status.busy": "2025-02-12T18:02:38.675998Z",
     "iopub.status.idle": "2025-02-12T18:02:38.678894Z",
     "shell.execute_reply": "2025-02-12T18:02:38.678662Z"
    }
   },
   "outputs": [],
   "source": [
    "# Nicer plotting\n",
    "import matplotlib\n",
    "import matplotlib.pyplot as plt\n",
    "\n",
    "%config InlineBackend.figure_format = 'retina'\n",
    "matplotlib.rcParams[\"figure.figsize\"] = (8, 4)"
   ]
  },
  {
   "cell_type": "code",
   "execution_count": null,
   "metadata": {
    "execution": {
     "iopub.execute_input": "2025-02-12T18:02:38.680002Z",
     "iopub.status.busy": "2025-02-12T18:02:38.679911Z",
     "iopub.status.idle": "2025-02-12T18:02:38.684008Z",
     "shell.execute_reply": "2025-02-12T18:02:38.683768Z"
    }
   },
   "outputs": [],
   "source": [
    "YAML = \"\"\"\n",
    "n_particle: 10000\n",
    "random_type: hammersley\n",
    "species: electron\n",
    "\n",
    "start:\n",
    "  type: cathode\n",
    "  MTE:\n",
    "    value: 414\n",
    "    units: meV    \n",
    "\n",
    "total_charge:\n",
    "  value: 250\n",
    "  units: pC\n",
    "    \n",
    "r_dist:\n",
    "  n_sigma_cutoff: 1.5\n",
    "  sigma_xy:\n",
    "    value: 0.4\n",
    "    units: mm\n",
    "  type: radial_gaussian\n",
    "\n",
    "t_dist:\n",
    "  type: superposition\n",
    "  dists: \n",
    "    d1: \n",
    "      type: gaussian\n",
    "      avg_t:\n",
    "        units: ps\n",
    "        value: -1\n",
    "      sigma_t:\n",
    "        units: ps\n",
    "        value: 1\n",
    "    d2: \n",
    "      type: gaussian\n",
    "      avg_t:\n",
    "        units: ps\n",
    "        value: 1\n",
    "      sigma_t:\n",
    "        units: ps\n",
    "        value: 1\n",
    " \n",
    "\n",
    "\"\"\"\n",
    "\n",
    "G = Generator(YAML)"
   ]
  },
  {
   "cell_type": "code",
   "execution_count": null,
   "metadata": {
    "execution": {
     "iopub.execute_input": "2025-02-12T18:02:38.685144Z",
     "iopub.status.busy": "2025-02-12T18:02:38.685066Z",
     "iopub.status.idle": "2025-02-12T18:02:38.952564Z",
     "shell.execute_reply": "2025-02-12T18:02:38.952277Z"
    }
   },
   "outputs": [],
   "source": [
    "# Tune the two dist separation\n",
    "G[\"t_dist:dists:d1:avg_t:value\"] = -1\n",
    "G[\"t_dist:dists:d2:avg_t:value\"] = 1\n",
    "G.run()\n",
    "GP = G.particles\n",
    "GP.plot(\"t\")\n",
    "GP.plot(\"pz\")"
   ]
  },
  {
   "cell_type": "code",
   "execution_count": null,
   "metadata": {
    "execution": {
     "iopub.execute_input": "2025-02-12T18:02:38.953829Z",
     "iopub.status.busy": "2025-02-12T18:02:38.953741Z",
     "iopub.status.idle": "2025-02-12T18:02:39.166676Z",
     "shell.execute_reply": "2025-02-12T18:02:39.166290Z"
    }
   },
   "outputs": [],
   "source": [
    "from impact import Impact\n",
    "\n",
    "import os"
   ]
  },
  {
   "cell_type": "code",
   "execution_count": null,
   "metadata": {
    "execution": {
     "iopub.execute_input": "2025-02-12T18:02:39.168222Z",
     "iopub.status.busy": "2025-02-12T18:02:39.168131Z",
     "iopub.status.idle": "2025-02-12T18:02:39.170366Z",
     "shell.execute_reply": "2025-02-12T18:02:39.170148Z"
    }
   },
   "outputs": [],
   "source": [
    "ifile = \"templates/lcls_injector/ImpactT.in\"\n",
    "os.path.exists(ifile)"
   ]
  },
  {
   "cell_type": "code",
   "execution_count": null,
   "metadata": {
    "execution": {
     "iopub.execute_input": "2025-02-12T18:02:39.171417Z",
     "iopub.status.busy": "2025-02-12T18:02:39.171339Z",
     "iopub.status.idle": "2025-02-12T18:02:39.174178Z",
     "shell.execute_reply": "2025-02-12T18:02:39.173958Z"
    }
   },
   "outputs": [],
   "source": [
    "# Make Impact object\n",
    "I = Impact(ifile, initial_particles=G.particles, verbose=True)"
   ]
  },
  {
   "cell_type": "code",
   "execution_count": null,
   "metadata": {
    "execution": {
     "iopub.execute_input": "2025-02-12T18:02:39.175290Z",
     "iopub.status.busy": "2025-02-12T18:02:39.175217Z",
     "iopub.status.idle": "2025-02-12T18:02:39.210402Z",
     "shell.execute_reply": "2025-02-12T18:02:39.210155Z"
    }
   },
   "outputs": [],
   "source": [
    "# This will use the initial particles\n",
    "I.write_initial_particles(update_header=True)"
   ]
  },
  {
   "cell_type": "code",
   "execution_count": null,
   "metadata": {
    "execution": {
     "iopub.execute_input": "2025-02-12T18:02:39.211572Z",
     "iopub.status.busy": "2025-02-12T18:02:39.211491Z",
     "iopub.status.idle": "2025-02-12T18:02:39.213589Z",
     "shell.execute_reply": "2025-02-12T18:02:39.213329Z"
    }
   },
   "outputs": [],
   "source": [
    "# Change some things\n",
    "I.header[\"Nx\"] = 16\n",
    "I.header[\"Ny\"] = 16\n",
    "I.header[\"Nz\"] = 16\n",
    "I.header[\"Dt\"] = 5e-13\n",
    "\n",
    "# Turn Space Charge off\n",
    "I.header[\"Bcurr\"] = 0\n",
    "\n",
    "# Other switches\n",
    "I.timeout = 1000\n",
    "# Switches for MPI\n",
    "I.numprocs = 0"
   ]
  },
  {
   "cell_type": "code",
   "execution_count": null,
   "metadata": {
    "execution": {
     "iopub.execute_input": "2025-02-12T18:02:39.214644Z",
     "iopub.status.busy": "2025-02-12T18:02:39.214567Z",
     "iopub.status.idle": "2025-02-12T18:02:39.216137Z",
     "shell.execute_reply": "2025-02-12T18:02:39.215914Z"
    }
   },
   "outputs": [],
   "source": [
    "# Change stop location\n",
    "I.stop = 1.5\n",
    "# I.ele['stop_1']['s'] = I.ele['OTR2']['s']+.001"
   ]
  },
  {
   "cell_type": "code",
   "execution_count": null,
   "metadata": {
    "execution": {
     "iopub.execute_input": "2025-02-12T18:02:39.217154Z",
     "iopub.status.busy": "2025-02-12T18:02:39.217074Z",
     "iopub.status.idle": "2025-02-12T18:03:01.224073Z",
     "shell.execute_reply": "2025-02-12T18:03:01.223715Z"
    }
   },
   "outputs": [],
   "source": [
    "I.run()"
   ]
  },
  {
   "cell_type": "code",
   "execution_count": null,
   "metadata": {
    "execution": {
     "iopub.execute_input": "2025-02-12T18:03:01.225351Z",
     "iopub.status.busy": "2025-02-12T18:03:01.225243Z",
     "iopub.status.idle": "2025-02-12T18:03:01.227485Z",
     "shell.execute_reply": "2025-02-12T18:03:01.227253Z"
    }
   },
   "outputs": [],
   "source": [
    "I.input.keys()"
   ]
  },
  {
   "cell_type": "code",
   "execution_count": null,
   "metadata": {
    "execution": {
     "iopub.execute_input": "2025-02-12T18:03:01.228841Z",
     "iopub.status.busy": "2025-02-12T18:03:01.228742Z",
     "iopub.status.idle": "2025-02-12T18:03:01.230715Z",
     "shell.execute_reply": "2025-02-12T18:03:01.230521Z"
    }
   },
   "outputs": [],
   "source": [
    "I.output.keys()"
   ]
  },
  {
   "cell_type": "code",
   "execution_count": null,
   "metadata": {
    "execution": {
     "iopub.execute_input": "2025-02-12T18:03:01.231648Z",
     "iopub.status.busy": "2025-02-12T18:03:01.231573Z",
     "iopub.status.idle": "2025-02-12T18:03:01.233505Z",
     "shell.execute_reply": "2025-02-12T18:03:01.233302Z"
    }
   },
   "outputs": [],
   "source": [
    "I.output[\"stats\"].keys()"
   ]
  },
  {
   "cell_type": "code",
   "execution_count": null,
   "metadata": {
    "execution": {
     "iopub.execute_input": "2025-02-12T18:03:01.234596Z",
     "iopub.status.busy": "2025-02-12T18:03:01.234526Z",
     "iopub.status.idle": "2025-02-12T18:03:01.236505Z",
     "shell.execute_reply": "2025-02-12T18:03:01.236288Z"
    }
   },
   "outputs": [],
   "source": [
    "I.output[\"slice_info\"].keys()"
   ]
  },
  {
   "cell_type": "markdown",
   "metadata": {},
   "source": [
    "# Particles"
   ]
  },
  {
   "cell_type": "code",
   "execution_count": null,
   "metadata": {
    "execution": {
     "iopub.execute_input": "2025-02-12T18:03:01.237648Z",
     "iopub.status.busy": "2025-02-12T18:03:01.237567Z",
     "iopub.status.idle": "2025-02-12T18:03:01.239647Z",
     "shell.execute_reply": "2025-02-12T18:03:01.239411Z"
    }
   },
   "outputs": [],
   "source": [
    "# Particles are automatically parsed in to openpmd-beamphysics ParticleGroup objects\n",
    "I.output[\"particles\"]"
   ]
  },
  {
   "cell_type": "code",
   "execution_count": null,
   "metadata": {
    "execution": {
     "iopub.execute_input": "2025-02-12T18:03:01.240776Z",
     "iopub.status.busy": "2025-02-12T18:03:01.240703Z",
     "iopub.status.idle": "2025-02-12T18:03:01.242303Z",
     "shell.execute_reply": "2025-02-12T18:03:01.242061Z"
    }
   },
   "outputs": [],
   "source": [
    "PI = I.output[\"particles\"][\"initial_particles\"]\n",
    "PF = I.output[\"particles\"][\"final_particles\"]"
   ]
  },
  {
   "cell_type": "code",
   "execution_count": null,
   "metadata": {
    "execution": {
     "iopub.execute_input": "2025-02-12T18:03:01.243327Z",
     "iopub.status.busy": "2025-02-12T18:03:01.243246Z",
     "iopub.status.idle": "2025-02-12T18:03:01.423678Z",
     "shell.execute_reply": "2025-02-12T18:03:01.423366Z"
    }
   },
   "outputs": [],
   "source": [
    "# Original particles\n",
    "GP.plot(\"t\", \"pz\")"
   ]
  },
  {
   "cell_type": "code",
   "execution_count": null,
   "metadata": {
    "execution": {
     "iopub.execute_input": "2025-02-12T18:03:01.425205Z",
     "iopub.status.busy": "2025-02-12T18:03:01.425120Z",
     "iopub.status.idle": "2025-02-12T18:03:01.641244Z",
     "shell.execute_reply": "2025-02-12T18:03:01.640979Z"
    }
   },
   "outputs": [],
   "source": [
    "# Readback of initial particles from Impact-T.\n",
    "PI.plot(\"t\", \"pz\")"
   ]
  },
  {
   "cell_type": "code",
   "execution_count": null,
   "metadata": {
    "execution": {
     "iopub.execute_input": "2025-02-12T18:03:01.642877Z",
     "iopub.status.busy": "2025-02-12T18:03:01.642753Z",
     "iopub.status.idle": "2025-02-12T18:03:01.645029Z",
     "shell.execute_reply": "2025-02-12T18:03:01.644782Z"
    }
   },
   "outputs": [],
   "source": [
    "# The initial time was shifted to account for this\n",
    "I.header[\"Tini\"]"
   ]
  },
  {
   "cell_type": "code",
   "execution_count": null,
   "metadata": {
    "execution": {
     "iopub.execute_input": "2025-02-12T18:03:01.646203Z",
     "iopub.status.busy": "2025-02-12T18:03:01.646112Z",
     "iopub.status.idle": "2025-02-12T18:03:01.648365Z",
     "shell.execute_reply": "2025-02-12T18:03:01.648137Z"
    }
   },
   "outputs": [],
   "source": [
    "# Get the final particles, calculate some statistic\n",
    "P = I.output[\"particles\"][\"final_particles\"]\n",
    "P[\"mean_energy\"]"
   ]
  },
  {
   "cell_type": "code",
   "execution_count": null,
   "metadata": {
    "execution": {
     "iopub.execute_input": "2025-02-12T18:03:01.649460Z",
     "iopub.status.busy": "2025-02-12T18:03:01.649362Z",
     "iopub.status.idle": "2025-02-12T18:03:01.651192Z",
     "shell.execute_reply": "2025-02-12T18:03:01.650977Z"
    }
   },
   "outputs": [],
   "source": [
    "# Show the units\n",
    "P.units(\"mean_energy\")"
   ]
  },
  {
   "cell_type": "code",
   "execution_count": null,
   "metadata": {
    "execution": {
     "iopub.execute_input": "2025-02-12T18:03:01.652278Z",
     "iopub.status.busy": "2025-02-12T18:03:01.652210Z",
     "iopub.status.idle": "2025-02-12T18:03:01.811196Z",
     "shell.execute_reply": "2025-02-12T18:03:01.810924Z"
    }
   },
   "outputs": [],
   "source": [
    "P.plot(\"z\", \"pz\")"
   ]
  },
  {
   "cell_type": "markdown",
   "metadata": {},
   "source": [
    "# Stats"
   ]
  },
  {
   "cell_type": "code",
   "execution_count": null,
   "metadata": {
    "execution": {
     "iopub.execute_input": "2025-02-12T18:03:01.812556Z",
     "iopub.status.busy": "2025-02-12T18:03:01.812450Z",
     "iopub.status.idle": "2025-02-12T18:03:01.814603Z",
     "shell.execute_reply": "2025-02-12T18:03:01.814364Z"
    }
   },
   "outputs": [],
   "source": [
    "# Impact's own calculated statistics can be retieved\n",
    "len(I.stat(\"norm_emit_x\")), I.stat(\"norm_emit_x\")[-1]"
   ]
  },
  {
   "cell_type": "code",
   "execution_count": null,
   "metadata": {
    "execution": {
     "iopub.execute_input": "2025-02-12T18:03:01.815975Z",
     "iopub.status.busy": "2025-02-12T18:03:01.815857Z",
     "iopub.status.idle": "2025-02-12T18:03:01.896889Z",
     "shell.execute_reply": "2025-02-12T18:03:01.896630Z"
    }
   },
   "outputs": [],
   "source": [
    "# Compare these.\n",
    "key1 = \"mean_z\"\n",
    "key2 = \"sigma_x\"\n",
    "units1 = str(I.units(key1))\n",
    "units2 = str(I.units(key2))\n",
    "plt.xlabel(key1 + f\" ({units1})\")\n",
    "plt.ylabel(key2 + f\" ({units2})\")\n",
    "plt.plot(I.stat(key1), I.stat(key2))\n",
    "plt.scatter(\n",
    "    [I.particles[name][key1] for name in I.particles],\n",
    "    [I.particles[name][key2] for name in I.particles],\n",
    "    color=\"red\",\n",
    ")"
   ]
  },
  {
   "cell_type": "markdown",
   "metadata": {},
   "source": [
    "# Archive, and restart from the middle"
   ]
  },
  {
   "cell_type": "code",
   "execution_count": null,
   "metadata": {
    "execution": {
     "iopub.execute_input": "2025-02-12T18:03:01.898271Z",
     "iopub.status.busy": "2025-02-12T18:03:01.898155Z",
     "iopub.status.idle": "2025-02-12T18:03:01.992228Z",
     "shell.execute_reply": "2025-02-12T18:03:01.991974Z"
    }
   },
   "outputs": [],
   "source": [
    "afile = I.archive()\n",
    "I2 = Impact(verbose=False)\n",
    "I2.load_archive(afile)\n",
    "\n",
    "# Patch in these particles\n",
    "I2.initial_particles = I2.particles[\"YAG02\"]\n",
    "\n",
    "# Turn off cathode start\n",
    "I2.header[\"Flagimg\"] = 0\n",
    "I2.configure()"
   ]
  },
  {
   "cell_type": "code",
   "execution_count": null,
   "metadata": {
    "execution": {
     "iopub.execute_input": "2025-02-12T18:03:01.993518Z",
     "iopub.status.busy": "2025-02-12T18:03:01.993431Z",
     "iopub.status.idle": "2025-02-12T18:03:04.124002Z",
     "shell.execute_reply": "2025-02-12T18:03:04.123490Z"
    }
   },
   "outputs": [],
   "source": [
    "# Run again\n",
    "I2.use_mpi = True\n",
    "I2.run()"
   ]
  },
  {
   "cell_type": "code",
   "execution_count": null,
   "metadata": {
    "execution": {
     "iopub.execute_input": "2025-02-12T18:03:04.125741Z",
     "iopub.status.busy": "2025-02-12T18:03:04.125595Z",
     "iopub.status.idle": "2025-02-12T18:03:04.215960Z",
     "shell.execute_reply": "2025-02-12T18:03:04.215715Z"
    }
   },
   "outputs": [],
   "source": [
    "# Compare these.\n",
    "key1 = \"mean_z\"\n",
    "key2 = \"sigma_x\"\n",
    "units1 = str(I.units(key1))\n",
    "units2 = str(I.units(key2))\n",
    "plt.xlabel(key1 + f\" ({units1})\")\n",
    "plt.ylabel(key2 + f\" ({units2})\")\n",
    "plt.plot(I.stat(key1), I.stat(key2), color=\"black\", label=\"original run\")\n",
    "plt.plot(I2.stat(key1), I2.stat(key2), color=\"red\", label=\"restart run\")\n",
    "plt.scatter(\n",
    "    [I.particles[name][key1] for name in I.particles],\n",
    "    [I.particles[name][key2] for name in I.particles],\n",
    "    color=\"black\",\n",
    ")\n",
    "\n",
    "plt.scatter(\n",
    "    [I2.particles[name][key1] for name in I2.particles],\n",
    "    [I2.particles[name][key2] for name in I2.particles],\n",
    "    color=\"red\",\n",
    "    marker=\"x\",\n",
    ")\n",
    "plt.legend()"
   ]
  },
  {
   "cell_type": "code",
   "execution_count": null,
   "metadata": {
    "execution": {
     "iopub.execute_input": "2025-02-12T18:03:04.217183Z",
     "iopub.status.busy": "2025-02-12T18:03:04.217088Z",
     "iopub.status.idle": "2025-02-12T18:03:04.219137Z",
     "shell.execute_reply": "2025-02-12T18:03:04.218900Z"
    }
   },
   "outputs": [],
   "source": [
    "# Cleanup\n",
    "os.remove(afile)"
   ]
  }
 ],
 "metadata": {
  "kernelspec": {
   "display_name": "Python 3 (ipykernel)",
   "language": "python",
   "name": "python3"
  },
  "language_info": {
   "codemirror_mode": {
    "name": "ipython",
    "version": 3
   },
   "file_extension": ".py",
   "mimetype": "text/x-python",
   "name": "python",
   "nbconvert_exporter": "python",
   "pygments_lexer": "ipython3",
   "version": "3.12.8"
  }
 },
 "nbformat": 4,
 "nbformat_minor": 4
}
