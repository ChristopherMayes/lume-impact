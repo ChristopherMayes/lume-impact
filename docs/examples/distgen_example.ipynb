{
 "cells": [
  {
   "cell_type": "markdown",
   "metadata": {},
   "source": [
    "# Distgen example\n",
    "\n",
    "Similar to the simple example, but generating particles with Distgen"
   ]
  },
  {
   "cell_type": "code",
   "execution_count": null,
   "metadata": {
    "execution": {
     "iopub.execute_input": "2025-02-20T21:21:08.722712Z",
     "iopub.status.busy": "2025-02-20T21:21:08.722235Z",
     "iopub.status.idle": "2025-02-20T21:21:09.527620Z",
     "shell.execute_reply": "2025-02-20T21:21:09.527255Z"
    }
   },
   "outputs": [],
   "source": [
    "from distgen import Generator"
   ]
  },
  {
   "cell_type": "code",
   "execution_count": null,
   "metadata": {
    "execution": {
     "iopub.execute_input": "2025-02-20T21:21:09.529447Z",
     "iopub.status.busy": "2025-02-20T21:21:09.529188Z",
     "iopub.status.idle": "2025-02-20T21:21:09.532066Z",
     "shell.execute_reply": "2025-02-20T21:21:09.531831Z"
    }
   },
   "outputs": [],
   "source": [
    "# Nicer plotting\n",
    "import matplotlib\n",
    "import matplotlib.pyplot as plt\n",
    "\n",
    "%config InlineBackend.figure_format = 'retina'\n",
    "matplotlib.rcParams[\"figure.figsize\"] = (8, 4)"
   ]
  },
  {
   "cell_type": "code",
   "execution_count": null,
   "metadata": {
    "execution": {
     "iopub.execute_input": "2025-02-20T21:21:09.533197Z",
     "iopub.status.busy": "2025-02-20T21:21:09.533093Z",
     "iopub.status.idle": "2025-02-20T21:21:09.537160Z",
     "shell.execute_reply": "2025-02-20T21:21:09.536946Z"
    }
   },
   "outputs": [],
   "source": [
    "YAML = \"\"\"\n",
    "n_particle: 10000\n",
    "random_type: hammersley\n",
    "species: electron\n",
    "\n",
    "start:\n",
    "  type: cathode\n",
    "  MTE:\n",
    "    value: 414\n",
    "    units: meV    \n",
    "\n",
    "total_charge:\n",
    "  value: 250\n",
    "  units: pC\n",
    "    \n",
    "r_dist:\n",
    "  n_sigma_cutoff: 1.5\n",
    "  sigma_xy:\n",
    "    value: 0.4\n",
    "    units: mm\n",
    "  type: radial_gaussian\n",
    "\n",
    "t_dist:\n",
    "  type: superposition\n",
    "  dists: \n",
    "    d1: \n",
    "      type: gaussian\n",
    "      avg_t:\n",
    "        units: ps\n",
    "        value: -1\n",
    "      sigma_t:\n",
    "        units: ps\n",
    "        value: 1\n",
    "    d2: \n",
    "      type: gaussian\n",
    "      avg_t:\n",
    "        units: ps\n",
    "        value: 1\n",
    "      sigma_t:\n",
    "        units: ps\n",
    "        value: 1\n",
    " \n",
    "\n",
    "\"\"\"\n",
    "\n",
    "G = Generator(YAML)"
   ]
  },
  {
   "cell_type": "code",
   "execution_count": null,
   "metadata": {
    "execution": {
     "iopub.execute_input": "2025-02-20T21:21:09.538256Z",
     "iopub.status.busy": "2025-02-20T21:21:09.538171Z",
     "iopub.status.idle": "2025-02-20T21:21:09.802827Z",
     "shell.execute_reply": "2025-02-20T21:21:09.802543Z"
    }
   },
   "outputs": [],
   "source": [
    "# Tune the two dist separation\n",
    "G[\"t_dist:dists:d1:avg_t:value\"] = -1\n",
    "G[\"t_dist:dists:d2:avg_t:value\"] = 1\n",
    "G.run()\n",
    "GP = G.particles\n",
    "GP.plot(\"t\")\n",
    "GP.plot(\"pz\")"
   ]
  },
  {
   "cell_type": "code",
   "execution_count": null,
   "metadata": {
    "execution": {
     "iopub.execute_input": "2025-02-20T21:21:09.804182Z",
     "iopub.status.busy": "2025-02-20T21:21:09.804070Z",
     "iopub.status.idle": "2025-02-20T21:21:10.048633Z",
     "shell.execute_reply": "2025-02-20T21:21:10.048334Z"
    }
   },
   "outputs": [],
   "source": [
    "from impact import Impact\n",
    "\n",
    "import os"
   ]
  },
  {
   "cell_type": "code",
   "execution_count": null,
   "metadata": {
    "execution": {
     "iopub.execute_input": "2025-02-20T21:21:10.049978Z",
     "iopub.status.busy": "2025-02-20T21:21:10.049894Z",
     "iopub.status.idle": "2025-02-20T21:21:10.052001Z",
     "shell.execute_reply": "2025-02-20T21:21:10.051785Z"
    }
   },
   "outputs": [],
   "source": [
    "ifile = \"templates/lcls_injector/ImpactT.in\"\n",
    "os.path.exists(ifile)"
   ]
  },
  {
   "cell_type": "code",
   "execution_count": null,
   "metadata": {
    "execution": {
     "iopub.execute_input": "2025-02-20T21:21:10.053106Z",
     "iopub.status.busy": "2025-02-20T21:21:10.053031Z",
     "iopub.status.idle": "2025-02-20T21:21:10.056122Z",
     "shell.execute_reply": "2025-02-20T21:21:10.055855Z"
    }
   },
   "outputs": [],
   "source": [
    "# Make Impact object\n",
    "I = Impact(ifile, initial_particles=G.particles, verbose=True)"
   ]
  },
  {
   "cell_type": "code",
   "execution_count": null,
   "metadata": {
    "execution": {
     "iopub.execute_input": "2025-02-20T21:21:10.057161Z",
     "iopub.status.busy": "2025-02-20T21:21:10.057090Z",
     "iopub.status.idle": "2025-02-20T21:21:10.092007Z",
     "shell.execute_reply": "2025-02-20T21:21:10.091772Z"
    }
   },
   "outputs": [],
   "source": [
    "# This will use the initial particles\n",
    "I.write_initial_particles(update_header=True)"
   ]
  },
  {
   "cell_type": "code",
   "execution_count": null,
   "metadata": {
    "execution": {
     "iopub.execute_input": "2025-02-20T21:21:10.093195Z",
     "iopub.status.busy": "2025-02-20T21:21:10.093096Z",
     "iopub.status.idle": "2025-02-20T21:21:10.095291Z",
     "shell.execute_reply": "2025-02-20T21:21:10.094981Z"
    }
   },
   "outputs": [],
   "source": [
    "# Change some things\n",
    "I.header[\"Nx\"] = 16\n",
    "I.header[\"Ny\"] = 16\n",
    "I.header[\"Nz\"] = 16\n",
    "I.header[\"Dt\"] = 5e-13\n",
    "\n",
    "# Turn Space Charge off\n",
    "I.header[\"Bcurr\"] = 0\n",
    "\n",
    "# Other switches\n",
    "I.timeout = 1000\n",
    "# Switches for MPI\n",
    "I.numprocs = 0"
   ]
  },
  {
   "cell_type": "code",
   "execution_count": null,
   "metadata": {
    "execution": {
     "iopub.execute_input": "2025-02-20T21:21:10.096344Z",
     "iopub.status.busy": "2025-02-20T21:21:10.096264Z",
     "iopub.status.idle": "2025-02-20T21:21:10.097878Z",
     "shell.execute_reply": "2025-02-20T21:21:10.097648Z"
    }
   },
   "outputs": [],
   "source": [
    "# Change stop location\n",
    "I.stop = 1.5\n",
    "# I.ele['stop_1']['s'] = I.ele['OTR2']['s']+.001"
   ]
  },
  {
   "cell_type": "code",
   "execution_count": null,
   "metadata": {
    "execution": {
     "iopub.execute_input": "2025-02-20T21:21:10.098897Z",
     "iopub.status.busy": "2025-02-20T21:21:10.098819Z",
     "iopub.status.idle": "2025-02-20T21:21:25.434462Z",
     "shell.execute_reply": "2025-02-20T21:21:25.434089Z"
    }
   },
   "outputs": [],
   "source": [
    "I.run()"
   ]
  },
  {
   "cell_type": "code",
   "execution_count": null,
   "metadata": {
    "execution": {
     "iopub.execute_input": "2025-02-20T21:21:25.435820Z",
     "iopub.status.busy": "2025-02-20T21:21:25.435735Z",
     "iopub.status.idle": "2025-02-20T21:21:25.438345Z",
     "shell.execute_reply": "2025-02-20T21:21:25.438125Z"
    }
   },
   "outputs": [],
   "source": [
    "I.input.keys()"
   ]
  },
  {
   "cell_type": "code",
   "execution_count": null,
   "metadata": {
    "execution": {
     "iopub.execute_input": "2025-02-20T21:21:25.439562Z",
     "iopub.status.busy": "2025-02-20T21:21:25.439454Z",
     "iopub.status.idle": "2025-02-20T21:21:25.441588Z",
     "shell.execute_reply": "2025-02-20T21:21:25.441248Z"
    }
   },
   "outputs": [],
   "source": [
    "I.output.keys()"
   ]
  },
  {
   "cell_type": "code",
   "execution_count": null,
   "metadata": {
    "execution": {
     "iopub.execute_input": "2025-02-20T21:21:25.442718Z",
     "iopub.status.busy": "2025-02-20T21:21:25.442622Z",
     "iopub.status.idle": "2025-02-20T21:21:25.444521Z",
     "shell.execute_reply": "2025-02-20T21:21:25.444291Z"
    }
   },
   "outputs": [],
   "source": [
    "I.output[\"stats\"].keys()"
   ]
  },
  {
   "cell_type": "code",
   "execution_count": null,
   "metadata": {
    "execution": {
     "iopub.execute_input": "2025-02-20T21:21:25.445541Z",
     "iopub.status.busy": "2025-02-20T21:21:25.445471Z",
     "iopub.status.idle": "2025-02-20T21:21:25.447350Z",
     "shell.execute_reply": "2025-02-20T21:21:25.447149Z"
    }
   },
   "outputs": [],
   "source": [
    "I.output[\"slice_info\"].keys()"
   ]
  },
  {
   "cell_type": "markdown",
   "metadata": {},
   "source": [
    "# Particles"
   ]
  },
  {
   "cell_type": "code",
   "execution_count": null,
   "metadata": {
    "execution": {
     "iopub.execute_input": "2025-02-20T21:21:25.448518Z",
     "iopub.status.busy": "2025-02-20T21:21:25.448449Z",
     "iopub.status.idle": "2025-02-20T21:21:25.450505Z",
     "shell.execute_reply": "2025-02-20T21:21:25.450294Z"
    }
   },
   "outputs": [],
   "source": [
    "# Particles are automatically parsed in to openpmd-beamphysics ParticleGroup objects\n",
    "I.output[\"particles\"]"
   ]
  },
  {
   "cell_type": "code",
   "execution_count": null,
   "metadata": {
    "execution": {
     "iopub.execute_input": "2025-02-20T21:21:25.451580Z",
     "iopub.status.busy": "2025-02-20T21:21:25.451504Z",
     "iopub.status.idle": "2025-02-20T21:21:25.453140Z",
     "shell.execute_reply": "2025-02-20T21:21:25.452917Z"
    }
   },
   "outputs": [],
   "source": [
    "PI = I.output[\"particles\"][\"initial_particles\"]\n",
    "PF = I.output[\"particles\"][\"final_particles\"]"
   ]
  },
  {
   "cell_type": "code",
   "execution_count": null,
   "metadata": {
    "execution": {
     "iopub.execute_input": "2025-02-20T21:21:25.454315Z",
     "iopub.status.busy": "2025-02-20T21:21:25.454239Z",
     "iopub.status.idle": "2025-02-20T21:21:25.630757Z",
     "shell.execute_reply": "2025-02-20T21:21:25.630434Z"
    }
   },
   "outputs": [],
   "source": [
    "# Original particles\n",
    "GP.plot(\"t\", \"pz\")"
   ]
  },
  {
   "cell_type": "code",
   "execution_count": null,
   "metadata": {
    "execution": {
     "iopub.execute_input": "2025-02-20T21:21:25.632078Z",
     "iopub.status.busy": "2025-02-20T21:21:25.631967Z",
     "iopub.status.idle": "2025-02-20T21:21:25.840490Z",
     "shell.execute_reply": "2025-02-20T21:21:25.840233Z"
    }
   },
   "outputs": [],
   "source": [
    "# Readback of initial particles from Impact-T.\n",
    "PI.plot(\"t\", \"pz\")"
   ]
  },
  {
   "cell_type": "code",
   "execution_count": null,
   "metadata": {
    "execution": {
     "iopub.execute_input": "2025-02-20T21:21:25.842128Z",
     "iopub.status.busy": "2025-02-20T21:21:25.842020Z",
     "iopub.status.idle": "2025-02-20T21:21:25.844156Z",
     "shell.execute_reply": "2025-02-20T21:21:25.843929Z"
    }
   },
   "outputs": [],
   "source": [
    "# The initial time was shifted to account for this\n",
    "I.header[\"Tini\"]"
   ]
  },
  {
   "cell_type": "code",
   "execution_count": null,
   "metadata": {
    "execution": {
     "iopub.execute_input": "2025-02-20T21:21:25.845358Z",
     "iopub.status.busy": "2025-02-20T21:21:25.845257Z",
     "iopub.status.idle": "2025-02-20T21:21:25.847525Z",
     "shell.execute_reply": "2025-02-20T21:21:25.847316Z"
    }
   },
   "outputs": [],
   "source": [
    "# Get the final particles, calculate some statistic\n",
    "P = I.output[\"particles\"][\"final_particles\"]\n",
    "P[\"mean_energy\"]"
   ]
  },
  {
   "cell_type": "code",
   "execution_count": null,
   "metadata": {
    "execution": {
     "iopub.execute_input": "2025-02-20T21:21:25.848609Z",
     "iopub.status.busy": "2025-02-20T21:21:25.848510Z",
     "iopub.status.idle": "2025-02-20T21:21:25.850439Z",
     "shell.execute_reply": "2025-02-20T21:21:25.850216Z"
    }
   },
   "outputs": [],
   "source": [
    "# Show the units\n",
    "P.units(\"mean_energy\")"
   ]
  },
  {
   "cell_type": "code",
   "execution_count": null,
   "metadata": {
    "execution": {
     "iopub.execute_input": "2025-02-20T21:21:25.851505Z",
     "iopub.status.busy": "2025-02-20T21:21:25.851424Z",
     "iopub.status.idle": "2025-02-20T21:21:26.003453Z",
     "shell.execute_reply": "2025-02-20T21:21:26.003189Z"
    }
   },
   "outputs": [],
   "source": [
    "P.plot(\"z\", \"pz\")"
   ]
  },
  {
   "cell_type": "markdown",
   "metadata": {},
   "source": [
    "# Stats"
   ]
  },
  {
   "cell_type": "code",
   "execution_count": null,
   "metadata": {
    "execution": {
     "iopub.execute_input": "2025-02-20T21:21:26.004774Z",
     "iopub.status.busy": "2025-02-20T21:21:26.004662Z",
     "iopub.status.idle": "2025-02-20T21:21:26.006716Z",
     "shell.execute_reply": "2025-02-20T21:21:26.006507Z"
    }
   },
   "outputs": [],
   "source": [
    "# Impact's own calculated statistics can be retieved\n",
    "len(I.stat(\"norm_emit_x\")), I.stat(\"norm_emit_x\")[-1]"
   ]
  },
  {
   "cell_type": "code",
   "execution_count": null,
   "metadata": {
    "execution": {
     "iopub.execute_input": "2025-02-20T21:21:26.007814Z",
     "iopub.status.busy": "2025-02-20T21:21:26.007721Z",
     "iopub.status.idle": "2025-02-20T21:21:26.083685Z",
     "shell.execute_reply": "2025-02-20T21:21:26.083452Z"
    }
   },
   "outputs": [],
   "source": [
    "# Compare these.\n",
    "key1 = \"mean_z\"\n",
    "key2 = \"sigma_x\"\n",
    "units1 = str(I.units(key1))\n",
    "units2 = str(I.units(key2))\n",
    "plt.xlabel(key1 + f\" ({units1})\")\n",
    "plt.ylabel(key2 + f\" ({units2})\")\n",
    "plt.plot(I.stat(key1), I.stat(key2))\n",
    "plt.scatter(\n",
    "    [I.particles[name][key1] for name in I.particles],\n",
    "    [I.particles[name][key2] for name in I.particles],\n",
    "    color=\"red\",\n",
    ")"
   ]
  },
  {
   "cell_type": "markdown",
   "metadata": {},
   "source": [
    "# Archive, and restart from the middle"
   ]
  },
  {
   "cell_type": "code",
   "execution_count": null,
   "metadata": {
    "execution": {
     "iopub.execute_input": "2025-02-20T21:21:26.084908Z",
     "iopub.status.busy": "2025-02-20T21:21:26.084832Z",
     "iopub.status.idle": "2025-02-20T21:21:26.175687Z",
     "shell.execute_reply": "2025-02-20T21:21:26.175448Z"
    }
   },
   "outputs": [],
   "source": [
    "afile = I.archive()\n",
    "I2 = Impact(verbose=False)\n",
    "I2.load_archive(afile)\n",
    "\n",
    "# Patch in these particles\n",
    "I2.initial_particles = I2.particles[\"YAG02\"]\n",
    "\n",
    "# Turn off cathode start\n",
    "I2.header[\"Flagimg\"] = 0\n",
    "I2.configure()"
   ]
  },
  {
   "cell_type": "code",
   "execution_count": null,
   "metadata": {
    "execution": {
     "iopub.execute_input": "2025-02-20T21:21:26.176999Z",
     "iopub.status.busy": "2025-02-20T21:21:26.176873Z",
     "iopub.status.idle": "2025-02-20T21:21:28.041363Z",
     "shell.execute_reply": "2025-02-20T21:21:28.040871Z"
    }
   },
   "outputs": [],
   "source": [
    "# Run again\n",
    "I2.use_mpi = True\n",
    "I2.run()"
   ]
  },
  {
   "cell_type": "code",
   "execution_count": null,
   "metadata": {
    "execution": {
     "iopub.execute_input": "2025-02-20T21:21:28.042966Z",
     "iopub.status.busy": "2025-02-20T21:21:28.042834Z",
     "iopub.status.idle": "2025-02-20T21:21:28.131827Z",
     "shell.execute_reply": "2025-02-20T21:21:28.131536Z"
    }
   },
   "outputs": [],
   "source": [
    "# Compare these.\n",
    "key1 = \"mean_z\"\n",
    "key2 = \"sigma_x\"\n",
    "units1 = str(I.units(key1))\n",
    "units2 = str(I.units(key2))\n",
    "plt.xlabel(key1 + f\" ({units1})\")\n",
    "plt.ylabel(key2 + f\" ({units2})\")\n",
    "plt.plot(I.stat(key1), I.stat(key2), color=\"black\", label=\"original run\")\n",
    "plt.plot(I2.stat(key1), I2.stat(key2), color=\"red\", label=\"restart run\")\n",
    "plt.scatter(\n",
    "    [I.particles[name][key1] for name in I.particles],\n",
    "    [I.particles[name][key2] for name in I.particles],\n",
    "    color=\"black\",\n",
    ")\n",
    "\n",
    "plt.scatter(\n",
    "    [I2.particles[name][key1] for name in I2.particles],\n",
    "    [I2.particles[name][key2] for name in I2.particles],\n",
    "    color=\"red\",\n",
    "    marker=\"x\",\n",
    ")\n",
    "plt.legend()"
   ]
  },
  {
   "cell_type": "code",
   "execution_count": null,
   "metadata": {
    "execution": {
     "iopub.execute_input": "2025-02-20T21:21:28.133104Z",
     "iopub.status.busy": "2025-02-20T21:21:28.132987Z",
     "iopub.status.idle": "2025-02-20T21:21:28.134946Z",
     "shell.execute_reply": "2025-02-20T21:21:28.134649Z"
    }
   },
   "outputs": [],
   "source": [
    "# Cleanup\n",
    "os.remove(afile)"
   ]
  }
 ],
 "metadata": {
  "kernelspec": {
   "display_name": "Python 3 (ipykernel)",
   "language": "python",
   "name": "python3"
  },
  "language_info": {
   "codemirror_mode": {
    "name": "ipython",
    "version": 3
   },
   "file_extension": ".py",
   "mimetype": "text/x-python",
   "name": "python",
   "nbconvert_exporter": "python",
   "pygments_lexer": "ipython3",
   "version": "3.12.8"
  }
 },
 "nbformat": 4,
 "nbformat_minor": 4
}
