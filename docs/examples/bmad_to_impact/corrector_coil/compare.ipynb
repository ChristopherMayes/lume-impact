{
 "cells": [
  {
   "cell_type": "markdown",
   "id": "a9a2e2b9-1332-44a0-bcb4-290bca7f3273",
   "metadata": {},
   "source": [
    "# Compare emfield_cartesian to Bmad\n",
    "\n",
    "This compares tracking with various errors."
   ]
  },
  {
   "cell_type": "code",
   "execution_count": null,
   "id": "467fea34-307f-4ffc-8a74-e5e8c1669357",
   "metadata": {},
   "outputs": [],
   "source": [
    "from pytao import Tao\n",
    "import numpy as np\n",
    "import os\n",
    "\n",
    "from impact.interfaces.bmad import (\n",
    "    impact_from_tao,\n",
    ")\n",
    "from pmd_beamphysics.fields.corrector_modeling import make_dipole_corrector_fieldmesh\n",
    "\n",
    "\n",
    "import matplotlib.pyplot as plt"
   ]
  },
  {
   "cell_type": "code",
   "execution_count": null,
   "id": "5801b0d7-32ae-41af-b7a2-3e5fe7648ce7",
   "metadata": {},
   "outputs": [],
   "source": [
    "def make_test_lat(filename):\n",
    "    lines = \"\"\"\n",
    "    no_digested\n",
    "    beginning[beta_a] = 10\n",
    "    beginning[beta_b] = 10\n",
    "    beginning[e_tot] = 10e6\n",
    "    parameter[geometry] = open\n",
    "    parameter[particle] = electron\n",
    "    \n",
    "    HCOIL: em_field, L = 0.5,\n",
    "        field_calc = fieldmap,\n",
    "        tracking_method = runge_kutta,\n",
    "        grid_field = call::correctorcoil_horizontal.h5\n",
    "    HCOIL[FIELD_AUTOSCALE] = 0.1\n",
    "    \n",
    "    d1: drift, L = 0.5\n",
    "    d2: drift, L = 0.5\n",
    "    d3: drift, L = 1\n",
    "    lat: line = (d1, HCOIL, d2)\n",
    "    \n",
    "    use, lat\n",
    "    \"\"\"\n",
    "    with open(filename, \"w\") as f:\n",
    "        f.write(lines)"
   ]
  },
  {
   "cell_type": "code",
   "execution_count": null,
   "id": "4efba012-3654-4d13-8dc9-a5b3b290c34e",
   "metadata": {},
   "outputs": [],
   "source": [
    "def make_coil():\n",
    "    R = 2 * 2.54e-2  # 2\" radius [m]\n",
    "    L = 0.1  # Length along z [m]\n",
    "    theta = np.pi / 2  # Opening angle [rad]\n",
    "    current = 100  # Current [Amp]\n",
    "\n",
    "    fm = make_dipole_corrector_fieldmesh(\n",
    "        current=current,\n",
    "        xmin=-R,\n",
    "        xmax=R,\n",
    "        nx=51,\n",
    "        ymin=-R,\n",
    "        ymax=R,\n",
    "        ny=51,\n",
    "        zmin=-5 * L / 2,\n",
    "        zmax=5 * L / 2,\n",
    "        nz=51,\n",
    "        mode=\"saddle\",\n",
    "        R=R,\n",
    "        L=L,\n",
    "        theta=theta,\n",
    "        npts=20,\n",
    "        plot_wire=False,\n",
    "        tilt=0,\n",
    "    )\n",
    "\n",
    "    return fm\n",
    "\n",
    "\n",
    "FM = make_coil()\n",
    "FM.write(\"correctorcoil_horizontal.h5\")"
   ]
  },
  {
   "cell_type": "code",
   "execution_count": null,
   "id": "4dc38ab5-0a71-45b2-917d-fd2ce88ed0b2",
   "metadata": {},
   "outputs": [],
   "source": [
    "def make_and_track_impact(tao):\n",
    "    p0c = tao.ele_orbit(0)[\"p0c\"]\n",
    "    i1 = impact_from_tao(tao)\n",
    "    i1.track1(pz0=p0c)\n",
    "    return i1"
   ]
  },
  {
   "cell_type": "code",
   "execution_count": null,
   "id": "b83579fb-01cd-41b6-8e3e-1a1643f5305d",
   "metadata": {},
   "outputs": [],
   "source": [
    "def compare_tao_impact(tao, i1):\n",
    "    end = tao.ele_orbit(\"end\")\n",
    "    result = {}\n",
    "    for key in (\"x\", \"y\"):\n",
    "        impact_t = i1.output[\"stats\"][\"t\"]\n",
    "        impact_value = i1.output[\"stats\"][f\"mean_{key}\"]\n",
    "        result[f\"impact_{key}\"] = np.interp(end[\"t\"], impact_t, impact_value)\n",
    "\n",
    "        result[f\"bmad_{key}\"] = end[key]\n",
    "    return result"
   ]
  },
  {
   "cell_type": "code",
   "execution_count": null,
   "id": "75e25105-6f6b-4aef-87d8-8a10cfc940db",
   "metadata": {},
   "outputs": [],
   "source": [
    "def compare1(key, value, ele=\"HCOIL\"):\n",
    "    filename = \"test_lat.bmad\"\n",
    "    make_test_lat(filename)\n",
    "\n",
    "    tao = Tao(lattice_file=filename, noplot=True)\n",
    "\n",
    "    tao.cmd(f\"set ele {ele} {key} = {value}\")\n",
    "\n",
    "    # Make Impact\n",
    "    i1 = make_and_track_impact(tao)\n",
    "\n",
    "    return compare_tao_impact(tao, i1)"
   ]
  },
  {
   "cell_type": "code",
   "execution_count": null,
   "id": "e6ada7cb-82ae-4144-aa26-e6f472c2d2a8",
   "metadata": {},
   "outputs": [],
   "source": [
    "def scan1(key, values, ele=\"HCOIL\"):\n",
    "    results = [compare1(key, value, ele=ele) for value in values]\n",
    "    table = {}\n",
    "    for key in results[0]:\n",
    "        table[key] = np.array([res[key] for res in results])\n",
    "    return table"
   ]
  },
  {
   "cell_type": "code",
   "execution_count": null,
   "id": "244bc17a-9ff8-4e3f-baf7-9a14a2de7430",
   "metadata": {},
   "outputs": [],
   "source": [
    "%%time\n",
    "key = \"tilt\"\n",
    "values = np.linspace(0, 0.01, 8)\n",
    "table = scan1(key, values)\n",
    "table[\"values\"] = values\n",
    "table[\"key\"] = key"
   ]
  },
  {
   "cell_type": "code",
   "execution_count": null,
   "id": "efd59538-70d1-455d-9e7c-03cbbc4734c7",
   "metadata": {},
   "outputs": [],
   "source": [
    "def plot_results(table):\n",
    "    fig, axes = plt.subplots(2, figsize=(8, 6))\n",
    "    axes[0].plot(values, 1e3 * table[\"bmad_x\"], marker=\"x\", label=\"Bmad x\")\n",
    "    axes[0].plot(values, 1e3 * table[\"impact_x\"], marker=\"x\", label=\"Impact-T x\")\n",
    "    axes[0].set_ylabel(\"x (mm)\")\n",
    "\n",
    "    axes[1].plot(values, 1e3 * table[\"bmad_y\"], marker=\"x\", label=\"Bmad y\")\n",
    "    axes[1].plot(values, 1e3 * table[\"impact_y\"], marker=\"x\", label=\"Impact-T y\")\n",
    "    axes[1].set_ylabel(\"y (mm)\")\n",
    "\n",
    "    axes[1].set_xlabel(f\"Bmad {table['key']}\")\n",
    "    plt.legend()\n",
    "\n",
    "\n",
    "plot_results(table)"
   ]
  },
  {
   "cell_type": "code",
   "execution_count": null,
   "id": "c3089e34-908e-41a2-b6d4-347b82a7f896",
   "metadata": {},
   "outputs": [],
   "source": [
    "%%time\n",
    "key = \"x_offset\"\n",
    "values = np.linspace(0, 0.01, 8)\n",
    "table = scan1(key, values)\n",
    "table[\"values\"] = values\n",
    "table[\"key\"] = key\n",
    "plot_results(table)"
   ]
  },
  {
   "cell_type": "code",
   "execution_count": null,
   "id": "6fe103a0-df62-4333-97f1-1b00bdab8716",
   "metadata": {},
   "outputs": [],
   "source": [
    "%%time\n",
    "key = \"y_offset\"\n",
    "values = np.linspace(0, 0.01, 8)\n",
    "table = scan1(key, values)\n",
    "table[\"values\"] = values\n",
    "table[\"key\"] = key\n",
    "plot_results(table)"
   ]
  },
  {
   "cell_type": "code",
   "execution_count": null,
   "id": "ad5221f7-52d1-40b6-8ae5-00a3cdc3c0ad",
   "metadata": {},
   "outputs": [],
   "source": [
    "%%time\n",
    "key = \"x_pitch\"\n",
    "values = np.linspace(0, 0.1, 8)\n",
    "table = scan1(key, values)\n",
    "table[\"values\"] = values\n",
    "table[\"key\"] = key\n",
    "plot_results(table)"
   ]
  },
  {
   "cell_type": "code",
   "execution_count": null,
   "id": "adca4652-f309-4b24-95e5-7b0fdbdae6ef",
   "metadata": {},
   "outputs": [],
   "source": [
    "%%time\n",
    "key = \"y_pitch\"\n",
    "values = np.linspace(0, 0.1, 8)\n",
    "table = scan1(key, values)\n",
    "table[\"values\"] = values\n",
    "table[\"key\"] = key\n",
    "plot_results(table)"
   ]
  },
  {
   "cell_type": "markdown",
   "id": "4143366a-22a6-4f51-9e66-843c3a63f278",
   "metadata": {},
   "source": [
    "# Cleanup"
   ]
  },
  {
   "cell_type": "code",
   "execution_count": null,
   "id": "c3314d39-1ad2-4dc4-9c4f-c58ed2d3fbaf",
   "metadata": {},
   "outputs": [],
   "source": [
    "os.remove(\"test_lat.bmad\")"
   ]
  }
 ],
 "metadata": {
  "kernelspec": {
   "display_name": "Python 3 (ipykernel)",
   "language": "python",
   "name": "python3"
  },
  "language_info": {
   "codemirror_mode": {
    "name": "ipython",
    "version": 3
   },
   "file_extension": ".py",
   "mimetype": "text/x-python",
   "name": "python",
   "nbconvert_exporter": "python",
   "pygments_lexer": "ipython3",
   "version": "3.12.6"
  }
 },
 "nbformat": 4,
 "nbformat_minor": 5
}
