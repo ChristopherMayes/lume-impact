{
 "cells": [
  {
   "cell_type": "markdown",
   "id": "87f8480c-f553-4f1b-a7c3-ec02944098b0",
   "metadata": {},
   "source": [
    "# Corrector Coil Bmad to Impact-T"
   ]
  },
  {
   "cell_type": "code",
   "execution_count": null,
   "id": "f87cdde4-d086-40f1-8d92-ea27a0d3c3b0",
   "metadata": {},
   "outputs": [],
   "source": [
    "%load_ext autoreload\n",
    "%autoreload 2"
   ]
  },
  {
   "cell_type": "code",
   "execution_count": null,
   "id": "afd38d06-be82-4415-bba9-1a0d4ba4287b",
   "metadata": {},
   "outputs": [],
   "source": [
    "from pytao import Tao\n",
    "from pmd_beamphysics import FieldMesh\n",
    "import numpy as np\n",
    "import os\n",
    "\n",
    "from impact.interfaces.bmad import (\n",
    "    tao_create_impact_emfield_cartesian_ele,\n",
    "    tao_create_impact_lattice_and_fieldmaps,\n",
    "    impact_from_tao,\n",
    ")\n",
    "from pmd_beamphysics.fields.corrector_modeling import make_dipole_corrector_fieldmesh\n",
    "\n",
    "\n",
    "import matplotlib.pyplot as plt"
   ]
  },
  {
   "cell_type": "code",
   "execution_count": null,
   "id": "4a1e110f-7a56-4472-b907-f873dc199813",
   "metadata": {},
   "outputs": [],
   "source": [
    "R = 2 * 2.54e-2  # 2\" radius [m]\n",
    "L = 0.1  # Length along z [m]\n",
    "theta = np.pi / 2  # Opening angle [rad]\n",
    "current = 100  # Current [Amp]\n",
    "\n",
    "FM1 = make_dipole_corrector_fieldmesh(\n",
    "    current=current,\n",
    "    xmin=-R,\n",
    "    xmax=R,\n",
    "    nx=21,\n",
    "    ymin=-R,\n",
    "    ymax=R,\n",
    "    ny=21,\n",
    "    zmin=-5 * L / 2,\n",
    "    zmax=5 * L / 2,\n",
    "    nz=101,\n",
    "    mode=\"saddle\",\n",
    "    R=R,\n",
    "    L=L,\n",
    "    theta=theta,\n",
    "    npts=20,\n",
    "    plot_wire=True,\n",
    "    tilt=0,\n",
    ")\n",
    "FM2 = make_dipole_corrector_fieldmesh(\n",
    "    current=current,\n",
    "    xmin=-R,\n",
    "    xmax=R,\n",
    "    nx=21,\n",
    "    ymin=-R,\n",
    "    ymax=R,\n",
    "    ny=21,\n",
    "    zmin=-5 * L / 2,\n",
    "    zmax=5 * L / 2,\n",
    "    nz=101,\n",
    "    mode=\"saddle\",\n",
    "    R=R,\n",
    "    L=L,\n",
    "    theta=theta,\n",
    "    npts=20,\n",
    "    plot_wire=True,\n",
    "    tilt=np.pi / 2,\n",
    ")"
   ]
  },
  {
   "cell_type": "markdown",
   "id": "d293bd33-76b1-4956-80a2-26cf81ee042a",
   "metadata": {},
   "source": [
    "Write for Bmad"
   ]
  },
  {
   "cell_type": "code",
   "execution_count": null,
   "id": "dd409ce9-d812-43e0-87a8-a1af539f8ad4",
   "metadata": {},
   "outputs": [],
   "source": [
    "FM1.write(\"correctorcoil_horizontal.h5\")\n",
    "FM2.write(\"correctorcoil_vertical.h5\")"
   ]
  },
  {
   "cell_type": "code",
   "execution_count": null,
   "id": "e8461f1a-e97a-44be-a391-4d9993ac2d8f",
   "metadata": {},
   "outputs": [],
   "source": [
    "FM1.zmax == -FM1.zmin"
   ]
  },
  {
   "cell_type": "markdown",
   "id": "c88137fc-8ed0-4016-9ee8-b588057db16f",
   "metadata": {},
   "source": [
    "# Run Tao"
   ]
  },
  {
   "cell_type": "code",
   "execution_count": null,
   "id": "7413b9d2-754b-4717-8ec6-4ee8215811b0",
   "metadata": {},
   "outputs": [],
   "source": [
    "tao = Tao(lattice_file=\"lat.bmad\", noplot=True)"
   ]
  },
  {
   "cell_type": "code",
   "execution_count": null,
   "id": "f4e7fa2a-0be0-4e78-b0ab-787ca9b13c1a",
   "metadata": {},
   "outputs": [],
   "source": [
    "IX_ELE = 2"
   ]
  },
  {
   "cell_type": "code",
   "execution_count": null,
   "id": "a3fb1f95-57af-44de-b94f-eb1151119fba",
   "metadata": {},
   "outputs": [],
   "source": [
    "grid_params = tao.ele_grid_field(IX_ELE, 1, \"base\")\n",
    "grid_params"
   ]
  },
  {
   "cell_type": "code",
   "execution_count": null,
   "id": "82dc669c-d745-4e25-b9d6-da3d57172cd5",
   "metadata": {},
   "outputs": [],
   "source": [
    "FM = FieldMesh(grid_params[\"file\"])\n",
    "FM.plot_onaxis([\"Bx\", \"By\"])"
   ]
  },
  {
   "cell_type": "code",
   "execution_count": null,
   "id": "f26e9727-b053-4d33-9d86-b12f9979d44a",
   "metadata": {},
   "outputs": [],
   "source": [
    "tao_create_impact_emfield_cartesian_ele(\n",
    "    tao, IX_ELE, file_id=666, output_path=None, cache=None, name=None\n",
    ")"
   ]
  },
  {
   "cell_type": "code",
   "execution_count": null,
   "id": "09b89500-87d8-4215-b4a9-308524eef153",
   "metadata": {},
   "outputs": [],
   "source": [
    "tao_create_impact_lattice_and_fieldmaps(tao)"
   ]
  },
  {
   "cell_type": "markdown",
   "id": "c90d8215-3735-4cfd-9687-6c9f711a4790",
   "metadata": {},
   "source": [
    "# Tao to Impact-T\n",
    "\n",
    "Add some \"errors\":"
   ]
  },
  {
   "cell_type": "code",
   "execution_count": null,
   "id": "0ff604a9-dd6b-4312-9b0c-6894faa14a84",
   "metadata": {},
   "outputs": [],
   "source": [
    "tao.cmd(\"set ele HCOIL tilt = pi/9\")\n",
    "tao.cmd(\"set ele HCOIL x_offset = -.01\")\n",
    "tao.cmd(\"set ele HCOIL y_offset = .02\")\n",
    "\n",
    "tao.cmd(\"set ele VCOIL tilt = pi/3\")\n",
    "tao.cmd(\"set ele VCOIL x_offset = .03\")\n",
    "tao.cmd(\"set ele VCOIL y_offset = .04\")"
   ]
  },
  {
   "cell_type": "code",
   "execution_count": null,
   "id": "ef419a43-840d-4da9-9f8c-7d48adb7ee68",
   "metadata": {},
   "outputs": [],
   "source": [
    "I = impact_from_tao(tao)\n",
    "I.track1(pz0=10e6)\n",
    "I.plot(\"mean_x\", ylim=(-0.001, 0.001))"
   ]
  },
  {
   "cell_type": "code",
   "execution_count": null,
   "id": "81e14de0-489d-456a-b094-e489225414b2",
   "metadata": {},
   "outputs": [],
   "source": [
    "!cat {I.path}/ImpactT.in"
   ]
  },
  {
   "cell_type": "markdown",
   "id": "d5d92aa3-d0a9-492b-b29c-7ae80c2231de",
   "metadata": {},
   "source": [
    "# Compare "
   ]
  },
  {
   "cell_type": "code",
   "execution_count": null,
   "id": "9f9f4681-1f05-48d8-acd0-fafe324cae94",
   "metadata": {},
   "outputs": [],
   "source": [
    "s1 = tao.lat_list(\"*\", \"ele.s\")\n",
    "x1 = tao.lat_list(\"*\", \"orbit.vec.1\")\n",
    "y1 = tao.lat_list(\"*\", \"orbit.vec.3\")\n",
    "\n",
    "z2 = I.stat(\"mean_z\")\n",
    "x2 = I.stat(\"mean_x\")\n",
    "y2 = I.stat(\"mean_y\")\n",
    "\n",
    "fix, axes = plt.subplots(2)\n",
    "axes[0].plot(s1, x1 * 1e3, marker=\"x\", label=\"Bmad\")\n",
    "axes[0].plot(z2, x2 * 1e3, label=\"Impact-T\")\n",
    "axes[0].legend()\n",
    "axes[1].plot(s1, y1 * 1e3, marker=\"*\", label=\"Bmad\")\n",
    "axes[1].plot(z2, y2 * 1e3, label=\"Impact-T\")\n",
    "\n",
    "plt.legend()\n",
    "axes[1].set_xlabel(r\"$z$ (m)\")\n",
    "axes[0].set_ylabel(r\"$x$ (mm)\")\n",
    "axes[1].set_ylabel(r\"$y$ (mm)\")"
   ]
  },
  {
   "cell_type": "markdown",
   "id": "c05685e5-2718-4eb9-8cb8-2d4fc7bb8daa",
   "metadata": {},
   "source": [
    "# Cleanup"
   ]
  },
  {
   "cell_type": "code",
   "execution_count": null,
   "id": "f46fa0bb-58c9-440c-8e72-253f57775b3e",
   "metadata": {},
   "outputs": [],
   "source": [
    "os.remove(\"correctorcoil_horizontal.h5\")\n",
    "os.remove(\"correctorcoil_vertical.h5\")"
   ]
  }
 ],
 "metadata": {
  "kernelspec": {
   "display_name": "Python 3 (ipykernel)",
   "language": "python",
   "name": "python3"
  },
  "language_info": {
   "codemirror_mode": {
    "name": "ipython",
    "version": 3
   },
   "file_extension": ".py",
   "mimetype": "text/x-python",
   "name": "python",
   "nbconvert_exporter": "python",
   "pygments_lexer": "ipython3",
   "version": "3.12.6"
  }
 },
 "nbformat": 4,
 "nbformat_minor": 5
}
