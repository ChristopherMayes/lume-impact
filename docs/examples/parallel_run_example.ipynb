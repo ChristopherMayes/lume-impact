{
 "cells": [
  {
   "cell_type": "markdown",
   "metadata": {},
   "source": [
    "# Parallel Impact-T run\n",
    "\n",
    "This example shows how to set up the Impact-T input files and run script, but to leave the running to the user. \n",
    "\n"
   ]
  },
  {
   "cell_type": "code",
   "execution_count": null,
   "metadata": {
    "execution": {
     "iopub.execute_input": "2025-02-12T18:07:17.696811Z",
     "iopub.status.busy": "2025-02-12T18:07:17.696724Z",
     "iopub.status.idle": "2025-02-12T18:07:18.716963Z",
     "shell.execute_reply": "2025-02-12T18:07:18.716680Z"
    }
   },
   "outputs": [],
   "source": [
    "from impact import Impact\n",
    "import os\n",
    "\n",
    "# Nicer plotting\n",
    "import matplotlib\n",
    "\n",
    "%config InlineBackend.figure_format = 'retina'\n",
    "matplotlib.rcParams[\"figure.figsize\"] = (8, 4)\n",
    "\n",
    "NUMPROCS = 0  # auto-select"
   ]
  },
  {
   "cell_type": "code",
   "execution_count": null,
   "metadata": {
    "execution": {
     "iopub.execute_input": "2025-02-12T18:07:18.718453Z",
     "iopub.status.busy": "2025-02-12T18:07:18.718264Z",
     "iopub.status.idle": "2025-02-12T18:07:18.721357Z",
     "shell.execute_reply": "2025-02-12T18:07:18.721106Z"
    }
   },
   "outputs": [],
   "source": [
    "ifile = \"templates/lcls_injector/ImpactT.in\"\n",
    "os.path.exists(ifile)"
   ]
  },
  {
   "cell_type": "code",
   "execution_count": null,
   "metadata": {
    "execution": {
     "iopub.execute_input": "2025-02-12T18:07:18.742716Z",
     "iopub.status.busy": "2025-02-12T18:07:18.742559Z",
     "iopub.status.idle": "2025-02-12T18:07:18.746679Z",
     "shell.execute_reply": "2025-02-12T18:07:18.746439Z"
    }
   },
   "outputs": [],
   "source": [
    "# Make Impact object\n",
    "I = Impact(ifile)\n",
    "\n",
    "# Change some things\n",
    "I.header[\"Np\"] = 10000 // 2  # Make smaller problem for speed\n",
    "I.header[\"Nx\"] = 32 // 2\n",
    "I.header[\"Ny\"] = 32 // 2\n",
    "I.header[\"Nz\"] = 32 // 2\n",
    "I.header[\"Dt\"] = 5e-13\n",
    "I.stop = 3\n",
    "\n",
    "# Turn on MPI and set parallel domain\n",
    "I.numprocs = NUMPROCS\n",
    "\n",
    "I.path"
   ]
  },
  {
   "cell_type": "code",
   "execution_count": null,
   "metadata": {
    "execution": {
     "iopub.execute_input": "2025-02-12T18:07:18.748025Z",
     "iopub.status.busy": "2025-02-12T18:07:18.747941Z",
     "iopub.status.idle": "2025-02-12T18:07:18.753999Z",
     "shell.execute_reply": "2025-02-12T18:07:18.753747Z"
    }
   },
   "outputs": [],
   "source": [
    "# Write input to workdir\n",
    "I.write_input()\n",
    "\n",
    "# This will be the working path\n",
    "I.path"
   ]
  },
  {
   "cell_type": "code",
   "execution_count": null,
   "metadata": {
    "execution": {
     "iopub.execute_input": "2025-02-12T18:07:18.755159Z",
     "iopub.status.busy": "2025-02-12T18:07:18.755051Z",
     "iopub.status.idle": "2025-02-12T18:07:18.881338Z",
     "shell.execute_reply": "2025-02-12T18:07:18.880743Z"
    }
   },
   "outputs": [],
   "source": [
    "!cat {I.path}/ImpactT.in"
   ]
  },
  {
   "cell_type": "markdown",
   "metadata": {},
   "source": [
    "# Run externally \n",
    "Parallel jobs often need to be run on special nodes and/or submitted to a queue, invoking the run script:"
   ]
  },
  {
   "cell_type": "code",
   "execution_count": null,
   "metadata": {
    "execution": {
     "iopub.execute_input": "2025-02-12T18:07:18.883365Z",
     "iopub.status.busy": "2025-02-12T18:07:18.883187Z",
     "iopub.status.idle": "2025-02-12T18:07:18.886056Z",
     "shell.execute_reply": "2025-02-12T18:07:18.885767Z"
    }
   },
   "outputs": [],
   "source": [
    "I.path"
   ]
  },
  {
   "cell_type": "code",
   "execution_count": null,
   "metadata": {
    "execution": {
     "iopub.execute_input": "2025-02-12T18:07:18.887462Z",
     "iopub.status.busy": "2025-02-12T18:07:18.887322Z",
     "iopub.status.idle": "2025-02-12T18:07:19.011341Z",
     "shell.execute_reply": "2025-02-12T18:07:19.010772Z"
    }
   },
   "outputs": [],
   "source": [
    "!cat {I.path}/run"
   ]
  },
  {
   "cell_type": "markdown",
   "metadata": {},
   "source": [
    "Here we will do a quick run "
   ]
  },
  {
   "cell_type": "code",
   "execution_count": null,
   "metadata": {
    "execution": {
     "iopub.execute_input": "2025-02-12T18:07:19.013512Z",
     "iopub.status.busy": "2025-02-12T18:07:19.013309Z",
     "iopub.status.idle": "2025-02-12T18:07:37.870827Z",
     "shell.execute_reply": "2025-02-12T18:07:37.870455Z"
    }
   },
   "outputs": [],
   "source": [
    "%%time\n",
    "!cd {I.path};./run >log.txt"
   ]
  },
  {
   "cell_type": "code",
   "execution_count": null,
   "metadata": {
    "execution": {
     "iopub.execute_input": "2025-02-12T18:07:37.872461Z",
     "iopub.status.busy": "2025-02-12T18:07:37.872335Z",
     "iopub.status.idle": "2025-02-12T18:07:37.874144Z",
     "shell.execute_reply": "2025-02-12T18:07:37.873920Z"
    }
   },
   "outputs": [],
   "source": [
    "# Save into template for the other examples to use\n",
    "# OUTPATH = os.path.join(os.path.split(ifile)[0], 'output/')\n",
    "#!cp {I.path}/fort* {OUTPATH}"
   ]
  },
  {
   "cell_type": "markdown",
   "metadata": {},
   "source": [
    "# Collect output"
   ]
  },
  {
   "cell_type": "code",
   "execution_count": null,
   "metadata": {
    "execution": {
     "iopub.execute_input": "2025-02-12T18:07:37.875286Z",
     "iopub.status.busy": "2025-02-12T18:07:37.875200Z",
     "iopub.status.idle": "2025-02-12T18:07:37.992237Z",
     "shell.execute_reply": "2025-02-12T18:07:37.991978Z"
    }
   },
   "outputs": [],
   "source": [
    "I.verbose = True\n",
    "# Load output\n",
    "I.load_output()"
   ]
  },
  {
   "cell_type": "code",
   "execution_count": null,
   "metadata": {
    "execution": {
     "iopub.execute_input": "2025-02-12T18:07:37.993466Z",
     "iopub.status.busy": "2025-02-12T18:07:37.993356Z",
     "iopub.status.idle": "2025-02-12T18:07:38.245906Z",
     "shell.execute_reply": "2025-02-12T18:07:38.245630Z"
    }
   },
   "outputs": [],
   "source": [
    "I.plot(ylim=(0, 0.002))"
   ]
  },
  {
   "cell_type": "markdown",
   "metadata": {},
   "source": [
    "# Alternative: load into new object\n",
    "If this notebook went out of scope, or the run was done previously, we'd need to load the output into a new object."
   ]
  },
  {
   "cell_type": "code",
   "execution_count": null,
   "metadata": {
    "execution": {
     "iopub.execute_input": "2025-02-12T18:07:38.247483Z",
     "iopub.status.busy": "2025-02-12T18:07:38.247381Z",
     "iopub.status.idle": "2025-02-12T18:07:38.250777Z",
     "shell.execute_reply": "2025-02-12T18:07:38.250539Z"
    }
   },
   "outputs": [],
   "source": [
    "I2 = Impact(f\"{I.path}/ImpactT.in\", use_temp_dir=False)"
   ]
  },
  {
   "cell_type": "code",
   "execution_count": null,
   "metadata": {
    "execution": {
     "iopub.execute_input": "2025-02-12T18:07:38.252088Z",
     "iopub.status.busy": "2025-02-12T18:07:38.251992Z",
     "iopub.status.idle": "2025-02-12T18:07:38.359562Z",
     "shell.execute_reply": "2025-02-12T18:07:38.359235Z"
    }
   },
   "outputs": [],
   "source": [
    "I2.load_output()"
   ]
  },
  {
   "cell_type": "code",
   "execution_count": null,
   "metadata": {
    "execution": {
     "iopub.execute_input": "2025-02-12T18:07:38.361075Z",
     "iopub.status.busy": "2025-02-12T18:07:38.360982Z",
     "iopub.status.idle": "2025-02-12T18:07:38.529970Z",
     "shell.execute_reply": "2025-02-12T18:07:38.529700Z"
    }
   },
   "outputs": [],
   "source": [
    "I.plot(ylim=(0, 0.002))"
   ]
  },
  {
   "cell_type": "markdown",
   "metadata": {},
   "source": [
    "# Archiving\n",
    "Archiving is the same as in the simple example"
   ]
  },
  {
   "cell_type": "code",
   "execution_count": null,
   "metadata": {
    "execution": {
     "iopub.execute_input": "2025-02-12T18:07:38.531353Z",
     "iopub.status.busy": "2025-02-12T18:07:38.531250Z",
     "iopub.status.idle": "2025-02-12T18:07:38.579704Z",
     "shell.execute_reply": "2025-02-12T18:07:38.579457Z"
    }
   },
   "outputs": [],
   "source": [
    "afile = os.path.expandvars(\"output.h5\")\n",
    "I2.archive(afile)"
   ]
  },
  {
   "cell_type": "code",
   "execution_count": null,
   "metadata": {
    "execution": {
     "iopub.execute_input": "2025-02-12T18:07:38.580851Z",
     "iopub.status.busy": "2025-02-12T18:07:38.580752Z",
     "iopub.status.idle": "2025-02-12T18:07:38.582477Z",
     "shell.execute_reply": "2025-02-12T18:07:38.582257Z"
    }
   },
   "outputs": [],
   "source": [
    "# Cleanup\n",
    "os.remove(afile)"
   ]
  }
 ],
 "metadata": {
  "kernelspec": {
   "display_name": "Python 3 (ipykernel)",
   "language": "python",
   "name": "python3"
  },
  "language_info": {
   "codemirror_mode": {
    "name": "ipython",
    "version": 3
   },
   "file_extension": ".py",
   "mimetype": "text/x-python",
   "name": "python",
   "nbconvert_exporter": "python",
   "pygments_lexer": "ipython3",
   "version": "3.12.8"
  }
 },
 "nbformat": 4,
 "nbformat_minor": 4
}
