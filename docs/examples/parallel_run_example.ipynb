{
 "cells": [
  {
   "cell_type": "markdown",
   "metadata": {},
   "source": [
    "# Parallel Impact-T run\n",
    "\n",
    "This example shows how to set up the Impact-T input files and run script, but to leave the running to the user. \n",
    "\n"
   ]
  },
  {
   "cell_type": "code",
   "execution_count": null,
   "metadata": {
    "execution": {
     "iopub.execute_input": "2025-02-20T21:26:12.335321Z",
     "iopub.status.busy": "2025-02-20T21:26:12.335236Z",
     "iopub.status.idle": "2025-02-20T21:26:13.377996Z",
     "shell.execute_reply": "2025-02-20T21:26:13.377675Z"
    }
   },
   "outputs": [],
   "source": [
    "from impact import Impact\n",
    "import os\n",
    "\n",
    "# Nicer plotting\n",
    "import matplotlib\n",
    "\n",
    "%config InlineBackend.figure_format = 'retina'\n",
    "matplotlib.rcParams[\"figure.figsize\"] = (8, 4)\n",
    "\n",
    "NUMPROCS = 0  # auto-select"
   ]
  },
  {
   "cell_type": "code",
   "execution_count": null,
   "metadata": {
    "execution": {
     "iopub.execute_input": "2025-02-20T21:26:13.380043Z",
     "iopub.status.busy": "2025-02-20T21:26:13.379747Z",
     "iopub.status.idle": "2025-02-20T21:26:13.382852Z",
     "shell.execute_reply": "2025-02-20T21:26:13.382543Z"
    }
   },
   "outputs": [],
   "source": [
    "ifile = \"templates/lcls_injector/ImpactT.in\"\n",
    "os.path.exists(ifile)"
   ]
  },
  {
   "cell_type": "code",
   "execution_count": null,
   "metadata": {
    "execution": {
     "iopub.execute_input": "2025-02-20T21:26:13.402999Z",
     "iopub.status.busy": "2025-02-20T21:26:13.402873Z",
     "iopub.status.idle": "2025-02-20T21:26:13.406598Z",
     "shell.execute_reply": "2025-02-20T21:26:13.406347Z"
    }
   },
   "outputs": [],
   "source": [
    "# Make Impact object\n",
    "I = Impact(ifile)\n",
    "\n",
    "# Change some things\n",
    "I.header[\"Np\"] = 10000 // 2  # Make smaller problem for speed\n",
    "I.header[\"Nx\"] = 32 // 2\n",
    "I.header[\"Ny\"] = 32 // 2\n",
    "I.header[\"Nz\"] = 32 // 2\n",
    "I.header[\"Dt\"] = 5e-13\n",
    "I.stop = 3\n",
    "\n",
    "# Turn on MPI and set parallel domain\n",
    "I.numprocs = NUMPROCS\n",
    "\n",
    "I.path"
   ]
  },
  {
   "cell_type": "code",
   "execution_count": null,
   "metadata": {
    "execution": {
     "iopub.execute_input": "2025-02-20T21:26:13.407810Z",
     "iopub.status.busy": "2025-02-20T21:26:13.407732Z",
     "iopub.status.idle": "2025-02-20T21:26:13.414999Z",
     "shell.execute_reply": "2025-02-20T21:26:13.414787Z"
    }
   },
   "outputs": [],
   "source": [
    "# Write input to workdir\n",
    "I.write_input()\n",
    "\n",
    "# This will be the working path\n",
    "I.path"
   ]
  },
  {
   "cell_type": "code",
   "execution_count": null,
   "metadata": {
    "execution": {
     "iopub.execute_input": "2025-02-20T21:26:13.416089Z",
     "iopub.status.busy": "2025-02-20T21:26:13.416001Z",
     "iopub.status.idle": "2025-02-20T21:26:13.542044Z",
     "shell.execute_reply": "2025-02-20T21:26:13.541636Z"
    }
   },
   "outputs": [],
   "source": [
    "!cat {I.path}/ImpactT.in"
   ]
  },
  {
   "cell_type": "markdown",
   "metadata": {},
   "source": [
    "# Run externally \n",
    "Parallel jobs often need to be run on special nodes and/or submitted to a queue, invoking the run script:"
   ]
  },
  {
   "cell_type": "code",
   "execution_count": null,
   "metadata": {
    "execution": {
     "iopub.execute_input": "2025-02-20T21:26:13.543784Z",
     "iopub.status.busy": "2025-02-20T21:26:13.543652Z",
     "iopub.status.idle": "2025-02-20T21:26:13.546377Z",
     "shell.execute_reply": "2025-02-20T21:26:13.546134Z"
    }
   },
   "outputs": [],
   "source": [
    "I.path"
   ]
  },
  {
   "cell_type": "code",
   "execution_count": null,
   "metadata": {
    "execution": {
     "iopub.execute_input": "2025-02-20T21:26:13.547813Z",
     "iopub.status.busy": "2025-02-20T21:26:13.547693Z",
     "iopub.status.idle": "2025-02-20T21:26:13.669635Z",
     "shell.execute_reply": "2025-02-20T21:26:13.669206Z"
    }
   },
   "outputs": [],
   "source": [
    "!cat {I.path}/run"
   ]
  },
  {
   "cell_type": "markdown",
   "metadata": {},
   "source": [
    "Here we will do a quick run "
   ]
  },
  {
   "cell_type": "code",
   "execution_count": null,
   "metadata": {
    "execution": {
     "iopub.execute_input": "2025-02-20T21:26:13.671537Z",
     "iopub.status.busy": "2025-02-20T21:26:13.671391Z",
     "iopub.status.idle": "2025-02-20T21:28:26.390652Z",
     "shell.execute_reply": "2025-02-20T21:28:26.390320Z"
    }
   },
   "outputs": [],
   "source": [
    "%%time\n",
    "!cd {I.path};./run >log.txt"
   ]
  },
  {
   "cell_type": "code",
   "execution_count": null,
   "metadata": {
    "execution": {
     "iopub.execute_input": "2025-02-20T21:28:26.392124Z",
     "iopub.status.busy": "2025-02-20T21:28:26.392006Z",
     "iopub.status.idle": "2025-02-20T21:28:26.393874Z",
     "shell.execute_reply": "2025-02-20T21:28:26.393582Z"
    }
   },
   "outputs": [],
   "source": [
    "# Save into template for the other examples to use\n",
    "# OUTPATH = os.path.join(os.path.split(ifile)[0], 'output/')\n",
    "#!cp {I.path}/fort* {OUTPATH}"
   ]
  },
  {
   "cell_type": "markdown",
   "metadata": {},
   "source": [
    "# Collect output"
   ]
  },
  {
   "cell_type": "code",
   "execution_count": null,
   "metadata": {
    "execution": {
     "iopub.execute_input": "2025-02-20T21:28:26.395469Z",
     "iopub.status.busy": "2025-02-20T21:28:26.395360Z",
     "iopub.status.idle": "2025-02-20T21:28:26.508438Z",
     "shell.execute_reply": "2025-02-20T21:28:26.508163Z"
    }
   },
   "outputs": [],
   "source": [
    "I.verbose = True\n",
    "# Load output\n",
    "I.load_output()"
   ]
  },
  {
   "cell_type": "code",
   "execution_count": null,
   "metadata": {
    "execution": {
     "iopub.execute_input": "2025-02-20T21:28:26.509684Z",
     "iopub.status.busy": "2025-02-20T21:28:26.509591Z",
     "iopub.status.idle": "2025-02-20T21:28:26.747955Z",
     "shell.execute_reply": "2025-02-20T21:28:26.747551Z"
    }
   },
   "outputs": [],
   "source": [
    "I.plot(ylim=(0, 0.002))"
   ]
  },
  {
   "cell_type": "markdown",
   "metadata": {},
   "source": [
    "# Alternative: load into new object\n",
    "If this notebook went out of scope, or the run was done previously, we'd need to load the output into a new object."
   ]
  },
  {
   "cell_type": "code",
   "execution_count": null,
   "metadata": {
    "execution": {
     "iopub.execute_input": "2025-02-20T21:28:26.749524Z",
     "iopub.status.busy": "2025-02-20T21:28:26.749394Z",
     "iopub.status.idle": "2025-02-20T21:28:26.752474Z",
     "shell.execute_reply": "2025-02-20T21:28:26.752104Z"
    }
   },
   "outputs": [],
   "source": [
    "I2 = Impact(f\"{I.path}/ImpactT.in\", use_temp_dir=False)"
   ]
  },
  {
   "cell_type": "code",
   "execution_count": null,
   "metadata": {
    "execution": {
     "iopub.execute_input": "2025-02-20T21:28:26.753656Z",
     "iopub.status.busy": "2025-02-20T21:28:26.753554Z",
     "iopub.status.idle": "2025-02-20T21:28:26.864511Z",
     "shell.execute_reply": "2025-02-20T21:28:26.864180Z"
    }
   },
   "outputs": [],
   "source": [
    "I2.load_output()"
   ]
  },
  {
   "cell_type": "code",
   "execution_count": null,
   "metadata": {
    "execution": {
     "iopub.execute_input": "2025-02-20T21:28:26.865987Z",
     "iopub.status.busy": "2025-02-20T21:28:26.865897Z",
     "iopub.status.idle": "2025-02-20T21:28:27.049976Z",
     "shell.execute_reply": "2025-02-20T21:28:27.049669Z"
    }
   },
   "outputs": [],
   "source": [
    "I.plot(ylim=(0, 0.002))"
   ]
  },
  {
   "cell_type": "markdown",
   "metadata": {},
   "source": [
    "# Archiving\n",
    "Archiving is the same as in the simple example"
   ]
  },
  {
   "cell_type": "code",
   "execution_count": null,
   "metadata": {
    "execution": {
     "iopub.execute_input": "2025-02-20T21:28:27.051466Z",
     "iopub.status.busy": "2025-02-20T21:28:27.051341Z",
     "iopub.status.idle": "2025-02-20T21:28:27.098680Z",
     "shell.execute_reply": "2025-02-20T21:28:27.098400Z"
    }
   },
   "outputs": [],
   "source": [
    "afile = os.path.expandvars(\"output.h5\")\n",
    "I2.archive(afile)"
   ]
  },
  {
   "cell_type": "code",
   "execution_count": null,
   "metadata": {
    "execution": {
     "iopub.execute_input": "2025-02-20T21:28:27.099938Z",
     "iopub.status.busy": "2025-02-20T21:28:27.099854Z",
     "iopub.status.idle": "2025-02-20T21:28:27.101574Z",
     "shell.execute_reply": "2025-02-20T21:28:27.101390Z"
    }
   },
   "outputs": [],
   "source": [
    "# Cleanup\n",
    "os.remove(afile)"
   ]
  }
 ],
 "metadata": {
  "kernelspec": {
   "display_name": "Python 3 (ipykernel)",
   "language": "python",
   "name": "python3"
  },
  "language_info": {
   "codemirror_mode": {
    "name": "ipython",
    "version": 3
   },
   "file_extension": ".py",
   "mimetype": "text/x-python",
   "name": "python",
   "nbconvert_exporter": "python",
   "pygments_lexer": "ipython3",
   "version": "3.12.8"
  }
 },
 "nbformat": 4,
 "nbformat_minor": 4
}
