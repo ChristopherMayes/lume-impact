{
 "cells": [
  {
   "cell_type": "markdown",
   "metadata": {},
   "source": [
    "# Parallel Impact-T run\n",
    "\n",
    "This example shows how to set up the Impact-T input files and run script, but to leave the running to the user. \n",
    "\n"
   ]
  },
  {
   "cell_type": "code",
   "execution_count": null,
   "metadata": {
    "execution": {
     "iopub.execute_input": "2024-10-18T19:47:54.919362Z",
     "iopub.status.busy": "2024-10-18T19:47:54.919079Z",
     "iopub.status.idle": "2024-10-18T19:47:55.859014Z",
     "shell.execute_reply": "2024-10-18T19:47:55.858700Z"
    }
   },
   "outputs": [],
   "source": [
    "from impact import Impact\n",
    "import os\n",
    "\n",
    "# Nicer plotting\n",
    "import matplotlib\n",
    "\n",
    "%config InlineBackend.figure_format = 'retina'\n",
    "matplotlib.rcParams[\"figure.figsize\"] = (8, 4)\n",
    "\n",
    "NUMPROCS = 0  # auto-select"
   ]
  },
  {
   "cell_type": "code",
   "execution_count": null,
   "metadata": {
    "execution": {
     "iopub.execute_input": "2024-10-18T19:47:55.860769Z",
     "iopub.status.busy": "2024-10-18T19:47:55.860621Z",
     "iopub.status.idle": "2024-10-18T19:47:55.863694Z",
     "shell.execute_reply": "2024-10-18T19:47:55.863467Z"
    }
   },
   "outputs": [],
   "source": [
    "ifile = \"templates/lcls_injector/ImpactT.in\"\n",
    "os.path.exists(ifile)"
   ]
  },
  {
   "cell_type": "code",
   "execution_count": null,
   "metadata": {
    "execution": {
     "iopub.execute_input": "2024-10-18T19:47:55.884683Z",
     "iopub.status.busy": "2024-10-18T19:47:55.884549Z",
     "iopub.status.idle": "2024-10-18T19:47:55.888326Z",
     "shell.execute_reply": "2024-10-18T19:47:55.888099Z"
    }
   },
   "outputs": [],
   "source": [
    "# Make Impact object\n",
    "I = Impact(ifile)\n",
    "\n",
    "# Change some things\n",
    "I.header[\"Np\"] = 10000 // 2  # Make smaller problem for speed\n",
    "I.header[\"Nx\"] = 32 // 2\n",
    "I.header[\"Ny\"] = 32 // 2\n",
    "I.header[\"Nz\"] = 32 // 2\n",
    "I.header[\"Dt\"] = 5e-13\n",
    "I.stop = 3\n",
    "\n",
    "# Turn on MPI and set parallel domain\n",
    "I.numprocs = NUMPROCS\n",
    "\n",
    "I.path"
   ]
  },
  {
   "cell_type": "code",
   "execution_count": null,
   "metadata": {
    "execution": {
     "iopub.execute_input": "2024-10-18T19:47:55.889565Z",
     "iopub.status.busy": "2024-10-18T19:47:55.889489Z",
     "iopub.status.idle": "2024-10-18T19:47:55.895315Z",
     "shell.execute_reply": "2024-10-18T19:47:55.895087Z"
    }
   },
   "outputs": [],
   "source": [
    "# Write input to workdir\n",
    "I.write_input()\n",
    "\n",
    "# This will be the working path\n",
    "I.path"
   ]
  },
  {
   "cell_type": "code",
   "execution_count": null,
   "metadata": {
    "execution": {
     "iopub.execute_input": "2024-10-18T19:47:55.896597Z",
     "iopub.status.busy": "2024-10-18T19:47:55.896502Z",
     "iopub.status.idle": "2024-10-18T19:47:56.019579Z",
     "shell.execute_reply": "2024-10-18T19:47:56.019054Z"
    }
   },
   "outputs": [],
   "source": [
    "!cat {I.path}/ImpactT.in"
   ]
  },
  {
   "cell_type": "markdown",
   "metadata": {},
   "source": [
    "# Run externally \n",
    "Parallel jobs often need to be run on special nodes and/or submitted to a queue, invoking the run script:"
   ]
  },
  {
   "cell_type": "code",
   "execution_count": null,
   "metadata": {
    "execution": {
     "iopub.execute_input": "2024-10-18T19:47:56.021958Z",
     "iopub.status.busy": "2024-10-18T19:47:56.021770Z",
     "iopub.status.idle": "2024-10-18T19:47:56.024539Z",
     "shell.execute_reply": "2024-10-18T19:47:56.024273Z"
    }
   },
   "outputs": [],
   "source": [
    "I.path"
   ]
  },
  {
   "cell_type": "code",
   "execution_count": null,
   "metadata": {
    "execution": {
     "iopub.execute_input": "2024-10-18T19:47:56.026274Z",
     "iopub.status.busy": "2024-10-18T19:47:56.026108Z",
     "iopub.status.idle": "2024-10-18T19:47:56.148147Z",
     "shell.execute_reply": "2024-10-18T19:47:56.147563Z"
    }
   },
   "outputs": [],
   "source": [
    "!cat {I.path}/run"
   ]
  },
  {
   "cell_type": "markdown",
   "metadata": {},
   "source": [
    "Here we will do a quick run "
   ]
  },
  {
   "cell_type": "code",
   "execution_count": null,
   "metadata": {
    "execution": {
     "iopub.execute_input": "2024-10-18T19:47:56.151004Z",
     "iopub.status.busy": "2024-10-18T19:47:56.150782Z",
     "iopub.status.idle": "2024-10-18T19:48:01.504417Z",
     "shell.execute_reply": "2024-10-18T19:48:01.503756Z"
    }
   },
   "outputs": [],
   "source": [
    "%%time\n",
    "!cd {I.path};./run >log.txt"
   ]
  },
  {
   "cell_type": "code",
   "execution_count": null,
   "metadata": {
    "execution": {
     "iopub.execute_input": "2024-10-18T19:48:01.507005Z",
     "iopub.status.busy": "2024-10-18T19:48:01.506789Z",
     "iopub.status.idle": "2024-10-18T19:48:01.509021Z",
     "shell.execute_reply": "2024-10-18T19:48:01.508717Z"
    }
   },
   "outputs": [],
   "source": [
    "# Save into template for the other examples to use\n",
    "# OUTPATH = os.path.join(os.path.split(ifile)[0], 'output/')\n",
    "#!cp {I.path}/fort* {OUTPATH}"
   ]
  },
  {
   "cell_type": "markdown",
   "metadata": {},
   "source": [
    "# Collect output"
   ]
  },
  {
   "cell_type": "code",
   "execution_count": null,
   "metadata": {
    "execution": {
     "iopub.execute_input": "2024-10-18T19:48:01.510806Z",
     "iopub.status.busy": "2024-10-18T19:48:01.510667Z",
     "iopub.status.idle": "2024-10-18T19:48:01.624935Z",
     "shell.execute_reply": "2024-10-18T19:48:01.624704Z"
    }
   },
   "outputs": [],
   "source": [
    "I.verbose = True\n",
    "# Load output\n",
    "I.load_output()"
   ]
  },
  {
   "cell_type": "code",
   "execution_count": null,
   "metadata": {
    "execution": {
     "iopub.execute_input": "2024-10-18T19:48:01.626322Z",
     "iopub.status.busy": "2024-10-18T19:48:01.626232Z",
     "iopub.status.idle": "2024-10-18T19:48:01.865040Z",
     "shell.execute_reply": "2024-10-18T19:48:01.864759Z"
    }
   },
   "outputs": [],
   "source": [
    "I.plot(ylim=(0, 0.002))"
   ]
  },
  {
   "cell_type": "markdown",
   "metadata": {},
   "source": [
    "# Alternative: load into new object\n",
    "If this notebook went out of scope, or the run was done previously, we'd need to load the output into a new object."
   ]
  },
  {
   "cell_type": "code",
   "execution_count": null,
   "metadata": {
    "execution": {
     "iopub.execute_input": "2024-10-18T19:48:01.866562Z",
     "iopub.status.busy": "2024-10-18T19:48:01.866458Z",
     "iopub.status.idle": "2024-10-18T19:48:01.869213Z",
     "shell.execute_reply": "2024-10-18T19:48:01.869010Z"
    }
   },
   "outputs": [],
   "source": [
    "I2 = Impact(f\"{I.path}/ImpactT.in\", use_temp_dir=False)"
   ]
  },
  {
   "cell_type": "code",
   "execution_count": null,
   "metadata": {
    "execution": {
     "iopub.execute_input": "2024-10-18T19:48:01.870575Z",
     "iopub.status.busy": "2024-10-18T19:48:01.870473Z",
     "iopub.status.idle": "2024-10-18T19:48:01.974689Z",
     "shell.execute_reply": "2024-10-18T19:48:01.974342Z"
    }
   },
   "outputs": [],
   "source": [
    "I2.load_output()"
   ]
  },
  {
   "cell_type": "code",
   "execution_count": null,
   "metadata": {
    "execution": {
     "iopub.execute_input": "2024-10-18T19:48:01.976253Z",
     "iopub.status.busy": "2024-10-18T19:48:01.976165Z",
     "iopub.status.idle": "2024-10-18T19:48:02.187743Z",
     "shell.execute_reply": "2024-10-18T19:48:02.187453Z"
    }
   },
   "outputs": [],
   "source": [
    "I.plot(ylim=(0, 0.002))"
   ]
  },
  {
   "cell_type": "markdown",
   "metadata": {},
   "source": [
    "# Archiving\n",
    "Archiving is the same as in the simple example"
   ]
  },
  {
   "cell_type": "code",
   "execution_count": null,
   "metadata": {
    "execution": {
     "iopub.execute_input": "2024-10-18T19:48:02.189308Z",
     "iopub.status.busy": "2024-10-18T19:48:02.189196Z",
     "iopub.status.idle": "2024-10-18T19:48:02.240260Z",
     "shell.execute_reply": "2024-10-18T19:48:02.240000Z"
    }
   },
   "outputs": [],
   "source": [
    "afile = os.path.expandvars(\"output.h5\")\n",
    "I2.archive(afile)"
   ]
  },
  {
   "cell_type": "code",
   "execution_count": null,
   "metadata": {
    "execution": {
     "iopub.execute_input": "2024-10-18T19:48:02.241691Z",
     "iopub.status.busy": "2024-10-18T19:48:02.241586Z",
     "iopub.status.idle": "2024-10-18T19:48:02.243181Z",
     "shell.execute_reply": "2024-10-18T19:48:02.242984Z"
    }
   },
   "outputs": [],
   "source": [
    "# Cleanup\n",
    "os.remove(afile)"
   ]
  }
 ],
 "metadata": {
  "kernelspec": {
   "display_name": "Python 3 (ipykernel)",
   "language": "python",
   "name": "python3"
  },
  "language_info": {
   "codemirror_mode": {
    "name": "ipython",
    "version": 3
   },
   "file_extension": ".py",
   "mimetype": "text/x-python",
   "name": "python",
   "nbconvert_exporter": "python",
   "pygments_lexer": "ipython3",
   "version": "3.12.6"
  }
 },
 "nbformat": 4,
 "nbformat_minor": 4
}
