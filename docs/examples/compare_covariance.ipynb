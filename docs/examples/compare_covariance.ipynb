{
 "cells": [
  {
   "cell_type": "markdown",
   "id": "b650d838-a114-4b02-85cb-90766304b8fa",
   "metadata": {},
   "source": [
    "# Compare Impact-T particle and stat covariance\n",
    "\n",
    "This is to check the interpretation of the `fort.32` covariance matrix data. Some elements differ from particles in `fort.50`:\n",
    "- $<x, z>$\n",
    "- $<x, pz>$\n",
    "- $<y, z>$\n",
    "- $<y, pz>$\n",
    "\n",
    "This is because the stats can be computed at the same time t (`Fladdiag=1`) or drifted to the same z (`Fladdiag=2`)."
   ]
  },
  {
   "cell_type": "code",
   "execution_count": null,
   "id": "26da3198-a030-4e77-8080-04f42e5cd1c4",
   "metadata": {
    "execution": {
     "iopub.execute_input": "2025-02-20T21:20:50.506482Z",
     "iopub.status.busy": "2025-02-20T21:20:50.506390Z",
     "iopub.status.idle": "2025-02-20T21:20:51.601034Z",
     "shell.execute_reply": "2025-02-20T21:20:51.600735Z"
    }
   },
   "outputs": [],
   "source": [
    "from impact import Impact\n",
    "from impact.lattice import new_write_beam\n",
    "\n",
    "import numpy as np\n",
    "from pathlib import Path\n",
    "from pmd_beamphysics.units import c_light\n",
    "import matplotlib.pyplot as plt\n",
    "\n",
    "%config InlineBackend.figure_format = 'retina'\n",
    "\n",
    "# Easier print\n",
    "np.set_printoptions(formatter={\"float\": lambda x: f\"{x:6.2e}\"}, linewidth=100)\n",
    "\n",
    "\n",
    "def printsymmat(matrix):\n",
    "    for i in range(6):\n",
    "        for j in range(6):\n",
    "            if j < i:\n",
    "                print(\n",
    "                    f\"{' ':>8}\", end=\" \"\n",
    "                )  # Print '-' for redundant lower triangle elements\n",
    "            else:\n",
    "                print(\n",
    "                    f\"{matrix[i][j]:8.2f}\", end=\" \"\n",
    "                )  # Print the number for upper triangle and diagonal\n",
    "        print()  # New line for each row"
   ]
  },
  {
   "cell_type": "markdown",
   "id": "db3850aa-f576-4a41-aded-fd20ccd442fb",
   "metadata": {},
   "source": [
    "# Make data"
   ]
  },
  {
   "cell_type": "code",
   "execution_count": null,
   "id": "e2aa010d-ea27-48e1-bc0c-61bbaffe13d2",
   "metadata": {
    "execution": {
     "iopub.execute_input": "2025-02-20T21:20:51.603079Z",
     "iopub.status.busy": "2025-02-20T21:20:51.602885Z",
     "iopub.status.idle": "2025-02-20T21:21:00.204939Z",
     "shell.execute_reply": "2025-02-20T21:21:00.204630Z"
    }
   },
   "outputs": [],
   "source": [
    "def run_impact(drift_to_z=False):\n",
    "    ifile = \"templates/lcls_injector/ImpactT.in\"\n",
    "    I = Impact(ifile, verbose=False)\n",
    "    I.header[\"Np\"] = 1000\n",
    "    # Turn Space Charge off.\n",
    "    I.header[\"Bcurr\"] = 0\n",
    "    if drift_to_z:\n",
    "        I.header[\"Flagdiag\"] = 2\n",
    "    else:\n",
    "        I.header[\"Flagdiag\"] = 1\n",
    "    I.stop = 1\n",
    "    I.numprocs = 0\n",
    "    # Make a list of s\n",
    "    for s in np.linspace(0.001, 1, 20):\n",
    "        ele = new_write_beam(\n",
    "            s=s, ref_eles=I.lattice\n",
    "        )  # ref_eles will ensure that there are no naming conflicts\n",
    "        I.add_ele(ele)\n",
    "    I.run()\n",
    "    return I\n",
    "\n",
    "\n",
    "# Make two sets of data\n",
    "It = run_impact(drift_to_z=False)\n",
    "Iz = run_impact(drift_to_z=True)\n",
    "\n",
    "It.plot()"
   ]
  },
  {
   "cell_type": "markdown",
   "id": "949c988d-2a78-402b-9770-cf2317daea7e",
   "metadata": {},
   "source": [
    "# Compare drift to z off/on:"
   ]
  },
  {
   "cell_type": "code",
   "execution_count": null,
   "id": "035bac21-09c2-4e46-94d4-86c0d1edf1d8",
   "metadata": {
    "execution": {
     "iopub.execute_input": "2025-02-20T21:21:00.206408Z",
     "iopub.status.busy": "2025-02-20T21:21:00.206284Z",
     "iopub.status.idle": "2025-02-20T21:21:00.347634Z",
     "shell.execute_reply": "2025-02-20T21:21:00.347369Z"
    }
   },
   "outputs": [],
   "source": [
    "for key in (\"cov_x__z\", \"cov_x__pz\", \"cov_y__z\", \"cov_y__pz\")[0:1]:\n",
    "    It.plot(key)"
   ]
  },
  {
   "cell_type": "code",
   "execution_count": null,
   "id": "eb55579b-e089-42da-94a2-c393551e4546",
   "metadata": {
    "execution": {
     "iopub.execute_input": "2025-02-20T21:21:00.349004Z",
     "iopub.status.busy": "2025-02-20T21:21:00.348895Z",
     "iopub.status.idle": "2025-02-20T21:21:00.488167Z",
     "shell.execute_reply": "2025-02-20T21:21:00.487893Z"
    }
   },
   "outputs": [],
   "source": [
    "for key in (\"cov_x__z\", \"cov_x__pz\", \"cov_y__z\", \"cov_y__pz\")[0:1]:\n",
    "    Iz.plot(key)"
   ]
  },
  {
   "cell_type": "markdown",
   "id": "0155f229-3e8e-4e18-bd4c-6904fd50a65e",
   "metadata": {},
   "source": [
    "# fort.32 covariance matrix data\n",
    "\n",
    "Load and label the data"
   ]
  },
  {
   "cell_type": "code",
   "execution_count": null,
   "id": "3d53ffa4-26bf-420a-ab67-604a390144e6",
   "metadata": {
    "execution": {
     "iopub.execute_input": "2025-02-20T21:21:00.489586Z",
     "iopub.status.busy": "2025-02-20T21:21:00.489473Z",
     "iopub.status.idle": "2025-02-20T21:21:00.491188Z",
     "shell.execute_reply": "2025-02-20T21:21:00.490960Z"
    }
   },
   "outputs": [],
   "source": [
    "root = Path(It.path)"
   ]
  },
  {
   "cell_type": "code",
   "execution_count": null,
   "id": "3000efbc-b91b-4ef5-8f6a-aefe21792e9f",
   "metadata": {
    "execution": {
     "iopub.execute_input": "2025-02-20T21:21:00.492321Z",
     "iopub.status.busy": "2025-02-20T21:21:00.492239Z",
     "iopub.status.idle": "2025-02-20T21:21:00.496183Z",
     "shell.execute_reply": "2025-02-20T21:21:00.495961Z"
    }
   },
   "outputs": [],
   "source": [
    "fdat = np.loadtxt(root / \"fort.32\")[-1, :]\n",
    "labels = [\n",
    "    \"z\",\n",
    "    \"z0avg*xl\",\n",
    "    \"xl\",\n",
    "    \"sqsum1\",\n",
    "    \"xpx\",\n",
    "    \"xy\",\n",
    "    \"xpy\",\n",
    "    \"xz\",\n",
    "    \"xpz\",\n",
    "    \"sqsum2\",\n",
    "    \"ypx\",\n",
    "    \"pxpy\",\n",
    "    \"zpx\",\n",
    "    \"pxpz\",\n",
    "    \"sqsum3\",\n",
    "    \"ypy\",\n",
    "    \"yz\",\n",
    "    \"ypz\",\n",
    "    \"sqsum4\",\n",
    "    \"zpy\",\n",
    "    \"pypz\",\n",
    "    \"sqsum5\",\n",
    "    \"zpz\",\n",
    "    \"sqsum6\",\n",
    "]\n",
    "fstat = {}\n",
    "for label, dat in zip(labels, fdat):\n",
    "    fstat[label] = dat\n",
    "\n",
    "xl = fstat[\"xl\"]\n",
    "fstat"
   ]
  },
  {
   "cell_type": "code",
   "execution_count": null,
   "id": "d6dae299-2a9f-4d61-bc95-239bcaed67a6",
   "metadata": {
    "execution": {
     "iopub.execute_input": "2025-02-20T21:21:00.497306Z",
     "iopub.status.busy": "2025-02-20T21:21:00.497225Z",
     "iopub.status.idle": "2025-02-20T21:21:00.500343Z",
     "shell.execute_reply": "2025-02-20T21:21:00.500109Z"
    }
   },
   "outputs": [],
   "source": [
    "F = fstat\n",
    "fcov = np.array(\n",
    "    [\n",
    "        [F[\"sqsum1\"], F[\"xpx\"], F[\"xy\"], F[\"xpy\"], F[\"xz\"], F[\"xpz\"]],\n",
    "        [0, F[\"sqsum2\"], F[\"ypx\"], F[\"pxpy\"], F[\"zpx\"], F[\"pxpz\"]],\n",
    "        [0, 0, F[\"sqsum3\"], F[\"ypy\"], F[\"yz\"], F[\"ypz\"]],\n",
    "        [0, 0, 0, F[\"sqsum4\"], F[\"zpy\"], F[\"pypz\"]],\n",
    "        [0, 0, 0, 0, F[\"sqsum5\"], F[\"zpz\"]],\n",
    "        [0, 0, 0, 0, 0, F[\"sqsum6\"]],\n",
    "    ]\n",
    ")\n",
    "# Make the matrix symmetric by copying upper triangle to lower triangle\n",
    "for i in range(6):\n",
    "    for j in range(6):\n",
    "        fcov[j, i] = fcov[i, j]\n",
    "\n",
    "\n",
    "fcov * 1e9"
   ]
  },
  {
   "cell_type": "code",
   "execution_count": null,
   "id": "05148cfc-4108-4358-9648-aee2521662c2",
   "metadata": {
    "execution": {
     "iopub.execute_input": "2025-02-20T21:21:00.501475Z",
     "iopub.status.busy": "2025-02-20T21:21:00.501400Z",
     "iopub.status.idle": "2025-02-20T21:21:00.503384Z",
     "shell.execute_reply": "2025-02-20T21:21:00.503180Z"
    }
   },
   "outputs": [],
   "source": [
    "print(\"fort.32 (* 1e9)\")\n",
    "printsymmat(fcov * 1e9)"
   ]
  },
  {
   "cell_type": "code",
   "execution_count": null,
   "id": "339dba46-a254-4dfa-8223-a53009d10fa6",
   "metadata": {},
   "outputs": [],
   "source": []
  },
  {
   "cell_type": "markdown",
   "id": "bca6624f-1247-4754-9dba-74ec67e695f0",
   "metadata": {},
   "source": [
    "# Final particles from fort.50\n",
    "\n",
    "Calculate the covariance matrix from the particles. Note that these aren't exactly at the same final location as the fort.32 file. Here we are looking for similar numbers. \n"
   ]
  },
  {
   "cell_type": "code",
   "execution_count": null,
   "id": "26654ed9-175f-44f3-b859-055e18bcc081",
   "metadata": {
    "execution": {
     "iopub.execute_input": "2025-02-20T21:21:00.504517Z",
     "iopub.status.busy": "2025-02-20T21:21:00.504440Z",
     "iopub.status.idle": "2025-02-20T21:21:00.507262Z",
     "shell.execute_reply": "2025-02-20T21:21:00.507046Z"
    }
   },
   "outputs": [],
   "source": [
    "pdat = np.loadtxt(root / \"fort.50\")\n",
    "pdat.shape"
   ]
  },
  {
   "cell_type": "code",
   "execution_count": null,
   "id": "85aeda85-43a8-41ce-b400-dcdc4a003b30",
   "metadata": {
    "execution": {
     "iopub.execute_input": "2025-02-20T21:21:00.508288Z",
     "iopub.status.busy": "2025-02-20T21:21:00.508220Z",
     "iopub.status.idle": "2025-02-20T21:21:00.510327Z",
     "shell.execute_reply": "2025-02-20T21:21:00.510118Z"
    }
   },
   "outputs": [],
   "source": [
    "# Covariance\n",
    "cov = np.cov(pdat.T)\n",
    "cov.shape\n",
    "\n",
    "print(\"fort.50 with np.cov (* 1e9)\")\n",
    "printsymmat(cov * 1e9)"
   ]
  },
  {
   "cell_type": "markdown",
   "id": "537921b0-d774-4fe1-874c-233478971d7e",
   "metadata": {},
   "source": [
    "# LUME-Impact plots\n",
    "\n",
    "Compare with Lume"
   ]
  },
  {
   "cell_type": "code",
   "execution_count": null,
   "id": "82b19769-b9be-419b-a921-95a4ff3cb207",
   "metadata": {
    "execution": {
     "iopub.execute_input": "2025-02-20T21:21:00.511463Z",
     "iopub.status.busy": "2025-02-20T21:21:00.511390Z",
     "iopub.status.idle": "2025-02-20T21:21:00.512949Z",
     "shell.execute_reply": "2025-02-20T21:21:00.512682Z"
    }
   },
   "outputs": [],
   "source": [
    "# from impact import Impact\n",
    "# %config InlineBackend.figure_format = 'retina'\n",
    "#\n",
    "# I = Impact('ImpactT.in', workdir = '.', use_temp_dir=False)\n",
    "# I.load_output()\n",
    "\n",
    "# I.plot('cov_x__z')"
   ]
  },
  {
   "cell_type": "code",
   "execution_count": null,
   "id": "db4c03e7-c77e-4723-bc9a-b78cacfa670e",
   "metadata": {
    "execution": {
     "iopub.execute_input": "2025-02-20T21:21:00.513935Z",
     "iopub.status.busy": "2025-02-20T21:21:00.513866Z",
     "iopub.status.idle": "2025-02-20T21:21:00.515312Z",
     "shell.execute_reply": "2025-02-20T21:21:00.515100Z"
    }
   },
   "outputs": [],
   "source": [
    "# I.plot('cov_x__y')"
   ]
  },
  {
   "cell_type": "code",
   "execution_count": null,
   "id": "37a82b51-3af6-4748-af54-84e9197802bd",
   "metadata": {
    "execution": {
     "iopub.execute_input": "2025-02-20T21:21:00.516353Z",
     "iopub.status.busy": "2025-02-20T21:21:00.516268Z",
     "iopub.status.idle": "2025-02-20T21:21:00.521976Z",
     "shell.execute_reply": "2025-02-20T21:21:00.521766Z"
    }
   },
   "outputs": [],
   "source": [
    "%%time\n",
    "Pz = []\n",
    "for p in It.particles.values():\n",
    "    p = p.copy()\n",
    "    p.drift_to_z()\n",
    "    Pz.append(p)\n",
    "Pt = []\n",
    "for p in It.particles.values():\n",
    "    p = p.copy()\n",
    "    p.drift_to_t()\n",
    "    Pt.append(p)\n",
    "Pz;"
   ]
  },
  {
   "cell_type": "code",
   "execution_count": null,
   "id": "b8a64e57-ccc9-44d3-8710-d7902afbe09f",
   "metadata": {
    "execution": {
     "iopub.execute_input": "2025-02-20T21:21:00.523029Z",
     "iopub.status.busy": "2025-02-20T21:21:00.522958Z",
     "iopub.status.idle": "2025-02-20T21:21:00.524681Z",
     "shell.execute_reply": "2025-02-20T21:21:00.524438Z"
    }
   },
   "outputs": [],
   "source": [
    "def pzstat(key):\n",
    "    return np.array([p[key] for p in Pz])\n",
    "\n",
    "\n",
    "def ptstat(key):\n",
    "    return np.array([p[key] for p in Pt])"
   ]
  },
  {
   "cell_type": "code",
   "execution_count": null,
   "id": "be3f8912-9d23-42b5-9d4c-9948eed3a2b2",
   "metadata": {
    "execution": {
     "iopub.execute_input": "2025-02-20T21:21:00.525670Z",
     "iopub.status.busy": "2025-02-20T21:21:00.525598Z",
     "iopub.status.idle": "2025-02-20T21:21:00.528687Z",
     "shell.execute_reply": "2025-02-20T21:21:00.528445Z"
    }
   },
   "outputs": [],
   "source": [
    "xkey = \"mean_z\"\n",
    "ykey = \"cov_x__z\"\n",
    "\n",
    "I = It\n",
    "\n",
    "\n",
    "def compare_drifting(I):\n",
    "    fig, ax = plt.subplots()\n",
    "    ax.scatter(pzstat(xkey), ptstat(ykey), label=\"particles at the same t\")\n",
    "    # ax.scatter(pzstat(xkey), pzstat(ykey), marker='x', label='particles at the same z')# (cov_x__t)*(-c)')\n",
    "    ax.scatter(\n",
    "        pzstat(xkey),\n",
    "        pzstat(\"cov_x__t\") * (-c_light),\n",
    "        marker=\"x\",\n",
    "        label=r\"particles at the same z: $\\left<x, -ct\\right>$\",\n",
    "    )\n",
    "    ax.plot(\n",
    "        I.stat(xkey),\n",
    "        I.stat(ykey),\n",
    "        label=f\"fort.32, Flagdiag = {I.header['Flagdiag']} \",\n",
    "        color=\"red\",\n",
    "    )\n",
    "    plt.legend()\n",
    "    ax.set_title(f\"Flagdiag: {I.header['Flagdiag']}\")\n",
    "    ax.set_xlabel(xkey)\n",
    "    ax.set_ylabel(ykey)"
   ]
  },
  {
   "cell_type": "code",
   "execution_count": null,
   "id": "2b97a50a-e622-412d-8501-146b7b2ccb5f",
   "metadata": {
    "execution": {
     "iopub.execute_input": "2025-02-20T21:21:00.529789Z",
     "iopub.status.busy": "2025-02-20T21:21:00.529715Z",
     "iopub.status.idle": "2025-02-20T21:21:00.677291Z",
     "shell.execute_reply": "2025-02-20T21:21:00.677025Z"
    }
   },
   "outputs": [],
   "source": [
    "compare_drifting(It)"
   ]
  },
  {
   "cell_type": "code",
   "execution_count": null,
   "id": "89510ef1-d14a-42c7-98b2-bc5d55e28cb6",
   "metadata": {
    "execution": {
     "iopub.execute_input": "2025-02-20T21:21:00.678725Z",
     "iopub.status.busy": "2025-02-20T21:21:00.678570Z",
     "iopub.status.idle": "2025-02-20T21:21:00.780179Z",
     "shell.execute_reply": "2025-02-20T21:21:00.779895Z"
    }
   },
   "outputs": [],
   "source": [
    "compare_drifting(Iz)"
   ]
  },
  {
   "cell_type": "markdown",
   "id": "b82f9568-57e0-477d-9a26-dc13a003e90a",
   "metadata": {},
   "source": [
    "# Plot all "
   ]
  },
  {
   "cell_type": "code",
   "execution_count": null,
   "id": "51d5a258-573e-435f-9a84-972c7c18a4dc",
   "metadata": {
    "execution": {
     "iopub.execute_input": "2025-02-20T21:21:00.781572Z",
     "iopub.status.busy": "2025-02-20T21:21:00.781456Z",
     "iopub.status.idle": "2025-02-20T21:21:00.783390Z",
     "shell.execute_reply": "2025-02-20T21:21:00.783145Z"
    }
   },
   "outputs": [],
   "source": [
    "plt.rcParams[\"figure.max_open_warning\"] = 50\n",
    "\n",
    "\n",
    "def plot_all_cov(I):\n",
    "    stats = I.output[\"stats\"]\n",
    "    for key in stats:\n",
    "        if key.startswith(\"cov_\"):\n",
    "            I.plot(key)"
   ]
  },
  {
   "cell_type": "markdown",
   "id": "0be797bd-9952-4c82-a60a-a12c4b63b1e1",
   "metadata": {},
   "source": [
    "## Flagdiag = 1 (same time)"
   ]
  },
  {
   "cell_type": "code",
   "execution_count": null,
   "id": "bf96eb11-0f88-4308-91fd-14fcd13dbe7e",
   "metadata": {
    "execution": {
     "iopub.execute_input": "2025-02-20T21:21:00.784583Z",
     "iopub.status.busy": "2025-02-20T21:21:00.784491Z",
     "iopub.status.idle": "2025-02-20T21:21:03.805674Z",
     "shell.execute_reply": "2025-02-20T21:21:03.805410Z"
    }
   },
   "outputs": [],
   "source": [
    "plot_all_cov(It)"
   ]
  },
  {
   "cell_type": "markdown",
   "id": "df0f7f50-f401-451d-a130-32df30434112",
   "metadata": {},
   "source": [
    "## Flagdiag = 2 (drift to same z)"
   ]
  },
  {
   "cell_type": "code",
   "execution_count": null,
   "id": "a372aed6-ba0b-47ec-9bf1-f01b3f900aa2",
   "metadata": {
    "execution": {
     "iopub.execute_input": "2025-02-20T21:21:03.806997Z",
     "iopub.status.busy": "2025-02-20T21:21:03.806884Z",
     "iopub.status.idle": "2025-02-20T21:21:06.797066Z",
     "shell.execute_reply": "2025-02-20T21:21:06.796796Z"
    }
   },
   "outputs": [],
   "source": [
    "plot_all_cov(Iz)"
   ]
  }
 ],
 "metadata": {
  "kernelspec": {
   "display_name": "Python 3 (ipykernel)",
   "language": "python",
   "name": "python3"
  },
  "language_info": {
   "codemirror_mode": {
    "name": "ipython",
    "version": 3
   },
   "file_extension": ".py",
   "mimetype": "text/x-python",
   "name": "python",
   "nbconvert_exporter": "python",
   "pygments_lexer": "ipython3",
   "version": "3.12.8"
  }
 },
 "nbformat": 4,
 "nbformat_minor": 5
}
