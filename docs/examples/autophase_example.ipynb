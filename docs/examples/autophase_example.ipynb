{
 "cells": [
  {
   "cell_type": "markdown",
   "metadata": {},
   "source": [
    "# Autophase and Autophase and Scale examples\n",
    "\n",
    "This includes general (slow) autophasing and scaling, as well as fast autophasing."
   ]
  },
  {
   "cell_type": "code",
   "execution_count": null,
   "metadata": {},
   "outputs": [],
   "source": [
    "%load_ext autoreload\n",
    "%autoreload 2"
   ]
  },
  {
   "cell_type": "code",
   "execution_count": null,
   "metadata": {},
   "outputs": [],
   "source": [
    "from impact import Impact\n",
    "\n",
    "import numpy as np\n",
    "\n",
    "# Nicer plotting\n",
    "import matplotlib.pyplot as plt\n",
    "import matplotlib\n",
    "\n",
    "%config InlineBackend.figure_format = 'retina'\n",
    "matplotlib.rcParams[\"figure.figsize\"] = (8, 4)\n",
    "\n",
    "NUMPROCS = 8"
   ]
  },
  {
   "cell_type": "markdown",
   "metadata": {},
   "source": [
    "Make Impact object from the LCLS injector model:"
   ]
  },
  {
   "cell_type": "code",
   "execution_count": null,
   "metadata": {},
   "outputs": [],
   "source": [
    "ifile = \"templates/lcls_injector/ImpactT.in\""
   ]
  },
  {
   "cell_type": "code",
   "execution_count": null,
   "metadata": {},
   "outputs": [],
   "source": [
    "I = Impact(ifile, verbose=True)\n",
    "I.numprocs = 1"
   ]
  },
  {
   "cell_type": "markdown",
   "metadata": {},
   "source": [
    "# Phase and Scale the LCLS gun"
   ]
  },
  {
   "cell_type": "code",
   "execution_count": null,
   "metadata": {},
   "outputs": [],
   "source": [
    "from impact.autophase import autophase_and_scale\n",
    "\n",
    "from pmd_beamphysics import single_particle\n",
    "\n",
    "P0 = single_particle(pz=1e-15, z=1e-15)"
   ]
  },
  {
   "cell_type": "code",
   "execution_count": null,
   "metadata": {},
   "outputs": [],
   "source": [
    "autophase_and_scale(\n",
    "    I,\n",
    "    phase_ele_name=\"GUN\",\n",
    "    target=6e6,\n",
    "    phase_range=(270, 360),\n",
    "    scale_range=(10e6, 100e6),\n",
    "    initial_particles=P0,\n",
    "    verbose=True,\n",
    ")"
   ]
  },
  {
   "cell_type": "markdown",
   "metadata": {},
   "source": [
    "Check the energy:"
   ]
  },
  {
   "cell_type": "code",
   "execution_count": null,
   "metadata": {},
   "outputs": [],
   "source": [
    "I.verbose = False\n",
    "PF = I.track(P0, s=0.15)\n",
    "PF[\"mean_energy\"]"
   ]
  },
  {
   "cell_type": "markdown",
   "metadata": {},
   "source": [
    "Examine this process using the debug flag. This will return the function used for phasing and scaling. "
   ]
  },
  {
   "cell_type": "code",
   "execution_count": null,
   "metadata": {},
   "outputs": [],
   "source": [
    "ps_f, Itest = autophase_and_scale(\n",
    "    I, phase_ele_name=\"GUN\", target=6e6, initial_particles=P0, verbose=False, debug=True\n",
    ")"
   ]
  },
  {
   "cell_type": "markdown",
   "metadata": {},
   "source": [
    "Plot various phases and scales:"
   ]
  },
  {
   "cell_type": "code",
   "execution_count": null,
   "metadata": {},
   "outputs": [],
   "source": [
    "ptry = np.linspace(-100, 50, 30)\n",
    "for sc in np.linspace(10e6, 100e6, 5):\n",
    "    res = np.array([ps_f(p, sc) / 1e6 for p in ptry])\n",
    "    plt.plot(ptry, res, label=f\"{sc/1e6:0.2f} MV\")\n",
    "plt.title(\"Final energy for various phases and scales\")\n",
    "plt.ylabel(\"Final energy (MeV)\")\n",
    "plt.xlabel(\"phase (deg)\")\n",
    "plt.legend()"
   ]
  },
  {
   "cell_type": "markdown",
   "metadata": {},
   "source": [
    "Make a 3D data and plot the surface"
   ]
  },
  {
   "cell_type": "code",
   "execution_count": null,
   "metadata": {},
   "outputs": [],
   "source": [
    "X = np.linspace(-100, 50, 10)\n",
    "Y = np.linspace(10e6, 100e6, 10)\n",
    "X, Y = np.meshgrid(X, Y)\n",
    "\n",
    "\n",
    "@np.vectorize\n",
    "def f(phase, scale):\n",
    "    return ps_f(phase, scale)\n",
    "\n",
    "\n",
    "Z = f(X, Y)"
   ]
  },
  {
   "cell_type": "code",
   "execution_count": null,
   "metadata": {},
   "outputs": [],
   "source": [
    "fig = plt.figure()\n",
    "ax = fig.add_subplot(111, projection=\"3d\")\n",
    "\n",
    "surf = ax.plot_surface(\n",
    "    X, Y / 1e6, Z / 1e6, cmap=matplotlib.cm.coolwarm, linewidth=0, antialiased=True\n",
    ")\n",
    "\n",
    "# Add a color bar which maps values to colors.\n",
    "# fig.colorbar(surf, shrink=0.5, aspect=5)\n",
    "\n",
    "ax.set_xlabel(\"phase (deg)\")\n",
    "ax.set_ylabel(\"scale (MV)\")\n",
    "ax.set_zlabel(\"Final energy (MeV)\")\n",
    "plt.show()"
   ]
  },
  {
   "cell_type": "markdown",
   "metadata": {},
   "source": [
    "# Phase and scale LCLS linac sections \n",
    "\n",
    "Linacs L0A and L0B are special, because they require 4 fieldmaps each to model the travelling wave structure. To tune these together, we need to add control groups. \n",
    "\n",
    "These will control overall phases:"
   ]
  },
  {
   "cell_type": "code",
   "execution_count": null,
   "metadata": {},
   "outputs": [],
   "source": [
    "I.add_group(\n",
    "    \"L0A\",\n",
    "    ele_names=[\"L0A_entrance\", \"L0A_body_1\", \"L0A_body_2\", \"L0A_exit\"],\n",
    "    var_name=\"theta0_deg\",\n",
    "    attributes=\"theta0_deg\",\n",
    ")\n",
    "I.add_group(\n",
    "    \"L0B\",\n",
    "    ele_names=[\"L0B_entrance\", \"L0B_body_1\", \"L0B_body_2\", \"L0B_exit\"],\n",
    "    var_name=\"theta0_deg\",\n",
    "    attributes=\"theta0_deg\",\n",
    ")"
   ]
  },
  {
   "cell_type": "markdown",
   "metadata": {},
   "source": [
    "These will control overall scaling, respecting the special factors:"
   ]
  },
  {
   "cell_type": "code",
   "execution_count": null,
   "metadata": {},
   "outputs": [],
   "source": [
    "I.add_group(\n",
    "    \"L0A_scale\",\n",
    "    ele_names=[\"L0A_entrance\", \"L0A_body_1\", \"L0A_body_2\", \"L0A_exit\"],\n",
    "    var_name=\"rf_field_scale\",\n",
    "    factors=[0.86571945106805, 1, 1, 0.86571945106805],  # sin(k*d) with d = 3.5e-2 m\n",
    "    absolute=True,\n",
    ")\n",
    "\n",
    "I.add_group(\n",
    "    \"L0B_scale\",\n",
    "    ele_names=[\"L0B_entrance\", \"L0B_body_1\", \"L0B_body_2\", \"L0B_exit\"],\n",
    "    var_name=\"rf_field_scale\",\n",
    "    factors=[0.86571945106805, 1, 1, 0.86571945106805],  # sin(k*d) with d = 3.5e-2 m\n",
    "    absolute=True,\n",
    ")\n",
    "\n",
    "I[\"L0A_scale\"][\"rf_field_scale\"] = 30e6\n",
    "# I['L0A_scale'].__dict__"
   ]
  },
  {
   "cell_type": "markdown",
   "metadata": {},
   "source": [
    "Now phase and scale L0A to 64 MeV:"
   ]
  },
  {
   "cell_type": "code",
   "execution_count": null,
   "metadata": {},
   "outputs": [],
   "source": [
    "res_L0A = autophase_and_scale(\n",
    "    I,\n",
    "    phase_ele_name=\"L0A\",\n",
    "    scale_ele_name=\"L0A_scale\",\n",
    "    target=64e6,\n",
    "    scale_range=(10e6, 100e6),\n",
    "    initial_particles=P0,\n",
    "    verbose=True,\n",
    ")"
   ]
  },
  {
   "cell_type": "markdown",
   "metadata": {},
   "source": [
    "Do the same for L0B:"
   ]
  },
  {
   "cell_type": "code",
   "execution_count": null,
   "metadata": {},
   "outputs": [],
   "source": [
    "autophase_and_scale(\n",
    "    I,\n",
    "    phase_ele_name=\"L0B\",\n",
    "    scale_ele_name=\"L0B_scale\",\n",
    "    target=135e6,\n",
    "    scale_range=(10e6, 100e6),\n",
    "    initial_particles=P0,\n",
    "    verbose=True,\n",
    ")"
   ]
  },
  {
   "cell_type": "markdown",
   "metadata": {},
   "source": [
    "Check the final energy and plot:"
   ]
  },
  {
   "cell_type": "code",
   "execution_count": null,
   "metadata": {},
   "outputs": [],
   "source": [
    "I.track(P0, s=8.371612)[\"mean_energy\"]"
   ]
  },
  {
   "cell_type": "code",
   "execution_count": null,
   "metadata": {},
   "outputs": [],
   "source": [
    "plt.plot(I.stat(\"mean_z\"), I.stat(\"mean_kinetic_energy\") / 1e6 + 0.511)"
   ]
  },
  {
   "cell_type": "markdown",
   "metadata": {},
   "source": [
    "# Fast autophase\n",
    "\n",
    "This is a faster method that can find and set all relative phases by tracking the fields externally."
   ]
  },
  {
   "cell_type": "code",
   "execution_count": null,
   "metadata": {},
   "outputs": [],
   "source": [
    "%%time\n",
    "I.autophase()"
   ]
  },
  {
   "cell_type": "markdown",
   "metadata": {},
   "source": [
    "Sending in a dict will set these phases as it goes:"
   ]
  },
  {
   "cell_type": "code",
   "execution_count": null,
   "metadata": {},
   "outputs": [],
   "source": [
    "I.verbose = True\n",
    "\n",
    "I.autophase({\"GUN\": 1, \"L0A\": 2, \"L0B\": 3})"
   ]
  },
  {
   "cell_type": "markdown",
   "metadata": {},
   "source": [
    "# Autophase without scaling\n",
    "\n",
    "Just phasing is simpler."
   ]
  },
  {
   "cell_type": "code",
   "execution_count": null,
   "metadata": {},
   "outputs": [],
   "source": [
    "from impact.autophase import autophase\n",
    "\n",
    "ifile2 = \"templates/apex_gun/ImpactT.in\"\n",
    "\n",
    "I2 = Impact(ifile2, verbose=False)"
   ]
  },
  {
   "cell_type": "code",
   "execution_count": null,
   "metadata": {},
   "outputs": [],
   "source": [
    "autophase(\n",
    "    I2,\n",
    "    ele_name=\"APEX_GUN\",\n",
    "    initial_particles=P0,\n",
    "    metric=\"mean_kinetic_energy\",\n",
    "    verbose=True,\n",
    ")"
   ]
  },
  {
   "cell_type": "code",
   "execution_count": null,
   "metadata": {},
   "outputs": [],
   "source": [
    "phase_f, Itest = autophase(\n",
    "    I2,\n",
    "    ele_name=\"APEX_GUN\",\n",
    "    metric=\"mean_kinetic_energy\",\n",
    "    initial_particles=P0,\n",
    "    debug=True,\n",
    ")"
   ]
  },
  {
   "cell_type": "code",
   "execution_count": null,
   "metadata": {},
   "outputs": [],
   "source": [
    "# Phases to try\n",
    "ptry = np.linspace(0, 360, 60)\n",
    "\n",
    "energies = np.array([phase_f(p) / 1e3 for p in ptry])\n",
    "\n",
    "plt.plot(ptry, energies)\n",
    "plt.ylim(0, 800)\n",
    "plt.title(\"Final energy for various phases in the APEX gun\")\n",
    "plt.ylabel(\"Final kinetic energy (keV)\")\n",
    "plt.xlabel(\"phase (deg)\")"
   ]
  },
  {
   "cell_type": "markdown",
   "metadata": {},
   "source": [
    "# Autophase with alternative metric, and bunch tracking with space charge.\n",
    "\n",
    "The above uses `mean_energy` as the metric to maximize. Alternatively, one might want to minimize energy spread. This is accomplished by passing `maximize=False` and  `metric='sigma_pz'` or similar."
   ]
  },
  {
   "cell_type": "code",
   "execution_count": null,
   "metadata": {},
   "outputs": [],
   "source": [
    "from distgen import Generator\n",
    "\n",
    "\n",
    "ifile = \"templates/lcls_injector/ImpactT.in\"\n",
    "gfile = \"templates/lcls_injector/distgen.yaml\"\n",
    "\n",
    "G = Generator(gfile)\n",
    "G[\"n_particle\"] = 2000\n",
    "G.run()\n",
    "P0 = G.particles"
   ]
  },
  {
   "cell_type": "code",
   "execution_count": null,
   "metadata": {},
   "outputs": [],
   "source": [
    "%%time\n",
    "I = Impact(ifile, initial_particles=P0, verbose=False)\n",
    "I.stop = 0.16\n",
    "I.numprocs = NUMPROCS\n",
    "I.run()"
   ]
  },
  {
   "cell_type": "code",
   "execution_count": null,
   "metadata": {},
   "outputs": [],
   "source": [
    "phase_f, Itest = autophase(\n",
    "    I,\n",
    "    ele_name=\"GUN\",\n",
    "    metric=\"sigma_pz\",\n",
    "    maximize=False,\n",
    "    initial_particles=P0,\n",
    "    debug=True,\n",
    "    verbose=True,\n",
    ")"
   ]
  },
  {
   "cell_type": "code",
   "execution_count": null,
   "metadata": {},
   "outputs": [],
   "source": [
    "I.particles[\"final_particles\"].plot(\"z\", \"pz\")"
   ]
  },
  {
   "cell_type": "code",
   "execution_count": null,
   "metadata": {},
   "outputs": [],
   "source": [
    "# Phases to try\n",
    "ptry = np.linspace(290, 310, 20)\n",
    "\n",
    "sigma_pzs = np.array([phase_f(p) for p in ptry])\n",
    "\n",
    "plt.plot(ptry, sigma_pzs)\n",
    "# plt.ylim(0, 800)\n",
    "# plt.title('Final energy for various phases in the APEX gun')\n",
    "# plt.ylabel('Final kinetic energy (keV)')\n",
    "plt.xlabel(\"phase (deg)\")"
   ]
  },
  {
   "cell_type": "code",
   "execution_count": null,
   "metadata": {},
   "outputs": [],
   "source": [
    "phase_f(293.5)"
   ]
  },
  {
   "cell_type": "code",
   "execution_count": null,
   "metadata": {},
   "outputs": [],
   "source": [
    "Itest.particles[\"final_particles\"].plot(\"z\", \"pz\")"
   ]
  },
  {
   "cell_type": "code",
   "execution_count": null,
   "metadata": {},
   "outputs": [],
   "source": [
    "phase_f, Itest = autophase(\n",
    "    I,\n",
    "    ele_name=\"GUN\",\n",
    "    metric=\"sigma_pz\",\n",
    "    maximize=False,\n",
    "    initial_particles=P0,\n",
    "    debug=True,\n",
    "    s_stop=1.45,\n",
    "    verbose=True,\n",
    ")\n",
    "# Phases to try\n",
    "ptry = np.linspace(270, 290, 30)\n",
    "\n",
    "sigma_pzs = np.array([phase_f(p) for p in ptry])\n",
    "\n",
    "plt.plot(ptry, sigma_pzs)\n",
    "# plt.ylim(0, 800)\n",
    "# plt.title('Final energy for various phases in the APEX gun')\n",
    "# plt.ylabel('Final kinetic energy (keV)')\n",
    "plt.xlabel(\"phase (deg)\")"
   ]
  },
  {
   "cell_type": "code",
   "execution_count": null,
   "metadata": {},
   "outputs": [],
   "source": [
    "phase_f(280.0)"
   ]
  },
  {
   "cell_type": "code",
   "execution_count": null,
   "metadata": {},
   "outputs": [],
   "source": [
    "Itest.particles[\"final_particles\"].plot(\"z\", \"pz\")"
   ]
  }
 ],
 "metadata": {
  "kernelspec": {
   "display_name": "Python 3 (ipykernel)",
   "language": "python",
   "name": "python3"
  },
  "language_info": {
   "codemirror_mode": {
    "name": "ipython",
    "version": 3
   },
   "file_extension": ".py",
   "mimetype": "text/x-python",
   "name": "python",
   "nbconvert_exporter": "python",
   "pygments_lexer": "ipython3",
   "version": "3.12.3"
  }
 },
 "nbformat": 4,
 "nbformat_minor": 4
}
