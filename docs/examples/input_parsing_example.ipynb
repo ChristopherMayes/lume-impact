{
 "cells": [
  {
   "cell_type": "markdown",
   "metadata": {},
   "source": [
    "# Parsing ImpactT.in\n",
    "\n",
    "Here are some examples of the low level routines to parse the main input file.\n",
    "\n",
    "Note that the Impact class does this automatically\n"
   ]
  },
  {
   "cell_type": "code",
   "execution_count": null,
   "metadata": {},
   "outputs": [],
   "source": [
    "from impact.parsers import (\n",
    "    parse_header,\n",
    "    ix_lattice,\n",
    "    parse_type,\n",
    "    ele_type,\n",
    "    parse_quadrupole,\n",
    "    parse_solrf,\n",
    "    parse_wakefield,\n",
    "    parse_lattice,\n",
    ")"
   ]
  },
  {
   "cell_type": "code",
   "execution_count": null,
   "metadata": {},
   "outputs": [],
   "source": [
    "from impact.lattice import ele_str, ele_line"
   ]
  },
  {
   "cell_type": "code",
   "execution_count": null,
   "metadata": {},
   "outputs": [],
   "source": [
    "with open(\"templates/lcls_injector/ImpactT.in\", \"r\") as f:\n",
    "    data = f.read()\n",
    "    LINES = data.split(\"\\n\")"
   ]
  },
  {
   "cell_type": "code",
   "execution_count": null,
   "metadata": {},
   "outputs": [],
   "source": [
    "parse_header(LINES)"
   ]
  },
  {
   "cell_type": "code",
   "execution_count": null,
   "metadata": {},
   "outputs": [],
   "source": [
    "# Find index of the line where the lattice starts\n",
    "IX_LATTICE = ix_lattice(LINES)\n",
    "\n",
    "# Gather lattice lines\n",
    "LATLINES = LINES[IX_LATTICE:]"
   ]
  },
  {
   "cell_type": "code",
   "execution_count": null,
   "metadata": {},
   "outputs": [],
   "source": [
    "# Summary of elements in this lattice\n",
    "def myf(t):\n",
    "    return [l for l in LATLINES if parse_type(l) == t]\n",
    "\n",
    "\n",
    "quads = myf(\"quadrupole\")\n",
    "# drifts = myf('drift')\n",
    "solrfs = myf(\"solrf\")\n",
    "wakefields = myf(\"wakefield\")\n",
    "\n",
    "alltypes = set([parse_type(l) for l in LATLINES])\n",
    "print(alltypes)\n",
    "\n",
    "for t in ele_type.values():\n",
    "    l = len(myf(t))\n",
    "    if l > 0:\n",
    "        print(l, t)"
   ]
  },
  {
   "cell_type": "markdown",
   "metadata": {},
   "source": [
    "# Individual element parsing"
   ]
  },
  {
   "cell_type": "code",
   "execution_count": null,
   "metadata": {},
   "outputs": [],
   "source": [
    "parse_quadrupole(quads[0])"
   ]
  },
  {
   "cell_type": "code",
   "execution_count": null,
   "metadata": {},
   "outputs": [],
   "source": [
    "parse_solrf(solrfs[0])"
   ]
  },
  {
   "cell_type": "code",
   "execution_count": null,
   "metadata": {},
   "outputs": [],
   "source": [
    "parse_wakefield(wakefields[0])"
   ]
  },
  {
   "cell_type": "markdown",
   "metadata": {},
   "source": [
    "# Full lattice parsing into element dicts"
   ]
  },
  {
   "cell_type": "code",
   "execution_count": null,
   "metadata": {},
   "outputs": [],
   "source": [
    "# This parses all lines.\n",
    "eles = parse_lattice(LATLINES)"
   ]
  },
  {
   "cell_type": "code",
   "execution_count": null,
   "metadata": {},
   "outputs": [],
   "source": [
    "# MAD-style printing\n",
    "for e in eles:\n",
    "    s = ele_str(e)\n",
    "    print(s)"
   ]
  },
  {
   "cell_type": "code",
   "execution_count": null,
   "metadata": {},
   "outputs": [],
   "source": [
    "# Output lines\n",
    "for e in eles:\n",
    "    print(ele_line(e))"
   ]
  }
 ],
 "metadata": {
  "kernelspec": {
   "display_name": "Python 3 (ipykernel)",
   "language": "python",
   "name": "python3"
  },
  "language_info": {
   "codemirror_mode": {
    "name": "ipython",
    "version": 3
   },
   "file_extension": ".py",
   "mimetype": "text/x-python",
   "name": "python",
   "nbconvert_exporter": "python",
   "pygments_lexer": "ipython3",
   "version": "3.12.6"
  }
 },
 "nbformat": 4,
 "nbformat_minor": 4
}
