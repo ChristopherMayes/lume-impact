{
 "cells": [
  {
   "cell_type": "markdown",
   "metadata": {},
   "source": [
    "# Parsing ImpactT.in\n",
    "\n",
    "Here are some examples of the low level routines to parse the main input file.\n",
    "\n",
    "Note that the Impact class does this automatically\n"
   ]
  },
  {
   "cell_type": "code",
   "execution_count": null,
   "metadata": {
    "execution": {
     "iopub.execute_input": "2025-02-20T21:26:05.920937Z",
     "iopub.status.busy": "2025-02-20T21:26:05.920801Z",
     "iopub.status.idle": "2025-02-20T21:26:06.963744Z",
     "shell.execute_reply": "2025-02-20T21:26:06.963441Z"
    }
   },
   "outputs": [],
   "source": [
    "from impact.parsers import (\n",
    "    parse_header,\n",
    "    ix_lattice,\n",
    "    parse_type,\n",
    "    ele_type,\n",
    "    parse_quadrupole,\n",
    "    parse_solrf,\n",
    "    parse_wakefield,\n",
    "    parse_lattice,\n",
    ")"
   ]
  },
  {
   "cell_type": "code",
   "execution_count": null,
   "metadata": {
    "execution": {
     "iopub.execute_input": "2025-02-20T21:26:06.965315Z",
     "iopub.status.busy": "2025-02-20T21:26:06.965151Z",
     "iopub.status.idle": "2025-02-20T21:26:06.967021Z",
     "shell.execute_reply": "2025-02-20T21:26:06.966758Z"
    }
   },
   "outputs": [],
   "source": [
    "from impact.lattice import ele_str, ele_line"
   ]
  },
  {
   "cell_type": "code",
   "execution_count": null,
   "metadata": {
    "execution": {
     "iopub.execute_input": "2025-02-20T21:26:06.968174Z",
     "iopub.status.busy": "2025-02-20T21:26:06.968101Z",
     "iopub.status.idle": "2025-02-20T21:26:06.969991Z",
     "shell.execute_reply": "2025-02-20T21:26:06.969743Z"
    }
   },
   "outputs": [],
   "source": [
    "with open(\"templates/lcls_injector/ImpactT.in\", \"r\") as f:\n",
    "    data = f.read()\n",
    "    LINES = data.split(\"\\n\")"
   ]
  },
  {
   "cell_type": "code",
   "execution_count": null,
   "metadata": {
    "execution": {
     "iopub.execute_input": "2025-02-20T21:26:06.971144Z",
     "iopub.status.busy": "2025-02-20T21:26:06.971072Z",
     "iopub.status.idle": "2025-02-20T21:26:06.974267Z",
     "shell.execute_reply": "2025-02-20T21:26:06.974036Z"
    }
   },
   "outputs": [],
   "source": [
    "parse_header(LINES)"
   ]
  },
  {
   "cell_type": "code",
   "execution_count": null,
   "metadata": {
    "execution": {
     "iopub.execute_input": "2025-02-20T21:26:06.994538Z",
     "iopub.status.busy": "2025-02-20T21:26:06.994396Z",
     "iopub.status.idle": "2025-02-20T21:26:06.996218Z",
     "shell.execute_reply": "2025-02-20T21:26:06.995910Z"
    }
   },
   "outputs": [],
   "source": [
    "# Find index of the line where the lattice starts\n",
    "IX_LATTICE = ix_lattice(LINES)\n",
    "\n",
    "# Gather lattice lines\n",
    "LATLINES = LINES[IX_LATTICE:]"
   ]
  },
  {
   "cell_type": "code",
   "execution_count": null,
   "metadata": {
    "execution": {
     "iopub.execute_input": "2025-02-20T21:26:06.997408Z",
     "iopub.status.busy": "2025-02-20T21:26:06.997315Z",
     "iopub.status.idle": "2025-02-20T21:26:07.000357Z",
     "shell.execute_reply": "2025-02-20T21:26:07.000133Z"
    }
   },
   "outputs": [],
   "source": [
    "# Summary of elements in this lattice\n",
    "def myf(t):\n",
    "    return [l for l in LATLINES if parse_type(l) == t]\n",
    "\n",
    "\n",
    "quads = myf(\"quadrupole\")\n",
    "# drifts = myf('drift')\n",
    "solrfs = myf(\"solrf\")\n",
    "wakefields = myf(\"wakefield\")\n",
    "\n",
    "alltypes = set([parse_type(l) for l in LATLINES])\n",
    "print(alltypes)\n",
    "\n",
    "for t in ele_type.values():\n",
    "    l = len(myf(t))\n",
    "    if l > 0:\n",
    "        print(l, t)"
   ]
  },
  {
   "cell_type": "markdown",
   "metadata": {},
   "source": [
    "# Individual element parsing"
   ]
  },
  {
   "cell_type": "code",
   "execution_count": null,
   "metadata": {
    "execution": {
     "iopub.execute_input": "2025-02-20T21:26:07.001512Z",
     "iopub.status.busy": "2025-02-20T21:26:07.001421Z",
     "iopub.status.idle": "2025-02-20T21:26:07.003418Z",
     "shell.execute_reply": "2025-02-20T21:26:07.003181Z"
    }
   },
   "outputs": [],
   "source": [
    "parse_quadrupole(quads[0])"
   ]
  },
  {
   "cell_type": "code",
   "execution_count": null,
   "metadata": {
    "execution": {
     "iopub.execute_input": "2025-02-20T21:26:07.004542Z",
     "iopub.status.busy": "2025-02-20T21:26:07.004447Z",
     "iopub.status.idle": "2025-02-20T21:26:07.006310Z",
     "shell.execute_reply": "2025-02-20T21:26:07.006090Z"
    }
   },
   "outputs": [],
   "source": [
    "parse_solrf(solrfs[0])"
   ]
  },
  {
   "cell_type": "code",
   "execution_count": null,
   "metadata": {
    "execution": {
     "iopub.execute_input": "2025-02-20T21:26:07.007405Z",
     "iopub.status.busy": "2025-02-20T21:26:07.007314Z",
     "iopub.status.idle": "2025-02-20T21:26:07.009314Z",
     "shell.execute_reply": "2025-02-20T21:26:07.009083Z"
    }
   },
   "outputs": [],
   "source": [
    "parse_wakefield(wakefields[0])"
   ]
  },
  {
   "cell_type": "markdown",
   "metadata": {},
   "source": [
    "# Full lattice parsing into element dicts"
   ]
  },
  {
   "cell_type": "code",
   "execution_count": null,
   "metadata": {
    "execution": {
     "iopub.execute_input": "2025-02-20T21:26:07.010380Z",
     "iopub.status.busy": "2025-02-20T21:26:07.010301Z",
     "iopub.status.idle": "2025-02-20T21:26:07.012030Z",
     "shell.execute_reply": "2025-02-20T21:26:07.011805Z"
    }
   },
   "outputs": [],
   "source": [
    "# This parses all lines.\n",
    "eles = parse_lattice(LATLINES)"
   ]
  },
  {
   "cell_type": "code",
   "execution_count": null,
   "metadata": {
    "execution": {
     "iopub.execute_input": "2025-02-20T21:26:07.013222Z",
     "iopub.status.busy": "2025-02-20T21:26:07.013135Z",
     "iopub.status.idle": "2025-02-20T21:26:07.015159Z",
     "shell.execute_reply": "2025-02-20T21:26:07.014943Z"
    }
   },
   "outputs": [],
   "source": [
    "# MAD-style printing\n",
    "for e in eles:\n",
    "    s = ele_str(e)\n",
    "    print(s)"
   ]
  },
  {
   "cell_type": "code",
   "execution_count": null,
   "metadata": {
    "execution": {
     "iopub.execute_input": "2025-02-20T21:26:07.016341Z",
     "iopub.status.busy": "2025-02-20T21:26:07.016265Z",
     "iopub.status.idle": "2025-02-20T21:26:07.018297Z",
     "shell.execute_reply": "2025-02-20T21:26:07.018050Z"
    }
   },
   "outputs": [],
   "source": [
    "# Output lines\n",
    "for e in eles:\n",
    "    print(ele_line(e))"
   ]
  }
 ],
 "metadata": {
  "kernelspec": {
   "display_name": "Python 3 (ipykernel)",
   "language": "python",
   "name": "python3"
  },
  "language_info": {
   "codemirror_mode": {
    "name": "ipython",
    "version": 3
   },
   "file_extension": ".py",
   "mimetype": "text/x-python",
   "name": "python",
   "nbconvert_exporter": "python",
   "pygments_lexer": "ipython3",
   "version": "3.12.8"
  }
 },
 "nbformat": 4,
 "nbformat_minor": 4
}
