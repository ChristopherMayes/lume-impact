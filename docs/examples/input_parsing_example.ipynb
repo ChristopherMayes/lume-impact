{
 "cells": [
  {
   "cell_type": "markdown",
   "metadata": {},
   "source": [
    "# Parsing ImpactT.in\n",
    "\n",
    "Here are some examples of the low level routines to parse the main input file.\n",
    "\n",
    "Note that the Impact class does this automatically\n"
   ]
  },
  {
   "cell_type": "code",
   "execution_count": null,
   "metadata": {
    "execution": {
     "iopub.execute_input": "2024-10-18T19:53:39.680671Z",
     "iopub.status.busy": "2024-10-18T19:53:39.680487Z",
     "iopub.status.idle": "2024-10-18T19:53:40.582558Z",
     "shell.execute_reply": "2024-10-18T19:53:40.582266Z"
    }
   },
   "outputs": [],
   "source": [
    "from impact.parsers import *"
   ]
  },
  {
   "cell_type": "code",
   "execution_count": null,
   "metadata": {
    "execution": {
     "iopub.execute_input": "2024-10-18T19:53:40.584299Z",
     "iopub.status.busy": "2024-10-18T19:53:40.584090Z",
     "iopub.status.idle": "2024-10-18T19:53:40.585944Z",
     "shell.execute_reply": "2024-10-18T19:53:40.585670Z"
    }
   },
   "outputs": [],
   "source": [
    "from impact.lattice import *"
   ]
  },
  {
   "cell_type": "code",
   "execution_count": null,
   "metadata": {
    "execution": {
     "iopub.execute_input": "2024-10-18T19:53:40.587296Z",
     "iopub.status.busy": "2024-10-18T19:53:40.587210Z",
     "iopub.status.idle": "2024-10-18T19:53:40.589021Z",
     "shell.execute_reply": "2024-10-18T19:53:40.588786Z"
    }
   },
   "outputs": [],
   "source": [
    "with open(\"templates/lcls_injector/ImpactT.in\", \"r\") as f:\n",
    "    data = f.read()\n",
    "    LINES = data.split(\"\\n\")"
   ]
  },
  {
   "cell_type": "code",
   "execution_count": null,
   "metadata": {
    "execution": {
     "iopub.execute_input": "2024-10-18T19:53:40.590226Z",
     "iopub.status.busy": "2024-10-18T19:53:40.590156Z",
     "iopub.status.idle": "2024-10-18T19:53:40.593413Z",
     "shell.execute_reply": "2024-10-18T19:53:40.593185Z"
    }
   },
   "outputs": [],
   "source": [
    "parse_header(LINES)"
   ]
  },
  {
   "cell_type": "code",
   "execution_count": null,
   "metadata": {
    "execution": {
     "iopub.execute_input": "2024-10-18T19:53:40.614057Z",
     "iopub.status.busy": "2024-10-18T19:53:40.613936Z",
     "iopub.status.idle": "2024-10-18T19:53:40.615587Z",
     "shell.execute_reply": "2024-10-18T19:53:40.615376Z"
    }
   },
   "outputs": [],
   "source": [
    "# Find index of the line where the lattice starts\n",
    "IX_LATTICE = ix_lattice(LINES)\n",
    "\n",
    "# Gather lattice lines\n",
    "LATLINES = LINES[IX_LATTICE:]"
   ]
  },
  {
   "cell_type": "code",
   "execution_count": null,
   "metadata": {
    "execution": {
     "iopub.execute_input": "2024-10-18T19:53:40.616856Z",
     "iopub.status.busy": "2024-10-18T19:53:40.616777Z",
     "iopub.status.idle": "2024-10-18T19:53:40.619726Z",
     "shell.execute_reply": "2024-10-18T19:53:40.619511Z"
    }
   },
   "outputs": [],
   "source": [
    "# Summary of elements in this lattice\n",
    "def myf(t):\n",
    "    return [l for l in LATLINES if parse_type(l) == t]\n",
    "\n",
    "\n",
    "quads = myf(\"quadrupole\")\n",
    "# drifts = myf('drift')\n",
    "solrfs = myf(\"solrf\")\n",
    "wakefields = myf(\"wakefield\")\n",
    "\n",
    "alltypes = set([parse_type(l) for l in LATLINES])\n",
    "print(alltypes)\n",
    "\n",
    "for t in ele_type.values():\n",
    "    l = len(myf(t))\n",
    "    if l > 0:\n",
    "        print(l, t)"
   ]
  },
  {
   "cell_type": "markdown",
   "metadata": {},
   "source": [
    "# Individual element parsing"
   ]
  },
  {
   "cell_type": "code",
   "execution_count": null,
   "metadata": {
    "execution": {
     "iopub.execute_input": "2024-10-18T19:53:40.621013Z",
     "iopub.status.busy": "2024-10-18T19:53:40.620918Z",
     "iopub.status.idle": "2024-10-18T19:53:40.622962Z",
     "shell.execute_reply": "2024-10-18T19:53:40.622730Z"
    }
   },
   "outputs": [],
   "source": [
    "parse_quadrupole(quads[0])"
   ]
  },
  {
   "cell_type": "code",
   "execution_count": null,
   "metadata": {
    "execution": {
     "iopub.execute_input": "2024-10-18T19:53:40.624204Z",
     "iopub.status.busy": "2024-10-18T19:53:40.624111Z",
     "iopub.status.idle": "2024-10-18T19:53:40.626074Z",
     "shell.execute_reply": "2024-10-18T19:53:40.625872Z"
    }
   },
   "outputs": [],
   "source": [
    "parse_solrf(solrfs[0])"
   ]
  },
  {
   "cell_type": "code",
   "execution_count": null,
   "metadata": {
    "execution": {
     "iopub.execute_input": "2024-10-18T19:53:40.627353Z",
     "iopub.status.busy": "2024-10-18T19:53:40.627235Z",
     "iopub.status.idle": "2024-10-18T19:53:40.629138Z",
     "shell.execute_reply": "2024-10-18T19:53:40.628922Z"
    }
   },
   "outputs": [],
   "source": [
    "parse_wakefield(wakefields[0])"
   ]
  },
  {
   "cell_type": "markdown",
   "metadata": {},
   "source": [
    "# Full lattice parsing into element dicts"
   ]
  },
  {
   "cell_type": "code",
   "execution_count": null,
   "metadata": {
    "execution": {
     "iopub.execute_input": "2024-10-18T19:53:40.630443Z",
     "iopub.status.busy": "2024-10-18T19:53:40.630347Z",
     "iopub.status.idle": "2024-10-18T19:53:40.631768Z",
     "shell.execute_reply": "2024-10-18T19:53:40.631583Z"
    }
   },
   "outputs": [],
   "source": [
    "from impact.lattice import ele_str"
   ]
  },
  {
   "cell_type": "code",
   "execution_count": null,
   "metadata": {
    "execution": {
     "iopub.execute_input": "2024-10-18T19:53:40.633041Z",
     "iopub.status.busy": "2024-10-18T19:53:40.632964Z",
     "iopub.status.idle": "2024-10-18T19:53:40.634818Z",
     "shell.execute_reply": "2024-10-18T19:53:40.634586Z"
    }
   },
   "outputs": [],
   "source": [
    "# This parses all lines.\n",
    "eles = parse_lattice(LATLINES)"
   ]
  },
  {
   "cell_type": "code",
   "execution_count": null,
   "metadata": {
    "execution": {
     "iopub.execute_input": "2024-10-18T19:53:40.636046Z",
     "iopub.status.busy": "2024-10-18T19:53:40.635969Z",
     "iopub.status.idle": "2024-10-18T19:53:40.637970Z",
     "shell.execute_reply": "2024-10-18T19:53:40.637743Z"
    }
   },
   "outputs": [],
   "source": [
    "# MAD-style printing\n",
    "for e in eles:\n",
    "    s = ele_str(e)\n",
    "    print(s)"
   ]
  },
  {
   "cell_type": "code",
   "execution_count": null,
   "metadata": {
    "execution": {
     "iopub.execute_input": "2024-10-18T19:53:40.639193Z",
     "iopub.status.busy": "2024-10-18T19:53:40.639113Z",
     "iopub.status.idle": "2024-10-18T19:53:40.641003Z",
     "shell.execute_reply": "2024-10-18T19:53:40.640790Z"
    }
   },
   "outputs": [],
   "source": [
    "# Output lines\n",
    "for e in eles:\n",
    "    print(ele_line(e))"
   ]
  }
 ],
 "metadata": {
  "kernelspec": {
   "display_name": "Python 3 (ipykernel)",
   "language": "python",
   "name": "python3"
  },
  "language_info": {
   "codemirror_mode": {
    "name": "ipython",
    "version": 3
   },
   "file_extension": ".py",
   "mimetype": "text/x-python",
   "name": "python",
   "nbconvert_exporter": "python",
   "pygments_lexer": "ipython3",
   "version": "3.12.6"
  }
 },
 "nbformat": 4,
 "nbformat_minor": 4
}
