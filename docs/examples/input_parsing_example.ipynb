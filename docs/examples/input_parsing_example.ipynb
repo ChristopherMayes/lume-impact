{
 "cells": [
  {
   "cell_type": "markdown",
   "metadata": {},
   "source": [
    "# Parsing ImpactT.in\n",
    "\n",
    "Here are some examples of the low level routines to parse the main input file.\n",
    "\n",
    "Note that the Impact class does this automatically\n"
   ]
  },
  {
   "cell_type": "code",
   "execution_count": null,
   "metadata": {
    "execution": {
     "iopub.execute_input": "2025-02-12T18:07:11.361236Z",
     "iopub.status.busy": "2025-02-12T18:07:11.360720Z",
     "iopub.status.idle": "2025-02-12T18:07:12.402066Z",
     "shell.execute_reply": "2025-02-12T18:07:12.401661Z"
    }
   },
   "outputs": [],
   "source": [
    "from impact.parsers import (\n",
    "    parse_header,\n",
    "    ix_lattice,\n",
    "    parse_type,\n",
    "    ele_type,\n",
    "    parse_quadrupole,\n",
    "    parse_solrf,\n",
    "    parse_wakefield,\n",
    "    parse_lattice,\n",
    ")"
   ]
  },
  {
   "cell_type": "code",
   "execution_count": null,
   "metadata": {
    "execution": {
     "iopub.execute_input": "2025-02-12T18:07:12.403685Z",
     "iopub.status.busy": "2025-02-12T18:07:12.403541Z",
     "iopub.status.idle": "2025-02-12T18:07:12.405307Z",
     "shell.execute_reply": "2025-02-12T18:07:12.405069Z"
    }
   },
   "outputs": [],
   "source": [
    "from impact.lattice import ele_str, ele_line"
   ]
  },
  {
   "cell_type": "code",
   "execution_count": null,
   "metadata": {
    "execution": {
     "iopub.execute_input": "2025-02-12T18:07:12.406483Z",
     "iopub.status.busy": "2025-02-12T18:07:12.406398Z",
     "iopub.status.idle": "2025-02-12T18:07:12.408217Z",
     "shell.execute_reply": "2025-02-12T18:07:12.407982Z"
    }
   },
   "outputs": [],
   "source": [
    "with open(\"templates/lcls_injector/ImpactT.in\", \"r\") as f:\n",
    "    data = f.read()\n",
    "    LINES = data.split(\"\\n\")"
   ]
  },
  {
   "cell_type": "code",
   "execution_count": null,
   "metadata": {
    "execution": {
     "iopub.execute_input": "2025-02-12T18:07:12.409315Z",
     "iopub.status.busy": "2025-02-12T18:07:12.409240Z",
     "iopub.status.idle": "2025-02-12T18:07:12.412415Z",
     "shell.execute_reply": "2025-02-12T18:07:12.412196Z"
    }
   },
   "outputs": [],
   "source": [
    "parse_header(LINES)"
   ]
  },
  {
   "cell_type": "code",
   "execution_count": null,
   "metadata": {
    "execution": {
     "iopub.execute_input": "2025-02-12T18:07:12.432351Z",
     "iopub.status.busy": "2025-02-12T18:07:12.432243Z",
     "iopub.status.idle": "2025-02-12T18:07:12.433930Z",
     "shell.execute_reply": "2025-02-12T18:07:12.433673Z"
    }
   },
   "outputs": [],
   "source": [
    "# Find index of the line where the lattice starts\n",
    "IX_LATTICE = ix_lattice(LINES)\n",
    "\n",
    "# Gather lattice lines\n",
    "LATLINES = LINES[IX_LATTICE:]"
   ]
  },
  {
   "cell_type": "code",
   "execution_count": null,
   "metadata": {
    "execution": {
     "iopub.execute_input": "2025-02-12T18:07:12.434975Z",
     "iopub.status.busy": "2025-02-12T18:07:12.434897Z",
     "iopub.status.idle": "2025-02-12T18:07:12.437730Z",
     "shell.execute_reply": "2025-02-12T18:07:12.437496Z"
    }
   },
   "outputs": [],
   "source": [
    "# Summary of elements in this lattice\n",
    "def myf(t):\n",
    "    return [l for l in LATLINES if parse_type(l) == t]\n",
    "\n",
    "\n",
    "quads = myf(\"quadrupole\")\n",
    "# drifts = myf('drift')\n",
    "solrfs = myf(\"solrf\")\n",
    "wakefields = myf(\"wakefield\")\n",
    "\n",
    "alltypes = set([parse_type(l) for l in LATLINES])\n",
    "print(alltypes)\n",
    "\n",
    "for t in ele_type.values():\n",
    "    l = len(myf(t))\n",
    "    if l > 0:\n",
    "        print(l, t)"
   ]
  },
  {
   "cell_type": "markdown",
   "metadata": {},
   "source": [
    "# Individual element parsing"
   ]
  },
  {
   "cell_type": "code",
   "execution_count": null,
   "metadata": {
    "execution": {
     "iopub.execute_input": "2025-02-12T18:07:12.438799Z",
     "iopub.status.busy": "2025-02-12T18:07:12.438725Z",
     "iopub.status.idle": "2025-02-12T18:07:12.440724Z",
     "shell.execute_reply": "2025-02-12T18:07:12.440501Z"
    }
   },
   "outputs": [],
   "source": [
    "parse_quadrupole(quads[0])"
   ]
  },
  {
   "cell_type": "code",
   "execution_count": null,
   "metadata": {
    "execution": {
     "iopub.execute_input": "2025-02-12T18:07:12.441842Z",
     "iopub.status.busy": "2025-02-12T18:07:12.441766Z",
     "iopub.status.idle": "2025-02-12T18:07:12.443706Z",
     "shell.execute_reply": "2025-02-12T18:07:12.443490Z"
    }
   },
   "outputs": [],
   "source": [
    "parse_solrf(solrfs[0])"
   ]
  },
  {
   "cell_type": "code",
   "execution_count": null,
   "metadata": {
    "execution": {
     "iopub.execute_input": "2025-02-12T18:07:12.444799Z",
     "iopub.status.busy": "2025-02-12T18:07:12.444732Z",
     "iopub.status.idle": "2025-02-12T18:07:12.446677Z",
     "shell.execute_reply": "2025-02-12T18:07:12.446475Z"
    }
   },
   "outputs": [],
   "source": [
    "parse_wakefield(wakefields[0])"
   ]
  },
  {
   "cell_type": "markdown",
   "metadata": {},
   "source": [
    "# Full lattice parsing into element dicts"
   ]
  },
  {
   "cell_type": "code",
   "execution_count": null,
   "metadata": {
    "execution": {
     "iopub.execute_input": "2025-02-12T18:07:12.447862Z",
     "iopub.status.busy": "2025-02-12T18:07:12.447793Z",
     "iopub.status.idle": "2025-02-12T18:07:12.449494Z",
     "shell.execute_reply": "2025-02-12T18:07:12.449257Z"
    }
   },
   "outputs": [],
   "source": [
    "# This parses all lines.\n",
    "eles = parse_lattice(LATLINES)"
   ]
  },
  {
   "cell_type": "code",
   "execution_count": null,
   "metadata": {
    "execution": {
     "iopub.execute_input": "2025-02-12T18:07:12.450555Z",
     "iopub.status.busy": "2025-02-12T18:07:12.450483Z",
     "iopub.status.idle": "2025-02-12T18:07:12.452367Z",
     "shell.execute_reply": "2025-02-12T18:07:12.452140Z"
    }
   },
   "outputs": [],
   "source": [
    "# MAD-style printing\n",
    "for e in eles:\n",
    "    s = ele_str(e)\n",
    "    print(s)"
   ]
  },
  {
   "cell_type": "code",
   "execution_count": null,
   "metadata": {
    "execution": {
     "iopub.execute_input": "2025-02-12T18:07:12.453412Z",
     "iopub.status.busy": "2025-02-12T18:07:12.453344Z",
     "iopub.status.idle": "2025-02-12T18:07:12.455144Z",
     "shell.execute_reply": "2025-02-12T18:07:12.454941Z"
    }
   },
   "outputs": [],
   "source": [
    "# Output lines\n",
    "for e in eles:\n",
    "    print(ele_line(e))"
   ]
  }
 ],
 "metadata": {
  "kernelspec": {
   "display_name": "Python 3 (ipykernel)",
   "language": "python",
   "name": "python3"
  },
  "language_info": {
   "codemirror_mode": {
    "name": "ipython",
    "version": 3
   },
   "file_extension": ".py",
   "mimetype": "text/x-python",
   "name": "python",
   "nbconvert_exporter": "python",
   "pygments_lexer": "ipython3",
   "version": "3.12.8"
  }
 },
 "nbformat": 4,
 "nbformat_minor": 4
}
