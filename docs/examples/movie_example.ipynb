{
 "cells": [
  {
   "cell_type": "markdown",
   "metadata": {},
   "source": [
    "# Movie example using write_beam\n",
    "\n",
    "TODO: Fix bokeh"
   ]
  },
  {
   "cell_type": "code",
   "execution_count": null,
   "metadata": {},
   "outputs": [],
   "source": [
    "from impact import Impact\n",
    "from distgen import Generator\n",
    "\n",
    "# Make new write_beam elements and add them to the lattice.\n",
    "from impact.lattice import new_write_beam\n",
    "\n",
    "\n",
    "import numpy as np\n",
    "import os\n",
    "\n",
    "\n",
    "from bokeh.plotting import show, figure, output_notebook\n",
    "from bokeh.layouts import column\n",
    "from bokeh.models import ColumnDataSource\n",
    "from bokeh import palettes, colors\n",
    "from bokeh.models.widgets import Slider\n",
    "\n",
    "output_notebook(verbose=False, hide_banner=True)"
   ]
  },
  {
   "cell_type": "markdown",
   "metadata": {},
   "source": [
    "Here we insert write_beam elements into an existing lattice, run, save the beams to an h5 file, and plot using openPMD-beamphysics tools"
   ]
  },
  {
   "cell_type": "code",
   "execution_count": null,
   "metadata": {},
   "outputs": [],
   "source": [
    "IMPACT_IN = \"templates/apex_gun/ImpactT.in\"\n",
    "DISTGEN_IN = \"templates/apex_gun/distgen.yaml\"\n",
    "os.path.exists(IMPACT_IN)"
   ]
  },
  {
   "cell_type": "code",
   "execution_count": null,
   "metadata": {},
   "outputs": [],
   "source": [
    "G = Generator(DISTGEN_IN)\n",
    "G[\"n_particle\"] = 10000\n",
    "G.run()\n",
    "P0 = G.particles\n",
    "P0.plot(\"x\", \"y\")"
   ]
  },
  {
   "cell_type": "code",
   "execution_count": null,
   "metadata": {},
   "outputs": [],
   "source": [
    "# Make Impact object\n",
    "I = Impact(IMPACT_IN, initial_particles=P0, verbose=True)\n",
    "\n",
    "\n",
    "# Change some things\n",
    "I.header[\"Nx\"] = 32\n",
    "I.header[\"Ny\"] = 32\n",
    "I.header[\"Nz\"] = 32\n",
    "I.header[\"Dt\"] = 1e-13\n",
    "\n",
    "I.total_charge = P0[\"charge\"]\n",
    "# Change stop location\n",
    "I.stop = 0.1"
   ]
  },
  {
   "cell_type": "code",
   "execution_count": null,
   "metadata": {},
   "outputs": [],
   "source": [
    "# Make a list of s\n",
    "for s in np.linspace(0.001, 0.1, 98):\n",
    "    ele = new_write_beam(\n",
    "        s=s, ref_eles=I.lattice\n",
    "    )  # ref_eles will ensure that there are no naming conflicts\n",
    "    I.add_ele(ele)"
   ]
  },
  {
   "cell_type": "code",
   "execution_count": null,
   "metadata": {},
   "outputs": [],
   "source": [
    "I.timeout = 1000\n",
    "I.run()"
   ]
  },
  {
   "cell_type": "code",
   "execution_count": null,
   "metadata": {},
   "outputs": [],
   "source": [
    "len(I.particles)"
   ]
  },
  {
   "cell_type": "markdown",
   "metadata": {},
   "source": [
    "# Plot"
   ]
  },
  {
   "cell_type": "code",
   "execution_count": null,
   "metadata": {},
   "outputs": [],
   "source": [
    "pal = palettes.Viridis[256]\n",
    "white = colors.named.white\n",
    "pal = list(pal)\n",
    "pal[0] = white  # replace 0 with white\n",
    "pal = tuple(pal)"
   ]
  },
  {
   "cell_type": "code",
   "execution_count": null,
   "metadata": {},
   "outputs": [],
   "source": [
    "# Prepare histogram function\n",
    "\n",
    "PL = I.particles\n",
    "\n",
    "ilist = []\n",
    "for k in PL:\n",
    "    if k.startswith(\"write_beam_\"):\n",
    "        ilist.append(int(k.strip(\"write_beam_\")))\n",
    "\n",
    "\n",
    "def bin_particles(i, key1=\"x\", key2=\"y\", bins=40):\n",
    "    P = I.particles[f\"write_beam_{i}\"]\n",
    "\n",
    "    return np.histogram2d(P[key1], P[key2], weights=P.weight, bins=bins)\n",
    "\n",
    "\n",
    "bin_particles(100)"
   ]
  },
  {
   "cell_type": "code",
   "execution_count": null,
   "metadata": {},
   "outputs": [],
   "source": [
    "# Prepare a datasource for Bokeh\n",
    "\n",
    "\n",
    "def bin_bunch_datasource_h5(\n",
    "    i, key1, key2, bins=20, nice=True, liveOnly=True, liveStatus=1\n",
    "):\n",
    "    H, xedges, yedges = bin_particles(i, key1, key2, bins=bins)\n",
    "    xmin = min(xedges)\n",
    "    xmax = max(xedges)\n",
    "    ymin = min(yedges)\n",
    "    ymax = max(yedges)\n",
    "\n",
    "    # if nice:\n",
    "    #    f1 = nice_phase_space_factor[component1]\n",
    "    #    f2 = nice_phase_space_factor[component2]\n",
    "    #    xlabel =  nice_phase_space_label[component1]\n",
    "    #    ylabel =  nice_phase_space_label[component2]\n",
    "    #    xmin *= f1\n",
    "    #    xmax *= f1\n",
    "    #    ymin *= f2\n",
    "    #    ymax *= f2\n",
    "    # else:\n",
    "    #    xlabel = component1\n",
    "    #    ylabel = component2\n",
    "\n",
    "    # Form datasource\n",
    "    dat = {\n",
    "        \"image\": [H.transpose()],\n",
    "        \"xmin\": [xmin],\n",
    "        \"ymin\": [ymin],\n",
    "        \"dw\": [xmax - xmin],\n",
    "        \"dh\": [ymax - ymin],\n",
    "    }\n",
    "    dat[\"xmax\"] = [xmax]\n",
    "    dat[\"ymax\"] = [ymax]\n",
    "\n",
    "    ds = ColumnDataSource(data=dat)\n",
    "\n",
    "    return ds\n",
    "\n",
    "\n",
    "ds = bin_bunch_datasource_h5(100, \"x\", \"y\")"
   ]
  },
  {
   "cell_type": "code",
   "execution_count": null,
   "metadata": {},
   "outputs": [],
   "source": [
    "plot = figure(  # x_range=[xmin,xmax], y_range=[ymin,ymax],\n",
    "    #    x_axis_label = xlabel,  y_axis_label = ylabel,\n",
    "    width=500,\n",
    "    height=500,\n",
    ")\n",
    "plot.image(image=\"image\", x=\"xmin\", y=\"ymin\", dw=\"dw\", dh=\"dh\", source=ds, palette=pal)\n",
    "show(plot)"
   ]
  },
  {
   "cell_type": "markdown",
   "metadata": {},
   "source": [
    "# Interactive "
   ]
  },
  {
   "cell_type": "code",
   "execution_count": null,
   "metadata": {},
   "outputs": [],
   "source": [
    "# interactive\n",
    "def myapp2(doc):\n",
    "    bunches = ilist\n",
    "\n",
    "    doc.bunchi = bunches[0]\n",
    "    doc.component1 = \"z\"\n",
    "    doc.component2 = \"x\"\n",
    "    doc.xlabel = doc.component1\n",
    "    doc.ylabel = doc.component2\n",
    "\n",
    "    doc.bins = 100\n",
    "\n",
    "    # doc.range = FULLRANGE\n",
    "    ds = bin_bunch_datasource_h5(\n",
    "        doc.bunchi, doc.component1, doc.component2, bins=doc.bins\n",
    "    )\n",
    "\n",
    "    def refresh():\n",
    "        ds.data = dict(\n",
    "            bin_bunch_datasource_h5(\n",
    "                doc.bunchi, doc.component1, doc.component2, bins=doc.bins\n",
    "            ).data\n",
    "        )\n",
    "\n",
    "    # Default plot\n",
    "\n",
    "    plot = figure(\n",
    "        title=\"\",\n",
    "        x_axis_label=doc.xlabel,\n",
    "        y_axis_label=doc.ylabel,\n",
    "        width=500,\n",
    "        height=500,\n",
    "    )\n",
    "    plot.image(\n",
    "        image=\"image\", x=\"xmin\", y=\"ymin\", dw=\"dw\", dh=\"dh\", source=ds, palette=pal\n",
    "    )\n",
    "\n",
    "    def slider_handler(attr, old, new):\n",
    "        doc.bunchi = bunches[new]\n",
    "        refresh()\n",
    "\n",
    "    slider = Slider(start=0, end=len(bunches) - 1, value=0, step=1, title=\"x\")\n",
    "    slider.on_change(\"value\", slider_handler)\n",
    "\n",
    "    # Add plot to end\n",
    "    doc.add_root(column(slider, plot))\n",
    "\n",
    "\n",
    "show(myapp2)  # , notebook_url=remote_jupyter_proxy_url)"
   ]
  },
  {
   "cell_type": "code",
   "execution_count": null,
   "metadata": {},
   "outputs": [],
   "source": [
    "# If there are multiple\n",
    "\n",
    "\n",
    "os.environ[\"BOKEH_ALLOW_WS_ORIGIN\"] = \"localhost:8888\""
   ]
  }
 ],
 "metadata": {
  "kernelspec": {
   "display_name": "Python 3 (ipykernel)",
   "language": "python",
   "name": "python3"
  },
  "language_info": {
   "codemirror_mode": {
    "name": "ipython",
    "version": 3
   },
   "file_extension": ".py",
   "mimetype": "text/x-python",
   "name": "python",
   "nbconvert_exporter": "python",
   "pygments_lexer": "ipython3",
   "version": "3.12.6"
  }
 },
 "nbformat": 4,
 "nbformat_minor": 4
}
