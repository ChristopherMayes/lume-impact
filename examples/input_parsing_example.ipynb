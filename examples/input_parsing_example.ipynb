{
 "cells": [
  {
   "cell_type": "markdown",
   "metadata": {},
   "source": [
    "# Parsing ImpactT.in"
   ]
  },
  {
   "cell_type": "markdown",
   "metadata": {},
   "source": [
    "Here are some examples of the low level routines to parse the main input file."
   ]
  },
  {
   "cell_type": "code",
   "execution_count": 1,
   "metadata": {},
   "outputs": [],
   "source": [
    "# Useful for debugging\n",
    "%load_ext autoreload\n",
    "%autoreload 2"
   ]
  },
  {
   "cell_type": "code",
   "execution_count": 2,
   "metadata": {},
   "outputs": [],
   "source": [
    "from impact.parsers import *"
   ]
  },
  {
   "cell_type": "code",
   "execution_count": 3,
   "metadata": {},
   "outputs": [],
   "source": [
    "from impact.lattice import *"
   ]
  },
  {
   "cell_type": "code",
   "execution_count": 4,
   "metadata": {},
   "outputs": [],
   "source": [
    "with open('../templates/lcls_injector/ImpactT.in', 'r') as f:    \n",
    "    data = f.read()\n",
    "    LINES = data.split('\\n')"
   ]
  },
  {
   "cell_type": "code",
   "execution_count": 5,
   "metadata": {},
   "outputs": [
    {
     "data": {
      "text/plain": [
       "{'Npcol': 1,\n",
       " 'Nprow': 1,\n",
       " 'Dt': 5e-13,\n",
       " 'Ntstep': 1000000,\n",
       " 'Nbunch': 1,\n",
       " 'Dim': 6,\n",
       " 'Np': 300004,\n",
       " 'Flagmap': 1,\n",
       " 'Flagerr': 0,\n",
       " 'Flagdiag': 2,\n",
       " 'Flagimg': 1,\n",
       " 'Zimage': 0.02,\n",
       " 'Nx': 64,\n",
       " 'Ny': 64,\n",
       " 'Nz': 128,\n",
       " 'Flagbc': 1,\n",
       " 'Xrad': 0.015,\n",
       " 'Yrad': 0.015,\n",
       " 'Perdlen': 45.0,\n",
       " 'Flagdist': 16,\n",
       " 'Rstartflg': 0,\n",
       " 'Flagsbstp': 0,\n",
       " 'Nemission': 400,\n",
       " 'Temission': 1.4e-11,\n",
       " 'sigx(m)': 0.0006,\n",
       " 'sigpx': 0.0,\n",
       " 'muxpx': 0.0,\n",
       " 'xscale': 1.0,\n",
       " 'pxscale': 1.0,\n",
       " 'xmu1(m)': 0.0,\n",
       " 'xmu2': 0.0,\n",
       " 'sigy(m)': 0.0006,\n",
       " 'sigpy': 0.0,\n",
       " 'muxpy': 0.0,\n",
       " 'yscale': 1.0,\n",
       " 'pyscale': 1.0,\n",
       " 'ymu1(m)': 0.0,\n",
       " 'ymu2': 0.0,\n",
       " 'sigz(m)': 1.27e-06,\n",
       " 'sigpz': 0.0,\n",
       " 'muxpz': 0.0,\n",
       " 'zscale': 1.0,\n",
       " 'pzscale': 1.0,\n",
       " 'zmu1(m)': 0.0,\n",
       " 'zmu2': 0.0,\n",
       " 'Bcurr': 0.714,\n",
       " 'Bkenergy': 1.0,\n",
       " 'Bmass': 511005.0,\n",
       " 'Bcharge': -1.0,\n",
       " 'Bfreq': 2856000000.0,\n",
       " 'Tini': 0.0}"
      ]
     },
     "execution_count": 5,
     "metadata": {},
     "output_type": "execute_result"
    }
   ],
   "source": [
    "parse_header(LINES)"
   ]
  },
  {
   "cell_type": "code",
   "execution_count": 6,
   "metadata": {},
   "outputs": [],
   "source": [
    "# Find index of the line where the lattice starts\n",
    "IX_LATTICE = ix_lattice(LINES)\n",
    "\n",
    "# Gather lattice lines\n",
    "LATLINES = LINES[IX_LATTICE:]"
   ]
  },
  {
   "cell_type": "code",
   "execution_count": 7,
   "metadata": {},
   "outputs": [
    {
     "name": "stdout",
     "output_type": "stream",
     "text": [
      "{'comment', 'solrf', 'stop', 'drift', 'write_beam', 'wakefield', 'change_timestep', 'quadrupole', 'rotationally_symmetric_to_3d'}\n",
      "31 drift\n",
      "7 quadrupole\n",
      "10 solrf\n",
      "5 write_beam\n",
      "1 change_timestep\n",
      "1 rotationally_symmetric_to_3d\n",
      "2 wakefield\n",
      "1 stop\n"
     ]
    }
   ],
   "source": [
    "# Summary of elements in this lattice\n",
    "def myf(t): return [l for l in LATLINES if parse_type(l) == t ] \n",
    "quads = myf('quadrupole')\n",
    "drifts = myf('drift')\n",
    "solrfs = myf('solrf')\n",
    "wakefields = myf('wakefield')\n",
    "\n",
    "alltypes = set([parse_type(l) for l in LATLINES])\n",
    "print(alltypes)\n",
    "\n",
    "for t in ele_type.values():\n",
    "    l = len(myf(t))\n",
    "    if l > 0:\n",
    "        print(l, t)"
   ]
  },
  {
   "cell_type": "markdown",
   "metadata": {},
   "source": [
    "# Individual element parsing"
   ]
  },
  {
   "cell_type": "code",
   "execution_count": 8,
   "metadata": {},
   "outputs": [
    {
     "data": {
      "text/plain": [
       "{'zedge': 1.387, 'radius': 0.15}"
      ]
     },
     "execution_count": 8,
     "metadata": {},
     "output_type": "execute_result"
    }
   ],
   "source": [
    "parse_drift(drifts[0])"
   ]
  },
  {
   "cell_type": "code",
   "execution_count": 9,
   "metadata": {},
   "outputs": [
    {
     "data": {
      "text/plain": [
       "{'zedge': 4.752856,\n",
       " 'b1_gradient': 1.8524,\n",
       " 'L_effective': 0.108,\n",
       " 'radius': 0.016,\n",
       " 'x_offset': 0.0,\n",
       " 'y_offset': 0.0,\n",
       " 'x_rotation': 0.0,\n",
       " 'y_rotation': 0.0,\n",
       " 'z_rotation': 0.0}"
      ]
     },
     "execution_count": 9,
     "metadata": {},
     "output_type": "execute_result"
    }
   ],
   "source": [
    "parse_quadrupole(quads[0])"
   ]
  },
  {
   "cell_type": "code",
   "execution_count": 10,
   "metadata": {},
   "outputs": [
    {
     "data": {
      "text/plain": [
       "{'zedge': 0.0,\n",
       " 'rf_field_scale': 47000000.0,\n",
       " 'rf_frequency': 2856000000.0,\n",
       " 'theta0_deg': 293.54,\n",
       " 'filename': 'rfdata201',\n",
       " 'radius': 0.15,\n",
       " 'x_offset': 0.0,\n",
       " 'y_offset': 0.0,\n",
       " 'x_rotation': 0.0,\n",
       " 'y_rotation': 0.0,\n",
       " 'z_rotation': 0.0,\n",
       " 'solenoid_field_scale': 0.0}"
      ]
     },
     "execution_count": 10,
     "metadata": {},
     "output_type": "execute_result"
    }
   ],
   "source": [
    "parse_solrf(solrfs[0])"
   ]
  },
  {
   "cell_type": "code",
   "execution_count": 11,
   "metadata": {},
   "outputs": [
    {
     "data": {
      "text/plain": [
       "{'s_begin': 1.485,\n",
       " 's_end': 4.527856,\n",
       " 'method': 'analytical',\n",
       " 'iris_radius': 0.0116,\n",
       " 'gap': 0.0292,\n",
       " 'period': 0.035}"
      ]
     },
     "execution_count": 11,
     "metadata": {},
     "output_type": "execute_result"
    }
   ],
   "source": [
    "parse_wakefield(wakefields[0])"
   ]
  },
  {
   "cell_type": "markdown",
   "metadata": {},
   "source": [
    "# Full lattice parsing into element dicts"
   ]
  },
  {
   "cell_type": "code",
   "execution_count": 12,
   "metadata": {},
   "outputs": [],
   "source": [
    "from impact.lattice import ele_str"
   ]
  },
  {
   "cell_type": "code",
   "execution_count": 13,
   "metadata": {},
   "outputs": [],
   "source": [
    "# This parses all lines. \n",
    "eles = parse_lattice(LATLINES)"
   ]
  },
  {
   "cell_type": "code",
   "execution_count": 14,
   "metadata": {},
   "outputs": [
    {
     "name": "stdout",
     "output_type": "stream",
     "text": [
      "change_timestep_1: change_timestep, description=, dt=5e-13, s=0.25\n",
      "!**************************1.5 cell gun ************************\n",
      "GUN: solrf, description=name:GUN, L=0.15, zedge=0.0, rf_field_scale=47000000.0,\n",
      "      rf_frequency=2856000000.0, theta0_deg=293.54, filename=rfdata201, radius=0.15,\n",
      "      x_offset=0.0, y_offset=0.0, x_rotation=0.0, y_rotation=0.0, z_rotation=0.0,\n",
      "      solenoid_field_scale=0.0, s=0.15\n",
      "SOL1: solrf, description=name:SOL1, L=0.49308, zedge=0.0, rf_field_scale=0.0,\n",
      "      rf_frequency=0.0, theta0_deg=0.0, filename=rfdata102, radius=0.15, x_offset=0.0,\n",
      "      y_offset=0.0, x_rotation=0.0, y_rotation=0.0, z_rotation=0.0,\n",
      "      solenoid_field_scale=0.243, s=0.49308\n",
      "WRITE_BEAM_41_BEGL0: write_beam, description=name:WRITE_BEAM_41_BEGL0,\n",
      "      filename=fort.41, sample_frequency=1, s=0.977844\n",
      "!!!0 0 0 -8  0 -1 0.977844    /!name:'sc_off'\n",
      "drift_1: drift, description=, L=0.072, zedge=1.387, radius=0.15, s=1.459\n",
      "\n",
      "!**************************** L0A begin **************************\n",
      "drift_2: drift, description=, L=0.026, zedge=1.459, radius=0.15, s=1.485\n",
      "wakefield_1: wakefield, description=, s_begin=1.485, s_end=4.527856, method=analytical,\n",
      "      iris_radius=0.0116, gap=0.0292, period=0.035\n",
      "!to get 63.6MeV\n",
      "L0A_entrance: solrf, description=name:L0A_entrance, L=0.052464, zedge=1.485,\n",
      "      rf_field_scale=25905612.0, rf_frequency=2856000000.0, theta0_deg=258.5,\n",
      "      filename=rfdata4, radius=0.15, x_offset=0.0, y_offset=0.0, x_rotation=0.0,\n",
      "      y_rotation=0.0, z_rotation=0.0, solenoid_field_scale=0.0, s=1.5374640000000002\n",
      "L0A_body_1: solrf, description=name:L0A_body_1, L=2.937928, zedge=1.537464,\n",
      "      rf_field_scale=29913224.7, rf_frequency=2856000000.0, theta0_deg=288.5,\n",
      "      filename=rfdata5, radius=0.15, x_offset=0.0, y_offset=0.0, x_rotation=0.0,\n",
      "      y_rotation=0.0, z_rotation=0.0, solenoid_field_scale=0.0, s=4.475391999999999\n",
      "L0A_body_2: solrf, description=name:L0A_body_2, L=2.937928, zedge=1.537464,\n",
      "      rf_field_scale=29913224.7, rf_frequency=2856000000.0, theta0_deg=348.5,\n",
      "      filename=rfdata6, radius=0.15, x_offset=0.0, y_offset=0.0, x_rotation=0.0,\n",
      "      y_rotation=0.0, z_rotation=0.0, solenoid_field_scale=0.0, s=4.475391999999999\n",
      "L0A_exit: solrf, description=name:L0A_exit, L=0.052464, zedge=4.475392,\n",
      "      rf_field_scale=25905612.0, rf_frequency=2856000000.0, theta0_deg=258.5,\n",
      "      filename=rfdata7, radius=0.15, x_offset=0.0, y_offset=0.0, x_rotation=0.0,\n",
      "      y_rotation=0.0, z_rotation=0.0, solenoid_field_scale=0.0, s=4.527856\n",
      "drift_3: drift, description=, L=0.026, zedge=4.527856, radius=0.15, s=4.553856\n",
      "!***************************** L0A exit ***************************\n",
      "! Space charge switches\n",
      "!!!0 0 0 -8 0 1 4.527856 / name:SC_ON\n",
      "!!!0 0 0 -8 0 -1 4.527856 / name:SC_OFF\n",
      "SC_2D_to_3D: rotationally_symmetric_to_3d, description=name:SC_2D_to_3D, s=4.527856\n",
      "\n",
      "WRITE_BEAM_42_L0BBEG: write_beam, description=name:WRITE_BEAM_42_L0BBEG,\n",
      "      filename=fort.42, sample_frequency=1, s=4.554244\n",
      "drift_4: drift, description=, L=0.199, zedge=4.553856, radius=0.15, s=4.7528559999999995\n",
      "!! -----------QA01-----------------\n",
      "QA01: quadrupole, description=name:QA01, L=0.204, zedge=4.752856, b1_gradient=1.8524,\n",
      "      L_effective=0.108, radius=0.016, x_offset=0.0, y_offset=0.0, x_rotation=0.0,\n",
      "      y_rotation=0.0, z_rotation=0.0, s=4.956856\n",
      "drift_5: drift, description=, L=0.124, zedge=4.956856, radius=0.15, s=5.080856\n",
      "\n",
      "! -----------QA02-----------------\n",
      "QA02: quadrupole, description=name:QA02, L=0.204, zedge=5.080856, b1_gradient=-1.8267,\n",
      "      L_effective=0.108, radius=0.016, x_offset=0.0, y_offset=0.0, x_rotation=0.0,\n",
      "      y_rotation=0.0, z_rotation=0.0, s=5.2848559999999996\n",
      "drift_6: drift, description=, L=0.0179, zedge=5.284856, radius=0.15, s=5.3027560000000005\n",
      "\n",
      "!***************************** L0B begin ***************************\n",
      "drift_7: drift, description=, L=0.026, zedge=5.302756, radius=0.15, s=5.328755999999999\n",
      "wakefield_2: wakefield, description=, s_begin=5.328756, s_end=8.371612,\n",
      "      method=analytical, iris_radius=0.0116, gap=0.0292, period=0.035\n",
      "!to get 135MeV\n",
      "L0B_entrance: solrf, description=name:L0B_entrance, L=0.052464, zedge=5.328756,\n",
      "      rf_field_scale=32055209.0, rf_frequency=2856000000.0, theta0_deg=400.5,\n",
      "      filename=rfdata4, radius=0.15, x_offset=0.0, y_offset=0.0, x_rotation=0.0,\n",
      "      y_rotation=0.0, z_rotation=0.0, solenoid_field_scale=0.0, s=5.38122\n",
      "L0B_body_1: solrf, description=name:L0B_body_1, L=2.937928, zedge=5.38122,\n",
      "      rf_field_scale=37014168.0, rf_frequency=2856000000.0, theta0_deg=430.5,\n",
      "      filename=rfdata5, radius=0.15, x_offset=0.0, y_offset=0.0, x_rotation=0.0,\n",
      "      y_rotation=0.0, z_rotation=0.0, solenoid_field_scale=0.0, s=8.319148\n",
      "L0B_body_2: solrf, description=name:L0B_body_2, L=2.937928, zedge=5.38122,\n",
      "      rf_field_scale=37014168.0, rf_frequency=2856000000.0, theta0_deg=490.5,\n",
      "      filename=rfdata6, radius=0.15, x_offset=0.0, y_offset=0.0, x_rotation=0.0,\n",
      "      y_rotation=0.0, z_rotation=0.0, solenoid_field_scale=0.0, s=8.319148\n",
      "L0B_exit: solrf, description=name:L0B_exit, L=0.052464, zedge=8.319148,\n",
      "      rf_field_scale=32055209.0, rf_frequency=2856000000.0, theta0_deg=400.5,\n",
      "      filename=rfdata7, radius=0.15, x_offset=0.0, y_offset=0.0, x_rotation=0.0,\n",
      "      y_rotation=0.0, z_rotation=0.0, solenoid_field_scale=0.0, s=8.371612\n",
      "drift_8: drift, description=, L=0.026, zedge=8.371612, radius=0.15, s=8.397612\n",
      "!***************************** L0B exit ****************************\n",
      "\n",
      "drift_9: drift, description=, L=0.0, zedge=8.397612, radius=0.15, s=8.397612\n",
      "WRITE_BEAM_43_ENDL0: write_beam, description=name:WRITE_BEAM_43_ENDL0,\n",
      "      filename=fort.43, sample_frequency=1, s=8.398442\n",
      "\n",
      "!QE01/BPM6\n",
      "QE01: quadrupole, description=name:QE01, L=0.1912, zedge=8.397612, b1_gradient=0.1872,\n",
      "      L_effective=0.108, radius=0.016, x_offset=0.0, y_offset=0.0, x_rotation=0.0,\n",
      "      y_rotation=0.0, z_rotation=0.0, s=8.588812\n",
      "WRITE_BEAM_44_QE01: write_beam, description=name:WRITE_BEAM_44_QE01,\n",
      "      filename=fort.44, sample_frequency=1, s=8.548049\n",
      "drift_10: drift, description=, L=0.203913, zedge=8.588812, radius=0.15, s=8.792725\n",
      "\n",
      "!QE02/BPM7\n",
      "QE02: quadrupole, description=name:QE02, L=0.204, zedge=8.792725, b1_gradient=0.1661,\n",
      "      L_effective=0.108, radius=0.016, x_offset=0.0, y_offset=0.0, x_rotation=0.0,\n",
      "      y_rotation=0.0, z_rotation=0.0, s=8.996725000000001\n",
      "\n",
      "drift_11: drift, description=, L=0.07933, zedge=8.996725, radius=0.15, s=9.076055\n",
      "\n",
      "!LH begins\n",
      "drift_12: drift, description=LH begins, L=1.6098, zedge=9.076055, radius=0.15, s=10.685855\n",
      "!LH ends\n",
      "\n",
      "drift_13: drift, description=, L=0.122901, zedge=10.685855, radius=0.15, s=10.808756\n",
      "\n",
      "!TCAV0\n",
      "drift_14: drift, description=, L=0.668024, zedge=10.808756, radius=0.15,\n",
      "      s=11.476780000000002\n",
      "drift_15: drift, description=, L=0.00074, zedge=11.47678, radius=0.15, s=11.47752\n",
      "\n",
      "!QE03\n",
      "QE03: quadrupole, description=name:QE03, L=0.178, zedge=11.47752, b1_gradient=-2.6409,\n",
      "      L_effective=0.108, radius=0.016, x_offset=0.0, y_offset=0.0, x_rotation=0.0,\n",
      "      y_rotation=0.0, z_rotation=0.0, s=11.655520000000001\n",
      "drift_16: drift, description=, L=0.1269, zedge=11.65552, radius=0.15, s=11.782419999999998\n",
      "\n",
      "!XC/YC07\n",
      "drift_17: drift, description=, L=0.0, zedge=11.78242, radius=0.15, s=11.78242\n",
      "drift_18: drift, description=, L=0.088499, zedge=11.78242, radius=0.15, s=11.870919\n",
      "\n",
      "!QE04\n",
      "QE04: quadrupole, description=name:QE04, L=0.204, zedge=11.870919, b1_gradient=2.98,\n",
      "      L_effective=0.108, radius=0.016, x_offset=0.0, y_offset=0.0, x_rotation=0.0,\n",
      "      y_rotation=0.0, z_rotation=0.0, s=12.074919000000001\n",
      "drift_19: drift, description=, L=0.095688, zedge=12.074919, radius=0.15, s=12.170607\n",
      "\n",
      "!WS01\n",
      "drift_20: drift, description=, L=0.0, zedge=12.170607, radius=0.15, s=12.170607\n",
      "\n",
      "drift_21: drift, description=, L=0.151968, zedge=12.170607, radius=0.15, s=12.322575\n",
      "!OTR1\n",
      "\n",
      "OTR1: drift, description=name:OTR1, L=1.761761, zedge=12.322575, radius=0.15, s=14.084336\n",
      "\n",
      "!WS02\n",
      "drift_23: drift, description=, L=0.0, zedge=14.084336, radius=0.15, s=14.084336\n",
      "drift_24: drift, description=, L=0.151968, zedge=14.084336, radius=0.15, s=14.236304\n",
      "\n",
      "!OTR2\n",
      "OTR2: drift, description=name:OTR2, L=0.16381, zedge=14.236304, radius=0.15, s=14.400114\n",
      "WRITE_BEAM_45_OTR2: write_beam, description=name:WRITE_BEAM_45_OTR2,\n",
      "      filename=fort.45, sample_frequency=1, s=14.236304\n",
      "\n",
      "!BPM10\n",
      "drift_26: drift, description=, L=0.0, zedge=14.400114, radius=0.15, s=14.400114\n",
      "drift_27: drift, description=, L=1.59793, zedge=14.400114, radius=0.15, s=15.998044\n",
      "\n",
      "!WS03\n",
      "WS03: drift, description=name:WS03, L=0.151968, zedge=15.998044, radius=0.15, s=16.150012\n",
      "\n",
      "!OTR3\n",
      "\n",
      "OTR3: drift, description=name:OTR3, L=0.102806, zedge=16.15, radius=0.15, s=16.252806\n",
      "\n",
      "!QM01 and BPM11\n",
      "quadrupole_7: quadrupole, description=, L=0.204, zedge=16.2528, b1_gradient=-6.772664,\n",
      "      L_effective=0.108, radius=0.016, x_offset=0.0, y_offset=0.0, x_rotation=0.0,\n",
      "      y_rotation=0.0, z_rotation=0.0, s=16.4568\n",
      "drift_30: drift, description=, L=0.099872, zedge=16.4568, radius=0.15,\n",
      "      s=16.556672000000002\n",
      "\n",
      "!XC08/YC08\n",
      "drift_31: drift, description=, L=0.18333, zedge=16.556672, radius=0.15, s=16.740002\n",
      "\n",
      "!VV04\n",
      "!all above same as MAD and similar to yuandao. \n",
      "stop_1: stop, description=, s=16.7\n",
      "\n",
      "\n",
      "\n",
      "\n",
      "\n"
     ]
    }
   ],
   "source": [
    "# Nice printing\n",
    "for e in eles:\n",
    "    s = ele_str(e)\n",
    "    print(s)"
   ]
  },
  {
   "cell_type": "code",
   "execution_count": 15,
   "metadata": {},
   "outputs": [
    {
     "name": "stdout",
     "output_type": "stream",
     "text": [
      "0 0 0 -4 0.0 0.0 0.25 5e-13 /!name:change_timestep_1\n",
      "!**************************1.5 cell gun ************************\n",
      "0.15 0 0 105 0.0 47000000.0 2856000000.0 293.54 201 0.15 0.0 0.0 0.0 0.0 0.0 0.0 /!name:GUN\n",
      "0.49308 0 0 105 0.0 0.0 0.0 0.0 102 0.15 0.0 0.0 0.0 0.0 0.0 0.243 /!name:SOL1\n",
      "0 1 41 -2 0.0 0.0 0.977844 /!name:WRITE_BEAM_41_BEGL0\n",
      "!!!0 0 0 -8  0 -1 0.977844    /!name:'sc_off'\n",
      "0.072 0 0 0 1.387 0.15 /!name:drift_1\n",
      "!\n",
      "!**************************** L0A begin **************************\n",
      "0.026 0 0 0 1.459 0.15 /!name:drift_2\n",
      "0 -1 0 -6 1 1 1.485 4.527856 0.0116 0.0292 0.035 /!name:wakefield_1\n",
      "!to get 63.6MeV\n",
      "0.052464 0 0 105 1.485 25905612.0 2856000000.0 258.5 4 0.15 0.0 0.0 0.0 0.0 0.0 0.0 /!name:L0A_entrance\n",
      "2.937928 0 0 105 1.537464 29913224.7 2856000000.0 288.5 5 0.15 0.0 0.0 0.0 0.0 0.0 0.0 /!name:L0A_body_1\n",
      "2.937928 0 0 105 1.537464 29913224.7 2856000000.0 348.5 6 0.15 0.0 0.0 0.0 0.0 0.0 0.0 /!name:L0A_body_2\n",
      "0.052464 0 0 105 4.475392 25905612.0 2856000000.0 258.5 7 0.15 0.0 0.0 0.0 0.0 0.0 0.0 /!name:L0A_exit\n",
      "0.026 0 0 0 4.527856 0.15 /!name:drift_3\n",
      "!***************************** L0A exit ***************************\n",
      "! Space charge switches\n",
      "!!!0 0 0 -8 0 1 4.527856 / name:SC_ON\n",
      "!!!0 0 0 -8 0 -1 4.527856 / name:SC_OFF\n",
      "0 0 0 -5 0.0 0.0 4.527856 /!name:SC_2D_to_3D\n",
      "!\n",
      "0 1 42 -2 0.0 0.0 4.554244 /!name:WRITE_BEAM_42_L0BBEG\n",
      "0.199 0 0 0 4.553856 0.15 /!name:drift_4\n",
      "!! -----------QA01-----------------\n",
      "0.204 0 0 1 4.752856 1.8524 0.108 0.016 0.0 0.0 0.0 0.0 0.0 /!name:QA01\n",
      "0.124 0 0 0 4.956856 0.15 /!name:drift_5\n",
      "!\n",
      "! -----------QA02-----------------\n",
      "0.204 0 0 1 5.080856 -1.8267 0.108 0.016 0.0 0.0 0.0 0.0 0.0 /!name:QA02\n",
      "0.0179 0 0 0 5.284856 0.15 /!name:drift_6\n",
      "!\n",
      "!***************************** L0B begin ***************************\n",
      "0.026 0 0 0 5.302756 0.15 /!name:drift_7\n",
      "0 -1 0 -6 1 1 5.328756 8.371612 0.0116 0.0292 0.035 /!name:wakefield_2\n",
      "!to get 135MeV\n",
      "0.052464 0 0 105 5.328756 32055209.0 2856000000.0 400.5 4 0.15 0.0 0.0 0.0 0.0 0.0 0.0 /!name:L0B_entrance\n",
      "2.937928 0 0 105 5.38122 37014168.0 2856000000.0 430.5 5 0.15 0.0 0.0 0.0 0.0 0.0 0.0 /!name:L0B_body_1\n",
      "2.937928 0 0 105 5.38122 37014168.0 2856000000.0 490.5 6 0.15 0.0 0.0 0.0 0.0 0.0 0.0 /!name:L0B_body_2\n",
      "0.052464 0 0 105 8.319148 32055209.0 2856000000.0 400.5 7 0.15 0.0 0.0 0.0 0.0 0.0 0.0 /!name:L0B_exit\n",
      "0.026 0 0 0 8.371612 0.15 /!name:drift_8\n",
      "!***************************** L0B exit ****************************\n",
      "!\n",
      "0.0 0 0 0 8.397612 0.15 /!name:drift_9\n",
      "0 1 43 -2 0.0 0.0 8.398442 /!name:WRITE_BEAM_43_ENDL0\n",
      "!\n",
      "!QE01/BPM6\n",
      "0.1912 0 0 1 8.397612 0.1872 0.108 0.016 0.0 0.0 0.0 0.0 0.0 /!name:QE01\n",
      "0 1 44 -2 0.0 0.0 8.548049 /!name:WRITE_BEAM_44_QE01\n",
      "0.203913 0 0 0 8.588812 0.15 /!name:drift_10\n",
      "!\n",
      "!QE02/BPM7\n",
      "0.204 0 0 1 8.792725 0.1661 0.108 0.016 0.0 0.0 0.0 0.0 0.0 /!name:QE02\n",
      "!\n",
      "0.07933 0 0 0 8.996725 0.15 /!name:drift_11\n",
      "!\n",
      "!LH begins\n",
      "1.6098 0 0 0 9.076055 0.15 /!name:drift_12\n",
      "!LH ends\n",
      "!\n",
      "0.122901 0 0 0 10.685855 0.15 /!name:drift_13\n",
      "!\n",
      "!TCAV0\n",
      "0.668024 0 0 0 10.808756 0.15 /!name:drift_14\n",
      "0.00074 0 0 0 11.47678 0.15 /!name:drift_15\n",
      "!\n",
      "!QE03\n",
      "0.178 0 0 1 11.47752 -2.6409 0.108 0.016 0.0 0.0 0.0 0.0 0.0 /!name:QE03\n",
      "0.1269 0 0 0 11.65552 0.15 /!name:drift_16\n",
      "!\n",
      "!XC/YC07\n",
      "0.0 0 0 0 11.78242 0.15 /!name:drift_17\n",
      "0.088499 0 0 0 11.78242 0.15 /!name:drift_18\n",
      "!\n",
      "!QE04\n",
      "0.204 0 0 1 11.870919 2.98 0.108 0.016 0.0 0.0 0.0 0.0 0.0 /!name:QE04\n",
      "0.095688 0 0 0 12.074919 0.15 /!name:drift_19\n",
      "!\n",
      "!WS01\n",
      "0.0 0 0 0 12.170607 0.15 /!name:drift_20\n",
      "!\n",
      "0.151968 0 0 0 12.170607 0.15 /!name:drift_21\n",
      "!OTR1\n",
      "!\n",
      "1.761761 0 0 0 12.322575 0.15 /!name:OTR1\n",
      "!\n",
      "!WS02\n",
      "0.0 0 0 0 14.084336 0.15 /!name:drift_23\n",
      "0.151968 0 0 0 14.084336 0.15 /!name:drift_24\n",
      "!\n",
      "!OTR2\n",
      "0.16381 0 0 0 14.236304 0.15 /!name:OTR2\n",
      "0 1 45 -2 0.0 0.0 14.236304 /!name:WRITE_BEAM_45_OTR2\n",
      "!\n",
      "!BPM10\n",
      "0.0 0 0 0 14.400114 0.15 /!name:drift_26\n",
      "1.59793 0 0 0 14.400114 0.15 /!name:drift_27\n",
      "!\n",
      "!WS03\n",
      "0.151968 0 0 0 15.998044 0.15 /!name:WS03\n",
      "!\n",
      "!OTR3\n",
      "!\n",
      "0.102806 0 0 0 16.15 0.15 /!name:OTR3\n",
      "!\n",
      "!QM01 and BPM11\n",
      "0.204 0 0 1 16.2528 -6.772664 0.108 0.016 0.0 0.0 0.0 0.0 0.0 /!name:quadrupole_7\n",
      "0.099872 0 0 0 16.4568 0.15 /!name:drift_30\n",
      "!\n",
      "!XC08/YC08\n",
      "0.18333 0 0 0 16.556672 0.15 /!name:drift_31\n",
      "!\n",
      "!VV04\n",
      "!all above same as MAD and similar to yuandao. \n",
      "0 0 0 -99 16.7 0.0 16.7 /!name:stop_1\n",
      "\n",
      "\n",
      "\n",
      "\n",
      "\n"
     ]
    }
   ],
   "source": [
    "# Output lines\n",
    "for e in eles:\n",
    "    print(ele_line(e))"
   ]
  },
  {
   "cell_type": "code",
   "execution_count": null,
   "metadata": {},
   "outputs": [],
   "source": []
  }
 ],
 "metadata": {
  "kernelspec": {
   "display_name": "Python 3",
   "language": "python",
   "name": "python3"
  },
  "language_info": {
   "codemirror_mode": {
    "name": "ipython",
    "version": 3
   },
   "file_extension": ".py",
   "mimetype": "text/x-python",
   "name": "python",
   "nbconvert_exporter": "python",
   "pygments_lexer": "ipython3",
   "version": "3.7.5"
  }
 },
 "nbformat": 4,
 "nbformat_minor": 4
}
