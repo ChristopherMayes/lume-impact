{
 "cells": [
  {
   "cell_type": "code",
   "execution_count": 1,
   "metadata": {},
   "outputs": [],
   "source": [
    "# Useful for debugging\n",
    "%load_ext autoreload\n",
    "%autoreload 2"
   ]
  },
  {
   "cell_type": "markdown",
   "metadata": {},
   "source": [
    "# particles"
   ]
  },
  {
   "cell_type": "code",
   "execution_count": 2,
   "metadata": {},
   "outputs": [],
   "source": [
    "from impact.parsers import parse_impact_particles\n",
    "import numpy as np"
   ]
  },
  {
   "cell_type": "code",
   "execution_count": 3,
   "metadata": {},
   "outputs": [
    {
     "name": "stdout",
     "output_type": "stream",
     "text": [
      "300004\n",
      "  -2.3100165e-04  -4.9602831e-04  -8.7012500e-05   1.3489813e-04  -1.5400278e-06   1.9780000e-03\n",
      "   4.3611631e-04   1.2615826e-03   3.2937175e-04  -5.7131252e-04  -2.7340319e-06   1.9780000e-03\n",
      "   4.0614893e-04   1.0219854e-03   3.8438809e-04   7.9314477e-04  -1.7480634e-06   1.9780000e-03\n",
      "  -4.6228725e-06  -9.2105950e-05  -1.0653409e-04  -3.6416778e-05  -2.1070141e-06   1.9780000e-03\n",
      "   6.5748327e-05  -2.5636466e-04  -4.1871397e-04   1.7424081e-04  -2.0023810e-06   1.9780000e-03\n",
      "   1.4546577e-04  -1.3680945e-04  -1.4914360e-04  -8.7937840e-04  -4.2577223e-07   1.9780000e-03\n",
      "  -2.6238553e-04   2.0215841e-03   3.0330251e-05   7.8123555e-04  -2.8393854e-06   1.9780000e-03\n",
      "  -1.6558492e-04  -1.2573322e-03   3.0810745e-04  -4.6004104e-04  -8.9272327e-07   1.9780000e-03\n",
      "   5.1099252e-04  -2.9955067e-04   5.7496436e-05   6.1634900e-04  -7.1709180e-07   1.9780000e-03\n"
     ]
    }
   ],
   "source": [
    "# This file should exist\n",
    "!head ../templates/lcls_injector/partcl.data"
   ]
  },
  {
   "cell_type": "code",
   "execution_count": 4,
   "metadata": {},
   "outputs": [],
   "source": [
    "pdat = parse_impact_particles('../templates/lcls_injector/partcl.data')"
   ]
  },
  {
   "cell_type": "markdown",
   "metadata": {},
   "source": [
    "# Write in openPMD BeamPhysics format"
   ]
  },
  {
   "cell_type": "code",
   "execution_count": 5,
   "metadata": {},
   "outputs": [],
   "source": [
    "import h5py\n",
    "from impact.writers import write_impact_particles_h5"
   ]
  },
  {
   "cell_type": "code",
   "execution_count": 6,
   "metadata": {},
   "outputs": [],
   "source": [
    "# Write to h5\n",
    "with h5py.File('particles.h5', 'w') as h5:\n",
    "    write_impact_particles_h5(h5, pdat, name='mybunch')"
   ]
  },
  {
   "cell_type": "markdown",
   "metadata": {},
   "source": [
    "# Plot"
   ]
  },
  {
   "cell_type": "code",
   "execution_count": 7,
   "metadata": {},
   "outputs": [
    {
     "data": {
      "application/javascript": [
       "\n",
       "(function(root) {\n",
       "  function now() {\n",
       "    return new Date();\n",
       "  }\n",
       "\n",
       "  var force = true;\n",
       "\n",
       "  if (typeof root._bokeh_onload_callbacks === \"undefined\" || force === true) {\n",
       "    root._bokeh_onload_callbacks = [];\n",
       "    root._bokeh_is_loading = undefined;\n",
       "  }\n",
       "\n",
       "  var JS_MIME_TYPE = 'application/javascript';\n",
       "  var HTML_MIME_TYPE = 'text/html';\n",
       "  var EXEC_MIME_TYPE = 'application/vnd.bokehjs_exec.v0+json';\n",
       "  var CLASS_NAME = 'output_bokeh rendered_html';\n",
       "\n",
       "  /**\n",
       "   * Render data to the DOM node\n",
       "   */\n",
       "  function render(props, node) {\n",
       "    var script = document.createElement(\"script\");\n",
       "    node.appendChild(script);\n",
       "  }\n",
       "\n",
       "  /**\n",
       "   * Handle when an output is cleared or removed\n",
       "   */\n",
       "  function handleClearOutput(event, handle) {\n",
       "    var cell = handle.cell;\n",
       "\n",
       "    var id = cell.output_area._bokeh_element_id;\n",
       "    var server_id = cell.output_area._bokeh_server_id;\n",
       "    // Clean up Bokeh references\n",
       "    if (id != null && id in Bokeh.index) {\n",
       "      Bokeh.index[id].model.document.clear();\n",
       "      delete Bokeh.index[id];\n",
       "    }\n",
       "\n",
       "    if (server_id !== undefined) {\n",
       "      // Clean up Bokeh references\n",
       "      var cmd = \"from bokeh.io.state import curstate; print(curstate().uuid_to_server['\" + server_id + \"'].get_sessions()[0].document.roots[0]._id)\";\n",
       "      cell.notebook.kernel.execute(cmd, {\n",
       "        iopub: {\n",
       "          output: function(msg) {\n",
       "            var id = msg.content.text.trim();\n",
       "            if (id in Bokeh.index) {\n",
       "              Bokeh.index[id].model.document.clear();\n",
       "              delete Bokeh.index[id];\n",
       "            }\n",
       "          }\n",
       "        }\n",
       "      });\n",
       "      // Destroy server and session\n",
       "      var cmd = \"import bokeh.io.notebook as ion; ion.destroy_server('\" + server_id + \"')\";\n",
       "      cell.notebook.kernel.execute(cmd);\n",
       "    }\n",
       "  }\n",
       "\n",
       "  /**\n",
       "   * Handle when a new output is added\n",
       "   */\n",
       "  function handleAddOutput(event, handle) {\n",
       "    var output_area = handle.output_area;\n",
       "    var output = handle.output;\n",
       "\n",
       "    // limit handleAddOutput to display_data with EXEC_MIME_TYPE content only\n",
       "    if ((output.output_type != \"display_data\") || (!output.data.hasOwnProperty(EXEC_MIME_TYPE))) {\n",
       "      return\n",
       "    }\n",
       "\n",
       "    var toinsert = output_area.element.find(\".\" + CLASS_NAME.split(' ')[0]);\n",
       "\n",
       "    if (output.metadata[EXEC_MIME_TYPE][\"id\"] !== undefined) {\n",
       "      toinsert[toinsert.length - 1].firstChild.textContent = output.data[JS_MIME_TYPE];\n",
       "      // store reference to embed id on output_area\n",
       "      output_area._bokeh_element_id = output.metadata[EXEC_MIME_TYPE][\"id\"];\n",
       "    }\n",
       "    if (output.metadata[EXEC_MIME_TYPE][\"server_id\"] !== undefined) {\n",
       "      var bk_div = document.createElement(\"div\");\n",
       "      bk_div.innerHTML = output.data[HTML_MIME_TYPE];\n",
       "      var script_attrs = bk_div.children[0].attributes;\n",
       "      for (var i = 0; i < script_attrs.length; i++) {\n",
       "        toinsert[toinsert.length - 1].firstChild.setAttribute(script_attrs[i].name, script_attrs[i].value);\n",
       "      }\n",
       "      // store reference to server id on output_area\n",
       "      output_area._bokeh_server_id = output.metadata[EXEC_MIME_TYPE][\"server_id\"];\n",
       "    }\n",
       "  }\n",
       "\n",
       "  function register_renderer(events, OutputArea) {\n",
       "\n",
       "    function append_mime(data, metadata, element) {\n",
       "      // create a DOM node to render to\n",
       "      var toinsert = this.create_output_subarea(\n",
       "        metadata,\n",
       "        CLASS_NAME,\n",
       "        EXEC_MIME_TYPE\n",
       "      );\n",
       "      this.keyboard_manager.register_events(toinsert);\n",
       "      // Render to node\n",
       "      var props = {data: data, metadata: metadata[EXEC_MIME_TYPE]};\n",
       "      render(props, toinsert[toinsert.length - 1]);\n",
       "      element.append(toinsert);\n",
       "      return toinsert\n",
       "    }\n",
       "\n",
       "    /* Handle when an output is cleared or removed */\n",
       "    events.on('clear_output.CodeCell', handleClearOutput);\n",
       "    events.on('delete.Cell', handleClearOutput);\n",
       "\n",
       "    /* Handle when a new output is added */\n",
       "    events.on('output_added.OutputArea', handleAddOutput);\n",
       "\n",
       "    /**\n",
       "     * Register the mime type and append_mime function with output_area\n",
       "     */\n",
       "    OutputArea.prototype.register_mime_type(EXEC_MIME_TYPE, append_mime, {\n",
       "      /* Is output safe? */\n",
       "      safe: true,\n",
       "      /* Index of renderer in `output_area.display_order` */\n",
       "      index: 0\n",
       "    });\n",
       "  }\n",
       "\n",
       "  // register the mime type if in Jupyter Notebook environment and previously unregistered\n",
       "  if (root.Jupyter !== undefined) {\n",
       "    var events = require('base/js/events');\n",
       "    var OutputArea = require('notebook/js/outputarea').OutputArea;\n",
       "\n",
       "    if (OutputArea.prototype.mime_types().indexOf(EXEC_MIME_TYPE) == -1) {\n",
       "      register_renderer(events, OutputArea);\n",
       "    }\n",
       "  }\n",
       "\n",
       "  \n",
       "  if (typeof (root._bokeh_timeout) === \"undefined\" || force === true) {\n",
       "    root._bokeh_timeout = Date.now() + 5000;\n",
       "    root._bokeh_failed_load = false;\n",
       "  }\n",
       "\n",
       "  var NB_LOAD_WARNING = {'data': {'text/html':\n",
       "     \"<div style='background-color: #fdd'>\\n\"+\n",
       "     \"<p>\\n\"+\n",
       "     \"BokehJS does not appear to have successfully loaded. If loading BokehJS from CDN, this \\n\"+\n",
       "     \"may be due to a slow or bad network connection. Possible fixes:\\n\"+\n",
       "     \"</p>\\n\"+\n",
       "     \"<ul>\\n\"+\n",
       "     \"<li>re-rerun `output_notebook()` to attempt to load from CDN again, or</li>\\n\"+\n",
       "     \"<li>use INLINE resources instead, as so:</li>\\n\"+\n",
       "     \"</ul>\\n\"+\n",
       "     \"<code>\\n\"+\n",
       "     \"from bokeh.resources import INLINE\\n\"+\n",
       "     \"output_notebook(resources=INLINE)\\n\"+\n",
       "     \"</code>\\n\"+\n",
       "     \"</div>\"}};\n",
       "\n",
       "  function display_loaded() {\n",
       "    var el = document.getElementById(null);\n",
       "    if (el != null) {\n",
       "      el.textContent = \"BokehJS is loading...\";\n",
       "    }\n",
       "    if (root.Bokeh !== undefined) {\n",
       "      if (el != null) {\n",
       "        el.textContent = \"BokehJS \" + root.Bokeh.version + \" successfully loaded.\";\n",
       "      }\n",
       "    } else if (Date.now() < root._bokeh_timeout) {\n",
       "      setTimeout(display_loaded, 100)\n",
       "    }\n",
       "  }\n",
       "\n",
       "\n",
       "  function run_callbacks() {\n",
       "    try {\n",
       "      root._bokeh_onload_callbacks.forEach(function(callback) {\n",
       "        if (callback != null)\n",
       "          callback();\n",
       "      });\n",
       "    } finally {\n",
       "      delete root._bokeh_onload_callbacks\n",
       "    }\n",
       "    console.debug(\"Bokeh: all callbacks have finished\");\n",
       "  }\n",
       "\n",
       "  function load_libs(css_urls, js_urls, callback) {\n",
       "    if (css_urls == null) css_urls = [];\n",
       "    if (js_urls == null) js_urls = [];\n",
       "\n",
       "    root._bokeh_onload_callbacks.push(callback);\n",
       "    if (root._bokeh_is_loading > 0) {\n",
       "      console.debug(\"Bokeh: BokehJS is being loaded, scheduling callback at\", now());\n",
       "      return null;\n",
       "    }\n",
       "    if (js_urls == null || js_urls.length === 0) {\n",
       "      run_callbacks();\n",
       "      return null;\n",
       "    }\n",
       "    console.debug(\"Bokeh: BokehJS not loaded, scheduling load and callback at\", now());\n",
       "    root._bokeh_is_loading = css_urls.length + js_urls.length;\n",
       "\n",
       "    function on_load() {\n",
       "      root._bokeh_is_loading--;\n",
       "      if (root._bokeh_is_loading === 0) {\n",
       "        console.debug(\"Bokeh: all BokehJS libraries/stylesheets loaded\");\n",
       "        run_callbacks()\n",
       "      }\n",
       "    }\n",
       "\n",
       "    function on_error() {\n",
       "      console.error(\"failed to load \" + url);\n",
       "    }\n",
       "\n",
       "    for (var i = 0; i < css_urls.length; i++) {\n",
       "      var url = css_urls[i];\n",
       "      const element = document.createElement(\"link\");\n",
       "      element.onload = on_load;\n",
       "      element.onerror = on_error;\n",
       "      element.rel = \"stylesheet\";\n",
       "      element.type = \"text/css\";\n",
       "      element.href = url;\n",
       "      console.debug(\"Bokeh: injecting link tag for BokehJS stylesheet: \", url);\n",
       "      document.body.appendChild(element);\n",
       "    }\n",
       "\n",
       "    for (var i = 0; i < js_urls.length; i++) {\n",
       "      var url = js_urls[i];\n",
       "      var element = document.createElement('script');\n",
       "      element.onload = on_load;\n",
       "      element.onerror = on_error;\n",
       "      element.async = false;\n",
       "      element.src = url;\n",
       "      console.debug(\"Bokeh: injecting script tag for BokehJS library: \", url);\n",
       "      document.head.appendChild(element);\n",
       "    }\n",
       "  };\n",
       "\n",
       "  function inject_raw_css(css) {\n",
       "    const element = document.createElement(\"style\");\n",
       "    element.appendChild(document.createTextNode(css));\n",
       "    document.body.appendChild(element);\n",
       "  }\n",
       "\n",
       "  var js_urls = [\"https://cdn.pydata.org/bokeh/release/bokeh-1.2.0.min.js\", \"https://cdn.pydata.org/bokeh/release/bokeh-widgets-1.2.0.min.js\", \"https://cdn.pydata.org/bokeh/release/bokeh-tables-1.2.0.min.js\", \"https://cdn.pydata.org/bokeh/release/bokeh-gl-1.2.0.min.js\"];\n",
       "  var css_urls = [\"https://cdn.pydata.org/bokeh/release/bokeh-1.2.0.min.css\", \"https://cdn.pydata.org/bokeh/release/bokeh-widgets-1.2.0.min.css\", \"https://cdn.pydata.org/bokeh/release/bokeh-tables-1.2.0.min.css\"];\n",
       "\n",
       "  var inline_js = [\n",
       "    function(Bokeh) {\n",
       "      Bokeh.set_log_level(\"info\");\n",
       "    },\n",
       "    \n",
       "    function(Bokeh) {\n",
       "      \n",
       "    },\n",
       "    function(Bokeh) {} // ensure no trailing comma for IE\n",
       "  ];\n",
       "\n",
       "  function run_inline_js() {\n",
       "    \n",
       "    if ((root.Bokeh !== undefined) || (force === true)) {\n",
       "      for (var i = 0; i < inline_js.length; i++) {\n",
       "        inline_js[i].call(root, root.Bokeh);\n",
       "      }} else if (Date.now() < root._bokeh_timeout) {\n",
       "      setTimeout(run_inline_js, 100);\n",
       "    } else if (!root._bokeh_failed_load) {\n",
       "      console.log(\"Bokeh: BokehJS failed to load within specified timeout.\");\n",
       "      root._bokeh_failed_load = true;\n",
       "    } else if (force !== true) {\n",
       "      var cell = $(document.getElementById(null)).parents('.cell').data().cell;\n",
       "      cell.output_area.append_execute_result(NB_LOAD_WARNING)\n",
       "    }\n",
       "\n",
       "  }\n",
       "\n",
       "  if (root._bokeh_is_loading === 0) {\n",
       "    console.debug(\"Bokeh: BokehJS loaded, going straight to plotting\");\n",
       "    run_inline_js();\n",
       "  } else {\n",
       "    load_libs(css_urls, js_urls, function() {\n",
       "      console.debug(\"Bokeh: BokehJS plotting callback run at\", now());\n",
       "      run_inline_js();\n",
       "    });\n",
       "  }\n",
       "}(window));"
      ],
      "application/vnd.bokehjs_load.v0+json": "\n(function(root) {\n  function now() {\n    return new Date();\n  }\n\n  var force = true;\n\n  if (typeof root._bokeh_onload_callbacks === \"undefined\" || force === true) {\n    root._bokeh_onload_callbacks = [];\n    root._bokeh_is_loading = undefined;\n  }\n\n  \n\n  \n  if (typeof (root._bokeh_timeout) === \"undefined\" || force === true) {\n    root._bokeh_timeout = Date.now() + 5000;\n    root._bokeh_failed_load = false;\n  }\n\n  var NB_LOAD_WARNING = {'data': {'text/html':\n     \"<div style='background-color: #fdd'>\\n\"+\n     \"<p>\\n\"+\n     \"BokehJS does not appear to have successfully loaded. If loading BokehJS from CDN, this \\n\"+\n     \"may be due to a slow or bad network connection. Possible fixes:\\n\"+\n     \"</p>\\n\"+\n     \"<ul>\\n\"+\n     \"<li>re-rerun `output_notebook()` to attempt to load from CDN again, or</li>\\n\"+\n     \"<li>use INLINE resources instead, as so:</li>\\n\"+\n     \"</ul>\\n\"+\n     \"<code>\\n\"+\n     \"from bokeh.resources import INLINE\\n\"+\n     \"output_notebook(resources=INLINE)\\n\"+\n     \"</code>\\n\"+\n     \"</div>\"}};\n\n  function display_loaded() {\n    var el = document.getElementById(null);\n    if (el != null) {\n      el.textContent = \"BokehJS is loading...\";\n    }\n    if (root.Bokeh !== undefined) {\n      if (el != null) {\n        el.textContent = \"BokehJS \" + root.Bokeh.version + \" successfully loaded.\";\n      }\n    } else if (Date.now() < root._bokeh_timeout) {\n      setTimeout(display_loaded, 100)\n    }\n  }\n\n\n  function run_callbacks() {\n    try {\n      root._bokeh_onload_callbacks.forEach(function(callback) {\n        if (callback != null)\n          callback();\n      });\n    } finally {\n      delete root._bokeh_onload_callbacks\n    }\n    console.debug(\"Bokeh: all callbacks have finished\");\n  }\n\n  function load_libs(css_urls, js_urls, callback) {\n    if (css_urls == null) css_urls = [];\n    if (js_urls == null) js_urls = [];\n\n    root._bokeh_onload_callbacks.push(callback);\n    if (root._bokeh_is_loading > 0) {\n      console.debug(\"Bokeh: BokehJS is being loaded, scheduling callback at\", now());\n      return null;\n    }\n    if (js_urls == null || js_urls.length === 0) {\n      run_callbacks();\n      return null;\n    }\n    console.debug(\"Bokeh: BokehJS not loaded, scheduling load and callback at\", now());\n    root._bokeh_is_loading = css_urls.length + js_urls.length;\n\n    function on_load() {\n      root._bokeh_is_loading--;\n      if (root._bokeh_is_loading === 0) {\n        console.debug(\"Bokeh: all BokehJS libraries/stylesheets loaded\");\n        run_callbacks()\n      }\n    }\n\n    function on_error() {\n      console.error(\"failed to load \" + url);\n    }\n\n    for (var i = 0; i < css_urls.length; i++) {\n      var url = css_urls[i];\n      const element = document.createElement(\"link\");\n      element.onload = on_load;\n      element.onerror = on_error;\n      element.rel = \"stylesheet\";\n      element.type = \"text/css\";\n      element.href = url;\n      console.debug(\"Bokeh: injecting link tag for BokehJS stylesheet: \", url);\n      document.body.appendChild(element);\n    }\n\n    for (var i = 0; i < js_urls.length; i++) {\n      var url = js_urls[i];\n      var element = document.createElement('script');\n      element.onload = on_load;\n      element.onerror = on_error;\n      element.async = false;\n      element.src = url;\n      console.debug(\"Bokeh: injecting script tag for BokehJS library: \", url);\n      document.head.appendChild(element);\n    }\n  };\n\n  function inject_raw_css(css) {\n    const element = document.createElement(\"style\");\n    element.appendChild(document.createTextNode(css));\n    document.body.appendChild(element);\n  }\n\n  var js_urls = [\"https://cdn.pydata.org/bokeh/release/bokeh-1.2.0.min.js\", \"https://cdn.pydata.org/bokeh/release/bokeh-widgets-1.2.0.min.js\", \"https://cdn.pydata.org/bokeh/release/bokeh-tables-1.2.0.min.js\", \"https://cdn.pydata.org/bokeh/release/bokeh-gl-1.2.0.min.js\"];\n  var css_urls = [\"https://cdn.pydata.org/bokeh/release/bokeh-1.2.0.min.css\", \"https://cdn.pydata.org/bokeh/release/bokeh-widgets-1.2.0.min.css\", \"https://cdn.pydata.org/bokeh/release/bokeh-tables-1.2.0.min.css\"];\n\n  var inline_js = [\n    function(Bokeh) {\n      Bokeh.set_log_level(\"info\");\n    },\n    \n    function(Bokeh) {\n      \n    },\n    function(Bokeh) {} // ensure no trailing comma for IE\n  ];\n\n  function run_inline_js() {\n    \n    if ((root.Bokeh !== undefined) || (force === true)) {\n      for (var i = 0; i < inline_js.length; i++) {\n        inline_js[i].call(root, root.Bokeh);\n      }} else if (Date.now() < root._bokeh_timeout) {\n      setTimeout(run_inline_js, 100);\n    } else if (!root._bokeh_failed_load) {\n      console.log(\"Bokeh: BokehJS failed to load within specified timeout.\");\n      root._bokeh_failed_load = true;\n    } else if (force !== true) {\n      var cell = $(document.getElementById(null)).parents('.cell').data().cell;\n      cell.output_area.append_execute_result(NB_LOAD_WARNING)\n    }\n\n  }\n\n  if (root._bokeh_is_loading === 0) {\n    console.debug(\"Bokeh: BokehJS loaded, going straight to plotting\");\n    run_inline_js();\n  } else {\n    load_libs(css_urls, js_urls, function() {\n      console.debug(\"Bokeh: BokehJS plotting callback run at\", now());\n      run_inline_js();\n    });\n  }\n}(window));"
     },
     "metadata": {},
     "output_type": "display_data"
    }
   ],
   "source": [
    "from bokeh.plotting import  show, output_notebook\n",
    "from bokeh.layouts import column, row\n",
    "output_notebook(verbose=False, hide_banner=True)\n",
    "\n",
    "from opmd_beamphysics import bunch_plotting, bunch_tools"
   ]
  },
  {
   "cell_type": "code",
   "execution_count": 8,
   "metadata": {},
   "outputs": [],
   "source": [
    "h5 = h5py.File('particles.h5', 'r')"
   ]
  },
  {
   "cell_type": "code",
   "execution_count": 9,
   "metadata": {},
   "outputs": [
    {
     "data": {
      "text/plain": [
       "['mybunch']"
      ]
     },
     "execution_count": 9,
     "metadata": {},
     "output_type": "execute_result"
    }
   ],
   "source": [
    "list(h5)"
   ]
  },
  {
   "cell_type": "code",
   "execution_count": 10,
   "metadata": {},
   "outputs": [
    {
     "data": {
      "text/plain": [
       "['momentum', 'position', 'weight']"
      ]
     },
     "execution_count": 10,
     "metadata": {},
     "output_type": "execute_result"
    }
   ],
   "source": [
    "list(h5['mybunch'])"
   ]
  },
  {
   "cell_type": "code",
   "execution_count": 14,
   "metadata": {},
   "outputs": [
    {
     "data": {
      "text/html": [
       "\n",
       "\n",
       "\n",
       "\n",
       "\n",
       "\n",
       "  <div class=\"bk-root\" id=\"fa32c1ca-fc84-476f-9430-a7e1ab5bae10\" data-root-id=\"2120\"></div>\n"
      ]
     },
     "metadata": {},
     "output_type": "display_data"
    },
    {
     "data": {
      "application/javascript": [
       "(function(root) {\n",
       "  function embed_document(root) {\n",
       "    \n",
       "  var docs_json = {\"58d8c0f5-344c-4847-bf2b-d0506d604f9b\":{\"roots\":{\"references\":[{\"attributes\":{\"children\":[{\"id\":\"2004\",\"subtype\":\"Figure\",\"type\":\"Plot\"},{\"id\":\"2043\",\"subtype\":\"Figure\",\"type\":\"Plot\"},{\"id\":\"2081\",\"subtype\":\"Figure\",\"type\":\"Plot\"}]},\"id\":\"2120\",\"type\":\"Column\"},{\"attributes\":{\"axis_label\":\"pz (GeV/c)\",\"formatter\":{\"id\":\"2217\",\"type\":\"BasicTickFormatter\"},\"ticker\":{\"id\":\"2096\",\"type\":\"BasicTicker\"}},\"id\":\"2095\",\"type\":\"LinearAxis\"},{\"attributes\":{\"bottom_units\":\"screen\",\"fill_alpha\":{\"value\":0.5},\"fill_color\":{\"value\":\"lightgrey\"},\"left_units\":\"screen\",\"level\":\"overlay\",\"line_alpha\":{\"value\":1.0},\"line_color\":{\"value\":\"black\"},\"line_dash\":[4,4],\"line_width\":{\"value\":2},\"render_mode\":\"css\",\"right_units\":\"screen\",\"top_units\":\"screen\"},\"id\":\"2225\",\"type\":\"BoxAnnotation\"},{\"attributes\":{},\"id\":\"2096\",\"type\":\"BasicTicker\"},{\"attributes\":{\"dimension\":1,\"ticker\":{\"id\":\"2096\",\"type\":\"BasicTicker\"}},\"id\":\"2099\",\"type\":\"Grid\"},{\"attributes\":{\"callback\":null,\"end\":0.0,\"start\":-14.62574618871833},\"id\":\"2082\",\"type\":\"Range1d\"},{\"attributes\":{\"callback\":null,\"data\":{\"dh\":[1199.31016],\"dw\":[1199.88519],\"image\":[{\"__ndarray__\":\"AAAAAAAAAAAAAAAAAAAAAAAAAAAAAAAAAAAAAAAAAAAAAAAAAAAAAAAAAAAAAAAAAAAAAAAAAAAAAAAAAAAAAAAAAAAAAAAAAAAAAAAAAAAAAAAAAAAAAAAAAAAAAAAAAAAAAAAAAAAAAAAAAAAAAAAAAAAAAAAAAAAAAAAAAAAAAAAAAAAAAAAAAAAAAAAAAAAAAAAAJEAAAAAAAAA8QAAAAAAAgE1AAAAAAACAT0AAAAAAAIBTQAAAAAAAQFRAAAAAAADAVkAAAAAAAMBVQAAAAAAAwFNAAAAAAABAUkAAAAAAAIBTQAAAAAAAgEhAAAAAAAAAQ0AAAAAAAAAqQAAAAAAAAAAAAAAAAAAAAAAAAAAAAAAAAAAAAAAAAAAAAAAAAAAAAAAAAAAAAAAAAAAAAAAAAAAAAAAAAAAAAAAAAAAAAAAAAAAAAAAAAAAAAAAAAAAAAAAAAAAAAAAAAAAAAAAAAAAAAAAAAAAAAAAAAAAAAAAAAAAAAAAAAAAAAAAAAAAAAAAAAAAAAAAAAAAAAAAAAAAAAAAAAAAAAAAAAAAAAAAAAAAAAAAAAAAAAAAAAAAAAAAAAAAAAAAAAAAAAAAAAAAAAAAAAAAAAAAAAAAAAAAAAAAAAAAAAAAAAAAAAAAAAAAAAAAAAAAAAAAAAAAAAAAAAAAAAAAAAAAAAAAAAAAAAAAAAAAAACxAAAAAAACARkAAAAAAAMBSQAAAAAAAAFRAAAAAAABAV0AAAAAAAIBcQAAAAAAAQFlAAAAAAABAWEAAAAAAAIBaQAAAAAAAQFlAAAAAAACAVkAAAAAAAABaQAAAAAAAwFpAAAAAAADAWEAAAAAAAIBWQAAAAAAAQFdAAAAAAACAVkAAAAAAAIBTQAAAAAAAADtAAAAAAAAAJkAAAAAAAAAAAAAAAAAAAAAAAAAAAAAAAAAAAAAAAAAAAAAAAAAAAAAAAAAAAAAAAAAAAAAAAAAAAAAAAAAAAAAAAAAAAAAAAAAAAAAAAAAAAAAAAAAAAAAAAAAAAAAAAAAAAAAAAAAAAAAAAAAAAAAAAAAAAAAAAAAAAAAAAAAAAAAAAAAAAAAAAAAAAAAAAAAAAAAAAAAAAAAAAAAAAAAAAAAAAAAAAAAAAAAAAAAAAAAAAAAAAAAAAAAAAAAAAAAAAAAAAAAAAAAAAAAAAAAAAAAAAAAAAAAAAAAAAAAAAAAAAAAAADJAAAAAAACAREAAAAAAAEBWQAAAAAAAgFRAAAAAAADAVEAAAAAAAMBUQAAAAAAAAFdAAAAAAACAV0AAAAAAAIBYQAAAAAAAQF9AAAAAAACAW0AAAAAAAABZQAAAAAAAwFtAAAAAAACAWkAAAAAAAEBXQAAAAAAAwFlAAAAAAADAW0AAAAAAAIBXQAAAAAAAQFJAAAAAAABAU0AAAAAAAABXQAAAAAAAAFNAAAAAAAAAUEAAAAAAAAAxQAAAAAAAAAAAAAAAAAAAAAAAAAAAAAAAAAAAAAAAAAAAAAAAAAAAAAAAAAAAAAAAAAAAAAAAAAAAAAAAAAAAAAAAAAAAAAAAAAAAAAAAAAAAAAAAAAAAAAAAAAAAAAAAAAAAAAAAAAAAAAAAAAAAAAAAAAAAAAAAAAAAAAAAAAAAAAAAAAAAAAAAAAAAAAAAAAAAAAAAAAAAAAAAAAAAAAAAAAAAAAAAAAAAAAAAAAAAAAAAAAAAAAAAAAAAAAAAAAAAAAAAABhAAAAAAAAAREAAAAAAAABXQAAAAAAAQFFAAAAAAACAVkAAAAAAAEBaQAAAAAAAwF1AAAAAAAAAWEAAAAAAAABZQAAAAAAAAFpAAAAAAAAAVkAAAAAAAMBeQAAAAAAAAFlAAAAAAADAV0AAAAAAAMBcQAAAAAAAgFxAAAAAAAAAWkAAAAAAAEBcQAAAAAAAQFdAAAAAAABAVkAAAAAAAEBbQAAAAAAAwFlAAAAAAACAWEAAAAAAAEBWQAAAAAAAgFVAAAAAAAAAU0AAAAAAAIBJQAAAAAAAACJAAAAAAAAAAAAAAAAAAAAAAAAAAAAAAAAAAAAAAAAAAAAAAAAAAAAAAAAAAAAAAAAAAAAAAAAAAAAAAAAAAAAAAAAAAAAAAAAAAAAAAAAAAAAAAAAAAAAAAAAAAAAAAAAAAAAAAAAAAAAAAAAAAAAAAAAAAAAAAAAAAAAAAAAAAAAAAAAAAAAAAAAAAAAAAAAAAAAAAAAAAAAAAAAAAAAAAAAAAAAAAAAAAAAAAACAQkAAAAAAAABPQAAAAAAAQFtAAAAAAABAV0AAAAAAAEBaQAAAAAAAQFdAAAAAAADAWEAAAAAAAABaQAAAAAAAAF5AAAAAAABAWkAAAAAAAMBdQAAAAAAAYGBAAAAAAACAX0AAAAAAAABcQAAAAAAAQFhAAAAAAABAW0AAAAAAAIBeQAAAAAAAAGFAAAAAAAAAWkAAAAAAAEBgQAAAAAAAAFpAAAAAAACAWkAAAAAAAIBaQAAAAAAAgFpAAAAAAACAWUAAAAAAAMBRQAAAAAAAwFdAAAAAAABAWUAAAAAAAMBUQAAAAAAAADpAAAAAAAAAAAAAAAAAAAAAAAAAAAAAAAAAAAAAAAAAAAAAAAAAAAAAAAAAAAAAAAAAAAAAAAAAAAAAAAAAAAAAAAAAAAAAAAAAAAAAAAAAAAAAAAAAAAAAAAAAAAAAAAAAAAAAAAAAAAAAAAAAAAAAAAAAAAAAAAAAAAAAAAAAAAAAAAAAAAAAAAAAAAAAAAAAAAAAAAAAAEAAAAAAAIBHQAAAAAAAgFNAAAAAAADAV0AAAAAAAEBZQAAAAAAAgF5AAAAAAABAW0AAAAAAAEBeQAAAAAAAQFxAAAAAAAAAXEAAAAAAAIBbQAAAAAAAAGBAAAAAAACAXEAAAAAAAABeQAAAAAAAIGNAAAAAAADAXkAAAAAAAMBaQAAAAAAAAFtAAAAAAAAAX0AAAAAAAGBhQAAAAAAAAFxAAAAAAAAAXUAAAAAAAMBcQAAAAAAAwF1AAAAAAAAAXkAAAAAAAEBaQAAAAAAAwFlAAAAAAACAW0AAAAAAAABZQAAAAAAAQFhAAAAAAADAV0AAAAAAAIBYQAAAAAAAAElAAAAAAAAA8D8AAAAAAAAAAAAAAAAAAAAAAAAAAAAAAAAAAAAAAAAAAAAAAAAAAAAAAAAAAAAAAAAAAAAAAAAAAAAAAAAAAAAAAAAAAAAAAAAAAAAAAAAAAAAAAAAAAAAAAAAAAAAAAAAAAAAAAAAAAAAAAAAAAAAAAAAAAAAAAAAAAAAAAAAcQAAAAAAAAE9AAAAAAAAAWkAAAAAAAMBaQAAAAAAAAFlAAAAAAADAVkAAAAAAAIBaQAAAAAAAQF9AAAAAAABAWkAAAAAAAEBeQAAAAAAAgF9AAAAAAABAXUAAAAAAAIBhQAAAAAAA4GFAAAAAAACAYUAAAAAAACBgQAAAAAAAIGFAAAAAAACgYUAAAAAAAMBgQAAAAAAAQF9AAAAAAABgYUAAAAAAACBiQAAAAAAAgF5AAAAAAABAYEAAAAAAAABdQAAAAAAAAFtAAAAAAADAYkAAAAAAAIBdQAAAAAAAAFpAAAAAAABAXUAAAAAAAIBYQAAAAAAAgFdAAAAAAADAVUAAAAAAAIBZQAAAAAAAAExAAAAAAAAACEAAAAAAAAAAAAAAAAAAAAAAAAAAAAAAAAAAAAAAAAAAAAAAAAAAAAAAAAAAAAAAAAAAAAAAAAAAAAAAAAAAAAAAAAAAAAAAAAAAAAAAAAAAAAAAAAAAAAAAAAAAAAAAAAAAAAAAAAAAAAAAAAAAAPA/AAAAAAAAUEAAAAAAAABWQAAAAAAAQFpAAAAAAAAAVUAAAAAAAMBdQAAAAAAAgF5AAAAAAACAXUAAAAAAAABcQAAAAAAAoGBAAAAAAABAYEAAAAAAAEBeQAAAAAAAAF9AAAAAAACAYkAAAAAAAIBjQAAAAAAAQGBAAAAAAADAYUAAAAAAAIBiQAAAAAAAoGJAAAAAAABAY0AAAAAAAOBhQAAAAAAAwGBAAAAAAACAYEAAAAAAACBkQAAAAAAAIGFAAAAAAAAAXUAAAAAAAGBiQAAAAAAAwF9AAAAAAAAAWEAAAAAAAIBhQAAAAAAAAF5AAAAAAACAXEAAAAAAAABcQAAAAAAAwFhAAAAAAACAVUAAAAAAAIBZQAAAAAAAwFJAAAAAAAAAFEAAAAAAAAAAAAAAAAAAAAAAAAAAAAAAAAAAAAAAAAAAAAAAAAAAAAAAAAAAAAAAAAAAAAAAAAAAAAAAAAAAAAAAAAAAAAAAAAAAAAAAAAAAAAAAAAAAAAAAAAAAAAAAAAAAAAAAAMBQQAAAAAAAgFhAAAAAAADAWkAAAAAAAMBUQAAAAAAAQFpAAAAAAADAWkAAAAAAAABgQAAAAAAAgF5AAAAAAADAXUAAAAAAAMBfQAAAAAAAQFxAAAAAAAAAY0AAAAAAAABhQAAAAAAA4GJAAAAAAABAZEAAAAAAACBjQAAAAAAAYGBAAAAAAACgYkAAAAAAAGBiQAAAAAAAgGJAAAAAAABAZEAAAAAAAGBhQAAAAAAAIGJAAAAAAACAZEAAAAAAACBjQAAAAAAAYGVAAAAAAACgY0AAAAAAAMBhQAAAAAAAwF1AAAAAAADAYUAAAAAAAEBeQAAAAAAAYGBAAAAAAACAW0AAAAAAAIBbQAAAAAAAQFtAAAAAAADAVkAAAAAAAABUQAAAAAAAgFNAAAAAAAAACEAAAAAAAAAAAAAAAAAAAAAAAAAAAAAAAAAAAAAAAAAAAAAAAAAAAAAAAAAAAAAAAAAAAAAAAAAAAAAAAAAAAAAAAAAAAAAAAAAAAAAAAAAAAAAAAAAAAEdAAAAAAAAAVEAAAAAAAMBXQAAAAAAAwFlAAAAAAADAWUAAAAAAAMBbQAAAAAAAQF1AAAAAAABAYEAAAAAAAIBdQAAAAAAAYGBAAAAAAAAgYkAAAAAAAMBiQAAAAAAAYGNAAAAAAAAgY0AAAAAAAIBjQAAAAAAAwGNAAAAAAADAYUAAAAAAAEBlQAAAAAAAAGVAAAAAAABgY0AAAAAAAMBkQAAAAAAAAGdAAAAAAADgZUAAAAAAAKBmQAAAAAAAAGNAAAAAAABgYkAAAAAAAABlQAAAAAAAYGRAAAAAAAAAY0AAAAAAAABfQAAAAAAA4GBAAAAAAADAXUAAAAAAAEBgQAAAAAAAAF9AAAAAAABAXUAAAAAAAIBdQAAAAAAAQFhAAAAAAACAWkAAAAAAAABZQAAAAAAAAE5AAAAAAAAAAAAAAAAAAAAAAAAAAAAAAAAAAAAAAAAAAAAAAAAAAAAAAAAAAAAAAAAAAAAAAAAAAAAAAAAAAAAAAAAAAAAAAAAAAAAAAAAAQkAAAAAAAMBRQAAAAAAAgFJAAAAAAACAWEAAAAAAAIBdQAAAAAAAgFhAAAAAAABAXEAAAAAAAEBgQAAAAAAAAGBAAAAAAABgYEAAAAAAAABiQAAAAAAA4GBAAAAAAACAYkAAAAAAAABkQAAAAAAAQGRAAAAAAADgY0AAAAAAAGBmQAAAAAAAoGNAAAAAAADAZkAAAAAAAOBlQAAAAAAAQGRAAAAAAADgZ0AAAAAAAIBnQAAAAAAAoGRAAAAAAAAgZkAAAAAAAOBjQAAAAAAAwGJAAAAAAAAAZUAAAAAAAIBlQAAAAAAAAGdAAAAAAACAXUAAAAAAAKBhQAAAAAAAIGBAAAAAAAAAYUAAAAAAAIBhQAAAAAAAAF9AAAAAAABgYEAAAAAAAMBdQAAAAAAAwFFAAAAAAABAWEAAAAAAAMBVQAAAAAAAAENAAAAAAAAAAAAAAAAAAAAAAAAAAAAAAAAAAAAAAAAAAAAAAAAAAAAAAAAAAAAAAAAAAAAAAAAAAAAAAAAAAAAoQAAAAAAAwFNAAAAAAADAUkAAAAAAAIBVQAAAAAAAQFpAAAAAAAAgYUAAAAAAAMBbQAAAAAAAQF9AAAAAAADAX0AAAAAAAOBgQAAAAAAAQGNAAAAAAABgYkAAAAAAAIBjQAAAAAAAAGVAAAAAAADAZEAAAAAAACBkQAAAAAAAYGdAAAAAAABAZ0AAAAAAAGBoQAAAAAAAoGdAAAAAAAAAaEAAAAAAAEBmQAAAAAAAAGZAAAAAAACgZ0AAAAAAACBqQAAAAAAAAGdAAAAAAADAZEAAAAAAAIBoQAAAAAAAAGRAAAAAAADgY0AAAAAAAGBhQAAAAAAA4GFAAAAAAADAYkAAAAAAACBiQAAAAAAAYGFAAAAAAACAXUAAAAAAAEBfQAAAAAAAgFtAAAAAAACAWUAAAAAAAEBbQAAAAAAAwFhAAAAAAACAVUAAAAAAAABVQAAAAAAAACRAAAAAAAAAAAAAAAAAAAAAAAAAAAAAAAAAAAAAAAAAAAAAAAAAAAAAAAAAAAAAAAAAAAAAAACASUAAAAAAAEBVQAAAAAAAQFZAAAAAAADAVEAAAAAAAMBcQAAAAAAAwF9AAAAAAADAXkAAAAAAAMBdQAAAAAAAIGNAAAAAAADAX0AAAAAAAMBkQAAAAAAAQGJAAAAAAACgYkAAAAAAACBkQAAAAAAAYGhAAAAAAABAZUAAAAAAAOBmQAAAAAAAoGhAAAAAAADgaEAAAAAAAGBpQAAAAAAAYGdAAAAAAADgakAAAAAAACBnQAAAAAAAYGVAAAAAAACgZUAAAAAAAABrQAAAAAAAgGhAAAAAAADgZkAAAAAAAOBmQAAAAAAA4GdAAAAAAABAZkAAAAAAAGBlQAAAAAAAwGNAAAAAAADAZEAAAAAAAIBhQAAAAAAAgGJAAAAAAADAYEAAAAAAAEBaQAAAAAAAwF1AAAAAAABAYEAAAAAAAIBZQAAAAAAAAFlAAAAAAAAAVkAAAAAAAIBHQAAAAAAAAAAAAAAAAAAAAAAAAAAAAAAAAAAAAAAAAAAAAAAAAAAAAAAAAAAAAAAzQAAAAAAAQFNAAAAAAAAAWUAAAAAAAABbQAAAAAAAgFpAAAAAAACAXUAAAAAAAEBaQAAAAAAAAF1AAAAAAACAYUAAAAAAAMBeQAAAAAAAYGNAAAAAAADgY0AAAAAAACBkQAAAAAAAAGVAAAAAAACAZUAAAAAAAEBoQAAAAAAAYGJAAAAAAAAAaEAAAAAAAMBkQAAAAAAAoGhAAAAAAACgaUAAAAAAAGBnQAAAAAAAwGVAAAAAAABAaEAAAAAAAGBpQAAAAAAAQGpAAAAAAACgaUAAAAAAAMBoQAAAAAAAwGpAAAAAAADAZkAAAAAAAOBmQAAAAAAAoGJAAAAAAADgZUAAAAAAAABoQAAAAAAAAGFAAAAAAABgY0AAAAAAAGBhQAAAAAAAwF1AAAAAAACAXUAAAAAAAMBbQAAAAAAAwGFAAAAAAAAAXkAAAAAAAEBZQAAAAAAAQFpAAAAAAACAVEAAAAAAAAA0QAAAAAAAAAAAAAAAAAAAAAAAAAAAAAAAAAAAAAAAAAAAAAAAAACATEAAAAAAAMBUQAAAAAAAwFVAAAAAAADAVkAAAAAAAABhQAAAAAAAQFxAAAAAAADAX0AAAAAAAABiQAAAAAAAAGFAAAAAAABAZEAAAAAAAMBkQAAAAAAAwGNAAAAAAAAgZ0AAAAAAAEBmQAAAAAAAAGZAAAAAAAAAZUAAAAAAAOBmQAAAAAAAoGZAAAAAAACAZkAAAAAAAMBoQAAAAAAAgGVAAAAAAACAaEAAAAAAACBpQAAAAAAAQGxAAAAAAADgaEAAAAAAACBqQAAAAAAA4GpAAAAAAAAAa0AAAAAAAKBoQAAAAAAA4GZAAAAAAAAgaEAAAAAAAABmQAAAAAAA4GFAAAAAAADgYkAAAAAAAIBhQAAAAAAAgGRAAAAAAAAAYUAAAAAAAOBgQAAAAAAAYGBAAAAAAACAXEAAAAAAAEBdQAAAAAAAAFxAAAAAAABAWkAAAAAAAABWQAAAAAAAwFVAAAAAAAAAT0AAAAAAAAAAAAAAAAAAAAAAAAAAAAAAAAAAAAAAAAAkQAAAAAAAQFhAAAAAAAAAWUAAAAAAAEBeQAAAAAAAAFxAAAAAAABgYEAAAAAAAIBfQAAAAAAAwF5AAAAAAACAYUAAAAAAAOBgQAAAAAAAQGBAAAAAAACAYkAAAAAAAKBjQAAAAAAAoGdAAAAAAACgZUAAAAAAAKBlQAAAAAAAQGZAAAAAAADAZ0AAAAAAAMBqQAAAAAAAAGhAAAAAAADgbUAAAAAAACBsQAAAAAAAgG5AAAAAAABAaEAAAAAAAOBvQAAAAAAAIGpAAAAAAADgaUAAAAAAAOBqQAAAAAAAgGtAAAAAAADgaUAAAAAAAIBpQAAAAAAAgGtAAAAAAADgZUAAAAAAAABnQAAAAAAA4GVAAAAAAADAYUAAAAAAAMBhQAAAAAAAAGRAAAAAAADgY0AAAAAAAOBgQAAAAAAAAGJAAAAAAAAAYEAAAAAAAIBbQAAAAAAAwFhAAAAAAADAUUAAAAAAAABXQAAAAAAAAFVAAAAAAAAAMEAAAAAAAAAAAAAAAAAAAAAAAAAAAAAARkAAAAAAAMBVQAAAAAAAwFpAAAAAAABAYUAAAAAAAABcQAAAAAAAAGFAAAAAAAAAYEAAAAAAAGBiQAAAAAAAAGJAAAAAAABgZEAAAAAAAABjQAAAAAAAIGVAAAAAAADAZkAAAAAAAABqQAAAAAAAgGZAAAAAAAAAakAAAAAAACBrQAAAAAAAQGhAAAAAAADAaEAAAAAAAMBqQAAAAAAAwGxAAAAAAAAAakAAAAAAAGBpQAAAAAAAoGhAAAAAAAAAa0AAAAAAAGBrQAAAAAAAIGxAAAAAAADgZkAAAAAAAEBrQAAAAAAAQGlAAAAAAACAaUAAAAAAAGBqQAAAAAAAYGpAAAAAAACAZ0AAAAAAAKBnQAAAAAAAYGZAAAAAAACgZEAAAAAAAIBjQAAAAAAAYGRAAAAAAAAAY0AAAAAAACBiQAAAAAAAIGBAAAAAAACAX0AAAAAAAMBcQAAAAAAAwFpAAAAAAACAVkAAAAAAAEBaQAAAAAAAAEdAAAAAAAAAAAAAAAAAAAAAAAAAAAAAgE9AAAAAAADAWEAAAAAAAABaQAAAAAAAQFpAAAAAAABAXUAAAAAAAIBgQAAAAAAA4GBAAAAAAADAY0AAAAAAAABkQAAAAAAAIGJAAAAAAABgZEAAAAAAAMBiQAAAAAAAwGhAAAAAAAAAakAAAAAAAIBpQAAAAAAAoGhAAAAAAABAZ0AAAAAAAEBmQAAAAAAAYGhAAAAAAAAgakAAAAAAAEBuQAAAAAAAIG9AAAAAAAAAbUAAAAAAAGBoQAAAAAAA4GlAAAAAAAAQcUAAAAAAACBmQAAAAAAAYGtAAAAAAAAAbUAAAAAAAKBqQAAAAAAAQGtAAAAAAACAbkAAAAAAAIBpQAAAAAAAIGdAAAAAAADAZkAAAAAAAOBnQAAAAAAAQGZAAAAAAADAY0AAAAAAAMBhQAAAAAAAAGNAAAAAAACgYUAAAAAAAABgQAAAAAAAAFxAAAAAAAAAWEAAAAAAAABaQAAAAAAAwFtAAAAAAACAV0AAAAAAAMBUQAAAAAAAAAAAAAAAAAAAIEAAAAAAAMBQQAAAAAAAwFhAAAAAAAAAVUAAAAAAAABeQAAAAAAAQF5AAAAAAACAXUAAAAAAAEBeQAAAAAAAgF5AAAAAAACAYUAAAAAAACBjQAAAAAAA4GRAAAAAAAAAYkAAAAAAAKBoQAAAAAAAYGdAAAAAAAAAaUAAAAAAACBrQAAAAAAA4GtAAAAAAAAgakAAAAAAAMBrQAAAAAAAIG9AAAAAAADga0AAAAAAAKBuQAAAAAAAYGpAAAAAAAAgb0AAAAAAAEBqQAAAAAAAAG9AAAAAAADAbUAAAAAAAOBrQAAAAAAA4GxAAAAAAADAbEAAAAAAACBrQAAAAAAAgGhAAAAAAAAAZ0AAAAAAAGBoQAAAAAAAAGpAAAAAAAAgZkAAAAAAAIBkQAAAAAAAYGdAAAAAAACgYUAAAAAAAOBhQAAAAAAAYGBAAAAAAABAYEAAAAAAAOBiQAAAAAAAQF1AAAAAAACgYEAAAAAAAABZQAAAAAAAAFtAAAAAAABAVUAAAAAAAAAqQAAAAAAAAEBAAAAAAAAAV0AAAAAAAABZQAAAAAAAAGBAAAAAAAAAXkAAAAAAAIBcQAAAAAAAAGBAAAAAAACAYkAAAAAAACBgQAAAAAAAAGFAAAAAAAAgZkAAAAAAAIBlQAAAAAAAIGZAAAAAAADAZ0AAAAAAAKBpQAAAAAAAoGhAAAAAAABAbEAAAAAAAGBpQAAAAAAAwGpAAAAAAAAgbkAAAAAAACBvQAAAAAAA4GtAAAAAAACAakAAAAAAAOBpQAAAAAAAYGxAAAAAAADAa0AAAAAAAABvQAAAAAAAIGpAAAAAAAAga0AAAAAAALBwQAAAAAAA4GpAAAAAAACgaEAAAAAAAABsQAAAAAAA4GxAAAAAAABgaUAAAAAAAIBlQAAAAAAAAGhAAAAAAAAgaEAAAAAAAIBiQAAAAAAAgGRAAAAAAAAgZEAAAAAAAKBjQAAAAAAAoGBAAAAAAADAXEAAAAAAAMBfQAAAAAAAQFxAAAAAAABAVkAAAAAAAABaQAAAAAAAQFZAAAAAAAAAREAAAAAAAIBIQAAAAAAAQFRAAAAAAABAV0AAAAAAAEBaQAAAAAAAwFhAAAAAAAAAXUAAAAAAAIBfQAAAAAAAgGRAAAAAAABgYkAAAAAAAIBiQAAAAAAAIGZAAAAAAADAZkAAAAAAAGBnQAAAAAAAgGZAAAAAAACgaEAAAAAAAGBqQAAAAAAAgGpAAAAAAACAaUAAAAAAAMBrQAAAAAAAgG1AAAAAAABgbEAAAAAAACBqQAAAAAAAQG5AAAAAAABwcEAAAAAAAIBuQAAAAAAAAHBAAAAAAAAgbEAAAAAAAEBxQAAAAAAAAHBAAAAAAABga0AAAAAAACBvQAAAAAAA4G9AAAAAAACAaUAAAAAAAOBrQAAAAAAAQGdAAAAAAADAakAAAAAAACBkQAAAAAAAQGpAAAAAAADgZ0AAAAAAAOBjQAAAAAAAAGRAAAAAAABAY0AAAAAAAGBgQAAAAAAAwF9AAAAAAADAXEAAAAAAAIBeQAAAAAAAgFhAAAAAAABAVUAAAAAAAABaQAAAAAAAAEtAAAAAAADAU0AAAAAAAEBVQAAAAAAAQFpAAAAAAAAAW0AAAAAAAABfQAAAAAAAQGBAAAAAAADgYUAAAAAAAMBeQAAAAAAAAGZAAAAAAAAAakAAAAAAAIBlQAAAAAAAwGhAAAAAAADAZkAAAAAAAGBnQAAAAAAA4GpAAAAAAADgakAAAAAAAGBrQAAAAAAAgGhAAAAAAACga0AAAAAAAIBtQAAAAAAAoG1AAAAAAADgbUAAAAAAAIBuQAAAAAAAsHBAAAAAAABAbUAAAAAAAABxQAAAAAAAoHFAAAAAAADAbkAAAAAAALBwQAAAAAAAwG5AAAAAAADgbEAAAAAAAGBuQAAAAAAAwGpAAAAAAACgaEAAAAAAAEBpQAAAAAAAAGtAAAAAAAAAZ0AAAAAAAEBpQAAAAAAAwGtAAAAAAACAZkAAAAAAAOBkQAAAAAAAoGVAAAAAAACAYUAAAAAAAMBgQAAAAAAAoGNAAAAAAADAXEAAAAAAAABcQAAAAAAAgFdAAAAAAACAVkAAAAAAAEBRQAAAAAAAgFJAAAAAAADAWEAAAAAAAMBbQAAAAAAAAFhAAAAAAAAAXUAAAAAAAABfQAAAAAAAgF9AAAAAAAAAYUAAAAAAAGBjQAAAAAAAgGVAAAAAAADAYkAAAAAAAOBkQAAAAAAA4GhAAAAAAAAAaUAAAAAAAKBpQAAAAAAAoGhAAAAAAAAgakAAAAAAAABqQAAAAAAAQG5AAAAAAADgb0AAAAAAAOBtQAAAAAAAAG5AAAAAAADgbUAAAAAAAKBwQAAAAAAAAHBAAAAAAADgbkAAAAAAAOBtQAAAAAAAAG5AAAAAAACgbUAAAAAAAIBuQAAAAAAAwG9AAAAAAAAAb0AAAAAAAABuQAAAAAAAoGtAAAAAAACgbEAAAAAAAKBnQAAAAAAAwGpAAAAAAADgZ0AAAAAAAIBpQAAAAAAAoGRAAAAAAADgZEAAAAAAAOBiQAAAAAAAAF9AAAAAAABAXkAAAAAAAIBbQAAAAAAAgFlAAAAAAADAW0AAAAAAAABcQAAAAAAAQFhAAAAAAABAUEAAAAAAAMBUQAAAAAAAAFZAAAAAAACAV0AAAAAAACBgQAAAAAAAoGBAAAAAAADAXUAAAAAAAIBiQAAAAAAAoGFAAAAAAAAgZkAAAAAAAOBiQAAAAAAAgGZAAAAAAADgZUAAAAAAAOBqQAAAAAAAIGhAAAAAAABgaEAAAAAAAOBrQAAAAAAAwGpAAAAAAABAbEAAAAAAAGBtQAAAAAAAIGpAAAAAAACgakAAAAAAAIBuQAAAAAAAQG9AAAAAAACgb0AAAAAAACBsQAAAAAAAQG5AAAAAAACgaUAAAAAAAKBtQAAAAAAAQG5AAAAAAADgb0AAAAAAAEBvQAAAAAAAQG5AAAAAAACgaUAAAAAAAEBtQAAAAAAA4GhAAAAAAACAaUAAAAAAAEBnQAAAAAAAgGdAAAAAAADgaUAAAAAAAOBkQAAAAAAAIGZAAAAAAACgYUAAAAAAAMBiQAAAAAAAgGBAAAAAAADAX0AAAAAAAMBZQAAAAAAAgFlAAAAAAAAAVkAAAAAAAMBUQAAAAAAAQFVAAAAAAABAVkAAAAAAAEBcQAAAAAAAQFZAAAAAAADAWEAAAAAAAABfQAAAAAAAQGBAAAAAAADAXkAAAAAAAOBiQAAAAAAAoGNAAAAAAAAAY0AAAAAAACBkQAAAAAAAQGVAAAAAAADAZ0AAAAAAACBrQAAAAAAAYG1AAAAAAADga0AAAAAAAKBqQAAAAAAAwGtAAAAAAABAb0AAAAAAAGBwQAAAAAAAsHBAAAAAAACgcEAAAAAAANBwQAAAAAAAAG1AAAAAAACgckAAAAAAAHBwQAAAAAAAEHFAAAAAAADQcEAAAAAAAIBvQAAAAAAAoG9AAAAAAADAa0AAAAAAAOBsQAAAAAAA4G5AAAAAAABga0AAAAAAAIBuQAAAAAAAIGhAAAAAAABAZkAAAAAAACBnQAAAAAAAgGdAAAAAAADAZkAAAAAAAKBkQAAAAAAAwGBAAAAAAACgYkAAAAAAAEBgQAAAAAAAgF9AAAAAAAAAXUAAAAAAAMBZQAAAAAAAAF5AAAAAAADAWEAAAAAAAIBbQAAAAAAAQFRAAAAAAAAAWEAAAAAAAEBYQAAAAAAAgF1AAAAAAADAW0AAAAAAAEBeQAAAAAAAYGFAAAAAAACAZEAAAAAAAKBjQAAAAAAAIGVAAAAAAADgY0AAAAAAAOBlQAAAAAAAgGhAAAAAAAAAa0AAAAAAAIBsQAAAAAAA4GdAAAAAAADgaUAAAAAAAKBrQAAAAAAAwG5AAAAAAABAbEAAAAAAAKBuQAAAAAAA4G5AAAAAAABAb0AAAAAAAOBuQAAAAAAAAG9AAAAAAABwcEAAAAAAADBxQAAAAAAA8HBAAAAAAADQcEAAAAAAAMBqQAAAAAAAYG1AAAAAAABAbEAAAAAAAMBsQAAAAAAAIG1AAAAAAACAaEAAAAAAAOBmQAAAAAAAYGpAAAAAAADAaUAAAAAAAOBpQAAAAAAAIGRAAAAAAACgY0AAAAAAAIBkQAAAAAAA4GFAAAAAAAAAYUAAAAAAAOBgQAAAAAAAAFlAAAAAAABAWEAAAAAAAEBdQAAAAAAAQFdAAAAAAAAAVkAAAAAAAEBUQAAAAAAAgFdAAAAAAACAXkAAAAAAAMBdQAAAAAAAgF1AAAAAAABAX0AAAAAAAEBiQAAAAAAA4GBAAAAAAADAYkAAAAAAAGBnQAAAAAAAIGVAAAAAAACgaEAAAAAAAIBnQAAAAAAAQG5AAAAAAAAAZ0AAAAAAAMBrQAAAAAAAoG1AAAAAAAAgbkAAAAAAACBsQAAAAAAAAHFAAAAAAAAgcEAAAAAAAJBwQAAAAAAAoG1AAAAAAABAbkAAAAAAAIBuQAAAAAAAEHBAAAAAAAAgb0AAAAAAAEBuQAAAAAAAQG1AAAAAAABQcEAAAAAAAFBwQAAAAAAAoGxAAAAAAADAbEAAAAAAAEBtQAAAAAAAoGxAAAAAAAAAaUAAAAAAAIBoQAAAAAAAQGlAAAAAAABgaEAAAAAAAEBjQAAAAAAAIGZAAAAAAABgZUAAAAAAAIBfQAAAAAAAAGFAAAAAAAAgYUAAAAAAAEBbQAAAAAAAQFpAAAAAAABAXkAAAAAAAABZQAAAAAAAQFJAAAAAAABAU0AAAAAAAIBaQAAAAAAAwFlAAAAAAACAWUAAAAAAAOBhQAAAAAAAQF5AAAAAAAAgYUAAAAAAACBhQAAAAAAAYGFAAAAAAADgZkAAAAAAACBjQAAAAAAAIGpAAAAAAADgZEAAAAAAAGBoQAAAAAAA4GpAAAAAAACgbEAAAAAAAOBtQAAAAAAAAG1AAAAAAABgbUAAAAAAAKBrQAAAAAAAIGpAAAAAAAAAb0AAAAAAAIBtQAAAAAAA4G1AAAAAAACgakAAAAAAAEBuQAAAAAAAAHFAAAAAAAAQcUAAAAAAAIBwQAAAAAAAoG1AAAAAAACQcEAAAAAAACBvQAAAAAAAQGtAAAAAAACAbUAAAAAAAGBqQAAAAAAAAGtAAAAAAABgZUAAAAAAAABqQAAAAAAAwGZAAAAAAACAZkAAAAAAAKBkQAAAAAAAAGZAAAAAAADAYUAAAAAAAKBjQAAAAAAAQF9AAAAAAABAXEAAAAAAAEBZQAAAAAAAQFdAAAAAAABAWEAAAAAAAABTQAAAAAAAwFFAAAAAAAAAVUAAAAAAAEBcQAAAAAAAwFtAAAAAAABAWkAAAAAAAEBgQAAAAAAAwF9AAAAAAAAAY0AAAAAAAGBkQAAAAAAAYGFAAAAAAAAAaEAAAAAAAABnQAAAAAAAoGpAAAAAAACgaEAAAAAAAKBrQAAAAAAAIGtAAAAAAAAgakAAAAAAACBrQAAAAAAAAHBAAAAAAACgbEAAAAAAAIBtQAAAAAAAEHBAAAAAAABgakAAAAAAAIBtQAAAAAAAQG5AAAAAAABAcEAAAAAAAEBtQAAAAAAAIHBAAAAAAACAbkAAAAAAAKBrQAAAAAAAwG5AAAAAAABgbkAAAAAAACBtQAAAAAAAQGpAAAAAAADAaUAAAAAAAOBnQAAAAAAAYGhAAAAAAABAaEAAAAAAACBmQAAAAAAAgGZAAAAAAADAYkAAAAAAAIBfQAAAAAAAAGNAAAAAAAAAYEAAAAAAAMBeQAAAAAAAQF1AAAAAAADAXEAAAAAAAABbQAAAAAAAgFdAAAAAAAAAUkAAAAAAAABKQAAAAAAAgFhAAAAAAACAWEAAAAAAAMBdQAAAAAAAQGBAAAAAAABAXkAAAAAAAABhQAAAAAAAQGJAAAAAAADAY0AAAAAAAGBkQAAAAAAAoGZAAAAAAACAZEAAAAAAAIBoQAAAAAAAwGhAAAAAAADAZUAAAAAAAOBnQAAAAAAAgGxAAAAAAACgaUAAAAAAAEBqQAAAAAAAYGpAAAAAAAAwcEAAAAAAAMBsQAAAAAAAoGxAAAAAAABwcEAAAAAAAIBsQAAAAAAAQG1AAAAAAABAb0AAAAAAABBwQAAAAAAAYHFAAAAAAACwcEAAAAAAAGBrQAAAAAAAoGxAAAAAAABAakAAAAAAAMBtQAAAAAAAwGtAAAAAAAAAakAAAAAAACBpQAAAAAAAAGZAAAAAAADgZUAAAAAAAMBmQAAAAAAAAGRAAAAAAADAYkAAAAAAAMBgQAAAAAAAAF9AAAAAAABgYEAAAAAAAMBYQAAAAAAAQFpAAAAAAABAWkAAAAAAAABUQAAAAAAAgEtAAAAAAAAAREAAAAAAAABVQAAAAAAAgFNAAAAAAACAXkAAAAAAAIBaQAAAAAAAAGBAAAAAAAAAW0AAAAAAAEBhQAAAAAAAYGNAAAAAAABgYUAAAAAAAMBjQAAAAAAAoGVAAAAAAABgaEAAAAAAACBoQAAAAAAAQGpAAAAAAACgaUAAAAAAACBrQAAAAAAA4GpAAAAAAAAAa0AAAAAAAEBuQAAAAAAAgG5AAAAAAAAAcUAAAAAAAKBqQAAAAAAAAG1AAAAAAAAAb0AAAAAAAIBrQAAAAAAAgGpAAAAAAADAbkAAAAAAAMBuQAAAAAAAIGxAAAAAAACAa0AAAAAAAGBrQAAAAAAA4GpAAAAAAABAa0AAAAAAAMBnQAAAAAAAAGZAAAAAAADAZkAAAAAAAABmQAAAAAAAIGZAAAAAAADAYUAAAAAAAABkQAAAAAAAQGNAAAAAAACgYkAAAAAAAEBhQAAAAAAAwF1AAAAAAABAWkAAAAAAAEBWQAAAAAAAgFtAAAAAAABAV0AAAAAAAABAQAAAAAAAABhAAAAAAACAV0AAAAAAAEBYQAAAAAAAAFtAAAAAAADAW0AAAAAAAIBdQAAAAAAAYGBAAAAAAAAgYkAAAAAAAGBhQAAAAAAAQGNAAAAAAADAYEAAAAAAAIBkQAAAAAAA4GZAAAAAAADAZ0AAAAAAAKBoQAAAAAAAwGlAAAAAAACgZ0AAAAAAAABrQAAAAAAAYGtAAAAAAABAa0AAAAAAAKBtQAAAAAAA4GtAAAAAAABgakAAAAAAAGBsQAAAAAAAMHBAAAAAAADAaEAAAAAAAJBwQAAAAAAAMHBAAAAAAACgb0AAAAAAAIBpQAAAAAAAYGlAAAAAAACgbEAAAAAAACBpQAAAAAAAIGpAAAAAAACAZkAAAAAAAKBpQAAAAAAAQGdAAAAAAAAgaEAAAAAAAKBlQAAAAAAAAGRAAAAAAADgY0AAAAAAAABjQAAAAAAAgGFAAAAAAABAYEAAAAAAAIBfQAAAAAAAQF1AAAAAAACAWEAAAAAAAMBaQAAAAAAAgFZAAAAAAAAAJkAAAAAAAAAAAAAAAAAAgE5AAAAAAADAWEAAAAAAAIBTQAAAAAAAAGBAAAAAAAAAW0AAAAAAAABiQAAAAAAAQGBAAAAAAABAYkAAAAAAAABiQAAAAAAAwGRAAAAAAACAZUAAAAAAAEBmQAAAAAAAIGVAAAAAAACAZUAAAAAAAOBkQAAAAAAAoGpAAAAAAADga0AAAAAAAKBnQAAAAAAAQGpAAAAAAADAaUAAAAAAACBqQAAAAAAAQGxAAAAAAABga0AAAAAAAABuQAAAAAAAgGtAAAAAAABgcEAAAAAAAMBqQAAAAAAAoGpAAAAAAADAakAAAAAAACBpQAAAAAAAAGxAAAAAAAAgakAAAAAAAIBqQAAAAAAAwGZAAAAAAAAAaUAAAAAAAOBmQAAAAAAAQGVAAAAAAABAZkAAAAAAAOBhQAAAAAAAAGRAAAAAAADAYUAAAAAAAABcQAAAAAAA4GJAAAAAAAAAXEAAAAAAAABdQAAAAAAAwFNAAAAAAABAVUAAAAAAAMBQQAAAAAAAAAAAAAAAAAAAAAAAAAAAAIBBQAAAAAAAwFZAAAAAAADAV0AAAAAAAMBfQAAAAAAAAFxAAAAAAAAAXkAAAAAAAEBhQAAAAAAAQGJAAAAAAADAYEAAAAAAAGBiQAAAAAAAAGNAAAAAAAAAZ0AAAAAAAOBmQAAAAAAAYGdAAAAAAABAZ0AAAAAAAKBnQAAAAAAAAGtAAAAAAACAaEAAAAAAAABsQAAAAAAAQGxAAAAAAADgbEAAAAAAAOBpQAAAAAAAwG1AAAAAAABgaUAAAAAAAGBmQAAAAAAAoGxAAAAAAACAbUAAAAAAAOBoQAAAAAAA4GxAAAAAAADgZ0AAAAAAAABqQAAAAAAAQGpAAAAAAADgbUAAAAAAAEBoQAAAAAAA4GNAAAAAAAAgZUAAAAAAAEBoQAAAAAAA4GVAAAAAAAAgY0AAAAAAAGBgQAAAAAAAQGBAAAAAAABAXkAAAAAAACBgQAAAAAAAwF1AAAAAAACAXEAAAAAAAEBZQAAAAAAAgFlAAAAAAACASEAAAAAAAAAAAAAAAAAAAAAAAAAAAAAAJEAAAAAAAEBXQAAAAAAAQFdAAAAAAACAWkAAAAAAAIBeQAAAAAAAgFlAAAAAAADAXEAAAAAAAMBeQAAAAAAAwF1AAAAAAABgYkAAAAAAAMBkQAAAAAAAwGNAAAAAAAAAZ0AAAAAAAEBnQAAAAAAAQGtAAAAAAACgaUAAAAAAAKBpQAAAAAAAgGZAAAAAAAAAaEAAAAAAAEBrQAAAAAAAwGpAAAAAAAAga0AAAAAAAOBoQAAAAAAAQGtAAAAAAADga0AAAAAAAKBoQAAAAAAA4GlAAAAAAACga0AAAAAAAIBrQAAAAAAAwGhAAAAAAAAAaEAAAAAAAEBrQAAAAAAAAGlAAAAAAADgZUAAAAAAAMBrQAAAAAAAgGVAAAAAAABgZEAAAAAAACBjQAAAAAAAYGBAAAAAAABgYUAAAAAAAOBgQAAAAAAAoGBAAAAAAACAYkAAAAAAAIBbQAAAAAAAQFlAAAAAAABAWUAAAAAAAABXQAAAAAAAACxAAAAAAAAAAAAAAAAAAAAAAAAAAAAAAAAAAAAAAACASEAAAAAAAEBWQAAAAAAAAFhAAAAAAACAW0AAAAAAAABgQAAAAAAAAF5AAAAAAABAX0AAAAAAAIBbQAAAAAAAYGNAAAAAAAAgYUAAAAAAAIBmQAAAAAAAoGRAAAAAAAAgZkAAAAAAAGBnQAAAAAAA4GZAAAAAAADAZkAAAAAAAEBpQAAAAAAAgGlAAAAAAADAZEAAAAAAAABpQAAAAAAAIGlAAAAAAACgZkAAAAAAAABrQAAAAAAA4GtAAAAAAABAakAAAAAAACBpQAAAAAAAoGlAAAAAAADga0AAAAAAAIBqQAAAAAAAIGpAAAAAAACgZ0AAAAAAAKBmQAAAAAAAIGhAAAAAAABgY0AAAAAAAEBkQAAAAAAAgGNAAAAAAADAYkAAAAAAAEBjQAAAAAAAgF1AAAAAAADAXkAAAAAAAEBbQAAAAAAAgFtAAAAAAACAWkAAAAAAAMBXQAAAAAAAAFNAAAAAAACAUkAAAAAAAAAAAAAAAAAAAAAAAAAAAAAAAAAAAAAAAAAAAAAAAAAAADJAAAAAAABAWEAAAAAAAEBbQAAAAAAAQFlAAAAAAADAWUAAAAAAAGBgQAAAAAAAQF9AAAAAAABAXEAAAAAAAABiQAAAAAAAQF5AAAAAAAAAZEAAAAAAAIBjQAAAAAAAAGRAAAAAAAAgZUAAAAAAAEBmQAAAAAAAgGNAAAAAAAAAaEAAAAAAAABpQAAAAAAAIGhAAAAAAAAAaEAAAAAAAIBpQAAAAAAAYGhAAAAAAACgaEAAAAAAAMBqQAAAAAAAIGhAAAAAAAAAaUAAAAAAAMBpQAAAAAAAgGhAAAAAAABAZkAAAAAAAOBoQAAAAAAAYGpAAAAAAAAAaEAAAAAAACBlQAAAAAAAYGdAAAAAAACAYkAAAAAAACBhQAAAAAAA4GFAAAAAAACAXUAAAAAAACBgQAAAAAAAAGJAAAAAAAAAXEAAAAAAAIBZQAAAAAAAgFZAAAAAAABAWkAAAAAAAIBXQAAAAAAAAChAAAAAAAAAAAAAAAAAAAAAAAAAAAAAAAAAAAAAAAAAAAAAAAAAAAAAAAAAAAAAgElAAAAAAADAU0AAAAAAAMBWQAAAAAAAAFtAAAAAAADAXUAAAAAAAABcQAAAAAAAwF5AAAAAAAAAWkAAAAAAAGBiQAAAAAAA4GFAAAAAAAAgY0AAAAAAAOBhQAAAAAAAgGVAAAAAAACAZUAAAAAAAEBlQAAAAAAAQGhAAAAAAADgZUAAAAAAAABqQAAAAAAAoGhAAAAAAADAaUAAAAAAACBmQAAAAAAAQGtAAAAAAACAaEAAAAAAAEBqQAAAAAAAAGdAAAAAAAAAZUAAAAAAAEBqQAAAAAAAgGZAAAAAAAAAZ0AAAAAAAKBmQAAAAAAAQGdAAAAAAAAgZEAAAAAAAKBkQAAAAAAAAGNAAAAAAADgY0AAAAAAAMBiQAAAAAAAgF9AAAAAAADAWkAAAAAAAEBbQAAAAAAAwFpAAAAAAAAAWkAAAAAAAABUQAAAAAAAwFhAAAAAAACASkAAAAAAAAAAAAAAAAAAAAAAAAAAAAAAAAAAAAAAAAAAAAAAAAAAAAAAAAAAAAAAAAAAAAAAAAAmQAAAAAAAwFJAAAAAAABAVkAAAAAAAMBZQAAAAAAAAF1AAAAAAAAAXUAAAAAAAMBeQAAAAAAAQFxAAAAAAACAXkAAAAAAAMBeQAAAAAAAwGBAAAAAAADgYUAAAAAAAIBiQAAAAAAAIGNAAAAAAADAZkAAAAAAAKBlQAAAAAAAgGRAAAAAAADgZEAAAAAAAIBpQAAAAAAAAGZAAAAAAABAaEAAAAAAAOBkQAAAAAAAgGZAAAAAAABga0AAAAAAAGBoQAAAAAAA4GRAAAAAAABgZUAAAAAAAGBmQAAAAAAAwGRAAAAAAAAgZkAAAAAAAABlQAAAAAAA4GJAAAAAAAAgYkAAAAAAAOBjQAAAAAAAwGJAAAAAAADAYkAAAAAAAABeQAAAAAAAQF9AAAAAAADAYEAAAAAAAEBXQAAAAAAAAFZAAAAAAADAVEAAAAAAAIBQQAAAAAAAACZAAAAAAAAAAAAAAAAAAAAAAAAAAAAAAAAAAAAAAAAAAAAAAAAAAAAAAAAAAAAAAAAAAAAAAAAAAAAAAAAAAABAQAAAAAAAQFVAAAAAAADAWEAAAAAAAABYQAAAAAAAQFpAAAAAAABAWEAAAAAAAEBbQAAAAAAAAF1AAAAAAABAYUAAAAAAACBhQAAAAAAAYGBAAAAAAAAgY0AAAAAAACBjQAAAAAAAgGFAAAAAAACgYUAAAAAAAGBnQAAAAAAAIGZAAAAAAADAZUAAAAAAAABnQAAAAAAAYGdAAAAAAAAgZUAAAAAAAABjQAAAAAAA4GRAAAAAAAAAZUAAAAAAAKBgQAAAAAAAoGhAAAAAAAAgZEAAAAAAAEBjQAAAAAAAQGNAAAAAAACgYkAAAAAAAOBiQAAAAAAAgGNAAAAAAACgYUAAAAAAAEBfQAAAAAAAQF1AAAAAAADAX0AAAAAAAMBeQAAAAAAAgFpAAAAAAACAWkAAAAAAAABaQAAAAAAAwFJAAAAAAACAQEAAAAAAAAAAAAAAAAAAAAAAAAAAAAAAAAAAAAAAAAAAAAAAAAAAAAAAAAAAAAAAAAAAAAAAAAAAAAAAAAAAAAAAAAAAAAAAAAAAAAAAAABLQAAAAAAAAFZAAAAAAACAV0AAAAAAAMBaQAAAAAAAgFhAAAAAAAAAXUAAAAAAAEBcQAAAAAAAIGBAAAAAAACAXEAAAAAAAMBfQAAAAAAAIGVAAAAAAACAY0AAAAAAAIBjQAAAAAAAwGFAAAAAAADgYUAAAAAAAIBhQAAAAAAAgGNAAAAAAABAZkAAAAAAAOBiQAAAAAAAIGVAAAAAAACAZEAAAAAAACBmQAAAAAAAIGRAAAAAAADgZkAAAAAAAMBkQAAAAAAAYGRAAAAAAADgZEAAAAAAAOBhQAAAAAAAQGJAAAAAAADgYkAAAAAAAMBhQAAAAAAAgF5AAAAAAADAWUAAAAAAAEBaQAAAAAAAQFxAAAAAAADAXUAAAAAAAABaQAAAAAAAwFtAAAAAAAAAVEAAAAAAAIBLQAAAAAAAAAAAAAAAAAAAAAAAAAAAAAAAAAAAAAAAAAAAAAAAAAAAAAAAAAAAAAAAAAAAAAAAAAAAAAAAAAAAAAAAAAAAAAAAAAAAAAAAAAAAAAAAAAAAAEAAAAAAAIBRQAAAAAAAAFRAAAAAAADAXEAAAAAAAMBbQAAAAAAAgF5AAAAAAACAXEAAAAAAAEBfQAAAAAAAwFlAAAAAAACAYEAAAAAAAABeQAAAAAAA4GJAAAAAAACgYEAAAAAAAIBjQAAAAAAA4GFAAAAAAAAAY0AAAAAAAMBkQAAAAAAAYGNAAAAAAADAYkAAAAAAAKBkQAAAAAAA4GNAAAAAAABgY0AAAAAAACBlQAAAAAAAoGFAAAAAAABAZUAAAAAAAMBjQAAAAAAAoGBAAAAAAABAYkAAAAAAAGBgQAAAAAAAQGFAAAAAAAAAXUAAAAAAAKBhQAAAAAAAwFpAAAAAAAAAWkAAAAAAAIBZQAAAAAAAwFxAAAAAAAAAWEAAAAAAAIBVQAAAAAAAgE5AAAAAAAAAAAAAAAAAAAAAAAAAAAAAAAAAAAAAAAAAAAAAAAAAAAAAAAAAAAAAAAAAAAAAAAAAAAAAAAAAAAAAAAAAAAAAAAAAAAAAAAAAAAAAAAAAAAAAAAAAAAAAAAAAAAAAAAAAGEAAAAAAAEBRQAAAAAAAgFNAAAAAAADAVEAAAAAAAMBcQAAAAAAAAFhAAAAAAAAAXEAAAAAAAMBdQAAAAAAA4GBAAAAAAABgYEAAAAAAAEBgQAAAAAAAAF5AAAAAAADAXkAAAAAAAGBkQAAAAAAAoGRAAAAAAACAZEAAAAAAAKBjQAAAAAAAIGNAAAAAAAAAZUAAAAAAAMBhQAAAAAAAgGFAAAAAAABgYEAAAAAAAMBhQAAAAAAAIGBAAAAAAAAAYkAAAAAAAIBgQAAAAAAAAGBAAAAAAADAW0AAAAAAAMBbQAAAAAAAQGFAAAAAAABAWkAAAAAAAEBfQAAAAAAAgF1AAAAAAAAAWUAAAAAAAABRQAAAAAAAQFRAAAAAAACATkAAAAAAAAAiQAAAAAAAAAAAAAAAAAAAAAAAAAAAAAAAAAAAAAAAAAAAAAAAAAAAAAAAAAAAAAAAAAAAAAAAAAAAAAAAAAAAAAAAAAAAAAAAAAAAAAAAAAAAAAAAAAAAAAAAAAAAAAAAAAAAAAAAAAAAAAAAAAAACEAAAAAAAABQQAAAAAAAwFVAAAAAAADAWEAAAAAAAMBaQAAAAAAAwFlAAAAAAACAWkAAAAAAAABfQAAAAAAAQF9AAAAAAACAXUAAAAAAACBgQAAAAAAAAF1AAAAAAADAYEAAAAAAAMBhQAAAAAAAAGFAAAAAAACAX0AAAAAAAEBiQAAAAAAAAGNAAAAAAACAYEAAAAAAAGBgQAAAAAAAQGFAAAAAAADAXkAAAAAAAEBfQAAAAAAAYGJAAAAAAAAAYUAAAAAAAMBfQAAAAAAAwF5AAAAAAABAW0AAAAAAACBgQAAAAAAAQFpAAAAAAAAAXkAAAAAAAABYQAAAAAAAQFVAAAAAAAAAU0AAAAAAAABQQAAAAAAAACBAAAAAAAAAAAAAAAAAAAAAAAAAAAAAAAAAAAAAAAAAAAAAAAAAAAAAAAAAAAAAAAAAAAAAAAAAAAAAAAAAAAAAAAAAAAAAAAAAAAAAAAAAAAAAAAAAAAAAAAAAAAAAAAAAAAAAAAAAAAAAAAAAAAAAAAAAAAAAAAAAAAAAAAAA8D8AAAAAAABLQAAAAAAAAFdAAAAAAADAV0AAAAAAAIBWQAAAAAAAAFpAAAAAAAAAXEAAAAAAAABaQAAAAAAAgFlAAAAAAAAAX0AAAAAAAEBbQAAAAAAAoGBAAAAAAABAXUAAAAAAAMBgQAAAAAAAQFpAAAAAAACgYEAAAAAAAMBdQAAAAAAAgF1AAAAAAABAX0AAAAAAAIBdQAAAAAAAwGJAAAAAAAAgYEAAAAAAAABfQAAAAAAAgFxAAAAAAADAXEAAAAAAAEBgQAAAAAAAQFdAAAAAAABAWUAAAAAAAEBYQAAAAAAAQFdAAAAAAADAVkAAAAAAAEBZQAAAAAAAAE1AAAAAAAAAAAAAAAAAAAAAAAAAAAAAAAAAAAAAAAAAAAAAAAAAAAAAAAAAAAAAAAAAAAAAAAAAAAAAAAAAAAAAAAAAAAAAAAAAAAAAAAAAAAAAAAAAAAAAAAAAAAAAAAAAAAAAAAAAAAAAAAAAAAAAAAAAAAAAAAAAAAAAAAAAAAAAAAAAAAAAAAAAAAAAAAAAAAAAAAAAAAAAAAAAAAA7QAAAAAAAwFNAAAAAAADAUEAAAAAAAEBWQAAAAAAAgFZAAAAAAACAWEAAAAAAAEBYQAAAAAAAAFpAAAAAAACAXUAAAAAAAMBcQAAAAAAAQF5AAAAAAACAYEAAAAAAAEBeQAAAAAAAIGBAAAAAAABAXkAAAAAAAMBbQAAAAAAAAF9AAAAAAAAAXkAAAAAAAEBbQAAAAAAAQFpAAAAAAABAX0AAAAAAAABcQAAAAAAAAFpAAAAAAADAWEAAAAAAAEBUQAAAAAAAgFlAAAAAAADAWEAAAAAAAABYQAAAAAAAAFNAAAAAAAAAOkAAAAAAAAAAAAAAAAAAAAAAAAAAAAAAAAAAAAAAAAAAAAAAAAAAAAAAAAAAAAAAAAAAAAAAAAAAAAAAAAAAAAAAAAAAAAAAAAAAAAAAAAAAAAAAAAAAAAAAAAAAAAAAAAAAAAAAAAAAAAAAAAAAAAAAAAAAAAAAAAAAAAAAAAAAAAAAAAAAAAAAAAAAAAAAAAAAAAAAAAAAAAAAAAAAAAAAAAAAAAAAAAAAAAAAAAAiQAAAAAAAAFJAAAAAAABAVUAAAAAAAIBUQAAAAAAAAFlAAAAAAADAUkAAAAAAAMBZQAAAAAAAgFdAAAAAAADAXEAAAAAAAIBfQAAAAAAAAFpAAAAAAACAW0AAAAAAAABdQAAAAAAAQFpAAAAAAADAX0AAAAAAAIBeQAAAAAAAQFxAAAAAAADAVkAAAAAAAEBbQAAAAAAAAFxAAAAAAAAAX0AAAAAAAABaQAAAAAAAwFdAAAAAAACAWUAAAAAAAABWQAAAAAAAgFlAAAAAAAAAS0AAAAAAAAAkQAAAAAAAAAAAAAAAAAAAAAAAAAAAAAAAAAAAAAAAAAAAAAAAAAAAAAAAAAAAAAAAAAAAAAAAAAAAAAAAAAAAAAAAAAAAAAAAAAAAAAAAAAAAAAAAAAAAAAAAAAAAAAAAAAAAAAAAAAAAAAAAAAAAAAAAAAAAAAAAAAAAAAAAAAAAAAAAAAAAAAAAAAAAAAAAAAAAAAAAAAAAAAAAAAAAAAAAAAAAAAAAAAAAAAAAAAAAAAAAAAAAAAAAAAAAAAAAAAAAAAAAADRAAAAAAACATUAAAAAAAABUQAAAAAAAAFdAAAAAAADAWEAAAAAAAMBZQAAAAAAAAFlAAAAAAADAW0AAAAAAAMBYQAAAAAAAQFVAAAAAAABAVUAAAAAAAEBXQAAAAAAAQFtAAAAAAACAWEAAAAAAAMBZQAAAAAAAwFpAAAAAAADAVkAAAAAAAMBWQAAAAAAAwFlAAAAAAADAVUAAAAAAAEBaQAAAAAAAgFVAAAAAAACAS0AAAAAAAAAyQAAAAAAAAAAAAAAAAAAAAAAAAAAAAAAAAAAAAAAAAAAAAAAAAAAAAAAAAAAAAAAAAAAAAAAAAAAAAAAAAAAAAAAAAAAAAAAAAAAAAAAAAAAAAAAAAAAAAAAAAAAAAAAAAAAAAAAAAAAAAAAAAAAAAAAAAAAAAAAAAAAAAAAAAAAAAAAAAAAAAAAAAAAAAAAAAAAAAAAAAAAAAAAAAAAAAAAAAAAAAAAAAAAAAAAAAAAAAAAAAAAAAAAAAAAAAAAAAAAAAAAAAAAAAAAAAAAAAAAAAAAAAAAAAAAAAAAAAAAAAAAAAAAAHEAAAAAAAIBAQAAAAAAAAFFAAAAAAADAVkAAAAAAAIBTQAAAAAAAgFlAAAAAAADAWkAAAAAAAMBaQAAAAAAAQFlAAAAAAACAV0AAAAAAAABVQAAAAAAAgFZAAAAAAABAWkAAAAAAAIBYQAAAAAAAwFRAAAAAAADAVEAAAAAAAIBXQAAAAAAAwFJAAAAAAACARkAAAAAAAAAoQAAAAAAAAAAAAAAAAAAAAAAAAAAAAAAAAAAAAAAAAAAAAAAAAAAAAAAAAAAAAAAAAAAAAAAAAAAAAAAAAAAAAAAAAAAAAAAAAAAAAAAAAAAAAAAAAAAAAAAAAAAAAAAAAAAAAAAAAAAAAAAAAAAAAAAAAAAAAAAAAAAAAAAAAAAAAAAAAAAAAAAAAAAAAAAAAAAAAAAAAAAAAAAAAAAAAAAAAAAAAAAAAAAAAAAAAAAAAAAAAAAAAAAAAAAAAAAAAAAAAAAAAAAAAAAAAAAAAAAAAAAAAAAAAAAAAAAAAAAAAAAAAAAAAAAAAAAAAAAAAAAAAAAAAAAAAAAAAAAAAAAAAAAAAAAAAAAAAAAAAC5AAAAAAAAAQkAAAAAAAABPQAAAAAAAwFFAAAAAAADAVkAAAAAAAMBTQAAAAAAAAFVAAAAAAADAWEAAAAAAAIBWQAAAAAAAwFZAAAAAAACAT0AAAAAAAIBOQAAAAAAAAEFAAAAAAAAALEAAAAAAAAAAAAAAAAAAAAAAAAAAAAAAAAAAAAAAAAAAAAAAAAAAAAAAAAAAAAAAAAAAAAAAAAAAAAAAAAAAAAAAAAAAAAAAAAAAAAAAAAAAAAAAAAAAAAAAAAAAAAAAAAAAAAAAAAAAAAAAAAAAAAAAAAAAAAAAAAAAAAAAAAAAAAAAAAAAAAAAAAAAAAAAAAA=\",\"dtype\":\"float64\",\"shape\":[50,50]}],\"xmax\":[599.88996],\"xmin\":[-599.99523],\"ymax\":[599.50232],\"ymin\":[-599.8078399999999]},\"selected\":{\"id\":\"2221\",\"type\":\"Selection\"},\"selection_policy\":{\"id\":\"2220\",\"type\":\"UnionRenderers\"}},\"id\":\"2003\",\"type\":\"ColumnDataSource\"},{\"attributes\":{\"palette\":[\"white\",\"#440255\",\"#440357\",\"#450558\",\"#45065A\",\"#45085B\",\"#46095C\",\"#460B5E\",\"#460C5F\",\"#460E61\",\"#470F62\",\"#471163\",\"#471265\",\"#471466\",\"#471567\",\"#471669\",\"#47186A\",\"#48196B\",\"#481A6C\",\"#481C6E\",\"#481D6F\",\"#481E70\",\"#482071\",\"#482172\",\"#482273\",\"#482374\",\"#472575\",\"#472676\",\"#472777\",\"#472878\",\"#472A79\",\"#472B7A\",\"#472C7B\",\"#462D7C\",\"#462F7C\",\"#46307D\",\"#46317E\",\"#45327F\",\"#45347F\",\"#453580\",\"#453681\",\"#443781\",\"#443982\",\"#433A83\",\"#433B83\",\"#433C84\",\"#423D84\",\"#423E85\",\"#424085\",\"#414186\",\"#414286\",\"#404387\",\"#404487\",\"#3F4587\",\"#3F4788\",\"#3E4888\",\"#3E4989\",\"#3D4A89\",\"#3D4B89\",\"#3D4C89\",\"#3C4D8A\",\"#3C4E8A\",\"#3B508A\",\"#3B518A\",\"#3A528B\",\"#3A538B\",\"#39548B\",\"#39558B\",\"#38568B\",\"#38578C\",\"#37588C\",\"#37598C\",\"#365A8C\",\"#365B8C\",\"#355C8C\",\"#355D8C\",\"#345E8D\",\"#345F8D\",\"#33608D\",\"#33618D\",\"#32628D\",\"#32638D\",\"#31648D\",\"#31658D\",\"#31668D\",\"#30678D\",\"#30688D\",\"#2F698D\",\"#2F6A8D\",\"#2E6B8E\",\"#2E6C8E\",\"#2E6D8E\",\"#2D6E8E\",\"#2D6F8E\",\"#2C708E\",\"#2C718E\",\"#2C728E\",\"#2B738E\",\"#2B748E\",\"#2A758E\",\"#2A768E\",\"#2A778E\",\"#29788E\",\"#29798E\",\"#287A8E\",\"#287A8E\",\"#287B8E\",\"#277C8E\",\"#277D8E\",\"#277E8E\",\"#267F8E\",\"#26808E\",\"#26818E\",\"#25828E\",\"#25838D\",\"#24848D\",\"#24858D\",\"#24868D\",\"#23878D\",\"#23888D\",\"#23898D\",\"#22898D\",\"#228A8D\",\"#228B8D\",\"#218C8D\",\"#218D8C\",\"#218E8C\",\"#208F8C\",\"#20908C\",\"#20918C\",\"#1F928C\",\"#1F938B\",\"#1F948B\",\"#1F958B\",\"#1F968B\",\"#1E978A\",\"#1E988A\",\"#1E998A\",\"#1E998A\",\"#1E9A89\",\"#1E9B89\",\"#1E9C89\",\"#1E9D88\",\"#1E9E88\",\"#1E9F88\",\"#1EA087\",\"#1FA187\",\"#1FA286\",\"#1FA386\",\"#20A485\",\"#20A585\",\"#21A685\",\"#21A784\",\"#22A784\",\"#23A883\",\"#23A982\",\"#24AA82\",\"#25AB81\",\"#26AC81\",\"#27AD80\",\"#28AE7F\",\"#29AF7F\",\"#2AB07E\",\"#2BB17D\",\"#2CB17D\",\"#2EB27C\",\"#2FB37B\",\"#30B47A\",\"#32B57A\",\"#33B679\",\"#35B778\",\"#36B877\",\"#38B976\",\"#39B976\",\"#3BBA75\",\"#3DBB74\",\"#3EBC73\",\"#40BD72\",\"#42BE71\",\"#44BE70\",\"#45BF6F\",\"#47C06E\",\"#49C16D\",\"#4BC26C\",\"#4DC26B\",\"#4FC369\",\"#51C468\",\"#53C567\",\"#55C666\",\"#57C665\",\"#59C764\",\"#5BC862\",\"#5EC961\",\"#60C960\",\"#62CA5F\",\"#64CB5D\",\"#67CC5C\",\"#69CC5B\",\"#6BCD59\",\"#6DCE58\",\"#70CE56\",\"#72CF55\",\"#74D054\",\"#77D052\",\"#79D151\",\"#7CD24F\",\"#7ED24E\",\"#81D34C\",\"#83D34B\",\"#86D449\",\"#88D547\",\"#8BD546\",\"#8DD644\",\"#90D643\",\"#92D741\",\"#95D73F\",\"#97D83E\",\"#9AD83C\",\"#9DD93A\",\"#9FD938\",\"#A2DA37\",\"#A5DA35\",\"#A7DB33\",\"#AADB32\",\"#ADDC30\",\"#AFDC2E\",\"#B2DD2C\",\"#B5DD2B\",\"#B7DD29\",\"#BADE27\",\"#BDDE26\",\"#BFDF24\",\"#C2DF22\",\"#C5DF21\",\"#C7E01F\",\"#CAE01E\",\"#CDE01D\",\"#CFE11C\",\"#D2E11B\",\"#D4E11A\",\"#D7E219\",\"#DAE218\",\"#DCE218\",\"#DFE318\",\"#E1E318\",\"#E4E318\",\"#E7E419\",\"#E9E419\",\"#ECE41A\",\"#EEE51B\",\"#F1E51C\",\"#F3E51E\",\"#F6E61F\",\"#F8E621\",\"#FAE622\",\"#FDE724\"]},\"id\":\"2115\",\"type\":\"LinearColorMapper\"},{\"attributes\":{\"color_mapper\":{\"id\":\"2115\",\"type\":\"LinearColorMapper\"},\"dh\":{\"field\":\"dh\",\"units\":\"data\"},\"dw\":{\"field\":\"dw\",\"units\":\"data\"},\"image\":{\"field\":\"image\"},\"x\":{\"field\":\"xmin\"},\"y\":{\"field\":\"ymin\"}},\"id\":\"2114\",\"type\":\"Image\"},{\"attributes\":{\"color_mapper\":{\"id\":\"2117\",\"type\":\"LinearColorMapper\"},\"dh\":{\"field\":\"dh\",\"units\":\"data\"},\"dw\":{\"field\":\"dw\",\"units\":\"data\"},\"image\":{\"field\":\"image\"},\"x\":{\"field\":\"xmin\"},\"y\":{\"field\":\"ymin\"}},\"id\":\"2116\",\"type\":\"Image\"},{\"attributes\":{},\"id\":\"2100\",\"type\":\"PanTool\"},{\"attributes\":{},\"id\":\"2101\",\"type\":\"WheelZoomTool\"},{\"attributes\":{\"overlay\":{\"id\":\"2228\",\"type\":\"BoxAnnotation\"}},\"id\":\"2102\",\"type\":\"BoxZoomTool\"},{\"attributes\":{},\"id\":\"2103\",\"type\":\"SaveTool\"},{\"attributes\":{},\"id\":\"2104\",\"type\":\"ResetTool\"},{\"attributes\":{},\"id\":\"2105\",\"type\":\"HelpTool\"},{\"attributes\":{\"active_drag\":\"auto\",\"active_inspect\":\"auto\",\"active_multi\":null,\"active_scroll\":\"auto\",\"active_tap\":\"auto\",\"tools\":[{\"id\":\"2100\",\"type\":\"PanTool\"},{\"id\":\"2101\",\"type\":\"WheelZoomTool\"},{\"id\":\"2102\",\"type\":\"BoxZoomTool\"},{\"id\":\"2103\",\"type\":\"SaveTool\"},{\"id\":\"2104\",\"type\":\"ResetTool\"},{\"id\":\"2105\",\"type\":\"HelpTool\"}]},\"id\":\"2106\",\"type\":\"Toolbar\"},{\"attributes\":{\"palette\":[\"white\",\"#440255\",\"#440357\",\"#450558\",\"#45065A\",\"#45085B\",\"#46095C\",\"#460B5E\",\"#460C5F\",\"#460E61\",\"#470F62\",\"#471163\",\"#471265\",\"#471466\",\"#471567\",\"#471669\",\"#47186A\",\"#48196B\",\"#481A6C\",\"#481C6E\",\"#481D6F\",\"#481E70\",\"#482071\",\"#482172\",\"#482273\",\"#482374\",\"#472575\",\"#472676\",\"#472777\",\"#472878\",\"#472A79\",\"#472B7A\",\"#472C7B\",\"#462D7C\",\"#462F7C\",\"#46307D\",\"#46317E\",\"#45327F\",\"#45347F\",\"#453580\",\"#453681\",\"#443781\",\"#443982\",\"#433A83\",\"#433B83\",\"#433C84\",\"#423D84\",\"#423E85\",\"#424085\",\"#414186\",\"#414286\",\"#404387\",\"#404487\",\"#3F4587\",\"#3F4788\",\"#3E4888\",\"#3E4989\",\"#3D4A89\",\"#3D4B89\",\"#3D4C89\",\"#3C4D8A\",\"#3C4E8A\",\"#3B508A\",\"#3B518A\",\"#3A528B\",\"#3A538B\",\"#39548B\",\"#39558B\",\"#38568B\",\"#38578C\",\"#37588C\",\"#37598C\",\"#365A8C\",\"#365B8C\",\"#355C8C\",\"#355D8C\",\"#345E8D\",\"#345F8D\",\"#33608D\",\"#33618D\",\"#32628D\",\"#32638D\",\"#31648D\",\"#31658D\",\"#31668D\",\"#30678D\",\"#30688D\",\"#2F698D\",\"#2F6A8D\",\"#2E6B8E\",\"#2E6C8E\",\"#2E6D8E\",\"#2D6E8E\",\"#2D6F8E\",\"#2C708E\",\"#2C718E\",\"#2C728E\",\"#2B738E\",\"#2B748E\",\"#2A758E\",\"#2A768E\",\"#2A778E\",\"#29788E\",\"#29798E\",\"#287A8E\",\"#287A8E\",\"#287B8E\",\"#277C8E\",\"#277D8E\",\"#277E8E\",\"#267F8E\",\"#26808E\",\"#26818E\",\"#25828E\",\"#25838D\",\"#24848D\",\"#24858D\",\"#24868D\",\"#23878D\",\"#23888D\",\"#23898D\",\"#22898D\",\"#228A8D\",\"#228B8D\",\"#218C8D\",\"#218D8C\",\"#218E8C\",\"#208F8C\",\"#20908C\",\"#20918C\",\"#1F928C\",\"#1F938B\",\"#1F948B\",\"#1F958B\",\"#1F968B\",\"#1E978A\",\"#1E988A\",\"#1E998A\",\"#1E998A\",\"#1E9A89\",\"#1E9B89\",\"#1E9C89\",\"#1E9D88\",\"#1E9E88\",\"#1E9F88\",\"#1EA087\",\"#1FA187\",\"#1FA286\",\"#1FA386\",\"#20A485\",\"#20A585\",\"#21A685\",\"#21A784\",\"#22A784\",\"#23A883\",\"#23A982\",\"#24AA82\",\"#25AB81\",\"#26AC81\",\"#27AD80\",\"#28AE7F\",\"#29AF7F\",\"#2AB07E\",\"#2BB17D\",\"#2CB17D\",\"#2EB27C\",\"#2FB37B\",\"#30B47A\",\"#32B57A\",\"#33B679\",\"#35B778\",\"#36B877\",\"#38B976\",\"#39B976\",\"#3BBA75\",\"#3DBB74\",\"#3EBC73\",\"#40BD72\",\"#42BE71\",\"#44BE70\",\"#45BF6F\",\"#47C06E\",\"#49C16D\",\"#4BC26C\",\"#4DC26B\",\"#4FC369\",\"#51C468\",\"#53C567\",\"#55C666\",\"#57C665\",\"#59C764\",\"#5BC862\",\"#5EC961\",\"#60C960\",\"#62CA5F\",\"#64CB5D\",\"#67CC5C\",\"#69CC5B\",\"#6BCD59\",\"#6DCE58\",\"#70CE56\",\"#72CF55\",\"#74D054\",\"#77D052\",\"#79D151\",\"#7CD24F\",\"#7ED24E\",\"#81D34C\",\"#83D34B\",\"#86D449\",\"#88D547\",\"#8BD546\",\"#8DD644\",\"#90D643\",\"#92D741\",\"#95D73F\",\"#97D83E\",\"#9AD83C\",\"#9DD93A\",\"#9FD938\",\"#A2DA37\",\"#A5DA35\",\"#A7DB33\",\"#AADB32\",\"#ADDC30\",\"#AFDC2E\",\"#B2DD2C\",\"#B5DD2B\",\"#B7DD29\",\"#BADE27\",\"#BDDE26\",\"#BFDF24\",\"#C2DF22\",\"#C5DF21\",\"#C7E01F\",\"#CAE01E\",\"#CDE01D\",\"#CFE11C\",\"#D2E11B\",\"#D4E11A\",\"#D7E219\",\"#DAE218\",\"#DCE218\",\"#DFE318\",\"#E1E318\",\"#E4E318\",\"#E7E419\",\"#E9E419\",\"#ECE41A\",\"#EEE51B\",\"#F1E51C\",\"#F3E51E\",\"#F6E61F\",\"#F8E621\",\"#FAE622\",\"#FDE724\"]},\"id\":\"2117\",\"type\":\"LinearColorMapper\"},{\"attributes\":{\"dimension\":1,\"ticker\":{\"id\":\"2019\",\"type\":\"BasicTicker\"}},\"id\":\"2022\",\"type\":\"Grid\"},{\"attributes\":{\"data_source\":{\"id\":\"2080\",\"type\":\"ColumnDataSource\"},\"glyph\":{\"id\":\"2114\",\"type\":\"Image\"},\"hover_glyph\":null,\"muted_glyph\":null,\"nonselection_glyph\":{\"id\":\"2116\",\"type\":\"Image\"},\"selection_glyph\":null,\"view\":{\"id\":\"2119\",\"type\":\"CDSView\"}},\"id\":\"2118\",\"type\":\"GlyphRenderer\"},{\"attributes\":{},\"id\":\"2019\",\"type\":\"BasicTicker\"},{\"attributes\":{\"source\":{\"id\":\"2080\",\"type\":\"ColumnDataSource\"}},\"id\":\"2119\",\"type\":\"CDSView\"},{\"attributes\":{\"text\":\"\"},\"id\":\"2202\",\"type\":\"Title\"},{\"attributes\":{\"text\":\"\"},\"id\":\"2204\",\"type\":\"Title\"},{\"attributes\":{\"text\":\"\"},\"id\":\"2206\",\"type\":\"Title\"},{\"attributes\":{},\"id\":\"2209\",\"type\":\"BasicTickFormatter\"},{\"attributes\":{},\"id\":\"2211\",\"type\":\"BasicTickFormatter\"},{\"attributes\":{},\"id\":\"2213\",\"type\":\"BasicTickFormatter\"},{\"attributes\":{},\"id\":\"2215\",\"type\":\"BasicTickFormatter\"},{\"attributes\":{\"below\":[{\"id\":\"2013\",\"type\":\"LinearAxis\"}],\"center\":[{\"id\":\"2017\",\"type\":\"Grid\"},{\"id\":\"2022\",\"type\":\"Grid\"}],\"left\":[{\"id\":\"2018\",\"type\":\"LinearAxis\"}],\"plot_height\":500,\"plot_width\":500,\"renderers\":[{\"id\":\"2041\",\"type\":\"GlyphRenderer\"}],\"title\":{\"id\":\"2202\",\"type\":\"Title\"},\"toolbar\":{\"id\":\"2029\",\"type\":\"Toolbar\"},\"x_range\":{\"id\":\"2005\",\"type\":\"Range1d\"},\"x_scale\":{\"id\":\"2009\",\"type\":\"LinearScale\"},\"y_range\":{\"id\":\"2007\",\"type\":\"Range1d\"},\"y_scale\":{\"id\":\"2011\",\"type\":\"LinearScale\"}},\"id\":\"2004\",\"subtype\":\"Figure\",\"type\":\"Plot\"},{\"attributes\":{},\"id\":\"2217\",\"type\":\"BasicTickFormatter\"},{\"attributes\":{\"callback\":null,\"end\":599.88996,\"start\":-599.99523},\"id\":\"2005\",\"type\":\"Range1d\"},{\"attributes\":{\"below\":[{\"id\":\"2090\",\"type\":\"LinearAxis\"}],\"center\":[{\"id\":\"2094\",\"type\":\"Grid\"},{\"id\":\"2099\",\"type\":\"Grid\"}],\"left\":[{\"id\":\"2095\",\"type\":\"LinearAxis\"}],\"plot_height\":500,\"plot_width\":500,\"renderers\":[{\"id\":\"2118\",\"type\":\"GlyphRenderer\"}],\"title\":{\"id\":\"2206\",\"type\":\"Title\"},\"toolbar\":{\"id\":\"2106\",\"type\":\"Toolbar\"},\"x_range\":{\"id\":\"2082\",\"type\":\"Range1d\"},\"x_scale\":{\"id\":\"2086\",\"type\":\"LinearScale\"},\"y_range\":{\"id\":\"2084\",\"type\":\"Range1d\"},\"y_scale\":{\"id\":\"2088\",\"type\":\"LinearScale\"}},\"id\":\"2081\",\"subtype\":\"Figure\",\"type\":\"Plot\"},{\"attributes\":{},\"id\":\"2219\",\"type\":\"BasicTickFormatter\"},{\"attributes\":{},\"id\":\"2220\",\"type\":\"UnionRenderers\"},{\"attributes\":{\"axis_label\":\"x (um)\",\"formatter\":{\"id\":\"2211\",\"type\":\"BasicTickFormatter\"},\"ticker\":{\"id\":\"2014\",\"type\":\"BasicTicker\"}},\"id\":\"2013\",\"type\":\"LinearAxis\"},{\"attributes\":{},\"id\":\"2221\",\"type\":\"Selection\"},{\"attributes\":{\"callback\":null,\"end\":599.50232,\"start\":-599.8078399999999},\"id\":\"2007\",\"type\":\"Range1d\"},{\"attributes\":{\"bottom_units\":\"screen\",\"fill_alpha\":{\"value\":0.5},\"fill_color\":{\"value\":\"lightgrey\"},\"left_units\":\"screen\",\"level\":\"overlay\",\"line_alpha\":{\"value\":1.0},\"line_color\":{\"value\":\"black\"},\"line_dash\":[4,4],\"line_width\":{\"value\":2},\"render_mode\":\"css\",\"right_units\":\"screen\",\"top_units\":\"screen\"},\"id\":\"2222\",\"type\":\"BoxAnnotation\"},{\"attributes\":{},\"id\":\"2009\",\"type\":\"LinearScale\"},{\"attributes\":{},\"id\":\"2223\",\"type\":\"UnionRenderers\"},{\"attributes\":{},\"id\":\"2011\",\"type\":\"LinearScale\"},{\"attributes\":{},\"id\":\"2224\",\"type\":\"Selection\"},{\"attributes\":{},\"id\":\"2014\",\"type\":\"BasicTicker\"},{\"attributes\":{},\"id\":\"2226\",\"type\":\"UnionRenderers\"},{\"attributes\":{\"ticker\":{\"id\":\"2014\",\"type\":\"BasicTicker\"}},\"id\":\"2017\",\"type\":\"Grid\"},{\"attributes\":{},\"id\":\"2227\",\"type\":\"Selection\"},{\"attributes\":{\"axis_label\":\"y (um)\",\"formatter\":{\"id\":\"2209\",\"type\":\"BasicTickFormatter\"},\"ticker\":{\"id\":\"2019\",\"type\":\"BasicTicker\"}},\"id\":\"2018\",\"type\":\"LinearAxis\"},{\"attributes\":{\"bottom_units\":\"screen\",\"fill_alpha\":{\"value\":0.5},\"fill_color\":{\"value\":\"lightgrey\"},\"left_units\":\"screen\",\"level\":\"overlay\",\"line_alpha\":{\"value\":1.0},\"line_color\":{\"value\":\"black\"},\"line_dash\":[4,4],\"line_width\":{\"value\":2},\"render_mode\":\"css\",\"right_units\":\"screen\",\"top_units\":\"screen\"},\"id\":\"2228\",\"type\":\"BoxAnnotation\"},{\"attributes\":{},\"id\":\"2027\",\"type\":\"ResetTool\"},{\"attributes\":{},\"id\":\"2028\",\"type\":\"HelpTool\"},{\"attributes\":{\"active_drag\":\"auto\",\"active_inspect\":\"auto\",\"active_multi\":null,\"active_scroll\":\"auto\",\"active_tap\":\"auto\",\"tools\":[{\"id\":\"2023\",\"type\":\"PanTool\"},{\"id\":\"2024\",\"type\":\"WheelZoomTool\"},{\"id\":\"2025\",\"type\":\"BoxZoomTool\"},{\"id\":\"2026\",\"type\":\"SaveTool\"},{\"id\":\"2027\",\"type\":\"ResetTool\"},{\"id\":\"2028\",\"type\":\"HelpTool\"}]},\"id\":\"2029\",\"type\":\"Toolbar\"},{\"attributes\":{\"color_mapper\":{\"id\":\"2040\",\"type\":\"LinearColorMapper\"},\"dh\":{\"field\":\"dh\",\"units\":\"data\"},\"dw\":{\"field\":\"dw\",\"units\":\"data\"},\"image\":{\"field\":\"image\"},\"x\":{\"field\":\"xmin\"},\"y\":{\"field\":\"ymin\"}},\"id\":\"2039\",\"type\":\"Image\"},{\"attributes\":{\"palette\":[\"white\",\"#440255\",\"#440357\",\"#450558\",\"#45065A\",\"#45085B\",\"#46095C\",\"#460B5E\",\"#460C5F\",\"#460E61\",\"#470F62\",\"#471163\",\"#471265\",\"#471466\",\"#471567\",\"#471669\",\"#47186A\",\"#48196B\",\"#481A6C\",\"#481C6E\",\"#481D6F\",\"#481E70\",\"#482071\",\"#482172\",\"#482273\",\"#482374\",\"#472575\",\"#472676\",\"#472777\",\"#472878\",\"#472A79\",\"#472B7A\",\"#472C7B\",\"#462D7C\",\"#462F7C\",\"#46307D\",\"#46317E\",\"#45327F\",\"#45347F\",\"#453580\",\"#453681\",\"#443781\",\"#443982\",\"#433A83\",\"#433B83\",\"#433C84\",\"#423D84\",\"#423E85\",\"#424085\",\"#414186\",\"#414286\",\"#404387\",\"#404487\",\"#3F4587\",\"#3F4788\",\"#3E4888\",\"#3E4989\",\"#3D4A89\",\"#3D4B89\",\"#3D4C89\",\"#3C4D8A\",\"#3C4E8A\",\"#3B508A\",\"#3B518A\",\"#3A528B\",\"#3A538B\",\"#39548B\",\"#39558B\",\"#38568B\",\"#38578C\",\"#37588C\",\"#37598C\",\"#365A8C\",\"#365B8C\",\"#355C8C\",\"#355D8C\",\"#345E8D\",\"#345F8D\",\"#33608D\",\"#33618D\",\"#32628D\",\"#32638D\",\"#31648D\",\"#31658D\",\"#31668D\",\"#30678D\",\"#30688D\",\"#2F698D\",\"#2F6A8D\",\"#2E6B8E\",\"#2E6C8E\",\"#2E6D8E\",\"#2D6E8E\",\"#2D6F8E\",\"#2C708E\",\"#2C718E\",\"#2C728E\",\"#2B738E\",\"#2B748E\",\"#2A758E\",\"#2A768E\",\"#2A778E\",\"#29788E\",\"#29798E\",\"#287A8E\",\"#287A8E\",\"#287B8E\",\"#277C8E\",\"#277D8E\",\"#277E8E\",\"#267F8E\",\"#26808E\",\"#26818E\",\"#25828E\",\"#25838D\",\"#24848D\",\"#24858D\",\"#24868D\",\"#23878D\",\"#23888D\",\"#23898D\",\"#22898D\",\"#228A8D\",\"#228B8D\",\"#218C8D\",\"#218D8C\",\"#218E8C\",\"#208F8C\",\"#20908C\",\"#20918C\",\"#1F928C\",\"#1F938B\",\"#1F948B\",\"#1F958B\",\"#1F968B\",\"#1E978A\",\"#1E988A\",\"#1E998A\",\"#1E998A\",\"#1E9A89\",\"#1E9B89\",\"#1E9C89\",\"#1E9D88\",\"#1E9E88\",\"#1E9F88\",\"#1EA087\",\"#1FA187\",\"#1FA286\",\"#1FA386\",\"#20A485\",\"#20A585\",\"#21A685\",\"#21A784\",\"#22A784\",\"#23A883\",\"#23A982\",\"#24AA82\",\"#25AB81\",\"#26AC81\",\"#27AD80\",\"#28AE7F\",\"#29AF7F\",\"#2AB07E\",\"#2BB17D\",\"#2CB17D\",\"#2EB27C\",\"#2FB37B\",\"#30B47A\",\"#32B57A\",\"#33B679\",\"#35B778\",\"#36B877\",\"#38B976\",\"#39B976\",\"#3BBA75\",\"#3DBB74\",\"#3EBC73\",\"#40BD72\",\"#42BE71\",\"#44BE70\",\"#45BF6F\",\"#47C06E\",\"#49C16D\",\"#4BC26C\",\"#4DC26B\",\"#4FC369\",\"#51C468\",\"#53C567\",\"#55C666\",\"#57C665\",\"#59C764\",\"#5BC862\",\"#5EC961\",\"#60C960\",\"#62CA5F\",\"#64CB5D\",\"#67CC5C\",\"#69CC5B\",\"#6BCD59\",\"#6DCE58\",\"#70CE56\",\"#72CF55\",\"#74D054\",\"#77D052\",\"#79D151\",\"#7CD24F\",\"#7ED24E\",\"#81D34C\",\"#83D34B\",\"#86D449\",\"#88D547\",\"#8BD546\",\"#8DD644\",\"#90D643\",\"#92D741\",\"#95D73F\",\"#97D83E\",\"#9AD83C\",\"#9DD93A\",\"#9FD938\",\"#A2DA37\",\"#A5DA35\",\"#A7DB33\",\"#AADB32\",\"#ADDC30\",\"#AFDC2E\",\"#B2DD2C\",\"#B5DD2B\",\"#B7DD29\",\"#BADE27\",\"#BDDE26\",\"#BFDF24\",\"#C2DF22\",\"#C5DF21\",\"#C7E01F\",\"#CAE01E\",\"#CDE01D\",\"#CFE11C\",\"#D2E11B\",\"#D4E11A\",\"#D7E219\",\"#DAE218\",\"#DCE218\",\"#DFE318\",\"#E1E318\",\"#E4E318\",\"#E7E419\",\"#E9E419\",\"#ECE41A\",\"#EEE51B\",\"#F1E51C\",\"#F3E51E\",\"#F6E61F\",\"#F8E621\",\"#FAE622\",\"#FDE724\"]},\"id\":\"2040\",\"type\":\"LinearColorMapper\"},{\"attributes\":{\"data_source\":{\"id\":\"2003\",\"type\":\"ColumnDataSource\"},\"glyph\":{\"id\":\"2037\",\"type\":\"Image\"},\"hover_glyph\":null,\"muted_glyph\":null,\"nonselection_glyph\":{\"id\":\"2039\",\"type\":\"Image\"},\"selection_glyph\":null,\"view\":{\"id\":\"2042\",\"type\":\"CDSView\"}},\"id\":\"2041\",\"type\":\"GlyphRenderer\"},{\"attributes\":{\"source\":{\"id\":\"2003\",\"type\":\"ColumnDataSource\"}},\"id\":\"2042\",\"type\":\"CDSView\"},{\"attributes\":{\"below\":[{\"id\":\"2052\",\"type\":\"LinearAxis\"}],\"center\":[{\"id\":\"2056\",\"type\":\"Grid\"},{\"id\":\"2061\",\"type\":\"Grid\"}],\"left\":[{\"id\":\"2057\",\"type\":\"LinearAxis\"}],\"plot_height\":250,\"plot_width\":500,\"renderers\":[{\"id\":\"2078\",\"type\":\"GlyphRenderer\"}],\"title\":{\"id\":\"2204\",\"type\":\"Title\"},\"toolbar\":{\"id\":\"2068\",\"type\":\"Toolbar\"},\"x_range\":{\"id\":\"2044\",\"type\":\"DataRange1d\"},\"x_scale\":{\"id\":\"2048\",\"type\":\"LinearScale\"},\"y_range\":{\"id\":\"2046\",\"type\":\"DataRange1d\"},\"y_scale\":{\"id\":\"2050\",\"type\":\"LinearScale\"}},\"id\":\"2043\",\"subtype\":\"Figure\",\"type\":\"Plot\"},{\"attributes\":{\"bottom\":{\"value\":0},\"fill_alpha\":{\"value\":0.1},\"fill_color\":{\"value\":\"#1f77b4\"},\"left\":{\"field\":\"left\"},\"line_alpha\":{\"value\":0.1},\"line_color\":{\"value\":\"#1f77b4\"},\"right\":{\"field\":\"right\"},\"top\":{\"field\":\"top\"}},\"id\":\"2077\",\"type\":\"Quad\"},{\"attributes\":{\"callback\":null},\"id\":\"2044\",\"type\":\"DataRange1d\"},{\"attributes\":{\"callback\":null},\"id\":\"2046\",\"type\":\"DataRange1d\"},{\"attributes\":{},\"id\":\"2048\",\"type\":\"LinearScale\"},{\"attributes\":{},\"id\":\"2050\",\"type\":\"LinearScale\"},{\"attributes\":{\"axis_label\":\"z/c (fs)\",\"formatter\":{\"id\":\"2215\",\"type\":\"BasicTickFormatter\"},\"ticker\":{\"id\":\"2053\",\"type\":\"BasicTicker\"}},\"id\":\"2052\",\"type\":\"LinearAxis\"},{\"attributes\":{\"callback\":null,\"end\":1.0112559168468357e-06,\"start\":1.0102559168468356e-06},\"id\":\"2084\",\"type\":\"Range1d\"},{\"attributes\":{},\"id\":\"2053\",\"type\":\"BasicTicker\"},{\"attributes\":{\"ticker\":{\"id\":\"2053\",\"type\":\"BasicTicker\"}},\"id\":\"2056\",\"type\":\"Grid\"},{\"attributes\":{\"axis_label\":\"??particles/fs\",\"formatter\":{\"id\":\"2213\",\"type\":\"BasicTickFormatter\"},\"ticker\":{\"id\":\"2058\",\"type\":\"BasicTicker\"}},\"id\":\"2057\",\"type\":\"LinearAxis\"},{\"attributes\":{},\"id\":\"2058\",\"type\":\"BasicTicker\"},{\"attributes\":{\"dimension\":1,\"ticker\":{\"id\":\"2058\",\"type\":\"BasicTicker\"}},\"id\":\"2061\",\"type\":\"Grid\"},{\"attributes\":{\"bottom\":{\"value\":0},\"fill_alpha\":{\"value\":0.5},\"fill_color\":{\"value\":\"grey\"},\"left\":{\"field\":\"left\"},\"line_alpha\":{\"value\":0.5},\"line_color\":{\"value\":\"white\"},\"right\":{\"field\":\"right\"},\"top\":{\"field\":\"top\"}},\"id\":\"2076\",\"type\":\"Quad\"},{\"attributes\":{\"callback\":null,\"data\":{\"left\":{\"__ndarray__\":\"o0jwzWFALcC2FOGLf/UswMjg0UmdqizA26zCB7tfLMDveLPF2BQswABFpIP2ySvAFBGVQRR/K8An3YX/MTQrwDmpdr1P6SrATHVne22eKsBgQVg5i1MqwHINSfeoCCrAhdk5tca9KcCYpSpz5HIpwKtxGzECKCnAvT0M7x/dKMDRCf2sPZIowOPV7WpbRyjA9qHeKHn8J8AJbs/mlrEnwBw6wKS0ZifALwaxYtIbJ8BC0qEg8NAmwFWekt4NhibAZ2qDnCs7JsB6NnRaSfAlwI0CZRhnpSXAoM5V1oRaJcCzmkaUog8lwMZmN1LAxCTA2DIoEN55JMDs/hjO+y4kwP7KCYwZ5CPAEZf6STeZI8AkY+sHVU4jwDcv3MVyAyPASfvMg5C4IsBdx71Brm0iwG+Trv/LIiLAgl+fvenXIcCVK5B7B40hwKj3gDklQiHAusNx90L3IMDOj2K1YKwgwOBbU3N+YSDA8ydEMZwWIMAN6Gnec5cfwDKAS1qvAR/AVxgt1uprHsB+sA5SJtYdwKNI8M1hQB3AyuDRSZ2qHMDveLPF2BQcwBQRlUEUfxvAO6l2vU/pGsBgQVg5i1MawIXZObXGvRnArHEbMQIoGcDRCf2sPZIYwPah3ih5/BfAHTrApLRmF8BC0qEg8NAWwGdqg5wrOxbAjgJlGGelFcCzmkaUog8VwNgyKBDeeRTA/8oJjBnkE8AkY+sHVU4TwEn7zIOQuBLAcJOu/8siEsCVK5B7B40RwLrDcfdC9xDA4VtTc35hEMAN6Gnec5cPwFcYLdbqaw7ApEjwzWFADcDveLPF2BQMwDmpdr1P6QrAh9k5tca9CcDRCf2sPZIIwB46wKS0ZgfAaWqDnCs7BsCzmkaUog8FwAHLCYwZ5APAS/vMg5C4AsCVK5B7B40BwONbU3N+YQDAWhgt1upr/r/veLPF2BT8v4rZObXGvfm/GDrApLRm97+zmkaUog/1v077zIOQuPK/3FtTc35h8L/veLPF2BTsvyU6wKS0Zue/QfvMg5C44r/veLPF2BTcv1v7zIOQuNK/jvvMg5C4wr8=\",\"dtype\":\"float64\",\"shape\":[100]},\"right\":{\"__ndarray__\":\"thThi3/1LMDI4NFJnaoswNuswge7XyzA73izxdgULMAARaSD9skrwBQRlUEUfyvAJ92F/zE0K8A5qXa9T+kqwEx1Z3ttnirAYEFYOYtTKsByDUn3qAgqwIXZObXGvSnAmKUqc+RyKcCrcRsxAigpwL09DO8f3SjA0Qn9rD2SKMDj1e1qW0cowPah3ih5/CfACW7P5paxJ8AcOsCktGYnwC8GsWLSGyfAQtKhIPDQJsBVnpLeDYYmwGdqg5wrOybAejZ0WknwJcCNAmUYZ6UlwKDOVdaEWiXAs5pGlKIPJcDGZjdSwMQkwNgyKBDeeSTA7P4YzvsuJMD+ygmMGeQjwBGX+kk3mSPAJGPrB1VOI8A3L9zFcgMjwEn7zIOQuCLAXce9Qa5tIsBvk67/yyIiwIJfn73p1yHAlSuQeweNIcCo94A5JUIhwLrDcfdC9yDAzo9itWCsIMDgW1NzfmEgwPMnRDGcFiDADehp3nOXH8AygEtarwEfwFcYLdbqax7AfrAOUibWHcCjSPDNYUAdwMrg0UmdqhzA73izxdgUHMAUEZVBFH8bwDupdr1P6RrAYEFYOYtTGsCF2Tm1xr0ZwKxxGzECKBnA0Qn9rD2SGMD2od4oefwXwB06wKS0ZhfAQtKhIPDQFsBnaoOcKzsWwI4CZRhnpRXAs5pGlKIPFcDYMigQ3nkUwP/KCYwZ5BPAJGPrB1VOE8BJ+8yDkLgSwHCTrv/LIhLAlSuQeweNEcC6w3H3QvcQwOFbU3N+YRDADehp3nOXD8BXGC3W6msOwKRI8M1hQA3A73izxdgUDMA5qXa9T+kKwIfZObXGvQnA0Qn9rD2SCMAeOsCktGYHwGlqg5wrOwbAs5pGlKIPBcABywmMGeQDwEv7zIOQuALAlSuQeweNAcDjW1NzfmEAwFoYLdbqa/6/73izxdgU/L+K2Tm1xr35vxg6wKS0Zve/s5pGlKIP9b9O+8yDkLjyv9xbU3N+YfC/73izxdgU7L8lOsCktGbnv0H7zIOQuOK/73izxdgU3L9b+8yDkLjSv477zIOQuMK/AAAAAAAAAAA=\",\"dtype\":\"float64\",\"shape\":[100]},\"top\":{\"__ndarray__\":\"9R6/Yy+8zkC8LIofOCbRQFZo3/p4ttRAKuXCN6QW10BafY3O0InZQCi2nfXE2uFA+ht6r+J840DJsdRalUXmQM6we6vfWupA68KiV/nD60DY+ZtCKVXwQCi2nfXE2vFAvg9KFoEo9UCsfHaSDMr1QFnzwQIHAPlAK/3g9nWU+0Aacbx79h//QKSivlNunABB8UUlEyGkAUGOqwHNPkYDQYi3kKwnhQVBTJOhmnudBkFPEvXCIKgIQYbHgi7tGAtBOPW0uWmqDEGLtN5NvK8NQYSpZqqXMA9BJIiP76leEEGtXXZOHEISQRGxvR7RhRJBmK2VPRoGE0E5iRRpvRMUQYOkH0ggPBRBmg1IaFZzFUEef+Z9hnQVQVw/7Ix3ZBZB66qEmCdGF0GaUxXnu4IXQRXjLsfIVhdBf6R+jqcmGEF8ipni0MgXQW8vlBJfkBhBFS+4l8ClGEFCieHsk/MXQcz1Me6AqhhBpb2Hv9+ZGEFI2W4Z4awYQRdlYBg3ARlBhqDob6GxGEG2uV/eKBoZQT4WHaTXJxhBifylNVC/F0HnRHVi4IMZQW5ND907YxhB+YTdkD6JGEF+9cOwMbUYQQn6xwyHHxhBAft/AsT0F0EPwa+glhkYQXfauNHOjBhBksZr8ihZF0Hh3eCyhQwYQZgC0MQx9BZBwuZWqH/WFkEPk6Gae50WQc/sgDdhCxZB3i2hW/zlFEFrFCrtdH0UQQ2K8ONb/hNB9DtlZTn6EkH2eIEtf2oSQQZF21ozxBFBxROB7v+yEEH+5Fw/UdYOQSXEWk02mQtBTMbKOLBDC0ENXn6TGPcJQallzlWG9ghB2VA3vvLiB0EilTULV10GQQj+/uQFqgNBQdGo1CcDAkEqwRWZ6VkAQc3EcYn6WP9AGhWgb8An/EAN3yprc+z3QBIk4a0UPPZAf9bDbEEt9UCQXQgRzUzyQPHdtOgnQvBANljmxufM6kAiocTqP5zoQEc9WBycpOZAKs2keNKY4kDZ8kuAu1XhQO8aODzxUdtARuDiYLDB10ByY/8jhWHVQLjKNI1Y7tJA7xo4PPFRy0A=\",\"dtype\":\"float64\",\"shape\":[100]}},\"selected\":{\"id\":\"2224\",\"type\":\"Selection\"},\"selection_policy\":{\"id\":\"2223\",\"type\":\"UnionRenderers\"}},\"id\":\"2075\",\"type\":\"ColumnDataSource\"},{\"attributes\":{\"data_source\":{\"id\":\"2075\",\"type\":\"ColumnDataSource\"},\"glyph\":{\"id\":\"2076\",\"type\":\"Quad\"},\"hover_glyph\":null,\"muted_glyph\":null,\"nonselection_glyph\":{\"id\":\"2077\",\"type\":\"Quad\"},\"selection_glyph\":null,\"view\":{\"id\":\"2079\",\"type\":\"CDSView\"}},\"id\":\"2078\",\"type\":\"GlyphRenderer\"},{\"attributes\":{},\"id\":\"2062\",\"type\":\"PanTool\"},{\"attributes\":{},\"id\":\"2023\",\"type\":\"PanTool\"},{\"attributes\":{},\"id\":\"2063\",\"type\":\"WheelZoomTool\"},{\"attributes\":{\"callback\":null,\"data\":{\"dh\":[1.0000000000000751e-09],\"dw\":[14.62574618871833],\"image\":[{\"__ndarray__\":\"AAAAAAAAAAAAAAAAAAAAAAAAAAAAAAAAAAAAAAAAAAAAAAAAAAAAAAAAAAAAAAAAAAAAAAAAAAAAAAAAAAAAAAAAAAAAAAAAAAAAAAAAAAAAAAAAAAAAAAAAAAAAAAAAAAAAAAAAAAAAAAAAAAAAAAAAAAAAAAAAAAAAAAAAAAAAAAAAAAAAAAAAAAAAAAAAAAAAAAAAAAAAAAAAAAAAAAAAAAAAAAAAAAAAAAAAAAAAAAAAAAAAAAAAAAAAAAAAAAAAAAAAAAAAAAAAAAAAAAAAAAAAAAAAAAAAAAAAAAAAAAAAAAAAAAAAAAAAAAAAAAAAAAAAAAAAAAAAAAAAAAAAAAAAAAAAAAAAAAAAAAAAAAAAAAAAAAAAAAAAAAAAAAAAAAAAAAAAAAAAAAAAAAAAAAAAAAAAAAAAAAAAAAAAAAAAAAAAAAAAAAAAAAAAAAAAAAAAAAAAAAAAAAAAAAAAAAAAAAAAAAAAAAAAAAAAAAAAAAAAAAAAAAAAAAAAAAAAAAAAAAAAAAAAAAAAAAAAAAAAAAAAAAAAAAAAAAAAAAAAAAAAAAAAAAAAAAAAAAAAAAAAAAAAAAAAAAAAAAAAAAAAAAAAAAAAAAAAAAAAAAAAAAAAAAAAAAAAAAAAAAAAAAAAAAAAAAAAAAAAAAAAAAAAAAAAAAAAAAAAAAAAAAAAAAAAAAAAAAAAAAAAAAAAAAAAAAAAAAAAAAAAAAAAAAAAAAAAAAAAAAAAAAAAAAAAAAAAAAAAAAAAAAAAAAAAAAAAAAAAAAAAAAAAAAAAAAAAAAAAAAAAAAAAAAAAAAAAAAAAAAAAAAAAAAAAAAAAAAAAAAAAAAAAAAAAAAAAAAAAAAAAAAAAAAAAAAAAAAAAAAAAAAAAAAAAAAAAAAAAAAAAAAAAAAAAAAAAAAAAAAAAAAAAAAAAAAAAAAAAAAAAAAAAAAAAAAAAAAAAAAAAAAAAAAAAAAAAAAAAAAAAAAAAAAAAAAAAAAAAAAAAAAAAAAAAAAAAAAAAAAAAAAAAAAAAAAAAAAAAAAAAAAAAAAAAAAAAAAAAAAAAAAAAAAAAAAAAAAAAAAAAAAAAAAAAAAAAAAAAAAAAAAAAAAAAAAAAAAAAAAAAAAAAAAAAAAAAAAAAAAAAAAAAAAAAAAAAAAAAAAAAAAAAAAAAAAAAAAAAAAAAAAAAAAAAAAAAAAAAAAAAAAAAAAAAAAAAAAAAAAAAAAAAAAAAAAAAAAAAAAAAAAAAAAAAAAAAAAAAAAAAAAAAAAAAAAAAAAAAAAAAAAAAAAAAAAAAAAAAAAAAAAAAAAAAAAAAAAAAAAAAAAAAAAAAAAAAAAAAAAAAAAAAAAAAAAAAAAAAAAAAAAAAAAAAAAAAAAAAAAAAAAAAAAAAAAAAAAAAAAAAAAAAAAAAAAAAAAAAAAAAAAAAAAAAAAAAAAAAAAAAAAAAAAAAAAAAAAAAAAAAAAAAAAAAAAAAAAAAAAAAAAAAAAAAAAAAAAAAAAAAAAAAAAAAAAAAAAAAAAAAAAAAAAAAAAAAAAAAAAAAAAAAAAAAAAAAAAAAAAAAAAAAAAAAAAAAAAAAAAAAAAAAAAAAAAAAAAAAAAAAAAAAAAAAAAAAAAAAAAAAAAAAAAAAAAAAAAAAAAAAAAAAAAAAAAAAAAAAAAAAAAAAAAAAAAAAAAAAAAAAAAAAAAAAAAAAAAAAAAAAAAAAAAAAAAAAAAAAAAAAAAAAAAAAAAAAAAAAAAAAAAAAAAAAAAAAAAAAAAAAAAAAAAAAAAAAAAAAAAAAAAAAAAAAAAAAAAAAAAAAAAAAAAAAAAAAAAAAAAAAAAAAAAAAAAAAAAAAAAAAAAAAAAAAAAAAAAAAAAAAAAAAAAAAAAAAAAAAAAAAAAAAAAAAAAAAAAAAAAAAAAAAAAAAAAAAAAAAAAAAAAAAAAAAAAAAAAAAAAAAAAAAAAAAAAAAAAAAAAAAAAAAAAAAAAAAAAAAAAAAAAAAAAAAAAAAAAAAAAAAAAAAAAAAAAAAAAAAAAAAAAAAAAAAAAAAAAAAAAAAAAAAAAAAAAAAAAAAAAAAAAAAAAAAAAAAAAAAAAAAAAAAAAAAAAAAAAAAAAAAAAAAAAAAAAAAAAAAAAAAAAAAAAAAAAAAAAAAAAAAAAAAAAAAAAAAAAAAAAAAAAAAAAAAAAAAAAAAAAAAAAAAAAAAAAAAAAAAAAAAAAAAAAAAAAAAAAAAAAAAAAAAAAAAAAAAAAAAAAAAAAAAAAAAAAAAAAAAAAAAAAAAAAAAAAAAAAAAAAAAAAAAAAAAAAAAAAAAAAAAAAAAAAAAAAAAAAAAAAAAAAAAAAAAAAAAAAAAAAAAAAAAAAAAAAAAAAAAAAAAAAAAAAAAAAAAAAAAAAAAAAAAAAAAAAAAAAAAAAAAAAAAAAAAAAAAAAAAAAAAAAAAAAAAAAAAAAAAAAAAAAAAAAAAAAAAAAAAAAAAAAAAAAAAAAAAAAAAAAAAAAAAAAAAAAAAAAAAAAAAAAAAAAAAAAAAAAAAAAAAAAAAAAAAAAAAAAAAAAAAAAAAAAAAAAAAAAAAAAAAAAAAAAAAAAAAAAAAAAAAAAAAAAAAAAAAAAAAAAAAAAAAAAAAAAAAAAAAAAAAAAAAAAAAAAAAAAAAAAAAAAAAAAAAAAAAAAAAAAAAAAAAAAAAAAAAAAAAAAAAAAAAAAAAAAAAAAAAAAAAAAAAAAAAAAAAAAAAAAAAAAAAAAAAAAAAAAAAAAAAAAAAAAAAAAAAAAAAAAAAAAAAAAAAAAAAAAAAAAAAAAAAAAAAAAAAAAAAAAAAAAAAAAAAAAAAAAAAAAAAAAAAAAAAAAAAAAAAAAAAAAAAAAAAAAAAAAAAAAAAAAAAAAAAAAAAAAAAAAAAAAAAAAAAAAAAAAAAAAAAAAAAAAAAAAAAAAAAAAAAAAAAAAAAAAAAAAAAAAAAAAAAAAAAAAAAAAAAAAAAAAAAAAAAAAAAAAAAAAAAAAAAAAAAAAAAAAAAAAAAAAAAAAAAAAAAAAAAAAAAAAAAAAAAAAAAAAAAAAAAAAAAAAAAAAAAAAAAAAAAAAAAAAAAAAAAAAAAAAAAAAAAAAAAAAAAAAAAAAAAAAAAAAAAAAAAAAAAAAAAAAAAAAAAAAAAAAAAAAAAAAAAAAAAAAAAAAAAAAAAAAAAAAAAAAAAAAAAAAAAAAAAAAAAAAAAAAAAAAAAAAAAAAAAAAAAAAAAAAAAAAAAAAAAAAAAAAAAAAAAAAAAAAAAAAAAAAAAAAAAAAAAAAAAAAAAAAAAAAAAAAAAAAAAAAAAAAAAAAAAAAAAAAAAAAAAAAAAAAAAAAAAAAAAAAAAAAAAAAAAAAAAAAAAAAAAAAAAAAAAAAAAAAAAAAAAAAAAAAAAAAAAAAAAAAAAAAAAAAAAAAAAAAAAAAAAAAAAAAAAAAAAAAAAAAAAAAAAAAAAAAAAAAAAAAAAAAAAAAAAAAAAAAAAAAAAAAAAAAAAAAAAAAAAAAAAAAAAAAAAAAAAAAAAAAAAAAAAAAAAAAAAAAAAAAAAAAAAAAAAAAAAAAAAAAAAAAAAAAAAAAAAAAAAAAAAAAAAAAAAAAAAAAAAAAAAAAAAAAAAAAAAAAAAAAAAAAAAAAAAAAAAAAAAAAAAAAAAAAAAAAAAAAAAAAAAAAAAAAAAAAAAAAAAAAAAAAAAAAAAAAAAAAAAAAAAAAAAAAAAAAAAAAAAAAAAAAAAAAAAAAAAAAAAAAAAAAAAAAAAAAAAAAAAAAAAAAAAAAAAAAAAAAAAAAAAAAAAAAAAAAAAAAAAAAAAAAAAAAAAAAAAAAAAAAAAAAAAAAAAAAAAAAAAAAAAAAAAAAAAAAAAAAAAAAAAAAAAAAAAAAAAAAAAAAAAAAAAAAAAAAAAAAAAAAAAAAAAAAAAAAAAAAAAAAAAAAAAAAAAAAAAAAAAAAAAAAAAAAAAAAAAAAAAAAAAAAAAAAAAAAAAAAAAAAAAAAAAAAAAAAAAAAAAAAAAAAAAAAAAAAAAAAAAAAAAAAAAAAAAAAAAAAAAAAAAAAAAAAAAAAAAAAAAAAAAAAAAAAAAAAAAAAAAAAAAAAAAAAAAAAAAAAAAAAAAAAAAAAAAAAAAAAAAAAAAAAAAAAAAAAAAAAAAAAAAAAAAAAAAAAAAAAAAAAAAAAAAAAAAAAAAAAAAAAAAAAAAAAAAAAAAAAAAAAAAAAAAAAAAAAAAAAAAAAAAAAAAAAAAAAAAAAAAAAAAAAAAAAAAAAAAAAAAAAAAAAAAAAAAAAAAAAAAAAAAAAAAAAAAAAAAAAAAAAAAAAAAAAAAAAAAAAAAAAAAAAAAAAAAAAAAAAAAAAAAAAAAAAAAAAAAAAAAAAAAAAAAAAAAAAAAAAAAAAAAAAAAAAAAAAAAAAAAAAAAAAAAAAAAAAAAAAAAAAAAAAAAAAAAAAAAAAAAAAAAAAAAAAAAAAAAAAAAAAAAAAAAAAAAAAAAAAAAAAAAAAAAAAAAAAAAAAAAAAAAAAAAAAAAAAAAAAAAAAAAAAAAAAAAAAAAAAAAAAAAAAAAAAAAAAAAAAAAAAAAAAAAAAAAAAAAAAAAAAAAAAAAAAAAAAAAAAAAAAAAAAAAAAAAAAAAAAAAAAAAAAAAAAAAAAAAAAAAAAAAAAAAAAAAAAAAAAAAAAAAAAAAAAAAAAAAAAAAAAAAAAAAAAAAAAAAAAAAAAAAAAAAAAAAAAAAAAAAAAAAAAAAAAAAAAAAAAAAAAAAAAAAAAAAAAAAAAAAAAAAAAAAAAAAAAAAAAAAAAAAAAAAAAAAAAAAAAAAAAAAAAAAAAAAAAAAAAAAAAAAAAAAAAAAAAAAAAAAAAAAAAAAAAAAAAAAAAAAAAAAAAAAAAAAAAAAAAAAAAAAAAAAAAAAAAAAAAAAAAAAAAAAAAAAAAAAAAAAAAAAAAAAAAAAAAAAAAAAAAAAAAAAAAAAAAAAAAAAAAAAAAAAAAAAAAAAAAAAAAAAAAAAAAAAAAAAAAAAAAAAAAAAAAAAAAAAAAAAAAAAAAAAAAAAAAAAAAAAAAAAAAAAAAAAAAAAAAAAAAAAAAAAAAAAAAAAAAAAAAAAAAAAAAAAAAAAAAAAAAAAAAAAAAAAAAAAAAAAAAAAAAAAAAAAAAAAAAAAAAAAAAAAAAAAAAAAAAAAAAAAAAAAAAAAAAAAAAAAAAAAAAAAAAAAAAAAAAAAAAAAAAAAAAAAAAAAAAAAAAAAAAAAAAAAAAAAAAAAAAAAAAAAAAAAAAAAAAAAAAAAAAAAAAAAAAAAAAAAAAAAAAAAAAAAAAAAAAAAAAAAAAAAAAAAAAAAAAAAAAAAAAAAAAAAAAAAAAAAAAAAAAAAAAAAAAAAAAAAAAAAAAAAAAAAAAAAAAAAAAAAAAAAAAAAAAAAAAAAAAAAAAAAAAAAAAAAAAAAAAAAAAAAAAAAAAAAAAAAAAAAAAAAAAAAAAAAAAAAAAAAAAAAAAAAAAAAAAAAAAAAAAAAAAAAAAAAAAAAAAAAAAAAAAAAAAAAAAAAAAAAAAAAAAAAAAAAAAAAAAAAAAAAAAAAAAAAAAAAAAAAAAAAAAAAAAAAAAAAAAAAAAAAAAAAAAAAAAAAAAAAAAAAAAAAAAAAAAAAAAAAAAAAAAAAAAAAAAAAAAAAAAAAAAAAAAAAAAAAAAAAAAAAAAAAAAAAAAAAAAAAAAAAAAAAAAAAAAAAAAAAAAAAAAAAAAAAAAAAAAAAAAAAAAAAAAAAAAAAAAAAAAAAAAAAAAAAAAAAAAAAAAAAAAAAAAAAAAAAAAAAAAAAAAAAAAAAAAAAAAAAAAAAAAAAAAAAAAAAAAAAAAAAAAAAAAAAAAAAAAAAAAAAAAAAAAAAAAAAAAAAAAAAAAAAAAAAAAAAAAAAAAAAAAAAAAAAAAAAAAAAAAAAAAAAAAAAAAAAAAAAAAAAAAAAAAAAAAAAAAAAAAAAAAAAAAAAAAAAAAAAAAAAAAAAAAAAAAAAAAAAAAAAAAAAAAAAAAAAAAAAAAAAAAAAAAAAAAAAAAAAAAAAAAAAAAAAAAAAAAAAAAAAAAAAAAAAAAAAAAAAAAAAAAAAAAAAAAAAAAAAAAAAAAAAAAAAAAAAAAAAAAAAAAAAAAAAAAAAAAAAAAAAAAAAAAAAAAAAAAAAAAAAAAAAAAAAAAAAAAAAAAAAAAAAAAAAAAAAAAAAAAAAAAAAAAAAAAAAAAAAAAAAAAAAAAAAAAAAAAAAAAAAAAAAAAAAAAAAAAAAAAAAAAAAAAAAAAAAAAAAAAAAAAAAAAAAAAAAAAAAAAAAAAAAAAAAAAAAAAAAAAAAAAAAAAAAAAAAAAAAAAAAAAAAAAAAAAAAAAAAAAAAAAAAAAAAAAAAAAAAAAAAAAAAAAAAAAAAAAAAAAAAAAAAAAAAAAAAAAAAAAAAAAAAAAAAAAAAAAAAAAAAAAAAAAAAAAAAAAAAAAAAAAAAAAAAAAAAAAAAAAAAAAAAAAAAAAAAAAAAAAAAAAAAAAAAAAAAAAAAAAAAAAAAAAAAAAAAAAAAAAAAAAAAAAAAAAAAAAAAAAAAAAAAAAAAAAAAAAAAAAAAAAAAAAAAAAAAAAAAAAAAAAAAAAAAAAAAAAAAAAAAAAAAAAAAAAAAAAAAAAAAAAAAAAAAAAAAAAAAAAAAAAAAAAAAAAAAAAAAAAAAAAAAAAAAAAAAAAAAAAAAAAAAAAAAAAAAAAAAAAAAAAAAAAAAAAAAAAAAAAAAAAAAAAAAAAAAAAAAAAAAAAAAAAAAAAAAAAAAAAAAAAAAAAAAAAAAAAAAAAAAAAAAAAAAAAAAAAAAAAAAAAAAAAAAAAAAAAAAAAAAAAAAAAAAAAAAAAAAAAAAAAAAAAAAAAAAAAAAAAAAAAAAAAAAAAAAAAAAAAAAAAAAAAAAAAAAAAAAAAAAAAAAAAAAAAAAAAAAAAAAAAAAAAAAAAAAAAAAAAAAAAAAAAAAAAAAAAAAAAAAAAAAAAAAAAAAAAAAAAAAAAAAAAAAAAAAAAAAAAAAAAAAAAAAAAAAAAAAAAAAAAAAAAAAAAAAAAAAAAAAAAAAAAAAAAAAAAAAAAAAAAAAAAAAAAAAAAAAAAAAAAAAAAAAAAAAAAAAAAAAAAAAAAAAAAAAAAAAAAAAAAAAAAAAAAAAAAAAAAAAAAAAAAAAAAAAAAAAAAAAAAAAAAAAAAAAAAAAAAAAAAAAAAAAAAAAAAAAAAAAAAAAAAAAAAAAAAAAAAAAAAAAAAAAAAAAAAAAAAAAAAAAAAAAAAAAAAAAAAAAAAAAAAAAAAAAAAAAAAAAAAAAAAAAAAAAAAAAAAAAAAAAAAAAAAAAAAAAAAAAAAAAAAAAAAAAAAAAAAAAAAAAAAAAAAAAAAAAAAAAAAAAAAAAAAAAAAAAAAAAAAAAAAAAAAAAAAAAAAAAAAAAAAAAAAAAAAAAAAAAAAAAAAAAAAAAAAAAAAAAAAAAAAAAAAAAAAAAAAAAAAAAAAAAAAAAAAAAAAAAAAAAAAAAAAAAAAAAAAAAAAAAAAAAAAAAAAAAAAAAAAAAAAAAAAAAAAAAAAAAAAAAAAAAAAAAAAAAAAAAAAAAAAAAAAAAAAAAAAAAAAAAAAAAAAAAAAAAAAAAAAAAAAAAAAAAAAAAAAAAAAAAAAAAAAAAAAAAAAAAAAAAAAAAAAAAAAAAAAAAAAAAAAAAAAAAAAAAAAAAAAAAAAAAAAAAAAAAAAAAAAAAAAAAAAAAAAAAAAAAAAAAAAAAAAAAAAAAAAAAAAAAAAAAAAAAAAAAAAAAAAAAAAAAAAAAAAAAAAAAAAAAAAAAAAAAAAAAAAAAAAAAAAAAAAAAAAAAAAAAAAAAAAAAAAAAAAAAAAAAAAAAAAAAAAAAAAAAAAAAAAAAAAAAAAAAAAAAAAAAAAAAAAAAAAAAAAAAAAAAAAAAAAAAAAAAAAAAAAAAAAAAAAAAAAAAAAAAAAAAAAAAAAAAAAAAAAAAAAAAAAAAAAAAAAAAAAAAAAAAAAAAAAAAAAAAAAAAAAAAAAAAAAAAAAAAAAAAAAAAAAAAAAAAAAAAAAAAAAAAAAAAAAAAAAAAAAAAAAAAAAAAAAAAAAAAAAAAAAAAAAAAAAAAAAAAAAAAAAAAAAAAAAAAAAAAAAAAAAAAAAAAAAAAAAAAAAAAAAAAAAAAAAAAAAAAAAAAAAAAAAAAAAAAAAAAAAAAAAAAAAAAAAAAAAAAAAAAAAAAAAAAAAAAAAAAAAAAAAAAAAAAAAAAAAAAAAAAAAAAAAAAAAAAAAAAAAAAAAAAAAAAAAAAAAAAAAAAAAAAAAAAAAAAAAAAAAAAAAAAAAAAAAAAAAAAAAAAAAAAAAAAAAAAAAAAAAAAAAAAAAAAAAAAAAAAAAAAAAAAAAAAAAAAAAAAAAAAAAAAAAAAAAAAAAAAAAAAAAAAAAAAAAAAAAAAAAAAAAAAAAAAAAAAAAAAAAAAAAAAAAAAAAAAAAAAAAAAAAAAAAAAAAAAAAAAAAAAAAAAAAAAAAAAAAAAAAAAAAAAAAAAAAAAAAAAAAAAAAAAAAAAAAAAAAAAAAAAAAAAAAAAAAAAAAAAAAAAAAAAAAAAAAAAAAAAAAAAAAAAAAAAAAAAAAAAAAAAAAAAAAAAAAAAAAAAAAAAAAAAAAAAAAAAAAAAAAAAAAAAAAAAAAAAAAAAAAAAAAAAAAAAAAAAAAAAAAAAAAAAAAAAAAAAAAAAAAAAAAAAAAAAAAAAAAAAAAAAAAAAAAAAAAAAAAAAAAAAAAAAAAAAAAAAAAAAAAAAAAAAAAAAAAAAAAAAAAAAAAAAAAAAAAAAAAAAAAAAAAAAAAAAAAAAAAAAAAAAAAAAAAAAAAAAAAAAAAAAAAAAAAAAAAAAAAAAAAAAAAAAAAAAAAAAAAAAAAAAAAAAAAAAAAAAAAAAAAAAAAAAAAAAAAAAAAAAAAAAAAAAAAAAAAAAAAAAAAAAAAAAAAAAAAAAAAAAAAAAAAAAAAAAAAAAAAAAAAAAAAAAAAAAAAAAAAAAAAAAAAAAAAAAAAAAAAAAAAAAAAAAAAAAAAAAAAAAAAAAAAAAAAAAAAAAAAAAAAAAAAAAAAAAAAAAAAAAAAAAAAAAAAAAAAAAAAAAAAAAAAAAAAAAAAAAAAAAAAAAAAAAAAAAAAAAAAAAAAAAAAAAAAAAAAAAAAAAAAAAAAAAAAAAAAAAAAAAAAAAAAAAAAAAAAAAAAAAAAAAAAAAAAAAAAAAAAAAAAAAAAAAAAAAAAAAAAAAAAAAAAAAAAAAAAAAAAAAAAAAAAAAAAAAAAAAAAAAAAAAAAAAAAAAAAAAAAAAAAAAAAAAAAAAAAAAAAAAAAAAAAAAAAAAAAAAAAAAAAAAAAAAAAAAAAAAAAAAAAAAAAAAAAAAAAAAAAAAAAAAAAAAAAAAAAAAAAAAAAAAAAAAAAAAAAAAAAAAAAAAAAAAAAAAAAAAAAAAAAAAAAAAAAAAAAAAAAAAAAAAAAAAAAAAAAAAAAAAAAAAAAAAAAAAAAAAAAAAAAAAAAAAAAAAAAAAAAAAAAAAAAAAAAAAAAAAAAAAAAAAAAAAAAAAAAAAAAAAAAAAAAAAAAAAAAAAAAAAAAAAAAAAAAAAAAAAAAAAAAAAAAAAAAAAAAAAAAAAAAAAAAAAAAAAAAAAAAAAAAAAAAAAAAAAAAAAAAAAAAAAAAAAAAAAAAAAAAAAAAAAAAAAAAAAAAAAAAAAAAAAAAAAAAAAAAAAAAAAAAAAAAAAAAAAAAAAAAAAAAAAAAAAAAAAAAAAAAAAAAAAAAAAAAAAAAAAAAAAAAAAAAAAAAAAAAAAAAAAAAAAAAAAAAAAAAAAAAAAAAAAAAAAAAAAAAAAAAAAAAAAAAAAAAAAAAAAAAAAAAAAAAAAAAAAAAAAAAAAAAAAAAAAAAAAAAAAAAAAAAAAAAAAAAAAAAAAAAAAAAAAAAAAAAAAAAAAAAAAAAAAAAAAAAAAAAAAAAAAAAAAAAAAAAAAAAAAAAAAAAAAAAAAAAAAAAAAAAAAAAAAAAAAAAAAAAAAAAAAAAAAAAAAAAAAAAAAAAAAAAAAAAAAAAAAAAAAAAAAAAAAAAAAAAAAAAAAAAAAAAAAAAAAAAAAAAAAAAAAAAAAAAAAAAAAAAAAAAAAAAAAAAAAAAAAAAAAAAAAAAAAAAAAAAAAAAAAAAAAAAAAAAAAAAAAAAAAAAAAAAAAAAAAAAAAAAAAAAAAAAAAAAAAAAAAAAAAAAAAAAAAAAAAAAAAAAAAAAAAAAAAAAAAAAAAAAAAAAAAAAAAAAAAAAAAAAAAAAAAAAAAAAAAAAAAAAAAAAAAAAAAAAAAAAAAAAAAAAAAAAAAAAAAAAAAAAAAAAAAAAAAAAAAAAAAAAAAAAAAAAAAAAAAAAAAAAAAAAAAAAAAAAAAAAAAAAAAAAAAAAAAAAAAAAAAAAAAAAAAAAAAAAAAAAAAAAAAAAAAAAAAAAAAAAAAAAAAAAAAAAAAAAAAAAAAAAAAAAAAAAAAAAAAAAAAAAAAAAAAAAAAAAAAAAAAAAAAAAAAAAAAAAAAAAAAAAAAAAAAAAAAAAAAAAAAAAAAAAAAAAAAAAAAAAAAAAAAAAAAAAAAAAAAAAAAAAAAAAAAAAAAAAAAAAAAAAAAAAAAAAAAAAAAAAAAAAAAAAAAAAAAAAAAAAAAAAAAAAAAAAAAAAAAAAAAAAAAAAAAAAAAAAAAAAAAAAAAAAAAAAAAAAAAAAAAAAAAAAAAAAAAAAAAAAAAAAAAAAAAAAAAAAAAAAAAAAAAAAAAAAAAAAAAAAAAAAAAAAAAAAAAAAAAAAAAAAAAAAAAAAAAAAAAAAAAAAAAAAAAAAAAAAAAAAAAAAAAAAAAAAAAAAAAAAAAAAAAAAAAAAAAAAAAAAAAAAAAAAAAAAAAAAAAAAAAAAAAAAAAAAAAAAAAAAAAAAAAAAAAAAAAAAAAAAAAAAAAAAAAAAAAAAAAAAAAAAAAAAAAAAAAAAAAAAAAAAAAAAAAAAAAAAAAAAAAAAAAAAAAAAAAAAAAAAAAAAAAAAAAAAAAAAAAAAAAAAAAAAAAAAAAAAAAAAAAAAAAAAAAAAAAAAAAAAAAAAAAAAAAAAAAAAAAAAAAAAAAAAAAAAAAAAAAAAAAAAAAAAAAAAAAAAAAAAAAAAAAAAAAAAAAAAAAAAAAAAAAAAAAAAAAAAAAAAAAAAAAAAAAAAAAAAAAAAAAAAAAAAAAAAAAAAAAAAAAAAAAAAAAAAAAAAAAAAAAAAAAAAAAAAAAAAAAAAAAAAAAAAAAAAAAAAAAAAAAAAAAAAAAAAAAAAAAAAAAAAAAAAAAAAAAAAAAAAAAAAAAAAAAAAAAAAAAAAAAAAAAAAAAAAAAAAAAAAAAAAAAAAAAAAAAAAAAAAAAAAAAAAAAAAAAAAAAAAAAAAAAAAAAAAAAAAAAAAAAAAAAAAAAAAAAAAAAAAAAAAAAAAAAAAAAAAAAAAAAAAAAAAAAAAAAAAAAAAAAAAAAAAAAAAAAAAAAAAAAAAAAAAAAAAAAAAAAAAAAAAAAAAAAAAAAAAAAAAAAAAAAAAAAAAAAAAAAAAAAAAAAAAAAAAAAAAAAAAAAAAAAAAAAAAAAAAAAAAAAAAAAAAAAAAAAAAAAAAAAAAAAAAAAAAAAAAAAAAAAAAAAAAAAAAAAAAAAAAAAAAAAAAAAAAAAAAAAAAAAAAAAAAAAAAAAAAAAAAAAAAAAAAAAAAAAAAAAAAAAAAAAAAAAAAAAAAAAAAAAAAAAAAAAAAAAAAAAAAAAAAAAAAAAAAAAAAAAAAAAAAAAAAAAAAAAAAAAAAAAAAAAAAAAAAAAAAAAAAAAAAAAAAAAAAAAAAAAAAAAAAAAAAAAAAAAAAAAAAAAAAAAAAAAAAAAAAAAAAAAAAAAAAAAAAAAAAAAAAAAAAAAAAAAAAAAAAAAAAAAAAAAAAAAAAAAAAAAAAAAAAAAAAAAAAAAAAAAAAAAAAAAAAAAAAAAAAAAAAAAAAAAAAAAAAAAAAAAAAAAAAAAAAAAAAAAAAAAAAAAAAAAAAAAAAAAAAAAAAAAAAAAAAAAAAAAAAAAAAAAAAAAAAAAAAAAAAAAAAAAAAAAAAAAAAAAAAAAAAAAAAAAAAAAAAAAAAAAAAAAAAAAAAAAAAAAAAAAAAAAAAAAAAAAAAAAAAAAAAAAAAAAAAAAAAAAAAAAAAAAAAAAAAAAAAAAAAAAAAAAAAAAAAAAAAAAAAAAAAAAAAAAAAAAAAAAAAAAAAAAAAAAAAAAAAAAAAAAAAAAAAAAAAAAAAAAAAAAAAAAAAAAAAAAAAAAAAAAAAAAAAAAAAAAAAAAAAAAAAAAAAAAAAAAAAAAAAAAAAAAAAAAAAAAAAAAAAAAAAAAAAAAAAAAAAAAAAAAAAAAAAAAAAAAAAAAAAAAAAAAAAAAAAAAAAAAAAAAAAAAAAAAAAAAAAAAAAAAAAAAAAAAAAAAAAAAAAAAAAAAAAAAAAAAAAAAAAAAAAAAAAAAAAAAAAAAAAAAAAAAAAAAAAAAAAAAAAAAAAAAAAAAAAAAAAAAAAAAAAAAAAAAAAAAAAAAAAAAAAAAAAAAAAAAAAAAAAAAAAAAAAAAAAAAAAAAAAAAAAAAAAAAAAAAAAAAAAAAAAAAAAAAAAAAAAAAAAAAAAAAAAAAAAAAAAAAAAAAAAAAAAAAAAAAAAAAAAAAAAAAAAAAAAAAAAAAAAAAAAAAAAAAAAAAAAAAAAAAAAAAAAAAAAAAAAAAAAAAAAAAAAAAAAAAAAAAAAAAAAAAAAAAAAAAAAAAAAAAAAAAAAAAAAAAAAAAAAAAAAAAAAAAAAAAAAAAAAAAAAAAAAAAAAAAAAAAAAAAAAAAAAAAAAAAAAAAAAAAAAAAAAAAAAAAAAAAAAAAAAAAAAAAAAAAAAAAAAAAAAAAAAAAAAAAAAAAAAAAAAAAAAAAAAAAAAAAAAAAAAAAAAAAAAAAAAAAAAAAAAAAAAAAAAAAAAAAAAAAAAAAAAAAAAAAAAAAAAAAAAAAAAAAAAAAAAAAAAAAAAAAAAAAAAAAAAAAAAAAAAAAAAAAAAAAAAAAAAAAAAAAAAAAAAAAAAAAAAAAAAAAAAAAAAAAAAAAAAAAAAAAAAAAAAAAAAAAAAAAAAAAAAAAAAAAAAAAAAAAAAAAAAAAAAAAAAAAAAAAAAAAAAAAAAAAAAAAAAAAAAAAAAAAAAAAAAAAAAAAAAAAAAAAAAAAAAAAAAAAAAAAAAAAAAAAAAAAAAAAAAAAAAAAAAAAAAAAAAAAAAAAAAAAAAAAAAAAAAAAAAAAAAAAAAAAAAAAAAAAAAAAAAAAAAAAAAAAAAAAAAAAAAAAAAAAAAAAAAAAAAAAAAAAAAAAAAAAAAAAYHtAAAAAAABwgkAAAAAAAMiJQAAAAAAAlJFAAAAAAADIlkAAAAAAAMicQAAAAAAAFKJAAAAAAAAipkAAAAAAABarQAAAAAAAFK9AAAAAAACUskAAAAAAAMm1QAAAAAAAkLhAAAAAAADpukAAAAAAAPe+QAAAAACAdcBAAAAAAACMwUAAAAAAAHXCQAAAAACAscNAAAAAAID9w0AAAAAAAFrEQAAAAAAAdcRAAAAAAAC9xEAAAAAAgOnEQAAAAAAA9sRAAAAAAAAqxEAAAAAAgAHFQAAAAACAusRAAAAAAAA9xEAAAAAAgHrEQAAAAACA88NAAAAAAIBGw0AAAAAAgMzCQAAAAAAAbMFAAAAAAIBnwEAAAAAAAHa+QAAAAAAACrtAAAAAAAAYt0AAAAAAAHC1QAAAAAAAeLNAAAAAAAC4r0AAAAAAAPaqQAAAAAAA7KVAAAAAAABGokAAAAAAABidQAAAAAAApJVAAAAAAABckUAAAAAAABiKQAAAAAAAAINAAAAAAABwe0AAAAAAAAAAAAAAAAAAAAAAAAAAAAAAAAAAAAAAAAAAAAAAAAAAAAAAAAAAAAAAAAAAAAAAAAAAAAAAAAAAAAAAAAAAAAAAAAAAAAAAAAAAAAAAAAAAAAAAAAAAAAAAAAAAAAAAAAAAAAAAAAAAAAAAAAAAAAAAAAAAAAAAAAAAAAAAAAAAAAAAAAAAAAAAAAAAAAAAAAAAAAAAAAAAAAAAAAAAAAAAAAAAAAAAAAAAAAAAAAAAAAAAAAAAAAAAAAAAAAAAAAAAAAAAAAAAAAAAAAAAAAAAAAAAAAAAAAAAAAAAAAAAAAAAAAAAAAAAAAAAAAAAAAAAAAAAAAAAAAAAAAAAAAAAAAAAAAAAAAAAAAAAAAAAAAAAAAAAAAAAAAAAAAAAAAAAAAAAAAAAAAAAAAAAAAAAAAAAAAAAAAAAAAAAAAAAAAAAAAAAAAAAAAAAAAAAAAAAAAAAAAAAAAAAAAAAAAAAAAAAAAAAAAAAAAAAAAAAAAAAAAAAAAAAAAAAAAAAAAAAAAAAAAAAAAAAAAAAAAAAAAAAAAAAAAAAAAAAAAAAAAAAAAAAAAAAAAAAAAAAAAAAAAAAAAAAAAAAAAAAAAAAAAAAAAAAAAAAAAAAAAAAAAAAAAAAAAAAAAAAAAAAAAAAAAAAAAAAAAAAAAAAAAAAAAAAAAAAAAAAAAAAAAAAAAAAAAAAAAAAAAAAAAAAAAAAAAAAAAAAAAAAAAAAAAAAAAAAAAAAAAAAAAAAAAAAAAAAAAAAAAAAAAAAAAAAAAAAAAAAAAAAAAAAAAAAAAAAAAAAAAAAAAAAAAAAAAAAAAAAAAAAAAAAAAAAAAAAAAAAAAAAAAAAAAAAAAAAAAAAAAAAAAAAAAAAAAAAAAAAAAAAAAAAAAAAAAAAAAAAAAAAAAAAAAAAAAAAAAAAAAAAAAAAAAAAAAAAAAAAAAAAAAAAAAAAAAAAAAAAAAAAAAAAAAAAAAAAAAAAAAAAAAAAAAAAAAAAAAAAAAAAAAAAAAAAAAAAAAAAAAAAAAAAAAAAAAAAAAAAAAAAAAAAAAAAAAAAAAAAAAAAAAAAAAAAAAAAAAAAAAAAAAAAAAAAAAAAAAAAAAAAAAAAAAAAAAAAAAAAAAAAAAAAAAAAAAAAAAAAAAAAAAAAAAAAAAAAAAAAAAAAAAAAAAAAAAAAAAAAAAAAAAAAAAAAAAAAAAAAAAAAAAAAAAAAAAAAAAAAAAAAAAAAAAAAAAAAAAAAAAAAAAAAAAAAAAAAAAAAAAAAAAAAAAAAAAAAAAAAAAAAAAAAAAAAAAAAAAAAAAAAAAAAAAAAAAAAAAAAAAAAAAAAAAAAAAAAAAAAAAAAAAAAAAAAAAAAAAAAAAAAAAAAAAAAAAAAAAAAAAAAAAAAAAAAAAAAAAAAAAAAAAAAAAAAAAAAAAAAAAAAAAAAAAAAAAAAAAAAAAAAAAAAAAAAAAAAAAAAAAAAAAAAAAAAAAAAAAAAAAAAAAAAAAAAAAAAAAAAAAAAAAAAAAAAAAAAAAAAAAAAAAAAAAAAAAAAAAAAAAAAAAAAAAAAAAAAAAAAAAAAAAAAAAAAAAAAAAAAAAAAAAAAAAAAAAAAAAAAAAAAAAAAAAAAAAAAAAAAAAAAAAAAAAAAAAAAAAAAAAAAAAAAAAAAAAAAAAAAAAAAAAAAAAAAAAAAAAAAAAAAAAAAAAAAAAAAAAAAAAAAAAAAAAAAAAAAAAAAAAAAAAAAAAAAAAAAAAAAAAAAAAAAAAAAAAAAAAAAAAAAAAAAAAAAAAAAAAAAAAAAAAAAAAAAAAAAAAAAAAAAAAAAAAAAAAAAAAAAAAAAAAAAAAAAAAAAAAAAAAAAAAAAAAAAAAAAAAAAAAAAAAAAAAAAAAAAAAAAAAAAAAAAAAAAAAAAAAAAAAAAAAAAAAAAAAAAAAAAAAAAAAAAAAAAAAAAAAAAAAAAAAAAAAAAAAAAAAAAAAAAAAAAAAAAAAAAAAAAAAAAAAAAAAAAAAAAAAAAAAAAAAAAAAAAAAAAAAAAAAAAAAAAAAAAAAAAAAAAAAAAAAAAAAAAAAAAAAAAAAAAAAAAAAAAAAAAAAAAAAAAAAAAAAAAAAAAAAAAAAAAAAAAAAAAAAAAAAAAAAAAAAAAAAAAAAAAAAAAAAAAAAAAAAAAAAAAAAAAAAAAAAAAAAAAAAAAAAAAAAAAAAAAAAAAAAAAAAAAAAAAAAAAAAAAAAAAAAAAAAAAAAAAAAAAAAAAAAAAAAAAAAAAAAAAAAAAAAAAAAAAAAAAAAAAAAAAAAAAAAAAAAAAAAAAAAAAAAAAAAAAAAAAAAAAAAAAAAAAAAAAAAAAAAAAAAAAAAAAAAAAAAAAAAAAAAAAAAAAAAAAAAAAAAAAAAAAAAAAAAAAAAAAAAAAAAAAAAAAAAAAAAAAAAAAAAAAAAAAAAAAAAAAAAAAAAAAAAAAAAAAAAAAAAAAAAAAAAAAAAAAAAAAAAAAAAAAAAAAAAAAAAAAAAAAAAAAAAAAAAAAAAAAAAAAAAAAAAAAAAAAAAAAAAAAAAAAAAAAAAAAAAAAAAAAAAAAAAAAAAAAAAAAAAAAAAAAAAAAAAAAAAAAAAAAAAAAAAAAAAAAAAAAAAAAAAAAAAAAAAAAAAAAAAAAAAAAAAAAAAAAAAAAAAAAAAAAAAAAAAAAAAAAAAAAAAAAAAAAAAAAAAAAAAAAAAAAAAAAAAAAAAAAAAAAAAAAAAAAAAAAAAAAAAAAAAAAAAAAAAAAAAAAAAAAAAAAAAAAAAAAAAAAAAAAAAAAAAAAAAAAAAAAAAAAAAAAAAAAAAAAAAAAAAAAAAAAAAAAAAAAAAAAAAAAAAAAAAAAAAAAAAAAAAAAAAAAAAAAAAAAAAAAAAAAAAAAAAAAAAAAAAAAAAAAAAAAAAAAAAAAAAAAAAAAAAAAAAAAAAAAAAAAAAAAAAAAAAAAAAAAAAAAAAAAAAAAAAAAAAAAAAAAAAAAAAAAAAAAAAAAAAAAAAAAAAAAAAAAAAAAAAAAAAAAAAAAAAAAAAAAAAAAAAAAAAAAAAAAAAAAAAAAAAAAAAAAAAAAAAAAAAAAAAAAAAAAAAAAAAAAAAAAAAAAAAAAAAAAAAAAAAAAAAAAAAAAAAAAAAAAAAAAAAAAAAAAAAAAAAAAAAAAAAAAAAAAAAAAAAAAAAAAAAAAAAAAAAAAAAAAAAAAAAAAAAAAAAAAAAAAAAAAAAAAAAAAAAAAAAAAAAAAAAAAAAAAAAAAAAAAAAAAAAAAAAAAAAAAAAAAAAAAAAAAAAAAAAAAAAAAAAAAAAAAAAAAAAAAAAAAAAAAAAAAAAAAAAAAAAAAAAAAAAAAAAAAAAAAAAAAAAAAAAAAAAAAAAAAAAAAAAAAAAAAAAAAAAAAAAAAAAAAAAAAAAAAAAAAAAAAAAAAAAAAAAAAAAAAAAAAAAAAAAAAAAAAAAAAAAAAAAAAAAAAAAAAAAAAAAAAAAAAAAAAAAAAAAAAAAAAAAAAAAAAAAAAAAAAAAAAAAAAAAAAAAAAAAAAAAAAAAAAAAAAAAAAAAAAAAAAAAAAAAAAAAAAAAAAAAAAAAAAAAAAAAAAAAAAAAAAAAAAAAAAAAAAAAAAAAAAAAAAAAAAAAAAAAAAAAAAAAAAAAAAAAAAAAAAAAAAAAAAAAAAAAAAAAAAAAAAAAAAAAAAAAAAAAAAAAAAAAAAAAAAAAAAAAAAAAAAAAAAAAAAAAAAAAAAAAAAAAAAAAAAAAAAAAAAAAAAAAAAAAAAAAAAAAAAAAAAAAAAAAAAAAAAAAAAAAAAAAAAAAAAAAAAAAAAAAAAAAAAAAAAAAAAAAAAAAAAAAAAAAAAAAAAAAAAAAAAAAAAAAAAAAAAAAAAAAAAAAAAAAAAAAAAAAAAAAAAAAAAAAAAAAAAAAAAAAAAAAAAAAAAAAAAAAAAAAAAAAAAAAAAAAAAAAAAAAAAAAAAAAAAAAAAAAAAAAAAAAAAAAAAAAAAAAAAAAAAAAAAAAAAAAAAAAAAAAAAAAAAAAAAAAAAAAAAAAAAAAAAAAAAAAAAAAAAAAAAAAAAAAAAAAAAAAAAAAAAAAAAAAAAAAAAAAAAAAAAAAAAAAAAAAAAAAAAAAAAAAAAAAAAAAAAAAAAAAAAAAAAAAAAAAAAAAAAAAAAAAAAAAAAAAAAAAAAAAAAAAAAAAAAAAAAAAAAAAAAAAAAAAAAAAAAAAAAAAAAAAAAAAAAAAAAAAAAAAAAAAAAAAAAAAAAAAAAAAAAAAAAAAAAAAAAAAAAAAAAAAAAAAAAAAAAAAAAAAAAAAAAAAAAAAAAAAAAAAAAAAAAAAAAAAAAAAAAAAAAAAAAAAAAAAAAAAAAAAAAAAAAAAAAAAAAAAAAAAAAAAAAAAAAAAAAAAAAAAAAAAAAAAAAAAAAAAAAAAAAAAAAAAAAAAAAAAAAAAAAAAAAAAAAAAAAAAAAAAAAAAAAAAAAAAAAAAAAAAAAAAAAAAAAAAAAAAAAAAAAAAAAAAAAAAAAAAAAAAAAAAAAAAAAAAAAAAAAAAAAAAAAAAAAAAAAAAAAAAAAAAAAAAAAAAAAAAAAAAAAAAAAAAAAAAAAAAAAAAAAAAAAAAAAAAAAAAAAAAAAAAAAAAAAAAAAAAAAAAAAAAAAAAAAAAAAAAAAAAAAAAAAAAAAAAAAAAAAAAAAAAAAAAAAAAAAAAAAAAAAAAAAAAAAAAAAAAAAAAAAAAAAAAAAAAAAAAAAAAAAAAAAAAAAAAAAAAAAAAAAAAAAAAAAAAAAAAAAAAAAAAAAAAAAAAAAAAAAAAAAAAAAAAAAAAAAAAAAAAAAAAAAAAAAAAAAAAAAAAAAAAAAAAAAAAAAAAAAAAAAAAAAAAAAAAAAAAAAAAAAAAAAAAAAAAAAAAAAAAAAAAAAAAAAAAAAAAAAAAAAAAAAAAAAAAAAAAAAAAAAAAAAAAAAAAAAAAAAAAAAAAAAAAAAAAAAAAAAAAAAAAAAAAAAAAAAAAAAAAAAAAAAAAAAAAAAAAAAAAAAAAAAAAAAAAAAAAAAAAAAAAAAAAAAAAAAAAAAAAAAAAAAAAAAAAAAAAAAAAAAAAAAAAAAAAAAAAAAAAAAAAAAAAAAAAAAAAAAAAAAAAAAAAAAAAAAAAAAAAAAAAAAAAAAAAAAAAAAAAAAAAAAAAAAAAAAAAAAAAAAAAAAAAAAAAAAAAAAAAAAAAAAAAAAAAAAAAAAAAAAAAAAAAAAAAAAAAAAAAAAAAAAAAAAAAAAAAAAAAAAAAAAAAAAAAAAAAAAAAAAAAAAAAAAAAAAAAAAAAAAAAAAAAAAAAAAAAAAAAAAAAAAAAAAAAAAAAAAAAAAAAAAAAAAAAAAAAAAAAAAAAAAAAAAAAAAAAAAAAAAAAAAAAAAAAAAAAAAAAAAAAAAAAAAAAAAAAAAAAAAAAAAAAAAAAAAAAAAAAAAAAAAAAAAAAAAAAAAAAAAAAAAAAAAAAAAAAAAAAAAAAAAAAAAAAAAAAAAAAAAAAAAAAAAAAAAAAAAAAAAAAAAAAAAAAAAAAAAAAAAAAAAAAAAAAAAAAAAAAAAAAAAAAAAAAAAAAAAAAAAAAAAAAAAAAAAAAAAAAAAAAAAAAAAAAAAAAAAAAAAAAAAAAAAAAAAAAAAAAAAAAAAAAAAAAAAAAAAAAAAAAAAAAAAAAAAAAAAAAAAAAAAAAAAAAAAAAAAAAAAAAAAAAAAAAAAAAAAAAAAAAAAAAAAAAAAAAAAAAAAAAAAAAAAAAAAAAAAAAAAAAAAAAAAAAAAAAAAAAAAAAAAAAAAAAAAAAAAAAAAAAAAAAAAAAAAAAAAAAAAAAAAAAAAAAAAAAAAAAAAAAAAAAAAAAAAAAAAAAAAAAAAAAAAAAAAAAAAAAAAAAAAAAAAAAAAAAAAAAAAAAAAAAAAAAAAAAAAAAAAAAAAAAAAAAAAAAAAAAAAAAAAAAAAAAAAAAAAAAAAAAAAAAAAAAAAAAAAAAAAAAAAAAAAAAAAAAAAAAAAAAAAAAAAAAAAAAAAAAAAAAAAAAAAAAAAAAAAAAAAAAAAAAAAAAAAAAAAAAAAAAAAAAAAAAAAAAAAAAAAAAAAAAAAAAAAAAAAAAAAAAAAAAAAAAAAAAAAAAAAAAAAAAAAAAAAAAAAAAAAAAAAAAAAAAAAAAAAAAAAAAAAAAAAAAAAAAAAAAAAAAAAAAAAAAAAAAAAAAAAAAAAAAAAAAAAAAAAAAAAAAAAAAAAAAAAAAAAAAAAAAAAAAAAAAAAAAAAAAAAAAAAAAAAAAAAAAAAAAAAAAAAAAAAAAAAAAAAAAAAAAAAAAAAAAAAAAAAAAAAAAAAAAAAAAAAAAAAAAAAAAAAAAAAAAAAAAAAAAAAAAAAAAAAAAAAAAAAAAAAAAAAAAAAAAAAAAAAAAAAAAAAAAAAAAAAAAAAAAAAAAAAAAAAAAAAAAAAAAAAAAAAAAAAAAAAAAAAAAAAAAAAAAAAAAAAAAAAAAAAAAAAAAAAAAAAAAAAAAAAAAAAAAAAAAAAAAAAAAAAAAAAAAAAAAAAAAAAAAAAAAAAAAAAAAAAAAAAAAAAAAAAAAAAAAAAAAAAAAAAAAAAAAAAAAAAAAAAAAAAAAAAAAAAAAAAAAAAAAAAAAAAAAAAAAAAAAAAAAAAAAAAAAAAAAAAAAAAAAAAAAAAAAAAAAAAAAAAAAAAAAAAAAAAAAAAAAAAAAAAAAAAAAAAAAAAAAAAAAAAAAAAAAAAAAAAAAAAAAAAAAAAAAAAAAAAAAAAAAAAAAAAAAAAAAAAAAAAAAAAAAAAAAAAAAAAAAAAAAAAAAAAAAAAAAAAAAAAAAAAAAAAAAAAAAAAAAAAAAAAAAAAAAAAAAAAAAAAAAAAAAAAAAAAAAAAAAAAAAAAAAAAAAAAAAAAAAAAAAAAAAAAAAAAAAAAAAAAAAAAAAAAAAAAAAAAAAAAAAAAAAAAAAAAAAAAAAAAAAAAAAAAAAAAAAAAAAAAAAAAAAAAAAAAAAAAAAAAAAAAAAAAAAAAAAAAAAAAAAAAAAAAAAAAAAAAAAAAAAAAAAAAAAAAAAAAAAAAAAAAAAAAAAAAAAAAAAAAAAAAAAAAAAAAAAAAAAAAAAAAAAAAAAAAAAAAAAAAAAAAAAAAAAAAAAAAAAAAAAAAAAAAAAAAAAAAAAAAAAAAAAAAAAAAAAAAAAAAAAAAAAAAAAAAAAAAAAAAAAAAAAAAAAAAAAAAAAAAAAAAAAAAAAAAAAAAAAAAAAAAAAAAAAAAAAAAAAAAAAAAAAAAAAAAAAAAAAAAAAAAAAAAAAAAAAAAAAAAAAAAAAAAAAAAAAAAAAAAAAAAAAAAAAAAAAAAAAAAAAAAAAAAAAAAAAAAAAAAAAAAAAAAAAAAAAAAAAAAAAAAAAAAAAAAAAAAAAAAAAAAAAAAAAAAAAAAAAAAAAAAAAAAAAAAAAAAAAAAAAAAAAAAAAAAAAAAAAAAAAAAAAAAAAAAAAAAAAAAAAAAAAAAAAAAAAAAAAAAAAAAAAAAAAAAAAAAAAAAAAAAAAAAAAAAAAAAAAAAAAAAAAAAAAAAAAAAAAAAAAAAAAAAAAAAAAAAAAAAAAAAAAAAAAAAAAAAAAAAAAAAAAAAAAAAAAAAAAAAAAAAAAAAAAAAAAAAAAAAAAAAAAAAAAAAAAAAAAAAAAAAAAAAAAAAAAAAAAAAAAAAAAAAAAAAAAAAAAAAAAAAAAAAAAAAAAAAAAAAAAAAAAAAAAAAAAAAAAAAAAAAAAAAAAAAAAAAAAAAAAAAAAAAAAAAAAAAAAAAAAAAAAAAAAAAAAAAAAAAAAAAAAAAAAAAAAAAAAAAAAAAAAAAAAAAAAAAAAAAAAAAAAAAAAAAAAAAAAAAAAAAAAAAAAAAAAAAAAAAAAAAAAAAAAAAAAAAAAAAAAAAAAAAAAAAAAAAAAAAAAAAAAAAAAAAAAAAAAAAAAAAAAAAAAAAAAAAAAAAAAAAAAAAAAAAAAAAAAAAAAAAAAAAAAAAAAAAAAAAAAAAAAAAAAAAAAAAAAAAAAAAAAAAAAAAAAAAAAAAAAAAAAAAAAAAAAAAAAAAAAAAAAAAAAAAAAAAAAAAAAAAAAAAAAAAAAAAAAAAAAAAAAAAAAAAAAAAAAAAAAAAAAAAAAAAAAAAAAAAAAAAAAAAAAAAAAAAAAAAAAAAAAAAAAAAAAAAAAAAAAAAAAAAAAAAAAAAAAAAAAAAAAAAAAAAAAAAAAAAAAAAAAAAAAAAAAAAAAAAAAAAAAAAAAAAAAAAAAAAAAAAAAAAAAAAAAAAAAAAAAAAAAAAAAAAAAAAAAAAAAAAAAAAAAAAAAAAAAAAAAAAAAAAAAAAAAAAAAAAAAAAAAAAAAAAAAAAAAAAAAAAAAAAAAAAAAAAAAAAAAAAAAAAAAAAAAAAAAAAAAAAAAAAAAAAAAAAAAAAAAAAAAAAAAAAAAAAAAAAAAAAAAAAAAAAAAAAAAAAAAAAAAAAAAAAAAAAAAAAAAAAAAAAAAAAAAAAAAAAAAAAAAAAAAAAAAAAAAAAAAAAAAAAAAAAAAAAAAAAAAAAAAAAAAAAAAAAAAAAAAAAAAAAAAAAAAAAAAAAAAAAAAAAAAAAAAAAAAAAAAAAAAAAAAAAAAAAAAAAAAAAAAAAAAAAAAAAAAAAAAAAAAAAAAAAAAAAAAAAAAAAAAAAAAAAAAAAAAAAAAAAAAAAAAAAAAAAAAAAAAAAAAAAAAAAAAAAAAAAAAAAAAAAAAAAAAAAAAAAAAAAAAAAAAAAAAAAAAAAAAAAAAAAAAAAAAAAAAAAAAAAAAAAAAAAAAAAAAAAAAAAAAAAAAAAAAAAAAAAAAAAAAAAAAAAAAAAAAAAAAAAAAAAAAAAAAAAAAAAAAAAAAAAAAAAAAAAAAAAAAAAAAAAAAAAAAAAAAAAAAAAAAAAAAAAAAAAAAAAAAAAAAAAAAAAAAAAAAAAAAAAAAAAAAAAAAAAAAAAAAAAAAAAAAAAAAAAAAAAAAAAAAAAAAAAAAAAAAAAAAAAAAAAAAAAAAAAAAAAAAAAAAAAAAAAAAAAAAAAAAAAAAAAAAAAAAAAAAAAAAAAAAAAAAAAAAAAAAAAAAAAAAAAAAAAAAAAAAAAAAAAAAAAAAAAAAAAAAAAAAAAAAAAAAAAAAAAAAAAAAAAAAAAAAAAAAAAAAAAAAAAAAAAAAAAAAAAAAAAAAAAAAAAAAAAAAAAAAAAAAAAAAAAAAAAAAAAAAAAAAAAAAAAAAAAAAAAAAAAAAAAAAAAAAAAAAAAAAAAAAAAAAAAAAAAAAAAAAAAAAAAAAAAAAAAAAAAAAAAAAAAAAAAAAAAAAAAAAAAAAAAAAAAAAAAAAAAAAAAAAAAAAAAAAAAAAAAAAAAAAAAAAAAAAAAAAAAAAAAAAAAAAAAAAAAAAAAAAAAAAAAAAAAAAAAAAAAAAAAAAAAAAAAAAAAAAAAAAAAAAAAAAAAAAAAAAAAAAAAAAAAAAAAAAAAAAAAAAAAAAAAAAAAAAAAAAAAAAAAAAAAAAAAAAAAAAAAAAAAAAAAAAAAAAAAAAAAAAAAAAAAAAAAAAAAAAAAAAAAAAAAAAAAAAAAAAAAAAAAAAAAAAAAAAAAAAAAAAAAAAAAAAAAAAAAAAAAAAAAAAAAAAAAAAAAAAAAAAAAAAAAAAAAAAAAAAAAAAAAAAAAAAAAAAAAAAAAAAAAAAAAAAAAAAAAAAAAAAAAAAAAAAAAAAAAAAAAAAAAAAAAAAAAAAAAAAAAAAAAAAAAAAAAAAAAAAAAAAAAAAAAAAAAAAAAAAAAAAAAAAAAAAAAAAAAAAAAAAAAAAAAAAAAAAAAAAAAAAAAAAAAAAAAAAAAAAAAAAAAAAAAAAAAAAAAAAAAAAAAAAAAAAAAAAAAAAAAAAAAAAAAAAAAAAAAAAAAAAAAAAAAAAAAAAAAAAAAAAAAAAAAAAAAAAAAAAAAAAAAAAAAAAAAAAAAAAAAAAAAAAAAAAAAAAAAAAAAAAAAAAAAAAAAAAAAAAAAAAAAAAAAAAAAAAAAAAAAAAAAAAAAAAAAAAAAAAAAAAAAAAAAAAAAAAAAAAAAAAAAAAAAAAAAAAAAAAAAAAAAAAAAAAAAAAAAAAAAAAAAAAAAAAAAAAAAAAAAAAAAAAAAAAAAAAAAAAAAAAAAAAAAAAAAAAAAAAAAAAAAAAAAAAAAAAAAAAAAAAAAAAAAAAAAAAAAAAAAAAAAAAAAAAAAAAAAAAAAAAAAAAAAAAAAAAAAAAAAAAAAAAAAAAAAAAAAAAAAAAAAAAAAAAAAAAAAAAAAAAAAAAAAAAAAAAAAAAAAAAAAAAAAAAAAAAAAAAAAAAAAAAAAAAAAAAAAAAAAAAAAAAAAAAAAAAAAAAAAAAAAAAAAAAAAAAAAAAAAAAAAAAAAAAAAAAAAAAAAAAAAAAAAAAAAAAAAAAAAAAAAAAAAAAAAAAAAAAAAAAAAAAAAAAAAAAAAAAAAAAAAAAAAAAAAAAAAAAAAAAAAAAAAAAAAAAAAAAAAAAAAAAAAAAAAAAAAAAAAAAAAAAAAAAAAAAAAAAAAAAAAAAAAAAAAAAAAAAAAAAAAAAAAAAAAAAAAAAAAAAAAAAAAAAAAAAAAAAAAAAAAAAAAAAAAAAAAAAAAAAAAAAAAAAAAAAAAAAAAAAAAAAAAAAAAAAAAAAAAAAAAAAAAAAAAAAAAAAAAAAAAAAAAAAAAAAAAAAAAAAAAAAAAAAAAAAAAAAAAAAAAAAAAAAAAAAAAAAAAAAAAAAAAAAAAAAAAAAAAAAAAAAAAAAAAAAAAAAAAAAAAAAAAAAAAAAAAAAAAAAAAAAAAAAAAAAAAAAAAAAAAAAAAAAAAAAAAAAAAAAAAAAAAAAAAAAAAAAAAAAAAAAAAAAAAAAAAAAAAAAAAAAAAAAAAAAAAAAAAAAAAAAAAAAAAAAAAAAAAAAAAAAAAAAAAAAAAAAAAAAAAAAAAAAAAAAAAAAAAAAAAAAAAAAAAAAAAAAAAAAAAAAAAAAAAAAAAAAAAAAAAAAAAAAAAAAAAAAAAAAAAAAAAAAAAAAAAAAAAAAAAAAAAAAAAAAAAAAAAAAAAAAAAAAAAAAAAAAAAAAAAAAAAAAAAAAAAAAAAAAAAAAAAAAAAAAAAAAAAAAAAAAAAAAAAAAAAAAAAAAAAAAAAAAAAAAAAAAAAAAAAAAAAAAAAAAAAAAAAAAAAAAAAAAAAAAAAAAAAAAAAAAAAAAAAAAAAAAAAAAAAAAAAAAAAAAAAAAAAAAAAAAAAAAAAAAAAAAAAAAAAAAAAAAAAAAAAAAAAAAAAAAAAAAAAAAAAAAAAAAAAAAAAAAAAAAAAAAAAAAAAAAAAAAAAAAAAAAAAAAAAAAAAAAAAAAAAAAAAAAAAAAAAAAAAAAAAAAAAAAAAAAAAAAAAAAAAAAAAAAAAAAAAAAAAAAAAAAAAAAAAAAAAAAAAAAAAAAAAAAAAAAAAAAAAAAAAAAAAAAAAAAAAAAAAAAAAAAAAAAAAAAAAAAAAAAAAAAAAAAAAAAAAAAAAAAAAAAAAAAAAAAAAAAAAAAAAAAAAAAAAAAAAAAAAAAAAAAAAAAAAAAAAAAAAAAAAAAAAAAAAAAAAAAAAAAAAAAAAAAAAAAAAAAAAAAAAAAAAAAAAAAAAAAAAAAAAAAAAAAAAAAAAAAAAAAAAAAAAAAAAAAAAAAAAAAAAAAAAAAAAAAAAAAAAAAAAAAAAAAAAAAAAAAAAAAAAAAAAAAAAAAAAAAAAAAAAAAAAAAAAAAAAAAAAAAAAAAAAAAAAAAAAAAAAAAAAAAAAAAAAAAAAAAAAAAAAAAAAAAAAAAAAAAAAAAAAAAAAAAAAAAAAAAAAAAAAAAAAAAAAAAAAAAAAAAAAAAAAAAAAAAAAAAAAAAAAAAAAAAAAAAAAAAAAAAAAAAAAAAAAAAAAAAAAAAAAAAAAAAAAAAAAAAAAAAAAAAAAAAAAAAAAAAAAAAAAAAAAAAAAAAAAAAAAAAAAAAAAAAAAAAAAAAAAAAAAAAAAAAAAAAAAAAAAAAAAAAAAAAAAAAAAAAAAAAAAAAAAAAAAAAAAAAAAAAAAAAAAAAAAAAAAAAAAAAAAAAAAAAAAAAAAAAAAAAAAAAAAAAAAAAAAAAAAAAAAAAAAAAAAAAAAAAAAAAAAAAAAAAAAAAAAAAAAAAAAAAAAAAAAAAAAAAAAAAAAAAAAAAAAAAAAAAAAAAAAAAAAAAAAAAAAAAAAAAAAAAAAAAAAAAAAAAAAAAAAAAAAAAAAAAAAAAAAAAAAAAAAAAAAAAAAAAAAAAAAAAAAAAAAAAAAAAAAAAAAAAAAAAAAAAAAAAAAAAAAAAAAAAAAAAAAAAAAAAAAAAAAAAAAAAAAAAAAAAAAAAAAAAAAAAAAAAAAAAAAAAAAAAAAAAAAAAAAAAAAAAAAAAAAAAAAAAAAAAAAAAAAAAAAAAAAAAAAAAAAAAAAAAAAAAAAAAAAAAAAAAAAAAAAAAAAAAAAAAAAAAAAAAAAAAAAAAAAAAAAAAAAAAAAAAAAAAAAAAAAAAAAAAAAAAAAAAAAAAAAAAAAAAAAAAAAAAAAAAAAAAAAAAAAAAAAAAAAAAAAAAAAAAAAAAAAAAAAAAAAAAAAAAAAAAAAAAAAAAAAAAAAAAAAAAAAAAAAAAAAAAAAAAAAAAAAAAAAAAAAAAAAAAAAAAAAAAAAAAAAAAAAAAAAAAAAAAAAAAAAAAAAAAAAAAAAAAAAAAAAAAAAAAAAAAAAAAAAAAAAAAAAAAAAAAAAAAAAAAAAAAAAAAAAAAAAAAAAAAAAAAAAAAAAAAAAAAAAAAAAAAAAAAAAAAAAAAAAAAAAAAAAAAA=\",\"dtype\":\"float64\",\"shape\":[50,50]}],\"xmax\":[0.0],\"xmin\":[-14.62574618871833],\"ymax\":[1.0112559168468357e-06],\"ymin\":[1.0102559168468356e-06]},\"selected\":{\"id\":\"2227\",\"type\":\"Selection\"},\"selection_policy\":{\"id\":\"2226\",\"type\":\"UnionRenderers\"}},\"id\":\"2080\",\"type\":\"ColumnDataSource\"},{\"attributes\":{},\"id\":\"2026\",\"type\":\"SaveTool\"},{\"attributes\":{\"color_mapper\":{\"id\":\"2038\",\"type\":\"LinearColorMapper\"},\"dh\":{\"field\":\"dh\",\"units\":\"data\"},\"dw\":{\"field\":\"dw\",\"units\":\"data\"},\"image\":{\"field\":\"image\"},\"x\":{\"field\":\"xmin\"},\"y\":{\"field\":\"ymin\"}},\"id\":\"2037\",\"type\":\"Image\"},{\"attributes\":{\"overlay\":{\"id\":\"2225\",\"type\":\"BoxAnnotation\"}},\"id\":\"2064\",\"type\":\"BoxZoomTool\"},{\"attributes\":{},\"id\":\"2065\",\"type\":\"SaveTool\"},{\"attributes\":{\"overlay\":{\"id\":\"2222\",\"type\":\"BoxAnnotation\"}},\"id\":\"2025\",\"type\":\"BoxZoomTool\"},{\"attributes\":{},\"id\":\"2066\",\"type\":\"ResetTool\"},{\"attributes\":{},\"id\":\"2024\",\"type\":\"WheelZoomTool\"},{\"attributes\":{},\"id\":\"2067\",\"type\":\"HelpTool\"},{\"attributes\":{\"active_drag\":\"auto\",\"active_inspect\":\"auto\",\"active_multi\":null,\"active_scroll\":\"auto\",\"active_tap\":\"auto\",\"tools\":[{\"id\":\"2062\",\"type\":\"PanTool\"},{\"id\":\"2063\",\"type\":\"WheelZoomTool\"},{\"id\":\"2064\",\"type\":\"BoxZoomTool\"},{\"id\":\"2065\",\"type\":\"SaveTool\"},{\"id\":\"2066\",\"type\":\"ResetTool\"},{\"id\":\"2067\",\"type\":\"HelpTool\"}]},\"id\":\"2068\",\"type\":\"Toolbar\"},{\"attributes\":{\"palette\":[\"white\",\"#440255\",\"#440357\",\"#450558\",\"#45065A\",\"#45085B\",\"#46095C\",\"#460B5E\",\"#460C5F\",\"#460E61\",\"#470F62\",\"#471163\",\"#471265\",\"#471466\",\"#471567\",\"#471669\",\"#47186A\",\"#48196B\",\"#481A6C\",\"#481C6E\",\"#481D6F\",\"#481E70\",\"#482071\",\"#482172\",\"#482273\",\"#482374\",\"#472575\",\"#472676\",\"#472777\",\"#472878\",\"#472A79\",\"#472B7A\",\"#472C7B\",\"#462D7C\",\"#462F7C\",\"#46307D\",\"#46317E\",\"#45327F\",\"#45347F\",\"#453580\",\"#453681\",\"#443781\",\"#443982\",\"#433A83\",\"#433B83\",\"#433C84\",\"#423D84\",\"#423E85\",\"#424085\",\"#414186\",\"#414286\",\"#404387\",\"#404487\",\"#3F4587\",\"#3F4788\",\"#3E4888\",\"#3E4989\",\"#3D4A89\",\"#3D4B89\",\"#3D4C89\",\"#3C4D8A\",\"#3C4E8A\",\"#3B508A\",\"#3B518A\",\"#3A528B\",\"#3A538B\",\"#39548B\",\"#39558B\",\"#38568B\",\"#38578C\",\"#37588C\",\"#37598C\",\"#365A8C\",\"#365B8C\",\"#355C8C\",\"#355D8C\",\"#345E8D\",\"#345F8D\",\"#33608D\",\"#33618D\",\"#32628D\",\"#32638D\",\"#31648D\",\"#31658D\",\"#31668D\",\"#30678D\",\"#30688D\",\"#2F698D\",\"#2F6A8D\",\"#2E6B8E\",\"#2E6C8E\",\"#2E6D8E\",\"#2D6E8E\",\"#2D6F8E\",\"#2C708E\",\"#2C718E\",\"#2C728E\",\"#2B738E\",\"#2B748E\",\"#2A758E\",\"#2A768E\",\"#2A778E\",\"#29788E\",\"#29798E\",\"#287A8E\",\"#287A8E\",\"#287B8E\",\"#277C8E\",\"#277D8E\",\"#277E8E\",\"#267F8E\",\"#26808E\",\"#26818E\",\"#25828E\",\"#25838D\",\"#24848D\",\"#24858D\",\"#24868D\",\"#23878D\",\"#23888D\",\"#23898D\",\"#22898D\",\"#228A8D\",\"#228B8D\",\"#218C8D\",\"#218D8C\",\"#218E8C\",\"#208F8C\",\"#20908C\",\"#20918C\",\"#1F928C\",\"#1F938B\",\"#1F948B\",\"#1F958B\",\"#1F968B\",\"#1E978A\",\"#1E988A\",\"#1E998A\",\"#1E998A\",\"#1E9A89\",\"#1E9B89\",\"#1E9C89\",\"#1E9D88\",\"#1E9E88\",\"#1E9F88\",\"#1EA087\",\"#1FA187\",\"#1FA286\",\"#1FA386\",\"#20A485\",\"#20A585\",\"#21A685\",\"#21A784\",\"#22A784\",\"#23A883\",\"#23A982\",\"#24AA82\",\"#25AB81\",\"#26AC81\",\"#27AD80\",\"#28AE7F\",\"#29AF7F\",\"#2AB07E\",\"#2BB17D\",\"#2CB17D\",\"#2EB27C\",\"#2FB37B\",\"#30B47A\",\"#32B57A\",\"#33B679\",\"#35B778\",\"#36B877\",\"#38B976\",\"#39B976\",\"#3BBA75\",\"#3DBB74\",\"#3EBC73\",\"#40BD72\",\"#42BE71\",\"#44BE70\",\"#45BF6F\",\"#47C06E\",\"#49C16D\",\"#4BC26C\",\"#4DC26B\",\"#4FC369\",\"#51C468\",\"#53C567\",\"#55C666\",\"#57C665\",\"#59C764\",\"#5BC862\",\"#5EC961\",\"#60C960\",\"#62CA5F\",\"#64CB5D\",\"#67CC5C\",\"#69CC5B\",\"#6BCD59\",\"#6DCE58\",\"#70CE56\",\"#72CF55\",\"#74D054\",\"#77D052\",\"#79D151\",\"#7CD24F\",\"#7ED24E\",\"#81D34C\",\"#83D34B\",\"#86D449\",\"#88D547\",\"#8BD546\",\"#8DD644\",\"#90D643\",\"#92D741\",\"#95D73F\",\"#97D83E\",\"#9AD83C\",\"#9DD93A\",\"#9FD938\",\"#A2DA37\",\"#A5DA35\",\"#A7DB33\",\"#AADB32\",\"#ADDC30\",\"#AFDC2E\",\"#B2DD2C\",\"#B5DD2B\",\"#B7DD29\",\"#BADE27\",\"#BDDE26\",\"#BFDF24\",\"#C2DF22\",\"#C5DF21\",\"#C7E01F\",\"#CAE01E\",\"#CDE01D\",\"#CFE11C\",\"#D2E11B\",\"#D4E11A\",\"#D7E219\",\"#DAE218\",\"#DCE218\",\"#DFE318\",\"#E1E318\",\"#E4E318\",\"#E7E419\",\"#E9E419\",\"#ECE41A\",\"#EEE51B\",\"#F1E51C\",\"#F3E51E\",\"#F6E61F\",\"#F8E621\",\"#FAE622\",\"#FDE724\"]},\"id\":\"2038\",\"type\":\"LinearColorMapper\"},{\"attributes\":{\"source\":{\"id\":\"2075\",\"type\":\"ColumnDataSource\"}},\"id\":\"2079\",\"type\":\"CDSView\"},{\"attributes\":{},\"id\":\"2086\",\"type\":\"LinearScale\"},{\"attributes\":{},\"id\":\"2088\",\"type\":\"LinearScale\"},{\"attributes\":{\"axis_label\":\"z/c (fs)\",\"formatter\":{\"id\":\"2219\",\"type\":\"BasicTickFormatter\"},\"ticker\":{\"id\":\"2091\",\"type\":\"BasicTicker\"}},\"id\":\"2090\",\"type\":\"LinearAxis\"},{\"attributes\":{},\"id\":\"2091\",\"type\":\"BasicTicker\"},{\"attributes\":{\"ticker\":{\"id\":\"2091\",\"type\":\"BasicTicker\"}},\"id\":\"2094\",\"type\":\"Grid\"}],\"root_ids\":[\"2120\"]},\"title\":\"Bokeh Application\",\"version\":\"1.2.0\"}};\n",
       "  var render_items = [{\"docid\":\"58d8c0f5-344c-4847-bf2b-d0506d604f9b\",\"roots\":{\"2120\":\"fa32c1ca-fc84-476f-9430-a7e1ab5bae10\"}}];\n",
       "  root.Bokeh.embed.embed_items_notebook(docs_json, render_items);\n",
       "\n",
       "  }\n",
       "  if (root.Bokeh !== undefined) {\n",
       "    embed_document(root);\n",
       "  } else {\n",
       "    var attempts = 0;\n",
       "    var timer = setInterval(function(root) {\n",
       "      if (root.Bokeh !== undefined) {\n",
       "        embed_document(root);\n",
       "        clearInterval(timer);\n",
       "      }\n",
       "      attempts++;\n",
       "      if (attempts > 100) {\n",
       "        console.log(\"Bokeh: ERROR: Unable to run BokehJS code because BokehJS library is missing\");\n",
       "        clearInterval(timer);\n",
       "      }\n",
       "    }, 10, root)\n",
       "  }\n",
       "})(window);"
      ],
      "application/vnd.bokehjs_exec.v0+json": ""
     },
     "metadata": {
      "application/vnd.bokehjs_exec.v0+json": {
       "id": "2120"
      }
     },
     "output_type": "display_data"
    }
   ],
   "source": [
    "bunch1 = h5['mybunch']\n",
    "\n",
    "show(\n",
    "    column(\n",
    "        \n",
    "    bunch_plotting.plot_bunch_h5(bunch1, 'x', 'y', bins = 50, liveOnly=False),\n",
    "    bunch_plotting.plot_histogram_h5(bunch1, 'z', bins=100, liveOnly=False),\n",
    "    bunch_plotting.plot_bunch_h5(bunch1, 'z', 'pz', bins = 50, liveOnly=False)    \n",
    "    ))"
   ]
  },
  {
   "cell_type": "code",
   "execution_count": null,
   "metadata": {},
   "outputs": [],
   "source": []
  },
  {
   "cell_type": "code",
   "execution_count": null,
   "metadata": {},
   "outputs": [],
   "source": []
  }
 ],
 "metadata": {
  "kernelspec": {
   "display_name": "Python 3",
   "language": "python",
   "name": "python3"
  },
  "language_info": {
   "codemirror_mode": {
    "name": "ipython",
    "version": 3
   },
   "file_extension": ".py",
   "mimetype": "text/x-python",
   "name": "python",
   "nbconvert_exporter": "python",
   "pygments_lexer": "ipython3",
   "version": "3.7.3"
  }
 },
 "nbformat": 4,
 "nbformat_minor": 2
}
