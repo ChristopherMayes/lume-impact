{
 "cells": [
  {
   "cell_type": "code",
   "execution_count": 1,
   "metadata": {},
   "outputs": [],
   "source": [
    "# Useful for debugging\n",
    "%load_ext autoreload\n",
    "%autoreload 2"
   ]
  },
  {
   "cell_type": "markdown",
   "metadata": {},
   "source": [
    "# particles"
   ]
  },
  {
   "cell_type": "code",
   "execution_count": 2,
   "metadata": {},
   "outputs": [],
   "source": [
    "from impact.parsers import parse_impact_particles\n",
    "import numpy as np"
   ]
  },
  {
   "cell_type": "code",
   "execution_count": 3,
   "metadata": {},
   "outputs": [
    {
     "name": "stdout",
     "output_type": "stream",
     "text": [
      "300004\n",
      "  -2.3100165e-04  -4.9602831e-04  -8.7012500e-05   1.3489813e-04  -1.5400278e-06   1.9780000e-03\n",
      "   4.3611631e-04   1.2615826e-03   3.2937175e-04  -5.7131252e-04  -2.7340319e-06   1.9780000e-03\n",
      "   4.0614893e-04   1.0219854e-03   3.8438809e-04   7.9314477e-04  -1.7480634e-06   1.9780000e-03\n",
      "  -4.6228725e-06  -9.2105950e-05  -1.0653409e-04  -3.6416778e-05  -2.1070141e-06   1.9780000e-03\n",
      "   6.5748327e-05  -2.5636466e-04  -4.1871397e-04   1.7424081e-04  -2.0023810e-06   1.9780000e-03\n",
      "   1.4546577e-04  -1.3680945e-04  -1.4914360e-04  -8.7937840e-04  -4.2577223e-07   1.9780000e-03\n",
      "  -2.6238553e-04   2.0215841e-03   3.0330251e-05   7.8123555e-04  -2.8393854e-06   1.9780000e-03\n",
      "  -1.6558492e-04  -1.2573322e-03   3.0810745e-04  -4.6004104e-04  -8.9272327e-07   1.9780000e-03\n",
      "   5.1099252e-04  -2.9955067e-04   5.7496436e-05   6.1634900e-04  -7.1709180e-07   1.9780000e-03\n"
     ]
    }
   ],
   "source": [
    "# This file should exist\n",
    "!head ../templates/lcls_injector/partcl.data"
   ]
  },
  {
   "cell_type": "code",
   "execution_count": 4,
   "metadata": {},
   "outputs": [],
   "source": [
    "pdat = parse_impact_particles('../templates/lcls_injector/partcl.data')"
   ]
  },
  {
   "cell_type": "markdown",
   "metadata": {},
   "source": [
    "# Write in openPMD BeamPhysics format"
   ]
  },
  {
   "cell_type": "code",
   "execution_count": 5,
   "metadata": {},
   "outputs": [],
   "source": [
    "import h5py\n",
    "from impact.writers import write_impact_particles_h5"
   ]
  },
  {
   "cell_type": "code",
   "execution_count": 6,
   "metadata": {},
   "outputs": [],
   "source": [
    "# Write to h5\n",
    "with h5py.File('particles.h5', 'w') as h5:\n",
    "    write_impact_particles_h5(h5, pdat, name='mybunch')"
   ]
  },
  {
   "cell_type": "markdown",
   "metadata": {},
   "source": [
    "# Plot"
   ]
  },
  {
   "cell_type": "code",
   "execution_count": 7,
   "metadata": {},
   "outputs": [
    {
     "data": {
      "application/javascript": [
       "\n",
       "(function(root) {\n",
       "  function now() {\n",
       "    return new Date();\n",
       "  }\n",
       "\n",
       "  var force = true;\n",
       "\n",
       "  if (typeof root._bokeh_onload_callbacks === \"undefined\" || force === true) {\n",
       "    root._bokeh_onload_callbacks = [];\n",
       "    root._bokeh_is_loading = undefined;\n",
       "  }\n",
       "\n",
       "  var JS_MIME_TYPE = 'application/javascript';\n",
       "  var HTML_MIME_TYPE = 'text/html';\n",
       "  var EXEC_MIME_TYPE = 'application/vnd.bokehjs_exec.v0+json';\n",
       "  var CLASS_NAME = 'output_bokeh rendered_html';\n",
       "\n",
       "  /**\n",
       "   * Render data to the DOM node\n",
       "   */\n",
       "  function render(props, node) {\n",
       "    var script = document.createElement(\"script\");\n",
       "    node.appendChild(script);\n",
       "  }\n",
       "\n",
       "  /**\n",
       "   * Handle when an output is cleared or removed\n",
       "   */\n",
       "  function handleClearOutput(event, handle) {\n",
       "    var cell = handle.cell;\n",
       "\n",
       "    var id = cell.output_area._bokeh_element_id;\n",
       "    var server_id = cell.output_area._bokeh_server_id;\n",
       "    // Clean up Bokeh references\n",
       "    if (id != null && id in Bokeh.index) {\n",
       "      Bokeh.index[id].model.document.clear();\n",
       "      delete Bokeh.index[id];\n",
       "    }\n",
       "\n",
       "    if (server_id !== undefined) {\n",
       "      // Clean up Bokeh references\n",
       "      var cmd = \"from bokeh.io.state import curstate; print(curstate().uuid_to_server['\" + server_id + \"'].get_sessions()[0].document.roots[0]._id)\";\n",
       "      cell.notebook.kernel.execute(cmd, {\n",
       "        iopub: {\n",
       "          output: function(msg) {\n",
       "            var id = msg.content.text.trim();\n",
       "            if (id in Bokeh.index) {\n",
       "              Bokeh.index[id].model.document.clear();\n",
       "              delete Bokeh.index[id];\n",
       "            }\n",
       "          }\n",
       "        }\n",
       "      });\n",
       "      // Destroy server and session\n",
       "      var cmd = \"import bokeh.io.notebook as ion; ion.destroy_server('\" + server_id + \"')\";\n",
       "      cell.notebook.kernel.execute(cmd);\n",
       "    }\n",
       "  }\n",
       "\n",
       "  /**\n",
       "   * Handle when a new output is added\n",
       "   */\n",
       "  function handleAddOutput(event, handle) {\n",
       "    var output_area = handle.output_area;\n",
       "    var output = handle.output;\n",
       "\n",
       "    // limit handleAddOutput to display_data with EXEC_MIME_TYPE content only\n",
       "    if ((output.output_type != \"display_data\") || (!output.data.hasOwnProperty(EXEC_MIME_TYPE))) {\n",
       "      return\n",
       "    }\n",
       "\n",
       "    var toinsert = output_area.element.find(\".\" + CLASS_NAME.split(' ')[0]);\n",
       "\n",
       "    if (output.metadata[EXEC_MIME_TYPE][\"id\"] !== undefined) {\n",
       "      toinsert[toinsert.length - 1].firstChild.textContent = output.data[JS_MIME_TYPE];\n",
       "      // store reference to embed id on output_area\n",
       "      output_area._bokeh_element_id = output.metadata[EXEC_MIME_TYPE][\"id\"];\n",
       "    }\n",
       "    if (output.metadata[EXEC_MIME_TYPE][\"server_id\"] !== undefined) {\n",
       "      var bk_div = document.createElement(\"div\");\n",
       "      bk_div.innerHTML = output.data[HTML_MIME_TYPE];\n",
       "      var script_attrs = bk_div.children[0].attributes;\n",
       "      for (var i = 0; i < script_attrs.length; i++) {\n",
       "        toinsert[toinsert.length - 1].firstChild.setAttribute(script_attrs[i].name, script_attrs[i].value);\n",
       "      }\n",
       "      // store reference to server id on output_area\n",
       "      output_area._bokeh_server_id = output.metadata[EXEC_MIME_TYPE][\"server_id\"];\n",
       "    }\n",
       "  }\n",
       "\n",
       "  function register_renderer(events, OutputArea) {\n",
       "\n",
       "    function append_mime(data, metadata, element) {\n",
       "      // create a DOM node to render to\n",
       "      var toinsert = this.create_output_subarea(\n",
       "        metadata,\n",
       "        CLASS_NAME,\n",
       "        EXEC_MIME_TYPE\n",
       "      );\n",
       "      this.keyboard_manager.register_events(toinsert);\n",
       "      // Render to node\n",
       "      var props = {data: data, metadata: metadata[EXEC_MIME_TYPE]};\n",
       "      render(props, toinsert[toinsert.length - 1]);\n",
       "      element.append(toinsert);\n",
       "      return toinsert\n",
       "    }\n",
       "\n",
       "    /* Handle when an output is cleared or removed */\n",
       "    events.on('clear_output.CodeCell', handleClearOutput);\n",
       "    events.on('delete.Cell', handleClearOutput);\n",
       "\n",
       "    /* Handle when a new output is added */\n",
       "    events.on('output_added.OutputArea', handleAddOutput);\n",
       "\n",
       "    /**\n",
       "     * Register the mime type and append_mime function with output_area\n",
       "     */\n",
       "    OutputArea.prototype.register_mime_type(EXEC_MIME_TYPE, append_mime, {\n",
       "      /* Is output safe? */\n",
       "      safe: true,\n",
       "      /* Index of renderer in `output_area.display_order` */\n",
       "      index: 0\n",
       "    });\n",
       "  }\n",
       "\n",
       "  // register the mime type if in Jupyter Notebook environment and previously unregistered\n",
       "  if (root.Jupyter !== undefined) {\n",
       "    var events = require('base/js/events');\n",
       "    var OutputArea = require('notebook/js/outputarea').OutputArea;\n",
       "\n",
       "    if (OutputArea.prototype.mime_types().indexOf(EXEC_MIME_TYPE) == -1) {\n",
       "      register_renderer(events, OutputArea);\n",
       "    }\n",
       "  }\n",
       "\n",
       "  \n",
       "  if (typeof (root._bokeh_timeout) === \"undefined\" || force === true) {\n",
       "    root._bokeh_timeout = Date.now() + 5000;\n",
       "    root._bokeh_failed_load = false;\n",
       "  }\n",
       "\n",
       "  var NB_LOAD_WARNING = {'data': {'text/html':\n",
       "     \"<div style='background-color: #fdd'>\\n\"+\n",
       "     \"<p>\\n\"+\n",
       "     \"BokehJS does not appear to have successfully loaded. If loading BokehJS from CDN, this \\n\"+\n",
       "     \"may be due to a slow or bad network connection. Possible fixes:\\n\"+\n",
       "     \"</p>\\n\"+\n",
       "     \"<ul>\\n\"+\n",
       "     \"<li>re-rerun `output_notebook()` to attempt to load from CDN again, or</li>\\n\"+\n",
       "     \"<li>use INLINE resources instead, as so:</li>\\n\"+\n",
       "     \"</ul>\\n\"+\n",
       "     \"<code>\\n\"+\n",
       "     \"from bokeh.resources import INLINE\\n\"+\n",
       "     \"output_notebook(resources=INLINE)\\n\"+\n",
       "     \"</code>\\n\"+\n",
       "     \"</div>\"}};\n",
       "\n",
       "  function display_loaded() {\n",
       "    var el = document.getElementById(null);\n",
       "    if (el != null) {\n",
       "      el.textContent = \"BokehJS is loading...\";\n",
       "    }\n",
       "    if (root.Bokeh !== undefined) {\n",
       "      if (el != null) {\n",
       "        el.textContent = \"BokehJS \" + root.Bokeh.version + \" successfully loaded.\";\n",
       "      }\n",
       "    } else if (Date.now() < root._bokeh_timeout) {\n",
       "      setTimeout(display_loaded, 100)\n",
       "    }\n",
       "  }\n",
       "\n",
       "\n",
       "  function run_callbacks() {\n",
       "    try {\n",
       "      root._bokeh_onload_callbacks.forEach(function(callback) {\n",
       "        if (callback != null)\n",
       "          callback();\n",
       "      });\n",
       "    } finally {\n",
       "      delete root._bokeh_onload_callbacks\n",
       "    }\n",
       "    console.debug(\"Bokeh: all callbacks have finished\");\n",
       "  }\n",
       "\n",
       "  function load_libs(css_urls, js_urls, callback) {\n",
       "    if (css_urls == null) css_urls = [];\n",
       "    if (js_urls == null) js_urls = [];\n",
       "\n",
       "    root._bokeh_onload_callbacks.push(callback);\n",
       "    if (root._bokeh_is_loading > 0) {\n",
       "      console.debug(\"Bokeh: BokehJS is being loaded, scheduling callback at\", now());\n",
       "      return null;\n",
       "    }\n",
       "    if (js_urls == null || js_urls.length === 0) {\n",
       "      run_callbacks();\n",
       "      return null;\n",
       "    }\n",
       "    console.debug(\"Bokeh: BokehJS not loaded, scheduling load and callback at\", now());\n",
       "    root._bokeh_is_loading = css_urls.length + js_urls.length;\n",
       "\n",
       "    function on_load() {\n",
       "      root._bokeh_is_loading--;\n",
       "      if (root._bokeh_is_loading === 0) {\n",
       "        console.debug(\"Bokeh: all BokehJS libraries/stylesheets loaded\");\n",
       "        run_callbacks()\n",
       "      }\n",
       "    }\n",
       "\n",
       "    function on_error() {\n",
       "      console.error(\"failed to load \" + url);\n",
       "    }\n",
       "\n",
       "    for (var i = 0; i < css_urls.length; i++) {\n",
       "      var url = css_urls[i];\n",
       "      const element = document.createElement(\"link\");\n",
       "      element.onload = on_load;\n",
       "      element.onerror = on_error;\n",
       "      element.rel = \"stylesheet\";\n",
       "      element.type = \"text/css\";\n",
       "      element.href = url;\n",
       "      console.debug(\"Bokeh: injecting link tag for BokehJS stylesheet: \", url);\n",
       "      document.body.appendChild(element);\n",
       "    }\n",
       "\n",
       "    for (var i = 0; i < js_urls.length; i++) {\n",
       "      var url = js_urls[i];\n",
       "      var element = document.createElement('script');\n",
       "      element.onload = on_load;\n",
       "      element.onerror = on_error;\n",
       "      element.async = false;\n",
       "      element.src = url;\n",
       "      console.debug(\"Bokeh: injecting script tag for BokehJS library: \", url);\n",
       "      document.head.appendChild(element);\n",
       "    }\n",
       "  };\n",
       "\n",
       "  function inject_raw_css(css) {\n",
       "    const element = document.createElement(\"style\");\n",
       "    element.appendChild(document.createTextNode(css));\n",
       "    document.body.appendChild(element);\n",
       "  }\n",
       "\n",
       "  var js_urls = [\"https://cdn.pydata.org/bokeh/release/bokeh-1.2.0.min.js\", \"https://cdn.pydata.org/bokeh/release/bokeh-widgets-1.2.0.min.js\", \"https://cdn.pydata.org/bokeh/release/bokeh-tables-1.2.0.min.js\", \"https://cdn.pydata.org/bokeh/release/bokeh-gl-1.2.0.min.js\"];\n",
       "  var css_urls = [\"https://cdn.pydata.org/bokeh/release/bokeh-1.2.0.min.css\", \"https://cdn.pydata.org/bokeh/release/bokeh-widgets-1.2.0.min.css\", \"https://cdn.pydata.org/bokeh/release/bokeh-tables-1.2.0.min.css\"];\n",
       "\n",
       "  var inline_js = [\n",
       "    function(Bokeh) {\n",
       "      Bokeh.set_log_level(\"info\");\n",
       "    },\n",
       "    \n",
       "    function(Bokeh) {\n",
       "      \n",
       "    },\n",
       "    function(Bokeh) {} // ensure no trailing comma for IE\n",
       "  ];\n",
       "\n",
       "  function run_inline_js() {\n",
       "    \n",
       "    if ((root.Bokeh !== undefined) || (force === true)) {\n",
       "      for (var i = 0; i < inline_js.length; i++) {\n",
       "        inline_js[i].call(root, root.Bokeh);\n",
       "      }} else if (Date.now() < root._bokeh_timeout) {\n",
       "      setTimeout(run_inline_js, 100);\n",
       "    } else if (!root._bokeh_failed_load) {\n",
       "      console.log(\"Bokeh: BokehJS failed to load within specified timeout.\");\n",
       "      root._bokeh_failed_load = true;\n",
       "    } else if (force !== true) {\n",
       "      var cell = $(document.getElementById(null)).parents('.cell').data().cell;\n",
       "      cell.output_area.append_execute_result(NB_LOAD_WARNING)\n",
       "    }\n",
       "\n",
       "  }\n",
       "\n",
       "  if (root._bokeh_is_loading === 0) {\n",
       "    console.debug(\"Bokeh: BokehJS loaded, going straight to plotting\");\n",
       "    run_inline_js();\n",
       "  } else {\n",
       "    load_libs(css_urls, js_urls, function() {\n",
       "      console.debug(\"Bokeh: BokehJS plotting callback run at\", now());\n",
       "      run_inline_js();\n",
       "    });\n",
       "  }\n",
       "}(window));"
      ],
      "application/vnd.bokehjs_load.v0+json": "\n(function(root) {\n  function now() {\n    return new Date();\n  }\n\n  var force = true;\n\n  if (typeof root._bokeh_onload_callbacks === \"undefined\" || force === true) {\n    root._bokeh_onload_callbacks = [];\n    root._bokeh_is_loading = undefined;\n  }\n\n  \n\n  \n  if (typeof (root._bokeh_timeout) === \"undefined\" || force === true) {\n    root._bokeh_timeout = Date.now() + 5000;\n    root._bokeh_failed_load = false;\n  }\n\n  var NB_LOAD_WARNING = {'data': {'text/html':\n     \"<div style='background-color: #fdd'>\\n\"+\n     \"<p>\\n\"+\n     \"BokehJS does not appear to have successfully loaded. If loading BokehJS from CDN, this \\n\"+\n     \"may be due to a slow or bad network connection. Possible fixes:\\n\"+\n     \"</p>\\n\"+\n     \"<ul>\\n\"+\n     \"<li>re-rerun `output_notebook()` to attempt to load from CDN again, or</li>\\n\"+\n     \"<li>use INLINE resources instead, as so:</li>\\n\"+\n     \"</ul>\\n\"+\n     \"<code>\\n\"+\n     \"from bokeh.resources import INLINE\\n\"+\n     \"output_notebook(resources=INLINE)\\n\"+\n     \"</code>\\n\"+\n     \"</div>\"}};\n\n  function display_loaded() {\n    var el = document.getElementById(null);\n    if (el != null) {\n      el.textContent = \"BokehJS is loading...\";\n    }\n    if (root.Bokeh !== undefined) {\n      if (el != null) {\n        el.textContent = \"BokehJS \" + root.Bokeh.version + \" successfully loaded.\";\n      }\n    } else if (Date.now() < root._bokeh_timeout) {\n      setTimeout(display_loaded, 100)\n    }\n  }\n\n\n  function run_callbacks() {\n    try {\n      root._bokeh_onload_callbacks.forEach(function(callback) {\n        if (callback != null)\n          callback();\n      });\n    } finally {\n      delete root._bokeh_onload_callbacks\n    }\n    console.debug(\"Bokeh: all callbacks have finished\");\n  }\n\n  function load_libs(css_urls, js_urls, callback) {\n    if (css_urls == null) css_urls = [];\n    if (js_urls == null) js_urls = [];\n\n    root._bokeh_onload_callbacks.push(callback);\n    if (root._bokeh_is_loading > 0) {\n      console.debug(\"Bokeh: BokehJS is being loaded, scheduling callback at\", now());\n      return null;\n    }\n    if (js_urls == null || js_urls.length === 0) {\n      run_callbacks();\n      return null;\n    }\n    console.debug(\"Bokeh: BokehJS not loaded, scheduling load and callback at\", now());\n    root._bokeh_is_loading = css_urls.length + js_urls.length;\n\n    function on_load() {\n      root._bokeh_is_loading--;\n      if (root._bokeh_is_loading === 0) {\n        console.debug(\"Bokeh: all BokehJS libraries/stylesheets loaded\");\n        run_callbacks()\n      }\n    }\n\n    function on_error() {\n      console.error(\"failed to load \" + url);\n    }\n\n    for (var i = 0; i < css_urls.length; i++) {\n      var url = css_urls[i];\n      const element = document.createElement(\"link\");\n      element.onload = on_load;\n      element.onerror = on_error;\n      element.rel = \"stylesheet\";\n      element.type = \"text/css\";\n      element.href = url;\n      console.debug(\"Bokeh: injecting link tag for BokehJS stylesheet: \", url);\n      document.body.appendChild(element);\n    }\n\n    for (var i = 0; i < js_urls.length; i++) {\n      var url = js_urls[i];\n      var element = document.createElement('script');\n      element.onload = on_load;\n      element.onerror = on_error;\n      element.async = false;\n      element.src = url;\n      console.debug(\"Bokeh: injecting script tag for BokehJS library: \", url);\n      document.head.appendChild(element);\n    }\n  };\n\n  function inject_raw_css(css) {\n    const element = document.createElement(\"style\");\n    element.appendChild(document.createTextNode(css));\n    document.body.appendChild(element);\n  }\n\n  var js_urls = [\"https://cdn.pydata.org/bokeh/release/bokeh-1.2.0.min.js\", \"https://cdn.pydata.org/bokeh/release/bokeh-widgets-1.2.0.min.js\", \"https://cdn.pydata.org/bokeh/release/bokeh-tables-1.2.0.min.js\", \"https://cdn.pydata.org/bokeh/release/bokeh-gl-1.2.0.min.js\"];\n  var css_urls = [\"https://cdn.pydata.org/bokeh/release/bokeh-1.2.0.min.css\", \"https://cdn.pydata.org/bokeh/release/bokeh-widgets-1.2.0.min.css\", \"https://cdn.pydata.org/bokeh/release/bokeh-tables-1.2.0.min.css\"];\n\n  var inline_js = [\n    function(Bokeh) {\n      Bokeh.set_log_level(\"info\");\n    },\n    \n    function(Bokeh) {\n      \n    },\n    function(Bokeh) {} // ensure no trailing comma for IE\n  ];\n\n  function run_inline_js() {\n    \n    if ((root.Bokeh !== undefined) || (force === true)) {\n      for (var i = 0; i < inline_js.length; i++) {\n        inline_js[i].call(root, root.Bokeh);\n      }} else if (Date.now() < root._bokeh_timeout) {\n      setTimeout(run_inline_js, 100);\n    } else if (!root._bokeh_failed_load) {\n      console.log(\"Bokeh: BokehJS failed to load within specified timeout.\");\n      root._bokeh_failed_load = true;\n    } else if (force !== true) {\n      var cell = $(document.getElementById(null)).parents('.cell').data().cell;\n      cell.output_area.append_execute_result(NB_LOAD_WARNING)\n    }\n\n  }\n\n  if (root._bokeh_is_loading === 0) {\n    console.debug(\"Bokeh: BokehJS loaded, going straight to plotting\");\n    run_inline_js();\n  } else {\n    load_libs(css_urls, js_urls, function() {\n      console.debug(\"Bokeh: BokehJS plotting callback run at\", now());\n      run_inline_js();\n    });\n  }\n}(window));"
     },
     "metadata": {},
     "output_type": "display_data"
    }
   ],
   "source": [
    "from bokeh.plotting import  show, output_notebook\n",
    "from bokeh.layouts import column, row\n",
    "output_notebook(verbose=False, hide_banner=True)\n",
    "\n",
    "from opmd_beamphysics import bunch_plotting, bunch_tools"
   ]
  },
  {
   "cell_type": "code",
   "execution_count": 8,
   "metadata": {},
   "outputs": [],
   "source": [
    "h5 = h5py.File('particles.h5', 'r')"
   ]
  },
  {
   "cell_type": "code",
   "execution_count": 9,
   "metadata": {},
   "outputs": [
    {
     "data": {
      "text/plain": [
       "['mybunch']"
      ]
     },
     "execution_count": 9,
     "metadata": {},
     "output_type": "execute_result"
    }
   ],
   "source": [
    "list(h5)"
   ]
  },
  {
   "cell_type": "code",
   "execution_count": 10,
   "metadata": {},
   "outputs": [
    {
     "data": {
      "text/plain": [
       "['momentum', 'position', 'weight']"
      ]
     },
     "execution_count": 10,
     "metadata": {},
     "output_type": "execute_result"
    }
   ],
   "source": [
    "list(h5['mybunch'])"
   ]
  },
  {
   "cell_type": "code",
   "execution_count": 12,
   "metadata": {},
   "outputs": [
    {
     "data": {
      "text/html": [
       "\n",
       "\n",
       "\n",
       "\n",
       "\n",
       "\n",
       "  <div class=\"bk-root\" id=\"c63eee09-a0c3-4012-8e76-aac26718a55c\" data-root-id=\"1425\"></div>\n"
      ]
     },
     "metadata": {},
     "output_type": "display_data"
    },
    {
     "data": {
      "application/javascript": [
       "(function(root) {\n",
       "  function embed_document(root) {\n",
       "    \n",
       "  var docs_json = {\"0149260b-ab1a-4efd-96f9-557160772713\":{\"roots\":{\"references\":[{\"attributes\":{\"children\":[{\"id\":\"1309\",\"subtype\":\"Figure\",\"type\":\"Plot\"},{\"id\":\"1348\",\"subtype\":\"Figure\",\"type\":\"Plot\"},{\"id\":\"1386\",\"subtype\":\"Figure\",\"type\":\"Plot\"}]},\"id\":\"1425\",\"type\":\"Column\"},{\"attributes\":{\"palette\":[\"white\",\"#440255\",\"#440357\",\"#450558\",\"#45065A\",\"#45085B\",\"#46095C\",\"#460B5E\",\"#460C5F\",\"#460E61\",\"#470F62\",\"#471163\",\"#471265\",\"#471466\",\"#471567\",\"#471669\",\"#47186A\",\"#48196B\",\"#481A6C\",\"#481C6E\",\"#481D6F\",\"#481E70\",\"#482071\",\"#482172\",\"#482273\",\"#482374\",\"#472575\",\"#472676\",\"#472777\",\"#472878\",\"#472A79\",\"#472B7A\",\"#472C7B\",\"#462D7C\",\"#462F7C\",\"#46307D\",\"#46317E\",\"#45327F\",\"#45347F\",\"#453580\",\"#453681\",\"#443781\",\"#443982\",\"#433A83\",\"#433B83\",\"#433C84\",\"#423D84\",\"#423E85\",\"#424085\",\"#414186\",\"#414286\",\"#404387\",\"#404487\",\"#3F4587\",\"#3F4788\",\"#3E4888\",\"#3E4989\",\"#3D4A89\",\"#3D4B89\",\"#3D4C89\",\"#3C4D8A\",\"#3C4E8A\",\"#3B508A\",\"#3B518A\",\"#3A528B\",\"#3A538B\",\"#39548B\",\"#39558B\",\"#38568B\",\"#38578C\",\"#37588C\",\"#37598C\",\"#365A8C\",\"#365B8C\",\"#355C8C\",\"#355D8C\",\"#345E8D\",\"#345F8D\",\"#33608D\",\"#33618D\",\"#32628D\",\"#32638D\",\"#31648D\",\"#31658D\",\"#31668D\",\"#30678D\",\"#30688D\",\"#2F698D\",\"#2F6A8D\",\"#2E6B8E\",\"#2E6C8E\",\"#2E6D8E\",\"#2D6E8E\",\"#2D6F8E\",\"#2C708E\",\"#2C718E\",\"#2C728E\",\"#2B738E\",\"#2B748E\",\"#2A758E\",\"#2A768E\",\"#2A778E\",\"#29788E\",\"#29798E\",\"#287A8E\",\"#287A8E\",\"#287B8E\",\"#277C8E\",\"#277D8E\",\"#277E8E\",\"#267F8E\",\"#26808E\",\"#26818E\",\"#25828E\",\"#25838D\",\"#24848D\",\"#24858D\",\"#24868D\",\"#23878D\",\"#23888D\",\"#23898D\",\"#22898D\",\"#228A8D\",\"#228B8D\",\"#218C8D\",\"#218D8C\",\"#218E8C\",\"#208F8C\",\"#20908C\",\"#20918C\",\"#1F928C\",\"#1F938B\",\"#1F948B\",\"#1F958B\",\"#1F968B\",\"#1E978A\",\"#1E988A\",\"#1E998A\",\"#1E998A\",\"#1E9A89\",\"#1E9B89\",\"#1E9C89\",\"#1E9D88\",\"#1E9E88\",\"#1E9F88\",\"#1EA087\",\"#1FA187\",\"#1FA286\",\"#1FA386\",\"#20A485\",\"#20A585\",\"#21A685\",\"#21A784\",\"#22A784\",\"#23A883\",\"#23A982\",\"#24AA82\",\"#25AB81\",\"#26AC81\",\"#27AD80\",\"#28AE7F\",\"#29AF7F\",\"#2AB07E\",\"#2BB17D\",\"#2CB17D\",\"#2EB27C\",\"#2FB37B\",\"#30B47A\",\"#32B57A\",\"#33B679\",\"#35B778\",\"#36B877\",\"#38B976\",\"#39B976\",\"#3BBA75\",\"#3DBB74\",\"#3EBC73\",\"#40BD72\",\"#42BE71\",\"#44BE70\",\"#45BF6F\",\"#47C06E\",\"#49C16D\",\"#4BC26C\",\"#4DC26B\",\"#4FC369\",\"#51C468\",\"#53C567\",\"#55C666\",\"#57C665\",\"#59C764\",\"#5BC862\",\"#5EC961\",\"#60C960\",\"#62CA5F\",\"#64CB5D\",\"#67CC5C\",\"#69CC5B\",\"#6BCD59\",\"#6DCE58\",\"#70CE56\",\"#72CF55\",\"#74D054\",\"#77D052\",\"#79D151\",\"#7CD24F\",\"#7ED24E\",\"#81D34C\",\"#83D34B\",\"#86D449\",\"#88D547\",\"#8BD546\",\"#8DD644\",\"#90D643\",\"#92D741\",\"#95D73F\",\"#97D83E\",\"#9AD83C\",\"#9DD93A\",\"#9FD938\",\"#A2DA37\",\"#A5DA35\",\"#A7DB33\",\"#AADB32\",\"#ADDC30\",\"#AFDC2E\",\"#B2DD2C\",\"#B5DD2B\",\"#B7DD29\",\"#BADE27\",\"#BDDE26\",\"#BFDF24\",\"#C2DF22\",\"#C5DF21\",\"#C7E01F\",\"#CAE01E\",\"#CDE01D\",\"#CFE11C\",\"#D2E11B\",\"#D4E11A\",\"#D7E219\",\"#DAE218\",\"#DCE218\",\"#DFE318\",\"#E1E318\",\"#E4E318\",\"#E7E419\",\"#E9E419\",\"#ECE41A\",\"#EEE51B\",\"#F1E51C\",\"#F3E51E\",\"#F6E61F\",\"#F8E621\",\"#FAE622\",\"#FDE724\"]},\"id\":\"1343\",\"type\":\"LinearColorMapper\"},{\"attributes\":{},\"id\":\"1469\",\"type\":\"BasicTickFormatter\"},{\"attributes\":{\"color_mapper\":{\"id\":\"1343\",\"type\":\"LinearColorMapper\"},\"dh\":{\"field\":\"dh\",\"units\":\"data\"},\"dw\":{\"field\":\"dw\",\"units\":\"data\"},\"image\":{\"field\":\"image\"},\"x\":{\"field\":\"xmin\"},\"y\":{\"field\":\"ymin\"}},\"id\":\"1342\",\"type\":\"Image\"},{\"attributes\":{\"active_drag\":\"auto\",\"active_inspect\":\"auto\",\"active_multi\":null,\"active_scroll\":\"auto\",\"active_tap\":\"auto\",\"tools\":[{\"id\":\"1328\",\"type\":\"PanTool\"},{\"id\":\"1329\",\"type\":\"WheelZoomTool\"},{\"id\":\"1330\",\"type\":\"BoxZoomTool\"},{\"id\":\"1331\",\"type\":\"SaveTool\"},{\"id\":\"1332\",\"type\":\"ResetTool\"},{\"id\":\"1333\",\"type\":\"HelpTool\"}]},\"id\":\"1334\",\"type\":\"Toolbar\"},{\"attributes\":{\"bottom_units\":\"screen\",\"fill_alpha\":{\"value\":0.5},\"fill_color\":{\"value\":\"lightgrey\"},\"left_units\":\"screen\",\"level\":\"overlay\",\"line_alpha\":{\"value\":1.0},\"line_color\":{\"value\":\"black\"},\"line_dash\":[4,4],\"line_width\":{\"value\":2},\"render_mode\":\"css\",\"right_units\":\"screen\",\"top_units\":\"screen\"},\"id\":\"1471\",\"type\":\"BoxAnnotation\"},{\"attributes\":{},\"id\":\"1328\",\"type\":\"PanTool\"},{\"attributes\":{},\"id\":\"1472\",\"type\":\"UnionRenderers\"},{\"attributes\":{},\"id\":\"1329\",\"type\":\"WheelZoomTool\"},{\"attributes\":{},\"id\":\"1473\",\"type\":\"Selection\"},{\"attributes\":{\"overlay\":{\"id\":\"1471\",\"type\":\"BoxAnnotation\"}},\"id\":\"1330\",\"type\":\"BoxZoomTool\"},{\"attributes\":{\"bottom_units\":\"screen\",\"fill_alpha\":{\"value\":0.5},\"fill_color\":{\"value\":\"lightgrey\"},\"left_units\":\"screen\",\"level\":\"overlay\",\"line_alpha\":{\"value\":1.0},\"line_color\":{\"value\":\"black\"},\"line_dash\":[4,4],\"line_width\":{\"value\":2},\"render_mode\":\"css\",\"right_units\":\"screen\",\"top_units\":\"screen\"},\"id\":\"1474\",\"type\":\"BoxAnnotation\"},{\"attributes\":{},\"id\":\"1331\",\"type\":\"SaveTool\"},{\"attributes\":{\"bottom_units\":\"screen\",\"fill_alpha\":{\"value\":0.5},\"fill_color\":{\"value\":\"lightgrey\"},\"left_units\":\"screen\",\"level\":\"overlay\",\"line_alpha\":{\"value\":1.0},\"line_color\":{\"value\":\"black\"},\"line_dash\":[4,4],\"line_width\":{\"value\":2},\"render_mode\":\"css\",\"right_units\":\"screen\",\"top_units\":\"screen\"},\"id\":\"1477\",\"type\":\"BoxAnnotation\"},{\"attributes\":{},\"id\":\"1332\",\"type\":\"ResetTool\"},{\"attributes\":{},\"id\":\"1478\",\"type\":\"UnionRenderers\"},{\"attributes\":{},\"id\":\"1333\",\"type\":\"HelpTool\"},{\"attributes\":{},\"id\":\"1479\",\"type\":\"Selection\"},{\"attributes\":{\"color_mapper\":{\"id\":\"1345\",\"type\":\"LinearColorMapper\"},\"dh\":{\"field\":\"dh\",\"units\":\"data\"},\"dw\":{\"field\":\"dw\",\"units\":\"data\"},\"image\":{\"field\":\"image\"},\"x\":{\"field\":\"xmin\"},\"y\":{\"field\":\"ymin\"}},\"id\":\"1344\",\"type\":\"Image\"},{\"attributes\":{\"palette\":[\"white\",\"#440255\",\"#440357\",\"#450558\",\"#45065A\",\"#45085B\",\"#46095C\",\"#460B5E\",\"#460C5F\",\"#460E61\",\"#470F62\",\"#471163\",\"#471265\",\"#471466\",\"#471567\",\"#471669\",\"#47186A\",\"#48196B\",\"#481A6C\",\"#481C6E\",\"#481D6F\",\"#481E70\",\"#482071\",\"#482172\",\"#482273\",\"#482374\",\"#472575\",\"#472676\",\"#472777\",\"#472878\",\"#472A79\",\"#472B7A\",\"#472C7B\",\"#462D7C\",\"#462F7C\",\"#46307D\",\"#46317E\",\"#45327F\",\"#45347F\",\"#453580\",\"#453681\",\"#443781\",\"#443982\",\"#433A83\",\"#433B83\",\"#433C84\",\"#423D84\",\"#423E85\",\"#424085\",\"#414186\",\"#414286\",\"#404387\",\"#404487\",\"#3F4587\",\"#3F4788\",\"#3E4888\",\"#3E4989\",\"#3D4A89\",\"#3D4B89\",\"#3D4C89\",\"#3C4D8A\",\"#3C4E8A\",\"#3B508A\",\"#3B518A\",\"#3A528B\",\"#3A538B\",\"#39548B\",\"#39558B\",\"#38568B\",\"#38578C\",\"#37588C\",\"#37598C\",\"#365A8C\",\"#365B8C\",\"#355C8C\",\"#355D8C\",\"#345E8D\",\"#345F8D\",\"#33608D\",\"#33618D\",\"#32628D\",\"#32638D\",\"#31648D\",\"#31658D\",\"#31668D\",\"#30678D\",\"#30688D\",\"#2F698D\",\"#2F6A8D\",\"#2E6B8E\",\"#2E6C8E\",\"#2E6D8E\",\"#2D6E8E\",\"#2D6F8E\",\"#2C708E\",\"#2C718E\",\"#2C728E\",\"#2B738E\",\"#2B748E\",\"#2A758E\",\"#2A768E\",\"#2A778E\",\"#29788E\",\"#29798E\",\"#287A8E\",\"#287A8E\",\"#287B8E\",\"#277C8E\",\"#277D8E\",\"#277E8E\",\"#267F8E\",\"#26808E\",\"#26818E\",\"#25828E\",\"#25838D\",\"#24848D\",\"#24858D\",\"#24868D\",\"#23878D\",\"#23888D\",\"#23898D\",\"#22898D\",\"#228A8D\",\"#228B8D\",\"#218C8D\",\"#218D8C\",\"#218E8C\",\"#208F8C\",\"#20908C\",\"#20918C\",\"#1F928C\",\"#1F938B\",\"#1F948B\",\"#1F958B\",\"#1F968B\",\"#1E978A\",\"#1E988A\",\"#1E998A\",\"#1E998A\",\"#1E9A89\",\"#1E9B89\",\"#1E9C89\",\"#1E9D88\",\"#1E9E88\",\"#1E9F88\",\"#1EA087\",\"#1FA187\",\"#1FA286\",\"#1FA386\",\"#20A485\",\"#20A585\",\"#21A685\",\"#21A784\",\"#22A784\",\"#23A883\",\"#23A982\",\"#24AA82\",\"#25AB81\",\"#26AC81\",\"#27AD80\",\"#28AE7F\",\"#29AF7F\",\"#2AB07E\",\"#2BB17D\",\"#2CB17D\",\"#2EB27C\",\"#2FB37B\",\"#30B47A\",\"#32B57A\",\"#33B679\",\"#35B778\",\"#36B877\",\"#38B976\",\"#39B976\",\"#3BBA75\",\"#3DBB74\",\"#3EBC73\",\"#40BD72\",\"#42BE71\",\"#44BE70\",\"#45BF6F\",\"#47C06E\",\"#49C16D\",\"#4BC26C\",\"#4DC26B\",\"#4FC369\",\"#51C468\",\"#53C567\",\"#55C666\",\"#57C665\",\"#59C764\",\"#5BC862\",\"#5EC961\",\"#60C960\",\"#62CA5F\",\"#64CB5D\",\"#67CC5C\",\"#69CC5B\",\"#6BCD59\",\"#6DCE58\",\"#70CE56\",\"#72CF55\",\"#74D054\",\"#77D052\",\"#79D151\",\"#7CD24F\",\"#7ED24E\",\"#81D34C\",\"#83D34B\",\"#86D449\",\"#88D547\",\"#8BD546\",\"#8DD644\",\"#90D643\",\"#92D741\",\"#95D73F\",\"#97D83E\",\"#9AD83C\",\"#9DD93A\",\"#9FD938\",\"#A2DA37\",\"#A5DA35\",\"#A7DB33\",\"#AADB32\",\"#ADDC30\",\"#AFDC2E\",\"#B2DD2C\",\"#B5DD2B\",\"#B7DD29\",\"#BADE27\",\"#BDDE26\",\"#BFDF24\",\"#C2DF22\",\"#C5DF21\",\"#C7E01F\",\"#CAE01E\",\"#CDE01D\",\"#CFE11C\",\"#D2E11B\",\"#D4E11A\",\"#D7E219\",\"#DAE218\",\"#DCE218\",\"#DFE318\",\"#E1E318\",\"#E4E318\",\"#E7E419\",\"#E9E419\",\"#ECE41A\",\"#EEE51B\",\"#F1E51C\",\"#F3E51E\",\"#F6E61F\",\"#F8E621\",\"#FAE622\",\"#FDE724\"]},\"id\":\"1345\",\"type\":\"LinearColorMapper\"},{\"attributes\":{\"data_source\":{\"id\":\"1308\",\"type\":\"ColumnDataSource\"},\"glyph\":{\"id\":\"1342\",\"type\":\"Image\"},\"hover_glyph\":null,\"muted_glyph\":null,\"nonselection_glyph\":{\"id\":\"1344\",\"type\":\"Image\"},\"selection_glyph\":null,\"view\":{\"id\":\"1347\",\"type\":\"CDSView\"}},\"id\":\"1346\",\"type\":\"GlyphRenderer\"},{\"attributes\":{\"source\":{\"id\":\"1308\",\"type\":\"ColumnDataSource\"}},\"id\":\"1347\",\"type\":\"CDSView\"},{\"attributes\":{\"bottom\":{\"value\":0},\"fill_alpha\":{\"value\":0.1},\"fill_color\":{\"value\":\"#1f77b4\"},\"left\":{\"field\":\"left\"},\"line_alpha\":{\"value\":0.1},\"line_color\":{\"value\":\"#1f77b4\"},\"right\":{\"field\":\"right\"},\"top\":{\"field\":\"top\"}},\"id\":\"1382\",\"type\":\"Quad\"},{\"attributes\":{\"dimension\":1,\"ticker\":{\"id\":\"1324\",\"type\":\"BasicTicker\"}},\"id\":\"1327\",\"type\":\"Grid\"},{\"attributes\":{\"below\":[{\"id\":\"1357\",\"type\":\"LinearAxis\"}],\"center\":[{\"id\":\"1361\",\"type\":\"Grid\"},{\"id\":\"1366\",\"type\":\"Grid\"}],\"left\":[{\"id\":\"1362\",\"type\":\"LinearAxis\"}],\"plot_height\":250,\"plot_width\":500,\"renderers\":[{\"id\":\"1383\",\"type\":\"GlyphRenderer\"}],\"title\":{\"id\":\"1456\",\"type\":\"Title\"},\"toolbar\":{\"id\":\"1373\",\"type\":\"Toolbar\"},\"x_range\":{\"id\":\"1349\",\"type\":\"DataRange1d\"},\"x_scale\":{\"id\":\"1353\",\"type\":\"LinearScale\"},\"y_range\":{\"id\":\"1351\",\"type\":\"DataRange1d\"},\"y_scale\":{\"id\":\"1355\",\"type\":\"LinearScale\"}},\"id\":\"1348\",\"subtype\":\"Figure\",\"type\":\"Plot\"},{\"attributes\":{\"callback\":null},\"id\":\"1349\",\"type\":\"DataRange1d\"},{\"attributes\":{\"callback\":null},\"id\":\"1351\",\"type\":\"DataRange1d\"},{\"attributes\":{},\"id\":\"1353\",\"type\":\"LinearScale\"},{\"attributes\":{},\"id\":\"1355\",\"type\":\"LinearScale\"},{\"attributes\":{\"axis_label\":\"x (um)\",\"formatter\":{\"id\":\"1465\",\"type\":\"BasicTickFormatter\"},\"ticker\":{\"id\":\"1358\",\"type\":\"BasicTicker\"}},\"id\":\"1357\",\"type\":\"LinearAxis\"},{\"attributes\":{\"below\":[{\"id\":\"1318\",\"type\":\"LinearAxis\"}],\"center\":[{\"id\":\"1322\",\"type\":\"Grid\"},{\"id\":\"1327\",\"type\":\"Grid\"}],\"left\":[{\"id\":\"1323\",\"type\":\"LinearAxis\"}],\"plot_height\":500,\"plot_width\":500,\"renderers\":[{\"id\":\"1346\",\"type\":\"GlyphRenderer\"}],\"title\":{\"id\":\"1454\",\"type\":\"Title\"},\"toolbar\":{\"id\":\"1334\",\"type\":\"Toolbar\"},\"x_range\":{\"id\":\"1310\",\"type\":\"Range1d\"},\"x_scale\":{\"id\":\"1314\",\"type\":\"LinearScale\"},\"y_range\":{\"id\":\"1312\",\"type\":\"Range1d\"},\"y_scale\":{\"id\":\"1316\",\"type\":\"LinearScale\"}},\"id\":\"1309\",\"subtype\":\"Figure\",\"type\":\"Plot\"},{\"attributes\":{},\"id\":\"1358\",\"type\":\"BasicTicker\"},{\"attributes\":{\"ticker\":{\"id\":\"1358\",\"type\":\"BasicTicker\"}},\"id\":\"1361\",\"type\":\"Grid\"},{\"attributes\":{\"axis_label\":\"??particles/um\",\"formatter\":{\"id\":\"1463\",\"type\":\"BasicTickFormatter\"},\"ticker\":{\"id\":\"1363\",\"type\":\"BasicTicker\"}},\"id\":\"1362\",\"type\":\"LinearAxis\"},{\"attributes\":{},\"id\":\"1363\",\"type\":\"BasicTicker\"},{\"attributes\":{\"dimension\":1,\"ticker\":{\"id\":\"1363\",\"type\":\"BasicTicker\"}},\"id\":\"1366\",\"type\":\"Grid\"},{\"attributes\":{},\"id\":\"1371\",\"type\":\"ResetTool\"},{\"attributes\":{\"bottom\":{\"value\":0},\"fill_alpha\":{\"value\":0.5},\"fill_color\":{\"value\":\"grey\"},\"left\":{\"field\":\"left\"},\"line_alpha\":{\"value\":0.5},\"line_color\":{\"value\":\"white\"},\"right\":{\"field\":\"right\"},\"top\":{\"field\":\"top\"}},\"id\":\"1381\",\"type\":\"Quad\"},{\"attributes\":{\"callback\":null,\"data\":{\"left\":{\"__ndarray__\":\"/G8lO/a/gsCbzxSV+F+CwDovBO/6/4HA2Y7zSP2fgcB47uKi/z+BwBZO0vwB4IDAta3BVgSAgMBUDbGwBiCAwObZQBUSgH/AI5kfyRbAfsBhWP58GwB+wJ4X3TAgQH3A3Na75CSAfMAalpqYKcB7wFdVeUwuAHvAlRRYADNAesDS0za0N4B5wBCTFWg8wHjATlL0G0EAeMCLEdPPRUB3wMjQsYNKgHbAB5CQN0/AdcBET2/rUwB1wIEOTp9YQHTAv80sU12Ac8D8jAsHYsBywDtM6rpmAHLAeAvJbmtAccC1yqcicIBwwOYTDa3pgG/AYZLKFPMAbsDdEIh8/IBswFePReQFAWvA0g0DTA+BacBOjMCzGAFowMkKfhsigWbARYk7gysBZcC/B/nqNIFjwDqGtlI+AWLAtgR0ukeBYMBhBmNEogJewFYD3hO1AlvAUgBZ48cCWMBH/dOy2gJVwDz6ToLtAlLAYe6TowAGTsBL6IlCJgZIwETif+FLBkLAW7jrAOMMOMBdWK99XBoowNgDQIf58qq/VtiginbkJ0A5eGQH8PE3QDNCvGTS+EFASUjGxaz4R0BgTtAmh/hNQDsq7cMw/FFAPi1y9B38VEBKMPckC/xXQFUzfFX4+1pAYDYBhuX7XUC2HENb6X1gQDeehfPf/WFAvR/Ii9Z9Y0BDoQokzf1kQMgiTbzDfWZATqSPVLr9Z0DPJdLssH1pQFWnFIWn/WpA2yhXHZ59bEBgqpm1lP1tQOYr3E2LfW9AtFYP88B+cEB3lzA/vD5xQDnYUYu3/nFA/Bhz17K+ckC/WZQjrn5zQICatW+pPnRAQ9vWu6T+dEAFHPgHoL51QMhcGVSbfnZAi506oJY+d0BO3lvskf53QBEffTiNvnhA0F+ehIh+eUCSoL/Qgz56QFXh4Bx//npAGCICaXq+e0DbYiO1dX58QJ6jRAFxPn1AYORlTWz+fUAjJYeZZ75+QOZlqOVifn9AVNPkGC8fgEC0c/W+LH+AQBUUBmUq34BAd7QWCyg/gUDYVCexJZ+BQDn1N1cj/4FAm5VI/SBfgkA=\",\"dtype\":\"float64\",\"shape\":[100]},\"right\":{\"__ndarray__\":\"m88UlfhfgsA6LwTv+v+BwNmO80j9n4HAeO7iov8/gcAWTtL8AeCAwLWtwVYEgIDAVA2xsAYggMDm2UAVEoB/wCOZH8kWwH7AYVj+fBsAfsCeF90wIEB9wNzWu+QkgHzAGpaamCnAe8BXVXlMLgB7wJUUWAAzQHrA0tM2tDeAecAQkxVoPMB4wE5S9BtBAHjAixHTz0VAd8DI0LGDSoB2wAeQkDdPwHXARE9v61MAdcCBDk6fWEB0wL/NLFNdgHPA/IwLB2LAcsA7TOq6ZgBywHgLyW5rQHHAtcqnInCAcMDmEw2t6YBvwGGSyhTzAG7A3RCIfPyAbMBXj0XkBQFrwNINA0wPgWnATozAsxgBaMDJCn4bIoFmwEWJO4MrAWXAvwf56jSBY8A6hrZSPgFiwLYEdLpHgWDAYQZjRKICXsBWA94TtQJbwFIAWePHAljAR/3TstoCVcA8+k6C7QJSwGHuk6MABk7AS+iJQiYGSMBE4n/hSwZCwFu46wDjDDjAXVivfVwaKMDYA0CH+fKqv1bYoIp25CdAOXhkB/DxN0AzQrxk0vhBQElIxsWs+EdAYE7QJof4TUA7Ku3DMPxRQD4tcvQd/FRASjD3JAv8V0BVM3xV+PtaQGA2AYbl+11AthxDW+l9YEA3noXz3/1hQL0fyIvWfWNAQ6EKJM39ZEDIIk28w31mQE6kj1S6/WdAzyXS7LB9aUBVpxSFp/1qQNsoVx2efWxAYKqZtZT9bUDmK9xNi31vQLRWD/PAfnBAd5cwP7w+cUA52FGLt/5xQPwYc9eyvnJAv1mUI65+c0CAmrVvqT50QEPb1ruk/nRABRz4B6C+dUDIXBlUm352QIudOqCWPndATt5b7JH+d0ARH304jb54QNBfnoSIfnlAkqC/0IM+ekBV4eAcf/56QBgiAml6vntA22IjtXV+fECeo0QBcT59QGDkZU1s/n1AIyWHmWe+fkDmZajlYn5/QFTT5BgvH4BAtHP1vix/gEAVFAZlKt+AQHe0FgsoP4FA2FQnsSWfgUA59TdXI/+BQJuVSP0gX4JA/DVZox6/gkA=\",\"dtype\":\"float64\",\"shape\":[100]},\"top\":{\"__ndarray__\":\"Dzh7T2+gVECSGxEMDTtiQJ4K5VHYRWhAvaGAEiX0a0DPjybntLVxQIi7win043JA1/OM5VPRdEAYKMxyZkF4QDUlyOypN3pAVa6ui0WzfEAGEIQW7318QP36P0A0xH5AEtomKK51gECZ48u1X7yBQARxPYNItYJAVXRL1Gmcg0C7RzK0/teEQByoBfzJnYVAy/uqynSkhUCsDnCAJcOGQEJhEwzyxIdA1fekAdqViEDWxPSk3nGJQFP1oHsdjIpAtQx2xc2Wi0DVqZ73RceMQPoXovsPUY1A8xw39cGrjkBvuNh+qWiPQOm86BKpVI9AnriwlI8QkECrC9VBy5SQQCeNmbcCUZBAYkWhQAmHkUCU5lShzjSRQLDjy7VfvJFA4Lg1+kF/kUArv8w20t6RQPbt8WSAhZJAlLSqy/QBk0DIyHHEgyWTQA4jrs++i5NAxTDei71Pk0Crp4CWFy+UQFjYKCkTXZNAymELhGvsk0AfTL3iS1WTQPCwoL4WB5RAN4YKA/nJk0BME/dqL1STQGBtM3ZqupNAk20zdmq6k0DUjqkJiR+UQHJjkiz8X5RAsNenB6Tak0CS6WY2MwiUQEXPCAEUhZNA6BuWcb+pk0Av8f+1oWyTQOuzKaqFf5NA2PGA1xDvkkDkBsnxDpWSQEtGp8cqeJJAIyvIcJxykkBl0ApE8omSQBgx2kd6Y5FAhQrT/uyPkUAayW2AQDmRQOH0LWlW049AbQduuVSDj0AQDH5NVG+PQOiGKmWMSY9AJpdep0cXjUAml16nRxeNQG44EggNxYxAFm1JDZlcjEDDyIdbsseLQBkD0TccUIpApHtxQRFIiEAiyX/TK++HQFUQ9yi2NodApxH5a5Q7hkA/6Wp6dvSFQHA7BDveGIRA7Uu94ktVg0C7Ajp/fiuCQM33kq7u34FAYmoh4QXngEDnJFXa4n5/QBPVtdTShnxAImUrKHiJe0A5u08XLSt4QCmROn1+cHdA8lDNdktBc0Dw41AbEitzQMmUu+BmEHNAKC/y3w3tbEA/hRbPwo5pQG4xX60s0mJAd2AJQY3nVEA=\",\"dtype\":\"float64\",\"shape\":[100]}},\"selected\":{\"id\":\"1476\",\"type\":\"Selection\"},\"selection_policy\":{\"id\":\"1475\",\"type\":\"UnionRenderers\"}},\"id\":\"1380\",\"type\":\"ColumnDataSource\"},{\"attributes\":{},\"id\":\"1314\",\"type\":\"LinearScale\"},{\"attributes\":{\"active_drag\":\"auto\",\"active_inspect\":\"auto\",\"active_multi\":null,\"active_scroll\":\"auto\",\"active_tap\":\"auto\",\"tools\":[{\"id\":\"1367\",\"type\":\"PanTool\"},{\"id\":\"1368\",\"type\":\"WheelZoomTool\"},{\"id\":\"1369\",\"type\":\"BoxZoomTool\"},{\"id\":\"1370\",\"type\":\"SaveTool\"},{\"id\":\"1371\",\"type\":\"ResetTool\"},{\"id\":\"1372\",\"type\":\"HelpTool\"}]},\"id\":\"1373\",\"type\":\"Toolbar\"},{\"attributes\":{\"callback\":null,\"data\":{\"dh\":[1199.31016],\"dw\":[1199.88519],\"image\":[{\"__ndarray__\":\"AAAAAAAAAAAAAAAAAAAAAAAAAAAAAAAAAAAAAAAAAAAAAAAAAAAAAAAAAAAAAAAAAAAAAAAAAAAAAAAAAAAAAAAAAAAAAAAAAAAAAAAAAAAAAAAAAAAAAAAAAAAAAAAAAAAAAAAAAAAAAAAAAAAAAAAAAAAAAAAAAAAAAAAAAAAAAAAAAAAAAAAAAAAAAAAAAAAAAAAAJEAAAAAAAAA8QAAAAAAAgE1AAAAAAACAT0AAAAAAAIBTQAAAAAAAQFRAAAAAAADAVkAAAAAAAMBVQAAAAAAAwFNAAAAAAABAUkAAAAAAAIBTQAAAAAAAgEhAAAAAAAAAQ0AAAAAAAAAqQAAAAAAAAAAAAAAAAAAAAAAAAAAAAAAAAAAAAAAAAAAAAAAAAAAAAAAAAAAAAAAAAAAAAAAAAAAAAAAAAAAAAAAAAAAAAAAAAAAAAAAAAAAAAAAAAAAAAAAAAAAAAAAAAAAAAAAAAAAAAAAAAAAAAAAAAAAAAAAAAAAAAAAAAAAAAAAAAAAAAAAAAAAAAAAAAAAAAAAAAAAAAAAAAAAAAAAAAAAAAAAAAAAAAAAAAAAAAAAAAAAAAAAAAAAAAAAAAAAAAAAAAAAAAAAAAAAAAAAAAAAAAAAAAAAAAAAAAAAAAAAAAAAAAAAAAAAAAAAAAAAAAAAAAAAAAAAAAAAAAAAAAAAAAAAAAAAAAAAAACxAAAAAAACARkAAAAAAAMBSQAAAAAAAAFRAAAAAAABAV0AAAAAAAIBcQAAAAAAAQFlAAAAAAABAWEAAAAAAAIBaQAAAAAAAQFlAAAAAAACAVkAAAAAAAABaQAAAAAAAwFpAAAAAAADAWEAAAAAAAIBWQAAAAAAAQFdAAAAAAACAVkAAAAAAAIBTQAAAAAAAADtAAAAAAAAAJkAAAAAAAAAAAAAAAAAAAAAAAAAAAAAAAAAAAAAAAAAAAAAAAAAAAAAAAAAAAAAAAAAAAAAAAAAAAAAAAAAAAAAAAAAAAAAAAAAAAAAAAAAAAAAAAAAAAAAAAAAAAAAAAAAAAAAAAAAAAAAAAAAAAAAAAAAAAAAAAAAAAAAAAAAAAAAAAAAAAAAAAAAAAAAAAAAAAAAAAAAAAAAAAAAAAAAAAAAAAAAAAAAAAAAAAAAAAAAAAAAAAAAAAAAAAAAAAAAAAAAAAAAAAAAAAAAAAAAAAAAAAAAAAAAAAAAAAAAAAAAAAAAAADJAAAAAAACAREAAAAAAAEBWQAAAAAAAgFRAAAAAAADAVEAAAAAAAMBUQAAAAAAAAFdAAAAAAACAV0AAAAAAAIBYQAAAAAAAQF9AAAAAAACAW0AAAAAAAABZQAAAAAAAwFtAAAAAAACAWkAAAAAAAEBXQAAAAAAAwFlAAAAAAADAW0AAAAAAAIBXQAAAAAAAQFJAAAAAAABAU0AAAAAAAABXQAAAAAAAAFNAAAAAAAAAUEAAAAAAAAAxQAAAAAAAAAAAAAAAAAAAAAAAAAAAAAAAAAAAAAAAAAAAAAAAAAAAAAAAAAAAAAAAAAAAAAAAAAAAAAAAAAAAAAAAAAAAAAAAAAAAAAAAAAAAAAAAAAAAAAAAAAAAAAAAAAAAAAAAAAAAAAAAAAAAAAAAAAAAAAAAAAAAAAAAAAAAAAAAAAAAAAAAAAAAAAAAAAAAAAAAAAAAAAAAAAAAAAAAAAAAAAAAAAAAAAAAAAAAAAAAAAAAAAAAAAAAAAAAAAAAAAAAABhAAAAAAAAAREAAAAAAAABXQAAAAAAAQFFAAAAAAACAVkAAAAAAAEBaQAAAAAAAwF1AAAAAAAAAWEAAAAAAAABZQAAAAAAAAFpAAAAAAAAAVkAAAAAAAMBeQAAAAAAAAFlAAAAAAADAV0AAAAAAAMBcQAAAAAAAgFxAAAAAAAAAWkAAAAAAAEBcQAAAAAAAQFdAAAAAAABAVkAAAAAAAEBbQAAAAAAAwFlAAAAAAACAWEAAAAAAAEBWQAAAAAAAgFVAAAAAAAAAU0AAAAAAAIBJQAAAAAAAACJAAAAAAAAAAAAAAAAAAAAAAAAAAAAAAAAAAAAAAAAAAAAAAAAAAAAAAAAAAAAAAAAAAAAAAAAAAAAAAAAAAAAAAAAAAAAAAAAAAAAAAAAAAAAAAAAAAAAAAAAAAAAAAAAAAAAAAAAAAAAAAAAAAAAAAAAAAAAAAAAAAAAAAAAAAAAAAAAAAAAAAAAAAAAAAAAAAAAAAAAAAAAAAAAAAAAAAAAAAAAAAAAAAAAAAACAQkAAAAAAAABPQAAAAAAAQFtAAAAAAABAV0AAAAAAAEBaQAAAAAAAQFdAAAAAAADAWEAAAAAAAABaQAAAAAAAAF5AAAAAAABAWkAAAAAAAMBdQAAAAAAAYGBAAAAAAACAX0AAAAAAAABcQAAAAAAAQFhAAAAAAABAW0AAAAAAAIBeQAAAAAAAAGFAAAAAAAAAWkAAAAAAAEBgQAAAAAAAAFpAAAAAAACAWkAAAAAAAIBaQAAAAAAAgFpAAAAAAACAWUAAAAAAAMBRQAAAAAAAwFdAAAAAAABAWUAAAAAAAMBUQAAAAAAAADpAAAAAAAAAAAAAAAAAAAAAAAAAAAAAAAAAAAAAAAAAAAAAAAAAAAAAAAAAAAAAAAAAAAAAAAAAAAAAAAAAAAAAAAAAAAAAAAAAAAAAAAAAAAAAAAAAAAAAAAAAAAAAAAAAAAAAAAAAAAAAAAAAAAAAAAAAAAAAAAAAAAAAAAAAAAAAAAAAAAAAAAAAAAAAAAAAAAAAAAAAAEAAAAAAAIBHQAAAAAAAgFNAAAAAAADAV0AAAAAAAEBZQAAAAAAAgF5AAAAAAABAW0AAAAAAAEBeQAAAAAAAQFxAAAAAAAAAXEAAAAAAAIBbQAAAAAAAAGBAAAAAAACAXEAAAAAAAABeQAAAAAAAIGNAAAAAAADAXkAAAAAAAMBaQAAAAAAAAFtAAAAAAAAAX0AAAAAAAGBhQAAAAAAAAFxAAAAAAAAAXUAAAAAAAMBcQAAAAAAAwF1AAAAAAAAAXkAAAAAAAEBaQAAAAAAAwFlAAAAAAACAW0AAAAAAAABZQAAAAAAAQFhAAAAAAADAV0AAAAAAAIBYQAAAAAAAAElAAAAAAAAA8D8AAAAAAAAAAAAAAAAAAAAAAAAAAAAAAAAAAAAAAAAAAAAAAAAAAAAAAAAAAAAAAAAAAAAAAAAAAAAAAAAAAAAAAAAAAAAAAAAAAAAAAAAAAAAAAAAAAAAAAAAAAAAAAAAAAAAAAAAAAAAAAAAAAAAAAAAAAAAAAAAAAAAAAAAcQAAAAAAAAE9AAAAAAAAAWkAAAAAAAMBaQAAAAAAAAFlAAAAAAADAVkAAAAAAAIBaQAAAAAAAQF9AAAAAAABAWkAAAAAAAEBeQAAAAAAAgF9AAAAAAABAXUAAAAAAAIBhQAAAAAAA4GFAAAAAAACAYUAAAAAAACBgQAAAAAAAIGFAAAAAAACgYUAAAAAAAMBgQAAAAAAAQF9AAAAAAABgYUAAAAAAACBiQAAAAAAAgF5AAAAAAABAYEAAAAAAAABdQAAAAAAAAFtAAAAAAADAYkAAAAAAAIBdQAAAAAAAAFpAAAAAAABAXUAAAAAAAIBYQAAAAAAAgFdAAAAAAADAVUAAAAAAAIBZQAAAAAAAAExAAAAAAAAACEAAAAAAAAAAAAAAAAAAAAAAAAAAAAAAAAAAAAAAAAAAAAAAAAAAAAAAAAAAAAAAAAAAAAAAAAAAAAAAAAAAAAAAAAAAAAAAAAAAAAAAAAAAAAAAAAAAAAAAAAAAAAAAAAAAAAAAAAAAAAAAAAAAAPA/AAAAAAAAUEAAAAAAAABWQAAAAAAAQFpAAAAAAAAAVUAAAAAAAMBdQAAAAAAAgF5AAAAAAACAXUAAAAAAAABcQAAAAAAAoGBAAAAAAABAYEAAAAAAAEBeQAAAAAAAAF9AAAAAAACAYkAAAAAAAIBjQAAAAAAAQGBAAAAAAADAYUAAAAAAAIBiQAAAAAAAoGJAAAAAAABAY0AAAAAAAOBhQAAAAAAAwGBAAAAAAACAYEAAAAAAACBkQAAAAAAAIGFAAAAAAAAAXUAAAAAAAGBiQAAAAAAAwF9AAAAAAAAAWEAAAAAAAIBhQAAAAAAAAF5AAAAAAACAXEAAAAAAAABcQAAAAAAAwFhAAAAAAACAVUAAAAAAAIBZQAAAAAAAwFJAAAAAAAAAFEAAAAAAAAAAAAAAAAAAAAAAAAAAAAAAAAAAAAAAAAAAAAAAAAAAAAAAAAAAAAAAAAAAAAAAAAAAAAAAAAAAAAAAAAAAAAAAAAAAAAAAAAAAAAAAAAAAAAAAAAAAAAAAAAAAAAAAAMBQQAAAAAAAgFhAAAAAAADAWkAAAAAAAMBUQAAAAAAAQFpAAAAAAADAWkAAAAAAAABgQAAAAAAAgF5AAAAAAADAXUAAAAAAAMBfQAAAAAAAQFxAAAAAAAAAY0AAAAAAAABhQAAAAAAA4GJAAAAAAABAZEAAAAAAACBjQAAAAAAAYGBAAAAAAACgYkAAAAAAAGBiQAAAAAAAgGJAAAAAAABAZEAAAAAAAGBhQAAAAAAAIGJAAAAAAACAZEAAAAAAACBjQAAAAAAAYGVAAAAAAACgY0AAAAAAAMBhQAAAAAAAwF1AAAAAAADAYUAAAAAAAEBeQAAAAAAAYGBAAAAAAACAW0AAAAAAAIBbQAAAAAAAQFtAAAAAAADAVkAAAAAAAABUQAAAAAAAgFNAAAAAAAAACEAAAAAAAAAAAAAAAAAAAAAAAAAAAAAAAAAAAAAAAAAAAAAAAAAAAAAAAAAAAAAAAAAAAAAAAAAAAAAAAAAAAAAAAAAAAAAAAAAAAAAAAAAAAAAAAAAAAEdAAAAAAAAAVEAAAAAAAMBXQAAAAAAAwFlAAAAAAADAWUAAAAAAAMBbQAAAAAAAQF1AAAAAAABAYEAAAAAAAIBdQAAAAAAAYGBAAAAAAAAgYkAAAAAAAMBiQAAAAAAAYGNAAAAAAAAgY0AAAAAAAIBjQAAAAAAAwGNAAAAAAADAYUAAAAAAAEBlQAAAAAAAAGVAAAAAAABgY0AAAAAAAMBkQAAAAAAAAGdAAAAAAADgZUAAAAAAAKBmQAAAAAAAAGNAAAAAAABgYkAAAAAAAABlQAAAAAAAYGRAAAAAAAAAY0AAAAAAAABfQAAAAAAA4GBAAAAAAADAXUAAAAAAAEBgQAAAAAAAAF9AAAAAAABAXUAAAAAAAIBdQAAAAAAAQFhAAAAAAACAWkAAAAAAAABZQAAAAAAAAE5AAAAAAAAAAAAAAAAAAAAAAAAAAAAAAAAAAAAAAAAAAAAAAAAAAAAAAAAAAAAAAAAAAAAAAAAAAAAAAAAAAAAAAAAAAAAAAAAAAAAAAAAAQkAAAAAAAMBRQAAAAAAAgFJAAAAAAACAWEAAAAAAAIBdQAAAAAAAgFhAAAAAAABAXEAAAAAAAEBgQAAAAAAAAGBAAAAAAABgYEAAAAAAAABiQAAAAAAA4GBAAAAAAACAYkAAAAAAAABkQAAAAAAAQGRAAAAAAADgY0AAAAAAAGBmQAAAAAAAoGNAAAAAAADAZkAAAAAAAOBlQAAAAAAAQGRAAAAAAADgZ0AAAAAAAIBnQAAAAAAAoGRAAAAAAAAgZkAAAAAAAOBjQAAAAAAAwGJAAAAAAAAAZUAAAAAAAIBlQAAAAAAAAGdAAAAAAACAXUAAAAAAAKBhQAAAAAAAIGBAAAAAAAAAYUAAAAAAAIBhQAAAAAAAAF9AAAAAAABgYEAAAAAAAMBdQAAAAAAAwFFAAAAAAABAWEAAAAAAAMBVQAAAAAAAAENAAAAAAAAAAAAAAAAAAAAAAAAAAAAAAAAAAAAAAAAAAAAAAAAAAAAAAAAAAAAAAAAAAAAAAAAAAAAAAAAAAAAoQAAAAAAAwFNAAAAAAADAUkAAAAAAAIBVQAAAAAAAQFpAAAAAAAAgYUAAAAAAAMBbQAAAAAAAQF9AAAAAAADAX0AAAAAAAOBgQAAAAAAAQGNAAAAAAABgYkAAAAAAAIBjQAAAAAAAAGVAAAAAAADAZEAAAAAAACBkQAAAAAAAYGdAAAAAAABAZ0AAAAAAAGBoQAAAAAAAoGdAAAAAAAAAaEAAAAAAAEBmQAAAAAAAAGZAAAAAAACgZ0AAAAAAACBqQAAAAAAAAGdAAAAAAADAZEAAAAAAAIBoQAAAAAAAAGRAAAAAAADgY0AAAAAAAGBhQAAAAAAA4GFAAAAAAADAYkAAAAAAACBiQAAAAAAAYGFAAAAAAACAXUAAAAAAAEBfQAAAAAAAgFtAAAAAAACAWUAAAAAAAEBbQAAAAAAAwFhAAAAAAACAVUAAAAAAAABVQAAAAAAAACRAAAAAAAAAAAAAAAAAAAAAAAAAAAAAAAAAAAAAAAAAAAAAAAAAAAAAAAAAAAAAAAAAAAAAAACASUAAAAAAAEBVQAAAAAAAQFZAAAAAAADAVEAAAAAAAMBcQAAAAAAAwF9AAAAAAADAXkAAAAAAAMBdQAAAAAAAIGNAAAAAAADAX0AAAAAAAMBkQAAAAAAAQGJAAAAAAACgYkAAAAAAACBkQAAAAAAAYGhAAAAAAABAZUAAAAAAAOBmQAAAAAAAoGhAAAAAAADgaEAAAAAAAGBpQAAAAAAAYGdAAAAAAADgakAAAAAAACBnQAAAAAAAYGVAAAAAAACgZUAAAAAAAABrQAAAAAAAgGhAAAAAAADgZkAAAAAAAOBmQAAAAAAA4GdAAAAAAABAZkAAAAAAAGBlQAAAAAAAwGNAAAAAAADAZEAAAAAAAIBhQAAAAAAAgGJAAAAAAADAYEAAAAAAAEBaQAAAAAAAwF1AAAAAAABAYEAAAAAAAIBZQAAAAAAAAFlAAAAAAAAAVkAAAAAAAIBHQAAAAAAAAAAAAAAAAAAAAAAAAAAAAAAAAAAAAAAAAAAAAAAAAAAAAAAAAAAAAAAzQAAAAAAAQFNAAAAAAAAAWUAAAAAAAABbQAAAAAAAgFpAAAAAAACAXUAAAAAAAEBaQAAAAAAAAF1AAAAAAACAYUAAAAAAAMBeQAAAAAAAYGNAAAAAAADgY0AAAAAAACBkQAAAAAAAAGVAAAAAAACAZUAAAAAAAEBoQAAAAAAAYGJAAAAAAAAAaEAAAAAAAMBkQAAAAAAAoGhAAAAAAACgaUAAAAAAAGBnQAAAAAAAwGVAAAAAAABAaEAAAAAAAGBpQAAAAAAAQGpAAAAAAACgaUAAAAAAAMBoQAAAAAAAwGpAAAAAAADAZkAAAAAAAOBmQAAAAAAAoGJAAAAAAADgZUAAAAAAAABoQAAAAAAAAGFAAAAAAABgY0AAAAAAAGBhQAAAAAAAwF1AAAAAAACAXUAAAAAAAMBbQAAAAAAAwGFAAAAAAAAAXkAAAAAAAEBZQAAAAAAAQFpAAAAAAACAVEAAAAAAAAA0QAAAAAAAAAAAAAAAAAAAAAAAAAAAAAAAAAAAAAAAAAAAAAAAAACATEAAAAAAAMBUQAAAAAAAwFVAAAAAAADAVkAAAAAAAABhQAAAAAAAQFxAAAAAAADAX0AAAAAAAABiQAAAAAAAAGFAAAAAAABAZEAAAAAAAMBkQAAAAAAAwGNAAAAAAAAgZ0AAAAAAAEBmQAAAAAAAAGZAAAAAAAAAZUAAAAAAAOBmQAAAAAAAoGZAAAAAAACAZkAAAAAAAMBoQAAAAAAAgGVAAAAAAACAaEAAAAAAACBpQAAAAAAAQGxAAAAAAADgaEAAAAAAACBqQAAAAAAA4GpAAAAAAAAAa0AAAAAAAKBoQAAAAAAA4GZAAAAAAAAgaEAAAAAAAABmQAAAAAAA4GFAAAAAAADgYkAAAAAAAIBhQAAAAAAAgGRAAAAAAAAAYUAAAAAAAOBgQAAAAAAAYGBAAAAAAACAXEAAAAAAAEBdQAAAAAAAAFxAAAAAAABAWkAAAAAAAABWQAAAAAAAwFVAAAAAAAAAT0AAAAAAAAAAAAAAAAAAAAAAAAAAAAAAAAAAAAAAAAAkQAAAAAAAQFhAAAAAAAAAWUAAAAAAAEBeQAAAAAAAAFxAAAAAAABgYEAAAAAAAIBfQAAAAAAAwF5AAAAAAACAYUAAAAAAAOBgQAAAAAAAQGBAAAAAAACAYkAAAAAAAKBjQAAAAAAAoGdAAAAAAACgZUAAAAAAAKBlQAAAAAAAQGZAAAAAAADAZ0AAAAAAAMBqQAAAAAAAAGhAAAAAAADgbUAAAAAAACBsQAAAAAAAgG5AAAAAAABAaEAAAAAAAOBvQAAAAAAAIGpAAAAAAADgaUAAAAAAAOBqQAAAAAAAgGtAAAAAAADgaUAAAAAAAIBpQAAAAAAAgGtAAAAAAADgZUAAAAAAAABnQAAAAAAA4GVAAAAAAADAYUAAAAAAAMBhQAAAAAAAAGRAAAAAAADgY0AAAAAAAOBgQAAAAAAAAGJAAAAAAAAAYEAAAAAAAIBbQAAAAAAAwFhAAAAAAADAUUAAAAAAAABXQAAAAAAAAFVAAAAAAAAAMEAAAAAAAAAAAAAAAAAAAAAAAAAAAAAARkAAAAAAAMBVQAAAAAAAwFpAAAAAAABAYUAAAAAAAABcQAAAAAAAAGFAAAAAAAAAYEAAAAAAAGBiQAAAAAAAAGJAAAAAAABgZEAAAAAAAABjQAAAAAAAIGVAAAAAAADAZkAAAAAAAABqQAAAAAAAgGZAAAAAAAAAakAAAAAAACBrQAAAAAAAQGhAAAAAAADAaEAAAAAAAMBqQAAAAAAAwGxAAAAAAAAAakAAAAAAAGBpQAAAAAAAoGhAAAAAAAAAa0AAAAAAAGBrQAAAAAAAIGxAAAAAAADgZkAAAAAAAEBrQAAAAAAAQGlAAAAAAACAaUAAAAAAAGBqQAAAAAAAYGpAAAAAAACAZ0AAAAAAAKBnQAAAAAAAYGZAAAAAAACgZEAAAAAAAIBjQAAAAAAAYGRAAAAAAAAAY0AAAAAAACBiQAAAAAAAIGBAAAAAAACAX0AAAAAAAMBcQAAAAAAAwFpAAAAAAACAVkAAAAAAAEBaQAAAAAAAAEdAAAAAAAAAAAAAAAAAAAAAAAAAAAAAgE9AAAAAAADAWEAAAAAAAABaQAAAAAAAQFpAAAAAAABAXUAAAAAAAIBgQAAAAAAA4GBAAAAAAADAY0AAAAAAAABkQAAAAAAAIGJAAAAAAABgZEAAAAAAAMBiQAAAAAAAwGhAAAAAAAAAakAAAAAAAIBpQAAAAAAAoGhAAAAAAABAZ0AAAAAAAEBmQAAAAAAAYGhAAAAAAAAgakAAAAAAAEBuQAAAAAAAIG9AAAAAAAAAbUAAAAAAAGBoQAAAAAAA4GlAAAAAAAAQcUAAAAAAACBmQAAAAAAAYGtAAAAAAAAAbUAAAAAAAKBqQAAAAAAAQGtAAAAAAACAbkAAAAAAAIBpQAAAAAAAIGdAAAAAAADAZkAAAAAAAOBnQAAAAAAAQGZAAAAAAADAY0AAAAAAAMBhQAAAAAAAAGNAAAAAAACgYUAAAAAAAABgQAAAAAAAAFxAAAAAAAAAWEAAAAAAAABaQAAAAAAAwFtAAAAAAACAV0AAAAAAAMBUQAAAAAAAAAAAAAAAAAAAIEAAAAAAAMBQQAAAAAAAwFhAAAAAAAAAVUAAAAAAAABeQAAAAAAAQF5AAAAAAACAXUAAAAAAAEBeQAAAAAAAgF5AAAAAAACAYUAAAAAAACBjQAAAAAAA4GRAAAAAAAAAYkAAAAAAAKBoQAAAAAAAYGdAAAAAAAAAaUAAAAAAACBrQAAAAAAA4GtAAAAAAAAgakAAAAAAAMBrQAAAAAAAIG9AAAAAAADga0AAAAAAAKBuQAAAAAAAYGpAAAAAAAAgb0AAAAAAAEBqQAAAAAAAAG9AAAAAAADAbUAAAAAAAOBrQAAAAAAA4GxAAAAAAADAbEAAAAAAACBrQAAAAAAAgGhAAAAAAAAAZ0AAAAAAAGBoQAAAAAAAAGpAAAAAAAAgZkAAAAAAAIBkQAAAAAAAYGdAAAAAAACgYUAAAAAAAOBhQAAAAAAAYGBAAAAAAABAYEAAAAAAAOBiQAAAAAAAQF1AAAAAAACgYEAAAAAAAABZQAAAAAAAAFtAAAAAAABAVUAAAAAAAAAqQAAAAAAAAEBAAAAAAAAAV0AAAAAAAABZQAAAAAAAAGBAAAAAAAAAXkAAAAAAAIBcQAAAAAAAAGBAAAAAAACAYkAAAAAAACBgQAAAAAAAAGFAAAAAAAAgZkAAAAAAAIBlQAAAAAAAIGZAAAAAAADAZ0AAAAAAAKBpQAAAAAAAoGhAAAAAAABAbEAAAAAAAGBpQAAAAAAAwGpAAAAAAAAgbkAAAAAAACBvQAAAAAAA4GtAAAAAAACAakAAAAAAAOBpQAAAAAAAYGxAAAAAAADAa0AAAAAAAABvQAAAAAAAIGpAAAAAAAAga0AAAAAAALBwQAAAAAAA4GpAAAAAAACgaEAAAAAAAABsQAAAAAAA4GxAAAAAAABgaUAAAAAAAIBlQAAAAAAAAGhAAAAAAAAgaEAAAAAAAIBiQAAAAAAAgGRAAAAAAAAgZEAAAAAAAKBjQAAAAAAAoGBAAAAAAADAXEAAAAAAAMBfQAAAAAAAQFxAAAAAAABAVkAAAAAAAABaQAAAAAAAQFZAAAAAAAAAREAAAAAAAIBIQAAAAAAAQFRAAAAAAABAV0AAAAAAAEBaQAAAAAAAwFhAAAAAAAAAXUAAAAAAAIBfQAAAAAAAgGRAAAAAAABgYkAAAAAAAIBiQAAAAAAAIGZAAAAAAADAZkAAAAAAAGBnQAAAAAAAgGZAAAAAAACgaEAAAAAAAGBqQAAAAAAAgGpAAAAAAACAaUAAAAAAAMBrQAAAAAAAgG1AAAAAAABgbEAAAAAAACBqQAAAAAAAQG5AAAAAAABwcEAAAAAAAIBuQAAAAAAAAHBAAAAAAAAgbEAAAAAAAEBxQAAAAAAAAHBAAAAAAABga0AAAAAAACBvQAAAAAAA4G9AAAAAAACAaUAAAAAAAOBrQAAAAAAAQGdAAAAAAADAakAAAAAAACBkQAAAAAAAQGpAAAAAAADgZ0AAAAAAAOBjQAAAAAAAAGRAAAAAAABAY0AAAAAAAGBgQAAAAAAAwF9AAAAAAADAXEAAAAAAAIBeQAAAAAAAgFhAAAAAAABAVUAAAAAAAABaQAAAAAAAAEtAAAAAAADAU0AAAAAAAEBVQAAAAAAAQFpAAAAAAAAAW0AAAAAAAABfQAAAAAAAQGBAAAAAAADgYUAAAAAAAMBeQAAAAAAAAGZAAAAAAAAAakAAAAAAAIBlQAAAAAAAwGhAAAAAAADAZkAAAAAAAGBnQAAAAAAA4GpAAAAAAADgakAAAAAAAGBrQAAAAAAAgGhAAAAAAACga0AAAAAAAIBtQAAAAAAAoG1AAAAAAADgbUAAAAAAAIBuQAAAAAAAsHBAAAAAAABAbUAAAAAAAABxQAAAAAAAoHFAAAAAAADAbkAAAAAAALBwQAAAAAAAwG5AAAAAAADgbEAAAAAAAGBuQAAAAAAAwGpAAAAAAACgaEAAAAAAAEBpQAAAAAAAAGtAAAAAAAAAZ0AAAAAAAEBpQAAAAAAAwGtAAAAAAACAZkAAAAAAAOBkQAAAAAAAoGVAAAAAAACAYUAAAAAAAMBgQAAAAAAAoGNAAAAAAADAXEAAAAAAAABcQAAAAAAAgFdAAAAAAACAVkAAAAAAAEBRQAAAAAAAgFJAAAAAAADAWEAAAAAAAMBbQAAAAAAAAFhAAAAAAAAAXUAAAAAAAABfQAAAAAAAgF9AAAAAAAAAYUAAAAAAAGBjQAAAAAAAgGVAAAAAAADAYkAAAAAAAOBkQAAAAAAA4GhAAAAAAAAAaUAAAAAAAKBpQAAAAAAAoGhAAAAAAAAgakAAAAAAAABqQAAAAAAAQG5AAAAAAADgb0AAAAAAAOBtQAAAAAAAAG5AAAAAAADgbUAAAAAAAKBwQAAAAAAAAHBAAAAAAADgbkAAAAAAAOBtQAAAAAAAAG5AAAAAAACgbUAAAAAAAIBuQAAAAAAAwG9AAAAAAAAAb0AAAAAAAABuQAAAAAAAoGtAAAAAAACgbEAAAAAAAKBnQAAAAAAAwGpAAAAAAADgZ0AAAAAAAIBpQAAAAAAAoGRAAAAAAADgZEAAAAAAAOBiQAAAAAAAAF9AAAAAAABAXkAAAAAAAIBbQAAAAAAAgFlAAAAAAADAW0AAAAAAAABcQAAAAAAAQFhAAAAAAABAUEAAAAAAAMBUQAAAAAAAAFZAAAAAAACAV0AAAAAAACBgQAAAAAAAoGBAAAAAAADAXUAAAAAAAIBiQAAAAAAAoGFAAAAAAAAgZkAAAAAAAOBiQAAAAAAAgGZAAAAAAADgZUAAAAAAAOBqQAAAAAAAIGhAAAAAAABgaEAAAAAAAOBrQAAAAAAAwGpAAAAAAABAbEAAAAAAAGBtQAAAAAAAIGpAAAAAAACgakAAAAAAAIBuQAAAAAAAQG9AAAAAAACgb0AAAAAAACBsQAAAAAAAQG5AAAAAAACgaUAAAAAAAKBtQAAAAAAAQG5AAAAAAADgb0AAAAAAAEBvQAAAAAAAQG5AAAAAAACgaUAAAAAAAEBtQAAAAAAA4GhAAAAAAACAaUAAAAAAAEBnQAAAAAAAgGdAAAAAAADgaUAAAAAAAOBkQAAAAAAAIGZAAAAAAACgYUAAAAAAAMBiQAAAAAAAgGBAAAAAAADAX0AAAAAAAMBZQAAAAAAAgFlAAAAAAAAAVkAAAAAAAMBUQAAAAAAAQFVAAAAAAABAVkAAAAAAAEBcQAAAAAAAQFZAAAAAAADAWEAAAAAAAABfQAAAAAAAQGBAAAAAAADAXkAAAAAAAOBiQAAAAAAAoGNAAAAAAAAAY0AAAAAAACBkQAAAAAAAQGVAAAAAAADAZ0AAAAAAACBrQAAAAAAAYG1AAAAAAADga0AAAAAAAKBqQAAAAAAAwGtAAAAAAABAb0AAAAAAAGBwQAAAAAAAsHBAAAAAAACgcEAAAAAAANBwQAAAAAAAAG1AAAAAAACgckAAAAAAAHBwQAAAAAAAEHFAAAAAAADQcEAAAAAAAIBvQAAAAAAAoG9AAAAAAADAa0AAAAAAAOBsQAAAAAAA4G5AAAAAAABga0AAAAAAAIBuQAAAAAAAIGhAAAAAAABAZkAAAAAAACBnQAAAAAAAgGdAAAAAAADAZkAAAAAAAKBkQAAAAAAAwGBAAAAAAACgYkAAAAAAAEBgQAAAAAAAgF9AAAAAAAAAXUAAAAAAAMBZQAAAAAAAAF5AAAAAAADAWEAAAAAAAIBbQAAAAAAAQFRAAAAAAAAAWEAAAAAAAEBYQAAAAAAAgF1AAAAAAADAW0AAAAAAAEBeQAAAAAAAYGFAAAAAAACAZEAAAAAAAKBjQAAAAAAAIGVAAAAAAADgY0AAAAAAAOBlQAAAAAAAgGhAAAAAAAAAa0AAAAAAAIBsQAAAAAAA4GdAAAAAAADgaUAAAAAAAKBrQAAAAAAAwG5AAAAAAABAbEAAAAAAAKBuQAAAAAAA4G5AAAAAAABAb0AAAAAAAOBuQAAAAAAAAG9AAAAAAABwcEAAAAAAADBxQAAAAAAA8HBAAAAAAADQcEAAAAAAAMBqQAAAAAAAYG1AAAAAAABAbEAAAAAAAMBsQAAAAAAAIG1AAAAAAACAaEAAAAAAAOBmQAAAAAAAYGpAAAAAAADAaUAAAAAAAOBpQAAAAAAAIGRAAAAAAACgY0AAAAAAAIBkQAAAAAAA4GFAAAAAAAAAYUAAAAAAAOBgQAAAAAAAAFlAAAAAAABAWEAAAAAAAEBdQAAAAAAAQFdAAAAAAAAAVkAAAAAAAEBUQAAAAAAAgFdAAAAAAACAXkAAAAAAAMBdQAAAAAAAgF1AAAAAAABAX0AAAAAAAEBiQAAAAAAA4GBAAAAAAADAYkAAAAAAAGBnQAAAAAAAIGVAAAAAAACgaEAAAAAAAIBnQAAAAAAAQG5AAAAAAAAAZ0AAAAAAAMBrQAAAAAAAoG1AAAAAAAAgbkAAAAAAACBsQAAAAAAAAHFAAAAAAAAgcEAAAAAAAJBwQAAAAAAAoG1AAAAAAABAbkAAAAAAAIBuQAAAAAAAEHBAAAAAAAAgb0AAAAAAAEBuQAAAAAAAQG1AAAAAAABQcEAAAAAAAFBwQAAAAAAAoGxAAAAAAADAbEAAAAAAAEBtQAAAAAAAoGxAAAAAAAAAaUAAAAAAAIBoQAAAAAAAQGlAAAAAAABgaEAAAAAAAEBjQAAAAAAAIGZAAAAAAABgZUAAAAAAAIBfQAAAAAAAAGFAAAAAAAAgYUAAAAAAAEBbQAAAAAAAQFpAAAAAAABAXkAAAAAAAABZQAAAAAAAQFJAAAAAAABAU0AAAAAAAIBaQAAAAAAAwFlAAAAAAACAWUAAAAAAAOBhQAAAAAAAQF5AAAAAAAAgYUAAAAAAACBhQAAAAAAAYGFAAAAAAADgZkAAAAAAACBjQAAAAAAAIGpAAAAAAADgZEAAAAAAAGBoQAAAAAAA4GpAAAAAAACgbEAAAAAAAOBtQAAAAAAAAG1AAAAAAABgbUAAAAAAAKBrQAAAAAAAIGpAAAAAAAAAb0AAAAAAAIBtQAAAAAAA4G1AAAAAAACgakAAAAAAAEBuQAAAAAAAAHFAAAAAAAAQcUAAAAAAAIBwQAAAAAAAoG1AAAAAAACQcEAAAAAAACBvQAAAAAAAQGtAAAAAAACAbUAAAAAAAGBqQAAAAAAAAGtAAAAAAABgZUAAAAAAAABqQAAAAAAAwGZAAAAAAACAZkAAAAAAAKBkQAAAAAAAAGZAAAAAAADAYUAAAAAAAKBjQAAAAAAAQF9AAAAAAABAXEAAAAAAAEBZQAAAAAAAQFdAAAAAAABAWEAAAAAAAABTQAAAAAAAwFFAAAAAAAAAVUAAAAAAAEBcQAAAAAAAwFtAAAAAAABAWkAAAAAAAEBgQAAAAAAAwF9AAAAAAAAAY0AAAAAAAGBkQAAAAAAAYGFAAAAAAAAAaEAAAAAAAABnQAAAAAAAoGpAAAAAAACgaEAAAAAAAKBrQAAAAAAAIGtAAAAAAAAgakAAAAAAACBrQAAAAAAAAHBAAAAAAACgbEAAAAAAAIBtQAAAAAAAEHBAAAAAAABgakAAAAAAAIBtQAAAAAAAQG5AAAAAAABAcEAAAAAAAEBtQAAAAAAAIHBAAAAAAACAbkAAAAAAAKBrQAAAAAAAwG5AAAAAAABgbkAAAAAAACBtQAAAAAAAQGpAAAAAAADAaUAAAAAAAOBnQAAAAAAAYGhAAAAAAABAaEAAAAAAACBmQAAAAAAAgGZAAAAAAADAYkAAAAAAAIBfQAAAAAAAAGNAAAAAAAAAYEAAAAAAAMBeQAAAAAAAQF1AAAAAAADAXEAAAAAAAABbQAAAAAAAgFdAAAAAAAAAUkAAAAAAAABKQAAAAAAAgFhAAAAAAACAWEAAAAAAAMBdQAAAAAAAQGBAAAAAAABAXkAAAAAAAABhQAAAAAAAQGJAAAAAAADAY0AAAAAAAGBkQAAAAAAAoGZAAAAAAACAZEAAAAAAAIBoQAAAAAAAwGhAAAAAAADAZUAAAAAAAOBnQAAAAAAAgGxAAAAAAACgaUAAAAAAAEBqQAAAAAAAYGpAAAAAAAAwcEAAAAAAAMBsQAAAAAAAoGxAAAAAAABwcEAAAAAAAIBsQAAAAAAAQG1AAAAAAABAb0AAAAAAABBwQAAAAAAAYHFAAAAAAACwcEAAAAAAAGBrQAAAAAAAoGxAAAAAAABAakAAAAAAAMBtQAAAAAAAwGtAAAAAAAAAakAAAAAAACBpQAAAAAAAAGZAAAAAAADgZUAAAAAAAMBmQAAAAAAAAGRAAAAAAADAYkAAAAAAAMBgQAAAAAAAAF9AAAAAAABgYEAAAAAAAMBYQAAAAAAAQFpAAAAAAABAWkAAAAAAAABUQAAAAAAAgEtAAAAAAAAAREAAAAAAAABVQAAAAAAAgFNAAAAAAACAXkAAAAAAAIBaQAAAAAAAAGBAAAAAAAAAW0AAAAAAAEBhQAAAAAAAYGNAAAAAAABgYUAAAAAAAMBjQAAAAAAAoGVAAAAAAABgaEAAAAAAACBoQAAAAAAAQGpAAAAAAACgaUAAAAAAACBrQAAAAAAA4GpAAAAAAAAAa0AAAAAAAEBuQAAAAAAAgG5AAAAAAAAAcUAAAAAAAKBqQAAAAAAAAG1AAAAAAAAAb0AAAAAAAIBrQAAAAAAAgGpAAAAAAADAbkAAAAAAAMBuQAAAAAAAIGxAAAAAAACAa0AAAAAAAGBrQAAAAAAA4GpAAAAAAABAa0AAAAAAAMBnQAAAAAAAAGZAAAAAAADAZkAAAAAAAABmQAAAAAAAIGZAAAAAAADAYUAAAAAAAABkQAAAAAAAQGNAAAAAAACgYkAAAAAAAEBhQAAAAAAAwF1AAAAAAABAWkAAAAAAAEBWQAAAAAAAgFtAAAAAAABAV0AAAAAAAABAQAAAAAAAABhAAAAAAACAV0AAAAAAAEBYQAAAAAAAAFtAAAAAAADAW0AAAAAAAIBdQAAAAAAAYGBAAAAAAAAgYkAAAAAAAGBhQAAAAAAAQGNAAAAAAADAYEAAAAAAAIBkQAAAAAAA4GZAAAAAAADAZ0AAAAAAAKBoQAAAAAAAwGlAAAAAAACgZ0AAAAAAAABrQAAAAAAAYGtAAAAAAABAa0AAAAAAAKBtQAAAAAAA4GtAAAAAAABgakAAAAAAAGBsQAAAAAAAMHBAAAAAAADAaEAAAAAAAJBwQAAAAAAAMHBAAAAAAACgb0AAAAAAAIBpQAAAAAAAYGlAAAAAAACgbEAAAAAAACBpQAAAAAAAIGpAAAAAAACAZkAAAAAAAKBpQAAAAAAAQGdAAAAAAAAgaEAAAAAAAKBlQAAAAAAAAGRAAAAAAADgY0AAAAAAAABjQAAAAAAAgGFAAAAAAABAYEAAAAAAAIBfQAAAAAAAQF1AAAAAAACAWEAAAAAAAMBaQAAAAAAAgFZAAAAAAAAAJkAAAAAAAAAAAAAAAAAAgE5AAAAAAADAWEAAAAAAAIBTQAAAAAAAAGBAAAAAAAAAW0AAAAAAAABiQAAAAAAAQGBAAAAAAABAYkAAAAAAAABiQAAAAAAAwGRAAAAAAACAZUAAAAAAAEBmQAAAAAAAIGVAAAAAAACAZUAAAAAAAOBkQAAAAAAAoGpAAAAAAADga0AAAAAAAKBnQAAAAAAAQGpAAAAAAADAaUAAAAAAACBqQAAAAAAAQGxAAAAAAABga0AAAAAAAABuQAAAAAAAgGtAAAAAAABgcEAAAAAAAMBqQAAAAAAAoGpAAAAAAADAakAAAAAAACBpQAAAAAAAAGxAAAAAAAAgakAAAAAAAIBqQAAAAAAAwGZAAAAAAAAAaUAAAAAAAOBmQAAAAAAAQGVAAAAAAABAZkAAAAAAAOBhQAAAAAAAAGRAAAAAAADAYUAAAAAAAABcQAAAAAAA4GJAAAAAAAAAXEAAAAAAAABdQAAAAAAAwFNAAAAAAABAVUAAAAAAAMBQQAAAAAAAAAAAAAAAAAAAAAAAAAAAAIBBQAAAAAAAwFZAAAAAAADAV0AAAAAAAMBfQAAAAAAAAFxAAAAAAAAAXkAAAAAAAEBhQAAAAAAAQGJAAAAAAADAYEAAAAAAAGBiQAAAAAAAAGNAAAAAAAAAZ0AAAAAAAOBmQAAAAAAAYGdAAAAAAABAZ0AAAAAAAKBnQAAAAAAAAGtAAAAAAACAaEAAAAAAAABsQAAAAAAAQGxAAAAAAADgbEAAAAAAAOBpQAAAAAAAwG1AAAAAAABgaUAAAAAAAGBmQAAAAAAAoGxAAAAAAACAbUAAAAAAAOBoQAAAAAAA4GxAAAAAAADgZ0AAAAAAAABqQAAAAAAAQGpAAAAAAADgbUAAAAAAAEBoQAAAAAAA4GNAAAAAAAAgZUAAAAAAAEBoQAAAAAAA4GVAAAAAAAAgY0AAAAAAAGBgQAAAAAAAQGBAAAAAAABAXkAAAAAAACBgQAAAAAAAwF1AAAAAAACAXEAAAAAAAEBZQAAAAAAAgFlAAAAAAACASEAAAAAAAAAAAAAAAAAAAAAAAAAAAAAAJEAAAAAAAEBXQAAAAAAAQFdAAAAAAACAWkAAAAAAAIBeQAAAAAAAgFlAAAAAAADAXEAAAAAAAMBeQAAAAAAAwF1AAAAAAABgYkAAAAAAAMBkQAAAAAAAwGNAAAAAAAAAZ0AAAAAAAEBnQAAAAAAAQGtAAAAAAACgaUAAAAAAAKBpQAAAAAAAgGZAAAAAAAAAaEAAAAAAAEBrQAAAAAAAwGpAAAAAAAAga0AAAAAAAOBoQAAAAAAAQGtAAAAAAADga0AAAAAAAKBoQAAAAAAA4GlAAAAAAACga0AAAAAAAIBrQAAAAAAAwGhAAAAAAAAAaEAAAAAAAEBrQAAAAAAAAGlAAAAAAADgZUAAAAAAAMBrQAAAAAAAgGVAAAAAAABgZEAAAAAAACBjQAAAAAAAYGBAAAAAAABgYUAAAAAAAOBgQAAAAAAAoGBAAAAAAACAYkAAAAAAAIBbQAAAAAAAQFlAAAAAAABAWUAAAAAAAABXQAAAAAAAACxAAAAAAAAAAAAAAAAAAAAAAAAAAAAAAAAAAAAAAACASEAAAAAAAEBWQAAAAAAAAFhAAAAAAACAW0AAAAAAAABgQAAAAAAAAF5AAAAAAABAX0AAAAAAAIBbQAAAAAAAYGNAAAAAAAAgYUAAAAAAAIBmQAAAAAAAoGRAAAAAAAAgZkAAAAAAAGBnQAAAAAAA4GZAAAAAAADAZkAAAAAAAEBpQAAAAAAAgGlAAAAAAADAZEAAAAAAAABpQAAAAAAAIGlAAAAAAACgZkAAAAAAAABrQAAAAAAA4GtAAAAAAABAakAAAAAAACBpQAAAAAAAoGlAAAAAAADga0AAAAAAAIBqQAAAAAAAIGpAAAAAAACgZ0AAAAAAAKBmQAAAAAAAIGhAAAAAAABgY0AAAAAAAEBkQAAAAAAAgGNAAAAAAADAYkAAAAAAAEBjQAAAAAAAgF1AAAAAAADAXkAAAAAAAEBbQAAAAAAAgFtAAAAAAACAWkAAAAAAAMBXQAAAAAAAAFNAAAAAAACAUkAAAAAAAAAAAAAAAAAAAAAAAAAAAAAAAAAAAAAAAAAAAAAAAAAAADJAAAAAAABAWEAAAAAAAEBbQAAAAAAAQFlAAAAAAADAWUAAAAAAAGBgQAAAAAAAQF9AAAAAAABAXEAAAAAAAABiQAAAAAAAQF5AAAAAAAAAZEAAAAAAAIBjQAAAAAAAAGRAAAAAAAAgZUAAAAAAAEBmQAAAAAAAgGNAAAAAAAAAaEAAAAAAAABpQAAAAAAAIGhAAAAAAAAAaEAAAAAAAIBpQAAAAAAAYGhAAAAAAACgaEAAAAAAAMBqQAAAAAAAIGhAAAAAAAAAaUAAAAAAAMBpQAAAAAAAgGhAAAAAAABAZkAAAAAAAOBoQAAAAAAAYGpAAAAAAAAAaEAAAAAAACBlQAAAAAAAYGdAAAAAAACAYkAAAAAAACBhQAAAAAAA4GFAAAAAAACAXUAAAAAAACBgQAAAAAAAAGJAAAAAAAAAXEAAAAAAAIBZQAAAAAAAgFZAAAAAAABAWkAAAAAAAIBXQAAAAAAAAChAAAAAAAAAAAAAAAAAAAAAAAAAAAAAAAAAAAAAAAAAAAAAAAAAAAAAAAAAAAAAgElAAAAAAADAU0AAAAAAAMBWQAAAAAAAAFtAAAAAAADAXUAAAAAAAABcQAAAAAAAwF5AAAAAAAAAWkAAAAAAAGBiQAAAAAAA4GFAAAAAAAAgY0AAAAAAAOBhQAAAAAAAgGVAAAAAAACAZUAAAAAAAEBlQAAAAAAAQGhAAAAAAADgZUAAAAAAAABqQAAAAAAAoGhAAAAAAADAaUAAAAAAACBmQAAAAAAAQGtAAAAAAACAaEAAAAAAAEBqQAAAAAAAAGdAAAAAAAAAZUAAAAAAAEBqQAAAAAAAgGZAAAAAAAAAZ0AAAAAAAKBmQAAAAAAAQGdAAAAAAAAgZEAAAAAAAKBkQAAAAAAAAGNAAAAAAADgY0AAAAAAAMBiQAAAAAAAgF9AAAAAAADAWkAAAAAAAEBbQAAAAAAAwFpAAAAAAAAAWkAAAAAAAABUQAAAAAAAwFhAAAAAAACASkAAAAAAAAAAAAAAAAAAAAAAAAAAAAAAAAAAAAAAAAAAAAAAAAAAAAAAAAAAAAAAAAAAAAAAAAAmQAAAAAAAwFJAAAAAAABAVkAAAAAAAMBZQAAAAAAAAF1AAAAAAAAAXUAAAAAAAMBeQAAAAAAAQFxAAAAAAACAXkAAAAAAAMBeQAAAAAAAwGBAAAAAAADgYUAAAAAAAIBiQAAAAAAAIGNAAAAAAADAZkAAAAAAAKBlQAAAAAAAgGRAAAAAAADgZEAAAAAAAIBpQAAAAAAAAGZAAAAAAABAaEAAAAAAAOBkQAAAAAAAgGZAAAAAAABga0AAAAAAAGBoQAAAAAAA4GRAAAAAAABgZUAAAAAAAGBmQAAAAAAAwGRAAAAAAAAgZkAAAAAAAABlQAAAAAAA4GJAAAAAAAAgYkAAAAAAAOBjQAAAAAAAwGJAAAAAAADAYkAAAAAAAABeQAAAAAAAQF9AAAAAAADAYEAAAAAAAEBXQAAAAAAAAFZAAAAAAADAVEAAAAAAAIBQQAAAAAAAACZAAAAAAAAAAAAAAAAAAAAAAAAAAAAAAAAAAAAAAAAAAAAAAAAAAAAAAAAAAAAAAAAAAAAAAAAAAAAAAAAAAABAQAAAAAAAQFVAAAAAAADAWEAAAAAAAABYQAAAAAAAQFpAAAAAAABAWEAAAAAAAEBbQAAAAAAAAF1AAAAAAABAYUAAAAAAACBhQAAAAAAAYGBAAAAAAAAgY0AAAAAAACBjQAAAAAAAgGFAAAAAAACgYUAAAAAAAGBnQAAAAAAAIGZAAAAAAADAZUAAAAAAAABnQAAAAAAAYGdAAAAAAAAgZUAAAAAAAABjQAAAAAAA4GRAAAAAAAAAZUAAAAAAAKBgQAAAAAAAoGhAAAAAAAAgZEAAAAAAAEBjQAAAAAAAQGNAAAAAAACgYkAAAAAAAOBiQAAAAAAAgGNAAAAAAACgYUAAAAAAAEBfQAAAAAAAQF1AAAAAAADAX0AAAAAAAMBeQAAAAAAAgFpAAAAAAACAWkAAAAAAAABaQAAAAAAAwFJAAAAAAACAQEAAAAAAAAAAAAAAAAAAAAAAAAAAAAAAAAAAAAAAAAAAAAAAAAAAAAAAAAAAAAAAAAAAAAAAAAAAAAAAAAAAAAAAAAAAAAAAAAAAAAAAAABLQAAAAAAAAFZAAAAAAACAV0AAAAAAAMBaQAAAAAAAgFhAAAAAAAAAXUAAAAAAAEBcQAAAAAAAIGBAAAAAAACAXEAAAAAAAMBfQAAAAAAAIGVAAAAAAACAY0AAAAAAAIBjQAAAAAAAwGFAAAAAAADgYUAAAAAAAIBhQAAAAAAAgGNAAAAAAABAZkAAAAAAAOBiQAAAAAAAIGVAAAAAAACAZEAAAAAAACBmQAAAAAAAIGRAAAAAAADgZkAAAAAAAMBkQAAAAAAAYGRAAAAAAADgZEAAAAAAAOBhQAAAAAAAQGJAAAAAAADgYkAAAAAAAMBhQAAAAAAAgF5AAAAAAADAWUAAAAAAAEBaQAAAAAAAQFxAAAAAAADAXUAAAAAAAABaQAAAAAAAwFtAAAAAAAAAVEAAAAAAAIBLQAAAAAAAAAAAAAAAAAAAAAAAAAAAAAAAAAAAAAAAAAAAAAAAAAAAAAAAAAAAAAAAAAAAAAAAAAAAAAAAAAAAAAAAAAAAAAAAAAAAAAAAAAAAAAAAAAAAAEAAAAAAAIBRQAAAAAAAAFRAAAAAAADAXEAAAAAAAMBbQAAAAAAAgF5AAAAAAACAXEAAAAAAAEBfQAAAAAAAwFlAAAAAAACAYEAAAAAAAABeQAAAAAAA4GJAAAAAAACgYEAAAAAAAIBjQAAAAAAA4GFAAAAAAAAAY0AAAAAAAMBkQAAAAAAAYGNAAAAAAADAYkAAAAAAAKBkQAAAAAAA4GNAAAAAAABgY0AAAAAAACBlQAAAAAAAoGFAAAAAAABAZUAAAAAAAMBjQAAAAAAAoGBAAAAAAABAYkAAAAAAAGBgQAAAAAAAQGFAAAAAAAAAXUAAAAAAAKBhQAAAAAAAwFpAAAAAAAAAWkAAAAAAAIBZQAAAAAAAwFxAAAAAAAAAWEAAAAAAAIBVQAAAAAAAgE5AAAAAAAAAAAAAAAAAAAAAAAAAAAAAAAAAAAAAAAAAAAAAAAAAAAAAAAAAAAAAAAAAAAAAAAAAAAAAAAAAAAAAAAAAAAAAAAAAAAAAAAAAAAAAAAAAAAAAAAAAAAAAAAAAAAAAAAAAGEAAAAAAAEBRQAAAAAAAgFNAAAAAAADAVEAAAAAAAMBcQAAAAAAAAFhAAAAAAAAAXEAAAAAAAMBdQAAAAAAA4GBAAAAAAABgYEAAAAAAAEBgQAAAAAAAAF5AAAAAAADAXkAAAAAAAGBkQAAAAAAAoGRAAAAAAACAZEAAAAAAAKBjQAAAAAAAIGNAAAAAAAAAZUAAAAAAAMBhQAAAAAAAgGFAAAAAAABgYEAAAAAAAMBhQAAAAAAAIGBAAAAAAAAAYkAAAAAAAIBgQAAAAAAAAGBAAAAAAADAW0AAAAAAAMBbQAAAAAAAQGFAAAAAAABAWkAAAAAAAEBfQAAAAAAAgF1AAAAAAAAAWUAAAAAAAABRQAAAAAAAQFRAAAAAAACATkAAAAAAAAAiQAAAAAAAAAAAAAAAAAAAAAAAAAAAAAAAAAAAAAAAAAAAAAAAAAAAAAAAAAAAAAAAAAAAAAAAAAAAAAAAAAAAAAAAAAAAAAAAAAAAAAAAAAAAAAAAAAAAAAAAAAAAAAAAAAAAAAAAAAAAAAAAAAAACEAAAAAAAABQQAAAAAAAwFVAAAAAAADAWEAAAAAAAMBaQAAAAAAAwFlAAAAAAACAWkAAAAAAAABfQAAAAAAAQF9AAAAAAACAXUAAAAAAACBgQAAAAAAAAF1AAAAAAADAYEAAAAAAAMBhQAAAAAAAAGFAAAAAAACAX0AAAAAAAEBiQAAAAAAAAGNAAAAAAACAYEAAAAAAAGBgQAAAAAAAQGFAAAAAAADAXkAAAAAAAEBfQAAAAAAAYGJAAAAAAAAAYUAAAAAAAMBfQAAAAAAAwF5AAAAAAABAW0AAAAAAACBgQAAAAAAAQFpAAAAAAAAAXkAAAAAAAABYQAAAAAAAQFVAAAAAAAAAU0AAAAAAAABQQAAAAAAAACBAAAAAAAAAAAAAAAAAAAAAAAAAAAAAAAAAAAAAAAAAAAAAAAAAAAAAAAAAAAAAAAAAAAAAAAAAAAAAAAAAAAAAAAAAAAAAAAAAAAAAAAAAAAAAAAAAAAAAAAAAAAAAAAAAAAAAAAAAAAAAAAAAAAAAAAAAAAAAAAAAAAAAAAAA8D8AAAAAAABLQAAAAAAAAFdAAAAAAADAV0AAAAAAAIBWQAAAAAAAAFpAAAAAAAAAXEAAAAAAAABaQAAAAAAAgFlAAAAAAAAAX0AAAAAAAEBbQAAAAAAAoGBAAAAAAABAXUAAAAAAAMBgQAAAAAAAQFpAAAAAAACgYEAAAAAAAMBdQAAAAAAAgF1AAAAAAABAX0AAAAAAAIBdQAAAAAAAwGJAAAAAAAAgYEAAAAAAAABfQAAAAAAAgFxAAAAAAADAXEAAAAAAAEBgQAAAAAAAQFdAAAAAAABAWUAAAAAAAEBYQAAAAAAAQFdAAAAAAADAVkAAAAAAAEBZQAAAAAAAAE1AAAAAAAAAAAAAAAAAAAAAAAAAAAAAAAAAAAAAAAAAAAAAAAAAAAAAAAAAAAAAAAAAAAAAAAAAAAAAAAAAAAAAAAAAAAAAAAAAAAAAAAAAAAAAAAAAAAAAAAAAAAAAAAAAAAAAAAAAAAAAAAAAAAAAAAAAAAAAAAAAAAAAAAAAAAAAAAAAAAAAAAAAAAAAAAAAAAAAAAAAAAAAAAAAAAA7QAAAAAAAwFNAAAAAAADAUEAAAAAAAEBWQAAAAAAAgFZAAAAAAACAWEAAAAAAAEBYQAAAAAAAAFpAAAAAAACAXUAAAAAAAMBcQAAAAAAAQF5AAAAAAACAYEAAAAAAAEBeQAAAAAAAIGBAAAAAAABAXkAAAAAAAMBbQAAAAAAAAF9AAAAAAAAAXkAAAAAAAEBbQAAAAAAAQFpAAAAAAABAX0AAAAAAAABcQAAAAAAAAFpAAAAAAADAWEAAAAAAAEBUQAAAAAAAgFlAAAAAAADAWEAAAAAAAABYQAAAAAAAAFNAAAAAAAAAOkAAAAAAAAAAAAAAAAAAAAAAAAAAAAAAAAAAAAAAAAAAAAAAAAAAAAAAAAAAAAAAAAAAAAAAAAAAAAAAAAAAAAAAAAAAAAAAAAAAAAAAAAAAAAAAAAAAAAAAAAAAAAAAAAAAAAAAAAAAAAAAAAAAAAAAAAAAAAAAAAAAAAAAAAAAAAAAAAAAAAAAAAAAAAAAAAAAAAAAAAAAAAAAAAAAAAAAAAAAAAAAAAAAAAAAAAAiQAAAAAAAAFJAAAAAAABAVUAAAAAAAIBUQAAAAAAAAFlAAAAAAADAUkAAAAAAAMBZQAAAAAAAgFdAAAAAAADAXEAAAAAAAIBfQAAAAAAAAFpAAAAAAACAW0AAAAAAAABdQAAAAAAAQFpAAAAAAADAX0AAAAAAAIBeQAAAAAAAQFxAAAAAAADAVkAAAAAAAEBbQAAAAAAAAFxAAAAAAAAAX0AAAAAAAABaQAAAAAAAwFdAAAAAAACAWUAAAAAAAABWQAAAAAAAgFlAAAAAAAAAS0AAAAAAAAAkQAAAAAAAAAAAAAAAAAAAAAAAAAAAAAAAAAAAAAAAAAAAAAAAAAAAAAAAAAAAAAAAAAAAAAAAAAAAAAAAAAAAAAAAAAAAAAAAAAAAAAAAAAAAAAAAAAAAAAAAAAAAAAAAAAAAAAAAAAAAAAAAAAAAAAAAAAAAAAAAAAAAAAAAAAAAAAAAAAAAAAAAAAAAAAAAAAAAAAAAAAAAAAAAAAAAAAAAAAAAAAAAAAAAAAAAAAAAAAAAAAAAAAAAAAAAAAAAAAAAAAAAADRAAAAAAACATUAAAAAAAABUQAAAAAAAAFdAAAAAAADAWEAAAAAAAMBZQAAAAAAAAFlAAAAAAADAW0AAAAAAAMBYQAAAAAAAQFVAAAAAAABAVUAAAAAAAEBXQAAAAAAAQFtAAAAAAACAWEAAAAAAAMBZQAAAAAAAwFpAAAAAAADAVkAAAAAAAMBWQAAAAAAAwFlAAAAAAADAVUAAAAAAAEBaQAAAAAAAgFVAAAAAAACAS0AAAAAAAAAyQAAAAAAAAAAAAAAAAAAAAAAAAAAAAAAAAAAAAAAAAAAAAAAAAAAAAAAAAAAAAAAAAAAAAAAAAAAAAAAAAAAAAAAAAAAAAAAAAAAAAAAAAAAAAAAAAAAAAAAAAAAAAAAAAAAAAAAAAAAAAAAAAAAAAAAAAAAAAAAAAAAAAAAAAAAAAAAAAAAAAAAAAAAAAAAAAAAAAAAAAAAAAAAAAAAAAAAAAAAAAAAAAAAAAAAAAAAAAAAAAAAAAAAAAAAAAAAAAAAAAAAAAAAAAAAAAAAAAAAAAAAAAAAAAAAAAAAAAAAAAAAAAAAAHEAAAAAAAIBAQAAAAAAAAFFAAAAAAADAVkAAAAAAAIBTQAAAAAAAgFlAAAAAAADAWkAAAAAAAMBaQAAAAAAAQFlAAAAAAACAV0AAAAAAAABVQAAAAAAAgFZAAAAAAABAWkAAAAAAAIBYQAAAAAAAwFRAAAAAAADAVEAAAAAAAIBXQAAAAAAAwFJAAAAAAACARkAAAAAAAAAoQAAAAAAAAAAAAAAAAAAAAAAAAAAAAAAAAAAAAAAAAAAAAAAAAAAAAAAAAAAAAAAAAAAAAAAAAAAAAAAAAAAAAAAAAAAAAAAAAAAAAAAAAAAAAAAAAAAAAAAAAAAAAAAAAAAAAAAAAAAAAAAAAAAAAAAAAAAAAAAAAAAAAAAAAAAAAAAAAAAAAAAAAAAAAAAAAAAAAAAAAAAAAAAAAAAAAAAAAAAAAAAAAAAAAAAAAAAAAAAAAAAAAAAAAAAAAAAAAAAAAAAAAAAAAAAAAAAAAAAAAAAAAAAAAAAAAAAAAAAAAAAAAAAAAAAAAAAAAAAAAAAAAAAAAAAAAAAAAAAAAAAAAAAAAAAAAAAAAAAAAC5AAAAAAAAAQkAAAAAAAABPQAAAAAAAwFFAAAAAAADAVkAAAAAAAMBTQAAAAAAAAFVAAAAAAADAWEAAAAAAAIBWQAAAAAAAwFZAAAAAAACAT0AAAAAAAIBOQAAAAAAAAEFAAAAAAAAALEAAAAAAAAAAAAAAAAAAAAAAAAAAAAAAAAAAAAAAAAAAAAAAAAAAAAAAAAAAAAAAAAAAAAAAAAAAAAAAAAAAAAAAAAAAAAAAAAAAAAAAAAAAAAAAAAAAAAAAAAAAAAAAAAAAAAAAAAAAAAAAAAAAAAAAAAAAAAAAAAAAAAAAAAAAAAAAAAAAAAAAAAAAAAAAAAA=\",\"dtype\":\"float64\",\"shape\":[50,50]}],\"xmax\":[599.88996],\"xmin\":[-599.99523],\"ymax\":[599.50232],\"ymin\":[-599.8078399999999]},\"selected\":{\"id\":\"1473\",\"type\":\"Selection\"},\"selection_policy\":{\"id\":\"1472\",\"type\":\"UnionRenderers\"}},\"id\":\"1308\",\"type\":\"ColumnDataSource\"},{\"attributes\":{},\"id\":\"1367\",\"type\":\"PanTool\"},{\"attributes\":{\"callback\":null,\"end\":599.88996,\"start\":-599.99523},\"id\":\"1310\",\"type\":\"Range1d\"},{\"attributes\":{},\"id\":\"1368\",\"type\":\"WheelZoomTool\"},{\"attributes\":{\"callback\":null,\"end\":599.50232,\"start\":-599.8078399999999},\"id\":\"1312\",\"type\":\"Range1d\"},{\"attributes\":{\"overlay\":{\"id\":\"1474\",\"type\":\"BoxAnnotation\"}},\"id\":\"1369\",\"type\":\"BoxZoomTool\"},{\"attributes\":{},\"id\":\"1316\",\"type\":\"LinearScale\"},{\"attributes\":{},\"id\":\"1370\",\"type\":\"SaveTool\"},{\"attributes\":{\"axis_label\":\"x (um)\",\"formatter\":{\"id\":\"1461\",\"type\":\"BasicTickFormatter\"},\"ticker\":{\"id\":\"1319\",\"type\":\"BasicTicker\"}},\"id\":\"1318\",\"type\":\"LinearAxis\"},{\"attributes\":{},\"id\":\"1372\",\"type\":\"HelpTool\"},{\"attributes\":{\"ticker\":{\"id\":\"1319\",\"type\":\"BasicTicker\"}},\"id\":\"1322\",\"type\":\"Grid\"},{\"attributes\":{},\"id\":\"1324\",\"type\":\"BasicTicker\"},{\"attributes\":{\"data_source\":{\"id\":\"1380\",\"type\":\"ColumnDataSource\"},\"glyph\":{\"id\":\"1381\",\"type\":\"Quad\"},\"hover_glyph\":null,\"muted_glyph\":null,\"nonselection_glyph\":{\"id\":\"1382\",\"type\":\"Quad\"},\"selection_glyph\":null,\"view\":{\"id\":\"1384\",\"type\":\"CDSView\"}},\"id\":\"1383\",\"type\":\"GlyphRenderer\"},{\"attributes\":{},\"id\":\"1319\",\"type\":\"BasicTicker\"},{\"attributes\":{\"source\":{\"id\":\"1380\",\"type\":\"ColumnDataSource\"}},\"id\":\"1384\",\"type\":\"CDSView\"},{\"attributes\":{\"axis_label\":\"y (um)\",\"formatter\":{\"id\":\"1459\",\"type\":\"BasicTickFormatter\"},\"ticker\":{\"id\":\"1324\",\"type\":\"BasicTicker\"}},\"id\":\"1323\",\"type\":\"LinearAxis\"},{\"attributes\":{\"callback\":null,\"data\":{\"dh\":[0.00391028106216791],\"dw\":[0.003992359501505447],\"image\":[{\"__ndarray__\":\"AAAAAAAAAAAAAAAAAAAAAAAAAAAAAAAAAAAAAAAAAAAAAAAAAAAAAAAAAAAAAAAAAAAAAAAAAAAAAAAAAAAAAAAAAAAAAAAAAAAAAAAAAAAAAAAAAAAAAAAAAAAAAAAAAAAAAAAAAAAAAAAAAAAAAAAAAAAAAAAAAAAAAAAAAAAAAAAAAAAAAAAAAAAAAAAAAAAAAAAAAAAAAAAAAAAAAAAAAAAAAAAAAAAAAAAAAAAAAAAAAAAAAAAAAAAAAAAAAAAAAAAAAAAAAAAAAAAAAAAAAAAAAAAAAAAAAAAAAAAAAAAAAADwPwAAAAAAAAAAAAAAAAAAAAAAAAAAAAAAAAAAAAAAAAAAAAAAAAAAAAAAAAAAAAAAAAAAAAAAAAAAAAAAAAAAAAAAAAAAAAAAAAAAAAAAAAAAAAAAAAAAAAAAAAAAAAAAAAAAAAAAAAAAAAAAAAAAAAAAAAAAAAAAAAAAAAAAAAAAAAAAAAAAAAAAAAAAAAAAAAAAAAAAAAAAAAAAAAAAAAAAAAAAAAAAAAAAAAAAAAAAAAAAAAAAAAAAAAAAAAAAAAAAAAAAAAAAAAAAAAAAAAAAAAAAAAAAAAAAAAAAAAAAAAAAAAAAAAAAAAAAAAAAAAAAAAAAAAAAAAAAAAAAAAAAAAAAAAAAAAAAAAAAAAAAAAAAAAAAAAAAAAAAAAAAAAAAAAAAAAAAAAAAAAAAAAAAAAAAAAAAAAAAAAAAAAAAAAAAAAAAAAAAAAAAAAAAAAAAAAAAAAAAAAAAAAAAAAAAAAAAAAAAAAAAAAAAAAAAAAAAAAAAAAAAAAAAAAAAAAAAAAAAAAAAAAAAAAAAAAAAAAAAAADwPwAAAAAAAAAAAAAAAAAAAAAAAAAAAAAAAAAAAAAAAAAAAAAAAAAAAAAAAAAAAAAAAAAAAAAAAAAAAAAAAAAAAAAAAAAAAAAAAAAAAAAAAAAAAAAAAAAAAAAAAAAAAAAAAAAAAAAAAAAAAAAAAAAAAAAAAAAAAAAAAAAAAAAAAAAAAAAAAAAAAAAAAAAAAAAAAAAAAAAAAAAAAAAAAAAAAAAAAAAAAAAAAAAAAAAAAAAAAAAAAAAAAAAAAAAAAAAAAAAAAAAAAAAAAAAAAAAAAAAAAAAAAAAAAAAAAAAAAAAAAAAAAAAAAAAAAAAAAAAAAAAAAAAAAAAAAAAAAAAAAAAAAAAAAAAAAAAAAAAAAAAAAAAAAAAAAAAAAAAAAAAAAAAAAAAAAAAAAAAAAAAAAAAAAAAAAAAAAAAAAAAAAAAAAAAAAAAAAAAAAAAAAADwPwAAAAAAAAAAAAAAAAAAAAAAAAAAAAAAAAAAAAAAAAAAAAAAAAAAAAAAAAAAAAAAAAAAAAAAAAAAAAAAAAAAAAAAAAAAAAAAAAAAAAAAAAAAAAAAAAAAAAAAAAAAAAAAAAAAAAAAAAAAAAAAAAAAAAAAAAAAAAAAAAAAAAAAAAAAAAAAAAAAAAAAAAAAAAAAAAAAAAAAAAAAAAAAAAAAAAAAAAAAAAAAAAAAAAAAAAAAAAAAAAAAAAAAAAAAAAAAAAAAAAAAAAAAAAAAAAAAAAAAAAAAAAAAAAAAAAAAAAAAAAAAAAAAAAAAAAAAAAAAAAAAAAAAAAAAAAAAAAAAAAAAAAAAAAAAAAAAAAAAAAAAAAAAAAAAAAAAAAAAAAAAAAAAAAAAAAAAAAAAAAAAAAAAAAAAAAAAAAAAAAAAAAAAAAAAAAAAAAAAAAAAAAAAAAAAAAAAAAAAAAAAAAAAAAAAAAAAAADwPwAAAAAAAPA/AAAAAAAAAAAAAAAAAAAAAAAAAAAAAAAAAAAAAAAA8D8AAAAAAAAAAAAAAAAAAAAAAAAAAAAA8D8AAAAAAAAAAAAAAAAAAAAAAAAAAAAAAAAAAAAAAAAAAAAAAAAAAAAAAAAAAAAAAAAAAAAAAAAAAAAAAAAAAAAAAAAAAAAAAAAAAAAAAADwPwAAAAAAAAAAAAAAAAAAAAAAAAAAAAAAAAAAAAAAAAAAAAAAAAAAAAAAAAAAAAAAAAAAAAAAAAAAAAAAAAAAAAAAAAAAAAAAAAAAAAAAAAAAAAAAAAAAAAAAAAAAAAAAAAAAAAAAAAAAAAAAAAAAAAAAAAAAAAAAAAAAAAAAAAAAAAAAAAAAAAAAAAAAAAAAAAAAAAAAAAAAAAAAAAAAAAAAAAAAAAAAAAAAAAAAAAAAAAAAAAAAAAAAAAAAAAAAAAAAAAAAAAAAAAAAAAAAAAAAAAAAAAAAAAAAAAAAAAAAAAAAAAAAAAAAAAAAAAAAAAAAAAAAAPA/AAAAAAAAAAAAAAAAAAAAQAAAAAAAAAAAAAAAAAAAAAAAAAAAAADwPwAAAAAAAAAAAAAAAAAA8D8AAAAAAADwPwAAAAAAAAAAAAAAAAAA8D8AAAAAAADwPwAAAAAAAAAAAAAAAAAAAAAAAAAAAADwPwAAAAAAAAAAAAAAAAAAAAAAAAAAAAAAAAAAAAAAAAAAAAAAAAAAAAAAAAAAAAAAAAAAAAAAAPA/AAAAAAAAAAAAAAAAAAAAAAAAAAAAAAAAAAAAAAAAAAAAAAAAAADwPwAAAAAAAAAAAAAAAAAAAAAAAAAAAAAAAAAAAAAAAAAAAAAAAAAAAAAAAAAAAAAAAAAAAAAAAAAAAAAAAAAAAAAAAAAAAAAAAAAAAAAAAAAAAAAAAAAAAAAAAAAAAAAAAAAAAAAAAAAAAAAAAAAAAAAAAAAAAAAAAAAAAAAAAAAAAAAAAAAAAAAAAAAAAADwPwAAAAAAAAAAAAAAAAAAAAAAAAAAAADwPwAAAAAAAAAAAAAAAAAAAAAAAAAAAAAAAAAAAAAAAAAAAAAAAAAAAAAAAAAAAAAAQAAAAAAAAAAAAAAAAAAA8D8AAAAAAADwPwAAAAAAAPA/AAAAAAAAAAAAAAAAAADwPwAAAAAAAAAAAAAAAAAAAAAAAAAAAAAAQAAAAAAAAPA/AAAAAAAAEEAAAAAAAAAAAAAAAAAAAAAAAAAAAAAAAAAAAAAAAAAAAAAAAAAAAAAAAAAAAAAAAAAAAAAAAAAAAAAAAAAAAAAAAAAAAAAAAAAAAAAAAAAAAAAAAAAAAAAAAAAAAAAAAAAAAAAAAAAAAAAAAAAAAAAAAAAAAAAAAAAAAAAAAAAAAAAAAAAAAAAAAAAAAAAAAAAAAAAAAAAAAAAAAAAAAAAAAAAAAAAAAAAAAAAAAAAAAAAAAAAAAAAAAAAAAAAAAAAAAAAAAAAAAAAAAAAAAAAAAAAAAAAAAAAAAAAAAAAAAAAAAAAAAAAAAAAAAAAA8D8AAAAAAADwPwAAAAAAAPA/AAAAAAAAAAAAAAAAAADwPwAAAAAAAPA/AAAAAAAAAAAAAAAAAAAAAAAAAAAAAAAAAAAAAAAAAEAAAAAAAAAAQAAAAAAAABBAAAAAAAAAAEAAAAAAAAAIQAAAAAAAABRAAAAAAAAAJEAAAAAAAAAQQAAAAAAAABhAAAAAAAAAFEAAAAAAAAAAAAAAAAAAAPA/AAAAAAAAEEAAAAAAAADwPwAAAAAAAABAAAAAAAAAAEAAAAAAAAAAQAAAAAAAAABAAAAAAAAAAAAAAAAAAAAAAAAAAAAAAAAAAAAAAAAAAAAAAAAAAAAAAAAAAAAAAAAAAAAAAAAAAAAAAAAAAAAAAAAAAAAAAAAAAAAAAAAAAAAAAAAAAAAAAAAAAAAAAAAAAAAAAAAAAAAAAAAAAAAAAAAAAAAAAAAAAAAAAAAAAAAAAAAAAAAAAAAAAAAAAAAAAAAAAAAAAAAAAAAAAAAAAAAAAAAAAAAAAAAAAAAAAAAAAAAAAAAAAAAAAAAAAAAAAAAAAAAAAAAAAAAAAAAAAAAAAAAAAPA/AAAAAAAAAAAAAAAAAAAAAAAAAAAAAAAAAAAAAAAAFEAAAAAAAAAAQAAAAAAAABRAAAAAAAAAHEAAAAAAAAAAQAAAAAAAABRAAAAAAAAAJEAAAAAAAAAUQAAAAAAAABhAAAAAAAAAEEAAAAAAAAAmQAAAAAAAAChAAAAAAAAAIkAAAAAAAAAgQAAAAAAAABhAAAAAAAAAAEAAAAAAAAAYQAAAAAAAAPA/AAAAAAAAEEAAAAAAAAAAQAAAAAAAAPA/AAAAAAAAAAAAAAAAAADwPwAAAAAAAAAAAAAAAAAAAAAAAAAAAAAAAAAAAAAAAPA/AAAAAAAAAAAAAAAAAAAAAAAAAAAAAAAAAAAAAAAAAAAAAAAAAAAAAAAAAAAAAAAAAAAAAAAAAAAAAAAAAAAAAAAAAAAAAAAAAAAAAAAAAAAAAAAAAAAAAAAAAAAAAAAAAAAAAAAAAAAAAAAAAADwPwAAAAAAAAAAAAAAAAAAAAAAAAAAAAAAQAAAAAAAAAAAAAAAAAAAAEAAAAAAAADwPwAAAAAAAAhAAAAAAAAACEAAAAAAAADwPwAAAAAAAABAAAAAAAAACEAAAAAAAAAUQAAAAAAAACBAAAAAAAAAGEAAAAAAAAAcQAAAAAAAACBAAAAAAAAALkAAAAAAAAA3QAAAAAAAACxAAAAAAAAAKkAAAAAAAAAcQAAAAAAAADJAAAAAAAAALkAAAAAAAAAiQAAAAAAAACJAAAAAAAAACEAAAAAAAAAYQAAAAAAAABBAAAAAAAAAAEAAAAAAAAAAAAAAAAAAAPA/AAAAAAAAAAAAAAAAAAAAAAAAAAAAAAAAAAAAAAAAAAAAAAAAAADwPwAAAAAAAAAAAAAAAAAAAAAAAAAAAAAAAAAAAAAAAAAAAAAAAAAAAAAAAAAAAAAAAAAAAAAAAAAAAAAAAAAAAAAAAAAAAAAAAAAAAAAAAAAAAAAAAAAAAAAAAAAAAAAAAAAAAAAAAAAAAAAAAAAAAAAAAAAAAAAAAAAAAAAAAAAAAAAAAAAAAAAAAAAAAADwPwAAAAAAAAhAAAAAAAAACEAAAAAAAAAIQAAAAAAAAPA/AAAAAAAAFEAAAAAAAAAUQAAAAAAAABxAAAAAAAAAHEAAAAAAAAAoQAAAAAAAACJAAAAAAAAANUAAAAAAAAAyQAAAAAAAADNAAAAAAAAAM0AAAAAAAAA3QAAAAAAAADZAAAAAAAAANEAAAAAAAAA0QAAAAAAAAC5AAAAAAAAAMEAAAAAAAAAmQAAAAAAAACxAAAAAAAAAGEAAAAAAAAAcQAAAAAAAAAhAAAAAAAAACEAAAAAAAAAAQAAAAAAAAAAAAAAAAAAAAAAAAAAAAAAAAAAAAAAAAAAAAAAAAAAAAAAAAAAAAAAAAAAAAAAAAAAAAAAAAAAAAAAAAAAAAAAAAAAAAAAAAAAAAAAAAAAAAAAAAAAAAAAAAAAAAAAAAAAAAAAAAAAAAAAAAAAAAAAAAAAAAAAAAAAAAAAAAAAAAAAAAAAAAAAAAAAAAAAAAAAAAAAAAAAAAAAAAAAAAAAAAAAAAAAAAAAAAAAAAAAAAAAAAAAAAAAQQAAAAAAAABRAAAAAAAAAIEAAAAAAAAAAQAAAAAAAABhAAAAAAAAAIEAAAAAAAAAxQAAAAAAAADJAAAAAAAAANkAAAAAAAAA/QAAAAAAAADlAAAAAAAAAM0AAAAAAAAA5QAAAAAAAgEFAAAAAAACAQUAAAAAAAAAxQAAAAAAAAEhAAAAAAACAQ0AAAAAAAABCQAAAAAAAADxAAAAAAAAAM0AAAAAAAAAmQAAAAAAAADtAAAAAAAAAMUAAAAAAAAAcQAAAAAAAACxAAAAAAAAACEAAAAAAAAAQQAAAAAAAAAhAAAAAAAAA8D8AAAAAAAAAAAAAAAAAAAAAAAAAAAAAAAAAAAAAAAAAAAAAAAAAAAAAAAAAAAAAAAAAAAAAAAAAAAAAAAAAAAAAAAAAAAAAAAAAAAAAAAAAAAAAAAAAAAAAAAAAAAAAAAAAAAAAAAAAAAAAAAAAAAAAAAAAAAAAAAAAAAAAAAAAAAAAAAAAAPA/AAAAAAAA8D8AAAAAAADwPwAAAAAAAAhAAAAAAAAACEAAAAAAAAAUQAAAAAAAABRAAAAAAAAAKEAAAAAAAAAmQAAAAAAAAC5AAAAAAAAAO0AAAAAAAAA+QAAAAAAAADpAAAAAAAAAP0AAAAAAAIBEQAAAAAAAAExAAAAAAACAUEAAAAAAAABIQAAAAAAAAElAAAAAAACAUEAAAAAAAABGQAAAAAAAAElAAAAAAACARkAAAAAAAIBCQAAAAAAAAD1AAAAAAAAAO0AAAAAAAIBAQAAAAAAAADlAAAAAAAAAMEAAAAAAAAAyQAAAAAAAADBAAAAAAAAAFEAAAAAAAAAIQAAAAAAAAABAAAAAAAAAAAAAAAAAAADwPwAAAAAAAAAAAAAAAAAAAAAAAAAAAAAAAAAAAAAAAAAAAAAAAAAAAAAAAAAAAAAAAAAAAAAAAAAAAAAAAAAAAAAAAAAAAAAAAAAAAAAAAAAAAAAAAAAAAAAAAAAAAAAAAAAAAAAAAAAAAAAAAAAAAAAAAAAAAAAAAAAAAAAAAPA/AAAAAAAAAEAAAAAAAAAQQAAAAAAAABRAAAAAAAAAIEAAAAAAAAAqQAAAAAAAADBAAAAAAAAAKEAAAAAAAAA3QAAAAAAAADtAAAAAAAAAQUAAAAAAAABFQAAAAAAAQFBAAAAAAADAUkAAAAAAAABYQAAAAAAAAFxAAAAAAAAAXEAAAAAAAIBXQAAAAAAAgFlAAAAAAABAUUAAAAAAAMBSQAAAAAAAAFJAAAAAAACASkAAAAAAAEBRQAAAAAAAAEdAAAAAAAAAREAAAAAAAABBQAAAAAAAADFAAAAAAAAAMUAAAAAAAAAuQAAAAAAAACBAAAAAAAAAEEAAAAAAAADwPwAAAAAAAAAAAAAAAAAA8D8AAAAAAAAAAAAAAAAAAPA/AAAAAAAAAAAAAAAAAAAAAAAAAAAAAAAAAAAAAAAAAAAAAAAAAAAAAAAAAAAAAAAAAAAAAAAAAAAAAAAAAAAAAAAAAAAAAAAAAAAAAAAAAAAAAAAAAAAAAAAAAAAAAAAAAAAAAAAA8D8AAAAAAADwPwAAAAAAAPA/AAAAAAAA8D8AAAAAAAAgQAAAAAAAACpAAAAAAAAAM0AAAAAAAAAzQAAAAAAAAD1AAAAAAAAAQ0AAAAAAAIBFQAAAAAAAAE9AAAAAAAAAVUAAAAAAAEBUQAAAAAAAgFlAAAAAAAAAWkAAAAAAAABgQAAAAAAAgGBAAAAAAAAgYUAAAAAAAIBhQAAAAAAAwF9AAAAAAACAXkAAAAAAAMBdQAAAAAAAgFtAAAAAAABAVEAAAAAAAABEQAAAAAAAQFBAAAAAAACAQ0AAAAAAAIBBQAAAAAAAAD1AAAAAAAAANUAAAAAAAAAcQAAAAAAAABxAAAAAAAAAFEAAAAAAAAAQQAAAAAAAAAAAAAAAAAAAAAAAAAAAAAAAAAAAAAAAAPA/AAAAAAAAAAAAAAAAAAAAAAAAAAAAAAAAAAAAAAAAAAAAAAAAAAAAAAAAAAAAAAAAAAAAAAAAAAAAAAAAAAAAAAAAAAAAAAAAAAAAAAAAAAAAAAAAAAAQQAAAAAAAAPA/AAAAAAAAAEAAAAAAAAAAQAAAAAAAAABAAAAAAAAAHEAAAAAAAAAyQAAAAAAAADhAAAAAAAAAQkAAAAAAAABFQAAAAAAAgE9AAAAAAAAATUAAAAAAAMBXQAAAAAAAwGBAAAAAAABAY0AAAAAAAMBjQAAAAAAAgGhAAAAAAAAgZ0AAAAAAAGBpQAAAAAAAgGlAAAAAAADgZ0AAAAAAAMBmQAAAAAAAIGZAAAAAAABAYkAAAAAAAMBfQAAAAAAAQF9AAAAAAACAVUAAAAAAAEBVQAAAAAAAAExAAAAAAACASkAAAAAAAABDQAAAAAAAADhAAAAAAAAANkAAAAAAAAAmQAAAAAAAABRAAAAAAAAAGEAAAAAAAAAAQAAAAAAAAPA/AAAAAAAACEAAAAAAAAAAAAAAAAAAAAAAAAAAAAAAAAAAAAAAAAAAAAAAAAAAAAAAAAAAAAAAAAAAAAAAAAAAAAAAAAAAAAAAAAAAAAAAAAAAAAAAAAAAAAAAAAAAAAAAAAAAAAAAAAAAAAAAAAAAQAAAAAAAAAhAAAAAAAAAFEAAAAAAAAAiQAAAAAAAADFAAAAAAAAAMUAAAAAAAIBAQAAAAAAAgEZAAAAAAACAUEAAAAAAAABSQAAAAAAAAGBAAAAAAAAgYUAAAAAAAGBlQAAAAAAAYGhAAAAAAABAaEAAAAAAAGBuQAAAAAAAEHJAAAAAAABgcUAAAAAAAPBxQAAAAAAAYHBAAAAAAACgb0AAAAAAAKBvQAAAAAAAIG1AAAAAAAAAZ0AAAAAAAABiQAAAAAAAwFpAAAAAAACAXkAAAAAAAABZQAAAAAAAQFJAAAAAAACAQ0AAAAAAAIBEQAAAAAAAAC5AAAAAAAAAM0AAAAAAAAAoQAAAAAAAABhAAAAAAAAAEEAAAAAAAAAIQAAAAAAAAPA/AAAAAAAA8D8AAAAAAAAAAAAAAAAAAAAAAAAAAAAAAAAAAAAAAAAAAAAAAAAAAAAAAAAAAAAAAAAAAAAAAAAAAAAAAAAAAAAAAAAAAAAAAAAAAAAAAAAAAAAAAAAAAABAAAAAAAAACEAAAAAAAAAAQAAAAAAAACxAAAAAAAAAJEAAAAAAAAAxQAAAAAAAAD5AAAAAAAAARUAAAAAAAIBKQAAAAAAAwFFAAAAAAADAV0AAAAAAAOBgQAAAAAAAQGdAAAAAAAAAbEAAAAAAAFBwQAAAAAAAIG5AAAAAAABAdEAAAAAAAAB3QAAAAAAAkHZAAAAAAABgd0AAAAAAALB2QAAAAAAAIHdAAAAAAADgckAAAAAAAJBzQAAAAAAAYGxAAAAAAACAakAAAAAAAMBqQAAAAAAAIGRAAAAAAACAXUAAAAAAAMBZQAAAAAAAQFBAAAAAAACASEAAAAAAAABAQAAAAAAAADNAAAAAAAAAJEAAAAAAAAAcQAAAAAAAABBAAAAAAAAAAEAAAAAAAAAAQAAAAAAAAPA/AAAAAAAAAAAAAAAAAAAAAAAAAAAAAAAAAAAAAAAAAAAAAAAAAAAAAAAAAAAAAAAAAAAAAAAA8D8AAAAAAAAAAAAAAAAAAAAAAAAAAAAAAEAAAAAAAADwPwAAAAAAABBAAAAAAAAAFEAAAAAAAAAgQAAAAAAAACxAAAAAAAAAN0AAAAAAAIBDQAAAAAAAAE1AAAAAAACATUAAAAAAAIBXQAAAAAAAYGBAAAAAAAAgZkAAAAAAAGBpQAAAAAAAEHFAAAAAAAAwc0AAAAAAADB3QAAAAAAAwHtAAAAAAAAwe0AAAAAAAIB+QAAAAAAA4HtAAAAAAAAAfUAAAAAAACB6QAAAAAAAMHtAAAAAAAAQd0AAAAAAALB2QAAAAAAAgHJAAAAAAACgbkAAAAAAAKBlQAAAAAAAoGFAAAAAAAAAYEAAAAAAAEBWQAAAAAAAQFBAAAAAAACAREAAAAAAAABDQAAAAAAAADhAAAAAAAAAJEAAAAAAAAAcQAAAAAAAACJAAAAAAAAAFEAAAAAAAAAAAAAAAAAAAAAAAAAAAAAAAEAAAAAAAAAAAAAAAAAAAPA/AAAAAAAAAAAAAAAAAAAAAAAAAAAAAAAAAAAAAAAAAAAAAAAAAAAAQAAAAAAAAABAAAAAAAAAAAAAAAAAAADwPwAAAAAAABRAAAAAAAAAJEAAAAAAAAAyQAAAAAAAgEFAAAAAAAAAPkAAAAAAAIBRQAAAAAAAgFhAAAAAAACAXEAAAAAAAMBmQAAAAAAAgGxAAAAAAAAgcUAAAAAAAJB1QAAAAAAAMHlAAAAAAABAfkAAAAAAAMiAQAAAAAAAiIJAAAAAAAAogUAAAAAAABCCQAAAAAAA2IFAAAAAAABAgUAAAAAAAFCAQAAAAAAAQH9AAAAAAADweUAAAAAAAJB4QAAAAAAAAHRAAAAAAABgcEAAAAAAAKBlQAAAAAAAoGFAAAAAAADAXEAAAAAAAEBSQAAAAAAAgEhAAAAAAAAAQkAAAAAAAAAuQAAAAAAAAChAAAAAAAAAJkAAAAAAAAAQQAAAAAAAAAhAAAAAAAAAAEAAAAAAAAAAAAAAAAAAAABAAAAAAAAAAAAAAAAAAAAAAAAAAAAAAPA/AAAAAAAAAAAAAAAAAAAAAAAAAAAAAAAAAAAAAAAAAAAAAAAAAAAAQAAAAAAAAAAAAAAAAAAACEAAAAAAAAAIQAAAAAAAACZAAAAAAAAALkAAAAAAAIBAQAAAAAAAAEpAAAAAAABAVkAAAAAAAMBdQAAAAAAAQGBAAAAAAACAa0AAAAAAAIBxQAAAAAAAgHRAAAAAAADgeUAAAAAAABB/QAAAAAAAIIJAAAAAAABghEAAAAAAAGCDQAAAAAAAoIZAAAAAAAAIh0AAAAAAAHCGQAAAAAAAGIhAAAAAAACQg0AAAAAAAGCDQAAAAAAAwIBAAAAAAABQekAAAAAAAMB3QAAAAAAAwHNAAAAAAADAb0AAAAAAACBnQAAAAAAAQF9AAAAAAAAAWUAAAAAAAIBMQAAAAAAAAElAAAAAAAAANkAAAAAAAAAuQAAAAAAAABxAAAAAAAAACEAAAAAAAAAIQAAAAAAAAAhAAAAAAAAAAAAAAAAAAAAAAAAAAAAAAPA/AAAAAAAAAAAAAAAAAAAAAAAAAAAAAAAAAAAAAAAAAAAAAAAAAAAAAAAAAAAAAAAAAAAAAAAAAEAAAAAAAAAQQAAAAAAAABRAAAAAAAAAIEAAAAAAAAAuQAAAAAAAADlAAAAAAAAARUAAAAAAAABQQAAAAAAAQFlAAAAAAAAgYEAAAAAAAOBnQAAAAAAAgG1AAAAAAACwdEAAAAAAABB7QAAAAAAAUH5AAAAAAAAIgkAAAAAAAICEQAAAAAAAEIhAAAAAAABwikAAAAAAAKiKQAAAAAAAsItAAAAAAAA4i0AAAAAAADiKQAAAAAAAMIhAAAAAAADwhUAAAAAAADiEQAAAAAAAUIJAAAAAAACwe0AAAAAAAKB2QAAAAAAAoG5AAAAAAABAaUAAAAAAAGBlQAAAAAAAwFpAAAAAAADAUUAAAAAAAABHQAAAAAAAADtAAAAAAAAANkAAAAAAAAAkQAAAAAAAABhAAAAAAAAAEEAAAAAAAAAIQAAAAAAAAPA/AAAAAAAAAAAAAAAAAAAAAAAAAAAAAAAAAAAAAAAAAAAAAAAAAAAAAAAAAAAAAAAAAAAAAAAAAAAAAAAAAAAAAAAAAAAAABBAAAAAAAAA8D8AAAAAAAAmQAAAAAAAAChAAAAAAAAAMUAAAAAAAABEQAAAAAAAAEhAAAAAAADAVEAAAAAAAMBbQAAAAAAAwGRAAAAAAACgaEAAAAAAAFByQAAAAAAAEHlAAAAAAABIgEAAAAAAAGCDQAAAAAAAcIVAAAAAAADwiEAAAAAAAGiKQAAAAAAAkI1AAAAAAACQjUAAAAAAACCPQAAAAAAA6I9AAAAAAACIjkAAAAAAAMiLQAAAAAAAQIlAAAAAAAAwh0AAAAAAAJiCQAAAAAAAMH9AAAAAAADweUAAAAAAAGBxQAAAAAAAgGtAAAAAAADAaUAAAAAAAIBhQAAAAAAAQFRAAAAAAAAATEAAAAAAAIBCQAAAAAAAADpAAAAAAAAAIkAAAAAAAAAiQAAAAAAAAAhAAAAAAAAAAEAAAAAAAADwPwAAAAAAAAAAAAAAAAAA8D8AAAAAAAAAAAAAAAAAAAAAAAAAAAAAAAAAAAAAAAAAAAAAAAAAAAAAAAAAAAAAAAAAAAAAAADwPwAAAAAAAAhAAAAAAAAAIEAAAAAAAAAYQAAAAAAAACpAAAAAAACAQUAAAAAAAABMQAAAAAAAQFdAAAAAAABAXkAAAAAAAIBnQAAAAAAAMHFAAAAAAACgdEAAAAAAAKB8QAAAAAAAYIBAAAAAAAA4hUAAAAAAABCIQAAAAAAAAItAAAAAAAA4jkAAAAAAAOyQQAAAAAAAwJBAAAAAAACwkEAAAAAAANSQQAAAAAAAbJFAAAAAAACwj0AAAAAAABiNQAAAAAAA4IlAAAAAAADIhkAAAAAAAEiDQAAAAAAA8HpAAAAAAAAgd0AAAAAAAABxQAAAAAAAoGpAAAAAAABAYUAAAAAAAMBYQAAAAAAAAFBAAAAAAACAQ0AAAAAAAAA2QAAAAAAAADBAAAAAAAAALEAAAAAAAAAIQAAAAAAAAABAAAAAAAAAAEAAAAAAAADwPwAAAAAAAABAAAAAAAAAAAAAAAAAAAAAAAAAAAAAAAAAAAAAAAAAAAAAAAAAAAAAAAAAAAAAAPA/AAAAAAAA8D8AAAAAAAAIQAAAAAAAACJAAAAAAAAAKkAAAAAAAAA4QAAAAAAAAEFAAAAAAACAUEAAAAAAAEBaQAAAAAAA4GFAAAAAAADgaUAAAAAAADBxQAAAAAAAUHVAAAAAAACAfkAAAAAAABCBQAAAAAAAiIZAAAAAAAAYikAAAAAAADiOQAAAAAAAoI9AAAAAAAAMk0AAAAAAACiTQAAAAAAAbJNAAAAAAABskkAAAAAAAJiSQAAAAAAA+JBAAAAAAAAIkUAAAAAAAPiLQAAAAAAAWIdAAAAAAABAhEAAAAAAAEB/QAAAAAAA8HhAAAAAAABQdEAAAAAAAMBqQAAAAAAAoGVAAAAAAAAAWkAAAAAAAABUQAAAAAAAgEFAAAAAAAAAOUAAAAAAAAA2QAAAAAAAABhAAAAAAAAAAAAAAAAAAADwPwAAAAAAAAAAAAAAAAAAAAAAAAAAAAAAAAAAAAAAAAAAAAAAAAAAAAAAAAAAAAAAAAAAAAAAAAAAAAAAAAAAAAAAAAAAAADwPwAAAAAAAAhAAAAAAAAA8D8AAAAAAAAYQAAAAAAAACxAAAAAAAAAO0AAAAAAAABAQAAAAAAAgE5AAAAAAABAW0AAAAAAAABjQAAAAAAA4GlAAAAAAACAcEAAAAAAABB3QAAAAAAA4H9AAAAAAADAg0AAAAAAAHCIQAAAAAAAsIpAAAAAAADAj0AAAAAAAKiRQAAAAAAAmJNAAAAAAAA0lEAAAAAAAHCUQAAAAAAAuJRAAAAAAABUk0AAAAAAANSSQAAAAAAAyJBAAAAAAACwjEAAAAAAALiIQAAAAAAA2IRAAAAAAACIgEAAAAAAAAB5QAAAAAAA0HJAAAAAAAAAb0AAAAAAACBmQAAAAAAAgFpAAAAAAACATUAAAAAAAIBHQAAAAAAAADxAAAAAAAAAKEAAAAAAAAAgQAAAAAAAACJAAAAAAAAAAEAAAAAAAAAAAAAAAAAAAPA/AAAAAAAAAAAAAAAAAAAAAAAAAAAAAAAAAAAAAAAAAAAAAAAAAAAAAAAAAAAAAPA/AAAAAAAA8D8AAAAAAAAAAAAAAAAAABBAAAAAAAAAHEAAAAAAAAAoQAAAAAAAADZAAAAAAACASUAAAAAAAMBQQAAAAAAAAFtAAAAAAAAAYkAAAAAAAMBpQAAAAAAAcHJAAAAAAAAAeEAAAAAAAHB/QAAAAAAAMIRAAAAAAAAgiEAAAAAAAKCMQAAAAAAA0I9AAAAAAAC0kkAAAAAAADiTQAAAAAAATJVAAAAAAAA4lkAAAAAAAMCUQAAAAAAA+JJAAAAAAABskkAAAAAAADCRQAAAAAAAII9AAAAAAABwikAAAAAAAGiGQAAAAAAAEIFAAAAAAADAeUAAAAAAAMB0QAAAAAAAQG1AAAAAAABgZUAAAAAAAIBeQAAAAAAAAFdAAAAAAACAS0AAAAAAAAA9QAAAAAAAACpAAAAAAAAAHEAAAAAAAAAQQAAAAAAAABBAAAAAAAAA8D8AAAAAAADwPwAAAAAAAAAAAAAAAAAAAAAAAAAAAAAAAAAAAAAAAAAAAAAAAAAAAAAAAAAAAAAAAAAAAAAAAAAAAAAAAAAACEAAAAAAAAAAQAAAAAAAABRAAAAAAAAALEAAAAAAAAA/QAAAAAAAAD9AAAAAAABAUkAAAAAAAMBYQAAAAAAAoGBAAAAAAAAgZ0AAAAAAANBxQAAAAAAAMHpAAAAAAAAwgEAAAAAAAMiDQAAAAAAAoIhAAAAAAADAjEAAAAAAABiRQAAAAAAAxJFAAAAAAACsk0AAAAAAAMyUQAAAAAAA4JVAAAAAAAAUlkAAAAAAADSUQAAAAAAAYJNAAAAAAAAokUAAAAAAAKCOQAAAAAAAuIpAAAAAAAD4hkAAAAAAAJiBQAAAAAAAgHxAAAAAAAAAdEAAAAAAACBwQAAAAAAAAGZAAAAAAADAYUAAAAAAAEBWQAAAAAAAgENAAAAAAAAAPkAAAAAAAAAwQAAAAAAAACJAAAAAAAAAHEAAAAAAAAAAQAAAAAAAAAAAAAAAAAAAAAAAAAAAAAAAAAAAAAAAAAAAAAAAAAAAAAAAAAAAAAAAAAAAAAAAAAAAAAAAAAAA8D8AAAAAAAAAAAAAAAAAAAhAAAAAAAAACEAAAAAAAAAIQAAAAAAAAChAAAAAAAAAO0AAAAAAAABDQAAAAAAAwFBAAAAAAABAV0AAAAAAAGBhQAAAAAAAoGtAAAAAAABwckAAAAAAAAB7QAAAAAAAkH9AAAAAAAC4hEAAAAAAAOCHQAAAAAAA6ItAAAAAAABAkEAAAAAAAMyRQAAAAAAA0JJAAAAAAADYk0AAAAAAAPyUQAAAAAAAPJRAAAAAAAA4k0AAAAAAADSSQAAAAAAAKJFAAAAAAACIjEAAAAAAAJCMQAAAAAAAuIRAAAAAAABogEAAAAAAAJB7QAAAAAAAwHVAAAAAAABgcUAAAAAAACBpQAAAAAAAQFpAAAAAAAAAU0AAAAAAAIBKQAAAAAAAADRAAAAAAAAAMEAAAAAAAAAcQAAAAAAAABhAAAAAAAAAFEAAAAAAAADwPwAAAAAAAAAAAAAAAAAAAAAAAAAAAAAAAAAAAAAAAPA/AAAAAAAAAAAAAAAAAADwPwAAAAAAAAAAAAAAAAAAAAAAAAAAAADwPwAAAAAAAABAAAAAAAAAFEAAAAAAAAAuQAAAAAAAAD1AAAAAAAAAQEAAAAAAAABPQAAAAAAAwFVAAAAAAACgYEAAAAAAACBpQAAAAAAAQHNAAAAAAABgdkAAAAAAAMB9QAAAAAAAOINAAAAAAAAwh0AAAAAAAEiKQAAAAAAAtJBAAAAAAABEkUAAAAAAALySQAAAAAAAIJNAAAAAAAAAlEAAAAAAAMSUQAAAAAAAwJNAAAAAAAAYkUAAAAAAANSQQAAAAAAAyItAAAAAAADwiEAAAAAAALCDQAAAAAAAGIFAAAAAAADge0AAAAAAAJBxQAAAAAAAwGxAAAAAAADgZUAAAAAAAIBcQAAAAAAAQFFAAAAAAACARUAAAAAAAAA9QAAAAAAAAChAAAAAAAAAJEAAAAAAAAAIQAAAAAAAAAAAAAAAAAAA8D8AAAAAAAAAAAAAAAAAAAAAAAAAAAAAAAAAAAAAAAAAAAAAAAAAAAAAAAAAAAAAAAAAAAAAAAAAAAAAAAAAAPA/AAAAAAAA8D8AAAAAAAAcQAAAAAAAABBAAAAAAAAALkAAAAAAAAA5QAAAAAAAAD5AAAAAAACAUEAAAAAAAEBXQAAAAAAAoGBAAAAAAACAZkAAAAAAAEBuQAAAAAAAMHRAAAAAAAAQfEAAAAAAAHCAQAAAAAAA6INAAAAAAADwh0AAAAAAAKiNQAAAAAAAyI9AAAAAAADgkUAAAAAAACSSQAAAAAAAXJFAAAAAAAB4kUAAAAAAADiRQAAAAAAAQJBAAAAAAABYjkAAAAAAACiMQAAAAAAASIdAAAAAAADYgkAAAAAAAJB9QAAAAAAAUHdAAAAAAADwcUAAAAAAAMBqQAAAAAAA4GJAAAAAAADAW0AAAAAAAMBRQAAAAAAAgEhAAAAAAAAAOUAAAAAAAAAmQAAAAAAAAAhAAAAAAAAAFEAAAAAAAAAIQAAAAAAAAAAAAAAAAAAAAAAAAAAAAAAAAAAAAAAAAPA/AAAAAAAAAAAAAAAAAADwPwAAAAAAAAAAAAAAAAAA8D8AAAAAAADwPwAAAAAAAABAAAAAAAAAAEAAAAAAAAAcQAAAAAAAAChAAAAAAAAANkAAAAAAAAA4QAAAAAAAAEhAAAAAAAAAVUAAAAAAAMBbQAAAAAAAQGZAAAAAAAAgb0AAAAAAAFBxQAAAAAAAYHhAAAAAAABwfkAAAAAAADCDQAAAAAAAeIZAAAAAAAAgikAAAAAAAMCMQAAAAAAAMI9AAAAAAABYj0AAAAAAAHSQQAAAAAAAOJBAAAAAAACYjkAAAAAAAFiOQAAAAAAAKItAAAAAAADQiEAAAAAAADiFQAAAAAAAeIBAAAAAAACgfEAAAAAAANB0QAAAAAAAIHFAAAAAAABAZkAAAAAAACBgQAAAAAAAQFlAAAAAAAAAUEAAAAAAAIBDQAAAAAAAADdAAAAAAAAAFEAAAAAAAAAiQAAAAAAAAABAAAAAAAAAAEAAAAAAAAAAAAAAAAAAAAAAAAAAAAAAAAAAAAAAAAAAAAAAAAAAAAAAAAAAAAAAAAAAAAAAAAAAAAAAAAAAAPA/AAAAAAAAAAAAAAAAAAAQQAAAAAAAAPA/AAAAAAAAJEAAAAAAAAAgQAAAAAAAADJAAAAAAAAAOkAAAAAAAIBMQAAAAAAAgFJAAAAAAADAW0AAAAAAACBiQAAAAAAAgGhAAAAAAAAQcUAAAAAAAGB2QAAAAAAAoH1AAAAAAABQgUAAAAAAACCDQAAAAAAAyIhAAAAAAACQiEAAAAAAAJCKQAAAAAAAII1AAAAAAACYjEAAAAAAAOCNQAAAAAAAOItAAAAAAABgikAAAAAAACiHQAAAAAAA8IVAAAAAAACggUAAAAAAADB9QAAAAAAAkHZAAAAAAABgc0AAAAAAAEBuQAAAAAAAQGNAAAAAAABgYEAAAAAAAEBXQAAAAAAAAE1AAAAAAAAAPkAAAAAAAAA2QAAAAAAAACxAAAAAAAAAEEAAAAAAAADwPwAAAAAAAPA/AAAAAAAA8D8AAAAAAAAAAAAAAAAAAAAAAAAAAAAAAAAAAAAAAAAAAAAAAAAAAPA/AAAAAAAAAAAAAAAAAADwPwAAAAAAAAAAAAAAAAAAAAAAAAAAAAAAQAAAAAAAAABAAAAAAAAAKEAAAAAAAAAuQAAAAAAAADZAAAAAAAAAP0AAAAAAAIBPQAAAAAAAwFFAAAAAAABgYEAAAAAAAEBoQAAAAAAAIG1AAAAAAACQcEAAAAAAAKB4QAAAAAAAAHtAAAAAAAB4gUAAAAAAAPCDQAAAAAAAQIRAAAAAAAC4hkAAAAAAAEiJQAAAAAAAkIhAAAAAAABoiUAAAAAAAGiHQAAAAAAAQIdAAAAAAADQgkAAAAAAADiCQAAAAAAAcH9AAAAAAADwd0AAAAAAAOB1QAAAAAAAYHBAAAAAAABAZkAAAAAAAOBiQAAAAAAAgFtAAAAAAACAUkAAAAAAAIBJQAAAAAAAADlAAAAAAAAAMUAAAAAAAAAkQAAAAAAAACBAAAAAAAAACEAAAAAAAAAAQAAAAAAAAPA/AAAAAAAAAEAAAAAAAAAAAAAAAAAAAAAAAAAAAAAAAAAAAAAAAAAAAAAAAAAAAAAAAAAAAAAAAAAAAAAAAAAAAAAAAAAAAABAAAAAAAAA8D8AAAAAAAAIQAAAAAAAAPA/AAAAAAAAIEAAAAAAAAA0QAAAAAAAAD5AAAAAAACASkAAAAAAAEBRQAAAAAAAgFhAAAAAAAAgYkAAAAAAAIBlQAAAAAAAAG1AAAAAAAAwdEAAAAAAAKB4QAAAAAAAgHxAAAAAAADgf0AAAAAAAOiAQAAAAAAAKIVAAAAAAACQhEAAAAAAAHCEQAAAAAAAkIRAAAAAAACAg0AAAAAAAJiCQAAAAAAASIFAAAAAAADAfkAAAAAAAOB5QAAAAAAAYHRAAAAAAAAAcEAAAAAAAEBuQAAAAAAAIGNAAAAAAADAX0AAAAAAAMBTQAAAAAAAgE5AAAAAAAAAQUAAAAAAAABAQAAAAAAAAChAAAAAAAAAEEAAAAAAAAAIQAAAAAAAAABAAAAAAAAA8D8AAAAAAADwPwAAAAAAAAAAAAAAAAAAAAAAAAAAAAAAAAAAAAAAAAAAAAAAAAAAAAAAAAAAAAAAAAAAAAAAAAAAAAAAAAAA8D8AAAAAAAAAAAAAAAAAAABAAAAAAAAAFEAAAAAAAAAIQAAAAAAAACBAAAAAAAAANEAAAAAAAAA3QAAAAAAAADxAAAAAAACATkAAAAAAAMBRQAAAAAAAwF1AAAAAAACgY0AAAAAAAABqQAAAAAAAoG1AAAAAAACQc0AAAAAAAFB2QAAAAAAAoHpAAAAAAABQe0AAAAAAAHB/QAAAAAAAUH5AAAAAAADogEAAAAAAANiAQAAAAAAAkH5AAAAAAADwfUAAAAAAABCAQAAAAAAAUHdAAAAAAADgckAAAAAAAFBxQAAAAAAAoGhAAAAAAAAgZ0AAAAAAAABiQAAAAAAAwFZAAAAAAAAAUUAAAAAAAABJQAAAAAAAgEFAAAAAAAAANEAAAAAAAAAoQAAAAAAAABBAAAAAAAAACEAAAAAAAAAIQAAAAAAAAPA/AAAAAAAAAAAAAAAAAADwPwAAAAAAAPA/AAAAAAAAAAAAAAAAAAAAAAAAAAAAAAAAAAAAAAAAAAAAAAAAAAAAAAAAAAAAAAAAAAAAAAAAAEAAAAAAAADwPwAAAAAAAAAAAAAAAAAAEEAAAAAAAAAcQAAAAAAAACBAAAAAAAAANUAAAAAAAIBAQAAAAAAAgENAAAAAAACATkAAAAAAAABUQAAAAAAAQF9AAAAAAAAAY0AAAAAAAABnQAAAAAAA4G1AAAAAAABAcUAAAAAAADB1QAAAAAAA8HVAAAAAAACQdkAAAAAAAMB3QAAAAAAAAHlAAAAAAACQeUAAAAAAAFB4QAAAAAAA0HhAAAAAAADQc0AAAAAAAOBwQAAAAAAAYGtAAAAAAACgakAAAAAAAEBnQAAAAAAAoGBAAAAAAACAXkAAAAAAAEBQQAAAAAAAgEhAAAAAAACAQEAAAAAAAAA8QAAAAAAAADJAAAAAAAAAJkAAAAAAAAAgQAAAAAAAABRAAAAAAAAAAAAAAAAAAAAAAAAAAAAAAPA/AAAAAAAAAAAAAAAAAAAAAAAAAAAAAAAAAAAAAAAAAAAAAAAAAAAAAAAAAAAAAAAAAAAAAAAAAAAAAAAAAAAAAAAAAAAAAAAAAAAAAAAAAAAAAAAAAAAAQAAAAAAAAAAAAAAAAAAAFEAAAAAAAAAgQAAAAAAAADdAAAAAAAAAN0AAAAAAAABFQAAAAAAAAEdAAAAAAACAUkAAAAAAAIBZQAAAAAAAgF1AAAAAAACgYUAAAAAAAABmQAAAAAAAAGpAAAAAAAAAbEAAAAAAAIByQAAAAAAAYHJAAAAAAAAAckAAAAAAAIByQAAAAAAAMHVAAAAAAABgckAAAAAAAKBxQAAAAAAAUHBAAAAAAAAga0AAAAAAAEBnQAAAAAAAIGNAAAAAAAAAYUAAAAAAAABXQAAAAAAAQFFAAAAAAACARUAAAAAAAIBFQAAAAAAAAEFAAAAAAAAAN0AAAAAAAAAkQAAAAAAAACBAAAAAAAAAAEAAAAAAAADwPwAAAAAAAAAAAAAAAAAA8D8AAAAAAADwPwAAAAAAAAAAAAAAAAAAAAAAAAAAAADwPwAAAAAAAAAAAAAAAAAAAAAAAAAAAAAAAAAAAAAAAAAAAAAAAAAAAAAAAAAAAAAAAAAAAAAAAAAAAAAAAAAA8D8AAAAAAAAIQAAAAAAAAAhAAAAAAAAAHEAAAAAAAAAYQAAAAAAAADhAAAAAAAAAOUAAAAAAAABBQAAAAAAAAEZAAAAAAADAUkAAAAAAAMBRQAAAAAAAQF5AAAAAAACAWkAAAAAAAGBjQAAAAAAAQGZAAAAAAACAbUAAAAAAAEBsQAAAAAAAQGlAAAAAAABgaUAAAAAAAOBtQAAAAAAA4GxAAAAAAABAaEAAAAAAAEBnQAAAAAAAAGJAAAAAAAAAYkAAAAAAAEBeQAAAAAAAAFVAAAAAAADAUUAAAAAAAMBTQAAAAAAAgEZAAAAAAAAANkAAAAAAAAA1QAAAAAAAAC5AAAAAAAAAIkAAAAAAAAAgQAAAAAAAABBAAAAAAAAACEAAAAAAAADwPwAAAAAAAAAAAAAAAAAA8D8AAAAAAAAAAAAAAAAAAAAAAAAAAAAAAAAAAAAAAAAAAAAAAAAAAAAAAAAAAAAAAAAAAAAAAADwPwAAAAAAAAAAAAAAAAAA8D8AAAAAAAAAAAAAAAAAAAAAAAAAAAAAAAAAAAAAAAAIQAAAAAAAABhAAAAAAAAAJEAAAAAAAAAmQAAAAAAAACRAAAAAAAAAOkAAAAAAAABAQAAAAAAAAE1AAAAAAAAASUAAAAAAAABNQAAAAAAAwFtAAAAAAABAXkAAAAAAAOBhQAAAAAAAQF9AAAAAAABgYkAAAAAAAMBkQAAAAAAA4GNAAAAAAAAAYkAAAAAAAEBlQAAAAAAAYGNAAAAAAADgYEAAAAAAAMBbQAAAAAAAQFpAAAAAAAAAU0AAAAAAAMBTQAAAAAAAAE1AAAAAAACAQ0AAAAAAAAA1QAAAAAAAADlAAAAAAAAALkAAAAAAAAAiQAAAAAAAABBAAAAAAAAAEEAAAAAAAAAAQAAAAAAAAPA/AAAAAAAAAAAAAAAAAAAAAAAAAAAAAAAAAAAAAAAA8D8AAAAAAAAAAAAAAAAAAAAAAAAAAAAAAAAAAAAAAAAAAAAAAAAAAAAAAAAAAAAAAAAAAAAAAAAAAAAAAAAAAPA/AAAAAAAAAAAAAAAAAAAAQAAAAAAAAAhAAAAAAAAAEEAAAAAAAAAYQAAAAAAAABhAAAAAAAAAAEAAAAAAAAAsQAAAAAAAACxAAAAAAAAANUAAAAAAAABDQAAAAAAAgEpAAAAAAAAARUAAAAAAAIBNQAAAAAAAwFFAAAAAAAAAWEAAAAAAAMBYQAAAAAAAAFhAAAAAAABAWkAAAAAAAEBbQAAAAAAAwFtAAAAAAADAVUAAAAAAAIBWQAAAAAAAQFpAAAAAAAAAVkAAAAAAAABQQAAAAAAAgEtAAAAAAACARkAAAAAAAIBDQAAAAAAAADpAAAAAAAAAPkAAAAAAAAAuQAAAAAAAAChAAAAAAAAAEEAAAAAAAAAQQAAAAAAAAABAAAAAAAAA8D8AAAAAAAAAAAAAAAAAAAAAAAAAAAAAAAAAAAAAAAAAAAAAAAAAAPA/AAAAAAAAAAAAAAAAAAAAAAAAAAAAAAAAAAAAAAAAAAAAAAAAAAAAAAAAAAAAAAAAAAAAAAAAAAAAAAAAAAAAAAAAAAAAAAAAAAAAAAAA8D8AAAAAAADwPwAAAAAAAABAAAAAAAAA8D8AAAAAAAAQQAAAAAAAABhAAAAAAAAAEEAAAAAAAAAiQAAAAAAAAC5AAAAAAAAANEAAAAAAAAA4QAAAAAAAAEJAAAAAAACAQkAAAAAAAABJQAAAAAAAgEhAAAAAAACATUAAAAAAAIBOQAAAAAAAgFJAAAAAAAAAUUAAAAAAAEBQQAAAAAAAQFBAAAAAAADAUkAAAAAAAABRQAAAAAAAAEZAAAAAAACAREAAAAAAAABHQAAAAAAAADxAAAAAAAAAOkAAAAAAAAAyQAAAAAAAAChAAAAAAAAAIkAAAAAAAAAcQAAAAAAAAABAAAAAAAAAAEAAAAAAAAAIQAAAAAAAAAAAAAAAAAAA8D8AAAAAAADwPwAAAAAAAAAAAAAAAAAAAAAAAAAAAAAAAAAAAAAAAAAAAAAAAAAAAAAAAAAAAAAAAAAAAAAAAAAAAAAAAAAAAAAAAAAAAAAAAAAAAAAAAAAAAAAAAAAAAAAAAAAAAAAAAAAAAAAAAAAAAAAAAAAAAAAAAAAAAAAIQAAAAAAAAAhAAAAAAAAA8D8AAAAAAAAAQAAAAAAAACBAAAAAAAAAIEAAAAAAAAAmQAAAAAAAACJAAAAAAAAAMkAAAAAAAAA2QAAAAAAAADpAAAAAAAAAPEAAAAAAAIBAQAAAAAAAAEhAAAAAAACAQkAAAAAAAABFQAAAAAAAgEhAAAAAAACAQ0AAAAAAAIBHQAAAAAAAgEtAAAAAAACAQ0AAAAAAAAA7QAAAAAAAADtAAAAAAAAAQEAAAAAAAAA0QAAAAAAAADZAAAAAAAAAKEAAAAAAAAAiQAAAAAAAABRAAAAAAAAAGEAAAAAAAAAYQAAAAAAAABRAAAAAAAAAAAAAAAAAAAAAAAAAAAAAAAAAAAAAAAAAAAAAAAAAAAAAAAAAAAAAAAAAAAAAAAAAAAAAAAAAAAAAAAAAAAAAAAAAAAAAAAAAAAAAAAAAAAAAAAAAAAAAAAAAAAAAAAAAAAAAAAAAAAAAAAAAAAAAAAAAAAAAAAAAAAAAAAAAAAAAAAAAAAAAAAAAAAAAAAAAAEAAAAAAAADwPwAAAAAAAAAAAAAAAAAACEAAAAAAAAAAAAAAAAAAABBAAAAAAAAAHEAAAAAAAAAcQAAAAAAAACpAAAAAAAAAJkAAAAAAAAA1QAAAAAAAADZAAAAAAAAANEAAAAAAAAAyQAAAAAAAADVAAAAAAAAAQUAAAAAAAAA7QAAAAAAAADtAAAAAAAAAPUAAAAAAAIBAQAAAAAAAADJAAAAAAAAAM0AAAAAAAAAzQAAAAAAAACBAAAAAAAAALkAAAAAAAAAmQAAAAAAAABBAAAAAAAAAFEAAAAAAAAAUQAAAAAAAABhAAAAAAAAAAEAAAAAAAADwPwAAAAAAAAAAAAAAAAAAAAAAAAAAAAAAAAAAAAAAAAAAAAAAAAAA8D8AAAAAAADwPwAAAAAAAAAAAAAAAAAAAAAAAAAAAAAAAAAAAAAAAAAAAAAAAAAAAAAAAAAAAAAAAAAAAAAAAAAAAAAAAAAAAAAAAAAAAAAAAAAAAAAAAAAAAAAAAAAA8D8AAAAAAAAAAAAAAAAAAAAAAAAAAAAAAAAAAAAAAAAAAAAAAAAAAAAAAAAAAAAAGEAAAAAAAAAAAAAAAAAAAAhAAAAAAAAACEAAAAAAAAAcQAAAAAAAAChAAAAAAAAAJkAAAAAAAAAgQAAAAAAAAChAAAAAAAAAMkAAAAAAAAAmQAAAAAAAADxAAAAAAAAANEAAAAAAAAAzQAAAAAAAACpAAAAAAAAAMkAAAAAAAAAcQAAAAAAAAChAAAAAAAAAKkAAAAAAAAAiQAAAAAAAACJAAAAAAAAAGEAAAAAAAAAIQAAAAAAAAAhAAAAAAAAAEEAAAAAAAAAAAAAAAAAAAAAAAAAAAAAAAAAAAAAAAAAAQAAAAAAAAAAAAAAAAAAAAAAAAAAAAAAAAAAAAAAAAAAAAAAAAAAAAAAAAAAAAAAAAAAAAAAAAAAAAAAAAAAAAAAAAAAAAAAAAAAAAAAAAAAAAAAAAAAAAAAAAAAAAAAAAAAAAAAAAAAAAAAAAAAAAAAAAAAAAAAAAAAAAAAAAAAAAAAAAAAA8D8AAAAAAAAAAAAAAAAAAAAAAAAAAAAA8D8AAAAAAADwPwAAAAAAAPA/AAAAAAAA8D8AAAAAAAAAAAAAAAAAABRAAAAAAAAAEEAAAAAAAAAQQAAAAAAAABxAAAAAAAAAIkAAAAAAAAAkQAAAAAAAABhAAAAAAAAAKkAAAAAAAAAUQAAAAAAAABRAAAAAAAAAIEAAAAAAAAAcQAAAAAAAABxAAAAAAAAAGEAAAAAAAAAoQAAAAAAAABhAAAAAAAAAHEAAAAAAAADwPwAAAAAAAPA/AAAAAAAAAEAAAAAAAAAUQAAAAAAAAPA/AAAAAAAAAEAAAAAAAAAAAAAAAAAAAAAAAAAAAAAAAAAAAAAAAAAAAAAAAAAAAAAAAAAAAAAAAAAAAAAAAAAAAAAAAAAAAAAAAAAAAAAAAAAAAAAAAAAAAAAAAAAAAAAAAAAAAAAAAAAAAAAAAAAAAAAAAAAAAAAAAAAAAAAAAAAAAAAAAAAAAAAAAAAAAAAAAAAAAAAAAAAAAAAAAAAAAAAAAAAAAAAAAAAAAAAAAAAAAAAAAAAAAAAAAAAAAAAAAAAAAAAA8D8AAAAAAADwPwAAAAAAAABAAAAAAAAACEAAAAAAAADwPwAAAAAAAAhAAAAAAAAAAAAAAAAAAADwPwAAAAAAAABAAAAAAAAAGEAAAAAAAAAYQAAAAAAAACBAAAAAAAAAIkAAAAAAAAAAQAAAAAAAABBAAAAAAAAAIkAAAAAAAAAIQAAAAAAAABBAAAAAAAAAFEAAAAAAAAAAQAAAAAAAABRAAAAAAAAA8D8AAAAAAADwPwAAAAAAAAAAAAAAAAAA8D8AAAAAAAAAAAAAAAAAAABAAAAAAAAAAAAAAAAAAAAAAAAAAAAAAPA/AAAAAAAAAAAAAAAAAAAAAAAAAAAAAAAAAAAAAAAAAAAAAAAAAAAAAAAAAAAAAAAAAAAAAAAAAAAAAAAAAAAAAAAAAAAAAAAAAAAAAAAAAAAAAAAAAAAAAAAAAAAAAAAAAAAAAAAAAAAAAAAAAAAAAAAAAAAAAAAAAAAAAAAAAAAAAAAAAAAAAAAAAAAAAAAAAAAAAAAAAAAAAAAAAADwPwAAAAAAAAAAAAAAAAAAAAAAAAAAAAAAAAAAAAAAAAAAAAAAAAAAAAAAAAAAAADwPwAAAAAAAABAAAAAAAAACEAAAAAAAAAAQAAAAAAAABBAAAAAAAAAHEAAAAAAAAAAAAAAAAAAABhAAAAAAAAAAEAAAAAAAAAAAAAAAAAAAAhAAAAAAAAAAAAAAAAAAAAQQAAAAAAAAPA/AAAAAAAAAEAAAAAAAAAAAAAAAAAAAAAAAAAAAAAACEAAAAAAAADwPwAAAAAAAAAAAAAAAAAAAAAAAAAAAADwPwAAAAAAAAAAAAAAAAAAAAAAAAAAAAAAAAAAAAAAAAAAAAAAAAAAAAAAAAAAAAAAAAAAAAAAAAAAAAAAAAAAAAAAAAAAAAAAAAAAAAAAAAAAAAAAAAAAAAAAAAAAAAAAAAAAAAAAAAAAAAAAAAAAAAAAAAAAAAAAAAAAAAAAAAAAAAAAAAAAAAAAAAAAAAAAAAAAAAAAAAAAAAAAAAAAAAAAAAAAAAAAAAAAAAAAAAAAAAAAAAAAAAAAAAAAAAAAAAAAAAAAAAAAAAAAAAAAAAAAAAAAAAAAAAAAAAAAAAAAAAAAAAAAAAAAAAAAAAAAAAAAAAAAAPA/AAAAAAAAAAAAAAAAAADwPwAAAAAAAAAAAAAAAAAAAAAAAAAAAAAAQAAAAAAAAPA/AAAAAAAAAEAAAAAAAAAAAAAAAAAAAPA/AAAAAAAA8D8AAAAAAADwPwAAAAAAAAAAAAAAAAAAAAAAAAAAAAAAAAAAAAAAAAAAAAAAAAAA8D8AAAAAAAAAAAAAAAAAAABAAAAAAAAA8D8AAAAAAADwPwAAAAAAAAAAAAAAAAAAAAAAAAAAAAAAAAAAAAAAAAAAAAAAAAAAAAAAAAAAAAAAAAAAAAAAAAAAAAAAAAAAAAAAAAAAAAAAAAAAAAAAAAAAAAAAAAAAAAAAAAAAAAAAAAAAAAAAAAAAAAAAAAAAAAAAAAAAAAAAAAAAAAAAAAAAAAAAAAAAAAAAAAAAAAAAAAAAAAAAAAAAAAAAAAAAAAAAAAAAAAAAAAAAAAAAAAAAAAAAAAAA8D8AAAAAAAAAAAAAAAAAAAAAAAAAAAAAAAAAAAAAAAAAAAAAAAAAAAAAAAAAAAAAAAAAAAAAAAAAAAAAAAAAAAAAAAAAAAAA8D8AAAAAAAAAQAAAAAAAAAAAAAAAAAAA8D8AAAAAAAAAQAAAAAAAAPA/AAAAAAAAAEAAAAAAAAAAAAAAAAAAAAAAAAAAAAAA8D8AAAAAAAAAAAAAAAAAAAAAAAAAAAAAAAAAAAAAAAAAAAAAAAAAAAAAAAAAAAAAAAAAAAAAAAAAAAAAAAAAAPA/AAAAAAAAAAAAAAAAAAAAAAAAAAAAAAAAAAAAAAAAAAAAAAAAAAAAAAAAAAAAAAAAAAAAAAAAAAAAAAAAAAAAAAAAAAAAAAAAAAAAAAAAAAAAAAAAAAAAAAAAAAAAAAAAAAAAAAAAAAAAAAAAAAAAAAAAAAAAAAAAAAAAAAAAAAAAAAAAAAAAAAAAAAAAAAAAAAAAAAAAAAAAAAAAAAAAAAAAAAAAAAAAAAAAAAAAAAAAAAAAAAAAAAAAAAAAAAAAAAAAAAAAAAAAAAAAAAAAAAAAAAAAAAAAAAAAAAAAAAAAAAAAAADwPwAAAAAAAPA/AAAAAAAAAAAAAAAAAAAAAAAAAAAAAAAAAAAAAAAAAAAAAAAAAAAAAAAAAAAAAAAAAAAAAAAA8D8AAAAAAAAAAAAAAAAAAAAAAAAAAAAAAAAAAAAAAADwPwAAAAAAAAAAAAAAAAAA8D8AAAAAAAAAAAAAAAAAAAAAAAAAAAAAAAAAAAAAAAAAAAAAAAAAAAAAAAAAAAAAAAAAAAAAAAAAAAAAAAAAAAAAAAAAAAAAAAAAAAAAAAAAAAAAAAAAAAAAAAAAAAAAAAAAAAAAAAAAAAAAAAAAAAAAAAAAAAAAAAAAAAAAAAAAAAAAAAAAAAAAAAAAAAAAAAA=\",\"dtype\":\"float64\",\"shape\":[50,50]}],\"xmax\":[0.001942209600534414],\"xmin\":[-0.0020501499009710333],\"ymax\":[0.0018613836707154733],\"ymin\":[-0.002048897391452437]},\"selected\":{\"id\":\"1479\",\"type\":\"Selection\"},\"selection_policy\":{\"id\":\"1478\",\"type\":\"UnionRenderers\"}},\"id\":\"1385\",\"type\":\"ColumnDataSource\"},{\"attributes\":{\"below\":[{\"id\":\"1395\",\"type\":\"LinearAxis\"}],\"center\":[{\"id\":\"1399\",\"type\":\"Grid\"},{\"id\":\"1404\",\"type\":\"Grid\"}],\"left\":[{\"id\":\"1400\",\"type\":\"LinearAxis\"}],\"plot_height\":500,\"plot_width\":500,\"renderers\":[{\"id\":\"1423\",\"type\":\"GlyphRenderer\"}],\"title\":{\"id\":\"1458\",\"type\":\"Title\"},\"toolbar\":{\"id\":\"1411\",\"type\":\"Toolbar\"},\"x_range\":{\"id\":\"1387\",\"type\":\"Range1d\"},\"x_scale\":{\"id\":\"1391\",\"type\":\"LinearScale\"},\"y_range\":{\"id\":\"1389\",\"type\":\"Range1d\"},\"y_scale\":{\"id\":\"1393\",\"type\":\"LinearScale\"}},\"id\":\"1386\",\"subtype\":\"Figure\",\"type\":\"Plot\"},{\"attributes\":{\"palette\":[\"white\",\"#440255\",\"#440357\",\"#450558\",\"#45065A\",\"#45085B\",\"#46095C\",\"#460B5E\",\"#460C5F\",\"#460E61\",\"#470F62\",\"#471163\",\"#471265\",\"#471466\",\"#471567\",\"#471669\",\"#47186A\",\"#48196B\",\"#481A6C\",\"#481C6E\",\"#481D6F\",\"#481E70\",\"#482071\",\"#482172\",\"#482273\",\"#482374\",\"#472575\",\"#472676\",\"#472777\",\"#472878\",\"#472A79\",\"#472B7A\",\"#472C7B\",\"#462D7C\",\"#462F7C\",\"#46307D\",\"#46317E\",\"#45327F\",\"#45347F\",\"#453580\",\"#453681\",\"#443781\",\"#443982\",\"#433A83\",\"#433B83\",\"#433C84\",\"#423D84\",\"#423E85\",\"#424085\",\"#414186\",\"#414286\",\"#404387\",\"#404487\",\"#3F4587\",\"#3F4788\",\"#3E4888\",\"#3E4989\",\"#3D4A89\",\"#3D4B89\",\"#3D4C89\",\"#3C4D8A\",\"#3C4E8A\",\"#3B508A\",\"#3B518A\",\"#3A528B\",\"#3A538B\",\"#39548B\",\"#39558B\",\"#38568B\",\"#38578C\",\"#37588C\",\"#37598C\",\"#365A8C\",\"#365B8C\",\"#355C8C\",\"#355D8C\",\"#345E8D\",\"#345F8D\",\"#33608D\",\"#33618D\",\"#32628D\",\"#32638D\",\"#31648D\",\"#31658D\",\"#31668D\",\"#30678D\",\"#30688D\",\"#2F698D\",\"#2F6A8D\",\"#2E6B8E\",\"#2E6C8E\",\"#2E6D8E\",\"#2D6E8E\",\"#2D6F8E\",\"#2C708E\",\"#2C718E\",\"#2C728E\",\"#2B738E\",\"#2B748E\",\"#2A758E\",\"#2A768E\",\"#2A778E\",\"#29788E\",\"#29798E\",\"#287A8E\",\"#287A8E\",\"#287B8E\",\"#277C8E\",\"#277D8E\",\"#277E8E\",\"#267F8E\",\"#26808E\",\"#26818E\",\"#25828E\",\"#25838D\",\"#24848D\",\"#24858D\",\"#24868D\",\"#23878D\",\"#23888D\",\"#23898D\",\"#22898D\",\"#228A8D\",\"#228B8D\",\"#218C8D\",\"#218D8C\",\"#218E8C\",\"#208F8C\",\"#20908C\",\"#20918C\",\"#1F928C\",\"#1F938B\",\"#1F948B\",\"#1F958B\",\"#1F968B\",\"#1E978A\",\"#1E988A\",\"#1E998A\",\"#1E998A\",\"#1E9A89\",\"#1E9B89\",\"#1E9C89\",\"#1E9D88\",\"#1E9E88\",\"#1E9F88\",\"#1EA087\",\"#1FA187\",\"#1FA286\",\"#1FA386\",\"#20A485\",\"#20A585\",\"#21A685\",\"#21A784\",\"#22A784\",\"#23A883\",\"#23A982\",\"#24AA82\",\"#25AB81\",\"#26AC81\",\"#27AD80\",\"#28AE7F\",\"#29AF7F\",\"#2AB07E\",\"#2BB17D\",\"#2CB17D\",\"#2EB27C\",\"#2FB37B\",\"#30B47A\",\"#32B57A\",\"#33B679\",\"#35B778\",\"#36B877\",\"#38B976\",\"#39B976\",\"#3BBA75\",\"#3DBB74\",\"#3EBC73\",\"#40BD72\",\"#42BE71\",\"#44BE70\",\"#45BF6F\",\"#47C06E\",\"#49C16D\",\"#4BC26C\",\"#4DC26B\",\"#4FC369\",\"#51C468\",\"#53C567\",\"#55C666\",\"#57C665\",\"#59C764\",\"#5BC862\",\"#5EC961\",\"#60C960\",\"#62CA5F\",\"#64CB5D\",\"#67CC5C\",\"#69CC5B\",\"#6BCD59\",\"#6DCE58\",\"#70CE56\",\"#72CF55\",\"#74D054\",\"#77D052\",\"#79D151\",\"#7CD24F\",\"#7ED24E\",\"#81D34C\",\"#83D34B\",\"#86D449\",\"#88D547\",\"#8BD546\",\"#8DD644\",\"#90D643\",\"#92D741\",\"#95D73F\",\"#97D83E\",\"#9AD83C\",\"#9DD93A\",\"#9FD938\",\"#A2DA37\",\"#A5DA35\",\"#A7DB33\",\"#AADB32\",\"#ADDC30\",\"#AFDC2E\",\"#B2DD2C\",\"#B5DD2B\",\"#B7DD29\",\"#BADE27\",\"#BDDE26\",\"#BFDF24\",\"#C2DF22\",\"#C5DF21\",\"#C7E01F\",\"#CAE01E\",\"#CDE01D\",\"#CFE11C\",\"#D2E11B\",\"#D4E11A\",\"#D7E219\",\"#DAE218\",\"#DCE218\",\"#DFE318\",\"#E1E318\",\"#E4E318\",\"#E7E419\",\"#E9E419\",\"#ECE41A\",\"#EEE51B\",\"#F1E51C\",\"#F3E51E\",\"#F6E61F\",\"#F8E621\",\"#FAE622\",\"#FDE724\"]},\"id\":\"1420\",\"type\":\"LinearColorMapper\"},{\"attributes\":{\"callback\":null,\"end\":0.0018613836707154733,\"start\":-0.002048897391452437},\"id\":\"1389\",\"type\":\"Range1d\"},{\"attributes\":{\"callback\":null,\"end\":0.001942209600534414,\"start\":-0.0020501499009710333},\"id\":\"1387\",\"type\":\"Range1d\"},{\"attributes\":{},\"id\":\"1391\",\"type\":\"LinearScale\"},{\"attributes\":{},\"id\":\"1393\",\"type\":\"LinearScale\"},{\"attributes\":{\"axis_label\":\"px (MeV/c)\",\"formatter\":{\"id\":\"1469\",\"type\":\"BasicTickFormatter\"},\"ticker\":{\"id\":\"1396\",\"type\":\"BasicTicker\"}},\"id\":\"1395\",\"type\":\"LinearAxis\"},{\"attributes\":{},\"id\":\"1396\",\"type\":\"BasicTicker\"},{\"attributes\":{\"dimension\":1,\"ticker\":{\"id\":\"1401\",\"type\":\"BasicTicker\"}},\"id\":\"1404\",\"type\":\"Grid\"},{\"attributes\":{\"ticker\":{\"id\":\"1396\",\"type\":\"BasicTicker\"}},\"id\":\"1399\",\"type\":\"Grid\"},{\"attributes\":{\"axis_label\":\"py (MeV/c)\",\"formatter\":{\"id\":\"1467\",\"type\":\"BasicTickFormatter\"},\"ticker\":{\"id\":\"1401\",\"type\":\"BasicTicker\"}},\"id\":\"1400\",\"type\":\"LinearAxis\"},{\"attributes\":{},\"id\":\"1401\",\"type\":\"BasicTicker\"},{\"attributes\":{\"color_mapper\":{\"id\":\"1420\",\"type\":\"LinearColorMapper\"},\"dh\":{\"field\":\"dh\",\"units\":\"data\"},\"dw\":{\"field\":\"dw\",\"units\":\"data\"},\"image\":{\"field\":\"image\"},\"x\":{\"field\":\"xmin\"},\"y\":{\"field\":\"ymin\"}},\"id\":\"1419\",\"type\":\"Image\"},{\"attributes\":{},\"id\":\"1475\",\"type\":\"UnionRenderers\"},{\"attributes\":{\"active_drag\":\"auto\",\"active_inspect\":\"auto\",\"active_multi\":null,\"active_scroll\":\"auto\",\"active_tap\":\"auto\",\"tools\":[{\"id\":\"1405\",\"type\":\"PanTool\"},{\"id\":\"1406\",\"type\":\"WheelZoomTool\"},{\"id\":\"1407\",\"type\":\"BoxZoomTool\"},{\"id\":\"1408\",\"type\":\"SaveTool\"},{\"id\":\"1409\",\"type\":\"ResetTool\"},{\"id\":\"1410\",\"type\":\"HelpTool\"}]},\"id\":\"1411\",\"type\":\"Toolbar\"},{\"attributes\":{},\"id\":\"1405\",\"type\":\"PanTool\"},{\"attributes\":{},\"id\":\"1406\",\"type\":\"WheelZoomTool\"},{\"attributes\":{},\"id\":\"1409\",\"type\":\"ResetTool\"},{\"attributes\":{\"overlay\":{\"id\":\"1477\",\"type\":\"BoxAnnotation\"}},\"id\":\"1407\",\"type\":\"BoxZoomTool\"},{\"attributes\":{},\"id\":\"1408\",\"type\":\"SaveTool\"},{\"attributes\":{},\"id\":\"1410\",\"type\":\"HelpTool\"},{\"attributes\":{\"data_source\":{\"id\":\"1385\",\"type\":\"ColumnDataSource\"},\"glyph\":{\"id\":\"1419\",\"type\":\"Image\"},\"hover_glyph\":null,\"muted_glyph\":null,\"nonselection_glyph\":{\"id\":\"1421\",\"type\":\"Image\"},\"selection_glyph\":null,\"view\":{\"id\":\"1424\",\"type\":\"CDSView\"}},\"id\":\"1423\",\"type\":\"GlyphRenderer\"},{\"attributes\":{\"color_mapper\":{\"id\":\"1422\",\"type\":\"LinearColorMapper\"},\"dh\":{\"field\":\"dh\",\"units\":\"data\"},\"dw\":{\"field\":\"dw\",\"units\":\"data\"},\"image\":{\"field\":\"image\"},\"x\":{\"field\":\"xmin\"},\"y\":{\"field\":\"ymin\"}},\"id\":\"1421\",\"type\":\"Image\"},{\"attributes\":{\"palette\":[\"white\",\"#440255\",\"#440357\",\"#450558\",\"#45065A\",\"#45085B\",\"#46095C\",\"#460B5E\",\"#460C5F\",\"#460E61\",\"#470F62\",\"#471163\",\"#471265\",\"#471466\",\"#471567\",\"#471669\",\"#47186A\",\"#48196B\",\"#481A6C\",\"#481C6E\",\"#481D6F\",\"#481E70\",\"#482071\",\"#482172\",\"#482273\",\"#482374\",\"#472575\",\"#472676\",\"#472777\",\"#472878\",\"#472A79\",\"#472B7A\",\"#472C7B\",\"#462D7C\",\"#462F7C\",\"#46307D\",\"#46317E\",\"#45327F\",\"#45347F\",\"#453580\",\"#453681\",\"#443781\",\"#443982\",\"#433A83\",\"#433B83\",\"#433C84\",\"#423D84\",\"#423E85\",\"#424085\",\"#414186\",\"#414286\",\"#404387\",\"#404487\",\"#3F4587\",\"#3F4788\",\"#3E4888\",\"#3E4989\",\"#3D4A89\",\"#3D4B89\",\"#3D4C89\",\"#3C4D8A\",\"#3C4E8A\",\"#3B508A\",\"#3B518A\",\"#3A528B\",\"#3A538B\",\"#39548B\",\"#39558B\",\"#38568B\",\"#38578C\",\"#37588C\",\"#37598C\",\"#365A8C\",\"#365B8C\",\"#355C8C\",\"#355D8C\",\"#345E8D\",\"#345F8D\",\"#33608D\",\"#33618D\",\"#32628D\",\"#32638D\",\"#31648D\",\"#31658D\",\"#31668D\",\"#30678D\",\"#30688D\",\"#2F698D\",\"#2F6A8D\",\"#2E6B8E\",\"#2E6C8E\",\"#2E6D8E\",\"#2D6E8E\",\"#2D6F8E\",\"#2C708E\",\"#2C718E\",\"#2C728E\",\"#2B738E\",\"#2B748E\",\"#2A758E\",\"#2A768E\",\"#2A778E\",\"#29788E\",\"#29798E\",\"#287A8E\",\"#287A8E\",\"#287B8E\",\"#277C8E\",\"#277D8E\",\"#277E8E\",\"#267F8E\",\"#26808E\",\"#26818E\",\"#25828E\",\"#25838D\",\"#24848D\",\"#24858D\",\"#24868D\",\"#23878D\",\"#23888D\",\"#23898D\",\"#22898D\",\"#228A8D\",\"#228B8D\",\"#218C8D\",\"#218D8C\",\"#218E8C\",\"#208F8C\",\"#20908C\",\"#20918C\",\"#1F928C\",\"#1F938B\",\"#1F948B\",\"#1F958B\",\"#1F968B\",\"#1E978A\",\"#1E988A\",\"#1E998A\",\"#1E998A\",\"#1E9A89\",\"#1E9B89\",\"#1E9C89\",\"#1E9D88\",\"#1E9E88\",\"#1E9F88\",\"#1EA087\",\"#1FA187\",\"#1FA286\",\"#1FA386\",\"#20A485\",\"#20A585\",\"#21A685\",\"#21A784\",\"#22A784\",\"#23A883\",\"#23A982\",\"#24AA82\",\"#25AB81\",\"#26AC81\",\"#27AD80\",\"#28AE7F\",\"#29AF7F\",\"#2AB07E\",\"#2BB17D\",\"#2CB17D\",\"#2EB27C\",\"#2FB37B\",\"#30B47A\",\"#32B57A\",\"#33B679\",\"#35B778\",\"#36B877\",\"#38B976\",\"#39B976\",\"#3BBA75\",\"#3DBB74\",\"#3EBC73\",\"#40BD72\",\"#42BE71\",\"#44BE70\",\"#45BF6F\",\"#47C06E\",\"#49C16D\",\"#4BC26C\",\"#4DC26B\",\"#4FC369\",\"#51C468\",\"#53C567\",\"#55C666\",\"#57C665\",\"#59C764\",\"#5BC862\",\"#5EC961\",\"#60C960\",\"#62CA5F\",\"#64CB5D\",\"#67CC5C\",\"#69CC5B\",\"#6BCD59\",\"#6DCE58\",\"#70CE56\",\"#72CF55\",\"#74D054\",\"#77D052\",\"#79D151\",\"#7CD24F\",\"#7ED24E\",\"#81D34C\",\"#83D34B\",\"#86D449\",\"#88D547\",\"#8BD546\",\"#8DD644\",\"#90D643\",\"#92D741\",\"#95D73F\",\"#97D83E\",\"#9AD83C\",\"#9DD93A\",\"#9FD938\",\"#A2DA37\",\"#A5DA35\",\"#A7DB33\",\"#AADB32\",\"#ADDC30\",\"#AFDC2E\",\"#B2DD2C\",\"#B5DD2B\",\"#B7DD29\",\"#BADE27\",\"#BDDE26\",\"#BFDF24\",\"#C2DF22\",\"#C5DF21\",\"#C7E01F\",\"#CAE01E\",\"#CDE01D\",\"#CFE11C\",\"#D2E11B\",\"#D4E11A\",\"#D7E219\",\"#DAE218\",\"#DCE218\",\"#DFE318\",\"#E1E318\",\"#E4E318\",\"#E7E419\",\"#E9E419\",\"#ECE41A\",\"#EEE51B\",\"#F1E51C\",\"#F3E51E\",\"#F6E61F\",\"#F8E621\",\"#FAE622\",\"#FDE724\"]},\"id\":\"1422\",\"type\":\"LinearColorMapper\"},{\"attributes\":{\"source\":{\"id\":\"1385\",\"type\":\"ColumnDataSource\"}},\"id\":\"1424\",\"type\":\"CDSView\"},{\"attributes\":{},\"id\":\"1476\",\"type\":\"Selection\"},{\"attributes\":{},\"id\":\"1459\",\"type\":\"BasicTickFormatter\"},{\"attributes\":{\"text\":\"\"},\"id\":\"1454\",\"type\":\"Title\"},{\"attributes\":{\"text\":\"\"},\"id\":\"1456\",\"type\":\"Title\"},{\"attributes\":{\"text\":\"\"},\"id\":\"1458\",\"type\":\"Title\"},{\"attributes\":{},\"id\":\"1461\",\"type\":\"BasicTickFormatter\"},{\"attributes\":{},\"id\":\"1463\",\"type\":\"BasicTickFormatter\"},{\"attributes\":{},\"id\":\"1467\",\"type\":\"BasicTickFormatter\"},{\"attributes\":{},\"id\":\"1465\",\"type\":\"BasicTickFormatter\"}],\"root_ids\":[\"1425\"]},\"title\":\"Bokeh Application\",\"version\":\"1.2.0\"}};\n",
       "  var render_items = [{\"docid\":\"0149260b-ab1a-4efd-96f9-557160772713\",\"roots\":{\"1425\":\"c63eee09-a0c3-4012-8e76-aac26718a55c\"}}];\n",
       "  root.Bokeh.embed.embed_items_notebook(docs_json, render_items);\n",
       "\n",
       "  }\n",
       "  if (root.Bokeh !== undefined) {\n",
       "    embed_document(root);\n",
       "  } else {\n",
       "    var attempts = 0;\n",
       "    var timer = setInterval(function(root) {\n",
       "      if (root.Bokeh !== undefined) {\n",
       "        embed_document(root);\n",
       "        clearInterval(timer);\n",
       "      }\n",
       "      attempts++;\n",
       "      if (attempts > 100) {\n",
       "        console.log(\"Bokeh: ERROR: Unable to run BokehJS code because BokehJS library is missing\");\n",
       "        clearInterval(timer);\n",
       "      }\n",
       "    }, 10, root)\n",
       "  }\n",
       "})(window);"
      ],
      "application/vnd.bokehjs_exec.v0+json": ""
     },
     "metadata": {
      "application/vnd.bokehjs_exec.v0+json": {
       "id": "1425"
      }
     },
     "output_type": "display_data"
    }
   ],
   "source": [
    "bunch1 = h5['mybunch']\n",
    "\n",
    "show(\n",
    "    column(\n",
    "        \n",
    "    bunch_plotting.plot_bunch_h5(bunch1, 'x', 'y', bins = 50, liveOnly=False),\n",
    "    bunch_plotting.plot_histogram_h5(bunch1, 'x', bins=100, liveOnly=False),\n",
    "    bunch_plotting.plot_bunch_h5(bunch1, 'px', 'py', bins = 50, liveOnly=False)    \n",
    "    ))"
   ]
  },
  {
   "cell_type": "code",
   "execution_count": null,
   "metadata": {},
   "outputs": [],
   "source": []
  },
  {
   "cell_type": "code",
   "execution_count": null,
   "metadata": {},
   "outputs": [],
   "source": []
  }
 ],
 "metadata": {
  "kernelspec": {
   "display_name": "Python 3",
   "language": "python",
   "name": "python3"
  },
  "language_info": {
   "codemirror_mode": {
    "name": "ipython",
    "version": 3
   },
   "file_extension": ".py",
   "mimetype": "text/x-python",
   "name": "python",
   "nbconvert_exporter": "python",
   "pygments_lexer": "ipython3",
   "version": "3.7.3"
  }
 },
 "nbformat": 4,
 "nbformat_minor": 2
}
