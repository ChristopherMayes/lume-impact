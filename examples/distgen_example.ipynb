{
 "cells": [
  {
   "cell_type": "code",
   "execution_count": 1,
   "metadata": {},
   "outputs": [],
   "source": [
    "# Useful for debugging\n",
    "%load_ext autoreload\n",
    "%autoreload 2"
   ]
  },
  {
   "cell_type": "code",
   "execution_count": 2,
   "metadata": {},
   "outputs": [],
   "source": [
    "# Nicer plotting\n",
    "import matplotlib\n",
    "%matplotlib inline\n",
    "%config InlineBackend.figure_format = 'retina'\n",
    "matplotlib.rcParams['figure.figsize'] = (8,4)"
   ]
  },
  {
   "cell_type": "markdown",
   "metadata": {},
   "source": [
    "# Disgten example\n",
    "\n",
    "Similar to the simple example, but generating particles with Distgen"
   ]
  },
  {
   "cell_type": "code",
   "execution_count": 3,
   "metadata": {},
   "outputs": [],
   "source": [
    "from distgen import Generator\n",
    "YAML=\"\"\"\n",
    "beam:\n",
    "  params:\n",
    "    MTE:\n",
    "      value: 414\n",
    "      units: meV    \n",
    "    total_charge:\n",
    "      value: 250\n",
    "      units: pC\n",
    "      \n",
    "  particle_count: 10000\n",
    "  rand_type: hammersley\n",
    "  start_type: cathode\n",
    "\n",
    "r_dist:\n",
    "  type: radial_uniform\n",
    "  params:\n",
    "    max_r:\n",
    "      value: 0.6\n",
    "      units: mm    \n",
    "\n",
    "\n",
    "t_dist:\n",
    "  type: tukey\n",
    "  params:\n",
    "    length:\n",
    "      value: 7.5\n",
    "      units: ps    \n",
    "    ratio:  \n",
    "      value: 0.8\n",
    "      units: ''      \n",
    "\n",
    "  \n",
    "output:\n",
    "  file: cu_inj.part\n",
    "  type: astra  \n",
    "\"\"\"\n",
    "\n",
    "G = Generator(YAML)\n",
    "G.run()\n",
    "P = G.particles"
   ]
  },
  {
   "cell_type": "code",
   "execution_count": 4,
   "metadata": {},
   "outputs": [],
   "source": [
    "from impact import Impact, template_dir\n",
    "\n",
    "import matplotlib.pyplot as plt\n",
    "import os"
   ]
  },
  {
   "cell_type": "code",
   "execution_count": 5,
   "metadata": {},
   "outputs": [
    {
     "data": {
      "text/plain": [
       "True"
      ]
     },
     "execution_count": 5,
     "metadata": {},
     "output_type": "execute_result"
    }
   ],
   "source": [
    "ifile = os.path.join(template_dir,'lcls_injector/ImpactT.in')\n",
    "os.path.exists(ifile)"
   ]
  },
  {
   "cell_type": "code",
   "execution_count": 6,
   "metadata": {},
   "outputs": [
    {
     "name": "stdout",
     "output_type": "stream",
     "text": [
      "================ Impact-T Summary ================\n",
      "1 bunchtotal charge: 249.99999999999997 pC\n",
      "Distribution type: read\n",
      "Cathode start at z = 0 m\n",
      "   emission time: 1.4e-11 s\n",
      "   image charges neglected after z = 0.02 m\n",
      "Tracking 10000 particles\n",
      "Processor domain: 1 x 1 = 1 CPUs\n",
      "Computational domain: 0.015 m x 0.015 m x 45.0 m\n",
      "Space charge grid: 16 x 16 x 16\n",
      "Maximum time steps: 1000000\n",
      "Random Seed: 6\n",
      "Reference Frequency: 2856000000.0 Hz\n",
      "Initial reference time: 0.0 s\n",
      "Simulation starting from the beginning\n",
      "==================================================\n",
      "\n",
      "\n",
      "Configured to run in: /var/folders/wj/lfgr01993dx79p9cm_skykbw0000gn/T/tmpe7bo2ufo\n"
     ]
    }
   ],
   "source": [
    "# Make Impact object\n",
    "I = Impact(ifile, initial_particles = G.particles, verbose=True)"
   ]
  },
  {
   "cell_type": "code",
   "execution_count": null,
   "metadata": {},
   "outputs": [],
   "source": [
    "# This will us\n",
    "I.write_initial_particles(update_header=True)"
   ]
  },
  {
   "cell_type": "code",
   "execution_count": null,
   "metadata": {},
   "outputs": [],
   "source": [
    "# Change some things\n",
    "I.input['header']['Np'] = 10000\n",
    "I.input['header']['Nx'] = 16\n",
    "I.input['header']['Ny'] = 16\n",
    "I.input['header']['Nz'] = 16\n",
    "I.input['header']['Dt'] = 5e-13\n",
    "\n",
    "# Other switches\n",
    "I.timeout = 1000\n",
    "# Switches for MPI\n",
    "I.use_mpi=True\n",
    "I.input['header']['Nprow'] = 1\n",
    "I.input['header']['Npcol'] = 4\n",
    "I.impact_bin = '$IMPACTT_MPI_BIN'\n",
    "assert os.path.exists(os.path.expandvars(I.impact_bin))"
   ]
  },
  {
   "cell_type": "code",
   "execution_count": null,
   "metadata": {},
   "outputs": [],
   "source": [
    "# Change stop location\n",
    "I.ele['stop_1']['s'] = 0.1\n",
    "#I.ele['stop_1']['s'] = I.ele['OTR2']['s']+.001"
   ]
  },
  {
   "cell_type": "code",
   "execution_count": null,
   "metadata": {},
   "outputs": [],
   "source": [
    "I.run()"
   ]
  },
  {
   "cell_type": "code",
   "execution_count": null,
   "metadata": {},
   "outputs": [],
   "source": [
    "I.input.keys()"
   ]
  },
  {
   "cell_type": "code",
   "execution_count": null,
   "metadata": {},
   "outputs": [],
   "source": [
    "I.output.keys()"
   ]
  },
  {
   "cell_type": "code",
   "execution_count": null,
   "metadata": {},
   "outputs": [],
   "source": [
    "I.output['stats'].keys()"
   ]
  },
  {
   "cell_type": "code",
   "execution_count": null,
   "metadata": {},
   "outputs": [],
   "source": [
    "I.output['slice_info'].keys()"
   ]
  },
  {
   "cell_type": "markdown",
   "metadata": {},
   "source": [
    "# Particles"
   ]
  },
  {
   "cell_type": "code",
   "execution_count": null,
   "metadata": {},
   "outputs": [],
   "source": [
    "# Particles are automatically parsed in to openpmd-beamphysics ParticleGroup objects\n",
    "I.output['particles']"
   ]
  },
  {
   "cell_type": "code",
   "execution_count": null,
   "metadata": {},
   "outputs": [],
   "source": [
    "# Get the final particles, calculate some statistic\n",
    "P = I.output['particles']['final_particles']\n",
    "P['mean_energy']"
   ]
  },
  {
   "cell_type": "code",
   "execution_count": null,
   "metadata": {},
   "outputs": [],
   "source": [
    "# Show the units\n",
    "P.units('mean_energy')"
   ]
  },
  {
   "cell_type": "code",
   "execution_count": null,
   "metadata": {},
   "outputs": [],
   "source": [
    "# This provides easy ploting\n",
    "from pmd_beamphysics.plot import marginal_plot\n",
    "\n",
    "marginal_plot(P, 'z', 'pz')"
   ]
  },
  {
   "cell_type": "markdown",
   "metadata": {},
   "source": [
    "# Stats"
   ]
  },
  {
   "cell_type": "code",
   "execution_count": null,
   "metadata": {},
   "outputs": [],
   "source": [
    "# Impact's own calculated statistics can be retieved\n",
    "len(I.stat('norm_emit_x')), I.stat('norm_emit_x')[-1]"
   ]
  },
  {
   "cell_type": "code",
   "execution_count": null,
   "metadata": {},
   "outputs": [],
   "source": [
    "# Stats can also be computed from the particles. For example:\n"
   ]
  },
  {
   "cell_type": "code",
   "execution_count": null,
   "metadata": {},
   "outputs": [],
   "source": [
    "# Compare these. \n",
    "key1 = 'mean_z'\n",
    "key2 = 'norm_emit_x'\n",
    "units1 = str(I.units(key1))\n",
    "units2 = str(I.units(key2))\n",
    "plt.xlabel(key1+f' ({units1})')\n",
    "plt.ylabel(key2+f' ({units2})')\n",
    "plt.plot(I.stat(key1), I.stat(key2))\n",
    "plt.scatter(\n",
    "    [I.particles[name][key1] for name in I.particles], \n",
    "    [I.particles[name][key2] for name in I.particles], color='red')"
   ]
  },
  {
   "cell_type": "code",
   "execution_count": null,
   "metadata": {},
   "outputs": [],
   "source": []
  },
  {
   "cell_type": "code",
   "execution_count": null,
   "metadata": {},
   "outputs": [],
   "source": []
  }
 ],
 "metadata": {
  "kernelspec": {
   "display_name": "Python 3",
   "language": "python",
   "name": "python3"
  },
  "language_info": {
   "codemirror_mode": {
    "name": "ipython",
    "version": 3
   },
   "file_extension": ".py",
   "mimetype": "text/x-python",
   "name": "python",
   "nbconvert_exporter": "python",
   "pygments_lexer": "ipython3",
   "version": "3.7.6"
  }
 },
 "nbformat": 4,
 "nbformat_minor": 4
}
