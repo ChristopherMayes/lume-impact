{
 "cells": [
  {
   "cell_type": "markdown",
   "metadata": {},
   "source": [
    "# Parsing ImpactT.in\n",
    "\n",
    "Here are some examples of the low level routines to parse the main input file.\n",
    "\n",
    "Note that the Impact class does this automatically\n"
   ]
  },
  {
   "cell_type": "code",
   "execution_count": 1,
   "metadata": {},
   "outputs": [],
   "source": [
    "# Useful for debugging\n",
    "%load_ext autoreload\n",
    "%autoreload 2"
   ]
  },
  {
   "cell_type": "code",
   "execution_count": 2,
   "metadata": {},
   "outputs": [],
   "source": [
    "from impact.parsers import *"
   ]
  },
  {
   "cell_type": "code",
   "execution_count": 3,
   "metadata": {},
   "outputs": [],
   "source": [
    "from impact.lattice import *"
   ]
  },
  {
   "cell_type": "code",
   "execution_count": 4,
   "metadata": {},
   "outputs": [],
   "source": [
    "with open('templates/lcls_injector/ImpactT.in', 'r') as f:    \n",
    "    data = f.read()\n",
    "    LINES = data.split('\\n')"
   ]
  },
  {
   "cell_type": "code",
   "execution_count": 5,
   "metadata": {},
   "outputs": [
    {
     "data": {
      "text/plain": [
       "{'Npcol': 2,\n",
       " 'Nprow': 2,\n",
       " 'Dt': 5e-13,\n",
       " 'Ntstep': 1000000,\n",
       " 'Nbunch': 1,\n",
       " 'Dim': 6,\n",
       " 'Np': 10000,\n",
       " 'Flagmap': 1,\n",
       " 'Flagerr': 0,\n",
       " 'Flagdiag': 2,\n",
       " 'Flagimg': 1,\n",
       " 'Zimage': 0.02,\n",
       " 'Nx': 32,\n",
       " 'Ny': 32,\n",
       " 'Nz': 32,\n",
       " 'Flagbc': 1,\n",
       " 'Xrad': 0.015,\n",
       " 'Yrad': 0.015,\n",
       " 'Perdlen': 45.0,\n",
       " 'Flagdist': 16,\n",
       " 'Rstartflg': 0,\n",
       " 'Flagsbstp': 0,\n",
       " 'Nemission': 400,\n",
       " 'Temission': 6.515803466731775e-12,\n",
       " 'sigx(m)': 0.0006,\n",
       " 'sigpx': 0.0,\n",
       " 'muxpx': 0.0,\n",
       " 'xscale': 1.0,\n",
       " 'pxscale': 1.0,\n",
       " 'xmu1(m)': 0.0,\n",
       " 'xmu2': 0.0,\n",
       " 'sigy(m)': 0.0006,\n",
       " 'sigpy': 0.0,\n",
       " 'muxpy': 0.0,\n",
       " 'yscale': 1.0,\n",
       " 'pyscale': 1.0,\n",
       " 'ymu1(m)': 0.0,\n",
       " 'ymu2': 0.0,\n",
       " 'sigz(m)': 1.27e-06,\n",
       " 'sigpz': 0.0,\n",
       " 'muxpz': 0.0,\n",
       " 'zscale': 1.0,\n",
       " 'pzscale': 1.0,\n",
       " 'zmu1(m)': 0.0,\n",
       " 'zmu2': 0.0,\n",
       " 'Bcurr': 0.7140000000000003,\n",
       " 'Bkenergy': 1.0,\n",
       " 'Bmass': 511005.0,\n",
       " 'Bcharge': -1.0,\n",
       " 'Bfreq': 2856000000.0,\n",
       " 'Tini': -3.249141278122655e-12}"
      ]
     },
     "execution_count": 5,
     "metadata": {},
     "output_type": "execute_result"
    }
   ],
   "source": [
    "parse_header(LINES)"
   ]
  },
  {
   "cell_type": "code",
   "execution_count": 6,
   "metadata": {},
   "outputs": [],
   "source": [
    "# Find index of the line where the lattice starts\n",
    "IX_LATTICE = ix_lattice(LINES)\n",
    "\n",
    "# Gather lattice lines\n",
    "LATLINES = LINES[IX_LATTICE:]"
   ]
  },
  {
   "cell_type": "code",
   "execution_count": 7,
   "metadata": {},
   "outputs": [
    {
     "name": "stdout",
     "output_type": "stream",
     "text": [
      "{'quadrupole', 'change_timestep', 'rotationally_symmetric_to_3d', 'wakefield', 'stop', 'write_beam', 'solrf', 'comment', 'spacecharge'}\n",
      "8 quadrupole\n",
      "10 solrf\n",
      "4 write_beam\n",
      "1 change_timestep\n",
      "1 rotationally_symmetric_to_3d\n",
      "2 wakefield\n",
      "1 spacecharge\n",
      "1 stop\n"
     ]
    }
   ],
   "source": [
    "# Summary of elements in this lattice\n",
    "def myf(t): return [l for l in LATLINES if parse_type(l) == t ] \n",
    "quads = myf('quadrupole')\n",
    "#drifts = myf('drift')\n",
    "solrfs = myf('solrf')\n",
    "wakefields = myf('wakefield')\n",
    "\n",
    "alltypes = set([parse_type(l) for l in LATLINES])\n",
    "print(alltypes)\n",
    "\n",
    "for t in ele_type.values():\n",
    "    l = len(myf(t))\n",
    "    if l > 0:\n",
    "        print(l, t)"
   ]
  },
  {
   "cell_type": "markdown",
   "metadata": {},
   "source": [
    "# Individual element parsing"
   ]
  },
  {
   "cell_type": "code",
   "execution_count": 8,
   "metadata": {},
   "outputs": [
    {
     "data": {
      "text/plain": [
       "{'zedge': 0.01601,\n",
       " 'b1_gradient': 0.0,\n",
       " 'L_effective': 0.21,\n",
       " 'radius': 0.0254,\n",
       " 'x_offset': 0.0,\n",
       " 'y_offset': 0.0,\n",
       " 'x_rotation': 0.0,\n",
       " 'y_rotation': 0.0,\n",
       " 'z_rotation': 0.7853981633974483}"
      ]
     },
     "execution_count": 8,
     "metadata": {},
     "output_type": "execute_result"
    }
   ],
   "source": [
    "parse_quadrupole(quads[0])"
   ]
  },
  {
   "cell_type": "code",
   "execution_count": 9,
   "metadata": {},
   "outputs": [
    {
     "data": {
      "text/plain": [
       "{'zedge': 0.0,\n",
       " 'rf_field_scale': 47537665.059089914,\n",
       " 'rf_frequency': 2856000000.0,\n",
       " 'theta0_deg': 303.93723122804266,\n",
       " 'filename': 'rfdata201',\n",
       " 'radius': 0.15,\n",
       " 'x_offset': 0.0,\n",
       " 'y_offset': 0.0,\n",
       " 'x_rotation': 0.0,\n",
       " 'y_rotation': 0.0,\n",
       " 'z_rotation': 0.0,\n",
       " 'solenoid_field_scale': 0.0}"
      ]
     },
     "execution_count": 9,
     "metadata": {},
     "output_type": "execute_result"
    }
   ],
   "source": [
    "parse_solrf(solrfs[0])"
   ]
  },
  {
   "cell_type": "code",
   "execution_count": 10,
   "metadata": {},
   "outputs": [
    {
     "data": {
      "text/plain": [
       "{'s_begin': 1.485,\n",
       " 's': 4.527856,\n",
       " 'method': 'analytical',\n",
       " 'iris_radius': 0.0116,\n",
       " 'gap': 0.0292,\n",
       " 'period': 0.035}"
      ]
     },
     "execution_count": 10,
     "metadata": {},
     "output_type": "execute_result"
    }
   ],
   "source": [
    "parse_wakefield(wakefields[0])"
   ]
  },
  {
   "cell_type": "markdown",
   "metadata": {},
   "source": [
    "# Full lattice parsing into element dicts"
   ]
  },
  {
   "cell_type": "code",
   "execution_count": 11,
   "metadata": {},
   "outputs": [],
   "source": [
    "from impact.lattice import ele_str"
   ]
  },
  {
   "cell_type": "code",
   "execution_count": 12,
   "metadata": {},
   "outputs": [],
   "source": [
    "# This parses all lines. \n",
    "eles = parse_lattice(LATLINES)"
   ]
  },
  {
   "cell_type": "code",
   "execution_count": 13,
   "metadata": {},
   "outputs": [
    {
     "name": "stdout",
     "output_type": "stream",
     "text": [
      "change_timestep_1: change_timestep, description=name:change_timestep_1, dt=4e-12,\n",
      "      s=0.25\n",
      "SC_2D_to_3D: rotationally_symmetric_to_3d, description=name:SC_2D_to_3D, s=-1000.0\n",
      "\n",
      "!__________________ 1.5 cell gun __________________\n",
      "! Single particle phased and scaled for 6 MeV energy\n",
      "GUN: solrf, description=name:GUN, L=0.15, zedge=0.0, rf_field_scale=47537665.059089914,\n",
      "      rf_frequency=2856000000.0, theta0_deg=303.93723122804266, filename=rfdata201,\n",
      "      radius=0.15, x_offset=0.0, y_offset=0.0, x_rotation=0.0, y_rotation=0.0,\n",
      "      z_rotation=0.0, solenoid_field_scale=0.0, s=0.15\n",
      "\n",
      "!__________________Solenoid and correctors__________________\n",
      "SOL1: solrf, description=name:SOL1, L=0.49308, zedge=0.0, rf_field_scale=0.0,\n",
      "      rf_frequency=0.0, theta0_deg=0.0, filename=rfdata102, radius=0.15, x_offset=0.0,\n",
      "      y_offset=0.0, x_rotation=0.0, y_rotation=0.0, z_rotation=0.0,\n",
      "      solenoid_field_scale=0.2457, s=0.49308\n",
      "! Corrector quads: skew and regular. \n",
      "! Overlap SOL1. Effective length, radius estimated from measurements. \n",
      "! Max field should be 0.00714 T/m\n",
      "SQ01: quadrupole, description=name:SQ01, L=0.36, zedge=0.01601, b1_gradient=0.0,\n",
      "      L_effective=0.21, radius=0.0254, x_offset=0.0, y_offset=0.0, x_rotation=0.0,\n",
      "      y_rotation=0.0, z_rotation=0.7853981633974483, s=0.37601\n",
      "CQ01: quadrupole, description=name:CQ01, L=0.36, zedge=0.01601, b1_gradient=0.0,\n",
      "      L_effective=0.21, radius=0.0254, x_offset=0.0, y_offset=0.0, x_rotation=0.0,\n",
      "      y_rotation=0.0, z_rotation=0.0, s=0.37601\n",
      "!________________________________________________________________________\n",
      "\n",
      "!!! Broken: 0 1 101 -2 0.0 0.0 0.61362 /!name:YAG01\n",
      "YAG02: write_beam, description=name:YAG02, filename=fort.102, sample_frequency=1,\n",
      "      s=1.38841\n",
      "\n",
      "!__________________ L0A begin __________________\n",
      "wakefield_L0A: wakefield, description=name:wakefield_L0A, s_begin=1.485, s=4.527856,\n",
      "      method=analytical, iris_radius=0.0116, gap=0.0292, period=0.035\n",
      "! Phased to get to 64 MeV\n",
      "L0A_entrance: solrf, description=name:L0A_entrance, L=0.052464, zedge=1.485,\n",
      "      rf_field_scale=26013439.060000002, rf_frequency=2856000000.0,\n",
      "      theta0_deg=264.5, filename=rfdata4, radius=0.15, x_offset=0.0, y_offset=0.0,\n",
      "      x_rotation=0.0, y_rotation=0.0, z_rotation=0.0, solenoid_field_scale=0.0,\n",
      "      s=1.5374640000000002\n",
      "L0A_body_1: solrf, description=name:L0A_body_1, L=2.937928, zedge=1.537464,\n",
      "      rf_field_scale=30048347.1, rf_frequency=2856000000.0, theta0_deg=294.5,\n",
      "      filename=rfdata5, radius=0.15, x_offset=0.0, y_offset=0.0, x_rotation=0.0,\n",
      "      y_rotation=0.0, z_rotation=0.0, solenoid_field_scale=0.0, s=4.475391999999999\n",
      "L0A_body_2: solrf, description=name:L0A_body_2, L=2.937928, zedge=1.537464,\n",
      "      rf_field_scale=30048347.1, rf_frequency=2856000000.0, theta0_deg=354.5,\n",
      "      filename=rfdata6, radius=0.15, x_offset=0.0, y_offset=0.0, x_rotation=0.0,\n",
      "      y_rotation=0.0, z_rotation=0.0, solenoid_field_scale=0.0, s=4.475391999999999\n",
      "L0A_exit: solrf, description=name:L0A_exit, L=0.052464, zedge=4.475392,\n",
      "      rf_field_scale=26013439.060000002, rf_frequency=2856000000.0,\n",
      "      theta0_deg=264.5, filename=rfdata7, radius=0.15, x_offset=0.0, y_offset=0.0,\n",
      "      x_rotation=0.0, y_rotation=0.0, z_rotation=0.0, solenoid_field_scale=0.0,\n",
      "      s=4.527856\n",
      "!__________________ L0A exit __________________\n",
      "! Space charge switches\n",
      "!!!0 0 0 -8 0 1 4.527856 / name:SC_ON\n",
      "!!!0 0 0 -8 0 -1 4.527856 / name:SC_OFF\n",
      "!!!0 0 0 -5 0.0 0.0 4.527856 /!name:SC_2D_to_3D\n",
      "\n",
      "YAG03: write_beam, description=name:YAG03, filename=fort.103, sample_frequency=1,\n",
      "      s=4.614538605\n",
      "QA01: quadrupole, description=name:QA01, L=0.204, zedge=4.752933605,\n",
      "      b1_gradient=1.8524000101358, L_effective=0.108, radius=0.016, x_offset=0.0,\n",
      "      y_offset=0.0, x_rotation=0.0, y_rotation=0.0, z_rotation=0.0, s=4.956933605\n",
      "QA02: quadrupole, description=name:QA02, L=0.204, zedge=5.081309605,\n",
      "      b1_gradient=-1.8524000101358, L_effective=0.108, radius=0.016, x_offset=0.0,\n",
      "      y_offset=0.0, x_rotation=0.0, y_rotation=0.0, z_rotation=0.0, s=5.285309605\n",
      "\n",
      "!__________________ L0B begin __________________\n",
      "wakefield_L0B: wakefield, description=name:wakefield_L0B, s_begin=5.328756, s=8.371612,\n",
      "      method=analytical, iris_radius=0.0116, gap=0.0292, period=0.035\n",
      "! Phased to get to 135 MeV\n",
      "L0B_entrance: solrf, description=name:L0B_entrance, L=0.052464, zedge=5.328756,\n",
      "      rf_field_scale=31395529.900000002, rf_frequency=2856000000.0,\n",
      "      theta0_deg=42.27, filename=rfdata4, radius=0.15, x_offset=0.0, y_offset=0.0,\n",
      "      x_rotation=0.0, y_rotation=0.0, z_rotation=0.0, solenoid_field_scale=0.0,\n",
      "      s=5.38122\n",
      "L0B_body_1: solrf, description=name:L0B_body_1, L=2.937928, zedge=5.38122,\n",
      "      rf_field_scale=36265246.5, rf_frequency=2856000000.0, theta0_deg=72.27,\n",
      "      filename=rfdata5, radius=0.15, x_offset=0.0, y_offset=0.0, x_rotation=0.0,\n",
      "      y_rotation=0.0, z_rotation=0.0, solenoid_field_scale=0.0, s=8.319148\n",
      "L0B_body_2: solrf, description=name:L0B_body_2, L=2.937928, zedge=5.38122,\n",
      "      rf_field_scale=36265246.5, rf_frequency=2856000000.0, theta0_deg=132.27,\n",
      "      filename=rfdata6, radius=0.15, x_offset=0.0, y_offset=0.0, x_rotation=0.0,\n",
      "      y_rotation=0.0, z_rotation=0.0, solenoid_field_scale=0.0, s=8.319148\n",
      "L0B_exit: solrf, description=name:L0B_exit, L=0.052464, zedge=8.319148,\n",
      "      rf_field_scale=31395529.900000002, rf_frequency=2856000000.0,\n",
      "      theta0_deg=42.27, filename=rfdata7, radius=0.15, x_offset=0.0, y_offset=0.0,\n",
      "      x_rotation=0.0, y_rotation=0.0, z_rotation=0.0, solenoid_field_scale=0.0,\n",
      "      s=8.371612\n",
      "!__________________ L0B exit __________________\n",
      "\n",
      "QE01: quadrupole, description=name:QE01, L=0.204, zedge=8.392048605,\n",
      "      b1_gradient=0.18720000156206, L_effective=0.108, radius=0.016, x_offset=0.0,\n",
      "      y_offset=0.0, x_rotation=0.0, y_rotation=0.0, z_rotation=0.0, s=8.596048605\n",
      "QE02: quadrupole, description=name:QE02, L=0.204, zedge=8.793561605,\n",
      "      b1_gradient=0.16609999999321, L_effective=0.108, radius=0.016, x_offset=0.0,\n",
      "      y_offset=0.0, x_rotation=0.0, y_rotation=0.0, z_rotation=0.0,\n",
      "      s=8.997561605000001\n",
      "\n",
      "!!! Unmodeled: Laser Heater from 9.076892 m to 10.690580 m\n",
      "\n",
      "QE03: quadrupole, description=name:QE03, L=0.204, zedge=11.469244190867,\n",
      "      b1_gradient=-2.6409000012747, L_effective=0.108, radius=0.016, x_offset=0.0,\n",
      "      y_offset=0.0, x_rotation=0.0, y_rotation=0.0, z_rotation=0.0, s=11.673244190867\n",
      "QE04: quadrupole, description=name:QE04, L=0.204, zedge=11.875644190867,\n",
      "      b1_gradient=2.9799999853198, L_effective=0.108, radius=0.016, x_offset=0.0,\n",
      "      y_offset=0.0, x_rotation=0.0, y_rotation=0.0, z_rotation=0.0, s=12.079644190867\n",
      "\n",
      "!!! 0 1 104 -2 0.0 0.0 12.175332190867 /!name:WS01\n",
      "OTR1: write_beam, description=name:OTR1, filename=fort.105, sample_frequency=1,\n",
      "      s=12.327300190867\n",
      "!!! 0 1 106 -2 0.0 0.0 14.089061190867 /!name:WS02\n",
      "OTR2: write_beam, description=name:OTR2, filename=fort.107, sample_frequency=1,\n",
      "      s=14.241029190867\n",
      "!!! 0 1 108 -2 0.0 0.0 16.002790190867 /!name:WS03\n",
      "!!! 0 1 109 -2 0.0 0.0 16.154758190867 /!name:OTR3\n",
      "\n",
      "SC_OFF: spacecharge, description=name:SC_OFF, s=16.5, is_on=False\n",
      "\n",
      "stop_1: stop, description=name:stop_1, s=3.0\n",
      "\n"
     ]
    }
   ],
   "source": [
    "# MAD-style printing\n",
    "for e in eles:\n",
    "    s = ele_str(e)\n",
    "    print(s)"
   ]
  },
  {
   "cell_type": "code",
   "execution_count": 14,
   "metadata": {},
   "outputs": [
    {
     "name": "stdout",
     "output_type": "stream",
     "text": [
      "0 0 0 -4 0.0 0.0 0.25 4e-12 /!name:change_timestep_1\n",
      "0 0 0 -5 0.0 0.0 -1000.0 /!name:SC_2D_to_3D\n",
      "\n",
      "!__________________ 1.5 cell gun __________________\n",
      "! Single particle phased and scaled for 6 MeV energy\n",
      "0.15 0 0 105 0.0 47537665.059089914 2856000000.0 303.93723122804266 201 0.15 0.0 0.0 0.0 0.0 0.0 0.0 /!name:GUN\n",
      "\n",
      "!__________________Solenoid and correctors__________________\n",
      "0.49308 0 0 105 0.0 0.0 0.0 0.0 102 0.15 0.0 0.0 0.0 0.0 0.0 0.2457 /!name:SOL1\n",
      "! Corrector quads: skew and regular. \n",
      "! Overlap SOL1. Effective length, radius estimated from measurements. \n",
      "! Max field should be 0.00714 T/m\n",
      "0.36 0 0 1 0.01601 0.0 0.21 0.0254 0.0 0.0 0.0 0.0 0.7853981633974483 /!name:SQ01\n",
      "0.36 0 0 1 0.01601 0.0 0.21 0.0254 0.0 0.0 0.0 0.0 0.0 /!name:CQ01\n",
      "!________________________________________________________________________\n",
      "\n",
      "!!! Broken: 0 1 101 -2 0.0 0.0 0.61362 /!name:YAG01\n",
      "0 1 102 -2 0.0 0.0 1.38841 /!name:YAG02\n",
      "\n",
      "!__________________ L0A begin __________________\n",
      "0 -1 0 -6 1 1 1.485 4.527856 0.0116 0.0292 0.035 /!name:wakefield_L0A\n",
      "! Phased to get to 64 MeV\n",
      "0.052464 0 0 105 1.485 26013439.060000002 2856000000.0 264.5 4 0.15 0.0 0.0 0.0 0.0 0.0 0.0 /!name:L0A_entrance\n",
      "2.937928 0 0 105 1.537464 30048347.1 2856000000.0 294.5 5 0.15 0.0 0.0 0.0 0.0 0.0 0.0 /!name:L0A_body_1\n",
      "2.937928 0 0 105 1.537464 30048347.1 2856000000.0 354.5 6 0.15 0.0 0.0 0.0 0.0 0.0 0.0 /!name:L0A_body_2\n",
      "0.052464 0 0 105 4.475392 26013439.060000002 2856000000.0 264.5 7 0.15 0.0 0.0 0.0 0.0 0.0 0.0 /!name:L0A_exit\n",
      "!__________________ L0A exit __________________\n",
      "! Space charge switches\n",
      "!!!0 0 0 -8 0 1 4.527856 / name:SC_ON\n",
      "!!!0 0 0 -8 0 -1 4.527856 / name:SC_OFF\n",
      "!!!0 0 0 -5 0.0 0.0 4.527856 /!name:SC_2D_to_3D\n",
      "\n",
      "0 1 103 -2 0.0 0.0 4.614538605 /!name:YAG03\n",
      "0.204 0 0 1 4.752933605 1.8524000101358 0.108 0.016 0.0 0.0 0.0 0.0 0.0 /!name:QA01\n",
      "0.204 0 0 1 5.081309605 -1.8524000101358 0.108 0.016 0.0 0.0 0.0 0.0 0.0 /!name:QA02\n",
      "\n",
      "!__________________ L0B begin __________________\n",
      "0 -1 0 -6 1 1 5.328756 8.371612 0.0116 0.0292 0.035 /!name:wakefield_L0B\n",
      "! Phased to get to 135 MeV\n",
      "0.052464 0 0 105 5.328756 31395529.900000002 2856000000.0 42.27 4 0.15 0.0 0.0 0.0 0.0 0.0 0.0 /!name:L0B_entrance\n",
      "2.937928 0 0 105 5.38122 36265246.5 2856000000.0 72.27 5 0.15 0.0 0.0 0.0 0.0 0.0 0.0 /!name:L0B_body_1\n",
      "2.937928 0 0 105 5.38122 36265246.5 2856000000.0 132.27 6 0.15 0.0 0.0 0.0 0.0 0.0 0.0 /!name:L0B_body_2\n",
      "0.052464 0 0 105 8.319148 31395529.900000002 2856000000.0 42.27 7 0.15 0.0 0.0 0.0 0.0 0.0 0.0 /!name:L0B_exit\n",
      "!__________________ L0B exit __________________\n",
      "\n",
      "0.204 0 0 1 8.392048605 0.18720000156206 0.108 0.016 0.0 0.0 0.0 0.0 0.0 /!name:QE01\n",
      "0.204 0 0 1 8.793561605 0.16609999999321 0.108 0.016 0.0 0.0 0.0 0.0 0.0 /!name:QE02\n",
      "\n",
      "!!! Unmodeled: Laser Heater from 9.076892 m to 10.690580 m\n",
      "\n",
      "0.204 0 0 1 11.469244190867 -2.6409000012747 0.108 0.016 0.0 0.0 0.0 0.0 0.0 /!name:QE03\n",
      "0.204 0 0 1 11.875644190867 2.9799999853198 0.108 0.016 0.0 0.0 0.0 0.0 0.0 /!name:QE04\n",
      "\n",
      "!!! 0 1 104 -2 0.0 0.0 12.175332190867 /!name:WS01\n",
      "0 1 105 -2 0.0 0.0 12.327300190867 /!name:OTR1\n",
      "!!! 0 1 106 -2 0.0 0.0 14.089061190867 /!name:WS02\n",
      "0 1 107 -2 0.0 0.0 14.241029190867 /!name:OTR2\n",
      "!!! 0 1 108 -2 0.0 0.0 16.002790190867 /!name:WS03\n",
      "!!! 0 1 109 -2 0.0 0.0 16.154758190867 /!name:OTR3\n",
      "\n",
      "0 0 0 -8 0.0 -1 16.5 /!name:SC_OFF\n",
      "\n",
      "0 0 0 -99 3.0 0.0 3.0 /!name:stop_1\n",
      "\n"
     ]
    }
   ],
   "source": [
    "# Output lines\n",
    "for e in eles:\n",
    "    print(ele_line(e))"
   ]
  }
 ],
 "metadata": {
  "kernelspec": {
   "display_name": "Python 3 (ipykernel)",
   "language": "python",
   "name": "python3"
  },
  "language_info": {
   "codemirror_mode": {
    "name": "ipython",
    "version": 3
   },
   "file_extension": ".py",
   "mimetype": "text/x-python",
   "name": "python",
   "nbconvert_exporter": "python",
   "pygments_lexer": "ipython3",
   "version": "3.9.13"
  }
 },
 "nbformat": 4,
 "nbformat_minor": 4
}
