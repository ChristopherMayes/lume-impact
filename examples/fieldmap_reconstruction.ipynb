{
 "cells": [
  {
   "cell_type": "code",
   "execution_count": 1,
   "metadata": {},
   "outputs": [],
   "source": [
    "# Useful for debugging\n",
    "%load_ext autoreload\n",
    "%autoreload 2"
   ]
  },
  {
   "cell_type": "markdown",
   "metadata": {},
   "source": [
    "# Impact-T fieldmap reconstruction"
   ]
  },
  {
   "cell_type": "code",
   "execution_count": 2,
   "metadata": {},
   "outputs": [],
   "source": [
    "from impact import Impact, fieldmaps\n",
    "import numpy as np"
   ]
  },
  {
   "cell_type": "code",
   "execution_count": 3,
   "metadata": {},
   "outputs": [
    {
     "name": "stdout",
     "output_type": "stream",
     "text": [
      "================ Impact-T Summary ================    \n",
      "10000 particles\n",
      "1 bunch of electrons\n",
      "total charge: 249.99999999999997 pC\n",
      "Distribution type: read\n",
      "Cathode start at z = 0 m\n",
      "   emission time: 1.4e-11 s\n",
      "   image charges neglected after z = 0.02 m\n",
      "Processor domain: 1 x 1 = 1 CPUs\n",
      "Space charge grid: 16 x 16 x 16\n",
      "Maximum time steps: 1000000\n",
      "Reference Frequency: 2856000000.0 Hz\n",
      "Initial reference time: 0.0 s\n",
      "Simulation starting from the beginning\n",
      "=================================================\n",
      "\n",
      "Configured to run in: /var/folders/wj/lfgr01993dx79p9cm_skykbw0000gn/T/tmpk26mko3y\n"
     ]
    }
   ],
   "source": [
    "ifile = '../templates/lcls_injector/ImpactT.in'\n",
    "I = Impact(input_file=ifile)"
   ]
  },
  {
   "cell_type": "code",
   "execution_count": 4,
   "metadata": {},
   "outputs": [
    {
     "data": {
      "text/plain": [
       "dict_keys(['rfdata201', 'rfdata102', 'rfdata4', 'rfdata5', 'rfdata6', 'rfdata7'])"
      ]
     },
     "execution_count": 4,
     "metadata": {},
     "output_type": "execute_result"
    }
   ],
   "source": [
    "# Fieldmaps are stored here\n",
    "I.input['fieldmaps'].keys()"
   ]
  },
  {
   "cell_type": "code",
   "execution_count": 5,
   "metadata": {},
   "outputs": [
    {
     "data": {
      "text/plain": [
       "{'description': 'name:SOL1',\n",
       " 'original': '0.49308 0 0 105 0.0 0.0 0.0 0.0 102 0.15 0.0 0.0 0.0 0.0 0.0 0.243 /!name:SOL1',\n",
       " 'L': 0.49308,\n",
       " 'type': 'solrf',\n",
       " 'zedge': 0.0,\n",
       " 'rf_field_scale': 0.0,\n",
       " 'rf_frequency': 0.0,\n",
       " 'theta0_deg': 0.0,\n",
       " 'filename': 'rfdata102',\n",
       " 'radius': 0.15,\n",
       " 'x_offset': 0.0,\n",
       " 'y_offset': 0.0,\n",
       " 'x_rotation': 0.0,\n",
       " 'y_rotation': 0.0,\n",
       " 'z_rotation': 0.0,\n",
       " 'solenoid_field_scale': 0.243,\n",
       " 's': 0.49308,\n",
       " 'name': 'SOL1'}"
      ]
     },
     "execution_count": 5,
     "metadata": {},
     "output_type": "execute_result"
    }
   ],
   "source": [
    "# Look at a solrf element. \n",
    "I.ele['SOL1']"
   ]
  },
  {
   "cell_type": "code",
   "execution_count": 6,
   "metadata": {},
   "outputs": [
    {
     "data": {
      "text/plain": [
       "'rfdata102'"
      ]
     },
     "execution_count": 6,
     "metadata": {},
     "output_type": "execute_result"
    }
   ],
   "source": [
    "# This is its fieldmap filename\n",
    "I.ele['SOL1']['filename']"
   ]
  },
  {
   "cell_type": "code",
   "execution_count": 7,
   "metadata": {},
   "outputs": [
    {
     "data": {
      "text/plain": [
       "{'Ez': {'z0': 0.0, 'z1': 0.0, 'L': 0.0, 'fourier_coefficients': array([0.])},\n",
       " 'Bz': {'z0': -0.53308,\n",
       "  'z1': 0.49308,\n",
       "  'L': 1.02616,\n",
       "  'fourier_coefficients': array([ 7.59104159e-01,  1.86860998e-01,  2.68209187e-09, -4.75732117e-01,\n",
       "          5.68488796e-09, -2.63303014e-01, -2.00685489e-10,  8.31385362e-02,\n",
       "         -1.07061180e-09,  3.32147505e-02,  3.34109023e-09, -4.03166145e-03,\n",
       "          2.36977653e-09,  7.55695585e-02,  7.03628508e-09,  4.05472421e-02,\n",
       "         -7.93679210e-09, -2.78630279e-02, -2.80674359e-08, -1.23309101e-02,\n",
       "         -1.21750197e-08, -1.11917490e-03,  2.72183881e-08, -1.76941899e-02,\n",
       "          2.07775590e-08, -6.82928971e-03, -4.64611502e-09,  9.04327137e-03,\n",
       "         -2.74644209e-08,  3.46208848e-03,  1.22819960e-08,  4.56318358e-04,\n",
       "          2.11520498e-08,  4.27450120e-03, -2.88644504e-08,  7.52482987e-04,\n",
       "         -3.59752217e-08, -2.87393685e-03,  1.26542743e-08, -8.38592686e-04,\n",
       "          3.01815044e-08, -1.30737597e-04, -9.86177028e-09, -1.04357300e-03,\n",
       "         -6.63856936e-09, -2.53914168e-06,  2.18126093e-08,  8.16316559e-04,\n",
       "         -9.00342349e-09,  1.78532652e-04, -3.75346464e-08, -1.85656369e-05,\n",
       "          1.66112357e-08,  2.70906299e-04,  4.30436466e-08, -6.91061736e-05,\n",
       "          1.79889178e-08, -3.21395974e-04, -3.28634884e-08, -6.26834704e-05,\n",
       "          4.78721227e-08,  4.53788783e-05, -2.40687516e-08, -7.00121686e-05,\n",
       "         -1.09529996e-08,  5.88552784e-06, -3.18410200e-08,  9.16404141e-05,\n",
       "          2.20705961e-08, -1.40213052e-05,  8.62505486e-08, -7.90063994e-05,\n",
       "          1.80561930e-08,  9.73707320e-06, -3.55099131e-08, -3.24265398e-05,\n",
       "          8.04201228e-09, -2.52641442e-05,  2.39895303e-08,  7.72642702e-07,\n",
       "         -1.86279094e-08,  3.37057351e-05, -5.60221048e-08,  8.99206468e-06,\n",
       "          3.60553118e-08, -1.69794491e-05,  4.76241852e-08, -8.20592718e-06,\n",
       "         -3.75317080e-08, -1.46785073e-05, -1.35667390e-08, -8.04441471e-06,\n",
       "          9.17261718e-08, -3.13719566e-05,  5.84058221e-08, -4.49735425e-06,\n",
       "         -1.30484352e-07, -1.47358475e-05, -1.10775372e-07,  1.89208186e-05,\n",
       "          5.67838231e-08, -3.75811096e-05,  6.90257455e-08, -2.31210131e-05,\n",
       "         -2.80681931e-08,  4.15569850e-07, -3.99391984e-08,  2.35273720e-05,\n",
       "          1.13469662e-07, -2.13950099e-05,  1.17155810e-08, -2.05874941e-05,\n",
       "         -6.31687124e-08,  2.11433614e-05, -9.36452667e-08, -3.11181571e-05,\n",
       "         -6.42682642e-08, -1.59322792e-05, -1.78752181e-08])}}"
      ]
     },
     "execution_count": 7,
     "metadata": {},
     "output_type": "execute_result"
    }
   ],
   "source": [
    "# That data is here. \n",
    "rdfata = I.input['fieldmaps']['rfdata102']\n",
    "\n",
    "#This will process the fieldmap to extract Ez and Bz\n",
    "fmap = fieldmaps.process_fieldmap_solrf(rdfata['data'])\n",
    "fmap"
   ]
  },
  {
   "cell_type": "code",
   "execution_count": 8,
   "metadata": {},
   "outputs": [
    {
     "data": {
      "text/plain": [
       "0.006497827018878065"
      ]
     },
     "execution_count": 8,
     "metadata": {},
     "output_type": "execute_result"
    }
   ],
   "source": [
    "# Reconstruction function\n",
    "fieldmaps.fieldmap_reconsruction(fmap['Bz'], 0)"
   ]
  },
  {
   "cell_type": "markdown",
   "metadata": {},
   "source": [
    "# Basic plot"
   ]
  },
  {
   "cell_type": "code",
   "execution_count": 9,
   "metadata": {},
   "outputs": [],
   "source": [
    "%matplotlib inline\n",
    "import matplotlib.pyplot as plt\n",
    "plt.style.use('seaborn-whitegrid')"
   ]
  },
  {
   "cell_type": "code",
   "execution_count": 10,
   "metadata": {},
   "outputs": [],
   "source": [
    "zlist = np.linspace(0, 0.49308, 1000)\n",
    "fieldlist = [fieldmaps.fieldmap_reconsruction(fmap['Bz'], z) for z in zlist]"
   ]
  },
  {
   "cell_type": "code",
   "execution_count": 11,
   "metadata": {},
   "outputs": [
    {
     "data": {
      "text/plain": [
       "0.19496156156156158"
      ]
     },
     "execution_count": 11,
     "metadata": {},
     "output_type": "execute_result"
    }
   ],
   "source": [
    "# z at max field\n",
    "zlist[np.argmax(np.array(fieldlist))]"
   ]
  },
  {
   "cell_type": "code",
   "execution_count": 12,
   "metadata": {},
   "outputs": [
    {
     "data": {
      "image/png": "[encoded data removed]",
      "text/plain": [
       "<Figure size 432x288 with 1 Axes>"
      ]
     },
     "metadata": {},
     "output_type": "display_data"
    }
   ],
   "source": [
    "fig = plt.figure()\n",
    "ax = plt.axes()\n",
    "ax.plot(zlist, fieldlist);"
   ]
  },
  {
   "cell_type": "code",
   "execution_count": 13,
   "metadata": {},
   "outputs": [
    {
     "data": {
      "text/plain": [
       "0.4725122148600346"
      ]
     },
     "execution_count": 13,
     "metadata": {},
     "output_type": "execute_result"
    }
   ],
   "source": [
    "# Integrated field (approximate)\n",
    "field_scale = 0.243 # from imput file\n",
    "BL = np.sum(fieldlist)*0.49308/1000  # T*m\n",
    "BL * field_scale * 10 # T*m -> kG*m"
   ]
  },
  {
   "cell_type": "code",
   "execution_count": null,
   "metadata": {},
   "outputs": [],
   "source": []
  }
 ],
 "metadata": {
  "kernelspec": {
   "display_name": "Python 3",
   "language": "python",
   "name": "python3"
  },
  "language_info": {
   "codemirror_mode": {
    "name": "ipython",
    "version": 3
   },
   "file_extension": ".py",
   "mimetype": "text/x-python",
   "name": "python",
   "nbconvert_exporter": "python",
   "pygments_lexer": "ipython3",
   "version": "3.7.6"
  }
 },
 "nbformat": 4,
 "nbformat_minor": 4
}
