{
 "cells": [
  {
   "cell_type": "markdown",
   "metadata": {},
   "source": [
    "# Dipole Example\n",
    "\n",
    "Simple quadrupole example\n"
   ]
  },
  {
   "cell_type": "code",
   "execution_count": 1,
   "metadata": {},
   "outputs": [],
   "source": [
    "# Useful for debugging\n",
    "%load_ext autoreload\n",
    "%autoreload 2\n",
    "\n",
    "import numpy as np\n",
    "import os\n",
    "\n",
    "import matplotlib.pyplot as plt\n",
    "%matplotlib inline\n",
    "%config InlineBackend.figure_format='retina'"
   ]
  },
  {
   "cell_type": "code",
   "execution_count": 2,
   "metadata": {},
   "outputs": [
    {
     "data": {
      "text/plain": [
       "True"
      ]
     },
     "execution_count": 2,
     "metadata": {},
     "output_type": "execute_result"
    }
   ],
   "source": [
    "# locate the drift template\n",
    "from impact import Impact\n",
    "\n",
    "ifile = '../templates/dipole/ImpactT.in'\n",
    "os.path.exists(ifile)"
   ]
  },
  {
   "cell_type": "code",
   "execution_count": 3,
   "metadata": {},
   "outputs": [
    {
     "name": "stdout",
     "output_type": "stream",
     "text": [
      "Configured to run in: /var/folders/wj/lfgr01993dx79p9cm_skykbw0000gn/T/tmpio04u5h9\n",
      "Running Impact-T in /var/folders/wj/lfgr01993dx79p9cm_skykbw0000gn/T/tmpio04u5h9\n",
      "/Users/chrisonian/Code/miniconda3/envs/devel/bin/ImpactTexe\n",
      " !-----------------------------------------------------------\n",
      " ! IMPACT-T Parallel Beam Dynamics Tracking Code: 2.1 beta version\n",
      " ! Copyright of The Regents of the University of California\n",
      " !-----------------------------------------------------------\n",
      " nblem:            2           2\n",
      " pass setting up lattice...\n",
      " check randomness:            0  0.79479214134216858     \n",
      "           0  0.24496010579045746     \n",
      " pass generating initial distribution...\n",
      " i,t,<z>:            1   0.0000000000000000        0.0000000000000000     \n",
      " zmin,zmax:    1.8389888591620600E-004   2.6279620355294294E-003\n",
      " i,t,<z>:            2   9.9999999999999994E-012   1.4962137231638621E-003\n",
      " zmin,zmax:    3.1818230745072162E-003   5.6258862241205521E-003\n",
      " i,t,<z>:            3   1.9999999999999999E-011   4.4941379117549359E-003\n",
      " time:    0.0000000000000000, elapsed: 27.890021800994873652902927834, elapsed: 27.837954044342045812994Finished.\n",
      "Loaded fort 30 : Fourth root of the fourth moments of the beam distribution\n",
      "Loaded fort 25 : RMS Y information\n",
      "Loaded fort 24 : RMS X information\n",
      "Loaded fort 26 : RMS Z information\n",
      "Loaded fort 28 : Load balance and loss diagnostics\n",
      "Loaded fort 29 : Cube root of third moments of the beam distribution\n",
      "Loaded fort 18 : Time and energy\n",
      "Loaded fort 27 : Max amplitude information\n",
      "Loaded fort 37 : Dipole ONLY: Maximum amplitude information in dipole reference coordinate system\n",
      "Loaded fort 36 : Dipole ONLY: Z output information in dipole reference coordinate system \n",
      "Loaded fort 38 : Dipole ONLY: Reference particle information in dipole reference coordinate system\n",
      "Loaded fort 34 : Dipole ONLY: X output information in dipole reference coordinate system\n",
      "Loaded fort 35 : Dipole ONLY: Y output information in dipole reference coordinate system\n",
      "Loaded fort 70 : Slice information of the final distribution\n",
      "Loaded fort 60 : Slice information of the initial distribution\n",
      "Loading particles\n",
      "Loaded fort 40 : initial particle distribution at t = 0\n",
      "Loaded fort 50 : final particle distribution projected to the centroid location of the bunch\n",
      "Converted initial_particles to ParticleGroup\n",
      "Converted final_particles to ParticleGroup\n"
     ]
    }
   ],
   "source": [
    "I = Impact(ifile, verbose=True)\n",
    "#I.header['Bcurr'] = 0.001\n",
    "I.total_charge=1e-12\n",
    "I.run()"
   ]
  },
  {
   "cell_type": "code",
   "execution_count": 4,
   "metadata": {},
   "outputs": [
    {
     "name": "stdout",
     "output_type": "stream",
     "text": [
      "! Impact-T input file\n",
      "!Npcol Nprow\n",
      "1 1\n",
      "!Dt Ntstep Nbunch\n",
      "1e-11 10000000 1\n",
      "!Dim Np Flagmap Flagerr Flagdiag Flagimg Zimage\n",
      "6 10000 1 0 2 0 0.02\n",
      "!Nx Ny Nz Flagbc Xrad Yrad Perdlen\n",
      "32 32 32 1 0.015 0.015 45.0\n",
      "!Flagdist Rstartflg Flagsbstp Nemission Temission\n",
      "2 0 0 0 0.0\n",
      "!sigx(m) sigpx muxpx xscale pxscale xmu1(m) xmu2\n",
      "1e-05 0.0005 0.0 1.0 1.0 0.0 0.0\n",
      "!sigy(m) sigpy muxpy yscale pyscale ymu1(m) ymu2\n",
      "1e-05 0.0 0.0 1.0 1.0 0.0 0.0\n",
      "!sigz(m) sigpz muxpz zscale pzscale zmu1(m) zmu2\n",
      "0.0003 0.0 0.0 1.0 1.0 0.0 1956.9511835591836\n",
      "!Bcurr Bkenergy Bmass Bcharge Bfreq Tini\n",
      "0.001 1.0 510998.95 -1.0 1000000000.0 0.0\n",
      "!=================== LATTICE ===================\n",
      "0 0 0 -8 0.0 -1 -1000.0 /!name:SC_off\n",
      "!0.2 0 0 1 0.5 2.98 0.108 0.016 0.0 0.0 0.0 0.0 0.0 /!name:QE04\n",
      "2.2 0 0 4 0.5 0.0 -0.33356405164803316 777 0.01 /!name:B1\n",
      "!0 1 42 -2 0.0 0.0 3.0 /!name:beam1\n",
      "!0 1 43 -2 0.0 0.0 3.1 /!name:beam2\n",
      "!0 0 0 -99 0 0.0 3.7 /!name:stop_1\n"
     ]
    }
   ],
   "source": [
    "!cat {I.path}/ImpactT.in"
   ]
  },
  {
   "cell_type": "code",
   "execution_count": 5,
   "metadata": {},
   "outputs": [
    {
     "data": {
      "text/plain": [
       "1956.9509280596917"
      ]
     },
     "execution_count": 5,
     "metadata": {},
     "output_type": "execute_result"
    }
   ],
   "source": [
    "# calculate gamma*beta\n",
    "mec2 = 0.51099895000e6 # eV\n",
    "Etot = 1e9 #eV\n",
    "gamma = Etot/mec2\n",
    "GB = np.sqrt(gamma**2 -1)\n",
    "GB\n"
   ]
  },
  {
   "cell_type": "code",
   "execution_count": 6,
   "metadata": {},
   "outputs": [
    {
     "name": "stdout",
     "output_type": "stream",
     "text": [
      "1\n",
      "1956.9511835591834\n",
      "0.0\n",
      "0.0\n",
      "0.0\n",
      "0.03\n",
      "0.2131424443826454\n",
      "2.131087505316458\n",
      "0.2131424443826454\n",
      "2.1617613823364508\n",
      "0.03\n",
      "0.03\n",
      "0\n",
      "2.0\n",
      "0\n",
      "0\n",
      "0\n",
      "0\n",
      "0\n",
      "0\n",
      "0.015\n",
      "2.145\n"
     ]
    }
   ],
   "source": [
    "from impact.elements.dipole import new_dipole_fieldmap_data, dipole_fieldmap_lines\n",
    "#THETA = 30*np.pi/180\n",
    "MYL = 2.1\n",
    "#MYG = THETA/MYL\n",
    "GAMMA=1e9/mec2\n",
    "MYG = 1/10\n",
    "#GAMMA = 1e9/mec2\n",
    "THETA = MYG*MYL\n",
    "\n",
    "\n",
    "GB = np.sqrt(GAMMA**2 -1)\n",
    "\n",
    "DMAP = new_dipole_fieldmap_data(L=MYL, g=MYG, gamma_ref=GAMMA, e1=0, e2=0,  half_gap=0.01, fint=0.5, csr_on=True)\n",
    "\n",
    "# make fieldmap\n",
    "print(dipole_fieldmap_lines(DMAP, '../templates/dipole/rfdata777'))"
   ]
  },
  {
   "cell_type": "code",
   "execution_count": 7,
   "metadata": {},
   "outputs": [
    {
     "data": {
      "text/plain": [
       "{'csr_on': 1,\n",
       " 'gamma_ref': 1956.9511835591834,\n",
       " 'entrance_s': 0.015,\n",
       " 'exit_s': 2.145,\n",
       " 'k1': 0.0,\n",
       " 'k2': 0.0,\n",
       " 'b1': 0.0,\n",
       " 'b2': 0.03,\n",
       " 'k3': 0.2131424443826454,\n",
       " 'k4': 0.2131424443826454,\n",
       " 'b3': 2.131087505316458,\n",
       " 'b4': 2.1617613823364508,\n",
       " 'c1': 0,\n",
       " 'c2': 2.0,\n",
       " 'c3': 0,\n",
       " 'c4': 0,\n",
       " 'c5': 0,\n",
       " 'c6': 0,\n",
       " 'c7': 0,\n",
       " 'c8': 0,\n",
       " 'w1': 0.03,\n",
       " 'w2': 0.03}"
      ]
     },
     "execution_count": 7,
     "metadata": {},
     "output_type": "execute_result"
    }
   ],
   "source": [
    "DMAP"
   ]
  },
  {
   "cell_type": "markdown",
   "metadata": {},
   "source": [
    "# Use Impact's built-in Gaussian particle generator"
   ]
  },
  {
   "cell_type": "code",
   "execution_count": 8,
   "metadata": {},
   "outputs": [
    {
     "name": "stdout",
     "output_type": "stream",
     "text": [
      "================ Impact-T Summary ================    \n",
      "1000000 particles\n",
      "1 bunch of electrons\n",
      "total charge: 1.0 pC\n",
      "Distribution type: gauss3\n",
      "Free space start\n",
      "Processor domain: 1 x 1 = 1 CPUs\n",
      "Space charge grid: 32 x 32 x 256\n",
      "Maximum time steps: 10000000\n",
      "Reference Frequency: 1000000000.0 Hz\n",
      "Initial reference time: 0.0 s\n",
      "Simulation starting from the beginning\n",
      "=================================================\n",
      "Impact-T configured in /var/folders/wj/lfgr01993dx79p9cm_skykbw0000gn/T/tmpgd203g6x\n"
     ]
    }
   ],
   "source": [
    "I = Impact(ifile)\n",
    "\n",
    "c_light=299792458.\n",
    "\n",
    "I.header['Np'] = 1000000\n",
    "I.header['Nx'] = 32\n",
    "I.header['Ny'] = 32\n",
    "I.header['Nz'] = 256\n",
    "I.header['Dt'] = 0.01/c_light\n",
    "#I.header['Ntstep'] = 200\n",
    "#I.input['fieldmaps']['rfdata777']['data'][0] = 1 # Turn on/off CSR\n",
    "#I.input['fieldmaps']['rfdata777']['data'][-1] = 1 # exit_s\n",
    "I.ele['B1']['L'] = MYL\n",
    "\n",
    "#I.header['zmu2'] = GB\n",
    "#I.stop = 3.1\n",
    "I.total_charge = 1e-12\n",
    "I.verbose=True\n",
    "I.write_input()\n",
    "print(I)"
   ]
  },
  {
   "cell_type": "code",
   "execution_count": 9,
   "metadata": {},
   "outputs": [
    {
     "name": "stdout",
     "output_type": "stream",
     "text": [
      "! Impact-T input file\n",
      "!Npcol Nprow\n",
      "1 1\n",
      "!Dt Ntstep Nbunch\n",
      "3.335640951981521e-11 10000000 1\n",
      "!Dim Np Flagmap Flagerr Flagdiag Flagimg Zimage\n",
      "6 1000000 1 0 2 0 0.02\n",
      "!Nx Ny Nz Flagbc Xrad Yrad Perdlen\n",
      "32 32 256 1 0.015 0.015 45.0\n",
      "!Flagdist Rstartflg Flagsbstp Nemission Temission\n",
      "2 0 0 0 0.0\n",
      "!sigx(m) sigpx muxpx xscale pxscale xmu1(m) xmu2\n",
      "1e-05 0.0005 0.0 1.0 1.0 0.0 0.0\n",
      "!sigy(m) sigpy muxpy yscale pyscale ymu1(m) ymu2\n",
      "1e-05 0.0 0.0 1.0 1.0 0.0 0.0\n",
      "!sigz(m) sigpz muxpz zscale pzscale zmu1(m) zmu2\n",
      "0.0003 0.0 0.0 1.0 1.0 0.0 1956.9511835591836\n",
      "!Bcurr Bkenergy Bmass Bcharge Bfreq Tini\n",
      "0.001 1.0 510998.95 -1.0 1000000000.0 0.0\n",
      "!=================== LATTICE ===================\n",
      "0 0 0 -8 0.0 -1 -1000.0 /!name:SC_off\n",
      "!0.2 0 0 1 0.5 2.98 0.108 0.016 0.0 0.0 0.0 0.0 0.0 /!name:QE04\n",
      "2.1 0 0 4 0.5 0.0 -0.33356405164803316 777 0.01 /!name:B1\n",
      "!0 1 42 -2 0.0 0.0 3.0 /!name:beam1\n",
      "!0 1 43 -2 0.0 0.0 3.1 /!name:beam2\n",
      "!0 0 0 -99 0 0.0 3.7 /!name:stop_1\n"
     ]
    }
   ],
   "source": [
    "!cat {I.path}/ImpactT.in"
   ]
  },
  {
   "cell_type": "code",
   "execution_count": 10,
   "metadata": {},
   "outputs": [
    {
     "name": "stdout",
     "output_type": "stream",
     "text": [
      "Running Impact-T in /var/folders/wj/lfgr01993dx79p9cm_skykbw0000gn/T/tmpgd203g6x\n",
      "/Users/chrisonian/Code/miniconda3/envs/devel/bin/ImpactTexe\n",
      " !-----------------------------------------------------------\n",
      " ! IMPACT-T Parallel Beam Dynamics Tracking Code: 2.1 beta version\n",
      " ! Copyright of The Regents of the University of California\n",
      " !-----------------------------------------------------------\n",
      " nblem:            2           2\n",
      " pass setting up lattice...\n",
      " check randomness:            0  0.79479214134216858     \n",
      "           0  0.24496010579045746     \n",
      " pass generating initial distribution...\n",
      " i,t,<z>:            1   0.0000000000000000        0.0000000000000000     \n",
      " zmin,zmax:    3.5219718148412848E-003   6.7445921877632292E-003\n",
      " i,t,<z>:            2   3.3356409519815209E-011   4.9999619403050463E-003\n",
      " zmin,zmax:    1.3521970509241475E-002   1.6744590882163828E-002\n",
      " i,t,<z>:            3   6.6712819039630417E-011   1.4999960634705186E-002\n",
      " time:    0.0000000000000000, elapsed: 133.3052899837494Finished.5949, elapsed: 128.789163589477548941\n",
      "Loaded fort 30 : Fourth root of the fourth moments of the beam distribution\n",
      "Loaded fort 25 : RMS Y information\n",
      "Loaded fort 24 : RMS X information\n",
      "Loaded fort 26 : RMS Z information\n",
      "Loaded fort 28 : Load balance and loss diagnostics\n",
      "Loaded fort 29 : Cube root of third moments of the beam distribution\n",
      "Loaded fort 18 : Time and energy\n",
      "Loaded fort 27 : Max amplitude information\n",
      "Loaded fort 37 : Dipole ONLY: Maximum amplitude information in dipole reference coordinate system\n",
      "Loaded fort 36 : Dipole ONLY: Z output information in dipole reference coordinate system \n",
      "Loaded fort 38 : Dipole ONLY: Reference particle information in dipole reference coordinate system\n",
      "Loaded fort 34 : Dipole ONLY: X output information in dipole reference coordinate system\n",
      "Loaded fort 35 : Dipole ONLY: Y output information in dipole reference coordinate system\n",
      "Loaded fort 70 : Slice information of the final distribution\n",
      "Loaded fort 60 : Slice information of the initial distribution\n",
      "Loading particles\n",
      "Loaded fort 40 : initial particle distribution at t = 0\n",
      "Loaded fort 50 : final particle distribution projected to the centroid location of the bunch\n",
      "Converted initial_particles to ParticleGroup\n",
      "Converted final_particles to ParticleGroup\n"
     ]
    }
   ],
   "source": [
    "I.run()"
   ]
  },
  {
   "cell_type": "code",
   "execution_count": 11,
   "metadata": {},
   "outputs": [
    {
     "name": "stdout",
     "output_type": "stream",
     "text": [
      "Archiving to file impact_cca8f2409557b4d2474e4d0945496876.h5\n"
     ]
    },
    {
     "data": {
      "text/plain": [
       "'impact_cca8f2409557b4d2474e4d0945496876.h5'"
      ]
     },
     "execution_count": 11,
     "metadata": {},
     "output_type": "execute_result"
    }
   ],
   "source": [
    "I.archive()"
   ]
  },
  {
   "cell_type": "code",
   "execution_count": 12,
   "metadata": {},
   "outputs": [
    {
     "data": {
      "text/plain": [
       "2.5999999972294443"
      ]
     },
     "execution_count": 12,
     "metadata": {},
     "output_type": "execute_result"
    }
   ],
   "source": [
    "PF = I.particles['final_particles']\n",
    "PF['mean_z']"
   ]
  },
  {
   "cell_type": "code",
   "execution_count": 13,
   "metadata": {},
   "outputs": [],
   "source": [
    "P26 = PF.copy()"
   ]
  },
  {
   "cell_type": "code",
   "execution_count": 14,
   "metadata": {},
   "outputs": [
    {
     "data": {
      "image/png": "[encoded data removed]",
      "text/plain": [
       "<Figure size 864x576 with 3 Axes>"
      ]
     },
     "metadata": {
      "image/png": {
       "height": 480,
       "width": 727
      },
      "needs_background": "light"
     },
     "output_type": "display_data"
    }
   ],
   "source": [
    "PF.plot('delta_z', 'delta_p', bins=100, figsize=(12,8))"
   ]
  },
  {
   "cell_type": "code",
   "execution_count": 15,
   "metadata": {},
   "outputs": [],
   "source": [
    "P2 = PF.copy()"
   ]
  },
  {
   "cell_type": "code",
   "execution_count": null,
   "metadata": {},
   "outputs": [],
   "source": [
    "P1['mean_z'], P2['mean_z']"
   ]
  },
  {
   "cell_type": "code",
   "execution_count": null,
   "metadata": {},
   "outputs": [],
   "source": [
    "k1 = 'min_p'\n",
    "P1[k1], P4[k1], P3[k1]"
   ]
  },
  {
   "cell_type": "code",
   "execution_count": null,
   "metadata": {},
   "outputs": [],
   "source": [
    "k1='delta_z'\n",
    "k2='p'\n",
    "plt.scatter(P1[k1], P1[k2])\n",
    "plt.scatter(P2[k1], P2[k2])"
   ]
  },
  {
   "cell_type": "code",
   "execution_count": null,
   "metadata": {},
   "outputs": [],
   "source": [
    "I.particles['initial_particles'].plot('y', 'py')"
   ]
  },
  {
   "cell_type": "markdown",
   "metadata": {},
   "source": [
    "# Single particle tracking"
   ]
  },
  {
   "cell_type": "code",
   "execution_count": 17,
   "metadata": {},
   "outputs": [],
   "source": [
    "from impact.elements import dipole"
   ]
  },
  {
   "cell_type": "code",
   "execution_count": 18,
   "metadata": {},
   "outputs": [
    {
     "data": {
      "text/plain": [
       "<function impact.elements.dipole.parse_dipole_fieldmap_data(data)>"
      ]
     },
     "execution_count": 18,
     "metadata": {},
     "output_type": "execute_result"
    }
   ],
   "source": [
    "dipole.parse_dipole_fieldmap_data"
   ]
  },
  {
   "cell_type": "code",
   "execution_count": 19,
   "metadata": {},
   "outputs": [
    {
     "data": {
      "text/plain": [
       "{'description': 'name:B1',\n",
       " 'original': '2.2 0 0 4 0.5 0.0 -0.33356405164803316 777 0.01 /!name:B1',\n",
       " 'L': 2.1,\n",
       " 'type': 'dipole',\n",
       " 'zedge': 0.5,\n",
       " 'b_field_x': 0.0,\n",
       " 'b_field': -0.33356405164803316,\n",
       " 'filename': 'rfdata777',\n",
       " 'half_gap': 0.01,\n",
       " 's': 2.7,\n",
       " 'name': 'B1'}"
      ]
     },
     "execution_count": 19,
     "metadata": {},
     "output_type": "execute_result"
    }
   ],
   "source": [
    "I.ele['B1']"
   ]
  },
  {
   "cell_type": "code",
   "execution_count": 20,
   "metadata": {},
   "outputs": [
    {
     "data": {
      "text/plain": [
       "{'csr_on': 1.0,\n",
       " 'gamma_ref': 1956.9511835591834,\n",
       " 'k1': 0.0,\n",
       " 'b1': 0.0,\n",
       " 'k2': 0.0,\n",
       " 'b2': 0.03,\n",
       " 'k3': 0.2131424443826454,\n",
       " 'b3': 2.131087505316458,\n",
       " 'k4': 0.2131424443826454,\n",
       " 'b4': 2.1617613823364508,\n",
       " 'w1': 0.03,\n",
       " 'w2': 0.03,\n",
       " 'c1': 0.0,\n",
       " 'c2': 2.0,\n",
       " 'c3': 0.0,\n",
       " 'c4': 0.0,\n",
       " 'c5': 0.0,\n",
       " 'c6': 0.0,\n",
       " 'c7': 0.0,\n",
       " 'c8': 0.0,\n",
       " 'entrance_s': 0.015,\n",
       " 'exit_s': 2.145}"
      ]
     },
     "execution_count": 20,
     "metadata": {},
     "output_type": "execute_result"
    }
   ],
   "source": [
    "DATA = I.input['fieldmaps'][I.ele['B1']['filename']]['data']\n",
    "DMAP = dipole.parse_dipole_fieldmap_data(DATA)\n",
    "DMAP"
   ]
  },
  {
   "cell_type": "code",
   "execution_count": 21,
   "metadata": {},
   "outputs": [
    {
     "name": "stdout",
     "output_type": "stream",
     "text": [
      "Running Impact-T in /var/folders/wj/lfgr01993dx79p9cm_skykbw0000gn/T/tmpgd203g6x\n",
      "/Users/chrisonian/Code/miniconda3/envs/devel/bin/ImpactTexe\n",
      "writing 1 particles to /var/folders/wj/lfgr01993dx79p9cm_skykbw0000gn/T/tmpgd203g6x/partcl.data\n",
      "Normal start with at time 0 s\n",
      "Normal start: Replaced Np with 1 according to initial particles\n",
      "Normal start: Replaced Tini with 0 according to initial particles\n",
      "Normal start: Replaced Flagimg with 0 according to initial particles\n",
      "Changing particle offset factor zmu2 to 0\n",
      "Single particle, turning space charge off\n",
      " !-----------------------------------------------------------\n",
      " ! IMPACT-T Parallel Beam Dynamics Tracking Code: 2.1 beta version\n",
      " ! Copyright of The Regents of the University of California\n",
      " !-----------------------------------------------------------\n",
      " nblem:            2           2\n",
      " pass setting up lattice...\n",
      " check randomness:            0  0.79479214134216858     \n",
      " avgpts, jlow, and jhigh:            1           1           1\n",
      " sumx1,sumy1:    0.0000000000000000        0.0000000000000000     \n",
      " pass generating initial distribution...\n",
      " i,t,<z>:            1   0.0000000000000000        0.0000000000000000     \n",
      " zmin,zmax:    4.9999993472003117E-003   4.9999993472003117E-003\n",
      " i,t,<z>:            2   3.3356409519815209E-011   4.9999993472003117E-003\n",
      " zmin,zmax:    1.4999998041600935E-002   1.4999998041600935E-002\n",
      " time:    0.0000000000000000, elapsed: 0.08347201347351074Finished.98, elapsed: 0.0824339389801025472852\n",
      "Loaded fort 30 : Fourth root of the fourth moments of the beam distribution\n",
      "Loaded fort 25 : RMS Y information\n",
      "Loaded fort 24 : RMS X information\n",
      "Loaded fort 26 : RMS Z information\n",
      "Loaded fort 28 : Load balance and loss diagnostics\n",
      "Loaded fort 29 : Cube root of third moments of the beam distribution\n",
      "Loaded fort 18 : Time and energy\n",
      "Loaded fort 27 : Max amplitude information\n",
      "Loaded fort 37 : Dipole ONLY: Maximum amplitude information in dipole reference coordinate system\n",
      "Loaded fort 36 : Dipole ONLY: Z output information in dipole reference coordinate system \n",
      "Loaded fort 38 : Dipole ONLY: Reference particle information in dipole reference coordinate system\n",
      "Loaded fort 34 : Dipole ONLY: X output information in dipole reference coordinate system\n",
      "Loaded fort 35 : Dipole ONLY: Y output information in dipole reference coordinate system\n",
      "Loaded fort 70 : Slice information of the final distribution\n",
      "Loaded fort 60 : Slice information of the initial distribution\n",
      "Loading particles\n",
      "Loaded fort 40 : initial particle distribution at t = 0\n",
      "Loaded fort 50 : final particle distribution projected to the centroid location of the bunch\n",
      "Converted initial_particles to ParticleGroup\n",
      "Converted final_particles to ParticleGroup\n"
     ]
    },
    {
     "data": {
      "text/plain": [
       "'/var/folders/wj/lfgr01993dx79p9cm_skykbw0000gn/T/tmpgd203g6x'"
      ]
     },
     "execution_count": 21,
     "metadata": {},
     "output_type": "execute_result"
    }
   ],
   "source": [
    "I.verbose=True\n",
    "I.track1(pz0=1e9)\n",
    "I.path"
   ]
  },
  {
   "cell_type": "code",
   "execution_count": 22,
   "metadata": {},
   "outputs": [
    {
     "data": {
      "text/plain": [
       "16"
      ]
     },
     "execution_count": 22,
     "metadata": {},
     "output_type": "execute_result"
    }
   ],
   "source": [
    "I.header['Flagdist']"
   ]
  },
  {
   "cell_type": "code",
   "execution_count": 23,
   "metadata": {},
   "outputs": [
    {
     "data": {
      "image/png": "[encoded data removed]",
      "text/plain": [
       "<Figure size 432x288 with 1 Axes>"
      ]
     },
     "metadata": {
      "image/png": {
       "height": 132,
       "width": 400
      },
      "needs_background": "light"
     },
     "output_type": "display_data"
    }
   ],
   "source": [
    "dipole.plot_dipole_fieldmap(DMAP, ref_data=I.output['dipole_stats'], g=1/10, L=3.0)"
   ]
  },
  {
   "cell_type": "code",
   "execution_count": 24,
   "metadata": {},
   "outputs": [],
   "source": [
    "I.input['fieldmaps']['rfdata777']['data'][0] = 1"
   ]
  },
  {
   "cell_type": "code",
   "execution_count": 25,
   "metadata": {},
   "outputs": [
    {
     "name": "stdout",
     "output_type": "stream",
     "text": [
      "Running Impact-T in /var/folders/wj/lfgr01993dx79p9cm_skykbw0000gn/T/tmpgd203g6x\n",
      "/Users/chrisonian/Code/miniconda3/envs/devel/bin/ImpactTexe\n",
      "writing 1 particles to /var/folders/wj/lfgr01993dx79p9cm_skykbw0000gn/T/tmpgd203g6x/partcl.data\n",
      "Normal start with at time 0 s\n",
      "Normal start: Replaced Np with 1 according to initial particles\n",
      "Normal start: Replaced Tini with 0 according to initial particles\n",
      "Normal start: Replaced Flagimg with 0 according to initial particles\n",
      "Single particle, turning space charge off\n",
      " !-----------------------------------------------------------\n",
      " ! IMPACT-T Parallel Beam Dynamics Tracking Code: 2.1 beta version\n",
      " ! Copyright of The Regents of the University of California\n",
      " !-----------------------------------------------------------\n",
      " nblem:            2           2\n",
      " pass setting up lattice...\n",
      " check randomness:            0  0.79479214134216858     \n",
      " avgpts, jlow, and jhigh:            1           1           1\n",
      " sumx1,sumy1:    0.0000000000000000        0.0000000000000000     \n",
      " pass generating initial distribution...\n",
      " i,t,<z>:            1   0.0000000000000000        0.0000000000000000     \n",
      " zmin,zmax:    4.9999993472003117E-003   4.9999993472003117E-003\n",
      " i,t,<z>:            2   3.3356409519815209E-011   4.9999993472003117E-003\n",
      " zmin,zmax:    1.4999998041600935E-002   1.4999998041600935E-002\n",
      " time:    0.0000000000000000, elapsed: 0.04313921928405762Finished.98, elapsed: 0.04164409637451172467972\n",
      "Loaded fort 30 : Fourth root of the fourth moments of the beam distribution\n",
      "Loaded fort 25 : RMS Y information\n",
      "Loaded fort 24 : RMS X information\n",
      "Loaded fort 26 : RMS Z information\n",
      "Loaded fort 28 : Load balance and loss diagnostics\n",
      "Loaded fort 29 : Cube root of third moments of the beam distribution\n",
      "Loaded fort 18 : Time and energy\n",
      "Loaded fort 27 : Max amplitude information\n",
      "Loaded fort 37 : Dipole ONLY: Maximum amplitude information in dipole reference coordinate system\n",
      "Loaded fort 36 : Dipole ONLY: Z output information in dipole reference coordinate system \n",
      "Loaded fort 38 : Dipole ONLY: Reference particle information in dipole reference coordinate system\n",
      "Loaded fort 34 : Dipole ONLY: X output information in dipole reference coordinate system\n",
      "Loaded fort 35 : Dipole ONLY: Y output information in dipole reference coordinate system\n",
      "Loaded fort 70 : Slice information of the final distribution\n",
      "Loaded fort 60 : Slice information of the initial distribution\n",
      "Loading particles\n",
      "Loaded fort 40 : initial particle distribution at t = 0\n",
      "Loaded fort 50 : final particle distribution projected to the centroid location of the bunch\n",
      "Converted initial_particles to ParticleGroup\n",
      "Converted final_particles to ParticleGroup\n"
     ]
    }
   ],
   "source": [
    "I.run()"
   ]
  },
  {
   "cell_type": "markdown",
   "metadata": {},
   "source": [
    "# CSR analysis"
   ]
  },
  {
   "cell_type": "code",
   "execution_count": 26,
   "metadata": {},
   "outputs": [
    {
     "name": "stdout",
     "output_type": "stream",
     "text": [
      "Configured to run in: /var/folders/wj/lfgr01993dx79p9cm_skykbw0000gn/T/tmpv6lfbjuo\n",
      "Set stop to s = 2.5\n",
      "Running Impact-T in /var/folders/wj/lfgr01993dx79p9cm_skykbw0000gn/T/tmpv6lfbjuo\n",
      "/Users/chrisonian/Code/miniconda3/envs/devel/bin/ImpactTexe\n",
      "writing 1 particles to /var/folders/wj/lfgr01993dx79p9cm_skykbw0000gn/T/tmpv6lfbjuo/partcl.data\n",
      "Normal start with at time 0 s\n",
      "Normal start: Replaced Np with 1 according to initial particles\n",
      "Normal start: Replaced Tini with 0 according to initial particles\n",
      "Normal start: Replaced Flagimg with 0 according to initial particles\n",
      "Single particle, turning space charge off\n",
      " !-----------------------------------------------------------\n",
      " ! IMPACT-T Parallel Beam Dynamics Tracking Code: 2.1 beta version\n",
      " ! Copyright of The Regents of the University of California\n",
      " !-----------------------------------------------------------\n",
      " nblem:            3           3\n",
      " pass setting up lattice...\n",
      " check randomness:            0  0.79479214134216858     \n",
      " avgpts, jlow, and jhigh:            1           1           1\n",
      " sumx1,sumy1:    0.0000000000000000        0.0000000000000000     \n",
      " pass generating initial distribution...\n",
      " tstop:    2.5000000000000000     \n",
      " i,t,<z>:            1   0.0000000000000000        0.0000000000000000     \n",
      " zmin,zmax:    4.9999993472003117E-003   4.9999993472003117E-003\n",
      " i,t,<z>:            2   3.3356409519815209E-011   4.9999993472003117E-003\n",
      " time:    0.0000000000000000, elapsed: 0.039372920989990234Finished.8, elapsed: 0.03685593605041504502934\n",
      "Loaded fort 30 : Fourth root of the fourth moments of the beam distribution\n",
      "Loaded fort 25 : RMS Y information\n",
      "Loaded fort 24 : RMS X information\n",
      "Loaded fort 26 : RMS Z information\n",
      "Loaded fort 28 : Load balance and loss diagnostics\n",
      "Loaded fort 29 : Cube root of third moments of the beam distribution\n",
      "Loaded fort 18 : Time and energy\n",
      "Loaded fort 27 : Max amplitude information\n",
      "Loaded fort 37 : Dipole ONLY: Maximum amplitude information in dipole reference coordinate system\n",
      "Loaded fort 36 : Dipole ONLY: Z output information in dipole reference coordinate system \n",
      "Loaded fort 38 : Dipole ONLY: Reference particle information in dipole reference coordinate system\n",
      "Loaded fort 34 : Dipole ONLY: X output information in dipole reference coordinate system\n",
      "Loaded fort 35 : Dipole ONLY: Y output information in dipole reference coordinate system\n",
      "Loaded fort 70 : Slice information of the final distribution\n",
      "Loaded fort 60 : Slice information of the initial distribution\n",
      "Loading particles\n",
      "Loaded fort 40 : initial particle distribution at t = 0\n",
      "Loaded fort 50 : final particle distribution projected to the centroid location of the bunch\n",
      "Converted initial_particles to ParticleGroup\n",
      "Converted final_particles to ParticleGroup\n"
     ]
    }
   ],
   "source": [
    "I2 = I.copy()\n",
    "I2.configure()\n",
    "I2.stop = 2.5\n",
    "I2.run()"
   ]
  },
  {
   "cell_type": "code",
   "execution_count": 27,
   "metadata": {},
   "outputs": [
    {
     "data": {
      "text/plain": [
       "96.54656146933664"
      ]
     },
     "execution_count": 27,
     "metadata": {},
     "output_type": "execute_result"
    }
   ],
   "source": [
    "from scipy.constants import physical_constants\n",
    "\n",
    "mec2 = physical_constants['electron mass energy equivalent in MeV'][0]*1e6\n",
    "\n",
    "c_light = 299792458. # m/s\n",
    "\n",
    "r_electron = physical_constants['classical electron radius'][0]\n",
    "\n",
    "def W0_calc(rho=10, sigma_z=0.0003, total_charge=1e-12):\n",
    "    \n",
    "    N = total_charge/1.6e-19\n",
    "    \n",
    "    return N*r_electron*mec2 / rho**(2/3.) / sigma_z**(4/3.)\n",
    "    \n",
    "W0 = W0_calc()  \n",
    "\n",
    "W0"
   ]
  },
  {
   "cell_type": "code",
   "execution_count": null,
   "metadata": {},
   "outputs": [],
   "source": [
    "I1 = Impact.from_archive('impact_6bcb411d0efbbf51d6df8096bdc4dd0d.h5') # 2.5 m\n",
    "\n",
    "I2 = Impact.from_archive('impact_8abe9fea7069035129b86b72021a3957.h5') # 2.6 m\n",
    "\n",
    "P1 = I1.particles['final_particles']\n",
    "z1 = P1['mean_z']\n",
    "P1.z -= z1\n",
    "\n",
    "P2 = I2.particles['final_particles']\n",
    "z2 = P2['mean_z']\n",
    "P2.z -= z2\n",
    "\n",
    "z1, z2, "
   ]
  },
  {
   "cell_type": "code",
   "execution_count": null,
   "metadata": {},
   "outputs": [],
   "source": [
    "from pmd_beamphysics.statistics import slice_statistics\n",
    "?slice_statistics"
   ]
  },
  {
   "cell_type": "code",
   "execution_count": null,
   "metadata": {},
   "outputs": [],
   "source": [
    "dat1 = slice_statistics(P1, keys=['mean_z', 'mean_energy'])\n",
    "dat2 = slice_statistics(P2, keys=['mean_z', 'mean_energy'])"
   ]
  },
  {
   "cell_type": "code",
   "execution_count": null,
   "metadata": {},
   "outputs": [],
   "source": [
    "plt.plot(dat1['mean_z'], dat1['mean_energy'])"
   ]
  },
  {
   "cell_type": "code",
   "execution_count": null,
   "metadata": {},
   "outputs": [],
   "source": [
    "Z = np.linspace(-6e-4, 6e-4, 100)\n",
    "E1 = np.interp(Z, dat1['mean_z'], dat1['mean_energy'])\n",
    "E2 = np.interp(Z, dat2['mean_z'], dat2['mean_energy'])"
   ]
  },
  {
   "cell_type": "code",
   "execution_count": null,
   "metadata": {},
   "outputs": [],
   "source": [
    "\n",
    "dz = z2-z1\n",
    "dz"
   ]
  },
  {
   "cell_type": "code",
   "execution_count": null,
   "metadata": {},
   "outputs": [],
   "source": [
    "plt.plot(Z, E1)\n",
    "plt.plot(Z, E2)"
   ]
  },
  {
   "cell_type": "code",
   "execution_count": null,
   "metadata": {},
   "outputs": [],
   "source": [
    "plt.xlabel('$z/\\sigma_z$')\n",
    "plt.ylabel('$dE/dz/W_0$')\n",
    "plt.plot(Z/0.0003, (E2-E1)/dz/W0)"
   ]
  },
  {
   "cell_type": "code",
   "execution_count": null,
   "metadata": {},
   "outputs": [],
   "source": [
    "# Mathematica computed\n",
    "SSdat = np.loadtxt('../../devel/steadystate_csr_wake.dat').T\n",
    "SSz = SSdat[0]\n",
    "SSw = SSdat[1]\n",
    "plt.plot(SSz, SSw)"
   ]
  },
  {
   "cell_type": "code",
   "execution_count": null,
   "metadata": {},
   "outputs": [],
   "source": [
    "plt.xlabel('$z/\\sigma_z$')\n",
    "plt.ylabel('$dE/dz/W_0$')\n",
    "plt.scatter(Z/0.0003, (E2-E1)/dz/W0, label='Impact-T', color='red')\n",
    "plt.plot(SSz, SSw, label='1-D model', color='black')\n",
    "plt.legend()"
   ]
  },
  {
   "cell_type": "code",
   "execution_count": null,
   "metadata": {},
   "outputs": [],
   "source": [
    "0.02**(2/3)*2.5"
   ]
  },
  {
   "cell_type": "code",
   "execution_count": null,
   "metadata": {},
   "outputs": [],
   "source": [
    "(0.0006)**(-2/3)*(100.0)**(-1/3) * 0.0254/2"
   ]
  },
  {
   "cell_type": "code",
   "execution_count": null,
   "metadata": {},
   "outputs": [],
   "source": [
    "W0_calc(rho=10, sigma_z=0.05, total_charge=1e-9) / 2.5e6"
   ]
  },
  {
   "cell_type": "code",
   "execution_count": null,
   "metadata": {},
   "outputs": [],
   "source": []
  }
 ],
 "metadata": {
  "kernelspec": {
   "display_name": "Python 3 (ipykernel)",
   "language": "python",
   "name": "python3"
  },
  "language_info": {
   "codemirror_mode": {
    "name": "ipython",
    "version": 3
   },
   "file_extension": ".py",
   "mimetype": "text/x-python",
   "name": "python",
   "nbconvert_exporter": "python",
   "pygments_lexer": "ipython3",
   "version": "3.9.7"
  }
 },
 "nbformat": 4,
 "nbformat_minor": 4
}
