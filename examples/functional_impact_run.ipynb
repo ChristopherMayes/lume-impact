{
 "cells": [
  {
   "cell_type": "code",
   "execution_count": 1,
   "metadata": {},
   "outputs": [],
   "source": [
    "# Useful for debugging\n",
    "%load_ext autoreload\n",
    "%autoreload 2"
   ]
  },
  {
   "cell_type": "code",
   "execution_count": 2,
   "metadata": {},
   "outputs": [],
   "source": [
    "# Nicer plotting\n",
    "import matplotlib.pyplot as plt\n",
    "import matplotlib\n",
    "%matplotlib inline\n",
    "%config InlineBackend.figure_format = 'retina'\n",
    "matplotlib.rcParams['figure.figsize'] = (8,4)"
   ]
  },
  {
   "cell_type": "markdown",
   "metadata": {},
   "source": [
    "# Functional examplet for LUME-Impact"
   ]
  },
  {
   "cell_type": "code",
   "execution_count": 3,
   "metadata": {},
   "outputs": [],
   "source": [
    "from impact import Impact, run_impact_with_distgen, evaluate_impact_with_distgen\n",
    "\n",
    "import os"
   ]
  },
  {
   "cell_type": "code",
   "execution_count": 4,
   "metadata": {},
   "outputs": [],
   "source": [
    "gfile = 'templates/lcls_injector/distgen.yaml'\n",
    "ifile = 'templates/lcls_injector/ImpactT.yaml'"
   ]
  },
  {
   "cell_type": "markdown",
   "metadata": {},
   "source": [
    "# Functional run_impact_with_distgen\n",
    "\n",
    "This is a functional way to apply some settings to and run distgen and impact together.\n",
    "\n",
    "Any key with a prefix `distgen:` will send its suffix to distgen's Generator.\n",
    "\n",
    "Otherwise, any key that can be set with Impact's attr syntax can be used.\n",
    "\n"
   ]
  },
  {
   "cell_type": "code",
   "execution_count": 5,
   "metadata": {},
   "outputs": [
    {
     "data": {
      "text/plain": [
       "<Impact with 100 particles, stopping at 0.02 m, at 0x10b51b4c0>"
      ]
     },
     "execution_count": 5,
     "metadata": {},
     "output_type": "execute_result"
    },
    {
     "data": {
      "image/png": "[encoded data removed]",
      "text/plain": [
       "<Figure size 576x288 with 2 Axes>"
      ]
     },
     "metadata": {
      "image/png": {
       "height": 233,
       "width": 498
      },
      "needs_background": "light"
     },
     "output_type": "display_data"
    }
   ],
   "source": [
    "# Make some settings\n",
    "SETTINGS0 = {\n",
    "    'distgen:n_particle':100,\n",
    "    'total_charge':0,  # effectively turns spacecharge off\n",
    "    'stop':0.02, \n",
    "    'total_charge': 0,\n",
    "    'GUN:theta0_deg':320}\n",
    "\n",
    "\n",
    "# This returns an Impact object that has run\n",
    "I = run_impact_with_distgen(\n",
    "    settings=SETTINGS0,\n",
    "    distgen_input_file=gfile,\n",
    "    impact_config=ifile\n",
    ")\n",
    "\n",
    "I.plot('mean_kinetic_energy')\n",
    "I"
   ]
  },
  {
   "cell_type": "code",
   "execution_count": 6,
   "metadata": {},
   "outputs": [
    {
     "name": "stdout",
     "output_type": "stream",
     "text": [
      "! Impact-T input file\n",
      "!Npcol Nprow\n",
      "1 1\n",
      "!Dt Ntstep Nbunch\n",
      "5e-13 1000000 1\n",
      "!Dim Np Flagmap Flagerr Flagdiag Flagimg Zimage\n",
      "6 100 1 0 2 1 0.02\n",
      "!Nx Ny Nz Flagbc Xrad Yrad Perdlen\n",
      "32 32 32 1 0.015 0.015 45.0\n",
      "!Flagdist Rstartflg Flagsbstp Nemission Temission\n",
      "16 0 0 400 5.326350576132463e-12\n",
      "!sigx(m) sigpx muxpx xscale pxscale xmu1(m) xmu2\n",
      "0.0006 0.0 0.0 1.0 1.0 0.0 0.0\n",
      "!sigy(m) sigpy muxpy yscale pyscale ymu1(m) ymu2\n",
      "0.0006 0.0 0.0 1.0 1.0 0.0 0.0\n",
      "!sigz(m) sigpz muxpz zscale pzscale zmu1(m) zmu2\n",
      "1.27e-06 0.0 0.0 1.0 1.0 0.0 0.0\n",
      "!Bcurr Bkenergy Bmass Bcharge Bfreq Tini\n",
      "2855999999.9999995 1.0 511005.0 -1.0 2856000000.0 -2.738554468039765e-12\n",
      "!=================== LATTICE ===================\n",
      "0 0 0 -4 0.0 0.0 0.25 4e-12 /!name:change_timestep_1\n",
      "0 0 0 -5 0.0 0.0 -1000.0 /!name:SC_2D_to_3D\n",
      "\n",
      "!__________________ 1.5 cell gun __________________\n",
      "! Single particle phased and scaled for 6 MeV energy\n",
      "0.15 0 0 105 0.0 47537665.059089914 2856000000.0 320 201 0.15 0.0 0.0 0.0 0.0 0.0 0.0 /!name:GUN\n",
      "\n",
      "!__________________Solenoid and correctors__________________\n",
      "0.49308 0 0 105 0.0 0.0 0.0 0.0 102 0.15 0.0 0.0 0.0 0.0 0.0 0.2457 /!name:SOL1\n",
      "! Corrector quads: skew and regular. \n",
      "! Overlap SOL1. Effective length, radius estimated from measurements. \n",
      "! Max field should be 0.00714 T/m\n",
      "0.36 0 0 1 0.01601 0.0 0.21 0.0254 0.0 0.0 0.0 0.0 0.7853981633974483 /!name:SQ01\n",
      "0.36 0 0 1 0.01601 0.0 0.21 0.0254 0.0 0.0 0.0 0.0 0.0 /!name:CQ01\n",
      "!________________________________________________________________________\n",
      "\n",
      "!!! Broken: 0 1 101 -2 0.0 0.0 0.61362 /!name:YAG01\n",
      "0 1 102 -2 0.0 0.0 1.38841 /!name:YAG02\n",
      "\n",
      "!__________________ L0A begin __________________\n",
      "0 -1 0 -6 1 1 1.485 4.527856 0.0116 0.0292 0.035 /!name:wakefield_L0A\n",
      "! Phased to get to 64 MeV\n",
      "0.052464 0 0 105 1.485 26013439.060000002 2856000000.0 264.5 4 0.15 0.0 0.0 0.0 0.0 0.0 0.0 /!name:L0A_entrance\n",
      "2.937928 0 0 105 1.537464 30048347.1 2856000000.0 294.5 5 0.15 0.0 0.0 0.0 0.0 0.0 0.0 /!name:L0A_body_1\n",
      "2.937928 0 0 105 1.537464 30048347.1 2856000000.0 354.5 6 0.15 0.0 0.0 0.0 0.0 0.0 0.0 /!name:L0A_body_2\n",
      "0.052464 0 0 105 4.475392 26013439.060000002 2856000000.0 264.5 7 0.15 0.0 0.0 0.0 0.0 0.0 0.0 /!name:L0A_exit\n",
      "!__________________ L0A exit __________________\n",
      "! Space charge switches\n",
      "!!!0 0 0 -8 0 1 4.527856 / name:SC_ON\n",
      "!!!0 0 0 -8 0 -1 4.527856 / name:SC_OFF\n",
      "!!!0 0 0 -5 0.0 0.0 4.527856 /!name:SC_2D_to_3D\n",
      "\n",
      "0 1 103 -2 0.0 0.0 4.614538605 /!name:YAG03\n",
      "0.204 0 0 1 4.752933605 1.8524000101358 0.108 0.016 0.0 0.0 0.0 0.0 0.0 /!name:QA01\n",
      "0.204 0 0 1 5.081309605 -1.8524000101358 0.108 0.016 0.0 0.0 0.0 0.0 0.0 /!name:QA02\n",
      "\n",
      "!__________________ L0B begin __________________\n",
      "0 -1 0 -6 1 1 5.328756 8.371612 0.0116 0.0292 0.035 /!name:wakefield_L0B\n",
      "! Phased to get to 135 MeV\n",
      "0.052464 0 0 105 5.328756 31395529.900000002 2856000000.0 42.27 4 0.15 0.0 0.0 0.0 0.0 0.0 0.0 /!name:L0B_entrance\n",
      "2.937928 0 0 105 5.38122 36265246.5 2856000000.0 72.27 5 0.15 0.0 0.0 0.0 0.0 0.0 0.0 /!name:L0B_body_1\n",
      "2.937928 0 0 105 5.38122 36265246.5 2856000000.0 132.27 6 0.15 0.0 0.0 0.0 0.0 0.0 0.0 /!name:L0B_body_2\n",
      "0.052464 0 0 105 8.319148 31395529.900000002 2856000000.0 42.27 7 0.15 0.0 0.0 0.0 0.0 0.0 0.0 /!name:L0B_exit\n",
      "!__________________ L0B exit __________________\n",
      "\n",
      "0.204 0 0 1 8.392048605 0.18720000156206 0.108 0.016 0.0 0.0 0.0 0.0 0.0 /!name:QE01\n",
      "0.204 0 0 1 8.793561605 0.16609999999321 0.108 0.016 0.0 0.0 0.0 0.0 0.0 /!name:QE02\n",
      "\n",
      "!!! Unmodeled: Laser Heater from 9.076892 m to 10.690580 m\n",
      "\n",
      "0.204 0 0 1 11.469244190867 -2.6409000012747 0.108 0.016 0.0 0.0 0.0 0.0 0.0 /!name:QE03\n",
      "0.204 0 0 1 11.875644190867 2.9799999853198 0.108 0.016 0.0 0.0 0.0 0.0 0.0 /!name:QE04\n",
      "\n",
      "!!! 0 1 104 -2 0.0 0.0 12.175332190867 /!name:WS01\n",
      "0 1 105 -2 0.0 0.0 12.327300190867 /!name:OTR1\n",
      "!!! 0 1 106 -2 0.0 0.0 14.089061190867 /!name:WS02\n",
      "0 1 107 -2 0.0 0.0 14.241029190867 /!name:OTR2\n",
      "!!! 0 1 108 -2 0.0 0.0 16.002790190867 /!name:WS03\n",
      "!!! 0 1 109 -2 0.0 0.0 16.154758190867 /!name:OTR3\n",
      "\n",
      "0 0 0 -8 0.0 -1 16.5 /!name:SC_OFF\n",
      "0 0 0 -99 0.02 0.0 0.02 /!name:stop_1\n"
     ]
    }
   ],
   "source": [
    "I['total_charge'] = 1\n",
    "I.write_input()\n",
    "!cat {I.path}/ImpactT.in"
   ]
  },
  {
   "cell_type": "markdown",
   "metadata": {},
   "source": [
    "# Functional evaluate_impact_with_distgen\n",
    "\n",
    "Similar to above, but reuruns a dict of common outputs, and an optinal archive file.\n",
    "\n",
    "This is useful in optimizations and creating datasets."
   ]
  },
  {
   "cell_type": "code",
   "execution_count": 7,
   "metadata": {},
   "outputs": [
    {
     "data": {
      "text/plain": [
       "{'error': False,\n",
       " 'end_t': 8.0087796e-11,\n",
       " 'end_mean_z': 0.019454689,\n",
       " 'end_moment4_x': 0.00030172415,\n",
       " 'end_moment4_y': 0.00030019947,\n",
       " 'end_moment4_z': 0.00040716319,\n",
       " 'end_mean_y': -1.3948043e-08,\n",
       " 'end_sigma_y': 0.00024655518,\n",
       " 'end_norm_emit_y': 2.2801592e-07,\n",
       " 'end_mean_x': -7.768113e-08,\n",
       " 'end_sigma_x': 0.00024676671,\n",
       " 'end_norm_emit_x': 2.2925954e-07,\n",
       " 'end_sigma_z': 0.00033299916,\n",
       " 'end_norm_emit_z': 3.0544791e-07,\n",
       " 'end_loadbalance_min_n_particle': 100.0,\n",
       " 'end_loadbalance_max_n_particle': 100.0,\n",
       " 'end_n_particle': 100.0,\n",
       " 'end_moment3_x': 3.9222578e-05,\n",
       " 'end_moment3_y': 5.060365e-05,\n",
       " 'end_moment3_z': 0.00037384304,\n",
       " 'end_mean_gamma': 4.7673063,\n",
       " 'end_mean_beta': 0.97775246,\n",
       " 'end_max_r': 0.00053196581,\n",
       " 'end_sigma_gamma': 0.046487813,\n",
       " 'end_max_amplitude_x': 0.00052424432,\n",
       " 'end_max_amplitude_y': 0.00050349191,\n",
       " 'end_max_amplitude_z': 0.00080116889,\n",
       " 'end_moment4_px': 6199.692205880249,\n",
       " 'end_moment4_py': 6159.858815729849,\n",
       " 'end_moment4_pz': 29761.548724007098,\n",
       " 'end_mean_py': 0.1008576768077725,\n",
       " 'end_sigma_py': 5046.511626334254,\n",
       " 'end_cov_y__py': 1.238776071864485,\n",
       " 'end_mean_px': -0.9005207768110399,\n",
       " 'end_sigma_px': 5060.391073214785,\n",
       " 'end_cov_x__px': 1.2432286101154149,\n",
       " 'end_mean_pz': 2381875.35752551,\n",
       " 'end_sigma_pz': 24296.381227826398,\n",
       " 'end_cov_z__pz': 8.0891685663866,\n",
       " 'end_moment3_px': 460.95677683659443,\n",
       " 'end_moment3_py': 608.1711746306349,\n",
       " 'end_moment3_pz': 11131.747272499699,\n",
       " 'end_mean_kinetic_energy': 1925112.3,\n",
       " 'end_max_amplitude_px': 10621.1714296303,\n",
       " 'end_max_amplitude_py': 10293.03498688465,\n",
       " 'end_max_amplitude_pz': 2431373.98621579,\n",
       " 'run_time': 0.22891688346862793,\n",
       " 'end_n_particle_loss': 0,\n",
       " 'end_total_charge': 0.9999999999999999,\n",
       " 'end_higher_order_energy_spread': 59.42491298485423,\n",
       " 'end_norm_emit_xy': 2.2863688445191165e-07,\n",
       " 'end_norm_emit_4d': 5.2042405258973153e-14,\n",
       " 'fingerprint': 'ca17aae4a3b26bf9f37366f0a0c6ae1b',\n",
       " 'archive': '/Users/chrisonian/Code/GitHub/lume-impact/examples/ca17aae4a3b26bf9f37366f0a0c6ae1b.h5'}"
      ]
     },
     "execution_count": 7,
     "metadata": {},
     "output_type": "execute_result"
    }
   ],
   "source": [
    "\n",
    "# This returns an Impact object that has run\n",
    "O1 = evaluate_impact_with_distgen(\n",
    "    SETTINGS0,\n",
    "    distgen_input_file=gfile,\n",
    "    impact_config=ifile,\n",
    "    archive_path = '.'\n",
    ")\n",
    "\n",
    "# This is the default output\n",
    "O1"
   ]
  },
  {
   "cell_type": "code",
   "execution_count": 8,
   "metadata": {},
   "outputs": [],
   "source": [
    "I2 = Impact.from_archive(O1['archive'])"
   ]
  },
  {
   "cell_type": "code",
   "execution_count": 9,
   "metadata": {},
   "outputs": [
    {
     "data": {
      "text/plain": [
       "False"
      ]
     },
     "execution_count": 9,
     "metadata": {},
     "output_type": "execute_result"
    }
   ],
   "source": [
    "I2.fingerprint() == I.fingerprint()"
   ]
  },
  {
   "cell_type": "markdown",
   "metadata": {},
   "source": [
    "A custom merit function can be provided to give different output. Note that the fingerprint is always returned."
   ]
  },
  {
   "cell_type": "code",
   "execution_count": 10,
   "metadata": {},
   "outputs": [
    {
     "data": {
      "text/plain": [
       "{'max_sigma_x': 0.00026436503,\n",
       " 'fingerprint': 'ca17aae4a3b26bf9f37366f0a0c6ae1b'}"
      ]
     },
     "execution_count": 10,
     "metadata": {},
     "output_type": "execute_result"
    }
   ],
   "source": [
    "# Custom merit function\n",
    "def my_merit(impact_object):\n",
    "    \"\"\"\n",
    "    Custom merit function.\n",
    "    \n",
    "    Returns the maximum sigma_x seen\n",
    "    \n",
    "    \"\"\"\n",
    "    d = {'max_sigma_x': I.stat('sigma_x').max()}\n",
    "    \n",
    "    return d\n",
    "\n",
    "\n",
    "evaluate_impact_with_distgen(\n",
    "    SETTINGS0,\n",
    "    distgen_input_file=gfile,\n",
    "    impact_config=ifile,\n",
    "    merit_f = my_merit\n",
    ")"
   ]
  },
  {
   "cell_type": "code",
   "execution_count": 11,
   "metadata": {},
   "outputs": [],
   "source": [
    "# Cleanup\n",
    "os.remove(O1['archive'])"
   ]
  }
 ],
 "metadata": {
  "kernelspec": {
   "display_name": "Python 3 (ipykernel)",
   "language": "python",
   "name": "python3"
  },
  "language_info": {
   "codemirror_mode": {
    "name": "ipython",
    "version": 3
   },
   "file_extension": ".py",
   "mimetype": "text/x-python",
   "name": "python",
   "nbconvert_exporter": "python",
   "pygments_lexer": "ipython3",
   "version": "3.9.7"
  }
 },
 "nbformat": 4,
 "nbformat_minor": 4
}
