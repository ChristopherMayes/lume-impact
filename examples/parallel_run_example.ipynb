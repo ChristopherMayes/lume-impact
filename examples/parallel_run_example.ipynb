{
 "cells": [
  {
   "cell_type": "markdown",
   "metadata": {},
   "source": [
    "# Parallel Impact-T run\n",
    "\n",
    "This example shows how to set up the Impact-T input files and run script, but to leave the running to the user. \n",
    "\n"
   ]
  },
  {
   "cell_type": "code",
   "execution_count": 1,
   "metadata": {},
   "outputs": [],
   "source": [
    "# Useful for debugging\n",
    "%load_ext autoreload\n",
    "%autoreload 2"
   ]
  },
  {
   "cell_type": "code",
   "execution_count": 2,
   "metadata": {},
   "outputs": [],
   "source": [
    "from impact import Impact, template_dir\n",
    "import os"
   ]
  },
  {
   "cell_type": "code",
   "execution_count": 3,
   "metadata": {},
   "outputs": [
    {
     "data": {
      "text/plain": [
       "True"
      ]
     },
     "execution_count": 3,
     "metadata": {},
     "output_type": "execute_result"
    }
   ],
   "source": [
    "ifile = os.path.join(template_dir,'lcls_injector/ImpactT.in')\n",
    "os.path.exists(ifile)"
   ]
  },
  {
   "cell_type": "code",
   "execution_count": 4,
   "metadata": {},
   "outputs": [
    {
     "name": "stdout",
     "output_type": "stream",
     "text": [
      "================ Impact-T Summary ================    \n",
      "10000 particles\n",
      "1 bunch of electrons\n",
      "total charge: 249.99999999999997 pC\n",
      "Distribution type: read\n",
      "Cathode start at z = 0 m\n",
      "   emission time: 1.4e-11 s\n",
      "   image charges neglected after z = 0.02 m\n",
      "Processor domain: 2 x 2 = 4 CPUs\n",
      "Space charge grid: 16 x 16 x 16\n",
      "Maximum time steps: 1000000\n",
      "Reference Frequency: 2856000000.0 Hz\n",
      "Initial reference time: 0.0 s\n",
      "Simulation starting from the beginning\n",
      "=================================================\n",
      "Impact-T configured in /Users/chrisonian/Scratch/temp\n"
     ]
    }
   ],
   "source": [
    "# Make Impact object\n",
    "I = Impact(ifile, verbose=False, use_tempdir=False, workdir='$HOME/Scratch/temp')\n",
    "\n",
    "# Change some things\n",
    "I.input['header']['Np'] = 10000\n",
    "I.input['header']['Nx'] = 16\n",
    "I.input['header']['Ny'] = 16\n",
    "I.input['header']['Nz'] = 16\n",
    "I.input['header']['Dt'] = 5e-13\n",
    "I.ele['stop_1']['s'] = 0.1\n",
    "\n",
    "# Set parallel domain\n",
    "I.input['header']['Npcol'] = 2\n",
    "I.input['header']['Nprow'] = 2\n",
    "\n",
    "# Turn on MPI switches\n",
    "I.use_mpi=True\n",
    "I.impact_bin = '$IMPACTT_MPI_BIN'\n",
    "I.mpi_exe = 'mpirun' \n",
    "\n",
    "print(I)"
   ]
  },
  {
   "cell_type": "code",
   "execution_count": 5,
   "metadata": {},
   "outputs": [
    {
     "data": {
      "text/plain": [
       "'/Users/chrisonian/Scratch/temp'"
      ]
     },
     "execution_count": 5,
     "metadata": {},
     "output_type": "execute_result"
    }
   ],
   "source": [
    "# Write input to workdir\n",
    "I.write_input()\n",
    "I.get_run_script()\n",
    "# This will be the working path\n",
    "I.path"
   ]
  },
  {
   "cell_type": "markdown",
   "metadata": {},
   "source": [
    "# Run externally \n",
    "Parallel jobs often need to be run on special nodes and/or submitted to a queue, invoking the run script:"
   ]
  },
  {
   "cell_type": "code",
   "execution_count": 6,
   "metadata": {},
   "outputs": [
    {
     "name": "stdout",
     "output_type": "stream",
     "text": [
      "mpirun -n 4 /Users/chrisonian/Code/impact/bin/ImpactTexe_mpi"
     ]
    }
   ],
   "source": [
    "!cat /Users/chrisonian/Scratch/temp/run"
   ]
  },
  {
   "cell_type": "markdown",
   "metadata": {},
   "source": [
    "Here we will do a quick run "
   ]
  },
  {
   "cell_type": "code",
   "execution_count": 7,
   "metadata": {},
   "outputs": [],
   "source": [
    "!cd $HOME/Scratch/temp;./run >log.txt"
   ]
  },
  {
   "cell_type": "markdown",
   "metadata": {},
   "source": [
    "# Collect output"
   ]
  },
  {
   "cell_type": "code",
   "execution_count": 8,
   "metadata": {},
   "outputs": [
    {
     "name": "stdout",
     "output_type": "stream",
     "text": [
      "Loaded fort 30 : Fourth root of the fourth moments of the beam distribution\n",
      "Loaded fort 25 : RMS Y information\n",
      "Loaded fort 24 : RMS X information\n",
      "Loaded fort 26 : RMS Z information\n",
      "Loaded fort 28 : Load balance and loss diagnostics\n",
      "Loaded fort 29 : Cube root of third moments of the beam distribution\n",
      "Loaded fort 18 : Time and energy\n",
      "Loaded fort 27 : Max amplitude information\n",
      "Loaded fort 70 : Slice information of the final distribution\n",
      "Loaded fort 60 : Slice information of the initial distribution\n",
      "Loading particles\n",
      "Loaded fort 40 : initial particle distribution at t = 0\n",
      "Loaded fort 50 : final particle distribution projected to the centroid location of the bunch\n",
      "Converting z to t according to cathode_kinetic_energy_ref = 1.0 eV\n",
      "Converted initial_particles to ParticleGroup\n",
      "Converted final_particles to ParticleGroup\n"
     ]
    }
   ],
   "source": [
    "I.verbose=True\n",
    "# Load output\n",
    "I.load_output()"
   ]
  },
  {
   "cell_type": "markdown",
   "metadata": {},
   "source": [
    "# Alternative: load into new object\n",
    "If this notebook went out of scope, we'd need to load the output into a new object"
   ]
  },
  {
   "cell_type": "code",
   "execution_count": 9,
   "metadata": {},
   "outputs": [
    {
     "name": "stdout",
     "output_type": "stream",
     "text": [
      "================ Impact-T Summary ================    \n",
      "10000 particles\n",
      "1 bunch of electrons\n",
      "total charge: 249.99999999999997 pC\n",
      "Distribution type: read\n",
      "Cathode start at z = 0 m\n",
      "   emission time: 1.4e-11 s\n",
      "   image charges neglected after z = 0.02 m\n",
      "Processor domain: 2 x 2 = 4 CPUs\n",
      "Space charge grid: 16 x 16 x 16\n",
      "Maximum time steps: 1000000\n",
      "Reference Frequency: 2856000000.0 Hz\n",
      "Initial reference time: 0.0 s\n",
      "Simulation starting from the beginning\n",
      "=================================================\n",
      "\n",
      "Configured to run in: /Users/chrisonian/Scratch/temp\n"
     ]
    }
   ],
   "source": [
    "I2 = Impact('$HOME/Scratch/temp/ImpactT.in', use_tempdir=False)"
   ]
  },
  {
   "cell_type": "code",
   "execution_count": 10,
   "metadata": {},
   "outputs": [
    {
     "name": "stdout",
     "output_type": "stream",
     "text": [
      "Loaded fort 30 : Fourth root of the fourth moments of the beam distribution\n",
      "Loaded fort 25 : RMS Y information\n",
      "Loaded fort 24 : RMS X information\n",
      "Loaded fort 26 : RMS Z information\n",
      "Loaded fort 28 : Load balance and loss diagnostics\n",
      "Loaded fort 29 : Cube root of third moments of the beam distribution\n",
      "Loaded fort 18 : Time and energy\n",
      "Loaded fort 27 : Max amplitude information\n",
      "Loaded fort 70 : Slice information of the final distribution\n",
      "Loaded fort 60 : Slice information of the initial distribution\n",
      "Loading particles\n",
      "Loaded fort 40 : initial particle distribution at t = 0\n",
      "Loaded fort 50 : final particle distribution projected to the centroid location of the bunch\n",
      "Converting z to t according to cathode_kinetic_energy_ref = 1.0 eV\n",
      "Converted initial_particles to ParticleGroup\n",
      "Converted final_particles to ParticleGroup\n"
     ]
    }
   ],
   "source": [
    "I2.load_output()"
   ]
  },
  {
   "cell_type": "markdown",
   "metadata": {},
   "source": [
    "# Archiving\n",
    "Archiving is the same as in the simple example"
   ]
  },
  {
   "cell_type": "code",
   "execution_count": 11,
   "metadata": {},
   "outputs": [
    {
     "name": "stdout",
     "output_type": "stream",
     "text": [
      "Archiving to file /Users/chrisonian/Scratch/temp/output.h5\n"
     ]
    },
    {
     "data": {
      "text/plain": [
       "'/Users/chrisonian/Scratch/temp/output.h5'"
      ]
     },
     "execution_count": 11,
     "metadata": {},
     "output_type": "execute_result"
    }
   ],
   "source": [
    "#import h5py\n",
    "\n",
    "#H5FILE = os.path.expandvars('$HOME/Scratch/temp/output.h5')\n",
    "#with h5py.File(H5FILE, 'w') as h5:\n",
    "afile = os.path.expandvars('$HOME/Scratch/temp/output.h5')\n",
    "I2.archive(afile)\n"
   ]
  },
  {
   "cell_type": "code",
   "execution_count": null,
   "metadata": {},
   "outputs": [],
   "source": []
  }
 ],
 "metadata": {
  "kernelspec": {
   "display_name": "Python 3",
   "language": "python",
   "name": "python3"
  },
  "language_info": {
   "codemirror_mode": {
    "name": "ipython",
    "version": 3
   },
   "file_extension": ".py",
   "mimetype": "text/x-python",
   "name": "python",
   "nbconvert_exporter": "python",
   "pygments_lexer": "ipython3",
   "version": "3.7.6"
  }
 },
 "nbformat": 4,
 "nbformat_minor": 4
}
