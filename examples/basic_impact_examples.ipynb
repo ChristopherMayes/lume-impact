{
 "cells": [
  {
   "cell_type": "code",
   "execution_count": 1,
   "metadata": {},
   "outputs": [],
   "source": [
    "# Useful for debugging\n",
    "%load_ext autoreload\n",
    "%autoreload 2"
   ]
  },
  {
   "cell_type": "code",
   "execution_count": 2,
   "metadata": {},
   "outputs": [],
   "source": [
    "# Nicer plotting\n",
    "import matplotlib\n",
    "%matplotlib inline\n",
    "%config InlineBackend.figure_format = 'retina'\n",
    "matplotlib.rcParams['figure.figsize'] = (8,4)"
   ]
  },
  {
   "cell_type": "markdown",
   "metadata": {},
   "source": [
    "# LUME-Impact Basic Examples"
   ]
  },
  {
   "cell_type": "code",
   "execution_count": 3,
   "metadata": {},
   "outputs": [],
   "source": [
    "from impact import Impact, template_dir\n",
    "\n",
    "import matplotlib.pyplot as plt\n",
    "import os"
   ]
  },
  {
   "cell_type": "code",
   "execution_count": 4,
   "metadata": {},
   "outputs": [
    {
     "data": {
      "text/plain": [
       "True"
      ]
     },
     "execution_count": 4,
     "metadata": {},
     "output_type": "execute_result"
    }
   ],
   "source": [
    "ifile = os.path.join(template_dir,'lcls_injector/ImpactT.in')\n",
    "os.path.exists(ifile)"
   ]
  },
  {
   "cell_type": "code",
   "execution_count": 5,
   "metadata": {},
   "outputs": [
    {
     "name": "stdout",
     "output_type": "stream",
     "text": [
      "Configured to run in: /var/folders/wj/lfgr01993dx79p9cm_skykbw0000gn/T/tmppeytk84r\n"
     ]
    }
   ],
   "source": [
    "# Make Impact object\n",
    "I = Impact(ifile, verbose=True)"
   ]
  },
  {
   "cell_type": "code",
   "execution_count": 6,
   "metadata": {},
   "outputs": [
    {
     "data": {
      "text/plain": [
       "<Impact with 10000 particles, stopping at 0.1 m, at 0x10c5c6160>"
      ]
     },
     "execution_count": 6,
     "metadata": {},
     "output_type": "execute_result"
    }
   ],
   "source": [
    "# Change some things\n",
    "I.header['Np'] = 10000\n",
    "I.header['Nx'] = 16\n",
    "I.header['Ny'] = 16\n",
    "I.header['Nz'] = 16\n",
    "I.header['Dt'] = 5e-13\n",
    "\n",
    "# Turn Space Charge off. Both these syntax work\n",
    "I.header['Bcurr'] = 0 \n",
    "I['header:Bcurr'] = 0 \n",
    "\n",
    "# Other switches\n",
    "I.timeout = None\n",
    "\n",
    "# Switches for MPI\n",
    "I.use_mpi=True\n",
    "I.header['Nprow'] = 1\n",
    "I.header['Npcol'] = 4\n",
    "\n",
    "I.verbose=True\n",
    "\n",
    "# Show repr\n",
    "I"
   ]
  },
  {
   "cell_type": "code",
   "execution_count": 7,
   "metadata": {},
   "outputs": [
    {
     "name": "stdout",
     "output_type": "stream",
     "text": [
      "Removed element: stop_1\n",
      "Set stop to s = 1.5\n"
     ]
    }
   ],
   "source": [
    "# Change stop location\n",
    "I.stop = 1.5\n",
    "# This is does the same: I.ele['stop_1']['s'] = 1.5"
   ]
  },
  {
   "cell_type": "code",
   "execution_count": 8,
   "metadata": {},
   "outputs": [
    {
     "name": "stdout",
     "output_type": "stream",
     "text": [
      "Running Impact-T in /var/folders/wj/lfgr01993dx79p9cm_skykbw0000gn/T/tmppeytk84r\n",
      "mpirun -n 4 /Users/chrisonian/Code/miniconda3/envs/devel/bin/ImpactTexe-mpi\n",
      " !-----------------------------------------------------------\n",
      " ! IMPACT-T Parallel Beam Dynamics Tracking Code: 2.1 beta version\n",
      " ! Copyright of The Regents of the University of California\n",
      " !-----------------------------------------------------------\n",
      " nblem:           60          60\n",
      " pass setting up lattice...\n",
      " check randomness:            0  0.79479214134216858     \n",
      " check randomness:            2  0.68444898109486740     \n",
      " check randomness:            3  0.79369999429767613     \n",
      " check randomness:            1  0.65948074101936072     \n",
      " avgpts, jlow, and jhigh:         2500           1        2500\n",
      " avgpts, jlow, and jhigh:         2500        5001        7500\n",
      " avgpts, jlow, and jhigh:         2500        7501       10000\n",
      " avgpts, jlow, and jhigh:         2500        2501        5000\n",
      " time:    26.346744000000001, elapsed: 26.85968804359436Finished.2479, elapsed: 26.853460073471074607463i,t,<z>:         4831   2.2290000000000675E-009  0.65922475053184493, elapsed: 23.311524152755737zmin,zmax:   0.88258288534649443       0.88385709361952913, elapsed: 24.335535049438477i,t,<z>:         7830   3.7284999999992920E-009   1.1070923145640446, elapsed: 25.2277569770813zmin,zmax:    1.3770362655089059        1.3783215932536008, elapsed: 26.353519201278687i,t,<z>:        10267   4.9470000000006737E-009   1.4710313787675975, elapsed: 26.762335062026978\n",
      "Loaded fort 30 : Fourth root of the fourth moments of the beam distribution\n",
      "Loaded fort 25 : RMS Y information\n",
      "Loaded fort 24 : RMS X information\n",
      "Loaded fort 26 : RMS Z information\n",
      "Loaded fort 28 : Load balance and loss diagnostics\n",
      "Loaded fort 29 : Cube root of third moments of the beam distribution\n",
      "Loaded fort 18 : Time and energy\n",
      "Loaded fort 27 : Max amplitude information\n",
      "Loaded fort 70 : Slice information of the final distribution\n",
      "Loaded fort 60 : Slice information of the initial distribution\n",
      "Loading particles\n",
      "Loaded fort 40 : initial particle distribution at t = 0\n",
      "Loaded fort 50 : final particle distribution projected to the centroid location of the bunch\n",
      "Loaded write beam particles YAG02 fort.41\n",
      "Converting z to t according to cathode_kinetic_energy_ref = 1.0 eV\n",
      "Converted initial_particles to ParticleGroup\n",
      "Converted final_particles to ParticleGroup\n",
      "Converted YAG02 to ParticleGroup\n"
     ]
    }
   ],
   "source": [
    "I.run()"
   ]
  },
  {
   "cell_type": "code",
   "execution_count": 9,
   "metadata": {},
   "outputs": [
    {
     "data": {
      "text/plain": [
       "dict_keys(['original_input', 'input_particle_file', 'header', 'lattice', 'fieldmaps'])"
      ]
     },
     "execution_count": 9,
     "metadata": {},
     "output_type": "execute_result"
    }
   ],
   "source": [
    "# These are used to create the input\n",
    "I.input.keys()"
   ]
  },
  {
   "cell_type": "code",
   "execution_count": 10,
   "metadata": {},
   "outputs": [
    {
     "data": {
      "text/plain": [
       "dict_keys(['run_info', 'stats', 'slice_info', 'particles'])"
      ]
     },
     "execution_count": 10,
     "metadata": {},
     "output_type": "execute_result"
    }
   ],
   "source": [
    "# This is the output parsed\n",
    "I.output.keys()"
   ]
  },
  {
   "cell_type": "code",
   "execution_count": 11,
   "metadata": {},
   "outputs": [
    {
     "data": {
      "text/plain": [
       "dict_keys(['t', 'mean_z', 'moment4_x', 'moment4_y', 'moment4_z', 'mean_y', 'sigma_y', 'norm_emit_y', 'mean_x', 'sigma_x', 'norm_emit_x', 'sigma_z', 'norm_emit_z', 'loadbalance_min_n_particle', 'loadbalance_max_n_particle', 'n_particle', 'moment3_x', 'moment3_y', 'moment3_z', 'mean_gamma', 'mean_beta', 'max_r', 'sigma_gamma', 'max_amplitude_x', 'max_amplitude_y', 'max_amplitude_z', 'moment4_px', 'moment4_py', 'moment4_pz', 'mean_py', 'sigma_py', 'cov_y__py', 'mean_px', 'sigma_px', 'cov_x__px', 'mean_pz', 'sigma_pz', 'cov_z__pz', 'moment3_px', 'moment3_py', 'moment3_pz', 'mean_kinetic_energy', 'max_amplitude_px', 'max_amplitude_py', 'max_amplitude_pz'])"
      ]
     },
     "execution_count": 11,
     "metadata": {},
     "output_type": "execute_result"
    }
   ],
   "source": [
    "# stats from the various fort. files\n",
    "I.output['stats'].keys()"
   ]
  },
  {
   "cell_type": "code",
   "execution_count": 12,
   "metadata": {},
   "outputs": [
    {
     "data": {
      "text/plain": [
       "dict_keys(['final_particle_slices', 'initial_particle_slices'])"
      ]
     },
     "execution_count": 12,
     "metadata": {},
     "output_type": "execute_result"
    }
   ],
   "source": [
    "# Slice info\n",
    "I.output['slice_info'].keys()"
   ]
  },
  {
   "cell_type": "markdown",
   "metadata": {},
   "source": [
    "# Particles"
   ]
  },
  {
   "cell_type": "code",
   "execution_count": 13,
   "metadata": {},
   "outputs": [
    {
     "data": {
      "text/plain": [
       "{'initial_particles': <ParticleGroup with 10000 particles at 0x1201a1f10>,\n",
       " 'final_particles': <ParticleGroup with 10000 particles at 0x11fd73250>,\n",
       " 'YAG02': <ParticleGroup with 10000 particles at 0x10c5c6e80>}"
      ]
     },
     "execution_count": 13,
     "metadata": {},
     "output_type": "execute_result"
    }
   ],
   "source": [
    "# Particles are automatically parsed in to openpmd-beamphysics ParticleGroup objects\n",
    "I.output['particles']"
   ]
  },
  {
   "cell_type": "code",
   "execution_count": 14,
   "metadata": {},
   "outputs": [
    {
     "data": {
      "text/plain": [
       "5930178.003593783"
      ]
     },
     "execution_count": 14,
     "metadata": {},
     "output_type": "execute_result"
    }
   ],
   "source": [
    "# Get the final particles, calculate some statistic\n",
    "P = I.output['particles']['final_particles']\n",
    "P['mean_energy']"
   ]
  },
  {
   "cell_type": "code",
   "execution_count": 15,
   "metadata": {},
   "outputs": [
    {
     "data": {
      "text/plain": [
       "pmd_unit('eV', 1.602176634e-19, (2, 1, -2, 0, 0, 0, 0))"
      ]
     },
     "execution_count": 15,
     "metadata": {},
     "output_type": "execute_result"
    }
   ],
   "source": [
    "# Show the units\n",
    "P.units('mean_energy')"
   ]
  },
  {
   "cell_type": "code",
   "execution_count": 16,
   "metadata": {},
   "outputs": [
    {
     "data": {
      "image/png": "[encoded data removed]",
      "text/plain": [
       "<Figure size 576x288 with 3 Axes>"
      ]
     },
     "metadata": {
      "image/png": {
       "height": 261,
       "width": 516
      },
      "needs_background": "light"
     },
     "output_type": "display_data"
    }
   ],
   "source": [
    "# ParticleGroup has built-in plotting\n",
    "P.plot('z', 'pz')"
   ]
  },
  {
   "cell_type": "markdown",
   "metadata": {},
   "source": [
    "# Stats"
   ]
  },
  {
   "cell_type": "code",
   "execution_count": 17,
   "metadata": {},
   "outputs": [
    {
     "data": {
      "text/plain": [
       "(2092, 2.4616267e-07)"
      ]
     },
     "execution_count": 17,
     "metadata": {},
     "output_type": "execute_result"
    }
   ],
   "source": [
    "# Impact's own calculated statistics can be retieved\n",
    "len(I.stat('norm_emit_x')), I.stat('norm_emit_x')[-1]"
   ]
  },
  {
   "cell_type": "code",
   "execution_count": null,
   "metadata": {},
   "outputs": [],
   "source": [
    "# Stats can also be computed from the particles. For example:\n",
    "I.particles['final_particles']['norm_emit_x']"
   ]
  },
  {
   "cell_type": "code",
   "execution_count": null,
   "metadata": {},
   "outputs": [],
   "source": [
    "# Compare these. \n",
    "key1 = 'mean_z'\n",
    "key2 = 'sigma_x'\n",
    "units1 = str(I.units(key1))\n",
    "units2 = str(I.units(key2))\n",
    "plt.xlabel(key1+f' ({units1})')\n",
    "plt.ylabel(key2+f' ({units2})')\n",
    "plt.plot(I.stat(key1), I.stat(key2))\n",
    "plt.scatter(\n",
    "    [I.particles[name][key1] for name in I.particles], \n",
    "    [I.particles[name][key2] for name in I.particles], color='red')"
   ]
  },
  {
   "cell_type": "code",
   "execution_count": null,
   "metadata": {},
   "outputs": [],
   "source": [
    "# This kind of plot is built-in for convenience, with a layout\n",
    "I.plot('sigma_x')"
   ]
  },
  {
   "cell_type": "code",
   "execution_count": null,
   "metadata": {},
   "outputs": [],
   "source": [
    "# Even fancier options, and sending some options to matplotlib\n",
    "I.plot(['sigma_x', 'sigma_y'], y2=['mean_kinetic_energy'], ylim2=(0, 8e6), figsize=(10,5))"
   ]
  },
  {
   "cell_type": "markdown",
   "metadata": {},
   "source": [
    "# Partial tracking\n",
    "\n",
    "Particles can be started anywhere in the lattice. Here we will take some intermediate particles, and re-track. "
   ]
  },
  {
   "cell_type": "code",
   "execution_count": null,
   "metadata": {},
   "outputs": [],
   "source": [
    "# Get particles \n",
    "Pmid = I.particles['YAG02']\n",
    "\n",
    "# Make a copy, so that the previous object is preserved. \n",
    "I2 = I.copy()\n",
    "I.verbose=False\n",
    "# The copy needs to be configured before tracking\n",
    "I2.configure()\n",
    "\n",
    "# Track to 2 m\n",
    "Pfinal = I2.track(Pmid, 2.0)"
   ]
  },
  {
   "cell_type": "code",
   "execution_count": 23,
   "metadata": {},
   "outputs": [
    {
     "data": {
      "text/plain": [
       "<matplotlib.collections.PathCollection at 0x126437d90>"
      ]
     },
     "execution_count": 23,
     "metadata": {},
     "output_type": "execute_result"
    },
    {
     "data": {
      "image/png": "[encoded data removed]",
      "text/plain": [
       "<Figure size 576x288 with 1 Axes>"
      ]
     },
     "metadata": {
      "image/png": {
       "height": 263,
       "width": 516
      },
      "needs_background": "light"
     },
     "output_type": "display_data"
    }
   ],
   "source": [
    "# Compare these. \n",
    "key1 = 'mean_z'\n",
    "key2 = 'sigma_x'\n",
    "units1 = str(I.units(key1))\n",
    "units2 = str(I.units(key2))\n",
    "plt.xlabel(key1+f' ({units1})')\n",
    "plt.ylabel(key2+f' ({units2})')\n",
    "plt.plot(I.stat(key1), I.stat(key2))\n",
    "plt.plot(I2.stat(key1), I2.stat(key2))\n",
    "plt.scatter(\n",
    "    [I.particles[name][key1] for name in I.particles], \n",
    "    [I.particles[name][key2] for name in I.particles], color='red')\n",
    "\n",
    "# Blue X are retracked particles\n",
    "plt.scatter(\n",
    "    [P[key1] for P in [Pmid, Pfinal]], \n",
    "    [P[key2] for P in [Pmid, Pfinal]], color='blue', marker='x')"
   ]
  },
  {
   "cell_type": "markdown",
   "metadata": {},
   "source": [
    "# Single particle tracking\n",
    "\n",
    "Similar to above, but with initial conditions specified in the function for a single particle. \n",
    "\n",
    "This is useful for auto-phasing and scaling elements, and tracing reference orbits. \n",
    "\n",
    "Space charge is turned off for single particle tracking."
   ]
  },
  {
   "cell_type": "code",
   "execution_count": 24,
   "metadata": {},
   "outputs": [
    {
     "name": "stdout",
     "output_type": "stream",
     "text": [
      "CPU times: user 273 ms, sys: 65.3 ms, total: 338 ms\n",
      "Wall time: 1.12 s\n"
     ]
    },
    {
     "data": {
      "text/plain": [
       "(array([2.19999866]), array([4.44092247]))"
      ]
     },
     "execution_count": 24,
     "metadata": {},
     "output_type": "execute_result"
    }
   ],
   "source": [
    "%%time\n",
    "I3 = I.copy()\n",
    "I3.verbose=False\n",
    "I3.configure()\n",
    "P3 = I3.track1(s=2.2, z0 = 1.0, pz0=10e6)\n",
    "P3.z, P3.gamma"
   ]
  },
  {
   "cell_type": "markdown",
   "metadata": {},
   "source": [
    "# Interactive Layout"
   ]
  },
  {
   "cell_type": "code",
   "execution_count": 25,
   "metadata": {},
   "outputs": [
    {
     "data": {
      "application/javascript": [
       "\n",
       "(function(root) {\n",
       "  function now() {\n",
       "    return new Date();\n",
       "  }\n",
       "\n",
       "  var force = true;\n",
       "\n",
       "  if (typeof root._bokeh_onload_callbacks === \"undefined\" || force === true) {\n",
       "    root._bokeh_onload_callbacks = [];\n",
       "    root._bokeh_is_loading = undefined;\n",
       "  }\n",
       "\n",
       "  var JS_MIME_TYPE = 'application/javascript';\n",
       "  var HTML_MIME_TYPE = 'text/html';\n",
       "  var EXEC_MIME_TYPE = 'application/vnd.bokehjs_exec.v0+json';\n",
       "  var CLASS_NAME = 'output_bokeh rendered_html';\n",
       "\n",
       "  /**\n",
       "   * Render data to the DOM node\n",
       "   */\n",
       "  function render(props, node) {\n",
       "    var script = document.createElement(\"script\");\n",
       "    node.appendChild(script);\n",
       "  }\n",
       "\n",
       "  /**\n",
       "   * Handle when an output is cleared or removed\n",
       "   */\n",
       "  function handleClearOutput(event, handle) {\n",
       "    var cell = handle.cell;\n",
       "\n",
       "    var id = cell.output_area._bokeh_element_id;\n",
       "    var server_id = cell.output_area._bokeh_server_id;\n",
       "    // Clean up Bokeh references\n",
       "    if (id != null && id in Bokeh.index) {\n",
       "      Bokeh.index[id].model.document.clear();\n",
       "      delete Bokeh.index[id];\n",
       "    }\n",
       "\n",
       "    if (server_id !== undefined) {\n",
       "      // Clean up Bokeh references\n",
       "      var cmd = \"from bokeh.io.state import curstate; print(curstate().uuid_to_server['\" + server_id + \"'].get_sessions()[0].document.roots[0]._id)\";\n",
       "      cell.notebook.kernel.execute(cmd, {\n",
       "        iopub: {\n",
       "          output: function(msg) {\n",
       "            var id = msg.content.text.trim();\n",
       "            if (id in Bokeh.index) {\n",
       "              Bokeh.index[id].model.document.clear();\n",
       "              delete Bokeh.index[id];\n",
       "            }\n",
       "          }\n",
       "        }\n",
       "      });\n",
       "      // Destroy server and session\n",
       "      var cmd = \"import bokeh.io.notebook as ion; ion.destroy_server('\" + server_id + \"')\";\n",
       "      cell.notebook.kernel.execute(cmd);\n",
       "    }\n",
       "  }\n",
       "\n",
       "  /**\n",
       "   * Handle when a new output is added\n",
       "   */\n",
       "  function handleAddOutput(event, handle) {\n",
       "    var output_area = handle.output_area;\n",
       "    var output = handle.output;\n",
       "\n",
       "    // limit handleAddOutput to display_data with EXEC_MIME_TYPE content only\n",
       "    if ((output.output_type != \"display_data\") || (!Object.prototype.hasOwnProperty.call(output.data, EXEC_MIME_TYPE))) {\n",
       "      return\n",
       "    }\n",
       "\n",
       "    var toinsert = output_area.element.find(\".\" + CLASS_NAME.split(' ')[0]);\n",
       "\n",
       "    if (output.metadata[EXEC_MIME_TYPE][\"id\"] !== undefined) {\n",
       "      toinsert[toinsert.length - 1].firstChild.textContent = output.data[JS_MIME_TYPE];\n",
       "      // store reference to embed id on output_area\n",
       "      output_area._bokeh_element_id = output.metadata[EXEC_MIME_TYPE][\"id\"];\n",
       "    }\n",
       "    if (output.metadata[EXEC_MIME_TYPE][\"server_id\"] !== undefined) {\n",
       "      var bk_div = document.createElement(\"div\");\n",
       "      bk_div.innerHTML = output.data[HTML_MIME_TYPE];\n",
       "      var script_attrs = bk_div.children[0].attributes;\n",
       "      for (var i = 0; i < script_attrs.length; i++) {\n",
       "        toinsert[toinsert.length - 1].firstChild.setAttribute(script_attrs[i].name, script_attrs[i].value);\n",
       "        toinsert[toinsert.length - 1].firstChild.textContent = bk_div.children[0].textContent\n",
       "      }\n",
       "      // store reference to server id on output_area\n",
       "      output_area._bokeh_server_id = output.metadata[EXEC_MIME_TYPE][\"server_id\"];\n",
       "    }\n",
       "  }\n",
       "\n",
       "  function register_renderer(events, OutputArea) {\n",
       "\n",
       "    function append_mime(data, metadata, element) {\n",
       "      // create a DOM node to render to\n",
       "      var toinsert = this.create_output_subarea(\n",
       "        metadata,\n",
       "        CLASS_NAME,\n",
       "        EXEC_MIME_TYPE\n",
       "      );\n",
       "      this.keyboard_manager.register_events(toinsert);\n",
       "      // Render to node\n",
       "      var props = {data: data, metadata: metadata[EXEC_MIME_TYPE]};\n",
       "      render(props, toinsert[toinsert.length - 1]);\n",
       "      element.append(toinsert);\n",
       "      return toinsert\n",
       "    }\n",
       "\n",
       "    /* Handle when an output is cleared or removed */\n",
       "    events.on('clear_output.CodeCell', handleClearOutput);\n",
       "    events.on('delete.Cell', handleClearOutput);\n",
       "\n",
       "    /* Handle when a new output is added */\n",
       "    events.on('output_added.OutputArea', handleAddOutput);\n",
       "\n",
       "    /**\n",
       "     * Register the mime type and append_mime function with output_area\n",
       "     */\n",
       "    OutputArea.prototype.register_mime_type(EXEC_MIME_TYPE, append_mime, {\n",
       "      /* Is output safe? */\n",
       "      safe: true,\n",
       "      /* Index of renderer in `output_area.display_order` */\n",
       "      index: 0\n",
       "    });\n",
       "  }\n",
       "\n",
       "  // register the mime type if in Jupyter Notebook environment and previously unregistered\n",
       "  if (root.Jupyter !== undefined) {\n",
       "    var events = require('base/js/events');\n",
       "    var OutputArea = require('notebook/js/outputarea').OutputArea;\n",
       "\n",
       "    if (OutputArea.prototype.mime_types().indexOf(EXEC_MIME_TYPE) == -1) {\n",
       "      register_renderer(events, OutputArea);\n",
       "    }\n",
       "  }\n",
       "\n",
       "  \n",
       "  if (typeof (root._bokeh_timeout) === \"undefined\" || force === true) {\n",
       "    root._bokeh_timeout = Date.now() + 5000;\n",
       "    root._bokeh_failed_load = false;\n",
       "  }\n",
       "\n",
       "  var NB_LOAD_WARNING = {'data': {'text/html':\n",
       "     \"<div style='background-color: #fdd'>\\n\"+\n",
       "     \"<p>\\n\"+\n",
       "     \"BokehJS does not appear to have successfully loaded. If loading BokehJS from CDN, this \\n\"+\n",
       "     \"may be due to a slow or bad network connection. Possible fixes:\\n\"+\n",
       "     \"</p>\\n\"+\n",
       "     \"<ul>\\n\"+\n",
       "     \"<li>re-rerun `output_notebook()` to attempt to load from CDN again, or</li>\\n\"+\n",
       "     \"<li>use INLINE resources instead, as so:</li>\\n\"+\n",
       "     \"</ul>\\n\"+\n",
       "     \"<code>\\n\"+\n",
       "     \"from bokeh.resources import INLINE\\n\"+\n",
       "     \"output_notebook(resources=INLINE)\\n\"+\n",
       "     \"</code>\\n\"+\n",
       "     \"</div>\"}};\n",
       "\n",
       "  function display_loaded() {\n",
       "    var el = document.getElementById(null);\n",
       "    if (el != null) {\n",
       "      el.textContent = \"BokehJS is loading...\";\n",
       "    }\n",
       "    if (root.Bokeh !== undefined) {\n",
       "      if (el != null) {\n",
       "        el.textContent = \"BokehJS \" + root.Bokeh.version + \" successfully loaded.\";\n",
       "      }\n",
       "    } else if (Date.now() < root._bokeh_timeout) {\n",
       "      setTimeout(display_loaded, 100)\n",
       "    }\n",
       "  }\n",
       "\n",
       "\n",
       "  function run_callbacks() {\n",
       "    try {\n",
       "      root._bokeh_onload_callbacks.forEach(function(callback) {\n",
       "        if (callback != null)\n",
       "          callback();\n",
       "      });\n",
       "    } finally {\n",
       "      delete root._bokeh_onload_callbacks\n",
       "    }\n",
       "    console.debug(\"Bokeh: all callbacks have finished\");\n",
       "  }\n",
       "\n",
       "  function load_libs(css_urls, js_urls, callback) {\n",
       "    if (css_urls == null) css_urls = [];\n",
       "    if (js_urls == null) js_urls = [];\n",
       "\n",
       "    root._bokeh_onload_callbacks.push(callback);\n",
       "    if (root._bokeh_is_loading > 0) {\n",
       "      console.debug(\"Bokeh: BokehJS is being loaded, scheduling callback at\", now());\n",
       "      return null;\n",
       "    }\n",
       "    if (js_urls == null || js_urls.length === 0) {\n",
       "      run_callbacks();\n",
       "      return null;\n",
       "    }\n",
       "    console.debug(\"Bokeh: BokehJS not loaded, scheduling load and callback at\", now());\n",
       "    root._bokeh_is_loading = css_urls.length + js_urls.length;\n",
       "\n",
       "    function on_load() {\n",
       "      root._bokeh_is_loading--;\n",
       "      if (root._bokeh_is_loading === 0) {\n",
       "        console.debug(\"Bokeh: all BokehJS libraries/stylesheets loaded\");\n",
       "        run_callbacks()\n",
       "      }\n",
       "    }\n",
       "\n",
       "    function on_error(url) {\n",
       "      console.error(\"failed to load \" + url);\n",
       "    }\n",
       "\n",
       "    for (let i = 0; i < css_urls.length; i++) {\n",
       "      const url = css_urls[i];\n",
       "      const element = document.createElement(\"link\");\n",
       "      element.onload = on_load;\n",
       "      element.onerror = on_error.bind(null, url);\n",
       "      element.rel = \"stylesheet\";\n",
       "      element.type = \"text/css\";\n",
       "      element.href = url;\n",
       "      console.debug(\"Bokeh: injecting link tag for BokehJS stylesheet: \", url);\n",
       "      document.body.appendChild(element);\n",
       "    }\n",
       "\n",
       "    const hashes = {\"https://cdn.bokeh.org/bokeh/release/bokeh-2.3.3.min.js\": \"dM3QQsP+wXdHg42wTqW85BjZQdLNNIXqlPw/BgKoExPmTG7ZLML4EGqLMfqHT6ON\", \"https://cdn.bokeh.org/bokeh/release/bokeh-tables-2.3.3.min.js\": \"8x57I4YuIfu8XyZfFo0XVr2WAT8EK4rh/uDe3wF7YuW2FNUSNEpJbsPaB1nJ2fz2\", \"https://cdn.bokeh.org/bokeh/release/bokeh-widgets-2.3.3.min.js\": \"3QTqdz9LyAm2i0sG5XTePsHec3UHWwVsrOL68SYRoAXsafvfAyqtQ+h440+qIBhS\"};\n",
       "\n",
       "    for (let i = 0; i < js_urls.length; i++) {\n",
       "      const url = js_urls[i];\n",
       "      const element = document.createElement('script');\n",
       "      element.onload = on_load;\n",
       "      element.onerror = on_error.bind(null, url);\n",
       "      element.async = false;\n",
       "      element.src = url;\n",
       "      if (url in hashes) {\n",
       "        element.crossOrigin = \"anonymous\";\n",
       "        element.integrity = \"sha384-\" + hashes[url];\n",
       "      }\n",
       "      console.debug(\"Bokeh: injecting script tag for BokehJS library: \", url);\n",
       "      document.head.appendChild(element);\n",
       "    }\n",
       "  };\n",
       "\n",
       "  function inject_raw_css(css) {\n",
       "    const element = document.createElement(\"style\");\n",
       "    element.appendChild(document.createTextNode(css));\n",
       "    document.body.appendChild(element);\n",
       "  }\n",
       "\n",
       "  \n",
       "  var js_urls = [\"https://cdn.bokeh.org/bokeh/release/bokeh-2.3.3.min.js\", \"https://cdn.bokeh.org/bokeh/release/bokeh-widgets-2.3.3.min.js\", \"https://cdn.bokeh.org/bokeh/release/bokeh-tables-2.3.3.min.js\"];\n",
       "  var css_urls = [];\n",
       "  \n",
       "\n",
       "  var inline_js = [\n",
       "    function(Bokeh) {\n",
       "      Bokeh.set_log_level(\"info\");\n",
       "    },\n",
       "    function(Bokeh) {\n",
       "    \n",
       "    \n",
       "    }\n",
       "  ];\n",
       "\n",
       "  function run_inline_js() {\n",
       "    \n",
       "    if (root.Bokeh !== undefined || force === true) {\n",
       "      \n",
       "    for (var i = 0; i < inline_js.length; i++) {\n",
       "      inline_js[i].call(root, root.Bokeh);\n",
       "    }\n",
       "    } else if (Date.now() < root._bokeh_timeout) {\n",
       "      setTimeout(run_inline_js, 100);\n",
       "    } else if (!root._bokeh_failed_load) {\n",
       "      console.log(\"Bokeh: BokehJS failed to load within specified timeout.\");\n",
       "      root._bokeh_failed_load = true;\n",
       "    } else if (force !== true) {\n",
       "      var cell = $(document.getElementById(null)).parents('.cell').data().cell;\n",
       "      cell.output_area.append_execute_result(NB_LOAD_WARNING)\n",
       "    }\n",
       "\n",
       "  }\n",
       "\n",
       "  if (root._bokeh_is_loading === 0) {\n",
       "    console.debug(\"Bokeh: BokehJS loaded, going straight to plotting\");\n",
       "    run_inline_js();\n",
       "  } else {\n",
       "    load_libs(css_urls, js_urls, function() {\n",
       "      console.debug(\"Bokeh: BokehJS plotting callback run at\", now());\n",
       "      run_inline_js();\n",
       "    });\n",
       "  }\n",
       "}(window));"
      ],
      "application/vnd.bokehjs_load.v0+json": "\n(function(root) {\n  function now() {\n    return new Date();\n  }\n\n  var force = true;\n\n  if (typeof root._bokeh_onload_callbacks === \"undefined\" || force === true) {\n    root._bokeh_onload_callbacks = [];\n    root._bokeh_is_loading = undefined;\n  }\n\n  \n\n  \n  if (typeof (root._bokeh_timeout) === \"undefined\" || force === true) {\n    root._bokeh_timeout = Date.now() + 5000;\n    root._bokeh_failed_load = false;\n  }\n\n  var NB_LOAD_WARNING = {'data': {'text/html':\n     \"<div style='background-color: #fdd'>\\n\"+\n     \"<p>\\n\"+\n     \"BokehJS does not appear to have successfully loaded. If loading BokehJS from CDN, this \\n\"+\n     \"may be due to a slow or bad network connection. Possible fixes:\\n\"+\n     \"</p>\\n\"+\n     \"<ul>\\n\"+\n     \"<li>re-rerun `output_notebook()` to attempt to load from CDN again, or</li>\\n\"+\n     \"<li>use INLINE resources instead, as so:</li>\\n\"+\n     \"</ul>\\n\"+\n     \"<code>\\n\"+\n     \"from bokeh.resources import INLINE\\n\"+\n     \"output_notebook(resources=INLINE)\\n\"+\n     \"</code>\\n\"+\n     \"</div>\"}};\n\n  function display_loaded() {\n    var el = document.getElementById(null);\n    if (el != null) {\n      el.textContent = \"BokehJS is loading...\";\n    }\n    if (root.Bokeh !== undefined) {\n      if (el != null) {\n        el.textContent = \"BokehJS \" + root.Bokeh.version + \" successfully loaded.\";\n      }\n    } else if (Date.now() < root._bokeh_timeout) {\n      setTimeout(display_loaded, 100)\n    }\n  }\n\n\n  function run_callbacks() {\n    try {\n      root._bokeh_onload_callbacks.forEach(function(callback) {\n        if (callback != null)\n          callback();\n      });\n    } finally {\n      delete root._bokeh_onload_callbacks\n    }\n    console.debug(\"Bokeh: all callbacks have finished\");\n  }\n\n  function load_libs(css_urls, js_urls, callback) {\n    if (css_urls == null) css_urls = [];\n    if (js_urls == null) js_urls = [];\n\n    root._bokeh_onload_callbacks.push(callback);\n    if (root._bokeh_is_loading > 0) {\n      console.debug(\"Bokeh: BokehJS is being loaded, scheduling callback at\", now());\n      return null;\n    }\n    if (js_urls == null || js_urls.length === 0) {\n      run_callbacks();\n      return null;\n    }\n    console.debug(\"Bokeh: BokehJS not loaded, scheduling load and callback at\", now());\n    root._bokeh_is_loading = css_urls.length + js_urls.length;\n\n    function on_load() {\n      root._bokeh_is_loading--;\n      if (root._bokeh_is_loading === 0) {\n        console.debug(\"Bokeh: all BokehJS libraries/stylesheets loaded\");\n        run_callbacks()\n      }\n    }\n\n    function on_error(url) {\n      console.error(\"failed to load \" + url);\n    }\n\n    for (let i = 0; i < css_urls.length; i++) {\n      const url = css_urls[i];\n      const element = document.createElement(\"link\");\n      element.onload = on_load;\n      element.onerror = on_error.bind(null, url);\n      element.rel = \"stylesheet\";\n      element.type = \"text/css\";\n      element.href = url;\n      console.debug(\"Bokeh: injecting link tag for BokehJS stylesheet: \", url);\n      document.body.appendChild(element);\n    }\n\n    const hashes = {\"https://cdn.bokeh.org/bokeh/release/bokeh-2.3.3.min.js\": \"dM3QQsP+wXdHg42wTqW85BjZQdLNNIXqlPw/BgKoExPmTG7ZLML4EGqLMfqHT6ON\", \"https://cdn.bokeh.org/bokeh/release/bokeh-tables-2.3.3.min.js\": \"8x57I4YuIfu8XyZfFo0XVr2WAT8EK4rh/uDe3wF7YuW2FNUSNEpJbsPaB1nJ2fz2\", \"https://cdn.bokeh.org/bokeh/release/bokeh-widgets-2.3.3.min.js\": \"3QTqdz9LyAm2i0sG5XTePsHec3UHWwVsrOL68SYRoAXsafvfAyqtQ+h440+qIBhS\"};\n\n    for (let i = 0; i < js_urls.length; i++) {\n      const url = js_urls[i];\n      const element = document.createElement('script');\n      element.onload = on_load;\n      element.onerror = on_error.bind(null, url);\n      element.async = false;\n      element.src = url;\n      if (url in hashes) {\n        element.crossOrigin = \"anonymous\";\n        element.integrity = \"sha384-\" + hashes[url];\n      }\n      console.debug(\"Bokeh: injecting script tag for BokehJS library: \", url);\n      document.head.appendChild(element);\n    }\n  };\n\n  function inject_raw_css(css) {\n    const element = document.createElement(\"style\");\n    element.appendChild(document.createTextNode(css));\n    document.body.appendChild(element);\n  }\n\n  \n  var js_urls = [\"https://cdn.bokeh.org/bokeh/release/bokeh-2.3.3.min.js\", \"https://cdn.bokeh.org/bokeh/release/bokeh-widgets-2.3.3.min.js\", \"https://cdn.bokeh.org/bokeh/release/bokeh-tables-2.3.3.min.js\"];\n  var css_urls = [];\n  \n\n  var inline_js = [\n    function(Bokeh) {\n      Bokeh.set_log_level(\"info\");\n    },\n    function(Bokeh) {\n    \n    \n    }\n  ];\n\n  function run_inline_js() {\n    \n    if (root.Bokeh !== undefined || force === true) {\n      \n    for (var i = 0; i < inline_js.length; i++) {\n      inline_js[i].call(root, root.Bokeh);\n    }\n    } else if (Date.now() < root._bokeh_timeout) {\n      setTimeout(run_inline_js, 100);\n    } else if (!root._bokeh_failed_load) {\n      console.log(\"Bokeh: BokehJS failed to load within specified timeout.\");\n      root._bokeh_failed_load = true;\n    } else if (force !== true) {\n      var cell = $(document.getElementById(null)).parents('.cell').data().cell;\n      cell.output_area.append_execute_result(NB_LOAD_WARNING)\n    }\n\n  }\n\n  if (root._bokeh_is_loading === 0) {\n    console.debug(\"Bokeh: BokehJS loaded, going straight to plotting\");\n    run_inline_js();\n  } else {\n    load_libs(css_urls, js_urls, function() {\n      console.debug(\"Bokeh: BokehJS plotting callback run at\", now());\n      run_inline_js();\n    });\n  }\n}(window));"
     },
     "metadata": {},
     "output_type": "display_data"
    }
   ],
   "source": [
    "from bokeh.plotting import output_notebook\n",
    "from bokeh.plotting import show\n",
    "output_notebook(hide_banner=True)\n",
    "\n",
    "from impact.plotting import layout_plot"
   ]
  },
  {
   "cell_type": "code",
   "execution_count": 26,
   "metadata": {},
   "outputs": [
    {
     "data": {
      "text/html": [
       "\n",
       "\n",
       "\n",
       "\n",
       "\n",
       "\n",
       "  <div class=\"bk-root\" id=\"97b2e1d4-5743-489c-abf1-eaa5fb90f089\" data-root-id=\"1004\"></div>\n"
      ]
     },
     "metadata": {},
     "output_type": "display_data"
    },
    {
     "data": {
      "application/javascript": [
       "(function(root) {\n",
       "  function embed_document(root) {\n",
       "    \n",
       "  var docs_json = {\"d54894ae-988d-49e5-953a-9bad7502f73c\":{\"defs\":[],\"roots\":{\"references\":[{\"attributes\":{\"below\":[{\"id\":\"1013\"}],\"center\":[{\"id\":\"1016\"},{\"id\":\"1020\"},{\"id\":\"1037\"}],\"height\":300,\"left\":[{\"id\":\"1017\"}],\"renderers\":[{\"id\":\"1035\"}],\"title\":{\"id\":\"1040\"},\"toolbar\":{\"id\":\"1026\"},\"width\":1000,\"x_range\":{\"id\":\"1005\"},\"x_scale\":{\"id\":\"1009\"},\"y_range\":{\"id\":\"1007\"},\"y_scale\":{\"id\":\"1011\"}},\"id\":\"1004\",\"subtype\":\"Figure\",\"type\":\"Plot\"},{\"attributes\":{\"overlay\":{\"id\":\"1025\"}},\"id\":\"1023\",\"type\":\"BoxZoomTool\"},{\"attributes\":{},\"id\":\"1024\",\"type\":\"ResetTool\"},{\"attributes\":{},\"id\":\"1007\",\"type\":\"DataRange1d\"},{\"attributes\":{},\"id\":\"1014\",\"type\":\"BasicTicker\"},{\"attributes\":{\"active_multi\":null,\"tools\":[{\"id\":\"1003\"},{\"id\":\"1021\"},{\"id\":\"1022\"},{\"id\":\"1023\"},{\"id\":\"1024\"}]},\"id\":\"1026\",\"type\":\"Toolbar\"},{\"attributes\":{},\"id\":\"1022\",\"type\":\"WheelZoomTool\"},{\"attributes\":{},\"id\":\"1009\",\"type\":\"LinearScale\"},{\"attributes\":{},\"id\":\"1044\",\"type\":\"BasicTickFormatter\"},{\"attributes\":{},\"id\":\"1040\",\"type\":\"Title\"},{\"attributes\":{},\"id\":\"1045\",\"type\":\"AllLabels\"},{\"attributes\":{},\"id\":\"1018\",\"type\":\"BasicTicker\"},{\"attributes\":{\"axis\":{\"id\":\"1013\"},\"ticker\":null},\"id\":\"1016\",\"type\":\"Grid\"},{\"attributes\":{},\"id\":\"1042\",\"type\":\"AllLabels\"},{\"attributes\":{},\"id\":\"1011\",\"type\":\"LinearScale\"},{\"attributes\":{},\"id\":\"1005\",\"type\":\"DataRange1d\"},{\"attributes\":{},\"id\":\"1041\",\"type\":\"BasicTickFormatter\"},{\"attributes\":{\"formatter\":{\"id\":\"1041\"},\"major_label_policy\":{\"id\":\"1042\"},\"ticker\":{\"id\":\"1014\"}},\"id\":\"1013\",\"type\":\"LinearAxis\"},{\"attributes\":{\"angle\":{\"value\":1.5707963267948966},\"level\":\"glyph\",\"source\":{\"id\":\"1002\"},\"text\":{\"field\":\"name\"},\"x\":{\"field\":\"x\"},\"x_offset\":{\"value\":5},\"y\":{\"field\":\"y\"},\"y_offset\":{\"value\":30}},\"id\":\"1037\",\"type\":\"LabelSet\"},{\"attributes\":{\"bottom\":{\"field\":\"bottom\"},\"fill_alpha\":{\"value\":0.1},\"fill_color\":{\"field\":\"color\"},\"left\":{\"field\":\"left\"},\"line_alpha\":{\"value\":0.1},\"line_color\":{\"field\":\"color\"},\"right\":{\"field\":\"right\"},\"top\":{\"field\":\"top\"}},\"id\":\"1034\",\"type\":\"Quad\"},{\"attributes\":{\"callback\":null,\"mode\":\"vline\",\"tooltips\":[[\"name\",\"@name\"],[\"s_begin\",\"@left\"],[\"s_end\",\"@right\"],[\"s_center\",\"@x\"],[\"\",\"@description\"],[\"\",\"@all\"]]},\"id\":\"1003\",\"type\":\"HoverTool\"},{\"attributes\":{\"bottom_units\":\"screen\",\"fill_alpha\":0.5,\"fill_color\":\"lightgrey\",\"left_units\":\"screen\",\"level\":\"overlay\",\"line_alpha\":1.0,\"line_color\":\"black\",\"line_dash\":[4,4],\"line_width\":2,\"right_units\":\"screen\",\"syncable\":false,\"top_units\":\"screen\"},\"id\":\"1025\",\"type\":\"BoxAnnotation\"},{\"attributes\":{},\"id\":\"1048\",\"type\":\"UnionRenderers\"},{\"attributes\":{\"data_source\":{\"id\":\"1002\"},\"glyph\":{\"id\":\"1033\"},\"hover_glyph\":null,\"muted_glyph\":null,\"nonselection_glyph\":{\"id\":\"1034\"},\"view\":{\"id\":\"1036\"}},\"id\":\"1035\",\"type\":\"GlyphRenderer\"},{\"attributes\":{},\"id\":\"1049\",\"type\":\"Selection\"},{\"attributes\":{\"bottom\":{\"field\":\"bottom\"},\"fill_color\":{\"field\":\"color\"},\"left\":{\"field\":\"left\"},\"line_color\":{\"field\":\"color\"},\"right\":{\"field\":\"right\"},\"top\":{\"field\":\"top\"}},\"id\":\"1033\",\"type\":\"Quad\"},{\"attributes\":{},\"id\":\"1021\",\"type\":\"PanTool\"},{\"attributes\":{\"source\":{\"id\":\"1002\"}},\"id\":\"1036\",\"type\":\"CDSView\"},{\"attributes\":{\"axis\":{\"id\":\"1017\"},\"dimension\":1,\"ticker\":null},\"id\":\"1020\",\"type\":\"Grid\"},{\"attributes\":{\"data\":{\"all\":[\"GUN: solrf, description=name:GUN, L=0.15, zedge=0.0, rf_field_scale=47000000.0,\\n      rf_frequency=2856000000.0, theta0_deg=303.684, filename=rfdata201, radius=0.15,\\n      x_offset=0.0, y_offset=0.0, x_rotation=0.0, y_rotation=0.0, z_rotation=0.0,\\n      solenoid_field_scale=0.0, s=0.15\",\"SOL1: solrf, description=name:SOL1, L=0.49308, zedge=0.0, rf_field_scale=0.0,\\n      rf_frequency=0.0, theta0_deg=0.0, filename=rfdata102, radius=0.15, x_offset=0.0,\\n      y_offset=0.0, x_rotation=0.0, y_rotation=0.0, z_rotation=0.0,\\n      solenoid_field_scale=0.243, s=0.49308\",\"SQ01: quadrupole, description=name:SQ01, L=0.36, zedge=0.01601, b1_gradient=0.0,\\n      L_effective=0.21, radius=0.0254, x_offset=0.0, y_offset=0.0, x_rotation=0.0,\\n      y_rotation=0.0, z_rotation=0.7853981633974483, s=0.37601\",\"CQ01: quadrupole, description=name:CQ01, L=0.36, zedge=0.01601, b1_gradient=0.0,\\n      L_effective=0.21, radius=0.0254, x_offset=0.0, y_offset=0.0, x_rotation=0.0,\\n      y_rotation=0.0, z_rotation=0.0, s=0.37601\",\"drift_1: drift, description=name:drift_1, L=0.072, zedge=1.387, radius=0.15, s=1.459\",\"drift_2: drift, description=name:drift_2, L=0.026, zedge=1.459, radius=0.15, s=1.485\",\"L0A_entrance: solrf, description=name:L0A_entrance, L=0.052464, zedge=1.485,\\n      rf_field_scale=25905612.0, rf_frequency=2856000000.0, theta0_deg=258.5,\\n      filename=rfdata4, radius=0.15, x_offset=0.0, y_offset=0.0, x_rotation=0.0,\\n      y_rotation=0.0, z_rotation=0.0, solenoid_field_scale=0.0, s=1.5374640000000002\",\"L0A_body_1: solrf, description=name:L0A_body_1, L=2.937928, zedge=1.537464,\\n      rf_field_scale=29913224.7, rf_frequency=2856000000.0, theta0_deg=288.5,\\n      filename=rfdata5, radius=0.15, x_offset=0.0, y_offset=0.0, x_rotation=0.0,\\n      y_rotation=0.0, z_rotation=0.0, solenoid_field_scale=0.0, s=4.475391999999999\",\"L0A_body_2: solrf, description=name:L0A_body_2, L=2.937928, zedge=1.537464,\\n      rf_field_scale=29913224.7, rf_frequency=2856000000.0, theta0_deg=348.5,\\n      filename=rfdata6, radius=0.15, x_offset=0.0, y_offset=0.0, x_rotation=0.0,\\n      y_rotation=0.0, z_rotation=0.0, solenoid_field_scale=0.0, s=4.475391999999999\",\"L0A_exit: solrf, description=name:L0A_exit, L=0.052464, zedge=4.475392,\\n      rf_field_scale=25905612.0, rf_frequency=2856000000.0, theta0_deg=258.5,\\n      filename=rfdata7, radius=0.15, x_offset=0.0, y_offset=0.0, x_rotation=0.0,\\n      y_rotation=0.0, z_rotation=0.0, solenoid_field_scale=0.0, s=4.527856\",\"drift_3: drift, description=name:drift_3, L=0.026, zedge=4.527856, radius=0.15, s=4.553856\",\"drift_4: drift, description=name:drift_4, L=0.199, zedge=4.553856, radius=0.15,\\n      s=4.7528559999999995\",\"QA01: quadrupole, description=name:QA01, L=0.204, zedge=4.752856, b1_gradient=1.8524,\\n      L_effective=0.108, radius=0.016, x_offset=0.0, y_offset=0.0, x_rotation=0.0,\\n      y_rotation=0.0, z_rotation=0.0, s=4.956856\",\"drift_5: drift, description=name:drift_5, L=0.124, zedge=4.956856, radius=0.15, s=5.080856\",\"QA02: quadrupole, description=name:QA02, L=0.204, zedge=5.080856, b1_gradient=-1.8267,\\n      L_effective=0.108, radius=0.016, x_offset=0.0, y_offset=0.0, x_rotation=0.0,\\n      y_rotation=0.0, z_rotation=0.0, s=5.2848559999999996\",\"drift_6: drift, description=name:drift_6, L=0.0179, zedge=5.284856, radius=0.15,\\n      s=5.3027560000000005\",\"drift_7: drift, description=name:drift_7, L=0.026, zedge=5.302756, radius=0.15,\\n      s=5.328755999999999\",\"L0B_entrance: solrf, description=name:L0B_entrance, L=0.052464, zedge=5.328756,\\n      rf_field_scale=32055209.0, rf_frequency=2856000000.0, theta0_deg=400.5,\\n      filename=rfdata4, radius=0.15, x_offset=0.0, y_offset=0.0, x_rotation=0.0,\\n      y_rotation=0.0, z_rotation=0.0, solenoid_field_scale=0.0, s=5.38122\",\"L0B_body_1: solrf, description=name:L0B_body_1, L=2.937928, zedge=5.38122,\\n      rf_field_scale=37014168.0, rf_frequency=2856000000.0, theta0_deg=430.5,\\n      filename=rfdata5, radius=0.15, x_offset=0.0, y_offset=0.0, x_rotation=0.0,\\n      y_rotation=0.0, z_rotation=0.0, solenoid_field_scale=0.0, s=8.319148\",\"L0B_body_2: solrf, description=name:L0B_body_2, L=2.937928, zedge=5.38122,\\n      rf_field_scale=37014168.0, rf_frequency=2856000000.0, theta0_deg=490.5,\\n      filename=rfdata6, radius=0.15, x_offset=0.0, y_offset=0.0, x_rotation=0.0,\\n      y_rotation=0.0, z_rotation=0.0, solenoid_field_scale=0.0, s=8.319148\",\"L0B_exit: solrf, description=name:L0B_exit, L=0.052464, zedge=8.319148,\\n      rf_field_scale=32055209.0, rf_frequency=2856000000.0, theta0_deg=400.5,\\n      filename=rfdata7, radius=0.15, x_offset=0.0, y_offset=0.0, x_rotation=0.0,\\n      y_rotation=0.0, z_rotation=0.0, solenoid_field_scale=0.0, s=8.371612\",\"drift_8: drift, description=name:drift_8, L=0.026, zedge=8.371612, radius=0.15, s=8.397612\",\"drift_9: drift, description=name:drift_9, L=0.0, zedge=8.397612, radius=0.15, s=8.397612\",\"QE01: quadrupole, description=name:QE01, L=0.1912, zedge=8.397612, b1_gradient=0,\\n      L_effective=0.108, radius=0.016, x_offset=0.0, y_offset=0.0, x_rotation=0.0,\\n      y_rotation=0.0, z_rotation=0.0, s=8.588812\",\"drift_10: drift, description=name:drift_10, L=0.203913, zedge=8.588812, radius=0.15,\\n      s=8.792725\",\"QE02: quadrupole, description=name:QE02, L=0.204, zedge=8.792725, b1_gradient=0.1661,\\n      L_effective=0.108, radius=0.016, x_offset=0.0, y_offset=0.0, x_rotation=0.0,\\n      y_rotation=0.0, z_rotation=0.0, s=8.996725000000001\",\"drift_11: drift, description=name:drift_11, L=0.07933, zedge=8.996725, radius=0.15,\\n      s=9.076055\",\"drift_12: drift, description=name:drift_12, L=1.6098, zedge=9.076055, radius=0.15,\\n      s=10.685855\",\"drift_13: drift, description=name:drift_13, L=0.122901, zedge=10.685855, radius=0.15,\\n      s=10.808756\",\"drift_14: drift, description=name:drift_14, L=0.668024, zedge=10.808756, radius=0.15,\\n      s=11.476780000000002\",\"drift_15: drift, description=name:drift_15, L=0.00074, zedge=11.47678, radius=0.15,\\n      s=11.47752\",\"QE03: quadrupole, description=name:QE03, L=0.178, zedge=11.47752, b1_gradient=-2.6409,\\n      L_effective=0.108, radius=0.016, x_offset=0.0, y_offset=0.0, x_rotation=0.0,\\n      y_rotation=0.0, z_rotation=0.0, s=11.655520000000001\",\"drift_16: drift, description=name:drift_16, L=0.1269, zedge=11.65552, radius=0.15,\\n      s=11.782419999999998\",\"drift_17: drift, description=name:drift_17, L=0.0, zedge=11.78242, radius=0.15, s=11.78242\",\"drift_18: drift, description=name:drift_18, L=0.088499, zedge=11.78242, radius=0.15,\\n      s=11.870919\",\"QE04: quadrupole, description=name:QE04, L=0.204, zedge=11.870919, b1_gradient=2.98,\\n      L_effective=0.108, radius=0.016, x_offset=0.0, y_offset=0.0, x_rotation=0.0,\\n      y_rotation=0.0, z_rotation=0.0, s=12.074919000000001\",\"drift_19: drift, description=name:drift_19, L=0.095688, zedge=12.074919, radius=0.15,\\n      s=12.170607\",\"drift_20: drift, description=name:drift_20, L=0.0, zedge=12.170607, radius=0.15,\\n      s=12.170607\",\"drift_21: drift, description=name:drift_21, L=0.151968, zedge=12.170607, radius=0.15,\\n      s=12.322575\",\"OTR1: drift, description=name:OTR1, L=1.761761, zedge=12.322575, radius=0.15, s=14.084336\",\"drift_23: drift, description=name:drift_23, L=0.0, zedge=14.084336, radius=0.15,\\n      s=14.084336\",\"drift_24: drift, description=name:drift_24, L=0.151968, zedge=14.084336, radius=0.15,\\n      s=14.236304\",\"OTR2: drift, description=name:OTR2, L=0.16381, zedge=14.236304, radius=0.15, s=14.400114\",\"drift_26: drift, description=name:drift_26, L=0.0, zedge=14.400114, radius=0.15,\\n      s=14.400114\",\"drift_27: drift, description=name:drift_27, L=1.59793, zedge=14.400114, radius=0.15,\\n      s=15.998044\",\"WS03: drift, description=name:WS03, L=0.151968, zedge=15.998044, radius=0.15, s=16.150012\",\"OTR3: drift, description=name:OTR3, L=0.102806, zedge=16.15, radius=0.15, s=16.252806\",\"quadrupole_7: quadrupole, description=name:quadrupole_7, L=0.204, zedge=16.2528,\\n      b1_gradient=-6.772664, L_effective=0.108, radius=0.016, x_offset=0.0,\\n      y_offset=0.0, x_rotation=0.0, y_rotation=0.0, z_rotation=0.0, s=16.4568\",\"drift_30: drift, description=name:drift_30, L=0.099872, zedge=16.4568, radius=0.15,\\n      s=16.556672000000002\",\"drift_31: drift, description=name:drift_31, L=0.18333, zedge=16.556672, radius=0.15,\\n      s=16.740002\"],\"bottom\":[-1,-0.5,-0.0,-0.0,-0.1,-0.1,-1,-1,-1,-1,-0.1,-0.1,-0.37048000000000003,-0.1,0,-0.1,-0.1,-1,-1,-1,-1,-0.1,-0.1,0.0,-0.1,-0.03322,-0.1,-0.1,-0.1,-0.1,-0.1,0,-0.1,-0.1,-0.1,-0.596,-0.1,-0.1,-0.1,-0.1,-0.1,-0.1,-0.1,-0.1,-0.1,-0.1,-0.1,0,-0.1,-0.1],\"color\":[\"green\",\"purple\",\"blue\",\"blue\",\"black\",\"black\",\"green\",\"green\",\"green\",\"green\",\"black\",\"black\",\"blue\",\"black\",\"blue\",\"black\",\"black\",\"green\",\"green\",\"green\",\"green\",\"black\",\"black\",\"blue\",\"black\",\"blue\",\"black\",\"black\",\"black\",\"black\",\"black\",\"blue\",\"black\",\"black\",\"black\",\"blue\",\"black\",\"black\",\"black\",\"black\",\"black\",\"black\",\"black\",\"black\",\"black\",\"black\",\"black\",\"blue\",\"black\",\"black\"],\"description\":[\"name:GUN\",\"name:SOL1\",\"name:SQ01\",\"name:CQ01\",\"name:drift_1\",\"name:drift_2\",\"name:L0A_entrance\",\"name:L0A_body_1\",\"name:L0A_body_2\",\"name:L0A_exit\",\"name:drift_3\",\"name:drift_4\",\"name:QA01\",\"name:drift_5\",\"name:QA02\",\"name:drift_6\",\"name:drift_7\",\"name:L0B_entrance\",\"name:L0B_body_1\",\"name:L0B_body_2\",\"name:L0B_exit\",\"name:drift_8\",\"name:drift_9\",\"name:QE01\",\"name:drift_10\",\"name:QE02\",\"name:drift_11\",\"name:drift_12\",\"name:drift_13\",\"name:drift_14\",\"name:drift_15\",\"name:QE03\",\"name:drift_16\",\"name:drift_17\",\"name:drift_18\",\"name:QE04\",\"name:drift_19\",\"name:drift_20\",\"name:drift_21\",\"name:OTR1\",\"name:drift_23\",\"name:drift_24\",\"name:OTR2\",\"name:drift_26\",\"name:drift_27\",\"name:WS03\",\"name:OTR3\",\"name:quadrupole_7\",\"name:drift_30\",\"name:drift_31\"],\"left\":[0.0,0.0,0.016010000000000024,0.016010000000000024,1.387,1.459,1.485,1.5374639999999995,1.5374639999999995,4.475392,4.527856,4.553856,4.752856,4.956856,5.080856,5.284856,5.302756,5.328756,5.381220000000001,5.381220000000001,8.319148,8.371612,8.397612,8.397612,8.588812,8.792725,8.996725,9.076055,10.685855,10.808756000000002,11.47678,11.47752,11.65552,11.78242,11.78242,11.870919,12.074919000000001,12.170607,12.170607,12.322575,14.084336,14.084336,14.236304,14.400114,14.400114,15.998044,16.15,16.2528,16.4568,16.556672],\"name\":[\"GUN\",\"SOL1\",\"SQ01\",\"CQ01\",\"drift_1\",\"drift_2\",\"L0A_entrance\",\"L0A_body_1\",\"L0A_body_2\",\"L0A_exit\",\"drift_3\",\"drift_4\",\"QA01\",\"drift_5\",\"QA02\",\"drift_6\",\"drift_7\",\"L0B_entrance\",\"L0B_body_1\",\"L0B_body_2\",\"L0B_exit\",\"drift_8\",\"drift_9\",\"QE01\",\"drift_10\",\"QE02\",\"drift_11\",\"drift_12\",\"drift_13\",\"drift_14\",\"drift_15\",\"QE03\",\"drift_16\",\"drift_17\",\"drift_18\",\"QE04\",\"drift_19\",\"drift_20\",\"drift_21\",\"OTR1\",\"drift_23\",\"drift_24\",\"OTR2\",\"drift_26\",\"drift_27\",\"WS03\",\"OTR3\",\"quadrupole_7\",\"drift_30\",\"drift_31\"],\"right\":[0.15,0.49308,0.37601,0.37601,1.459,1.485,1.5374640000000002,4.475391999999999,4.475391999999999,4.527856,4.553856,4.7528559999999995,4.956856,5.080856,5.2848559999999996,5.3027560000000005,5.328755999999999,5.38122,8.319148,8.319148,8.371612,8.397612,8.397612,8.588812,8.792725,8.996725000000001,9.076055,10.685855,10.808756,11.476780000000002,11.47752,11.655520000000001,11.782419999999998,11.78242,11.870919,12.074919000000001,12.170607,12.170607,12.322575,14.084336,14.084336,14.236304,14.400114,14.400114,15.998044,16.150012,16.252806,16.4568,16.556672000000002,16.740002],\"top\":[1,0.5,0,0,0.1,0.1,1,1,1,1,0.1,0.1,0,0.1,0.36534,0.1,0.1,1,1,1,1,0.1,0.1,0,0.1,0,0.1,0.1,0.1,0.1,0.1,0.52818,0.1,0.1,0.1,0,0.1,0.1,0.1,0.1,0.1,0.1,0.1,0.1,0.1,0.1,0.1,1.3545327999999999,0.1,0.1],\"x\":[0.075,0.24654,0.19601000000000002,0.19601000000000002,1.423,1.4720000000000002,1.5112320000000001,3.0064279999999997,3.0064279999999997,4.501624,4.540856,4.653356,4.854856,5.0188559999999995,5.182855999999999,5.293806000000001,5.3157559999999995,5.354988,6.8501840000000005,6.8501840000000005,8.34538,8.384612,8.397612,8.493212000000002,8.6907685,8.894725000000001,9.03639,9.880955,10.747305500000001,11.142768000000002,11.47715,11.56652,11.718969999999999,11.78242,11.826669500000001,11.972919000000001,12.122763,12.170607,12.246591,13.2034555,14.084336,14.16032,14.318209,14.400114,15.199079,16.074028000000002,16.201403,16.3548,16.506736000000004,16.648337],\"y\":[0,0,0,0,0,0,0,0,0,0,0,0,0,0,0,0,0,0,0,0,0,0,0,0,0,0,0,0,0,0,0,0,0,0,0,0,0,0,0,0,0,0,0,0,0,0,0,0,0,0]},\"selected\":{\"id\":\"1049\"},\"selection_policy\":{\"id\":\"1048\"}},\"id\":\"1002\",\"type\":\"ColumnDataSource\"},{\"attributes\":{\"formatter\":{\"id\":\"1044\"},\"major_label_policy\":{\"id\":\"1045\"},\"ticker\":{\"id\":\"1018\"}},\"id\":\"1017\",\"type\":\"LinearAxis\"}],\"root_ids\":[\"1004\"]},\"title\":\"Bokeh Application\",\"version\":\"2.3.3\"}};\n",
       "  var render_items = [{\"docid\":\"d54894ae-988d-49e5-953a-9bad7502f73c\",\"root_ids\":[\"1004\"],\"roots\":{\"1004\":\"97b2e1d4-5743-489c-abf1-eaa5fb90f089\"}}];\n",
       "  root.Bokeh.embed.embed_items_notebook(docs_json, render_items);\n",
       "\n",
       "  }\n",
       "  if (root.Bokeh !== undefined) {\n",
       "    embed_document(root);\n",
       "  } else {\n",
       "    var attempts = 0;\n",
       "    var timer = setInterval(function(root) {\n",
       "      if (root.Bokeh !== undefined) {\n",
       "        clearInterval(timer);\n",
       "        embed_document(root);\n",
       "      } else {\n",
       "        attempts++;\n",
       "        if (attempts > 100) {\n",
       "          clearInterval(timer);\n",
       "          console.log(\"Bokeh: ERROR: Unable to run BokehJS code because BokehJS library is missing\");\n",
       "        }\n",
       "      }\n",
       "    }, 10, root)\n",
       "  }\n",
       "})(window);"
      ],
      "application/vnd.bokehjs_exec.v0+json": ""
     },
     "metadata": {
      "application/vnd.bokehjs_exec.v0+json": {
       "id": "1004"
      }
     },
     "output_type": "display_data"
    }
   ],
   "source": [
    "# Change somethone\n",
    "I.ele['QE01']['b1_gradient'] = 0\n",
    "layout = layout_plot(I.input['lattice'], plot_height=300)\n",
    "show(layout)"
   ]
  },
  {
   "cell_type": "markdown",
   "metadata": {},
   "source": [
    "# ControlGroup objects\n",
    "\n",
    "Some elements need to be changed together, either relatively or absolutely. A single traveling wave cavity, for example, is made from four fieldmaps, with defined relative phases\n"
   ]
  },
  {
   "cell_type": "code",
   "execution_count": 27,
   "metadata": {},
   "outputs": [
    {
     "name": "stdout",
     "output_type": "stream",
     "text": [
      "L0A_entrance 258.5\n",
      "L0A_body_1 288.5\n",
      "L0A_body_2 348.5\n",
      "L0A_exit 258.5\n"
     ]
    }
   ],
   "source": [
    "for name in ['L0A_entrance', 'L0A_body_1', 'L0A_body_2', 'L0A_exit']:\n",
    "     print(name, I[name]['theta0_deg'])"
   ]
  },
  {
   "cell_type": "code",
   "execution_count": 28,
   "metadata": {},
   "outputs": [
    {
     "data": {
      "text/plain": [
       "ControlGroup(**{\"ele_names\": [\"L0A_entrance\", \"L0A_body_1\", \"L0A_body_2\", \"L0A_exit\"], \"var_name\": \"theta0_deg\", \"attributes\": [\"theta0_deg\", \"theta0_deg\", \"theta0_deg\", \"theta0_deg\"], \"factors\": [1.0, 1.0, 1.0, 1.0], \"reference_values\": [258.5, 288.5, 348.5, 258.5], \"absolute\": false, \"value\": 0})"
      ]
     },
     "execution_count": 28,
     "metadata": {},
     "output_type": "execute_result"
    }
   ],
   "source": [
    "I4 = I.copy()\n",
    "\n",
    "# Add a group to control these. \n",
    "I4.add_group('L0A', ele_names=['L0A_entrance', 'L0A_body_1', 'L0A_body_2', 'L0A_exit'], var_name='theta0_deg', attributes='theta0_deg')"
   ]
  },
  {
   "cell_type": "code",
   "execution_count": 29,
   "metadata": {},
   "outputs": [
    {
     "name": "stdout",
     "output_type": "stream",
     "text": [
      "L0A_entrance 258.623456\n",
      "L0A_body_1 288.623456\n",
      "L0A_body_2 348.623456\n",
      "L0A_exit 258.623456\n"
     ]
    }
   ],
   "source": [
    "# Make a change\n",
    "I4['L0A']['theta0_deg'] =0.123456\n",
    "\n",
    "# These get propagated to the underlying elements\n",
    "for name in I4['L0A'].ele_names:\n",
    "     print(name, I4[name]['theta0_deg'])"
   ]
  },
  {
   "cell_type": "code",
   "execution_count": 30,
   "metadata": {},
   "outputs": [],
   "source": [
    "# Overall scaling, respecting the special factors. \n",
    "I4.add_group('L0A_scale', ele_names=['L0A_entrance', 'L0A_body_1', 'L0A_body_2', 'L0A_exit'],\n",
    "                   var_name = 'rf_field_scale',\n",
    "                  factors = [0.86571945106805, 1, 1, 0.86571945106805],  # sin(k*d) with d = 3.5e-2 m \n",
    "                  absolute=True)\n",
    "\n",
    "I4['L0A_scale']['rf_field_scale'] = 10"
   ]
  },
  {
   "cell_type": "code",
   "execution_count": 31,
   "metadata": {},
   "outputs": [
    {
     "name": "stdout",
     "output_type": "stream",
     "text": [
      "L0A_entrance 8.657194510680501\n",
      "L0A_body_1 10\n",
      "L0A_body_2 10\n",
      "L0A_exit 8.657194510680501\n"
     ]
    }
   ],
   "source": [
    "# These get propagated to the underlying elements\n",
    "for name in I4['L0A_scale'].ele_names:\n",
    "     print(name, I4[name]['rf_field_scale'])"
   ]
  },
  {
   "cell_type": "markdown",
   "metadata": {},
   "source": [
    "# Instantiate from YAML\n",
    "\n",
    "All of the Impact object init arguments can be passed in a YAML file. Any of:"
   ]
  },
  {
   "cell_type": "code",
   "execution_count": 32,
   "metadata": {},
   "outputs": [
    {
     "data": {
      "text/plain": [
       "\u001b[0;31mInit signature:\u001b[0m\n",
       "\u001b[0mImpact\u001b[0m\u001b[0;34m(\u001b[0m\u001b[0;34m\u001b[0m\n",
       "\u001b[0;34m\u001b[0m    \u001b[0minput_file\u001b[0m\u001b[0;34m=\u001b[0m\u001b[0;32mNone\u001b[0m\u001b[0;34m,\u001b[0m\u001b[0;34m\u001b[0m\n",
       "\u001b[0;34m\u001b[0m    \u001b[0minitial_particles\u001b[0m\u001b[0;34m=\u001b[0m\u001b[0;32mNone\u001b[0m\u001b[0;34m,\u001b[0m\u001b[0;34m\u001b[0m\n",
       "\u001b[0;34m\u001b[0m    \u001b[0mgroup\u001b[0m\u001b[0;34m=\u001b[0m\u001b[0;32mNone\u001b[0m\u001b[0;34m,\u001b[0m\u001b[0;34m\u001b[0m\n",
       "\u001b[0;34m\u001b[0m    \u001b[0;34m*\u001b[0m\u001b[0;34m,\u001b[0m\u001b[0;34m\u001b[0m\n",
       "\u001b[0;34m\u001b[0m    \u001b[0mcommand\u001b[0m\u001b[0;34m=\u001b[0m\u001b[0;34m'ImpactTexe'\u001b[0m\u001b[0;34m,\u001b[0m\u001b[0;34m\u001b[0m\n",
       "\u001b[0;34m\u001b[0m    \u001b[0mcommand_mpi\u001b[0m\u001b[0;34m=\u001b[0m\u001b[0;34m'ImpactTexe-mpi'\u001b[0m\u001b[0;34m,\u001b[0m\u001b[0;34m\u001b[0m\n",
       "\u001b[0;34m\u001b[0m    \u001b[0muse_mpi\u001b[0m\u001b[0;34m=\u001b[0m\u001b[0;32mFalse\u001b[0m\u001b[0;34m,\u001b[0m\u001b[0;34m\u001b[0m\n",
       "\u001b[0;34m\u001b[0m    \u001b[0mmpi_run\u001b[0m\u001b[0;34m=\u001b[0m\u001b[0;34m'mpirun -n {n} {command_mpi}'\u001b[0m\u001b[0;34m,\u001b[0m\u001b[0;34m\u001b[0m\n",
       "\u001b[0;34m\u001b[0m    \u001b[0muse_tempdir\u001b[0m\u001b[0;34m=\u001b[0m\u001b[0;32mTrue\u001b[0m\u001b[0;34m,\u001b[0m\u001b[0;34m\u001b[0m\n",
       "\u001b[0;34m\u001b[0m    \u001b[0mworkdir\u001b[0m\u001b[0;34m=\u001b[0m\u001b[0;32mNone\u001b[0m\u001b[0;34m,\u001b[0m\u001b[0;34m\u001b[0m\n",
       "\u001b[0;34m\u001b[0m    \u001b[0mverbose\u001b[0m\u001b[0;34m=\u001b[0m\u001b[0;32mFalse\u001b[0m\u001b[0;34m,\u001b[0m\u001b[0;34m\u001b[0m\n",
       "\u001b[0;34m\u001b[0m\u001b[0;34m)\u001b[0m\u001b[0;34m\u001b[0m\u001b[0;34m\u001b[0m\u001b[0m\n",
       "\u001b[0;31mDocstring:\u001b[0m     \n",
       "Files will be written into a temporary directory within workdir. \n",
       "If workdir=None, a location will be determined by the system. \n",
       "\u001b[0;31mFile:\u001b[0m           ~/Code/GitHub/lume-impact/impact/impact.py\n",
       "\u001b[0;31mType:\u001b[0m           type\n",
       "\u001b[0;31mSubclasses:\u001b[0m     \n"
      ]
     },
     "metadata": {},
     "output_type": "display_data"
    }
   ],
   "source": [
    "?Impact"
   ]
  },
  {
   "cell_type": "code",
   "execution_count": 33,
   "metadata": {},
   "outputs": [
    {
     "name": "stdout",
     "output_type": "stream",
     "text": [
      "Configured to run in: /var/folders/wj/lfgr01993dx79p9cm_skykbw0000gn/T/tmp7fmkzmay\n"
     ]
    },
    {
     "data": {
      "text/plain": [
       "(0, 258.5)"
      ]
     },
     "execution_count": 33,
     "metadata": {},
     "output_type": "execute_result"
    }
   ],
   "source": [
    "YAML=\"\"\"\n",
    "\n",
    "# Any argument above. One exception is initial_particles: this should be a filename that is parsed into a ParticleGroup\n",
    "\n",
    "input_file: ../templates/lcls_injector/ImpactT.in\n",
    "\n",
    "verbose: True\n",
    "\n",
    "group:\n",
    "  L0A:\n",
    "    ele_names: [ L0A_entrance, L0A_body_1, L0A_body_2, L0A_exit ]\n",
    "    var_name: dtheta0_deg\n",
    "    attributes: theta0_deg\n",
    "    value: 0\n",
    "    \n",
    "  L0B:\n",
    "    ele_names: [ L0B_entrance, L0B_body_1, L0B_body_2, L0B_exit ]\n",
    "    var_name: dtheta0_deg\n",
    "    attributes: theta0_deg\n",
    "    value: 0    \n",
    "    \n",
    "  L0A_scale:\n",
    "    ele_names:  [ L0A_entrance, L0A_body_1, L0A_body_2, L0A_exit ]\n",
    "    var_name: rf_field_scale\n",
    "    factors: [0.86571945106805, 1, 1, 0.86571945106805]  # sin(k*d) with d = 3.5e-2 m \n",
    "    absolute: True    \n",
    "    \n",
    "  L0B_scale:\n",
    "    ele_names:  [ L0B_entrance, L0B_body_1, L0B_body_2, L0B_exit ]\n",
    "    var_name: rf_field_scale\n",
    "    factors: [0.86571945106805, 1, 1, 0.86571945106805]  # sin(k*d) with d = 3.5e-2 m \n",
    "    absolute: True\n",
    "    \n",
    "\n",
    "\"\"\"\n",
    "I5 = Impact.from_yaml(YAML)\n",
    "I5['L0A:dtheta0_deg'], I5['L0A_entrance:theta0_deg']"
   ]
  },
  {
   "cell_type": "code",
   "execution_count": 34,
   "metadata": {},
   "outputs": [
    {
     "data": {
      "text/plain": [
       "[258.5, 288.5, 348.5, 258.5]"
      ]
     },
     "execution_count": 34,
     "metadata": {},
     "output_type": "execute_result"
    }
   ],
   "source": [
    "I5['L0A'].reference_values"
   ]
  },
  {
   "cell_type": "code",
   "execution_count": 35,
   "metadata": {},
   "outputs": [
    {
     "data": {
      "text/plain": [
       "ControlGroup(**{\"ele_names\": [\"L0A_entrance\", \"L0A_body_1\", \"L0A_body_2\", \"L0A_exit\"], \"var_name\": \"dtheta0_deg\", \"attributes\": [\"theta0_deg\", \"theta0_deg\", \"theta0_deg\", \"theta0_deg\"], \"factors\": [1.0, 1.0, 1.0, 1.0], \"reference_values\": [258.5, 288.5, 348.5, 258.5], \"absolute\": false, \"value\": 0})"
      ]
     },
     "execution_count": 35,
     "metadata": {},
     "output_type": "execute_result"
    }
   ],
   "source": [
    "I5['L0A']"
   ]
  },
  {
   "cell_type": "markdown",
   "metadata": {},
   "source": [
    "# Archive all output\n",
    "\n",
    "All of .input and .output can be archived and loaded from standard h5 files.\n",
    "\n",
    "Particles are stored in the openPMD-beamphysics format."
   ]
  },
  {
   "cell_type": "code",
   "execution_count": 36,
   "metadata": {},
   "outputs": [],
   "source": [
    "# Call the archive function. If no name is given, a name will be invented based on the fingerprint.\n",
    "afile = I.archive()"
   ]
  },
  {
   "cell_type": "code",
   "execution_count": 37,
   "metadata": {},
   "outputs": [],
   "source": [
    "# This can be loaded into an empty model\n",
    "I2 = Impact()\n",
    "I2.load_archive(afile)"
   ]
  },
  {
   "cell_type": "code",
   "execution_count": 38,
   "metadata": {},
   "outputs": [],
   "source": [
    "# This also works\n",
    "I2 = Impact.from_archive(afile)"
   ]
  },
  {
   "cell_type": "code",
   "execution_count": 39,
   "metadata": {},
   "outputs": [],
   "source": [
    "# Check that the fingerprints are the same\n",
    "assert I.fingerprint() == I2.fingerprint()"
   ]
  },
  {
   "cell_type": "code",
   "execution_count": 40,
   "metadata": {},
   "outputs": [
    {
     "data": {
      "text/plain": [
       "(2.4616267e-07, 2.4616267e-07)"
      ]
     },
     "execution_count": 40,
     "metadata": {},
     "output_type": "execute_result"
    }
   ],
   "source": [
    "# Look at a stat, and compare with the original object\n",
    "I.stat('norm_emit_x')[-1], I2.stat('norm_emit_x')[-1]"
   ]
  },
  {
   "cell_type": "code",
   "execution_count": 41,
   "metadata": {},
   "outputs": [
    {
     "data": {
      "image/png": "[encoded data removed]",
      "text/plain": [
       "<Figure size 576x288 with 3 Axes>"
      ]
     },
     "metadata": {
      "image/png": {
       "height": 261,
       "width": 516
      },
      "needs_background": "light"
     },
     "output_type": "display_data"
    }
   ],
   "source": [
    "# The particles look the same\n",
    "I2.particles['final_particles'].plot('z', 'pz')"
   ]
  },
  {
   "cell_type": "code",
   "execution_count": 42,
   "metadata": {},
   "outputs": [],
   "source": [
    "# Cleanup\n",
    "os.remove(afile)"
   ]
  }
 ],
 "metadata": {
  "kernelspec": {
   "display_name": "Python 3 (ipykernel)",
   "language": "python",
   "name": "python3"
  },
  "language_info": {
   "codemirror_mode": {
    "name": "ipython",
    "version": 3
   },
   "file_extension": ".py",
   "mimetype": "text/x-python",
   "name": "python",
   "nbconvert_exporter": "python",
   "pygments_lexer": "ipython3",
   "version": "3.9.6"
  }
 },
 "nbformat": 4,
 "nbformat_minor": 4
}
