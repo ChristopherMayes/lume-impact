{
 "cells": [
  {
   "cell_type": "code",
   "execution_count": 1,
   "metadata": {},
   "outputs": [],
   "source": [
    "# Useful for debugging\n",
    "%load_ext autoreload\n",
    "%autoreload 2"
   ]
  },
  {
   "cell_type": "markdown",
   "metadata": {},
   "source": [
    "# Simple Impact-T Run"
   ]
  },
  {
   "cell_type": "code",
   "execution_count": 2,
   "metadata": {},
   "outputs": [],
   "source": [
    "from impact import Impact"
   ]
  },
  {
   "cell_type": "code",
   "execution_count": 3,
   "metadata": {},
   "outputs": [],
   "source": [
    "ipath = '../templates/lcls_injector/'\n",
    "ifile = '../templates/lcls_injector/ImpactT.in'"
   ]
  },
  {
   "cell_type": "code",
   "execution_count": 4,
   "metadata": {},
   "outputs": [
    {
     "name": "stdout",
     "output_type": "stream",
     "text": [
      "/Users/chrisonian/Code/GitHub/lume-impact/templates/lcls_injector\n",
      "Configured for tempdir: /var/folders/wj/lfgr01993dx79p9cm_skykbw0000gn/T/temp_impactT_0mbup2ut\n"
     ]
    }
   ],
   "source": [
    "I = Impact(ifile, verbose=True)"
   ]
  },
  {
   "cell_type": "code",
   "execution_count": 5,
   "metadata": {},
   "outputs": [
    {
     "name": "stdout",
     "output_type": "stream",
     "text": [
      "================ Impact-T Summary ================\n",
      "1 bunchtotal charge: 249.99999999999997 pC\n",
      "Distribution type: read\n",
      "Cathode start at z = 0 m\n",
      "   emission time: 1.4e-11 s\n",
      "   image charges neglected after z = 0.02 m\n",
      "Tracking 300004 particles\n",
      "Processor domain: 1 x 1 = 1 CPUs\n",
      "Computational domain: 0.015 m x 0.015 m x 45.0 m\n",
      "Space charge grid: 64 x 64 x 128\n",
      "Maximum time steps: 1000000\n",
      "Random Seed: 6\n",
      "Reference Frequency: 2856000000.0 Hz\n",
      "Initial reference time: 0.0 s\n",
      "Simulation starting from the beginning\n",
      "==================================================\n",
      "\n",
      "Impact-T configured in /var/folders/wj/lfgr01993dx79p9cm_skykbw0000gn/T/temp_impactT_0mbup2ut\n"
     ]
    }
   ],
   "source": [
    "print(I)"
   ]
  },
  {
   "cell_type": "code",
   "execution_count": 6,
   "metadata": {},
   "outputs": [],
   "source": [
    "# Change some things\n",
    "I.input['header']['Np'] = 3004\n",
    "I.input['header']['Nx'] = 16\n",
    "I.input['header']['Ny'] = 16\n",
    "I.input['header']['Nz'] = 16\n",
    "I.input['header']['Dt'] = 5e-13"
   ]
  },
  {
   "cell_type": "code",
   "execution_count": 9,
   "metadata": {},
   "outputs": [],
   "source": [
    "# Change stop location\n",
    "I.ele['stop_1']['s'] = 0.01"
   ]
  },
  {
   "cell_type": "code",
   "execution_count": 10,
   "metadata": {},
   "outputs": [
    {
     "name": "stdout",
     "output_type": "stream",
     "text": [
      "partcl.data already exits, will not overwrite.\n",
      "Loaded fort 30 : Fourth root of the fourth moments of the beam distribution\n",
      "Loaded fort 25 : RMS Y information\n",
      "Loaded fort 24 : RMS X information\n",
      "Loaded fort 26 : RMS Z information\n",
      "Loaded fort 28 : Load balance and loss diagnostics\n",
      "Loaded fort 29 : Cube root of third moments of the beam distribution\n",
      "Loaded fort 18 : Time and energy\n",
      "Loaded fort 27 : Max amplitude information\n",
      "Loaded fort 70 : Slice information of the final distribution\n",
      "Loaded fort 60 : Slice information of the initial distribution\n",
      "Loaded fort 40 : initial particle distribution at t = 0\n",
      "Loaded fort 50 : final particle distribution projected to the centroid location of the bunch\n"
     ]
    }
   ],
   "source": [
    "I.timeout = 1000\n",
    "I.run()"
   ]
  },
  {
   "cell_type": "code",
   "execution_count": 11,
   "metadata": {},
   "outputs": [
    {
     "data": {
      "text/plain": [
       "{'initial_particles': array([( 4.3611631e-04,  1.2615826e-03,  3.2937175e-04, -5.7131252e-04, -2.7340319e-06, 0.001978),\n",
       "        ( 4.0614893e-04,  1.0219854e-03,  3.8438809e-04,  7.9314477e-04, -1.7480634e-06, 0.001978),\n",
       "        (-4.6228725e-06, -9.2105950e-05, -1.0653409e-04, -3.6416778e-05, -2.1070141e-06, 0.001978),\n",
       "        ...,\n",
       "        ( 3.1444710e-04, -1.0118680e-03,  4.0362795e-05,  1.0135250e-03, -3.3099046e-06, 0.001978),\n",
       "        ( 2.3358952e-04, -8.0413991e-05, -4.8289365e-05, -1.2245925e-03, -3.2073538e-06, 0.001978),\n",
       "        (-4.7831343e-04, -1.8353668e-03,  1.9170274e-04, -4.4979501e-04, -1.5912101e-06, 0.001978)],\n",
       "       dtype=[('x', '<f8'), ('GBx', '<f8'), ('y', '<f8'), ('GBy', '<f8'), ('z', '<f8'), ('GBz', '<f8')]),\n",
       " 'final_particles': array([( 0.00016224,  0.01061123, -1.01499853e-03, -0.0610029 , 0.01030399, 2.83196904),\n",
       "        ( 0.00015552,  0.00866931,  3.76046702e-04,  0.02136602, 0.01073721, 2.86220828),\n",
       "        ( 0.00118522,  0.08358915, -3.51321900e-05, -0.0014924 , 0.01098252, 2.9206742 ),\n",
       "        ...,\n",
       "        (-0.00022703, -0.02338573,  1.00977157e-03,  0.10270477, 0.00895713, 2.57348283),\n",
       "        ( 0.00032355,  0.0313002 , -2.92795037e-04, -0.02813369, 0.0089138 , 2.54777458),\n",
       "        (-0.00050091, -0.04947753,  1.70966512e-04,  0.01637391, 0.00892068, 2.55211766)],\n",
       "       dtype=[('x', '<f8'), ('GBx', '<f8'), ('y', '<f8'), ('GBy', '<f8'), ('z', '<f8'), ('GBz', '<f8')])}"
      ]
     },
     "execution_count": 11,
     "metadata": {},
     "output_type": "execute_result"
    }
   ],
   "source": [
    "I.particles"
   ]
  },
  {
   "cell_type": "code",
   "execution_count": 12,
   "metadata": {},
   "outputs": [
    {
     "data": {
      "text/plain": [
       "dict_keys(['t', 'z', 'x_moment4', 'GBx_moment4', 'y_moment4', 'GBy_moment4', 'z_moment4', 'GBz_moment4', 'y_centroid', 'y_rms', 'GBy_centroid', 'GBy_rms', 'y_twiss', 'y_normemit', 'x_centroid', 'x_rms', 'GBx_centroid', 'GBx_rms', 'x_twiss', 'x_normemit', 'z_centroid', 'z_rms', 'GBz_centroid', 'GBz_rms', 'z_twiss', 'z_normemit', 'numparticles_min', 'numparticles_max', 'numparticles', 'x_moment3', 'GBx_moment3', 'y_moment3', 'GBy_moment3', 'z_moment3', 'GBz_moment3', 'gamma', 'E_kinetic', 'beta', 'r_max', 'deltaGamma_rms', 'x_max', 'GBx_max', 'y_max', 'GBy_max', 'z_max', 'GBz_max'])"
      ]
     },
     "execution_count": 12,
     "metadata": {},
     "output_type": "execute_result"
    }
   ],
   "source": [
    "I.output['stats'].keys()"
   ]
  },
  {
   "cell_type": "code",
   "execution_count": 13,
   "metadata": {},
   "outputs": [
    {
     "data": {
      "text/plain": [
       "{'final_particle_slices': {'slice_z': array([-0.00195693, -0.00169601, -0.00143509, -0.00117416, -0.00091324,\n",
       "         -0.00065231, -0.00039139, -0.00013046,  0.00013046,  0.00039139,\n",
       "          0.00065231,  0.00091324,  0.00117416,  0.00143509,  0.00169601,\n",
       "          0.00195693]),\n",
       "  'particles_per_cell': array([  64.08197, 1250.373  , 3556.697  , 1949.189  ,  654.0843 ,\n",
       "          908.352  ,  863.0922 ,  568.0007 ,  430.6301 ,  554.2596 ,\n",
       "          864.019  ,  895.93   ,  929.0265 ,  914.6713 ,  853.9784 ,\n",
       "          366.6151 ]),\n",
       "  'current': array([  6.127469, 119.5597  , 340.0886  , 186.38    ,  62.54304 ,\n",
       "          86.85592 ,  82.52821 ,  54.31179 ,  41.17652 ,  52.99787 ,\n",
       "          82.61683 ,  85.66813 ,  88.8328  ,  87.46017 ,  81.65675 ,\n",
       "          35.05545 ]),\n",
       "  'x_emittance': array([1.169690e-06, 2.106731e-06, 1.417134e-06, 2.163778e-06,\n",
       "         3.502870e-06, 2.471005e-06, 1.884877e-06, 2.103940e-06,\n",
       "         2.222641e-06, 1.644615e-06, 1.221919e-06, 1.176429e-06,\n",
       "         1.065920e-06, 9.305976e-07, 1.164146e-06, 7.676397e-07]),\n",
       "  'y_emittance': array([1.951275e-06, 2.201826e-06, 1.397358e-06, 2.315741e-06,\n",
       "         3.378267e-06, 2.365849e-06, 1.914362e-06, 1.997887e-06,\n",
       "         2.127380e-06, 1.550664e-06, 1.244418e-06, 1.160252e-06,\n",
       "         1.154896e-06, 1.100351e-06, 1.174645e-06, 7.147115e-07]),\n",
       "  'energy_spread': array([1332865., 1364306., 1395155., 1424838., 1461301., 1483672.,\n",
       "         1504263., 1523415., 1540483., 1554706., 1570702., 1594021.,\n",
       "         1618257., 1644506., 1672531., 1692419.]),\n",
       "  'uncorreleted_energy_spread': array([19825.59  , 12006.67  ,  6449.483 ,  8280.305 ,  4410.297 ,\n",
       "           680.6293,  1306.337 ,  2017.818 ,  2672.551 ,  5141.277 ,\n",
       "          3812.987 ,  2182.11  ,  1277.532 ,   793.5768,  3881.836 ,\n",
       "          8756.935 ])},\n",
       " 'initial_particle_slices': {'slice_z': array([-2.192366e-06, -1.900051e-06, -1.607735e-06, -1.315420e-06,\n",
       "         -1.023104e-06, -7.307887e-07, -4.384732e-07, -1.461577e-07,\n",
       "          1.461577e-07,  4.384732e-07,  7.307887e-07,  1.023104e-06,\n",
       "          1.315420e-06,  1.607735e-06,  1.900051e-06,  2.192366e-06]),\n",
       "  'particles_per_cell': array([  902.7849,  3726.492 ,  8163.955 , 14812.93  , 22957.57  ,\n",
       "         30115.15  , 34256.2   , 35377.78  , 35223.44  , 34107.93  ,\n",
       "         30083.49  , 22567.54  , 14956.39  ,  8156.309 ,  3682.107 ,\n",
       "           913.9102]),\n",
       "  'current': array([  77053.54,  318059.6 ,  696801.2 , 1264298.  , 1959450.  ,\n",
       "         2570356.  , 2923799.  , 3019527.  , 3006354.  , 2911144.  ,\n",
       "         2567654.  , 1926161.  , 1276542.  ,  696148.6 ,  314271.3 ,\n",
       "           78003.09]),\n",
       "  'x_emittance': array([2.570736e-07, 2.447507e-07, 2.419511e-07, 2.420271e-07,\n",
       "         2.458970e-07, 2.436881e-07, 2.434937e-07, 2.443019e-07,\n",
       "         2.432558e-07, 2.434472e-07, 2.445745e-07, 2.452251e-07,\n",
       "         2.448943e-07, 2.415111e-07, 2.441664e-07, 2.505784e-07]),\n",
       "  'y_emittance': array([2.429622e-07, 2.451793e-07, 2.458906e-07, 2.423246e-07,\n",
       "         2.430275e-07, 2.434718e-07, 2.451310e-07, 2.431269e-07,\n",
       "         2.433620e-07, 2.438447e-07, 2.448344e-07, 2.449860e-07,\n",
       "         2.479207e-07, 2.492951e-07, 2.497725e-07, 2.420988e-07]),\n",
       "  'energy_spread': array([511006.4, 511006.4, 511006.4, 511006.4, 511006.4, 511006.4,\n",
       "         511006.4, 511006.4, 511006.4, 511006.4, 511006.4, 511006.4,\n",
       "         511006.4, 511006.4, 511006.4, 511006.4]),\n",
       "  'uncorreleted_energy_spread': array([0.413692 , 0.4062043, 0.4061322, 0.3980183, 0.4064643, 0.4004265,\n",
       "         0.402878 , 0.4076054, 0.4025008, 0.3982359, 0.4045951, 0.4034347,\n",
       "         0.4080584, 0.4089833, 0.4146599, 0.4143319])}}"
      ]
     },
     "execution_count": 13,
     "metadata": {},
     "output_type": "execute_result"
    }
   ],
   "source": [
    "I.output['slice_info']"
   ]
  },
  {
   "cell_type": "markdown",
   "metadata": {},
   "source": [
    "# Plot"
   ]
  },
  {
   "cell_type": "code",
   "execution_count": 14,
   "metadata": {},
   "outputs": [
    {
     "data": {
      "application/javascript": [
       "\n",
       "(function(root) {\n",
       "  function now() {\n",
       "    return new Date();\n",
       "  }\n",
       "\n",
       "  var force = true;\n",
       "\n",
       "  if (typeof root._bokeh_onload_callbacks === \"undefined\" || force === true) {\n",
       "    root._bokeh_onload_callbacks = [];\n",
       "    root._bokeh_is_loading = undefined;\n",
       "  }\n",
       "\n",
       "  var JS_MIME_TYPE = 'application/javascript';\n",
       "  var HTML_MIME_TYPE = 'text/html';\n",
       "  var EXEC_MIME_TYPE = 'application/vnd.bokehjs_exec.v0+json';\n",
       "  var CLASS_NAME = 'output_bokeh rendered_html';\n",
       "\n",
       "  /**\n",
       "   * Render data to the DOM node\n",
       "   */\n",
       "  function render(props, node) {\n",
       "    var script = document.createElement(\"script\");\n",
       "    node.appendChild(script);\n",
       "  }\n",
       "\n",
       "  /**\n",
       "   * Handle when an output is cleared or removed\n",
       "   */\n",
       "  function handleClearOutput(event, handle) {\n",
       "    var cell = handle.cell;\n",
       "\n",
       "    var id = cell.output_area._bokeh_element_id;\n",
       "    var server_id = cell.output_area._bokeh_server_id;\n",
       "    // Clean up Bokeh references\n",
       "    if (id != null && id in Bokeh.index) {\n",
       "      Bokeh.index[id].model.document.clear();\n",
       "      delete Bokeh.index[id];\n",
       "    }\n",
       "\n",
       "    if (server_id !== undefined) {\n",
       "      // Clean up Bokeh references\n",
       "      var cmd = \"from bokeh.io.state import curstate; print(curstate().uuid_to_server['\" + server_id + \"'].get_sessions()[0].document.roots[0]._id)\";\n",
       "      cell.notebook.kernel.execute(cmd, {\n",
       "        iopub: {\n",
       "          output: function(msg) {\n",
       "            var id = msg.content.text.trim();\n",
       "            if (id in Bokeh.index) {\n",
       "              Bokeh.index[id].model.document.clear();\n",
       "              delete Bokeh.index[id];\n",
       "            }\n",
       "          }\n",
       "        }\n",
       "      });\n",
       "      // Destroy server and session\n",
       "      var cmd = \"import bokeh.io.notebook as ion; ion.destroy_server('\" + server_id + \"')\";\n",
       "      cell.notebook.kernel.execute(cmd);\n",
       "    }\n",
       "  }\n",
       "\n",
       "  /**\n",
       "   * Handle when a new output is added\n",
       "   */\n",
       "  function handleAddOutput(event, handle) {\n",
       "    var output_area = handle.output_area;\n",
       "    var output = handle.output;\n",
       "\n",
       "    // limit handleAddOutput to display_data with EXEC_MIME_TYPE content only\n",
       "    if ((output.output_type != \"display_data\") || (!output.data.hasOwnProperty(EXEC_MIME_TYPE))) {\n",
       "      return\n",
       "    }\n",
       "\n",
       "    var toinsert = output_area.element.find(\".\" + CLASS_NAME.split(' ')[0]);\n",
       "\n",
       "    if (output.metadata[EXEC_MIME_TYPE][\"id\"] !== undefined) {\n",
       "      toinsert[toinsert.length - 1].firstChild.textContent = output.data[JS_MIME_TYPE];\n",
       "      // store reference to embed id on output_area\n",
       "      output_area._bokeh_element_id = output.metadata[EXEC_MIME_TYPE][\"id\"];\n",
       "    }\n",
       "    if (output.metadata[EXEC_MIME_TYPE][\"server_id\"] !== undefined) {\n",
       "      var bk_div = document.createElement(\"div\");\n",
       "      bk_div.innerHTML = output.data[HTML_MIME_TYPE];\n",
       "      var script_attrs = bk_div.children[0].attributes;\n",
       "      for (var i = 0; i < script_attrs.length; i++) {\n",
       "        toinsert[toinsert.length - 1].firstChild.setAttribute(script_attrs[i].name, script_attrs[i].value);\n",
       "      }\n",
       "      // store reference to server id on output_area\n",
       "      output_area._bokeh_server_id = output.metadata[EXEC_MIME_TYPE][\"server_id\"];\n",
       "    }\n",
       "  }\n",
       "\n",
       "  function register_renderer(events, OutputArea) {\n",
       "\n",
       "    function append_mime(data, metadata, element) {\n",
       "      // create a DOM node to render to\n",
       "      var toinsert = this.create_output_subarea(\n",
       "        metadata,\n",
       "        CLASS_NAME,\n",
       "        EXEC_MIME_TYPE\n",
       "      );\n",
       "      this.keyboard_manager.register_events(toinsert);\n",
       "      // Render to node\n",
       "      var props = {data: data, metadata: metadata[EXEC_MIME_TYPE]};\n",
       "      render(props, toinsert[toinsert.length - 1]);\n",
       "      element.append(toinsert);\n",
       "      return toinsert\n",
       "    }\n",
       "\n",
       "    /* Handle when an output is cleared or removed */\n",
       "    events.on('clear_output.CodeCell', handleClearOutput);\n",
       "    events.on('delete.Cell', handleClearOutput);\n",
       "\n",
       "    /* Handle when a new output is added */\n",
       "    events.on('output_added.OutputArea', handleAddOutput);\n",
       "\n",
       "    /**\n",
       "     * Register the mime type and append_mime function with output_area\n",
       "     */\n",
       "    OutputArea.prototype.register_mime_type(EXEC_MIME_TYPE, append_mime, {\n",
       "      /* Is output safe? */\n",
       "      safe: true,\n",
       "      /* Index of renderer in `output_area.display_order` */\n",
       "      index: 0\n",
       "    });\n",
       "  }\n",
       "\n",
       "  // register the mime type if in Jupyter Notebook environment and previously unregistered\n",
       "  if (root.Jupyter !== undefined) {\n",
       "    var events = require('base/js/events');\n",
       "    var OutputArea = require('notebook/js/outputarea').OutputArea;\n",
       "\n",
       "    if (OutputArea.prototype.mime_types().indexOf(EXEC_MIME_TYPE) == -1) {\n",
       "      register_renderer(events, OutputArea);\n",
       "    }\n",
       "  }\n",
       "\n",
       "  \n",
       "  if (typeof (root._bokeh_timeout) === \"undefined\" || force === true) {\n",
       "    root._bokeh_timeout = Date.now() + 5000;\n",
       "    root._bokeh_failed_load = false;\n",
       "  }\n",
       "\n",
       "  var NB_LOAD_WARNING = {'data': {'text/html':\n",
       "     \"<div style='background-color: #fdd'>\\n\"+\n",
       "     \"<p>\\n\"+\n",
       "     \"BokehJS does not appear to have successfully loaded. If loading BokehJS from CDN, this \\n\"+\n",
       "     \"may be due to a slow or bad network connection. Possible fixes:\\n\"+\n",
       "     \"</p>\\n\"+\n",
       "     \"<ul>\\n\"+\n",
       "     \"<li>re-rerun `output_notebook()` to attempt to load from CDN again, or</li>\\n\"+\n",
       "     \"<li>use INLINE resources instead, as so:</li>\\n\"+\n",
       "     \"</ul>\\n\"+\n",
       "     \"<code>\\n\"+\n",
       "     \"from bokeh.resources import INLINE\\n\"+\n",
       "     \"output_notebook(resources=INLINE)\\n\"+\n",
       "     \"</code>\\n\"+\n",
       "     \"</div>\"}};\n",
       "\n",
       "  function display_loaded() {\n",
       "    var el = document.getElementById(null);\n",
       "    if (el != null) {\n",
       "      el.textContent = \"BokehJS is loading...\";\n",
       "    }\n",
       "    if (root.Bokeh !== undefined) {\n",
       "      if (el != null) {\n",
       "        el.textContent = \"BokehJS \" + root.Bokeh.version + \" successfully loaded.\";\n",
       "      }\n",
       "    } else if (Date.now() < root._bokeh_timeout) {\n",
       "      setTimeout(display_loaded, 100)\n",
       "    }\n",
       "  }\n",
       "\n",
       "\n",
       "  function run_callbacks() {\n",
       "    try {\n",
       "      root._bokeh_onload_callbacks.forEach(function(callback) {\n",
       "        if (callback != null)\n",
       "          callback();\n",
       "      });\n",
       "    } finally {\n",
       "      delete root._bokeh_onload_callbacks\n",
       "    }\n",
       "    console.debug(\"Bokeh: all callbacks have finished\");\n",
       "  }\n",
       "\n",
       "  function load_libs(css_urls, js_urls, callback) {\n",
       "    if (css_urls == null) css_urls = [];\n",
       "    if (js_urls == null) js_urls = [];\n",
       "\n",
       "    root._bokeh_onload_callbacks.push(callback);\n",
       "    if (root._bokeh_is_loading > 0) {\n",
       "      console.debug(\"Bokeh: BokehJS is being loaded, scheduling callback at\", now());\n",
       "      return null;\n",
       "    }\n",
       "    if (js_urls == null || js_urls.length === 0) {\n",
       "      run_callbacks();\n",
       "      return null;\n",
       "    }\n",
       "    console.debug(\"Bokeh: BokehJS not loaded, scheduling load and callback at\", now());\n",
       "    root._bokeh_is_loading = css_urls.length + js_urls.length;\n",
       "\n",
       "    function on_load() {\n",
       "      root._bokeh_is_loading--;\n",
       "      if (root._bokeh_is_loading === 0) {\n",
       "        console.debug(\"Bokeh: all BokehJS libraries/stylesheets loaded\");\n",
       "        run_callbacks()\n",
       "      }\n",
       "    }\n",
       "\n",
       "    function on_error() {\n",
       "      console.error(\"failed to load \" + url);\n",
       "    }\n",
       "\n",
       "    for (var i = 0; i < css_urls.length; i++) {\n",
       "      var url = css_urls[i];\n",
       "      const element = document.createElement(\"link\");\n",
       "      element.onload = on_load;\n",
       "      element.onerror = on_error;\n",
       "      element.rel = \"stylesheet\";\n",
       "      element.type = \"text/css\";\n",
       "      element.href = url;\n",
       "      console.debug(\"Bokeh: injecting link tag for BokehJS stylesheet: \", url);\n",
       "      document.body.appendChild(element);\n",
       "    }\n",
       "\n",
       "    for (var i = 0; i < js_urls.length; i++) {\n",
       "      var url = js_urls[i];\n",
       "      var element = document.createElement('script');\n",
       "      element.onload = on_load;\n",
       "      element.onerror = on_error;\n",
       "      element.async = false;\n",
       "      element.src = url;\n",
       "      console.debug(\"Bokeh: injecting script tag for BokehJS library: \", url);\n",
       "      document.head.appendChild(element);\n",
       "    }\n",
       "  };\n",
       "\n",
       "  function inject_raw_css(css) {\n",
       "    const element = document.createElement(\"style\");\n",
       "    element.appendChild(document.createTextNode(css));\n",
       "    document.body.appendChild(element);\n",
       "  }\n",
       "\n",
       "  var js_urls = [\"https://cdn.pydata.org/bokeh/release/bokeh-1.2.0.min.js\", \"https://cdn.pydata.org/bokeh/release/bokeh-widgets-1.2.0.min.js\", \"https://cdn.pydata.org/bokeh/release/bokeh-tables-1.2.0.min.js\", \"https://cdn.pydata.org/bokeh/release/bokeh-gl-1.2.0.min.js\"];\n",
       "  var css_urls = [\"https://cdn.pydata.org/bokeh/release/bokeh-1.2.0.min.css\", \"https://cdn.pydata.org/bokeh/release/bokeh-widgets-1.2.0.min.css\", \"https://cdn.pydata.org/bokeh/release/bokeh-tables-1.2.0.min.css\"];\n",
       "\n",
       "  var inline_js = [\n",
       "    function(Bokeh) {\n",
       "      Bokeh.set_log_level(\"info\");\n",
       "    },\n",
       "    \n",
       "    function(Bokeh) {\n",
       "      \n",
       "    },\n",
       "    function(Bokeh) {} // ensure no trailing comma for IE\n",
       "  ];\n",
       "\n",
       "  function run_inline_js() {\n",
       "    \n",
       "    if ((root.Bokeh !== undefined) || (force === true)) {\n",
       "      for (var i = 0; i < inline_js.length; i++) {\n",
       "        inline_js[i].call(root, root.Bokeh);\n",
       "      }} else if (Date.now() < root._bokeh_timeout) {\n",
       "      setTimeout(run_inline_js, 100);\n",
       "    } else if (!root._bokeh_failed_load) {\n",
       "      console.log(\"Bokeh: BokehJS failed to load within specified timeout.\");\n",
       "      root._bokeh_failed_load = true;\n",
       "    } else if (force !== true) {\n",
       "      var cell = $(document.getElementById(null)).parents('.cell').data().cell;\n",
       "      cell.output_area.append_execute_result(NB_LOAD_WARNING)\n",
       "    }\n",
       "\n",
       "  }\n",
       "\n",
       "  if (root._bokeh_is_loading === 0) {\n",
       "    console.debug(\"Bokeh: BokehJS loaded, going straight to plotting\");\n",
       "    run_inline_js();\n",
       "  } else {\n",
       "    load_libs(css_urls, js_urls, function() {\n",
       "      console.debug(\"Bokeh: BokehJS plotting callback run at\", now());\n",
       "      run_inline_js();\n",
       "    });\n",
       "  }\n",
       "}(window));"
      ],
      "application/vnd.bokehjs_load.v0+json": "\n(function(root) {\n  function now() {\n    return new Date();\n  }\n\n  var force = true;\n\n  if (typeof root._bokeh_onload_callbacks === \"undefined\" || force === true) {\n    root._bokeh_onload_callbacks = [];\n    root._bokeh_is_loading = undefined;\n  }\n\n  \n\n  \n  if (typeof (root._bokeh_timeout) === \"undefined\" || force === true) {\n    root._bokeh_timeout = Date.now() + 5000;\n    root._bokeh_failed_load = false;\n  }\n\n  var NB_LOAD_WARNING = {'data': {'text/html':\n     \"<div style='background-color: #fdd'>\\n\"+\n     \"<p>\\n\"+\n     \"BokehJS does not appear to have successfully loaded. If loading BokehJS from CDN, this \\n\"+\n     \"may be due to a slow or bad network connection. Possible fixes:\\n\"+\n     \"</p>\\n\"+\n     \"<ul>\\n\"+\n     \"<li>re-rerun `output_notebook()` to attempt to load from CDN again, or</li>\\n\"+\n     \"<li>use INLINE resources instead, as so:</li>\\n\"+\n     \"</ul>\\n\"+\n     \"<code>\\n\"+\n     \"from bokeh.resources import INLINE\\n\"+\n     \"output_notebook(resources=INLINE)\\n\"+\n     \"</code>\\n\"+\n     \"</div>\"}};\n\n  function display_loaded() {\n    var el = document.getElementById(null);\n    if (el != null) {\n      el.textContent = \"BokehJS is loading...\";\n    }\n    if (root.Bokeh !== undefined) {\n      if (el != null) {\n        el.textContent = \"BokehJS \" + root.Bokeh.version + \" successfully loaded.\";\n      }\n    } else if (Date.now() < root._bokeh_timeout) {\n      setTimeout(display_loaded, 100)\n    }\n  }\n\n\n  function run_callbacks() {\n    try {\n      root._bokeh_onload_callbacks.forEach(function(callback) {\n        if (callback != null)\n          callback();\n      });\n    } finally {\n      delete root._bokeh_onload_callbacks\n    }\n    console.debug(\"Bokeh: all callbacks have finished\");\n  }\n\n  function load_libs(css_urls, js_urls, callback) {\n    if (css_urls == null) css_urls = [];\n    if (js_urls == null) js_urls = [];\n\n    root._bokeh_onload_callbacks.push(callback);\n    if (root._bokeh_is_loading > 0) {\n      console.debug(\"Bokeh: BokehJS is being loaded, scheduling callback at\", now());\n      return null;\n    }\n    if (js_urls == null || js_urls.length === 0) {\n      run_callbacks();\n      return null;\n    }\n    console.debug(\"Bokeh: BokehJS not loaded, scheduling load and callback at\", now());\n    root._bokeh_is_loading = css_urls.length + js_urls.length;\n\n    function on_load() {\n      root._bokeh_is_loading--;\n      if (root._bokeh_is_loading === 0) {\n        console.debug(\"Bokeh: all BokehJS libraries/stylesheets loaded\");\n        run_callbacks()\n      }\n    }\n\n    function on_error() {\n      console.error(\"failed to load \" + url);\n    }\n\n    for (var i = 0; i < css_urls.length; i++) {\n      var url = css_urls[i];\n      const element = document.createElement(\"link\");\n      element.onload = on_load;\n      element.onerror = on_error;\n      element.rel = \"stylesheet\";\n      element.type = \"text/css\";\n      element.href = url;\n      console.debug(\"Bokeh: injecting link tag for BokehJS stylesheet: \", url);\n      document.body.appendChild(element);\n    }\n\n    for (var i = 0; i < js_urls.length; i++) {\n      var url = js_urls[i];\n      var element = document.createElement('script');\n      element.onload = on_load;\n      element.onerror = on_error;\n      element.async = false;\n      element.src = url;\n      console.debug(\"Bokeh: injecting script tag for BokehJS library: \", url);\n      document.head.appendChild(element);\n    }\n  };\n\n  function inject_raw_css(css) {\n    const element = document.createElement(\"style\");\n    element.appendChild(document.createTextNode(css));\n    document.body.appendChild(element);\n  }\n\n  var js_urls = [\"https://cdn.pydata.org/bokeh/release/bokeh-1.2.0.min.js\", \"https://cdn.pydata.org/bokeh/release/bokeh-widgets-1.2.0.min.js\", \"https://cdn.pydata.org/bokeh/release/bokeh-tables-1.2.0.min.js\", \"https://cdn.pydata.org/bokeh/release/bokeh-gl-1.2.0.min.js\"];\n  var css_urls = [\"https://cdn.pydata.org/bokeh/release/bokeh-1.2.0.min.css\", \"https://cdn.pydata.org/bokeh/release/bokeh-widgets-1.2.0.min.css\", \"https://cdn.pydata.org/bokeh/release/bokeh-tables-1.2.0.min.css\"];\n\n  var inline_js = [\n    function(Bokeh) {\n      Bokeh.set_log_level(\"info\");\n    },\n    \n    function(Bokeh) {\n      \n    },\n    function(Bokeh) {} // ensure no trailing comma for IE\n  ];\n\n  function run_inline_js() {\n    \n    if ((root.Bokeh !== undefined) || (force === true)) {\n      for (var i = 0; i < inline_js.length; i++) {\n        inline_js[i].call(root, root.Bokeh);\n      }} else if (Date.now() < root._bokeh_timeout) {\n      setTimeout(run_inline_js, 100);\n    } else if (!root._bokeh_failed_load) {\n      console.log(\"Bokeh: BokehJS failed to load within specified timeout.\");\n      root._bokeh_failed_load = true;\n    } else if (force !== true) {\n      var cell = $(document.getElementById(null)).parents('.cell').data().cell;\n      cell.output_area.append_execute_result(NB_LOAD_WARNING)\n    }\n\n  }\n\n  if (root._bokeh_is_loading === 0) {\n    console.debug(\"Bokeh: BokehJS loaded, going straight to plotting\");\n    run_inline_js();\n  } else {\n    load_libs(css_urls, js_urls, function() {\n      console.debug(\"Bokeh: BokehJS plotting callback run at\", now());\n      run_inline_js();\n    });\n  }\n}(window));"
     },
     "metadata": {},
     "output_type": "display_data"
    }
   ],
   "source": [
    "from bokeh.plotting import output_notebook\n",
    "from bokeh.plotting import show\n",
    "output_notebook(hide_banner=True)\n",
    "\n",
    "from bokeh.plotting import figure\n",
    "from bokeh.layouts import column, row\n",
    "from bokeh.models import ColumnDataSource, Range1d\n",
    "from impact.parsers import load_many_fort\n",
    "from impact.parsers import UNITS\n",
    "\n",
    "from impact.plotting import layout_plot\n",
    "\n",
    "\n",
    "ds = ColumnDataSource(I.output['stats'])"
   ]
  },
  {
   "cell_type": "code",
   "execution_count": 15,
   "metadata": {},
   "outputs": [
    {
     "data": {
      "text/plain": [
       "{'description': 'QA01',\n",
       " 'original': '0.204    10 20 1   4.752856    1.8524   0.108 0.016 0.0 0.0 0.0 0.0 0.0 /  !QA01',\n",
       " 'L': 0.204,\n",
       " 'itype': 1,\n",
       " 'type': 'quadrupole',\n",
       " 'zedge': 4.752856,\n",
       " 'b1_gradient': 1.8524,\n",
       " 'L_effective': 0.108,\n",
       " 'radius': 0.016,\n",
       " 'x_offset': 0.0,\n",
       " 'y_offset': 0.0,\n",
       " 'x_rotation': 0.0,\n",
       " 'y_rotation': 0.0,\n",
       " 'z_rotation': 0.0,\n",
       " 's': 4.956856,\n",
       " 'name': 'quadrupole_1'}"
      ]
     },
     "execution_count": 15,
     "metadata": {},
     "output_type": "execute_result"
    }
   ],
   "source": [
    "I.ele['quadrupole_1']"
   ]
  },
  {
   "cell_type": "code",
   "execution_count": 18,
   "metadata": {},
   "outputs": [
    {
     "data": {
      "text/html": [
       "\n",
       "\n",
       "\n",
       "\n",
       "\n",
       "\n",
       "  <div class=\"bk-root\" id=\"04b69df9-cf43-4032-9002-a92835f8f956\" data-root-id=\"1214\"></div>\n"
      ]
     },
     "metadata": {},
     "output_type": "display_data"
    },
    {
     "data": {
      "application/javascript": [
       "(function(root) {\n",
       "  function embed_document(root) {\n",
       "    \n",
       "  var docs_json = {\"1cd2f70d-4a83-4f79-9346-b8236526b59a\":{\"roots\":{\"references\":[{\"attributes\":{\"below\":[{\"id\":\"1223\",\"type\":\"LinearAxis\"}],\"center\":[{\"id\":\"1227\",\"type\":\"Grid\"},{\"id\":\"1232\",\"type\":\"Grid\"},{\"id\":\"1248\",\"type\":\"LabelSet\"}],\"left\":[{\"id\":\"1228\",\"type\":\"LinearAxis\"}],\"plot_height\":500,\"plot_width\":1000,\"renderers\":[{\"id\":\"1246\",\"type\":\"GlyphRenderer\"}],\"title\":{\"id\":\"1268\",\"type\":\"Title\"},\"toolbar\":{\"id\":\"1237\",\"type\":\"Toolbar\"},\"x_range\":{\"id\":\"1215\",\"type\":\"DataRange1d\"},\"x_scale\":{\"id\":\"1219\",\"type\":\"LinearScale\"},\"y_range\":{\"id\":\"1217\",\"type\":\"DataRange1d\"},\"y_scale\":{\"id\":\"1221\",\"type\":\"LinearScale\"}},\"id\":\"1214\",\"subtype\":\"Figure\",\"type\":\"Plot\"},{\"attributes\":{\"angle\":{\"units\":\"rad\",\"value\":1.5707963267948966},\"level\":\"glyph\",\"source\":{\"id\":\"1212\",\"type\":\"ColumnDataSource\"},\"text\":{\"field\":\"description\"},\"x\":{\"field\":\"x\"},\"x_offset\":{\"value\":5},\"y\":{\"field\":\"y\"},\"y_offset\":{\"value\":30}},\"id\":\"1248\",\"type\":\"LabelSet\"},{\"attributes\":{},\"id\":\"1234\",\"type\":\"WheelZoomTool\"},{\"attributes\":{\"formatter\":{\"id\":\"1273\",\"type\":\"BasicTickFormatter\"},\"ticker\":{\"id\":\"1224\",\"type\":\"BasicTicker\"}},\"id\":\"1223\",\"type\":\"LinearAxis\"},{\"attributes\":{},\"id\":\"1275\",\"type\":\"Selection\"},{\"attributes\":{\"ticker\":{\"id\":\"1224\",\"type\":\"BasicTicker\"}},\"id\":\"1227\",\"type\":\"Grid\"},{\"attributes\":{\"text\":\"\"},\"id\":\"1268\",\"type\":\"Title\"},{\"attributes\":{\"callback\":null},\"id\":\"1217\",\"type\":\"DataRange1d\"},{\"attributes\":{\"dimension\":1,\"ticker\":{\"id\":\"1229\",\"type\":\"BasicTicker\"}},\"id\":\"1232\",\"type\":\"Grid\"},{\"attributes\":{\"bottom_units\":\"screen\",\"fill_alpha\":{\"value\":0.5},\"fill_color\":{\"value\":\"lightgrey\"},\"left_units\":\"screen\",\"level\":\"overlay\",\"line_alpha\":{\"value\":1.0},\"line_color\":{\"value\":\"black\"},\"line_dash\":[4,4],\"line_width\":{\"value\":2},\"render_mode\":\"css\",\"right_units\":\"screen\",\"top_units\":\"screen\"},\"id\":\"1276\",\"type\":\"BoxAnnotation\"},{\"attributes\":{},\"id\":\"1219\",\"type\":\"LinearScale\"},{\"attributes\":{},\"id\":\"1271\",\"type\":\"BasicTickFormatter\"},{\"attributes\":{},\"id\":\"1274\",\"type\":\"UnionRenderers\"},{\"attributes\":{},\"id\":\"1221\",\"type\":\"LinearScale\"},{\"attributes\":{\"callback\":null},\"id\":\"1215\",\"type\":\"DataRange1d\"},{\"attributes\":{\"bottom\":{\"field\":\"bottom\"},\"fill_alpha\":{\"value\":0.1},\"fill_color\":{\"value\":\"#1f77b4\"},\"left\":{\"field\":\"left\"},\"line_alpha\":{\"value\":0.1},\"line_color\":{\"value\":\"#1f77b4\"},\"right\":{\"field\":\"right\"},\"top\":{\"field\":\"top\"}},\"id\":\"1245\",\"type\":\"Quad\"},{\"attributes\":{},\"id\":\"1233\",\"type\":\"PanTool\"},{\"attributes\":{},\"id\":\"1229\",\"type\":\"BasicTicker\"},{\"attributes\":{},\"id\":\"1273\",\"type\":\"BasicTickFormatter\"},{\"attributes\":{\"active_drag\":\"auto\",\"active_inspect\":\"auto\",\"active_multi\":null,\"active_scroll\":\"auto\",\"active_tap\":\"auto\",\"tools\":[{\"id\":\"1213\",\"type\":\"HoverTool\"},{\"id\":\"1233\",\"type\":\"PanTool\"},{\"id\":\"1234\",\"type\":\"WheelZoomTool\"},{\"id\":\"1235\",\"type\":\"BoxZoomTool\"},{\"id\":\"1236\",\"type\":\"ResetTool\"}]},\"id\":\"1237\",\"type\":\"Toolbar\"},{\"attributes\":{\"formatter\":{\"id\":\"1271\",\"type\":\"BasicTickFormatter\"},\"ticker\":{\"id\":\"1229\",\"type\":\"BasicTicker\"}},\"id\":\"1228\",\"type\":\"LinearAxis\"},{\"attributes\":{\"callback\":null,\"mode\":\"vline\",\"tooltips\":[[\"name\",\"@name\"],[\"s_begin\",\"@left\"],[\"s_end\",\"@right\"],[\"s_center\",\"@x\"],[\"\",\"@description\"],[\"\",\"@all\"]]},\"id\":\"1213\",\"type\":\"HoverTool\"},{\"attributes\":{\"bottom\":{\"field\":\"bottom\"},\"fill_color\":{\"field\":\"color\"},\"left\":{\"field\":\"left\"},\"line_color\":{\"field\":\"color\"},\"right\":{\"field\":\"right\"},\"top\":{\"field\":\"top\"}},\"id\":\"1244\",\"type\":\"Quad\"},{\"attributes\":{\"data_source\":{\"id\":\"1212\",\"type\":\"ColumnDataSource\"},\"glyph\":{\"id\":\"1244\",\"type\":\"Quad\"},\"hover_glyph\":null,\"muted_glyph\":null,\"nonselection_glyph\":{\"id\":\"1245\",\"type\":\"Quad\"},\"selection_glyph\":null,\"view\":{\"id\":\"1247\",\"type\":\"CDSView\"}},\"id\":\"1246\",\"type\":\"GlyphRenderer\"},{\"attributes\":{},\"id\":\"1236\",\"type\":\"ResetTool\"},{\"attributes\":{\"callback\":null,\"data\":{\"all\":[\"solrf_1: solrf, description=GUN, L=0.15, zedge=0.0, rf_field_scale=47000000.0,\\n      rf_frequency=2856000000.0, theta0_deg=293.54, filename=rfdata201, radius=0.15,\\n      x_offset=0.0, y_offset=0.0, x_rotation=0.0, y_rotation=0.0, z_rotation=0.0,\\n      solenoid_field_scale=0.0\",\"solrf_2: solrf, description=, L=0.49308, zedge=0.0, rf_field_scale=0.0, rf_frequency=0.0,\\n      theta0_deg=0.0, filename=rfdata102, radius=0.15, x_offset=0.0, y_offset=0.0,\\n      x_rotation=0.0, y_rotation=0.0, z_rotation=0.0, solenoid_field_scale=0.243\",\"drift_1: drift, description=, L=0.072, zedge=1.387, radius=0.15\",\"drift_2: drift, description=, L=0.026, zedge=1.459, radius=0.15\",\"solrf_3: solrf, description=, L=0.052464, zedge=1.485, rf_field_scale=25905612.0,\\n      rf_frequency=2856000000.0, theta0_deg=258.5, filename=rfdata4, radius=0.15,\\n      x_offset=0.0, y_offset=0.0, x_rotation=0.0, y_rotation=0.0, z_rotation=0.0,\\n      solenoid_field_scale=0.0\",\"solrf_4: solrf, description=, L=2.937928, zedge=1.537464, rf_field_scale=29913224.7,\\n      rf_frequency=2856000000.0, theta0_deg=288.5, filename=rfdata5, radius=0.15,\\n      x_offset=0.0, y_offset=0.0, x_rotation=0.0, y_rotation=0.0, z_rotation=0.0,\\n      solenoid_field_scale=0.0\",\"solrf_5: solrf, description=, L=2.937928, zedge=1.537464, rf_field_scale=29913224.7,\\n      rf_frequency=2856000000.0, theta0_deg=348.5, filename=rfdata6, radius=0.15,\\n      x_offset=0.0, y_offset=0.0, x_rotation=0.0, y_rotation=0.0, z_rotation=0.0,\\n      solenoid_field_scale=0.0\",\"solrf_6: solrf, description=, L=0.052464, zedge=4.475392, rf_field_scale=25905612.0,\\n      rf_frequency=2856000000.0, theta0_deg=258.5, filename=rfdata7, radius=0.15,\\n      x_offset=0.0, y_offset=0.0, x_rotation=0.0, y_rotation=0.0, z_rotation=0.0,\\n      solenoid_field_scale=0.0\",\"drift_3: drift, description=, L=0.026, zedge=4.527856, radius=0.15\",\"drift_4: drift, description=, L=0.199, zedge=4.553856, radius=0.15\",\"quadrupole_1: quadrupole, description=QA01, L=0.204, zedge=4.752856, b1_gradient=20,\\n      L_effective=0.108, radius=0.016, x_offset=0.0, y_offset=0.0, x_rotation=0.0,\\n      y_rotation=0.0, z_rotation=0.0\",\"drift_5: drift, description=, L=0.124, zedge=4.956856, radius=0.15\",\"quadrupole_2: quadrupole, description=QA02, L=0.204, zedge=5.080856, b1_gradient=-1.8267,\\n      L_effective=0.108, radius=0.016, x_offset=0.0, y_offset=0.0, x_rotation=0.0,\\n      y_rotation=0.0, z_rotation=0.0\",\"drift_6: drift, description=, L=0.0179, zedge=5.284856, radius=0.15\",\"drift_7: drift, description=, L=0.026, zedge=5.302756, radius=0.15\",\"solrf_7: solrf, description=, L=0.052464, zedge=5.328756, rf_field_scale=32055209.0,\\n      rf_frequency=2856000000.0, theta0_deg=400.5, filename=rfdata4, radius=0.15,\\n      x_offset=0.0, y_offset=0.0, x_rotation=0.0, y_rotation=0.0, z_rotation=0.0,\\n      solenoid_field_scale=0.0\",\"solrf_8: solrf, description=, L=2.937928, zedge=5.38122, rf_field_scale=37014168.0,\\n      rf_frequency=2856000000.0, theta0_deg=430.5, filename=rfdata5, radius=0.15,\\n      x_offset=0.0, y_offset=0.0, x_rotation=0.0, y_rotation=0.0, z_rotation=0.0,\\n      solenoid_field_scale=0.0\",\"solrf_9: solrf, description=, L=2.937928, zedge=5.38122, rf_field_scale=37014168.0,\\n      rf_frequency=2856000000.0, theta0_deg=490.5, filename=rfdata6, radius=0.15,\\n      x_offset=0.0, y_offset=0.0, x_rotation=0.0, y_rotation=0.0, z_rotation=0.0,\\n      solenoid_field_scale=0.0\",\"solrf_10: solrf, description=, L=0.052464, zedge=8.319148, rf_field_scale=32055209.0,\\n      rf_frequency=2856000000.0, theta0_deg=400.5, filename=rfdata7, radius=0.15,\\n      x_offset=0.0, y_offset=0.0, x_rotation=0.0, y_rotation=0.0, z_rotation=0.0,\\n      solenoid_field_scale=0.0\",\"drift_8: drift, description=, L=0.026, zedge=8.371612, radius=0.15\",\"drift_9: drift, description=, L=0.0, zedge=8.397612, radius=0.15\",\"quadrupole_3: quadrupole, description=QE01, L=0.1912, zedge=8.397612, b1_gradient=0.1872,\\n      L_effective=0.108, radius=0.016, x_offset=0.0, y_offset=0.0, x_rotation=0.0,\\n      y_rotation=0.0, z_rotation=0.0\",\"drift_10: drift, description=, L=0.203913, zedge=8.588812, radius=0.15\",\"quadrupole_4: quadrupole, description=QE02, L=0.204, zedge=8.792725, b1_gradient=0.1661,\\n      L_effective=0.108, radius=0.016, x_offset=0.0, y_offset=0.0, x_rotation=0.0,\\n      y_rotation=0.0, z_rotation=0.0\",\"drift_11: drift, description=, L=0.07933, zedge=8.996725, radius=0.15\",\"drift_12: drift, description=LH begins, L=1.6098, zedge=9.076055, radius=0.15\",\"drift_13: drift, description=, L=0.122901, zedge=10.685855, radius=0.15\",\"drift_14: drift, description=, L=0.668024, zedge=10.808756, radius=0.15\",\"drift_15: drift, description=, L=0.00074, zedge=11.47678, radius=0.15\",\"quadrupole_5: quadrupole, description=QE03, L=0.178, zedge=11.47752, b1_gradient=-2.6409,\\n      L_effective=0.108, radius=0.016, x_offset=0.0, y_offset=0.0, x_rotation=0.0,\\n      y_rotation=0.0, z_rotation=0.0\",\"drift_16: drift, description=, L=0.1269, zedge=11.65552, radius=0.15\",\"drift_17: drift, description=, L=0.0, zedge=11.78242, radius=0.15\",\"drift_18: drift, description=, L=0.088499, zedge=11.78242, radius=0.15\",\"quadrupole_6: quadrupole, description=QE04, L=0.204, zedge=11.870919, b1_gradient=2.98,\\n      L_effective=0.108, radius=0.016, x_offset=0.0, y_offset=0.0, x_rotation=0.0,\\n      y_rotation=0.0, z_rotation=0.0\",\"drift_19: drift, description=, L=0.095688, zedge=12.074919, radius=0.15\",\"drift_20: drift, description=, L=0.0, zedge=12.170607, radius=0.15\",\"drift_21: drift, description=, L=0.151968, zedge=12.170607, radius=0.15\",\"drift_22: drift, description=OTR1, L=1.761761, zedge=12.322575, radius=0.15\",\"drift_23: drift, description=, L=0.0, zedge=14.084336, radius=0.15\",\"drift_24: drift, description=, L=0.151968, zedge=14.084336, radius=0.15\",\"drift_25: drift, description=OTR2, L=0.16381, zedge=14.236304, radius=0.15\",\"drift_26: drift, description=, L=0.0, zedge=14.400114, radius=0.15\",\"drift_27: drift, description=, L=1.59793, zedge=14.400114, radius=0.15\",\"drift_28: drift, description=, L=0.151968, zedge=15.998044, radius=0.15\",\"drift_29: drift, description=OTR3, L=0.102806, zedge=16.15, radius=0.15\",\"quadrupole_7: quadrupole, description=, L=0.204, zedge=16.2528, b1_gradient=-6.772664,\\n      L_effective=0.108, radius=0.016, x_offset=0.0, y_offset=0.0, x_rotation=0.0,\\n      y_rotation=0.0, z_rotation=0.0\",\"drift_30: drift, description=, L=0.099872, zedge=16.4568, radius=0.15\",\"drift_31: drift, description=, L=0.18333, zedge=16.556672, radius=0.15\"],\"bottom\":[-3,-3,-1,-1,-3,-3,-3,-3,-1,-1,-20,-1,0,-1,-1,-3,-3,-3,-3,-1,-1,-0.1872,-1,-0.1661,-1,-1,-1,-1,-1,0,-1,-1,-1,-2.98,-1,-1,-1,-1,-1,-1,-1,-1,-1,-1,-1,0,-1,-1],\"color\":[\"green\",\"green\",\"black\",\"black\",\"green\",\"green\",\"green\",\"green\",\"black\",\"black\",\"blue\",\"black\",\"blue\",\"black\",\"black\",\"green\",\"green\",\"green\",\"green\",\"black\",\"black\",\"blue\",\"black\",\"blue\",\"black\",\"black\",\"black\",\"black\",\"black\",\"blue\",\"black\",\"black\",\"black\",\"blue\",\"black\",\"black\",\"black\",\"black\",\"black\",\"black\",\"black\",\"black\",\"black\",\"black\",\"black\",\"blue\",\"black\",\"black\"],\"description\":[\"GUN\",\"\",\"\",\"\",\"\",\"\",\"\",\"\",\"\",\"\",\"QA01\",\"\",\"QA02\",\"\",\"\",\"\",\"\",\"\",\"\",\"\",\"\",\"QE01\",\"\",\"QE02\",\"\",\"LH begins\",\"\",\"\",\"\",\"QE03\",\"\",\"\",\"\",\"QE04\",\"\",\"\",\"\",\"OTR1\",\"\",\"\",\"OTR2\",\"\",\"\",\"\",\"OTR3\",\"\",\"\",\"\"],\"left\":[0.0,0.0,1.387,1.459,1.485,1.5374639999999995,1.5374639999999995,4.475392,4.527856,4.553856,4.752856,4.956856,5.080856,5.284856,5.302756,5.328756,5.381220000000001,5.381220000000001,8.319148,8.371612,8.397612,8.397612,8.588812,8.792725,8.996725,9.076055,10.685855,10.808756000000002,11.47678,11.47752,11.65552,11.78242,11.78242,11.870919,12.074919000000001,12.170607,12.170607,12.322575,14.084336,14.084336,14.236304,14.400114,14.400114,15.998044,16.15,16.2528,16.4568,16.556672],\"name\":[\"solrf_1\",\"solrf_2\",\"drift_1\",\"drift_2\",\"solrf_3\",\"solrf_4\",\"solrf_5\",\"solrf_6\",\"drift_3\",\"drift_4\",\"quadrupole_1\",\"drift_5\",\"quadrupole_2\",\"drift_6\",\"drift_7\",\"solrf_7\",\"solrf_8\",\"solrf_9\",\"solrf_10\",\"drift_8\",\"drift_9\",\"quadrupole_3\",\"drift_10\",\"quadrupole_4\",\"drift_11\",\"drift_12\",\"drift_13\",\"drift_14\",\"drift_15\",\"quadrupole_5\",\"drift_16\",\"drift_17\",\"drift_18\",\"quadrupole_6\",\"drift_19\",\"drift_20\",\"drift_21\",\"drift_22\",\"drift_23\",\"drift_24\",\"drift_25\",\"drift_26\",\"drift_27\",\"drift_28\",\"drift_29\",\"quadrupole_7\",\"drift_30\",\"drift_31\"],\"right\":[0.15,0.49308,1.459,1.485,1.5374640000000002,4.475391999999999,4.475391999999999,4.527856,4.553856,4.7528559999999995,4.956856,5.080856,5.2848559999999996,5.3027560000000005,5.328755999999999,5.38122,8.319148,8.319148,8.371612,8.397612,8.397612,8.588812,8.792725,8.996725000000001,9.076055,10.685855,10.808756,11.476780000000002,11.47752,11.655520000000001,11.782419999999998,11.78242,11.870919,12.074919000000001,12.170607,12.170607,12.322575,14.084336,14.084336,14.236304,14.400114,14.400114,15.998044,16.150012,16.252806,16.4568,16.556672000000002,16.740002],\"top\":[3,3,1,1,3,3,3,3,1,1,0,1,1.8267,1,1,3,3,3,3,1,1,0,1,0,1,1,1,1,1,2.6409,1,1,1,0,1,1,1,1,1,1,1,1,1,1,1,6.772664,1,1],\"x\":[0.075,0.24654,1.423,1.4720000000000002,1.5112320000000001,3.0064279999999997,3.0064279999999997,4.501624,4.540856,4.653356,4.854856,5.0188559999999995,5.182855999999999,5.293806000000001,5.3157559999999995,5.354988,6.8501840000000005,6.8501840000000005,8.34538,8.384612,8.397612,8.493212000000002,8.6907685,8.894725000000001,9.03639,9.880955,10.747305500000001,11.142768000000002,11.47715,11.56652,11.718969999999999,11.78242,11.826669500000001,11.972919000000001,12.122763,12.170607,12.246591,13.2034555,14.084336,14.16032,14.318209,14.400114,15.199079,16.074028000000002,16.201403,16.3548,16.506736000000004,16.648337],\"y\":[0,0,0,0,0,0,0,0,0,0,0,0,0,0,0,0,0,0,0,0,0,0,0,0,0,0,0,0,0,0,0,0,0,0,0,0,0,0,0,0,0,0,0,0,0,0,0,0]},\"selected\":{\"id\":\"1275\",\"type\":\"Selection\"},\"selection_policy\":{\"id\":\"1274\",\"type\":\"UnionRenderers\"}},\"id\":\"1212\",\"type\":\"ColumnDataSource\"},{\"attributes\":{},\"id\":\"1224\",\"type\":\"BasicTicker\"},{\"attributes\":{\"overlay\":{\"id\":\"1276\",\"type\":\"BoxAnnotation\"}},\"id\":\"1235\",\"type\":\"BoxZoomTool\"},{\"attributes\":{\"source\":{\"id\":\"1212\",\"type\":\"ColumnDataSource\"}},\"id\":\"1247\",\"type\":\"CDSView\"}],\"root_ids\":[\"1214\"]},\"title\":\"Bokeh Application\",\"version\":\"1.2.0\"}};\n",
       "  var render_items = [{\"docid\":\"1cd2f70d-4a83-4f79-9346-b8236526b59a\",\"roots\":{\"1214\":\"04b69df9-cf43-4032-9002-a92835f8f956\"}}];\n",
       "  root.Bokeh.embed.embed_items_notebook(docs_json, render_items);\n",
       "\n",
       "  }\n",
       "  if (root.Bokeh !== undefined) {\n",
       "    embed_document(root);\n",
       "  } else {\n",
       "    var attempts = 0;\n",
       "    var timer = setInterval(function(root) {\n",
       "      if (root.Bokeh !== undefined) {\n",
       "        embed_document(root);\n",
       "        clearInterval(timer);\n",
       "      }\n",
       "      attempts++;\n",
       "      if (attempts > 100) {\n",
       "        console.log(\"Bokeh: ERROR: Unable to run BokehJS code because BokehJS library is missing\");\n",
       "        clearInterval(timer);\n",
       "      }\n",
       "    }, 10, root)\n",
       "  }\n",
       "})(window);"
      ],
      "application/vnd.bokehjs_exec.v0+json": ""
     },
     "metadata": {
      "application/vnd.bokehjs_exec.v0+json": {
       "id": "1214"
      }
     },
     "output_type": "display_data"
    }
   ],
   "source": [
    "# Change somethone\n",
    "I.ele['quadrupole_1']['b1_gradient'] = 20\n",
    "layout = layout_plot(I.input['lattice'], plot_height=500)\n",
    "show(layout)"
   ]
  },
  {
   "cell_type": "code",
   "execution_count": 19,
   "metadata": {},
   "outputs": [
    {
     "data": {
      "text/html": [
       "\n",
       "\n",
       "\n",
       "\n",
       "\n",
       "\n",
       "  <div class=\"bk-root\" id=\"8d866f02-b9f1-4dcb-a196-50e80bc6419e\" data-root-id=\"1331\"></div>\n"
      ]
     },
     "metadata": {},
     "output_type": "display_data"
    },
    {
     "data": {
      "application/javascript": [
       "(function(root) {\n",
       "  function embed_document(root) {\n",
       "    \n",
       "  var docs_json = {\"e3f69534-765d-4908-a67a-5f1900fcec81\":{\"roots\":{\"references\":[{\"attributes\":{\"below\":[{\"id\":\"1340\",\"type\":\"LinearAxis\"}],\"center\":[{\"id\":\"1344\",\"type\":\"Grid\"},{\"id\":\"1349\",\"type\":\"Grid\"}],\"left\":[{\"id\":\"1345\",\"type\":\"LinearAxis\"}],\"plot_height\":200,\"renderers\":[{\"id\":\"1366\",\"type\":\"GlyphRenderer\"}],\"title\":{\"id\":\"1395\",\"type\":\"Title\"},\"toolbar\":{\"id\":\"1356\",\"type\":\"Toolbar\"},\"x_range\":{\"id\":\"1332\",\"type\":\"DataRange1d\"},\"x_scale\":{\"id\":\"1336\",\"type\":\"LinearScale\"},\"y_range\":{\"id\":\"1334\",\"type\":\"DataRange1d\"},\"y_scale\":{\"id\":\"1338\",\"type\":\"LinearScale\"}},\"id\":\"1331\",\"subtype\":\"Figure\",\"type\":\"Plot\"},{\"attributes\":{\"line_color\":\"red\",\"x\":{\"field\":\"z\"},\"y\":{\"field\":\"x_rms\"}},\"id\":\"1364\",\"type\":\"Line\"},{\"attributes\":{\"data_source\":{\"id\":\"1001\",\"type\":\"ColumnDataSource\"},\"glyph\":{\"id\":\"1364\",\"type\":\"Line\"},\"hover_glyph\":null,\"muted_glyph\":null,\"nonselection_glyph\":{\"id\":\"1365\",\"type\":\"Line\"},\"selection_glyph\":null,\"view\":{\"id\":\"1367\",\"type\":\"CDSView\"}},\"id\":\"1366\",\"type\":\"GlyphRenderer\"},{\"attributes\":{},\"id\":\"1350\",\"type\":\"PanTool\"},{\"attributes\":{},\"id\":\"1351\",\"type\":\"WheelZoomTool\"},{\"attributes\":{\"overlay\":{\"id\":\"1403\",\"type\":\"BoxAnnotation\"}},\"id\":\"1352\",\"type\":\"BoxZoomTool\"},{\"attributes\":{},\"id\":\"1156\",\"type\":\"Selection\"},{\"attributes\":{},\"id\":\"1353\",\"type\":\"SaveTool\"},{\"attributes\":{},\"id\":\"1354\",\"type\":\"ResetTool\"},{\"attributes\":{\"line_alpha\":0.1,\"line_color\":\"#1f77b4\",\"x\":{\"field\":\"z\"},\"y\":{\"field\":\"x_rms\"}},\"id\":\"1365\",\"type\":\"Line\"},{\"attributes\":{},\"id\":\"1355\",\"type\":\"HelpTool\"},{\"attributes\":{\"callback\":null},\"id\":\"1332\",\"type\":\"DataRange1d\"},{\"attributes\":{\"active_drag\":\"auto\",\"active_inspect\":\"auto\",\"active_multi\":null,\"active_scroll\":\"auto\",\"active_tap\":\"auto\",\"tools\":[{\"id\":\"1350\",\"type\":\"PanTool\"},{\"id\":\"1351\",\"type\":\"WheelZoomTool\"},{\"id\":\"1352\",\"type\":\"BoxZoomTool\"},{\"id\":\"1353\",\"type\":\"SaveTool\"},{\"id\":\"1354\",\"type\":\"ResetTool\"},{\"id\":\"1355\",\"type\":\"HelpTool\"}]},\"id\":\"1356\",\"type\":\"Toolbar\"},{\"attributes\":{\"callback\":null},\"id\":\"1334\",\"type\":\"DataRange1d\"},{\"attributes\":{\"source\":{\"id\":\"1001\",\"type\":\"ColumnDataSource\"}},\"id\":\"1367\",\"type\":\"CDSView\"},{\"attributes\":{},\"id\":\"1336\",\"type\":\"LinearScale\"},{\"attributes\":{},\"id\":\"1338\",\"type\":\"LinearScale\"},{\"attributes\":{\"axis_label\":\"z (m)\",\"formatter\":{\"id\":\"1400\",\"type\":\"BasicTickFormatter\"},\"ticker\":{\"id\":\"1341\",\"type\":\"BasicTicker\"}},\"id\":\"1340\",\"type\":\"LinearAxis\"},{\"attributes\":{\"text\":\"\"},\"id\":\"1395\",\"type\":\"Title\"},{\"attributes\":{},\"id\":\"1155\",\"type\":\"UnionRenderers\"},{\"attributes\":{\"bottom_units\":\"screen\",\"fill_alpha\":{\"value\":0.5},\"fill_color\":{\"value\":\"lightgrey\"},\"left_units\":\"screen\",\"level\":\"overlay\",\"line_alpha\":{\"value\":1.0},\"line_color\":{\"value\":\"black\"},\"line_dash\":[4,4],\"line_width\":{\"value\":2},\"render_mode\":\"css\",\"right_units\":\"screen\",\"top_units\":\"screen\"},\"id\":\"1403\",\"type\":\"BoxAnnotation\"},{\"attributes\":{},\"id\":\"1341\",\"type\":\"BasicTicker\"},{\"attributes\":{\"callback\":null,\"data\":{\"E_kinetic\":{\"__ndarray__\":\"ukp319lCSUBCiCJoBs+3PrkP3GXHVLg+PmgmR6SsuT5ifWzbpC68PoCgAG7YA8A+s/AmXuWUwj4SkLffZtTFPmZQr7gO+8k+HKyaPLEZzz4a2E2cxbDSPmVJuWtTe9Y+y+nu9/392j5ygAFU0z3gPqeue2XBhuM+fmDEx/Jx5z4/riFuAzHsPs+cyExk7/A+qHG6q95U9D7vlFUjlmb4PswoGV/uTP0+cxgsXRScAT97EZarVCUFPzwubir4kAk/xLJAEwD2Dj+sRg4IP7wSPwyyu/lz9RY/AIwFta1BHD+Ld4o69HkhP1oD0tvFsSU/2rjf26c/Kz+QEuopVSQxP3apddRAmjU/BPHeJzQlOz+uK2XqWC5BP3Oqi4y0akU/sw3/7/p1Sj+hllyJpERQPwiWvcr1jVM/lIZZMocgVz/XRkVvO+xaP4J+RRCF3F4/nwMz9aZhYT/WpsvI+x1jP6+aD5pps2Q/jzJAdNEoZj9cO6E07KBnPwTQ0zhHIWk/HuQoCdixaj9IKzBA+FJsP/e/iOd4Bm4/Jo45oenLbz88VWJAbdJwP9X692nwyHE/oKpyPMfJcj+uydf8ONVzP5AXwSOL63Q/vkbFEQENdj8KXQG92zl3P/04AZlbcng/ybApV8G2eT+K2LMpTwd7P+P/entKZHw/VKGua/zNfT+mkHHuskR/PxyRtadgZIA/CdHJbkAtgT8e+cgMKf2BP+I4o7dO1II/GzimOuuygz8pagOMO5mEPxmF4JV9h4U/T2C7LfF9hj84N259zXyHPylRRd1GhIg/qt0wg5GUiT+wUzUM4q2KPwRCszdt0Is/rZZ7Tmj8jD+jyJLtBzKOP3CEqnCCcY8/6U6HgAn9mj8PJlNyP8GlP66YRM/Dj7A/kHGh/9nntz+sffCQGHPAPwdllhSKusU/4f/YNWu6yz/9B+RUYzDRP7+idEyKzdQ/zV2Fc5Gr2D8EiEhuycHcP/L9HgYEhOA/kyofvFW74j9qcoy/SAPlP2k5rzWEWOc/cGBRld+36T9UQkUPWx7sPwXl8CgZie4/\",\"dtype\":\"float64\",\"shape\":[99]},\"GBx_centroid\":{\"__ndarray__\":\"FFgFa2wqPj8jRA3n21TTPogb6+TMVNM+nmWYKctU0z5Jrwv99VTTPpEPxU6VVdM+2gnEYyBX0z5P/JvXjA7TPrHl06vGBtM+b+xiTfWo0z63+eiUDGfTPrm7GuucmNM+VAh3ojKf0z7O/qXhghXUPnfIY9tnItM+gbXRmhoz1T5AZ+sB5JHWPoBLZQUNn9Y+tES3juyA1z7SShLVEX7UPs3E5sSj7dU+X7RaqO6I2D4ZLO5ztPDYPugIXoBridc+JlGFBmQL1T4uCRXMfvbVPnM2K4apmtg+RUvQ4M/q1T713nu60ifNPthh0atMosw+R9Wt+da7sz5v356El8jAPot4zVMk5Jy+5yQ8YUYVsL5GElEFbsPBPjyZ5pa8H5s+fFZTtmQ8ur6xd+fhcxfTvtd2cA0oMtW+8NYAfPnL2L5TgOny5XnXvpEBk9+b8t6+nMTvc8WT37549li1FzXjvvfgUn07bOa+KmNf+8F16r42q/SHmbvrvrUBoOll7e2+UQ3gkstx774RoxbZGIvwvonRrShPXPG+krwDI0cc8r4vKY+SOtLyvizXHm/tf/O+M6CZhn0m9L4W3Vs6r8f0vogEP5czZvW+hKhSeBQE9r7oEINl+6H2vjzmsJApQfe+uw/v1iPk975veIRv1Ir4vkC6FcmpNfm+NPDG0dXi+b6LHM9UD5P6vt/eS4jlRvu+Kb0dx6n7+74NzvXlZ638virIsDNOWf2+VKJ47V79/b7CplDkzpf+vm/jONEeJf++BIs1xv6h/75fuD06xAUAv2AvwX2ALwC/wMH4Z1ZMAL9/iOTiDFsAv0XxdMJSWgC/N0A0v/RIAL9H/lZuRiYAv5fs5Yr64f++UgMjladV1750LmRPfCUPP3mWQK236SM/+a9JTBU1MD+3WSuePaA1P5i/ff+Y7Tk/ZmcmARwzPT+o+Hf9XqI/P8MgySwOuEA/cMTuTSBkQT9IbF15JOVBP5pJbMkcSEI/90ML5oyXQj+D6ZhFbttCP3Z/Jb/zGUM/30cxtw9YQz9cbpw13plDP9ZDLgi/4kM/\",\"dtype\":\"float64\",\"shape\":[99]},\"GBx_max\":{\"__ndarray__\":\"TNo3rO5ucD9M2jes7m5wP0zaN6zubnA/TNo3rO5ucD9M2jes7m5wP0zaN6zubnA/TNo3rO5ucD9M2jes7m5wP0zaN6zubnA/TNo3rO5ucD9M2jes7m5wP0zaN6zubnA/TNo3rO5ucD9M2jes7m5wP0zaN6zubnA/TNo3rO5ucD9tt6+Ls8VwPxfiuUBHgHI/OjeqKYJldD9acqZbR3R2P0Ps8Hk8q3g/aj9bSLUIez+4U2iQ6op9P+jbH3v/F4A/MCU2Cs56gT9RfX99z+yCP73wIaX0bIQ/3A4umTr6hT9+N9j5iZOHP/ChVi7aN4k/uU4ZuyHmij+rGkoOVJ2MP0kANNOIXI4/K9PFLM8RkD8L3yidOwaRP8K5K2Cn/ZE/RxDkKXb3kj9DPIk98fKTP3Z/6o+Y75Q/RD/tzBHtlT93q7lsDOuWP4uaQPU16Zc/YKeQ32bnmD8wPTQIgOWZPx/B6E2g45o/AlcA85Phmz8wXitVLd+cP/c7D0xA3J0/G5ekRKjYnj94CnJ9Q9SfPy48CU54Z6A/jd7RSEnkoD/rJ02XhmChP5pxBr4j3KE/+w5QqhVXoj8q9AvAUNGiP+zBN1zKSqM/HIWq7EnNoz/iBX5FmFGkP+aS51A/1aQ/wmFG0TNYpT9SB2oSa9qlP6l9y4DZW6Y/Wn1mKnPcpj/A3ClILFynPxUBLeH52qc/6SVmwNBYqD92sOzspdWoP4w7J7tuUak/og46ByDMqT+guF0Ur0WqP5G2Y30Svqo/wOTr10I1qz+QE2ioOKurP/5IqTXhH6w/e9LYSieTrD8PLeLWBQWtP7BeQo54da0/SnMNLnvkrT/7214FClKuP+mGtRcivq4//SpbTLUUsj8IwpmITDO0P05ZhYFy0bU/xZYyMdwHtz9lBbLjLt63Pzarq/OJa7g/tPPsqCD1uT/OSRibkLW7PzbRQl3/Cb0/O4mtRbAWvj+CqKBHMeW+P3whyx9fhL8/OGSoL/ABwD8w6fcWOTjAPxQKrkVNbMA/0YOSNEWhwD+2zFROnNjAP/QS59EiFcE/\",\"dtype\":\"float64\",\"shape\":[99]},\"GBx_moment3\":{\"__ndarray__\":\"rotvqNemcz/pj3g8bE4QPwkU4Pv+TxA/kcuDOwBSED/sOWelFk4QP5nd6BYpOBA//t/1iRf8Dz+Hge/Ann0LP3i9sITmxRQ/3phL1lsdHT9jUw6AYOwaPw/ZXm/f3Bo/pu3fiD8sHT+P5039VVMYP/XqFy3zUxo/zjtk7AafGD+Vi8V6LIodPyzFvEMFp/k+D3+KscviEz9pQ2mjBlAdP6rbm1qn7SE/LDivgeYjJz8MckyyBuwrP8399tsaGy8/GvHwgXPpMT8HzbohXJYzP1LGeVLkAjU/jQ39YJrdNj+8En2YMrw5P7rbxtSwyTs/b+Vyf2wmPj9hSy3qA+g/P5nuFWv5SkE//sAy52BxQj99OyGaw+JCP1+Nzni/BUQ/JK9uv/PARD+EHaJa+ZRFP5eOYyoQREU/0dcf+FG9Qz9sPyyM+Gk9P8x3fHTUnDY/a6Xr3Ih0RT/1kiAw/VZKPwIUGZBTsU4/GAhzlKszUT+IiI0EojhTPwJ8W5tLC1U/aa8vqq3eVj/6t4liC6RYP1u4CcYjYlo/cWMonw0dXD+GRUxWM9VdP7I1I89qi18//0LlGPafYD9qHdNetnlhP4ukam5WU2I/zMgmng8tYz/kb8HpCwdkP9jY5yF64WQ/tjWkvUG8ZT/1Y0GQZJdmP5rggL/kcmc/Vzly9cNOaD/wTMlyySppP6kcz7rRBmo/Vws/w9riaj8Ro81U9L5rP96SJiIfm2w/+/RvRUh3bT/WZzdMTlNuPwS97YokL28/giqezFkFcD8bHHH09HJwP4AeaiRQ4HA/vZVt61xNcT/E2NSFELpxP/5NplVmJnI/cifcXFGScj/CmkNEvP1yPyMmt1WoaHM/8KNlX5wxeT95LULkvbl+PyNO65r33YE/bb7KUEfWgz/EAKDCxRWFPy/KE9gBr4U/UqExyJrnhT9Kn4YKNveFP1rjHfQt8oU/OgbyWY/chT9mS982Fr6FP7sxfMXMnoU/h0MJD6eHhT9R3F7D7X+FP71SQCHVjIU/lD/YXEeyhT+HEh5OD/OFP3jWO8orUYY/\",\"dtype\":\"float64\",\"shape\":[99]},\"GBx_moment4\":{\"__ndarray__\":\"BqEDZS/ocD+foiy9KztTP8XCr6ErO1M/xcKvoSs7Uz9SYib0KztTPzyg+nQtO1M/K1uQGzE7Uz8CbedOOztTP0IEz44qO1M/HbbcOU46Uz+pq7txyzlTPz/ZMUogOVM/XgXPgQA5Uz/co2XLEztTP7LzqbBIPVM/GIj433dAUz/IKYz+70dTP8lR4i0uUlM/A+Pt/DNnUz+N3mAYholTP94J5HwrvlM/HHq2B1QRVD/cX1bUG49UP7s0ohXPSVU/BDuTuR9XVj/2Nh0Mc8VXP65CwN02rFk/FmzW6oEHXD+DGF/pudteP2nCOvpNFGE/5xlgB5MAYz/UdkP+CChlP8JcdVYwjmc/OrGU15Qsaj9+w2Rs2BZtPwCEz5vxEnA/EJwte7awcT8cidIJYWhzP/45ncxFIXU/EBZe2S/edj9p2xPZTJt4P9E/LmK5VHo/0jZHZDsCfD95RylMj5J9Pwea2lB0D38/0kiY4Xc+gD/yrSesKPSAP3wbUrWzqYE/tLU+pFhggj9uaMgE9ReDPxPf6xWm0IM/5e4spyiKhD+ZBpnyjkSFP3LW0JvE/4U/ApqWxbW7hj/jCW64UHiHPz8UiHuFNYg/JDY+5ETziD+64P/TfLGJP0b2E14acIo/HtCNQQsviz/JryQbPe6LP6ro9i+crYw/N0XvcBVtjT/AoV93lCyOP7ZLcQ4E7I4/STHdd06rjz+sc/ByLzWQP3v1LjSQlJA/UQAlO7/zkD9p+UcAs1KRPw+92adisZE/6HpezsUPkj/Dzfiq1G2SP/aLscqHy5I/Mt/TMtgokz/Zly/Zv4WTPzAVvYE54pM/LF354EA+lD/u4P9F0pmUP//b+iPr9JQ/By5h/TfgmT/QmY7iF7yeP3IT8pfPH6I/BEpwDspApT884sX/c1GoP6eMspAW7ao/v7stQsX5rD+EnIpjQ4iuPzzOAie6sq8/YApqU9BIsD+0tbuQ2ZywP+lM6X8K3rA/DXknRmYTsT/wWjrNn0KxP29P65FhcLE/W++4WoegsT8LvIveRtaxP1MZ71xSFLI/\",\"dtype\":\"float64\",\"shape\":[99]},\"GBx_rms\":{\"__ndarray__\":\"YduMntVlgj8GYBUFgH5NPyyAmOl/fk0/NCAZ5H9+TT91f4ltgH5NP5h8TX2Cfk0/tRU9c4d+TT/Bn9FRrn5NP1sfD+s4f00/WOudmgR+TT9ZYPVr3n1NP03B3ijgfE0/68TkPVN8TT+T4AGtln5NP0iWWN/3f00/0QkVrieDTT9DklGrJ4pNP+9FAf3XkU0/UcjVCvegTT+m92+xF7VNPwupgsJj000/AinWDfn+TT/yndUPXC9OP2H5lmoEcU4/i4yi0LjMTj903aRux0ZPP8nMOiBf+08/e0i+M1ZyUD8szwDxUwlRP4a86KJW1VE/xrYqIOTpUj/1+H1790BUP+R2u6C29FU/Eu2Rq2sEWD+5yNtXR5FaP1PEqZvyfV0/OA7xld1oYD92aR+JIFBiPwByWFcSS2Q/smYAQdtXZj9uz1dAjXFoPxm0gOdfjWo/0pGUX4OYbD9oNAA3rm9uP+acGzzTEHA/YzMBtGbacD8Y3g4QsaFxPwc40AGaaHI/N+q0NI8xcz+7WLGsdvxzP+YuTiyTyXQ/03gFxX+YdT9M3qx8cGl2P++t/gdVPHc/zuEVYiAReD/rLqMsyed4PwCHEmZIwHk/ox+ZB5qaej9yxKJ2u3Z7PywvNHCrVHw/W5vvLG00fT8D0W1rBhZ+PzZ53Sl8+X4/ivtNedTefz+vOe9WCWOAPzI3zzic14A/DrBLnyFNgT90jEyFlsOBPxhaac/2OoI/f9cKyz2zgj9JAodqZyyDP6rbOu9vpoM/2vq5BlUhhD+IuynOGZ2EP8t1ZPbDGYU/c0E+Z1mXhT/C+mCV4hWGP308VwhplYY/EE4lsvgVhz9+KT5poZeHP+G8otV1Gog/aXU63IMakD+jU0Na5FCVP3Qvux2dl5s/UYbG7Xn5oD9iCio4Kb2jP3HVTCl16qU/4rf9//OMpz/inFXCusGoP3iOHHe3o6k/A6vtnQZJqj9h49lplMOqPw9C6r3LIas/ZSBL9jpvqz+MhTCdJ7WrPx+1xvYT+6s/RQXfGChHrD8al/OKfJ6sP4hcbgVUBa0/\",\"dtype\":\"float64\",\"shape\":[99]},\"GBy_centroid\":{\"__ndarray__\":\"VJEGcMpsOz9RXF52PpPRPtCfTtpIk9E+AVIgpVST0T5rymfMXZPRPkw6+VQjk9E+zNnQRSSS0T4nwdUChXbRPo5Tvbob2NE+G3hh21MS0j4P3xLGJSXRPin2FQw/p9A+ByYFFh4o0T6HL82WVn/SPolhOd1kudQ+dpYtKEOF1D6bLGeewJLVPqlYsG8ADdc+xfYAGqCJ1T4Afj8KCnjQPi0IIwkr39M+hJ9kNkcE1j7WXRG2g7nVPvi0n9pmGNk+Sd0S0mM22z5F7Nu1qEXZPh791o5OCtQ+dp9e+FO61z40tuAMS4jYPrEbOrFFl98+EpsbgTnz3D7HbGAmeo7gPnDbI9zY9tw+ah2zDi8J0z6d5v0EEvzaPrbER9vlKdU+Rm44F4lXsz6Rn5FvkUHGPhXW29ZwC9E+73/HY2WAyj4Gz3l0HTm6PsbRHfm2WMU+bKQJY8zhwD5fD430ZjGhvsXueRsJ1Ze+8DLMyEqwo76P7ih2iYGwvuGWE8PRJLm+p57WWTmCwr6r+VkrbjLJvmLiyMv7F8++uoDXi7Xn0r515gKsR1XWvpBP37puvtm+4TMcLOMH3b6rQQOoIQ3gvoBXumPLcOG+LmXME16l4r4UD+/v8aHjvoDNYgNZYeS+EgiBVfjf5L4ALE5McxrlvqcMRPdMD+W+urI/n1C95L7eTiFSwyHkvom5l5iqP+O+v1V69Jwe4r6tjxHKmcPgvpCltSaWZd6+p/hzDgjf2r4Vky5XkvfWvt19wS0QstK+tp/5mZEjzL4dNqVR2EPCvoIepsRcfK++s5eKFah6lz6u5ifsd/y7PtZnmX9zN8k+G0dvU71D0j5h3yp6q+3XPpCgkJExmt0+Cm+LRaHx+j6v2Lt9MIYGP5PvBxLb6g0/HWg/YfeoET+e+K2hxuYTP3J+KgxGZBU/mSPf8fACFj+1ZGmIWDcWP9nBExWGcxY/FxI2rijIFj+1zwTbmSEXP3Y+Ybeqbxc/bA/wBiy1Fz9uW2nXcPYXPyybbgD4OBg/vTvF9XGEGD90VAqCod0YPx/exYBtRxk/\",\"dtype\":\"float64\",\"shape\":[99]},\"GBy_max\":{\"__ndarray__\":\"pqPotVxscD+mo+i1XGxwP6aj6LVcbHA/pqPotVxscD+mo+i1XGxwP6aj6LVcbHA/pqPotVxscD+mo+i1XGxwP6aj6LVcbHA/pqPotVxscD+mo+i1XGxwP6aj6LVcbHA/pqPotVxscD+mo+i1XGxwP6aj6LVcbHA/VTKeTtvCcD9UiJq8TtBxP69EXbkQA3M/cvF6I0hbdD++dEX3VNh1Py2rxpAwjHc/stf8NoupeT/tpyZQou97Pw1vcWx4XH4/h9+TZ1N3gD8Rdpc2ZtqBP3wvWhmvZoM/yquH8K4BhT9TbYFOUqqGPxHVhIKMX4g/oN0cDEcgij+HDf2wMfGLP0pq6jop040/Gli1Doi8jz+29zyOBdaQP/FTBiJM0JE/tOp9J4nMkj82tmJ1Z8qTP6m80VJvyZQ/KYc6n0bJlT/hkkZ5pMmWP4oP7vlaypc/O3pmw0bLmD9GMgyhSMyZP2xPk5B9zZo/yFrjNpHOmz85cp15S8+cP1LXmN+Cz50/gSFQosrVnj8xRvEYiN+fPzzi5g1ddKA/NlHhjov4oD9WzDHuQHyhP0kApihx/6E/1Y1/uA6Coj8q4LDKCwSjPx4PpvZchaM/8vzZ9/cFpD/ckV6S0oWkPyoDB7R0BaU/U0Sx1RiGpT805U/D0wWmPyI/zHKahKY/zntXlWECpz+73H7+HX+nP4+RaNnF+qc/kPnylU91qD9SzdUksu6oPwj1gLvkZqk/RymsSt7dqT/dBByYlVOqP8+H+mwDyKo/48/CLiI7qz/zcV5966yrPxpiJ4JZHaw/YB0JLGeMrD9p06FrEPqsP/QkxdRRZq0/V+iVSCjRrT9LQeIXkTquP5DQ20eKoq4/LD7GWzXvsT+bdFZpXTO0P0IvGx506bU/I//qdpgktz+Yv39J4/23P5vh4LTbjLg/VXGA7DcLuj8h0R0n+c+7Pw3vKITELL0/H3YyemYwvj/RKSOJuf++P97rYqJap78/L5VMiJgWwD/oEpL1aU/APwWZbFV1g8A/LMBvKu+2wD9gJ8zmN+3APzVQ8H8NKcE/\",\"dtype\":\"float64\",\"shape\":[99]},\"GBy_moment3\":{\"__ndarray__\":\"R2OJV20Icz8AVRiCfwAjP6ZmistyACM/wW409GwAIz8p7idibQAjP6hr8y9vACM/azJDa5gAIz+k/DhjnvEiP/49wEYwMSM/F8PcGqFNIz98lGkf3CYjP+yY6NjflCE/inakrIFmIT8dPvhZIgYhPwXUvc0glx8/v8h5d1PuHz+WihiJqzoeP5BiSLqKuxY/VfMko4u2HT8tSVa755QVP87iRi2ZOBo/Mm6LmFXiHz+yHeDj+WEWPzF8AHEzvQA/gKQlCzneFj99oSHl0dcWP1TkZ5ZRWyQ/2yXGTt0IKj8U4e4r/rQwP6D5W64jVDM/UkGIFqcCOD+9bq5M3GY8P7FlEMy74UA/FH44EMgGRD9r+Dla2+VGP1DStYg7Wko/ANvM8/tgTj+4BlCxhfdQP/alnMbtxFI/Sof8q7a/VD9hf9TN3sVWP/Kwz+qEmlg/Bl7wXG17Wj8sUe0ABV9cP19YgZDa810/a8heQEZ4Xz/JwuGSTXxgP7k/hYVNO2E/ytKToUb7YT+5XhxaObtiP0S+bgF/eWM/kOqdDd43ZD9FBSbus/VkPwgrb3rgsmU/y1rATB9vZj+7KjjKJipnPwTmHb+p42c/H0qpTVmbaD/bA8QT51BpP5hZQdgUBGo/TXxSwpy0aj8skjc/TGJrP7vDMqURDWw/CqcSEN20bD9rgopch1ltP9ZbFz8M+20/BDj9XX+Zbj/Tq/Gw0TRvP8StTAHzzG8/1xEMyukwcD+LXHIHqnlwP5dTISaxwHA/7H/UtPgFcT+1sDIQh0lxP51zO21pi3E/BGG/0LDLcT+OOBBNegpyP23cvFvbR3I/BK2mhfCDcj+iy9Ejyr5yP7NmVRxv+HI/dxPs3pLsdT9FSnA4JXh5Pzn7V1IGAH4/mXbA5dAqgT9qBY1mUxiDP6JLTNj9sYQ/baJcO83ZhT/W5bWOgaeGPxYtowUmP4c/eXgWV3G3hz9E4bguKhmIP6eOjfQtaYg/eWs9nPCtiD+1gEpBKe2IP+4kSMMuLIk/CRoc7QRwiT9DsYxCz7yJP+Xo+ezjFYo/\",\"dtype\":\"float64\",\"shape\":[99]},\"GBy_moment4\":{\"__ndarray__\":\"84pVskSocD+ZULqV4kFTP5lQupXiQVM/mVC6leJBUz+/cD164kFTP3MwN7HiQVM/EC4FaeRBUz+hDCmME0JTP6B8F/nwQVM/QjQisGxBUz/QkKctuT9TP1Untm7CPlM/lnwesrA/Uz93jm4s+0FTP+COZ8SCQ1M/hd2ShbhFUz/zCcLdpUlTPygHzRQVVlM/Y8tyGilpUz9sSx2b1opTP0IIqx38vlM/UfhprqwTVD8r4cZ7B5dUP8Nk/fGdYlU/GUUIMOmGVj8h069rOg1YP/PabPXjElo/Q6BeoJCTXD8dqiB87JJfP6qaai46h2E/X1/mmWmLYz+6D+yzpM5lP2gjSaMRUmg/uY1YXDsQaz//X/nTzRxuPxoH3hqmp3A/7LmuUhhYcj8FLe0jWiN0P2gPsm/Z73U/R7WFcJfAdz/Itl6kb5F5P+u3/ZJXXns/+SzxtskefT/QL+/NzcB+P1dSpo01J4A/tcTYbuzlgD+CaATXcKOBP9mLP06zYII/zLUY3/8egz+lZN5PMt6DPzyLoUZonoQ/3Xsv81pfhT8z3XSWHCGGP16jH+yY44Y/U9o50rumhz9D7T2wcWqIPzjcwzWpLok/DL+/NFHziT+kpzAFV7iKPyKKxGKmfYs/6rmZkitDjD++WhaV0giNP5F4REiHzo0/5dcZIzWUjj+IlgesxlmPPyZpvzSTD5A/l0jKXx9ykD+W7C4JfdSQP34rOtuhNpE/jedmkYOYkT9fVnJfGPqRP/30LeBWW5I/zJOtJja8kj/6nVslrhyTP/bdEli3fJM/hnHwskrckz/ITE5fYjuUP57+3GX5mZQ/MHW9WAv4lD/k/YBTlFWVP6SkmYSRspU/U/8ydd2vmj+7fsvgS4ifP45D5pL2e6I/wUJGPc2UpT+KBn94w6GoP62rRtIVPKs/wcjQUxJJrT9XAhXNhNiuP8EijI3jAbA/pelgu4NxsD/lHV4SksWwPwjBGs+2BrE/LXCn5AQ8sT97HLxlPWuxP6k0G5ETmbE/7htspWjJsT8iEpLAd/+xPxz4lSr4PbI/\",\"dtype\":\"float64\",\"shape\":[99]},\"GBy_rms\":{\"__ndarray__\":\"UhGRHBxsgj+5rNm51oZNP8ns2q7Whk0/0IxbqdaGTT/BTFq01oZNP+QryFPXhk0/7Qf1LtqGTT+kB9Bw8YZNP/ex4rBfhk0/r/ilU3SFTT8EQwrKiINNP4WCTSfTgU0/MCsHHimCTT+22XEQjYRNP72ZiUy2hk0/sBOes4eITT/o12rCaIpNP0PAuJQulk0/LwCQ4mikTT8CaxEZF7lNP40NBGSe1k0/VdJ2dbT7TT/mfit7iS9OP4uq+nR3f04/XPis2jvpTj8tdTB75GxPP9btcmXeF1A/eNPC6N+VUD/odTO/dDxRP8Tpk0HWGFI/XVFWxBM3Uz+w5UuncqxUP+PdXeQvf1Y/TK/iz1a3WD96zJiv/3RbP6U79MsTkF4/wIl/GFwMYT/8gyfBUg5jP0ocVex4I2U/BZo9xE5OZz+7fOcv5oJpP7eLd2NkuWs/B1aej9XebT/iY14tEc1vP/xhAZTKyXA/y3GBZO6ccT8jfZQ5KG1yPzzj60nhPHM/GC7lW6MOdD978VwXMuJ0P+Ty0fnft3U/L2Kc2jmPdj8KJd4Fe2h3P+a6IpmSQ3g/zm7Z3HIgeT9AN9JfEf95P71VtEln33o/AiA4eHDBez8dqd23KqV8P4wyxPWUin0/2il497Bxfj+8sj/TgVp/PzC1r8mEIoA/X4921aSYgD9v9C6woA+BPxGLoWd2h4E/ZKt0BCMAgj8FCOPCoXmCP6f83Rft84I/3oz0jP9ugz8klvkv1eqDP05JAodqZ4Q/LvBUQb7khD/4CIiL1GKFP3qS+ga04YU/MksFjGNhhj91hh477OGGP1u1DdFYY4c/AsZbMLblhz9tsnsvFGmIP1aYJruF7Yg/Bjz+Ra+KkD9+SP+YxMOVP2MbtgJKEJw/jlM/Msc5oT8MQasf3QCkP0nPTcuqMKY/cc6zUjvVpz/PlOJSsQupPxRiIX/Y7qk/qssLq9aUqj/dgJdlxA+rPyCGfu80bqs/mkYKmtO7qz8T829B/QGsP3giKIFESKw/fWBDR92UrD80Ucjx6uysP8VFxWq5VK0/\",\"dtype\":\"float64\",\"shape\":[99]},\"GBz_centroid\":{\"__ndarray__\":\"OpM2VfdIyT/0+fMwXjpgP3NH0LfEU2A/2C+5STyEYD9aNd2pP81gP90SFwnvJ2E/NFEorTZ9YT9PjGMenaVhP9H3XjEf32E/gsmRtv8tYj+EvWyn5JZiP70tql9PFmM/88oigUCPYz8w1y5mNShkP4FmeyidxWQ/lTwu1KB7ZT+9wSe/xF1mP0Y2xLLBVGc/b2u6Pi1vaD855rBLsbtpP5zxrM65NWs/QkhVlMTybD8MiA0xftxuP7N29rXwrHA/Uyz0zhMZcj8sQQtw1qxzP3pE9IdA13U/N0LWAfZreD8VJ2EgtJB7Pw5WUt0Sb38/gcAnN0FEgj81GTJ3XVqFPx1rSb5HOok/1vBQuy/MjT8ir0uw3+ORPxC8C6j4PpU/mu0wRFMYmT8WXpg4MaWdP5orcYfHKqE/ULuzBIadoz9cwdsoVx2mPxjTGQaWnag/LvywQ9T7qj9Kwgd0++ysP/Dibw7mla4/bfOjOk0BsD/XzaEZf7OwP120DOBJZbE/8sdZfRocsj9atVKludeyPwgRc8DjmLM/yaW8Gd9etD/1GdHvWyq1P0WjlkEQ+7U/a30fe67Qtj/JirGx6qq3Px5+ATR/ibg/Z2n95itsuT84EWAFtlK6P10cMnHtPLs/yRnMV7AqvD/gXKpv7Bu9P1sJmwmfEL4/KSUludMIvz+CpR2rUgLAPw7tSmgegsA/EnWT1ucDwT9gzDOCz4fBP5Ec2Sr7DcI/cPRrypmWwj+X+oHE2SHDP0UFNRnhr8M/lH/zA9NAxD8gme2OtdTEP1GfBR2Ea8U/y8Eq5jkFxj+n9GXM0aHGP02FmTJHQcc/E0rbz5Tjxz/g0c6Cs4jIP80QfS2eMMk/Vx+0wwTa0T8nDPOzyxbYP193HR6AHN8/xeCj9gld4z+2NmRuhGbnPyiS+ZFsn+s/u5f75CgA8D8pp4eyAULyP/iQS3cyk/Q/CB9KtOTx9j9eQxWjU1z5P+H+bWC80Ps/yKsYU1VN/j91CxP8JWgAQIwJ1t3hqwFAw6ESMuvwAkCeUQSCSjYEQMhkzLgEewVA\",\"dtype\":\"float64\",\"shape\":[99]},\"GBz_max\":{\"__ndarray__\":\"r7X3qSo0YD/xfGVqwpl3P29xmUIDi4U/E9Ze9ZRdjz+DQpV+6KCUP++A7YtEm5k//xMhSruenj/zJikqx9ahPyk9Mb2NZaQ/g8AMvhf8pj9GV/YYPZupP3Zy/fAwQ6w/seIzXXjzrj9fIYVIDNawP4A3MPttNrI/M/jBGuOasz8ek5fFXAO1P1GRa4ybb7Y/4m88HoHftz/WNCIq6lK5P96SHLCrybo/6xj8oqlDvD8RRMzbx8C9P93SSTrzQL8/e2JCcWxiwD/ithGqLybBP7vsfOR768E/mrw7EUiywj+UnUSljXrDP4Ykqwk/RMQ/AwqSylYPxT95GIMcztvFP5d5J3afqcY/lZIOpMV4xz81BK7IO0nIPwEKgZ7+Gsk/NoYpXwruyT9zK4TVWMLKP8tw8hHnl8s/Y0Si0LJuzD8wrG43uUbNP9tUWev2H84/EWh2/mn6zj/8RFSXQtbPP2dvnT2fWtA/dwBZwrnK0D84kQ1ibzvRP40wf2S+rNE/IwjC26Qe0j/XKT1wIZHSPxbgmr8yBNM/tT/l0td30z8clmmoD+zTP3lLxQjZYNQ/4FYP0jLW1D+ekWu3G0zVP5ENQWGSwtU/6TItmJU51j98FjplJLHWP12vfqY9Kdc/29YeD+Ch1z8q8hQHChvYP/QtGAG6lNg/Mw0WkO4O2T80aTJnponZP2SMFyTgBNo/hxQDJJqA2j+49Wjk0vzaPyWY5i2Jeds/X7QJKLv22z8eymmy83TcP4Mv8eyX9Nw/+zHWzJR13T8V75WzVvjdP4ZhdgWRe94/ICFvXkH/3j8ljTRlZYPfP95J+mr9A+A/ZSDoy39G4D/1JNm4OIngPxzQNUAnzOA/0mpQTayg5D+CHuaijJ7oPxUyPmk0u+w/U/7/SY168D9x0Lk2r6XyP8r9DkWB3vQ/zPqDN1ok9z9qxv2iX3b5P88QM6CD0/s/PAohMYs6/j9PrPgrCVUAQJ89l6lJkAFA3+boTDXOAkCklpzJ7Q0EQCqLwi6KTgVAglpn1xiPBkAHN2PioM4HQAsZ2d8jDAlA\",\"dtype\":\"float64\",\"shape\":[99]},\"GBz_moment3\":{\"__ndarray__\":\"fzlp0Iayzz86cyYajt4yPwls4VTbQEo/nxwfk2dDVz/YwHWElUNhP08rDcRHR2c/4UawC2SRbT+L7dccJQhyP4rrcxDPbXU/aAH0YZj4eD+siV1Rxap8Pxo6rYyjQYA/zC90vdVAgj/PYDH9YlyEP5rSbLHqkoY/POmvHa3miD8BXlplil+LP72KVxx4/I0/EyLCuk9gkD90wdngVteRP25CzrnjZpM/CoyrgDERlT9xV7mUFtWWP//7w/4Bwpg/ukYurNnSmj/wf6AM8AWdP9Yb0RckeJ8/eUsM3mQPoT/Eyk9HU3+iPyQ2inKKCqQ/x/i2tKi8pT/tQmkr04inP1ApasFvaak/Qp4qzVBWqz+s3D69r1CtP8wKJKy2MK8/HES30+B6sD/0/UbO0UmxP7nStIlo+7E/v9jHf4uSsj9XXNAGVhGzPz+LCHN5e7M/ig3oFefZsz8nG2pvSz+0P9UAKdrqrLQ/guFXClMktT83weYFoJ21P5WUChbGF7Y/vEoMPNaQtj+PbK6a5wi3PyKDyGGxf7c/pWQq3nf1tz+YZPFW7mm4P6ApPrUv3bg/2R76RFdPuT9OOOQ0fsC5P62ZCF26MLo/Ajf/bR6guj8Fsb8uuw67P1e097GbfLs/rWRLf8Tpuz+xbrw7Mla8Pw1/dlXawbw/ryTc2KosvT+VZUZHi5a9P1/66uxc/70/9ndbjvxmvj8CFJ8SQs2+P17spFsCMr8/WWb47AyVvz+wLpciM/a/P4y61t6nKsA/uqiS2CBZwD9rnfo4gYbAP/5otCzKssA/41IyjP3dwD/3bEabHQjBP2AinB4tMcE/R97e2i5ZwT+roHlrJoDBP3fyCsAWpsE/mVQjqqZawz/tYXEwgmPEPzLX1D+p8sQ/zSvweAc2xT9tZh0jE0/FP2Mpkq8EUsU/As/mBn1IxT+r9RMIGjfFP+zFzBUQIMU/ii2Q4hQExT94Mg/LLOPEP6xpg7gXvcQ/JOuRgn6RxD/B4Jo7+l/EP0OG+gIfKMQ/oXwHYH/pwz+z85HvraPDP/9EfmA7VsM/\",\"dtype\":\"float64\",\"shape\":[99]},\"GBz_moment4\":{\"__ndarray__\":\"8uNYrBuO0D/FO70kp1VBP0iwY66UdlY/bYNRx64mYz+9f5vh4LRrP3iVaJqGWXI/Hzk8/rcEdz+zVlFYMtt7Px5PMs6rboA/KdPthtsDgz+a53SYsK+FPxcfQyDHcYg/ncfaP0xLiz9f6GWidUWOP5VwamWXr5A/LxSKVulMkj+qdyhy1/6TP1yPx67ixJU/Gpy2tliglz9Gnc1ra5KZP/qWvZW6nps/Oo5zKRvHnT8vko9AMAWgP8DDlhmUO6E/PNTDixaEoj8uxLDkpt2jP8gJhZubVaU/3qckl3Hmpj/OCGxXs5GoPwCNpyUjVao/BHEeTmA6rD8CXNq65TSuP6W0LM/rHrA/kA/dYGYnsT/QYnBnOzOyP0RR9k+dMrM/7ZhauY4mtD8lj5MBIQu1P/mhAsKv2rU/ZFJ2DCWZtj/5Lb6RDkm3PyljHie87Lc/9LkIw+iIuD/cpIsVgSa5P5ni/foZxbk/Ve+ZumVmuj8HDsOifQe7Pz6GO9UpqLs/Jnzn/odHvD9fGchxr+W8P8D49YWIgr0/7T1D1Tsevj/WfZW2l7i+P5KgrqTLUb8/B6ZoHwrqvz9JqVuowkDAP9nt1Ng1jMA/dzhPr3PXwD8iBvShjyLBP2oJIiCZbcE/4Xe6kJq4wT/hIc67mAPCP5dyncqSTsI/ZDr4soKZwj+VVWS2XOTCP0U7l3cPL8M/b3RCpoR5wz+QSIA/ocPDPzb5ueNFDcQ/ShsWvEtWxD8Sl06xi57EPwK67Urk5cQ/IIp20zUsxT8pK+FkdnHFP3BzrlGktcU/hxtswb34xT9opgdHwTrGP6LMDgqte8Y/iWQCXX+7xj9OVjXWOPrGPwmWG/PXN8c/JtzxR80uyj8y59fewEfMP2Rj86sYss0/gEp0GpKozj/NS3J+klTPPxbdvGnhz88/yaSvtTEV0D9wPUzzdTbQPxTP+hArTtA/jQvmM8ld0D+wS33uPmbQP5Xcm74iaNA/YJSgv9Bj0D/7by2sflnQP7JCeFFHSdA/mYCAMTIz0D8wa5wsORfQP6suVLyZ6s8/\",\"dtype\":\"float64\",\"shape\":[99]},\"GBz_rms\":{\"__ndarray__\":\"zammHHooyT9TFLTtwzoXP8Wvx6m+uDI/CQiTmU8EQj+e5JwvU0xMP2nJPiNs01M/uoBIHIHaWT9cnXVs0TlgP7kYJPkhoWM/wBm9mR8fZz9U4xfxrMNqP0lSgTOylG4/a2xcK1RRcT9yaDh+VH5zP8rcu9Ac1XU/pwwHfqdUeD+Ge+6G6Ql7P5gyI43g930/C9ePQzeRgD8dfaSt90eCP6yrdS8mJ4Q/Q6QEz00zhj8FXWXnGW2IPwL91xyU7oo/lNnKktOzjT/9t8+AM16QPwyiFsxdIJI/5IwuXSsblD9ISvTeileWPx+RFxu42Jg/EmKjtlHAmz/IEkVkMv6ePznCqdwySqE/EeA7BGo+oz9BgJ+ADG6lP7hWS5/1p6c/TEf5fKb0qT92dWnxmVSsP0cyQZMYkq4/p+lLIDlasD/TPKNUklqxP5fniTP7RrI/DOBbyIsbsz8O3IE65dGzP4lrGrOjc7Q/o8C5wXsHtT9Hd/me3Za1P2CmFt+KI7Y/Sr6+SPuutj8grUPLQDm3Pz20E06gwrc/plaNlQBLuD+FfK+lcNK4Px727AAiWbk/pRwG0knfuT/NBz7lHGW6PwnzR+bL6ro/Y8zAdYNwuz/4e5TXa/a7P6sHzEOmfLw/+arPtEgDvT9xm4CRXYq9P7UIOa3jEb4/E89+Sc+Zvj/YTYRoCCK/P2Te9Hhrqr8/2Ift1WQZwD/idolmdV3APxLjsXZGocA/O22uFq/kwD/H62brhSfBPzMpDU6nacE/xorYL/GqwT84t649WOvBP/Z4hEfZKsI/MbhBSHFpwj9WP9sPHafCP/BJzFjZ48I/a6IJ86Ifwz8tluDceFrDPywrLDxYlMM/fIBqk/Vhxj8Vn0ztVmDIP/R+zJxotsk/suZ0FzCayj8LIe9uyDPLPwXfE2+Nncs/KZusMAHoyz+rXMkKVRzMPz96uwycP8w/yLzp8dZUzD+JiA+q3F3MPz82C6zKW8w/jUhvE0lPzD9EvxmptTjMP02aDrY7GMw/08F2B+Ptyz8EJNTrmrnLP/y6HStCe8s/\",\"dtype\":\"float64\",\"shape\":[99]},\"beta\":{\"__ndarray__\":\"MEOp3pb/7z/AG7tVak5jP86sdNlZhGM/mM3aLGkMZD8iBIpuOwFlPxueNM6TZGY/yiVlvd4eaD8fJROM0yRqP1Bublt6hWw/7vylvIs0bz9RREuFDRtxP/wD++SuwnI/3CU1YXCOdD9oXdey64x2P0CQmdLVuXg/c8xYAfUXez/ASRIFrLV9PxqEhjVGSIA/3mX0lyXXgT+J6Q7fU4uDP6Iua8WraoU/LTiGd+56hz8zvkbKyrqJP4sDc+qGSow/gX0yzvghjz+4bHeG3h+RP/JqU1HJ9JI/9paYhXsHlT/qcw7OQmOXP1Icvod2Dpo/4VbhmUcznT/6ObwiI2CgP6CGgUSZYaI/1dQNbzGapD8FYLpLDS2nP78oPMbn3qk/yp2rQ/S/rD/FHN5VCt+vP1gQFIlTd7E/fAHm7xj9sj+tbb+5FXu0P1qZlZKK67U/GghLOp9Btz8uLVUv4GG4P6iUEfZxXbk/MskrhJM8uj8hTrOC1xW7P+b9A9XU7Ls/hrKNy/rFvD/w9K2DQaG9PwanVy1df74/uG97o9Jfvz+jBrIikyHAP0OK6HSslMA/XHK7GzQJwT9Rj2WoJ3/BPyLhe3+D9sE/rnn6rUJvwj8dR6RUX+nCPwv8VT7TZMM/Uy35Cpjhwz+kBDcxqF/EP0heayn/3sQ/QDorWJlfxT9ZMxG6dOHFP55D142QZMY/XcRWVO3oxj9wx2FRjW7HP5tqVkt09cc/mE7rNqh9yD/cNxD1LwfJP1ypiE8Rksk/TQgl5VEeyj8HqHh18avKP2Md2DvtOss/6qO+8kHLyz+9rEfp61zMPxkaFVnn78w/7XTv+i+EzT84QFnGwBnOP0NYrjOVsM4/q4jDZyXM0z/Bl1foYpfYP0ju+hbned0/EvBSh2gW4T/15C9nlT3jP13kt0uPJOU/RJhwItnH5j/qCjLZqiroPwUq61CwU+k/8/sGP9RK6j+PCzl88xfrP0pJSe40wus/I93PKchP7D8XMeS/3cXsPzuiSua7KO0/d5VB99177T+nYjrfFcLtPxoNKruq/e0/\",\"dtype\":\"float64\",\"shape\":[99]},\"deltaGamma_rms\":{\"__ndarray__\":\"fZQRF4DXWEBcD4AyTF6tPo2FGGnIkrw+PUiDUu1O0D58Nw0r7UTfPh+9QGBfIuo+DPpEoB/m8z4Na9KPgGX8PjDFdFWYYwM/C7S3e1+YCT+uOAZaJ3cQP+Y7PPAfvhQ/YPRM+ZGrGT8I5QRPp2QfP9Jb7XUT+yI/qvb+9hG9Jj/noyliKxArP8rjYpfR/i8/mElRzKTOMj8PP8vlBgE2P4ljccAtpjk/vMx+b8nOPT/kGhQvqkFBP3bXsd4+/kM/EO89Wj4fRz/aeEj4hqtKP8mWn9wf4k4/Fx9B1nzhUT8x/lwBvLZUP9Y7mc0V/Vc/gih1kLLhWz/6j1UdvC5gPwG+N+QowmI/ygxaW3+qZT988GXhtQtpP+JN5G2YrWw/M0HRV7BPcD9XmC8I1HZyP38rfK5UpnQ/rBR3xjvjdj+qwBHoASh5P3r2Ae2zb3s/uSDVE8GvfT9UxCHPudF/P/6WX5J68oA/qhp3IRr4gT9MSZUzWwODP1C5YZLMFYQ/p+xKhHMxhT9UkuxGXFaGPyKq+tnrhIc/oPiKnva8iD8SSAjdxf6JPyI/X9ZrSos/2VTEhvqfjD/gLyQvhP+NP0BHs8saaY8/0SCvTmhukD+/7rYDXC2RPx8xr2Bx8ZE/rIhbhLC6kj/Mv0JYIImTPwyPyDrGXJQ/ZHmjy6U1lT8+SeIuwBOWP5EEvvsT95Y/aKWF1Zzflz9N6uUmU82YPz1W6SEswJk/1h7VNBi4mj8VSnqmBLWbPx7MhjLdtpw/a+wuKou9nT/2Mz6R/MiePx/2jo8g2Z8/12mkpfJ2oD+wOebAmwOhP9DSnl2BkqE/QbJBpZgjoj+SE8Vi1raiP62FA2guTKM/p6iVauhkrD/MKuMUWiyzP//eKcE7Kbg/IxkPQoLavD/+WT1xSorAP5ed0ZhBY8I/756wguf3wz+QFHBTLEzFPyucKDIIZsY/vPyYIDRMxz+S2e5YSwXIP0xZ4fFIl8g/NAKeclQHyT9MNwUJvFnJPwpWSSIDksk/tYA7FvyyyT/H5ao/477JP/G5dhZ7t8k/\",\"dtype\":\"float64\",\"shape\":[99]},\"gamma\":{\"__ndarray__\":\"VYmyt5T3WEDtiJ7vAgDwP+2Inu8CAPA/Im5OJQMA8D/yRdZ1AwDwP10QNuEDAPA//r9FggQA8D/UVAVZBQDwP9/OdGUGAPA/IC6UpwcA8D+WcmMfCQDwP3eBkgILAPA/KWhJNg0A8D/gCzjwDwDwPwJ6hhUTAPA/X4q89hYA8D/4PNqTGwDwPwF3jyIhAPA/FSu0vScA8D8FMdC1LwDwP6Fga1s5APA/Hp815EQA8D/oto67UgDwP6MUvghkAPA/vIIjN3kA8D+dyx6ykgDwPwNQ1rmzAPA/xKQJJd0A8D/9es+SEQHwP8mDPqJTAfA/3iKLj6oB8D8jJBzEGALwP0Fxtm+kAvA/m9fH+VED8D8tFJ/xMwTwP8++8iA9BfA//hWNEHkG8D/oPu989QfwP1fd2Q2RCfA/fpZCe1AL8D8HV+XnKw3wP1Iy7ycZD/A/BVvbygER8D+kWwqjtBLwPz5oLFBBFPA/HhoWo64V8D+1b+6vHhfwPzzL4rSWGPA/ozIPqh4a8D8giyPFthvwP5PjTulgHfA/935ZkBwf8D/5hsJn6yDwP2fTEcDNIvA/GfkGcMQk8D/dzynIzybwP1UHimnwKPA/h1xf2iYr8D93jOGgcy3wP5JhcCjXL/A/3JhD91Ey8D9b75KT5DTwPxYiloOPN/A/Ee6ETVM68D/tAm+SMD3wP+YCPA4oQPA/ZbhLLDpD8D93nQ35Z0bwPyJvufqxSfA/cKe+PRlN8D/TzbSznlDwPx93WzNDVPA/YR0iyQdY8D9vVchL7VvwP4PBNXf0X/A/dPYpIh5k8D8XiWQja2jwP0IOpVHcbPA/MSjTaHJx8D+5a64/LnbwPxV7HpIQe/A/bdIj/EHT8D+WplL9lFTxP4FOUqqOBvI/BUTSuIHs8j/Di3T1GQb0P75TXLCvUPU/jJBwEGPI9j+Kdap8z2j4P5MANbVsLfo/lOBoIscR/D9J0AQvnxH+P/2Ziwl7FABAFIDaAwgqAUAxCoLHt0cCQGBe2zbnawNAxfDHowqVBECRKR+CqsEFQMMlbORf8AZA\",\"dtype\":\"float64\",\"shape\":[99]},\"numparticles\":{\"__ndarray__\":\"AAAAAAB4p0AAAAAAkE8SQQAAAACQTxJBAAAAAJBPEkEAAAAAkE8SQQAAAACQTxJBAAAAAJBPEkEAAAAAGEwSQQAAAAB0JBJBAAAAAFzmEUEAAAAAdI8RQQAAAADgKRFBAAAAAOy9EEEAAAAAkDQQQQAAAADQPg9BAAAAAJj/DUEAAAAAcJsMQQAAAABYLAtBAAAAAOC0CUEAAAAAwDgIQQAAAABgtgZBAAAAANAwBUEAAAAACLgDQQAAAADYJwJBAAAAAHCiAEEAAAAAgGf+QAAAAACAW/tAAAAAAEBx+EAAAAAA4Kv1QAAAAACgGfNAAAAAABCZ8EAAAAAAILzsQAAAAAAAyOhAAAAAACBk5UAAAAAAQEviQAAAAABAuN9AAAAAAECy20AAAAAAQELYQAAAAACAs9VAAAAAAECz00AAAAAAgCTSQAAAAADA8dBAAAAAAEAV0EAAAAAAgDrPQAAAAAAAws5AAAAAAACczkAAAAAAAIzOQAAAAAAAiM5AAAAAAICFzkAAAAAAgITOQAAAAACAg85AAAAAAICDzkAAAAAAgIPOQAAAAACAg85AAAAAAICDzkAAAAAAgIPOQAAAAACAg85AAAAAAICDzkAAAAAAgIPOQAAAAACAg85AAAAAAICDzkAAAAAAgIPOQAAAAACAg85AAAAAAICDzkAAAAAAgIPOQAAAAACAg85AAAAAAICDzkAAAAAAgIPOQAAAAACAg85AAAAAAICDzkAAAAAAgIPOQAAAAACAg85AAAAAAICDzkAAAAAAgIPOQAAAAACAg85AAAAAAICDzkAAAAAAgIPOQAAAAACAg85AAAAAAICDzkAAAAAAgIPOQAAAAACAg85AAAAAAICDzkAAAAAAgIPOQAAAAACAg85AAAAAAICDzkAAAAAAgIPOQAAAAACAg85AAAAAAICDzkAAAAAAgIPOQAAAAACAg85AAAAAAICDzkAAAAAAgIPOQAAAAACAg85AAAAAAICDzkAAAAAAgIPOQAAAAACAg85AAAAAAICDzkAAAAAAgIPOQAAAAACAg85A\",\"dtype\":\"float64\",\"shape\":[99]},\"numparticles_max\":{\"__ndarray__\":\"AAAAAJBPEkEAAAAAkE8SQQAAAACQTxJBAAAAAJBPEkEAAAAAkE8SQQAAAACQTxJBAAAAAJBPEkEAAAAAGEwSQQAAAAB0JBJBAAAAAFzmEUEAAAAAdI8RQQAAAADgKRFBAAAAAOy9EEEAAAAAkDQQQQAAAADQPg9BAAAAAJj/DUEAAAAAcJsMQQAAAABYLAtBAAAAAOC0CUEAAAAAwDgIQQAAAABgtgZBAAAAANAwBUEAAAAACLgDQQAAAADYJwJBAAAAAHCiAEEAAAAAgGf+QAAAAACAW/tAAAAAAEBx+EAAAAAA4Kv1QAAAAACgGfNAAAAAABCZ8EAAAAAAILzsQAAAAAAAyOhAAAAAACBk5UAAAAAAQEviQAAAAABAuN9AAAAAAECy20AAAAAAQELYQAAAAACAs9VAAAAAAECz00AAAAAAgCTSQAAAAADA8dBAAAAAAEAV0EAAAAAAgDrPQAAAAAAAws5AAAAAAACczkAAAAAAAIzOQAAAAAAAiM5AAAAAAICFzkAAAAAAgITOQAAAAACAg85AAAAAAICDzkAAAAAAgIPOQAAAAACAg85AAAAAAICDzkAAAAAAgIPOQAAAAACAg85AAAAAAICDzkAAAAAAgIPOQAAAAACAg85AAAAAAICDzkAAAAAAgIPOQAAAAACAg85AAAAAAICDzkAAAAAAgIPOQAAAAACAg85AAAAAAICDzkAAAAAAgIPOQAAAAACAg85AAAAAAICDzkAAAAAAgIPOQAAAAACAg85AAAAAAICDzkAAAAAAgIPOQAAAAACAg85AAAAAAICDzkAAAAAAgIPOQAAAAACAg85AAAAAAICDzkAAAAAAgIPOQAAAAACAg85AAAAAAICDzkAAAAAAgIPOQAAAAACAg85AAAAAAICDzkAAAAAAgIPOQAAAAACAg85AAAAAAICDzkAAAAAAgIPOQAAAAACAg85AAAAAAICDzkAAAAAAgIPOQAAAAACAg85AAAAAAICDzkAAAAAAgIPOQAAAAACAg85AAAAAAICDzkAAAAAAgIPOQAAAAACAg85A\",\"dtype\":\"float64\",\"shape\":[99]},\"numparticles_min\":{\"__ndarray__\":\"AAAAAJBPEkEAAAAAkE8SQQAAAACQTxJBAAAAAJBPEkEAAAAAkE8SQQAAAACQTxJBAAAAAJBPEkEAAAAAGEwSQQAAAAB0JBJBAAAAAFzmEUEAAAAAdI8RQQAAAADgKRFBAAAAAOy9EEEAAAAAkDQQQQAAAADQPg9BAAAAAJj/DUEAAAAAcJsMQQAAAABYLAtBAAAAAOC0CUEAAAAAwDgIQQAAAABgtgZBAAAAANAwBUEAAAAACLgDQQAAAADYJwJBAAAAAHCiAEEAAAAAgGf+QAAAAACAW/tAAAAAAEBx+EAAAAAA4Kv1QAAAAACgGfNAAAAAABCZ8EAAAAAAILzsQAAAAAAAyOhAAAAAACBk5UAAAAAAQEviQAAAAABAuN9AAAAAAECy20AAAAAAQELYQAAAAACAs9VAAAAAAECz00AAAAAAgCTSQAAAAADA8dBAAAAAAEAV0EAAAAAAgDrPQAAAAAAAws5AAAAAAACczkAAAAAAAIzOQAAAAAAAiM5AAAAAAICFzkAAAAAAgITOQAAAAACAg85AAAAAAICDzkAAAAAAgIPOQAAAAACAg85AAAAAAICDzkAAAAAAgIPOQAAAAACAg85AAAAAAICDzkAAAAAAgIPOQAAAAACAg85AAAAAAICDzkAAAAAAgIPOQAAAAACAg85AAAAAAICDzkAAAAAAgIPOQAAAAACAg85AAAAAAICDzkAAAAAAgIPOQAAAAACAg85AAAAAAICDzkAAAAAAgIPOQAAAAACAg85AAAAAAICDzkAAAAAAgIPOQAAAAACAg85AAAAAAICDzkAAAAAAgIPOQAAAAACAg85AAAAAAICDzkAAAAAAgIPOQAAAAACAg85AAAAAAICDzkAAAAAAgIPOQAAAAACAg85AAAAAAICDzkAAAAAAgIPOQAAAAACAg85AAAAAAICDzkAAAAAAgIPOQAAAAACAg85AAAAAAICDzkAAAAAAgIPOQAAAAACAg85AAAAAAICDzkAAAAAAgIPOQAAAAACAg85AAAAAAICDzkAAAAAAgIPOQAAAAACAg85A\",\"dtype\":\"float64\",\"shape\":[99]},\"r_max\":{\"__ndarray__\":\"FNT49iipQz8U1Pj2KKlDPzda/cCAqUM/qBydrKqqQz8C/7qo1KtDP6XgySj/rEM/bgCy/SquQz+GnEx8Wa9DP0QS4o2MsEM/Sr6rn8axQz+4XFh8CrNDP3hJEhVbtEM/QYB/gbu1Qz+BXMAKL7dDP4MZchW5uEM/exKwFl26Qz+FwhOUHrxDP76kNhMBvkM/SdQyFAjAQz9arCMMN8JDPztopl+RxEM/VcNaXRrHQz9NeeUn1clDP8pF6+HEzEM/zWQYbOzPQz92khuRTtNDPzHLqeTt1kM/tkt+w8zaQz/sEFhp7d5DPwVY/NpR40M/gZ425vvnQz8cYtcs7exDP9XANB8n8kM/9Hgq/Kr3Qz/xqBjcef1DP5WvZaCUA0Q/64v9+PsJRD9THVNZsBBEP1sD3ROyF0Q/zd0WTwEfRD+KLP4gniZEP7JvlXOILkQ/YiffMMA2RD/Ac149RT9EPwO1l3IXSEQ/aOuPpDZRRD8yt8yholpEP83YVh1bZEQ/uvC4uV9uRD+EP/4TsHhEP9glta1Lg0Q/aARsCDKORD/y1sGCpptEP7HKuIjSqUQ/NNgwQl+4RD/D4MTCS8dEP72lkQ2X1kQ/jyi1GkDmRD+xCs7cRfZEP74N/iqnBkU/Q7Nl52IXRT/znKjYdyhFP4gM67/kOUU/zYNSU6hLRT+iZIY4wV1FP+BwrRoucEU/HssBUkmDRT/960UG05ZFP51ALLSqqkU/Patjv86+RT8XDpuLPdNFP3eLgnH150U/qkXKyfT8RT8D/6LnORJGP9sZvhjDJ0Y/h1hMsI49Rj9iHf/7mlNGP81qCETmaUY/NOMay26ARj/w6OfeMpdGP17eIM0wrkY/ZXycfRsXSD+dR/GOErBJP7T9ehJ1XEs/dab0VZIMTT8MkhYR77ROP6OUFMsFJ1A/zjnNAcjpUD8YQtO0uaFRP2K8nBGiTlI/p31lMM7wUj/RZ/wN3ohTP7fZsfihF1Q/ZJEm3gGeVD8rQhpn7RxVP3JheLtSlVU/GhCdvhcIVj9fXqZEF3ZWPzpOplof4FY/\",\"dtype\":\"float64\",\"shape\":[99]},\"t\":{\"__ndarray__\":\"AAAAAAAAAACyR0AbCqFIPbJHQBsKoVg9xTVwlMd4Yj2yR0AbCqFoPZ5ZEKJMyW49xTVwlMd4cj27PtjX6Ix1PbJHQBsKoXg9qFCoXiu1ez2eWRCiTMl+PUoxvPK27oA9xTVwlMd4gj1AOiQ22AKEPbs+2NfojIU9NkOMefkWhz2yR0AbCqGIPS1M9LwaK4o9qFCoXiu1iz0jVVwAPD+NPZ5ZEKJMyY49DS/ioa4pkD1KMbzytu6QPYgzlkO/s5E9xTVwlMd4kj0DOErlzz2TPUA6JDbYApQ9fjz+huDHlD27PtjX6IyVPflAsijxUZY9NkOMefkWlz10RWbKAdyXPbJHQBsKoZg970kabBJmmT0tTPS8GiuaPWpOzg0j8Jo9qFCoXiu1mz3lUoKvM3qcPSNVXAA8P509YFc2UUQEnj2eWRCiTMmePdtb6vJUjp89DS/ioa4poD0rME/KMoygPUoxvPK27qA9aTIpGztRoT2IM5ZDv7OhPaY0A2xDFqI9xTVwlMd4oj3kNt28S9uiPQM4SuXPPaM9ITm3DVSgoz1AOiQ22AKkPV87kV5cZaQ9fjz+huDHpD2dPWuvZCqlPbs+2NfojKU92j9FAG3vpT35QLIo8VGmPRhCH1F1tKY9NkOMefkWpz1VRPmhfXmnPXRFZsoB3Kc9k0bT8oU+qD2yR0AbCqGoPdBIrUOOA6k970kabBJmqT0OS4eUlsipPS1M9LwaK6o9S01h5Z6Nqj1qTs4NI/CqPYlPOzanUqs9qFCoXiu1qz3HURWHrxesPeVSgq8zeqw9BFTv17fcrD0jVVwAPD+tPUJWySjAoa09YFc2UUQErj1/WKN5yGauPZ5ZEKJMya49Ylk3TVYksj30hWZJBuS0PYeylUW2o7c9Gt/EQWZjuj2sC/Q9FiO9PT84IzrG4r89aTIpGztRwT2yyEAZE7HCPfxeWBfrEMQ9RfVvFcNwxT2Oi4cTm9DGPdghnxFzMMg9Ibi2D0uQyT1qTs4NI/DKPbTk5Qv7T8w9/Xr9CdOvzT1GERUIqw/PPchTFoPBN9A9\",\"dtype\":\"float64\",\"shape\":[99]},\"x_centroid\":{\"__ndarray__\":\"J68FXk/N674F9GHrNAGZPsNjL/YdAZk+7VWp2VcCmT6OI5raEQSZPuGwSo1sBZk+6gRUCox0mT4pyDgKxTyYPhMfGc0VNJ0+WNRb6ba1oD4RcOH9TSKWPu2CjVEmdZo+SzDjSJ/Loz7IsEDFp0SnPmFwLMqwVaI+aCfCQnihpz7o3565FcasPtsLKpT67K8+tBLtkECqrz7ZdszIcX2uPh4SEf1eJag+0oBFPxr9pD7+ZuARof+sPp/upZl8Yqw+fYb3DJ9cpj6xNAu/826+PtgU9fUCUaY+WfBZAgzZnz7XZZvBs/+9PoNUvF0tdLY+05+nug6IsD4xbB6dRE6yPk2cytm/crk+C+1YEyGRuL5ZZv37QqvPPiJVFezZ5Mo+FHVFI7eZ4T5D26Z7E8rVPpJvZEo8iN0+nFV6YAgn0b50trNic1ASP6oymwO3ycW+orVIT7FC5b7l3346VfowP8sOUeEz6MI+++HD3WAm0T5/qvfGaLqyvndZ7m5dG8Q+7OZLNDy7yj6xpN7ylvbIPuwYBwjJiMQ+LcpL9MjHxj5yv+Wbgq7HPreGGkm9dsc+SApBOLx1xz4MFub7oXfHPhYeCs+Recc+RmIYiQx7xz748R97DnzHPoXYQRaIfMc+dbMCZWB8xz626uhNlnvHPgdYBf49esc+Fz3viGp4xz4dZgEbK3bHPhRxy02Lc8c+07YxpqNwxz6ua7PWkG3HPmTqXARqasc+FYSj40Vnxz6tqOkaO2THPijhBmJkYcc+x0gFWtpexz7jd8sLtFzHPiDkM/4DW8c+hV3pndZZxz6hWfchN1nHPhfNPBk1Wcc+7SEGqtxZxz5Q1f6LM1vHPtLCkDxFXcc+P1akQcrYxz7p+BggRBHJPtWnurkG2Mo+Wi53kLzmzD5NvdpYHRHPPuWlY6rOn9A+4kuT1oiz0T7NQhhq+b/SPggJBF3IwtM+99gSjKS61D6+Dszx3KbVPuDSgkB5h9Y+GAoAw/tc1z6qbpM/KijYPqOZbinx6dg+EpAGCk+j2T7Dk2VOSlXaPiSiYP/mANs+\",\"dtype\":\"float64\",\"shape\":[99]},\"x_max\":{\"__ndarray__\":\"mmD/8R+pQz+aYP/xH6lDP5pg//EfqUM/mmD/8R+pQz+aYP/xH6lDP5pg//EfqUM/mmD/8R+pQz+aYP/xH6lDP5pg//EfqUM/mmD/8R+pQz+aYP/xH6lDP5pg//EfqUM/mmD/8R+pQz+aYP/xH6lDP5pg//EfqUM/mmD/8R+pQz+aYP/xH6lDP5pg//EfqUM/mmD/8R+pQz+aYP/xH6lDP1G1cyA/qUM/2OdBTRiqQz+IBlHSFqtDPzWrnyE/rEM/y0+unJWtQz80bv2kHq9DP1yADZzesEM/VCDix9myQz9TCAJTFLVDPytzAPqRt0M/yBtzY1a6Qz9JffMUZb1DPxzzoVfBwEM/2vghWW7EQz97Kp//bshDP561IynlzUM/EPAy0TbUQz9lVQvk89pDP+tDCZsd4kM/QvoP87TpQz86dwbIuvFDP/SZWrkv+kM/2eH/NBQDRD+FLm6CaAxEP5RfHeksFkQ/rPQFq2EgRD9qB+R7OStEP7ua3biBN0Q/6IHc6S5ERD/uXXVZQFFEPwXQQSa1XkQ/VznaeYxsRD9DW1tXxXpEPyFXYcdeiUQ/bW4Lt1eYRD+m4ngTr6dEP1/VSrljt0Q/PqgjenTHRD/8nCcX4NdEP1P1elGl6EQ/DzND38L5RD8XWKhgNwtFP1Nm0nUBHUU/tP9puR8vRT9Bppm1kEFFPwDci/RSVEU/GKNt6mRnRT+evWoWxXpFP7/NMOdxjkU/qHVty2miRT+eN1Ahq7ZFP9VVB1I0y0U/mfJCtgPgRT81MLOmF/VFP/UwCHxuCkY/LbdyiQYgRj8vhSMi3jVGP1f9y5PzS0Y//oEdLEViRj+Bdck40XhGPzs6gQeWj0Y/VgUTgdP4Rz/xM2Xj6I1JP3RpMBudNUs/FlcY033gTD/U8lLJZ4NOP/dlaemNC1A/7bci7LXLUD93qJtEM4FRPzyvclXSK1I/OKHjNuDLUj/bgnIS+2FTPys3xzTw7lM/HaFpAKRzVD8w+HAcA/FUPwMXtu73Z1U/fIJpdGXZVT9RDwdJI0ZWP1kD8q78rlY/\",\"dtype\":\"float64\",\"shape\":[99]},\"x_moment3\":{\"__ndarray__\":\"EAcUXZBLRj9o9M+yMLEGP1x3iHqtsAY/afGKUp+wBj/MPLYhRLAGP55rh8CzrwY/IFy7q8rFAD+z+PKHXCkIP7Gda/F1aAM/u6MGirL5IT9VFkYl62AgP31vKTiXtxg/dWAFVYVsCT+b8xw/mbs/P3ina1Lv3gY/M8hKLYfpBz+th5nehgkXP0TGSv73HAg/w2Q1TTsnCj8hcPrAGWoGP5kOt6lcjQU/SWZO8xiWAT/zHguZcW8WPycSqkQ39gQ/3xT5PHikMj/86zpvOn1hP6pvns7GMiY/FxZzHWskMj8NRBfXJjxSPx0N+eC9iTE/cHpnEaIlHD9V1AVLhmA5P6Dr4ZHFoS4/Muoorx/naD8kRlyzZjpcP8uLECMQSUw/RRh0f0u5dD+QoI3fAQVaPwO1AsX78V8/EYThpHSeZT+HYYB3BM2pP73AI6hl3WM/TCH1dgKciT9d0O+5G93AP1RP3dIuCmk/CVw6fs4nPz/ES4vR7mRwP1sydVP4uS0/S7p/pfsfMD8jJVk1wk0bPyBQgGutDig/aFLqylfwFz+dMJ80c34WPw6CqMMXbxY//ennA3ZoFj+Frmqg0WUWP1dI9t0WZBY/Eb6RweRiFj/JC2qtK2IWP8zElCrwYRY/D9AEQ0RiFj9fJzhuLGMWP65T6jqiZBY/lJD+nJ9mFj904KbcImkWPzmraeAqbBY/Ssoblq5vFj+UZYOqo3MWP89mTLoHeBY/rVHEG9h8Fj8nX5emEIIWPxT+3EWrhxY/lJydaKKNFj/zEG0475MWP7P5SyuOmhY/6yHjfYChFj9hBu+ByKgWP270R9JlsBY/ybnNx1e4Fj/ThnhpoMAWPyXcVEk/yRY/QG0XV6dsFz/H0H0+lWAYPwQiTU7dmRk/TIcnzWYAGz/fE4rTNHocP1YBAyVX9x0/jIskCbZvHz/5Bpclpm4gPwwkUbSeHSE/GkK7HznDIT/Nmgqp714iP8WJRIPc8CI/7th+2YJ5Iz+ThHPCnfkjP97k5lsCciQ/NMWR9I7jJD9OckjpIE8lP4DDvfGNtSU/\",\"dtype\":\"float64\",\"shape\":[99]},\"x_moment4\":{\"__ndarray__\":\"DwYgammSUj9WcTm4/6g1P4DwJ1IAqTU/uq8X4QCpNT8hLwtPAak1PyEvC08BqTU/of89rC+3NT+HC092ba01P6NG4OeMvjU/3Eq0hoCzPD8LF2LL7OA5P7DV/+iEmDc/EB81PjzYNT+DTk2otSdXP8rxtcdn3TU/0j79wlroNT9H1oed/Kk3P/vJsLAq7zU/LsKnHIoDNj+J3/8gBAI2P7tRoC08AjY/HlmQcyMKNj9JlhSPaIc3Px0wQw5pKTY/cmYgLF62Rz91YU7O3Dx3P/BRXHscrUA/74yG8XKPRz+qLKxJJ3pnP/rjyDSQ1Es/qnGEKCN8Qj8R1y+tjX5SP1k6LArP4EY/VjFmIbLugz9OC/FX52lvP2Lxtxd6v18//KkcU6pWiD9dXk5DM9N6P7cciwy7f3Y/8gb+kjm/eT+hFZR5Fkq9PxeH/V6GH4E/bSq9/G+hoj+mHatSgtfSP/qvQ5pQP4Y/JRdFCsNSXT8jFzTeal6CP8cnWuozLEI/umrH5MowQz+LnZSTsBQ7P21qiRuA0T4/dlfIuMvROT9t92bN0cU5P+c/Zm0Oxzk/s7Lk++TIOT/NatK3t8o5P80ff6+MzDk/6sK0iW7OOT/ZhlzaZtA5PzNfcpB+0jk/Z8ADAb7UOT9tXykeLdc5P3rxAK7T2Tk/fCy38rjcOT9exngu5N85P2n1eWFc4zk/5e/uiyjnOT8a7AuuT+s5P0LgA9PY7zk/woIN5cr0OT8zi3jyK/o5P8UxoZsBADo/ym/7r1AGOj+3w2ZNGg06P4st43NeFDo/Uaxc0x0cOj9P/q6qWSQ6P7yhtEMTLTo/NJQ7Vkw2Oj8sVCMABkA6PxEfNhpCSjo/1+p870UWOz8PAtDGK0o8P2WQZkNM0T0/oCZE9CGRPz807XBeSrhAPzCLNDTbrUE/bDmiwmKiQj+uFCWyS5FDP+QprQerd0Q/PPqB9+BTRT9+r8kZRSVGP+EhYQnd60Y/jIod+CCoRz8uQu2VzlpIP7iL10rKBEk/HtHXfQqnST9lFu3biUJKP09ljvI+2Eo/\",\"dtype\":\"float64\",\"shape\":[99]},\"x_normemit\":{\"__ndarray__\":\"8TJHIyKE+T61gfAQ6V+QPpI9RXbpX5A+Y8KQrulfkD5BfuUT6l+QPoORE/XqX5A+hXFb1YNgkD6D0Gih8mGQPrUqjUfvbZA+3eVbgZZ8kD4n1YAcGYSQPk9VGkdngZA+wlocNGyBkD7TGiX1CAORPrZ8xrT7iZA+24uMDAaPkD7gKHGrqpyQPrpbnTSnnZA+Hqae9qGpkD5jLtV2wLiQPhp3BPEyzpA+XjWmQ1/rkD5wOEIQZBKRPjHgVYMjPpE+uGoddU29kT66bU6OVmOaPuBtnnJJY5I+GIWSquM7kz4EBRisSWaXPnExlvELSZU+bCspeeVOlj5uIP6Yx0qZPlDOpG4EAJs+x16gtuwgtz7Y+4a6HiyqPrKVEICsvaU+EHXnF9qKwD5pfBvaoQW+PqgwSXifd8A+lXXfhmo1xT57VTX8/Ev/PrW7KVQB2tE+CViv5GmH7D4hPEveXhkaP4aArliHLNc+twHsA85Xuj4pfCnA2qrPPjmrIwDAObc+9QFmRDQduD4pFB1zisS4PmEXn/u6y7k+SbTMHneWuj4y9t18OYa7PgPdlGHVeLw+412POxNsvT5wtgEXvV6+Pp46zHqWUL8+NIRKxa4gwD539nzSZ5jAPia160lWD8E+zUJ+hF6FwT5x/bYIafrBPs1jLe9cbsI+p8A13SHhwj61LAmlnlLDPpXCCLm4wsM+ETHwFFIxxD6/Q3G2Rp7EPmmlWblsCcU+BZXRwpZyxT5bVVG4lNnFPqaan4YuPsY+ivRO+Cigxj6l9t+3VP/GPpVPcCGFW8c+0mKNrIi0xz4q1xaVKQrIPq9LfUYwXMg+riWniGKqyD5ZTZ67h/TIPkG6e5BjOsk+x7JtSJfhyj61fgFTfbjHPl2YK9H8gcE+cS8KoY9Auz6j2qxaRNPAPnMffiK9Q8c+gkwfsIOuzT4Tdmef/63RPmJoH0WaGtQ+3nIEsPIi1j5xW2SfNNLXPjyaAqeDNNk+MUDuGglV2j441AQCRj3bPjKGITkT9ds+DFsklOGC3D5bfHsx7+vcPvkhHdeDNN0+\",\"dtype\":\"float64\",\"shape\":[99]},\"x_rms\":{\"__ndarray__\":\"AznNpzOcZz/hl031D8QxPxtXPYQQxDE/v9Y1xhDEMT+gVjPcEMQxP+2WOaUQxDE/qvSwo7PEMT9qbBNrKsYxP2ZS+XfY0jE/nXzixHnjMT9Citm+uOsxP+/+Eotp6TE/i7xkecfpMT+QKW7eC3UyP5LY/XXn8DE/bl+0m3z0MT9prHZrE/8xPyuWfVqJ+zE/4/59UWL/MT99AM6rswMyPyev1vqcCDI/M1xBqeMNMj8gHeCC2hoyP50peQGQIjI/ps9tww5yMj/DUZZOLAI7P1F3d0PnbDI/T/0wFum/Mj+RJpOC8Ac2P/yZIutTLTM/m1SrzhP9Mj/NjvNdNSE0P60dDoXa4jM/Vs4ktEbeTj+RjdiPGrg/P33i4i7q+Tc/UrcKNMcsUD+Dn06ClVdKP4PDaTSnH0o/G0isMuWCTj+OoqYUdnyEP4lROk7Wk1U/fMIs0e3ubz/UB8Vos3CbP1Xj4rW9J1c/ryKyGDINOj/VA+FSDPhMP3JHIV5whzU/KtVvp+R5NT9Kx+E7TUA1P9RTJm/qUTU/C+EFNRA1NT/Sng1JKzQ1P5WY0Be6NDU/uIkkbdk1NT8u6UNj1zY1P1pjkxvCNzU/i+e0nKU4NT936aa/ijk1P6FejRN5OjU/M/2Zrnc7NT+x+wVljTw1P78QDfXAPTU/fPP0xBg/NT9s2vaom0A1PxT8S3VQQjU/ng4mQD5ENT/ZR69hbEY1P2QdDlPiSDU/ZQRf5adLNT/4ctI5xE41P+3fp+09UjU/zcItGhtWNT/11xdeXlo1P4xdPw4JXzU/8lBtDh1kNT//bl+lnGk1Pz00zVCKbzU/KN1smeh1NT8B5wR5uXw1P2MOTmL/gzU/OjoAEkchNj8L08N58SA3P1s8HbKkbTg/Br7BqhTrOT+darMFEoE7P+xZ7bNvHj0/us0gKV64Pj83RiRb6SNAP/i5c5kb5EA/gwnMwn2bQT8JBAeikUlCP9vyyI5n7kI/+F0eCW2KQz9kf7C+Rx5EP4GmqhK8qkQ/pa8oIZwwRT+CM/qkvLBFP5yw6CjuK0Y/\",\"dtype\":\"float64\",\"shape\":[99]},\"x_twiss\":{\"__ndarray__\":\"+ddP+BSL4j7UIM63pxnwvTMdwvAaM/C9wcmTGbhd8L3YI25uOrPwvf7N5kN0YvG9j31TSQUC870KLVfygmn2vSJCE37bO/u9m/iENtWyAL5Vx0oJgf4FvheLhr6Z8Ay+j4bGmGtMEb7a00+jgHcVvlQ5Obc/cRq+tKMJGSbGIL7j9wkRpTokvv5bZ+yufCe+sbQZSHTsKr5AMlZ2TiUxvpEL97hO5DO+Tgf5HOoQOL7lJ9LeJWA9vhQmYzbk3EG+lJpL7tq1Rr4wkRXAMABHvk46AbVT/U++B90Ej1ihU74Z6JXhGYFavlcpzO97Ml++6yulmG3mY74utX73ns1ovs4zLupSqm++S/1JMjSRdb4sVnImu1R3vivQsCt+nH++csNFKE/jg76ST/kXNDiGvoYsOBgu/oy+Rou72sAVkL4Pf2SGj1SDvsmMUlId7JW+q2tbinyFlL6/FMmZwLWavoKnayGmIp6+PqwTNNe7nr7+pCWj0yCgvhNO5WMYOKG+qYKAtuYior4iKkNpUhqjvl5neMxmLqS+dyxqou80pb6hGOIJVVKmvhBXcbTWeKe+xVXmatCsqL73Y5dFO+6pvpgylrPmPau+l4Ssl7icrL7+gtpufwuuvt3DbErwiq++ofTF8dKNsL482TnGDV+xvvdlu/xkObK+yjLjVhAds77F5+JtQAq0vgpEavwjAbW+BmUYM+gBtr46g/hDxAy3vhsPR7T6Ibi+a9kmb9JBub5S9ttzlWy6vmFCta2foru+e8ak+lHkvL5kT99l5zG+vt8mpxKSi7++SBv7Lsd4wL4lNDKiEzLBvj6yL0/V8cG+L61LNja4wr7Ft5IfYIXDvjuPjCWDWcS+D5TvwcbC0b5bEeyOanDcvl4UM12MmuS+FJVULfpI6766DOMsuNXwvrCVNzXAuvO+MiFMBl1N9r4uoC0AX5T4vjDQyOi/mPq+gFyTFz9k/L4E1/S1QQH+vuXfgmxsev+++KPnayBtAL850sL1axUBv+VUbMjiugG/XrZuPQdiAr/UTR7pEQ8Dv7ZufVH0xQO/\",\"dtype\":\"float64\",\"shape\":[99]},\"y_centroid\":{\"__ndarray__\":\"A1KUtjIrCz8ROvbN5WmwPj9Ai0XIabA+s0WWNq5psD4pO86bwWmwPsbWGP7nabA+UEyv81VusD711V5jrTuwPp5NU6nfVbA+g3aeyG9osD59H1io4eysPu0dOrXYEqw+n1f2Rlclrz4+FgLazBuxPrdVwVvWBas+Or/dcmnrrD7VQFGRqCaqPrMo6+BOC64+/j+XU8Z8rj6ep6UWdVqzPrzqPZGMVrk+fXntdMSLuj5JT03DMAm4PnyWTLcd17Y+xDR3iN6+tj7zpUuvr1C6PjKlSkN77LE+gBAa/tpMvT4McZS4RFypPglMIzAacak+7sw5C7hGnz62IyS32tm3PkyQxar1774+WK2dxSV4yT7WhlXC7h2Rvn2VlKnf2LG+fzNDsZM+yL7Qvir0MjunvnYGe0C7huo+is07kdlU+L5sQomzxt0MP0hQbQ0xc+++LHo/fiVc8j6osUgJfY1lP+mjSKR2+va+iufhFchRob67QfcdLEHbPteocBZ6cLc+YuD8tbjKsD4xnIJb6widPhwhjMakwa4+wr7tbXJbrT7JX2hrSkCoPpsrQrKswak+9g12RvUeqj5ODu85xU2qPl70a8C+aqo+OBJCbWt/qj6u72u1jI+qPrILTFhNnao+2ga45Seqqj4gy6bdTreqPpdnhIlixao+kn/vD+jUqj61/s+5QOaqPsSph9Zw+ao+LS+NHlwOqz6jNt/v9iSrPgR65MMcPas+/coLvKNWqz7pQVJrVXGrPnsDzUv+jKs+zQ5mP1Wpqz64QwajC8arPkvdv4/Q4qs+BK1si0z/qz61wFOWHhusPmpZbJkHNqw+aQUNprtPrD4dAIQUB2isPmAT8N30fqw+BHxkp+pGrT4QZoiSfMCtPtEXc4FXbq4+rsgBC7Bgrz7U29b1iEywPps+Du4m9LA+Ug7nOiibsT74NLuVmj6yPkOZHSWh37I+SX5N5ut8sz7iahQ+sBS0PhEKOBCdpbQ+/vr3F4IvtT51V0HlnbK1PqSQyHttL7Y+v/eky6mmtj5foBPhCxm3Pt4HMf9Ch7c+\",\"dtype\":\"float64\",\"shape\":[99]},\"y_max\":{\"__ndarray__\":\"N29Bh42nQz83b0GHjadDPzdvQYeNp0M/N29Bh42nQz83b0GHjadDPzdvQYeNp0M/N29Bh42nQz83b0GHjadDPzdvQYeNp0M/N29Bh42nQz83b0GHjadDPzdvQYeNp0M/N29Bh42nQz8hCRuM8KZDP3a0xke6pkM//ZmbWc2mQz/ZIBThl6dDP/M41wltqEM/XV6SqU+pQz/wrG68QqpDP/hfCadJq0M/c3L5BGisQz8wH9KSoa1DP+nApB36rkM/SHKBfXWwQz/YzXWgF7JDP/5NDJDks0M/KA1QUOC1Qz8AJlG5DrhDP1xzI4JzukM/q7U0n4G9Qz/dPzFdFMFDP42UjcL7xEM/lM9yyzrJQz8j7ZA31M1DP6XpnJrK0kM/8oFUOyDYQz/5S/D58N5DP6FBk2OG50M/pUSzb4XwQz8O9dAY7vlDPxlT8TLAA0Q/EZ8ah/sNRD9y2Va9nxhEP6XCroisI0Q/NZsthiEvRD/Qw2E3/jpEP1Rd3fxBR0Q/tmi0JuxTRD/4Jvz5+2BEP0yZzZpwbkQ/62DCJ0l8RD8dX3W0hIpEP1g1hTMimUQ/A0WPoiCoRD+qD7TjfrdEP/H2lcg7x0Q/bRzWLVbXRD/gYRnPzOdEPwypBGie+EQ/whM+qckJRT/so+0yTRtFP3FbO6UnLUU/URzRj1c/RT+MyFiC21FFP0Vi//CxZEU/jQtwYNl3RT+RZlg/UItFP3V15QEVn0U/hVrHACazRT/2VyylgcdFPw3wQ00m3EU/FEW+URLxRT9nuUwARAZGP1gPIKy5G0Y/PAlpqHExRj90qVk9akdGP1xSo7ihXUY/VQZ4YhZ0Rj/LZ4p9xopGPxA5C12woUY/XNatDrUJSD8Cs2hCBJZJPw5Bo0/oNUs//EU9fpfkTD/El1HtfotOP2C4vKyUEVA/l9fwwaLTUD9NcChD54pRP5SwSPIpN1I/zuyAVbjYUj8LJyNOMnBTPy6fFWpn/lM/AbSIDT+EVD8HGlUFqAJVP7In/LiPelU/7t5vS9vsVT8oUee0ZFpWPz5Bh135w1Y/\",\"dtype\":\"float64\",\"shape\":[99]},\"y_moment3\":{\"__ndarray__\":\"P6rGMy3PUT9zYyor/0UHPyIHnI5mRgc/Tbx3slJGBz+Nef7lXUYHP5M/QIysRgc/Hfh8RwlJBz8id2yboKcRPzVK8agAkAg/kxK0IXW2HT8drODCtY0IP1D5GUjRDQc/zgbFqrm1BT81LMBlQ0IkPwIbWW9vgwE/VydP3IxwAj+KhPW7FoMVPyy0fDNEJgM/gtKlbjkBBj/x1riX1bIFP1hDBFj7Ywo/tcXq10MbCT/cCtFQH8cXPzSliFqsUQk/A1UY8EBUFT88kb+CZ5YdP9hIdcRz5jg/QpbbQg7XLz9UT5FE6fJRP5l4EuNQISw/lFigZyK7Lz9ibYuOWKgvP+RJ8qkduUE/bkxPWOIBZT98JW95CyVJP1OhDFI3X0c/O+MeO4ZIYD8MqpT1VyNdPx898HucbIM/YQoYnoyqgz/Q6Kk2geeiPzimM+iu4mk/Su1re8Deij/9WHfiKO/6P07zudPQGIc/zjiKJ3keQz8GAYEogrpwP//VJQfCOyU/ucwkg0dPLT86Se8TSg4WP48oQhVsjBs/weVoIRZwEj9aDs7CbM0PP05z7EFjUg8/q8bkvbE9Dz/T4JwNiTMPP1RAFCDEKg8/Dyi/Pp8iDz/WbSfrExsPP7vXjP0mFA8/b3U77RYODz99DGu4MgkPP0u4W4SLBQ8/oqW70koDDz+5XuOaoAIPP3m8nSKEAw8/pXx6XtsFDz86PoRsogkPP803NdzWDg8/EFth/IIVDz9F9EqhuR0PP2kn5sCFJw8/nJABieUyDz+g7Szuvj8PPzu+4qj/TQ8/1bcDsZNdDz/WBR7CW24PP0xVY9dJgA8/7u7JcU6TDz94C/mUZacPP8jvl2invA8/dOIA//qzED/5Bv2FnN0RP9XMO5KZKxM/aZMABpGQFD+JL5ggvggWPyTCrdlthxc/mKSQJjMAGT8XVMMP3mwaPxITGXxvyhs/B+DhO2UXHT+rhbhHLVMeP8zj+dDefR8/z+z+8SRMID9EYBN3z9EgP4hTWieiUCE/Lb0VOVzJIT84EmcAvjwiPyRQIbiBqyI/\",\"dtype\":\"float64\",\"shape\":[99]},\"y_moment4\":{\"__ndarray__\":\"98K9YqjrUj+wB5LTS6k1PxeHhUFMqTU/6caBYkypNT8yxnLmTKk1P2yFYnVNqTU/Q0IgvE+pNT8AhaQTmQ82P8Fo+ZzFuTU/0Xjy2aOCOT/gAZd+2mc2P1LDLTs/zDU/wT9Xnh7RNT816Vyw4C4+P59NBSYM3jU/hsH/403jNT/phOrtz+Y2P6qthS3Z8jU/Rt8JJ3UDNj9b2uCWSgM2P7TdyQ6GBjY/8s58VEoQNj8BBOewMAw4P5mbw+TYJzY/AYWVKhNuOT9O7Dqpz3lCPxglK/yxhU4/PMoUKmbXRj9zHFmoHjFmP0t1K3TdOkY/lmZG4OLTRD/XgxrdAPVPP/mpR2VF91U/XquIDIf7ej/3FE4EybFgP0bdSz2yiWE/PpNLzMQHcj9z2cnYAFB0P18s1OZ0Y5Y/pC+bOG1Rlj9IZp8O/lq2P8L3+CgOJXw/BE4POoPnnT9MjdDP1CsOQAkj1/zhr5k/nbeIo3+GVj9DkRXU3LeCP/CF9ElXLj0/bxCD0MK/QT9V5zeH7mk6P3B+n1Lxhzo/Jsr9t8D2OT+Q2qO7FOw5PwejqsgJ7jk/ASqS6P/vOT+0f65s6/E5P/nTrPjX8zk/epY2UdH1OT8n+jne4Pc5Pwazu0EP+jk/s/XMr2T8OT/5toI76f45Pzps/omkATo/cwtu0p0EOj/digQg3Ac6Pxdg6OtmCzo/8MBDjkUPOj/54juLfxM6Px58/SQcGDo/AAKv1CIdOj/bq5jqmSI6P2WxDF+HKDo/h0t2TvAuOj/ReLfA1TU6Pxd5zNY3PTo/VAugSxdFOj++rQxpdU06PxPe4tBTVjo/7pnwOrRfOj/EXxXFl2k6PxOtHD0AdDo/k5Y3pFpDOz/ynxos+Xs8P0iCkpfOCD4/152h/r/OPz/pNZO6H9pAPzTgWGug0kE/9jctyQLKQj8zIz3UqrtDP6Y6cBClpEQ/wUWRL02DRT8kTkPl+lZGPzPJp9a1H0c/h4zJw/jdRz8yDLawhJJIP5TmlE5BPkk/KcEDPSjiST+NG6VWN39KP0vbFzBoFks/\",\"dtype\":\"float64\",\"shape\":[99]},\"y_normemit\":{\"__ndarray__\":\"f+u7qq6L+T7iOKDhG2aQPmnUJPgbZpA+pYbi7BtmkD52Cy4lHGaQPmH+i7ccZpA+5SbfaSRmkD5+cWhOaGmQPggqDKtzc5A+XG2Y74h+kD6X06/UCoGQPrKRVh6VfpA+VJS3E3eCkD6vqUNSbJWQPp4hYzf0jJA+j3bpArGQkD7gdAWzZpqQPkknrdyAopA+SCDM+k6ukD6NR8imsryQPtHrLwjb0pA+cd7FQZHukD4YFtBqShqRPifiNdyJR5E+4pf7/RmakT7LtgjVZAySPpshxWQp5JI+SIVOff5hkz6D228sQbuYPraEJ5n2PpU+3VOYEOWelj6ANVBXDqeZPnxXMO3825w+HnsvzGQLrz7eNGrA1XqkPsmZcmHvH6g+Sww8pJdwsz460F1XzoO5PtE3NxjuY9Q+ByfmNseV2D4HuAuUMV37Pq3mBkk8gM0+2QJoYPK65j7KU6lkP1VVP7wsuoiy/+Y+UD+ur4QkuT7jnAkrRaTQPuhQ3oYdMLg+j9IwEFU4uT7HFcNHV/i5Plq3J02A87o+n8prc5vouz76iNiPsOC8PrPu2pzX3r0+RT6iuq7cvj5+CHHVvtm/PsY0SmDnasA+KzQaP0/owD7KCGCg+GTBPum7drXG4ME+Bh8m/J9bwj5acQMJbdXCPtUSuQIVTsM+VMt39n3Fwz6plrNkjTvEPicv51kksMQ+EDYY0R8jxT50z6ANV5TFPnRP/zWcA8Y+Nu8Uv75wxj7QtadKjdvGPhgUXbHMQ8c+2q4dP0Gpxz76LJh/vAvIPkG4npYRa8g+lHbkFw/HyD5eGOCvfx/JPlkr/IgpdMk+YIY8wtHEyT4ECBRLPxHKPvfwNMk0Wco+NcApreMJzD4wfzzy9MfIPu3k/MVEZcI+J1V6UZN+vD5Wtogi7inBPh2aNtTbh8c+TmIkroj7zT4JiEG7Jd3RPsJP2RGEUtQ+WU0zWFxi1j7eN5e9uBfYPgzt7Krpftk+pJFLNEWj2j4/XGJ6d47bPvFMVWZ0SNw+IpZZrr/X3D4iCL96q0HdPszgYGGRit0+\",\"dtype\":\"float64\",\"shape\":[99]},\"y_rms\":{\"__ndarray__\":\"bi2cd+adZz9yu8phw8UxP0T7xoLDxTE/RPvGgsPFMT/4usC5w8UxP326thHExTE/MLHzxMrFMT/tmoXKRskxP+fChZKC1DE/hc+VyhThMT+TqWJS+OQxP31szkdX4zE/b1sT3VnnMT/jFeztdPoxP8TjHuD47zE/esStFfHyMT9wLS8dX/wxP55OekEU/jE/qFZR+GACMj/GCNHZqAUyP0Lp/RrfCzI/gdYHG6sTMj+Yoq+VeyMyP8oKSFyhJDI/oKhER2Y9Mj9bOjvWT2cyP7xFH0CJ0TI/sG3pVvS/Mj9fNOQ4jgY3P5ikrcb/4zI/i7H6H477Mj+KX2rHjAs0P8un8/zhwDQ/EmgcljYsRD87bcrgFzA4P7GhxlHEqzk/+vWwNPllQj/M9l7+65JFP3lLD03U514/yXDpDbjkYD9O4ppcvymBP3LBNVEtHVE/D6nW/CBdaD9lARO4dXfVP3VbujMn8GU/PWQWix8TOD+Gih5XUCZNP1HpNCWMjjU/TLAUS7uVNT9R+bMAOWk1P1dJOvBGaDU/FrBu//FiNT/rura7ZGA1P1ce6/GNYTU/VHuYy7tiNT+UBhBRyGM1P2WqiiTDZDU/+Ra9p7dlNT/9wLkDrmY1P11erXqtZzU/rmXS1bxoNT9HTV4K42k1P+tLj8AmazU/thirXo5sNT8w6uq4IG41P4B2gOXkbzU/OPOQaOJxNT/aVUDRIHQ1P3zTqfundjU/zODfEIB5NT+Gcwt0sHw1PyKCZARAgDU/zQMyHTWENT8CNSpHkog1P7mTIvhYjTU/VB3kE4uSNT+qjizhKpg1P/kjrRQ7njU/vBkcN76kNT8mrT5Ntqs1P/Aa0LMlszU/mvYP0YhTNj8occVsbVc3P3wJL7IJqTg/zdfUlakrOj8IWW8a0cY7PyoBSeA+aT0/f5mw8R0IPz8ZvYppK05APwQL2CmiEEE/7iL3iyfKQT8BNEFgPXpCP4YFMHT1IEM/efwQc7++Qz8szz+0Q1REPzhpGFVJ4kQ/KUPnK6VpRT/yMS2oLutFP4CwaOi4Z0Y/\",\"dtype\":\"float64\",\"shape\":[99]},\"y_twiss\":{\"__ndarray__\":\"xRGqhS6j4j6OVBo/0qDxvaf9y1BzuvG99z40rr/k8b2Q7+IOaTryvZchGash6vK9htZFiJ9n9L1iFhKgNhz2vVDOXeV0iv+92ylmpinSAb4NntLmJRoHviXgW2r6Wwi+p5Jaae9WCr5Zim9I+U4MvvLbXw9VsBC+J0mDEaycFb4ugYU5i84dviWAaZsPiCS+rQHEjMhPLL4f6SQvRPoyvjeBbRX0dTa+FOQJZuz8O76HgKABlzVAvikPWO/EnES+NdoKtLDnSL4jpBYmxjROvs5zGU4U51K+HP8Z1ZL4Vr4iEKMHM3JevrOJt2yxIWK+HvFUoa+lZr6+kvJkZpdsvgLBBVCNRHG+G0wnutOgdb7wzFfum+V6vgNykcu9foG+q1AxQUg9hL7i/tjJ4kKIvuowCRujPpC+ht2fnVq5kL58VKTsNOGTvq80qH62G5i+zF7LudfIl75aLr9FOBjWvgQ+hzDswJ6+fft2SoHBoL7lZSlyK4Shvg9ydAWboKK+FDOuRx6bo75nx9aa3KSkvtRZ/8XzuaW+9RKkAG3Wpr7G6vUDFQOovsdo3KTxOam+yiBkGPB9qr7q+aPkWM+rvojIQ4H8Lq2+oXhMaradrr4d6iaSHQ6wvvHhK5uU1bC+cQo4Q4Olsb4+7NT6JH6yvothHn6yX7O+QWVFG2NKtL6n5uy/Zz61vg+ja9b3O7a+C209mlFDt74PNpqIulS4voim73mAcLm+sO3tbveWur40SCwZcci7vucqER1ZBb2+oVXEsxhOvr5eXec07qK/voOeVXcIgsC+3lzSteA4wb66dq9tJvbBvub/9F4GusK+WSEBy6yEw77l0z7AQ1bEvmTezMn7LsW+iriEWktW0r7WqcRM4jvdvsFRtgvWIeW+glIB1Afz6774hz5K8jrxvrmzifCALvS+DCTxvE3O9r4FqLt0QSH5vswZLkBBMPu+7XAASx8F/b7yT/qFfqr+vsR8BHmjFQC/UPRaAhzJAL9Fltgr03QBv1XLSFatHQK/AWPi1kTIAr+DlFtH6XgDv7nIeZ6hMwS/\",\"dtype\":\"float64\",\"shape\":[99]},\"z\":{\"__ndarray__\":\"RDZpWPu2LL+g5Hhd2ofBvvS9G9MJqMC+3Y+0ooOMv77IMj9lacK9vq0duIln77u+xbdajKcSur5Z8EsIrDO4vtksTSYsfra+mudX7OLYtL6pq+5ShUGzvrJql2xYp7G+BmesXuj9r768q4w3/7esvsPp6HB8Uam+CcjFVii9pb6NZuQMS/qhvszb72GczZu+TfMUBVnbkr7h7RNq2dyBvpupa9MIf2E+Z4mdVSaWjT44gANjAS+dPlfaKlCVAac+Q27gynRvsD53JXv1Uza2Pn93B+UEXb0+a5sciv0Kwz4Rsu4SjGvIPn/egbZvD88+BK4XrrfP0z7vCIS8zSbZPl+dCxHG1N8+ttvG6Z4C5D5Q7hq5hkfpPjnqZmKhY+8+yF788hdK8z7RVUImipL3PtstFSuyJPw+vy1BrBiGAD+f9lehGhgDP2q96J+IuQU/QBbBkkVKCD90xAEWVYUKP1PnQ7JDgww/2oankkhPDj9lnums+AwQP7iYNMyG9RA/ttmn6KvmET+2K96pjuASP8jQTmxL5BM/uyr72HbxFD+qF6U19AgWP0XVXrgFKxc/E/SFPulXGD9McWIc2I8ZP12D7VEH0xo/c/8lKaghHD+7WRUK6HsdPwNY99/w4R4/fOEhQ/UpID8RM1dk/eggPzyHhDUjriE/eMSSGHl5Ij8F0WWbEUsjP9ARxj0AIyQ/tmplRVkBJT9OPcaZMuYlPwvpPa6j0SY/wMrq2cXDJz+sO6AHtbwoP1AS+BuPvCk/6KJcnXPDKj+CQB/ugtErPyg+kXDd5iw/NnAflaIDLj9jKz6K8ScvP49iOH30KTA/84koZdPDMD9cd0FDpGExP+GW4W91AzI/SajtY6TePD8nDrypYLtFPyDpRWpVCU8/jU5jaUosVT/p5RAlnMVbP48dOtdVnGE/tdZIsMe0ZT8UtWmpEh5qPxmSJu0sy24/F330807YcT+eJIGwUWJ0P20zvZeO/3Y/Hmxb266seT/jzooB+WZ8P3wPUpE1LH8/W2vndEv9gD97w5VcUmiCP7GhIqWV1oM/\",\"dtype\":\"float64\",\"shape\":[99]},\"z_centroid\":{\"__ndarray__\":\"RDZpWPu2LL+g5Hhd2ofBvvS9G9MJqMC+3Y+0ooOMv77IMj9lacK9vq0duIln77u+xbdajKcSur5Z8EsIrDO4vtksTSYsfra+mudX7OLYtL6pq+5ShUGzvrJql2xYp7G+BmesXuj9r768q4w3/7esvsPp6HB8Uam+CcjFVii9pb6NZuQMS/qhvszb72GczZu+TfMUBVnbkr7h7RNq2dyBvpupa9MIf2E+Z4mdVSaWjT44gANjAS+dPlfaKlCVAac+Q27gynRvsD53JXv1Uza2Pn93B+UEXb0+a5sciv0Kwz4Rsu4SjGvIPn/egbZvD88+BK4XrrfP0z7vCIS8zSbZPl+dCxHG1N8+ttvG6Z4C5D5Q7hq5hkfpPjnqZmKhY+8+yF788hdK8z7RVUImipL3PtstFSuyJPw+vy1BrBiGAD+f9lehGhgDP2q96J+IuQU/QBbBkkVKCD90xAEWVYUKP1PnQ7JDgww/2oankkhPDj9lnums+AwQP7iYNMyG9RA/ttmn6KvmET+2K96pjuASP8jQTmxL5BM/uyr72HbxFD+qF6U19AgWP0XVXrgFKxc/E/SFPulXGD9McWIc2I8ZP12D7VEH0xo/c/8lKaghHD+7WRUK6HsdPwNY99/w4R4/fOEhQ/UpID8RM1dk/eggPzyHhDUjriE/eMSSGHl5Ij8F0WWbEUsjP9ARxj0AIyQ/tmplRVkBJT9OPcaZMuYlPwvpPa6j0SY/wMrq2cXDJz+sO6AHtbwoP1AS+BuPvCk/6KJcnXPDKj+CQB/ugtErPyg+kXDd5iw/NnAflaIDLj9jKz6K8ScvP49iOH30KTA/84koZdPDMD9cd0FDpGExP+GW4W91AzI/SajtY6TePD8nDrypYLtFPyDpRWpVCU8/jU5jaUosVT/p5RAlnMVbP48dOtdVnGE/tdZIsMe0ZT8UtWmpEh5qPxmSJu0sy24/F330807YcT+eJIGwUWJ0P20zvZeO/3Y/Hmxb266seT/jzooB+WZ8P3wPUpE1LH8/W2vndEv9gD97w5VcUmiCP7GhIqWV1oM/\",\"dtype\":\"float64\",\"shape\":[99]},\"z_max\":{\"__ndarray__\":\"RDZpWPu2LD+s7U7m7BDDPl1o1LRixcU+om7gfHmRyj4v2WNpP7zQPpjBrQ5APtU+j+XfcXLQ2j4bQirNfbvgPtLoPeenn+Q+b5nwfQgT6T48scR1+RbuPiK62BKL1fE+Y0VD487n9D7hWPg7UkT4Pt+KRfqD6vs+WVUwq8Ta/z7bPM926goCPwLOALuxTQQ/cNwKPd61Bj9EiaUCfUMJP+F7iFg69gs/L1b4fsbNDj9DYGCJ5uQQP/XmMhifdBI/QG03abQVFD/N3JTtx8cVP94bmV/ViBc/E7oEhStYGT/oh2FvRDQbPwd/FjNFGx0/i7mOwNgHHz9go32fQXwgP/kiX89tdCE/h7OU8hxrIj9+G56FoFkjP7FlGN5XRSQ/A1mr1HUqJT/9gauqQgQmP4sRpqaS3yY/b4VckPa6Jz+3iPhEjZkoP+5vESoQfyk/c5GT04lzKj/PeCr5O4grPxSoP5EFtyw/XYFBdxr9LT/r3Go0WE4vPxH4w6NlVDA/G7pWgeIEMT+ZghObmLgxPxo1IjdAbzI/fS2NXPMoMz9PfO0EeOUzP3u6TTy8pDQ/zL+g365mNT/ZYsCnPys2Pzg5cQhf8jY/P5ddXP67Nz+nUCNsD4g4Pzs4TLCEVjk/GWBUGlEnOj9wGrmQZ/o6PzS58iW7zzs/wE6Cnz6nPD/7LfRf5IA9P1L7x1/uXD4/3tKQsNI7Pz8bcpZPWw5AP6ljyXPEf0A/+krvfRvyQD/jNSp3VmVBPx3zrsNq2UE/IvJBPk1OQj/korFp8sNCP0CVStlOOkM/L9lbClexQz9+vjCb/yhEP/P0ky89oUQ/QuxOdgQaRT8ElCg0SpNFP7n7ZT4DDUY/er6XYMfvTD+//1Jn7thRP6YdwFuOAlU/mgs661zbVz8bY5IO6VBaP1R58TRPZFw/wE4b4e4dXj9C70ZMdIlfP19+GR91WmA/45JfFkXVYD/7rQF46TlhP4tEZLmljGE/Kj7sa/fQYT9Pc7mcrgliP5K1JXIKOWI/EppvSNRgYj9WmASId4JiPw4PxUsVn2I/\",\"dtype\":\"float64\",\"shape\":[99]},\"z_moment3\":{\"__ndarray__\":\"LoFyXIh8UD+epG5FoUuwPoTgSc2zVbA+nKm9Y9d5sD5KUVo6tdawPhNEKdZUnLE+Ap7g0hoFsz6l3ZJA3kK1PlTiNp6Kgbg+9K5ac4bgvD5hFZ/Y3TDBPk6Ji+HTfMQ+NDtctG5OyD591jHOkLXMPom+lYVj2NA+WQTBjlak0z7qwl6ocsnWPletzbCTSdo+OnWJDzUs3j6rlQrHsTzhPid3U4Z7nuM+1bPR0kdB5j7zQ7yzSibpPvzTavg0Zew+t37ux+z67z78RIjGavTxPh8ELBduL/Q+cAcNKYCp9j7YpIbuBWr5PuriRBomdPw+/beC80Dg/z6Sr7iwYM8BP8Kjo5332AM/xmlMdP4GBj++GThZW2YIP4tUHLOX0wo/Of3JwD9TDT/5rxvVU+YPP4XZSal5NxE/rxQunRx6Ej96DzYg17oTP8hNtirw+RQ/xGV5PMQ2Fj/AI6r7F28XP04wUozrpxg/sr0naVbjGT8d2WUq6SQbPxk9X5wfbRw/+aUMtYa8HT+rOYkjAxMfP6P9ClZJOCA/QJK23YXqID+NYmx9MaAhPwQBsOQ+WSI/sv7myqEVIz8Za1YFT9UjP0lUJXE8mCQ/JMdhx2BeJT87T/6ysycmP0n323gt9CY/9kjFI8fDJz/szYS+eZYoPxAQ6ic+bCk/KRnCVA1FKj+KdPob3yArP18ukrqq/ys/elSrOWbhLD+6dpIsBsYtP5gny0J9rS4/t/sFoLyXLz+WBR51WUIwP1a4znEmujA/uGRHwDozMT9ams8fi60xP+oosEQMKTI/VOA2t7KlMj+xULXeciMzPziKfwxBojM/Px3sexEiND86GlRS2KI0P74RE5+JJDU/4BcT/daoPD9Wwyf3OypCPx1sdeaT1kU/vuN4rlAvST93XlNA3h5MPxn7kmHtn04/i/H8PwZcUD/rD3Q7UjlRP8N+B7Ki7lE/q/g97LCCUj9ITSEykftSP8PDP2J3XlM/sMLRQLGvUz+yEtKeu/JTP5eUD4ZgKlQ/oZSDb9dYVD+XIgwK4n9UP8Rvo7XkoFQ/\",\"dtype\":\"float64\",\"shape\":[99]},\"z_moment4\":{\"__ndarray__\":\"FYfs04F3Rj/xILFkH+SxPiwMiWju9bE+CtJzOrQ6sj5sintB2vuyPr2LeeOXr7Q+mpX3RALEtz5Hjr9N2Fy8Pi9oLcFKPsE+Hn58jq8DxT6LFZGbOnjJPvSKml8Ul84+AyvivI8v0j7bTMMTHnTVPsZt0o9SGdk+BWY95+Ak3T4AcxuHr9HgPgUq6aZdS+M+tqYmPIID5j7o9JIiUf7oPj85PlLpQew+LgIWLBbU7z6Xpnb1yNrxPunNtCdR//M+zltxKmlV9j4mrmECPN34PoYLTaFcrvs+PD+bWFDC/j4xGEA3dg8BPxKFyd6u4gI/+BDZ+hLlBD9qcxpSeQ0HP46TeZ3xWgk/LdBsZgPGCz+JEVHYGFYOP6GopDGddRA/wi4n8WvDET8+iBKS8BITP+SJ9I2QWhQ/VDllR3OdFT8eeYh159wWP0Y+DtMLGxg/Dkcy9d5aGT/wTGK0eaEaP7c7D8M48Rs/UT/dqf5KHT/jZNAbUa0eP8wKwyryCyA/mwUbQRnFID9otF8wEYIhP5q6d3XAQiI/1h8DkSEHIz98Bb51HM8jP2EBcmuhmiQ/BSjNq6FpJT9BjFqkDzwmP5y/ibTeESc/a1KxFwPrJz+1Uwz7cccoP6pRxCUhpyk/xdnz4gaKKj9f+bKTGXArP7U9F69PWSw/uzRFKJ9FLT/87G2E/TQuP7F25RRfJy8/kjGLslsOMD8P408ZfIowP6tapO0ICDE/rSSKVvmGMT+9jh9+QwcyP+Gnn5HciDI/bwBhzLgLMz9zKcnly48zPzq0QmkJFTQ/KrI6zGSbND+8dB950SI1P4fNYcRCqzU/QA517Ks0Nj99CMpFAL82PzEO2eIySjc/WJZskXFPPz+wSPKI47VDPxWVKWGtkUc/sqeIfJkRSz8B39QnTyFOP5QY2hBkXlA/sQB5+VV1UT+GUK8holtSP2WCcr9pGFM/lr1mpq2yUz+PQQTjuzBUP73z9q33l1Q/maSIxdXsVD8/cSNV8jJVP5L2JEcxbVU/UqMbV9+dVT/ez3oPz8ZVP/o5I+Fy6VU/\",\"dtype\":\"float64\",\"shape\":[99]},\"z_normemit\":{\"__ndarray__\":\"AAAAAAAAAADpRi5Y7MDUPQY693R+o/A9PO4i1ZLR/z0fwZ/tycwIPhfKhxD2QBE+QHp8s0R4Fj6YDT8MHJEcPsqM/q0sRyE+8y4h4k0zJD4Zls04YgsnPquUKBAf2Sk+JuiOwYP4LD4R6t/XCw4wPkrVuTD/2zE+gpwNeI7MMz4soXo+H9M1PiZGin4sPTg+TCIZmvEEOz6w9gaOQDA+PjtR3uwhDUE+PtMnxc5jQz5Qg6utH4VGPuDPlzNXB0o+UIKlAK67Tj5F3iJ0mIZSPpDXsIzYL1Y+xPWOqiUlWz55K7ItUNlgPpLC0tKvCGU+UbPl0Zlvaj4TcuaQ2dRwPht/iGhhVnU++7o92Q5Iez5k0tccpFyBPkeurr+N6YU+bf31Qmt4iz5nXjA+JguRPsvTj5Z3upQ+qFxr1iPMmD6yi1ZQpC2dPmieddED26A+oTR7wy4coz7tCS1JYj2lPs29vjyDP6c+A5g3DFkyqT6oZf7JIC6rPim+ZRsqN60+ss5guGxQrz7VoZMkX72wPsSxnre727E+bv8BM6YDsz4eYro8RjW0Pt4Cmz0FcrU+HrHthpS7tj47Ny243BO4Pr5haQDbfLk+0IdE94/4uj644aTy9Ii8Pr2leVj9L74+W3elxnLvvz6SfnHOcOTAPooIq+fU3sE+mTw++Xfnwj70aGaVvP7DPkXXlo/NJMU+reMpzpRZxj4H3Eu4vJzHPrY1l/mm7cg+VrcXVjhLyj7WcxmYHrTLPszWLm8RJ80+9Ae+56Cizj7l+qeaEBPQPlMiYQqZ2NA+ZkmfEa2h0T769qIKCW7SPpuDEm1ePdM+fgJL/FwP1D5SzaQfxOPUPisv351HutU+PHVyRoz74D4H4Yh7IXHmPpyDHP/q1uo++/yEUBuD7j47jqi8PtnwPh60Ds2mRfI+x4N8c7Cc8z7f+hIzAOb0PlkHU2U0IfY+8ZfYBO1O9z4cGqkpJ3D4Pnr6sf9Mhfk+f3cSa1aO+j5FPNaUgIv7Pj/DDLIrffw+E8pJU9Fj/T6AxBFk+z/+Pp2ZYF5PEv8+\",\"dtype\":\"float64\",\"shape\":[99]},\"z_rms\":{\"__ndarray__\":\"fsvsUGXBYT9rqjHwF7KsPs3Hp4Hju6w+rbQjhZvcrD5oPrgl6iitPk3EUxJXu60+RK1FXj2vrj5Jd+T+TAqwPlJe/+h997A+7XP5qgJKsj4sLnj9gB20PgtAHFCFiLY+pFS9WsCUuT5sHIXmVle9PjQZa3ha68A+zi4rAKWPwz50BOfpB6fGPpa8/p4aNco+1WExgihFzj4Hx4ai+nHRPkImKAl2EtQ+uNsXf0YO1z6iumhZ62jaPssWe6X1St4+6XVAHahZ4T5dVFIiF9TjPubdpsCIweY+nYR0V38e6j6D1+GQhP7tPoblx1aoN/E+ZILK3VLW8z5Wr5E0GdP2Pj4m0FyyOPo+hZ1O99sC/j7DFnW9BC8BPzL2i0wafQM/6U5OEDL0BT+JjM9+MJoIP7eGq9d9PQs/484U3HbkDT/MtBHRO0QQP6If18gLkhE//6yJHy7WEj/RKGuLZgUUP/tYnshOKRU/6MCXABJGFj/0ZsvK+GUXPw5JnuqHihg/UDe37a61GT9pXJUTT+caP0nN8gujHxw/L2KJ0lheHT9r63DDkqMeP4KHKeE67x8/TKkAc56gID+BMvulw0whP1dqaiIF/CE/WloWCVyuIj/gCq5WwmMjP1CDzLcyHCQ/Gsr4iKjXJD+u5bkmH5YlP11clAOSVyY/EzUZJPwbJz+ud+3cV+MnPz4tz6aerSg/f2Cfxsh6KT9vnm7fzEoqPxX2dx6gHSs/cvk0izXzKz/BvWLbfcssP9la9eBnpi0/kGsfSOCDLj8njDG10mMvP82sRSQVIzA/rjhL5WiVMD+d+OHg2QgxP4R7QlpdfTE/sxCuR+jyMT9/B2afb2kyP1gvrkHo4DI/KLqfLKTXOT92GpS034BAP9Oo72ju80M/dXiWLhMbRz+tQ8RTQuBJP+cLtlJyPUw/dtMvQ2c3Tj90+DuswthPP4+lbKksl1A/7KYBdHkiUT9P+YcZEJRRP6defRTj8FE/TOrj3Ag9Uj/SRHMz0HtSP1hjw3Hdr1I/6JzOP0nbUj+1A8V+vP9SP+xEaXqHHlM/\",\"dtype\":\"float64\",\"shape\":[99]},\"z_twiss\":{\"__ndarray__\":\"9YvFzkR2Br8vcti81q2cvR+2xYEnM8O9hHBihgl62r2a3T13DELsvQt/kICozvm9eEHaCEzyBL5DzFNTpiIPvjq1il19Nxe+D03LDgQLIb4HtdhOu4Qovg3WKqJyOTG+iD66OKuYN75jm924gvA/vhL21oRDSkW+0ypALeIMTL5AdVr3pVhSvpDJq7KdyFe+qhGi+labXr7Q/P+napJjvmj35E+G62i+reCQyf2eb7408K1HK/ZzvlP9OPRjSXm+WQ+BDKX6f75bddK64SaEvmj2YYB1oYm+VsIgI7pSkL5DL+/o2tWUvmVu9S2Fm5q+A9QtrrIfob6fK+7ehgGmvohEpxeiNay+cds0GpH3sb6L3NIbpum2vgsiHoADr7y+En9rUWK5wb6tWZzaOK3FvrUEv+zo5Mm+YcPqvqpkzr4FpCnKYozRvthonqLc9dO+4C8CMzVe1r4C0ukPk6jYvkuANdF/5Nq+h6uFwOIa3b6t73FTh2Pfvsdjg+pJ4eC+No60CIMe4r5rZPgBmmnjvt2Mltwnw+S+qYhY+REr5r4de/TvtKHnvrXyHYdiJ+m+ltbOana86r5vnLI/VGHsviwbb2BjFu6+B4qQjQ/c7743wdjGY9nwvttPymN8zfG+XBAzvoTK8r5KkLFlqtDzvrtmrAoU4PS+P5zYZOD49b6v4biWIxv3vh8rUzfmRvi+wEv6qyN8+b7V9mF4ybr6vhkoL821Avy+zMZXurBT/b5fMZg3dq3+vs+XqA3gBwC/6slfViC9AL/tNQKHZHYBvyVbALCaMwK/xIfDXq/0Ar/lC93AjbkDv4bTp10fggS/j8ymXExOBb8ySqyv/R0Gv/Cj5DAZ8Qa/wvYRLVfzEb/BL9OUfvwYv0C61aSP4x+/ZTddVQkdI79MmDKiOOUlvwSXBw5tQyi/uuHaP5A8Kr8bLWkgktorv0Pwc8X/KC2/tMjhm0ozLr8v0/37zwMvv/JGL1Jpoy+/EIVSt64MML8EwbZwwTUwvw0mUpY5TzC/Cfkds+BaML/p0R9dFlowv7N834rmTTC/\",\"dtype\":\"float64\",\"shape\":[99]}},\"selected\":{\"id\":\"1156\",\"type\":\"Selection\"},\"selection_policy\":{\"id\":\"1155\",\"type\":\"UnionRenderers\"}},\"id\":\"1001\",\"type\":\"ColumnDataSource\"},{\"attributes\":{\"ticker\":{\"id\":\"1341\",\"type\":\"BasicTicker\"}},\"id\":\"1344\",\"type\":\"Grid\"},{\"attributes\":{},\"id\":\"1398\",\"type\":\"BasicTickFormatter\"},{\"attributes\":{\"axis_label\":\"x_rms (m)\",\"formatter\":{\"id\":\"1398\",\"type\":\"BasicTickFormatter\"},\"ticker\":{\"id\":\"1346\",\"type\":\"BasicTicker\"}},\"id\":\"1345\",\"type\":\"LinearAxis\"},{\"attributes\":{},\"id\":\"1400\",\"type\":\"BasicTickFormatter\"},{\"attributes\":{},\"id\":\"1346\",\"type\":\"BasicTicker\"},{\"attributes\":{\"dimension\":1,\"ticker\":{\"id\":\"1346\",\"type\":\"BasicTicker\"}},\"id\":\"1349\",\"type\":\"Grid\"}],\"root_ids\":[\"1331\"]},\"title\":\"Bokeh Application\",\"version\":\"1.2.0\"}};\n",
       "  var render_items = [{\"docid\":\"e3f69534-765d-4908-a67a-5f1900fcec81\",\"roots\":{\"1331\":\"8d866f02-b9f1-4dcb-a196-50e80bc6419e\"}}];\n",
       "  root.Bokeh.embed.embed_items_notebook(docs_json, render_items);\n",
       "\n",
       "  }\n",
       "  if (root.Bokeh !== undefined) {\n",
       "    embed_document(root);\n",
       "  } else {\n",
       "    var attempts = 0;\n",
       "    var timer = setInterval(function(root) {\n",
       "      if (root.Bokeh !== undefined) {\n",
       "        embed_document(root);\n",
       "        clearInterval(timer);\n",
       "      }\n",
       "      attempts++;\n",
       "      if (attempts > 100) {\n",
       "        console.log(\"Bokeh: ERROR: Unable to run BokehJS code because BokehJS library is missing\");\n",
       "        clearInterval(timer);\n",
       "      }\n",
       "    }, 10, root)\n",
       "  }\n",
       "})(window);"
      ],
      "application/vnd.bokehjs_exec.v0+json": ""
     },
     "metadata": {
      "application/vnd.bokehjs_exec.v0+json": {
       "id": "1331"
      }
     },
     "output_type": "display_data"
    }
   ],
   "source": [
    "def plot1(y_axis, x_axis='z', source=ds):\n",
    "    yunit = UNITS[y_axis]\n",
    "    ylabel = y_axis+' ('+yunit+')'\n",
    "    \n",
    "    xunit = UNITS[x_axis]\n",
    "    xlabel = x_axis+' ('+xunit+')'\n",
    "    p = figure(plot_width=600, plot_height=200, x_axis_label=xlabel, y_axis_label=ylabel)\n",
    "    p.line( x_axis, y_axis, source=source, color='red')\n",
    "    return p\n",
    "show(plot1('x_rms'))"
   ]
  },
  {
   "cell_type": "code",
   "execution_count": null,
   "metadata": {},
   "outputs": [],
   "source": []
  },
  {
   "cell_type": "code",
   "execution_count": null,
   "metadata": {},
   "outputs": [],
   "source": []
  }
 ],
 "metadata": {
  "kernelspec": {
   "display_name": "Python 3",
   "language": "python",
   "name": "python3"
  },
  "language_info": {
   "codemirror_mode": {
    "name": "ipython",
    "version": 3
   },
   "file_extension": ".py",
   "mimetype": "text/x-python",
   "name": "python",
   "nbconvert_exporter": "python",
   "pygments_lexer": "ipython3",
   "version": "3.7.3"
  }
 },
 "nbformat": 4,
 "nbformat_minor": 2
}
