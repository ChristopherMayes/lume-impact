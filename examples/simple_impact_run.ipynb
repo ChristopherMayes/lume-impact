{
 "cells": [
  {
   "cell_type": "code",
   "execution_count": 1,
   "metadata": {},
   "outputs": [],
   "source": [
    "# Useful for debugging\n",
    "%load_ext autoreload\n",
    "%autoreload 2"
   ]
  },
  {
   "cell_type": "markdown",
   "metadata": {},
   "source": [
    "# Simple Impact-T Run"
   ]
  },
  {
   "cell_type": "code",
   "execution_count": 2,
   "metadata": {},
   "outputs": [],
   "source": [
    "from impact import Impact"
   ]
  },
  {
   "cell_type": "code",
   "execution_count": 3,
   "metadata": {},
   "outputs": [],
   "source": [
    "ipath = '../templates/lcls_injector/'\n",
    "ifile = '../templates/lcls_injector/ImpactT.in'"
   ]
  },
  {
   "cell_type": "code",
   "execution_count": 4,
   "metadata": {},
   "outputs": [
    {
     "name": "stdout",
     "output_type": "stream",
     "text": [
      "================ Impact-T Summary ================\n",
      "1 bunchtotal charge: 249.99999999999997 pC\n",
      "Distribution type: read\n",
      "Cathode start at z = 0 m\n",
      "   emission time: 1.4e-11 s\n",
      "   image charges neglected after z = 0.02 m\n",
      "Tracking 300004 particles\n",
      "Processor domain: 1 x 1 = 1 CPUs\n",
      "Computational domain: 0.015 m x 0.015 m x 45.0 m\n",
      "Space charge grid: 64 x 64 x 128\n",
      "Maximum time steps: 1000000\n",
      "Random Seed: 6\n",
      "Reference Frequency: 2856000000.0 Hz\n",
      "Initial reference time: 0.0 s\n",
      "Simulation starting from the beginning\n",
      "==================================================\n",
      "\n",
      "\n",
      "Configured to run in: /var/folders/wj/lfgr01993dx79p9cm_skykbw0000gn/T/temp_impactT_rdac8bh_\n"
     ]
    }
   ],
   "source": [
    "I = Impact(ifile, verbose=True)"
   ]
  },
  {
   "cell_type": "code",
   "execution_count": 5,
   "metadata": {},
   "outputs": [],
   "source": [
    "# Change some things\n",
    "I.input['header']['Np'] = 10000\n",
    "I.input['header']['Nx'] = 16\n",
    "I.input['header']['Ny'] = 16\n",
    "I.input['header']['Nz'] = 16\n",
    "I.input['header']['Dt'] = 5e-13\n",
    "\n",
    "# Other switches\n",
    "#I.timeout = 1000\n",
    "# Switches for MPI\n",
    "#I.use_mpi=True\n",
    "#I.input['header']['Npcol'] = 4\n",
    "#I.impact_bin = '$IMPACTT_MPI_BIN'"
   ]
  },
  {
   "cell_type": "code",
   "execution_count": 6,
   "metadata": {},
   "outputs": [],
   "source": [
    "# Change stop location\n",
    "I.ele['stop_1']['s'] = 0.01"
   ]
  },
  {
   "cell_type": "code",
   "execution_count": 7,
   "metadata": {},
   "outputs": [
    {
     "name": "stdout",
     "output_type": "stream",
     "text": [
      " !-----------------------------------------------------------\n",
      " ! IMPACT-T Parallel Beam Dynamics Tracking Code: 2.0 beta version\n",
      " ! Copyright of The Regents of the University of California\n",
      " !-----------------------------------------------------------\n",
      " nblem:           12          12\n",
      " pass setting up lattice...\n",
      " check randomness:            0  0.79479214134216858     \n",
      " avgpts, jlow, and jhigh:        10000           1       10000\n",
      " sumx1,sumy1:   -5.4939962563109905E-007   2.0393899752935867E-007\n",
      " pass generating initial distribution...\n",
      " tstop:    1.0000000000000000E-002\n",
      " i,t,<z>:            1   0.0000000000000000        0.0000000000000000     \n",
      " zmin,zmax:    0.0000000000000000       -4.6605732999999992E-009\n",
      " i,t,<z>:            2   3.5000000000000002E-014  -1.5992701435778295E-006\n",
      " time:    0.0000000000000000, elapsed: 14.70598316192627Finished.\n",
      "Loaded fort 30 : Fourth root of the fourth moments of the beam distribution\n",
      "Loaded fort 25 : RMS Y information\n",
      "Loaded fort 24 : RMS X information\n",
      "Loaded fort 26 : RMS Z information\n",
      "Loaded fort 28 : Load balance and loss diagnostics\n",
      "Loaded fort 29 : Cube root of third moments of the beam distribution\n",
      "Loaded fort 18 : Time and energy\n",
      "Loaded fort 27 : Max amplitude information\n",
      "Loaded fort 70 : Slice information of the final distribution\n",
      "Loaded fort 60 : Slice information of the initial distribution\n",
      "Loaded fort 40 : initial particle distribution at t = 0\n",
      "Loaded fort 50 : final particle distribution projected to the centroid location of the bunch\n"
     ]
    }
   ],
   "source": [
    "I.run()"
   ]
  },
  {
   "cell_type": "code",
   "execution_count": 8,
   "metadata": {},
   "outputs": [
    {
     "data": {
      "text/plain": [
       "{'final_particle_slices': {'slice_z': array([-1.003707e-03, -8.698797e-04, -7.360520e-04, -6.022244e-04,\n",
       "         -4.683968e-04, -3.345691e-04, -2.007415e-04, -6.691382e-05,\n",
       "          6.691382e-05,  2.007415e-04,  3.345691e-04,  4.683968e-04,\n",
       "          6.022244e-04,  7.360520e-04,  8.698797e-04,  1.003707e-03]),\n",
       "  'particles_per_cell': array([  15.09798,  104.1897 ,  279.1399 ,  460.3092 ,  689.1653 ,\n",
       "          810.7937 ,  933.5946 , 1010.446  , 1079.684  , 1047.537  ,\n",
       "          994.0229 ,  914.4332 ,  745.5814 ,  549.2775 ,  309.4863 ,\n",
       "           57.24015]),\n",
       "  'current': array([ 0.8455378,  5.834975 , 15.63278  , 25.77887  , 38.59558  ,\n",
       "         45.40718  , 52.28445  , 56.58841  , 60.46597  , 58.66563  ,\n",
       "         55.66864  , 51.21135  , 41.75508  , 30.7614   , 17.33228  ,\n",
       "          3.205642 ]),\n",
       "  'x_emittance': array([1.121006e-07, 2.288819e-07, 4.538176e-07, 7.762383e-07,\n",
       "         1.077029e-06, 1.176077e-06, 1.189026e-06, 1.034459e-06,\n",
       "         9.264625e-07, 8.422841e-07, 7.734281e-07, 8.595749e-07,\n",
       "         8.862107e-07, 8.258625e-07, 7.554506e-07, 4.044018e-07]),\n",
       "  'y_emittance': array([1.014761e-07, 2.185546e-07, 4.792603e-07, 7.406943e-07,\n",
       "         1.125169e-06, 1.212848e-06, 1.149823e-06, 9.909198e-07,\n",
       "         8.426701e-07, 8.304696e-07, 8.529439e-07, 8.660919e-07,\n",
       "         8.932714e-07, 8.613854e-07, 8.082342e-07, 3.813203e-07]),\n",
       "  'energy_spread': array([1376836., 1383321., 1393671., 1404590., 1417170., 1429867.,\n",
       "         1443160., 1456578., 1470031., 1483602., 1497390., 1510464.,\n",
       "         1523292., 1535214., 1544928., 1551969.]),\n",
       "  'uncorreleted_energy_spread': array([3468.637 , 2456.654 , 2127.956 , 1765.356 , 1456.169 , 1051.189 ,\n",
       "          789.6907,  554.7851,  260.564 ,  361.8251,  854.6908, 1485.111 ,\n",
       "         2145.385 , 2802.807 , 3608.787 , 4495.807 ])},\n",
       " 'initial_particle_slices': {'slice_z': array([-1.589851e-06, -1.377871e-06, -1.165891e-06, -9.539105e-07,\n",
       "         -7.419304e-07, -5.299503e-07, -3.179702e-07, -1.059901e-07,\n",
       "          1.059901e-07,  3.179702e-07,  5.299503e-07,  7.419304e-07,\n",
       "          9.539105e-07,  1.165891e-06,  1.377871e-06,  1.589851e-06]),\n",
       "  'particles_per_cell': array([  39.20514,  134.8913 ,  248.5013 ,  435.3281 ,  683.1498 ,\n",
       "          989.2044 , 1183.179  , 1307.85   , 1343.978  , 1207.622  ,\n",
       "          932.1965 ,  638.0892 ,  421.3525 ,  250.8591 ,  143.4344 ,\n",
       "           41.15943]),\n",
       "  'current': array([ 1386.143,  4769.237,  8786.047, 15391.52 , 24153.55 , 34974.46 ,\n",
       "         41832.64 , 46240.54 , 47517.89 , 42696.86 , 32958.87 , 22560.37 ,\n",
       "         14897.4  ,  8869.409,  5071.288,  1455.239]),\n",
       "  'x_emittance': array([2.530987e-07, 2.461602e-07, 2.449445e-07, 2.418594e-07,\n",
       "         2.443625e-07, 2.433310e-07, 2.454563e-07, 2.549853e-07,\n",
       "         2.389547e-07, 2.336124e-07, 2.450192e-07, 2.485572e-07,\n",
       "         2.394033e-07, 2.305727e-07, 2.226468e-07, 2.735243e-07]),\n",
       "  'y_emittance': array([2.764060e-07, 2.631289e-07, 2.314649e-07, 2.448920e-07,\n",
       "         2.396820e-07, 2.382871e-07, 2.497577e-07, 2.441164e-07,\n",
       "         2.439911e-07, 2.468228e-07, 2.361687e-07, 2.366777e-07,\n",
       "         2.440814e-07, 2.461965e-07, 2.684155e-07, 2.562688e-07]),\n",
       "  'energy_spread': array([511006.5, 511006.5, 511006.4, 511006.4, 511006.4, 511006.4,\n",
       "         511006.4, 511006.4, 511006.4, 511006.4, 511006.4, 511006.4,\n",
       "         511006.4, 511006.4, 511006.4, 511006.4]),\n",
       "  'uncorreleted_energy_spread': array([0.4090398, 0.4381169, 0.3802593, 0.4192789, 0.4104562, 0.4071823,\n",
       "         0.4220931, 0.4140786, 0.4141615, 0.397641 , 0.3927271, 0.4154996,\n",
       "         0.3867473, 0.3862785, 0.3928448, 0.3774833])}}"
      ]
     },
     "execution_count": 8,
     "metadata": {},
     "output_type": "execute_result"
    }
   ],
   "source": [
    "I.output['slice_info']"
   ]
  },
  {
   "cell_type": "code",
   "execution_count": 9,
   "metadata": {},
   "outputs": [
    {
     "data": {
      "text/plain": [
       "{'initial_particles': array([( 4.3611631e-04,  1.2615826e-03,  3.2937175e-04, -5.7131252e-04, -2.7340319e-06, 0.001978),\n",
       "        ( 4.0614893e-04,  1.0219854e-03,  3.8438809e-04,  7.9314477e-04, -1.7480634e-06, 0.001978),\n",
       "        (-4.6228725e-06, -9.2105950e-05, -1.0653409e-04, -3.6416778e-05, -2.1070141e-06, 0.001978),\n",
       "        ...,\n",
       "        ( 1.9058713e-04, -1.3542358e-03,  6.4437180e-06, -9.8451886e-06, -2.3828392e-06, 0.001978),\n",
       "        (-3.7396643e-04,  1.4488924e-03, -2.0164375e-04,  8.9741137e-04, -1.9571324e-06, 0.001978),\n",
       "        (-3.8447387e-04, -1.3964400e-04,  1.0404854e-04, -4.2386647e-04, -1.3655324e-06, 0.001978)],\n",
       "       dtype=[('x', '<f8'), ('GBx', '<f8'), ('y', '<f8'), ('GBy', '<f8'), ('z', '<f8'), ('GBz', '<f8')]),\n",
       " 'final_particles': array([( 6.69001626e-04,  0.03240919,  4.86533946e-04,  0.0228866 , 0.00964335, 2.61604482),\n",
       "        ( 6.57233889e-04,  0.03570271,  6.21829922e-04,  0.03425522, 0.01011486, 2.70979333),\n",
       "        (-1.01678010e-05, -0.00063773, -2.21042567e-04, -0.01558033, 0.00940586, 2.55955969),\n",
       "        ...,\n",
       "        ( 3.48830113e-04,  0.02247261,  1.29743877e-05,  0.00102412, 0.00932669, 2.54526564),\n",
       "        (-6.35199591e-04, -0.038137  , -3.40975419e-04, -0.02071962, 0.00982937, 2.64875839),\n",
       "        (-6.47097958e-04, -0.03871603,  1.67493476e-04,  0.00937705, 0.01026879, 2.74338156)],\n",
       "       dtype=[('x', '<f8'), ('GBx', '<f8'), ('y', '<f8'), ('GBy', '<f8'), ('z', '<f8'), ('GBz', '<f8')])}"
      ]
     },
     "execution_count": 9,
     "metadata": {},
     "output_type": "execute_result"
    }
   ],
   "source": [
    "I.particles"
   ]
  },
  {
   "cell_type": "code",
   "execution_count": 11,
   "metadata": {},
   "outputs": [
    {
     "data": {
      "text/plain": [
       "dict_keys(['t', 'z', 'x_moment4', 'GBx_moment4', 'y_moment4', 'GBy_moment4', 'z_moment4', 'GBz_moment4', 'y_centroid', 'y_rms', 'GBy_centroid', 'GBy_rms', 'y_twiss', 'y_normemit', 'x_centroid', 'x_rms', 'GBx_centroid', 'GBx_rms', 'x_twiss', 'x_normemit', 'z_centroid', 'z_rms', 'GBz_centroid', 'GBz_rms', 'z_twiss', 'z_normemit', 'numparticles_min', 'numparticles_max', 'numparticles', 'x_moment3', 'GBx_moment3', 'y_moment3', 'GBy_moment3', 'z_moment3', 'GBz_moment3', 'gamma', 'E_kinetic', 'beta', 'r_max', 'deltaGamma_rms', 'x_max', 'GBx_max', 'y_max', 'GBy_max', 'z_max', 'GBz_max'])"
      ]
     },
     "execution_count": 11,
     "metadata": {},
     "output_type": "execute_result"
    }
   ],
   "source": [
    "I.output['stats'].keys()"
   ]
  },
  {
   "cell_type": "code",
   "execution_count": 13,
   "metadata": {},
   "outputs": [
    {
     "data": {
      "text/plain": [
       "{'final_particle_slices': {'slice_z': array([-1.003707e-03, -8.698797e-04, -7.360520e-04, -6.022244e-04,\n",
       "         -4.683968e-04, -3.345691e-04, -2.007415e-04, -6.691382e-05,\n",
       "          6.691382e-05,  2.007415e-04,  3.345691e-04,  4.683968e-04,\n",
       "          6.022244e-04,  7.360520e-04,  8.698797e-04,  1.003707e-03]),\n",
       "  'particles_per_cell': array([  15.09798,  104.1897 ,  279.1399 ,  460.3092 ,  689.1653 ,\n",
       "          810.7937 ,  933.5946 , 1010.446  , 1079.684  , 1047.537  ,\n",
       "          994.0229 ,  914.4332 ,  745.5814 ,  549.2775 ,  309.4863 ,\n",
       "           57.24015]),\n",
       "  'current': array([ 0.8455378,  5.834975 , 15.63278  , 25.77887  , 38.59558  ,\n",
       "         45.40718  , 52.28445  , 56.58841  , 60.46597  , 58.66563  ,\n",
       "         55.66864  , 51.21135  , 41.75508  , 30.7614   , 17.33228  ,\n",
       "          3.205642 ]),\n",
       "  'x_emittance': array([1.121006e-07, 2.288819e-07, 4.538176e-07, 7.762383e-07,\n",
       "         1.077029e-06, 1.176077e-06, 1.189026e-06, 1.034459e-06,\n",
       "         9.264625e-07, 8.422841e-07, 7.734281e-07, 8.595749e-07,\n",
       "         8.862107e-07, 8.258625e-07, 7.554506e-07, 4.044018e-07]),\n",
       "  'y_emittance': array([1.014761e-07, 2.185546e-07, 4.792603e-07, 7.406943e-07,\n",
       "         1.125169e-06, 1.212848e-06, 1.149823e-06, 9.909198e-07,\n",
       "         8.426701e-07, 8.304696e-07, 8.529439e-07, 8.660919e-07,\n",
       "         8.932714e-07, 8.613854e-07, 8.082342e-07, 3.813203e-07]),\n",
       "  'energy_spread': array([1376836., 1383321., 1393671., 1404590., 1417170., 1429867.,\n",
       "         1443160., 1456578., 1470031., 1483602., 1497390., 1510464.,\n",
       "         1523292., 1535214., 1544928., 1551969.]),\n",
       "  'uncorreleted_energy_spread': array([3468.637 , 2456.654 , 2127.956 , 1765.356 , 1456.169 , 1051.189 ,\n",
       "          789.6907,  554.7851,  260.564 ,  361.8251,  854.6908, 1485.111 ,\n",
       "         2145.385 , 2802.807 , 3608.787 , 4495.807 ])},\n",
       " 'initial_particle_slices': {'slice_z': array([-1.589851e-06, -1.377871e-06, -1.165891e-06, -9.539105e-07,\n",
       "         -7.419304e-07, -5.299503e-07, -3.179702e-07, -1.059901e-07,\n",
       "          1.059901e-07,  3.179702e-07,  5.299503e-07,  7.419304e-07,\n",
       "          9.539105e-07,  1.165891e-06,  1.377871e-06,  1.589851e-06]),\n",
       "  'particles_per_cell': array([  39.20514,  134.8913 ,  248.5013 ,  435.3281 ,  683.1498 ,\n",
       "          989.2044 , 1183.179  , 1307.85   , 1343.978  , 1207.622  ,\n",
       "          932.1965 ,  638.0892 ,  421.3525 ,  250.8591 ,  143.4344 ,\n",
       "           41.15943]),\n",
       "  'current': array([ 1386.143,  4769.237,  8786.047, 15391.52 , 24153.55 , 34974.46 ,\n",
       "         41832.64 , 46240.54 , 47517.89 , 42696.86 , 32958.87 , 22560.37 ,\n",
       "         14897.4  ,  8869.409,  5071.288,  1455.239]),\n",
       "  'x_emittance': array([2.530987e-07, 2.461602e-07, 2.449445e-07, 2.418594e-07,\n",
       "         2.443625e-07, 2.433310e-07, 2.454563e-07, 2.549853e-07,\n",
       "         2.389547e-07, 2.336124e-07, 2.450192e-07, 2.485572e-07,\n",
       "         2.394033e-07, 2.305727e-07, 2.226468e-07, 2.735243e-07]),\n",
       "  'y_emittance': array([2.764060e-07, 2.631289e-07, 2.314649e-07, 2.448920e-07,\n",
       "         2.396820e-07, 2.382871e-07, 2.497577e-07, 2.441164e-07,\n",
       "         2.439911e-07, 2.468228e-07, 2.361687e-07, 2.366777e-07,\n",
       "         2.440814e-07, 2.461965e-07, 2.684155e-07, 2.562688e-07]),\n",
       "  'energy_spread': array([511006.5, 511006.5, 511006.4, 511006.4, 511006.4, 511006.4,\n",
       "         511006.4, 511006.4, 511006.4, 511006.4, 511006.4, 511006.4,\n",
       "         511006.4, 511006.4, 511006.4, 511006.4]),\n",
       "  'uncorreleted_energy_spread': array([0.4090398, 0.4381169, 0.3802593, 0.4192789, 0.4104562, 0.4071823,\n",
       "         0.4220931, 0.4140786, 0.4141615, 0.397641 , 0.3927271, 0.4154996,\n",
       "         0.3867473, 0.3862785, 0.3928448, 0.3774833])}}"
      ]
     },
     "execution_count": 13,
     "metadata": {},
     "output_type": "execute_result"
    }
   ],
   "source": [
    "I.output['slice_info']"
   ]
  },
  {
   "cell_type": "markdown",
   "metadata": {},
   "source": [
    "# Plot"
   ]
  },
  {
   "cell_type": "code",
   "execution_count": 14,
   "metadata": {},
   "outputs": [
    {
     "data": {
      "application/javascript": [
       "\n",
       "(function(root) {\n",
       "  function now() {\n",
       "    return new Date();\n",
       "  }\n",
       "\n",
       "  var force = true;\n",
       "\n",
       "  if (typeof root._bokeh_onload_callbacks === \"undefined\" || force === true) {\n",
       "    root._bokeh_onload_callbacks = [];\n",
       "    root._bokeh_is_loading = undefined;\n",
       "  }\n",
       "\n",
       "  var JS_MIME_TYPE = 'application/javascript';\n",
       "  var HTML_MIME_TYPE = 'text/html';\n",
       "  var EXEC_MIME_TYPE = 'application/vnd.bokehjs_exec.v0+json';\n",
       "  var CLASS_NAME = 'output_bokeh rendered_html';\n",
       "\n",
       "  /**\n",
       "   * Render data to the DOM node\n",
       "   */\n",
       "  function render(props, node) {\n",
       "    var script = document.createElement(\"script\");\n",
       "    node.appendChild(script);\n",
       "  }\n",
       "\n",
       "  /**\n",
       "   * Handle when an output is cleared or removed\n",
       "   */\n",
       "  function handleClearOutput(event, handle) {\n",
       "    var cell = handle.cell;\n",
       "\n",
       "    var id = cell.output_area._bokeh_element_id;\n",
       "    var server_id = cell.output_area._bokeh_server_id;\n",
       "    // Clean up Bokeh references\n",
       "    if (id != null && id in Bokeh.index) {\n",
       "      Bokeh.index[id].model.document.clear();\n",
       "      delete Bokeh.index[id];\n",
       "    }\n",
       "\n",
       "    if (server_id !== undefined) {\n",
       "      // Clean up Bokeh references\n",
       "      var cmd = \"from bokeh.io.state import curstate; print(curstate().uuid_to_server['\" + server_id + \"'].get_sessions()[0].document.roots[0]._id)\";\n",
       "      cell.notebook.kernel.execute(cmd, {\n",
       "        iopub: {\n",
       "          output: function(msg) {\n",
       "            var id = msg.content.text.trim();\n",
       "            if (id in Bokeh.index) {\n",
       "              Bokeh.index[id].model.document.clear();\n",
       "              delete Bokeh.index[id];\n",
       "            }\n",
       "          }\n",
       "        }\n",
       "      });\n",
       "      // Destroy server and session\n",
       "      var cmd = \"import bokeh.io.notebook as ion; ion.destroy_server('\" + server_id + \"')\";\n",
       "      cell.notebook.kernel.execute(cmd);\n",
       "    }\n",
       "  }\n",
       "\n",
       "  /**\n",
       "   * Handle when a new output is added\n",
       "   */\n",
       "  function handleAddOutput(event, handle) {\n",
       "    var output_area = handle.output_area;\n",
       "    var output = handle.output;\n",
       "\n",
       "    // limit handleAddOutput to display_data with EXEC_MIME_TYPE content only\n",
       "    if ((output.output_type != \"display_data\") || (!output.data.hasOwnProperty(EXEC_MIME_TYPE))) {\n",
       "      return\n",
       "    }\n",
       "\n",
       "    var toinsert = output_area.element.find(\".\" + CLASS_NAME.split(' ')[0]);\n",
       "\n",
       "    if (output.metadata[EXEC_MIME_TYPE][\"id\"] !== undefined) {\n",
       "      toinsert[toinsert.length - 1].firstChild.textContent = output.data[JS_MIME_TYPE];\n",
       "      // store reference to embed id on output_area\n",
       "      output_area._bokeh_element_id = output.metadata[EXEC_MIME_TYPE][\"id\"];\n",
       "    }\n",
       "    if (output.metadata[EXEC_MIME_TYPE][\"server_id\"] !== undefined) {\n",
       "      var bk_div = document.createElement(\"div\");\n",
       "      bk_div.innerHTML = output.data[HTML_MIME_TYPE];\n",
       "      var script_attrs = bk_div.children[0].attributes;\n",
       "      for (var i = 0; i < script_attrs.length; i++) {\n",
       "        toinsert[toinsert.length - 1].firstChild.setAttribute(script_attrs[i].name, script_attrs[i].value);\n",
       "      }\n",
       "      // store reference to server id on output_area\n",
       "      output_area._bokeh_server_id = output.metadata[EXEC_MIME_TYPE][\"server_id\"];\n",
       "    }\n",
       "  }\n",
       "\n",
       "  function register_renderer(events, OutputArea) {\n",
       "\n",
       "    function append_mime(data, metadata, element) {\n",
       "      // create a DOM node to render to\n",
       "      var toinsert = this.create_output_subarea(\n",
       "        metadata,\n",
       "        CLASS_NAME,\n",
       "        EXEC_MIME_TYPE\n",
       "      );\n",
       "      this.keyboard_manager.register_events(toinsert);\n",
       "      // Render to node\n",
       "      var props = {data: data, metadata: metadata[EXEC_MIME_TYPE]};\n",
       "      render(props, toinsert[toinsert.length - 1]);\n",
       "      element.append(toinsert);\n",
       "      return toinsert\n",
       "    }\n",
       "\n",
       "    /* Handle when an output is cleared or removed */\n",
       "    events.on('clear_output.CodeCell', handleClearOutput);\n",
       "    events.on('delete.Cell', handleClearOutput);\n",
       "\n",
       "    /* Handle when a new output is added */\n",
       "    events.on('output_added.OutputArea', handleAddOutput);\n",
       "\n",
       "    /**\n",
       "     * Register the mime type and append_mime function with output_area\n",
       "     */\n",
       "    OutputArea.prototype.register_mime_type(EXEC_MIME_TYPE, append_mime, {\n",
       "      /* Is output safe? */\n",
       "      safe: true,\n",
       "      /* Index of renderer in `output_area.display_order` */\n",
       "      index: 0\n",
       "    });\n",
       "  }\n",
       "\n",
       "  // register the mime type if in Jupyter Notebook environment and previously unregistered\n",
       "  if (root.Jupyter !== undefined) {\n",
       "    var events = require('base/js/events');\n",
       "    var OutputArea = require('notebook/js/outputarea').OutputArea;\n",
       "\n",
       "    if (OutputArea.prototype.mime_types().indexOf(EXEC_MIME_TYPE) == -1) {\n",
       "      register_renderer(events, OutputArea);\n",
       "    }\n",
       "  }\n",
       "\n",
       "  \n",
       "  if (typeof (root._bokeh_timeout) === \"undefined\" || force === true) {\n",
       "    root._bokeh_timeout = Date.now() + 5000;\n",
       "    root._bokeh_failed_load = false;\n",
       "  }\n",
       "\n",
       "  var NB_LOAD_WARNING = {'data': {'text/html':\n",
       "     \"<div style='background-color: #fdd'>\\n\"+\n",
       "     \"<p>\\n\"+\n",
       "     \"BokehJS does not appear to have successfully loaded. If loading BokehJS from CDN, this \\n\"+\n",
       "     \"may be due to a slow or bad network connection. Possible fixes:\\n\"+\n",
       "     \"</p>\\n\"+\n",
       "     \"<ul>\\n\"+\n",
       "     \"<li>re-rerun `output_notebook()` to attempt to load from CDN again, or</li>\\n\"+\n",
       "     \"<li>use INLINE resources instead, as so:</li>\\n\"+\n",
       "     \"</ul>\\n\"+\n",
       "     \"<code>\\n\"+\n",
       "     \"from bokeh.resources import INLINE\\n\"+\n",
       "     \"output_notebook(resources=INLINE)\\n\"+\n",
       "     \"</code>\\n\"+\n",
       "     \"</div>\"}};\n",
       "\n",
       "  function display_loaded() {\n",
       "    var el = document.getElementById(null);\n",
       "    if (el != null) {\n",
       "      el.textContent = \"BokehJS is loading...\";\n",
       "    }\n",
       "    if (root.Bokeh !== undefined) {\n",
       "      if (el != null) {\n",
       "        el.textContent = \"BokehJS \" + root.Bokeh.version + \" successfully loaded.\";\n",
       "      }\n",
       "    } else if (Date.now() < root._bokeh_timeout) {\n",
       "      setTimeout(display_loaded, 100)\n",
       "    }\n",
       "  }\n",
       "\n",
       "\n",
       "  function run_callbacks() {\n",
       "    try {\n",
       "      root._bokeh_onload_callbacks.forEach(function(callback) {\n",
       "        if (callback != null)\n",
       "          callback();\n",
       "      });\n",
       "    } finally {\n",
       "      delete root._bokeh_onload_callbacks\n",
       "    }\n",
       "    console.debug(\"Bokeh: all callbacks have finished\");\n",
       "  }\n",
       "\n",
       "  function load_libs(css_urls, js_urls, callback) {\n",
       "    if (css_urls == null) css_urls = [];\n",
       "    if (js_urls == null) js_urls = [];\n",
       "\n",
       "    root._bokeh_onload_callbacks.push(callback);\n",
       "    if (root._bokeh_is_loading > 0) {\n",
       "      console.debug(\"Bokeh: BokehJS is being loaded, scheduling callback at\", now());\n",
       "      return null;\n",
       "    }\n",
       "    if (js_urls == null || js_urls.length === 0) {\n",
       "      run_callbacks();\n",
       "      return null;\n",
       "    }\n",
       "    console.debug(\"Bokeh: BokehJS not loaded, scheduling load and callback at\", now());\n",
       "    root._bokeh_is_loading = css_urls.length + js_urls.length;\n",
       "\n",
       "    function on_load() {\n",
       "      root._bokeh_is_loading--;\n",
       "      if (root._bokeh_is_loading === 0) {\n",
       "        console.debug(\"Bokeh: all BokehJS libraries/stylesheets loaded\");\n",
       "        run_callbacks()\n",
       "      }\n",
       "    }\n",
       "\n",
       "    function on_error() {\n",
       "      console.error(\"failed to load \" + url);\n",
       "    }\n",
       "\n",
       "    for (var i = 0; i < css_urls.length; i++) {\n",
       "      var url = css_urls[i];\n",
       "      const element = document.createElement(\"link\");\n",
       "      element.onload = on_load;\n",
       "      element.onerror = on_error;\n",
       "      element.rel = \"stylesheet\";\n",
       "      element.type = \"text/css\";\n",
       "      element.href = url;\n",
       "      console.debug(\"Bokeh: injecting link tag for BokehJS stylesheet: \", url);\n",
       "      document.body.appendChild(element);\n",
       "    }\n",
       "\n",
       "    for (var i = 0; i < js_urls.length; i++) {\n",
       "      var url = js_urls[i];\n",
       "      var element = document.createElement('script');\n",
       "      element.onload = on_load;\n",
       "      element.onerror = on_error;\n",
       "      element.async = false;\n",
       "      element.src = url;\n",
       "      console.debug(\"Bokeh: injecting script tag for BokehJS library: \", url);\n",
       "      document.head.appendChild(element);\n",
       "    }\n",
       "  };\n",
       "\n",
       "  function inject_raw_css(css) {\n",
       "    const element = document.createElement(\"style\");\n",
       "    element.appendChild(document.createTextNode(css));\n",
       "    document.body.appendChild(element);\n",
       "  }\n",
       "\n",
       "  var js_urls = [\"https://cdn.pydata.org/bokeh/release/bokeh-1.2.0.min.js\", \"https://cdn.pydata.org/bokeh/release/bokeh-widgets-1.2.0.min.js\", \"https://cdn.pydata.org/bokeh/release/bokeh-tables-1.2.0.min.js\", \"https://cdn.pydata.org/bokeh/release/bokeh-gl-1.2.0.min.js\"];\n",
       "  var css_urls = [\"https://cdn.pydata.org/bokeh/release/bokeh-1.2.0.min.css\", \"https://cdn.pydata.org/bokeh/release/bokeh-widgets-1.2.0.min.css\", \"https://cdn.pydata.org/bokeh/release/bokeh-tables-1.2.0.min.css\"];\n",
       "\n",
       "  var inline_js = [\n",
       "    function(Bokeh) {\n",
       "      Bokeh.set_log_level(\"info\");\n",
       "    },\n",
       "    \n",
       "    function(Bokeh) {\n",
       "      \n",
       "    },\n",
       "    function(Bokeh) {} // ensure no trailing comma for IE\n",
       "  ];\n",
       "\n",
       "  function run_inline_js() {\n",
       "    \n",
       "    if ((root.Bokeh !== undefined) || (force === true)) {\n",
       "      for (var i = 0; i < inline_js.length; i++) {\n",
       "        inline_js[i].call(root, root.Bokeh);\n",
       "      }} else if (Date.now() < root._bokeh_timeout) {\n",
       "      setTimeout(run_inline_js, 100);\n",
       "    } else if (!root._bokeh_failed_load) {\n",
       "      console.log(\"Bokeh: BokehJS failed to load within specified timeout.\");\n",
       "      root._bokeh_failed_load = true;\n",
       "    } else if (force !== true) {\n",
       "      var cell = $(document.getElementById(null)).parents('.cell').data().cell;\n",
       "      cell.output_area.append_execute_result(NB_LOAD_WARNING)\n",
       "    }\n",
       "\n",
       "  }\n",
       "\n",
       "  if (root._bokeh_is_loading === 0) {\n",
       "    console.debug(\"Bokeh: BokehJS loaded, going straight to plotting\");\n",
       "    run_inline_js();\n",
       "  } else {\n",
       "    load_libs(css_urls, js_urls, function() {\n",
       "      console.debug(\"Bokeh: BokehJS plotting callback run at\", now());\n",
       "      run_inline_js();\n",
       "    });\n",
       "  }\n",
       "}(window));"
      ],
      "application/vnd.bokehjs_load.v0+json": "\n(function(root) {\n  function now() {\n    return new Date();\n  }\n\n  var force = true;\n\n  if (typeof root._bokeh_onload_callbacks === \"undefined\" || force === true) {\n    root._bokeh_onload_callbacks = [];\n    root._bokeh_is_loading = undefined;\n  }\n\n  \n\n  \n  if (typeof (root._bokeh_timeout) === \"undefined\" || force === true) {\n    root._bokeh_timeout = Date.now() + 5000;\n    root._bokeh_failed_load = false;\n  }\n\n  var NB_LOAD_WARNING = {'data': {'text/html':\n     \"<div style='background-color: #fdd'>\\n\"+\n     \"<p>\\n\"+\n     \"BokehJS does not appear to have successfully loaded. If loading BokehJS from CDN, this \\n\"+\n     \"may be due to a slow or bad network connection. Possible fixes:\\n\"+\n     \"</p>\\n\"+\n     \"<ul>\\n\"+\n     \"<li>re-rerun `output_notebook()` to attempt to load from CDN again, or</li>\\n\"+\n     \"<li>use INLINE resources instead, as so:</li>\\n\"+\n     \"</ul>\\n\"+\n     \"<code>\\n\"+\n     \"from bokeh.resources import INLINE\\n\"+\n     \"output_notebook(resources=INLINE)\\n\"+\n     \"</code>\\n\"+\n     \"</div>\"}};\n\n  function display_loaded() {\n    var el = document.getElementById(null);\n    if (el != null) {\n      el.textContent = \"BokehJS is loading...\";\n    }\n    if (root.Bokeh !== undefined) {\n      if (el != null) {\n        el.textContent = \"BokehJS \" + root.Bokeh.version + \" successfully loaded.\";\n      }\n    } else if (Date.now() < root._bokeh_timeout) {\n      setTimeout(display_loaded, 100)\n    }\n  }\n\n\n  function run_callbacks() {\n    try {\n      root._bokeh_onload_callbacks.forEach(function(callback) {\n        if (callback != null)\n          callback();\n      });\n    } finally {\n      delete root._bokeh_onload_callbacks\n    }\n    console.debug(\"Bokeh: all callbacks have finished\");\n  }\n\n  function load_libs(css_urls, js_urls, callback) {\n    if (css_urls == null) css_urls = [];\n    if (js_urls == null) js_urls = [];\n\n    root._bokeh_onload_callbacks.push(callback);\n    if (root._bokeh_is_loading > 0) {\n      console.debug(\"Bokeh: BokehJS is being loaded, scheduling callback at\", now());\n      return null;\n    }\n    if (js_urls == null || js_urls.length === 0) {\n      run_callbacks();\n      return null;\n    }\n    console.debug(\"Bokeh: BokehJS not loaded, scheduling load and callback at\", now());\n    root._bokeh_is_loading = css_urls.length + js_urls.length;\n\n    function on_load() {\n      root._bokeh_is_loading--;\n      if (root._bokeh_is_loading === 0) {\n        console.debug(\"Bokeh: all BokehJS libraries/stylesheets loaded\");\n        run_callbacks()\n      }\n    }\n\n    function on_error() {\n      console.error(\"failed to load \" + url);\n    }\n\n    for (var i = 0; i < css_urls.length; i++) {\n      var url = css_urls[i];\n      const element = document.createElement(\"link\");\n      element.onload = on_load;\n      element.onerror = on_error;\n      element.rel = \"stylesheet\";\n      element.type = \"text/css\";\n      element.href = url;\n      console.debug(\"Bokeh: injecting link tag for BokehJS stylesheet: \", url);\n      document.body.appendChild(element);\n    }\n\n    for (var i = 0; i < js_urls.length; i++) {\n      var url = js_urls[i];\n      var element = document.createElement('script');\n      element.onload = on_load;\n      element.onerror = on_error;\n      element.async = false;\n      element.src = url;\n      console.debug(\"Bokeh: injecting script tag for BokehJS library: \", url);\n      document.head.appendChild(element);\n    }\n  };\n\n  function inject_raw_css(css) {\n    const element = document.createElement(\"style\");\n    element.appendChild(document.createTextNode(css));\n    document.body.appendChild(element);\n  }\n\n  var js_urls = [\"https://cdn.pydata.org/bokeh/release/bokeh-1.2.0.min.js\", \"https://cdn.pydata.org/bokeh/release/bokeh-widgets-1.2.0.min.js\", \"https://cdn.pydata.org/bokeh/release/bokeh-tables-1.2.0.min.js\", \"https://cdn.pydata.org/bokeh/release/bokeh-gl-1.2.0.min.js\"];\n  var css_urls = [\"https://cdn.pydata.org/bokeh/release/bokeh-1.2.0.min.css\", \"https://cdn.pydata.org/bokeh/release/bokeh-widgets-1.2.0.min.css\", \"https://cdn.pydata.org/bokeh/release/bokeh-tables-1.2.0.min.css\"];\n\n  var inline_js = [\n    function(Bokeh) {\n      Bokeh.set_log_level(\"info\");\n    },\n    \n    function(Bokeh) {\n      \n    },\n    function(Bokeh) {} // ensure no trailing comma for IE\n  ];\n\n  function run_inline_js() {\n    \n    if ((root.Bokeh !== undefined) || (force === true)) {\n      for (var i = 0; i < inline_js.length; i++) {\n        inline_js[i].call(root, root.Bokeh);\n      }} else if (Date.now() < root._bokeh_timeout) {\n      setTimeout(run_inline_js, 100);\n    } else if (!root._bokeh_failed_load) {\n      console.log(\"Bokeh: BokehJS failed to load within specified timeout.\");\n      root._bokeh_failed_load = true;\n    } else if (force !== true) {\n      var cell = $(document.getElementById(null)).parents('.cell').data().cell;\n      cell.output_area.append_execute_result(NB_LOAD_WARNING)\n    }\n\n  }\n\n  if (root._bokeh_is_loading === 0) {\n    console.debug(\"Bokeh: BokehJS loaded, going straight to plotting\");\n    run_inline_js();\n  } else {\n    load_libs(css_urls, js_urls, function() {\n      console.debug(\"Bokeh: BokehJS plotting callback run at\", now());\n      run_inline_js();\n    });\n  }\n}(window));"
     },
     "metadata": {},
     "output_type": "display_data"
    }
   ],
   "source": [
    "from bokeh.plotting import output_notebook\n",
    "from bokeh.plotting import show\n",
    "output_notebook(hide_banner=True)\n",
    "\n",
    "from bokeh.plotting import figure\n",
    "from bokeh.layouts import column, row\n",
    "from bokeh.models import ColumnDataSource, Range1d\n",
    "from impact.parsers import load_many_fort\n",
    "from impact.parsers import UNITS\n",
    "\n",
    "from impact.plotting import layout_plot\n",
    "\n",
    "\n",
    "ds = ColumnDataSource(I.output['stats'])"
   ]
  },
  {
   "cell_type": "code",
   "execution_count": 15,
   "metadata": {},
   "outputs": [
    {
     "data": {
      "text/plain": [
       "{'description': '',\n",
       " 'original': '0.0 1 48 -2 4.553856 1.0 4.553856 /',\n",
       " 'type': 'write_beam',\n",
       " 'filename': 'fort.48',\n",
       " 'sample_frequency': 1,\n",
       " 's': 4.553856,\n",
       " 'name': 'write_beam_1'}"
      ]
     },
     "execution_count": 15,
     "metadata": {},
     "output_type": "execute_result"
    }
   ],
   "source": [
    "I.ele['write_beam_1']"
   ]
  },
  {
   "cell_type": "code",
   "execution_count": 16,
   "metadata": {},
   "outputs": [
    {
     "data": {
      "text/html": [
       "\n",
       "\n",
       "\n",
       "\n",
       "\n",
       "\n",
       "  <div class=\"bk-root\" id=\"6f27dfac-1172-44cb-b886-f28880dd1423\" data-root-id=\"1004\"></div>\n"
      ]
     },
     "metadata": {},
     "output_type": "display_data"
    },
    {
     "data": {
      "application/javascript": [
       "(function(root) {\n",
       "  function embed_document(root) {\n",
       "    \n",
       "  var docs_json = {\"2607de63-fc85-45ab-beeb-db08ebf1d07e\":{\"roots\":{\"references\":[{\"attributes\":{\"below\":[{\"id\":\"1013\",\"type\":\"LinearAxis\"}],\"center\":[{\"id\":\"1017\",\"type\":\"Grid\"},{\"id\":\"1022\",\"type\":\"Grid\"},{\"id\":\"1038\",\"type\":\"LabelSet\"}],\"left\":[{\"id\":\"1018\",\"type\":\"LinearAxis\"}],\"plot_height\":500,\"plot_width\":1000,\"renderers\":[{\"id\":\"1036\",\"type\":\"GlyphRenderer\"}],\"title\":{\"id\":\"1041\",\"type\":\"Title\"},\"toolbar\":{\"id\":\"1027\",\"type\":\"Toolbar\"},\"x_range\":{\"id\":\"1005\",\"type\":\"DataRange1d\"},\"x_scale\":{\"id\":\"1009\",\"type\":\"LinearScale\"},\"y_range\":{\"id\":\"1007\",\"type\":\"DataRange1d\"},\"y_scale\":{\"id\":\"1011\",\"type\":\"LinearScale\"}},\"id\":\"1004\",\"subtype\":\"Figure\",\"type\":\"Plot\"},{\"attributes\":{},\"id\":\"1024\",\"type\":\"WheelZoomTool\"},{\"attributes\":{\"overlay\":{\"id\":\"1048\",\"type\":\"BoxAnnotation\"}},\"id\":\"1025\",\"type\":\"BoxZoomTool\"},{\"attributes\":{\"text\":\"\"},\"id\":\"1041\",\"type\":\"Title\"},{\"attributes\":{},\"id\":\"1042\",\"type\":\"BasicTickFormatter\"},{\"attributes\":{},\"id\":\"1046\",\"type\":\"Selection\"},{\"attributes\":{},\"id\":\"1026\",\"type\":\"ResetTool\"},{\"attributes\":{\"callback\":null,\"mode\":\"vline\",\"tooltips\":[[\"name\",\"@name\"],[\"s_begin\",\"@left\"],[\"s_end\",\"@right\"],[\"s_center\",\"@x\"],[\"\",\"@description\"],[\"\",\"@all\"]]},\"id\":\"1003\",\"type\":\"HoverTool\"},{\"attributes\":{},\"id\":\"1044\",\"type\":\"BasicTickFormatter\"},{\"attributes\":{\"callback\":null,\"data\":{\"all\":[\"GUN: solrf, description=name:GUN, L=0.15, zedge=0.0, rf_field_scale=47000000.0,\\n      rf_frequency=2856000000.0, theta0_deg=293.54, filename=rfdata201, radius=0.15,\\n      x_offset=0.0, y_offset=0.0, x_rotation=0.0, y_rotation=0.0, z_rotation=0.0,\\n      solenoid_field_scale=0.0, s=0.15\",\"SOL1: solrf, description=name:SOL1, L=0.49308, zedge=0.0, rf_field_scale=0.0,\\n      rf_frequency=0.0, theta0_deg=0.0, filename=rfdata102, radius=0.15, x_offset=0.0,\\n      y_offset=0.0, x_rotation=0.0, y_rotation=0.0, z_rotation=0.0,\\n      solenoid_field_scale=0.243, s=0.49308\",\"drift_1: drift, description=, L=0.072, zedge=1.387, radius=0.15, s=1.459\",\"drift_2: drift, description=, L=0.026, zedge=1.459, radius=0.15, s=1.485\",\"L0A_entrance: solrf, description=name:L0A_entrance, L=0.052464, zedge=1.485,\\n      rf_field_scale=25905612.0, rf_frequency=2856000000.0, theta0_deg=258.5,\\n      filename=rfdata4, radius=0.15, x_offset=0.0, y_offset=0.0, x_rotation=0.0,\\n      y_rotation=0.0, z_rotation=0.0, solenoid_field_scale=0.0, s=1.5374640000000002\",\"L0A_body_1: solrf, description=name:L0A_body_1, L=2.937928, zedge=1.537464,\\n      rf_field_scale=29913224.7, rf_frequency=2856000000.0, theta0_deg=288.5,\\n      filename=rfdata5, radius=0.15, x_offset=0.0, y_offset=0.0, x_rotation=0.0,\\n      y_rotation=0.0, z_rotation=0.0, solenoid_field_scale=0.0, s=4.475391999999999\",\"L0A_body_2: solrf, description=name:L0A_body_2, L=2.937928, zedge=1.537464,\\n      rf_field_scale=29913224.7, rf_frequency=2856000000.0, theta0_deg=348.5,\\n      filename=rfdata6, radius=0.15, x_offset=0.0, y_offset=0.0, x_rotation=0.0,\\n      y_rotation=0.0, z_rotation=0.0, solenoid_field_scale=0.0, s=4.475391999999999\",\"L0A_exit: solrf, description=name:L0A_exit, L=0.052464, zedge=4.475392,\\n      rf_field_scale=25905612.0, rf_frequency=2856000000.0, theta0_deg=258.5,\\n      filename=rfdata7, radius=0.15, x_offset=0.0, y_offset=0.0, x_rotation=0.0,\\n      y_rotation=0.0, z_rotation=0.0, solenoid_field_scale=0.0, s=4.527856\",\"drift_3: drift, description=, L=0.026, zedge=4.527856, radius=0.15, s=4.553856\",\"drift_4: drift, description=, L=0.199, zedge=4.553856, radius=0.15, s=4.7528559999999995\",\"QA01: quadrupole, description=name:QA01, L=0.204, zedge=4.752856, b1_gradient=1.8524,\\n      L_effective=0.108, radius=0.016, x_offset=0.0, y_offset=0.0, x_rotation=0.0,\\n      y_rotation=0.0, z_rotation=0.0, s=4.956856\",\"drift_5: drift, description=, L=0.124, zedge=4.956856, radius=0.15, s=5.080856\",\"QA02: quadrupole, description=name:QA02, L=0.204, zedge=5.080856, b1_gradient=-1.8267,\\n      L_effective=0.108, radius=0.016, x_offset=0.0, y_offset=0.0, x_rotation=0.0,\\n      y_rotation=0.0, z_rotation=0.0, s=5.2848559999999996\",\"drift_6: drift, description=, L=0.0179, zedge=5.284856, radius=0.15, s=5.3027560000000005\",\"drift_7: drift, description=, L=0.026, zedge=5.302756, radius=0.15, s=5.328755999999999\",\"L0B_entrance: solrf, description=name:L0B_entrance, L=0.052464, zedge=5.328756,\\n      rf_field_scale=32055209.0, rf_frequency=2856000000.0, theta0_deg=400.5,\\n      filename=rfdata4, radius=0.15, x_offset=0.0, y_offset=0.0, x_rotation=0.0,\\n      y_rotation=0.0, z_rotation=0.0, solenoid_field_scale=0.0, s=5.38122\",\"L0B_body_1: solrf, description=name:L0B_body_1, L=2.937928, zedge=5.38122,\\n      rf_field_scale=37014168.0, rf_frequency=2856000000.0, theta0_deg=430.5,\\n      filename=rfdata5, radius=0.15, x_offset=0.0, y_offset=0.0, x_rotation=0.0,\\n      y_rotation=0.0, z_rotation=0.0, solenoid_field_scale=0.0, s=8.319148\",\"L0B_body_2: solrf, description=name:L0B_body_2, L=2.937928, zedge=5.38122,\\n      rf_field_scale=37014168.0, rf_frequency=2856000000.0, theta0_deg=490.5,\\n      filename=rfdata6, radius=0.15, x_offset=0.0, y_offset=0.0, x_rotation=0.0,\\n      y_rotation=0.0, z_rotation=0.0, solenoid_field_scale=0.0, s=8.319148\",\"L0B_exit: solrf, description=name:L0B_exit, L=0.052464, zedge=8.319148,\\n      rf_field_scale=32055209.0, rf_frequency=2856000000.0, theta0_deg=400.5,\\n      filename=rfdata7, radius=0.15, x_offset=0.0, y_offset=0.0, x_rotation=0.0,\\n      y_rotation=0.0, z_rotation=0.0, solenoid_field_scale=0.0, s=8.371612\",\"drift_8: drift, description=, L=0.026, zedge=8.371612, radius=0.15, s=8.397612\",\"drift_9: drift, description=, L=0.0, zedge=8.397612, radius=0.15, s=8.397612\",\"QE01: quadrupole, description=name:QE01, L=0.1912, zedge=8.397612, b1_gradient=0,\\n      L_effective=0.108, radius=0.016, x_offset=0.0, y_offset=0.0, x_rotation=0.0,\\n      y_rotation=0.0, z_rotation=0.0, s=8.588812\",\"drift_10: drift, description=, L=0.203913, zedge=8.588812, radius=0.15, s=8.792725\",\"QE02: quadrupole, description=name:QE02, L=0.204, zedge=8.792725, b1_gradient=0.1661,\\n      L_effective=0.108, radius=0.016, x_offset=0.0, y_offset=0.0, x_rotation=0.0,\\n      y_rotation=0.0, z_rotation=0.0, s=8.996725000000001\",\"drift_11: drift, description=, L=0.07933, zedge=8.996725, radius=0.15, s=9.076055\",\"drift_12: drift, description=LH begins, L=1.6098, zedge=9.076055, radius=0.15, s=10.685855\",\"drift_13: drift, description=, L=0.122901, zedge=10.685855, radius=0.15, s=10.808756\",\"drift_14: drift, description=, L=0.668024, zedge=10.808756, radius=0.15,\\n      s=11.476780000000002\",\"drift_15: drift, description=, L=0.00074, zedge=11.47678, radius=0.15, s=11.47752\",\"QE03: quadrupole, description=name:QE03, L=0.178, zedge=11.47752, b1_gradient=-2.6409,\\n      L_effective=0.108, radius=0.016, x_offset=0.0, y_offset=0.0, x_rotation=0.0,\\n      y_rotation=0.0, z_rotation=0.0, s=11.655520000000001\",\"drift_16: drift, description=, L=0.1269, zedge=11.65552, radius=0.15, s=11.782419999999998\",\"drift_17: drift, description=, L=0.0, zedge=11.78242, radius=0.15, s=11.78242\",\"drift_18: drift, description=, L=0.088499, zedge=11.78242, radius=0.15, s=11.870919\",\"QE04: quadrupole, description=name:QE04, L=0.204, zedge=11.870919, b1_gradient=2.98,\\n      L_effective=0.108, radius=0.016, x_offset=0.0, y_offset=0.0, x_rotation=0.0,\\n      y_rotation=0.0, z_rotation=0.0, s=12.074919000000001\",\"drift_19: drift, description=, L=0.095688, zedge=12.074919, radius=0.15, s=12.170607\",\"drift_20: drift, description=, L=0.0, zedge=12.170607, radius=0.15, s=12.170607\",\"drift_21: drift, description=, L=0.151968, zedge=12.170607, radius=0.15, s=12.322575\",\"OTR1: drift, description=name:OTR1, L=1.761761, zedge=12.322575, radius=0.15, s=14.084336\",\"drift_23: drift, description=, L=0.0, zedge=14.084336, radius=0.15, s=14.084336\",\"drift_24: drift, description=, L=0.151968, zedge=14.084336, radius=0.15, s=14.236304\",\"OTR2: drift, description=name:OTR2, L=0.16381, zedge=14.236304, radius=0.15, s=14.400114\",\"drift_26: drift, description=, L=0.0, zedge=14.400114, radius=0.15, s=14.400114\",\"drift_27: drift, description=, L=1.59793, zedge=14.400114, radius=0.15, s=15.998044\",\"WS03: drift, description=name:WS03, L=0.151968, zedge=15.998044, radius=0.15, s=16.150012\",\"OTR3: drift, description=name:OTR3, L=0.102806, zedge=16.15, radius=0.15, s=16.252806\",\"quadrupole_7: quadrupole, description=, L=0.204, zedge=16.2528, b1_gradient=-6.772664,\\n      L_effective=0.108, radius=0.016, x_offset=0.0, y_offset=0.0, x_rotation=0.0,\\n      y_rotation=0.0, z_rotation=0.0, s=16.4568\",\"drift_30: drift, description=, L=0.099872, zedge=16.4568, radius=0.15,\\n      s=16.556672000000002\",\"drift_31: drift, description=, L=0.18333, zedge=16.556672, radius=0.15, s=16.740002\"],\"bottom\":[-3,-3,-1,-1,-3,-3,-3,-3,-1,-1,-1.8524,-1,0,-1,-1,-3,-3,-3,-3,-1,-1,0,-1,-0.1661,-1,-1,-1,-1,-1,0,-1,-1,-1,-2.98,-1,-1,-1,-1,-1,-1,-1,-1,-1,-1,-1,0,-1,-1],\"color\":[\"green\",\"green\",\"black\",\"black\",\"green\",\"green\",\"green\",\"green\",\"black\",\"black\",\"blue\",\"black\",\"blue\",\"black\",\"black\",\"green\",\"green\",\"green\",\"green\",\"black\",\"black\",\"blue\",\"black\",\"blue\",\"black\",\"black\",\"black\",\"black\",\"black\",\"blue\",\"black\",\"black\",\"black\",\"blue\",\"black\",\"black\",\"black\",\"black\",\"black\",\"black\",\"black\",\"black\",\"black\",\"black\",\"black\",\"blue\",\"black\",\"black\"],\"description\":[\"name:GUN\",\"name:SOL1\",\"\",\"\",\"name:L0A_entrance\",\"name:L0A_body_1\",\"name:L0A_body_2\",\"name:L0A_exit\",\"\",\"\",\"name:QA01\",\"\",\"name:QA02\",\"\",\"\",\"name:L0B_entrance\",\"name:L0B_body_1\",\"name:L0B_body_2\",\"name:L0B_exit\",\"\",\"\",\"name:QE01\",\"\",\"name:QE02\",\"\",\"LH begins\",\"\",\"\",\"\",\"name:QE03\",\"\",\"\",\"\",\"name:QE04\",\"\",\"\",\"\",\"name:OTR1\",\"\",\"\",\"name:OTR2\",\"\",\"\",\"name:WS03\",\"name:OTR3\",\"\",\"\",\"\"],\"left\":[0.0,0.0,1.387,1.459,1.485,1.5374639999999995,1.5374639999999995,4.475392,4.527856,4.553856,4.752856,4.956856,5.080856,5.284856,5.302756,5.328756,5.381220000000001,5.381220000000001,8.319148,8.371612,8.397612,8.397612,8.588812,8.792725,8.996725,9.076055,10.685855,10.808756000000002,11.47678,11.47752,11.65552,11.78242,11.78242,11.870919,12.074919000000001,12.170607,12.170607,12.322575,14.084336,14.084336,14.236304,14.400114,14.400114,15.998044,16.15,16.2528,16.4568,16.556672],\"name\":[\"GUN\",\"SOL1\",\"drift_1\",\"drift_2\",\"L0A_entrance\",\"L0A_body_1\",\"L0A_body_2\",\"L0A_exit\",\"drift_3\",\"drift_4\",\"QA01\",\"drift_5\",\"QA02\",\"drift_6\",\"drift_7\",\"L0B_entrance\",\"L0B_body_1\",\"L0B_body_2\",\"L0B_exit\",\"drift_8\",\"drift_9\",\"QE01\",\"drift_10\",\"QE02\",\"drift_11\",\"drift_12\",\"drift_13\",\"drift_14\",\"drift_15\",\"QE03\",\"drift_16\",\"drift_17\",\"drift_18\",\"QE04\",\"drift_19\",\"drift_20\",\"drift_21\",\"OTR1\",\"drift_23\",\"drift_24\",\"OTR2\",\"drift_26\",\"drift_27\",\"WS03\",\"OTR3\",\"quadrupole_7\",\"drift_30\",\"drift_31\"],\"right\":[0.15,0.49308,1.459,1.485,1.5374640000000002,4.475391999999999,4.475391999999999,4.527856,4.553856,4.7528559999999995,4.956856,5.080856,5.2848559999999996,5.3027560000000005,5.328755999999999,5.38122,8.319148,8.319148,8.371612,8.397612,8.397612,8.588812,8.792725,8.996725000000001,9.076055,10.685855,10.808756,11.476780000000002,11.47752,11.655520000000001,11.782419999999998,11.78242,11.870919,12.074919000000001,12.170607,12.170607,12.322575,14.084336,14.084336,14.236304,14.400114,14.400114,15.998044,16.150012,16.252806,16.4568,16.556672000000002,16.740002],\"top\":[3,3,1,1,3,3,3,3,1,1,0,1,1.8267,1,1,3,3,3,3,1,1,0,1,0,1,1,1,1,1,2.6409,1,1,1,0,1,1,1,1,1,1,1,1,1,1,1,6.772664,1,1],\"x\":[0.075,0.24654,1.423,1.4720000000000002,1.5112320000000001,3.0064279999999997,3.0064279999999997,4.501624,4.540856,4.653356,4.854856,5.0188559999999995,5.182855999999999,5.293806000000001,5.3157559999999995,5.354988,6.8501840000000005,6.8501840000000005,8.34538,8.384612,8.397612,8.493212000000002,8.6907685,8.894725000000001,9.03639,9.880955,10.747305500000001,11.142768000000002,11.47715,11.56652,11.718969999999999,11.78242,11.826669500000001,11.972919000000001,12.122763,12.170607,12.246591,13.2034555,14.084336,14.16032,14.318209,14.400114,15.199079,16.074028000000002,16.201403,16.3548,16.506736000000004,16.648337],\"y\":[0,0,0,0,0,0,0,0,0,0,0,0,0,0,0,0,0,0,0,0,0,0,0,0,0,0,0,0,0,0,0,0,0,0,0,0,0,0,0,0,0,0,0,0,0,0,0,0]},\"selected\":{\"id\":\"1046\",\"type\":\"Selection\"},\"selection_policy\":{\"id\":\"1047\",\"type\":\"UnionRenderers\"}},\"id\":\"1002\",\"type\":\"ColumnDataSource\"},{\"attributes\":{\"active_drag\":\"auto\",\"active_inspect\":\"auto\",\"active_multi\":null,\"active_scroll\":\"auto\",\"active_tap\":\"auto\",\"tools\":[{\"id\":\"1003\",\"type\":\"HoverTool\"},{\"id\":\"1023\",\"type\":\"PanTool\"},{\"id\":\"1024\",\"type\":\"WheelZoomTool\"},{\"id\":\"1025\",\"type\":\"BoxZoomTool\"},{\"id\":\"1026\",\"type\":\"ResetTool\"}]},\"id\":\"1027\",\"type\":\"Toolbar\"},{\"attributes\":{\"bottom\":{\"field\":\"bottom\"},\"fill_color\":{\"field\":\"color\"},\"left\":{\"field\":\"left\"},\"line_color\":{\"field\":\"color\"},\"right\":{\"field\":\"right\"},\"top\":{\"field\":\"top\"}},\"id\":\"1034\",\"type\":\"Quad\"},{\"attributes\":{\"bottom_units\":\"screen\",\"fill_alpha\":{\"value\":0.5},\"fill_color\":{\"value\":\"lightgrey\"},\"left_units\":\"screen\",\"level\":\"overlay\",\"line_alpha\":{\"value\":1.0},\"line_color\":{\"value\":\"black\"},\"line_dash\":[4,4],\"line_width\":{\"value\":2},\"render_mode\":\"css\",\"right_units\":\"screen\",\"top_units\":\"screen\"},\"id\":\"1048\",\"type\":\"BoxAnnotation\"},{\"attributes\":{\"callback\":null},\"id\":\"1005\",\"type\":\"DataRange1d\"},{\"attributes\":{\"source\":{\"id\":\"1002\",\"type\":\"ColumnDataSource\"}},\"id\":\"1037\",\"type\":\"CDSView\"},{\"attributes\":{},\"id\":\"1047\",\"type\":\"UnionRenderers\"},{\"attributes\":{\"callback\":null},\"id\":\"1007\",\"type\":\"DataRange1d\"},{\"attributes\":{},\"id\":\"1009\",\"type\":\"LinearScale\"},{\"attributes\":{},\"id\":\"1011\",\"type\":\"LinearScale\"},{\"attributes\":{\"bottom\":{\"field\":\"bottom\"},\"fill_alpha\":{\"value\":0.1},\"fill_color\":{\"value\":\"#1f77b4\"},\"left\":{\"field\":\"left\"},\"line_alpha\":{\"value\":0.1},\"line_color\":{\"value\":\"#1f77b4\"},\"right\":{\"field\":\"right\"},\"top\":{\"field\":\"top\"}},\"id\":\"1035\",\"type\":\"Quad\"},{\"attributes\":{\"formatter\":{\"id\":\"1042\",\"type\":\"BasicTickFormatter\"},\"ticker\":{\"id\":\"1014\",\"type\":\"BasicTicker\"}},\"id\":\"1013\",\"type\":\"LinearAxis\"},{\"attributes\":{\"data_source\":{\"id\":\"1002\",\"type\":\"ColumnDataSource\"},\"glyph\":{\"id\":\"1034\",\"type\":\"Quad\"},\"hover_glyph\":null,\"muted_glyph\":null,\"nonselection_glyph\":{\"id\":\"1035\",\"type\":\"Quad\"},\"selection_glyph\":null,\"view\":{\"id\":\"1037\",\"type\":\"CDSView\"}},\"id\":\"1036\",\"type\":\"GlyphRenderer\"},{\"attributes\":{\"angle\":{\"units\":\"rad\",\"value\":1.5707963267948966},\"level\":\"glyph\",\"source\":{\"id\":\"1002\",\"type\":\"ColumnDataSource\"},\"text\":{\"field\":\"name\"},\"x\":{\"field\":\"x\"},\"x_offset\":{\"value\":5},\"y\":{\"field\":\"y\"},\"y_offset\":{\"value\":30}},\"id\":\"1038\",\"type\":\"LabelSet\"},{\"attributes\":{},\"id\":\"1014\",\"type\":\"BasicTicker\"},{\"attributes\":{\"ticker\":{\"id\":\"1014\",\"type\":\"BasicTicker\"}},\"id\":\"1017\",\"type\":\"Grid\"},{\"attributes\":{\"formatter\":{\"id\":\"1044\",\"type\":\"BasicTickFormatter\"},\"ticker\":{\"id\":\"1019\",\"type\":\"BasicTicker\"}},\"id\":\"1018\",\"type\":\"LinearAxis\"},{\"attributes\":{},\"id\":\"1019\",\"type\":\"BasicTicker\"},{\"attributes\":{\"dimension\":1,\"ticker\":{\"id\":\"1019\",\"type\":\"BasicTicker\"}},\"id\":\"1022\",\"type\":\"Grid\"},{\"attributes\":{},\"id\":\"1023\",\"type\":\"PanTool\"}],\"root_ids\":[\"1004\"]},\"title\":\"Bokeh Application\",\"version\":\"1.2.0\"}};\n",
       "  var render_items = [{\"docid\":\"2607de63-fc85-45ab-beeb-db08ebf1d07e\",\"roots\":{\"1004\":\"6f27dfac-1172-44cb-b886-f28880dd1423\"}}];\n",
       "  root.Bokeh.embed.embed_items_notebook(docs_json, render_items);\n",
       "\n",
       "  }\n",
       "  if (root.Bokeh !== undefined) {\n",
       "    embed_document(root);\n",
       "  } else {\n",
       "    var attempts = 0;\n",
       "    var timer = setInterval(function(root) {\n",
       "      if (root.Bokeh !== undefined) {\n",
       "        embed_document(root);\n",
       "        clearInterval(timer);\n",
       "      }\n",
       "      attempts++;\n",
       "      if (attempts > 100) {\n",
       "        console.log(\"Bokeh: ERROR: Unable to run BokehJS code because BokehJS library is missing\");\n",
       "        clearInterval(timer);\n",
       "      }\n",
       "    }, 10, root)\n",
       "  }\n",
       "})(window);"
      ],
      "application/vnd.bokehjs_exec.v0+json": ""
     },
     "metadata": {
      "application/vnd.bokehjs_exec.v0+json": {
       "id": "1004"
      }
     },
     "output_type": "display_data"
    }
   ],
   "source": [
    "# Change somethone\n",
    "I.ele['QE01']['b1_gradient'] = 0\n",
    "layout = layout_plot(I.input['lattice'], plot_height=500)\n",
    "show(layout)"
   ]
  },
  {
   "cell_type": "code",
   "execution_count": 17,
   "metadata": {},
   "outputs": [
    {
     "data": {
      "text/html": [
       "\n",
       "\n",
       "\n",
       "\n",
       "\n",
       "\n",
       "  <div class=\"bk-root\" id=\"d990241f-dc44-436f-a0b0-28c7c000e391\" data-root-id=\"1103\"></div>\n"
      ]
     },
     "metadata": {},
     "output_type": "display_data"
    },
    {
     "data": {
      "application/javascript": [
       "(function(root) {\n",
       "  function embed_document(root) {\n",
       "    \n",
       "  var docs_json = {\"4b788aa8-8c68-4fb2-98c6-67bc6c77106d\":{\"roots\":{\"references\":[{\"attributes\":{\"below\":[{\"id\":\"1112\",\"type\":\"LinearAxis\"}],\"center\":[{\"id\":\"1116\",\"type\":\"Grid\"},{\"id\":\"1121\",\"type\":\"Grid\"}],\"left\":[{\"id\":\"1117\",\"type\":\"LinearAxis\"}],\"plot_height\":200,\"renderers\":[{\"id\":\"1138\",\"type\":\"GlyphRenderer\"}],\"title\":{\"id\":\"1150\",\"type\":\"Title\"},\"toolbar\":{\"id\":\"1128\",\"type\":\"Toolbar\"},\"x_range\":{\"id\":\"1104\",\"type\":\"DataRange1d\"},\"x_scale\":{\"id\":\"1108\",\"type\":\"LinearScale\"},\"y_range\":{\"id\":\"1106\",\"type\":\"DataRange1d\"},\"y_scale\":{\"id\":\"1110\",\"type\":\"LinearScale\"}},\"id\":\"1103\",\"subtype\":\"Figure\",\"type\":\"Plot\"},{\"attributes\":{\"dimension\":1,\"ticker\":{\"id\":\"1118\",\"type\":\"BasicTicker\"}},\"id\":\"1121\",\"type\":\"Grid\"},{\"attributes\":{\"data_source\":{\"id\":\"1001\",\"type\":\"ColumnDataSource\"},\"glyph\":{\"id\":\"1136\",\"type\":\"Line\"},\"hover_glyph\":null,\"muted_glyph\":null,\"nonselection_glyph\":{\"id\":\"1137\",\"type\":\"Line\"},\"selection_glyph\":null,\"view\":{\"id\":\"1139\",\"type\":\"CDSView\"}},\"id\":\"1138\",\"type\":\"GlyphRenderer\"},{\"attributes\":{},\"id\":\"1110\",\"type\":\"LinearScale\"},{\"attributes\":{\"text\":\"\"},\"id\":\"1150\",\"type\":\"Title\"},{\"attributes\":{\"overlay\":{\"id\":\"1155\",\"type\":\"BoxAnnotation\"}},\"id\":\"1124\",\"type\":\"BoxZoomTool\"},{\"attributes\":{},\"id\":\"1108\",\"type\":\"LinearScale\"},{\"attributes\":{},\"id\":\"1123\",\"type\":\"WheelZoomTool\"},{\"attributes\":{\"axis_label\":\"z (m)\",\"formatter\":{\"id\":\"1151\",\"type\":\"BasicTickFormatter\"},\"ticker\":{\"id\":\"1113\",\"type\":\"BasicTicker\"}},\"id\":\"1112\",\"type\":\"LinearAxis\"},{\"attributes\":{\"callback\":null},\"id\":\"1104\",\"type\":\"DataRange1d\"},{\"attributes\":{\"callback\":null},\"id\":\"1106\",\"type\":\"DataRange1d\"},{\"attributes\":{},\"id\":\"1125\",\"type\":\"SaveTool\"},{\"attributes\":{\"line_alpha\":0.1,\"line_color\":\"#1f77b4\",\"x\":{\"field\":\"z\"},\"y\":{\"field\":\"gamma\"}},\"id\":\"1137\",\"type\":\"Line\"},{\"attributes\":{},\"id\":\"1126\",\"type\":\"ResetTool\"},{\"attributes\":{},\"id\":\"1153\",\"type\":\"BasicTickFormatter\"},{\"attributes\":{},\"id\":\"1127\",\"type\":\"HelpTool\"},{\"attributes\":{\"line_color\":\"red\",\"x\":{\"field\":\"z\"},\"y\":{\"field\":\"gamma\"}},\"id\":\"1136\",\"type\":\"Line\"},{\"attributes\":{\"active_drag\":\"auto\",\"active_inspect\":\"auto\",\"active_multi\":null,\"active_scroll\":\"auto\",\"active_tap\":\"auto\",\"tools\":[{\"id\":\"1122\",\"type\":\"PanTool\"},{\"id\":\"1123\",\"type\":\"WheelZoomTool\"},{\"id\":\"1124\",\"type\":\"BoxZoomTool\"},{\"id\":\"1125\",\"type\":\"SaveTool\"},{\"id\":\"1126\",\"type\":\"ResetTool\"},{\"id\":\"1127\",\"type\":\"HelpTool\"}]},\"id\":\"1128\",\"type\":\"Toolbar\"},{\"attributes\":{\"source\":{\"id\":\"1001\",\"type\":\"ColumnDataSource\"}},\"id\":\"1139\",\"type\":\"CDSView\"},{\"attributes\":{\"axis_label\":\"gamma (1)\",\"formatter\":{\"id\":\"1153\",\"type\":\"BasicTickFormatter\"},\"ticker\":{\"id\":\"1118\",\"type\":\"BasicTicker\"}},\"id\":\"1117\",\"type\":\"LinearAxis\"},{\"attributes\":{\"bottom_units\":\"screen\",\"fill_alpha\":{\"value\":0.5},\"fill_color\":{\"value\":\"lightgrey\"},\"left_units\":\"screen\",\"level\":\"overlay\",\"line_alpha\":{\"value\":1.0},\"line_color\":{\"value\":\"black\"},\"line_dash\":[4,4],\"line_width\":{\"value\":2},\"render_mode\":\"css\",\"right_units\":\"screen\",\"top_units\":\"screen\"},\"id\":\"1155\",\"type\":\"BoxAnnotation\"},{\"attributes\":{},\"id\":\"1118\",\"type\":\"BasicTicker\"},{\"attributes\":{},\"id\":\"1156\",\"type\":\"Selection\"},{\"attributes\":{},\"id\":\"1157\",\"type\":\"UnionRenderers\"},{\"attributes\":{},\"id\":\"1151\",\"type\":\"BasicTickFormatter\"},{\"attributes\":{},\"id\":\"1113\",\"type\":\"BasicTicker\"},{\"attributes\":{\"callback\":null,\"data\":{\"E_kinetic\":{\"__ndarray__\":\"j5kyCLSutz5Rx5sKMta3PqcTdyrQ+Lg+xCzlDdtpvD5Ugs01zevBPtdEeyCTosg+iRsPr3H30T5O9pnTdPXaPhRSqXtxNuQ+fTA6o8rn7T6GB+IZBbf1PrV/oj7F6/4+uIgLZsyUBT9reXUwZ44NP1Xi9rGL3RM/9KvIsMA4Gj8Y4bZ6JwMhP++l9B7huCU///90DXdRKz++0emSSfAwP+o6lJpTvDQ/pl1mPsIVOT8CWl1pIwU+P9E/qikVyUE/IPhQmD7iRD/LfuTAuFFIP719+of/Gkw/uNsVkL4gUD/9DMKwSWRSP89ZWXnG2VQ/H39dleGCVz8A7DwnRmFaP4bdizmVdl0/3lekSzhiYD8UmTWIQSZiP9T1mtc+CGQ/DT7sRAsJZj8IrrR8hCloP/AQqPmIamo/goCcO/jMbD801mH5sVFvP3C13SvL/HA/Dxz+eMJicj9KjIZRLttzP++blcl9ZnU/2MHfNB8Fdz82lrXvf7d4PwIzjQwMfno/H4xkPy5ZfD/Hz0qLT0l+P0HPn6RrJ4A/5ymwWRU1gT8BO1N51k2CP1dfh3DfcYM/cK1PaV+hhD9Rfc56hNyFPxpN4jd7I4c/nii9+m52iD/p/T+BidWJP7nkDlTzQIs/pgY1pNO4jD+Eb2wGUD2OPwU91reMzo8/dUPPPVa2kD9lO6xe6IuRP0EMI6YMaJI/slxkctJKkz+xLBwxSDSUP8c04uh7JJU/gKpT43oblj9ZTEG+URmXP6Zt3XwMHpg/kfa7h7YpmT8ZZNKsWjyaP/7TpTADVps/1/gcvbl2nD/HPQqVh56dP8qioWB1zZ4/Qmrqp8UBoD8qkJKEaKCgPwrMlu6mQqE/nVEtAXzgqz+Fmkcct7q0P5RfUPBe/7w/B/ZOu05Zwz8ijemNg+DIP39yypLvCM8/r022w1fi0j9VqIfLnoLWP81b8eQFXto/u2vgeW9t3j/X6kAQ/1ThP/8PyfONhuM/HdIDejzI5T8WhqfbAhfoP+fupbb1b+o/CEvpV0LQ7D8=\",\"dtype\":\"float64\",\"shape\":[97]},\"GBx_centroid\":{\"__ndarray__\":\"K1Rfmbt35D7tbXsLqXfkPqB2/USFd+Q+guaOzUp35D4gEdXTxHbkPoPp8k71deQ+0vRwnR515D5NnPc50nTkPjm9e4kwdeQ+/VBups915D4dEQPPTnbkPkEdbPWlduQ+8J4OTpJ25D7SOmGyCXXkPqvc9NymcuQ+xG8H5gdu5D6xXMf7OWfkPrlO3uaIXuQ+LWS4+21S5D6uXP2HJUbkPqkQExq4OuQ+mqm7wxsv5D4GiNTLCCLkPsrt0Q74D+Q+E0LD29L44z7ClhFdQNvjPu1Yh1JFuOM+Hs2csAOR4z5XiwyIHWLjPg6qYeo7KeM+YLu3XX3k4j5crozz1JXiPiZtEcXjPOI+UWRG+irX4T4XuZHuWWPhPhUHP96L5OA+h4g+C9dZ4D4N/W8OKoffPoYap/z+Qt4+nnAl3gjj3D6Axv1pvWXbPlTCZq2zytk+jAB71pwT2D7KL/xKOEHWPs3y3TSOU9Q+ISlL3VBL0j5c4dzkiyjQPj3QEKns2cs+U8qCcLMwxz7c5O+AIFHCPq4LExmed7o+dpGZyyLTrz7wvAyCBvmTPpR8tV2K/Ji+h9yQF5PJsb7weXeUGpe9vgwEvRXT0MS+XvYDQ+fwyr4jHRJU45PQvkIE1D1YudO+6O/8YBPp1r7U2WcSUiLavl9/xeQVZN2+3cl8EhBX4L42Dh0Fuf/hvj8abEvRquO+GQFTaPBW5b78S3PgfwPnvn2Nxc04r+i+BN5E9ZpZ6r6hHVJ1mALsvty+SwmVqe2+lfiuRkRO777bBWXSFnjwvrsUUIVfR/G+6NxayNYU8r6ZrO1BRODyvonw8YF+qfO+Nk3ky1hw9L7SRHA5mjT1vmsKwx/59fW+0VPkIFx3/758EeAbamcDv4pS4FiCoQa//CYQm2UHCb9LNiJf8q8KvyMfRi7ezgu/C4FS/uyNDL+ZO9XdBgoNv2VYhBEwWQ2/7LeEU8mMDb8YUJT1ZLINvxRQBEGv1A2/AepP4HL8Db8t3GJUEzEOvxOUeoG9eA6/Xjfm9arYDr8=\",\"dtype\":\"float64\",\"shape\":[97]},\"GBx_max\":{\"__ndarray__\":\"j1RIAuAibz+PVEgC4CJvP49USALgIm8/j1RIAuAibz+PVEgC4CJvP49USALgIm8/j1RIAuAibz+PVEgC4CJvP49USALgIm8/j1RIAuAibz/JQiEusyJvP8k1XuqCIm8/i/sUqlAibz+/IVUXHiJvPyaUhUHuIW8/eI9hhcMhbz/5vTAFoiFvP+zJOuONIW8/7/skcIwhbz8OmUmQpSFvP0WIq8LfIW8/EIgbpUcibz/4gtet7CJvP0xogePaI28/598eqyMlbz+90KIO2SZvP3rIDEMIKW8/p7GavsArbz8ukqlLFS9vPwZRLPQXM28/+R7kq9M3bz/va38LVD1vP2pzkNanQ28/PDuugCEvcD/WbtAiiGhxP5BFw/c4snI//xKtJ74LdD8jX1jqmHR1PyerYUCo63Y/Z9elVO5veD8xZ0NoxwB6P9BBlSaenXs/ni8UtdZFfT/iTwo70Ph+P/V2jyH8WoA/2suYNF0+gT8l3p/hPSaCP/TlayhTEoM/ayeGgBUChD8HystsIPWEP4KfyeIk64U/t2elL9Xjhj8r844H5t6HP2CV9PgJ3Ig/6BgRPvTaiT89VAkFW9uKP9uaw6H23Is/1nXTJoHfjD+ESv5Vt+KNPw+WZRNW5o4/ykg8J139jz/liiAIb5OQP6q7DcV4KJE/FBDNG6u9kT9/4cVd5VKSPzKVje0G6JI/xmb2YvB8kz+3IPsjgxGUP0Kr5zKipZQ/KK3opDE5lT9fMpCSF8yVP4hw78E7XpY/JixAx4bvlj8Vff6u4X+XP4VR47o2D5g/lp2cpnGdmD828C4NfyqZP7UlqGpNtpk/jYX48shAmj/ohugIx8maP7U1Pm02UZs/+ZI/eOoaoT/axS8aBOajPxNkVZs3AqY/sqDzxLqLpz//oaWadaCoP8sYEjwtW6k/472Yna3SqT9LpaIoBRqqP8LYOB4QQao/qcKuDPtUqj8ne+FUv2CqP416FvGObao/t9RxlyWDqj+HaKyxD6iqP3YJbYre4ao/ETg4L1M1qz8=\",\"dtype\":\"float64\",\"shape\":[97]},\"GBx_moment3\":{\"__ndarray__\":\"2q5Sl3ggMT+re19bbyAxP9TACYk9IDE/DWU/VvUfMT84kjCyph8xPzuBSLlWHzE/+QdSqPUeMT9fpTZFhB4xP0RN91ILHjE/OjyKLl8dMT+KjgKSmRwxPw6Tl8uvGzE/LmHurQYaMT8PZeq8CBgxP7ODm7lTFjE/IrSD/78UMT/QduogHxMxP4Udua1PEDE/5vbcyLwLMT+TSEDFTQQxP1KpwDry+TA/pAbi5m/tMD+yOJf3/N0wP70PmkAIyTA/dJc8d0urMD/4Wknq3IEwP+6SuX+dSDA/hixguHLzLz+XcNKKsxkvP0FD1rh36S0/RxYrshQxLD+lOpwU05QpP9iDc9fvJCU/Ib6rFTgkCT92EIOsRWcmP9v+EK2WYi0/P6W10BRyMT/YCbQec+MzP2JAHIu5KTY/Jqz4pEtUOD+oOVPKZmw6P3IJgdTpdTw/YHtrjQByPj/houlG4zBAPz6aPeYMI0E/kUbJ+TUPQj+LFlhzhPRCPw5TP6t+0kM/Eny8i/aoRD+XP9LWnHdFP5dhCimIPUY/9KPhlLn5Rj9/+ikZ4KpHP4jVsYk3UEg/BgxT8PboSD+21oSlm3NJP/1HHtYa70k/bJACRShZSj8AIOLA1q5KP68bIcnN7Eo/C3tccV0RSz/9jBKVDBpLP27qD6L+A0s/V6ac5KLLSj9Lh6dxdmtKP1iOlBXR20k/ku5UPNkQST9kpyq0/flHP2R2zHhYekY/DJO3csxdRD9HYSb7AiVBP6+97fBerTQ/uO04qfX+PT/ahqjzclZEP3eSHQezHkg/1DSLe6NCSz8S9t8eGgpOP0qDMztTSlA/P41RmOR5UT+1CTbBPplSP1f7L2gFrFM/mYpZY1MdYD9/UPvTZMtkP7kF+wkIIWg//LUUT/+Saj99FJBfSFpsPzOzhyDEmm0/BIxjqv1ybj8SkZMqDv5uP5Pc10U1U28/wzhzoGuFbz88BdUTUaRvP8sMDoQavW8/ICCTWM/abz8OhorOSgNwP3N8OHEHJHA/D9JsytBScD8=\",\"dtype\":\"float64\",\"shape\":[97]},\"GBx_moment4\":{\"__ndarray__\":\"HPglH1orUz8c+CUfWitTP/bXojpaK1M/NzcTxForUz+59fPWWytTP1fzwY5dK1M/Km9qkGArUz80ae3bZCtTP9tgPt9qK1M/bJZjY3IrUz9ZauYVeytTP328QxKFK1M/9kgqI5MrUz/GD5pIpStTPwg3kxu3K1M/Fq7XjL0rUz+QWUhItStTP9+f66+ZK1M/sYuCHnorUz/cKMcofCtTP400If/mK1M/4u4WwhYtUz+Xdwsb2y9TP3ps3D5KNVM//q4YBes+Uz/PSMGpyE5TP8jiTWqnZ1M/9jvRDCKNUz/+cHWXu8NTP+UZzezgEFQ/1wkN17p6VD+Nx8lb7gdVP7f+nt8Fv1U/IcRA2OOlVj+PHMWPM8FXP+/EzAAHFFk/Hh7acOWfWj+2AJROAmVcP++E7ryTYl4/wVKm36FLYD/21dFItoBhP4I2e5ikz2I/ny5v6343ZD/UA1jAWrdlP+HEkXhSTmc/Z1p43IT7aD++IYpSDb5qPwNFQpAJlWw/UT9wmJZ/bj+VnmA0aD5wP4xnWwzoRXE/2b8ywNNVcj+eT6wxsm1zPwm5mMgIjXQ/6/9qvluzdT83suLELeB2P54XxEoAE3g/937hXFVLeT8+V5Dsroh6PxjuieKPyns/DjklPHsQfT9Nwb0a91l+P5VFXF6Lpn8/wvAjFOF6gD+GKg0hlCOBP8tpd9omzYE/eWI6kmJ3gj/rQehwEiKDPy4OPv8DzYM/iZbuxQZ4hD+fL5U17CKFP2HSH2eIzYU//6QCcLF3hj8t160uPyGHP+h0wzAMyoc/X+9KB/VxiD9nZMWt2BiJP9xudUWYvok/DG5zfBdjij87x8x6OwaLP4F0rLDrp4s/hb1b6U32kT/rXqh1e0aVP+9bAxRQzJc/tDmC33ymmT+U+NdQPPeaP6p8yo/K3Zs/5u2O4NR0nD9DlNtok9KcP5dIZzVkCZ0/DYzdunIonT8N7XPnTzydP4JCmDZ3T50/ny7jirFqnT9rxejNaZWdP9Ruy7Lt1Z0/ePjaT6Axnj8=\",\"dtype\":\"float64\",\"shape\":[97]},\"GBx_rms\":{\"__ndarray__\":\"V2uHHyReTT9264kJJF5NP8nLEM0jXk0/NIwZgCNeTT8pjS3QIl5NP4hOStMhXk0/ZW/cMyFeTT/Xz2XhIF5NP6ONN3giXk0/8SdAkiZeTT+J34+gLF5NP5Hy//c1Xk0/XDyu90VeTT9TX03iWl5NPwkjfENvXk0/YbcHqXdeTT9RBBdXbl5NP5OgZ/tZXk0/TcQ1TFdeTT+adI/Dp15NP2D//KC0X00/jlAfqhZiTT//0H03CmdNP9wCF60scE0/TC+jv7d/TT+q7exiqphNP/8m3GH0vk0/gtiLm4v3TT/RaMjZikhOP8geb1ghuU4/jBjwIGtRTz/DMB0TJQ1QP852eTl7jlA/vojGszwxUT/hUc5LkflRPxRFw38F61I/CTZhzGwIVD/+MfTZz1NVP+UiGjtqzlY/WsklzsV4WD9Y+bkv1FJaPz4LcY0QXFw/v+E5cJKTXj8DTfYZGHxgP/E5qxpIxGE/H6xRl50hYz/t22CXTpNkP9YOY6+HGGY/g/VMZm2wZz+yt2cpH1ppP7iyMV+4FGs/VtwZXU7fbD/F7uw/87huPyzMRhhbUHA/Jb3tH9JKcT9mQwXmZEtyP8j4NhCZUXM/i/YfsvRcdD+YTTYd/mx1P+lsRwg9gXY/MzLGEzqZdz8Jv+7agLR4P9LJGkGf0nk/r0VfhiXzej9tgfYHpxV8PzrnOXe6OX0/Gl0rh/lefj8rU5EoAoV/P3r1Q4a7VYA/GhSphv/ogD+aGLB7InyBP8UmmzL8DoI/fQsflGahgj/DaBSaPTODP2StUI1fxIM/G9GY7axUhD+i5OJjCOSEP2jRT/lWcoU/Ngbpnn//hT9Ga3Ica4uGPwpOFT0EFoc/YNuEdqwkjj8v8iJ70+CRPxrQy1uHAJQ/nigJibSNlT9S7F6qdqaWP+jRUk67ZZc//SyRaT/ilz/b//NA0y6YP1pgGHvyWpg/XxKh8F1zmD+/8pwEoYKYPwn35hGFkZg/5OVds2SnmD+PhvgsdMqYP/kFY2D3/5g/yWfaR2xMmT8=\",\"dtype\":\"float64\",\"shape\":[97]},\"GBy_centroid\":{\"__ndarray__\":\"knsUyTBBzz7H2TTvJ0HPPsnDaouBQc8+zLmX22NBzz4PydfcWEHPPtvQ6Oj8Qc8+U69fdFdCzz52sr5ySUDPPjKcxkjkPM8+JGb8vi45zz5mLi9xuDPPPga3SDxkLM8+bOZTWMwhzz6Trxp7TRXPPuLKwvxkB88+kMD3xV76zj4EJBWlze/OPuvyw0Cq7c4+s5ZEPZL9zj4AsIy4UBrPPsVPCDFdNs8+EhkW8otRzz4sYmsuVl7PPip7k52kZc8+vSe1epRuzz6IOsEooXrPPmm6GUQEj88+kQutHve3zz76cuyCZgDQPqzMwmG5NtA+e/IYMQ9/0D6N4ESIoNrQPgQFtZ0hTtE+IGiFDFva0T4Qo/6qGILSPow4eV3oRdM+NEQp7w0p1D6A6InIkzHVPjVCgaTLYtY+rfJawyC+1z7PMK+5uUXZPhu7DR4L+No+cBY3UFLW3D5ZyUpqoeLePoIRHiwjj+A+P6Tp6vDD4T5OAIq3mA7jPuZwXsYmb+Q+Dq5+K4Xl5T5TuyhHinDnPvGTU5goD+k+qu8EUyPA6j42kjstEILsPgnd6aTLU+4+88MKdwwa8D7Vse6rVRHxPlu14rJ5D/I+7S/b154T8z6VyIA8uRz0PkrK8jkkKvU+GcYPji079j4kdOuwK0/3PlSwh1VbZfg+ZKzvPOB8+T4xyiJCBZX6PhrHohUdrfs+FfhhwKDE/D7BpDkD7tr9PsDgwBKI7/4+S5QULfgAAD/n9t4V2IgAP/62Q7MoDwE/VeSLx7mTAT9dpMhZcBYCP7aiDW0/lwI/3o2q9BcWAz8Q1+gj8pIDP4zQhpy3DQQ/AgGQG1GGBD/vuscWqPwEP/FD40qvcAU/xEuY2EnwCj9bDtJco8cOP4JizeoUrxA/EPHRSkeNET/LSVJNkiESP3yooYDogRI/Aytf4kS+Ej+8UHgnHOISP/ZaJLf29RI/EP99Izr/Ej8s1RieNQATPz4vE09VAhM/gap0CsIIEz8SNeKYIBYTP3mcUJe+LBM/dgREFJlOEz8=\",\"dtype\":\"float64\",\"shape\":[97]},\"GBy_max\":{\"__ndarray__\":\"HtGSfY/3bD8e0ZJ9j/dsPx7Rkn2P92w/HtGSfY/3bD8e0ZJ9j/dsPx7Rkn2P92w/HtGSfY/3bD8e0ZJ9j/dsPx7Rkn2P92w/HtGSfY/3bD8e0ZJ9j/dsPx7Rkn2P92w/HtGSfY/3bD8e0ZJ9j/dsPx7Rkn2P92w/HtGSfY/3bD8e0ZJ9j/dsPx7Rkn2P92w/HtGSfY/3bD8e0ZJ9j/dsPx7Rkn2P92w/HtGSfY/3bD+pBg0BqPBsP/rL+IRW6mw/L8eEf2XqbD9LF/3JYfVsP+UhNMOEmG0/2zD7Vpp9bj8TkWmGt3tvPx4QQ09sfHA/CpMda6NScT857NX/7T1yPwYZir3MPnM/OGqGDqFVdD8YhA0meYJ1P0H0FX0tw3Y/YzMtWegWeD9CcWu9ZH15P4ueg0JX9no/N7pUMmqBfD+NIsYPNx5+P/NGTQdwy38/xzDJ9pHDgD+DVruBXaiBP+zvSYDKk4I/jWOX9ZGFgz97bCGBbH2EP0kgttgTe4U/XcU4OD5+hj/RYYYSooaHP7x+Qu/tk4g/Sr2kukuliT+bshJ0LbqKP0QpT5BA0os/Ald3ATbtjD+x4n/rvQqOP1tbAVCIKo8/vUuQriUmkD8jB8lb3reQP6WGo5xJSpE/T02OqkLdkT862L4npnCSPxhXHbhRBJM/RyMRrSSYkz+cWhsC/iuUP7e1E5K9v5Q/kEAUsENTlT+V0SGgXeaVPzHCS9jNeJY/qnefgHkKlz8v4Bn4R5uXP36iozYgK5g/zyn7wOu5mD/vk5EdlUeZP6IEzUwI1Jk/D+0cMDNfmj8nWUeIBOmaP/jFpSptcZs/graGZl/4mz9JbBmezn2cP/qTK86uAZ0/ujoeOAnToT+nnZJaxW6kPwgcjWx8YKY/Itw51LzRpz8kSGO8//KoP7VgfK1Yt6k/xmHxGkI1qj95oMLPh4CqP4T8AUm3qao/5G5rZoi+qj8CUf1xZcqqPwIbwdrZ1qo/lGMxOOrrqj+zbr48XRCrP4mqg6/0Sas/8+SaApmdqz8=\",\"dtype\":\"float64\",\"shape\":[97]},\"GBy_moment3\":{\"__ndarray__\":\"pdoi+6HAIT/zAnDyhMAhPxykH6S0vyE/zYap61i+IT8G6SEeRbwhP8lBSIEjuSE/bXZxfmO1IT+WBf3bqbAhP7m/kXgtrCE/BQi81tmlIT91rX+xip4hP29Ua9vylyE/DeLO6YGSIT+7TfYLPo4hPx47zZINiyE/6iQT7mOBIT88I1XJ/HIhP0ghBlKeVyE/wVDy3Is0IT+Aw1mirQQhPz4K0Wbl2CA/hqn8i47DID/iu8LcwuEgP9cWcgiWLiE/M3AGV66rIT+c360y21IiPwXY0szJIyM/MK/BO9UYJD9wq6FEKDslP8GZguONnCY/sSyAC+9TKD+8lUrcSHAqP/iwTTda+iw/03ssxW36Lz9qM3ABKbsxP73SKUdIuTM/gbhwyYnzNT9iRzNdDGY4P51zit9XDDs/uWeNsOHiPT+XZh77D3NAPwPyZxGWCkI/uEm6yJi3Qz+Ob1NUR3lFP5llEXpdTkc/MB1UHLo1ST+/nNgUci5LP7v/Mwl0N00/4EFieMVPTz8QI16AeLtQP17jwTo41lE/7LdZce/3Uj891ZFCYSBUP8HS0ZYgT1U/aT7ZH7CDVj+d86DPcb1XP3a/9ebR+1g/2/2cFWA+Wj/Up4ArxYRbPxv/X6iMzlw/97KWRjgbXj9BEvcSSmpfP/uQQpilXWA/Y4V5lOwGYT/zJEHlzLBhP6Yw7LkXW2I/yfSqo6EFYz8qrnjTPrBjP7gKKKzCWmQ/4USCFgMFZT8wCCgt1a5lPwQxi3MNWGY/HukmToIAZz93v2NfBqhnP7ZT+M1rTmg/IgsCN4zzaD+wdNnHRZdpP740eU1+OWo/W33rPh3aaj98jCQHDXlrP3Q+dj85Fmw/oezj6aAAcj+6yuzSUxt1P/Qw679yb3c/UU6Nv8geeT/0rb9/lEx6P6qTYCc9F3s/7O8lA3KYez8Nmi4sheV7P6YuxuzfD3w/eEmur+0lfD84c9fwvjN8PxLT9tHfQnw/6AdO7plbfD9AGzB97IR8PzzyAADLxHw/eQiLFE8gfT8=\",\"dtype\":\"float64\",\"shape\":[97]},\"GBy_moment4\":{\"__ndarray__\":\"vr6ByrJHUz++voHKskdTPzAfC3iyR1M/on+UJbJHUz/fYUOJsEdTP9VnwD2sR1M/erB1A6ZHUz9c29ksnkdTP7BmxwOWR1M/HzGif45HUz/69zGPiUdTP89a7YSHR1M/9XpwaYdHUz+TeD4hiUdTP/2N4MCQR1M/fJeI96BHUz8tUeWPvEdTP7fkIaXzR1M/V6sRImJIUz/chBE4H0lTP5ifcL5lSlM/FecFp6BMUz8TgdE5hFBTP2Hyw58hV1M/fBbv+wNiUz8QoFIpXnNTP9HA4R8cjlM/LvzMmAO2Uz986obd3+9TP8TyYDRvQVQ/eTVJ/xWxVD9vWTc+kEVVP63z66d4BVY/h+M1Anz2Vj+a2jQf4BxYPysme/M3e1k/hcSPS4ISWz9T69d/mOJcP3/ozPVy6l4/H2mYbEiUYD/t7kdqls1hP2z7Y8k4IGM/mpj0z0GLZD8lRRTtyw1mP5F4R7f2pmc/3wQfvuVVaT8Xa9dDvRlrP5tNSZOg8Ww/k9ByrbHcbj8FrlHkB21wP5KANMdpdHE/2SI6IwmEcj/tKagNb5tzP33ERXQjunQ/JcOC36zfdT8JAA++kAt3P/XPsZZSPXg/khZbvnZ0eT+ZmJDJgLB6PwcQf0L28Hs/rE6v1Vw1fT+TUzAsPH1+P/Oh4LIeyH8/Fq1xcMiKgD+fQFrPkDKBPzX8AEIx24E/ii6U+XOEgj+J7zcnJS6DP7XwTbcS2IM/4YeKPg2ChD8NqOZb5yuFP9wJSl911YU/gh5EFI5+hj/1dLXiCSeHP6JgVL/Dzoc/KZo8oph1iD+hnl8QaBuJP/Z/zNYTwIk/d52bo39jij8bA1+PkQWLP/mqQQoxpos/kMfojU7ukT+5lRQOcziVP6xxFQ8YuZc/NPgwuDyPmT/nlCyZ9tyaP5ZhUxxEwZs/AaroqqFWnD9BsN1PI7OcPzbQi/kK6Zw/uzc4cW8HnT9q4ArS0xqdPwi5qYafLZ0/yOa3o5BInT/jZTlICXOdP3KMtdZPs50/FCgEoMEOnj8=\",\"dtype\":\"float64\",\"shape\":[97]},\"GBy_rms\":{\"__ndarray__\":\"aA+amLF4TT9Kj5eusXhNPw2PktqxeE0/VY6DXrJ4TT/MTXjBsnhNPyAu/4SyeE0/GI5+irJ4TT8VTWlFs3hNP8kquey0eE0/uyZk2Ld4TT8efi8NvnhNP6BzU5zFeE0/LEoNa8x4TT9LH6lB1HhNPw8FgyfneE0/vdJjZwt5TT8TtbfgTnlNP7Ql2jbNeU0/tj6Rxbh6TT9T1lGzRnxNP8bis0zxfk0/PeXXInCDTT/cKBTc5opNP2IB2DDmlk0/cO8o+q2pTT9xHjjTXMZNP1J0rMLk8E0/ZM4ilzsuTj+yQyFQh4ROP+dpnI0D+04/N2jC0cWZTz9CP+chxTRQP0z6ksWxuVA/QYAL+BVgUT8F84O2/StSP7oqPKfaIFM/oocWLGBBVD8pukCWfY9VP0RIpEhaDFc/u+A87nW4WD/8hVy5t5NaP4A53EqUnVw/BzwCkSTVXj97lMAYoJxgP7T+9rtH5GE/aLCqGM5AYz8gf5dAa7FkP+rMf0BONWY/9oX6157LZz+8DgzRfnNpPyQTVZcKLGs/i1Qoq1r0bD+LqHF9hMtuP6/kfhVNWHA/4kmn/lVRcT+gwjraZFByP+TWe6UAVXM/UwaGm7BedD8hcOtJ/Gx1P+1IaBhtf3Y/24OZgY2Vdz+0wJVq6q54P6ybKEwTy3k/zkU755npej8J/KDwEgp8PwcfczMWLH0/Gmvwlz5Pfj+3JhxEK3N/PzUR382/S4A/MkjczPHdgD+a0kujAXCBP9E7B2rHAYI/IzRHdB2Tgj8g/VoO4CODPyxtr8zts4M/hVNfiCdDhD95xGc5cNGEPyQFUyOtXoU/+nsDdcXqhT93cK1/onWGPwwweg4v/4Y/Le50JO3/jT9xCklrrsiRP8FzkXCR45M/2nQv8A9tlT9FEMbTG4OWP0fBRJ1oQJc/jeHQrIO7lz8jGj20GAeYPzhdREuGMpg/cBUuJXdKmD/LDTqsZlmYP/sv8fYJaJg/sr9HWK99mD+gTlOtgKCYP4kh6FG51Zg/rXG8VtAhmT8=\",\"dtype\":\"float64\",\"shape\":[97]},\"GBz_centroid\":{\"__ndarray__\":\"r7X3qSo0YD82bQ/SfT9gP3wSKy7Nd2A/W0ux/QX2YD/5O8bjSsdhPyVXZEXjAWM/b7wf3SbhZD/oCSgtjI9nPyHpjp+4JWs/9vwGMGDebz8aZd7r4v1yP7/YYzCr4XY/LWmbk727ez9JQiiU4daAP/AgUbszYIQ/ONMu7W56iD9O3bOziiyNP21OpIIqOJE/qozS55sblD/duwPFWj+XPzoD7jybnJo/AZmWiwoynj//JdTMjfugP9ablRBT8qI/cW2Kwoz7pD+U70x6dRSnP26U8uP6Oqk/8TKsquNtqz+9eHkZSautPytm7Jp88q8/vH1074MhsT9iK8uEHU6yP78G7odyfrM/HnWpTl2ytD/Zw2Hg7um1P/xpj1Y2Jbc/euoc+T9kuD/jeusuFqe5P69cTo3A7bo/ZstFvkM4vD/oVbZyo4a9P+AlH1jh2L4/myOGeH8XwD8TTkUJfsTAP+xH7fJrc8E/57Fe80ckwj/gnQCzENfCPxlrh9jDi8M/1XinCl9CxD+CkVUZ3/rEP6nwDL9AtcU/4ssC9X9xxj//OnmJmC/HP0oazPSF78c/onv3Q0OxyD8D4n1uy3TJPzvojtUYOso/+LfT7yUByz9Fzojz7MnLP7/diqtnlMw/qkUjI5BgzT/DKbUPYC7OP8WtoybR/c4/iWbYB93Ozz8EreGevlDQP2+doMnVutA/ggdhybAl0T8afdR4TJHRP/keJsil/dE/a0bEnLlq0j8Vo1P8hNjSPwmsNfcER9M/6hAPkza20z8ALvEVFybUP7LQc7CjltQ/K+QhvtkH1T8IG0OltnnVP6hFEvc37NU/Gd6TJFtf1j9iYW//HdPWP1RnnCN+R9c/p4DuqosE3j+BYXW7yZXiPwJaoeXMWOY/lsD3SJRH6j8Ttn5+CF/uPyAMPPceTvE/+j1WlSJ+8z82pnG5C771P5QL3wxIDPg/wUMHEzVn+j8fTrvzH838P5vo81FGPP8/QJJIkWvZAECS6dDpeRcCQJFyQcdYVwNABUqvcg2YBEA=\",\"dtype\":\"float64\",\"shape\":[97]},\"GBz_max\":{\"__ndarray__\":\"r7X3qSo0YD+vQs7jPp53P/32JJmdkYU/PRNGJQhmjz/pOXBuFqaUP7bcMSYRopk/Q1GMa/2mnj9xeOPSaNqhP0IfIvHPZaQ/9Si6AMT1pj+CGGKhSIqpP2gpaHlvI6w/6jfUbkLBrj+LXXX547GwP2xcYtmKBbI/SjxA+p1bsz9R5URTJ7S0P0/s2yg2D7Y/aLzxEdhstz8WFLUdG824P0t2KugPMLo/lxiRScKVuz8g4ziNQP68P5R89J+Yab4/V69kv9XXvz9YzyBw6qTAP1Kx9wOaX8E/+VAe7eobwj8axhfM49nCP5wc276JmcM/5h4zzOBaxD9jl+r67B3FP05oDiCu4sU/uAhr5ySpxj+DB3pmUXHHPxayiJsyO8g/a4uEGccGyT+IEBWyDNTJPyTo9Uj/oso//7KcAJpzyz9iTWVR2EXMP3SlEly0Gc0/LcEUqyfvzT/vcDs0LMbOP9ArfWy7ns8/6fiBDmc80D+D3tkmLqrQP0d/HlmvGNE/B/ORc+aH0T8NFpDuzvfRP0N0hONkaNI/I9IdYaTZ0j9g1hdLiUvTP8ibV9APvtM/1OaL/zMx1D9P0pkH8qTUP4+0TG1GGdU/JMZ8ii2O1T+gPwK5owPWP3Dr0ciledY/UuoWqjDw1j/Td0wXQWfXPwUL1CDU3tc/hFb1LOdW2D/Pm3G3d8/YPxDG0xuDSNk/o6j5SwfC2T9wTwQvAjzaP7QcS8xxtto/HDriNVQx2z+Mto2zp6zbP+egEY1qKNw/8parH5uk3D8Z4wUJOCHdP6peRPw/nt0/KMg64rEb3j+mFgCZjJnePwFc+8jOF98/gXTzhXeW3z9hyfIBwwrgP2fYxcB8SuA/oxm0JeXt4z/zjlN0JLfnPysYdMYgpes/PX0lDNq27z+XKgdpfPXxP/nLOFfeH/Q/BSotbYJZ9j/LTGn9LaH4PxDsU+mC9fo/sTyjCARV/T9eDrvvGL7/P2d7mc2IFwFA6V+SyhRTAkC/rQUHxZADQObDWEumzwRAY2GInL4OBkA=\",\"dtype\":\"float64\",\"shape\":[97]},\"GBz_moment3\":{\"__ndarray__\":\"GrDo4e06hz4Eyg28hDM3P/HxvCUPvFA/PWgkKBjzXj9n8o1kr/BnP18Z6FpzwHA/k/86EIH+dT/s6pHrhqt7P4/qSVdv34A/68ffI4YQhD9Dih1nfFqHPzt+0PwvrIo/vfrRoAPzjT+61WSnzoyQPwOFk5epB5I/laOi3y5jkz/BHWY3TJeUP99IxIceoJU/g+lq4Wh9lj/ddnY58i6XP59OWx7Jt5c/M8Fr9acdmD/v+rO8/maYP1BdidgRm5g/PTEJHKvCmD9FnUJ54uOYPw5pCFIfBJk/L6k64a4pmT9AyR83vFOZP7o42/B8hZk/EiAkulDBmT/aJpvGhAWaP3xqzFYkR5o/D/9iFteBmj/fMSgSzbWaP7sOCoc045o/FdFq2T4Kmz+VGd7IFiubP9iOMKzlRZs/aWZ3kr5amz8kL8vUrWmbPyBarxLBcps/ncNFhgZ2mz9GEr+NjXObP6CBNSdfa5s/UjugxYJdmz/iehlnAUqbPz1Gyi3lMJs/As2eBjcSmz/6Jie8/+2aPwBm/p5GxJo/2STzUxKVmj9a+N4FaGCaPy4KQWJJJpo/yKFx7bPmmT/k4sYyn6GZPxUJvzf6Vpk/lPzZprAGmT9iw3ABqrCYP0QEfLTBVJg/fipiacTylz9wlScQdoqXPyBXX2eHG5c/DsnQfpKllj94bmo4FiiWP+Oscf5yopU/Ujcx098TlT9KDpEAWXuUP8SLIPaL15M/2RXpNMEmkz9g15m8rWaSP9XjPVUllJE/8oouD5yqkD8KU872bEaPP2sZ6FuY5Yw/HstLlkQKij8ANkFQRVyGP4NmhVHxwIA/OLGKrkAxeD/APRnkMTGEP3yidrWYfIg/Smy7LM19lz8w+m/9cmicP0Vt0bgmk58/9Nw9nmjnoD+A3EsIwLmhPxQyKoVNWKI/zJTte4jRoj8oX4S0vC6jP4pAJUk4dqM/5h5KaFasoz+8b3+lKNSjP5pbXg/f76M/9r2kNhMBpD/SSAfI8AikP4iWrPJTCKQ/+Qu84d7/oz8=\",\"dtype\":\"float64\",\"shape\":[97]},\"GBz_moment4\":{\"__ndarray__\":\"2OUzXE7LwT7TUDxd2ztEP61j4KkV4Fo/7vnvdyecZz/KudvQMJdxPyq3M+Mb8Hc/oQDzUKC2fj/wncrB4uuCP3Jkx0FnpIY/PsfQfJF6ij/Q8dHijGGOPzM0UnqcJZE/+irTEbsUkz/MYx4QIPeUP19pN/9RyZY/bFqHdXOJmD9Twe14rzSaPy/BiAE7zJs/lBDkVPZTnT+qJgzzs8ueP03U7jE6G6A/70WxZcTIoD/XtJyV/m+hP1zHGw2eEaI/rDATy4Gsoj/JzHw8MUGjP5WhHXzQz6M/wovpApFXpD/dy5nHQ9qkP0rNhkt6V6U/3jxMMNnOpT+uT79fWkGmPzotf4s8s6Y/nWM2hAcmpz/Ih7BMhZmnP9wWXcV/Dag/xSi+kMSBqD/Wn8LmI/aoPwGOK5hyaqk/V/OGdY/eqT+zahegW1KqPwaDT5m5xao/iacXr4s4qz+vJcN1taqrP/HHZqccHKw/teEGNamMrD8fZ5X3Q/ysP1BMYjnXaq0/DbXT+k7YrT8Xxa2tmESuP0eU5COjr64//3Ww9l4Zrz/yk4b0vYGvPw/6RjKz6K8/5/cKxhknsD8i9hbKGlmwP2IkmpFYirA/VKxKvc+6sD/GKBSRfeqwP4exRQVgGbE/jkwYsXVHsT+3C6L1vXSxPxNmAMY4obE/GSD8hObMsT+I2oIayPexP4KDLd7eIbI/rsfGgSxLsj8Kp1svs3OyPwvmwXN1m7I/rAcBNnbCsj+csqqQuOiyP3SZfq8/DrM/k4wv6Q4zsz8s8YCyKVezP0NEkqKTerM/14XOVFCdsz/HRBp6Y7+zP90biNTQ4LM/2ih2KpwBtD+TAGA1ySG0P/uoR5lbQbQ/LAPRCkHLtT9+d9KSLP+2P6IdDzSh9Lc/KjWcrv66uD/EuLgZsFy5P+6GRAwB4bk/tEM2byBNuj/yCkRPyqS6P/iB1Luy6ro//4l4iNIguz8pNDlKmEi7P9sIOEIOY7s/2PXJWfFwuz9OQm1ExXK7P+aC6WrhaLs/tJ/WfnxTuz8=\",\"dtype\":\"float64\",\"shape\":[97]},\"GBz_rms\":{\"__ndarray__\":\"Kle63/8BED5ZNZfNvqsfP+Yn6SIEMjs/T0VUiLj8Sz+uTZdI2GVXP6OCPUAUYGE/UW+hhsoaaD9EMwxtMgJwP6AuyqTxiHQ/05FTaNaaeT+UKorFGi9/P7FBXzHcnYI/QwOVF7fWhT9eAvcJjjWJP0FTSXm6row/yGnMR/kZkD80czz3AtmRPwLPeWpOjpM/aivGXsc2lT+7wSJPKsuWP3C8xiTfSZg/I+91gpismT/+ENRWEPaaP3C7D8HqKJw/Uonjpw5FnT8axqC9QU6eP6i3G1GVR58/MGRP5EQZoD9YxUFg6omgP+IKEThe9qA/h7ePWxpfoT/zLysPMMWhP+f75lTrKqI/DpiUdvuQoj+k8gygM/eiP32s2/5nXaM/0rNRhHHDoz9CwYooLSmkP38EK3J7jqQ/m/q1/0XzpD9YxzNgd1elP2GaOKX7uqU/ClAWaL4dpj8xfWhMrH+mP3rUG5Kz4KY/eJEMsMRApz+zchHa0J+nP/4S1YHK/ac/86dY+KRaqD+NN0O7VLaoP67Tx8rPEKk/TIJJhw1qqT9oxo4FBsKpP9S3HTGyGKo/DBuY7gtuqj98upScDsKqP1v7AHm2FKs/lOlOsgBmqz/zHxlF67WrP3wbZXR1BKw/YcTWHZ9RrD8j2U5UaZ2sPyen1vjV56w/HtVQbecwrT/MgGy/oHitPz8hsn0Fv60/TEudYRkErj/OEA3Z4EeuP7H6rP1giq4/Z80OP5/Lrj8ra7c3oQuvP7zxEdhsSq8/3n6JEAiIrz9RMInReMSvP6c72C3F/68/J3QBqfkcsD/UQZa5hDmwP4Wwh+eGVbA/4Wz+VQNxsD+uEV4O/YuwP8mwJw13prA/HjG8inPxsT+KiKx/IfWyP2cSUDzCxLM/abAluwRttD+6k/eNifa0PxzLok1hZ7U/sae609/DtT9j5jpBJg+2P4tErdh7S7Y/PEr1Aot6tj+JnYnmip22P3YCiCVftbY/u3IoCarCtj9rR5dV3cW2P7jTjPtFv7Y/6efMxBSvtj8=\",\"dtype\":\"float64\",\"shape\":[97]},\"beta\":{\"__ndarray__\":\"6YJ0FEtBYz/lYmBiUlFjP4tBFli2xWM/sELIvEAXZT/vnwS8ILBnP8blsGbhxWs/Bf+r62jFcD88GZkRMIt0P1f9rFobKHk/Eue4hXSZfj8Zyb3A9W+CPwxrTlE6AIY/hTDk/ED+iT9LvdmsG2uOP6PiFiseopE/YcaLuhNClD/RHy3dQxOXPwapfh+6Epo/JUAGWM88nT+zyWATOUegPw7hOvRNAqI/BczwXVLOoz/RPV1wFaqlP0MfXJxZlKc/Jk1lTB+MqT8RtlH9gJCrP/CbpPSqoK0/9ZN7y+a7rz/371WGzPCwP8Nm8mCaCLI/vo1TyCMlsz+jlFeBNka0Pwa9rpSia7U/gcU1zD2Vtj+j7+os5cK3P1DQKIh69Lg/nuRYKOMpuj/fCGILB2O7Pzyumb7Pn7w//raKcifgvT8/mn8u+SO/PzUUTj2YNcA/9BiCb9zawD+wNHTcvoHBP9kxQx01KsI//UuUtTTUwj8igybTsn/DP4i5xXikLMQ/BwfePf7axD/rR/VjtIrFP9yrJOy6O8Y/FZglbAXuxj/w4jdkh6HHP9RcVZMzVsg/zILk+PwLyT/UWn/o1cLJPwVcRqCweso/lW7gSH8zyz9RsJSfM+3LPwM/qmG/p8w/tBp1IRRjzT9rQ0lxIx/OP2qbh7je284/2JMKdDeZzz8KwNx6jyvQP4T3sHLDitA/fGEyVTDq0D/1/YrrzknRP0cjGx+YqdE/yCdD2YQJ0j+x8NwYjmnSP5C5+PysydI/0kwgutop0z/IA1eaEIrTP6bGGf1H6tM/YpvYbHpK1D/XFn2JoarUP6Lr4x23CtU/tSIgFbVq1T/jU75vlcrVP8Q0PllSKtY/XNcerLVm2z+QgBMCoCfgP1thVRi2YeI/3qZHbNpZ5D9JR97e2g7mP7xVnfYQhOc/ZW5CSoG/6D+Wjfd4W8jpPzHfbgfypeo/tV/KAh5f6z+PB/BQ8/nrPzIF52Ope+w/KnH81KHo7D9g50OjfUTtPwdKArs3ku0/dM0muD/U7T8=\",\"dtype\":\"float64\",\"shape\":[97]},\"deltaGamma_rms\":{\"__ndarray__\":\"qnOOX4eyqj6Nkdsw6TCuPvqprGVtQ8M+2ait0cbD2D4b98HnYI3pPp1SBkm9vPY+mCT0nZ1VAj/RL6hdkJ8LPyFF2pd7zBM/h4QpfX1NGz/8O2b1bD4iPwXkWcR1wCc/0GFkyQY+Lj8EW9XWleIyP8rsiR64MDc/08YtdwEOPD9d1CnQe75AP2/67VV5v0M/29iLPGoKRz83C2WWI59KP4w1ykZGfU4/7CxfwBdSUT8IUlodj4lTP4Kn7XfR5FU/XIq3z5tjWD+XOMx5wQVbP4zyUSkry10/PbQOleZZYD8b1sLX2N9hPyBU1KJ/d2M/pLOjo+IgZT/8kn6TDtxmP+sJGXAgqWg/3aQ5YD2Iaj8t/KDzgXlsPwDGcMsAfW4/VVB7UGNJcD9TWipwbF1xPxfynPaaenI/DuIlJe2gcz+RMnT4XNB0P1VYMknhCHY/w24XG2xKdz+s3muN65R4P/4dAxJK6Hk/QG4cgG9Eez8PVmEIQKl8PzDg0tmcFn4/YQR6kWOMfz8ef9iAN4WAP3Qi/rdLSIE/ZSUCZlkPgj/6bo8uStqCP0vgWzsGqYM/6DespnR7hD8yZZbze1GFP0FJFGkBK4Y/6AEfyOkHhz/nNeMlGeiHPwCMjZdzy4g/QgTGQdyxiT9bzuyNNpuKP/sZYuVlh4s/Yc9xSk12jD/L1me/z2eNP0gw7GjQW44/FsRKSTJSjz/a7B92bCWQP1Lcw+7TopA/c7Pf3UEhkT9u3WVwqKCRP/0ALyn6IJI/qdxvrSmikj/lOouzKSSTP5It+FjtppM/rbr/qWcqlD9xR1s8jK6UPwFF8rZOM5U/DGCSFqO4lT8NXWV6fT6WP1MY8SPSxJY/deYjy3dgnj9zuGhelPSiP/sB5IvDh6Y/xu7aXDfQqT+bFMjnc8CsP1WTxrlkVK8/MY4swSvHsD+LO+hWK7qxP57eL+ARh7I/5C1c+O8xsz8N1AHHoL6zP17JTnKZMLQ/z02gKtSKtD/i+qW10c+0P+4cHlCjAbU//r4AdPghtT8=\",\"dtype\":\"float64\",\"shape\":[97]},\"gamma\":{\"__ndarray__\":\"7Yie7wIA8D/tiJ7vAgDwP4d7dgoDAPA/8kXWdQMA8D9jzW1nBADwP3QEFfoFAPA/xprbzggA8D8paEk2DQDwPz0cbtETAPA/pGZZQR0A8D/NzqJ3KgDwP8POuYA8APA/LtPlg1QA8D+zSG6ocwDwP2Nm+oCbAPA/5JjRNM0A8D9IF5tWCgHwPzROng1UAfA/hI/StqsB8D9EVadeEgLwP7T+O0eJAvA/RRMoYhED8D838orxqwPwP2EwJMxZBPA/mGKzyBsF8D/pAqjz8gXwP42z6QjgBvA/XAk43+MH8D/Fiypo/wjwPwPdqF8zCvA/7pFynIAL8D9aP0f15wzwP+iUNgtqDvA/owyw6gcQ8D8sVsM0whHwP/P4B9uZE/A/NJdlmY8V8D/ExZtGpBfwP6/+Ge/YGfA/lfHvMy4c8D/nJbUGpR7wP3swKT4+IfA/wZjjy/oj8D/1AMxr2ybwP4fweQ/hKfA/sgnVcgwt8D9N4ZxsXjDwP8f+aO7XM/A/9/b4znk38D9+eVyvRDvwPzAbU2Y5P/A/f2N05VhD8D9xD/iyo0fwP9uznaUaTPA/k+UklL5Q8D8Eb+3pj1XwPznKZrOPWvA/BM8YQb5f8D85EsNpHGXwP3lDdc6qavA/Ly2P2mlw8D8xZNBkWnbwP0/AwL18fPA/xONHodGC8D9hpu1fWYnwP8a3wZoUkPA/w+9LogOX8D/4/ZsXJ57wP9GsEWZ/pfA/guFcwwyt8D8TWbW1z7TwP+3deqjIvPA/4Ec17PfE8D8jfJS2Xc3wPyFF+HL61fA/DogQV87e8D/wARXp2efwPy3ALQ4d8fA/ZXJqZ5j68D/9JfPZSwTxP/uX/+s3DvE/e75muWy08T+UYLvFDYnyP3PyIhPwi/M/66hqgqi79D9u57Ec1xX2P5Qpi2d1l/c/64jofB09+T9VvmckQgP7P2qpF9dT5vw/aBDVStfi/j9ab4p9uHoAQEhkafFzjQFAi6VIvhKoAkCskV1pGckDQKulykEa7wRAXVMgs7MYBkA=\",\"dtype\":\"float64\",\"shape\":[97]},\"numparticles\":{\"__ndarray__\":\"AAAAAACIw0AAAAAAAIjDQAAAAAAAiMNAAAAAAACIw0AAAAAAAIjDQAAAAAAAiMNAAAAAAACIw0AAAAAAAIjDQAAAAAAAiMNAAAAAAACIw0AAAAAAAIjDQAAAAAAAiMNAAAAAAACIw0AAAAAAAIjDQAAAAAAAiMNAAAAAAACIw0AAAAAAAIjDQAAAAAAAiMNAAAAAAACIw0AAAAAAAIjDQAAAAAAAiMNAAAAAAACIw0AAAAAAAIjDQAAAAAAAiMNAAAAAAACIw0AAAAAAAIjDQAAAAAAAiMNAAAAAAACIw0AAAAAAAIjDQAAAAAAAiMNAAAAAAACIw0AAAAAAAIjDQAAAAAAAiMNAAAAAAACIw0AAAAAAAIjDQAAAAAAAiMNAAAAAAACIw0AAAAAAAIjDQAAAAAAAiMNAAAAAAACIw0AAAAAAAIjDQAAAAAAAiMNAAAAAAACIw0AAAAAAAIjDQAAAAAAAiMNAAAAAAACIw0AAAAAAAIjDQAAAAAAAiMNAAAAAAACIw0AAAAAAAIjDQAAAAAAAiMNAAAAAAACIw0AAAAAAAIjDQAAAAAAAiMNAAAAAAACIw0AAAAAAAIjDQAAAAAAAiMNAAAAAAACIw0AAAAAAAIjDQAAAAAAAiMNAAAAAAACIw0AAAAAAAIjDQAAAAAAAiMNAAAAAAACIw0AAAAAAAIjDQAAAAAAAiMNAAAAAAACIw0AAAAAAAIjDQAAAAAAAiMNAAAAAAACIw0AAAAAAAIjDQAAAAAAAiMNAAAAAAACIw0AAAAAAAIjDQAAAAAAAiMNAAAAAAACIw0AAAAAAAIjDQAAAAAAAiMNAAAAAAACIw0AAAAAAAIjDQAAAAAAAiMNAAAAAAACIw0AAAAAAAIjDQAAAAAAAiMNAAAAAAACIw0AAAAAAAIjDQAAAAAAAiMNAAAAAAACIw0AAAAAAAIjDQAAAAAAAiMNAAAAAAACIw0AAAAAAAIjDQAAAAAAAiMNAAAAAAACIw0AAAAAAAIjDQAAAAAAAiMNAAAAAAACIw0A=\",\"dtype\":\"float64\",\"shape\":[97]},\"numparticles_max\":{\"__ndarray__\":\"AAAAAACIw0AAAAAAAIjDQAAAAAAAiMNAAAAAAACIw0AAAAAAAIjDQAAAAAAAiMNAAAAAAACIw0AAAAAAAIjDQAAAAAAAiMNAAAAAAACIw0AAAAAAAIjDQAAAAAAAiMNAAAAAAACIw0AAAAAAAIjDQAAAAAAAiMNAAAAAAACIw0AAAAAAAIjDQAAAAAAAiMNAAAAAAACIw0AAAAAAAIjDQAAAAAAAiMNAAAAAAACIw0AAAAAAAIjDQAAAAAAAiMNAAAAAAACIw0AAAAAAAIjDQAAAAAAAiMNAAAAAAACIw0AAAAAAAIjDQAAAAAAAiMNAAAAAAACIw0AAAAAAAIjDQAAAAAAAiMNAAAAAAACIw0AAAAAAAIjDQAAAAAAAiMNAAAAAAACIw0AAAAAAAIjDQAAAAAAAiMNAAAAAAACIw0AAAAAAAIjDQAAAAAAAiMNAAAAAAACIw0AAAAAAAIjDQAAAAAAAiMNAAAAAAACIw0AAAAAAAIjDQAAAAAAAiMNAAAAAAACIw0AAAAAAAIjDQAAAAAAAiMNAAAAAAACIw0AAAAAAAIjDQAAAAAAAiMNAAAAAAACIw0AAAAAAAIjDQAAAAAAAiMNAAAAAAACIw0AAAAAAAIjDQAAAAAAAiMNAAAAAAACIw0AAAAAAAIjDQAAAAAAAiMNAAAAAAACIw0AAAAAAAIjDQAAAAAAAiMNAAAAAAACIw0AAAAAAAIjDQAAAAAAAiMNAAAAAAACIw0AAAAAAAIjDQAAAAAAAiMNAAAAAAACIw0AAAAAAAIjDQAAAAAAAiMNAAAAAAACIw0AAAAAAAIjDQAAAAAAAiMNAAAAAAACIw0AAAAAAAIjDQAAAAAAAiMNAAAAAAACIw0AAAAAAAIjDQAAAAAAAiMNAAAAAAACIw0AAAAAAAIjDQAAAAAAAiMNAAAAAAACIw0AAAAAAAIjDQAAAAAAAiMNAAAAAAACIw0AAAAAAAIjDQAAAAAAAiMNAAAAAAACIw0AAAAAAAIjDQAAAAAAAiMNAAAAAAACIw0A=\",\"dtype\":\"float64\",\"shape\":[97]},\"numparticles_min\":{\"__ndarray__\":\"AAAAAACIw0AAAAAAAIjDQAAAAAAAiMNAAAAAAACIw0AAAAAAAIjDQAAAAAAAiMNAAAAAAACIw0AAAAAAAIjDQAAAAAAAiMNAAAAAAACIw0AAAAAAAIjDQAAAAAAAiMNAAAAAAACIw0AAAAAAAIjDQAAAAAAAiMNAAAAAAACIw0AAAAAAAIjDQAAAAAAAiMNAAAAAAACIw0AAAAAAAIjDQAAAAAAAiMNAAAAAAACIw0AAAAAAAIjDQAAAAAAAiMNAAAAAAACIw0AAAAAAAIjDQAAAAAAAiMNAAAAAAACIw0AAAAAAAIjDQAAAAAAAiMNAAAAAAACIw0AAAAAAAIjDQAAAAAAAiMNAAAAAAACIw0AAAAAAAIjDQAAAAAAAiMNAAAAAAACIw0AAAAAAAIjDQAAAAAAAiMNAAAAAAACIw0AAAAAAAIjDQAAAAAAAiMNAAAAAAACIw0AAAAAAAIjDQAAAAAAAiMNAAAAAAACIw0AAAAAAAIjDQAAAAAAAiMNAAAAAAACIw0AAAAAAAIjDQAAAAAAAiMNAAAAAAACIw0AAAAAAAIjDQAAAAAAAiMNAAAAAAACIw0AAAAAAAIjDQAAAAAAAiMNAAAAAAACIw0AAAAAAAIjDQAAAAAAAiMNAAAAAAACIw0AAAAAAAIjDQAAAAAAAiMNAAAAAAACIw0AAAAAAAIjDQAAAAAAAiMNAAAAAAACIw0AAAAAAAIjDQAAAAAAAiMNAAAAAAACIw0AAAAAAAIjDQAAAAAAAiMNAAAAAAACIw0AAAAAAAIjDQAAAAAAAiMNAAAAAAACIw0AAAAAAAIjDQAAAAAAAiMNAAAAAAACIw0AAAAAAAIjDQAAAAAAAiMNAAAAAAACIw0AAAAAAAIjDQAAAAAAAiMNAAAAAAACIw0AAAAAAAIjDQAAAAAAAiMNAAAAAAACIw0AAAAAAAIjDQAAAAAAAiMNAAAAAAACIw0AAAAAAAIjDQAAAAAAAiMNAAAAAAACIw0AAAAAAAIjDQAAAAAAAiMNAAAAAAACIw0A=\",\"dtype\":\"float64\",\"shape\":[97]},\"r_max\":{\"__ndarray__\":\"IC628KKoQz8gLrbwoqhDPyAutvCiqEM/IC628KKoQz8gLrbwoqhDPyAutvCiqEM/IC628KKoQz8gLrbwoqhDPyAutvCiqEM/IC628KKoQz8gLrbwoqhDPyAutvCiqEM/IC628KKoQz8gLrbwoqhDPyAutvCiqEM/IC628KKoQz8gLrbwoqhDP3ZLHc+NqEM/FhhFqW2oQz/7hPJRTahDP4/3XDKzqEM/edpfaTupQz8l9KBIyqlDP14C8mZhqkM/lUIdnQKrQz9Akm2+r6tDP6JuqcRqrEM/7RSWtDWtQz81QvaoEq5DP7TTD6EDr0M/lmYnpwqwQz/gd/7gKbFDP9ok3EJjskM/zooHwbizQz8t50o0LLVDP0+X7oW/tkM/urg+fnS4Qz/uyAbrTLpDP8xlmlJKvEM/MI3MQG6+Qz8ZXfMlusBDP5gzZmcvw0M/3O5+VM/FQz8aDRg3m8hDP7bMDziUy0M/HAzFervOQz/8SRzxEdJDPyWF/HaY1UM/dfxN3U/ZQz//Tn3OON1DP9Yb9/RT4UM/NSKr36HlQz9sAQsNI+pDP+I4CuvX7kM/FSge18DzQz+x7r8N3vhDP1wM6NAv/kM/7mATPLYDRD9JbD9lcQlEP3XO7EZhD0Q/iWed0IUVRD/J19bQ3htEP6DfofprIkQ/av8FDC0pRD+wdw6iITBEPwvJx05JN0Q/GxS/nqM+RD+mmQQDMEZEP2z6J/LtTUQ/SVe7zNxVRD8jcdHt+11EPwo1nxOHZkQ/JIf7QXtvRD8A8NczpHhEP78wTBgBgkQ/SdOMD/6LRD+kILRxT5ZEP5xL66bQoEQ/iHXOt4CrRD+4H3myXrZEP4sLCJppwUQ/iN6JKfZvRT+x0UgSvjVGP6HCXK7GB0c/9q9Ls2TgRz8JllRjr8BIP0FLm7f9mkk/RKhDKS5sSj8LJN45kTJLP8Wex2uF7Us/sFjmnSGdTD+5rJXI80FNP6SR/AvS3E0/aQfFALpuTj/wlSCUuvhOP5UgYfzle08/tbIAqUj5Tz8=\",\"dtype\":\"float64\",\"shape\":[97]},\"t\":{\"__ndarray__\":\"AAAAAAAAAACyR0AbCqFIPbJHQBsKoVg9xTVwlMd4Yj2yR0AbCqFoPZ5ZEKJMyW49xTVwlMd4cj27PtjX6Ix1PbJHQBsKoXg9qFCoXiu1ez2eWRCiTMl+PUoxvPK27oA9xTVwlMd4gj1AOiQ22AKEPbs+2NfojIU9NkOMefkWhz2yR0AbCqGIPS1M9LwaK4o9qFCoXiu1iz0jVVwAPD+NPZ5ZEKJMyY49DS/ioa4pkD1KMbzytu6QPYgzlkO/s5E9xTVwlMd4kj0DOErlzz2TPUA6JDbYApQ9fjz+huDHlD27PtjX6IyVPflAsijxUZY9NkOMefkWlz10RWbKAdyXPbJHQBsKoZg970kabBJmmT0tTPS8GiuaPWpOzg0j8Jo9qFCoXiu1mz3lUoKvM3qcPSNVXAA8P509YFc2UUQEnj2eWRCiTMmePdtb6vJUjp89DS/ioa4poD0rME/KMoygPUoxvPK27qA9aTIpGztRoT2IM5ZDv7OhPaY0A2xDFqI9xTVwlMd4oj3kNt28S9uiPQM4SuXPPaM9ITm3DVSgoz1AOiQ22AKkPV87kV5cZaQ9fjz+huDHpD2dPWuvZCqlPbs+2NfojKU92j9FAG3vpT35QLIo8VGmPRhCH1F1tKY9NkOMefkWpz1VRPmhfXmnPXRFZsoB3Kc9k0bT8oU+qD2yR0AbCqGoPdBIrUOOA6k970kabBJmqT0OS4eUlsipPS1M9LwaK6o9S01h5Z6Nqj1qTs4NI/CqPYlPOzanUqs9qFCoXiu1qz3HURWHrxesPeVSgq8zeqw9BFTv17fcrD0jVVwAPD+tPUJWySjAoa09YFc2UUQErj1/WKN5yGauPZ5ZEKJMya49Ylk3TVYksj30hWZJBuS0PYeylUW2o7c9Gt/EQWZjuj2sC/Q9FiO9PT84IzrG4r89aTIpGztRwT2yyEAZE7HCPfxeWBfrEMQ9RfVvFcNwxT2Oi4cTm9DGPdghnxFzMMg9Ibi2D0uQyT1qTs4NI/DKPbTk5Qv7T8w9/Xr9CdOvzT0=\",\"dtype\":\"float64\",\"shape\":[97]},\"x_centroid\":{\"__ndarray__\":\"YIo0/hFsor5bvK2VcGuivryVpqAbaKK+KFtBbJNjor5qp2+E+l2ivgTh/eogVqK+z91f6mdTor74gibYe0uivh/LB3OPSqK+ZJ37v0RIor6AlVqN8EOivnVxop8bP6K+uf+IC0A3or5rDi5kkDCivrr7M4qFL6K+E/45pUMwor4MUVVmZyOivjWkKdM8FqK+8mjzEYoAor4qeDkKV9Shvgl4YB4KdqG+3F9Zekoxob6A3THr+e+gvsEXjN4Sj6C+ZLZ8bOmVoL5qRyHpYsKgvjAiTkGiHaG+8qcHPuFRob67UlbTznChvscxoofngqG+Ydq2AyWDob7EBcDCGquhvjNSfZk3zKG+gsuCXXnWob6iCstc3NqhvrRqjOai3KG+Xb/J3/3cob4HKP5cfdyhvh7Oki5y26G+P0L2iBDaob6VH187edihvoUwzyHE1qG+UoR9OQXVob6OcuGdS9Ohvq/4F3ij0aG+DaYrlxjQob4WIaXrtM6hvr00cjh+zaG+LukV4XvMob43UKq5tcuhvlucXigyy6G+Awd4jfXKob5dF35UBMuhvjw+BE5hy6G+nZG50Q/Mob7RUfk5Es2hvnt+fkNqzqG+VRrKZBrQob4bk6m0JNKhvvQYEGaL1KG+lE0OA1DXob5sv4Y0c9qhvvJnqEP13aG+hzMADNfhob44WZe6GOahvk3MECW56qG+8KawJrfvob7A/OnjEfWhvtDkOn7H+qG+98NjItYAor4EKYy8PAeivqo0yd75DaK+XuolhgwVor4eVH5mcxyivhtir5ssJKK+27kZ8DYsor4DRcnIkDSivnwK1B84PaK+tKzUBStGor4qcLtYZ0+ivm47zsPqWKK+OzN/gQ/7or6malVejMKjvsM1cf3FoaS+27vGOnmPpb7tak2Yw4CmvnQOXRJHbqe+oD68V4pTqL7G9qZSGS6pvuTf2e7a/Km+shaF4qK/qr7XavNK3Harvic7wWhMI6y+pF0/XOrFrL5tfx1Mxl+tvid2XhH48a2+skjHgZR9rr4=\",\"dtype\":\"float64\",\"shape\":[97]},\"x_max\":{\"__ndarray__\":\"EuAL922cQz8S4Av3bZxDPxLgC/dtnEM/EuAL922cQz8S4Av3bZxDPxLgC/dtnEM/EuAL922cQz8S4Av3bZxDPxLgC/dtnEM/EuAL922cQz8S4Av3bZxDPxLgC/dtnEM/EuAL922cQz8S4Av3bZxDPxLgC/dtnEM/EuAL922cQz8S4Av3bZxDPxLgC/dtnEM/EuAL922cQz8S4Av3bZxDP1fzgCJ3nEM/FfnChVmdQz+BX5NqO55DPw1GZjkdn0M/uwunp/+fQz/3jrTY46BDP7pNZELLoUM/hMWBsreiQz+ls9QXq6NDP0EVIYKnpEM/NkelMq+lQz8fBhqcxKZDP3eONUfqp0M//rwziyKpQz98DtG5b6pDP5PfRkDUq0M/5IzOi1KtQz8YEyIE7a5DPwCPfvWlsEM/zT2pZH+yQz+yXGdWe7RDP+rI/smbtkM/xT83ruK4Qz+O3lf3UbtDP8rCrG3rvUM/CaoC1LDAQz8sMq2wo8NDP1qZhVjFxkM/sn3kJRfKQz9y/SRdms1DP4qXlQXD0UM/eJPyqnTWQz8ryY7oWNtDPzd4YQtw4EM/YKBlP7rlQz93gZelN+tDP27b9Ujo8EM/Q66AKcz2Qz8Q2rk24/xDPwi/JUotA0Q/aF3JN6oJRD+V1Sy4WRBEPwCI2Xg7F0Q/G9VYJ08eRD+BPbdVlCVEP98hg4UKLUQ/3kLKPbE0RD9UIZ7khzxEPw+ej+WNREQ/ArqykMJMRD8qFpwwJVVEP4rzYAq1XUQ/NdMXWHFmRD9G1ldOWW9EP+VduRZseEQ/NStU4KiBRD9v38HJDotEP9O7HOyclEQ/ogF/YFKeRD8c8gJALqhEP5IOxJgvskQ/uKNzQ+ZORT8t42oRxhBGPyH+57fw5EY/LAZFHUbARz9e+n2ZTZtIPxIBgZ7gcEk/mPXIq8Q9Sj/dh3FJOABLP56NG3OKt0s/EjmmFMVjTD+z852rawVNPwugoNxLnU0/q4chVlwsTj95uvlDprNOP6NCivE2NE8/Z1FIkxavTz8=\",\"dtype\":\"float64\",\"shape\":[97]},\"x_moment3\":{\"__ndarray__\":\"NEFgsrNjBD9FIbPdWWIEP2absgDdYQQ/GhxQ4zpjBD+m1pS8amIEP8TIdIG+YgQ/AI1fK3JeBD/aeYv4TVgEPz+DINDPUwQ/pGBMoA1UBD8CWZ4sx1IEP1JwfDG0UQQ/90/R2VxRBD8/4/U80lIEP39E8PLVUgQ/RCSVsbJZBD/UU3Tl/FgEP/r8dSIdXAQ/BApuY4txBD+NB85Qd2cEPx0/l0s9PQQ/NkyCGq8hBD/09bimF+EDP/cpp80/wQM/Ye+ZWQ3rAz9ds99sYB8EP/+z46qCHgQ/O9SvayoiBD9N6qIOpQ0EP4r0EIEyYwQ/SIM7z0JWBD9t2XLw/UEEPxfNM15oPAQ/+iNNILs7BD/7WcGjTDwEP+rg3yeBPQQ/5l9cDCo/BD8WgkCsOkEEP3xM9WuvQwQ/mPcce4RGBD/ugq0xukkEP5bsfu9RTQQ/FS8eqE9RBD/UExHMtVUEP5wz4PCEWgQ/7vTzBL1fBD8UimyvXmUEP9q+AalqawQ/MmGYHuBxBD8ADfppvXgEP/qPBuQBgAQ/6IJGIq6HBD/1TUXfwI8EP+YjLWo6mAQ/vAT+whqhBD9zvYjGYaoEP7YcwR0OtAQ/Z75wIh6+BD/s1/g/kMgEP5k5cOth0wQ/OYHIHpDeBD/e5YURGOoEP2adE9f39QQ/oqvBrywCBT8mFNsHtA4FP5LZlvuLGwU/B8vy27IoBT+mUY6zJjYFP8sJPYTlQwU/msL8nu1RBT8vsj3rPGAFP+qnAo7RbgU/59m7bql9BT+E5DyPwowFP6IwICYbnAU/n1o5NbGrBT/dZLoEg7sFPz64PcuOywU/IiTGrdLbBT/yQxNeTewFP9l/sJb9/AU/y3Js4X3+Bj/fYMYcNhgIP3q9pqPbPAk/xOh57FphCj837MMme38LPzscRagbkww/2s7wU7CZDT8KemfhBpIOP7POKaXpew8/WvtV/+YrED8h9alrS5MQP5GKArGz9BA/7fODJMJQET8UleaRHqgRP60g2Vdv+xE/QITeTFVLEj8=\",\"dtype\":\"float64\",\"shape\":[97]},\"x_moment4\":{\"__ndarray__\":\"tSdQUvm3NT/nKGl2+Lc1P/InVSb5tzU/4+dTMfm3NT/ZJBRi+7c1P0/kCMX7tzU/aiP2afy3NT/rpSqc+rc1P13oXdn4tzU/M2lvP/i3NT/v5j/h+bc1P4hnTHP5tzU/OOYwZfq3NT+VouQD/bc1P/fbWcgBuDU/jpOp1ge4NT9pkXxiCbg1P0xNJlkMuDU/gwetgxC4NT8LDAxADbg1PwJoVhv5tzU/oW5dIJi3NT+twxb3iLc1P08hhJ5ztzU/P2wr2Jm3NT9H1DQcq7c1P7KQbeYJuDU/xS6mViK4NT9gsrPYTbg1P3VT7TiSuDU/9UOoY524NT+wLZeJ27g1PxpAnXoquTU/1vDgr5G5NT+Qgpo6D7o1PxWzm7GkujU/Wr+kRVS7NT8oJHJIILw1P2PewvUKvTU/tupQtRa+NT/pxdjYRb81P9IsGKeawDU/OZzLcRfCNT/10LB/vsM1PxuIiuuRxTU/oP4Y5pPHNT+nMSB/xsk1P4LeZ6UrzDU/gcK3R8XONT8kW9szldE1PwmmoCGd1DU/CaHanN7XNT/wCVs8W9s1P/Re/EkU3zU/Sx6ZDwvjNT9LRg7BQOc1P5MVP1u26zU/1AoQ0GzwNT/sZGnwZPU1PwWjOVaf+jU/OwRuphwANj8DSPtD3QU2P+Vt14bhCzY/hPX6sCkSNj+zHmLjtRg2P3HpDB6GHzY/3dX9SpomNj8lpDhJ8i02P7QUxsuNNTY/E2ixb2w9Nj/M3gXSjUU2P5V50m7xTTY/RLkorJZWNj++XhvlfF82Pwirv16jaDY/I98qXglyNj9RPHf8rXs2P8PDvV2QhTY/ubYYm6+PNj+T1qS3Cpo2P78kgKugpDY/iL6n3VhSNz9M3izC0yA4P1/s0cb8Ajk/UlOf/ubtOT9DBZmbU9k6P/nzVoSJvzs/KehoXeicPD+xbXJ0bG89Pwlw+ww+Nj4/e3sFTlTxPj8G4CUBLqE/P8rct8dOI0A/RhHMSlJxQD8ha2SILbtAP7vDu5ZvAUE/WJfJdqVEQT8=\",\"dtype\":\"float64\",\"shape\":[97]},\"x_normemit\":{\"__ndarray__\":\"mgRByn9ckD6aBEHKf1yQPs/gZX6AXJA+UBt6qH9ckD47Dtg6gFyQPvn6qVl/XJA+h2zHsH5ckD6kTwJffVyQPmI81H18XJA+Ft7kB35ckD45ma/mgVyQPtwZZpuGXJA+3ZJ8z5BckD7SS6kan1yQPmeZRIKvXJA+BTCqjrdckD7k6QcEslyQPlERlfCfXJA+sgEZsI1ckD6ea5aGklyQPqDcvvLCXJA+loUPrh1dkD4QP8Wzbl6QPlbquF3cYJA+sPV/mdJkkD5FgTEKoGqQPt+aw4v6cpA+FQH68SJ+kD7FT3GCsoyQPqIoFrcmn5A+khPxfZ+1kD6RFsOWqtCQPuYgOPNZ8JA+bP5ceN0UkT5pJ77TQj6RPu3Mf2J4bJE+ML0FSVWfkT6LGDLem9aRPpkMMIr9EZI+sU6eBx5Rkj4pkC0xlZOSPgVMDzv32JI+MASLU9Ygkz4NoVqCymqTPokd3ClwtpM+Z9M/BW8DlD5G3PgUe1GUPgxV3rJXoJQ+VmE2j9bvlD4jDd1R3T+VPqFacI5hkJU+bWk2DWfhlT5P7saVADOWPtJmCR9RhZY+Sniuy4bYlj7NLU8R2SyXPr9T27eEgpc+ke9CpMzZlz4PnmVO+DKYPtOAbmZPjpg+9JIs2hfsmD59DY6+lUyZPtS8gtsFsJk+qcnyfp0Wmj72V06QiYCaPlCnXd/u7Zo+C2ukJudemz48K9L3gdObPkBrHn7GS5w+C2mo4LLHnD5Gi4mcPEedPp8MfX9Syp0+PZ56uNpQnj4gSmf/tNqePq3kMuy5Z58+fxz72rz3nz637T1sRkWgPhuJw3X7j6A+tlWxU+PboD6ueSeJ4iihPpyzBPbcdqE+re3yxwwBpj7CfndUE1aqPs4lvh0fGq4+8TuMq/+gsD7o9uHple6xPubZyQdMALM+uiRQJfvfsz6vK7mNC5a0PpSJnIp1KbU+dM2/jeaftT7Xbaf+/f21Ptw8hWB+R7Y+9mLLAHZ/tj5NrherZai2PkNCZyNdxLY+ESiOXhDVtj4=\",\"dtype\":\"float64\",\"shape\":[97]},\"x_rms\":{\"__ndarray__\":\"xMv53/HTMT+0i/jq8dMxP3RK3tHy0zE/d4vzFvLTMT8nCtgI89MxP7FK46Xy0zE/ScvvN/LTMT8TTRXu8NMxP+EPUOnu0zE/QNFs7O3TMT/kUGUu7tMxPxVSflLt0zE/A9FnGO7TMT9Uji8H8NMxP5uItyb00zE/voV7NvbTMT+XR6Lh9NMxP2POMPzv0zE/1xXNnerTMT9p3Wsp5dMxP731aaPT0zE/L1mP/4vTMT8+mZD0i9MxP4XKW5CW0zE/3SZwP7DTMT/ZHJ52t9MxP1DaKmXn0zE/QbdLpgDUMT+HPHz0KtQxP6gybytg1DE/B9UBhHXUMT8BGiwJoNQxPxVIdgzb1DE/ypUZYi3VMT+6iIsAk9UxP2jfrPoM1jE/YVdKE53WMT/2rSs5RdcxPz2gE4cH2DE/Z2vHAebYMT+JzAnE4tkxP7aAnej/2jE/E4VGfz/cMT/hVsuBo90xP0Pz7/8t3zE/mld93eDgMT9WwT3zveIxP9ct+iTH5DE/ydqBH/7mMT/pRaWEZOkxPwItNuv76zE/HU4LvsXuMT9Qp/xcw/ExP/E25/v19DE/Vfunzl74MT8bMyLS/vsxPxPdPOLW/zE//bfd5ecDMj8DQ/N2MggyP079ay+3DDI/OCY6iHYRMj9FvVPZcBYyPxtCsWSmGzI/jPROSxchMj95VCqjwyYyPxAiR0urLDI/UF2lQ84yMj+1Bk80LDkyP4peSubEPzI/aOWj65dGMj/oG2jWpE0yP8ECpiLrVDI/uNptQWpcMj/DpNOCIWQyP8ch6kEQbDI/1dLHuDV0Mj8BOYMhkXwyP3xVNaAhhTI/Wqn0buaNMj8HNt+F3pYyP6a8DBQJoDI/V6LwAyE2Mz87+68n0OczPyBA+hfDqTQ/kZ3SbKpyNT9W+Yf1kjs2P3I2RsK0/zY/on9uXg+8Nz/i3NYY/m44P7K5yUrXFzk/nZL+cZ22OT8nCGVyw0s6P4zbHtIA2Do/sNjuhzNcOz8Pc5gbS9k7PwZYXoE7UDw/xrr9d/TBPD8=\",\"dtype\":\"float64\",\"shape\":[97]},\"x_twiss\":{\"__ndarray__\":\"nGg0nFReDD6HAE7V7VYMPkdQNpB+RQw+0ciTtS0wDD6ll36b5B4MPqmP0zapBgw+QPWA9n7fCz4jfUjsjrILPm/pHMOwcgs+lRTdGegYCz5LIfKTzIwKPr96PAI7sAk+qP8ARGpACD5vLOpD+ckFPsC4vPa5ogE+xwz1bvxm9T3awICGPrOlvVPzX5x4PAG+kOGIO6t8Fb7OerN1tQkkvk8ZqF6skzC+RtNxWWl+Ob5WHsQo375Cvr7id1+lj0q+RKf2KKpFUr5dlPogmYhYvmwkw/d8HGC+Pg+ovJ3AZL7IsebedUZqvsAQ5UAUX3C+Hp6mGwoedL7/Lm1Mr2d4vpkTlCLQRH2+Ta1HR5Ndgb7yRHR+yGeEvnvcYnIrw4e+8BPrw4Zxi76vtasiR3SPvqSECYMx5pG+QB/RpDw9lL6SMrXkZL+WvnApZEObbJm+07RAVJhEnL50ZL456kafvsDppO17OaG+FI4uFgPkor7hd+aLmKKkvlkqiuq4dKa+vU8fd9BZqL774hWcPVGqvjsiYThTWqy+o1Hi/lZ0rr5lZaOLQk+wvv0Hm38IbLG+y4wnqROQsr5aCv9S+LqzvrPbx6VI7LS+NIbUzJUjtr76e0kScGC3vlt2vBRoori+fLMOqw7pub55JmAX9zO7vvPoLF62gry+SYK+muPUvb438cJvGCq/von53q34QMC+rqBxzgbuwL4j9lozCJzBvu7QPJvQSsK+b7NgvzX6wr7rojPxDqrDvml4Tt81WsS+3/XLFoYKxb775DX13LrFvlte9vwZa8a+9CUfqx4bx754bY+TzsrHvoVPqCgPesi+3LBfyccoyb5X2uF64dbJvvB4kehGhMq+2QyYq/Di0b4sbJIlS//VvtJpNThajtm+GOnb3nyX3L4adu8MEiffviUf/HC/peC+GtrntCiK4b5db43i3kjivgOAe/MS6uK+8qa9cdV1474HJ/Ar6vPjvpdVlRyva+S+m0/xjQjk5L5TKBAFXWPlvt7mk/mW7+W+TpNgLiqO5r4=\",\"dtype\":\"float64\",\"shape\":[97]},\"y_centroid\":{\"__ndarray__\":\"1ICrpsB2iz4YMHsoeHmLPsY+jMu0a4s+OF0NNplIiz4mK6bavD2LPopL5rTsSos+rmXib+NLiz5lDi3QplaLPsN5mqMgV4s+SE8j001diz6LEeXCKGuLPvzvF5ZOeIs+g1tLjl6Biz6gI/ufTH6LPjRbGDnChos+pqgV52OMiz46ItDH85KLPliGwCa814s+/UxwJqISjD7qV7n5SuuLPs+IY1ZUd4s+8fa4mHn4iz48mERx0PeMPkOUCHrkJI0+3iFUAMqXjD6Zr8e9FiSMPhP9epEwTI0+X3leCiILjj6zzctlRn2OPogd13OSLY4+3aQpy7VAjT6//PBYfpKMPt+IGL3XQ4w+T9k2z54fjD44aMsFBAyMPidGZEpfAIw+Y/KxvRr5iz7bdT+CiPSLPmLqSkzQ8Ys+afKSPHTwiz48cwKdKvCLPkwDat7N8Is+aqwHFU7yiz4g9LD/p/SLPj3sf3Lj94s+kwUIPgP8iz4NwHWQDwGMPrfP1qoeB4w+/1PKsUQOjD771P82kRaMPmm8TW0ZIIw+yzjs1vYqjD4eUrczQTeMPgvuwwQKRYw+P1Ggx11UjD7o/OUTTmWMPu/p10vtd4w+ofFyCUqMjD7Ucomlb6KMPs35XzVpuow+6/V1fEDUjD6vo9aU+u+MPkGonQWYDY0+8cIqMRgtjT6OjIG3eE6NPoccZf21cY0+f/GUx86WjT454jPdvr2NPgmY8kiC5o0+Bh58iBIRjj7NjyiEZz2OPq8zQWp2a44+kSKdrDSbjj6oNHMfl8yOPtmCmjST/44+SzkYPx80jz7SxJEvMmqPPkcH1UrBoY8+xGoGC8Hajz7v3uLpkgqQPkSo+aFyKJA+bgLIPrIRkj4t0mgqSE6UPg9ghlgMtZY+fiofLAUpmT5dymRzb5ebPsk5YVbx850+4m0BhJAboD4+pHERkC6hPsACIss7MqI+bHs/Gagmoz4zydIqRgykPs7cXOL546Q+2qd0QPCupT4dRrakZW6mPnyiQLWXI6c+HjhuEbzPpz4=\",\"dtype\":\"float64\",\"shape\":[97]},\"y_max\":{\"__ndarray__\":\"66G2ZdeWQz/robZl15ZDP+uhtmXXlkM/66G2ZdeWQz/robZl15ZDP+uhtmXXlkM/66G2ZdeWQz/robZl15ZDP+uhtmXXlkM/66G2ZdeWQz/robZl15ZDP+uhtmXXlkM/66G2ZdeWQz/robZl15ZDP+uhtmXXlkM/66G2ZdeWQz/robZl15ZDP+uhtmXXlkM/66G2ZdeWQz/robZl15ZDP+uhtmXXlkM/66G2ZdeWQz/robZl15ZDP+uhtmXXlkM/GJjJhvWWQz/TLB/AK5dDPw9i/5thl0M/8BbYuZeXQz8WiowWz5dDP7c59/sImEM/ryPr9UaYQz9l5bHiiphDPwMckMzWmEM/pyTJyCyZQz9rXKDsjplDP4kCcnUpm0M/sJ3CJj+dQz9VIzFke59DP9eQhhHgoUM/zkMQ7G6kQz8E+p+KKadDP3ExC2MRqkM/IKgo4CetQz8t/FBcbrBDP9GrXiHms0M/WBWuaJC3Qz8tF55VbrtDP+KvEPCAv0M/Pj5sGcnDQz824RqSR8hDP9aXCAr9zEM/QUGjIOrRQz+vnNpkD9dDP4opokRt3EM/PgduKATiQz9b1bRi1OdDP4yz7y/e7UM/fcGXzCH0Qz8XHytJn/pDP0TsJ7ZWAUQ/CskODkgIRD+YdeMvcw9EP0pyrdnXFkQ/in91vnUeRD/ZPcaATCZEP9ItrLJbLkQ/IrC11aI2RD+BxfFlIT9EP75O8c7WR0Q/xaxHZsJQRD96oAeH41lEP+JqRnY5Y0Q/B+2Zc8NsRD8ESJmzgHZEPwLd3F9wgEQ/Kw39oZGKRD+4eZOY45REP/iju1Fln0Q/Lc2P5hWqRD+uFqxf9LREP8kBLMv/v0Q/kI0WjZFuRT9xvZDSWzRGPzyOIYpkBkc/nH1aT/HbRz+5ikgk3bpIP20ssDevlEk/K9CAjWdlSj8tTLswVytLP0YAteXc5Us/zQzWeg+VTD/cjH3HfDlNP6933JP6000/uc2mIIZlTj9fFxgDLu9OP6iYEPMDck8/d/2UAhTvTz8=\",\"dtype\":\"float64\",\"shape\":[97]},\"y_moment3\":{\"__ndarray__\":\"NnIRhUTNFT9isT/lO80VP4eB1rGVzRU/69DfXCfOFT833ecJss4VPzpw+owAzxU/2tKND6fOFT+0St5HPs4VP2h3CIUwzhU/g4bH9lzOFT+sjvZKs84VP4FIs6GJzhU/US3yPffNFT//wRma+MwVP+UpGm52zBU/iXd8CNLMFT+vQ8rlMM4VP7h50m6P0BU/8O3ZCHPQFT/CghjIU9EVPwUUhDps0RU/m/00WiLSFT+k4M3MftEVP0YS6xyC0hU/4tIhFXTQFT9rWinYV84VP8vguW9VzxU/Rr6FamLSFT9ZE9AQ5c0VP1XF2DhQzBU/S6M11QLQFT8ajxC0SNAVPwnpbAjjzxU/wdZvhyfQFT+YOZC+mNAVP6VXjRIp0RU/cEwpH9fRFT/oyXzNo9IVP2pn8rqQ0xU/1Yi7uZ/UFT/LkQTI0tUVP6lMZ6Yr1xU/DrexDKzYFT88Tqr0VdoVP88PHxYr3BU/id8+WS3eFT8nbgmDXuAVP6ifsk/A4hU/KwugiFTlFT9tYdHyHOgVP8s5sSsb6xU/O9/lhVDuFT9Rg4AsvvEVP6JXkkpl9RU/AMFgAkf5FT+7V2pBZP0VP8KamM29ARY/4FWjX1QGFj8CCHS9KAsWP3Kw+2o7EBY/9rST2owVFj+2LsxfHRsWP3VQz0ntIBY/mWZh4/wmFj8HJK9lTC0WP3+Is/zbMxY/4+A8m6s6Fj8v+hseu0EWP5+hJjYKSRY/bKQylJhQFj/wTxjTZVgWP0a+e5ZxYBY/5Lw3Y7toFj+CTFu1QnEWP/Xt9/IGehY/Ee/vXgeDFj8KhItAQ4wWP7DHfbe5lRY/Fjvd/WmfFj+MX8UhU6kWP0M2T0d0sxY/iw1x5J1ZFz8hUlyVPR8YP3TMffUE+Bg/+A7pG4fZGT9lvsttz7saP75JhbJLmRs/4XQAQ2huHD9NCsRpIjkdP3U86mOd+B0/6SN2f8esHj8FHhXnFVYfP/IUBcBQ9R8/HlkcX7dFID/4P4ehvowgP0p/jkdI0CA/Xtmn+9wQIT8=\",\"dtype\":\"float64\",\"shape\":[97]},\"y_moment4\":{\"__ndarray__\":\"K6uY1Pa3NT93656d9rc1P/Zoamv4tzU/MS3DXvW3NT9KZ0ef+bc1PxGoVxD5tzU/OydGqvm3NT+fZSTT+rc1P3PhzNT9tzU/c+HM1P23NT97n6M//7c1PyScXacBuDU/cdxjcAG4NT+OILp5/rc1P2xfokr/tzU/qV+nHv+3NT87J0aq+bc1PzZUt10HuDU/sXHjOyC4NT85It1F/bc1P9mXA78EuDU/2FtX3gG4NT/2vM8dGLg1P4lNKy0MuDU/YZxiewG4NT8NZdpWKbg1PzcZpPhfuDU/DNH42mW4NT/9WbRpX7g1P45wT0N9uDU/p/zQwdC4NT9NKf3MDLk1Pxx64eZcuTU/9aonBsS5NT9Y/e4XQbo1P7OuAfXVujU/+/sfzoS7NT8Y4gjfT7w1P8Kdd4Q5vTU/0OspBUS+NT/6CNu9cb81PxiySPXEwDU/D+Qx5z/CNT+oG1Pl5MM1P+fVbRW2xTU/4c9EkrXHNT/JRp1g5ck1P8E3O5BHzDU/SCDq7t3ONT/efXVKqtE1PxEOqmWu1DU/rI5Z1+vXNT+3vVoKZNs1PysZg3QY3zU/T1+uVArjNT+UDrzIOuc1P37ljOOq6zU/y6IGjFvwNT9bhRGTTfU1P1YMnJKB+jU/2XaTL/j/NT9KROvXsQU2Pz+0mtiuCzY/XUaac+8RNj91OubJcxg2P4eQfts7HzY/oohknUcmNj8UY57Yli02PyhgMlYpNTY/aMArs/48Nj9sBJeBFkU2P+ssgz1wTTY/rXoAWAtWNj+k7iIh5142P7dJ/fMCaDY/Bk2n/11xNj/E+Tlo93o2PyFRzlHOhDY/T1R94OGONj/LRGYBMZk2P9Zjo826ozY/iNBP9axQNz/Q9GkTPh44P1iqgCZk/zg/OQ+XOzvpOT+qhnhBj9M6P4o32PquuDs/0KO45v6UPD9NU2g+fmY9P6BvSJpWLD4/W4RLpX/mPj+cYQkTeJU/P/px0ekIHUA/d3Ny2aZqQD+WUwpeIbRAP1gMYRoH+kA/r3r8kOQ8QT8=\",\"dtype\":\"float64\",\"shape\":[97]},\"y_normemit\":{\"__ndarray__\":\"hywhWWpekD6qcMzzaV6QPtEV6HpqXpA+UlD8pGlekD6T7gEybF6QPi6XKLZrXpA+yj9POmtekD47zjHja16QPomjQJ1uXpA+hy4YSXBekD7FV/WBdF6QPjGHXi56XpA+YnkyOn5ekD5lZXrSgF6QPrI8gHyJXpA+Y21WkphekD5UPiklsF6QPhEp8kvnXpA+GW6qAE9fkD4nkde1zV+QPjkPbHe3YJA+brvYaxlikD7eiP64X2SQPnbVfo2pZ5A+ZJ3unFZskD7flMyzJnOQPlnD/6ZifJA+ZXIj9kyIkD6xW8pibJeQPhLK2MWIqpA+f+ej1uDBkD5BoeCWgN2QPnTUwNTQ/ZA+hhvx2PUikT62GGUQ/kyRPkjZZYzYe5E+ozHj5F2vkT4D1KwWUOeRPgV3zkVcI5I+50sleyJjkj6zLlPXN6aSPrviyawr7JI+NFx4B4w0kz4dLD9z8H6TPv31otb0ypM+S7PthjwYlD4DE4snemaUPqg58pJrtZQ+UzjFHt4ElT7lqtYosVSVPnOukqbVpJU+InPsyk31lT54D3bQKUaWPjF8y3WMl5Y+BrZ2WaTplj7v5NVCqjyXPvXKtwLekJc+Le7CMofmlz5wmf+78T2YPltluJJpl5g+ecfm5TfzmD4Xl35Xo1GZPqhOmCDtspk+cOugwlAXmj6YDrTcAH+aPhzGkv4m6po+zgHM/OFYmz64FP0rR8ubPsP1cf5iQZw+tt60Fzi7nD53X7wtwDidPvZQSZvsuZ0+f5RGwqU+nj5m30BVzcaePp4CHe88Up8+CSGXucngnz6xIJgJIjmgPmkGgjU9g6A+iAm6bZzOoD7PjToZJBuhPiKm9dm3aKE+Se+FDc7ypT6HS2nOI06qPsDmvSRkGq4+PYlO5j2lsD5Ou1OPiPaxPs7p9btuC7M+jstg0M3tsz54QWJwF6a0PsWspeFPO7U+L8Pq9zSztT6Vqkv1cxK2PjOZMAPRXLY+nun1kWKVtj6Fkowfsb62PoEAWrTS2rY+Fp0Yq3/rtj4=\",\"dtype\":\"float64\",\"shape\":[97]},\"y_rms\":{\"__ndarray__\":\"KWSkQgLGMT/B5LDUAcYxPwrkoVgCxjE/l2XCOgHGMT/0IXbZA8YxP1/ifowDxjE/92KLHgPGMT9f4n6MA8YxP2RfQLIFxjE/CN849AXGMT9OnRQzB8YxPwbaz48JxjE/8BekEAvGMT+FV5tdC8YxP+VUZEENxjE/sRI22A7GMT+dVXO9DMYxP4bKiroUxjE/F3OfmyXGMT+tCGQPFsYxP1QAtRIcxjE/QAyvexPGMT9ks6VkJcYxP8FvWQMoxjE/UEywcBPGMT+W0eC+PcYxP8xNU5RuxjE/E7vKEHzGMT8lADVqeMYxP49L5kuexjE/oXTH6tzGMT9dnMpl7sYxP/rOcyUmxzE/2F9ZNHbHMT+wVPNy2scxP64sMHtTyDE/uSXkzeLIMT80PdhOiskxP1/w0vdLyjE/jfybtynLMT/C3vSzJcwxPz8UpOZBzTE/KZptX4DOMT+xrRYj488xPykMZyBs0TE/1DIlUR3TMT8vnxyD+NQxP6uOF4//1jE/5f7jLDTZMT+orVPzl9sxP8+YOW4s3jE/Uz5rE/PgMT9b3ME37eMxPysxGRoc5zE/ObtQ2IDqMT8juUtvHO4xP4xp7dvv8TE/f8shzvv1MT/pXdILQfoxPxMg8BjA/jE/ZZFuY3kDMj9UcUJObQgyP4c/ZBucDTI/zjvQ6wUTMj8aJoXKqhgyP23+greKHjI/EQXQe6UkMj9DOnHr+ioyP3Beb7mKMTI/ILLVglQ4Mj/69bHOVz8yP6jqESSURjI//hAH6QhOMj/S6aKDtVUyPzf2+y2ZXTI/EvckQ7NlMj+FrTXyAm4yP8EaR1+HdjI/6P9wuT9/Mj87ns0ZK4gyPwp3eI5IkTI/3w1brYQmMz8t3cUXJtczP1pHkozplzQ/jyUtmY1fNT8nC2NSLCc2P9wNSVwH6jY/8s+OWySlNz9D1J5Q4lY4P/7DkkGZ/jg/uBoOXEycOT9DuQZNbjA6P+3htNS1uzo/CGL54f8+Oz/bLr2yOrs7P4t3aPFYMTw/IzHfB0miPD8=\",\"dtype\":\"float64\",\"shape\":[97]},\"y_twiss\":{\"__ndarray__\":\"Whj+SGqFF75gVQpqoocXvhxH105Vkxe+JgcCH2OhF75dJNVfbrAXvlStruJzvxe+ckJ9EeHRF77JlAfW2+YXvp23RJMoABi+LRpVgHMkGL6WbUlYdWYYvg3aBAWJ1xi+ZM4rP8aYGb6Y/Kw+otgavox4R1oV8hy+jGLu0l41IL6ZTGF1+f0ivnBAlg8sUye+Wf/RnTbjLb6et7hsea0zvjJnmOP5Yjq+jx2bbgzIQb5TUnhm4+FHvpjYUUCx3k++QsysmagBVb5JxQUeIFtbvl0vGFDxj2G+8pqaGWw/Zr5XXc3nn9BrvvmX7E9iKXG+hgQ6+xHtdL6zA080xzp5vrUECiBYG36+mPPqKA3Kgb7H+BC/79SEviIJb0NtMIi+FpnM7ijei75GfhqSeN+PvqK4gIyiGpK+7sWpAxVwlL5rsI6SKPCWvhWaujjGmpm+lulYe6VvnL7j3qOBTm6fvp9VRa4RS6G+qdupyDLzor7qJObWF6+kvt2TouI+fqa+oRkRQhZgqL5d7jYA/lOqviwZ/s5IWay+8UsVeD5vrr4bFQ73jkqwvj+EgVcOZbG+Z+qjL7WGsr7Omd0NGa+zvo6FTjTN3bS+S0Z3r2MStr5hYaqqbUy3vqy22YZ9i7i+drTZTSbPub5XqGl3/Ba7vnXSYcqWYry+4Vsc7I2xvb6kIjLtfAO/vnsA9s4ALMC+a4UOOV7XwL7fl5kFqYPBvks3vVW1MMK+GLJ/b1newr4BAo+TbYzDvkhH9cTLOsS+TWxR80/pxL6VJdf615fFvpN2mtxDRsa+qUsxeHX0xr7CHey1UKLHvh0Rw3i7T8i+GxRDkJ38yL6e1fZH4KjJvgorxa1uVMq+8NmrphW+0b6WBedAVs7Vvia4tBwcUtm+LdymYj5R3L4eq8XwI9jevgzopi+JeuC+GkXvg7lb4b42DwBYqhfivll9TC95tuK+CqHNgyNA477K8wDoW7zjvgAo14xpMuS+piGAyR6p5L49AVE00SblvtFKKg1bseW+YUMisyFO5r4=\",\"dtype\":\"float64\",\"shape\":[97]},\"z\":{\"__ndarray__\":\"4ssmEtDUur4eITl9rxa5vpE59/snVbe+FTBTGhmKtb6SpNyMBa2zvpHvbTwrtLG+1JOUfnYir765envhSF+qvqWJkXkF8aS+Dt2aBqI+nb51tbCnRpWMvmbbiAtCIm0+2H19rlJRmT6gNz3B2M+pPvhMNYk34bQ+jJPYbsF9vj5C12ZU//7EPiMOXQvg0Ms+7B4hI/jo0T4dx6kLB4/WPmsHLJ2+59s+qB2h9YL/4D4dRFU1DnDkPpnhbbwhSug+kU1DDNGR7D6vliyTWqXwPh89obrsO/M+Fr6B5fUN9j5mDvAypRz5PtmUZYr8aPw+xvRSF/fz/z6weffPO98BP6A7lm6k5AM/Ht8Sx40KBj/OUNqRT1EIP9sV3UhCuQo/gH/I8r5CDT93qxDLHu4PPzxC/XTdXRE/3HrqB/bVEj8u3OkUhV8UPx2QbS22+hU/7NqQWrSnFz8TaOYPqmYZP8Cw4BnBNxs/cK8NUyIbHT94Ejwf9hAfP7zR+9SxjCA/gxZwt0iaIT/Ovd5EUrEiP1euNbPg0SM/6E95cgX8JD8FC71u0S8mPwTJJfpUbSc/FPTpzJ+0KD+zd1utwAUqP9g/1gnGYCs/6TnUSL3FLD/k09tiszQuP/p8jHS0rS8/1ZJQ1GWYMD+W3/HSAV8xP/OdmxuzKjI/iwfIRn77Mj/FlgFeZ9EzP19G2ihyrDQ/plHvC6KMNT+KtOvy+XE2P2org3x8XDc/G3Nz7ytMOD87iYoDCkE5P6Zrm0QYOzo/3diGxVc6Oz/NTzZMyT48P/3PnzBtSD0/bVnDckNXPj94bKjQS2s/PwmFMc1CQkA/zfmH6XfRQD9mtemdRGNBPwS5bw6o90E/KxT1mbhWSz8y/Es9kFZTPwKHtKsn6lk/liG0PBSnYD+tDbkEZbRkP6Ss5k9QEGk/Aka82QSvbT+ehaM9/EJxPxpM/y4FxnM/B8dzmb1cdj/JZiZT5wN5PxG4tC3RuHs/S7FdwUF5fj8ivwLBsaGAP0Hg6ZvZCoI/Ci7kfnh3gz8=\",\"dtype\":\"float64\",\"shape\":[97]},\"z_centroid\":{\"__ndarray__\":\"4ssmEtDUur4eITl9rxa5vpE59/snVbe+FTBTGhmKtb6SpNyMBa2zvpHvbTwrtLG+1JOUfnYir765envhSF+qvqWJkXkF8aS+Dt2aBqI+nb51tbCnRpWMvmbbiAtCIm0+2H19rlJRmT6gNz3B2M+pPvhMNYk34bQ+jJPYbsF9vj5C12ZU//7EPiMOXQvg0Ms+7B4hI/jo0T4dx6kLB4/WPmsHLJ2+59s+qB2h9YL/4D4dRFU1DnDkPpnhbbwhSug+kU1DDNGR7D6vliyTWqXwPh89obrsO/M+Fr6B5fUN9j5mDvAypRz5PtmUZYr8aPw+xvRSF/fz/z6weffPO98BP6A7lm6k5AM/Ht8Sx40KBj/OUNqRT1EIP9sV3UhCuQo/gH/I8r5CDT93qxDLHu4PPzxC/XTdXRE/3HrqB/bVEj8u3OkUhV8UPx2QbS22+hU/7NqQWrSnFz8TaOYPqmYZP8Cw4BnBNxs/cK8NUyIbHT94Ejwf9hAfP7zR+9SxjCA/gxZwt0iaIT/Ovd5EUrEiP1euNbPg0SM/6E95cgX8JD8FC71u0S8mPwTJJfpUbSc/FPTpzJ+0KD+zd1utwAUqP9g/1gnGYCs/6TnUSL3FLD/k09tiszQuP/p8jHS0rS8/1ZJQ1GWYMD+W3/HSAV8xP/OdmxuzKjI/iwfIRn77Mj/FlgFeZ9EzP19G2ihyrDQ/plHvC6KMNT+KtOvy+XE2P2org3x8XDc/G3Nz7ytMOD87iYoDCkE5P6Zrm0QYOzo/3diGxVc6Oz/NTzZMyT48P/3PnzBtSD0/bVnDckNXPj94bKjQS2s/PwmFMc1CQkA/zfmH6XfRQD9mtemdRGNBPwS5bw6o90E/KxT1mbhWSz8y/Es9kFZTPwKHtKsn6lk/liG0PBSnYD+tDbkEZbRkP6Ss5k9QEGk/Aka82QSvbT+ehaM9/EJxPxpM/y4FxnM/B8dzmb1cdj/JZiZT5wN5PxG4tC3RuHs/S7FdwUF5fj8ivwLBsaGAP0Hg6ZvZCoI/Ci7kfnh3gz8=\",\"dtype\":\"float64\",\"shape\":[97]},\"z_max\":{\"__ndarray__\":\"XMgFzMvAuj4vXNjGfhW8Pt4fvLW8v8A+YvRzwrKKxT4R3CDAHmvMPhPcl3Llr9I+Gmo955sy2D7XU8NIXLrePu+SkP2aIeM+QQJzMvNj5z71Y1s5zCDsPm2KW8vaqfA+tQ+V97t78z7nYMWw7IL2Pi6cQegGvPk+jEkNFqIj/T7u5Y5YE1sAP98HW0wEOAI/2OIW7wUnBD/MK4q2kyYGP3FzhDVDNQg/JhNN2tFRCj/0E5UREnsMPzGMJ3cWsA4/KMr+gAp4ED/opmcEMZ0RP0kh86s6xxI/nKGtwe71Ez85afEyHikVP5eQPvCkYBY/PciOA2CcFz+yBQUVMtwYP7SU2x54IBo/4jpHahJpGz8gfsDzsrUcP9hB7nFJBh4/mZ7TMsRaHz8TV0ZUiFkgPzNGsVyNByE/dKvgi2a3IT8clhTjCGkiP54WpodoHCM/yr31XHnRIz9kHXiWLogkP8tHrvl6QCU/8s8l3lD6JT+myX0BorUmPy1JX8lfcic/JuN6WXswKD8nLZUl5e8oPwK9d3WNsCk/I6n4ImRyKj8SiPDxWDUrP9PwQU5b+Ss/xfrWYVq+LD9HvZlWRYQtPxXQexQLSy4/58pug5oSLz96RWSL4tovP+JrKfToUTA/wAwWwau2MD810XAgsRsxPx6FMobwgDE/GvROkmHmMT/bKbvZ+0syP+BxaBK3sTI/f1dEE4sXMz/t5TnJb30zP0CoMTdd4zM/UykPjEtJND/RM7IXM680PzrS9koMFTU/zQ60ws96NT+uc74xduA1P7NK5IH4RTY/Zp3t00+rNj9RdaJIdRA3P5Qbwk1idTc/IBkIchDaNz+p9ipweT44P6c83C6Xojg/73K1oUUMPj8upg4SeoFBP8diViifa0Q/v/dYorIcRz/eTiYqOm5JP8u05k0OY0s/FkDvwawDTT/2OAMHI1tOPz9oV3HxdE8/4aQTHektUD9Pms6alIxQPw+oE91u2lA/ku35K7YaUT+H5qInClBRPwhIYN2EfFE/LP5hldOhUT8=\",\"dtype\":\"float64\",\"shape\":[97]},\"z_moment3\":{\"__ndarray__\":\"PYeJK5dgpz5UDgMePWSnPkHySJiPjqc+L8KSVto7qD65CnUZkR2qPseyX6XBGq4+IH7HSWJvsj7ttRhh8Um3PufK5/pDkr0+Opq4jOqfwj41/KoKuSjHPnOXoMigZMw+0vdUgo0q0T6pCbGWPn3UPt9VAhPDKdg+qasIjPku3D47bx0ue0XgPjNqSeGoneI++YGKo9Ee5T5ZAY9Cp8fnPgWelcu6luo+2GBICZWK7T5/AngJxFDwPk8TJp4Q7fE+lMfpDXmZ8z4bT6dgR1X1PvC/JizYH/c+KouoM5D4+D6b3/0V3976PvH4BhJQ0vw+SR6UJ2bS/j4wJq6EWm8AP8vIRE10ewE/prDITWmNAj8w+XjEJaUDPx69hXOWwgQ/I+Tv+aflBT/svCqNRg4HPxzK7NVdPAg/h48FodhvCT+4kVM3oagKP2ojn+Kg5gs/Bv8x/78pDT+lE6jY5XEOP8sejI/4vg8/tW9Dnm6IED/R1/3quzMRP/1bnpNV4RE/mPdCfiyREj+1phgNMUMTP4BMwSJT9xM//H8fK4KtFD8lP4gorWUVP5EIXa/CHxY/7nSj97DbFj9lHWvhZZkXP3sbywrPWBg/sCJ8y9kZGT8/TaQ9c9wZPwKc1FOIoBo/T3YG7wVmGz/9dmy72CwcP/y4O0/t9Bw/BFekbDC+HT/Ja9bVjogeP7kSEcn0Ux8/6rI6xicQID8jwB7FxXYgP+q9QhrL3SA/mbm+Ji5FIT8SwKCj5awhPxZe9F/oFCI/ZyDFKi19Ij9tExcVq+UiP45D7i9ZTiM/87xJuC63Iz+pCyYBIyAkPz+7dbUtiSQ/ZdctakbyJD+Oaz7gZFslP7KCjTCBxCU/nZbwGBOQKz89usGUjoUwP/z7Isi6AjM/P8CE5IgzNT/BRTFedBU3P9cPGRpxrDg/0U2vgRsAOj8LXyhQjBk7PxVOBD7rATw/das4S6PBPD8myU3MCWA9P/BUh25L4z0/xL7Kr35QPj+QCK2Sxqs+P3kQC1x5+D4/o53Xd0U5Pz8=\",\"dtype\":\"float64\",\"shape\":[97]},\"z_moment4\":{\"__ndarray__\":\"QDDT1kPrqT5x18EjZvGpPrPJc95UO6o+N9jiv45+qz5617LpLxivPhuYtwnkH7M+F4bJr2SOuD4okL0KJK6/PrVcNoiPM8Q+EpSvcjFayT4P6sn2zEvPPnzYPutrBNM+GevPQyfI1j4TSNoSWe/aPvp3DbQ6d98+WX9Yqzou4j4UJ0XncM3kPkjzXMH+luc+PzZ8FcKI6j6xVUtAqKDtPrmK4q1ZbvA+515izIwd8j7bkVdADd3zPpOr4k4vrPU+AEndBV2K9z6ZiwCjD3f5PvPZsV/Ycfs+RI0+FFJ6/T5G9BcoH5D/Pn1uEH162QA/wUaLED7xAT+AuglHMg8DP8Zdrz42MwQ/VUqYaTddBT+Nyt0UJY0GP4/CNXPuwgc/sX3NIYL+CD99rkkozj8KP7EIaLK/hgs/O0H/D0PTDD98dGLPQyUOP4UmZpGsfA8/CogYc7NsED/LdQaVrR0RPxDUSlQ40RE/G2iTr0aHEj+EETcdyz8TPzWXBmi3+hM/E/QVzvy3FD+VcFb8i3cVP8yilg5VORY/vlTok0f9Fj9HBJ6kUsMXP/0vGdVkixg/b70tUGxVGT9iLFbOViEaP5iWrsER7xo/qJZkAoq+Gz/ORp6qrI8cP7TCn8xlYh0/DyWZKqI2Hj/IidOqTQwfP8QMmDNU4x8/uOSSAdFdID/5beVpkcogPzaw6i/hNyE/RLnEXLalIT8YF5jjBhQiP4XXhs3IgiI/YgizI/LxIj9FtzkbeWEjP6hxNf9T0SM/JEXDBHlBJD/WPva43rEkP9tr4ah7IiU/NFmVd0aTJT+jkx30NQQmP6yngBlBdSY/tqHC+F7mJj/NDeDkhlcnP/x31TCwyCc/5o04foMHLj+BIZLUKfkxP/4kRdkyqjQ/2PdLZG0JNz8qbmsyuxM5PxO/k/YYzTo/G7s2epU9PD/KV2Hr8W49PxOfjt0Oaz4/2Op//wg7Pz+4sLBj1OY/Pyhx/aGSOkA/lkk6Y8F1QD/rgiHbNadAP734aULA0EA/ZIUsgtXzQD8=\",\"dtype\":\"float64\",\"shape\":[97]},\"z_normemit\":{\"__ndarray__\":\"XMDcaGNKxDy4OYdX2O/TPSX+CnP45PA9GFDn04sRAT6+jIhPP/YLPvLkCjEPQRQ+OjgyzPgjGz4QRsSy1WghPlS+NEfo6SU+WdEbYDGpKz7fDvYtGOsxPr7Go4KyLjg+elultubRQD7WgBuVxplHPiGanEsJbFA+r+du5HVeVj6QVOksp59dPq38eC6hFWM+7M5yOiP8Zz5bb9z/rmFtPspbN7fLmXE+o+eCDRmadD7Wr2L0d6t3Pkjlp0j1w3o+DrTPxNnNfT7ZU1is8WKAPpmh2PLt04E+2OgudPozgz7J+dTFmouEPrIv1QjG14U++iO4CFkWhz6u2oaXokyIPmJtWVlSk4k+Sozxw4Tzij5pWTT/7GuMPtxiNKX6+o0+X1xB8PSejz5Q39mGC6uQPuxMvTBIj5E+dB6OemR7kj70rg2ZlW6TPpwS0a8OaJQ+OXu8ugBnlT7jA3vXnGqWPnxkqaMdcpc+ZaeeLsZ8mD7alP3c34mZPpkxdC25mJo+FZvgbKaomz5DoktGBbmcPosft0E+yZ0++eL638LYnj7zyv14DeefPpynxnPReaA+4FhtoQj/oD4QIU55+YKhPuaH5VF3BaI+vZ9C6liGoj74xyyGeAWjPsl7YfG2gqM+HCVnBvr9oz6vMwvQKnekPraHaeY27qQ+xAPaFBBjpT783T1iq9WlPn9sAeH/RaY+Ac5CMwa0pj7yGcW9uh+nPps5T6Idiac+2H3ppS/wpz7RgdOb8lSoPtOl8+lqt6g+BgaFW50XqT4aWkfSjnWpPi19kDhF0ak+HS2s48Yqqj6Q1pggG4KqPkZUZ5ZJ16o+4qfJ8Vkqqz4krNDZU3urPmZ5Z9k+yqs+B+9B2/Rnrz5ksUwzhOawPoPESbvxs7E+KOW2mABQsj7Xk2xchd6yPi0/y1k/cLM+1FitIkMItD7EBcJBCKO0PrxNEdmxO7U+S6MJ60vOtT4Xwz20Z1i2Po74BDHq2LY+hLb7KZ5Ptz5uc0P017y3Pv1Ru/02Ibg+h1RpYXl9uD4=\",\"dtype\":\"float64\",\"shape\":[97]},\"z_rms\":{\"__ndarray__\":\"0SASktpHpD41u0CisEmkPgqAlCo2XqQ+srINVlOspD5X1+TjR3alPkFanmprGKc+R25v6PUGqj4mIOsQibSuPh3uEKNEubI+XalDc5k7tz58qp/5cvS8PoYYUB7Y+cE+5TydOIgjxj4gO1x07fzKPjHWvb8ERdA+tNiV9aZm0z6SRkGeTOPWPgl8Qxixudo+PTQUXdXn3j6ru5/waLXhPmXYtgJyH+Q+fyBg3umv5j4L6vaBWmTpPkcDgkGSOuw+yMQu0XEw7z6BlmP3+iHxPqQ3t/SxufI+GCTG25he9D5r4pL5BBD2Pm8m2MR0zfc+DtVXN2iW+T5ffco8eGr7PmiGoJ1aSf0+poqE1Oky/z749CjcgpMAPw3PwuzGkgE/srfFTjCXAj+5LZhqraADP+JKVrIrrwQ/oZCdqpfCBT+YgST83NoGP5qhunPm9wc/6UIes50ZCT+zUsNl6z8KP9S/QAO3ags/lXpL++aZDD9uQYK+YM0NP4YH1qwIBQ8/OXrCIGEgED+8SycFOMAQPynaH9j5YRE/FLtwDZcFEj/Ntxy4/6oSP9xm/JsjUhM/Biy+LfL6Ez9JOOaSWqUUPyDwMbxLURU/RbhjbrT+FT9LD909g60WP8ZA0JumXRc/Zxhy4wwPGD9+e5FrpMEYP9y1ZXlbdRk/ccZXXyAqGj8trNBv4d8aPyMZawqNlhs/p1hUzBFOHD8Ng4ovXgYdPy+wAQZhvx0/qPeoTQl5Hj9RcXTYRTMfPxA0RCgG7h8/ZCt835xUID8S+DUlaLIgPygLOOhcECE/ve9qK3NuIT+LsK8zo8whPxNY4nHlKiI/0fDeVjKJIj8HhXx/guciP7oejbTORSM/7LKFce93KD/Ke7mhb2AtP4vuRWFD6jA/rMhzR5PfMj9A4LP5HY40P5iTatKV+TU/FM2bXuIoNz9L8R8PMiQ4P3SeSe238zg/lyMlifmeOT8xKzUjgiw6P6GQM0HToTo//gcXE3YDOz8AM4uAGlU7P2Ww9Sm6mTs/tS7BAbnTOz8=\",\"dtype\":\"float64\",\"shape\":[97]},\"z_twiss\":{\"__ndarray__\":\"m/ZLL04r9joSCx05AhejvSDaGkc9KM69lmkZytrb571AQd3K7oH8vWZqEtaNlQ2+lHhNrdRMHL6RVFOtClApvuBqli4pYzW+cJnUpHRBQb7KZ2KapMFKvn0gC83gBVS+Mtt4FRkGXb4OrtSo+2xkvocJ64l1/Gu+cFZSVru0cr46+Vs66254vrU4HsVyPX++w2i65GSXg763JI24eyKIvnVn/46GQI2+Pe1cKl11kb76d0rSHY+UvsEAXm9K7Je+90Tq3LaJm77wnjjRXWafvlYQIG6+wKG+FoPKMszso744Q+EwMTimvoV8JHjloqi+3PjECbYsq770KVHIS9atvg+AQw0fUbC+K2s+dAfJsb6SXGLUJVOzvi87KBS077S+2WdQeOKetr7GthHt12C4viGt8+mxNbq+K+f7B4wdvL5LLTUzeBi+vtykAdQ/E8C+j0jfNdAjwb7AfzxP5z3Cvu4GKbx6YcO+XWzphXyOxL41WZAX2sTFvlZ8qLx8BMe+iwXpaElNyL72MxhhIZ/JvufaVnPi+cq+rEzKdWddzL7w6qaPh8nNvlYwx6kWPs++duyX6HJd0L4bihUF4h/Rvvye6/0+5tG+tBJMIm+w0r7Smk3uVn7TvqY/N0PaT9S+QilRRNwk1b5Nvb34P/3VvpypJAzo2Na+zVS81ba3177ggYKCjpnYvtLARRxRftm+Bf6bguBl2r5C6ECxHlDbvlvHfQ3uPNy+itjwOzEs3b5zG179yh3evo5HBG6eEd++9lstascD4L4ERX/Jv3/gvmgbIEmq/OC+/t1d+Xh64b51ENIiHvnhvv4C3UKMeOK+6kKvErb44r7uH59njnnjvvv9REgI++O+lEBPsq5e677dY8wuEV/xvoUesVey3vS+XnLpNhoR+L6gvH4uwuf6vj4WVxAjX/2+mLuMV9B6/75oRmkDHaEAvyvYVw0sXwG/ssvnNRv8Ab8FWMlbFXwCv3EHfJq/4gK/7S8uViwzA7/xs47b428Dv3qGoufzmgO/hitPwwG2A78=\",\"dtype\":\"float64\",\"shape\":[97]}},\"selected\":{\"id\":\"1156\",\"type\":\"Selection\"},\"selection_policy\":{\"id\":\"1157\",\"type\":\"UnionRenderers\"}},\"id\":\"1001\",\"type\":\"ColumnDataSource\"},{\"attributes\":{\"ticker\":{\"id\":\"1113\",\"type\":\"BasicTicker\"}},\"id\":\"1116\",\"type\":\"Grid\"},{\"attributes\":{},\"id\":\"1122\",\"type\":\"PanTool\"}],\"root_ids\":[\"1103\"]},\"title\":\"Bokeh Application\",\"version\":\"1.2.0\"}};\n",
       "  var render_items = [{\"docid\":\"4b788aa8-8c68-4fb2-98c6-67bc6c77106d\",\"roots\":{\"1103\":\"d990241f-dc44-436f-a0b0-28c7c000e391\"}}];\n",
       "  root.Bokeh.embed.embed_items_notebook(docs_json, render_items);\n",
       "\n",
       "  }\n",
       "  if (root.Bokeh !== undefined) {\n",
       "    embed_document(root);\n",
       "  } else {\n",
       "    var attempts = 0;\n",
       "    var timer = setInterval(function(root) {\n",
       "      if (root.Bokeh !== undefined) {\n",
       "        embed_document(root);\n",
       "        clearInterval(timer);\n",
       "      }\n",
       "      attempts++;\n",
       "      if (attempts > 100) {\n",
       "        console.log(\"Bokeh: ERROR: Unable to run BokehJS code because BokehJS library is missing\");\n",
       "        clearInterval(timer);\n",
       "      }\n",
       "    }, 10, root)\n",
       "  }\n",
       "})(window);"
      ],
      "application/vnd.bokehjs_exec.v0+json": ""
     },
     "metadata": {
      "application/vnd.bokehjs_exec.v0+json": {
       "id": "1103"
      }
     },
     "output_type": "display_data"
    }
   ],
   "source": [
    "def plot1(y_axis, x_axis='z', source=ds):\n",
    "    yunit = UNITS[y_axis]\n",
    "    ylabel = y_axis+' ('+yunit+')'\n",
    "    \n",
    "    xunit = UNITS[x_axis]\n",
    "    xlabel = x_axis+' ('+xunit+')'\n",
    "    p = figure(plot_width=600, plot_height=200, x_axis_label=xlabel, y_axis_label=ylabel)\n",
    "    p.line( x_axis, y_axis, source=source, color='red')\n",
    "    return p\n",
    "show(plot1('gamma'))"
   ]
  },
  {
   "cell_type": "markdown",
   "metadata": {},
   "source": [
    "# Archiving"
   ]
  },
  {
   "cell_type": "code",
   "execution_count": 18,
   "metadata": {},
   "outputs": [],
   "source": [
    "from impact import writers\n",
    "import h5py"
   ]
  },
  {
   "cell_type": "code",
   "execution_count": 19,
   "metadata": {},
   "outputs": [
    {
     "data": {
      "text/plain": [
       "2.4999999999999996e-10"
      ]
     },
     "execution_count": 19,
     "metadata": {},
     "output_type": "execute_result"
    }
   ],
   "source": [
    "# This is the total bunch charge in Coulombs\n",
    "total_charge = I.input['header']['Bcurr'] / I.input['header']['Bfreq']\n",
    "total_charge"
   ]
  },
  {
   "cell_type": "code",
   "execution_count": 20,
   "metadata": {},
   "outputs": [
    {
     "data": {
      "text/plain": [
       "{'initial_particles': array([( 4.3611631e-04,  1.2615826e-03,  3.2937175e-04, -5.7131252e-04, -2.7340319e-06, 0.001978),\n",
       "        ( 4.0614893e-04,  1.0219854e-03,  3.8438809e-04,  7.9314477e-04, -1.7480634e-06, 0.001978),\n",
       "        (-4.6228725e-06, -9.2105950e-05, -1.0653409e-04, -3.6416778e-05, -2.1070141e-06, 0.001978),\n",
       "        ...,\n",
       "        ( 1.9058713e-04, -1.3542358e-03,  6.4437180e-06, -9.8451886e-06, -2.3828392e-06, 0.001978),\n",
       "        (-3.7396643e-04,  1.4488924e-03, -2.0164375e-04,  8.9741137e-04, -1.9571324e-06, 0.001978),\n",
       "        (-3.8447387e-04, -1.3964400e-04,  1.0404854e-04, -4.2386647e-04, -1.3655324e-06, 0.001978)],\n",
       "       dtype=[('x', '<f8'), ('GBx', '<f8'), ('y', '<f8'), ('GBy', '<f8'), ('z', '<f8'), ('GBz', '<f8')]),\n",
       " 'final_particles': array([( 6.69001626e-04,  0.03240919,  4.86533946e-04,  0.0228866 , 0.00964335, 2.61604482),\n",
       "        ( 6.57233889e-04,  0.03570271,  6.21829922e-04,  0.03425522, 0.01011486, 2.70979333),\n",
       "        (-1.01678010e-05, -0.00063773, -2.21042567e-04, -0.01558033, 0.00940586, 2.55955969),\n",
       "        ...,\n",
       "        ( 3.48830113e-04,  0.02247261,  1.29743877e-05,  0.00102412, 0.00932669, 2.54526564),\n",
       "        (-6.35199591e-04, -0.038137  , -3.40975419e-04, -0.02071962, 0.00982937, 2.64875839),\n",
       "        (-6.47097958e-04, -0.03871603,  1.67493476e-04,  0.00937705, 0.01026879, 2.74338156)],\n",
       "       dtype=[('x', '<f8'), ('GBx', '<f8'), ('y', '<f8'), ('GBy', '<f8'), ('z', '<f8'), ('GBz', '<f8')])}"
      ]
     },
     "execution_count": 20,
     "metadata": {},
     "output_type": "execute_result"
    }
   ],
   "source": [
    "I.particles"
   ]
  },
  {
   "cell_type": "code",
   "execution_count": 21,
   "metadata": {},
   "outputs": [],
   "source": [
    "h5 = h5py.File('test.h5', 'w')"
   ]
  },
  {
   "cell_type": "code",
   "execution_count": 22,
   "metadata": {},
   "outputs": [
    {
     "name": "stdout",
     "output_type": "stream",
     "text": [
      "Archiving initial_particles with charge 2.4997499999999996e-10\n",
      "Archiving final_particles with charge 2.4997499999999996e-10\n"
     ]
    }
   ],
   "source": [
    "I.archive(h5)"
   ]
  },
  {
   "cell_type": "code",
   "execution_count": 23,
   "metadata": {},
   "outputs": [],
   "source": [
    "h5.close()"
   ]
  },
  {
   "cell_type": "markdown",
   "metadata": {},
   "source": [
    "# Reading archive"
   ]
  },
  {
   "cell_type": "code",
   "execution_count": 24,
   "metadata": {},
   "outputs": [
    {
     "data": {
      "application/javascript": [
       "\n",
       "(function(root) {\n",
       "  function now() {\n",
       "    return new Date();\n",
       "  }\n",
       "\n",
       "  var force = true;\n",
       "\n",
       "  if (typeof root._bokeh_onload_callbacks === \"undefined\" || force === true) {\n",
       "    root._bokeh_onload_callbacks = [];\n",
       "    root._bokeh_is_loading = undefined;\n",
       "  }\n",
       "\n",
       "  var JS_MIME_TYPE = 'application/javascript';\n",
       "  var HTML_MIME_TYPE = 'text/html';\n",
       "  var EXEC_MIME_TYPE = 'application/vnd.bokehjs_exec.v0+json';\n",
       "  var CLASS_NAME = 'output_bokeh rendered_html';\n",
       "\n",
       "  /**\n",
       "   * Render data to the DOM node\n",
       "   */\n",
       "  function render(props, node) {\n",
       "    var script = document.createElement(\"script\");\n",
       "    node.appendChild(script);\n",
       "  }\n",
       "\n",
       "  /**\n",
       "   * Handle when an output is cleared or removed\n",
       "   */\n",
       "  function handleClearOutput(event, handle) {\n",
       "    var cell = handle.cell;\n",
       "\n",
       "    var id = cell.output_area._bokeh_element_id;\n",
       "    var server_id = cell.output_area._bokeh_server_id;\n",
       "    // Clean up Bokeh references\n",
       "    if (id != null && id in Bokeh.index) {\n",
       "      Bokeh.index[id].model.document.clear();\n",
       "      delete Bokeh.index[id];\n",
       "    }\n",
       "\n",
       "    if (server_id !== undefined) {\n",
       "      // Clean up Bokeh references\n",
       "      var cmd = \"from bokeh.io.state import curstate; print(curstate().uuid_to_server['\" + server_id + \"'].get_sessions()[0].document.roots[0]._id)\";\n",
       "      cell.notebook.kernel.execute(cmd, {\n",
       "        iopub: {\n",
       "          output: function(msg) {\n",
       "            var id = msg.content.text.trim();\n",
       "            if (id in Bokeh.index) {\n",
       "              Bokeh.index[id].model.document.clear();\n",
       "              delete Bokeh.index[id];\n",
       "            }\n",
       "          }\n",
       "        }\n",
       "      });\n",
       "      // Destroy server and session\n",
       "      var cmd = \"import bokeh.io.notebook as ion; ion.destroy_server('\" + server_id + \"')\";\n",
       "      cell.notebook.kernel.execute(cmd);\n",
       "    }\n",
       "  }\n",
       "\n",
       "  /**\n",
       "   * Handle when a new output is added\n",
       "   */\n",
       "  function handleAddOutput(event, handle) {\n",
       "    var output_area = handle.output_area;\n",
       "    var output = handle.output;\n",
       "\n",
       "    // limit handleAddOutput to display_data with EXEC_MIME_TYPE content only\n",
       "    if ((output.output_type != \"display_data\") || (!output.data.hasOwnProperty(EXEC_MIME_TYPE))) {\n",
       "      return\n",
       "    }\n",
       "\n",
       "    var toinsert = output_area.element.find(\".\" + CLASS_NAME.split(' ')[0]);\n",
       "\n",
       "    if (output.metadata[EXEC_MIME_TYPE][\"id\"] !== undefined) {\n",
       "      toinsert[toinsert.length - 1].firstChild.textContent = output.data[JS_MIME_TYPE];\n",
       "      // store reference to embed id on output_area\n",
       "      output_area._bokeh_element_id = output.metadata[EXEC_MIME_TYPE][\"id\"];\n",
       "    }\n",
       "    if (output.metadata[EXEC_MIME_TYPE][\"server_id\"] !== undefined) {\n",
       "      var bk_div = document.createElement(\"div\");\n",
       "      bk_div.innerHTML = output.data[HTML_MIME_TYPE];\n",
       "      var script_attrs = bk_div.children[0].attributes;\n",
       "      for (var i = 0; i < script_attrs.length; i++) {\n",
       "        toinsert[toinsert.length - 1].firstChild.setAttribute(script_attrs[i].name, script_attrs[i].value);\n",
       "      }\n",
       "      // store reference to server id on output_area\n",
       "      output_area._bokeh_server_id = output.metadata[EXEC_MIME_TYPE][\"server_id\"];\n",
       "    }\n",
       "  }\n",
       "\n",
       "  function register_renderer(events, OutputArea) {\n",
       "\n",
       "    function append_mime(data, metadata, element) {\n",
       "      // create a DOM node to render to\n",
       "      var toinsert = this.create_output_subarea(\n",
       "        metadata,\n",
       "        CLASS_NAME,\n",
       "        EXEC_MIME_TYPE\n",
       "      );\n",
       "      this.keyboard_manager.register_events(toinsert);\n",
       "      // Render to node\n",
       "      var props = {data: data, metadata: metadata[EXEC_MIME_TYPE]};\n",
       "      render(props, toinsert[toinsert.length - 1]);\n",
       "      element.append(toinsert);\n",
       "      return toinsert\n",
       "    }\n",
       "\n",
       "    /* Handle when an output is cleared or removed */\n",
       "    events.on('clear_output.CodeCell', handleClearOutput);\n",
       "    events.on('delete.Cell', handleClearOutput);\n",
       "\n",
       "    /* Handle when a new output is added */\n",
       "    events.on('output_added.OutputArea', handleAddOutput);\n",
       "\n",
       "    /**\n",
       "     * Register the mime type and append_mime function with output_area\n",
       "     */\n",
       "    OutputArea.prototype.register_mime_type(EXEC_MIME_TYPE, append_mime, {\n",
       "      /* Is output safe? */\n",
       "      safe: true,\n",
       "      /* Index of renderer in `output_area.display_order` */\n",
       "      index: 0\n",
       "    });\n",
       "  }\n",
       "\n",
       "  // register the mime type if in Jupyter Notebook environment and previously unregistered\n",
       "  if (root.Jupyter !== undefined) {\n",
       "    var events = require('base/js/events');\n",
       "    var OutputArea = require('notebook/js/outputarea').OutputArea;\n",
       "\n",
       "    if (OutputArea.prototype.mime_types().indexOf(EXEC_MIME_TYPE) == -1) {\n",
       "      register_renderer(events, OutputArea);\n",
       "    }\n",
       "  }\n",
       "\n",
       "  \n",
       "  if (typeof (root._bokeh_timeout) === \"undefined\" || force === true) {\n",
       "    root._bokeh_timeout = Date.now() + 5000;\n",
       "    root._bokeh_failed_load = false;\n",
       "  }\n",
       "\n",
       "  var NB_LOAD_WARNING = {'data': {'text/html':\n",
       "     \"<div style='background-color: #fdd'>\\n\"+\n",
       "     \"<p>\\n\"+\n",
       "     \"BokehJS does not appear to have successfully loaded. If loading BokehJS from CDN, this \\n\"+\n",
       "     \"may be due to a slow or bad network connection. Possible fixes:\\n\"+\n",
       "     \"</p>\\n\"+\n",
       "     \"<ul>\\n\"+\n",
       "     \"<li>re-rerun `output_notebook()` to attempt to load from CDN again, or</li>\\n\"+\n",
       "     \"<li>use INLINE resources instead, as so:</li>\\n\"+\n",
       "     \"</ul>\\n\"+\n",
       "     \"<code>\\n\"+\n",
       "     \"from bokeh.resources import INLINE\\n\"+\n",
       "     \"output_notebook(resources=INLINE)\\n\"+\n",
       "     \"</code>\\n\"+\n",
       "     \"</div>\"}};\n",
       "\n",
       "  function display_loaded() {\n",
       "    var el = document.getElementById(null);\n",
       "    if (el != null) {\n",
       "      el.textContent = \"BokehJS is loading...\";\n",
       "    }\n",
       "    if (root.Bokeh !== undefined) {\n",
       "      if (el != null) {\n",
       "        el.textContent = \"BokehJS \" + root.Bokeh.version + \" successfully loaded.\";\n",
       "      }\n",
       "    } else if (Date.now() < root._bokeh_timeout) {\n",
       "      setTimeout(display_loaded, 100)\n",
       "    }\n",
       "  }\n",
       "\n",
       "\n",
       "  function run_callbacks() {\n",
       "    try {\n",
       "      root._bokeh_onload_callbacks.forEach(function(callback) {\n",
       "        if (callback != null)\n",
       "          callback();\n",
       "      });\n",
       "    } finally {\n",
       "      delete root._bokeh_onload_callbacks\n",
       "    }\n",
       "    console.debug(\"Bokeh: all callbacks have finished\");\n",
       "  }\n",
       "\n",
       "  function load_libs(css_urls, js_urls, callback) {\n",
       "    if (css_urls == null) css_urls = [];\n",
       "    if (js_urls == null) js_urls = [];\n",
       "\n",
       "    root._bokeh_onload_callbacks.push(callback);\n",
       "    if (root._bokeh_is_loading > 0) {\n",
       "      console.debug(\"Bokeh: BokehJS is being loaded, scheduling callback at\", now());\n",
       "      return null;\n",
       "    }\n",
       "    if (js_urls == null || js_urls.length === 0) {\n",
       "      run_callbacks();\n",
       "      return null;\n",
       "    }\n",
       "    console.debug(\"Bokeh: BokehJS not loaded, scheduling load and callback at\", now());\n",
       "    root._bokeh_is_loading = css_urls.length + js_urls.length;\n",
       "\n",
       "    function on_load() {\n",
       "      root._bokeh_is_loading--;\n",
       "      if (root._bokeh_is_loading === 0) {\n",
       "        console.debug(\"Bokeh: all BokehJS libraries/stylesheets loaded\");\n",
       "        run_callbacks()\n",
       "      }\n",
       "    }\n",
       "\n",
       "    function on_error() {\n",
       "      console.error(\"failed to load \" + url);\n",
       "    }\n",
       "\n",
       "    for (var i = 0; i < css_urls.length; i++) {\n",
       "      var url = css_urls[i];\n",
       "      const element = document.createElement(\"link\");\n",
       "      element.onload = on_load;\n",
       "      element.onerror = on_error;\n",
       "      element.rel = \"stylesheet\";\n",
       "      element.type = \"text/css\";\n",
       "      element.href = url;\n",
       "      console.debug(\"Bokeh: injecting link tag for BokehJS stylesheet: \", url);\n",
       "      document.body.appendChild(element);\n",
       "    }\n",
       "\n",
       "    for (var i = 0; i < js_urls.length; i++) {\n",
       "      var url = js_urls[i];\n",
       "      var element = document.createElement('script');\n",
       "      element.onload = on_load;\n",
       "      element.onerror = on_error;\n",
       "      element.async = false;\n",
       "      element.src = url;\n",
       "      console.debug(\"Bokeh: injecting script tag for BokehJS library: \", url);\n",
       "      document.head.appendChild(element);\n",
       "    }\n",
       "  };\n",
       "\n",
       "  function inject_raw_css(css) {\n",
       "    const element = document.createElement(\"style\");\n",
       "    element.appendChild(document.createTextNode(css));\n",
       "    document.body.appendChild(element);\n",
       "  }\n",
       "\n",
       "  var js_urls = [\"https://cdn.pydata.org/bokeh/release/bokeh-1.2.0.min.js\", \"https://cdn.pydata.org/bokeh/release/bokeh-widgets-1.2.0.min.js\", \"https://cdn.pydata.org/bokeh/release/bokeh-tables-1.2.0.min.js\", \"https://cdn.pydata.org/bokeh/release/bokeh-gl-1.2.0.min.js\"];\n",
       "  var css_urls = [\"https://cdn.pydata.org/bokeh/release/bokeh-1.2.0.min.css\", \"https://cdn.pydata.org/bokeh/release/bokeh-widgets-1.2.0.min.css\", \"https://cdn.pydata.org/bokeh/release/bokeh-tables-1.2.0.min.css\"];\n",
       "\n",
       "  var inline_js = [\n",
       "    function(Bokeh) {\n",
       "      Bokeh.set_log_level(\"info\");\n",
       "    },\n",
       "    \n",
       "    function(Bokeh) {\n",
       "      \n",
       "    },\n",
       "    function(Bokeh) {} // ensure no trailing comma for IE\n",
       "  ];\n",
       "\n",
       "  function run_inline_js() {\n",
       "    \n",
       "    if ((root.Bokeh !== undefined) || (force === true)) {\n",
       "      for (var i = 0; i < inline_js.length; i++) {\n",
       "        inline_js[i].call(root, root.Bokeh);\n",
       "      }} else if (Date.now() < root._bokeh_timeout) {\n",
       "      setTimeout(run_inline_js, 100);\n",
       "    } else if (!root._bokeh_failed_load) {\n",
       "      console.log(\"Bokeh: BokehJS failed to load within specified timeout.\");\n",
       "      root._bokeh_failed_load = true;\n",
       "    } else if (force !== true) {\n",
       "      var cell = $(document.getElementById(null)).parents('.cell').data().cell;\n",
       "      cell.output_area.append_execute_result(NB_LOAD_WARNING)\n",
       "    }\n",
       "\n",
       "  }\n",
       "\n",
       "  if (root._bokeh_is_loading === 0) {\n",
       "    console.debug(\"Bokeh: BokehJS loaded, going straight to plotting\");\n",
       "    run_inline_js();\n",
       "  } else {\n",
       "    load_libs(css_urls, js_urls, function() {\n",
       "      console.debug(\"Bokeh: BokehJS plotting callback run at\", now());\n",
       "      run_inline_js();\n",
       "    });\n",
       "  }\n",
       "}(window));"
      ],
      "application/vnd.bokehjs_load.v0+json": "\n(function(root) {\n  function now() {\n    return new Date();\n  }\n\n  var force = true;\n\n  if (typeof root._bokeh_onload_callbacks === \"undefined\" || force === true) {\n    root._bokeh_onload_callbacks = [];\n    root._bokeh_is_loading = undefined;\n  }\n\n  \n\n  \n  if (typeof (root._bokeh_timeout) === \"undefined\" || force === true) {\n    root._bokeh_timeout = Date.now() + 5000;\n    root._bokeh_failed_load = false;\n  }\n\n  var NB_LOAD_WARNING = {'data': {'text/html':\n     \"<div style='background-color: #fdd'>\\n\"+\n     \"<p>\\n\"+\n     \"BokehJS does not appear to have successfully loaded. If loading BokehJS from CDN, this \\n\"+\n     \"may be due to a slow or bad network connection. Possible fixes:\\n\"+\n     \"</p>\\n\"+\n     \"<ul>\\n\"+\n     \"<li>re-rerun `output_notebook()` to attempt to load from CDN again, or</li>\\n\"+\n     \"<li>use INLINE resources instead, as so:</li>\\n\"+\n     \"</ul>\\n\"+\n     \"<code>\\n\"+\n     \"from bokeh.resources import INLINE\\n\"+\n     \"output_notebook(resources=INLINE)\\n\"+\n     \"</code>\\n\"+\n     \"</div>\"}};\n\n  function display_loaded() {\n    var el = document.getElementById(null);\n    if (el != null) {\n      el.textContent = \"BokehJS is loading...\";\n    }\n    if (root.Bokeh !== undefined) {\n      if (el != null) {\n        el.textContent = \"BokehJS \" + root.Bokeh.version + \" successfully loaded.\";\n      }\n    } else if (Date.now() < root._bokeh_timeout) {\n      setTimeout(display_loaded, 100)\n    }\n  }\n\n\n  function run_callbacks() {\n    try {\n      root._bokeh_onload_callbacks.forEach(function(callback) {\n        if (callback != null)\n          callback();\n      });\n    } finally {\n      delete root._bokeh_onload_callbacks\n    }\n    console.debug(\"Bokeh: all callbacks have finished\");\n  }\n\n  function load_libs(css_urls, js_urls, callback) {\n    if (css_urls == null) css_urls = [];\n    if (js_urls == null) js_urls = [];\n\n    root._bokeh_onload_callbacks.push(callback);\n    if (root._bokeh_is_loading > 0) {\n      console.debug(\"Bokeh: BokehJS is being loaded, scheduling callback at\", now());\n      return null;\n    }\n    if (js_urls == null || js_urls.length === 0) {\n      run_callbacks();\n      return null;\n    }\n    console.debug(\"Bokeh: BokehJS not loaded, scheduling load and callback at\", now());\n    root._bokeh_is_loading = css_urls.length + js_urls.length;\n\n    function on_load() {\n      root._bokeh_is_loading--;\n      if (root._bokeh_is_loading === 0) {\n        console.debug(\"Bokeh: all BokehJS libraries/stylesheets loaded\");\n        run_callbacks()\n      }\n    }\n\n    function on_error() {\n      console.error(\"failed to load \" + url);\n    }\n\n    for (var i = 0; i < css_urls.length; i++) {\n      var url = css_urls[i];\n      const element = document.createElement(\"link\");\n      element.onload = on_load;\n      element.onerror = on_error;\n      element.rel = \"stylesheet\";\n      element.type = \"text/css\";\n      element.href = url;\n      console.debug(\"Bokeh: injecting link tag for BokehJS stylesheet: \", url);\n      document.body.appendChild(element);\n    }\n\n    for (var i = 0; i < js_urls.length; i++) {\n      var url = js_urls[i];\n      var element = document.createElement('script');\n      element.onload = on_load;\n      element.onerror = on_error;\n      element.async = false;\n      element.src = url;\n      console.debug(\"Bokeh: injecting script tag for BokehJS library: \", url);\n      document.head.appendChild(element);\n    }\n  };\n\n  function inject_raw_css(css) {\n    const element = document.createElement(\"style\");\n    element.appendChild(document.createTextNode(css));\n    document.body.appendChild(element);\n  }\n\n  var js_urls = [\"https://cdn.pydata.org/bokeh/release/bokeh-1.2.0.min.js\", \"https://cdn.pydata.org/bokeh/release/bokeh-widgets-1.2.0.min.js\", \"https://cdn.pydata.org/bokeh/release/bokeh-tables-1.2.0.min.js\", \"https://cdn.pydata.org/bokeh/release/bokeh-gl-1.2.0.min.js\"];\n  var css_urls = [\"https://cdn.pydata.org/bokeh/release/bokeh-1.2.0.min.css\", \"https://cdn.pydata.org/bokeh/release/bokeh-widgets-1.2.0.min.css\", \"https://cdn.pydata.org/bokeh/release/bokeh-tables-1.2.0.min.css\"];\n\n  var inline_js = [\n    function(Bokeh) {\n      Bokeh.set_log_level(\"info\");\n    },\n    \n    function(Bokeh) {\n      \n    },\n    function(Bokeh) {} // ensure no trailing comma for IE\n  ];\n\n  function run_inline_js() {\n    \n    if ((root.Bokeh !== undefined) || (force === true)) {\n      for (var i = 0; i < inline_js.length; i++) {\n        inline_js[i].call(root, root.Bokeh);\n      }} else if (Date.now() < root._bokeh_timeout) {\n      setTimeout(run_inline_js, 100);\n    } else if (!root._bokeh_failed_load) {\n      console.log(\"Bokeh: BokehJS failed to load within specified timeout.\");\n      root._bokeh_failed_load = true;\n    } else if (force !== true) {\n      var cell = $(document.getElementById(null)).parents('.cell').data().cell;\n      cell.output_area.append_execute_result(NB_LOAD_WARNING)\n    }\n\n  }\n\n  if (root._bokeh_is_loading === 0) {\n    console.debug(\"Bokeh: BokehJS loaded, going straight to plotting\");\n    run_inline_js();\n  } else {\n    load_libs(css_urls, js_urls, function() {\n      console.debug(\"Bokeh: BokehJS plotting callback run at\", now());\n      run_inline_js();\n    });\n  }\n}(window));"
     },
     "metadata": {},
     "output_type": "display_data"
    }
   ],
   "source": [
    "from bokeh.plotting import  show, output_notebook\n",
    "from bokeh.layouts import column, row\n",
    "output_notebook(verbose=False, hide_banner=True)\n",
    "import os\n",
    "\n",
    "from opmd_beamphysics import bunch_plotting, bunch_tools, bunch_stats"
   ]
  },
  {
   "cell_type": "code",
   "execution_count": 25,
   "metadata": {},
   "outputs": [],
   "source": [
    "h5 = h5py.File('test.h5', 'r')"
   ]
  },
  {
   "cell_type": "code",
   "execution_count": 26,
   "metadata": {},
   "outputs": [
    {
     "data": {
      "text/plain": [
       "['input', 'particles', 'run_info', 'slice_info', 'stats']"
      ]
     },
     "execution_count": 26,
     "metadata": {},
     "output_type": "execute_result"
    }
   ],
   "source": [
    "list(h5)"
   ]
  },
  {
   "cell_type": "code",
   "execution_count": 27,
   "metadata": {},
   "outputs": [
    {
     "data": {
      "text/plain": [
       "['final_particles', 'initial_particles']"
      ]
     },
     "execution_count": 27,
     "metadata": {},
     "output_type": "execute_result"
    }
   ],
   "source": [
    "list(h5['particles'])"
   ]
  },
  {
   "cell_type": "code",
   "execution_count": 33,
   "metadata": {},
   "outputs": [
    {
     "data": {
      "text/html": [
       "\n",
       "\n",
       "\n",
       "\n",
       "\n",
       "\n",
       "  <div class=\"bk-root\" id=\"342e54c1-c5bb-476d-810f-9789976b6c7f\" data-root-id=\"3224\"></div>\n"
      ]
     },
     "metadata": {},
     "output_type": "display_data"
    },
    {
     "data": {
      "application/javascript": [
       "(function(root) {\n",
       "  function embed_document(root) {\n",
       "    \n",
       "  var docs_json = {\"bba17d28-3843-4031-b78b-02c997e70e3d\":{\"roots\":{\"references\":[{\"attributes\":{\"children\":[{\"id\":\"3108\",\"subtype\":\"Figure\",\"type\":\"Plot\"},{\"id\":\"3147\",\"subtype\":\"Figure\",\"type\":\"Plot\"},{\"id\":\"3185\",\"subtype\":\"Figure\",\"type\":\"Plot\"}]},\"id\":\"3224\",\"type\":\"Column\"},{\"attributes\":{},\"id\":\"3192\",\"type\":\"LinearScale\"},{\"attributes\":{\"callback\":null,\"end\":36661.31507317639,\"start\":29965.367441565188},\"id\":\"3186\",\"type\":\"Range1d\"},{\"attributes\":{\"callback\":null,\"data\":{\"dh\":[1947.796266048],\"dw\":[6695.947631611201],\"image\":[{\"__ndarray__\":\"AAAAAAAAAAAAAAAAAAAAAAAAAAAAAAAAAAAAAAAAAAAAAAAAAAAAAAAAAAAAAAAAAAAAAAAAAAAAAAAAAAAAAAAAAAAAAAAAAAAAAAAAAAAAAAAAAAAAAAAAAAAAAAAAAAAAAAAAAAAAAAAAAAAAAAAAAAAAAAAAAAAAAAAAAAAAAAAAAAAAAAAAAAAAAAAAAAAAAAAAAAAAAAAAAAAAAAAAAAAAAAAAAAAAAAAAAAAAAAAAAAAAAAAAAAAAAAAAAAAAAAAAAAAAAAAAAAAAQAAAAAAAAPA/AAAAAAAAEEAAAAAAAAAIQAAAAAAAAAAAAAAAAAAA8D8AAAAAAADwPwAAAAAAAAAAAAAAAAAAAAAAAAAAAAAAAAAAAAAAAAAAAAAAAAAAAAAAAAAAAAAAAAAAAAAAAAAAAAAAAAAAAAAAAAAAAAAAAAAAAAAAAAAAAAAAAAAAAAAAAAAAAAAAAAAAAAAAAAAAAAAAAAAAAAAAAAAAAAAAAAAAAAAAAAAAAAAAAAAAAAAAAAAAAAAAAAAAAAAAAAAAAAAAAAAAAAAAAAAAAAAAAAAAAAAAAAAAAAAAAAAAAAAAAAAAAAAAAAAAAAAAAAAAAAAAAAAAAAAAAAAAAAAAAAAAAAAAAAAAAAAAAAAAAAAAAAAAAAAAAAAAAAAAAAAAAAAAAAAAAAAAAAAAAAAAAAAAAAAAAAAAAAAAAAAAAAAAAAAAAAAAAAAAAAAAAAAAAAAAAAAAAAAAAAAAAAAAAAAAAAAAAABAAAAAAAAA8D8AAAAAAAAAQAAAAAAAAAhAAAAAAAAAEEAAAAAAAAAAQAAAAAAAAPA/AAAAAAAAAEAAAAAAAAAUQAAAAAAAAAAAAAAAAAAAAEAAAAAAAAAAAAAAAAAAAPA/AAAAAAAAAEAAAAAAAAAAAAAAAAAAAPA/AAAAAAAA8D8AAAAAAAAAAAAAAAAAAAAAAAAAAAAAAAAAAAAAAAAAAAAAAAAAAAAAAAAAAAAAAAAAAAAAAAAAAAAAAAAAAAAAAAAAAAAAAAAAAAAAAAAAAAAAAAAAAAAAAAAAAAAAAAAAAAAAAAAAAAAAAAAAAAAAAAAAAAAAAAAAAAAAAAAAAAAAAAAAAAAAAAAAAAAAAAAAAAAAAAAAAAAAAAAAAAAAAAAAAAAAAAAAAAAAAAAAAAAAAAAAAAAAAAAAAAAAAAAAAAAAAAAAAAAAAAAAAAAAAAAAAAAAAAAAAAAAAAAAAAAAAAAAAAAAAAAAAAAAAAAAAAAAAAAAAAAAAAAAAPA/AAAAAAAA8D8AAAAAAADwPwAAAAAAAABAAAAAAAAA8D8AAAAAAAAQQAAAAAAAAAhAAAAAAAAA8D8AAAAAAAAIQAAAAAAAAAhAAAAAAAAAEEAAAAAAAAAIQAAAAAAAAAhAAAAAAAAAAEAAAAAAAADwPwAAAAAAAABAAAAAAAAA8D8AAAAAAAAQQAAAAAAAAAhAAAAAAAAAAAAAAAAAAADwPwAAAAAAAAAAAAAAAAAAAAAAAAAAAAAAAAAAAAAAAAAAAAAAAAAAAAAAAAAAAAAAAAAAAAAAAAAAAAAAAAAAAAAAAAAAAAAAAAAAAAAAAAAAAAAAAAAAAAAAAAAAAAAAAAAAAAAAAAAAAAAAAAAAAAAAAAAAAAAAAAAAAAAAAAAAAAAAAAAAAAAAAAAAAAAAAAAAAAAAAAAAAAAAAAAAAAAAAAAAAAAAAAAAAAAAAAAAAAAAAAAAAAAAAAAAAAAAAAAAAAAAAAAAAAAAAAAA8D8AAAAAAADwPwAAAAAAAAhAAAAAAAAAFEAAAAAAAAAAQAAAAAAAABhAAAAAAAAAEEAAAAAAAAAcQAAAAAAAAAhAAAAAAAAAFEAAAAAAAAAIQAAAAAAAABBAAAAAAAAAHEAAAAAAAAAUQAAAAAAAACBAAAAAAAAACEAAAAAAAAAAQAAAAAAAAABAAAAAAAAAGEAAAAAAAAAQQAAAAAAAAABAAAAAAAAAEEAAAAAAAAAIQAAAAAAAAABAAAAAAAAA8D8AAAAAAAAAQAAAAAAAAAAAAAAAAAAAAAAAAAAAAAAAAAAAAAAAAAAAAAAAAAAAAAAAAAAAAAAAAAAAAAAAAAAAAAAAAAAAAAAAAAAAAAAAAAAAAAAAAAAAAAAAAAAAAAAAAAAAAAAAAAAAAAAAAAAAAAAAAAAAAAAAAAAAAAAAAAAAAAAAAAAAAAAAAAAAAAAAAAAAAAAAAAAAAAAAAAAAAAAAAAAAAAAAAAAAAAAAAAAAAAAAAAAAAAAAAAAAAAAAAAAAAAAAAAAAAAAAAAhAAAAAAAAAAEAAAAAAAAAQQAAAAAAAAAhAAAAAAAAAHEAAAAAAAAAUQAAAAAAAACBAAAAAAAAAGEAAAAAAAAAAQAAAAAAAACJAAAAAAAAAIEAAAAAAAAAQQAAAAAAAABhAAAAAAAAAEEAAAAAAAAAYQAAAAAAAAAhAAAAAAAAAFEAAAAAAAAAIQAAAAAAAABhAAAAAAAAAAEAAAAAAAAAQQAAAAAAAABBAAAAAAAAAEEAAAAAAAAAYQAAAAAAAAAhAAAAAAAAAAAAAAAAAAAAAQAAAAAAAAABAAAAAAAAAAAAAAAAAAAAAAAAAAAAAAAAAAAAAAAAAAAAAAAAAAAAAAAAAAAAAAAAAAAAAAAAAAAAAAAAAAAAAAAAAAAAAAAAAAAAAAAAAAAAAAAAAAAAAAAAAAAAAAAAAAAAAAAAAAAAAAAAAAAAAAAAAAAAAAAAAAAAAAAAAAAAAAAAAAAAAAAAAAAAAAAAAAAAAAAAAAAAAAAAAAAAAAAAAAAAAAAAAAAAAAAAAAEAAAAAAAAAQQAAAAAAAAAhAAAAAAAAAAEAAAAAAAAAYQAAAAAAAAABAAAAAAAAAFEAAAAAAAAAQQAAAAAAAABRAAAAAAAAAIkAAAAAAAAAAAAAAAAAAABxAAAAAAAAAIkAAAAAAAAAcQAAAAAAAABBAAAAAAAAAHEAAAAAAAAAIQAAAAAAAABhAAAAAAAAAHEAAAAAAAAAIQAAAAAAAACZAAAAAAAAACEAAAAAAAAAUQAAAAAAAABBAAAAAAAAAGEAAAAAAAADwPwAAAAAAAPA/AAAAAAAAEEAAAAAAAAAAAAAAAAAAAPA/AAAAAAAACEAAAAAAAAAAAAAAAAAAAAAAAAAAAAAAAAAAAAAAAAAAAAAAAAAAAAAAAAAAAAAAAAAAAAAAAAAAAAAAAAAAAAAAAAAAAAAAAAAAAAAAAAAAAAAAAAAAAAAAAAAAAAAAAAAAAAAAAAAAAAAAAAAAAAAAAAAAAAAAAAAAAAAAAAAAAAAAAAAAAAAAAAAAAAAAAAAAAAAAAAAAQAAAAAAAAABAAAAAAAAAAEAAAAAAAAAAQAAAAAAAABBAAAAAAAAACEAAAAAAAAAQQAAAAAAAABRAAAAAAAAAFEAAAAAAAAAYQAAAAAAAABxAAAAAAAAAJEAAAAAAAAAQQAAAAAAAABBAAAAAAAAAIkAAAAAAAAAiQAAAAAAAABRAAAAAAAAAEEAAAAAAAAAYQAAAAAAAABRAAAAAAAAAGEAAAAAAAAAcQAAAAAAAAAhAAAAAAAAAFEAAAAAAAAAQQAAAAAAAABBAAAAAAAAAGEAAAAAAAAAQQAAAAAAAAAAAAAAAAAAAHEAAAAAAAAAAAAAAAAAAAAhAAAAAAAAA8D8AAAAAAAAAAAAAAAAAAAAAAAAAAAAAAAAAAAAAAAAAAAAAAAAAAAAAAAAAAAAAAAAAAAAAAAAAAAAAAAAAAAAAAAAAAAAAAAAAAAAAAAAAAAAAAAAAAAAAAAAAAAAAAAAAAAAAAAAAAAAAAAAAAPA/AAAAAAAA8D8AAAAAAADwPwAAAAAAABRAAAAAAAAAEEAAAAAAAAAiQAAAAAAAABRAAAAAAAAACEAAAAAAAAAgQAAAAAAAAAhAAAAAAAAAHEAAAAAAAAAQQAAAAAAAACBAAAAAAAAAKkAAAAAAAAAYQAAAAAAAAAhAAAAAAAAACEAAAAAAAAAYQAAAAAAAABRAAAAAAAAAIEAAAAAAAAAUQAAAAAAAACZAAAAAAAAAEEAAAAAAAAAYQAAAAAAAABBAAAAAAAAAJEAAAAAAAAAUQAAAAAAAAPA/AAAAAAAACEAAAAAAAADwPwAAAAAAAAhAAAAAAAAAAEAAAAAAAAAYQAAAAAAAABBAAAAAAAAAAEAAAAAAAADwPwAAAAAAAAAAAAAAAAAAAAAAAAAAAADwPwAAAAAAAAAAAAAAAAAAAAAAAAAAAAAAAAAAAAAAAAAAAAAAAAAAAAAAAAAAAAAAAAAAAAAAAAAAAAAAAAAAAAAAAAAAAAAAAAAAAAAAAAAAAAAAAAAAAAAAAAAAAAAAAAAAAAAAAABAAAAAAAAACEAAAAAAAAAIQAAAAAAAABBAAAAAAAAAEEAAAAAAAAAAQAAAAAAAABhAAAAAAAAAEEAAAAAAAAAcQAAAAAAAABBAAAAAAAAAGEAAAAAAAAAiQAAAAAAAABRAAAAAAAAAHEAAAAAAAAAcQAAAAAAAABRAAAAAAAAAJEAAAAAAAAAgQAAAAAAAABRAAAAAAAAAEEAAAAAAAAAQQAAAAAAAAAhAAAAAAAAAFEAAAAAAAAAUQAAAAAAAABhAAAAAAAAAFEAAAAAAAAAIQAAAAAAAAABAAAAAAAAAIEAAAAAAAAAYQAAAAAAAAABAAAAAAAAACEAAAAAAAAAQQAAAAAAAAABAAAAAAAAAAEAAAAAAAAAAAAAAAAAAAPA/AAAAAAAA8D8AAAAAAAAAAAAAAAAAAAAAAAAAAAAAAAAAAAAAAAAAAAAAAAAAAAAAAAAAAAAAAAAAAAAAAAAAAAAAAAAAAAAAAAAAAAAAAAAAAAAAAAAAAAAAAAAAAABAAAAAAAAAAAAAAAAAAADwPwAAAAAAAPA/AAAAAAAAGEAAAAAAAAAYQAAAAAAAACJAAAAAAAAACEAAAAAAAAAcQAAAAAAAABxAAAAAAAAAHEAAAAAAAAAUQAAAAAAAACJAAAAAAAAAEEAAAAAAAAAUQAAAAAAAABxAAAAAAAAAHEAAAAAAAAAoQAAAAAAAABxAAAAAAAAAJkAAAAAAAAAQQAAAAAAAAAhAAAAAAAAAEEAAAAAAAAAiQAAAAAAAABhAAAAAAAAAGEAAAAAAAAAUQAAAAAAAABRAAAAAAAAAHEAAAAAAAAAiQAAAAAAAABRAAAAAAAAAGEAAAAAAAAAQQAAAAAAAABxAAAAAAAAACEAAAAAAAAAIQAAAAAAAABhAAAAAAAAAAEAAAAAAAAAAAAAAAAAAAAAAAAAAAAAAAAAAAAAAAAAAAAAAAAAAAAAAAAAAAAAAAAAAAAAAAAAAAAAAAAAAAAAAAAAAAAAAAAAAAAAAAAAAAAAAAAAAAAAAAAAAAAAAAAAAAAAAAADwPwAAAAAAAPA/AAAAAAAAAEAAAAAAAAAQQAAAAAAAABRAAAAAAAAAGEAAAAAAAAAYQAAAAAAAACBAAAAAAAAAFEAAAAAAAAAUQAAAAAAAABBAAAAAAAAAGEAAAAAAAAAQQAAAAAAAACBAAAAAAAAAFEAAAAAAAAAkQAAAAAAAACRAAAAAAAAAEEAAAAAAAAAYQAAAAAAAAAhAAAAAAAAAJEAAAAAAAAAcQAAAAAAAACBAAAAAAAAAHEAAAAAAAAAQQAAAAAAAACBAAAAAAAAACEAAAAAAAAAcQAAAAAAAACBAAAAAAAAAGEAAAAAAAAAYQAAAAAAAAAhAAAAAAAAAAEAAAAAAAAAYQAAAAAAAAAhAAAAAAAAAGEAAAAAAAAAIQAAAAAAAAPA/AAAAAAAAAEAAAAAAAAAIQAAAAAAAAAAAAAAAAAAAAAAAAAAAAAAAAAAAAAAAAAAAAAAAAAAAAAAAAAAAAAAAAAAAAAAAAAAAAAAAAAAAAAAAAAAAAAAAAAAAAAAAAABAAAAAAAAAEEAAAAAAAAAIQAAAAAAAAAhAAAAAAAAAFEAAAAAAAAAAQAAAAAAAABhAAAAAAAAAAEAAAAAAAAAcQAAAAAAAABBAAAAAAAAAJEAAAAAAAAAUQAAAAAAAABBAAAAAAAAAHEAAAAAAAAAQQAAAAAAAACBAAAAAAAAAGEAAAAAAAAAiQAAAAAAAABhAAAAAAAAAIkAAAAAAAAAcQAAAAAAAABRAAAAAAAAAIEAAAAAAAAAQQAAAAAAAACRAAAAAAAAAFEAAAAAAAAAUQAAAAAAAABhAAAAAAAAAGEAAAAAAAAAiQAAAAAAAABBAAAAAAAAACEAAAAAAAAAUQAAAAAAAAAhAAAAAAAAAAEAAAAAAAAAUQAAAAAAAABhAAAAAAAAAEEAAAAAAAAAAQAAAAAAAAPA/AAAAAAAAAEAAAAAAAADwPwAAAAAAAAAAAAAAAAAAAAAAAAAAAAAAAAAAAAAAAAAAAAAAAAAAAAAAAAAAAAAAAAAAAAAAAAAAAAAAAAAAAAAAAAAAAAAQQAAAAAAAABBAAAAAAAAAFEAAAAAAAAAYQAAAAAAAAAhAAAAAAAAAIkAAAAAAAAAQQAAAAAAAABxAAAAAAAAACEAAAAAAAAAQQAAAAAAAABxAAAAAAAAAFEAAAAAAAAAUQAAAAAAAABhAAAAAAAAAGEAAAAAAAAAYQAAAAAAAAAhAAAAAAAAAIEAAAAAAAAAkQAAAAAAAABxAAAAAAAAAGEAAAAAAAAAiQAAAAAAAACRAAAAAAAAAIkAAAAAAAAAqQAAAAAAAACRAAAAAAAAAIEAAAAAAAAAgQAAAAAAAAAhAAAAAAAAAIEAAAAAAAAAIQAAAAAAAACBAAAAAAAAAIEAAAAAAAAAYQAAAAAAAABRAAAAAAAAA8D8AAAAAAAAIQAAAAAAAABxAAAAAAAAAAEAAAAAAAADwPwAAAAAAAPA/AAAAAAAAAEAAAAAAAAAAAAAAAAAAAAAAAAAAAAAAAAAAAAAAAAAAAAAAAAAAAPA/AAAAAAAA8D8AAAAAAAAAQAAAAAAAAAhAAAAAAAAAHEAAAAAAAAAAAAAAAAAAAABAAAAAAAAAAEAAAAAAAAAQQAAAAAAAAAhAAAAAAAAAGEAAAAAAAAAQQAAAAAAAABBAAAAAAAAAHEAAAAAAAAAmQAAAAAAAACJAAAAAAAAAJEAAAAAAAAAUQAAAAAAAABBAAAAAAAAAIkAAAAAAAAAcQAAAAAAAABhAAAAAAAAAHEAAAAAAAAAkQAAAAAAAACJAAAAAAAAAEEAAAAAAAAAcQAAAAAAAACJAAAAAAAAAIEAAAAAAAAAYQAAAAAAAACJAAAAAAAAAAEAAAAAAAAAiQAAAAAAAABxAAAAAAAAAJkAAAAAAAAAYQAAAAAAAABhAAAAAAAAAHEAAAAAAAAAYQAAAAAAAABBAAAAAAAAAEEAAAAAAAAAUQAAAAAAAAPA/AAAAAAAAAEAAAAAAAADwPwAAAAAAAABAAAAAAAAAAAAAAAAAAAAAAAAAAAAAAAAAAAAAAAAAAAAAAAAAAAAAAAAAAAAAAPA/AAAAAAAA8D8AAAAAAAAAQAAAAAAAABBAAAAAAAAAEEAAAAAAAAAQQAAAAAAAAABAAAAAAAAAEEAAAAAAAAAIQAAAAAAAAAhAAAAAAAAAFEAAAAAAAAAUQAAAAAAAABRAAAAAAAAAHEAAAAAAAAAcQAAAAAAAACpAAAAAAAAAJkAAAAAAAAAiQAAAAAAAACZAAAAAAAAAFEAAAAAAAAAgQAAAAAAAACBAAAAAAAAAHEAAAAAAAAAgQAAAAAAAACZAAAAAAAAAGEAAAAAAAAAcQAAAAAAAABxAAAAAAAAAFEAAAAAAAAAYQAAAAAAAABxAAAAAAAAAEEAAAAAAAAAcQAAAAAAAACJAAAAAAAAAIEAAAAAAAAAgQAAAAAAAABxAAAAAAAAAGEAAAAAAAAAQQAAAAAAAABRAAAAAAAAAFEAAAAAAAAAQQAAAAAAAAABAAAAAAAAACEAAAAAAAAAAAAAAAAAAAAAAAAAAAAAAAAAAAAAAAAAAAAAAAAAAAAAAAAAAAAAA8D8AAAAAAADwPwAAAAAAAABAAAAAAAAA8D8AAAAAAAAUQAAAAAAAAABAAAAAAAAAGEAAAAAAAAAQQAAAAAAAABhAAAAAAAAA8D8AAAAAAAAgQAAAAAAAACRAAAAAAAAAIEAAAAAAAAAcQAAAAAAAACBAAAAAAAAACEAAAAAAAAAUQAAAAAAAABhAAAAAAAAAHEAAAAAAAAAYQAAAAAAAABBAAAAAAAAAIEAAAAAAAAAmQAAAAAAAACRAAAAAAAAAFEAAAAAAAAAiQAAAAAAAAAhAAAAAAAAAKEAAAAAAAAAIQAAAAAAAABxAAAAAAAAAJkAAAAAAAAAcQAAAAAAAABxAAAAAAAAAEEAAAAAAAADwPwAAAAAAABhAAAAAAAAAGEAAAAAAAAAQQAAAAAAAABxAAAAAAAAAIkAAAAAAAAAIQAAAAAAAABBAAAAAAAAACEAAAAAAAAAYQAAAAAAAAAhAAAAAAAAAFEAAAAAAAAAAAAAAAAAAAAAAAAAAAAAAAAAAAAAAAAAAAAAAAAAAAAAAAAAAAAAAAAAAAAAAAAAAQAAAAAAAAABAAAAAAAAAHEAAAAAAAAAcQAAAAAAAAABAAAAAAAAAEEAAAAAAAAAUQAAAAAAAACJAAAAAAAAAJEAAAAAAAAAiQAAAAAAAABRAAAAAAAAAIEAAAAAAAAAgQAAAAAAAAAhAAAAAAAAAFEAAAAAAAAAsQAAAAAAAABhAAAAAAAAAGEAAAAAAAAAcQAAAAAAAAAhAAAAAAAAAGEAAAAAAAAAmQAAAAAAAABhAAAAAAAAACEAAAAAAAAAQQAAAAAAAACJAAAAAAAAAJkAAAAAAAAAIQAAAAAAAAPA/AAAAAAAAIkAAAAAAAAAYQAAAAAAAACJAAAAAAAAAEEAAAAAAAAAoQAAAAAAAABhAAAAAAAAAIkAAAAAAAAAYQAAAAAAAAAhAAAAAAAAAFEAAAAAAAAAAQAAAAAAAAAhAAAAAAAAA8D8AAAAAAADwPwAAAAAAABBAAAAAAAAA8D8AAAAAAAAAAAAAAAAAAAAAAAAAAAAAAAAAAAAAAADwPwAAAAAAAPA/AAAAAAAAFEAAAAAAAADwPwAAAAAAABRAAAAAAAAAAEAAAAAAAAAIQAAAAAAAACBAAAAAAAAAGEAAAAAAAAAoQAAAAAAAABRAAAAAAAAAHEAAAAAAAAAgQAAAAAAAABBAAAAAAAAAFEAAAAAAAAAqQAAAAAAAABhAAAAAAAAAHEAAAAAAAAAcQAAAAAAAACBAAAAAAAAAGEAAAAAAAAAcQAAAAAAAAC5AAAAAAAAAFEAAAAAAAAAiQAAAAAAAABxAAAAAAAAAHEAAAAAAAAAoQAAAAAAAABxAAAAAAAAAIEAAAAAAAAAiQAAAAAAAACRAAAAAAAAAKEAAAAAAAAAcQAAAAAAAABxAAAAAAAAAJkAAAAAAAAAIQAAAAAAAABhAAAAAAAAAEEAAAAAAAAAAQAAAAAAAABBAAAAAAAAAGEAAAAAAAAAIQAAAAAAAABRAAAAAAAAAAEAAAAAAAAAAAAAAAAAAAAAAAAAAAAAAAAAAAAAAAAAAAAAAAAAAAPA/AAAAAAAAAEAAAAAAAAAAQAAAAAAAAABAAAAAAAAAEEAAAAAAAAAAQAAAAAAAABRAAAAAAAAAAEAAAAAAAAAcQAAAAAAAACBAAAAAAAAAIkAAAAAAAAAgQAAAAAAAACRAAAAAAAAAFEAAAAAAAAAUQAAAAAAAACRAAAAAAAAAGEAAAAAAAAAQQAAAAAAAABBAAAAAAAAAHEAAAAAAAAAUQAAAAAAAACJAAAAAAAAALkAAAAAAAAAgQAAAAAAAABxAAAAAAAAACEAAAAAAAAAiQAAAAAAAABRAAAAAAAAAFEAAAAAAAAAcQAAAAAAAABBAAAAAAAAAFEAAAAAAAAAcQAAAAAAAABRAAAAAAAAAIkAAAAAAAAAkQAAAAAAAAABAAAAAAAAAHEAAAAAAAAAkQAAAAAAAABRAAAAAAAAAGEAAAAAAAAAcQAAAAAAAABRAAAAAAAAACEAAAAAAAAAAQAAAAAAAAPA/AAAAAAAA8D8AAAAAAAAAAAAAAAAAAAAAAAAAAAAA8D8AAAAAAAAIQAAAAAAAAPA/AAAAAAAA8D8AAAAAAADwPwAAAAAAAPA/AAAAAAAAEEAAAAAAAAAAQAAAAAAAAAhAAAAAAAAAEEAAAAAAAAAUQAAAAAAAABBAAAAAAAAAFEAAAAAAAAAYQAAAAAAAABhAAAAAAAAAIEAAAAAAAAAUQAAAAAAAACJAAAAAAAAAIEAAAAAAAAAmQAAAAAAAABhAAAAAAAAAGEAAAAAAAAAgQAAAAAAAABhAAAAAAAAAIEAAAAAAAAAgQAAAAAAAACBAAAAAAAAAIkAAAAAAAAAiQAAAAAAAACRAAAAAAAAAIEAAAAAAAAAgQAAAAAAAACJAAAAAAAAAHEAAAAAAAAAIQAAAAAAAABBAAAAAAAAAFEAAAAAAAAAmQAAAAAAAABRAAAAAAAAAEEAAAAAAAAAAQAAAAAAAACBAAAAAAAAAGEAAAAAAAAAQQAAAAAAAABxAAAAAAAAA8D8AAAAAAAAYQAAAAAAAAABAAAAAAAAAAAAAAAAAAAAAAAAAAAAAAAAAAAAAAAAAEEAAAAAAAAAAQAAAAAAAABBAAAAAAAAAAEAAAAAAAADwPwAAAAAAABxAAAAAAAAAHEAAAAAAAAAiQAAAAAAAAAhAAAAAAAAAGEAAAAAAAAAQQAAAAAAAABhAAAAAAAAAIEAAAAAAAAAQQAAAAAAAABBAAAAAAAAAHEAAAAAAAAAIQAAAAAAAABRAAAAAAAAAHEAAAAAAAAAmQAAAAAAAACJAAAAAAAAAHEAAAAAAAAAcQAAAAAAAABBAAAAAAAAAIEAAAAAAAAAcQAAAAAAAACBAAAAAAAAAGEAAAAAAAAAAQAAAAAAAABhAAAAAAAAAHEAAAAAAAAAmQAAAAAAAACZAAAAAAAAAFEAAAAAAAAAgQAAAAAAAAAhAAAAAAAAAKEAAAAAAAAAYQAAAAAAAAABAAAAAAAAAEEAAAAAAAAAUQAAAAAAAAAhAAAAAAAAAGEAAAAAAAAAQQAAAAAAAACBAAAAAAAAA8D8AAAAAAAAAAAAAAAAAAAAAAAAAAAAAAAAAAAAAAADwPwAAAAAAAAhAAAAAAAAA8D8AAAAAAAAQQAAAAAAAAAhAAAAAAAAAGEAAAAAAAAAcQAAAAAAAAAhAAAAAAAAAGEAAAAAAAAAYQAAAAAAAACJAAAAAAAAAGEAAAAAAAAAcQAAAAAAAACZAAAAAAAAAIkAAAAAAAAAiQAAAAAAAABRAAAAAAAAALEAAAAAAAAAiQAAAAAAAABxAAAAAAAAAIkAAAAAAAAAQQAAAAAAAAAhAAAAAAAAAFEAAAAAAAAAiQAAAAAAAABRAAAAAAAAAJEAAAAAAAAAmQAAAAAAAACpAAAAAAAAAAEAAAAAAAAAiQAAAAAAAABRAAAAAAAAAHEAAAAAAAAAQQAAAAAAAACBAAAAAAAAAEEAAAAAAAAAYQAAAAAAAACJAAAAAAAAAHEAAAAAAAAAkQAAAAAAAACBAAAAAAAAAIEAAAAAAAAAIQAAAAAAAACJAAAAAAAAAEEAAAAAAAADwPwAAAAAAAABAAAAAAAAACEAAAAAAAADwPwAAAAAAAPA/AAAAAAAA8D8AAAAAAAAQQAAAAAAAAAhAAAAAAAAAFEAAAAAAAAAAQAAAAAAAAAAAAAAAAAAACEAAAAAAAAAIQAAAAAAAABRAAAAAAAAACEAAAAAAAAAYQAAAAAAAABBAAAAAAAAACEAAAAAAAAAYQAAAAAAAABRAAAAAAAAAJEAAAAAAAAAkQAAAAAAAABRAAAAAAAAAHEAAAAAAAAAIQAAAAAAAAAhAAAAAAAAAHEAAAAAAAAAgQAAAAAAAABxAAAAAAAAAHEAAAAAAAAAgQAAAAAAAACJAAAAAAAAAIkAAAAAAAAAgQAAAAAAAACZAAAAAAAAAIEAAAAAAAAAgQAAAAAAAABBAAAAAAAAAIEAAAAAAAAAkQAAAAAAAAAhAAAAAAAAAHEAAAAAAAAAAQAAAAAAAABxAAAAAAAAA8D8AAAAAAAAIQAAAAAAAABRAAAAAAAAACEAAAAAAAAAcQAAAAAAAAABAAAAAAAAACEAAAAAAAAAAQAAAAAAAABBAAAAAAAAAAAAAAAAAAAAAAAAAAAAAAAAAAAAAAAAAAAAAAAAAAAAAQAAAAAAAAPA/AAAAAAAAAEAAAAAAAAAcQAAAAAAAABhAAAAAAAAAFEAAAAAAAAAYQAAAAAAAABBAAAAAAAAAEEAAAAAAAAAQQAAAAAAAABBAAAAAAAAAEEAAAAAAAAAUQAAAAAAAABxAAAAAAAAA8D8AAAAAAAAUQAAAAAAAABRAAAAAAAAAJEAAAAAAAAAmQAAAAAAAABRAAAAAAAAAHEAAAAAAAAAgQAAAAAAAABxAAAAAAAAAIEAAAAAAAAAYQAAAAAAAABRAAAAAAAAAGEAAAAAAAAAgQAAAAAAAAChAAAAAAAAAHEAAAAAAAAAcQAAAAAAAABxAAAAAAAAAGEAAAAAAAAAgQAAAAAAAACRAAAAAAAAAGEAAAAAAAAAUQAAAAAAAACBAAAAAAAAAHEAAAAAAAAAIQAAAAAAAACBAAAAAAAAAIkAAAAAAAAAQQAAAAAAAABRAAAAAAAAAAEAAAAAAAAAcQAAAAAAAAPA/AAAAAAAAAAAAAAAAAAAAAAAAAAAAAABAAAAAAAAACEAAAAAAAAAAQAAAAAAAAAhAAAAAAAAAAEAAAAAAAAAQQAAAAAAAABxAAAAAAAAAFEAAAAAAAAAYQAAAAAAAAAhAAAAAAAAAFEAAAAAAAAAYQAAAAAAAAABAAAAAAAAAIkAAAAAAAAAcQAAAAAAAABBAAAAAAAAAIEAAAAAAAAAQQAAAAAAAABhAAAAAAAAAGEAAAAAAAAAmQAAAAAAAABhAAAAAAAAAHEAAAAAAAAAUQAAAAAAAACRAAAAAAAAAKEAAAAAAAAAYQAAAAAAAABRAAAAAAAAAIEAAAAAAAAAmQAAAAAAAACRAAAAAAAAAFEAAAAAAAAAUQAAAAAAAABhAAAAAAAAAIEAAAAAAAAAcQAAAAAAAABhAAAAAAAAAFEAAAAAAAAAUQAAAAAAAAABAAAAAAAAACEAAAAAAAAAiQAAAAAAAABhAAAAAAAAAFEAAAAAAAAAIQAAAAAAAABRAAAAAAAAA8D8AAAAAAAAAQAAAAAAAAAAAAAAAAAAA8D8AAAAAAADwPwAAAAAAAABAAAAAAAAACEAAAAAAAAAQQAAAAAAAABBAAAAAAAAA8D8AAAAAAAAAAAAAAAAAABhAAAAAAAAACEAAAAAAAAAIQAAAAAAAACBAAAAAAAAAGEAAAAAAAAAgQAAAAAAAAAhAAAAAAAAAEEAAAAAAAAAkQAAAAAAAABxAAAAAAAAACEAAAAAAAAAQQAAAAAAAABhAAAAAAAAAHEAAAAAAAAAcQAAAAAAAACZAAAAAAAAAJEAAAAAAAAAYQAAAAAAAABhAAAAAAAAAKEAAAAAAAAAiQAAAAAAAAAhAAAAAAAAAJEAAAAAAAAAIQAAAAAAAAChAAAAAAAAAHEAAAAAAAAAcQAAAAAAAACJAAAAAAAAAIEAAAAAAAAAYQAAAAAAAABRAAAAAAAAAHEAAAAAAAAAUQAAAAAAAACJAAAAAAAAAIEAAAAAAAAAQQAAAAAAAABBAAAAAAAAACEAAAAAAAAAQQAAAAAAAAAAAAAAAAAAA8D8AAAAAAAAAQAAAAAAAAAAAAAAAAAAAAAAAAAAAAAAAQAAAAAAAAABAAAAAAAAACEAAAAAAAAAIQAAAAAAAABhAAAAAAAAAAEAAAAAAAAAIQAAAAAAAACBAAAAAAAAAAEAAAAAAAAAgQAAAAAAAACpAAAAAAAAAJEAAAAAAAAAgQAAAAAAAABhAAAAAAAAAHEAAAAAAAAAkQAAAAAAAACRAAAAAAAAAHEAAAAAAAAAYQAAAAAAAABxAAAAAAAAAEEAAAAAAAAAYQAAAAAAAACBAAAAAAAAAJEAAAAAAAAAUQAAAAAAAACJAAAAAAAAAFEAAAAAAAAAYQAAAAAAAABxAAAAAAAAAJkAAAAAAAAAqQAAAAAAAABRAAAAAAAAAKkAAAAAAAAAYQAAAAAAAACBAAAAAAAAAIEAAAAAAAAAcQAAAAAAAABhAAAAAAAAAIkAAAAAAAAAiQAAAAAAAABBAAAAAAAAAAEAAAAAAAAAAQAAAAAAAABBAAAAAAAAAHEAAAAAAAAAAQAAAAAAAAAAAAAAAAAAA8D8AAAAAAAAAAAAAAAAAAAhAAAAAAAAAAEAAAAAAAAAIQAAAAAAAAAhAAAAAAAAAHEAAAAAAAAAYQAAAAAAAABBAAAAAAAAAFEAAAAAAAAAgQAAAAAAAAAhAAAAAAAAAIEAAAAAAAAAcQAAAAAAAABhAAAAAAAAAGEAAAAAAAAAmQAAAAAAAACJAAAAAAAAAHEAAAAAAAAAAQAAAAAAAABhAAAAAAAAAHEAAAAAAAAAgQAAAAAAAABxAAAAAAAAAKEAAAAAAAAAUQAAAAAAAACpAAAAAAAAAIkAAAAAAAAAkQAAAAAAAABRAAAAAAAAAKEAAAAAAAAAmQAAAAAAAACZAAAAAAAAAGEAAAAAAAAAYQAAAAAAAAC5AAAAAAAAACEAAAAAAAAAQQAAAAAAAABxAAAAAAAAAEEAAAAAAAAAoQAAAAAAAACRAAAAAAAAAIkAAAAAAAAAiQAAAAAAAABRAAAAAAAAAEEAAAAAAAAAUQAAAAAAAAABAAAAAAAAA8D8AAAAAAAAAAAAAAAAAAAAAAAAAAAAAAAAAAAAAAAAIQAAAAAAAAABAAAAAAAAAFEAAAAAAAAAQQAAAAAAAACBAAAAAAAAAEEAAAAAAAAAgQAAAAAAAABBAAAAAAAAACEAAAAAAAAAcQAAAAAAAACRAAAAAAAAAIkAAAAAAAAAAQAAAAAAAACJAAAAAAAAACEAAAAAAAAAcQAAAAAAAABxAAAAAAAAAEEAAAAAAAAAYQAAAAAAAABRAAAAAAAAAGEAAAAAAAAAqQAAAAAAAACZAAAAAAAAAIkAAAAAAAAAcQAAAAAAAABBAAAAAAAAAJEAAAAAAAAAIQAAAAAAAACBAAAAAAAAAAEAAAAAAAAAYQAAAAAAAACJAAAAAAAAAIkAAAAAAAAAiQAAAAAAAACJAAAAAAAAAFEAAAAAAAADwPwAAAAAAABxAAAAAAAAAGEAAAAAAAAAUQAAAAAAAABhAAAAAAAAAFEAAAAAAAAAIQAAAAAAAAAhAAAAAAAAA8D8AAAAAAAAQQAAAAAAAAAhAAAAAAAAA8D8AAAAAAAAAAAAAAAAAAABAAAAAAAAAAEAAAAAAAADwPwAAAAAAAAhAAAAAAAAACEAAAAAAAAAIQAAAAAAAABRAAAAAAAAAIkAAAAAAAAAiQAAAAAAAABRAAAAAAAAAEEAAAAAAAAAIQAAAAAAAACZAAAAAAAAAIEAAAAAAAAAcQAAAAAAAABBAAAAAAAAAEEAAAAAAAAAcQAAAAAAAABhAAAAAAAAAKkAAAAAAAAAYQAAAAAAAABhAAAAAAAAAIEAAAAAAAAAUQAAAAAAAACBAAAAAAAAAFEAAAAAAAAAgQAAAAAAAACJAAAAAAAAAJEAAAAAAAAAkQAAAAAAAACZAAAAAAAAAJEAAAAAAAAAUQAAAAAAAACpAAAAAAAAAIkAAAAAAAAAoQAAAAAAAACRAAAAAAAAAGEAAAAAAAAAUQAAAAAAAACBAAAAAAAAAHEAAAAAAAAAYQAAAAAAAABRAAAAAAAAAEEAAAAAAAAAAQAAAAAAAABRAAAAAAAAAAAAAAAAAAAAAAAAAAAAAAAAAAAAAAAAAAAAAAAAAAADwPwAAAAAAAABAAAAAAAAA8D8AAAAAAADwPwAAAAAAABBAAAAAAAAAAAAAAAAAAAAQQAAAAAAAABhAAAAAAAAAAAAAAAAAAAAQQAAAAAAAABRAAAAAAAAAHEAAAAAAAAAcQAAAAAAAACJAAAAAAAAAGEAAAAAAAAAIQAAAAAAAABhAAAAAAAAAIkAAAAAAAAAmQAAAAAAAAChAAAAAAAAAGEAAAAAAAAAiQAAAAAAAACJAAAAAAAAAKkAAAAAAAAAmQAAAAAAAABBAAAAAAAAACEAAAAAAAAAcQAAAAAAAABxAAAAAAAAAKkAAAAAAAAAUQAAAAAAAACBAAAAAAAAAFEAAAAAAAAAgQAAAAAAAAChAAAAAAAAAHEAAAAAAAAAUQAAAAAAAACJAAAAAAAAAIEAAAAAAAAAQQAAAAAAAACRAAAAAAAAA8D8AAAAAAAAQQAAAAAAAACJAAAAAAAAAGEAAAAAAAAAIQAAAAAAAAABAAAAAAAAA8D8AAAAAAADwPwAAAAAAAAAAAAAAAAAAAAAAAAAAAADwPwAAAAAAAPA/AAAAAAAAAAAAAAAAAAAAQAAAAAAAAAhAAAAAAAAAAEAAAAAAAAAgQAAAAAAAABRAAAAAAAAACEAAAAAAAAAgQAAAAAAAABhAAAAAAAAAAEAAAAAAAAAgQAAAAAAAACJAAAAAAAAAFEAAAAAAAAAUQAAAAAAAABhAAAAAAAAAHEAAAAAAAAAgQAAAAAAAABxAAAAAAAAAEEAAAAAAAAAUQAAAAAAAABhAAAAAAAAAFEAAAAAAAAAkQAAAAAAAABxAAAAAAAAAIkAAAAAAAAAUQAAAAAAAABxAAAAAAAAAGEAAAAAAAAAcQAAAAAAAACBAAAAAAAAAMEAAAAAAAAAYQAAAAAAAACJAAAAAAAAAIEAAAAAAAAAQQAAAAAAAABRAAAAAAAAAGEAAAAAAAAAgQAAAAAAAABxAAAAAAAAAEEAAAAAAAAAIQAAAAAAAACJAAAAAAAAAAEAAAAAAAAAAQAAAAAAAAPA/AAAAAAAAAAAAAAAAAAAAAAAAAAAAAAAAAAAAAAAA8D8AAAAAAAAAAAAAAAAAAPA/AAAAAAAA8D8AAAAAAAAIQAAAAAAAAPA/AAAAAAAAEEAAAAAAAAAQQAAAAAAAABhAAAAAAAAAIEAAAAAAAAAgQAAAAAAAABBAAAAAAAAAFEAAAAAAAAAmQAAAAAAAABhAAAAAAAAACEAAAAAAAAAUQAAAAAAAACBAAAAAAAAAIkAAAAAAAAAkQAAAAAAAABBAAAAAAAAAJkAAAAAAAAAiQAAAAAAAABBAAAAAAAAACEAAAAAAAAAYQAAAAAAAAChAAAAAAAAACEAAAAAAAAAkQAAAAAAAABBAAAAAAAAAAEAAAAAAAAAkQAAAAAAAABxAAAAAAAAAKkAAAAAAAAAcQAAAAAAAACRAAAAAAAAAFEAAAAAAAAAmQAAAAAAAACBAAAAAAAAAFEAAAAAAAAAIQAAAAAAAAABAAAAAAAAAIkAAAAAAAAAAQAAAAAAAAPA/AAAAAAAAAEAAAAAAAAAIQAAAAAAAAPA/AAAAAAAAAAAAAAAAAAAAAAAAAAAAAAAAAAAAAAAAAAAAAAAAAADwPwAAAAAAAAhAAAAAAAAAAEAAAAAAAAAAQAAAAAAAACBAAAAAAAAACEAAAAAAAAAcQAAAAAAAABBAAAAAAAAAIEAAAAAAAAAAQAAAAAAAABhAAAAAAAAAGEAAAAAAAAAUQAAAAAAAACBAAAAAAAAAJEAAAAAAAAAkQAAAAAAAABhAAAAAAAAAHEAAAAAAAAAQQAAAAAAAACBAAAAAAAAAFEAAAAAAAAAYQAAAAAAAABxAAAAAAAAAKEAAAAAAAAAcQAAAAAAAABRAAAAAAAAAIEAAAAAAAAAgQAAAAAAAACZAAAAAAAAAJkAAAAAAAAAoQAAAAAAAACBAAAAAAAAAFEAAAAAAAAAUQAAAAAAAABRAAAAAAAAACEAAAAAAAAAiQAAAAAAAABxAAAAAAAAAHEAAAAAAAAAgQAAAAAAAAAhAAAAAAAAAFEAAAAAAAAAIQAAAAAAAABBAAAAAAAAAAAAAAAAAAAAAQAAAAAAAAAAAAAAAAAAAAAAAAAAAAAAAAAAAAAAAAPA/AAAAAAAAAAAAAAAAAAAAAAAAAAAAABRAAAAAAAAAEEAAAAAAAAAUQAAAAAAAAAhAAAAAAAAAFEAAAAAAAAAcQAAAAAAAAPA/AAAAAAAAGEAAAAAAAAAYQAAAAAAAABBAAAAAAAAAIEAAAAAAAAAYQAAAAAAAABBAAAAAAAAAIEAAAAAAAAAcQAAAAAAAABhAAAAAAAAAHEAAAAAAAAAcQAAAAAAAABRAAAAAAAAAEEAAAAAAAAAQQAAAAAAAABxAAAAAAAAAKEAAAAAAAAAiQAAAAAAAABRAAAAAAAAAHEAAAAAAAAAiQAAAAAAAABRAAAAAAAAAJkAAAAAAAAAcQAAAAAAAAPA/AAAAAAAAIkAAAAAAAAAUQAAAAAAAACRAAAAAAAAACEAAAAAAAAAcQAAAAAAAAABAAAAAAAAAFEAAAAAAAAAUQAAAAAAAAPA/AAAAAAAAEEAAAAAAAAAUQAAAAAAAAABAAAAAAAAAAAAAAAAAAAAAAAAAAAAAAAAAAAAAAAAAAAAAAAAAAAAAAAAAAAAAAPA/AAAAAAAAAAAAAAAAAAAIQAAAAAAAAPA/AAAAAAAAEEAAAAAAAAAIQAAAAAAAAABAAAAAAAAAEEAAAAAAAAAQQAAAAAAAABxAAAAAAAAAHEAAAAAAAAAYQAAAAAAAABBAAAAAAAAAIEAAAAAAAAAUQAAAAAAAACZAAAAAAAAAIEAAAAAAAAAYQAAAAAAAAABAAAAAAAAAIEAAAAAAAAAqQAAAAAAAABBAAAAAAAAAGEAAAAAAAAAgQAAAAAAAABxAAAAAAAAAIkAAAAAAAAAkQAAAAAAAACRAAAAAAAAAIEAAAAAAAAAsQAAAAAAAABhAAAAAAAAAIEAAAAAAAAAkQAAAAAAAACJAAAAAAAAAIkAAAAAAAAAIQAAAAAAAABRAAAAAAAAAFEAAAAAAAAAcQAAAAAAAABRAAAAAAAAAAAAAAAAAAAAIQAAAAAAAABRAAAAAAAAAEEAAAAAAAAAAQAAAAAAAAAAAAAAAAAAAAAAAAAAAAAAAAAAAAAAAAAAAAAAAAAAAAAAAAAAAAAAAAAAAAAAAAPA/AAAAAAAA8D8AAAAAAAAAQAAAAAAAAPA/AAAAAAAAEEAAAAAAAAAAQAAAAAAAAAhAAAAAAAAAHEAAAAAAAAAAQAAAAAAAABhAAAAAAAAAIkAAAAAAAAAYQAAAAAAAABBAAAAAAAAAHEAAAAAAAAAUQAAAAAAAAChAAAAAAAAAGEAAAAAAAAAqQAAAAAAAABxAAAAAAAAAAEAAAAAAAAAQQAAAAAAAABhAAAAAAAAAIEAAAAAAAAAUQAAAAAAAABxAAAAAAAAAGEAAAAAAAAAYQAAAAAAAAAhAAAAAAAAAHEAAAAAAAAAgQAAAAAAAAAhAAAAAAAAAEEAAAAAAAAAcQAAAAAAAAAAAAAAAAAAAAEAAAAAAAAAYQAAAAAAAABRAAAAAAAAAEEAAAAAAAAAIQAAAAAAAAAhAAAAAAAAAAEAAAAAAAAAAQAAAAAAAABxAAAAAAAAAAAAAAAAAAAAAAAAAAAAAAAAAAAAAAAAAAAAAAAAAAAAAAAAAAAAAAAAAAAAAAAAAAAAAAAAAAADwPwAAAAAAABBAAAAAAAAAEEAAAAAAAAAAAAAAAAAAAAhAAAAAAAAA8D8AAAAAAAAiQAAAAAAAAPA/AAAAAAAAEEAAAAAAAAAYQAAAAAAAACBAAAAAAAAAGEAAAAAAAAAQQAAAAAAAABBAAAAAAAAAHEAAAAAAAAAcQAAAAAAAABhAAAAAAAAAIkAAAAAAAAAiQAAAAAAAACRAAAAAAAAAHEAAAAAAAAAcQAAAAAAAACZAAAAAAAAAIEAAAAAAAAAQQAAAAAAAACJAAAAAAAAAHEAAAAAAAAAYQAAAAAAAABRAAAAAAAAAKEAAAAAAAAAkQAAAAAAAAAhAAAAAAAAAIkAAAAAAAAAiQAAAAAAAABRAAAAAAAAAFEAAAAAAAAAYQAAAAAAAAABAAAAAAAAA8D8AAAAAAAAUQAAAAAAAABBAAAAAAAAACEAAAAAAAADwPwAAAAAAAAhAAAAAAAAAAAAAAAAAAAAAAAAAAAAAAAAAAAAAAAAAAAAAAAAAAAAAAAAAAAAAAAAAAAAAAAAAAAAAAAAAAAAAAAAAAAAAAABAAAAAAAAAAEAAAAAAAAAAQAAAAAAAABBAAAAAAAAAEEAAAAAAAAAqQAAAAAAAABBAAAAAAAAAFEAAAAAAAAAUQAAAAAAAABxAAAAAAAAAIEAAAAAAAAAAQAAAAAAAAABAAAAAAAAAGEAAAAAAAAAgQAAAAAAAACBAAAAAAAAACEAAAAAAAAAYQAAAAAAAABBAAAAAAAAAGEAAAAAAAAAYQAAAAAAAACJAAAAAAAAAJEAAAAAAAAAcQAAAAAAAABRAAAAAAAAAEEAAAAAAAAAiQAAAAAAAABxAAAAAAAAACEAAAAAAAAAcQAAAAAAAAABAAAAAAAAAIEAAAAAAAAAcQAAAAAAAABBAAAAAAAAAEEAAAAAAAAAAQAAAAAAAAABAAAAAAAAACEAAAAAAAAAAQAAAAAAAAPA/AAAAAAAAAAAAAAAAAADwPwAAAAAAAAAAAAAAAAAAAAAAAAAAAAAAAAAAAAAAAAAAAAAAAAAAAAAAAAAAAAAAAAAAAAAAAAAAAAAAAAAAAAAAAAAAAAAAAAAAAAAAAPA/AAAAAAAAEEAAAAAAAADwPwAAAAAAAPA/AAAAAAAAEEAAAAAAAAAcQAAAAAAAAAhAAAAAAAAAIkAAAAAAAAAIQAAAAAAAABhAAAAAAAAAFEAAAAAAAAAcQAAAAAAAABRAAAAAAAAAGEAAAAAAAAAUQAAAAAAAABxAAAAAAAAAIEAAAAAAAAAmQAAAAAAAABhAAAAAAAAACEAAAAAAAAAiQAAAAAAAACRAAAAAAAAAFEAAAAAAAAAkQAAAAAAAABhAAAAAAAAAAEAAAAAAAAAQQAAAAAAAABhAAAAAAAAAIEAAAAAAAAAIQAAAAAAAACJAAAAAAAAAHEAAAAAAAAAIQAAAAAAAACBAAAAAAAAAAEAAAAAAAAAIQAAAAAAAAABAAAAAAAAAEEAAAAAAAADwPwAAAAAAAPA/AAAAAAAAAAAAAAAAAAAAAAAAAAAAAAAAAAAAAAAAAAAAAAAAAAAAAAAAAAAAAAAAAAAAAAAAAAAAAAAAAAAAAAAAAAAAAAAAAAAAAAAA8D8AAAAAAAAAAAAAAAAAABBAAAAAAAAAAEAAAAAAAAAUQAAAAAAAAABAAAAAAAAAFEAAAAAAAAAIQAAAAAAAABxAAAAAAAAAGEAAAAAAAAAcQAAAAAAAABRAAAAAAAAAFEAAAAAAAAAQQAAAAAAAABBAAAAAAAAAGEAAAAAAAAAUQAAAAAAAABhAAAAAAAAAFEAAAAAAAAAgQAAAAAAAABRAAAAAAAAAIEAAAAAAAAAQQAAAAAAAABRAAAAAAAAAFEAAAAAAAAAiQAAAAAAAACBAAAAAAAAAEEAAAAAAAAAgQAAAAAAAACJAAAAAAAAAHEAAAAAAAAAIQAAAAAAAAAAAAAAAAAAACEAAAAAAAAAIQAAAAAAAAAhAAAAAAAAA8D8AAAAAAADwPwAAAAAAAPA/AAAAAAAAAAAAAAAAAAAAQAAAAAAAAAAAAAAAAAAAAAAAAAAAAAAAAAAAAAAAAAAAAAAAAAAAAAAAAAAAAAAAAAAAAAAAAAAAAAAAAAAAAAAAAAAAAAAAAAAAAAAAAAAAAAAAAAAAAAAAAAAAAAAAQAAAAAAAAPA/AAAAAAAACEAAAAAAAAAQQAAAAAAAAPA/AAAAAAAA8D8AAAAAAAAIQAAAAAAAAABAAAAAAAAAIEAAAAAAAAAQQAAAAAAAABxAAAAAAAAAFEAAAAAAAADwPwAAAAAAABBAAAAAAAAAGEAAAAAAAAAIQAAAAAAAACBAAAAAAAAAIkAAAAAAAAAUQAAAAAAAACRAAAAAAAAAIEAAAAAAAAAUQAAAAAAAAAhAAAAAAAAAAEAAAAAAAAAgQAAAAAAAACJAAAAAAAAACEAAAAAAAAAYQAAAAAAAAAhAAAAAAAAAIkAAAAAAAAAYQAAAAAAAABxAAAAAAAAACEAAAAAAAADwPwAAAAAAAAhAAAAAAAAAEEAAAAAAAAAAQAAAAAAAAPA/AAAAAAAAAAAAAAAAAAAAAAAAAAAAAAAAAAAAAAAAAAAAAAAAAAAAAAAAAAAAAAAAAAAAAAAAAAAAAAAAAAAAAAAAAAAAAAAAAAAAAAAAAAAAAAAAAAAAAAAAAAAAAAAAAAAAAAAAAAAAAAAAAADwPwAAAAAAAABAAAAAAAAAAEAAAAAAAAAIQAAAAAAAAAhAAAAAAAAAFEAAAAAAAAAYQAAAAAAAABhAAAAAAAAAIEAAAAAAAAAUQAAAAAAAACZAAAAAAAAAGEAAAAAAAAAiQAAAAAAAABxAAAAAAAAACEAAAAAAAAAUQAAAAAAAACZAAAAAAAAAAEAAAAAAAAAcQAAAAAAAACZAAAAAAAAAFEAAAAAAAAAIQAAAAAAAABxAAAAAAAAAGEAAAAAAAAAUQAAAAAAAAABAAAAAAAAACEAAAAAAAAAIQAAAAAAAABhAAAAAAAAA8D8AAAAAAAAQQAAAAAAAABBAAAAAAAAAAEAAAAAAAAAAQAAAAAAAAAAAAAAAAAAAAAAAAAAAAADwPwAAAAAAAAAAAAAAAAAAAAAAAAAAAAAAAAAAAAAAAAAAAAAAAAAAAAAAAAAAAAAAAAAAAAAAAAAAAAAAAAAAAAAAAAAAAAAAAAAAAAAAAAAAAAAAAAAAAAAAAAAAAAAAAAAAAAAAAAAAAAAAAAAAAAAAAAAAAAAAQAAAAAAAAAAAAAAAAAAACEAAAAAAAAAAQAAAAAAAABBAAAAAAAAAFEAAAAAAAAAoQAAAAAAAAAhAAAAAAAAAIEAAAAAAAAAcQAAAAAAAAAhAAAAAAAAAGEAAAAAAAAAcQAAAAAAAABxAAAAAAAAAFEAAAAAAAAAqQAAAAAAAABRAAAAAAAAACEAAAAAAAAAQQAAAAAAAACJAAAAAAAAACEAAAAAAAAAcQAAAAAAAABBAAAAAAAAACEAAAAAAAAAQQAAAAAAAAAhAAAAAAAAAFEAAAAAAAAAcQAAAAAAAAAhAAAAAAAAACEAAAAAAAADwPwAAAAAAABBAAAAAAAAA8D8AAAAAAAAAAAAAAAAAAAhAAAAAAAAAAAAAAAAAAAAAAAAAAAAAAAAAAAAAAAAAAAAAAAAAAAAAAAAAAAAAAAAAAAAAAAAAAAAAAAAAAAAAAAAAAAAAAAAAAAAAAAAAAAAAAAAAAAAAAAAAAAAAAAAAAAAAAAAAAAAAAAAAAAAAAAAAAAAAAAAAAAAAAAAAAAAAAAAAAAAAQAAAAAAAAPA/AAAAAAAACEAAAAAAAAAAQAAAAAAAABBAAAAAAAAAEEAAAAAAAAAIQAAAAAAAABBAAAAAAAAAFEAAAAAAAAAAQAAAAAAAABhAAAAAAAAAHEAAAAAAAAAgQAAAAAAAABRAAAAAAAAAGEAAAAAAAAAcQAAAAAAAABhAAAAAAAAAGEAAAAAAAAAIQAAAAAAAABRAAAAAAAAACEAAAAAAAAAIQAAAAAAAABBAAAAAAAAACEAAAAAAAAAAQAAAAAAAAAhAAAAAAAAAEEAAAAAAAAAIQAAAAAAAAAAAAAAAAAAAAAAAAAAAAAAAAAAAAAAAAAAAAAAAAAAA8D8AAAAAAAAAAAAAAAAAAAAAAAAAAAAAAAAAAAAAAAAAAAAAAAAAAAAAAAAAAAAAAAAAAAAAAAAAAAAAAAAAAAAAAAAAAAAAAAAAAAAAAAAAAAAAAAAAAAAAAAAAAAAAAAAAAAAAAAAAAAAAAAAAAAAAAAAAAAAAAAAAAAAAAAAAAAAAAAAAAAAAAAAAAAAAAAAAAAAAAAAAAAAAAAAAAABAAAAAAAAA8D8AAAAAAADwPwAAAAAAAAhAAAAAAAAAFEAAAAAAAAAUQAAAAAAAABRAAAAAAAAAEEAAAAAAAAAQQAAAAAAAAAhAAAAAAAAACEAAAAAAAAAUQAAAAAAAABhAAAAAAAAAIkAAAAAAAAAIQAAAAAAAACJAAAAAAAAAGEAAAAAAAAAUQAAAAAAAABBAAAAAAAAAEEAAAAAAAAAQQAAAAAAAAPA/AAAAAAAACEAAAAAAAAAQQAAAAAAAABxAAAAAAAAAAAAAAAAAAADwPwAAAAAAAPA/AAAAAAAAAAAAAAAAAAAAQAAAAAAAAAAAAAAAAAAAAAAAAAAAAAAAAAAAAAAAAAAAAAAAAAAAAAAAAAAAAAAAAAAAAAAAAAAAAAAAAAAAAAAAAAAAAAAAAAAAAAAAAAAAAAAAAAAAAAAAAAAAAAAAAAAAAAAAAAAAAAAAAAAAAAAAAAAAAAAAAAAAAAAAAAAAAAAAAAAAAAAAAAAAAAAAAAAAAAAAAAAAAAAAAAAAAAAAAAAAAAAAAAAAAAAAAAAAAAAAAAAAAAAAAAAAAAAAAAAAAAAAAPA/AAAAAAAACEAAAAAAAAAIQAAAAAAAABxAAAAAAAAAFEAAAAAAAAAAQAAAAAAAABRAAAAAAAAAFEAAAAAAAAAQQAAAAAAAABhAAAAAAAAAFEAAAAAAAAAQQAAAAAAAABBAAAAAAAAACEAAAAAAAAAAQAAAAAAAABBAAAAAAAAA8D8AAAAAAAAYQAAAAAAAAABAAAAAAAAA8D8AAAAAAADwPwAAAAAAAABAAAAAAAAAAEAAAAAAAAAAAAAAAAAAAAAAAAAAAAAAAAAAAAAAAAAAAAAAAAAAAAAAAAAAAAAAAAAAAAAAAAAAAAAAAAAAAAAAAAAAAAAAAAAAAAAAAAAAAAAAAAAAAAAAAAAAAAAAAAAAAAAAAAAAAAAAAAAAAAAAAAAAAAAAAAAAAAAAAAAAAAAAAAAAAAAAAAAAAAAAAAAAAAAAAAAAAAAAAAAAAAAAAAAAAAAAAAAAAAAAAAAAAAAAAAAAAAAAAAAAAAAAAAAAAAAAAAAAAAAAAAAAAAAAAAAAAAAA8D8AAAAAAAAAAAAAAAAAAAAAAAAAAAAAAEAAAAAAAAAIQAAAAAAAABRAAAAAAAAAEEAAAAAAAAAIQAAAAAAAAAhAAAAAAAAAEEAAAAAAAAAQQAAAAAAAABBAAAAAAAAA8D8AAAAAAAAUQAAAAAAAAAhAAAAAAAAAFEAAAAAAAAAAAAAAAAAAAAAAAAAAAAAA8D8AAAAAAAAQQAAAAAAAAAAAAAAAAAAACEAAAAAAAADwPwAAAAAAAPA/AAAAAAAAAAAAAAAAAAAAAAAAAAAAAAAAAAAAAAAAAAAAAAAAAAAAAAAAAAAAAAAAAAAAAAAAAAAAAAAAAAAAAAAAAAAAAAAAAAAAAAAAAAAAAAAAAAAAAAAAAAAAAAAAAAAAAAAAAAAAAAAAAAAAAAAAAAAAAAAAAAAAAAAAAAAAAAAAAAAAAAAAAAAAAAAAAAAAAAAAAAAAAAAAAAAAAAAAAAAAAAAAAAAAAAAAAAAAAAAAAAAAAAAAAAAAAAAAAAAAAAAAAAAAAAAAAAAAAAAAAAAAAAAAAAAAAAAAAAAAAAAAAAAAAAAAAAAAAAAAAAAAAAAA8D8AAAAAAAAAQAAAAAAAAABAAAAAAAAA8D8AAAAAAAAUQAAAAAAAAAhAAAAAAAAAAAAAAAAAAAAAQAAAAAAAAABAAAAAAAAA8D8AAAAAAAAAQAAAAAAAAPA/AAAAAAAACEAAAAAAAADwPwAAAAAAAAhAAAAAAAAA8D8AAAAAAAAAAAAAAAAAAAAAAAAAAAAAAAAAAAAAAAAAAAAAAAAAAAAAAAAAAAAAAAAAAAAAAAAAAAAAAAAAAAAAAAAAAAAAAAAAAAAAAAAAAAAAAAAAAAAAAAAAAAAAAAAAAAAAAAAAAAAAAAAAAAAAAAAAAAAAAAAAAAAAAAAAAAAAAAAAAAAAAAAAAAAAAAAAAAAAAAAAAAAAAAAAAAAAAAAAAAAAAAAAAAAAAAAAAAAAAAAAAAAAAAAAAAAAAAAAAAAAAAAAAAAAAAAAAAAAAAAAAAAAAAAAAAAAAAAAAAAAAAAAAAAAAAAAAAAAAAAAAAAAAAAAAAAAAAAAAAAAAAAAAAAAAAAAAAAAAAAAAAAAAAAAAAAAAAAAAAAAAAAAAAAAAAAAAAAAAAAAAAAAAAAAAAAAAEAAAAAAAAAAAAAAAAAAAAAAAAAAAAAA8D8AAAAAAAAQQAAAAAAAAABAAAAAAAAAAAAAAAAAAADwPwAAAAAAAAAAAAAAAAAAAAAAAAAAAAAAAAAAAAAAAAAAAAAAAAAAAAAAAAAAAAAAAAAAAAAAAAAAAAAAAAAAAAAAAAAAAAAAAAAAAAAAAAAAAAAAAAAAAAAAAAAAAAAAAAAAAAAAAAAAAAAAAAAAAAAAAAAAAAAAAAAAAAAAAAAAAAAAAAAAAAA=\",\"dtype\":\"float64\",\"shape\":[50,50]}],\"xmax\":[36661.31507317639],\"xmin\":[29965.367441565188],\"ymax\":[977.693556774],\"ymin\":[-970.1027092740001]},\"selected\":{\"id\":\"3397\",\"type\":\"Selection\"},\"selection_policy\":{\"id\":\"3398\",\"type\":\"UnionRenderers\"}},\"id\":\"3107\",\"type\":\"ColumnDataSource\"},{\"attributes\":{},\"id\":\"3127\",\"type\":\"PanTool\"},{\"attributes\":{\"ticker\":{\"id\":\"3118\",\"type\":\"BasicTicker\"}},\"id\":\"3121\",\"type\":\"Grid\"},{\"attributes\":{\"dimension\":1,\"ticker\":{\"id\":\"3123\",\"type\":\"BasicTicker\"}},\"id\":\"3126\",\"type\":\"Grid\"},{\"attributes\":{\"callback\":null,\"end\":0.001472491773055778,\"start\":0.0012726396246137833},\"id\":\"3188\",\"type\":\"Range1d\"},{\"attributes\":{},\"id\":\"3118\",\"type\":\"BasicTicker\"},{\"attributes\":{},\"id\":\"3401\",\"type\":\"UnionRenderers\"},{\"attributes\":{\"axis_label\":\"z/c (fs)\",\"formatter\":{\"id\":\"3384\",\"type\":\"BasicTickFormatter\"},\"ticker\":{\"id\":\"3118\",\"type\":\"BasicTicker\"}},\"id\":\"3117\",\"type\":\"LinearAxis\"},{\"attributes\":{\"color_mapper\":{\"id\":\"3142\",\"type\":\"LinearColorMapper\"},\"dh\":{\"field\":\"dh\",\"units\":\"data\"},\"dw\":{\"field\":\"dw\",\"units\":\"data\"},\"image\":{\"field\":\"image\"},\"x\":{\"field\":\"xmin\"},\"y\":{\"field\":\"ymin\"}},\"id\":\"3141\",\"type\":\"Image\"},{\"attributes\":{},\"id\":\"3115\",\"type\":\"LinearScale\"},{\"attributes\":{\"below\":[{\"id\":\"3194\",\"type\":\"LinearAxis\"}],\"center\":[{\"id\":\"3198\",\"type\":\"Grid\"},{\"id\":\"3203\",\"type\":\"Grid\"}],\"left\":[{\"id\":\"3199\",\"type\":\"LinearAxis\"}],\"plot_height\":500,\"plot_width\":500,\"renderers\":[{\"id\":\"3222\",\"type\":\"GlyphRenderer\"}],\"title\":{\"id\":\"3383\",\"type\":\"Title\"},\"toolbar\":{\"id\":\"3210\",\"type\":\"Toolbar\"},\"x_range\":{\"id\":\"3186\",\"type\":\"Range1d\"},\"x_scale\":{\"id\":\"3190\",\"type\":\"LinearScale\"},\"y_range\":{\"id\":\"3188\",\"type\":\"Range1d\"},\"y_scale\":{\"id\":\"3192\",\"type\":\"LinearScale\"}},\"id\":\"3185\",\"subtype\":\"Figure\",\"type\":\"Plot\"},{\"attributes\":{\"axis_label\":\"x (um)\",\"formatter\":{\"id\":\"3386\",\"type\":\"BasicTickFormatter\"},\"ticker\":{\"id\":\"3123\",\"type\":\"BasicTicker\"}},\"id\":\"3122\",\"type\":\"LinearAxis\"},{\"attributes\":{\"palette\":[\"white\",\"#440255\",\"#440357\",\"#450558\",\"#45065A\",\"#45085B\",\"#46095C\",\"#460B5E\",\"#460C5F\",\"#460E61\",\"#470F62\",\"#471163\",\"#471265\",\"#471466\",\"#471567\",\"#471669\",\"#47186A\",\"#48196B\",\"#481A6C\",\"#481C6E\",\"#481D6F\",\"#481E70\",\"#482071\",\"#482172\",\"#482273\",\"#482374\",\"#472575\",\"#472676\",\"#472777\",\"#472878\",\"#472A79\",\"#472B7A\",\"#472C7B\",\"#462D7C\",\"#462F7C\",\"#46307D\",\"#46317E\",\"#45327F\",\"#45347F\",\"#453580\",\"#453681\",\"#443781\",\"#443982\",\"#433A83\",\"#433B83\",\"#433C84\",\"#423D84\",\"#423E85\",\"#424085\",\"#414186\",\"#414286\",\"#404387\",\"#404487\",\"#3F4587\",\"#3F4788\",\"#3E4888\",\"#3E4989\",\"#3D4A89\",\"#3D4B89\",\"#3D4C89\",\"#3C4D8A\",\"#3C4E8A\",\"#3B508A\",\"#3B518A\",\"#3A528B\",\"#3A538B\",\"#39548B\",\"#39558B\",\"#38568B\",\"#38578C\",\"#37588C\",\"#37598C\",\"#365A8C\",\"#365B8C\",\"#355C8C\",\"#355D8C\",\"#345E8D\",\"#345F8D\",\"#33608D\",\"#33618D\",\"#32628D\",\"#32638D\",\"#31648D\",\"#31658D\",\"#31668D\",\"#30678D\",\"#30688D\",\"#2F698D\",\"#2F6A8D\",\"#2E6B8E\",\"#2E6C8E\",\"#2E6D8E\",\"#2D6E8E\",\"#2D6F8E\",\"#2C708E\",\"#2C718E\",\"#2C728E\",\"#2B738E\",\"#2B748E\",\"#2A758E\",\"#2A768E\",\"#2A778E\",\"#29788E\",\"#29798E\",\"#287A8E\",\"#287A8E\",\"#287B8E\",\"#277C8E\",\"#277D8E\",\"#277E8E\",\"#267F8E\",\"#26808E\",\"#26818E\",\"#25828E\",\"#25838D\",\"#24848D\",\"#24858D\",\"#24868D\",\"#23878D\",\"#23888D\",\"#23898D\",\"#22898D\",\"#228A8D\",\"#228B8D\",\"#218C8D\",\"#218D8C\",\"#218E8C\",\"#208F8C\",\"#20908C\",\"#20918C\",\"#1F928C\",\"#1F938B\",\"#1F948B\",\"#1F958B\",\"#1F968B\",\"#1E978A\",\"#1E988A\",\"#1E998A\",\"#1E998A\",\"#1E9A89\",\"#1E9B89\",\"#1E9C89\",\"#1E9D88\",\"#1E9E88\",\"#1E9F88\",\"#1EA087\",\"#1FA187\",\"#1FA286\",\"#1FA386\",\"#20A485\",\"#20A585\",\"#21A685\",\"#21A784\",\"#22A784\",\"#23A883\",\"#23A982\",\"#24AA82\",\"#25AB81\",\"#26AC81\",\"#27AD80\",\"#28AE7F\",\"#29AF7F\",\"#2AB07E\",\"#2BB17D\",\"#2CB17D\",\"#2EB27C\",\"#2FB37B\",\"#30B47A\",\"#32B57A\",\"#33B679\",\"#35B778\",\"#36B877\",\"#38B976\",\"#39B976\",\"#3BBA75\",\"#3DBB74\",\"#3EBC73\",\"#40BD72\",\"#42BE71\",\"#44BE70\",\"#45BF6F\",\"#47C06E\",\"#49C16D\",\"#4BC26C\",\"#4DC26B\",\"#4FC369\",\"#51C468\",\"#53C567\",\"#55C666\",\"#57C665\",\"#59C764\",\"#5BC862\",\"#5EC961\",\"#60C960\",\"#62CA5F\",\"#64CB5D\",\"#67CC5C\",\"#69CC5B\",\"#6BCD59\",\"#6DCE58\",\"#70CE56\",\"#72CF55\",\"#74D054\",\"#77D052\",\"#79D151\",\"#7CD24F\",\"#7ED24E\",\"#81D34C\",\"#83D34B\",\"#86D449\",\"#88D547\",\"#8BD546\",\"#8DD644\",\"#90D643\",\"#92D741\",\"#95D73F\",\"#97D83E\",\"#9AD83C\",\"#9DD93A\",\"#9FD938\",\"#A2DA37\",\"#A5DA35\",\"#A7DB33\",\"#AADB32\",\"#ADDC30\",\"#AFDC2E\",\"#B2DD2C\",\"#B5DD2B\",\"#B7DD29\",\"#BADE27\",\"#BDDE26\",\"#BFDF24\",\"#C2DF22\",\"#C5DF21\",\"#C7E01F\",\"#CAE01E\",\"#CDE01D\",\"#CFE11C\",\"#D2E11B\",\"#D4E11A\",\"#D7E219\",\"#DAE218\",\"#DCE218\",\"#DFE318\",\"#E1E318\",\"#E4E318\",\"#E7E419\",\"#E9E419\",\"#ECE41A\",\"#EEE51B\",\"#F1E51C\",\"#F3E51E\",\"#F6E61F\",\"#F8E621\",\"#FAE622\",\"#FDE724\"]},\"id\":\"3142\",\"type\":\"LinearColorMapper\"},{\"attributes\":{},\"id\":\"3113\",\"type\":\"LinearScale\"},{\"attributes\":{},\"id\":\"3123\",\"type\":\"BasicTicker\"},{\"attributes\":{},\"id\":\"3128\",\"type\":\"WheelZoomTool\"},{\"attributes\":{\"axis_label\":\"z/c (fs)\",\"formatter\":{\"id\":\"3392\",\"type\":\"BasicTickFormatter\"},\"ticker\":{\"id\":\"3195\",\"type\":\"BasicTicker\"}},\"id\":\"3194\",\"type\":\"LinearAxis\"},{\"attributes\":{},\"id\":\"3403\",\"type\":\"Selection\"},{\"attributes\":{\"overlay\":{\"id\":\"3396\",\"type\":\"BoxAnnotation\"}},\"id\":\"3129\",\"type\":\"BoxZoomTool\"},{\"attributes\":{},\"id\":\"3195\",\"type\":\"BasicTicker\"},{\"attributes\":{},\"id\":\"3404\",\"type\":\"UnionRenderers\"},{\"attributes\":{},\"id\":\"3130\",\"type\":\"SaveTool\"},{\"attributes\":{\"ticker\":{\"id\":\"3195\",\"type\":\"BasicTicker\"}},\"id\":\"3198\",\"type\":\"Grid\"},{\"attributes\":{\"callback\":null,\"end\":36661.31507317639,\"start\":29965.367441565188},\"id\":\"3109\",\"type\":\"Range1d\"},{\"attributes\":{},\"id\":\"3131\",\"type\":\"ResetTool\"},{\"attributes\":{\"axis_label\":\"pz (GeV/c)\",\"formatter\":{\"id\":\"3394\",\"type\":\"BasicTickFormatter\"},\"ticker\":{\"id\":\"3200\",\"type\":\"BasicTicker\"}},\"id\":\"3199\",\"type\":\"LinearAxis\"},{\"attributes\":{},\"id\":\"3132\",\"type\":\"HelpTool\"},{\"attributes\":{},\"id\":\"3200\",\"type\":\"BasicTicker\"},{\"attributes\":{\"active_drag\":\"auto\",\"active_inspect\":\"auto\",\"active_multi\":null,\"active_scroll\":\"auto\",\"active_tap\":\"auto\",\"tools\":[{\"id\":\"3127\",\"type\":\"PanTool\"},{\"id\":\"3128\",\"type\":\"WheelZoomTool\"},{\"id\":\"3129\",\"type\":\"BoxZoomTool\"},{\"id\":\"3130\",\"type\":\"SaveTool\"},{\"id\":\"3131\",\"type\":\"ResetTool\"},{\"id\":\"3132\",\"type\":\"HelpTool\"}]},\"id\":\"3133\",\"type\":\"Toolbar\"},{\"attributes\":{\"dimension\":1,\"ticker\":{\"id\":\"3200\",\"type\":\"BasicTicker\"}},\"id\":\"3203\",\"type\":\"Grid\"},{\"attributes\":{\"color_mapper\":{\"id\":\"3144\",\"type\":\"LinearColorMapper\"},\"dh\":{\"field\":\"dh\",\"units\":\"data\"},\"dw\":{\"field\":\"dw\",\"units\":\"data\"},\"image\":{\"field\":\"image\"},\"x\":{\"field\":\"xmin\"},\"y\":{\"field\":\"ymin\"}},\"id\":\"3143\",\"type\":\"Image\"},{\"attributes\":{\"palette\":[\"white\",\"#440255\",\"#440357\",\"#450558\",\"#45065A\",\"#45085B\",\"#46095C\",\"#460B5E\",\"#460C5F\",\"#460E61\",\"#470F62\",\"#471163\",\"#471265\",\"#471466\",\"#471567\",\"#471669\",\"#47186A\",\"#48196B\",\"#481A6C\",\"#481C6E\",\"#481D6F\",\"#481E70\",\"#482071\",\"#482172\",\"#482273\",\"#482374\",\"#472575\",\"#472676\",\"#472777\",\"#472878\",\"#472A79\",\"#472B7A\",\"#472C7B\",\"#462D7C\",\"#462F7C\",\"#46307D\",\"#46317E\",\"#45327F\",\"#45347F\",\"#453580\",\"#453681\",\"#443781\",\"#443982\",\"#433A83\",\"#433B83\",\"#433C84\",\"#423D84\",\"#423E85\",\"#424085\",\"#414186\",\"#414286\",\"#404387\",\"#404487\",\"#3F4587\",\"#3F4788\",\"#3E4888\",\"#3E4989\",\"#3D4A89\",\"#3D4B89\",\"#3D4C89\",\"#3C4D8A\",\"#3C4E8A\",\"#3B508A\",\"#3B518A\",\"#3A528B\",\"#3A538B\",\"#39548B\",\"#39558B\",\"#38568B\",\"#38578C\",\"#37588C\",\"#37598C\",\"#365A8C\",\"#365B8C\",\"#355C8C\",\"#355D8C\",\"#345E8D\",\"#345F8D\",\"#33608D\",\"#33618D\",\"#32628D\",\"#32638D\",\"#31648D\",\"#31658D\",\"#31668D\",\"#30678D\",\"#30688D\",\"#2F698D\",\"#2F6A8D\",\"#2E6B8E\",\"#2E6C8E\",\"#2E6D8E\",\"#2D6E8E\",\"#2D6F8E\",\"#2C708E\",\"#2C718E\",\"#2C728E\",\"#2B738E\",\"#2B748E\",\"#2A758E\",\"#2A768E\",\"#2A778E\",\"#29788E\",\"#29798E\",\"#287A8E\",\"#287A8E\",\"#287B8E\",\"#277C8E\",\"#277D8E\",\"#277E8E\",\"#267F8E\",\"#26808E\",\"#26818E\",\"#25828E\",\"#25838D\",\"#24848D\",\"#24858D\",\"#24868D\",\"#23878D\",\"#23888D\",\"#23898D\",\"#22898D\",\"#228A8D\",\"#228B8D\",\"#218C8D\",\"#218D8C\",\"#218E8C\",\"#208F8C\",\"#20908C\",\"#20918C\",\"#1F928C\",\"#1F938B\",\"#1F948B\",\"#1F958B\",\"#1F968B\",\"#1E978A\",\"#1E988A\",\"#1E998A\",\"#1E998A\",\"#1E9A89\",\"#1E9B89\",\"#1E9C89\",\"#1E9D88\",\"#1E9E88\",\"#1E9F88\",\"#1EA087\",\"#1FA187\",\"#1FA286\",\"#1FA386\",\"#20A485\",\"#20A585\",\"#21A685\",\"#21A784\",\"#22A784\",\"#23A883\",\"#23A982\",\"#24AA82\",\"#25AB81\",\"#26AC81\",\"#27AD80\",\"#28AE7F\",\"#29AF7F\",\"#2AB07E\",\"#2BB17D\",\"#2CB17D\",\"#2EB27C\",\"#2FB37B\",\"#30B47A\",\"#32B57A\",\"#33B679\",\"#35B778\",\"#36B877\",\"#38B976\",\"#39B976\",\"#3BBA75\",\"#3DBB74\",\"#3EBC73\",\"#40BD72\",\"#42BE71\",\"#44BE70\",\"#45BF6F\",\"#47C06E\",\"#49C16D\",\"#4BC26C\",\"#4DC26B\",\"#4FC369\",\"#51C468\",\"#53C567\",\"#55C666\",\"#57C665\",\"#59C764\",\"#5BC862\",\"#5EC961\",\"#60C960\",\"#62CA5F\",\"#64CB5D\",\"#67CC5C\",\"#69CC5B\",\"#6BCD59\",\"#6DCE58\",\"#70CE56\",\"#72CF55\",\"#74D054\",\"#77D052\",\"#79D151\",\"#7CD24F\",\"#7ED24E\",\"#81D34C\",\"#83D34B\",\"#86D449\",\"#88D547\",\"#8BD546\",\"#8DD644\",\"#90D643\",\"#92D741\",\"#95D73F\",\"#97D83E\",\"#9AD83C\",\"#9DD93A\",\"#9FD938\",\"#A2DA37\",\"#A5DA35\",\"#A7DB33\",\"#AADB32\",\"#ADDC30\",\"#AFDC2E\",\"#B2DD2C\",\"#B5DD2B\",\"#B7DD29\",\"#BADE27\",\"#BDDE26\",\"#BFDF24\",\"#C2DF22\",\"#C5DF21\",\"#C7E01F\",\"#CAE01E\",\"#CDE01D\",\"#CFE11C\",\"#D2E11B\",\"#D4E11A\",\"#D7E219\",\"#DAE218\",\"#DCE218\",\"#DFE318\",\"#E1E318\",\"#E4E318\",\"#E7E419\",\"#E9E419\",\"#ECE41A\",\"#EEE51B\",\"#F1E51C\",\"#F3E51E\",\"#F6E61F\",\"#F8E621\",\"#FAE622\",\"#FDE724\"]},\"id\":\"3144\",\"type\":\"LinearColorMapper\"},{\"attributes\":{\"palette\":[\"white\",\"#440255\",\"#440357\",\"#450558\",\"#45065A\",\"#45085B\",\"#46095C\",\"#460B5E\",\"#460C5F\",\"#460E61\",\"#470F62\",\"#471163\",\"#471265\",\"#471466\",\"#471567\",\"#471669\",\"#47186A\",\"#48196B\",\"#481A6C\",\"#481C6E\",\"#481D6F\",\"#481E70\",\"#482071\",\"#482172\",\"#482273\",\"#482374\",\"#472575\",\"#472676\",\"#472777\",\"#472878\",\"#472A79\",\"#472B7A\",\"#472C7B\",\"#462D7C\",\"#462F7C\",\"#46307D\",\"#46317E\",\"#45327F\",\"#45347F\",\"#453580\",\"#453681\",\"#443781\",\"#443982\",\"#433A83\",\"#433B83\",\"#433C84\",\"#423D84\",\"#423E85\",\"#424085\",\"#414186\",\"#414286\",\"#404387\",\"#404487\",\"#3F4587\",\"#3F4788\",\"#3E4888\",\"#3E4989\",\"#3D4A89\",\"#3D4B89\",\"#3D4C89\",\"#3C4D8A\",\"#3C4E8A\",\"#3B508A\",\"#3B518A\",\"#3A528B\",\"#3A538B\",\"#39548B\",\"#39558B\",\"#38568B\",\"#38578C\",\"#37588C\",\"#37598C\",\"#365A8C\",\"#365B8C\",\"#355C8C\",\"#355D8C\",\"#345E8D\",\"#345F8D\",\"#33608D\",\"#33618D\",\"#32628D\",\"#32638D\",\"#31648D\",\"#31658D\",\"#31668D\",\"#30678D\",\"#30688D\",\"#2F698D\",\"#2F6A8D\",\"#2E6B8E\",\"#2E6C8E\",\"#2E6D8E\",\"#2D6E8E\",\"#2D6F8E\",\"#2C708E\",\"#2C718E\",\"#2C728E\",\"#2B738E\",\"#2B748E\",\"#2A758E\",\"#2A768E\",\"#2A778E\",\"#29788E\",\"#29798E\",\"#287A8E\",\"#287A8E\",\"#287B8E\",\"#277C8E\",\"#277D8E\",\"#277E8E\",\"#267F8E\",\"#26808E\",\"#26818E\",\"#25828E\",\"#25838D\",\"#24848D\",\"#24858D\",\"#24868D\",\"#23878D\",\"#23888D\",\"#23898D\",\"#22898D\",\"#228A8D\",\"#228B8D\",\"#218C8D\",\"#218D8C\",\"#218E8C\",\"#208F8C\",\"#20908C\",\"#20918C\",\"#1F928C\",\"#1F938B\",\"#1F948B\",\"#1F958B\",\"#1F968B\",\"#1E978A\",\"#1E988A\",\"#1E998A\",\"#1E998A\",\"#1E9A89\",\"#1E9B89\",\"#1E9C89\",\"#1E9D88\",\"#1E9E88\",\"#1E9F88\",\"#1EA087\",\"#1FA187\",\"#1FA286\",\"#1FA386\",\"#20A485\",\"#20A585\",\"#21A685\",\"#21A784\",\"#22A784\",\"#23A883\",\"#23A982\",\"#24AA82\",\"#25AB81\",\"#26AC81\",\"#27AD80\",\"#28AE7F\",\"#29AF7F\",\"#2AB07E\",\"#2BB17D\",\"#2CB17D\",\"#2EB27C\",\"#2FB37B\",\"#30B47A\",\"#32B57A\",\"#33B679\",\"#35B778\",\"#36B877\",\"#38B976\",\"#39B976\",\"#3BBA75\",\"#3DBB74\",\"#3EBC73\",\"#40BD72\",\"#42BE71\",\"#44BE70\",\"#45BF6F\",\"#47C06E\",\"#49C16D\",\"#4BC26C\",\"#4DC26B\",\"#4FC369\",\"#51C468\",\"#53C567\",\"#55C666\",\"#57C665\",\"#59C764\",\"#5BC862\",\"#5EC961\",\"#60C960\",\"#62CA5F\",\"#64CB5D\",\"#67CC5C\",\"#69CC5B\",\"#6BCD59\",\"#6DCE58\",\"#70CE56\",\"#72CF55\",\"#74D054\",\"#77D052\",\"#79D151\",\"#7CD24F\",\"#7ED24E\",\"#81D34C\",\"#83D34B\",\"#86D449\",\"#88D547\",\"#8BD546\",\"#8DD644\",\"#90D643\",\"#92D741\",\"#95D73F\",\"#97D83E\",\"#9AD83C\",\"#9DD93A\",\"#9FD938\",\"#A2DA37\",\"#A5DA35\",\"#A7DB33\",\"#AADB32\",\"#ADDC30\",\"#AFDC2E\",\"#B2DD2C\",\"#B5DD2B\",\"#B7DD29\",\"#BADE27\",\"#BDDE26\",\"#BFDF24\",\"#C2DF22\",\"#C5DF21\",\"#C7E01F\",\"#CAE01E\",\"#CDE01D\",\"#CFE11C\",\"#D2E11B\",\"#D4E11A\",\"#D7E219\",\"#DAE218\",\"#DCE218\",\"#DFE318\",\"#E1E318\",\"#E4E318\",\"#E7E419\",\"#E9E419\",\"#ECE41A\",\"#EEE51B\",\"#F1E51C\",\"#F3E51E\",\"#F6E61F\",\"#F8E621\",\"#FAE622\",\"#FDE724\"]},\"id\":\"3219\",\"type\":\"LinearColorMapper\"},{\"attributes\":{\"color_mapper\":{\"id\":\"3219\",\"type\":\"LinearColorMapper\"},\"dh\":{\"field\":\"dh\",\"units\":\"data\"},\"dw\":{\"field\":\"dw\",\"units\":\"data\"},\"image\":{\"field\":\"image\"},\"x\":{\"field\":\"xmin\"},\"y\":{\"field\":\"ymin\"}},\"id\":\"3218\",\"type\":\"Image\"},{\"attributes\":{\"data_source\":{\"id\":\"3107\",\"type\":\"ColumnDataSource\"},\"glyph\":{\"id\":\"3141\",\"type\":\"Image\"},\"hover_glyph\":null,\"muted_glyph\":null,\"nonselection_glyph\":{\"id\":\"3143\",\"type\":\"Image\"},\"selection_glyph\":null,\"view\":{\"id\":\"3146\",\"type\":\"CDSView\"}},\"id\":\"3145\",\"type\":\"GlyphRenderer\"},{\"attributes\":{\"callback\":null,\"end\":977.693556774,\"start\":-970.1027092740001},\"id\":\"3111\",\"type\":\"Range1d\"},{\"attributes\":{\"color_mapper\":{\"id\":\"3221\",\"type\":\"LinearColorMapper\"},\"dh\":{\"field\":\"dh\",\"units\":\"data\"},\"dw\":{\"field\":\"dw\",\"units\":\"data\"},\"image\":{\"field\":\"image\"},\"x\":{\"field\":\"xmin\"},\"y\":{\"field\":\"ymin\"}},\"id\":\"3220\",\"type\":\"Image\"},{\"attributes\":{\"source\":{\"id\":\"3107\",\"type\":\"ColumnDataSource\"}},\"id\":\"3146\",\"type\":\"CDSView\"},{\"attributes\":{},\"id\":\"3204\",\"type\":\"PanTool\"},{\"attributes\":{\"below\":[{\"id\":\"3117\",\"type\":\"LinearAxis\"}],\"center\":[{\"id\":\"3121\",\"type\":\"Grid\"},{\"id\":\"3126\",\"type\":\"Grid\"}],\"left\":[{\"id\":\"3122\",\"type\":\"LinearAxis\"}],\"plot_height\":500,\"plot_width\":500,\"renderers\":[{\"id\":\"3145\",\"type\":\"GlyphRenderer\"}],\"title\":{\"id\":\"3379\",\"type\":\"Title\"},\"toolbar\":{\"id\":\"3133\",\"type\":\"Toolbar\"},\"x_range\":{\"id\":\"3109\",\"type\":\"Range1d\"},\"x_scale\":{\"id\":\"3113\",\"type\":\"LinearScale\"},\"y_range\":{\"id\":\"3111\",\"type\":\"Range1d\"},\"y_scale\":{\"id\":\"3115\",\"type\":\"LinearScale\"}},\"id\":\"3108\",\"subtype\":\"Figure\",\"type\":\"Plot\"},{\"attributes\":{},\"id\":\"3205\",\"type\":\"WheelZoomTool\"},{\"attributes\":{\"below\":[{\"id\":\"3156\",\"type\":\"LinearAxis\"}],\"center\":[{\"id\":\"3160\",\"type\":\"Grid\"},{\"id\":\"3165\",\"type\":\"Grid\"}],\"left\":[{\"id\":\"3161\",\"type\":\"LinearAxis\"}],\"plot_height\":250,\"plot_width\":500,\"renderers\":[{\"id\":\"3182\",\"type\":\"GlyphRenderer\"}],\"title\":{\"id\":\"3381\",\"type\":\"Title\"},\"toolbar\":{\"id\":\"3172\",\"type\":\"Toolbar\"},\"x_range\":{\"id\":\"3148\",\"type\":\"DataRange1d\"},\"x_scale\":{\"id\":\"3152\",\"type\":\"LinearScale\"},\"y_range\":{\"id\":\"3150\",\"type\":\"DataRange1d\"},\"y_scale\":{\"id\":\"3154\",\"type\":\"LinearScale\"}},\"id\":\"3147\",\"subtype\":\"Figure\",\"type\":\"Plot\"},{\"attributes\":{\"overlay\":{\"id\":\"3402\",\"type\":\"BoxAnnotation\"}},\"id\":\"3206\",\"type\":\"BoxZoomTool\"},{\"attributes\":{},\"id\":\"3207\",\"type\":\"SaveTool\"},{\"attributes\":{\"bottom\":{\"value\":0},\"fill_alpha\":{\"value\":0.1},\"fill_color\":{\"value\":\"#1f77b4\"},\"left\":{\"field\":\"left\"},\"line_alpha\":{\"value\":0.1},\"line_color\":{\"value\":\"#1f77b4\"},\"right\":{\"field\":\"right\"},\"top\":{\"field\":\"top\"}},\"id\":\"3181\",\"type\":\"Quad\"},{\"attributes\":{\"callback\":null},\"id\":\"3148\",\"type\":\"DataRange1d\"},{\"attributes\":{},\"id\":\"3208\",\"type\":\"ResetTool\"},{\"attributes\":{\"callback\":null},\"id\":\"3150\",\"type\":\"DataRange1d\"},{\"attributes\":{},\"id\":\"3209\",\"type\":\"HelpTool\"},{\"attributes\":{},\"id\":\"3152\",\"type\":\"LinearScale\"},{\"attributes\":{\"active_drag\":\"auto\",\"active_inspect\":\"auto\",\"active_multi\":null,\"active_scroll\":\"auto\",\"active_tap\":\"auto\",\"tools\":[{\"id\":\"3204\",\"type\":\"PanTool\"},{\"id\":\"3205\",\"type\":\"WheelZoomTool\"},{\"id\":\"3206\",\"type\":\"BoxZoomTool\"},{\"id\":\"3207\",\"type\":\"SaveTool\"},{\"id\":\"3208\",\"type\":\"ResetTool\"},{\"id\":\"3209\",\"type\":\"HelpTool\"}]},\"id\":\"3210\",\"type\":\"Toolbar\"},{\"attributes\":{},\"id\":\"3154\",\"type\":\"LinearScale\"},{\"attributes\":{\"palette\":[\"white\",\"#440255\",\"#440357\",\"#450558\",\"#45065A\",\"#45085B\",\"#46095C\",\"#460B5E\",\"#460C5F\",\"#460E61\",\"#470F62\",\"#471163\",\"#471265\",\"#471466\",\"#471567\",\"#471669\",\"#47186A\",\"#48196B\",\"#481A6C\",\"#481C6E\",\"#481D6F\",\"#481E70\",\"#482071\",\"#482172\",\"#482273\",\"#482374\",\"#472575\",\"#472676\",\"#472777\",\"#472878\",\"#472A79\",\"#472B7A\",\"#472C7B\",\"#462D7C\",\"#462F7C\",\"#46307D\",\"#46317E\",\"#45327F\",\"#45347F\",\"#453580\",\"#453681\",\"#443781\",\"#443982\",\"#433A83\",\"#433B83\",\"#433C84\",\"#423D84\",\"#423E85\",\"#424085\",\"#414186\",\"#414286\",\"#404387\",\"#404487\",\"#3F4587\",\"#3F4788\",\"#3E4888\",\"#3E4989\",\"#3D4A89\",\"#3D4B89\",\"#3D4C89\",\"#3C4D8A\",\"#3C4E8A\",\"#3B508A\",\"#3B518A\",\"#3A528B\",\"#3A538B\",\"#39548B\",\"#39558B\",\"#38568B\",\"#38578C\",\"#37588C\",\"#37598C\",\"#365A8C\",\"#365B8C\",\"#355C8C\",\"#355D8C\",\"#345E8D\",\"#345F8D\",\"#33608D\",\"#33618D\",\"#32628D\",\"#32638D\",\"#31648D\",\"#31658D\",\"#31668D\",\"#30678D\",\"#30688D\",\"#2F698D\",\"#2F6A8D\",\"#2E6B8E\",\"#2E6C8E\",\"#2E6D8E\",\"#2D6E8E\",\"#2D6F8E\",\"#2C708E\",\"#2C718E\",\"#2C728E\",\"#2B738E\",\"#2B748E\",\"#2A758E\",\"#2A768E\",\"#2A778E\",\"#29788E\",\"#29798E\",\"#287A8E\",\"#287A8E\",\"#287B8E\",\"#277C8E\",\"#277D8E\",\"#277E8E\",\"#267F8E\",\"#26808E\",\"#26818E\",\"#25828E\",\"#25838D\",\"#24848D\",\"#24858D\",\"#24868D\",\"#23878D\",\"#23888D\",\"#23898D\",\"#22898D\",\"#228A8D\",\"#228B8D\",\"#218C8D\",\"#218D8C\",\"#218E8C\",\"#208F8C\",\"#20908C\",\"#20918C\",\"#1F928C\",\"#1F938B\",\"#1F948B\",\"#1F958B\",\"#1F968B\",\"#1E978A\",\"#1E988A\",\"#1E998A\",\"#1E998A\",\"#1E9A89\",\"#1E9B89\",\"#1E9C89\",\"#1E9D88\",\"#1E9E88\",\"#1E9F88\",\"#1EA087\",\"#1FA187\",\"#1FA286\",\"#1FA386\",\"#20A485\",\"#20A585\",\"#21A685\",\"#21A784\",\"#22A784\",\"#23A883\",\"#23A982\",\"#24AA82\",\"#25AB81\",\"#26AC81\",\"#27AD80\",\"#28AE7F\",\"#29AF7F\",\"#2AB07E\",\"#2BB17D\",\"#2CB17D\",\"#2EB27C\",\"#2FB37B\",\"#30B47A\",\"#32B57A\",\"#33B679\",\"#35B778\",\"#36B877\",\"#38B976\",\"#39B976\",\"#3BBA75\",\"#3DBB74\",\"#3EBC73\",\"#40BD72\",\"#42BE71\",\"#44BE70\",\"#45BF6F\",\"#47C06E\",\"#49C16D\",\"#4BC26C\",\"#4DC26B\",\"#4FC369\",\"#51C468\",\"#53C567\",\"#55C666\",\"#57C665\",\"#59C764\",\"#5BC862\",\"#5EC961\",\"#60C960\",\"#62CA5F\",\"#64CB5D\",\"#67CC5C\",\"#69CC5B\",\"#6BCD59\",\"#6DCE58\",\"#70CE56\",\"#72CF55\",\"#74D054\",\"#77D052\",\"#79D151\",\"#7CD24F\",\"#7ED24E\",\"#81D34C\",\"#83D34B\",\"#86D449\",\"#88D547\",\"#8BD546\",\"#8DD644\",\"#90D643\",\"#92D741\",\"#95D73F\",\"#97D83E\",\"#9AD83C\",\"#9DD93A\",\"#9FD938\",\"#A2DA37\",\"#A5DA35\",\"#A7DB33\",\"#AADB32\",\"#ADDC30\",\"#AFDC2E\",\"#B2DD2C\",\"#B5DD2B\",\"#B7DD29\",\"#BADE27\",\"#BDDE26\",\"#BFDF24\",\"#C2DF22\",\"#C5DF21\",\"#C7E01F\",\"#CAE01E\",\"#CDE01D\",\"#CFE11C\",\"#D2E11B\",\"#D4E11A\",\"#D7E219\",\"#DAE218\",\"#DCE218\",\"#DFE318\",\"#E1E318\",\"#E4E318\",\"#E7E419\",\"#E9E419\",\"#ECE41A\",\"#EEE51B\",\"#F1E51C\",\"#F3E51E\",\"#F6E61F\",\"#F8E621\",\"#FAE622\",\"#FDE724\"]},\"id\":\"3221\",\"type\":\"LinearColorMapper\"},{\"attributes\":{\"axis_label\":\"x (um)\",\"formatter\":{\"id\":\"3388\",\"type\":\"BasicTickFormatter\"},\"ticker\":{\"id\":\"3157\",\"type\":\"BasicTicker\"}},\"id\":\"3156\",\"type\":\"LinearAxis\"},{\"attributes\":{\"data_source\":{\"id\":\"3184\",\"type\":\"ColumnDataSource\"},\"glyph\":{\"id\":\"3218\",\"type\":\"Image\"},\"hover_glyph\":null,\"muted_glyph\":null,\"nonselection_glyph\":{\"id\":\"3220\",\"type\":\"Image\"},\"selection_glyph\":null,\"view\":{\"id\":\"3223\",\"type\":\"CDSView\"}},\"id\":\"3222\",\"type\":\"GlyphRenderer\"},{\"attributes\":{},\"id\":\"3157\",\"type\":\"BasicTicker\"},{\"attributes\":{\"ticker\":{\"id\":\"3157\",\"type\":\"BasicTicker\"}},\"id\":\"3160\",\"type\":\"Grid\"},{\"attributes\":{\"source\":{\"id\":\"3184\",\"type\":\"ColumnDataSource\"}},\"id\":\"3223\",\"type\":\"CDSView\"},{\"attributes\":{\"axis_label\":\"??particles/um\",\"formatter\":{\"id\":\"3390\",\"type\":\"BasicTickFormatter\"},\"ticker\":{\"id\":\"3162\",\"type\":\"BasicTicker\"}},\"id\":\"3161\",\"type\":\"LinearAxis\"},{\"attributes\":{},\"id\":\"3162\",\"type\":\"BasicTicker\"},{\"attributes\":{\"text\":\"\"},\"id\":\"3379\",\"type\":\"Title\"},{\"attributes\":{\"dimension\":1,\"ticker\":{\"id\":\"3162\",\"type\":\"BasicTicker\"}},\"id\":\"3165\",\"type\":\"Grid\"},{\"attributes\":{\"bottom_units\":\"screen\",\"fill_alpha\":{\"value\":0.5},\"fill_color\":{\"value\":\"lightgrey\"},\"left_units\":\"screen\",\"level\":\"overlay\",\"line_alpha\":{\"value\":1.0},\"line_color\":{\"value\":\"black\"},\"line_dash\":[4,4],\"line_width\":{\"value\":2},\"render_mode\":\"css\",\"right_units\":\"screen\",\"top_units\":\"screen\"},\"id\":\"3402\",\"type\":\"BoxAnnotation\"},{\"attributes\":{\"text\":\"\"},\"id\":\"3381\",\"type\":\"Title\"},{\"attributes\":{\"text\":\"\"},\"id\":\"3383\",\"type\":\"Title\"},{\"attributes\":{\"bottom\":{\"value\":0},\"fill_alpha\":{\"value\":0.5},\"fill_color\":{\"value\":\"grey\"},\"left\":{\"field\":\"left\"},\"line_alpha\":{\"value\":0.5},\"line_color\":{\"value\":\"white\"},\"right\":{\"field\":\"right\"},\"top\":{\"field\":\"top\"}},\"id\":\"3180\",\"type\":\"Quad\"},{\"attributes\":{},\"id\":\"3384\",\"type\":\"BasicTickFormatter\"},{\"attributes\":{\"callback\":null,\"data\":{\"left\":{\"__ndarray__\":\"nGY9WdJQjsDXCid7/7SNwBSvEJ0sGY3AT1P6vll9jMCL9+PghuGLwMebzQK0RYvAA0C3JOGpisA/5KBGDg6KwHqIimg7conAtyx0imjWiMDz0F2slTqIwC51R87CnofAaxkx8O8Ch8CmvRoSHWeGwOJhBDRKy4XAHgbuVXcvhcBaqtd3pJOEwJZOwZnR94PA0vKqu/5bg8AOl5TdK8CCwEk7fv9YJILAht9nIYaIgcDCg1FDs+yAwP0nO2XgUIDAc5hJDhtqf8Dr4BxSdTJ+wGIp8JXP+nzA2XHD2SnDe8BSupYdhIt6wMkCamHeU3nAQUs9pTgceMC6kxDpkuR2wDHc4yztrHXAqCS3cEd1dMAhbYq0oT1zwJi1Xfj7BXLAEP4wPFbOcMARjQgAYS1vwAAer4cVvmzA7q5VD8pOasDdP/yWft9nwM/Qoh4zcGXAvWFJpucAY8Cs8u8tnJFgwDsHLWuhRFzAGCl6egpmV8D1SseJc4dSwLPZKDK5UUvAbR3DUIuUQcCZhHW9dV0vwA2xhSAHXQ5AzS7cpvxFN0Ce09M0LGBFQNWPORZaHU9AFabP+0NtVEAxhILs2ktZQExiNd1xKl5APCD0ZoSEYUBJj03fz/NjQFf+plcbY2ZAbW0A0GbSaEB63FlIskFrQIhLs8D9sG1AT12GnCQQcEDWFLNYykdxQF3M3xRwf3JA54MM0RW3c0BuOzmNu+50QPXyZUlhJnZAgKqSBQded0AHYr/BrJV4QI4Z7H1SzXlAGNEYOvgEe0CfiEX2nTx8QCZAcrJDdH1AsfeebumrfkA4r8sqj+N/QF8zfHOajYBAJY+SUW0pgUDo6qgvQMWBQK1Gvw0TYYJAcaLV6+X8gkA0/uvJuJiDQPpZAqiLNIRAvbUYhl7QhECBES9kMWyFQEZtRUIECIZACclbINejhkDNJHL+qT+HQJKAiNx824dAVtyeuk93iEAZOLWYIhOJQN6Ty3b1rolAou/hVMhKikBlS/gym+aKQCunDhFugotA7gIl70AejECyXjvNE7qMQHe6UavmVY1AOhZoibnxjUA=\",\"dtype\":\"float64\",\"shape\":[100]},\"right\":{\"__ndarray__\":\"1wone/+0jcAUrxCdLBmNwE9T+r5ZfYzAi/fj4Ibhi8DHm80CtEWLwANAtyThqYrAP+SgRg4OisB6iIpoO3KJwLcsdIpo1ojA89BdrJU6iMAudUfOwp6HwGsZMfDvAofApr0aEh1nhsDiYQQ0SsuFwB4G7lV3L4XAWqrXd6SThMCWTsGZ0feDwNLyqrv+W4PADpeU3SvAgsBJO37/WCSCwIbfZyGGiIHAwoNRQ7PsgMD9Jztl4FCAwHOYSQ4ban/A6+AcUnUyfsBiKfCVz/p8wNlxw9kpw3vAUrqWHYSLesDJAmph3lN5wEFLPaU4HHjAupMQ6ZLkdsAx3OMs7ax1wKgkt3BHdXTAIW2KtKE9c8CYtV34+wVywBD+MDxWznDAEY0IAGEtb8AAHq+HFb5swO6uVQ/KTmrA3T/8ln7fZ8DP0KIeM3BlwL1hSabnAGPArPLvLZyRYMA7By1roURcwBgpenoKZlfA9UrHiXOHUsCz2SgyuVFLwG0dw1CLlEHAmYR1vXVdL8ANsYUgB10OQM0u3Kb8RTdAntPTNCxgRUDVjzkWWh1PQBWmz/tDbVRAMYSC7NpLWUBMYjXdcSpeQDwg9GaEhGFASY9N38/zY0BX/qZXG2NmQG1tANBm0mhAetxZSLJBa0CIS7PA/bBtQE9dhpwkEHBA1hSzWMpHcUBdzN8UcH9yQOeDDNEVt3NAbjs5jbvudED18mVJYSZ2QICqkgUHXndAB2K/wayVeECOGex9Us15QBjRGDr4BHtAn4hF9p08fEAmQHKyQ3R9QLH3nm7pq35AOK/LKo/jf0BfM3xzmo2AQCWPklFtKYFA6OqoL0DFgUCtRr8NE2GCQHGi1evl/IJANP7rybiYg0D6WQKoizSEQL21GIZe0IRAgREvZDFshUBGbUVCBAiGQAnJWyDXo4ZAzSRy/qk/h0CSgIjcfNuHQFbcnrpPd4hAGTi1mCITiUDek8t29a6JQKLv4VTISopAZUv4MpvmikArpw4RboKLQO4CJe9AHoxAsl47zRO6jEB3ulGr5lWNQDoWaIm58Y1A/nF+Z4yNjkA=\",\"dtype\":\"float64\",\"shape\":[100]},\"top\":{\"__ndarray__\":\"jntIxr+JRECve0jGv4k0QHKa2rcvrElAuRJ2u5NjWEAAixG/9xpXQH3kGtHrr2BAnTEIrQOGbUAy/Z6n7XJvQPDwXLxsEXhAnTEIrQOGbUA1JcbBgiR2QJ2dYcXm23RAEmn4v9DIdkCnNI+6urV4QDNmcbIZmXtAB2ZxshmZe0AAixG/9xp3QJaXU6p4fH5AfjF1UrE0gEA3udlOTX2BQGP9nqftcn9AQChNzzlUgUAgH7imFMV/QEpKZs5gpoFAoFkvx5g3hEDwQD5L6cWCQN5iV0oQGINAnZ1hxebbhECOe0jGv4mEQHydYcXm24RAr3tIxr+JhECX6rtGrGCEQFnhk8M0gIVA2aaJSF68g0D3G54+C0SHQAn6hD/k8YZAKI6YzK5KgkDCgek7gDqIQFByIENIqYVAdC7uRPoEhUByciBDSKmFQIUM1UXTsoRAwoHpO4A6iEDONI+6urWIQHQu7kT6BIVAxBX9yEqTg0ByciBDSKmFQCRH38CpdoZAl+q7RqxghEA+2GtAvZ+GQDfhk8M0gIVAaQOtwlvShUC05zQ59TCJQNyKEb/3GodAzjSPurq1iEBvb5k1kXmKQJM3Fshx5YNA54HpO4A6iEDngek7gDqIQJyB6TuAOohAHByePgtEh0At+oQ/5PGGQK6EcEk3aoNAJIsRv/cah0BPtlJBlk2GQIBZL8eYN4RAPthrQL2fhkByciBDSKmFQGUM1UXTsoRAHx8lTMJzgkB74ZPDNICFQFydYcXm24RAUR+4phTFf0BSudlOTX2BQK6EcEk3aoNA0TcWyHHlg0Bj/Z6n7XJ/QDcGNNASAoFAWyhNzzlUgUAT24WoxiB/QKGg6NKdC4BAq3jBuAhaeUCl8Fy8bBF4QJaXU6p4fH5AZgAmtaSiekAAIj+0y/R6QNwP763cM31AaQOtwlvSdUATJcbBgiR2QMoxCK0Dhm1AbAY00BICcUDujZjMrkpyQLxWqLnhB2lAvFaoueEHaUBue0jGv4lkQKGg6NKdC2BA3xJ2u5NjWEC3qaOwZz1MQDlsf82H+EFAhrlsqZ/OLkA=\",\"dtype\":\"float64\",\"shape\":[100]}},\"selected\":{\"id\":\"3400\",\"type\":\"Selection\"},\"selection_policy\":{\"id\":\"3401\",\"type\":\"UnionRenderers\"}},\"id\":\"3179\",\"type\":\"ColumnDataSource\"},{\"attributes\":{\"data_source\":{\"id\":\"3179\",\"type\":\"ColumnDataSource\"},\"glyph\":{\"id\":\"3180\",\"type\":\"Quad\"},\"hover_glyph\":null,\"muted_glyph\":null,\"nonselection_glyph\":{\"id\":\"3181\",\"type\":\"Quad\"},\"selection_glyph\":null,\"view\":{\"id\":\"3183\",\"type\":\"CDSView\"}},\"id\":\"3182\",\"type\":\"GlyphRenderer\"},{\"attributes\":{},\"id\":\"3386\",\"type\":\"BasicTickFormatter\"},{\"attributes\":{},\"id\":\"3166\",\"type\":\"PanTool\"},{\"attributes\":{},\"id\":\"3388\",\"type\":\"BasicTickFormatter\"},{\"attributes\":{},\"id\":\"3167\",\"type\":\"WheelZoomTool\"},{\"attributes\":{\"overlay\":{\"id\":\"3399\",\"type\":\"BoxAnnotation\"}},\"id\":\"3168\",\"type\":\"BoxZoomTool\"},{\"attributes\":{},\"id\":\"3390\",\"type\":\"BasicTickFormatter\"},{\"attributes\":{},\"id\":\"3169\",\"type\":\"SaveTool\"},{\"attributes\":{},\"id\":\"3392\",\"type\":\"BasicTickFormatter\"},{\"attributes\":{},\"id\":\"3170\",\"type\":\"ResetTool\"},{\"attributes\":{},\"id\":\"3394\",\"type\":\"BasicTickFormatter\"},{\"attributes\":{},\"id\":\"3171\",\"type\":\"HelpTool\"},{\"attributes\":{\"bottom_units\":\"screen\",\"fill_alpha\":{\"value\":0.5},\"fill_color\":{\"value\":\"lightgrey\"},\"left_units\":\"screen\",\"level\":\"overlay\",\"line_alpha\":{\"value\":1.0},\"line_color\":{\"value\":\"black\"},\"line_dash\":[4,4],\"line_width\":{\"value\":2},\"render_mode\":\"css\",\"right_units\":\"screen\",\"top_units\":\"screen\"},\"id\":\"3396\",\"type\":\"BoxAnnotation\"},{\"attributes\":{\"active_drag\":\"auto\",\"active_inspect\":\"auto\",\"active_multi\":null,\"active_scroll\":\"auto\",\"active_tap\":\"auto\",\"tools\":[{\"id\":\"3166\",\"type\":\"PanTool\"},{\"id\":\"3167\",\"type\":\"WheelZoomTool\"},{\"id\":\"3168\",\"type\":\"BoxZoomTool\"},{\"id\":\"3169\",\"type\":\"SaveTool\"},{\"id\":\"3170\",\"type\":\"ResetTool\"},{\"id\":\"3171\",\"type\":\"HelpTool\"}]},\"id\":\"3172\",\"type\":\"Toolbar\"},{\"attributes\":{},\"id\":\"3397\",\"type\":\"Selection\"},{\"attributes\":{},\"id\":\"3398\",\"type\":\"UnionRenderers\"},{\"attributes\":{\"source\":{\"id\":\"3179\",\"type\":\"ColumnDataSource\"}},\"id\":\"3183\",\"type\":\"CDSView\"},{\"attributes\":{\"bottom_units\":\"screen\",\"fill_alpha\":{\"value\":0.5},\"fill_color\":{\"value\":\"lightgrey\"},\"left_units\":\"screen\",\"level\":\"overlay\",\"line_alpha\":{\"value\":1.0},\"line_color\":{\"value\":\"black\"},\"line_dash\":[4,4],\"line_width\":{\"value\":2},\"render_mode\":\"css\",\"right_units\":\"screen\",\"top_units\":\"screen\"},\"id\":\"3399\",\"type\":\"BoxAnnotation\"},{\"attributes\":{},\"id\":\"3190\",\"type\":\"LinearScale\"},{\"attributes\":{},\"id\":\"3400\",\"type\":\"Selection\"},{\"attributes\":{\"callback\":null,\"data\":{\"dh\":[0.00019985214844199474],\"dw\":[6695.947631611201],\"image\":[{\"__ndarray__\":\"AAAAAAAAEEAAAAAAAADwPwAAAAAAAAAAAAAAAAAAAAAAAAAAAAAAAAAAAAAAAAAAAAAAAAAAAAAAAAAAAAAAAAAAAAAAAAAAAAAAAAAAAAAAAAAAAAAAAAAAAAAAAAAAAAAAAAAAAAAAAAAAAAAAAAAAAAAAAAAAAAAAAAAAAAAAAAAAAAAAAAAAAAAAAAAAAAAAAAAAAAAAAAAAAAAAAAAAAAAAAAAAAAAAAAAAAAAAAAAAAAAAAAAAAAAAAAAAAAAAAAAAAAAAAAAAAAAAAAAAAAAAAAAAAAAAAAAAAAAAAAAAAAAAAAAAAAAAAAAAAAAAAAAAAAAAAAAAAAAAAAAAAAAAAAAAAAAAAAAAAAAAAAAAAAAAAAAAAAAAAAAAAAAAAAAAAAAAAAAAAAAAAAAAAAAAAAAAAAAAAAAAAAAAAAAAAAAAAAAAAAAAAAAAAAAAAAAAAAAAAAAAAAAAAAAAAAAAAAAAAAAAAAAAAAAAAAAAAAAAAAAAAAAAAAAAAAAAAAAAAAAAAAAAAAAAAAAAAAAAAAAAAAAAAAAAGEAAAAAAAAAoQAAAAAAAAAAAAAAAAAAAAAAAAAAAAAAAAAAAAAAAAAAAAAAAAAAAAAAAAAAAAAAAAAAAAAAAAAAAAAAAAAAAAAAAAAAAAAAAAAAAAAAAAAAAAAAAAAAAAAAAAAAAAAAAAAAAAAAAAAAAAAAAAAAAAAAAAAAAAAAAAAAAAAAAAAAAAAAAAAAAAAAAAAAAAAAAAAAAAAAAAAAAAAAAAAAAAAAAAAAAAAAAAAAAAAAAAAAAAAAAAAAAAAAAAAAAAAAAAAAAAAAAAAAAAAAAAAAAAAAAAAAAAAAAAAAAAAAAAAAAAAAAAAAAAAAAAAAAAAAAAAAAAAAAAAAAAAAAAAAAAAAAAAAAAAAAAAAAAAAAAAAAAAAAAAAAAAAAAAAAAAAAAAAAAAAAAAAAAAAAAAAAAAAAAAAAAAAAAAAAAAAAAAAAAAAAAAAAAAAAAAAAAAAAAAAAAAAAAAAAAAAAAAAAAAAAAAAAAAAAAAAAAAAAAAAAAAAAAAAAAAAAAAAAAAAAAAAAAAAAAAAAAAAAAAAAMkAAAAAAAAAzQAAAAAAAAPA/AAAAAAAAAAAAAAAAAAAAAAAAAAAAAAAAAAAAAAAAAAAAAAAAAAAAAAAAAAAAAAAAAAAAAAAAAAAAAAAAAAAAAAAAAAAAAAAAAAAAAAAAAAAAAAAAAAAAAAAAAAAAAAAAAAAAAAAAAAAAAAAAAAAAAAAAAAAAAAAAAAAAAAAAAAAAAAAAAAAAAAAAAAAAAAAAAAAAAAAAAAAAAAAAAAAAAAAAAAAAAAAAAAAAAAAAAAAAAAAAAAAAAAAAAAAAAAAAAAAAAAAAAAAAAAAAAAAAAAAAAAAAAAAAAAAAAAAAAAAAAAAAAAAAAAAAAAAAAAAAAAAAAAAAAAAAAAAAAAAAAAAAAAAAAAAAAAAAAAAAAAAAAAAAAAAAAAAAAAAAAAAAAAAAAAAAAAAAAAAAAAAAAAAAAAAAAAAAAAAAAAAAAAAAAAAAAAAAAAAAAAAAAAAAAAAAAAAAAAAAAAAAAAAAAAAAAAAAAAAAAAAAAAAAAAAAAAAAAAAAAAAAAAAAAAAAAAAAAAAAJEAAAAAAAABBQAAAAAAAABxAAAAAAAAAAAAAAAAAAAAAAAAAAAAAAAAAAAAAAAAAAAAAAAAAAAAAAAAAAAAAAAAAAAAAAAAAAAAAAAAAAAAAAAAAAAAAAAAAAAAAAAAAAAAAAAAAAAAAAAAAAAAAAAAAAAAAAAAAAAAAAAAAAAAAAAAAAAAAAAAAAAAAAAAAAAAAAAAAAAAAAAAAAAAAAAAAAAAAAAAAAAAAAAAAAAAAAAAAAAAAAAAAAAAAAAAAAAAAAAAAAAAAAAAAAAAAAAAAAAAAAAAAAAAAAAAAAAAAAAAAAAAAAAAAAAAAAAAAAAAAAAAAAAAAAAAAAAAAAAAAAAAAAAAAAAAAAAAAAAAAAAAAAAAAAAAAAAAAAAAAAAAAAAAAAAAAAAAAAAAAAAAAAAAAAAAAAAAAAAAAAAAAAAAAAAAAAAAAAAAAAAAAAAAAAAAAAAAAAAAAAAAAAAAAAAAAAAAAAAAAAAAAAAAAAAAAAAAAAAAAAAAAAAAAAAAAAAAAAAAAAAAAAAAAAAAAAAAAAAAAIEAAAAAAAABDQAAAAAAAACpAAAAAAAAAAAAAAAAAAAAAAAAAAAAAAAAAAAAAAAAAAAAAAAAAAAAAAAAAAAAAAAAAAAAAAAAAAAAAAAAAAAAAAAAAAAAAAAAAAAAAAAAAAAAAAAAAAAAAAAAAAAAAAAAAAAAAAAAAAAAAAAAAAAAAAAAAAAAAAAAAAAAAAAAAAAAAAAAAAAAAAAAAAAAAAAAAAAAAAAAAAAAAAAAAAAAAAAAAAAAAAAAAAAAAAAAAAAAAAAAAAAAAAAAAAAAAAAAAAAAAAAAAAAAAAAAAAAAAAAAAAAAAAAAAAAAAAAAAAAAAAAAAAAAAAAAAAAAAAAAAAAAAAAAAAAAAAAAAAAAAAAAAAAAAAAAAAAAAAAAAAAAAAAAAAAAAAAAAAAAAAAAAAAAAAAAAAAAAAAAAAAAAAAAAAAAAAAAAAAAAAAAAAAAAAAAAAAAAAAAAAAAAAAAAAAAAAAAAAAAAAAAAAAAAAAAAAAAAAAAAAAAAAAAAAAAAAAAAAAAAAAAAAAAAAAAAAAAAAAAAJkAAAAAAAIBKQAAAAAAAADxAAAAAAAAAAAAAAAAAAAAAAAAAAAAAAAAAAAAAAAAAAAAAAAAAAAAAAAAAAAAAAAAAAAAAAAAAAAAAAAAAAAAAAAAAAAAAAAAAAAAAAAAAAAAAAAAAAAAAAAAAAAAAAAAAAAAAAAAAAAAAAAAAAAAAAAAAAAAAAAAAAAAAAAAAAAAAAAAAAAAAAAAAAAAAAAAAAAAAAAAAAAAAAAAAAAAAAAAAAAAAAAAAAAAAAAAAAAAAAAAAAAAAAAAAAAAAAAAAAAAAAAAAAAAAAAAAAAAAAAAAAAAAAAAAAAAAAAAAAAAAAAAAAAAAAAAAAAAAAAAAAAAAAAAAAAAAAAAAAAAAAAAAAAAAAAAAAAAAAAAAAAAAAAAAAAAAAAAAAAAAAAAAAAAAAAAAAAAAAAAAAAAAAAAAAAAAAAAAAAAAAAAAAAAAAAAAAAAAAAAAAAAAAAAAAAAAAAAAAAAAAAAAAAAAAAAAAAAAAAAAAAAAAAAAAAAAAAAAAAAAAAAAAAAAAAAAAAAAAAAAJEAAAAAAAMBSQAAAAAAAgEdAAAAAAAAAAAAAAAAAAAAAAAAAAAAAAAAAAAAAAAAAAAAAAAAAAAAAAAAAAAAAAAAAAAAAAAAAAAAAAAAAAAAAAAAAAAAAAAAAAAAAAAAAAAAAAAAAAAAAAAAAAAAAAAAAAAAAAAAAAAAAAAAAAAAAAAAAAAAAAAAAAAAAAAAAAAAAAAAAAAAAAAAAAAAAAAAAAAAAAAAAAAAAAAAAAAAAAAAAAAAAAAAAAAAAAAAAAAAAAAAAAAAAAAAAAAAAAAAAAAAAAAAAAAAAAAAAAAAAAAAAAAAAAAAAAAAAAAAAAAAAAAAAAAAAAAAAAAAAAAAAAAAAAAAAAAAAAAAAAAAAAAAAAAAAAAAAAAAAAAAAAAAAAAAAAAAAAAAAAAAAAAAAAAAAAAAAAAAAAAAAAAAAAAAAAAAAAAAAAAAAAAAAAAAAAAAAAAAAAAAAAAAAAAAAAAAAAAAAAAAAAAAAAAAAAAAAAAAAAAAAAAAAAAAAAAAAAAAAAAAAAAAAAAAAAAAAAAAAAAAAIkAAAAAAAIBQQAAAAAAAAEdAAAAAAAAAAAAAAAAAAAAAAAAAAAAAAAAAAAAAAAAAAAAAAAAAAAAAAAAAAAAAAAAAAAAAAAAAAAAAAAAAAAAAAAAAAAAAAAAAAAAAAAAAAAAAAAAAAAAAAAAAAAAAAAAAAAAAAAAAAAAAAAAAAAAAAAAAAAAAAAAAAAAAAAAAAAAAAAAAAAAAAAAAAAAAAAAAAAAAAAAAAAAAAAAAAAAAAAAAAAAAAAAAAAAAAAAAAAAAAAAAAAAAAAAAAAAAAAAAAAAAAAAAAAAAAAAAAAAAAAAAAAAAAAAAAAAAAAAAAAAAAAAAAAAAAAAAAAAAAAAAAAAAAAAAAAAAAAAAAAAAAAAAAAAAAAAAAAAAAAAAAAAAAAAAAAAAAAAAAAAAAAAAAAAAAAAAAAAAAAAAAAAAAAAAAAAAAAAAAAAAAAAAAAAAAAAAAAAAAAAAAAAAAAAAAAAAAAAAAAAAAAAAAAAAAAAAAAAAAAAAAAAAAAAAAAAAAAAAAAAAAAAAAAAAAAAAAAAAAAAAHEAAAAAAAMBRQAAAAAAAAEhAAAAAAAAAAAAAAAAAAAAAAAAAAAAAAAAAAAAAAAAAAAAAAAAAAAAAAAAAAAAAAAAAAAAAAAAAAAAAAAAAAAAAAAAAAAAAAAAAAAAAAAAAAAAAAAAAAAAAAAAAAAAAAAAAAAAAAAAAAAAAAAAAAAAAAAAAAAAAAAAAAAAAAAAAAAAAAAAAAAAAAAAAAAAAAAAAAAAAAAAAAAAAAAAAAAAAAAAAAAAAAAAAAAAAAAAAAAAAAAAAAAAAAAAAAAAAAAAAAAAAAAAAAAAAAAAAAAAAAAAAAAAAAAAAAAAAAAAAAAAAAAAAAAAAAAAAAAAAAAAAAAAAAAAAAAAAAAAAAAAAAAAAAAAAAAAAAAAAAAAAAAAAAAAAAAAAAAAAAAAAAAAAAAAAAAAAAAAAAAAAAAAAAAAAAAAAAAAAAAAAAAAAAAAAAAAAAAAAAAAAAAAAAAAAAAAAAAAAAAAAAAAAAAAAAAAAAAAAAAAAAAAAAAAAAAAAAAAAAAAAAAAAAAAAAAAAAAAAAAAAJEAAAAAAAABTQAAAAAAAAEtAAAAAAAAAAAAAAAAAAAAAAAAAAAAAAAAAAAAAAAAAAAAAAAAAAAAAAAAAAAAAAAAAAAAAAAAAAAAAAAAAAAAAAAAAAAAAAAAAAAAAAAAAAAAAAAAAAAAAAAAAAAAAAAAAAAAAAAAAAAAAAAAAAAAAAAAAAAAAAAAAAAAAAAAAAAAAAAAAAAAAAAAAAAAAAAAAAAAAAAAAAAAAAAAAAAAAAAAAAAAAAAAAAAAAAAAAAAAAAAAAAAAAAAAAAAAAAAAAAAAAAAAAAAAAAAAAAAAAAAAAAAAAAAAAAAAAAAAAAAAAAAAAAAAAAAAAAAAAAAAAAAAAAAAAAAAAAAAAAAAAAAAAAAAAAAAAAAAAAAAAAAAAAAAAAAAAAAAAAAAAAAAAAAAAAAAAAAAAAAAAAAAAAAAAAAAAAAAAAAAAAAAAAAAAAAAAAAAAAAAAAAAAAAAAAAAAAAAAAAAAAAAAAAAAAAAAAAAAAAAAAAAAAAAAAAAAAAAAAAAAAAAAAAAAAAAAAAAAAAAAJEAAAAAAAMBZQAAAAAAAgFFAAAAAAAAAAAAAAAAAAAAAAAAAAAAAAAAAAAAAAAAAAAAAAAAAAAAAAAAAAAAAAAAAAAAAAAAAAAAAAAAAAAAAAAAAAAAAAAAAAAAAAAAAAAAAAAAAAAAAAAAAAAAAAAAAAAAAAAAAAAAAAAAAAAAAAAAAAAAAAAAAAAAAAAAAAAAAAAAAAAAAAAAAAAAAAAAAAAAAAAAAAAAAAAAAAAAAAAAAAAAAAAAAAAAAAAAAAAAAAAAAAAAAAAAAAAAAAAAAAAAAAAAAAAAAAAAAAAAAAAAAAAAAAAAAAAAAAAAAAAAAAAAAAAAAAAAAAAAAAAAAAAAAAAAAAAAAAAAAAAAAAAAAAAAAAAAAAAAAAAAAAAAAAAAAAAAAAAAAAAAAAAAAAAAAAAAAAAAAAAAAAAAAAAAAAAAAAAAAAAAAAAAAAAAAAAAAAAAAAAAAAAAAAAAAAAAAAAAAAAAAAAAAAAAAAAAAAAAAAAAAAAAAAAAAAAAAAAAAAAAAAAAAAAAAAAAAAAAAAAAAJEAAAAAAAIBcQAAAAAAAAE5AAAAAAAAAAAAAAAAAAAAAAAAAAAAAAAAAAAAAAAAAAAAAAAAAAAAAAAAAAAAAAAAAAAAAAAAAAAAAAAAAAAAAAAAAAAAAAAAAAAAAAAAAAAAAAAAAAAAAAAAAAAAAAAAAAAAAAAAAAAAAAAAAAAAAAAAAAAAAAAAAAAAAAAAAAAAAAAAAAAAAAAAAAAAAAAAAAAAAAAAAAAAAAAAAAAAAAAAAAAAAAAAAAAAAAAAAAAAAAAAAAAAAAAAAAAAAAAAAAAAAAAAAAAAAAAAAAAAAAAAAAAAAAAAAAAAAAAAAAAAAAAAAAAAAAAAAAAAAAAAAAAAAAAAAAAAAAAAAAAAAAAAAAAAAAAAAAAAAAAAAAAAAAAAAAAAAAAAAAAAAAAAAAAAAAAAAAAAAAAAAAAAAAAAAAAAAAAAAAAAAAAAAAAAAAAAAAAAAAAAAAAAAAAAAAAAAAAAAAAAAAAAAAAAAAAAAAAAAAAAAAAAAAAAAAAAAAAAAAAAAAAAAAAAAAAAAAAAAAAAAMEAAAAAAAOBgQAAAAAAAgFBAAAAAAAAAAAAAAAAAAAAAAAAAAAAAAAAAAAAAAAAAAAAAAAAAAAAAAAAAAAAAAAAAAAAAAAAAAAAAAAAAAAAAAAAAAAAAAAAAAAAAAAAAAAAAAAAAAAAAAAAAAAAAAAAAAAAAAAAAAAAAAAAAAAAAAAAAAAAAAAAAAAAAAAAAAAAAAAAAAAAAAAAAAAAAAAAAAAAAAAAAAAAAAAAAAAAAAAAAAAAAAAAAAAAAAAAAAAAAAAAAAAAAAAAAAAAAAAAAAAAAAAAAAAAAAAAAAAAAAAAAAAAAAAAAAAAAAAAAAAAAAAAAAAAAAAAAAAAAAAAAAAAAAAAAAAAAAAAAAAAAAAAAAAAAAAAAAAAAAAAAAAAAAAAAAAAAAAAAAAAAAAAAAAAAAAAAAAAAAAAAAAAAAAAAAAAAAAAAAAAAAAAAAAAAAAAAAAAAAAAAAAAAAAAAAAAAAAAAAAAAAAAAAAAAAAAAAAAAAAAAAAAAAAAAAAAAAAAAAAAAAAAAAAAAAAAAAAAAAAAAKEAAAAAAAOBhQAAAAAAAgE1AAAAAAAAAAAAAAAAAAAAAAAAAAAAAAAAAAAAAAAAAAAAAAAAAAAAAAAAAAAAAAAAAAAAAAAAAAAAAAAAAAAAAAAAAAAAAAAAAAAAAAAAAAAAAAAAAAAAAAAAAAAAAAAAAAAAAAAAAAAAAAAAAAAAAAAAAAAAAAAAAAAAAAAAAAAAAAAAAAAAAAAAAAAAAAAAAAAAAAAAAAAAAAAAAAAAAAAAAAAAAAAAAAAAAAAAAAAAAAAAAAAAAAAAAAAAAAAAAAAAAAAAAAAAAAAAAAAAAAAAAAAAAAAAAAAAAAAAAAAAAAAAAAAAAAAAAAAAAAAAAAAAAAAAAAAAAAAAAAAAAAAAAAAAAAAAAAAAAAAAAAAAAAAAAAAAAAAAAAAAAAAAAAAAAAAAAAAAAAAAAAAAAAAAAAAAAAAAAAAAAAAAAAAAAAAAAAAAAAAAAAAAAAAAAAAAAAAAAAAAAAAAAAAAAAAAAAAAAAAAAAAAAAAAAAAAAAAAAAAAAAAAAAAAAAAAAAAAAAAAAN0AAAAAAAOBjQAAAAAAAgEZAAAAAAAAAAAAAAAAAAAAAAAAAAAAAAAAAAAAAAAAAAAAAAAAAAAAAAAAAAAAAAAAAAAAAAAAAAAAAAAAAAAAAAAAAAAAAAAAAAAAAAAAAAAAAAAAAAAAAAAAAAAAAAAAAAAAAAAAAAAAAAAAAAAAAAAAAAAAAAAAAAAAAAAAAAAAAAAAAAAAAAAAAAAAAAAAAAAAAAAAAAAAAAAAAAAAAAAAAAAAAAAAAAAAAAAAAAAAAAAAAAAAAAAAAAAAAAAAAAAAAAAAAAAAAAAAAAAAAAAAAAAAAAAAAAAAAAAAAAAAAAAAAAAAAAAAAAAAAAAAAAAAAAAAAAAAAAAAAAAAAAAAAAAAAAAAAAAAAAAAAAAAAAAAAAAAAAAAAAAAAAAAAAAAAAAAAAAAAAAAAAAAAAAAAAAAAAAAAAAAAAAAAAAAAAAAAAAAAAAAAAAAAAAAAAAAAAAAAAAAAAAAAAAAAAAAAAAAAAAAAAAAAAAAAAAAAAAAAAAAAAAAAAAAAAAAAAAAAAAAANUAAAAAAACBkQAAAAAAAgEBAAAAAAAAAAAAAAAAAAAAAAAAAAAAAAAAAAAAAAAAAAAAAAAAAAAAAAAAAAAAAAAAAAAAAAAAAAAAAAAAAAAAAAAAAAAAAAAAAAAAAAAAAAAAAAAAAAAAAAAAAAAAAAAAAAAAAAAAAAAAAAAAAAAAAAAAAAAAAAAAAAAAAAAAAAAAAAAAAAAAAAAAAAAAAAAAAAAAAAAAAAAAAAAAAAAAAAAAAAAAAAAAAAAAAAAAAAAAAAAAAAAAAAAAAAAAAAAAAAAAAAAAAAAAAAAAAAAAAAAAAAAAAAAAAAAAAAAAAAAAAAAAAAAAAAAAAAAAAAAAAAAAAAAAAAAAAAAAAAAAAAAAAAAAAAAAAAAAAAAAAAAAAAAAAAAAAAAAAAAAAAAAAAAAAAAAAAAAAAAAAAAAAAAAAAAAAAAAAAAAAAAAAAAAAAAAAAAAAAAAAAAAAAAAAAAAAAAAAAAAAAAAAAAAAAAAAAAAAAAAAAAAAAAAAAAAAAAAAAAAAAAAAAAAAAAAAAAAAAAAAMUAAAAAAAGBqQAAAAAAAADBAAAAAAAAAAAAAAAAAAAAAAAAAAAAAAAAAAAAAAAAAAAAAAAAAAAAAAAAAAAAAAAAAAAAAAAAAAAAAAAAAAAAAAAAAAAAAAAAAAAAAAAAAAAAAAAAAAAAAAAAAAAAAAAAAAAAAAAAAAAAAAAAAAAAAAAAAAAAAAAAAAAAAAAAAAAAAAAAAAAAAAAAAAAAAAAAAAAAAAAAAAAAAAAAAAAAAAAAAAAAAAAAAAAAAAAAAAAAAAAAAAAAAAAAAAAAAAAAAAAAAAAAAAAAAAAAAAAAAAAAAAAAAAAAAAAAAAAAAAAAAAAAAAAAAAAAAAAAAAAAAAAAAAAAAAAAAAAAAAAAAAAAAAAAAAAAAAAAAAAAAAAAAAAAAAAAAAAAAAAAAAAAAAAAAAAAAAAAAAAAAAAAAAAAAAAAAAAAAAAAAAAAAAAAAAAAAAAAAAAAAAAAAAAAAAAAAAAAAAAAAAAAAAAAAAAAAAAAAAAAAAAAAAAAAAAAAAAAAAAAAAAAAAAAAAAAAAAAAAAAAO0AAAAAAAOBpQAAAAAAAACBAAAAAAAAAAAAAAAAAAAAAAAAAAAAAAAAAAAAAAAAAAAAAAAAAAAAAAAAAAAAAAAAAAAAAAAAAAAAAAAAAAAAAAAAAAAAAAAAAAAAAAAAAAAAAAAAAAAAAAAAAAAAAAAAAAAAAAAAAAAAAAAAAAAAAAAAAAAAAAAAAAAAAAAAAAAAAAAAAAAAAAAAAAAAAAAAAAAAAAAAAAAAAAAAAAAAAAAAAAAAAAAAAAAAAAAAAAAAAAAAAAAAAAAAAAAAAAAAAAAAAAAAAAAAAAAAAAAAAAAAAAAAAAAAAAAAAAAAAAAAAAAAAAAAAAAAAAAAAAAAAAAAAAAAAAAAAAAAAAAAAAAAAAAAAAAAAAAAAAAAAAAAAAAAAAAAAAAAAAAAAAAAAAAAAAAAAAAAAAAAAAAAAAAAAAAAAAAAAAAAAAAAAAAAAAAAAAAAAAAAAAAAAAAAAAAAAAAAAAAAAAAAAAAAAAAAAAAAAAAAAAAAAAAAAAAAAAAAAAAAAAAAAAAAAAAAAAAAAAAAAQUAAAAAAAMBqQAAAAAAAAAAAAAAAAAAAAAAAAAAAAAAAAAAAAAAAAAAAAAAAAAAAAAAAAAAAAAAAAAAAAAAAAAAAAAAAAAAAAAAAAAAAAAAAAAAAAAAAAAAAAAAAAAAAAAAAAAAAAAAAAAAAAAAAAAAAAAAAAAAAAAAAAAAAAAAAAAAAAAAAAAAAAAAAAAAAAAAAAAAAAAAAAAAAAAAAAAAAAAAAAAAAAAAAAAAAAAAAAAAAAAAAAAAAAAAAAAAAAAAAAAAAAAAAAAAAAAAAAAAAAAAAAAAAAAAAAAAAAAAAAAAAAAAAAAAAAAAAAAAAAAAAAAAAAAAAAAAAAAAAAAAAAAAAAAAAAAAAAAAAAAAAAAAAAAAAAAAAAAAAAAAAAAAAAAAAAAAAAAAAAAAAAAAAAAAAAAAAAAAAAAAAAAAAAAAAAAAAAAAAAAAAAAAAAAAAAAAAAAAAAAAAAAAAAAAAAAAAAAAAAAAAAAAAAAAAAAAAAAAAAAAAAAAAAAAAAAAAAAAAAAAAAAAAAAAAAAAAAAAAAAAARkAAAAAAAABuQAAAAAAAAAAAAAAAAAAAAAAAAAAAAAAAAAAAAAAAAAAAAAAAAAAAAAAAAAAAAAAAAAAAAAAAAAAAAAAAAAAAAAAAAAAAAAAAAAAAAAAAAAAAAAAAAAAAAAAAAAAAAAAAAAAAAAAAAAAAAAAAAAAAAAAAAAAAAAAAAAAAAAAAAAAAAAAAAAAAAAAAAAAAAAAAAAAAAAAAAAAAAAAAAAAAAAAAAAAAAAAAAAAAAAAAAAAAAAAAAAAAAAAAAAAAAAAAAAAAAAAAAAAAAAAAAAAAAAAAAAAAAAAAAAAAAAAAAAAAAAAAAAAAAAAAAAAAAAAAAAAAAAAAAAAAAAAAAAAAAAAAAAAAAAAAAAAAAAAAAAAAAAAAAAAAAAAAAAAAAAAAAAAAAAAAAAAAAAAAAAAAAAAAAAAAAAAAAAAAAAAAAAAAAAAAAAAAAAAAAAAAAAAAAAAAAAAAAAAAAAAAAAAAAAAAAAAAAAAAAAAAAAAAAAAAAAAAAAAAAAAAAAAAAAAAAAAAAAAAAAAAAAAAAADAUEAAAAAAAKBoQAAAAAAAAAAAAAAAAAAAAAAAAAAAAAAAAAAAAAAAAAAAAAAAAAAAAAAAAAAAAAAAAAAAAAAAAAAAAAAAAAAAAAAAAAAAAAAAAAAAAAAAAAAAAAAAAAAAAAAAAAAAAAAAAAAAAAAAAAAAAAAAAAAAAAAAAAAAAAAAAAAAAAAAAAAAAAAAAAAAAAAAAAAAAAAAAAAAAAAAAAAAAAAAAAAAAAAAAAAAAAAAAAAAAAAAAAAAAAAAAAAAAAAAAAAAAAAAAAAAAAAAAAAAAAAAAAAAAAAAAAAAAAAAAAAAAAAAAAAAAAAAAAAAAAAAAAAAAAAAAAAAAAAAAAAAAAAAAAAAAAAAAAAAAAAAAAAAAAAAAAAAAAAAAAAAAAAAAAAAAAAAAAAAAAAAAAAAAAAAAAAAAAAAAAAAAAAAAAAAAAAAAAAAAAAAAAAAAAAAAAAAAAAAAAAAAAAAAAAAAAAAAAAAAAAAAAAAAAAAAAAAAAAAAAAAAAAAAAAAAAAAAAAAAAAAAAAAAAAAAAAAAAAAAABAVEAAAAAAAOBnQAAAAAAAAAAAAAAAAAAAAAAAAAAAAAAAAAAAAAAAAAAAAAAAAAAAAAAAAAAAAAAAAAAAAAAAAAAAAAAAAAAAAAAAAAAAAAAAAAAAAAAAAAAAAAAAAAAAAAAAAAAAAAAAAAAAAAAAAAAAAAAAAAAAAAAAAAAAAAAAAAAAAAAAAAAAAAAAAAAAAAAAAAAAAAAAAAAAAAAAAAAAAAAAAAAAAAAAAAAAAAAAAAAAAAAAAAAAAAAAAAAAAAAAAAAAAAAAAAAAAAAAAAAAAAAAAAAAAAAAAAAAAAAAAAAAAAAAAAAAAAAAAAAAAAAAAAAAAAAAAAAAAAAAAAAAAAAAAAAAAAAAAAAAAAAAAAAAAAAAAAAAAAAAAAAAAAAAAAAAAAAAAAAAAAAAAAAAAAAAAAAAAAAAAAAAAAAAAAAAAAAAAAAAAAAAAAAAAAAAAAAAAAAAAAAAAAAAAAAAAAAAAAAAAAAAAAAAAAAAAAAAAAAAAAAAAAAAAAAAAAAAAAAAAAAAAAAAAAAAAAAAAAAAAADAW0AAAAAAACBkQAAAAAAAAAAAAAAAAAAAAAAAAAAAAAAAAAAAAAAAAAAAAAAAAAAAAAAAAAAAAAAAAAAAAAAAAAAAAAAAAAAAAAAAAAAAAAAAAAAAAAAAAAAAAAAAAAAAAAAAAAAAAAAAAAAAAAAAAAAAAAAAAAAAAAAAAAAAAAAAAAAAAAAAAAAAAAAAAAAAAAAAAAAAAAAAAAAAAAAAAAAAAAAAAAAAAAAAAAAAAAAAAAAAAAAAAAAAAAAAAAAAAAAAAAAAAAAAAAAAAAAAAAAAAAAAAAAAAAAAAAAAAAAAAAAAAAAAAAAAAAAAAAAAAAAAAAAAAAAAAAAAAAAAAAAAAAAAAAAAAAAAAAAAAAAAAAAAAAAAAAAAAAAAAAAAAAAAAAAAAAAAAAAAAAAAAAAAAAAAAAAAAAAAAAAAAAAAAAAAAAAAAAAAAAAAAAAAAAAAAAAAAAAAAAAAAAAAAAAAAAAAAAAAAAAAAAAAAAAAAAAAAAAAAAAAAAAAAAAAAAAAAAAAAAAAAAAAAAAAAAAAAAAAAADgYEAAAAAAAKBiQAAAAAAAAAAAAAAAAAAAAAAAAAAAAAAAAAAAAAAAAAAAAAAAAAAAAAAAAAAAAAAAAAAAAAAAAAAAAAAAAAAAAAAAAAAAAAAAAAAAAAAAAAAAAAAAAAAAAAAAAAAAAAAAAAAAAAAAAAAAAAAAAAAAAAAAAAAAAAAAAAAAAAAAAAAAAAAAAAAAAAAAAAAAAAAAAAAAAAAAAAAAAAAAAAAAAAAAAAAAAAAAAAAAAAAAAAAAAAAAAAAAAAAAAAAAAAAAAAAAAAAAAAAAAAAAAAAAAAAAAAAAAAAAAAAAAAAAAAAAAAAAAAAAAAAAAAAAAAAAAAAAAAAAAAAAAAAAAAAAAAAAAAAAAAAAAAAAAAAAAAAAAAAAAAAAAAAAAAAAAAAAAAAAAAAAAAAAAAAAAAAAAAAAAAAAAAAAAAAAAAAAAAAAAAAAAAAAAAAAAAAAAAAAAAAAAAAAAAAAAAAAAAAAAAAAAAAAAAAAAAAAAAAAAAAAAAAAAAAAAAAAAAAAAAAAAAAAAAAAAAAAAAAAAADAZUAAAAAAAIBeQAAAAAAAAAAAAAAAAAAAAAAAAAAAAAAAAAAAAAAAAAAAAAAAAAAAAAAAAAAAAAAAAAAAAAAAAAAAAAAAAAAAAAAAAAAAAAAAAAAAAAAAAAAAAAAAAAAAAAAAAAAAAAAAAAAAAAAAAAAAAAAAAAAAAAAAAAAAAAAAAAAAAAAAAAAAAAAAAAAAAAAAAAAAAAAAAAAAAAAAAAAAAAAAAAAAAAAAAAAAAAAAAAAAAAAAAAAAAAAAAAAAAAAAAAAAAAAAAAAAAAAAAAAAAAAAAAAAAAAAAAAAAAAAAAAAAAAAAAAAAAAAAAAAAAAAAAAAAAAAAAAAAAAAAAAAAAAAAAAAAAAAAAAAAAAAAAAAAAAAAAAAAAAAAAAAAAAAAAAAAAAAAAAAAAAAAAAAAAAAAAAAAAAAAAAAAAAAAAAAAAAAAAAAAAAAAAAAAAAAAAAAAAAAAAAAAAAAAAAAAAAAAAAAAAAAAAAAAAAAAAAAAAAAAAAAAAAAAAAAAAAAAAAAAAAAAAAAAAAAAAAAAAAAAAAAaEAAAAAAAEBaQAAAAAAAAAAAAAAAAAAAAAAAAAAAAAAAAAAAAAAAAAAAAAAAAAAAAAAAAAAAAAAAAAAAAAAAAAAAAAAAAAAAAAAAAAAAAAAAAAAAAAAAAAAAAAAAAAAAAAAAAAAAAAAAAAAAAAAAAAAAAAAAAAAAAAAAAAAAAAAAAAAAAAAAAAAAAAAAAAAAAAAAAAAAAAAAAAAAAAAAAAAAAAAAAAAAAAAAAAAAAAAAAAAAAAAAAAAAAAAAAAAAAAAAAAAAAAAAAAAAAAAAAAAAAAAAAAAAAAAAAAAAAAAAAAAAAAAAAAAAAAAAAAAAAAAAAAAAAAAAAAAAAAAAAAAAAAAAAAAAAAAAAAAAAAAAAAAAAAAAAAAAAAAAAAAAAAAAAAAAAAAAAAAAAAAAAAAAAAAAAAAAAAAAAAAAAAAAAAAAAAAAAAAAAAAAAAAAAAAAAAAAAAAAAAAAAAAAAAAAAAAAAAAAAAAAAAAAAAAAAAAAAAAAAAAAAAAAAAAAAAAAAAAAAAAAAAAAAAAAAAAAAAAAAABAbEAAAAAAAABRQAAAAAAAAAAAAAAAAAAAAAAAAAAAAAAAAAAAAAAAAAAAAAAAAAAAAAAAAAAAAAAAAAAAAAAAAAAAAAAAAAAAAAAAAAAAAAAAAAAAAAAAAAAAAAAAAAAAAAAAAAAAAAAAAAAAAAAAAAAAAAAAAAAAAAAAAAAAAAAAAAAAAAAAAAAAAAAAAAAAAAAAAAAAAAAAAAAAAAAAAAAAAAAAAAAAAAAAAAAAAAAAAAAAAAAAAAAAAAAAAAAAAAAAAAAAAAAAAAAAAAAAAAAAAAAAAAAAAAAAAAAAAAAAAAAAAAAAAAAAAAAAAAAAAAAAAAAAAAAAAAAAAAAAAAAAAAAAAAAAAAAAAAAAAAAAAAAAAAAAAAAAAAAAAAAAAAAAAAAAAAAAAAAAAAAAAAAAAAAAAAAAAAAAAAAAAAAAAAAAAAAAAAAAAAAAAAAAAAAAAAAAAAAAAAAAAAAAAAAAAAAAAAAAAAAAAAAAAAAAAAAAAAAAAAAAAAAAAAAAAAAAAAAAAAAAAAAAAAAAAAAAAAAAAADgbkAAAAAAAIBAQAAAAAAAAAAAAAAAAAAAAAAAAAAAAAAAAAAAAAAAAAAAAAAAAAAAAAAAAAAAAAAAAAAAAAAAAAAAAAAAAAAAAAAAAAAAAAAAAAAAAAAAAAAAAAAAAAAAAAAAAAAAAAAAAAAAAAAAAAAAAAAAAAAAAAAAAAAAAAAAAAAAAAAAAAAAAAAAAAAAAAAAAAAAAAAAAAAAAAAAAAAAAAAAAAAAAAAAAAAAAAAAAAAAAAAAAAAAAAAAAAAAAAAAAAAAAAAAAAAAAAAAAAAAAAAAAAAAAAAAAAAAAAAAAAAAAAAAAAAAAAAAAAAAAAAAAAAAAAAAAAAAAAAAAAAAAAAAAAAAAAAAAAAAAAAAAAAAAAAAAAAAAAAAAAAAAAAAAAAAAAAAAAAAAAAAAAAAAAAAAAAAAAAAAAAAAAAAAAAAAAAAAAAAAAAAAAAAAAAAAAAAAAAAAAAAAAAAAAAAAAAAAAAAAAAAAAAAAAAAAAAAAAAAAAAAAAAAAAAAAAAAAAAAAAAAAAAAAAAAAAAAAAAAAABQc0AAAAAAAAAqQAAAAAAAAAAAAAAAAAAAAAAAAAAAAAAAAAAAAAAAAAAAAAAAAAAAAAAAAAAAAAAAAAAAAAAAAAAAAAAAAAAAAAAAAAAAAAAAAAAAAAAAAAAAAAAAAAAAAAAAAAAAAAAAAAAAAAAAAAAAAAAAAAAAAAAAAAAAAAAAAAAAAAAAAAAAAAAAAAAAAAAAAAAAAAAAAAAAAAAAAAAAAAAAAAAAAAAAAAAAAAAAAAAAAAAAAAAAAAAAAAAAAAAAAAAAAAAAAAAAAAAAAAAAAAAAAAAAAAAAAAAAAAAAAAAAAAAAAAAAAAAAAAAAAAAAAAAAAAAAAAAAAAAAAAAAAAAAAAAAAAAAAAAAAAAAAAAAAAAAAAAAAAAAAAAAAAAAAAAAAAAAAAAAAAAAAAAAAAAAAAAAAAAAAAAAAAAAAAAAAAAAAAAAAAAAAAAAAAAAAAAAAAAAAAAAAAAAAAAAAAAAAAAAAAAAAAAAAAAAAAAAAAAAAAAAAAAAAAAAAAAAAAAAAAAAAAAAAAAAABBAAAAAAABAcUAAAAAAAAAcQAAAAAAAAAAAAAAAAAAAAAAAAAAAAAAAAAAAAAAAAAAAAAAAAAAAAAAAAAAAAAAAAAAAAAAAAAAAAAAAAAAAAAAAAAAAAAAAAAAAAAAAAAAAAAAAAAAAAAAAAAAAAAAAAAAAAAAAAAAAAAAAAAAAAAAAAAAAAAAAAAAAAAAAAAAAAAAAAAAAAAAAAAAAAAAAAAAAAAAAAAAAAAAAAAAAAAAAAAAAAAAAAAAAAAAAAAAAAAAAAAAAAAAAAAAAAAAAAAAAAAAAAAAAAAAAAAAAAAAAAAAAAAAAAAAAAAAAAAAAAAAAAAAAAAAAAAAAAAAAAAAAAAAAAAAAAAAAAAAAAAAAAAAAAAAAAAAAAAAAAAAAAAAAAAAAAAAAAAAAAAAAAAAAAAAAAAAAAAAAAAAAAAAAAAAAAAAAAAAAAAAAAAAAAAAAAAAAAAAAAAAAAAAAAAAAAAAAAAAAAAAAAAAAAAAAAAAAAAAAAAAAAAAAAAAAAAAAAAAAAAAAAAAAAAAAAAAAAAAAADBAAAAAAAAwcEAAAAAAAADwPwAAAAAAAAAAAAAAAAAAAAAAAAAAAAAAAAAAAAAAAAAAAAAAAAAAAAAAAAAAAAAAAAAAAAAAAAAAAAAAAAAAAAAAAAAAAAAAAAAAAAAAAAAAAAAAAAAAAAAAAAAAAAAAAAAAAAAAAAAAAAAAAAAAAAAAAAAAAAAAAAAAAAAAAAAAAAAAAAAAAAAAAAAAAAAAAAAAAAAAAAAAAAAAAAAAAAAAAAAAAAAAAAAAAAAAAAAAAAAAAAAAAAAAAAAAAAAAAAAAAAAAAAAAAAAAAAAAAAAAAAAAAAAAAAAAAAAAAAAAAAAAAAAAAAAAAAAAAAAAAAAAAAAAAAAAAAAAAAAAAAAAAAAAAAAAAAAAAAAAAAAAAAAAAAAAAAAAAAAAAAAAAAAAAAAAAAAAAAAAAAAAAAAAAAAAAAAAAAAAAAAAAAAAAAAAAAAAAAAAAAAAAAAAAAAAAAAAAAAAAAAAAAAAAAAAAAAAAAAAAAAAAAAAAAAAAAAAAAAAAAAAAAAAAAAAAAAAAAAAAElAAAAAAAAgbUAAAAAAAAAQQAAAAAAAAAAAAAAAAAAAAAAAAAAAAAAAAAAAAAAAAAAAAAAAAAAAAAAAAAAAAAAAAAAAAAAAAAAAAAAAAAAAAAAAAAAAAAAAAAAAAAAAAAAAAAAAAAAAAAAAAAAAAAAAAAAAAAAAAAAAAAAAAAAAAAAAAAAAAAAAAAAAAAAAAAAAAAAAAAAAAAAAAAAAAAAAAAAAAAAAAAAAAAAAAAAAAAAAAAAAAAAAAAAAAAAAAAAAAAAAAAAAAAAAAAAAAAAAAAAAAAAAAAAAAAAAAAAAAAAAAAAAAAAAAAAAAAAAAAAAAAAAAAAAAAAAAAAAAAAAAAAAAAAAAAAAAAAAAAAAAAAAAAAAAAAAAAAAAAAAAAAAAAAAAAAAAAAAAAAAAAAAAAAAAAAAAAAAAAAAAAAAAAAAAAAAAAAAAAAAAAAAAAAAAAAAAAAAAAAAAAAAAAAAAAAAAAAAAAAAAAAAAAAAAAAAAAAAAAAAAAAAAAAAAAAAAAAAAAAAAAAAAAAAAAAAAAAAAAAAwFJAAAAAAADgZ0AAAAAAAADwPwAAAAAAAAAAAAAAAAAAAAAAAAAAAAAAAAAAAAAAAAAAAAAAAAAAAAAAAAAAAAAAAAAAAAAAAAAAAAAAAAAAAAAAAAAAAAAAAAAAAAAAAAAAAAAAAAAAAAAAAAAAAAAAAAAAAAAAAAAAAAAAAAAAAAAAAAAAAAAAAAAAAAAAAAAAAAAAAAAAAAAAAAAAAAAAAAAAAAAAAAAAAAAAAAAAAAAAAAAAAAAAAAAAAAAAAAAAAAAAAAAAAAAAAAAAAAAAAAAAAAAAAAAAAAAAAAAAAAAAAAAAAAAAAAAAAAAAAAAAAAAAAAAAAAAAAAAAAAAAAAAAAAAAAAAAAAAAAAAAAAAAAAAAAAAAAAAAAAAAAAAAAAAAAAAAAAAAAAAAAAAAAAAAAAAAAAAAAAAAAAAAAAAAAAAAAAAAAAAAAAAAAAAAAAAAAAAAAAAAAAAAAAAAAAAAAAAAAAAAAAAAAAAAAAAAAAAAAAAAAAAAAAAAAAAAAAAAAAAAAAAAAAAAAAAAAAAAAAAAAFVAAAAAAADgZkAAAAAAAAAAAAAAAAAAAAAAAAAAAAAAAAAAAAAAAAAAAAAAAAAAAAAAAAAAAAAAAAAAAAAAAAAAAAAAAAAAAAAAAAAAAAAAAAAAAAAAAAAAAAAAAAAAAAAAAAAAAAAAAAAAAAAAAAAAAAAAAAAAAAAAAAAAAAAAAAAAAAAAAAAAAAAAAAAAAAAAAAAAAAAAAAAAAAAAAAAAAAAAAAAAAAAAAAAAAAAAAAAAAAAAAAAAAAAAAAAAAAAAAAAAAAAAAAAAAAAAAAAAAAAAAAAAAAAAAAAAAAAAAAAAAAAAAAAAAAAAAAAAAAAAAAAAAAAAAAAAAAAAAAAAAAAAAAAAAAAAAAAAAAAAAAAAAAAAAAAAAAAAAAAAAAAAAAAAAAAAAAAAAAAAAAAAAAAAAAAAAAAAAAAAAAAAAAAAAAAAAAAAAAAAAAAAAAAAAAAAAAAAAAAAAAAAAAAAAAAAAAAAAAAAAAAAAAAAAAAAAAAAAAAAAAAAAAAAAAAAAAAAAAAAAAAAAAAAAAAAAAAAAAAAAF5AAAAAAADgY0AAAAAAAAAAAAAAAAAAAAAAAAAAAAAAAAAAAAAAAAAAAAAAAAAAAAAAAAAAAAAAAAAAAAAAAAAAAAAAAAAAAAAAAAAAAAAAAAAAAAAAAAAAAAAAAAAAAAAAAAAAAAAAAAAAAAAAAAAAAAAAAAAAAAAAAAAAAAAAAAAAAAAAAAAAAAAAAAAAAAAAAAAAAAAAAAAAAAAAAAAAAAAAAAAAAAAAAAAAAAAAAAAAAAAAAAAAAAAAAAAAAAAAAAAAAAAAAAAAAAAAAAAAAAAAAAAAAAAAAAAAAAAAAAAAAAAAAAAAAAAAAAAAAAAAAAAAAAAAAAAAAAAAAAAAAAAAAAAAAAAAAAAAAAAAAAAAAAAAAAAAAAAAAAAAAAAAAAAAAAAAAAAAAAAAAAAAAAAAAAAAAAAAAAAAAAAAAAAAAAAAAAAAAAAAAAAAAAAAAAAAAAAAAAAAAAAAAAAAAAAAAAAAAAAAAAAAAAAAAAAAAAAAAAAAAAAAAAAAAAAAAAAAAAAAAAAAAAAAAAAAAAAAAAAAIGNAAAAAAACAXkAAAAAAAAAAQAAAAAAAAAAAAAAAAAAAAAAAAAAAAAAAAAAAAAAAAAAAAAAAAAAAAAAAAAAAAAAAAAAAAAAAAAAAAAAAAAAAAAAAAAAAAAAAAAAAAAAAAAAAAAAAAAAAAAAAAAAAAAAAAAAAAAAAAAAAAAAAAAAAAAAAAAAAAAAAAAAAAAAAAAAAAAAAAAAAAAAAAAAAAAAAAAAAAAAAAAAAAAAAAAAAAAAAAAAAAAAAAAAAAAAAAAAAAAAAAAAAAAAAAAAAAAAAAAAAAAAAAAAAAAAAAAAAAAAAAAAAAAAAAAAAAAAAAAAAAAAAAAAAAAAAAAAAAAAAAAAAAAAAAAAAAAAAAAAAAAAAAAAAAAAAAAAAAAAAAAAAAAAAAAAAAAAAAAAAAAAAAAAAAAAAAAAAAAAAAAAAAAAAAAAAAAAAAAAAAAAAAAAAAAAAAAAAAAAAAAAAAAAAAAAAAAAAAAAAAAAAAAAAAAAAAAAAAAAAAAAAAAAAAAAAAAAAAAAAAAAAAAAAAAAAAAAAAAAAQGRAAAAAAABAXEAAAAAAAAAYQAAAAAAAAAAAAAAAAAAAAAAAAAAAAAAAAAAAAAAAAAAAAAAAAAAAAAAAAAAAAAAAAAAAAAAAAAAAAAAAAAAAAAAAAAAAAAAAAAAAAAAAAAAAAAAAAAAAAAAAAAAAAAAAAAAAAAAAAAAAAAAAAAAAAAAAAAAAAAAAAAAAAAAAAAAAAAAAAAAAAAAAAAAAAAAAAAAAAAAAAAAAAAAAAAAAAAAAAAAAAAAAAAAAAAAAAAAAAAAAAAAAAAAAAAAAAAAAAAAAAAAAAAAAAAAAAAAAAAAAAAAAAAAAAAAAAAAAAAAAAAAAAAAAAAAAAAAAAAAAAAAAAAAAAAAAAAAAAAAAAAAAAAAAAAAAAAAAAAAAAAAAAAAAAAAAAAAAAAAAAAAAAAAAAAAAAAAAAAAAAAAAAAAAAAAAAAAAAAAAAAAAAAAAAAAAAAAAAAAAAAAAAAAAAAAAAAAAAAAAAAAAAAAAAAAAAAAAAAAAAAAAAAAAAAAAAAAAAAAAAAAAAAAAAADwPwAAAAAAgGJAAAAAAADAVEAAAAAAAAAYQAAAAAAAAAAAAAAAAAAAAAAAAAAAAAAAAAAAAAAAAAAAAAAAAAAAAAAAAAAAAAAAAAAAAAAAAAAAAAAAAAAAAAAAAAAAAAAAAAAAAAAAAAAAAAAAAAAAAAAAAAAAAAAAAAAAAAAAAAAAAAAAAAAAAAAAAAAAAAAAAAAAAAAAAAAAAAAAAAAAAAAAAAAAAAAAAAAAAAAAAAAAAAAAAAAAAAAAAAAAAAAAAAAAAAAAAAAAAAAAAAAAAAAAAAAAAAAAAAAAAAAAAAAAAAAAAAAAAAAAAAAAAAAAAAAAAAAAAAAAAAAAAAAAAAAAAAAAAAAAAAAAAAAAAAAAAAAAAAAAAAAAAAAAAAAAAAAAAAAAAAAAAAAAAAAAAAAAAAAAAAAAAAAAAAAAAAAAAAAAAAAAAAAAAAAAAAAAAAAAAAAAAAAAAAAAAAAAAAAAAAAAAAAAAAAAAAAAAAAAAAAAAAAAAAAAAAAAAAAAAAAAAAAAAAAAAAAAAAAAAAAAAAAAAAAcQAAAAAAAAGFAAAAAAAAAWkAAAAAAAAAUQAAAAAAAAAAAAAAAAAAAAAAAAAAAAAAAAAAAAAAAAAAAAAAAAAAAAAAAAAAAAAAAAAAAAAAAAAAAAAAAAAAAAAAAAAAAAAAAAAAAAAAAAAAAAAAAAAAAAAAAAAAAAAAAAAAAAAAAAAAAAAAAAAAAAAAAAAAAAAAAAAAAAAAAAAAAAAAAAAAAAAAAAAAAAAAAAAAAAAAAAAAAAAAAAAAAAAAAAAAAAAAAAAAAAAAAAAAAAAAAAAAAAAAAAAAAAAAAAAAAAAAAAAAAAAAAAAAAAAAAAAAAAAAAAAAAAAAAAAAAAAAAAAAAAAAAAAAAAAAAAAAAAAAAAAAAAAAAAAAAAAAAAAAAAAAAAAAAAAAAAAAAAAAAAAAAAAAAAAAAAAAAAAAAAAAAAAAAAAAAAAAAAAAAAAAAAAAAAAAAAAAAAAAAAAAAAAAAAAAAAAAAAAAAAAAAAAAAAAAAAAAAAAAAAAAAAAAAAAAAAAAAAAAAAAAAAAAAAAAAAAAAAAAAAAA9QAAAAAAAQGNAAAAAAACAUEAAAAAAAAAcQAAAAAAAAAAAAAAAAAAAAAAAAAAAAAAAAAAAAAAAAAAAAAAAAAAAAAAAAAAAAAAAAAAAAAAAAAAAAAAAAAAAAAAAAAAAAAAAAAAAAAAAAAAAAAAAAAAAAAAAAAAAAAAAAAAAAAAAAAAAAAAAAAAAAAAAAAAAAAAAAAAAAAAAAAAAAAAAAAAAAAAAAAAAAAAAAAAAAAAAAAAAAAAAAAAAAAAAAAAAAAAAAAAAAAAAAAAAAAAAAAAAAAAAAAAAAAAAAAAAAAAAAAAAAAAAAAAAAAAAAAAAAAAAAAAAAAAAAAAAAAAAAAAAAAAAAAAAAAAAAAAAAAAAAAAAAAAAAAAAAAAAAAAAAAAAAAAAAAAAAAAAAAAAAAAAAAAAAAAAAAAAAAAAAAAAAAAAAAAAAAAAAAAAAAAAAAAAAAAAAAAAAAAAAAAAAAAAAAAAAAAAAAAAAAAAAAAAAAAAAAAAAAAAAAAAAAAAAAAAAAAAAAAAAAAAAAAAAAAAAAAAAAAAAAAcQAAAAAAAwF5AAAAAAAAAS0AAAAAAAAAuQAAAAAAAAAAAAAAAAAAAAAAAAAAAAAAAAAAAAAAAAAAAAAAAAAAAAAAAAAAAAAAAAAAAAAAAAAAAAAAAAAAAAAAAAAAAAAAAAAAAAAAAAAAAAAAAAAAAAAAAAAAAAAAAAAAAAAAAAAAAAAAAAAAAAAAAAAAAAAAAAAAAAAAAAAAAAAAAAAAAAAAAAAAAAAAAAAAAAAAAAAAAAAAAAAAAAAAAAAAAAAAAAAAAAAAAAAAAAAAAAAAAAAAAAAAAAAAAAAAAAAAAAAAAAAAAAAAAAAAAAAAAAAAAAAAAAAAAAAAAAAAAAAAAAAAAAAAAAAAAAAAAAAAAAAAAAAAAAAAAAAAAAAAAAAAAAAAAAAAAAAAAAAAAAAAAAAAAAAAAAAAAAAAAAAAAAAAAAAAAAAAAAAAAAAAAAAAAAAAAAAAAAAAAAAAAAAAAAAAAAAAAAAAAAAAAAAAAAAAAAAAAAAAAAAAAAAAAAAAAAAAAAAAAAAAAAAAAAAAAAAAAAAAAAAA5QAAAAAAAQGBAAAAAAABAUEAAAAAAAAAxQAAAAAAAAAAAAAAAAAAAAAAAAAAAAAAAAAAAAAAAAAAAAAAAAAAAAAAAAAAAAAAAAAAAAAAAAAAAAAAAAAAAAAAAAAAAAAAAAAAAAAAAAAAAAAAAAAAAAAAAAAAAAAAAAAAAAAAAAAAAAAAAAAAAAAAAAAAAAAAAAAAAAAAAAAAAAAAAAAAAAAAAAAAAAAAAAAAAAAAAAAAAAAAAAAAAAAAAAAAAAAAAAAAAAAAAAAAAAAAAAAAAAAAAAAAAAAAAAAAAAAAAAAAAAAAAAAAAAAAAAAAAAAAAAAAAAAAAAAAAAAAAAAAAAAAAAAAAAAAAAAAAAAAAAAAAAAAAAAAAAAAAAAAAAAAAAAAAAAAAAAAAAAAAAAAAAAAAAAAAAAAAAAAAAAAAAAAAAAAAAAAAAAAAAAAAAAAAAAAAAAAAAAAAAAAAAAAAAAAAAAAAAAAAAAAAAAAAAAAAAAAAAAAAAAAAAAAAAAAAAAAAAAAAAAAAAAAAAAAAAAAAAAAAAAA1QAAAAAAAAFpAAAAAAAAAT0AAAAAAAAAkQAAAAAAAAAAAAAAAAAAAAAAAAAAAAAAAAAAAAAAAAAAAAAAAAAAAAAAAAAAAAAAAAAAAAAAAAAAAAAAAAAAAAAAAAAAAAAAAAAAAAAAAAAAAAAAAAAAAAAAAAAAAAAAAAAAAAAAAAAAAAAAAAAAAAAAAAAAAAAAAAAAAAAAAAAAAAAAAAAAAAAAAAAAAAAAAAAAAAAAAAAAAAAAAAAAAAAAAAAAAAAAAAAAAAAAAAAAAAAAAAAAAAAAAAAAAAAAAAAAAAAAAAAAAAAAAAAAAAAAAAAAAAAAAAAAAAAAAAAAAAAAAAAAAAAAAAAAAAAAAAAAAAAAAAAAAAAAAAAAAAAAAAAAAAAAAAAAAAAAAAAAAAAAAAAAAAAAAAAAAAAAAAAAAAAAAAAAAAAAAAAAAAAAAAAAAAAAAAAAAAAAAAAAAAAAAAAAAAAAAAAAAAAAAAAAAAAAAAAAAAAAAAAAAAAAAAAAAAAAAAAAAAAAAAAAAAAAAAAAAAAAAAAAAAAA4QAAAAAAAwFFAAAAAAAAAR0AAAAAAAAA0QAAAAAAAAAhAAAAAAAAAAAAAAAAAAAAAAAAAAAAAAAAAAAAAAAAAAAAAAAAAAAAAAAAAAAAAAAAAAAAAAAAAAAAAAAAAAAAAAAAAAAAAAAAAAAAAAAAAAAAAAAAAAAAAAAAAAAAAAAAAAAAAAAAAAAAAAAAAAAAAAAAAAAAAAAAAAAAAAAAAAAAAAAAAAAAAAAAAAAAAAAAAAAAAAAAAAAAAAAAAAAAAAAAAAAAAAAAAAAAAAAAAAAAAAAAAAAAAAAAAAAAAAAAAAAAAAAAAAAAAAAAAAAAAAAAAAAAAAAAAAAAAAAAAAAAAAAAAAAAAAAAAAAAAAAAAAAAAAAAAAAAAAAAAAAAAAAAAAAAAAAAAAAAAAAAAAAAAAAAAAAAAAAAAAAAAAAAAAAAAAAAAAAAAAAAAAAAAAAAAAAAAAAAAAAAAAAAAAAAAAAAAAAAAAAAAAAAAAAAAAAAAAAAAAAAAAAAAAAAAAAAAAAAAAAAAAAAAAAAAAAAAAAAAAAA5QAAAAAAAwFRAAAAAAACASUAAAAAAAAAyQAAAAAAAABxAAAAAAAAAAAAAAAAAAAAAAAAAAAAAAAAAAAAAAAAAAAAAAAAAAAAAAAAAAAAAAAAAAAAAAAAAAAAAAAAAAAAAAAAAAAAAAAAAAAAAAAAAAAAAAAAAAAAAAAAAAAAAAAAAAAAAAAAAAAAAAAAAAAAAAAAAAAAAAAAAAAAAAAAAAAAAAAAAAAAAAAAAAAAAAAAAAAAAAAAAAAAAAAAAAAAAAAAAAAAAAAAAAAAAAAAAAAAAAAAAAAAAAAAAAAAAAAAAAAAAAAAAAAAAAAAAAAAAAAAAAAAAAAAAAAAAAAAAAAAAAAAAAAAAAAAAAAAAAAAAAAAAAAAAAAAAAAAAAAAAAAAAAAAAAAAAAAAAAAAAAAAAAAAAAAAAAAAAAAAAAAAAAAAAAAAAAAAAAAAAAAAAAAAAAAAAAAAAAAAAAAAAAAAAAAAAAAAAAAAAAAAAAAAAAAAAAAAAAAAAAAAAAAAAAAAAAAAAAAAAAAAAAAAAAAAAAAAAAAA1QAAAAAAAgFNAAAAAAAAAQUAAAAAAAAA3QAAAAAAAABhAAAAAAAAAAAAAAAAAAAAAAAAAAAAAAAAAAAAAAAAAAAAAAAAAAAAAAAAAAAAAAAAAAAAAAAAAAAAAAAAAAAAAAAAAAAAAAAAAAAAAAAAAAAAAAAAAAAAAAAAAAAAAAAAAAAAAAAAAAAAAAAAAAAAAAAAAAAAAAAAAAAAAAAAAAAAAAAAAAAAAAAAAAAAAAAAAAAAAAAAAAAAAAAAAAAAAAAAAAAAAAAAAAAAAAAAAAAAAAAAAAAAAAAAAAAAAAAAAAAAAAAAAAAAAAAAAAAAAAAAAAAAAAAAAAAAAAAAAAAAAAAAAAAAAAAAAAAAAAAAAAAAAAAAAAAAAAAAAAAAAAAAAAAAAAAAAAAAAAAAAAAAAAAAAAAAAAAAAAAAAAAAAAAAAAAAAAAAAAAAAAAAAAAAAAAAAAAAAAAAAAAAAAAAAAAAAAAAAAAAAAAAAAAAAAAAAAAAAAAAAAAAAAAAAAAAAAAAAAAAAAAAAAAAAAAAAAAAAAAAsQAAAAAAAgEhAAAAAAAAAP0AAAAAAAAAzQAAAAAAAAPA/AAAAAAAAAAAAAAAAAAAAAAAAAAAAAAAAAAAAAAAAAAAAAAAAAAAAAAAAAAAAAAAAAAAAAAAAAAAAAAAAAAAAAAAAAAAAAAAAAAAAAAAAAAAAAAAAAAAAAAAAAAAAAAAAAAAAAAAAAAAAAAAAAAAAAAAAAAAAAAAAAAAAAAAAAAAAAAAAAAAAAAAAAAAAAAAAAAAAAAAAAAAAAAAAAAAAAAAAAAAAAAAAAAAAAAAAAAAAAAAAAAAAAAAAAAAAAAAAAAAAAAAAAAAAAAAAAAAAAAAAAAAAAAAAAAAAAAAAAAAAAAAAAAAAAAAAAAAAAAAAAAAAAAAAAAAAAAAAAAAAAAAAAAAAAAAAAAAAAAAAAAAAAAAAAAAAAAAAAAAAAAAAAAAAAAAAAAAAAAAAAAAAAAAAAAAAAAAAAAAAAAAAAAAAAAAAAAAAAAAAAAAAAAAAAAAAAAAAAAAAAAAAAAAAAAAAAAAAAAAAAAAAAAAAAAAAAAAAAAAYQAAAAAAAADlAAAAAAAAAPEAAAAAAAAAxQAAAAAAAAAAAAAAAAAAAAAAAAAAAAAAAAAAAAAAAAAAAAAAAAAAAAAAAAAAAAAAAAAAAAAAAAAAAAAAAAAAAAAAAAAAAAAAAAAAAAAAAAAAAAAAAAAAAAAAAAAAAAAAAAAAAAAAAAAAAAAAAAAAAAAAAAAAAAAAAAAAAAAAAAAAAAAAAAAAAAAAAAAAAAAAAAAAAAAAAAAAAAAAAAAAAAAAAAAAAAAAAAAAAAAAAAAAAAAAAAAAAAAAAAAAAAAAAAAAAAAAAAAAAAAAAAAAAAAAAAAAAAAAAAAAAAAAAAAAAAAAAAAAAAAAAAAAAAAAAAAAAAAAAAAAAAAAAAAAAAAAAAAAAAAAAAAAAAAAAAAAAAAAAAAAAAAAAAAAAAAAAAAAAAAAAAAAAAAAAAAAAAAAAAAAAAAAAAAAAAAAAAAAAAAAAAAAAAAAAAAAAAAAAAAAAAAAAAAAAAAAAAAAAAAAAAAAAAAAAAAAAAAAAAAAAAAAAAAAAAAAAAAAAAAAIQAAAAAAAAD9AAAAAAAAAOEAAAAAAAAAAQAAAAAAAAAAAAAAAAAAAAAAAAAAAAAAAAAAAAAAAAAAAAAAAAAAAAAAAAAAAAAAAAAAAAAAAAAAAAAAAAAAAAAAAAAAAAAAAAAAAAAAAAAAAAAAAAAAAAAAAAAAAAAAAAAAAAAAAAAAAAAAAAAAAAAAAAAAAAAAAAAAAAAAAAAAAAAAAAAAAAAAAAAAAAAAAAAAAAAAAAAAAAAAAAAAAAAAAAAAAAAAAAAAAAAAAAAAAAAAAAAAAAAAAAAAAAAAAAAAAAAAAAAAAAAAAAAAAAAAAAAAAAAAAAAAAAAAAAAAAAAAAAAAAAAAAAAAAAAAAAAAAAAAAAAAAAAAAAAAAAAAAAAAAAAAAAAAAAAAAAAAAAAAAAAAAAAAAAAAAAAAAAAAAAAAAAAAAAAAAAAAAAAAAAAAAAAAAAAAAAAAAAAAAAAAAAAAAAAAAAAAAAAAAAAAAAAAAAAAAAAAAAAAAAAAAAAAAAAAAAAAAAAAAAAAAAAAAAAAAAAAAAAAAAAAAAAAAAAAAACJAAAAAAAAAIkA=\",\"dtype\":\"float64\",\"shape\":[50,50]}],\"xmax\":[36661.31507317639],\"xmin\":[29965.367441565188],\"ymax\":[0.001472491773055778],\"ymin\":[0.0012726396246137833]},\"selected\":{\"id\":\"3403\",\"type\":\"Selection\"},\"selection_policy\":{\"id\":\"3404\",\"type\":\"UnionRenderers\"}},\"id\":\"3184\",\"type\":\"ColumnDataSource\"}],\"root_ids\":[\"3224\"]},\"title\":\"Bokeh Application\",\"version\":\"1.2.0\"}};\n",
       "  var render_items = [{\"docid\":\"bba17d28-3843-4031-b78b-02c997e70e3d\",\"roots\":{\"3224\":\"342e54c1-c5bb-476d-810f-9789976b6c7f\"}}];\n",
       "  root.Bokeh.embed.embed_items_notebook(docs_json, render_items);\n",
       "\n",
       "  }\n",
       "  if (root.Bokeh !== undefined) {\n",
       "    embed_document(root);\n",
       "  } else {\n",
       "    var attempts = 0;\n",
       "    var timer = setInterval(function(root) {\n",
       "      if (root.Bokeh !== undefined) {\n",
       "        embed_document(root);\n",
       "        clearInterval(timer);\n",
       "      }\n",
       "      attempts++;\n",
       "      if (attempts > 100) {\n",
       "        console.log(\"Bokeh: ERROR: Unable to run BokehJS code because BokehJS library is missing\");\n",
       "        clearInterval(timer);\n",
       "      }\n",
       "    }, 10, root)\n",
       "  }\n",
       "})(window);"
      ],
      "application/vnd.bokehjs_exec.v0+json": ""
     },
     "metadata": {
      "application/vnd.bokehjs_exec.v0+json": {
       "id": "3224"
      }
     },
     "output_type": "display_data"
    }
   ],
   "source": [
    "bunch1 = h5['particles/final_particles']\n",
    "show(\n",
    "    column(\n",
    "        \n",
    "    bunch_plotting.plot_bunch_h5(bunch1, 'z', 'x', bins = 50, liveOnly=False),\n",
    "    bunch_plotting.plot_histogram_h5(bunch1, 'x', bins=100,liveOnly=False),\n",
    "    bunch_plotting.plot_bunch_h5(bunch1, 'z', 'pz', bins = 50, liveOnly=False),\n",
    "   # bunch_plotting.plot_bunch_current_profile(bunch1, bins=100, liveOnly=False)\n",
    "    \n",
    "    \n",
    "    ))"
   ]
  },
  {
   "cell_type": "code",
   "execution_count": null,
   "metadata": {},
   "outputs": [],
   "source": []
  }
 ],
 "metadata": {
  "kernelspec": {
   "display_name": "Python 3",
   "language": "python",
   "name": "python3"
  },
  "language_info": {
   "codemirror_mode": {
    "name": "ipython",
    "version": 3
   },
   "file_extension": ".py",
   "mimetype": "text/x-python",
   "name": "python",
   "nbconvert_exporter": "python",
   "pygments_lexer": "ipython3",
   "version": "3.7.3"
  }
 },
 "nbformat": 4,
 "nbformat_minor": 2
}
