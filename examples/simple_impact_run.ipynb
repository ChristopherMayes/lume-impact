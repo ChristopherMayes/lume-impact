{
 "cells": [
  {
   "cell_type": "code",
   "execution_count": 1,
   "metadata": {},
   "outputs": [],
   "source": [
    "# Useful for debugging\n",
    "%load_ext autoreload\n",
    "%autoreload 2"
   ]
  },
  {
   "cell_type": "markdown",
   "metadata": {},
   "source": [
    "# Simple Impact-T Run"
   ]
  },
  {
   "cell_type": "code",
   "execution_count": 2,
   "metadata": {},
   "outputs": [],
   "source": [
    "from impact import Impact"
   ]
  },
  {
   "cell_type": "code",
   "execution_count": 3,
   "metadata": {},
   "outputs": [],
   "source": [
    "ipath = '../templates/lcls_injector/'\n",
    "ifile = '../templates/lcls_injector/ImpactT.in'"
   ]
  },
  {
   "cell_type": "code",
   "execution_count": 4,
   "metadata": {},
   "outputs": [
    {
     "name": "stdout",
     "output_type": "stream",
     "text": [
      "/Users/chrisonian/Code/GitHub/lume-impact/templates/lcls_injector\n"
     ]
    }
   ],
   "source": [
    "I = Impact(ifile, verbose=True)"
   ]
  },
  {
   "cell_type": "code",
   "execution_count": 5,
   "metadata": {},
   "outputs": [],
   "source": [
    "# Change some things\n",
    "I.input['header']['Np'] = 30004\n",
    "I.input['header']['Nx'] = 16\n",
    "I.input['header']['Ny'] = 16\n",
    "I.input['header']['Nz'] = 16\n",
    "I.input['header']['Dt'] = 5e-13"
   ]
  },
  {
   "cell_type": "code",
   "execution_count": 6,
   "metadata": {},
   "outputs": [],
   "source": [
    "lat = I.input['lattice']\n",
    "stopeles = [e for e in lat if e['type']=='stop']\n",
    "stopeles[0]['s'] = 0.001"
   ]
  },
  {
   "cell_type": "code",
   "execution_count": 7,
   "metadata": {},
   "outputs": [
    {
     "name": "stdout",
     "output_type": "stream",
     "text": [
      "Loaded fort 30 : Fourth root of the fourth moments of the beam distribution\n",
      "Loaded fort 25 : RMS Y information\n",
      "Loaded fort 24 : RMS X information\n",
      "Loaded fort 26 : RMS Z information\n",
      "Loaded fort 28 : Load balance and loss diagnostics\n",
      "Loaded fort 29 : Cube root of third moments of the beam distribution\n",
      "Loaded fort 18 : Time and energy\n",
      "Loaded fort 27 : Max amplitude information\n",
      "Loaded fort 70 : Slice information of the final distribution\n",
      "Loaded fort 60 : Slice information of the initial distribution\n",
      "Loaded fort 40 : initial particle distribution at t = 0\n",
      "Loaded fort 50 : final particle distribution projected to the centroid location of the bunch\n"
     ]
    }
   ],
   "source": [
    "I.timeout = 1000\n",
    "I.run()"
   ]
  },
  {
   "cell_type": "code",
   "execution_count": null,
   "metadata": {},
   "outputs": [],
   "source": [
    "I.particles"
   ]
  },
  {
   "cell_type": "code",
   "execution_count": null,
   "metadata": {},
   "outputs": [],
   "source": [
    "I.tempdir"
   ]
  },
  {
   "cell_type": "code",
   "execution_count": null,
   "metadata": {},
   "outputs": [],
   "source": [
    "I.output['stats'].keys()"
   ]
  },
  {
   "cell_type": "code",
   "execution_count": null,
   "metadata": {},
   "outputs": [],
   "source": [
    "I.output['slice_info']"
   ]
  },
  {
   "cell_type": "markdown",
   "metadata": {},
   "source": [
    "# Plot"
   ]
  },
  {
   "cell_type": "code",
   "execution_count": 21,
   "metadata": {},
   "outputs": [
    {
     "data": {
      "application/javascript": [
       "\n",
       "(function(root) {\n",
       "  function now() {\n",
       "    return new Date();\n",
       "  }\n",
       "\n",
       "  var force = true;\n",
       "\n",
       "  if (typeof root._bokeh_onload_callbacks === \"undefined\" || force === true) {\n",
       "    root._bokeh_onload_callbacks = [];\n",
       "    root._bokeh_is_loading = undefined;\n",
       "  }\n",
       "\n",
       "  var JS_MIME_TYPE = 'application/javascript';\n",
       "  var HTML_MIME_TYPE = 'text/html';\n",
       "  var EXEC_MIME_TYPE = 'application/vnd.bokehjs_exec.v0+json';\n",
       "  var CLASS_NAME = 'output_bokeh rendered_html';\n",
       "\n",
       "  /**\n",
       "   * Render data to the DOM node\n",
       "   */\n",
       "  function render(props, node) {\n",
       "    var script = document.createElement(\"script\");\n",
       "    node.appendChild(script);\n",
       "  }\n",
       "\n",
       "  /**\n",
       "   * Handle when an output is cleared or removed\n",
       "   */\n",
       "  function handleClearOutput(event, handle) {\n",
       "    var cell = handle.cell;\n",
       "\n",
       "    var id = cell.output_area._bokeh_element_id;\n",
       "    var server_id = cell.output_area._bokeh_server_id;\n",
       "    // Clean up Bokeh references\n",
       "    if (id != null && id in Bokeh.index) {\n",
       "      Bokeh.index[id].model.document.clear();\n",
       "      delete Bokeh.index[id];\n",
       "    }\n",
       "\n",
       "    if (server_id !== undefined) {\n",
       "      // Clean up Bokeh references\n",
       "      var cmd = \"from bokeh.io.state import curstate; print(curstate().uuid_to_server['\" + server_id + \"'].get_sessions()[0].document.roots[0]._id)\";\n",
       "      cell.notebook.kernel.execute(cmd, {\n",
       "        iopub: {\n",
       "          output: function(msg) {\n",
       "            var id = msg.content.text.trim();\n",
       "            if (id in Bokeh.index) {\n",
       "              Bokeh.index[id].model.document.clear();\n",
       "              delete Bokeh.index[id];\n",
       "            }\n",
       "          }\n",
       "        }\n",
       "      });\n",
       "      // Destroy server and session\n",
       "      var cmd = \"import bokeh.io.notebook as ion; ion.destroy_server('\" + server_id + \"')\";\n",
       "      cell.notebook.kernel.execute(cmd);\n",
       "    }\n",
       "  }\n",
       "\n",
       "  /**\n",
       "   * Handle when a new output is added\n",
       "   */\n",
       "  function handleAddOutput(event, handle) {\n",
       "    var output_area = handle.output_area;\n",
       "    var output = handle.output;\n",
       "\n",
       "    // limit handleAddOutput to display_data with EXEC_MIME_TYPE content only\n",
       "    if ((output.output_type != \"display_data\") || (!output.data.hasOwnProperty(EXEC_MIME_TYPE))) {\n",
       "      return\n",
       "    }\n",
       "\n",
       "    var toinsert = output_area.element.find(\".\" + CLASS_NAME.split(' ')[0]);\n",
       "\n",
       "    if (output.metadata[EXEC_MIME_TYPE][\"id\"] !== undefined) {\n",
       "      toinsert[toinsert.length - 1].firstChild.textContent = output.data[JS_MIME_TYPE];\n",
       "      // store reference to embed id on output_area\n",
       "      output_area._bokeh_element_id = output.metadata[EXEC_MIME_TYPE][\"id\"];\n",
       "    }\n",
       "    if (output.metadata[EXEC_MIME_TYPE][\"server_id\"] !== undefined) {\n",
       "      var bk_div = document.createElement(\"div\");\n",
       "      bk_div.innerHTML = output.data[HTML_MIME_TYPE];\n",
       "      var script_attrs = bk_div.children[0].attributes;\n",
       "      for (var i = 0; i < script_attrs.length; i++) {\n",
       "        toinsert[toinsert.length - 1].firstChild.setAttribute(script_attrs[i].name, script_attrs[i].value);\n",
       "      }\n",
       "      // store reference to server id on output_area\n",
       "      output_area._bokeh_server_id = output.metadata[EXEC_MIME_TYPE][\"server_id\"];\n",
       "    }\n",
       "  }\n",
       "\n",
       "  function register_renderer(events, OutputArea) {\n",
       "\n",
       "    function append_mime(data, metadata, element) {\n",
       "      // create a DOM node to render to\n",
       "      var toinsert = this.create_output_subarea(\n",
       "        metadata,\n",
       "        CLASS_NAME,\n",
       "        EXEC_MIME_TYPE\n",
       "      );\n",
       "      this.keyboard_manager.register_events(toinsert);\n",
       "      // Render to node\n",
       "      var props = {data: data, metadata: metadata[EXEC_MIME_TYPE]};\n",
       "      render(props, toinsert[toinsert.length - 1]);\n",
       "      element.append(toinsert);\n",
       "      return toinsert\n",
       "    }\n",
       "\n",
       "    /* Handle when an output is cleared or removed */\n",
       "    events.on('clear_output.CodeCell', handleClearOutput);\n",
       "    events.on('delete.Cell', handleClearOutput);\n",
       "\n",
       "    /* Handle when a new output is added */\n",
       "    events.on('output_added.OutputArea', handleAddOutput);\n",
       "\n",
       "    /**\n",
       "     * Register the mime type and append_mime function with output_area\n",
       "     */\n",
       "    OutputArea.prototype.register_mime_type(EXEC_MIME_TYPE, append_mime, {\n",
       "      /* Is output safe? */\n",
       "      safe: true,\n",
       "      /* Index of renderer in `output_area.display_order` */\n",
       "      index: 0\n",
       "    });\n",
       "  }\n",
       "\n",
       "  // register the mime type if in Jupyter Notebook environment and previously unregistered\n",
       "  if (root.Jupyter !== undefined) {\n",
       "    var events = require('base/js/events');\n",
       "    var OutputArea = require('notebook/js/outputarea').OutputArea;\n",
       "\n",
       "    if (OutputArea.prototype.mime_types().indexOf(EXEC_MIME_TYPE) == -1) {\n",
       "      register_renderer(events, OutputArea);\n",
       "    }\n",
       "  }\n",
       "\n",
       "  \n",
       "  if (typeof (root._bokeh_timeout) === \"undefined\" || force === true) {\n",
       "    root._bokeh_timeout = Date.now() + 5000;\n",
       "    root._bokeh_failed_load = false;\n",
       "  }\n",
       "\n",
       "  var NB_LOAD_WARNING = {'data': {'text/html':\n",
       "     \"<div style='background-color: #fdd'>\\n\"+\n",
       "     \"<p>\\n\"+\n",
       "     \"BokehJS does not appear to have successfully loaded. If loading BokehJS from CDN, this \\n\"+\n",
       "     \"may be due to a slow or bad network connection. Possible fixes:\\n\"+\n",
       "     \"</p>\\n\"+\n",
       "     \"<ul>\\n\"+\n",
       "     \"<li>re-rerun `output_notebook()` to attempt to load from CDN again, or</li>\\n\"+\n",
       "     \"<li>use INLINE resources instead, as so:</li>\\n\"+\n",
       "     \"</ul>\\n\"+\n",
       "     \"<code>\\n\"+\n",
       "     \"from bokeh.resources import INLINE\\n\"+\n",
       "     \"output_notebook(resources=INLINE)\\n\"+\n",
       "     \"</code>\\n\"+\n",
       "     \"</div>\"}};\n",
       "\n",
       "  function display_loaded() {\n",
       "    var el = document.getElementById(null);\n",
       "    if (el != null) {\n",
       "      el.textContent = \"BokehJS is loading...\";\n",
       "    }\n",
       "    if (root.Bokeh !== undefined) {\n",
       "      if (el != null) {\n",
       "        el.textContent = \"BokehJS \" + root.Bokeh.version + \" successfully loaded.\";\n",
       "      }\n",
       "    } else if (Date.now() < root._bokeh_timeout) {\n",
       "      setTimeout(display_loaded, 100)\n",
       "    }\n",
       "  }\n",
       "\n",
       "\n",
       "  function run_callbacks() {\n",
       "    try {\n",
       "      root._bokeh_onload_callbacks.forEach(function(callback) {\n",
       "        if (callback != null)\n",
       "          callback();\n",
       "      });\n",
       "    } finally {\n",
       "      delete root._bokeh_onload_callbacks\n",
       "    }\n",
       "    console.debug(\"Bokeh: all callbacks have finished\");\n",
       "  }\n",
       "\n",
       "  function load_libs(css_urls, js_urls, callback) {\n",
       "    if (css_urls == null) css_urls = [];\n",
       "    if (js_urls == null) js_urls = [];\n",
       "\n",
       "    root._bokeh_onload_callbacks.push(callback);\n",
       "    if (root._bokeh_is_loading > 0) {\n",
       "      console.debug(\"Bokeh: BokehJS is being loaded, scheduling callback at\", now());\n",
       "      return null;\n",
       "    }\n",
       "    if (js_urls == null || js_urls.length === 0) {\n",
       "      run_callbacks();\n",
       "      return null;\n",
       "    }\n",
       "    console.debug(\"Bokeh: BokehJS not loaded, scheduling load and callback at\", now());\n",
       "    root._bokeh_is_loading = css_urls.length + js_urls.length;\n",
       "\n",
       "    function on_load() {\n",
       "      root._bokeh_is_loading--;\n",
       "      if (root._bokeh_is_loading === 0) {\n",
       "        console.debug(\"Bokeh: all BokehJS libraries/stylesheets loaded\");\n",
       "        run_callbacks()\n",
       "      }\n",
       "    }\n",
       "\n",
       "    function on_error() {\n",
       "      console.error(\"failed to load \" + url);\n",
       "    }\n",
       "\n",
       "    for (var i = 0; i < css_urls.length; i++) {\n",
       "      var url = css_urls[i];\n",
       "      const element = document.createElement(\"link\");\n",
       "      element.onload = on_load;\n",
       "      element.onerror = on_error;\n",
       "      element.rel = \"stylesheet\";\n",
       "      element.type = \"text/css\";\n",
       "      element.href = url;\n",
       "      console.debug(\"Bokeh: injecting link tag for BokehJS stylesheet: \", url);\n",
       "      document.body.appendChild(element);\n",
       "    }\n",
       "\n",
       "    for (var i = 0; i < js_urls.length; i++) {\n",
       "      var url = js_urls[i];\n",
       "      var element = document.createElement('script');\n",
       "      element.onload = on_load;\n",
       "      element.onerror = on_error;\n",
       "      element.async = false;\n",
       "      element.src = url;\n",
       "      console.debug(\"Bokeh: injecting script tag for BokehJS library: \", url);\n",
       "      document.head.appendChild(element);\n",
       "    }\n",
       "  };\n",
       "\n",
       "  function inject_raw_css(css) {\n",
       "    const element = document.createElement(\"style\");\n",
       "    element.appendChild(document.createTextNode(css));\n",
       "    document.body.appendChild(element);\n",
       "  }\n",
       "\n",
       "  var js_urls = [\"https://cdn.pydata.org/bokeh/release/bokeh-1.2.0.min.js\", \"https://cdn.pydata.org/bokeh/release/bokeh-widgets-1.2.0.min.js\", \"https://cdn.pydata.org/bokeh/release/bokeh-tables-1.2.0.min.js\", \"https://cdn.pydata.org/bokeh/release/bokeh-gl-1.2.0.min.js\"];\n",
       "  var css_urls = [\"https://cdn.pydata.org/bokeh/release/bokeh-1.2.0.min.css\", \"https://cdn.pydata.org/bokeh/release/bokeh-widgets-1.2.0.min.css\", \"https://cdn.pydata.org/bokeh/release/bokeh-tables-1.2.0.min.css\"];\n",
       "\n",
       "  var inline_js = [\n",
       "    function(Bokeh) {\n",
       "      Bokeh.set_log_level(\"info\");\n",
       "    },\n",
       "    \n",
       "    function(Bokeh) {\n",
       "      \n",
       "    },\n",
       "    function(Bokeh) {} // ensure no trailing comma for IE\n",
       "  ];\n",
       "\n",
       "  function run_inline_js() {\n",
       "    \n",
       "    if ((root.Bokeh !== undefined) || (force === true)) {\n",
       "      for (var i = 0; i < inline_js.length; i++) {\n",
       "        inline_js[i].call(root, root.Bokeh);\n",
       "      }} else if (Date.now() < root._bokeh_timeout) {\n",
       "      setTimeout(run_inline_js, 100);\n",
       "    } else if (!root._bokeh_failed_load) {\n",
       "      console.log(\"Bokeh: BokehJS failed to load within specified timeout.\");\n",
       "      root._bokeh_failed_load = true;\n",
       "    } else if (force !== true) {\n",
       "      var cell = $(document.getElementById(null)).parents('.cell').data().cell;\n",
       "      cell.output_area.append_execute_result(NB_LOAD_WARNING)\n",
       "    }\n",
       "\n",
       "  }\n",
       "\n",
       "  if (root._bokeh_is_loading === 0) {\n",
       "    console.debug(\"Bokeh: BokehJS loaded, going straight to plotting\");\n",
       "    run_inline_js();\n",
       "  } else {\n",
       "    load_libs(css_urls, js_urls, function() {\n",
       "      console.debug(\"Bokeh: BokehJS plotting callback run at\", now());\n",
       "      run_inline_js();\n",
       "    });\n",
       "  }\n",
       "}(window));"
      ],
      "application/vnd.bokehjs_load.v0+json": "\n(function(root) {\n  function now() {\n    return new Date();\n  }\n\n  var force = true;\n\n  if (typeof root._bokeh_onload_callbacks === \"undefined\" || force === true) {\n    root._bokeh_onload_callbacks = [];\n    root._bokeh_is_loading = undefined;\n  }\n\n  \n\n  \n  if (typeof (root._bokeh_timeout) === \"undefined\" || force === true) {\n    root._bokeh_timeout = Date.now() + 5000;\n    root._bokeh_failed_load = false;\n  }\n\n  var NB_LOAD_WARNING = {'data': {'text/html':\n     \"<div style='background-color: #fdd'>\\n\"+\n     \"<p>\\n\"+\n     \"BokehJS does not appear to have successfully loaded. If loading BokehJS from CDN, this \\n\"+\n     \"may be due to a slow or bad network connection. Possible fixes:\\n\"+\n     \"</p>\\n\"+\n     \"<ul>\\n\"+\n     \"<li>re-rerun `output_notebook()` to attempt to load from CDN again, or</li>\\n\"+\n     \"<li>use INLINE resources instead, as so:</li>\\n\"+\n     \"</ul>\\n\"+\n     \"<code>\\n\"+\n     \"from bokeh.resources import INLINE\\n\"+\n     \"output_notebook(resources=INLINE)\\n\"+\n     \"</code>\\n\"+\n     \"</div>\"}};\n\n  function display_loaded() {\n    var el = document.getElementById(null);\n    if (el != null) {\n      el.textContent = \"BokehJS is loading...\";\n    }\n    if (root.Bokeh !== undefined) {\n      if (el != null) {\n        el.textContent = \"BokehJS \" + root.Bokeh.version + \" successfully loaded.\";\n      }\n    } else if (Date.now() < root._bokeh_timeout) {\n      setTimeout(display_loaded, 100)\n    }\n  }\n\n\n  function run_callbacks() {\n    try {\n      root._bokeh_onload_callbacks.forEach(function(callback) {\n        if (callback != null)\n          callback();\n      });\n    } finally {\n      delete root._bokeh_onload_callbacks\n    }\n    console.debug(\"Bokeh: all callbacks have finished\");\n  }\n\n  function load_libs(css_urls, js_urls, callback) {\n    if (css_urls == null) css_urls = [];\n    if (js_urls == null) js_urls = [];\n\n    root._bokeh_onload_callbacks.push(callback);\n    if (root._bokeh_is_loading > 0) {\n      console.debug(\"Bokeh: BokehJS is being loaded, scheduling callback at\", now());\n      return null;\n    }\n    if (js_urls == null || js_urls.length === 0) {\n      run_callbacks();\n      return null;\n    }\n    console.debug(\"Bokeh: BokehJS not loaded, scheduling load and callback at\", now());\n    root._bokeh_is_loading = css_urls.length + js_urls.length;\n\n    function on_load() {\n      root._bokeh_is_loading--;\n      if (root._bokeh_is_loading === 0) {\n        console.debug(\"Bokeh: all BokehJS libraries/stylesheets loaded\");\n        run_callbacks()\n      }\n    }\n\n    function on_error() {\n      console.error(\"failed to load \" + url);\n    }\n\n    for (var i = 0; i < css_urls.length; i++) {\n      var url = css_urls[i];\n      const element = document.createElement(\"link\");\n      element.onload = on_load;\n      element.onerror = on_error;\n      element.rel = \"stylesheet\";\n      element.type = \"text/css\";\n      element.href = url;\n      console.debug(\"Bokeh: injecting link tag for BokehJS stylesheet: \", url);\n      document.body.appendChild(element);\n    }\n\n    for (var i = 0; i < js_urls.length; i++) {\n      var url = js_urls[i];\n      var element = document.createElement('script');\n      element.onload = on_load;\n      element.onerror = on_error;\n      element.async = false;\n      element.src = url;\n      console.debug(\"Bokeh: injecting script tag for BokehJS library: \", url);\n      document.head.appendChild(element);\n    }\n  };\n\n  function inject_raw_css(css) {\n    const element = document.createElement(\"style\");\n    element.appendChild(document.createTextNode(css));\n    document.body.appendChild(element);\n  }\n\n  var js_urls = [\"https://cdn.pydata.org/bokeh/release/bokeh-1.2.0.min.js\", \"https://cdn.pydata.org/bokeh/release/bokeh-widgets-1.2.0.min.js\", \"https://cdn.pydata.org/bokeh/release/bokeh-tables-1.2.0.min.js\", \"https://cdn.pydata.org/bokeh/release/bokeh-gl-1.2.0.min.js\"];\n  var css_urls = [\"https://cdn.pydata.org/bokeh/release/bokeh-1.2.0.min.css\", \"https://cdn.pydata.org/bokeh/release/bokeh-widgets-1.2.0.min.css\", \"https://cdn.pydata.org/bokeh/release/bokeh-tables-1.2.0.min.css\"];\n\n  var inline_js = [\n    function(Bokeh) {\n      Bokeh.set_log_level(\"info\");\n    },\n    \n    function(Bokeh) {\n      \n    },\n    function(Bokeh) {} // ensure no trailing comma for IE\n  ];\n\n  function run_inline_js() {\n    \n    if ((root.Bokeh !== undefined) || (force === true)) {\n      for (var i = 0; i < inline_js.length; i++) {\n        inline_js[i].call(root, root.Bokeh);\n      }} else if (Date.now() < root._bokeh_timeout) {\n      setTimeout(run_inline_js, 100);\n    } else if (!root._bokeh_failed_load) {\n      console.log(\"Bokeh: BokehJS failed to load within specified timeout.\");\n      root._bokeh_failed_load = true;\n    } else if (force !== true) {\n      var cell = $(document.getElementById(null)).parents('.cell').data().cell;\n      cell.output_area.append_execute_result(NB_LOAD_WARNING)\n    }\n\n  }\n\n  if (root._bokeh_is_loading === 0) {\n    console.debug(\"Bokeh: BokehJS loaded, going straight to plotting\");\n    run_inline_js();\n  } else {\n    load_libs(css_urls, js_urls, function() {\n      console.debug(\"Bokeh: BokehJS plotting callback run at\", now());\n      run_inline_js();\n    });\n  }\n}(window));"
     },
     "metadata": {},
     "output_type": "display_data"
    }
   ],
   "source": [
    "from bokeh.plotting import output_notebook\n",
    "from bokeh.plotting import show\n",
    "output_notebook(hide_banner=True)\n",
    "\n",
    "from bokeh.plotting import figure\n",
    "from bokeh.layouts import column, row\n",
    "from bokeh.models import ColumnDataSource, Range1d\n",
    "from impact.parsers import load_many_fort\n",
    "from impact.parsers import UNITS\n",
    "\n",
    "\n",
    "ds = ColumnDataSource(I.output['stats'])"
   ]
  },
  {
   "cell_type": "code",
   "execution_count": 22,
   "metadata": {},
   "outputs": [
    {
     "data": {
      "text/html": [
       "\n",
       "\n",
       "\n",
       "\n",
       "\n",
       "\n",
       "  <div class=\"bk-root\" id=\"1e216217-9264-4387-a435-a5a1f561df6f\" data-root-id=\"1103\"></div>\n"
      ]
     },
     "metadata": {},
     "output_type": "display_data"
    },
    {
     "data": {
      "application/javascript": [
       "(function(root) {\n",
       "  function embed_document(root) {\n",
       "    \n",
       "  var docs_json = {\"88a538e7-f9f1-4ce8-8ba9-080308fd37c0\":{\"roots\":{\"references\":[{\"attributes\":{\"below\":[{\"id\":\"1112\",\"type\":\"LinearAxis\"}],\"center\":[{\"id\":\"1116\",\"type\":\"Grid\"},{\"id\":\"1121\",\"type\":\"Grid\"}],\"left\":[{\"id\":\"1117\",\"type\":\"LinearAxis\"}],\"plot_height\":200,\"renderers\":[{\"id\":\"1138\",\"type\":\"GlyphRenderer\"}],\"title\":{\"id\":\"1149\",\"type\":\"Title\"},\"toolbar\":{\"id\":\"1128\",\"type\":\"Toolbar\"},\"x_range\":{\"id\":\"1104\",\"type\":\"DataRange1d\"},\"x_scale\":{\"id\":\"1108\",\"type\":\"LinearScale\"},\"y_range\":{\"id\":\"1106\",\"type\":\"DataRange1d\"},\"y_scale\":{\"id\":\"1110\",\"type\":\"LinearScale\"}},\"id\":\"1103\",\"subtype\":\"Figure\",\"type\":\"Plot\"},{\"attributes\":{\"callback\":null,\"data\":{\"E_kinetic\":{\"__ndarray__\":\"ukp319lCSUAu9JYuEc+3PgdIHOSKVbg+J04zdi6xuT4S91Oc2T+8Pl0oyQuXHMA+vBmVC5/Pwj6NosJm1EnGPsRTrpMIs8o+sl1PiJ4W0D4rbilq8HLTPpqRWLAQf9c+pqhMIslX3D6Tz5d4XRvhPi8S82ZkouQ+5qBFBbLc6D4tqcUAKPftPk2Fsxe0CfI+2Ub8HNO09T5lGYokoRv6Pup1v53uYP8+q3sYIZXkAj8jku46gLUGP8Bf38qndgs/sLcpbyWgED/kut6OUTQUPwdS3VaGrhg/ILxFTS9VHj/OxM0FuNEiPzjVFpEVVCc/d+xpRH4vLT/uBktNHFwyP+oYjTFqCjc/OVFHIT78PD/+0Gw3zC1CP1BcyBg3hkY/seZ9wyrXSz+1+co+svJQPypv/hhXOVQ/hVDnywDQVz9dweR1paZbP4OzUsc1hV8/TzY5Cn2hYT8GxpVJAWhjP4VUXcGnEmU/wvA9H8akZj/nZSH1Ly1oP1iKIrS+uWk/5Lk6IIJTaz9hV+ddG/9sP1x6TE0PvW4/wmj/kDFIcD/whegYYDtxP0UkM6wcOXI/5JzqJrdBcz/qmW6yflV0P2E13YXCdHU/uQhIRtKfdj8WVEWJ/tZ3P/f1yBKZGnk/nuoXQ/Vqej85nq1NbMh7PzpZNxVaM30/RTMZThWsfj8LnCK/exmAP4QD2acu5IA/UlXYdFO2gT8FcAAsHJCCP9u/QH28cYM/pYKl2mlbhD9OZ87KW02FPydqZLXLR4Y/d/GVePRKhz/ZIFnhEleIP8eqzIpkbIk/BR7J+SOLij+W69UWirOLP7nj6lPQ5Yw/Ix4UijAijj9Vyrm05GiPP+oLomcTXZA//zp00N5GnD/nP9nRjtSmP5uMRhjoVbE/\",\"dtype\":\"float64\",\"shape\":[84]},\"GBx_centroid\":{\"__ndarray__\":\"FFgFa2wqPj+7gefK21TTPmC4yI7KVNM+dExUyL9U0z7T/MxC1FTTPsa6zNs+VdM+P/h9R21W0z7dctInTEDTPqhI/EbBydI+GrxIm+bA0j5pYccNos3SPkRWUySzy9M+8z6/FACk0z4D+I+ISQrVPtG0i+qdP9Q+AoymSqG01T7BcUUV697VPoOd23YsPtY+08Q8Z0/H1j7PU2nd0f7UPu7LttojCNQ+8atDyO012j48Bt2mQl/ZPt/I12+MDtk+g+OV1/u01j7qS0/MEOXXPulxylK/7dc+qMImXiOo1j6ol95mWKvLPgoFHon5DNI+afhcXasPtj7FspA+sY2wPg3Ih0oi55y+otgvFpy6tT6KrY9qp0C4PtJok/6jRHo+ZJDzn/UXw756xQaqUITQvpfdYaKnzNG+ag1lWv4J0L5Sj8Du1Ue8vsWeSM9S79G+cK8HW8x71L4oLNz+gpzXvu+hFWbVIdy+u4cQy6ZF375OJwYNC4XhvtsW76WY++O+0/4kwhR15r7q5DJjdyzpvs5ptxpw1uu+lPgSHhqB7r4c3d48baPwvh7f6S7+BfK+oq6VCxVj877wRB+9q7X0vqcv6lFR+PW+hBm7+1ol9750bATZAjf4vhA9OLt2J/m+6RAOugHx+b4oVjjEjIv6vpf1caxe7vq+Uxnt/0sT+75sU5r+V/n6vhgqibC3ofq+8I+jgr4M+r5C0Bf5fzr5vnAHR5UzLPi+eMybo5Pi9r7ZCoTQRmD1vp4rsM4Fp/O+CFrQqSa68b45yOFMYDrvvmSvn2dgpeq+SAksCnm65b43YoIoKIDgvtgjvlE8+NW+sJ/x+jPIxL4jByWqwpObPmbQ0kdkvcw+0XYjH453ED8EjpuGC2IkP/zLrE5FSTE/\",\"dtype\":\"float64\",\"shape\":[84]},\"GBx_max\":{\"__ndarray__\":\"TNo3rO5ucD9M2jes7m5wP0zaN6zubnA/TNo3rO5ucD9M2jes7m5wP0zaN6zubnA/TNo3rO5ucD9M2jes7m5wP0zaN6zubnA/TNo3rO5ucD9M2jes7m5wP0zaN6zubnA/TNo3rO5ucD9M2jes7m5wP0zaN6zubnA/TNo3rO5ucD9M2jes7m5wP0zaN6zubnA/TNo3rO5ucD9nWEnC/iZxP2IF2WE1XnI/YE1g4T2zcz/U52lP8CV1P1lnUd//tXY/sqSl+FRjeD+y3FU1qEl6P/A551g7WXw/etVAt/uDfj+SVYs0Y2SAP3/M7a81k4E/x+iofvjNgj8woZDJExSEP9wNnfzoZIU/cmKJs5S/hj/AfAhjcSOIPzDgiJWhj4k/Ap/5fmUDiz9RWurmA36MP3ibrlys/o0/Az84DNeEjz8qW8s0/4eQP/hfGeEOUJE//KqjfYgakj8E3SngSOeSP4E9ODVWtpM/LIWyg1mHlD8LQyFYDlqVP2xfvPY3LpY/+eQNokgGlz9aQgn2CeeXP3R7tv/iyJg/11SzWqKrmT924KaDGI+aPzs2LXEXc5s/YEQfT3JXnD9D5+6g/TudPwqWZMmOIJ4/i/HH2PwEnz8xTRPhH+mfPxgNSchoZqA/+VX9bfbXoD+H4FCpJkmhP+6aFhDouaE/GhQPICoqoj/WaSMl3ZmiP7TXL5bxCKM/yNL+PEp7oz9/qI8b2fCjP06cN6nDZaQ/CUlD5vrZpD882IPFuE2lP+g1ZKYuxaU/AI7x7Og7pj/kM8Kj2bGmPx7mCnDzJqc/kbZCbymbpz/rUTeebw6oP1sjfbi2gKg/JZDdyObxqD/oShtG9WGpPzGP6N3Z0Kk/XqMaM996rz/YyNs1FAOyPwp1ClImvrM/\",\"dtype\":\"float64\",\"shape\":[84]},\"GBx_moment3\":{\"__ndarray__\":\"rotvqNemcz9VdcrwbE4QP2XZEFgEUBA/LQVCRGpSED9LytjffVAQP2+J0HSHPxA/F0uwQ5UPED96URBLhJwIPzX/1JpITxc/MT0PB1buGz+o/OXK3KMaP/Ao9Qp9ohw/YrXmqoZZHj//83oADFcYP6lK3CUY5xs/zjOw6u05Hz+3a+8KwVggP+CSqY3SVBk/qlquHdVAHT9tdH28gdkIP7gf15tqNAs/LIYpiv+DIT95tXhgtrIlP3rnqWoM6yg/a7RkQf9gLT9VtuHoq7wvP2s260JM5DA/5PIJLwWbMj96v26tf+s0P8LS5OCoGDc/lUOAYBVROT9Az7wIM0w7P4AFi2dyqD0/L2+VqpguPz+NW+Gs/3xAPwImCYzLyEE/WQyyAlrGQj918/anGblDP4AXtNPByEM/pO8RRcfRQj/h7rmozG09P6Q5U1ylGDg/cvzsGeQbOj8c63mjuTdDP81uqlNIekc/njyLVDRRSz+HjNFgW7BOPxCPJtFp2lA/FWiGvH1QUj+T157nvLdTP8bxVYjNG1U/vJPWNoF9Vj9Uiw3Au9pXP5UuNa2RN1k/yqiqv4KVWj/00XSC7vVbPyI380YOWl0/hOKGWO/CXj9NJXqX1hhgP5HX4Eyu02A/Cecn2YmSYT92Zv8W/VViP06rX2eOHmM/tMmRcXTsYz+J0wxTor9kP0ccp+rbl2U/YN45lut0Zj/mieMhjFZnP9uB3ytfPGg/U7mazxEmaT9Y/cFjJxNqP/9+1lggA2s/mLtpxmj1az8VebIUculsP/gW0dS93m0/yNVrYtjUbj/po8scRMtvP5Veqdy8YHA/dirCSI3bcD/88qeg8lVxP5XZNsG9z3E/df+81+4xeD9Ze1JA93l9P7UUPWX2r4A/\",\"dtype\":\"float64\",\"shape\":[84]},\"GBx_moment4\":{\"__ndarray__\":\"BqEDZS/ocD+foiy9KztTP8XCr6ErO1M/xcKvoSs7Uz+foiy9KztTPyFhDdAsO1M/s31FSC87Uz9CPEZFGTtTP/OEG/X7OlM/4US1vog6Uz+bpf7o/TlTP0+OihD6OFM/DnGZg/o3Uz+imeSVHTpTPxY++JMsPFM/8mCNJ4k7Uz8Lq81Hpj9TP4ZdJteMRFM/LU7FHZlNUz8Fs8F+ml5TP9NbKEbCcVM/EpwsDXKSUz+bbdF2CsFTP5IMj7ZXClQ/fziKW6V1VD/jfWPrPBpVP6zWRa70ClY/Yo3uubdWVz9gLVOgChBZP2hUCglyOls/fWvUARjoXT+Epq8jqolgP4mWqTrFWWI//Is6mGhnZD+fn+2Gaa5mP7HRPPdTIGk/3DV+sO7Jaz+j0gRh2ZJuP55NR7cXtXA/yX6hPRorcj/WY14s7KdzP2KcKBIfInU/ItRODpSUdj/7tulRbf53P98AKP8JYHk/fVzSCvC6ej+j1LtHmBN8P6490QzZbX0/jqP1lPXLfj+hjRGFZReAPzda/38Ey4A/bOykEwiBgT9Oxl846jiCPwK3xtW88oI/cYXNAmGugz8DbC0zuGuEP0FhksKjKoU/S8M/WAXrhT/bifpzvayGP4rwlK2sb4c/EKS4zrIziD8F4DdvsPiIP2KwLOKFvok/TwlVWBOFij8YzQdaOkyLP/Vmz8PbE4w/YaGm+9jbjD9JjpzOE6SNP6q2jLVubI4/MkrXGc00jz8CwPDLEv2PPwiSNfKSYpA/89tCHXfGkD+ozFgqKyqRPyNqfAiljZE/HtgDQ9zwkT9LQDrfyVOSP62ipxdotpI/k1gLGbMYkz/f8NHOqHqTP1IMi69I3JM/hIfqX/I8mT80ZqCfmqyeP/DjVqvwE6I/\",\"dtype\":\"float64\",\"shape\":[84]},\"GBx_rms\":{\"__ndarray__\":\"YduMntVlgj8GYBUFgH5NPzQgGeR/fk0/WkCcyH9+TT/n3xIbgH5NP/c9aoCBfk0/hhmNs4R+TT9Kig/IvX5NP+t0jRKffk0/WDxnnmt+TT+b4YtOgX1NP5p4pDeKfE0/sNbswhp7TT/TKyQMqH1NP1LwsJf+fk0/2J2psa9+TT+p4Fh8ioNNP82u9R1diE0/xeWcDcGRTT/4SZsCO6FNPxr24iDts00/bxJbUDHSTT8wZaXcAfNNPxSF6wd0I04/mjUK52BfTj8fdhqjPrlOPzYt/0xROU8/hAD8AcnmTz/ii3KJnGdQP6qExzivA1E/m5ThuzbbUT+BvuvyuO9SP1aFMyyAUVQ/Wkt/eqUIVj9r0pDhjyNYP2lr4U5ym1o/oFxZtXKOXT9jegsy5WZgP+uv9VLaHmI/XOULzufyYz9V2wX2nNxlP5CtSPsIxGc/81s3T7ydaT/P0L0bi2VrP38tnwwdGW0/WNkj/UK7bj+W2UmAfypwP1Te5d5X93A/8fXi+NvGcT+j32IwBJpyP2DMlqyKcHM/ZUjF6/BKdD9GhuCuGih1P2t2Y0xBCHY/OPXPvC3rdj/g3Y7UqdB3P8qJ47GAuHg/gSc1hH+ieT9+ufVndo56P2J7B2o6fHs/qDftKqdrfD+yqxa+oVx9P7WN1SMaT34/ROF0yA1Dfz+fs/vIQxyAP3IjZ4zPl4A/AXu+QjwUgT8tESvJoZGBP+CBdP4cEII//YeIZM6Pgj+G/pNE2RCDP3x1ZBRjk4M/pbONLJIXhD9rLGFtjJ2EP+3gg352JYU/v2QOQnOvhT8qC1fuojuGP62MofchyoY/H3j2QQhbhz/ukZOqae6HP8n9rtJUhIg/gxT1r9D6kD9YEHezDmCWPwcDsWct15s/\",\"dtype\":\"float64\",\"shape\":[84]},\"GBy_centroid\":{\"__ndarray__\":\"VJEGcMpsOz8de0toPpPRPqEkmhJJk9E+tXQsJ1mT0T6hmrDYeJPRPs5lKGWBk9E+5+oNofyS0T4OXe2YSIfRPucCWTNcedE+rn2bDbnI0D6H9sb9UxbRPsQtq851mdA+YefkyZaf0T7JXcRZ5erRPjEK68Yhi9Q+6A5epea41T6ovNXLMBfVPk2oxbm9GNY+C31wEALV1D78mnqulRvPPohWTMCGW9I+VCIxgx2w1T5yp6T+RSbTPq5sj0qBZdU+PMf+vawj2T5sJ8/qwt/VPqNmAxvs1dE+ShyZt+OG0T5iGKw0qv7VPiAJt801ftc+k1UunJbp0j50uD+t6eXXPkAj3exQcdE+12wozESvwD6y1fTg376hPjgFTG+u44C+cIS2Uri0zr4d8M63xQnTvu2JivG/wdq+O9soeF1A4L6J0XnpOzrkvvPcW6Ya0OO+TszV0aia5b4gJ1FLBrrjvt9cFoKngOe+tC5F65uv575Mtkd6OZvovsRgnXnpAum+Bn3CEfN16b6mDmiKJc7pvo6fXKmYduq+5tI6VjkV676ql1iDSNPrvkt39aFTmOy+/WpRUcNf7b6KgFe1giTuvkPgDR/U3+6+hhNgAGiJ777qaztqCAzwvmR3X8FxQPC+7q8oyM1b8L5qEhD7olfwvlOH+OaKL/C+Abxbl/G87741Ur62UbjuvsmZ7D5iQu2+KGxJt3BQ675vj8xqvNvovhzO/KNC4uW+z4TzKKZh4r4ezbkQ4aTcvl8K+jhgVtO+bZn0yq+lwb5oYusmh4ynPiKPDELIANA+RYDao6ll3j6qLqda/RHnPnjDkh2km+8+gw1LBXNn9D6xf5buzVT5PsR3TeMMlP4+NqCWX1fAID9IFzfxnPIwPxuQiLmbMzo/\",\"dtype\":\"float64\",\"shape\":[84]},\"GBy_max\":{\"__ndarray__\":\"pqPotVxscD+mo+i1XGxwP6aj6LVcbHA/pqPotVxscD+mo+i1XGxwP6aj6LVcbHA/pqPotVxscD+mo+i1XGxwP6aj6LVcbHA/pqPotVxscD+mo+i1XGxwP6aj6LVcbHA/pqPotVxscD+mo+i1XGxwP6aj6LVcbHA/pqPotVxscD+mo+i1XGxwP/S9VF1Yn3A/PorQjm99cT+sqSYs3HdyP79/QwWfj3M/9odnemLFdD8Qp0u74xh2P0CHj8VDinc/fFp1AZ4ZeT9s7Ii+2MZ6PxizZX2qkXw/hjBZwZh5fj93U31vmz6AP8osCSuxTYE/wDIMYptpgj/cYCYe0JGDP7gjewjTxYQ/c4CiqvAEhj85Hz6zm06HP5KJ9tlKrYg/U/X9ZCQsij+YDrQ67bSLP4QG4Vi3RI0/nDwti/7ajj8Omgf3nTuQPw9Bqmh5DJE/cRBM7NzfkT+k2CB/qLWSP+7yT57pjZM/LwCFYV1olD+Dg5IJxUSVP7kjTdDnIpY/8F0+6pMClz8uOM9NpeOXP+EFtu/2xZg/un8+J0OpmT8wdvCDW42aPyAHXXYTcps/jLuzCT9XnD/+2gRcszydP2V3b69GIp4/kFiuXhUNnz9ezQ6sO/qfP2H6CEO3c6A/c+GgukLqoD/JA0W3VGGhPx20Kecj2qE/+bcuqZhSoj9gkoj4oMqiPytbK6crQqM/aY8SGSi5oz/ZUr6ihi+kPxnbc7I3paQ/bAqUrywapT8yNLWkV46lP5ZGxHurAaY/mMRt9Rt0pj/ZYBYXneWmP9Bi4rwjVqc/EYMrZqXFpz990yQTGDSoP5AYtMVyoag/uhxWiKwNqT9YMxkrvXipP+UgQSGd4qk/UPE2cZ0/rz80x63aGcyxPws7c6zeo7M/\",\"dtype\":\"float64\",\"shape\":[84]},\"GBy_moment3\":{\"__ndarray__\":\"R2OJV20Icz8AVRiCfwAjP8TmjLVyACM/AHSiLGkAIz8cCV34WQAjP1LfbN0bACM/YyoPlIn/Ij+51eKMWtYiPwV58/vkISM/WN/XC4NRIz+S3sU89G4iP63mW4EHzCA/M0HTi20CID+T55xCVLUfP0wZEmTJDiA/hfA8VJRWID+9MMPObhccP355+87TIhk/EIN7qybyFz/I6YdFbKcWP9qOeQ1jHR0/z02t9SnXHj8SA7mNqlAVP9mXNHzsEBs/75cPJdjtIT9Nhrm0YtklPxytp5bSOCc/MgP5Vl3CKT/L6dbTid8sP5QHlvfUKzA/39qoVi/bLz91oZ2hv/wuP/Vt7r1XkSg/CpvD7qlHKz9DR7z7Y9czP2ok+wQtNDk/+ll68WeCQD/YbON8CFBDPw7cYLfCHUY/uX/bRacWST8b5QXGrQpMPz33kTMNSE4/JhScpkFkUD9oXBy7YktRPzbzL7sDklI/H/UilUyHUz88qDypU39UP/kCrRuTZ1U/jdWBi1BOVj87mbEJ7TNXP6ATya5wJlg/0c9qvlcfWT/+l6p+ZSFaP+DVQOTFKls/WUmnzhw7XD+WQ8KoAVJdP4uQZXnKbl4/zObika6QXz+7rqpiW1tgPxvoOkHd72A/uXzAjD2FYT9zfIBruBpiP2xpkG+fr2I/34GkgFJDYz8a8UAD+tRjP7Mi8CS+Y2Q/lQeNS9ruZD/DDn3dxHVlP5VxwOga+GU/EpOSC351Zj/xKj7RO+1mP4F3p4CRXmc/LrL+hvnIZz9jB7ENvitoP16chfA5hmg/XfoHsNDXaD+W3I1v+x9pP4kf6XBJXmk/1HoU9kGSaT+xOYcqdbtpP6zO0fZt2Wk/wKLtpHbpZD/fx9uOzMpuP+cSQtOPF3g/\",\"dtype\":\"float64\",\"shape\":[84]},\"GBy_moment4\":{\"__ndarray__\":\"84pVskSocD+ZULqV4kFTP5lQupXiQVM/mVC6leJBUz/lkMBe4kFTPzLRxifiQVM/mVC6leJBUz/K+tFYCUJTP7ddzSLZQVM/QxEtXlVCUz/kRzLrSUBTP+3vt/j+P1M/+fnfKPo+Uz8dALbi8EBTP17pmmAvQVM/quIdCqVCUz9VgJuAAERTP2V0U9G3SFM/JcE3cPdQUz+XXnIOZF5TPzWcR0Drc1M/N3mXeRWTUz/tKpllDMFTP6YrC+/BDlQ/s3LpyOODVD+Q74u5Fi5VP8w/yu02JlY/5D7sn8R7Vz/bFfDupUlZPxBnE5oDiFs/eSVEFrRLXj9Q1iPhf8pgP/3FYzM9qWI/i2kvbfvIZD+L+xSqUCJnPw9S8zrCp2k/sXnK4u1lbD9Q/+Z41kRvP/aOSXByGXE/G0TIkXebcj9KzsV7pyR0PzUkprdDq3U/SIuJhvIpdz+aIJCqsp94P9gnA3bjDHo/Gy/rKg5zez+OCz5+zNZ8P+Wsb2sJPH4/gOMoRRalfz9E1vvObYmAP6vPRWKKQoE/bBbagxH+gT/Pw+32d7uCP9+An0TOeoM/C+x8+vI7hD+zd2KwxP6EP4/pbnYiw4U/sVoD1euIhj9fMLUuAFCHP7DndQg/GIg/qYZqO4fhiD8xouBuuKuJP6sQRTexdoo/7+8YkFBCiz+y7AVDdg6MP70qgsUC24w/ev270danjT+yiCnd0nSOP9+WxU3YQY8/r8DZq2QHkD+P6+H2xG2QP8vy04r/05A/tS877Ac6kT+s9WkI05+RPwkbrYlWBZI/MXAYg4lqkj8a+2zGZM+SP8i7Mo7iM5M/6dtwwv6Xkz/Yrq34tvuTP7OlwGIKX5Q/IumbgJvPmT9OclrM3DefPxk+MdFxTKI/\",\"dtype\":\"float64\",\"shape\":[84]},\"GBy_rms\":{\"__ndarray__\":\"UhGRHBxsgj+5rNm51oZNP8ns2q7Whk0/52zdmNaGTT8VLeF31oZNPwbt34LWhk0/PGu6zNeGTT8qsizc6YZNP6FCfpQlhk0/RIMuR2qGTT/g66iq9YNNPxIYvDPBgk0/NHYkqTqBTT8r924qTINNP5PgfekrhE0/3keHi66FTT+GOaAxQ4ZNP8J1aOFni00/jxxvu5STTT9ju0ImpKBNP3jVLvFEtk0/Je9fwijNTT9TpKpKOu9NP2/SWI9lJU4/cN1UPdhuTj+08NaocMxOP4BdKYAGU08/O62suB8CUD+PVQ6RAX5QP1+MIpbWIFE/hJBUKND8UT9CJF/j3CFTPxbV6PYOjlQ/Ow8zoztiVj93mGmRKpdYP5OBKo+hLFs/YHDjlE05Xj+o/TXlusxgP3aufiW9k2I/Q7YNUtl4ZD8Uak5h03FmP5ksy+f+aWg/0PH8YulVaj/zzxroCy1sP5I5xdTl7m0/ArQ1M9adbz95XqXYHKJwP98svlUZdXE/XX/XzoxKcj8ZD87ipyNzP93sx5kqAHQ/WwWVH5bgdD+q/rjpxcN1P4Wf64P0qXY/nzafPOmSdz+9iRIObH54P1Psk5xGbHk/+IaVnURcej+tTFTNNU57P+hYL1TvQXw/rk3/K003fT/gv4nBNC5+P+38b6WWJn8/OeiOHjgQgD9JRnjC5Y2APyGlnmxfDIE/sVW+urWLgT+prSuD/guCP5EUGgpUjYI/1YChRNQPgz+XJZWEn5ODP/YD3o7XGIQ/GswQ256fhD9feva6FyiFP9OYq0djsoU/bKRJgqA+hj+9zOCK7MyGPy7WJgRhXYc/MQIb8RPwhz+h301wF4WIP6rTFBB5HIk//zS93fVGkT+XixldtZ2WP74hbv3dA5w/\",\"dtype\":\"float64\",\"shape\":[84]},\"GBz_centroid\":{\"__ndarray__\":\"OpM2VfdIyT+GFiypYDpgPy77r5vkU2A/SOll2taEYD91CblhQ89gP2sYNrFdLWE/u134EPeJYT+u4Inp2shhP9YGzw49DGI/W6UGnqxtYj+61flU6uJiP7jxUBcOZGM/uu0vtNvrYz9DKHv7FoVkP9i2/TLlMWU/SGi//Vb1ZT/JyVAOUOVmP1gXhU6g8Gc/5lghlwYmaT80SMFTyJVqPyzUJSLGK2w/Q/BGhh8Tbj9pUY+UvBhwPwMH0zikbXE//ief4FL1cj/+QjkYhM50P50z2MssBnc/qNi6Uz/IeT8lPi0+AlF9P1pFUFT1tIA/RGodByxhgz+fy65d1beGP5uSsXyLvoo/9w60izS0jz8Nmyn2ldySP0PXyvP8Q5Y/62dt98tXmj+KM6+4ctWePwFl1+aUuqE/mS/8zpkupD8IVFjZ2bimP4NU4B1GLKk/xtTNLcNrqz+6GcTAoHCtP7Kw1VXpPa8/6utmNxRtsD+r3HsgyC2xP8H+pAcp67E/YStmWTersj+/+57pCXGzP2y3BLBmPLQ/avhiZNMOtT+46f+3uuW1P2dJ96j8wbY/ElkJtV2jtz+jMFoNqom4P9H/+x64dLk/yzeyXWdkuj8flx9VoFi7P9uandpTUbw/PiVjjHpOvT8pQqhaJFC+P9NQo5BkVr8/cEBsZZkwwD/5AFHuRrjAP0zGMZI9QsE/1dfrxILOwT+jrCFpHl3CP8k4iM4Z7sI/17EAXH+Bwz/LlN5QWxfEP00L4iy6r8Q/Az/Lb6hKxT85BsfZMujFP5ENg31kiMY/wng4Rz4rxz/hvkhHvdDHPx3Im3jeeMg/Mrj/K58jyT/2I8mc/NDJP0KgTAb0gMo/JWaL3oiy0j+ZsGgAkA/ZP3RXn0ASFeA/\",\"dtype\":\"float64\",\"shape\":[84]},\"GBz_max\":{\"__ndarray__\":\"r7X3qSo0YD+UNhre+pl3PxVyWRDAiYU/XjafEo5bjz9MN0cljp+UP5S3vnAwmZk/jxsyqZebnj8T7SAyidOhP3eO9K7pXaQ/BJ6f1Q7upj9Q8XiNb4WpP8VMHCUhJKw/nz8AuHjJrj9NL6Pr0bqwPy4lCq5rFLI/d/tJCJhxsz+b85jwZ9K0P7F40D0CN7Y/rO9hzuqftz8MsrZAugy5P/OtMPl2fbo/cN1iuBnyuz/Jn9qmmWq9Pz7XzmLv5r4/M54QU4UzwD9hiN7acPXAP6XuFLwyucE/YqEYUcF+wj8a0F6/WEbDP/Z0XCrCD8Q/D4rekOPaxD+FgJWmtafFP3zJMR8xdsY/l5Q3l01Gxz8bQfAZBRjIP+9d/4VQ68g/XcdVuCfAyT9pfR16g5bKP621IClcbss/PedVOqtHzD8RGC04aiLNPwLdj8KS/s0/ZwyUkB/czj9/cDYEZLvPPxhPbwwiTtA/3cG6t0O/0D/GdUKeEzHRPyZB8q2To9E/DJU9Ed0W0j/L0ICT0IrSP9s4IBFs/9I/Zrim5ax00z8JAlx3kOrTP3k8sXcUYdQ/uuRNuDbY1D+DIaPq9E/VP4UZIsBMyNU/QQ6MtDtB1j+Gl9hjv7rWP5kUvHTVNNc/nXNko3uv1z8L+TXMryrYP5fLoaBvptg/uS8M/bgi2T/padm9iZ/ZP/MUpN/fHNo/EpPDabma2j8H5NiblBnbP/ldIijImds/SQfSYnwa3D93IanHrpvcP8sIuZxcHd0/NMZ/aIOf3T9ID+jxICLeP4EoVhUzpd4/N+WnxLco3z9ywoTRrKzfPzcRoiGIGOA/CArVMPBa4D+OGvrEjZ3gPxzZbBdg4OA/HBTmoPiv5D91PbBn+KToP+q8fKE2wOw/\",\"dtype\":\"float64\",\"shape\":[84]},\"GBz_moment3\":{\"__ndarray__\":\"fzlp0Iayzz/PYgTapOMyP6N4ZahRT0o/y/5uOnhYVz+TywDJ1FphP4DFIehWcmc/nuxBpMHWbT/rAnAAdTtyP9Ont7D+sHU/bIljvClOeT9S48310BJ9P2YeOOjEfoA/ExKioeOIgj+mEdpC9a6EPy8TxMfH8YY/g8kTXDpTiT/rGY0/+9iLP7Ahua74g44/Jah3d7irkD86TxlY9yqSP6S6YkG/wZM/qIKWHf50lT8jl/2PU0GXP1zkfaAFNpk/CeRHOe5Nmz8ROVwvdpCdPxFeuPxSAqA/0QLQApZXoT8EzKxAVc6iP2xOgXMWW6Q/Z8vxvrUJpj9ISzntltWnP7wXjeyyrqk/vCOvQz+Xqz8DVbU6v3ytPy7CK4FISq8/mGuKLSh/sD+nLLdy/j+xP6DL6Ahf5rE/xH2BrOlysj9qy7ZcyOayP3FLg1mjSbM/X/IoXUamsz/FaLNwrQS0P7yChmE0abQ/p4Cn1f/VtD/B+Hu/V0i1P4mTF3O5vLU/F9uzzd4wtj8dymxqgqO2Pxic+4q5FLc/e8K5VuCDtz/hp3QnDfK3PwWIeKffXrg/epL/v23KuD/P/MAOyTS5P/vGW9f9nbk/i6mR6RIGuj9+pG9vCm26PxUXqg/i0ro/LJYqapM3uz8c+MVjDpu7P21+kQpC/bs/gPlcVChevD9g5vnbt728P4WMLgzkG70/5XSCy514vT+3hzGn09O9PyQ2q4BzLb4/BZiFuGqFvj8iTooDptu+P1ZwT8ISML8/T6sqLJ+Cvz+mt/36OtO/P7FKjuDrEMA/JTFSOTc3wD9z7n4ufVzAP6D/u5G7gMA/W44ddfCjwD/5cCQrGsbAP/tlpJw358A/xHx5AfZRwj9wCun4gQ7DP/Qq+I6WWsM/\",\"dtype\":\"float64\",\"shape\":[84]},\"GBz_moment4\":{\"__ndarray__\":\"8uNYrBuO0D8BugTRzFlBPwm3XamlgFY/D7hDRi00Yz/dZmpNjNBrP9Nh3zircXI/GCCXWQAqdz/gnlTsSQ98P0c5jtsMkIA/CVuCgHstgz96gDOg+uGFPzVgizuwrIg/8tkHRzOQiz/z3darApSOP20Ah2dB3JA/g01MAMZ/kj8/ogzMPzeUP+45Do4iA5Y/P1X8FATllz9/EejXzN2ZP3F/fKmi75s/6oT9wh4fnj8QgG4ePTSgP9nlcrtLbaE/UGzazO63oj9DWUlCWhekP2f+kRzCjqU/dKJQW5Ifpz9Z9X8vAc+oP6+RO6TMkao/6tGvCFlxrD99O8sk0WiuPzLlX6VkNLA/yr4AAqM5sT9Q51Ko4zuyP550L+tWM7M/pFQ0aWIgtD/h/CVgdvq0P0uoq/6ywrU/ow50sql6tj/TTNFzBiS3P4lsaTMjw7c/uwvRd3BduD+EOg2aW/a4P5xdQC3bjrk/Ut8JKJoouj+CZgA9R8O6P7t2UCbBXbs/EreOmkT3uz+qRchpHY+8Px1M1BxqJb0/0i867s65vT/aK6AOM02+P+ry3v9k374/ijfX1Ylwvz+fF/bNYADAP6kWz6gSSMA/94wry2OPwD/qxy5qWtbAP1Hf8Ir5HME/8PBkWEFjwT+pDhxEKanBP7AgKBKn7sE/jmJvGLszwj8s4BI+Y3jCPxBYe9CavMI/bLIlL1sAwz9d46+gm0PDP75/mClShsM/lYee93PIwz9ZQoh19AnEPxctvKLGSsQ/U4m6KN2KxD9EPyowKsrEP7rpZOOgCMU//2TGujxGxT/SUS90/ILFP9Xf+eLevsU/P3Qgb+L5xT9FdJ2ABTTGP1kneFRGbcY/8r2Wwkk7yT+K92+guErLP9lfl10Hucw/\",\"dtype\":\"float64\",\"shape\":[84]},\"GBz_rms\":{\"__ndarray__\":\"zammHHooyT+fKcOHMkIXP4uCIvgyxjI/V7jcAvUaQj+LbdqzHoVMP8P/DUpuDlQ/006M7llFWj/b1y7i/INgPxBleS2ZCWQ/Gu9CR6+lZz/+jjKwf29rP0vP/oTWam8/+xjNtH/RcT9M6/eM2RV0P9SSoFXsg3Y/hjn8D9sfeT/D4ujQ//B7P5N8cdU4/H4/gJyV1TkkgT/V8WWQJe2CP9VYkqEC3oQ/wJocoRMAhz/ks6eq8U6JP91939YV54s/mWaeghrDjj+c0+1rq/mQP5RHZfqNxZI/8qLNdifNlD8+a3dCwSKXP1YmnOAStZk/nlEEgkqmnD/KMkjq0vmfP4SdYtUgzKE/5Kh+0yvNoz/0oEoU9POlP34+whfDKKg/ux+UUCp8qj/TfO40NMasP3s26qKa8q4/aEupjeKDsD/vazbsfX6xP0ngIyPmYLI/fVUVt10qsz+pUjSIb96zPwQM6fXJf7Q/S8z/IJwTtT8dQ9fwup+1P+rH55TOJ7Y/kmW5U9ettj+RP//aTTK3Pyss8MlOtbc/YJwgMxU3uD9Y74nY1Le4PwcfO4m3N7k/qYRIAuS2uT9/9gI3ezW6P4PxuhuXs7o/69Sm+0oxuz99Ow1Bo667P+bL6qGmK7w/Y2hM81SovD9XZK7rmyS9P8y/juZloL0/S7bTObMbvj+EcSZcfpa+PyKesru8EL8/LjzM6l+Kvz8aBZhkqgHAP+QhIQTDPcA//TKU6m15wD8J6/ernbTAP3gUAEZE78A/NT56YFMpwT/bnVoivGLBP4Wqwclwm8E/wxzS4mvTwT9DHqB/qwrCPwws03EtQcI/RDSZde92wj+kWsDb7qvCP8dRkAop4MI/OGdEaW9wxT9cp3j5KVDHPxqykVZCmMg/\",\"dtype\":\"float64\",\"shape\":[84]},\"beta\":{\"__ndarray__\":\"MEOp3pb/7z+3hfyubk5jPwAAizuohGM/2jfF1C4OZD/rXgHlowdlP7TD48vZdWY/hJYMQN5EaD+26lcXx2pqPzJVdJDF6Ww/KAosNJu9bz/VByYABXNxP03t7dfbLXM/t0nrhYAQdT8tJRkiuCR3P+v4XUjvank/LpesSXnmez8un4e/T6F+P4Cux47XzYA/UDhvJwdvgj/ECXS4YjeEP4z2TaHAKYY/V6x89xBSiD8zGptL4amKP2aOkV5nUo0/MTaYebchkD/oXdssdciRP6h67SqIp5M/Im8KQrHJlT+2X66t7kSYP+rBD5T8BJs/xR72HDo4nj/sDHchYvKgP2VzIcuM+6I/1A+H+MlJpT8AqvXUo9anP/8HxUelh6o/fA0Djut8rT8LirmApEOwP5zv5+HywrE/5HGxn05Esz83l2TiK8G0P82YJMTMJrY/ZXsv6ehrtz9/euAhlJC4Py70GTQal7k//ThxpPmEuj8w2A3bFmW7P2o4nxlIQLw/3mgyqcIbvT+jRIXJ2Pm9PykTClOM2r4/68cm+RG/vz+RUn2l+1LAP+X+NP/5x8A/k5gU3YI+wT/ADUr7k7bBP+qfltUqMMI/fhnvO0Srwj+tYjsp3SfDP8XU6YLypcM/+VfiQ4ElxD8m/osUiKbEP7AUNPMFKcU/eyrpWfesxT+7J5NDWTLGP69r5lYpucY/CCD3pWVBxz9ldB8EDcvHP0onM1oeVsg/at9YJ5niyD8Bf51AfXDJPw8GAabK/8k/OyHwl4GQyj9I7l1BoiLLP5DA3WEstss/r0q3Xx1LzD95pCwJceHMP77lfywjec0/Qa8m7C4Szj/gEh1Vj6zOP0s6DN4+SM8/5mp1g7I61D/rB0wSER/ZP2mSce+OCt4/\",\"dtype\":\"float64\",\"shape\":[84]},\"deltaGamma_rms\":{\"__ndarray__\":\"fZQRF4DXWEDVqmIAemCtPkoeLfetpLw+nxgf6bpk0D6S0D7DvoPfPpPvYybWaeo+qCkPqdsq9D6g7YJNJNz8Po+oz67ZuwM/S0X3x3gXCj8aua8rmc0QPxWfDgDLLRU/uIgMKXQ8Gj+fgptDVAwgP+g9MSyKayM/yzCfH6lIJz9fmV+2xLgrP7v4wanIZDA/XH1sNGxIMz8jOBddvpI2P+XRndTgTzo/QemBU4OXPj/6PlMet7ZBP+DTS3XJhEQ/oA940IC4Rz9dJQC1xWhLPxyLnb55rk8/TpZuHD5TUj95D1fcLUFVP9tJNxc1l1g/nvGMnNaEXD9BnhlY2YtgP+CNsGCOImM/nRcbuf0ZZj+DJOySKm5pP4DQGDy8Bm0/GWZd7peAcD9pCp6z3pdyP2gA+HJiuXQ/pWrLWRDsdj/LpsR7syl5P8h2kLBOYns/CmFFLyKPfT8j6ZoSV7F/PyVW59WX5YA/19vyipHwgT8H6Li++v2CP29KmrttEYQ/E1SwbSEthT/Q7c+MGFKGP8CIBPNagIc/Mdd0zXy4iD+4tSK96vmJP/i4q2EDRYs/Y6XV0tSZjD+3mOE3bPiNPy3yL6XVYI8/oPlnyY1pkD9fmCsHoyeRPzzhzH+t6pE/Qc4SnK6ykj/VrEpapX+TP+GI5uiOUZQ/X+UkImkolT9BS313MASWP1jS00Xf5JY/FUUDCW7Klz/55PYF07SYP1KONH4CpJk/IcQKwe6Xmj/wRPKQh5CbP9CNiOC6jZw/+oZNWnSPnT8U4xPqnZWeP3n7dokfoJ8/upcDVnFXoD8qb6pi6OCgP2XaniNpbKE/pz6aLuf5oT/soeWPVYmiP8i8HuSmGqM/7j4OHRfiqz8T+Cj7ZbKyP8LiEnVWc7c/\",\"dtype\":\"float64\",\"shape\":[84]},\"gamma\":{\"__ndarray__\":\"VYmyt5T3WEDtiJ7vAgDwP+2Inu8CAPA/Im5OJQMA8D/yRdZ1AwDwP/gCDvwDAPA/mLIdnQQA8D9uR91zBQDwP3rBTIAGAPA/VRNE3QcA8D8BPcOKCQDwP30+yogLAPA/yRdZ1w0A8D+2oPfGEADwP6jmzTwUAPA/O9yzUxgA8D8+WTFcHQDwP7JdRlYjAPA/zc6idyoA8D9dhM4QMwDwPzRWUXI9APA/Ihyz7EkA8D+RoFPrWADwP41donprAPA/HRDXIIIA8D9/FxEgngDwP/yPp0DBAPA/dYjJZe0A8D979lymJgHwP0W/EThtAfA/jQNU3cgB8D+NJVHUPgLwP4/+l2vRAvA/cR3jiosD8D9s5F9wcgTwP/MaYIuCBfA/Dfihd88G8D+2weShSgjwP+QAsPDkCfA/h7sfXKYL8D/l0Mchhw3wPwQEzq1rD/A/RCucSUAR8D+0QBb9/BLwP/zwPW2eFPA/dI8R9ScW8D/s8CHypxfwP1tVQOsrGfA/vTz45Lwa8D92dLdGXxzwP4u5tZYTHvA/g4dp39wf8D94Emy3uCHwPxpBdFKpI/A/1t3hG68l8D/mipzPyifwP08F3PP8KfA/svyvKUYs8D+wICgSpy7wP4QTLGkgMfA/mZ8bmrIz8D/EWbZ7XjbwP6bxC68kOfA/egkE8AU88D/hUK7fAj/wPxVq8jkcQvA/U/e3ulJF8D/UmuYdp0jwP9X2ZR8aTPA/xZLNsKxP8D98A92oX1PwP87dU94zV/A/kbbxJypb8D/SByaSQ1/wP2VmsPOAY/A/u1koPuNn8D+rdk1Ia2zwP6VEtwMacfA/f1glR/B18D8PR1fp7nrwP8WX5NsWgPA//XDryVfd8D+O02sOa2XxP+ZciqvKHvI/\",\"dtype\":\"float64\",\"shape\":[84]},\"numparticles\":{\"__ndarray__\":\"AAAAAAB4p0AAAAAAkE8SQQAAAACQTxJBAAAAAJBPEkEAAAAAkE8SQQAAAACQTxJBAAAAAJBPEkEAAAAArEkSQQAAAADIKRJBAAAAAFTvEUEAAAAAVJ4RQQAAAACgQRFBAAAAABzYEEEAAAAA4FQQQQAAAADQgQ9BAAAAAOhADkEAAAAA8N8MQQAAAAAIcQtBAAAAAJD2CUEAAAAA+HUIQQAAAABY9QZBAAAAANBqBUEAAAAAiO8DQQAAAACYXwJBAAAAAADbAEEAAAAAELX+QAAAAADQvftAAAAAAODW+EAAAAAAoPf1QAAAAAAAZvNAAAAAACDu8EAAAAAAoFHtQAAAAACAZelAAAAAAIDm5UAAAAAAQOfiQAAAAADAfOBAAAAAAEDH3EAAAAAAQHTZQAAAAAAA79ZAAAAAAIDo1EAAAAAAwEzTQAAAAABAH9JAAAAAAABR0UAAAAAAwMvQQAAAAACAftBAAAAAAMBZ0EAAAAAAgEvQQAAAAABAR9BAAAAAAEBG0EAAAAAAwEXQQAAAAADARdBAAAAAAABF0EAAAAAAAEXQQAAAAAAARdBAAAAAAABF0EAAAAAAAEXQQAAAAAAARdBAAAAAAABF0EAAAAAAAEXQQAAAAAAARdBAAAAAAABF0EAAAAAAAEXQQAAAAAAARdBAAAAAAABF0EAAAAAAAEXQQAAAAAAARdBAAAAAAABF0EAAAAAAAEXQQAAAAAAARdBAAAAAAABF0EAAAAAAAEXQQAAAAAAARdBAAAAAAABF0EAAAAAAAEXQQAAAAAAARdBAAAAAAABF0EAAAAAAAEXQQAAAAAAARdBAAAAAAABF0EAAAAAAAEXQQAAAAAAARdBAAAAAAABF0EAAAAAAAEXQQAAAAAAARdBA\",\"dtype\":\"float64\",\"shape\":[84]},\"numparticles_max\":{\"__ndarray__\":\"AAAAAJBPEkEAAAAAkE8SQQAAAACQTxJBAAAAAJBPEkEAAAAAkE8SQQAAAACQTxJBAAAAAJBPEkEAAAAArEkSQQAAAADIKRJBAAAAAFTvEUEAAAAAVJ4RQQAAAACgQRFBAAAAABzYEEEAAAAA4FQQQQAAAADQgQ9BAAAAAOhADkEAAAAA8N8MQQAAAAAIcQtBAAAAAJD2CUEAAAAA+HUIQQAAAABY9QZBAAAAANBqBUEAAAAAiO8DQQAAAACYXwJBAAAAAADbAEEAAAAAELX+QAAAAADQvftAAAAAAODW+EAAAAAAoPf1QAAAAAAAZvNAAAAAACDu8EAAAAAAoFHtQAAAAACAZelAAAAAAIDm5UAAAAAAQOfiQAAAAADAfOBAAAAAAEDH3EAAAAAAQHTZQAAAAAAA79ZAAAAAAIDo1EAAAAAAwEzTQAAAAABAH9JAAAAAAABR0UAAAAAAwMvQQAAAAACAftBAAAAAAMBZ0EAAAAAAgEvQQAAAAABAR9BAAAAAAEBG0EAAAAAAwEXQQAAAAADARdBAAAAAAABF0EAAAAAAAEXQQAAAAAAARdBAAAAAAABF0EAAAAAAAEXQQAAAAAAARdBAAAAAAABF0EAAAAAAAEXQQAAAAAAARdBAAAAAAABF0EAAAAAAAEXQQAAAAAAARdBAAAAAAABF0EAAAAAAAEXQQAAAAAAARdBAAAAAAABF0EAAAAAAAEXQQAAAAAAARdBAAAAAAABF0EAAAAAAAEXQQAAAAAAARdBAAAAAAABF0EAAAAAAAEXQQAAAAAAARdBAAAAAAABF0EAAAAAAAEXQQAAAAAAARdBAAAAAAABF0EAAAAAAAEXQQAAAAAAARdBAAAAAAABF0EAAAAAAAEXQQAAAAAAARdBA\",\"dtype\":\"float64\",\"shape\":[84]},\"numparticles_min\":{\"__ndarray__\":\"AAAAAJBPEkEAAAAAkE8SQQAAAACQTxJBAAAAAJBPEkEAAAAAkE8SQQAAAACQTxJBAAAAAJBPEkEAAAAArEkSQQAAAADIKRJBAAAAAFTvEUEAAAAAVJ4RQQAAAACgQRFBAAAAABzYEEEAAAAA4FQQQQAAAADQgQ9BAAAAAOhADkEAAAAA8N8MQQAAAAAIcQtBAAAAAJD2CUEAAAAA+HUIQQAAAABY9QZBAAAAANBqBUEAAAAAiO8DQQAAAACYXwJBAAAAAADbAEEAAAAAELX+QAAAAADQvftAAAAAAODW+EAAAAAAoPf1QAAAAAAAZvNAAAAAACDu8EAAAAAAoFHtQAAAAACAZelAAAAAAIDm5UAAAAAAQOfiQAAAAADAfOBAAAAAAEDH3EAAAAAAQHTZQAAAAAAA79ZAAAAAAIDo1EAAAAAAwEzTQAAAAABAH9JAAAAAAABR0UAAAAAAwMvQQAAAAACAftBAAAAAAMBZ0EAAAAAAgEvQQAAAAABAR9BAAAAAAEBG0EAAAAAAwEXQQAAAAADARdBAAAAAAABF0EAAAAAAAEXQQAAAAAAARdBAAAAAAABF0EAAAAAAAEXQQAAAAAAARdBAAAAAAABF0EAAAAAAAEXQQAAAAAAARdBAAAAAAABF0EAAAAAAAEXQQAAAAAAARdBAAAAAAABF0EAAAAAAAEXQQAAAAAAARdBAAAAAAABF0EAAAAAAAEXQQAAAAAAARdBAAAAAAABF0EAAAAAAAEXQQAAAAAAARdBAAAAAAABF0EAAAAAAAEXQQAAAAAAARdBAAAAAAABF0EAAAAAAAEXQQAAAAAAARdBAAAAAAABF0EAAAAAAAEXQQAAAAAAARdBAAAAAAABF0EAAAAAAAEXQQAAAAAAARdBA\",\"dtype\":\"float64\",\"shape\":[84]},\"r_max\":{\"__ndarray__\":\"FNT49iipQz8U1Pj2KKlDPzda/cCAqUM/t1yeoaqqQz9Hn0B31KtDP6gh323+rEM/SwPu7SiuQz9C49mhVK9DPzAAhoaCsEM/X7hO1bOxQz/SKYr+6bJDP1uyipMmtEM/es8bYmu1Qz+NfgZOurZDP6PcjHcVuEM/wGZwBH+5Qz+dWWxR+bpDP+lRu8CGvEM/KSyU1Sm+Qz/ZJK0Y5b9DP2M4ux27wUM/NWNzeK7DQz+rYYnHwcVDPzrQMpn3x0M/ZIumcFLKQz/DT53A1MxDPwEa0fCAz0M/7QZ/TVnSQz98U2cHYNVDP63cykmX2EM/0F9xAwHcQz89OqMdn99DP5NpLlBz40M/lQtkN3/nQz89nhlJxOtDP7f/qNRD8EM/aW7wAv/0Qz/l6NHb9vlDP+gtM0Ys/0M/Yrz9B6AERD9t0x7GUgpEPzPyhBpFEEQ/DFgifncWRD9ghOpe6hxEP49WUDCeI0Q/Fi7JT5MqRD+MSkwKyjFEP6oLVJFCOUQ/RLHcBf1ARD9CW2R4+UhEP62pa+M3UUQ/qrx1K7hZRD9v9AYqemJEP08xpqJ9a0Q/p/NaU8J0RD/wOy/kR35EP7zqruwNiEQ/scDn8xOSRD95fueAWZxEP+IEP//dpkQ/N/3bTpiyRD8BDrAzU8BEP2vmp89kzkQ/l0fbUczcRD+/0uPYiOtEPzmpXW2Z+kQ/VUxkHf0JRT+R/RbWshlFP3o+lnm5KUU/rNAD3w86RT/wNYW8tEpFPwlQv82mW0U/2IBZuORsRT82inonbX5FPyJOzKo+kEU/jG733FeiRT+LrSc9t7RFPx3tBltbx0U/aS/CqkLaRT+L1gWma+1FP6rk/sDUAEY/WR482uAtRz/E6GLrloJIP/13M1mS8kk/\",\"dtype\":\"float64\",\"shape\":[84]},\"t\":{\"__ndarray__\":\"AAAAAAAAAACyR0AbCqFIPbJHQBsKoVg9xTVwlMd4Yj2yR0AbCqFoPZ5ZEKJMyW49xTVwlMd4cj27PtjX6Ix1PbJHQBsKoXg9qFCoXiu1ez2eWRCiTMl+PUoxvPK27oA9xTVwlMd4gj1AOiQ22AKEPbs+2NfojIU9NkOMefkWhz2yR0AbCqGIPS1M9LwaK4o9qFCoXiu1iz0jVVwAPD+NPZ5ZEKJMyY49DS/ioa4pkD1KMbzytu6QPYgzlkO/s5E9xTVwlMd4kj0DOErlzz2TPUA6JDbYApQ9fjz+huDHlD27PtjX6IyVPflAsijxUZY9NkOMefkWlz10RWbKAdyXPbJHQBsKoZg970kabBJmmT0tTPS8GiuaPWpOzg0j8Jo9qFCoXiu1mz3lUoKvM3qcPSNVXAA8P509YFc2UUQEnj2eWRCiTMmePdtb6vJUjp89DS/ioa4poD0rME/KMoygPUoxvPK27qA9aTIpGztRoT2IM5ZDv7OhPaY0A2xDFqI9xTVwlMd4oj3kNt28S9uiPQM4SuXPPaM9ITm3DVSgoz1AOiQ22AKkPV87kV5cZaQ9fjz+huDHpD2dPWuvZCqlPbs+2NfojKU92j9FAG3vpT35QLIo8VGmPRhCH1F1tKY9NkOMefkWpz1VRPmhfXmnPXRFZsoB3Kc9k0bT8oU+qD2yR0AbCqGoPdBIrUOOA6k970kabBJmqT0OS4eUlsipPS1M9LwaK6o9S01h5Z6Nqj1qTs4NI/CqPYlPOzanUqs9qFCoXiu1qz3HURWHrxesPeVSgq8zeqw9BFTv17fcrD0jVVwAPD+tPUJWySjAoa09YFc2UUQErj1/WKN5yGauPZ5ZEKJMya49Ylk3TVYksj30hWZJBuS0PYeylUW2o7c9\",\"dtype\":\"float64\",\"shape\":[84]},\"x_centroid\":{\"__ndarray__\":\"J68FXk/N675xIdSnNAGZPuMysjwfAZk+Nj9w+1cCmT4J/zQIFgSZPu1sRpZcBZk+faDDZqbgmD6FWOrCXpyYPkEk5q3lLZs+jyn3W/BVlz6wiZl8jcKcPuKLv5pMo5w+r8qQ4kSBoD6KyHwjQhmhPgIgbiXRTJw+RPBfkT6ypT4PBuNwl4SlPqtRmtR15bA+YJFE9ZtMrz6M9oJuf+WqPkR12VJjN6U+XWsPhBHEnj524KT2ZuiivuX1ubjN3aY+5/NUwHDnqD5+Ik+aHiKmPlS45CQuz6s+x3y6+w8joz6P47Er24uyPuyNa3/nSrA+nE6wsRPmtT54wHzAFW6iPjcAuSQCfLM+RVMYY8h7xz4Bi/pdLOXSvmkEtQRh2N6+/+mJXBGD9L5PrKdXzv3HPhBlA4qt776+N6ccGCPH676zckUGKNE1v/AqFywe58e+HZN9Y59Hwb6W6zUYZ+3dPlB6SOGeRQY/iiZ1Dq8T1z4PbKpzCQ7YPhCDPtwEirM+X4XO+adxyj5GX6g5RA7UPku7wGC+MdM+OpQLOahQ0z4QyJA9WGXTPjsnZWKXV9M+FBT/c3Zg0z6GGuQa4lrTPtJWUaIIWNM+8rJhp9BV0z74zYWVAlTTPlwZDHSWUtM+jqTS449R0z5ZX4WT+lDTPr6zcKniUNM+VK421k1R0z5kepdsOlLTPhETYIykU9M+CQAYXopV0z79LqVQ6lfTPovCRJbBWtM+wWsWCg5e0z4WHWSrymHTPrnQ5kn0ZdM+UfScrIVq0z7AbyUSem/TPpiZACDOdNM+7zrgIn160z7C627kgIDTPh7c0EfUhtM+1g9WjXSN0z4XArN8YZTTPvxi86CZm9M+axlyXeoo1D4t03WzXwjVPgiHCYblJtY+\",\"dtype\":\"float64\",\"shape\":[84]},\"x_max\":{\"__ndarray__\":\"mmD/8R+pQz+aYP/xH6lDP5pg//EfqUM/mmD/8R+pQz+aYP/xH6lDP5pg//EfqUM/mmD/8R+pQz+aYP/xH6lDP5pg//EfqUM/mmD/8R+pQz+aYP/xH6lDP5pg//EfqUM/mmD/8R+pQz+aYP/xH6lDP5pg//EfqUM/mmD/8R+pQz+aYP/xH6lDP5pg//EfqUM/mmD/8R+pQz+aYP/xH6lDP5pg//EfqUM/mmD/8R+pQz/HAEXsTalDP7dkPnPsqUM/SwtQIaCqQz/AMCura6tDP0bRf9BRrEM/E4l+S1WtQz8plNP8eK5DP5HOq7+/r0M/RNQyeiyxQz89QZQSwrJDP8HxATiDtEM/F8KtmXK2Qz+qrkzLkrhDP+9TFFvmukM/eM48wW+9Qz/2ugBgMcBDPzg2nYMtw0M/S11UTGbGQz/tx+EkscpDP3kQbhH7z0M/1QPhaJnVQz/Gv4vHjdtDPw9iv8nZ4UM/wEjT1H7oQz8+ysMkDvBDP8ANz+Mj+UM/1BSpRZMCRD8n/8qGXAxEP5KsscJ/FkQ/Hb3d8/wgRD/fENEJ1CtEPxxIEdMEN0Q/KEMlE49CRD+Fopdsck5EP8VG9HauWkQ/pdDKqEJnRD/tgCtzLnREP5FYKiZxgUQ/i/hbDAqPRD/4gVda+JxEPwf2NTQ7q0Q/CdYSqNG5RD9d4wq5ushEP2l/u2T110Q/w8vFh4DnRD/2SUoEW/dEP677a6aDB0U/piJPL/kXRT+oQBlVuihFP4R3cMjFOUU/Jcl8KRpLRT9xN2YYtlxFP2mk1iSYbkU/C/J33r6ART9nQvXJKJNFP4q3+WvUpUU/jBOxQ8C4RT+QWEjF6stFP8UobV9S30U/WBRzzPcKRz/f3TFcs11IPwT5Irwx10k/\",\"dtype\":\"float64\",\"shape\":[84]},\"x_moment3\":{\"__ndarray__\":\"EAcUXZBLRj9mwaCPMLEGP1cRKjStsAY/pL5gA5+wBj9gQAGOQbAGP9vhOViorwY/9S4HszGjBj+r2Ln+WHQHPwrvPVhDlgY/bFTGJqSVNz/wAQrg2EkMP+4LJsKIeQc/flvJyG4tED9+rljewej+PhAi/GxRzDE/yTWTswkaBz92c3+05zoJPz+N42FXZi8/LTimr3MFCD+AKlJLLgUBPzqEKd3DXwo/JYs/kRrQAz9WR2sc05JwP2aoNIaUNgM/Vm5NcjPgJD+6Hl9mVsUnP2EYEurANk0/6J6BHTqqJj+2OhO+ddQ0P1m9KuVUDBE/yHH336kMUz8YS16LgIRdP1tolX/HFWo/o2WKZa27Vj9S4RYPEpJrP96ebRspx3s/ImZAB6dPjD82d7F+Zf1wP69rmsjjoWM/icLWiDpViT/c/UNdGCfJP77GAT732nI/SqpRcPp4gT9VhiysRrhyPyb4cffjPZs/8UXfC3G/Uz9CMFgwcWE6P/P1ot00O2M/UmvVXdj2Sj8DXjF08IAXPxl3yM12pRc/vP8UD3K/Fz+9serv/sQXPyZwYVVKwRc/90ds+3C9Fz/X+GY9urwXPyLTUUn6vBc/BeVPYJO9Fz/Hj1pRZL4XPzJ0IX1Vvxc/aJImWlTAFz+L04h/TMEXP/TRcPEqwhc/QQFaK+bCFz+vjw/AgcMXP2c8QIMHxBc/xON/sH7EFz8F4l+Z7sQXP/8q4QBgxRc/MoH4UtrFFz8q1ExqacYXP2/J8h4Xxxc/BTXPr/DHFz9BtnRsBMkXP8lWLtNdyhc/qYjX8AbMFz89Vsq/Cs4XPwwy7PRy0Bc/6sWrUEbTFz9EJSFGidYXP1RiSyRB2hc/lKy3CH5BGD+QY6NrAf4YP4li3HyL/xk/\",\"dtype\":\"float64\",\"shape\":[84]},\"x_moment4\":{\"__ndarray__\":\"DwYgammSUj9WcTm4/6g1P4DwJ1IAqTU/uq8X4QCpNT8S7wlaAak1PzBvDEQBqTU/Y6zRSAOpNT9mY4dgKfs1P/hq+YJxtTU/w3j9LXDeUD+DNhH2q9w1P4trK2rC1jU/xEUwpxAhNj9KCp/kqRA2P5+srDYFjkk/FDW0xYMANj9mm/18uSE2P60/cbbOUEY/gIlnQ/MYNj9qmGFo3DA2P2Z6d4zpPTY/Kzdq6BM3Nj90fmnV14iGP8CDGvFDiDY/KzNIHhXePj/nreNadNZAP3O6lS7QOGQ/GR58T3uzQj9ADCoIvRRLP0p2DlE53Tc/gkQISKohaD+Nm0cy5Wt1P6I+Z2G/RoA/Exnld2S1az+n42rSGK6AP36rA42KGZA/dTU/H+GLnz8xLWsU8j6PP/c26hrOuXY/hd6PmRPNnD/h62tdaoTcP7kPuOb5UIQ/oY8T1URnlT+QGTN/CE6GP7VWw2T7p64/RjcECBRqbD/lVhZvEt5OP/sUlUcWtHU/VKSoFn08Xj+pmiTdf9Q7P2YYnvr27zo/N4Nt3RrxOj8bcbtuDvI6P4sVBeo28zo/FUwIQST0Oj+nsWnrS/U6P7l6dR2I9jo/FtODZuf3Oj+V6kFqdfk6P9MxbT09+zo/RprUWkn9Oj9wVUgypP86PxXWskxXAjs/AlI+AmoFOz8KQCrw4gg7PxCYzO3HDDs/pFOenh0ROz+IbTHK5xU7P8phM0YpGzs/kS1oIuQgOz9ZTpssGic7P8MCsGHMLTs/GkqXRfs0Oz8vZE35pjw7P06R2EXPRDs/5tJWI3NNOz/Aqu1HkVY7P2mavZUoYDs/jqPp2DdqOz98R40fvnQ7P7PHx1a6fzs/IbfLbENNPD/XiPE14289P7IkEa511z4/\",\"dtype\":\"float64\",\"shape\":[84]},\"x_normemit\":{\"__ndarray__\":\"8TJHIyKE+T61gfAQ6V+QPpI9RXbpX5A+oHROo+lfkD40R9zm6V+QPpietWLqX5A+/PeFzvBfkD65XAtuK2SQPl2tggwCbZA+3EWdapqvkD74l3u8J4KQPr0l3cish5A+yySnD+OQkD7At2f04JmQPtBmXeHLw5A+ch8emI6jkD7ouDr/Hq6QPk8deg3Bz5A+AO6Yt8S7kD5HTCBY2suQPmFYh30y3pA+SWnJG970kD6ibPtH9NyiPq4Q1jOMN5E+PQyBDY1wkT4sNBJRXbeRPhDvyQEEbZQ+zXG6Pw+zkj4Iu5AYK2OTPk1ID5md4ZM+z1LEuBD0mD4J35gQD3mjPi3iXecBZKo+VymX/atsoj4DAPIA9su1PjaaiFEcesI+IxJaxeJS1T4l19R5LSjKPk7z7CIJtLg+2lrZ8IZ52j4WgnqQ+EEbPx4trJoA+8s+uMjkZb9u3D43B/nu7FTRPhrj3NX2qfM+dnPuRllgwT47O0Poq9u1PsGUci2QCcQ+rYsAFQqduT7+FQwZta+3PmXH5CbJqbg+LuSD/Oa6uT6hGdVnvM26PuUA2Ss947s+Xxdg3Kz5vD6/m/gaYxG+Prs36VlDKb8+DGoh9lIgwD5RT/l0Z6vAPlsaBul9NcE+8BaueTO+wT73Wuw6J0XCPskLmuH7ycI+KvoGbV1Mwz7Vrbg3AMzDPsZEVWWiSMQ+IvbGeg3CxD7uMlHwFDjFPutc9zyXqsU++KFItHoZxj7azZTzqYTGPkf9Aq0X7MY+7+hSPLxPxz7yWCKek6/HPqMRv46cC8g+l1L64dxjyD7TBCXGXbjIPk3fdJYnCck+8cxiIUJWyT7Jm6Ljs5/JPizeNRaC5ck+XyQtO3g5zD4XEZAgzS3LPumNw7f5Q8c+\",\"dtype\":\"float64\",\"shape\":[84]},\"x_rms\":{\"__ndarray__\":\"AznNpzOcZz/hl031D8QxPxtXPYQQxDE/v9Y1xhDEMT+gVjPcEMQxP/zWOpoQxDE/1M+kwRXEMT8jIQDmicgxP6E2qw400jE/W/3BMJUaMj8QKuHJ1OkxP/+EHUBr8DE/82pvR0z7MT9KxXAbggMyP+i9tVIxMDI/fi0o/noNMj9MQ05MEBYyP4+hcgaoNzI/5REEcFMcMj/Lf58teyQyP1RK2ZkYLTI/1qrI8HwzMj9yIYLM0SdEP8wSTNX3SjI/TTV06Z9kMj9zHNeNqnoyP/QHZsbm9zQ/NARFqhTSMj/+yNbX/f8yP4oQdkle1jI/yOEb70KJNj8828quaopAP7/tZ4Pc3UQ/1vCFIjkjOz8L3UbB5v9MP0zj0Ii9Q1Y/zZeMJHcYZz89aW3KuJFZP0I1kPSKI0Y/msea/wJCZT8bToL/+fKjP7rlIZZ/+1I/Z5L5BOfMYT8WiHQ5EmFUP2SI7uGjoXU/D/l62z+6Qj9JfAmqPrM3P9FursrXf0M/rsq5yvwMOT8ob8c76ZY2P3nXvybuiDY/u2egEPeJNj+E+0Y7oYo2P2hchCmeizY/bkb9TjiMNj+0GVvyEI02PwXspEXqjTY/E+bxE9WONj9zuigH2482P1bdUaAEkTY/psOE3FmSNj89otfD4pM2P6yub9qmlTY/FOGny6uXNj/xseIA95k2P3makV+NnDY/d5QyX3OfNj/LGlqxrKI2P93op6Q8pjY/sDrIGSaqNj+vDHCka642P+8bYl8PszY/seVkRBO4Nj/fp0zUeL02P6Cg8mNBwzY/a49LVm3JNj9e9FmV/M82P3nPHSHv1jY/nqCUD0XeNj+fp7qB/uU2P00kjJgb7jY/zXP7iOiMNz/blbds0Xk4P02KlmhZpTk/\",\"dtype\":\"float64\",\"shape\":[84]},\"x_twiss\":{\"__ndarray__\":\"+ddP+BSL4j6vz3F5qRnwvRayzR0DM/C9MRJy+61c8L3v/CJbY67wvcUORxM7U/G9UJEL0nCF8r2jfLlz4Y7yvWU4JjowA/u9H5WdYTWZAb5RiGdqj5QDvrW+afdfAAu+9BrvZKeSDr6pdaVcqYsRvjsH6zggnha+XFI43paVIL77kdGmSK8lvpTWp7DpDSq+Nn5UfKkALb5odnxd5joyvld6/7iLrDW+ZUNwX98LO747TZ7SXpY1vpkxk6JBVkS+2CVimJ1bSb4i+DrJ6J1Ovmpq+9xf21K+gQqkBuCgWL6nuEC/SnRevg3X7jXemGO+edxVbSgpab5R/lhvRRRwvkZf1BlHG3O+iubaeqvoeL4qL/6dRLJ9vkifDLxzVIK+3I7TjkLpgr79Nss+ZQ6Lvl+y9GqsKJG+2JL5W3gNlL562qrTEANqPk0TvPCI0Zu+kfnOQwMEn76AS9zBHA6gvpr/K/6QtZ6+NuBRYS+Por6hOI0kGY+jvi7LZ5M1aaS+Pr3cVAHIpb6TLvnB+6+mvoC1j+NIx6e+jTSJLeXoqL5LOQNPcROqvibFnCB5SKu+ro7skTyJrL4zP1KJztatvmbR/YisMq++ZWajBTZPsL5PhNrA4w2xvkSonPxI1rG++7eObVepsr6azazOBYizvn1IbT9Fc7S+WKoWIu5rtb72BoQiyHK2vvLu/2SDiLe+QBOuYLGtuL76y80Hy+K5vhHsFtUrKLu+kaKbKRl+vL4fWFpqzOS9vismBOhmXL++dux553tywL6MSJ/YPj/BvnhuFEx1FMK+Pdf4eQrywr5Jof0U4dfDviACUvHZxcS+BwFaUNK7xb7pk3MypbnGvjw7wLApv8e+A0Qoh36g1L4WTOjqPWrfvordkXJ5iuW+\",\"dtype\":\"float64\",\"shape\":[84]},\"y_centroid\":{\"__ndarray__\":\"A1KUtjIrCz8ROvbN5WmwPgGTu6rHabA+DtGyJa5psD42ctfIwWmwPphRiILpabA++NPsR2JpsD46FydBhIqwPkBXf4G4tbA+UT5AVc5xrT6Y6CC9/WywPoDgY20Bv6s+rsr8WEBCrD6W4i5tNXKkPvB/UshW06I+teKEA7Wapz7Ooa6Xo2uoPpi1sOuyBak+voN62cL3sD7ezMFlh0C0Pt1oegdmu7g+FN/PygIBtz5672GLgN/CPt0APHUvr7g+aVyLDeWguD7JlB6GeRG8PqCY+XTCRZ8+kbXxSZ0YwT7QDwe63s+/Pun59VbcsKs+x4dK3bxKoT5eBEoO3WeoPqZSYrtQm2u+/AuCkVo0xj7A+jEXXX7dPjQ+Z92WjfI+eDBeHQ82zb6PukeNF13nvjPslpoLAsY+7szk4iWyz75glOSws2gmPxclvMphHMM+r0IfNz8Rxr7VkIFPs3L4vsDv4lTxlwS/w+DisIbB5j4KIoV+QgjcPjwHJWI4feo+o5/iBaEy3j7LzwEPhR/bPixGjT+3I9o+n/chWjwR2j4VQZ1ljhLaPgmBiVBRAdo+Yk2E6rgB2j7bU8O57vrZPsSYPjrZ9tk+DHZEzcbz2T5K8azlWvHZPhMi/2Vu79k+m+NojO/t2T5JD79G1ezZPtF3SlIb7Nk+TRvjDsPr2T5EiDp11OvZPtiK3GFX7Nk+LdS3/1Dt2T7JiigRw+7ZPvXZ7uir8Nk+bHutggrz2T6qSv8L4/XZPke65Hs7+dk+f0T+SRT92T7Zw9JTcgHaPuB4R71aBto+UlIlldIL2j7u8GgV3BHaPpxWOt51GNo++SbSGaAf2j4wd4ZJWifaPmkpfsujL9o+BvsdM7Lg2j5uIakSvfnbPjO3YYKTad0+\",\"dtype\":\"float64\",\"shape\":[84]},\"y_max\":{\"__ndarray__\":\"N29Bh42nQz83b0GHjadDPzdvQYeNp0M/N29Bh42nQz83b0GHjadDPzdvQYeNp0M/N29Bh42nQz83b0GHjadDPzdvQYeNp0M/N29Bh42nQz83b0GHjadDPzdvQYeNp0M/N29Bh42nQz8maIZB8aZDP3a0xke6pkM/rhiAS86mQz9I6+5ckKdDP9kYdA9WqEM/lh/qrCCpQz/cna5j8alDP+ixHHjJqkM/y7mLT6qrQz9mU09wlaxDP1h8NZKMrUM/FhKJiJGuQz/kkRBNpq9DP+X4j+/MsEM/FSRImweyQz9EMHacWLNDPzT6VUrCtEM/m76iAUe2Qz8MmpQ66bdDPzGJ5VyruUM/w8hQxY+7Qz+I1ZLFmL1DP1HM6KnIv0M/E+oSoyHCQz/IrEtoGMVDP7zcQAGnyEM/sg4DUHnMQz/Fn9VpkdBDP4ihtEb31UM/e/9W7izdQz9IAmNMu+RDP87owDGj7EM/IFLdSOX0Qz9/nSgbgv1DP1JKlhZ6BkQ/Ptgefc0PRD/vZjuLfBlEP0d26VaHI0Q/TKap2u0tRD8ut3/1rzhEPyEJ8IDNQ0Q/l/yDKkZPRD8TMsaUGVtEPy0qw1FHZ0Q/neWJ3c5zRD9GJS2Tr4BEPwgKP9PojUQ/+7RW0nmbRD86RwvFYalEP/5h9smft0Q/mIYz7zLGRD9ldt83GtVEP+sSmotU5EQ/qZ2C1+DzRD9AeDvtvQNFP2VEaJPqE0U/00Mti2UkRT9amDCFLTVFP9ujGSdBRkU/N8iPFp9XRT9nR7zoRWlFP3CjySc0e0U/Ur5hY2iNRT8jWrAa4Z9FPwLZYcecskU/BP2h6JnFRT9eCJ/n1thFPzX9hThS7EU/jqQEopkZRz+lr+un9nVIPy/dXpt95kk/\",\"dtype\":\"float64\",\"shape\":[84]},\"y_moment3\":{\"__ndarray__\":\"P6rGMy3PUT80MPYz/0UHPyIHnI5mRgc/P4pc31FGBz9HrTyFXUYHP8dziNOrRgc/X8P0WSREBz+tU5HIqLYLP1CXW/9G/PI+f5oJWUq6Oj/1POEVolQGP61AOtcGeQQ/WvHeIR0SGD+E0alcXM1CP5yV3x0AeQ0/T0xMWmfn9j6+HMs3FlDgPj+1oxowmRQ/r1/VSPrfBT+hl5mY0E8IPzbrhu4Fpg4/9XZkoZ9mBj/lDWAsNFlhPw02oTjQzCM/Bp3irJnmBj+pn7ID0B8OP7MSdC268lI/c6mSl7RyIj+OfU91jAQ3P22TpSL/DB8/DOCqUAf6Kj9vd5ytpMQ4PwV57Jk0dVY/U9yP2AlPYj+GbFIp7B17P++fveaUAZU/nsPnFAV2iD+lVVD4POR1P4IBoq6epGM/iiKoAvx/cj9Ks3RjTIqzP/zsfA7XInU/tTYsDUXIbD9n+k2qezmPP5o1S94NXZs/8i7Jz+4aaT9eYUNhFJQ4P4xdEaoDAWM/8ZUqkfQ4Qz+ss8tXHhIKP3fgpg7f/RU/qxc6IuYKFj+FYt6kBP8VP8NhdNaMAhY/+AsNwb4FFj/NLbhcMwMWP2gTA8AxAhY/JLQt9b0BFj8DpW9qtgEWP5l7jZMLAhY/evsRo7ECFj8nL9kJoQMWP6FJEuvZBBY/gJ0DGlgGFj+L71DtDggWP9aAUGX0CRY/fD3gZgQMFj+Kbn6kQQ4WP7VU+tO0EBY/xX4KwmUTFj8KipbAURYWP7MWwhF0GRY/YINQT9IcFj/fhJZSayAWP5AdxmM9JBY/0J8ggkQoFj99WHSggCwWPyp0aYX2MBY/JW+y2qg1Fj/g3pGdmjoWP3ULcjDPPxY/f3JSXyi1Fj9N/qsfu5QXP+I9ZgbSyhg/\",\"dtype\":\"float64\",\"shape\":[84]},\"y_moment4\":{\"__ndarray__\":\"98K9YqjrUj+wB5LTS6k1PxeHhUFMqTU/6caBYkypNT8yxnLmTKk1P2yFYnVNqTU/6wIuQ0+pNT8jYC0DlL01P4V1ShEbzDU/6XlUkGgIUz/FWPcx6Mw1P1ZU0MLn1zU/RnJsXtznNz+pJIIfu6VaPzZHaVNoxDY/4EqzcHALNj8xxwBz2xk2P36MLOYW5DY/GbOwEuUbNj+5BmsNqiQ2P54//JgdOjY/gBVDEqM/Nj+nbDr9/p93P7g4v0MZVT0/9YPXwvUuOj8OSiKAfpQ2P28dSpL6Amg/g7tu1QyKPz+bCQ+RheJOP5zcLLQsxTk/jdsurRnJQj8GhwVh6L1TP9ctWKxVwmk/cLZ7qf87eD/7xhm7K1iQPx3UVez1D6k/iNNbmXaFnj9oMnTQS+OIP9UiwoGA3Hk/Fz/mMzuzhj/4ROixdxDFPxWwff4E4og/DkAoQHSHgD+ICALb9nqhP5J0W4+zyq4/bLAHikx2fD8xYvtTW7xNP5vYsQXMGXQ/T4fUv2shVj8ORMInrVY7P2R6OPyL6zo/Y08+l7/sOj+HJAkyIe46P5EUhDcT7zo/ZBHNISrwOj/mbXBTWPE6P/rlF8Og8jo/MKp/kA70Oj9jK2qkrPU6P5qancaF9zo/amnrW6T5Oj9VySPUEvw6P1stNoza/jo/84taYwICOz+mXN9ykAU7P2kYMcyJCTs/SLnSuvINOz/z+VQRzxI7P3tWZaUhGDs/QczMWuwdOz8B2VvTMCQ7P1u79QvwKjs/mXKLiCoyOz9A/hKh4Dk7P52ekh4SQjs/0RQiML5KOz9q4uG341M7P/WI8peBXTs/wIlv3pZnOz/fZW/FInI7P7LeDlAkfTs/UkCzcuVKPD+NDf+q5G09P64oFxQw1j4/\",\"dtype\":\"float64\",\"shape\":[84]},\"y_normemit\":{\"__ndarray__\":\"f+u7qq6L+T7iOKDhG2aQPmnUJPgbZpA+pYbi7BtmkD4sImcDHGaQPsD09EYcZpA+e26VASNmkD6t7hMGbmmQPo2/h+Hdc5A+rhlz0+XHkD5RdsDLz4OQPh8rB1WZipA+ODv1uE6VkD66MyOe6yiRPlQSEPoCpZA+FQisPRuokD4i8NjHTK6QPhfiyog9uJA+i1xKYy3AkD7kiTlYAcuQPq8Tw+ff3pA+ffChq8vzkD4ZjG4VtayYPsZ/42tyQ5E+eCWzP0Z5kT7mk2YSnrCRPpV9WbI7lZU+c8IOApykkj4q48kzJZKTPjXrULFKA5Q+LCWMg2dFlT45uR7HPBWZPnaWn0VeLaE++/RytzqJqT7eHL4dWpa+Pl+/yLm/cNk+QTtsbKmL0z5vcU8rO+PHPjBlSn5RRL0+O0g/DKeAzT6gBNnDTbAHP6GZZZ3MtM8+Ie1FyBElzj7O4jpLY/XmPi3TcagcTvQ+kpH6AShbyD6FlHqae0u2PoaTCgqe0MU+OPQ1o4kAuT6qXVJIvia4PrTDXvG/Lrk+Dvtrv9dFuj5cpf+kNF+7PiSEVrTyebw+NpvALQ+WvT5R5f3TF7O+Pu/agBQx0L8+ajA2sVN2wD7iq3qo3QPBPoB8fFxUkME+nMUdklQbwj5zxwVgfKTCPkYqMRNwK8M+Eodc996vwz6DNemDgjHEPgfkVnUfsMQ+1eIEYoMrxT5fy7okgqPFPm7LOMH6F8Y+QohyEtaIxj6IUNtNAPbGPv0MV7JsX8c+h1e4qRPFxz6TVoym7ybIPph9GKD+hMg+RIkK0kTfyD7nwKLgyTXJPjFiiv+UiMk+9VlinazXyT7pyjY8FSPKPhpoHqfSaso+i1E+l9bVzD4o8He+ytTLPqFUrsIt68c+\",\"dtype\":\"float64\",\"shape\":[84]},\"y_rms\":{\"__ndarray__\":\"bi2cd+adZz9yu8phw8UxP0T7xoLDxTE/RPvGgsPFMT/oer/Ew8UxP326thHExTE/XnH3o8rFMT/2y0uSUckxP1lycM8Y1TE/8X30MQMwMj+3GoiXtucxPwRe5OnO7zE/dXOtxlr8MT+T/JZPLJsyP+wGqqGbCzI/KWBW6Q4OMj9OO9UddxQyP2CHZeksHDI/M4UgrPYfMj8rLdNH/iMyP+HRMdmILDI/i46Ok7o1Mj8eZJ8/BGI6P5+eBVAAVzI/v+ReJjZlMj/+LPzRsGkyP6F6GLnUFjY/8FRu5ze1Mj9oW9QnWhczP39HelmE3DI/F4FeuP4nMz+lg+pzPEg1P3gjrFJAETs/D2VG+kxlQj+EsuHKiPRTP4JCiJ0F920/RNAd8Ly1ZD9skxO4ONRWP5ItNbwFhEk/ehxTpsInVz+yGuC8F+OQPwv/m3eZ6lQ/zIgr4Ed5Uj84Z150VBpqP3VXntLNtnU/uy07wvUhST/6zbrsIKc3Py1J35mJmEQ/Qm8Fk94NOD8bWIdhY4g2P4e8NfcUgTY/3cvEpkyCNj8ZSwLvj4M2P2pzGWlZhDY/qacqTBqFNj/Vd0cr9YU2P5J9iY7XhjY/5qih+MyHNj9q7YtY3og2P5v/VvgTijY/khQetHWLNj/6oPO0C402P6HaAVPdjjY/5bmoDfCQNj/rd1jVSJM2P1NOi0LslTY/YjfJdN6YNj/L7aI+I5w2PxWtuti9nzY/bnHAArGjNj9it2s6/6c2P+e7fLCqrDY/a7y9PbWxNj+rNv+DILc2P5FoFQTuvDY/olH2FR7DNj/g8aG5sMk2PwtJExum0DY/6VZFZv7XNj8cmzDdud82P1nVzrbY5zY/1Bps3qyGNz/8IN/bqXM4P6mB4S9unzk/\",\"dtype\":\"float64\",\"shape\":[84]},\"y_twiss\":{\"__ndarray__\":\"xRGqhS6j4j44nhjH06DxvUSdyGZbuvG9aEzk597j8b32fpfXMzbyvZ5tPfcd3PK9Vo0Z8ED8871j36SSTPX1vdQjxK2Lv/+9GGU7Xy5sAr6iygRW4yIGvqyOZdJ/8gi+sZWWT9nQC77QZlb1dl4Uvjo5G7s66hK+iLAYOkx/Fr7wTBcfwucdvlPEF7LtGiS+MZMwCvSJLL43iuKDNx4zvhL3QiihQje+jlT6IP/cPb732VQK6lpAvt/YpzE2JUa+6wb41ZlOS74vKYLqY/BQvhnJntn//FS+STF2vCi1Wr6TAi/vqHFgvkno9de4b2W+Q0PaNHXuar7yITPfIzFxvnL6eCAVhHW+clc6Ql+Reb5U1RBiGO2Bvh1B6X8uSoG+1+YIrz1kiL4Q0G/BQsePvhT7bdoKYpK+R8YgV8W6lb5+2qpRCw6Qvl+SnAdRN52+rIYpc2zln77tNkj1MyShvsU/52SCbqC+I6ORqNFXo75Serq1872kvlSc9YyCk6W+d0WhqdDlpr5nBfVwWe+nvjGiJ+JtE6m+DAyH8tVBqr6KP2LNXHmrvifgpBStu6y+BRQVI+EJrr6EGJUUIGWvvqF1vsJsZ7C+TKysiE8ksb5K8rYYE+qxvh7YRj+eubK+ClmcdeCTs75XPquxz3m0vpyraH9UbLW+JtsLTThstr6cKZzLK3q3vtPl/bvElri+Kn2V4YLCub43oEp02v26vteHZOUfSby+8q8Pe42kvb5nRckGVBC/vs9JRy5HRsC+MtFOzqIMwb63iYOoPdvBvnKIbO4PssK+Nct0EAWRw77AtZZ1AXjEvkofEnznZsW+2+J2wpZdxr6fikwi7lvHvuECWivIYci+YwlCZJnq1L6OCrmdOKPfvoBwes/OnuW+\",\"dtype\":\"float64\",\"shape\":[84]},\"z\":{\"__ndarray__\":\"RDZpWPu2LL+g5Hhd2ofBvhptEw4JqMC++u/8aHmMv75H/iETPsK9vujpP8rb7ru+AZzQNC0Rur4zzkZ5ODO4vpp8ndIxb7a+Jzqj0jW/tL5TSthE7xizvoBCyrWqa7G+l3MXE85qr77vLLTF9/6rvlyN7whVd6i+qyw+6enApL4EheQbY9Ggvq4HfyitFpm+zsj0XQtjj77XCHXnUOp0vt2He4mfKHo+kulgHFbskz5nsyFdL56hPo8qUNS8lqo+z8QMTbONsj7rENiAwdK4PjQLw6qqM8A+Jt1MmTvZxD4l4QmTFrLKPl8Kh0TT5NA+eDo7uAZq1T5wh5+hHyPbPjRZw8W+E+E+EuwLuW555T6AWvzzy9zqPuuhQo1wkfA+YE0YSQpd9D5ib8Tbe6L4Psz5F3mLMf0+0V8n6x8QAT/pC0GBAKsDP/LPIHRYQQY//JxfPBq3CD9PdcI+UwILP5d3py14Hw0/GDqjjJgUDz/bHhd2jHsQP/fq+KcqbRE/uLaZTldlEj8CcTLaEmcTP1xl94mVchQ/Y5lyzbqJFT8JJHRl3KoWP8Wn3HEt1xc/YmX/7O0OGT9PIpF3WlIaPwuom8asoRs/7VwGORz9HD+L9rho3mQeP+EszTcn2R8/UNw1AhWtID/0qW2SDHQhP1rbmj2UQSI/+UzUnMUVIz+kWzgHuvAjP4nk7JGK0iQ/18QXUlC7JT9/2dmIJKsmPxd/TLkgoic/+BGEkl6gKD/ibYgx+KUpPxtuVwsIsyo/UW3iAqnHKz95xQt/9uMsP07QsBIMCC4/LGenkgU0Lz8jcusc/zMwPyZRmHUI0jA/Mf7XGCx0MT9jZzPpdhoyP/b6NbP1xDI//jKmbn0uPj8+LpyXcLVGP4reKQ/+K1A/\",\"dtype\":\"float64\",\"shape\":[84]},\"z_centroid\":{\"__ndarray__\":\"RDZpWPu2LL+g5Hhd2ofBvhptEw4JqMC++u/8aHmMv75H/iETPsK9vujpP8rb7ru+AZzQNC0Rur4zzkZ5ODO4vpp8ndIxb7a+Jzqj0jW/tL5TSthE7xizvoBCyrWqa7G+l3MXE85qr77vLLTF9/6rvlyN7whVd6i+qyw+6enApL4EheQbY9Ggvq4HfyitFpm+zsj0XQtjj77XCHXnUOp0vt2He4mfKHo+kulgHFbskz5nsyFdL56hPo8qUNS8lqo+z8QMTbONsj7rENiAwdK4PjQLw6qqM8A+Jt1MmTvZxD4l4QmTFrLKPl8Kh0TT5NA+eDo7uAZq1T5wh5+hHyPbPjRZw8W+E+E+EuwLuW555T6AWvzzy9zqPuuhQo1wkfA+YE0YSQpd9D5ib8Tbe6L4Psz5F3mLMf0+0V8n6x8QAT/pC0GBAKsDP/LPIHRYQQY//JxfPBq3CD9PdcI+UwILP5d3py14Hw0/GDqjjJgUDz/bHhd2jHsQP/fq+KcqbRE/uLaZTldlEj8CcTLaEmcTP1xl94mVchQ/Y5lyzbqJFT8JJHRl3KoWP8Wn3HEt1xc/YmX/7O0OGT9PIpF3WlIaPwuom8asoRs/7VwGORz9HD+L9rho3mQeP+EszTcn2R8/UNw1AhWtID/0qW2SDHQhP1rbmj2UQSI/+UzUnMUVIz+kWzgHuvAjP4nk7JGK0iQ/18QXUlC7JT9/2dmIJKsmPxd/TLkgoic/+BGEkl6gKD/ibYgx+KUpPxtuVwsIsyo/UW3iAqnHKz95xQt/9uMsP07QsBIMCC4/LGenkgU0Lz8jcusc/zMwPyZRmHUI0jA/Mf7XGCx0MT9jZzPpdhoyP/b6NbP1xDI//jKmbn0uPj8+LpyXcLVGP4reKQ/+K1A/\",\"dtype\":\"float64\",\"shape\":[84]},\"z_max\":{\"__ndarray__\":\"RDZpWPu2LD+T9VtW/RDDPscfFZ+PxcU+8qcyffKRyj4BDdpagbzQPi6EccpOPtU+ItQ39c3P2j6oMZW5s7rgPvXJv+fSm+Q+UvY+Z5EL6T4udUmNvgnuPhDHc36zyvE+lWu4TLXX9D5SBSctXC34Ppw6Z7joy/s+CQlIjYGz/z4PXFMEDPIBP7FmOm64LgQ/f+8BQcePBj+jSpC+IBUJP46iX1Kmvgs/M8H9RhCMDj8nB3Xwib4QP56231hPSBI/4EEINgrjEz/zqGan740VP9VgiPvyRxc/d06nS8kPGT9ciADp3OIaPwMdQC3HwBw/o0ta3gWkHj/+/qp1h0QgP04KyBNENyE/4hOa2mcmIj/7T1lQXBAjPyXYsBjc9iM/y7FIVQvTJD9KtAqjyqolP0z1fvMphCY//bvei3BcJz/audqluDYoP09/N0cMHSk/GUgnk3QWKj+7mbgIcyUrP4+zp6PuSiw/jquxu2aFLT8W0SA2l88uP7xNRs9rEjA/blTlLOrAMD8iB8K3hnIxP8L5fRczJzI/K1Kvz3feMj83zEQu4pgzP/6lklwXVjQ/po1gHPYVNT+e2pmMbdg1P9njHyRtnTY/8H/Mm+RkNz9OxXXNwy44P17K8ZL6+jg/qSUZsHjJOT8V7sumLZo6Py37938IbTs/+iSV7PdBPD+Rg5yS6hg9P0UvDOzO8T0/84DtD5PMPj/TUVHTJKk/P+MdK8m4Q0A/i8wRLrOzQD9j4vfddyRBPzjNfuf8lUE/K9vOHDgIQj+j+pUeH3tCP1n6CFGn7kI/HoneB8ZiQz/Tlc6LcNdDP16vESCcTEQ/e6TcKD7CRD/5I+b5SzhFP4O8YQK7rkU/oA7XD/dbTD/8mnnyqHFRP/+BKpjuelQ/\",\"dtype\":\"float64\",\"shape\":[84]},\"z_moment3\":{\"__ndarray__\":\"LoFyXIh8UD/1xD6UoUuwPldYwue7VbA+MPFh8xN6sD4DNP+AzNewPj7cMhYGoLE+qUOtmeUOsz45cfe3AVi1PrTyh6wKp7g+wIx7ASYYvT4ReSc/7lXBPr6vnSiJqsQ+Mi3cQMuIyD6xCSc7DPzMPjHwsdopBNE+M/zEpsPa0z5A6QypogrXPi0rzO6Kl9o+yTnHJ5CJ3j4ECrgmTHThPsc6c8pG3uM+IZVvnf+L5j7A720uHHzpPmvjufCMxew+CJU7WdEy8D4RtotTpzXyPmBgjT50cvQ+VhMDD6Tw9j44Lk/1xr35Pr1n2STzy/w+3uGFVK8aAD8i4aqmMPwBP+tiCHzHAQQ/j3c0SVAxBj8mP3PsDoIIP66jQ8Nc4wo/CY0Qm6heDT+59XZ1od0PPx1Pa50vKxE/fNxPVAtoEj9OYpHVfaQTP2P4CPQC3hQ/aeryd0EVFj+Keb6SWEwXP5wdUlD2hBg/dKML8Z3AGT8Vjr1UGgEbP1RK4lugRxw/mM2hMcuUHT/r2NMwyOgeP3PMj5y7ISA/S4Y4fWzSID8oSlYGVIYhP5UcSPRuPSI/CpCR9q/3Ij9aNZPwCrUjP1SdrcVzdSQ/l1coNd84JT/hc03oQf8lP8+BZJ6QyCY/45CyLMCUJz9zMY7OxGMoP210WlGSNSk/0+uQvBsKKj+IqagtVOEqPwZAJVQuuys/Y8KWcZyXLD+mRKEXkHYtP3Fb9Wn6Vy4/dxxaxss7Lz9Pz1fX+RAwP8+8c4UwhTA/JOOE/oD6MD95j5/E4XAxPzsP3S1J6DE/iLBlDK1gMj9lQV9IA9oyPwNQ86hBVDM/3apRvl3PMz8zIKVETUs0P8F+IqAFyDQ/W16IIU/6Oz9JO4qlQaVBP3h91ufDJUU/\",\"dtype\":\"float64\",\"shape\":[84]},\"z_moment4\":{\"__ndarray__\":\"FYfs04F3Rj/77G3xH+SxPiHFtbP89bE+HdsDuCM7sj6yyEZn5f2yPpYEqj0rtrQ+hwFDUkvTtz4bNac/6Xm8PgU7gfUgUsE+x2KQVGMexT7QuiDvrZnJPlBv/X19vs4+M2Eus6ZI0j4X3PYO8ZHVPhF5gQBvPtk+9LhjrERT3T5hn05TT+3gPmIfOCNGbOM+s9oQ4NYq5j4lEdrxDy3pPmZ8+fjiduw+A8inZeQI8D5gxoql2f3xPuBWkO35JfQ+TqQl7kZ/9j4PWHuRxBD5Ph07UnjM4Ps+wFjZgIj1/j58VpwdQS0BP1DaA3kfAAM/01nkw4P+BD+31kP9ryUHP3UMGam/awk/SvYbHU7TCz/HCGulzFEOPzO+/5LBaxA/sv37TRK0ET9USmfP9vgSP7NJvk0YOBQ/BbVOzhx0FT8tP8yDqq0WPwv/rMPH5hc/zcBZakYjGT/7VaXwYGYaP8bOeXsishs/1hJhcWcHHT8UusxiwmUePxbVEPJuzB8/5qHC5mWdID+9SElQOlghP/d1fDekFiI/Z+MY83nYIj+H/64jyJ0jP7dzovpwZiQ/blW1AWUyJT/SOI60lQEmP82xzrr00yY/N9MBgnSpJz8jsLdLB4IoP2lbe4WfXSk/4OfXnC88Kj/36GSRqR0rPzFz0Jz+ASw/qRvVih/pLD96dy0n/dItP5ScpaOHvy4/CCEMHK+uLz8ajiVdMVAwP/hSK6hIyjA/hmsbgJRFMT+zJAWTC8IxP+nLATekPzI/LC83VFS+Mj/p3NOFET4zPybkEvnQvjM/RdQ2mYdAND+nPIJRKsM0P+2sPOGtRjU/pXSsEgfLNT+b4xyEKlA2P3CJ1fQM1jY/8eohkFGFPj/4BeS08iFDP1H95hOV0UY/\",\"dtype\":\"float64\",\"shape\":[84]},\"z_normemit\":{\"__ndarray__\":\"AAAAAAAAAACmTP75jMfUPar4VO1er/A9T3rKyff4/z1b6kGHMv0IPsnpH2DTcRE+U3oF2SrNFj6Erq8eGOUcPjl/taFkjyE+zn51BsGLJD4d6cuiOIcnPklhfkQymyo+9J90AqTrLT4SuY7cgL4wPiyqO2qysjI+FVgSw9HiND6sCyUUXzc3Pkm1JjXG7zk+QyBXi48aPT6WHyT3LVVAPiiA5ApflkI++UZZJu1KRT7ygISV9KdIPsliXBKluEw+hlbaKv/8UD71qUwhDj1UPmc5pK2DkFg+b7nebGcAXj7FMpnzUIFiPtcI0JnrJmc+BDnL3FXhbD4Lujk9lzNyPuvuKfuE6HY+mI7wkfr/fD4f2NYotD6CPkIFmcHLuoY+BkcaY2YojD4wk8JC3iWRPjAFPkpjjZQ+GqqxgQ1AmD42GwkvhSmcPs0Y66uDDqA+RVwdJLj+oT59NyJgHt6jPpCR1li1pKU+5u78V3pcpz7S4Bw/1BWpPq6OUjtH26o+1N12dGeyrD74eZE02JquPnQaFIAnS7A+cfbc075RsT4+xx26ZmSyPkBltKoDg7M+rAn3QaKutD4WZaCjUei1PsZEkqUTMbc+U9Sdk+iJuD5aB2NmxfO5Pgw7w62Gb7s+dRPVDuz9vD5Piys4Hp++Pqfh7d2NKcA+zl+iAk0NwT4kC96UF/vBPsonOicr88I+l5V7BrX1wz7cBybtzgLFPsCwI/6AGsY+LYy3Cbg8xz4hJMtJRGnIPgwj8Jren8k+lvFRdiXgyj4N+N8VminMPou5iMWxe80+rlCt91HWzj7q3M0FxhzQPpwSC8K00tA+ifmZu/OM0T5ITGLueUvSPnrb5tc1DtM+w+cIyH0m3z4KUGKUhpTlPliitzSdeeo+\",\"dtype\":\"float64\",\"shape\":[84]},\"z_rms\":{\"__ndarray__\":\"fsvsUGXBYT/CygE/GLKsPiJ1Rmzru6w+qUfO7NPcrD4xTpPp4ymtPkIPIjqZvq0+wk68vTO4rj4EtzzbwROwPll5EI6DELE+oY/S2FF0sj61d8RLCV20PhLWciQQ37Y+o36Qu6cGuj7/1xpoSOa9PpnAtXj1RME+MwJjvBz/wz6DnbnvFi7HPnU2OwIW2Mo+2TVtVJIJzz643e7G0+fRPpco7IMTnNQ+P7Z2h2Ox1z7qmeuUcyfbPpDH/PZZJt8+h0J9qtTW4T4eZ4Pe4W3kPvXNWGBraOc+glVoz8bY6j46mkzsl9/uPi6y1QEmtfE+YaIIhDlc9D6OOmNZkmv3PkEKOH1p2Po+5epY2zG6/j6XtzIskoMBP5WwNLJnzQM/aG6UNyNMBj+DJl7b698IP6+EyyoadAs/4YcgJAoRDj9QfmexZ1cQP+JOM1CVnRE/Hoxr2hLYEj+wqR7qfggUP0VhHTPZMBU/Z41ze/lTFj/uUUX8q3YXPxw3aLqpnBg/HMN0hRfIGT8jpD5E1vkaP+iiOwTEMRw/Zn6a8EZwHT+bOZJ2pLQeP06Guu8U/x8//cFT18CnID/bp93e6lIhPzuCldn+ACI/lt6VEvOxIj+QyeduvmUjPynQm5FXHCQ/X3/CHbXVJD9wZHGKzZElPyOO3jCWUCY/gAtFPgQSJz8H7OmHDNYnP5S/GaGjnCg/15Yyg71lKT9aA6SNTTEqP3gX74VG/yo/weatVZrPKz94hYliOqIsP48JTt4Wdy0/zQnZYB9OLj9IniOQQicvPyPwHxs3ATA/1TSm18dvMD+TqrzeSd8wP5veeKezTzE/hN73ZvvAMT/mt1ZSFzMyP4g4tn39pTI/E4zNRqNNOT8FpiTsfwxAP3wvj/XxTkM/\",\"dtype\":\"float64\",\"shape\":[84]},\"z_twiss\":{\"__ndarray__\":\"9YvFzkR2Br9p23M2e7mcvRQKZOluRsO90zk+W7qr2r1x8Y73j5rsvcOECTM5Tfq9ZAedmW6NBb7ALhwIq1QQviNVfxsDXBi+zcBrviDwIb67gN/G6Mwpvmt5ImUMFzK+jcY+rAvTOL6yUTvByctAvqSrENBpbka+usqvp9ecTb6ckNfx2WNTvsZ2blXLK1m+3ZpdFxQ5YL5hxOJkfMhkvvdvUKp1eWq+1EYKufrRcL4P3HDU5kB1vuQylqZL7Hq+w8UkgGEEgb5p0EsIvoaFvkbVdAdpSou+YMUNEL1Zkb4UJjY5eTOWvjVnoF2qTZy+CF8W9pAjor48a2b3q0qnvgCy758zua2+K1O+EWbtsr7E+JO39Ou3vrCAs9/rw72+9BVXVdlewr53aubtpUPGvvtCK6UWbcq+GGVHQuLizr7bjMF+z8fRvhxmEP9qItS+ADDOgLh11r4MdRoTyMDYvjBA3LW2A9u+czCRWmFE3b6X2IobNo7fvsvW+mAb9eC+jIp/hggv4r7fTT0b+HXjvqNHzCAJyuS+sf8kS+Mr5r7tlwxOSZvnvh4Zp565GOm+p1u3qHWk6r7ha0NLvj7svuCO+GjQ5+2+cw/8xOSf774DbVoul7PwvsMlYnLsnvG+qn/1+gOS8r6QQE/M4ozzvvPO19SIj/S+E+gVSAGa9b7Xto4gUqz2vsmglvx7xve+Ea3DtHno+L5quDDPPxL6vjPax3W9Q/u+ZpiF6dt8/L6Ggi6Mfb39vjVjYAt/Bf++3R9E3FsqAL/5xRJ+fNUAv4MTwl4IhAG/qSOM6Os1Ar98ddxXFesCv7JWEpJxowO/Ln0YN+xeBL9Abci7bx0Fv9+sHmHl3gW/gJOAISTXEL/HxCmzaToXv09catrHfh2/\",\"dtype\":\"float64\",\"shape\":[84]}},\"selected\":{\"id\":\"1157\",\"type\":\"Selection\"},\"selection_policy\":{\"id\":\"1156\",\"type\":\"UnionRenderers\"}},\"id\":\"1102\",\"type\":\"ColumnDataSource\"},{\"attributes\":{},\"id\":\"1126\",\"type\":\"ResetTool\"},{\"attributes\":{\"line_alpha\":0.1,\"line_color\":\"#1f77b4\",\"x\":{\"field\":\"z\"},\"y\":{\"field\":\"x_rms\"}},\"id\":\"1137\",\"type\":\"Line\"},{\"attributes\":{\"text\":\"\"},\"id\":\"1149\",\"type\":\"Title\"},{\"attributes\":{\"callback\":null},\"id\":\"1104\",\"type\":\"DataRange1d\"},{\"attributes\":{},\"id\":\"1108\",\"type\":\"LinearScale\"},{\"attributes\":{},\"id\":\"1127\",\"type\":\"HelpTool\"},{\"attributes\":{\"bottom_units\":\"screen\",\"fill_alpha\":{\"value\":0.5},\"fill_color\":{\"value\":\"lightgrey\"},\"left_units\":\"screen\",\"level\":\"overlay\",\"line_alpha\":{\"value\":1.0},\"line_color\":{\"value\":\"black\"},\"line_dash\":[4,4],\"line_width\":{\"value\":2},\"render_mode\":\"css\",\"right_units\":\"screen\",\"top_units\":\"screen\"},\"id\":\"1155\",\"type\":\"BoxAnnotation\"},{\"attributes\":{\"active_drag\":\"auto\",\"active_inspect\":\"auto\",\"active_multi\":null,\"active_scroll\":\"auto\",\"active_tap\":\"auto\",\"tools\":[{\"id\":\"1122\",\"type\":\"PanTool\"},{\"id\":\"1123\",\"type\":\"WheelZoomTool\"},{\"id\":\"1124\",\"type\":\"BoxZoomTool\"},{\"id\":\"1125\",\"type\":\"SaveTool\"},{\"id\":\"1126\",\"type\":\"ResetTool\"},{\"id\":\"1127\",\"type\":\"HelpTool\"}]},\"id\":\"1128\",\"type\":\"Toolbar\"},{\"attributes\":{\"axis_label\":\"z (m)\",\"formatter\":{\"id\":\"1154\",\"type\":\"BasicTickFormatter\"},\"ticker\":{\"id\":\"1113\",\"type\":\"BasicTicker\"}},\"id\":\"1112\",\"type\":\"LinearAxis\"},{\"attributes\":{\"source\":{\"id\":\"1102\",\"type\":\"ColumnDataSource\"}},\"id\":\"1139\",\"type\":\"CDSView\"},{\"attributes\":{\"axis_label\":\"x_rms (m)\",\"formatter\":{\"id\":\"1152\",\"type\":\"BasicTickFormatter\"},\"ticker\":{\"id\":\"1118\",\"type\":\"BasicTicker\"}},\"id\":\"1117\",\"type\":\"LinearAxis\"},{\"attributes\":{},\"id\":\"1157\",\"type\":\"Selection\"},{\"attributes\":{\"callback\":null},\"id\":\"1106\",\"type\":\"DataRange1d\"},{\"attributes\":{},\"id\":\"1154\",\"type\":\"BasicTickFormatter\"},{\"attributes\":{\"line_color\":\"red\",\"x\":{\"field\":\"z\"},\"y\":{\"field\":\"x_rms\"}},\"id\":\"1136\",\"type\":\"Line\"},{\"attributes\":{\"ticker\":{\"id\":\"1113\",\"type\":\"BasicTicker\"}},\"id\":\"1116\",\"type\":\"Grid\"},{\"attributes\":{},\"id\":\"1152\",\"type\":\"BasicTickFormatter\"},{\"attributes\":{\"dimension\":1,\"ticker\":{\"id\":\"1118\",\"type\":\"BasicTicker\"}},\"id\":\"1121\",\"type\":\"Grid\"},{\"attributes\":{},\"id\":\"1118\",\"type\":\"BasicTicker\"},{\"attributes\":{},\"id\":\"1125\",\"type\":\"SaveTool\"},{\"attributes\":{},\"id\":\"1113\",\"type\":\"BasicTicker\"},{\"attributes\":{\"data_source\":{\"id\":\"1102\",\"type\":\"ColumnDataSource\"},\"glyph\":{\"id\":\"1136\",\"type\":\"Line\"},\"hover_glyph\":null,\"muted_glyph\":null,\"nonselection_glyph\":{\"id\":\"1137\",\"type\":\"Line\"},\"selection_glyph\":null,\"view\":{\"id\":\"1139\",\"type\":\"CDSView\"}},\"id\":\"1138\",\"type\":\"GlyphRenderer\"},{\"attributes\":{},\"id\":\"1110\",\"type\":\"LinearScale\"},{\"attributes\":{},\"id\":\"1122\",\"type\":\"PanTool\"},{\"attributes\":{},\"id\":\"1123\",\"type\":\"WheelZoomTool\"},{\"attributes\":{},\"id\":\"1156\",\"type\":\"UnionRenderers\"},{\"attributes\":{\"overlay\":{\"id\":\"1155\",\"type\":\"BoxAnnotation\"}},\"id\":\"1124\",\"type\":\"BoxZoomTool\"}],\"root_ids\":[\"1103\"]},\"title\":\"Bokeh Application\",\"version\":\"1.2.0\"}};\n",
       "  var render_items = [{\"docid\":\"88a538e7-f9f1-4ce8-8ba9-080308fd37c0\",\"roots\":{\"1103\":\"1e216217-9264-4387-a435-a5a1f561df6f\"}}];\n",
       "  root.Bokeh.embed.embed_items_notebook(docs_json, render_items);\n",
       "\n",
       "  }\n",
       "  if (root.Bokeh !== undefined) {\n",
       "    embed_document(root);\n",
       "  } else {\n",
       "    var attempts = 0;\n",
       "    var timer = setInterval(function(root) {\n",
       "      if (root.Bokeh !== undefined) {\n",
       "        embed_document(root);\n",
       "        clearInterval(timer);\n",
       "      }\n",
       "      attempts++;\n",
       "      if (attempts > 100) {\n",
       "        console.log(\"Bokeh: ERROR: Unable to run BokehJS code because BokehJS library is missing\");\n",
       "        clearInterval(timer);\n",
       "      }\n",
       "    }, 10, root)\n",
       "  }\n",
       "})(window);"
      ],
      "application/vnd.bokehjs_exec.v0+json": ""
     },
     "metadata": {
      "application/vnd.bokehjs_exec.v0+json": {
       "id": "1103"
      }
     },
     "output_type": "display_data"
    }
   ],
   "source": [
    "def plot1(y_axis, x_axis='z', source=ds):\n",
    "    yunit = UNITS[y_axis]\n",
    "    ylabel = y_axis+' ('+yunit+')'\n",
    "    \n",
    "    xunit = UNITS[x_axis]\n",
    "    xlabel = x_axis+' ('+xunit+')'\n",
    "    p = figure(plot_width=600, plot_height=200, x_axis_label=xlabel, y_axis_label=ylabel)\n",
    "    p.line( x_axis, y_axis, source=source, color='red')\n",
    "    return p\n",
    "show(plot1('x_rms'))"
   ]
  },
  {
   "cell_type": "code",
   "execution_count": null,
   "metadata": {},
   "outputs": [],
   "source": []
  }
 ],
 "metadata": {
  "kernelspec": {
   "display_name": "Python 3",
   "language": "python",
   "name": "python3"
  },
  "language_info": {
   "codemirror_mode": {
    "name": "ipython",
    "version": 3
   },
   "file_extension": ".py",
   "mimetype": "text/x-python",
   "name": "python",
   "nbconvert_exporter": "python",
   "pygments_lexer": "ipython3",
   "version": "3.7.3"
  }
 },
 "nbformat": 4,
 "nbformat_minor": 2
}
